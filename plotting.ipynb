{
 "cells": [
  {
   "cell_type": "code",
   "execution_count": 1,
   "metadata": {},
   "outputs": [
    {
     "data": {
      "text/html": [
       "<button type=\"button\" class=\"btn btn-outline-danger\"  onclick=\"codeToggle();\">Toggle Code</button>"
      ],
      "text/plain": [
       "<IPython.core.display.HTML object>"
      ]
     },
     "execution_count": 1,
     "metadata": {},
     "output_type": "execute_result"
    }
   ],
   "source": [
    "from IPython.display import HTML\n",
    "HTML('''<button type=\"button\" class=\"btn btn-outline-danger\"  onclick=\"codeToggle();\">Toggle Code</button>''')"
   ]
  },
  {
   "cell_type": "code",
   "execution_count": 3,
   "metadata": {},
   "outputs": [
    {
     "data": {
      "text/html": [
       "        <script type=\"text/javascript\">\n",
       "        window.PlotlyConfig = {MathJaxConfig: 'local'};\n",
       "        if (window.MathJax && window.MathJax.Hub && window.MathJax.Hub.Config) {window.MathJax.Hub.Config({SVG: {font: \"STIX-Web\"}});}\n",
       "        if (typeof require !== 'undefined') {\n",
       "        require.undef(\"plotly\");\n",
       "        requirejs.config({\n",
       "            paths: {\n",
       "                'plotly': ['https://cdn.plot.ly/plotly-2.20.0.min']\n",
       "            }\n",
       "        });\n",
       "        require(['plotly'], function(Plotly) {\n",
       "            window._Plotly = Plotly;\n",
       "        });\n",
       "        }\n",
       "        </script>\n",
       "        "
      ]
     },
     "metadata": {},
     "output_type": "display_data"
    }
   ],
   "source": [
    "# Importing the libraries needed\n",
    "import pandas as pd\n",
    "import numpy as np\n",
    "import matplotlib.pyplot as plt\n",
    "import seaborn as sns\n",
    "from ipywidgets import widgets, interactive\n",
    "import plotly.io as pio\n",
    "import plotly.express as px\n",
    "import warnings\n",
    "warnings.filterwarnings('ignore')\n",
    "pio.renderers.default='notebook'\n",
    "from plotly.offline import init_notebook_mode\n",
    "init_notebook_mode(connected=True)"
   ]
  },
  {
   "cell_type": "code",
   "execution_count": 6,
   "metadata": {},
   "outputs": [
    {
     "data": {
      "text/html": [
       "<div>\n",
       "<style scoped>\n",
       "    .dataframe tbody tr th:only-of-type {\n",
       "        vertical-align: middle;\n",
       "    }\n",
       "\n",
       "    .dataframe tbody tr th {\n",
       "        vertical-align: top;\n",
       "    }\n",
       "\n",
       "    .dataframe thead th {\n",
       "        text-align: right;\n",
       "    }\n",
       "</style>\n",
       "<table border=\"1\" class=\"dataframe\">\n",
       "  <thead>\n",
       "    <tr style=\"text-align: right;\">\n",
       "      <th></th>\n",
       "      <th>Financial Year</th>\n",
       "      <th>Gross Domestic Product (in Rs. Cr) at 2004-05 Prices</th>\n",
       "      <th>Agriculture &amp; Allied Services (in Rs. Cr.) at 2004-05 Prices</th>\n",
       "      <th>Agriculture (in Rs. Cr.) at 2004-05 Prices</th>\n",
       "      <th>Industry (in Rs. Cr.) at 2004-05 Prices</th>\n",
       "      <th>Mining and Quarrying (in Rs. Cr.) at 2004-05 Prices</th>\n",
       "      <th>Manufacturing (in Rs. Cr.) at 2004-05 Prices</th>\n",
       "      <th>Services (in Rs. Cr.) at 2004-05 Prices</th>\n",
       "      <th>Agri-culture &amp; Allied Services -Share to Total GDP</th>\n",
       "      <th>Agriculture - Share to Total GDP</th>\n",
       "      <th>...</th>\n",
       "      <th>Mining and Quarrying - Share to Total GDP</th>\n",
       "      <th>Manufacturing - Share to Total GDP</th>\n",
       "      <th>Services - Share to Total GDP</th>\n",
       "      <th>Gross Domestic Product - % Growth Rate (YoY)</th>\n",
       "      <th>Agri-culture &amp; Allied Services - % Growth Rate (YoY)</th>\n",
       "      <th>Agriculture - % Growth Rate (YoY)</th>\n",
       "      <th>Industry - % Growth Rate (YoY)</th>\n",
       "      <th>Mining and Quarrying - % Growth Rate (YoY)</th>\n",
       "      <th>Manufacturing - % Growth Rate (YoY)</th>\n",
       "      <th>Services - % Growth Rate (YoY)</th>\n",
       "    </tr>\n",
       "  </thead>\n",
       "  <tbody>\n",
       "    <tr>\n",
       "      <th>0</th>\n",
       "      <td>1951-52</td>\n",
       "      <td>2.861469e+05</td>\n",
       "      <td>147215.641082</td>\n",
       "      <td>118877.048079</td>\n",
       "      <td>4.776795e+04</td>\n",
       "      <td>5771.687696</td>\n",
       "      <td>25888.502567</td>\n",
       "      <td>8.479931e+04</td>\n",
       "      <td>51.447582</td>\n",
       "      <td>41.544069</td>\n",
       "      <td>...</td>\n",
       "      <td>2.017037</td>\n",
       "      <td>9.047278</td>\n",
       "      <td>29.634890</td>\n",
       "      <td>2.334912</td>\n",
       "      <td>1.491322</td>\n",
       "      <td>1.639501</td>\n",
       "      <td>5.502653</td>\n",
       "      <td>12.326139</td>\n",
       "      <td>3.157679</td>\n",
       "      <td>2.673177</td>\n",
       "    </tr>\n",
       "    <tr>\n",
       "      <th>1</th>\n",
       "      <td>1952-53</td>\n",
       "      <td>2.942671e+05</td>\n",
       "      <td>151858.736303</td>\n",
       "      <td>123822.315337</td>\n",
       "      <td>4.773863e+04</td>\n",
       "      <td>5904.766746</td>\n",
       "      <td>26789.016968</td>\n",
       "      <td>8.743773e+04</td>\n",
       "      <td>51.605741</td>\n",
       "      <td>42.078200</td>\n",
       "      <td>...</td>\n",
       "      <td>2.006601</td>\n",
       "      <td>9.103639</td>\n",
       "      <td>29.713727</td>\n",
       "      <td>2.837801</td>\n",
       "      <td>3.153942</td>\n",
       "      <td>4.159985</td>\n",
       "      <td>-0.061385</td>\n",
       "      <td>2.305722</td>\n",
       "      <td>3.478434</td>\n",
       "      <td>3.111378</td>\n",
       "    </tr>\n",
       "    <tr>\n",
       "      <th>2</th>\n",
       "      <td>1953-54</td>\n",
       "      <td>3.121774e+05</td>\n",
       "      <td>163553.252822</td>\n",
       "      <td>134957.576986</td>\n",
       "      <td>5.040913e+04</td>\n",
       "      <td>5993.486113</td>\n",
       "      <td>28862.772987</td>\n",
       "      <td>8.993971e+04</td>\n",
       "      <td>52.391124</td>\n",
       "      <td>43.231052</td>\n",
       "      <td>...</td>\n",
       "      <td>1.919897</td>\n",
       "      <td>9.245632</td>\n",
       "      <td>28.810447</td>\n",
       "      <td>6.086398</td>\n",
       "      <td>7.700918</td>\n",
       "      <td>8.992936</td>\n",
       "      <td>5.593999</td>\n",
       "      <td>1.502504</td>\n",
       "      <td>7.741068</td>\n",
       "      <td>2.861434</td>\n",
       "    </tr>\n",
       "    <tr>\n",
       "      <th>3</th>\n",
       "      <td>1954-55</td>\n",
       "      <td>3.254307e+05</td>\n",
       "      <td>168360.958740</td>\n",
       "      <td>138731.006538</td>\n",
       "      <td>5.457445e+04</td>\n",
       "      <td>6249.786506</td>\n",
       "      <td>30885.071041</td>\n",
       "      <td>9.417216e+04</td>\n",
       "      <td>51.734805</td>\n",
       "      <td>42.629963</td>\n",
       "      <td>...</td>\n",
       "      <td>1.920466</td>\n",
       "      <td>9.490520</td>\n",
       "      <td>28.937697</td>\n",
       "      <td>4.245451</td>\n",
       "      <td>2.939535</td>\n",
       "      <td>2.796012</td>\n",
       "      <td>8.263033</td>\n",
       "      <td>4.276316</td>\n",
       "      <td>7.006597</td>\n",
       "      <td>4.705879</td>\n",
       "    </tr>\n",
       "    <tr>\n",
       "      <th>4</th>\n",
       "      <td>1955-56</td>\n",
       "      <td>3.337663e+05</td>\n",
       "      <td>166906.301163</td>\n",
       "      <td>136678.888832</td>\n",
       "      <td>6.031051e+04</td>\n",
       "      <td>6348.363580</td>\n",
       "      <td>33303.595431</td>\n",
       "      <td>9.884513e+04</td>\n",
       "      <td>50.006943</td>\n",
       "      <td>40.950481</td>\n",
       "      <td>...</td>\n",
       "      <td>1.902039</td>\n",
       "      <td>9.978119</td>\n",
       "      <td>29.615077</td>\n",
       "      <td>2.561379</td>\n",
       "      <td>-0.864011</td>\n",
       "      <td>-1.479206</td>\n",
       "      <td>10.510522</td>\n",
       "      <td>1.577287</td>\n",
       "      <td>7.830723</td>\n",
       "      <td>4.962161</td>\n",
       "    </tr>\n",
       "    <tr>\n",
       "      <th>...</th>\n",
       "      <td>...</td>\n",
       "      <td>...</td>\n",
       "      <td>...</td>\n",
       "      <td>...</td>\n",
       "      <td>...</td>\n",
       "      <td>...</td>\n",
       "      <td>...</td>\n",
       "      <td>...</td>\n",
       "      <td>...</td>\n",
       "      <td>...</td>\n",
       "      <td>...</td>\n",
       "      <td>...</td>\n",
       "      <td>...</td>\n",
       "      <td>...</td>\n",
       "      <td>...</td>\n",
       "      <td>...</td>\n",
       "      <td>...</td>\n",
       "      <td>...</td>\n",
       "      <td>...</td>\n",
       "      <td>...</td>\n",
       "      <td>...</td>\n",
       "    </tr>\n",
       "    <tr>\n",
       "      <th>57</th>\n",
       "      <td>2008-09</td>\n",
       "      <td>4.158676e+06</td>\n",
       "      <td>655689.000000</td>\n",
       "      <td>555442.000000</td>\n",
       "      <td>1.169736e+06</td>\n",
       "      <td>98055.000000</td>\n",
       "      <td>656302.000000</td>\n",
       "      <td>2.333251e+06</td>\n",
       "      <td>15.766773</td>\n",
       "      <td>13.356222</td>\n",
       "      <td>...</td>\n",
       "      <td>2.357842</td>\n",
       "      <td>15.781513</td>\n",
       "      <td>56.105621</td>\n",
       "      <td>6.724762</td>\n",
       "      <td>0.092966</td>\n",
       "      <td>-0.271835</td>\n",
       "      <td>4.441181</td>\n",
       "      <td>2.143817</td>\n",
       "      <td>4.328432</td>\n",
       "      <td>9.978007</td>\n",
       "    </tr>\n",
       "    <tr>\n",
       "      <th>58</th>\n",
       "      <td>2009-10</td>\n",
       "      <td>4.516071e+06</td>\n",
       "      <td>660987.000000</td>\n",
       "      <td>557715.000000</td>\n",
       "      <td>1.276919e+06</td>\n",
       "      <td>103830.000000</td>\n",
       "      <td>730435.000000</td>\n",
       "      <td>2.578165e+06</td>\n",
       "      <td>14.636329</td>\n",
       "      <td>12.349562</td>\n",
       "      <td>...</td>\n",
       "      <td>2.299122</td>\n",
       "      <td>16.174126</td>\n",
       "      <td>57.088673</td>\n",
       "      <td>8.593963</td>\n",
       "      <td>0.808005</td>\n",
       "      <td>0.409224</td>\n",
       "      <td>9.163008</td>\n",
       "      <td>5.889552</td>\n",
       "      <td>11.295562</td>\n",
       "      <td>10.496687</td>\n",
       "    </tr>\n",
       "    <tr>\n",
       "      <th>59</th>\n",
       "      <td>2010-11</td>\n",
       "      <td>4.937006e+06</td>\n",
       "      <td>713477.000000</td>\n",
       "      <td>606848.000000</td>\n",
       "      <td>1.393879e+06</td>\n",
       "      <td>108938.000000</td>\n",
       "      <td>801476.000000</td>\n",
       "      <td>2.829650e+06</td>\n",
       "      <td>14.451613</td>\n",
       "      <td>12.291822</td>\n",
       "      <td>...</td>\n",
       "      <td>2.206560</td>\n",
       "      <td>16.234050</td>\n",
       "      <td>57.315102</td>\n",
       "      <td>9.320823</td>\n",
       "      <td>7.941155</td>\n",
       "      <td>8.809697</td>\n",
       "      <td>9.159547</td>\n",
       "      <td>4.919580</td>\n",
       "      <td>9.725848</td>\n",
       "      <td>9.754418</td>\n",
       "    </tr>\n",
       "    <tr>\n",
       "      <th>60</th>\n",
       "      <td>2011-12</td>\n",
       "      <td>5.243582e+06</td>\n",
       "      <td>739495.000000</td>\n",
       "      <td>630540.000000</td>\n",
       "      <td>1.442498e+06</td>\n",
       "      <td>108249.000000</td>\n",
       "      <td>823023.000000</td>\n",
       "      <td>3.061589e+06</td>\n",
       "      <td>14.102859</td>\n",
       "      <td>12.024986</td>\n",
       "      <td>...</td>\n",
       "      <td>2.064409</td>\n",
       "      <td>15.695816</td>\n",
       "      <td>58.387358</td>\n",
       "      <td>6.209755</td>\n",
       "      <td>3.646649</td>\n",
       "      <td>3.904108</td>\n",
       "      <td>3.488036</td>\n",
       "      <td>-0.632470</td>\n",
       "      <td>2.688415</td>\n",
       "      <td>8.196738</td>\n",
       "    </tr>\n",
       "    <tr>\n",
       "      <th>61</th>\n",
       "      <td>2012-13</td>\n",
       "      <td>5.503476e+06</td>\n",
       "      <td>752746.331392</td>\n",
       "      <td>NaN</td>\n",
       "      <td>1.487533e+06</td>\n",
       "      <td>108713.492560</td>\n",
       "      <td>838540.663241</td>\n",
       "      <td>3.263196e+06</td>\n",
       "      <td>13.677653</td>\n",
       "      <td>NaN</td>\n",
       "      <td>...</td>\n",
       "      <td>1.975361</td>\n",
       "      <td>15.236564</td>\n",
       "      <td>59.293368</td>\n",
       "      <td>4.956420</td>\n",
       "      <td>1.791943</td>\n",
       "      <td>NaN</td>\n",
       "      <td>3.122040</td>\n",
       "      <td>0.429096</td>\n",
       "      <td>1.885447</td>\n",
       "      <td>6.585054</td>\n",
       "    </tr>\n",
       "  </tbody>\n",
       "</table>\n",
       "<p>62 rows × 21 columns</p>\n",
       "</div>"
      ],
      "text/plain": [
       "   Financial Year  Gross Domestic Product (in Rs. Cr) at 2004-05 Prices  \\\n",
       "0         1951-52                                       2.861469e+05      \n",
       "1         1952-53                                       2.942671e+05      \n",
       "2         1953-54                                       3.121774e+05      \n",
       "3         1954-55                                       3.254307e+05      \n",
       "4         1955-56                                       3.337663e+05      \n",
       "..            ...                                                ...      \n",
       "57        2008-09                                       4.158676e+06      \n",
       "58        2009-10                                       4.516071e+06      \n",
       "59        2010-11                                       4.937006e+06      \n",
       "60        2011-12                                       5.243582e+06      \n",
       "61        2012-13                                       5.503476e+06      \n",
       "\n",
       "    Agriculture & Allied Services (in Rs. Cr.) at 2004-05 Prices  \\\n",
       "0                                       147215.641082              \n",
       "1                                       151858.736303              \n",
       "2                                       163553.252822              \n",
       "3                                       168360.958740              \n",
       "4                                       166906.301163              \n",
       "..                                                ...              \n",
       "57                                      655689.000000              \n",
       "58                                      660987.000000              \n",
       "59                                      713477.000000              \n",
       "60                                      739495.000000              \n",
       "61                                      752746.331392              \n",
       "\n",
       "    Agriculture (in Rs. Cr.) at 2004-05 Prices  \\\n",
       "0                                118877.048079   \n",
       "1                                123822.315337   \n",
       "2                                134957.576986   \n",
       "3                                138731.006538   \n",
       "4                                136678.888832   \n",
       "..                                         ...   \n",
       "57                               555442.000000   \n",
       "58                               557715.000000   \n",
       "59                               606848.000000   \n",
       "60                               630540.000000   \n",
       "61                                         NaN   \n",
       "\n",
       "    Industry (in Rs. Cr.) at 2004-05 Prices  \\\n",
       "0                              4.776795e+04   \n",
       "1                              4.773863e+04   \n",
       "2                              5.040913e+04   \n",
       "3                              5.457445e+04   \n",
       "4                              6.031051e+04   \n",
       "..                                      ...   \n",
       "57                             1.169736e+06   \n",
       "58                             1.276919e+06   \n",
       "59                             1.393879e+06   \n",
       "60                             1.442498e+06   \n",
       "61                             1.487533e+06   \n",
       "\n",
       "    Mining and Quarrying (in Rs. Cr.) at 2004-05 Prices  \\\n",
       "0                                         5771.687696     \n",
       "1                                         5904.766746     \n",
       "2                                         5993.486113     \n",
       "3                                         6249.786506     \n",
       "4                                         6348.363580     \n",
       "..                                                ...     \n",
       "57                                       98055.000000     \n",
       "58                                      103830.000000     \n",
       "59                                      108938.000000     \n",
       "60                                      108249.000000     \n",
       "61                                      108713.492560     \n",
       "\n",
       "    Manufacturing (in Rs. Cr.) at 2004-05 Prices  \\\n",
       "0                                   25888.502567   \n",
       "1                                   26789.016968   \n",
       "2                                   28862.772987   \n",
       "3                                   30885.071041   \n",
       "4                                   33303.595431   \n",
       "..                                           ...   \n",
       "57                                 656302.000000   \n",
       "58                                 730435.000000   \n",
       "59                                 801476.000000   \n",
       "60                                 823023.000000   \n",
       "61                                 838540.663241   \n",
       "\n",
       "    Services (in Rs. Cr.) at 2004-05 Prices  \\\n",
       "0                              8.479931e+04   \n",
       "1                              8.743773e+04   \n",
       "2                              8.993971e+04   \n",
       "3                              9.417216e+04   \n",
       "4                              9.884513e+04   \n",
       "..                                      ...   \n",
       "57                             2.333251e+06   \n",
       "58                             2.578165e+06   \n",
       "59                             2.829650e+06   \n",
       "60                             3.061589e+06   \n",
       "61                             3.263196e+06   \n",
       "\n",
       "    Agri-culture & Allied Services -Share to Total GDP  \\\n",
       "0                                           51.447582    \n",
       "1                                           51.605741    \n",
       "2                                           52.391124    \n",
       "3                                           51.734805    \n",
       "4                                           50.006943    \n",
       "..                                                ...    \n",
       "57                                          15.766773    \n",
       "58                                          14.636329    \n",
       "59                                          14.451613    \n",
       "60                                          14.102859    \n",
       "61                                          13.677653    \n",
       "\n",
       "    Agriculture - Share to Total GDP  ...  \\\n",
       "0                          41.544069  ...   \n",
       "1                          42.078200  ...   \n",
       "2                          43.231052  ...   \n",
       "3                          42.629963  ...   \n",
       "4                          40.950481  ...   \n",
       "..                               ...  ...   \n",
       "57                         13.356222  ...   \n",
       "58                         12.349562  ...   \n",
       "59                         12.291822  ...   \n",
       "60                         12.024986  ...   \n",
       "61                               NaN  ...   \n",
       "\n",
       "    Mining and Quarrying - Share to Total GDP  \\\n",
       "0                                    2.017037   \n",
       "1                                    2.006601   \n",
       "2                                    1.919897   \n",
       "3                                    1.920466   \n",
       "4                                    1.902039   \n",
       "..                                        ...   \n",
       "57                                   2.357842   \n",
       "58                                   2.299122   \n",
       "59                                   2.206560   \n",
       "60                                   2.064409   \n",
       "61                                   1.975361   \n",
       "\n",
       "    Manufacturing - Share to Total GDP  Services - Share to Total GDP  \\\n",
       "0                             9.047278                      29.634890   \n",
       "1                             9.103639                      29.713727   \n",
       "2                             9.245632                      28.810447   \n",
       "3                             9.490520                      28.937697   \n",
       "4                             9.978119                      29.615077   \n",
       "..                                 ...                            ...   \n",
       "57                           15.781513                      56.105621   \n",
       "58                           16.174126                      57.088673   \n",
       "59                           16.234050                      57.315102   \n",
       "60                           15.695816                      58.387358   \n",
       "61                           15.236564                      59.293368   \n",
       "\n",
       "    Gross Domestic Product - % Growth Rate (YoY)  \\\n",
       "0                                       2.334912   \n",
       "1                                       2.837801   \n",
       "2                                       6.086398   \n",
       "3                                       4.245451   \n",
       "4                                       2.561379   \n",
       "..                                           ...   \n",
       "57                                      6.724762   \n",
       "58                                      8.593963   \n",
       "59                                      9.320823   \n",
       "60                                      6.209755   \n",
       "61                                      4.956420   \n",
       "\n",
       "    Agri-culture & Allied Services - % Growth Rate (YoY)  \\\n",
       "0                                            1.491322      \n",
       "1                                            3.153942      \n",
       "2                                            7.700918      \n",
       "3                                            2.939535      \n",
       "4                                           -0.864011      \n",
       "..                                                ...      \n",
       "57                                           0.092966      \n",
       "58                                           0.808005      \n",
       "59                                           7.941155      \n",
       "60                                           3.646649      \n",
       "61                                           1.791943      \n",
       "\n",
       "    Agriculture - % Growth Rate (YoY)  Industry - % Growth Rate (YoY)  \\\n",
       "0                            1.639501                        5.502653   \n",
       "1                            4.159985                       -0.061385   \n",
       "2                            8.992936                        5.593999   \n",
       "3                            2.796012                        8.263033   \n",
       "4                           -1.479206                       10.510522   \n",
       "..                                ...                             ...   \n",
       "57                          -0.271835                        4.441181   \n",
       "58                           0.409224                        9.163008   \n",
       "59                           8.809697                        9.159547   \n",
       "60                           3.904108                        3.488036   \n",
       "61                                NaN                        3.122040   \n",
       "\n",
       "    Mining and Quarrying - % Growth Rate (YoY)  \\\n",
       "0                                    12.326139   \n",
       "1                                     2.305722   \n",
       "2                                     1.502504   \n",
       "3                                     4.276316   \n",
       "4                                     1.577287   \n",
       "..                                         ...   \n",
       "57                                    2.143817   \n",
       "58                                    5.889552   \n",
       "59                                    4.919580   \n",
       "60                                   -0.632470   \n",
       "61                                    0.429096   \n",
       "\n",
       "    Manufacturing - % Growth Rate (YoY)  Services - % Growth Rate (YoY)  \n",
       "0                              3.157679                        2.673177  \n",
       "1                              3.478434                        3.111378  \n",
       "2                              7.741068                        2.861434  \n",
       "3                              7.006597                        4.705879  \n",
       "4                              7.830723                        4.962161  \n",
       "..                                  ...                             ...  \n",
       "57                             4.328432                        9.978007  \n",
       "58                            11.295562                       10.496687  \n",
       "59                             9.725848                        9.754418  \n",
       "60                             2.688415                        8.196738  \n",
       "61                             1.885447                        6.585054  \n",
       "\n",
       "[62 rows x 21 columns]"
      ]
     },
     "execution_count": 6,
     "metadata": {},
     "output_type": "execute_result"
    }
   ],
   "source": [
    "gdp_major_sector = pd.read_excel('GDP_and_Major_Industrial_Sectors_of_Economy_Dataset.xls')\n",
    "gdp_major_sector"
   ]
  },
  {
   "cell_type": "code",
   "execution_count": 11,
   "metadata": {},
   "outputs": [],
   "source": [
    "gdp_major_sector.iloc[:,1:] = gdp_major_sector.iloc[:, 1:].apply(pd.to_numeric, errors='coerce')\n"
   ]
  },
  {
   "cell_type": "code",
   "execution_count": 15,
   "metadata": {},
   "outputs": [
    {
     "data": {
      "text/html": [
       "<div>\n",
       "<style scoped>\n",
       "    .dataframe tbody tr th:only-of-type {\n",
       "        vertical-align: middle;\n",
       "    }\n",
       "\n",
       "    .dataframe tbody tr th {\n",
       "        vertical-align: top;\n",
       "    }\n",
       "\n",
       "    .dataframe thead th {\n",
       "        text-align: right;\n",
       "    }\n",
       "</style>\n",
       "<table border=\"1\" class=\"dataframe\">\n",
       "  <thead>\n",
       "    <tr style=\"text-align: right;\">\n",
       "      <th></th>\n",
       "      <th>Financial Year</th>\n",
       "      <th>Gross Domestic Product (in Rs. Cr) at 2004-05 Prices</th>\n",
       "      <th>Agriculture &amp; Allied Services (in Rs. Cr.) at 2004-05 Prices</th>\n",
       "      <th>Agriculture (in Rs. Cr.) at 2004-05 Prices</th>\n",
       "      <th>Industry (in Rs. Cr.) at 2004-05 Prices</th>\n",
       "      <th>Mining and Quarrying (in Rs. Cr.) at 2004-05 Prices</th>\n",
       "      <th>Manufacturing (in Rs. Cr.) at 2004-05 Prices</th>\n",
       "      <th>Services (in Rs. Cr.) at 2004-05 Prices</th>\n",
       "      <th>Agri-culture &amp; Allied Services -Share to Total GDP</th>\n",
       "      <th>Agriculture - Share to Total GDP</th>\n",
       "      <th>...</th>\n",
       "      <th>Mining and Quarrying - Share to Total GDP</th>\n",
       "      <th>Manufacturing - Share to Total GDP</th>\n",
       "      <th>Services - Share to Total GDP</th>\n",
       "      <th>Gross Domestic Product - % Growth Rate (YoY)</th>\n",
       "      <th>Agri-culture &amp; Allied Services - % Growth Rate (YoY)</th>\n",
       "      <th>Agriculture - % Growth Rate (YoY)</th>\n",
       "      <th>Industry - % Growth Rate (YoY)</th>\n",
       "      <th>Mining and Quarrying - % Growth Rate (YoY)</th>\n",
       "      <th>Manufacturing - % Growth Rate (YoY)</th>\n",
       "      <th>Services - % Growth Rate (YoY)</th>\n",
       "    </tr>\n",
       "  </thead>\n",
       "  <tbody>\n",
       "    <tr>\n",
       "      <th>0</th>\n",
       "      <td>1951-52</td>\n",
       "      <td>2.861469e+05</td>\n",
       "      <td>147215.641082</td>\n",
       "      <td>118877.048079</td>\n",
       "      <td>4.776795e+04</td>\n",
       "      <td>5771.687696</td>\n",
       "      <td>25888.502567</td>\n",
       "      <td>8.479931e+04</td>\n",
       "      <td>51.447582</td>\n",
       "      <td>41.544069</td>\n",
       "      <td>...</td>\n",
       "      <td>2.017037</td>\n",
       "      <td>9.047278</td>\n",
       "      <td>29.634890</td>\n",
       "      <td>2.334912</td>\n",
       "      <td>1.491322</td>\n",
       "      <td>1.639501</td>\n",
       "      <td>5.502653</td>\n",
       "      <td>12.326139</td>\n",
       "      <td>3.157679</td>\n",
       "      <td>2.673177</td>\n",
       "    </tr>\n",
       "    <tr>\n",
       "      <th>1</th>\n",
       "      <td>1952-53</td>\n",
       "      <td>2.942671e+05</td>\n",
       "      <td>151858.736303</td>\n",
       "      <td>123822.315337</td>\n",
       "      <td>4.773863e+04</td>\n",
       "      <td>5904.766746</td>\n",
       "      <td>26789.016968</td>\n",
       "      <td>8.743773e+04</td>\n",
       "      <td>51.605741</td>\n",
       "      <td>42.078200</td>\n",
       "      <td>...</td>\n",
       "      <td>2.006601</td>\n",
       "      <td>9.103639</td>\n",
       "      <td>29.713727</td>\n",
       "      <td>2.837801</td>\n",
       "      <td>3.153942</td>\n",
       "      <td>4.159985</td>\n",
       "      <td>-0.061385</td>\n",
       "      <td>2.305722</td>\n",
       "      <td>3.478434</td>\n",
       "      <td>3.111378</td>\n",
       "    </tr>\n",
       "    <tr>\n",
       "      <th>2</th>\n",
       "      <td>1953-54</td>\n",
       "      <td>3.121774e+05</td>\n",
       "      <td>163553.252822</td>\n",
       "      <td>134957.576986</td>\n",
       "      <td>5.040913e+04</td>\n",
       "      <td>5993.486113</td>\n",
       "      <td>28862.772987</td>\n",
       "      <td>8.993971e+04</td>\n",
       "      <td>52.391124</td>\n",
       "      <td>43.231052</td>\n",
       "      <td>...</td>\n",
       "      <td>1.919897</td>\n",
       "      <td>9.245632</td>\n",
       "      <td>28.810447</td>\n",
       "      <td>6.086398</td>\n",
       "      <td>7.700918</td>\n",
       "      <td>8.992936</td>\n",
       "      <td>5.593999</td>\n",
       "      <td>1.502504</td>\n",
       "      <td>7.741068</td>\n",
       "      <td>2.861434</td>\n",
       "    </tr>\n",
       "    <tr>\n",
       "      <th>3</th>\n",
       "      <td>1954-55</td>\n",
       "      <td>3.254307e+05</td>\n",
       "      <td>168360.958740</td>\n",
       "      <td>138731.006538</td>\n",
       "      <td>5.457445e+04</td>\n",
       "      <td>6249.786506</td>\n",
       "      <td>30885.071041</td>\n",
       "      <td>9.417216e+04</td>\n",
       "      <td>51.734805</td>\n",
       "      <td>42.629963</td>\n",
       "      <td>...</td>\n",
       "      <td>1.920466</td>\n",
       "      <td>9.490520</td>\n",
       "      <td>28.937697</td>\n",
       "      <td>4.245451</td>\n",
       "      <td>2.939535</td>\n",
       "      <td>2.796012</td>\n",
       "      <td>8.263033</td>\n",
       "      <td>4.276316</td>\n",
       "      <td>7.006597</td>\n",
       "      <td>4.705879</td>\n",
       "    </tr>\n",
       "    <tr>\n",
       "      <th>4</th>\n",
       "      <td>1955-56</td>\n",
       "      <td>3.337663e+05</td>\n",
       "      <td>166906.301163</td>\n",
       "      <td>136678.888832</td>\n",
       "      <td>6.031051e+04</td>\n",
       "      <td>6348.363580</td>\n",
       "      <td>33303.595431</td>\n",
       "      <td>9.884513e+04</td>\n",
       "      <td>50.006943</td>\n",
       "      <td>40.950481</td>\n",
       "      <td>...</td>\n",
       "      <td>1.902039</td>\n",
       "      <td>9.978119</td>\n",
       "      <td>29.615077</td>\n",
       "      <td>2.561379</td>\n",
       "      <td>-0.864011</td>\n",
       "      <td>-1.479206</td>\n",
       "      <td>10.510522</td>\n",
       "      <td>1.577287</td>\n",
       "      <td>7.830723</td>\n",
       "      <td>4.962161</td>\n",
       "    </tr>\n",
       "    <tr>\n",
       "      <th>...</th>\n",
       "      <td>...</td>\n",
       "      <td>...</td>\n",
       "      <td>...</td>\n",
       "      <td>...</td>\n",
       "      <td>...</td>\n",
       "      <td>...</td>\n",
       "      <td>...</td>\n",
       "      <td>...</td>\n",
       "      <td>...</td>\n",
       "      <td>...</td>\n",
       "      <td>...</td>\n",
       "      <td>...</td>\n",
       "      <td>...</td>\n",
       "      <td>...</td>\n",
       "      <td>...</td>\n",
       "      <td>...</td>\n",
       "      <td>...</td>\n",
       "      <td>...</td>\n",
       "      <td>...</td>\n",
       "      <td>...</td>\n",
       "      <td>...</td>\n",
       "    </tr>\n",
       "    <tr>\n",
       "      <th>57</th>\n",
       "      <td>2008-09</td>\n",
       "      <td>4.158676e+06</td>\n",
       "      <td>655689.000000</td>\n",
       "      <td>555442.000000</td>\n",
       "      <td>1.169736e+06</td>\n",
       "      <td>98055.000000</td>\n",
       "      <td>656302.000000</td>\n",
       "      <td>2.333251e+06</td>\n",
       "      <td>15.766773</td>\n",
       "      <td>13.356222</td>\n",
       "      <td>...</td>\n",
       "      <td>2.357842</td>\n",
       "      <td>15.781513</td>\n",
       "      <td>56.105621</td>\n",
       "      <td>6.724762</td>\n",
       "      <td>0.092966</td>\n",
       "      <td>-0.271835</td>\n",
       "      <td>4.441181</td>\n",
       "      <td>2.143817</td>\n",
       "      <td>4.328432</td>\n",
       "      <td>9.978007</td>\n",
       "    </tr>\n",
       "    <tr>\n",
       "      <th>58</th>\n",
       "      <td>2009-10</td>\n",
       "      <td>4.516071e+06</td>\n",
       "      <td>660987.000000</td>\n",
       "      <td>557715.000000</td>\n",
       "      <td>1.276919e+06</td>\n",
       "      <td>103830.000000</td>\n",
       "      <td>730435.000000</td>\n",
       "      <td>2.578165e+06</td>\n",
       "      <td>14.636329</td>\n",
       "      <td>12.349562</td>\n",
       "      <td>...</td>\n",
       "      <td>2.299122</td>\n",
       "      <td>16.174126</td>\n",
       "      <td>57.088673</td>\n",
       "      <td>8.593963</td>\n",
       "      <td>0.808005</td>\n",
       "      <td>0.409224</td>\n",
       "      <td>9.163008</td>\n",
       "      <td>5.889552</td>\n",
       "      <td>11.295562</td>\n",
       "      <td>10.496687</td>\n",
       "    </tr>\n",
       "    <tr>\n",
       "      <th>59</th>\n",
       "      <td>2010-11</td>\n",
       "      <td>4.937006e+06</td>\n",
       "      <td>713477.000000</td>\n",
       "      <td>606848.000000</td>\n",
       "      <td>1.393879e+06</td>\n",
       "      <td>108938.000000</td>\n",
       "      <td>801476.000000</td>\n",
       "      <td>2.829650e+06</td>\n",
       "      <td>14.451613</td>\n",
       "      <td>12.291822</td>\n",
       "      <td>...</td>\n",
       "      <td>2.206560</td>\n",
       "      <td>16.234050</td>\n",
       "      <td>57.315102</td>\n",
       "      <td>9.320823</td>\n",
       "      <td>7.941155</td>\n",
       "      <td>8.809697</td>\n",
       "      <td>9.159547</td>\n",
       "      <td>4.919580</td>\n",
       "      <td>9.725848</td>\n",
       "      <td>9.754418</td>\n",
       "    </tr>\n",
       "    <tr>\n",
       "      <th>60</th>\n",
       "      <td>2011-12</td>\n",
       "      <td>5.243582e+06</td>\n",
       "      <td>739495.000000</td>\n",
       "      <td>630540.000000</td>\n",
       "      <td>1.442498e+06</td>\n",
       "      <td>108249.000000</td>\n",
       "      <td>823023.000000</td>\n",
       "      <td>3.061589e+06</td>\n",
       "      <td>14.102859</td>\n",
       "      <td>12.024986</td>\n",
       "      <td>...</td>\n",
       "      <td>2.064409</td>\n",
       "      <td>15.695816</td>\n",
       "      <td>58.387358</td>\n",
       "      <td>6.209755</td>\n",
       "      <td>3.646649</td>\n",
       "      <td>3.904108</td>\n",
       "      <td>3.488036</td>\n",
       "      <td>-0.632470</td>\n",
       "      <td>2.688415</td>\n",
       "      <td>8.196738</td>\n",
       "    </tr>\n",
       "    <tr>\n",
       "      <th>61</th>\n",
       "      <td>2012-13</td>\n",
       "      <td>5.503476e+06</td>\n",
       "      <td>752746.331392</td>\n",
       "      <td>NaN</td>\n",
       "      <td>1.487533e+06</td>\n",
       "      <td>108713.492560</td>\n",
       "      <td>838540.663241</td>\n",
       "      <td>3.263196e+06</td>\n",
       "      <td>13.677653</td>\n",
       "      <td>NaN</td>\n",
       "      <td>...</td>\n",
       "      <td>1.975361</td>\n",
       "      <td>15.236564</td>\n",
       "      <td>59.293368</td>\n",
       "      <td>4.956420</td>\n",
       "      <td>1.791943</td>\n",
       "      <td>NaN</td>\n",
       "      <td>3.122040</td>\n",
       "      <td>0.429096</td>\n",
       "      <td>1.885447</td>\n",
       "      <td>6.585054</td>\n",
       "    </tr>\n",
       "  </tbody>\n",
       "</table>\n",
       "<p>62 rows × 21 columns</p>\n",
       "</div>"
      ],
      "text/plain": [
       "   Financial Year  Gross Domestic Product (in Rs. Cr) at 2004-05 Prices  \\\n",
       "0         1951-52                                       2.861469e+05      \n",
       "1         1952-53                                       2.942671e+05      \n",
       "2         1953-54                                       3.121774e+05      \n",
       "3         1954-55                                       3.254307e+05      \n",
       "4         1955-56                                       3.337663e+05      \n",
       "..            ...                                                ...      \n",
       "57        2008-09                                       4.158676e+06      \n",
       "58        2009-10                                       4.516071e+06      \n",
       "59        2010-11                                       4.937006e+06      \n",
       "60        2011-12                                       5.243582e+06      \n",
       "61        2012-13                                       5.503476e+06      \n",
       "\n",
       "    Agriculture & Allied Services (in Rs. Cr.) at 2004-05 Prices  \\\n",
       "0                                       147215.641082              \n",
       "1                                       151858.736303              \n",
       "2                                       163553.252822              \n",
       "3                                       168360.958740              \n",
       "4                                       166906.301163              \n",
       "..                                                ...              \n",
       "57                                      655689.000000              \n",
       "58                                      660987.000000              \n",
       "59                                      713477.000000              \n",
       "60                                      739495.000000              \n",
       "61                                      752746.331392              \n",
       "\n",
       "    Agriculture (in Rs. Cr.) at 2004-05 Prices  \\\n",
       "0                                118877.048079   \n",
       "1                                123822.315337   \n",
       "2                                134957.576986   \n",
       "3                                138731.006538   \n",
       "4                                136678.888832   \n",
       "..                                         ...   \n",
       "57                               555442.000000   \n",
       "58                               557715.000000   \n",
       "59                               606848.000000   \n",
       "60                               630540.000000   \n",
       "61                                         NaN   \n",
       "\n",
       "    Industry (in Rs. Cr.) at 2004-05 Prices  \\\n",
       "0                              4.776795e+04   \n",
       "1                              4.773863e+04   \n",
       "2                              5.040913e+04   \n",
       "3                              5.457445e+04   \n",
       "4                              6.031051e+04   \n",
       "..                                      ...   \n",
       "57                             1.169736e+06   \n",
       "58                             1.276919e+06   \n",
       "59                             1.393879e+06   \n",
       "60                             1.442498e+06   \n",
       "61                             1.487533e+06   \n",
       "\n",
       "    Mining and Quarrying (in Rs. Cr.) at 2004-05 Prices  \\\n",
       "0                                         5771.687696     \n",
       "1                                         5904.766746     \n",
       "2                                         5993.486113     \n",
       "3                                         6249.786506     \n",
       "4                                         6348.363580     \n",
       "..                                                ...     \n",
       "57                                       98055.000000     \n",
       "58                                      103830.000000     \n",
       "59                                      108938.000000     \n",
       "60                                      108249.000000     \n",
       "61                                      108713.492560     \n",
       "\n",
       "    Manufacturing (in Rs. Cr.) at 2004-05 Prices  \\\n",
       "0                                   25888.502567   \n",
       "1                                   26789.016968   \n",
       "2                                   28862.772987   \n",
       "3                                   30885.071041   \n",
       "4                                   33303.595431   \n",
       "..                                           ...   \n",
       "57                                 656302.000000   \n",
       "58                                 730435.000000   \n",
       "59                                 801476.000000   \n",
       "60                                 823023.000000   \n",
       "61                                 838540.663241   \n",
       "\n",
       "    Services (in Rs. Cr.) at 2004-05 Prices  \\\n",
       "0                              8.479931e+04   \n",
       "1                              8.743773e+04   \n",
       "2                              8.993971e+04   \n",
       "3                              9.417216e+04   \n",
       "4                              9.884513e+04   \n",
       "..                                      ...   \n",
       "57                             2.333251e+06   \n",
       "58                             2.578165e+06   \n",
       "59                             2.829650e+06   \n",
       "60                             3.061589e+06   \n",
       "61                             3.263196e+06   \n",
       "\n",
       "    Agri-culture & Allied Services -Share to Total GDP  \\\n",
       "0                                           51.447582    \n",
       "1                                           51.605741    \n",
       "2                                           52.391124    \n",
       "3                                           51.734805    \n",
       "4                                           50.006943    \n",
       "..                                                ...    \n",
       "57                                          15.766773    \n",
       "58                                          14.636329    \n",
       "59                                          14.451613    \n",
       "60                                          14.102859    \n",
       "61                                          13.677653    \n",
       "\n",
       "    Agriculture - Share to Total GDP  ...  \\\n",
       "0                          41.544069  ...   \n",
       "1                          42.078200  ...   \n",
       "2                          43.231052  ...   \n",
       "3                          42.629963  ...   \n",
       "4                          40.950481  ...   \n",
       "..                               ...  ...   \n",
       "57                         13.356222  ...   \n",
       "58                         12.349562  ...   \n",
       "59                         12.291822  ...   \n",
       "60                         12.024986  ...   \n",
       "61                               NaN  ...   \n",
       "\n",
       "    Mining and Quarrying - Share to Total GDP  \\\n",
       "0                                    2.017037   \n",
       "1                                    2.006601   \n",
       "2                                    1.919897   \n",
       "3                                    1.920466   \n",
       "4                                    1.902039   \n",
       "..                                        ...   \n",
       "57                                   2.357842   \n",
       "58                                   2.299122   \n",
       "59                                   2.206560   \n",
       "60                                   2.064409   \n",
       "61                                   1.975361   \n",
       "\n",
       "    Manufacturing - Share to Total GDP  Services - Share to Total GDP  \\\n",
       "0                             9.047278                      29.634890   \n",
       "1                             9.103639                      29.713727   \n",
       "2                             9.245632                      28.810447   \n",
       "3                             9.490520                      28.937697   \n",
       "4                             9.978119                      29.615077   \n",
       "..                                 ...                            ...   \n",
       "57                           15.781513                      56.105621   \n",
       "58                           16.174126                      57.088673   \n",
       "59                           16.234050                      57.315102   \n",
       "60                           15.695816                      58.387358   \n",
       "61                           15.236564                      59.293368   \n",
       "\n",
       "    Gross Domestic Product - % Growth Rate (YoY)  \\\n",
       "0                                       2.334912   \n",
       "1                                       2.837801   \n",
       "2                                       6.086398   \n",
       "3                                       4.245451   \n",
       "4                                       2.561379   \n",
       "..                                           ...   \n",
       "57                                      6.724762   \n",
       "58                                      8.593963   \n",
       "59                                      9.320823   \n",
       "60                                      6.209755   \n",
       "61                                      4.956420   \n",
       "\n",
       "    Agri-culture & Allied Services - % Growth Rate (YoY)  \\\n",
       "0                                            1.491322      \n",
       "1                                            3.153942      \n",
       "2                                            7.700918      \n",
       "3                                            2.939535      \n",
       "4                                           -0.864011      \n",
       "..                                                ...      \n",
       "57                                           0.092966      \n",
       "58                                           0.808005      \n",
       "59                                           7.941155      \n",
       "60                                           3.646649      \n",
       "61                                           1.791943      \n",
       "\n",
       "    Agriculture - % Growth Rate (YoY)  Industry - % Growth Rate (YoY)  \\\n",
       "0                            1.639501                        5.502653   \n",
       "1                            4.159985                       -0.061385   \n",
       "2                            8.992936                        5.593999   \n",
       "3                            2.796012                        8.263033   \n",
       "4                           -1.479206                       10.510522   \n",
       "..                                ...                             ...   \n",
       "57                          -0.271835                        4.441181   \n",
       "58                           0.409224                        9.163008   \n",
       "59                           8.809697                        9.159547   \n",
       "60                           3.904108                        3.488036   \n",
       "61                                NaN                        3.122040   \n",
       "\n",
       "    Mining and Quarrying - % Growth Rate (YoY)  \\\n",
       "0                                    12.326139   \n",
       "1                                     2.305722   \n",
       "2                                     1.502504   \n",
       "3                                     4.276316   \n",
       "4                                     1.577287   \n",
       "..                                         ...   \n",
       "57                                    2.143817   \n",
       "58                                    5.889552   \n",
       "59                                    4.919580   \n",
       "60                                   -0.632470   \n",
       "61                                    0.429096   \n",
       "\n",
       "    Manufacturing - % Growth Rate (YoY)  Services - % Growth Rate (YoY)  \n",
       "0                              3.157679                        2.673177  \n",
       "1                              3.478434                        3.111378  \n",
       "2                              7.741068                        2.861434  \n",
       "3                              7.006597                        4.705879  \n",
       "4                              7.830723                        4.962161  \n",
       "..                                  ...                             ...  \n",
       "57                             4.328432                        9.978007  \n",
       "58                            11.295562                       10.496687  \n",
       "59                             9.725848                        9.754418  \n",
       "60                             2.688415                        8.196738  \n",
       "61                             1.885447                        6.585054  \n",
       "\n",
       "[62 rows x 21 columns]"
      ]
     },
     "execution_count": 15,
     "metadata": {},
     "output_type": "execute_result"
    }
   ],
   "source": [
    "gdp_major_sector"
   ]
  },
  {
   "cell_type": "code",
   "execution_count": 17,
   "metadata": {},
   "outputs": [],
   "source": [
    "gdp_major_sector['Financial Year'] = pd.to_datetime(gdp_major_sector['Financial Year'].str[:4], format='%Y')\n"
   ]
  },
  {
   "cell_type": "code",
   "execution_count": 18,
   "metadata": {},
   "outputs": [
    {
     "data": {
      "text/html": [
       "<div>\n",
       "<style scoped>\n",
       "    .dataframe tbody tr th:only-of-type {\n",
       "        vertical-align: middle;\n",
       "    }\n",
       "\n",
       "    .dataframe tbody tr th {\n",
       "        vertical-align: top;\n",
       "    }\n",
       "\n",
       "    .dataframe thead th {\n",
       "        text-align: right;\n",
       "    }\n",
       "</style>\n",
       "<table border=\"1\" class=\"dataframe\">\n",
       "  <thead>\n",
       "    <tr style=\"text-align: right;\">\n",
       "      <th></th>\n",
       "      <th>Financial Year</th>\n",
       "      <th>Gross Domestic Product (in Rs. Cr) at 2004-05 Prices</th>\n",
       "      <th>Agriculture &amp; Allied Services (in Rs. Cr.) at 2004-05 Prices</th>\n",
       "      <th>Agriculture (in Rs. Cr.) at 2004-05 Prices</th>\n",
       "      <th>Industry (in Rs. Cr.) at 2004-05 Prices</th>\n",
       "      <th>Mining and Quarrying (in Rs. Cr.) at 2004-05 Prices</th>\n",
       "      <th>Manufacturing (in Rs. Cr.) at 2004-05 Prices</th>\n",
       "      <th>Services (in Rs. Cr.) at 2004-05 Prices</th>\n",
       "      <th>Agri-culture &amp; Allied Services -Share to Total GDP</th>\n",
       "      <th>Agriculture - Share to Total GDP</th>\n",
       "      <th>...</th>\n",
       "      <th>Mining and Quarrying - Share to Total GDP</th>\n",
       "      <th>Manufacturing - Share to Total GDP</th>\n",
       "      <th>Services - Share to Total GDP</th>\n",
       "      <th>Gross Domestic Product - % Growth Rate (YoY)</th>\n",
       "      <th>Agri-culture &amp; Allied Services - % Growth Rate (YoY)</th>\n",
       "      <th>Agriculture - % Growth Rate (YoY)</th>\n",
       "      <th>Industry - % Growth Rate (YoY)</th>\n",
       "      <th>Mining and Quarrying - % Growth Rate (YoY)</th>\n",
       "      <th>Manufacturing - % Growth Rate (YoY)</th>\n",
       "      <th>Services - % Growth Rate (YoY)</th>\n",
       "    </tr>\n",
       "  </thead>\n",
       "  <tbody>\n",
       "    <tr>\n",
       "      <th>0</th>\n",
       "      <td>1951-01-01</td>\n",
       "      <td>2.861469e+05</td>\n",
       "      <td>147215.641082</td>\n",
       "      <td>118877.048079</td>\n",
       "      <td>4.776795e+04</td>\n",
       "      <td>5771.687696</td>\n",
       "      <td>25888.502567</td>\n",
       "      <td>8.479931e+04</td>\n",
       "      <td>51.447582</td>\n",
       "      <td>41.544069</td>\n",
       "      <td>...</td>\n",
       "      <td>2.017037</td>\n",
       "      <td>9.047278</td>\n",
       "      <td>29.634890</td>\n",
       "      <td>2.334912</td>\n",
       "      <td>1.491322</td>\n",
       "      <td>1.639501</td>\n",
       "      <td>5.502653</td>\n",
       "      <td>12.326139</td>\n",
       "      <td>3.157679</td>\n",
       "      <td>2.673177</td>\n",
       "    </tr>\n",
       "    <tr>\n",
       "      <th>1</th>\n",
       "      <td>1952-01-01</td>\n",
       "      <td>2.942671e+05</td>\n",
       "      <td>151858.736303</td>\n",
       "      <td>123822.315337</td>\n",
       "      <td>4.773863e+04</td>\n",
       "      <td>5904.766746</td>\n",
       "      <td>26789.016968</td>\n",
       "      <td>8.743773e+04</td>\n",
       "      <td>51.605741</td>\n",
       "      <td>42.078200</td>\n",
       "      <td>...</td>\n",
       "      <td>2.006601</td>\n",
       "      <td>9.103639</td>\n",
       "      <td>29.713727</td>\n",
       "      <td>2.837801</td>\n",
       "      <td>3.153942</td>\n",
       "      <td>4.159985</td>\n",
       "      <td>-0.061385</td>\n",
       "      <td>2.305722</td>\n",
       "      <td>3.478434</td>\n",
       "      <td>3.111378</td>\n",
       "    </tr>\n",
       "    <tr>\n",
       "      <th>2</th>\n",
       "      <td>1953-01-01</td>\n",
       "      <td>3.121774e+05</td>\n",
       "      <td>163553.252822</td>\n",
       "      <td>134957.576986</td>\n",
       "      <td>5.040913e+04</td>\n",
       "      <td>5993.486113</td>\n",
       "      <td>28862.772987</td>\n",
       "      <td>8.993971e+04</td>\n",
       "      <td>52.391124</td>\n",
       "      <td>43.231052</td>\n",
       "      <td>...</td>\n",
       "      <td>1.919897</td>\n",
       "      <td>9.245632</td>\n",
       "      <td>28.810447</td>\n",
       "      <td>6.086398</td>\n",
       "      <td>7.700918</td>\n",
       "      <td>8.992936</td>\n",
       "      <td>5.593999</td>\n",
       "      <td>1.502504</td>\n",
       "      <td>7.741068</td>\n",
       "      <td>2.861434</td>\n",
       "    </tr>\n",
       "    <tr>\n",
       "      <th>3</th>\n",
       "      <td>1954-01-01</td>\n",
       "      <td>3.254307e+05</td>\n",
       "      <td>168360.958740</td>\n",
       "      <td>138731.006538</td>\n",
       "      <td>5.457445e+04</td>\n",
       "      <td>6249.786506</td>\n",
       "      <td>30885.071041</td>\n",
       "      <td>9.417216e+04</td>\n",
       "      <td>51.734805</td>\n",
       "      <td>42.629963</td>\n",
       "      <td>...</td>\n",
       "      <td>1.920466</td>\n",
       "      <td>9.490520</td>\n",
       "      <td>28.937697</td>\n",
       "      <td>4.245451</td>\n",
       "      <td>2.939535</td>\n",
       "      <td>2.796012</td>\n",
       "      <td>8.263033</td>\n",
       "      <td>4.276316</td>\n",
       "      <td>7.006597</td>\n",
       "      <td>4.705879</td>\n",
       "    </tr>\n",
       "    <tr>\n",
       "      <th>4</th>\n",
       "      <td>1955-01-01</td>\n",
       "      <td>3.337663e+05</td>\n",
       "      <td>166906.301163</td>\n",
       "      <td>136678.888832</td>\n",
       "      <td>6.031051e+04</td>\n",
       "      <td>6348.363580</td>\n",
       "      <td>33303.595431</td>\n",
       "      <td>9.884513e+04</td>\n",
       "      <td>50.006943</td>\n",
       "      <td>40.950481</td>\n",
       "      <td>...</td>\n",
       "      <td>1.902039</td>\n",
       "      <td>9.978119</td>\n",
       "      <td>29.615077</td>\n",
       "      <td>2.561379</td>\n",
       "      <td>-0.864011</td>\n",
       "      <td>-1.479206</td>\n",
       "      <td>10.510522</td>\n",
       "      <td>1.577287</td>\n",
       "      <td>7.830723</td>\n",
       "      <td>4.962161</td>\n",
       "    </tr>\n",
       "    <tr>\n",
       "      <th>...</th>\n",
       "      <td>...</td>\n",
       "      <td>...</td>\n",
       "      <td>...</td>\n",
       "      <td>...</td>\n",
       "      <td>...</td>\n",
       "      <td>...</td>\n",
       "      <td>...</td>\n",
       "      <td>...</td>\n",
       "      <td>...</td>\n",
       "      <td>...</td>\n",
       "      <td>...</td>\n",
       "      <td>...</td>\n",
       "      <td>...</td>\n",
       "      <td>...</td>\n",
       "      <td>...</td>\n",
       "      <td>...</td>\n",
       "      <td>...</td>\n",
       "      <td>...</td>\n",
       "      <td>...</td>\n",
       "      <td>...</td>\n",
       "      <td>...</td>\n",
       "    </tr>\n",
       "    <tr>\n",
       "      <th>57</th>\n",
       "      <td>2008-01-01</td>\n",
       "      <td>4.158676e+06</td>\n",
       "      <td>655689.000000</td>\n",
       "      <td>555442.000000</td>\n",
       "      <td>1.169736e+06</td>\n",
       "      <td>98055.000000</td>\n",
       "      <td>656302.000000</td>\n",
       "      <td>2.333251e+06</td>\n",
       "      <td>15.766773</td>\n",
       "      <td>13.356222</td>\n",
       "      <td>...</td>\n",
       "      <td>2.357842</td>\n",
       "      <td>15.781513</td>\n",
       "      <td>56.105621</td>\n",
       "      <td>6.724762</td>\n",
       "      <td>0.092966</td>\n",
       "      <td>-0.271835</td>\n",
       "      <td>4.441181</td>\n",
       "      <td>2.143817</td>\n",
       "      <td>4.328432</td>\n",
       "      <td>9.978007</td>\n",
       "    </tr>\n",
       "    <tr>\n",
       "      <th>58</th>\n",
       "      <td>2009-01-01</td>\n",
       "      <td>4.516071e+06</td>\n",
       "      <td>660987.000000</td>\n",
       "      <td>557715.000000</td>\n",
       "      <td>1.276919e+06</td>\n",
       "      <td>103830.000000</td>\n",
       "      <td>730435.000000</td>\n",
       "      <td>2.578165e+06</td>\n",
       "      <td>14.636329</td>\n",
       "      <td>12.349562</td>\n",
       "      <td>...</td>\n",
       "      <td>2.299122</td>\n",
       "      <td>16.174126</td>\n",
       "      <td>57.088673</td>\n",
       "      <td>8.593963</td>\n",
       "      <td>0.808005</td>\n",
       "      <td>0.409224</td>\n",
       "      <td>9.163008</td>\n",
       "      <td>5.889552</td>\n",
       "      <td>11.295562</td>\n",
       "      <td>10.496687</td>\n",
       "    </tr>\n",
       "    <tr>\n",
       "      <th>59</th>\n",
       "      <td>2010-01-01</td>\n",
       "      <td>4.937006e+06</td>\n",
       "      <td>713477.000000</td>\n",
       "      <td>606848.000000</td>\n",
       "      <td>1.393879e+06</td>\n",
       "      <td>108938.000000</td>\n",
       "      <td>801476.000000</td>\n",
       "      <td>2.829650e+06</td>\n",
       "      <td>14.451613</td>\n",
       "      <td>12.291822</td>\n",
       "      <td>...</td>\n",
       "      <td>2.206560</td>\n",
       "      <td>16.234050</td>\n",
       "      <td>57.315102</td>\n",
       "      <td>9.320823</td>\n",
       "      <td>7.941155</td>\n",
       "      <td>8.809697</td>\n",
       "      <td>9.159547</td>\n",
       "      <td>4.919580</td>\n",
       "      <td>9.725848</td>\n",
       "      <td>9.754418</td>\n",
       "    </tr>\n",
       "    <tr>\n",
       "      <th>60</th>\n",
       "      <td>2011-01-01</td>\n",
       "      <td>5.243582e+06</td>\n",
       "      <td>739495.000000</td>\n",
       "      <td>630540.000000</td>\n",
       "      <td>1.442498e+06</td>\n",
       "      <td>108249.000000</td>\n",
       "      <td>823023.000000</td>\n",
       "      <td>3.061589e+06</td>\n",
       "      <td>14.102859</td>\n",
       "      <td>12.024986</td>\n",
       "      <td>...</td>\n",
       "      <td>2.064409</td>\n",
       "      <td>15.695816</td>\n",
       "      <td>58.387358</td>\n",
       "      <td>6.209755</td>\n",
       "      <td>3.646649</td>\n",
       "      <td>3.904108</td>\n",
       "      <td>3.488036</td>\n",
       "      <td>-0.632470</td>\n",
       "      <td>2.688415</td>\n",
       "      <td>8.196738</td>\n",
       "    </tr>\n",
       "    <tr>\n",
       "      <th>61</th>\n",
       "      <td>2012-01-01</td>\n",
       "      <td>5.503476e+06</td>\n",
       "      <td>752746.331392</td>\n",
       "      <td>NaN</td>\n",
       "      <td>1.487533e+06</td>\n",
       "      <td>108713.492560</td>\n",
       "      <td>838540.663241</td>\n",
       "      <td>3.263196e+06</td>\n",
       "      <td>13.677653</td>\n",
       "      <td>NaN</td>\n",
       "      <td>...</td>\n",
       "      <td>1.975361</td>\n",
       "      <td>15.236564</td>\n",
       "      <td>59.293368</td>\n",
       "      <td>4.956420</td>\n",
       "      <td>1.791943</td>\n",
       "      <td>NaN</td>\n",
       "      <td>3.122040</td>\n",
       "      <td>0.429096</td>\n",
       "      <td>1.885447</td>\n",
       "      <td>6.585054</td>\n",
       "    </tr>\n",
       "  </tbody>\n",
       "</table>\n",
       "<p>62 rows × 21 columns</p>\n",
       "</div>"
      ],
      "text/plain": [
       "   Financial Year  Gross Domestic Product (in Rs. Cr) at 2004-05 Prices  \\\n",
       "0      1951-01-01                                       2.861469e+05      \n",
       "1      1952-01-01                                       2.942671e+05      \n",
       "2      1953-01-01                                       3.121774e+05      \n",
       "3      1954-01-01                                       3.254307e+05      \n",
       "4      1955-01-01                                       3.337663e+05      \n",
       "..            ...                                                ...      \n",
       "57     2008-01-01                                       4.158676e+06      \n",
       "58     2009-01-01                                       4.516071e+06      \n",
       "59     2010-01-01                                       4.937006e+06      \n",
       "60     2011-01-01                                       5.243582e+06      \n",
       "61     2012-01-01                                       5.503476e+06      \n",
       "\n",
       "    Agriculture & Allied Services (in Rs. Cr.) at 2004-05 Prices  \\\n",
       "0                                       147215.641082              \n",
       "1                                       151858.736303              \n",
       "2                                       163553.252822              \n",
       "3                                       168360.958740              \n",
       "4                                       166906.301163              \n",
       "..                                                ...              \n",
       "57                                      655689.000000              \n",
       "58                                      660987.000000              \n",
       "59                                      713477.000000              \n",
       "60                                      739495.000000              \n",
       "61                                      752746.331392              \n",
       "\n",
       "    Agriculture (in Rs. Cr.) at 2004-05 Prices  \\\n",
       "0                                118877.048079   \n",
       "1                                123822.315337   \n",
       "2                                134957.576986   \n",
       "3                                138731.006538   \n",
       "4                                136678.888832   \n",
       "..                                         ...   \n",
       "57                               555442.000000   \n",
       "58                               557715.000000   \n",
       "59                               606848.000000   \n",
       "60                               630540.000000   \n",
       "61                                         NaN   \n",
       "\n",
       "    Industry (in Rs. Cr.) at 2004-05 Prices  \\\n",
       "0                              4.776795e+04   \n",
       "1                              4.773863e+04   \n",
       "2                              5.040913e+04   \n",
       "3                              5.457445e+04   \n",
       "4                              6.031051e+04   \n",
       "..                                      ...   \n",
       "57                             1.169736e+06   \n",
       "58                             1.276919e+06   \n",
       "59                             1.393879e+06   \n",
       "60                             1.442498e+06   \n",
       "61                             1.487533e+06   \n",
       "\n",
       "    Mining and Quarrying (in Rs. Cr.) at 2004-05 Prices  \\\n",
       "0                                         5771.687696     \n",
       "1                                         5904.766746     \n",
       "2                                         5993.486113     \n",
       "3                                         6249.786506     \n",
       "4                                         6348.363580     \n",
       "..                                                ...     \n",
       "57                                       98055.000000     \n",
       "58                                      103830.000000     \n",
       "59                                      108938.000000     \n",
       "60                                      108249.000000     \n",
       "61                                      108713.492560     \n",
       "\n",
       "    Manufacturing (in Rs. Cr.) at 2004-05 Prices  \\\n",
       "0                                   25888.502567   \n",
       "1                                   26789.016968   \n",
       "2                                   28862.772987   \n",
       "3                                   30885.071041   \n",
       "4                                   33303.595431   \n",
       "..                                           ...   \n",
       "57                                 656302.000000   \n",
       "58                                 730435.000000   \n",
       "59                                 801476.000000   \n",
       "60                                 823023.000000   \n",
       "61                                 838540.663241   \n",
       "\n",
       "    Services (in Rs. Cr.) at 2004-05 Prices  \\\n",
       "0                              8.479931e+04   \n",
       "1                              8.743773e+04   \n",
       "2                              8.993971e+04   \n",
       "3                              9.417216e+04   \n",
       "4                              9.884513e+04   \n",
       "..                                      ...   \n",
       "57                             2.333251e+06   \n",
       "58                             2.578165e+06   \n",
       "59                             2.829650e+06   \n",
       "60                             3.061589e+06   \n",
       "61                             3.263196e+06   \n",
       "\n",
       "    Agri-culture & Allied Services -Share to Total GDP  \\\n",
       "0                                           51.447582    \n",
       "1                                           51.605741    \n",
       "2                                           52.391124    \n",
       "3                                           51.734805    \n",
       "4                                           50.006943    \n",
       "..                                                ...    \n",
       "57                                          15.766773    \n",
       "58                                          14.636329    \n",
       "59                                          14.451613    \n",
       "60                                          14.102859    \n",
       "61                                          13.677653    \n",
       "\n",
       "    Agriculture - Share to Total GDP  ...  \\\n",
       "0                          41.544069  ...   \n",
       "1                          42.078200  ...   \n",
       "2                          43.231052  ...   \n",
       "3                          42.629963  ...   \n",
       "4                          40.950481  ...   \n",
       "..                               ...  ...   \n",
       "57                         13.356222  ...   \n",
       "58                         12.349562  ...   \n",
       "59                         12.291822  ...   \n",
       "60                         12.024986  ...   \n",
       "61                               NaN  ...   \n",
       "\n",
       "    Mining and Quarrying - Share to Total GDP  \\\n",
       "0                                    2.017037   \n",
       "1                                    2.006601   \n",
       "2                                    1.919897   \n",
       "3                                    1.920466   \n",
       "4                                    1.902039   \n",
       "..                                        ...   \n",
       "57                                   2.357842   \n",
       "58                                   2.299122   \n",
       "59                                   2.206560   \n",
       "60                                   2.064409   \n",
       "61                                   1.975361   \n",
       "\n",
       "    Manufacturing - Share to Total GDP  Services - Share to Total GDP  \\\n",
       "0                             9.047278                      29.634890   \n",
       "1                             9.103639                      29.713727   \n",
       "2                             9.245632                      28.810447   \n",
       "3                             9.490520                      28.937697   \n",
       "4                             9.978119                      29.615077   \n",
       "..                                 ...                            ...   \n",
       "57                           15.781513                      56.105621   \n",
       "58                           16.174126                      57.088673   \n",
       "59                           16.234050                      57.315102   \n",
       "60                           15.695816                      58.387358   \n",
       "61                           15.236564                      59.293368   \n",
       "\n",
       "    Gross Domestic Product - % Growth Rate (YoY)  \\\n",
       "0                                       2.334912   \n",
       "1                                       2.837801   \n",
       "2                                       6.086398   \n",
       "3                                       4.245451   \n",
       "4                                       2.561379   \n",
       "..                                           ...   \n",
       "57                                      6.724762   \n",
       "58                                      8.593963   \n",
       "59                                      9.320823   \n",
       "60                                      6.209755   \n",
       "61                                      4.956420   \n",
       "\n",
       "    Agri-culture & Allied Services - % Growth Rate (YoY)  \\\n",
       "0                                            1.491322      \n",
       "1                                            3.153942      \n",
       "2                                            7.700918      \n",
       "3                                            2.939535      \n",
       "4                                           -0.864011      \n",
       "..                                                ...      \n",
       "57                                           0.092966      \n",
       "58                                           0.808005      \n",
       "59                                           7.941155      \n",
       "60                                           3.646649      \n",
       "61                                           1.791943      \n",
       "\n",
       "    Agriculture - % Growth Rate (YoY)  Industry - % Growth Rate (YoY)  \\\n",
       "0                            1.639501                        5.502653   \n",
       "1                            4.159985                       -0.061385   \n",
       "2                            8.992936                        5.593999   \n",
       "3                            2.796012                        8.263033   \n",
       "4                           -1.479206                       10.510522   \n",
       "..                                ...                             ...   \n",
       "57                          -0.271835                        4.441181   \n",
       "58                           0.409224                        9.163008   \n",
       "59                           8.809697                        9.159547   \n",
       "60                           3.904108                        3.488036   \n",
       "61                                NaN                        3.122040   \n",
       "\n",
       "    Mining and Quarrying - % Growth Rate (YoY)  \\\n",
       "0                                    12.326139   \n",
       "1                                     2.305722   \n",
       "2                                     1.502504   \n",
       "3                                     4.276316   \n",
       "4                                     1.577287   \n",
       "..                                         ...   \n",
       "57                                    2.143817   \n",
       "58                                    5.889552   \n",
       "59                                    4.919580   \n",
       "60                                   -0.632470   \n",
       "61                                    0.429096   \n",
       "\n",
       "    Manufacturing - % Growth Rate (YoY)  Services - % Growth Rate (YoY)  \n",
       "0                              3.157679                        2.673177  \n",
       "1                              3.478434                        3.111378  \n",
       "2                              7.741068                        2.861434  \n",
       "3                              7.006597                        4.705879  \n",
       "4                              7.830723                        4.962161  \n",
       "..                                  ...                             ...  \n",
       "57                             4.328432                        9.978007  \n",
       "58                            11.295562                       10.496687  \n",
       "59                             9.725848                        9.754418  \n",
       "60                             2.688415                        8.196738  \n",
       "61                             1.885447                        6.585054  \n",
       "\n",
       "[62 rows x 21 columns]"
      ]
     },
     "execution_count": 18,
     "metadata": {},
     "output_type": "execute_result"
    }
   ],
   "source": [
    "gdp_major_sector"
   ]
  },
  {
   "cell_type": "code",
   "execution_count": 12,
   "metadata": {},
   "outputs": [
    {
     "data": {
      "text/plain": [
       "Index(['Financial Year',\n",
       "       'Gross Domestic Product (in Rs. Cr) at 2004-05 Prices',\n",
       "       'Agriculture & Allied Services (in Rs. Cr.) at 2004-05 Prices',\n",
       "       'Agriculture (in Rs. Cr.) at 2004-05 Prices',\n",
       "       'Industry (in Rs. Cr.) at 2004-05 Prices',\n",
       "       'Mining and Quarrying (in Rs. Cr.) at 2004-05 Prices',\n",
       "       'Manufacturing (in Rs. Cr.) at 2004-05 Prices',\n",
       "       'Services (in Rs. Cr.) at 2004-05 Prices',\n",
       "       'Agri-culture & Allied Services -Share to Total GDP',\n",
       "       'Agriculture - Share to Total GDP', 'Industry - Share to Total GDP',\n",
       "       'Mining and Quarrying - Share to Total GDP',\n",
       "       'Manufacturing - Share to Total GDP', 'Services - Share to Total GDP',\n",
       "       'Gross Domestic Product - % Growth Rate (YoY)',\n",
       "       'Agri-culture & Allied Services - % Growth Rate (YoY)',\n",
       "       'Agriculture - % Growth Rate (YoY)', 'Industry - % Growth Rate (YoY)',\n",
       "       'Mining and Quarrying - % Growth Rate (YoY)',\n",
       "       'Manufacturing - % Growth Rate (YoY)',\n",
       "       'Services - % Growth Rate (YoY)'],\n",
       "      dtype='object')"
      ]
     },
     "execution_count": 12,
     "metadata": {},
     "output_type": "execute_result"
    }
   ],
   "source": [
    "gdp_major_sector.columns"
   ]
  },
  {
   "cell_type": "code",
   "execution_count": 19,
   "metadata": {},
   "outputs": [
    {
     "data": {
      "application/vnd.plotly.v1+json": {
       "config": {
        "plotlyServerURL": "https://plot.ly"
       },
       "data": [
        {
         "hovertemplate": "variable=Gross Domestic Product (in Rs. Cr) at 2004-05 Prices<br>Financial Year=%{x}<br>value=%{y}<extra></extra>",
         "legendgroup": "Gross Domestic Product (in Rs. Cr) at 2004-05 Prices",
         "line": {
          "color": "#636efa",
          "dash": "solid"
         },
         "marker": {
          "symbol": "circle"
         },
         "mode": "lines",
         "name": "Gross Domestic Product (in Rs. Cr) at 2004-05 Prices",
         "orientation": "v",
         "showlegend": true,
         "type": "scatter",
         "x": [
          "1951-01-01T00:00:00",
          "1952-01-01T00:00:00",
          "1953-01-01T00:00:00",
          "1954-01-01T00:00:00",
          "1955-01-01T00:00:00",
          "1956-01-01T00:00:00",
          "1957-01-01T00:00:00",
          "1958-01-01T00:00:00",
          "1959-01-01T00:00:00",
          "1960-01-01T00:00:00",
          "1961-01-01T00:00:00",
          "1962-01-01T00:00:00",
          "1963-01-01T00:00:00",
          "1964-01-01T00:00:00",
          "1965-01-01T00:00:00",
          "1966-01-01T00:00:00",
          "1967-01-01T00:00:00",
          "1968-01-01T00:00:00",
          "1969-01-01T00:00:00",
          "1970-01-01T00:00:00",
          "1971-01-01T00:00:00",
          "1972-01-01T00:00:00",
          "1973-01-01T00:00:00",
          "1974-01-01T00:00:00",
          "1975-01-01T00:00:00",
          "1976-01-01T00:00:00",
          "1977-01-01T00:00:00",
          "1978-01-01T00:00:00",
          "1979-01-01T00:00:00",
          "1980-01-01T00:00:00",
          "1981-01-01T00:00:00",
          "1982-01-01T00:00:00",
          "1983-01-01T00:00:00",
          "1984-01-01T00:00:00",
          "1985-01-01T00:00:00",
          "1986-01-01T00:00:00",
          "1987-01-01T00:00:00",
          "1988-01-01T00:00:00",
          "1989-01-01T00:00:00",
          "1990-01-01T00:00:00",
          "1991-01-01T00:00:00",
          "1992-01-01T00:00:00",
          "1993-01-01T00:00:00",
          "1994-01-01T00:00:00",
          "1995-01-01T00:00:00",
          "1996-01-01T00:00:00",
          "1997-01-01T00:00:00",
          "1998-01-01T00:00:00",
          "1999-01-01T00:00:00",
          "2000-01-01T00:00:00",
          "2001-01-01T00:00:00",
          "2002-01-01T00:00:00",
          "2003-01-01T00:00:00",
          "2004-01-01T00:00:00",
          "2005-01-01T00:00:00",
          "2006-01-01T00:00:00",
          "2007-01-01T00:00:00",
          "2008-01-01T00:00:00",
          "2009-01-01T00:00:00",
          "2010-01-01T00:00:00",
          "2011-01-01T00:00:00",
          "2012-01-01T00:00:00"
         ],
         "xaxis": "x",
         "y": [
          286146.8592,
          294267.1373,
          312177.40520000004,
          325430.7426,
          333766.25690000004,
          352765.7509,
          348500.15910000005,
          374948.1331,
          383153.2012,
          410279.49559999997,
          423011.048,
          431959.65969999996,
          453828.97079999995,
          488247.2097,
          470402.16490000003,
          475189.54170000006,
          513860.32779999997,
          527270.2006000001,
          561629.7387000001,
          589786.5584,
          595741.4289,
          593843.4362,
          620871.8959,
          628079.0504,
          684634.0152,
          693191.2881,
          744971.9208,
          785964.6499,
          745082.8001,
          798506.2956000001,
          843426.4568,
          868091.7015000001,
          936269.6662,
          973357.407,
          1013865.97,
          1057612.2449999999,
          1094992.8320000002,
          1206243.442,
          1280228.04,
          1347889.4470000002,
          1367171.0359999998,
          1440503.925,
          1522343.645,
          1619694.475,
          1737740.933,
          1876319.275,
          1957031.948,
          2087828.107,
          2246275.52,
          2342774.224,
          2472051.974,
          2570689.8249999997,
          2777813.093,
          2971464,
          3253072.96576894,
          3564363.83808092,
          3896636.40949693,
          4158675.94794973,
          4516071,
          4937006,
          5243582,
          5503475.96954155
         ],
         "yaxis": "y"
        },
        {
         "hovertemplate": "variable=Agriculture & Allied Services (in Rs. Cr.) at 2004-05 Prices<br>Financial Year=%{x}<br>value=%{y}<extra></extra>",
         "legendgroup": "Agriculture & Allied Services (in Rs. Cr.) at 2004-05 Prices",
         "line": {
          "color": "#EF553B",
          "dash": "solid"
         },
         "marker": {
          "symbol": "circle"
         },
         "mode": "lines",
         "name": "Agriculture & Allied Services (in Rs. Cr.) at 2004-05 Prices",
         "orientation": "v",
         "showlegend": true,
         "type": "scatter",
         "x": [
          "1951-01-01T00:00:00",
          "1952-01-01T00:00:00",
          "1953-01-01T00:00:00",
          "1954-01-01T00:00:00",
          "1955-01-01T00:00:00",
          "1956-01-01T00:00:00",
          "1957-01-01T00:00:00",
          "1958-01-01T00:00:00",
          "1959-01-01T00:00:00",
          "1960-01-01T00:00:00",
          "1961-01-01T00:00:00",
          "1962-01-01T00:00:00",
          "1963-01-01T00:00:00",
          "1964-01-01T00:00:00",
          "1965-01-01T00:00:00",
          "1966-01-01T00:00:00",
          "1967-01-01T00:00:00",
          "1968-01-01T00:00:00",
          "1969-01-01T00:00:00",
          "1970-01-01T00:00:00",
          "1971-01-01T00:00:00",
          "1972-01-01T00:00:00",
          "1973-01-01T00:00:00",
          "1974-01-01T00:00:00",
          "1975-01-01T00:00:00",
          "1976-01-01T00:00:00",
          "1977-01-01T00:00:00",
          "1978-01-01T00:00:00",
          "1979-01-01T00:00:00",
          "1980-01-01T00:00:00",
          "1981-01-01T00:00:00",
          "1982-01-01T00:00:00",
          "1983-01-01T00:00:00",
          "1984-01-01T00:00:00",
          "1985-01-01T00:00:00",
          "1986-01-01T00:00:00",
          "1987-01-01T00:00:00",
          "1988-01-01T00:00:00",
          "1989-01-01T00:00:00",
          "1990-01-01T00:00:00",
          "1991-01-01T00:00:00",
          "1992-01-01T00:00:00",
          "1993-01-01T00:00:00",
          "1994-01-01T00:00:00",
          "1995-01-01T00:00:00",
          "1996-01-01T00:00:00",
          "1997-01-01T00:00:00",
          "1998-01-01T00:00:00",
          "1999-01-01T00:00:00",
          "2000-01-01T00:00:00",
          "2001-01-01T00:00:00",
          "2002-01-01T00:00:00",
          "2003-01-01T00:00:00",
          "2004-01-01T00:00:00",
          "2005-01-01T00:00:00",
          "2006-01-01T00:00:00",
          "2007-01-01T00:00:00",
          "2008-01-01T00:00:00",
          "2009-01-01T00:00:00",
          "2010-01-01T00:00:00",
          "2011-01-01T00:00:00",
          "2012-01-01T00:00:00"
         ],
         "xaxis": "x",
         "y": [
          147215.64108196,
          151858.73630313302,
          163553.252821664,
          168360.958740467,
          166906.301162504,
          175979.57124596002,
          168074.67926632898,
          185009.89940829598,
          183147.293579686,
          195482.360421601,
          195646.97111923,
          191755.359517669,
          196241.00102806598,
          214342.81002714497,
          190674.65450279802,
          187962.156485342,
          215913.768641476,
          215572.022519224,
          229427.949067496,
          245699.358678805,
          241086.68065175897,
          228987.79437600903,
          245479.281333062,
          241739.75570213597,
          272899.487215327,
          257130.855930472,
          282937.161277286,
          289451.808560635,
          252475.235982305,
          285014.813295959,
          298130.263863734,
          297293.00992963096,
          327381.958419686,
          332571.264853139,
          333616.44744676,
          332250.339974136,
          326974.88038059,
          378112.59901482397,
          382608.942918228,
          397971.05853382,
          390200.720438231,
          416152.996823509,
          429980.5408778269,
          450258.337771063,
          447127.344544422,
          491483.7151054539,
          478932.558649166,
          509203.272908272,
          522794.556699871,
          522754.7294486099,
          554157.0742792439,
          517559.24155757,
          564391.009571678,
          565426,
          594487,
          619190,
          655080,
          655689,
          660987,
          713477,
          739495,
          752746.3313920799
         ],
         "yaxis": "y"
        },
        {
         "hovertemplate": "variable=Agriculture (in Rs. Cr.) at 2004-05 Prices<br>Financial Year=%{x}<br>value=%{y}<extra></extra>",
         "legendgroup": "Agriculture (in Rs. Cr.) at 2004-05 Prices",
         "line": {
          "color": "#00cc96",
          "dash": "solid"
         },
         "marker": {
          "symbol": "circle"
         },
         "mode": "lines",
         "name": "Agriculture (in Rs. Cr.) at 2004-05 Prices",
         "orientation": "v",
         "showlegend": true,
         "type": "scatter",
         "x": [
          "1951-01-01T00:00:00",
          "1952-01-01T00:00:00",
          "1953-01-01T00:00:00",
          "1954-01-01T00:00:00",
          "1955-01-01T00:00:00",
          "1956-01-01T00:00:00",
          "1957-01-01T00:00:00",
          "1958-01-01T00:00:00",
          "1959-01-01T00:00:00",
          "1960-01-01T00:00:00",
          "1961-01-01T00:00:00",
          "1962-01-01T00:00:00",
          "1963-01-01T00:00:00",
          "1964-01-01T00:00:00",
          "1965-01-01T00:00:00",
          "1966-01-01T00:00:00",
          "1967-01-01T00:00:00",
          "1968-01-01T00:00:00",
          "1969-01-01T00:00:00",
          "1970-01-01T00:00:00",
          "1971-01-01T00:00:00",
          "1972-01-01T00:00:00",
          "1973-01-01T00:00:00",
          "1974-01-01T00:00:00",
          "1975-01-01T00:00:00",
          "1976-01-01T00:00:00",
          "1977-01-01T00:00:00",
          "1978-01-01T00:00:00",
          "1979-01-01T00:00:00",
          "1980-01-01T00:00:00",
          "1981-01-01T00:00:00",
          "1982-01-01T00:00:00",
          "1983-01-01T00:00:00",
          "1984-01-01T00:00:00",
          "1985-01-01T00:00:00",
          "1986-01-01T00:00:00",
          "1987-01-01T00:00:00",
          "1988-01-01T00:00:00",
          "1989-01-01T00:00:00",
          "1990-01-01T00:00:00",
          "1991-01-01T00:00:00",
          "1992-01-01T00:00:00",
          "1993-01-01T00:00:00",
          "1994-01-01T00:00:00",
          "1995-01-01T00:00:00",
          "1996-01-01T00:00:00",
          "1997-01-01T00:00:00",
          "1998-01-01T00:00:00",
          "1999-01-01T00:00:00",
          "2000-01-01T00:00:00",
          "2001-01-01T00:00:00",
          "2002-01-01T00:00:00",
          "2003-01-01T00:00:00",
          "2004-01-01T00:00:00",
          "2005-01-01T00:00:00",
          "2006-01-01T00:00:00",
          "2007-01-01T00:00:00",
          "2008-01-01T00:00:00",
          "2009-01-01T00:00:00",
          "2010-01-01T00:00:00",
          "2011-01-01T00:00:00",
          "2012-01-01T00:00:00"
         ],
         "xaxis": "x",
         "y": [
          118877.048078827,
          123822.315336893,
          134957.57698600902,
          138731.006537799,
          136678.88883207,
          144859.325260096,
          137497.493162771,
          152961.265382439,
          150729.727549434,
          161707.996587182,
          161186.556842284,
          157727.01653711498,
          160681.937734318,
          177283.90638639798,
          153404.20882165298,
          149894.302581801,
          175484.098234653,
          174878.555305094,
          187555.708672994,
          201455.161657968,
          196089.378476597,
          185055.040649074,
          200647.771085222,
          195119.388413506,
          222817.37056185998,
          209266.27056734002,
          235455.27577691895,
          240148.23348100303,
          208060.065093345,
          238101.722654252,
          249645.225220645,
          249295.742779104,
          276103.590029425,
          280200.26879254397,
          280747.215239899,
          279649.10055096,
          274819.56989043095,
          321114.201473085,
          322383.766620286,
          336176.155006963,
          328407.105364659,
          351584.31868339196,
          362764.19663302,
          379959.499344859,
          376243.391425441,
          415376.536244035,
          403029.52655763103,
          431719.330535129,
          442112.6414238651,
          439432.310042123,
          467814.52041992,
          429751.699609595,
          476324.268092513,
          476634,
          502996,
          523745,
          556956,
          555442,
          557715,
          606848,
          630540,
          null
         ],
         "yaxis": "y"
        },
        {
         "hovertemplate": "variable=Industry (in Rs. Cr.) at 2004-05 Prices<br>Financial Year=%{x}<br>value=%{y}<extra></extra>",
         "legendgroup": "Industry (in Rs. Cr.) at 2004-05 Prices",
         "line": {
          "color": "#ab63fa",
          "dash": "solid"
         },
         "marker": {
          "symbol": "circle"
         },
         "mode": "lines",
         "name": "Industry (in Rs. Cr.) at 2004-05 Prices",
         "orientation": "v",
         "showlegend": true,
         "type": "scatter",
         "x": [
          "1951-01-01T00:00:00",
          "1952-01-01T00:00:00",
          "1953-01-01T00:00:00",
          "1954-01-01T00:00:00",
          "1955-01-01T00:00:00",
          "1956-01-01T00:00:00",
          "1957-01-01T00:00:00",
          "1958-01-01T00:00:00",
          "1959-01-01T00:00:00",
          "1960-01-01T00:00:00",
          "1961-01-01T00:00:00",
          "1962-01-01T00:00:00",
          "1963-01-01T00:00:00",
          "1964-01-01T00:00:00",
          "1965-01-01T00:00:00",
          "1966-01-01T00:00:00",
          "1967-01-01T00:00:00",
          "1968-01-01T00:00:00",
          "1969-01-01T00:00:00",
          "1970-01-01T00:00:00",
          "1971-01-01T00:00:00",
          "1972-01-01T00:00:00",
          "1973-01-01T00:00:00",
          "1974-01-01T00:00:00",
          "1975-01-01T00:00:00",
          "1976-01-01T00:00:00",
          "1977-01-01T00:00:00",
          "1978-01-01T00:00:00",
          "1979-01-01T00:00:00",
          "1980-01-01T00:00:00",
          "1981-01-01T00:00:00",
          "1982-01-01T00:00:00",
          "1983-01-01T00:00:00",
          "1984-01-01T00:00:00",
          "1985-01-01T00:00:00",
          "1986-01-01T00:00:00",
          "1987-01-01T00:00:00",
          "1988-01-01T00:00:00",
          "1989-01-01T00:00:00",
          "1990-01-01T00:00:00",
          "1991-01-01T00:00:00",
          "1992-01-01T00:00:00",
          "1993-01-01T00:00:00",
          "1994-01-01T00:00:00",
          "1995-01-01T00:00:00",
          "1996-01-01T00:00:00",
          "1997-01-01T00:00:00",
          "1998-01-01T00:00:00",
          "1999-01-01T00:00:00",
          "2000-01-01T00:00:00",
          "2001-01-01T00:00:00",
          "2002-01-01T00:00:00",
          "2003-01-01T00:00:00",
          "2004-01-01T00:00:00",
          "2005-01-01T00:00:00",
          "2006-01-01T00:00:00",
          "2007-01-01T00:00:00",
          "2008-01-01T00:00:00",
          "2009-01-01T00:00:00",
          "2010-01-01T00:00:00",
          "2011-01-01T00:00:00",
          "2012-01-01T00:00:00"
         ],
         "xaxis": "x",
         "y": [
          47767.952076714006,
          47738.629802819996,
          50409.128114652995,
          54574.451094847,
          60310.510849311,
          65479.962527719996,
          64841.854378339,
          69335.25448404599,
          74081.44725568201,
          82412.644782316,
          88005.758060268,
          93995.713982118,
          103220.96006945499,
          110194.954775621,
          114705.939857285,
          118823.443277867,
          122754.60064615699,
          128685.280052253,
          138291.30354502698,
          139321.303028158,
          142814.246508238,
          148011.438342159,
          148920.039468264,
          151023.852445456,
          161723.378873807,
          175745.24811041198,
          188059.068251558,
          201012.15615245298,
          194656.21011745103,
          204861.19563380702,
          221264.279487225,
          224401.75438974096,
          242074.632335145,
          251942.162305781,
          262984.57791197504,
          278124.168108658,
          293614.731515025,
          320331.487824256,
          346926.288949108,
          372359.78002312407,
          373634.185048675,
          385646.941887954,
          406847.539496331,
          444121.941562346,
          494262.3370126,
          525864.105413749,
          546965.734879535,
          569655.818321845,
          603631.436819366,
          640043.2753765051,
          656736.5474033899,
          704095.4906857699,
          755625.377340667,
          829783,
          910413,
          1021204,
          1119995,
          1169736,
          1276919,
          1393879,
          1442498,
          1487533.36181175
         ],
         "yaxis": "y"
        },
        {
         "hovertemplate": "variable=Mining and Quarrying (in Rs. Cr.) at 2004-05 Prices<br>Financial Year=%{x}<br>value=%{y}<extra></extra>",
         "legendgroup": "Mining and Quarrying (in Rs. Cr.) at 2004-05 Prices",
         "line": {
          "color": "#FFA15A",
          "dash": "solid"
         },
         "marker": {
          "symbol": "circle"
         },
         "mode": "lines",
         "name": "Mining and Quarrying (in Rs. Cr.) at 2004-05 Prices",
         "orientation": "v",
         "showlegend": true,
         "type": "scatter",
         "x": [
          "1951-01-01T00:00:00",
          "1952-01-01T00:00:00",
          "1953-01-01T00:00:00",
          "1954-01-01T00:00:00",
          "1955-01-01T00:00:00",
          "1956-01-01T00:00:00",
          "1957-01-01T00:00:00",
          "1958-01-01T00:00:00",
          "1959-01-01T00:00:00",
          "1960-01-01T00:00:00",
          "1961-01-01T00:00:00",
          "1962-01-01T00:00:00",
          "1963-01-01T00:00:00",
          "1964-01-01T00:00:00",
          "1965-01-01T00:00:00",
          "1966-01-01T00:00:00",
          "1967-01-01T00:00:00",
          "1968-01-01T00:00:00",
          "1969-01-01T00:00:00",
          "1970-01-01T00:00:00",
          "1971-01-01T00:00:00",
          "1972-01-01T00:00:00",
          "1973-01-01T00:00:00",
          "1974-01-01T00:00:00",
          "1975-01-01T00:00:00",
          "1976-01-01T00:00:00",
          "1977-01-01T00:00:00",
          "1978-01-01T00:00:00",
          "1979-01-01T00:00:00",
          "1980-01-01T00:00:00",
          "1981-01-01T00:00:00",
          "1982-01-01T00:00:00",
          "1983-01-01T00:00:00",
          "1984-01-01T00:00:00",
          "1985-01-01T00:00:00",
          "1986-01-01T00:00:00",
          "1987-01-01T00:00:00",
          "1988-01-01T00:00:00",
          "1989-01-01T00:00:00",
          "1990-01-01T00:00:00",
          "1991-01-01T00:00:00",
          "1992-01-01T00:00:00",
          "1993-01-01T00:00:00",
          "1994-01-01T00:00:00",
          "1995-01-01T00:00:00",
          "1996-01-01T00:00:00",
          "1997-01-01T00:00:00",
          "1998-01-01T00:00:00",
          "1999-01-01T00:00:00",
          "2000-01-01T00:00:00",
          "2001-01-01T00:00:00",
          "2002-01-01T00:00:00",
          "2003-01-01T00:00:00",
          "2004-01-01T00:00:00",
          "2005-01-01T00:00:00",
          "2006-01-01T00:00:00",
          "2007-01-01T00:00:00",
          "2008-01-01T00:00:00",
          "2009-01-01T00:00:00",
          "2010-01-01T00:00:00",
          "2011-01-01T00:00:00",
          "2012-01-01T00:00:00"
         ],
         "xaxis": "x",
         "y": [
          5771.6876959,
          5904.766746105,
          5993.486112908001,
          6249.786505894,
          6348.363580119,
          6671.2034982079995,
          7104.9426248,
          7326.741041807,
          7703.798350719,
          8857.150119157,
          9367.286478274,
          10478.742990166,
          10789.260773975999,
          10944.519665881,
          12230.950484523,
          12519.288426633,
          12898.810162401,
          13263.545337035,
          13919.082880634,
          12965.349687503001,
          13307.905020436001,
          14094.057187384002,
          14271.49592099,
          14978.786428557998,
          16795.069021162002,
          17391.460320226004,
          17936.098655321002,
          18422.645273256,
          18621.209321188002,
          20890.946455229,
          23745.429708392003,
          26568.677497054996,
          27337.762940401,
          27658.24101425,
          29167.034006165,
          32738.881775316997,
          33973.93455650099,
          39468.090900938,
          42465.675632731,
          46909.408135344,
          48484.348479085995,
          48930.678788679,
          49611.033117903,
          54218.949812881,
          57399.56945648699,
          57718.089724305006,
          63380.265496549,
          65170.971558234,
          67901.611245053,
          69471.901615775,
          70765.51188702599,
          76721.054200687,
          78792.336105175,
          85028,
          86141,
          92578,
          95997,
          98055,
          103830,
          108938,
          108249,
          108713.492560351
         ],
         "yaxis": "y"
        }
       ],
       "layout": {
        "legend": {
         "title": {
          "text": "variable"
         },
         "tracegroupgap": 0
        },
        "margin": {
         "t": 60
        },
        "template": {
         "data": {
          "bar": [
           {
            "error_x": {
             "color": "#2a3f5f"
            },
            "error_y": {
             "color": "#2a3f5f"
            },
            "marker": {
             "line": {
              "color": "#E5ECF6",
              "width": 0.5
             },
             "pattern": {
              "fillmode": "overlay",
              "size": 10,
              "solidity": 0.2
             }
            },
            "type": "bar"
           }
          ],
          "barpolar": [
           {
            "marker": {
             "line": {
              "color": "#E5ECF6",
              "width": 0.5
             },
             "pattern": {
              "fillmode": "overlay",
              "size": 10,
              "solidity": 0.2
             }
            },
            "type": "barpolar"
           }
          ],
          "carpet": [
           {
            "aaxis": {
             "endlinecolor": "#2a3f5f",
             "gridcolor": "white",
             "linecolor": "white",
             "minorgridcolor": "white",
             "startlinecolor": "#2a3f5f"
            },
            "baxis": {
             "endlinecolor": "#2a3f5f",
             "gridcolor": "white",
             "linecolor": "white",
             "minorgridcolor": "white",
             "startlinecolor": "#2a3f5f"
            },
            "type": "carpet"
           }
          ],
          "choropleth": [
           {
            "colorbar": {
             "outlinewidth": 0,
             "ticks": ""
            },
            "type": "choropleth"
           }
          ],
          "contour": [
           {
            "colorbar": {
             "outlinewidth": 0,
             "ticks": ""
            },
            "colorscale": [
             [
              0,
              "#0d0887"
             ],
             [
              0.1111111111111111,
              "#46039f"
             ],
             [
              0.2222222222222222,
              "#7201a8"
             ],
             [
              0.3333333333333333,
              "#9c179e"
             ],
             [
              0.4444444444444444,
              "#bd3786"
             ],
             [
              0.5555555555555556,
              "#d8576b"
             ],
             [
              0.6666666666666666,
              "#ed7953"
             ],
             [
              0.7777777777777778,
              "#fb9f3a"
             ],
             [
              0.8888888888888888,
              "#fdca26"
             ],
             [
              1,
              "#f0f921"
             ]
            ],
            "type": "contour"
           }
          ],
          "contourcarpet": [
           {
            "colorbar": {
             "outlinewidth": 0,
             "ticks": ""
            },
            "type": "contourcarpet"
           }
          ],
          "heatmap": [
           {
            "colorbar": {
             "outlinewidth": 0,
             "ticks": ""
            },
            "colorscale": [
             [
              0,
              "#0d0887"
             ],
             [
              0.1111111111111111,
              "#46039f"
             ],
             [
              0.2222222222222222,
              "#7201a8"
             ],
             [
              0.3333333333333333,
              "#9c179e"
             ],
             [
              0.4444444444444444,
              "#bd3786"
             ],
             [
              0.5555555555555556,
              "#d8576b"
             ],
             [
              0.6666666666666666,
              "#ed7953"
             ],
             [
              0.7777777777777778,
              "#fb9f3a"
             ],
             [
              0.8888888888888888,
              "#fdca26"
             ],
             [
              1,
              "#f0f921"
             ]
            ],
            "type": "heatmap"
           }
          ],
          "heatmapgl": [
           {
            "colorbar": {
             "outlinewidth": 0,
             "ticks": ""
            },
            "colorscale": [
             [
              0,
              "#0d0887"
             ],
             [
              0.1111111111111111,
              "#46039f"
             ],
             [
              0.2222222222222222,
              "#7201a8"
             ],
             [
              0.3333333333333333,
              "#9c179e"
             ],
             [
              0.4444444444444444,
              "#bd3786"
             ],
             [
              0.5555555555555556,
              "#d8576b"
             ],
             [
              0.6666666666666666,
              "#ed7953"
             ],
             [
              0.7777777777777778,
              "#fb9f3a"
             ],
             [
              0.8888888888888888,
              "#fdca26"
             ],
             [
              1,
              "#f0f921"
             ]
            ],
            "type": "heatmapgl"
           }
          ],
          "histogram": [
           {
            "marker": {
             "pattern": {
              "fillmode": "overlay",
              "size": 10,
              "solidity": 0.2
             }
            },
            "type": "histogram"
           }
          ],
          "histogram2d": [
           {
            "colorbar": {
             "outlinewidth": 0,
             "ticks": ""
            },
            "colorscale": [
             [
              0,
              "#0d0887"
             ],
             [
              0.1111111111111111,
              "#46039f"
             ],
             [
              0.2222222222222222,
              "#7201a8"
             ],
             [
              0.3333333333333333,
              "#9c179e"
             ],
             [
              0.4444444444444444,
              "#bd3786"
             ],
             [
              0.5555555555555556,
              "#d8576b"
             ],
             [
              0.6666666666666666,
              "#ed7953"
             ],
             [
              0.7777777777777778,
              "#fb9f3a"
             ],
             [
              0.8888888888888888,
              "#fdca26"
             ],
             [
              1,
              "#f0f921"
             ]
            ],
            "type": "histogram2d"
           }
          ],
          "histogram2dcontour": [
           {
            "colorbar": {
             "outlinewidth": 0,
             "ticks": ""
            },
            "colorscale": [
             [
              0,
              "#0d0887"
             ],
             [
              0.1111111111111111,
              "#46039f"
             ],
             [
              0.2222222222222222,
              "#7201a8"
             ],
             [
              0.3333333333333333,
              "#9c179e"
             ],
             [
              0.4444444444444444,
              "#bd3786"
             ],
             [
              0.5555555555555556,
              "#d8576b"
             ],
             [
              0.6666666666666666,
              "#ed7953"
             ],
             [
              0.7777777777777778,
              "#fb9f3a"
             ],
             [
              0.8888888888888888,
              "#fdca26"
             ],
             [
              1,
              "#f0f921"
             ]
            ],
            "type": "histogram2dcontour"
           }
          ],
          "mesh3d": [
           {
            "colorbar": {
             "outlinewidth": 0,
             "ticks": ""
            },
            "type": "mesh3d"
           }
          ],
          "parcoords": [
           {
            "line": {
             "colorbar": {
              "outlinewidth": 0,
              "ticks": ""
             }
            },
            "type": "parcoords"
           }
          ],
          "pie": [
           {
            "automargin": true,
            "type": "pie"
           }
          ],
          "scatter": [
           {
            "fillpattern": {
             "fillmode": "overlay",
             "size": 10,
             "solidity": 0.2
            },
            "type": "scatter"
           }
          ],
          "scatter3d": [
           {
            "line": {
             "colorbar": {
              "outlinewidth": 0,
              "ticks": ""
             }
            },
            "marker": {
             "colorbar": {
              "outlinewidth": 0,
              "ticks": ""
             }
            },
            "type": "scatter3d"
           }
          ],
          "scattercarpet": [
           {
            "marker": {
             "colorbar": {
              "outlinewidth": 0,
              "ticks": ""
             }
            },
            "type": "scattercarpet"
           }
          ],
          "scattergeo": [
           {
            "marker": {
             "colorbar": {
              "outlinewidth": 0,
              "ticks": ""
             }
            },
            "type": "scattergeo"
           }
          ],
          "scattergl": [
           {
            "marker": {
             "colorbar": {
              "outlinewidth": 0,
              "ticks": ""
             }
            },
            "type": "scattergl"
           }
          ],
          "scattermapbox": [
           {
            "marker": {
             "colorbar": {
              "outlinewidth": 0,
              "ticks": ""
             }
            },
            "type": "scattermapbox"
           }
          ],
          "scatterpolar": [
           {
            "marker": {
             "colorbar": {
              "outlinewidth": 0,
              "ticks": ""
             }
            },
            "type": "scatterpolar"
           }
          ],
          "scatterpolargl": [
           {
            "marker": {
             "colorbar": {
              "outlinewidth": 0,
              "ticks": ""
             }
            },
            "type": "scatterpolargl"
           }
          ],
          "scatterternary": [
           {
            "marker": {
             "colorbar": {
              "outlinewidth": 0,
              "ticks": ""
             }
            },
            "type": "scatterternary"
           }
          ],
          "surface": [
           {
            "colorbar": {
             "outlinewidth": 0,
             "ticks": ""
            },
            "colorscale": [
             [
              0,
              "#0d0887"
             ],
             [
              0.1111111111111111,
              "#46039f"
             ],
             [
              0.2222222222222222,
              "#7201a8"
             ],
             [
              0.3333333333333333,
              "#9c179e"
             ],
             [
              0.4444444444444444,
              "#bd3786"
             ],
             [
              0.5555555555555556,
              "#d8576b"
             ],
             [
              0.6666666666666666,
              "#ed7953"
             ],
             [
              0.7777777777777778,
              "#fb9f3a"
             ],
             [
              0.8888888888888888,
              "#fdca26"
             ],
             [
              1,
              "#f0f921"
             ]
            ],
            "type": "surface"
           }
          ],
          "table": [
           {
            "cells": {
             "fill": {
              "color": "#EBF0F8"
             },
             "line": {
              "color": "white"
             }
            },
            "header": {
             "fill": {
              "color": "#C8D4E3"
             },
             "line": {
              "color": "white"
             }
            },
            "type": "table"
           }
          ]
         },
         "layout": {
          "annotationdefaults": {
           "arrowcolor": "#2a3f5f",
           "arrowhead": 0,
           "arrowwidth": 1
          },
          "autotypenumbers": "strict",
          "coloraxis": {
           "colorbar": {
            "outlinewidth": 0,
            "ticks": ""
           }
          },
          "colorscale": {
           "diverging": [
            [
             0,
             "#8e0152"
            ],
            [
             0.1,
             "#c51b7d"
            ],
            [
             0.2,
             "#de77ae"
            ],
            [
             0.3,
             "#f1b6da"
            ],
            [
             0.4,
             "#fde0ef"
            ],
            [
             0.5,
             "#f7f7f7"
            ],
            [
             0.6,
             "#e6f5d0"
            ],
            [
             0.7,
             "#b8e186"
            ],
            [
             0.8,
             "#7fbc41"
            ],
            [
             0.9,
             "#4d9221"
            ],
            [
             1,
             "#276419"
            ]
           ],
           "sequential": [
            [
             0,
             "#0d0887"
            ],
            [
             0.1111111111111111,
             "#46039f"
            ],
            [
             0.2222222222222222,
             "#7201a8"
            ],
            [
             0.3333333333333333,
             "#9c179e"
            ],
            [
             0.4444444444444444,
             "#bd3786"
            ],
            [
             0.5555555555555556,
             "#d8576b"
            ],
            [
             0.6666666666666666,
             "#ed7953"
            ],
            [
             0.7777777777777778,
             "#fb9f3a"
            ],
            [
             0.8888888888888888,
             "#fdca26"
            ],
            [
             1,
             "#f0f921"
            ]
           ],
           "sequentialminus": [
            [
             0,
             "#0d0887"
            ],
            [
             0.1111111111111111,
             "#46039f"
            ],
            [
             0.2222222222222222,
             "#7201a8"
            ],
            [
             0.3333333333333333,
             "#9c179e"
            ],
            [
             0.4444444444444444,
             "#bd3786"
            ],
            [
             0.5555555555555556,
             "#d8576b"
            ],
            [
             0.6666666666666666,
             "#ed7953"
            ],
            [
             0.7777777777777778,
             "#fb9f3a"
            ],
            [
             0.8888888888888888,
             "#fdca26"
            ],
            [
             1,
             "#f0f921"
            ]
           ]
          },
          "colorway": [
           "#636efa",
           "#EF553B",
           "#00cc96",
           "#ab63fa",
           "#FFA15A",
           "#19d3f3",
           "#FF6692",
           "#B6E880",
           "#FF97FF",
           "#FECB52"
          ],
          "font": {
           "color": "#2a3f5f"
          },
          "geo": {
           "bgcolor": "white",
           "lakecolor": "white",
           "landcolor": "#E5ECF6",
           "showlakes": true,
           "showland": true,
           "subunitcolor": "white"
          },
          "hoverlabel": {
           "align": "left"
          },
          "hovermode": "closest",
          "mapbox": {
           "style": "light"
          },
          "paper_bgcolor": "white",
          "plot_bgcolor": "#E5ECF6",
          "polar": {
           "angularaxis": {
            "gridcolor": "white",
            "linecolor": "white",
            "ticks": ""
           },
           "bgcolor": "#E5ECF6",
           "radialaxis": {
            "gridcolor": "white",
            "linecolor": "white",
            "ticks": ""
           }
          },
          "scene": {
           "xaxis": {
            "backgroundcolor": "#E5ECF6",
            "gridcolor": "white",
            "gridwidth": 2,
            "linecolor": "white",
            "showbackground": true,
            "ticks": "",
            "zerolinecolor": "white"
           },
           "yaxis": {
            "backgroundcolor": "#E5ECF6",
            "gridcolor": "white",
            "gridwidth": 2,
            "linecolor": "white",
            "showbackground": true,
            "ticks": "",
            "zerolinecolor": "white"
           },
           "zaxis": {
            "backgroundcolor": "#E5ECF6",
            "gridcolor": "white",
            "gridwidth": 2,
            "linecolor": "white",
            "showbackground": true,
            "ticks": "",
            "zerolinecolor": "white"
           }
          },
          "shapedefaults": {
           "line": {
            "color": "#2a3f5f"
           }
          },
          "ternary": {
           "aaxis": {
            "gridcolor": "white",
            "linecolor": "white",
            "ticks": ""
           },
           "baxis": {
            "gridcolor": "white",
            "linecolor": "white",
            "ticks": ""
           },
           "bgcolor": "#E5ECF6",
           "caxis": {
            "gridcolor": "white",
            "linecolor": "white",
            "ticks": ""
           }
          },
          "title": {
           "x": 0.05
          },
          "xaxis": {
           "automargin": true,
           "gridcolor": "white",
           "linecolor": "white",
           "ticks": "",
           "title": {
            "standoff": 15
           },
           "zerolinecolor": "white",
           "zerolinewidth": 2
          },
          "yaxis": {
           "automargin": true,
           "gridcolor": "white",
           "linecolor": "white",
           "ticks": "",
           "title": {
            "standoff": 15
           },
           "zerolinecolor": "white",
           "zerolinewidth": 2
          }
         }
        },
        "xaxis": {
         "anchor": "y",
         "domain": [
          0,
          1
         ],
         "title": {
          "text": "Financial Year"
         }
        },
        "yaxis": {
         "anchor": "x",
         "domain": [
          0,
          1
         ],
         "title": {
          "text": "value"
         }
        }
       }
      },
      "text/html": [
       "<div>                            <div id=\"449bc4e1-ee54-4250-a9ef-4d3469bfa601\" class=\"plotly-graph-div\" style=\"height:525px; width:100%;\"></div>            <script type=\"text/javascript\">                require([\"plotly\"], function(Plotly) {                    window.PLOTLYENV=window.PLOTLYENV || {};                                    if (document.getElementById(\"449bc4e1-ee54-4250-a9ef-4d3469bfa601\")) {                    Plotly.newPlot(                        \"449bc4e1-ee54-4250-a9ef-4d3469bfa601\",                        [{\"hovertemplate\":\"variable=Gross Domestic Product (in Rs. Cr) at 2004-05 Prices<br>Financial Year=%{x}<br>value=%{y}<extra></extra>\",\"legendgroup\":\"Gross Domestic Product (in Rs. Cr) at 2004-05 Prices\",\"line\":{\"color\":\"#636efa\",\"dash\":\"solid\"},\"marker\":{\"symbol\":\"circle\"},\"mode\":\"lines\",\"name\":\"Gross Domestic Product (in Rs. Cr) at 2004-05 Prices\",\"orientation\":\"v\",\"showlegend\":true,\"x\":[\"1951-01-01T00:00:00\",\"1952-01-01T00:00:00\",\"1953-01-01T00:00:00\",\"1954-01-01T00:00:00\",\"1955-01-01T00:00:00\",\"1956-01-01T00:00:00\",\"1957-01-01T00:00:00\",\"1958-01-01T00:00:00\",\"1959-01-01T00:00:00\",\"1960-01-01T00:00:00\",\"1961-01-01T00:00:00\",\"1962-01-01T00:00:00\",\"1963-01-01T00:00:00\",\"1964-01-01T00:00:00\",\"1965-01-01T00:00:00\",\"1966-01-01T00:00:00\",\"1967-01-01T00:00:00\",\"1968-01-01T00:00:00\",\"1969-01-01T00:00:00\",\"1970-01-01T00:00:00\",\"1971-01-01T00:00:00\",\"1972-01-01T00:00:00\",\"1973-01-01T00:00:00\",\"1974-01-01T00:00:00\",\"1975-01-01T00:00:00\",\"1976-01-01T00:00:00\",\"1977-01-01T00:00:00\",\"1978-01-01T00:00:00\",\"1979-01-01T00:00:00\",\"1980-01-01T00:00:00\",\"1981-01-01T00:00:00\",\"1982-01-01T00:00:00\",\"1983-01-01T00:00:00\",\"1984-01-01T00:00:00\",\"1985-01-01T00:00:00\",\"1986-01-01T00:00:00\",\"1987-01-01T00:00:00\",\"1988-01-01T00:00:00\",\"1989-01-01T00:00:00\",\"1990-01-01T00:00:00\",\"1991-01-01T00:00:00\",\"1992-01-01T00:00:00\",\"1993-01-01T00:00:00\",\"1994-01-01T00:00:00\",\"1995-01-01T00:00:00\",\"1996-01-01T00:00:00\",\"1997-01-01T00:00:00\",\"1998-01-01T00:00:00\",\"1999-01-01T00:00:00\",\"2000-01-01T00:00:00\",\"2001-01-01T00:00:00\",\"2002-01-01T00:00:00\",\"2003-01-01T00:00:00\",\"2004-01-01T00:00:00\",\"2005-01-01T00:00:00\",\"2006-01-01T00:00:00\",\"2007-01-01T00:00:00\",\"2008-01-01T00:00:00\",\"2009-01-01T00:00:00\",\"2010-01-01T00:00:00\",\"2011-01-01T00:00:00\",\"2012-01-01T00:00:00\"],\"xaxis\":\"x\",\"y\":[286146.8592,294267.1373,312177.40520000004,325430.7426,333766.25690000004,352765.7509,348500.15910000005,374948.1331,383153.2012,410279.49559999997,423011.048,431959.65969999996,453828.97079999995,488247.2097,470402.16490000003,475189.54170000006,513860.32779999997,527270.2006000001,561629.7387000001,589786.5584,595741.4289,593843.4362,620871.8959,628079.0504,684634.0152,693191.2881,744971.9208,785964.6499,745082.8001,798506.2956000001,843426.4568,868091.7015000001,936269.6662,973357.407,1013865.97,1057612.2449999999,1094992.8320000002,1206243.442,1280228.04,1347889.4470000002,1367171.0359999998,1440503.925,1522343.645,1619694.475,1737740.933,1876319.275,1957031.948,2087828.107,2246275.52,2342774.224,2472051.974,2570689.8249999997,2777813.093,2971464.0,3253072.96576894,3564363.83808092,3896636.40949693,4158675.94794973,4516071.0,4937006.0,5243582.0,5503475.96954155],\"yaxis\":\"y\",\"type\":\"scatter\"},{\"hovertemplate\":\"variable=Agriculture & Allied Services (in Rs. Cr.) at 2004-05 Prices<br>Financial Year=%{x}<br>value=%{y}<extra></extra>\",\"legendgroup\":\"Agriculture & Allied Services (in Rs. Cr.) at 2004-05 Prices\",\"line\":{\"color\":\"#EF553B\",\"dash\":\"solid\"},\"marker\":{\"symbol\":\"circle\"},\"mode\":\"lines\",\"name\":\"Agriculture & Allied Services (in Rs. Cr.) at 2004-05 Prices\",\"orientation\":\"v\",\"showlegend\":true,\"x\":[\"1951-01-01T00:00:00\",\"1952-01-01T00:00:00\",\"1953-01-01T00:00:00\",\"1954-01-01T00:00:00\",\"1955-01-01T00:00:00\",\"1956-01-01T00:00:00\",\"1957-01-01T00:00:00\",\"1958-01-01T00:00:00\",\"1959-01-01T00:00:00\",\"1960-01-01T00:00:00\",\"1961-01-01T00:00:00\",\"1962-01-01T00:00:00\",\"1963-01-01T00:00:00\",\"1964-01-01T00:00:00\",\"1965-01-01T00:00:00\",\"1966-01-01T00:00:00\",\"1967-01-01T00:00:00\",\"1968-01-01T00:00:00\",\"1969-01-01T00:00:00\",\"1970-01-01T00:00:00\",\"1971-01-01T00:00:00\",\"1972-01-01T00:00:00\",\"1973-01-01T00:00:00\",\"1974-01-01T00:00:00\",\"1975-01-01T00:00:00\",\"1976-01-01T00:00:00\",\"1977-01-01T00:00:00\",\"1978-01-01T00:00:00\",\"1979-01-01T00:00:00\",\"1980-01-01T00:00:00\",\"1981-01-01T00:00:00\",\"1982-01-01T00:00:00\",\"1983-01-01T00:00:00\",\"1984-01-01T00:00:00\",\"1985-01-01T00:00:00\",\"1986-01-01T00:00:00\",\"1987-01-01T00:00:00\",\"1988-01-01T00:00:00\",\"1989-01-01T00:00:00\",\"1990-01-01T00:00:00\",\"1991-01-01T00:00:00\",\"1992-01-01T00:00:00\",\"1993-01-01T00:00:00\",\"1994-01-01T00:00:00\",\"1995-01-01T00:00:00\",\"1996-01-01T00:00:00\",\"1997-01-01T00:00:00\",\"1998-01-01T00:00:00\",\"1999-01-01T00:00:00\",\"2000-01-01T00:00:00\",\"2001-01-01T00:00:00\",\"2002-01-01T00:00:00\",\"2003-01-01T00:00:00\",\"2004-01-01T00:00:00\",\"2005-01-01T00:00:00\",\"2006-01-01T00:00:00\",\"2007-01-01T00:00:00\",\"2008-01-01T00:00:00\",\"2009-01-01T00:00:00\",\"2010-01-01T00:00:00\",\"2011-01-01T00:00:00\",\"2012-01-01T00:00:00\"],\"xaxis\":\"x\",\"y\":[147215.64108196,151858.73630313302,163553.252821664,168360.958740467,166906.301162504,175979.57124596002,168074.67926632898,185009.89940829598,183147.293579686,195482.360421601,195646.97111923,191755.359517669,196241.00102806598,214342.81002714497,190674.65450279802,187962.156485342,215913.768641476,215572.022519224,229427.949067496,245699.358678805,241086.68065175897,228987.79437600903,245479.281333062,241739.75570213597,272899.487215327,257130.855930472,282937.161277286,289451.808560635,252475.235982305,285014.813295959,298130.263863734,297293.00992963096,327381.958419686,332571.264853139,333616.44744676,332250.339974136,326974.88038059,378112.59901482397,382608.942918228,397971.05853382,390200.720438231,416152.996823509,429980.5408778269,450258.337771063,447127.344544422,491483.7151054539,478932.558649166,509203.272908272,522794.556699871,522754.7294486099,554157.0742792439,517559.24155757,564391.009571678,565426.0,594487.0,619190.0,655080.0,655689.0,660987.0,713477.0,739495.0,752746.3313920799],\"yaxis\":\"y\",\"type\":\"scatter\"},{\"hovertemplate\":\"variable=Agriculture (in Rs. Cr.) at 2004-05 Prices<br>Financial Year=%{x}<br>value=%{y}<extra></extra>\",\"legendgroup\":\"Agriculture (in Rs. Cr.) at 2004-05 Prices\",\"line\":{\"color\":\"#00cc96\",\"dash\":\"solid\"},\"marker\":{\"symbol\":\"circle\"},\"mode\":\"lines\",\"name\":\"Agriculture (in Rs. Cr.) at 2004-05 Prices\",\"orientation\":\"v\",\"showlegend\":true,\"x\":[\"1951-01-01T00:00:00\",\"1952-01-01T00:00:00\",\"1953-01-01T00:00:00\",\"1954-01-01T00:00:00\",\"1955-01-01T00:00:00\",\"1956-01-01T00:00:00\",\"1957-01-01T00:00:00\",\"1958-01-01T00:00:00\",\"1959-01-01T00:00:00\",\"1960-01-01T00:00:00\",\"1961-01-01T00:00:00\",\"1962-01-01T00:00:00\",\"1963-01-01T00:00:00\",\"1964-01-01T00:00:00\",\"1965-01-01T00:00:00\",\"1966-01-01T00:00:00\",\"1967-01-01T00:00:00\",\"1968-01-01T00:00:00\",\"1969-01-01T00:00:00\",\"1970-01-01T00:00:00\",\"1971-01-01T00:00:00\",\"1972-01-01T00:00:00\",\"1973-01-01T00:00:00\",\"1974-01-01T00:00:00\",\"1975-01-01T00:00:00\",\"1976-01-01T00:00:00\",\"1977-01-01T00:00:00\",\"1978-01-01T00:00:00\",\"1979-01-01T00:00:00\",\"1980-01-01T00:00:00\",\"1981-01-01T00:00:00\",\"1982-01-01T00:00:00\",\"1983-01-01T00:00:00\",\"1984-01-01T00:00:00\",\"1985-01-01T00:00:00\",\"1986-01-01T00:00:00\",\"1987-01-01T00:00:00\",\"1988-01-01T00:00:00\",\"1989-01-01T00:00:00\",\"1990-01-01T00:00:00\",\"1991-01-01T00:00:00\",\"1992-01-01T00:00:00\",\"1993-01-01T00:00:00\",\"1994-01-01T00:00:00\",\"1995-01-01T00:00:00\",\"1996-01-01T00:00:00\",\"1997-01-01T00:00:00\",\"1998-01-01T00:00:00\",\"1999-01-01T00:00:00\",\"2000-01-01T00:00:00\",\"2001-01-01T00:00:00\",\"2002-01-01T00:00:00\",\"2003-01-01T00:00:00\",\"2004-01-01T00:00:00\",\"2005-01-01T00:00:00\",\"2006-01-01T00:00:00\",\"2007-01-01T00:00:00\",\"2008-01-01T00:00:00\",\"2009-01-01T00:00:00\",\"2010-01-01T00:00:00\",\"2011-01-01T00:00:00\",\"2012-01-01T00:00:00\"],\"xaxis\":\"x\",\"y\":[118877.048078827,123822.315336893,134957.57698600902,138731.006537799,136678.88883207,144859.325260096,137497.493162771,152961.265382439,150729.727549434,161707.996587182,161186.556842284,157727.01653711498,160681.937734318,177283.90638639798,153404.20882165298,149894.302581801,175484.098234653,174878.555305094,187555.708672994,201455.161657968,196089.378476597,185055.040649074,200647.771085222,195119.388413506,222817.37056185998,209266.27056734002,235455.27577691895,240148.23348100303,208060.065093345,238101.722654252,249645.225220645,249295.742779104,276103.590029425,280200.26879254397,280747.215239899,279649.10055096,274819.56989043095,321114.201473085,322383.766620286,336176.155006963,328407.105364659,351584.31868339196,362764.19663302,379959.499344859,376243.391425441,415376.536244035,403029.52655763103,431719.330535129,442112.6414238651,439432.310042123,467814.52041992,429751.699609595,476324.268092513,476634.0,502996.0,523745.0,556956.0,555442.0,557715.0,606848.0,630540.0,null],\"yaxis\":\"y\",\"type\":\"scatter\"},{\"hovertemplate\":\"variable=Industry (in Rs. Cr.) at 2004-05 Prices<br>Financial Year=%{x}<br>value=%{y}<extra></extra>\",\"legendgroup\":\"Industry (in Rs. Cr.) at 2004-05 Prices\",\"line\":{\"color\":\"#ab63fa\",\"dash\":\"solid\"},\"marker\":{\"symbol\":\"circle\"},\"mode\":\"lines\",\"name\":\"Industry (in Rs. Cr.) at 2004-05 Prices\",\"orientation\":\"v\",\"showlegend\":true,\"x\":[\"1951-01-01T00:00:00\",\"1952-01-01T00:00:00\",\"1953-01-01T00:00:00\",\"1954-01-01T00:00:00\",\"1955-01-01T00:00:00\",\"1956-01-01T00:00:00\",\"1957-01-01T00:00:00\",\"1958-01-01T00:00:00\",\"1959-01-01T00:00:00\",\"1960-01-01T00:00:00\",\"1961-01-01T00:00:00\",\"1962-01-01T00:00:00\",\"1963-01-01T00:00:00\",\"1964-01-01T00:00:00\",\"1965-01-01T00:00:00\",\"1966-01-01T00:00:00\",\"1967-01-01T00:00:00\",\"1968-01-01T00:00:00\",\"1969-01-01T00:00:00\",\"1970-01-01T00:00:00\",\"1971-01-01T00:00:00\",\"1972-01-01T00:00:00\",\"1973-01-01T00:00:00\",\"1974-01-01T00:00:00\",\"1975-01-01T00:00:00\",\"1976-01-01T00:00:00\",\"1977-01-01T00:00:00\",\"1978-01-01T00:00:00\",\"1979-01-01T00:00:00\",\"1980-01-01T00:00:00\",\"1981-01-01T00:00:00\",\"1982-01-01T00:00:00\",\"1983-01-01T00:00:00\",\"1984-01-01T00:00:00\",\"1985-01-01T00:00:00\",\"1986-01-01T00:00:00\",\"1987-01-01T00:00:00\",\"1988-01-01T00:00:00\",\"1989-01-01T00:00:00\",\"1990-01-01T00:00:00\",\"1991-01-01T00:00:00\",\"1992-01-01T00:00:00\",\"1993-01-01T00:00:00\",\"1994-01-01T00:00:00\",\"1995-01-01T00:00:00\",\"1996-01-01T00:00:00\",\"1997-01-01T00:00:00\",\"1998-01-01T00:00:00\",\"1999-01-01T00:00:00\",\"2000-01-01T00:00:00\",\"2001-01-01T00:00:00\",\"2002-01-01T00:00:00\",\"2003-01-01T00:00:00\",\"2004-01-01T00:00:00\",\"2005-01-01T00:00:00\",\"2006-01-01T00:00:00\",\"2007-01-01T00:00:00\",\"2008-01-01T00:00:00\",\"2009-01-01T00:00:00\",\"2010-01-01T00:00:00\",\"2011-01-01T00:00:00\",\"2012-01-01T00:00:00\"],\"xaxis\":\"x\",\"y\":[47767.952076714006,47738.629802819996,50409.128114652995,54574.451094847,60310.510849311,65479.962527719996,64841.854378339,69335.25448404599,74081.44725568201,82412.644782316,88005.758060268,93995.713982118,103220.96006945499,110194.954775621,114705.939857285,118823.443277867,122754.60064615699,128685.280052253,138291.30354502698,139321.303028158,142814.246508238,148011.438342159,148920.039468264,151023.852445456,161723.378873807,175745.24811041198,188059.068251558,201012.15615245298,194656.21011745103,204861.19563380702,221264.279487225,224401.75438974096,242074.632335145,251942.162305781,262984.57791197504,278124.168108658,293614.731515025,320331.487824256,346926.288949108,372359.78002312407,373634.185048675,385646.941887954,406847.539496331,444121.941562346,494262.3370126,525864.105413749,546965.734879535,569655.818321845,603631.436819366,640043.2753765051,656736.5474033899,704095.4906857699,755625.377340667,829783.0,910413.0,1021204.0,1119995.0,1169736.0,1276919.0,1393879.0,1442498.0,1487533.36181175],\"yaxis\":\"y\",\"type\":\"scatter\"},{\"hovertemplate\":\"variable=Mining and Quarrying (in Rs. Cr.) at 2004-05 Prices<br>Financial Year=%{x}<br>value=%{y}<extra></extra>\",\"legendgroup\":\"Mining and Quarrying (in Rs. Cr.) at 2004-05 Prices\",\"line\":{\"color\":\"#FFA15A\",\"dash\":\"solid\"},\"marker\":{\"symbol\":\"circle\"},\"mode\":\"lines\",\"name\":\"Mining and Quarrying (in Rs. Cr.) at 2004-05 Prices\",\"orientation\":\"v\",\"showlegend\":true,\"x\":[\"1951-01-01T00:00:00\",\"1952-01-01T00:00:00\",\"1953-01-01T00:00:00\",\"1954-01-01T00:00:00\",\"1955-01-01T00:00:00\",\"1956-01-01T00:00:00\",\"1957-01-01T00:00:00\",\"1958-01-01T00:00:00\",\"1959-01-01T00:00:00\",\"1960-01-01T00:00:00\",\"1961-01-01T00:00:00\",\"1962-01-01T00:00:00\",\"1963-01-01T00:00:00\",\"1964-01-01T00:00:00\",\"1965-01-01T00:00:00\",\"1966-01-01T00:00:00\",\"1967-01-01T00:00:00\",\"1968-01-01T00:00:00\",\"1969-01-01T00:00:00\",\"1970-01-01T00:00:00\",\"1971-01-01T00:00:00\",\"1972-01-01T00:00:00\",\"1973-01-01T00:00:00\",\"1974-01-01T00:00:00\",\"1975-01-01T00:00:00\",\"1976-01-01T00:00:00\",\"1977-01-01T00:00:00\",\"1978-01-01T00:00:00\",\"1979-01-01T00:00:00\",\"1980-01-01T00:00:00\",\"1981-01-01T00:00:00\",\"1982-01-01T00:00:00\",\"1983-01-01T00:00:00\",\"1984-01-01T00:00:00\",\"1985-01-01T00:00:00\",\"1986-01-01T00:00:00\",\"1987-01-01T00:00:00\",\"1988-01-01T00:00:00\",\"1989-01-01T00:00:00\",\"1990-01-01T00:00:00\",\"1991-01-01T00:00:00\",\"1992-01-01T00:00:00\",\"1993-01-01T00:00:00\",\"1994-01-01T00:00:00\",\"1995-01-01T00:00:00\",\"1996-01-01T00:00:00\",\"1997-01-01T00:00:00\",\"1998-01-01T00:00:00\",\"1999-01-01T00:00:00\",\"2000-01-01T00:00:00\",\"2001-01-01T00:00:00\",\"2002-01-01T00:00:00\",\"2003-01-01T00:00:00\",\"2004-01-01T00:00:00\",\"2005-01-01T00:00:00\",\"2006-01-01T00:00:00\",\"2007-01-01T00:00:00\",\"2008-01-01T00:00:00\",\"2009-01-01T00:00:00\",\"2010-01-01T00:00:00\",\"2011-01-01T00:00:00\",\"2012-01-01T00:00:00\"],\"xaxis\":\"x\",\"y\":[5771.6876959,5904.766746105,5993.486112908001,6249.786505894,6348.363580119,6671.2034982079995,7104.9426248,7326.741041807,7703.798350719,8857.150119157,9367.286478274,10478.742990166,10789.260773975999,10944.519665881,12230.950484523,12519.288426633,12898.810162401,13263.545337035,13919.082880634,12965.349687503001,13307.905020436001,14094.057187384002,14271.49592099,14978.786428557998,16795.069021162002,17391.460320226004,17936.098655321002,18422.645273256,18621.209321188002,20890.946455229,23745.429708392003,26568.677497054996,27337.762940401,27658.24101425,29167.034006165,32738.881775316997,33973.93455650099,39468.090900938,42465.675632731,46909.408135344,48484.348479085995,48930.678788679,49611.033117903,54218.949812881,57399.56945648699,57718.089724305006,63380.265496549,65170.971558234,67901.611245053,69471.901615775,70765.51188702599,76721.054200687,78792.336105175,85028.0,86141.0,92578.0,95997.0,98055.0,103830.0,108938.0,108249.0,108713.492560351],\"yaxis\":\"y\",\"type\":\"scatter\"}],                        {\"template\":{\"data\":{\"histogram2dcontour\":[{\"type\":\"histogram2dcontour\",\"colorbar\":{\"outlinewidth\":0,\"ticks\":\"\"},\"colorscale\":[[0.0,\"#0d0887\"],[0.1111111111111111,\"#46039f\"],[0.2222222222222222,\"#7201a8\"],[0.3333333333333333,\"#9c179e\"],[0.4444444444444444,\"#bd3786\"],[0.5555555555555556,\"#d8576b\"],[0.6666666666666666,\"#ed7953\"],[0.7777777777777778,\"#fb9f3a\"],[0.8888888888888888,\"#fdca26\"],[1.0,\"#f0f921\"]]}],\"choropleth\":[{\"type\":\"choropleth\",\"colorbar\":{\"outlinewidth\":0,\"ticks\":\"\"}}],\"histogram2d\":[{\"type\":\"histogram2d\",\"colorbar\":{\"outlinewidth\":0,\"ticks\":\"\"},\"colorscale\":[[0.0,\"#0d0887\"],[0.1111111111111111,\"#46039f\"],[0.2222222222222222,\"#7201a8\"],[0.3333333333333333,\"#9c179e\"],[0.4444444444444444,\"#bd3786\"],[0.5555555555555556,\"#d8576b\"],[0.6666666666666666,\"#ed7953\"],[0.7777777777777778,\"#fb9f3a\"],[0.8888888888888888,\"#fdca26\"],[1.0,\"#f0f921\"]]}],\"heatmap\":[{\"type\":\"heatmap\",\"colorbar\":{\"outlinewidth\":0,\"ticks\":\"\"},\"colorscale\":[[0.0,\"#0d0887\"],[0.1111111111111111,\"#46039f\"],[0.2222222222222222,\"#7201a8\"],[0.3333333333333333,\"#9c179e\"],[0.4444444444444444,\"#bd3786\"],[0.5555555555555556,\"#d8576b\"],[0.6666666666666666,\"#ed7953\"],[0.7777777777777778,\"#fb9f3a\"],[0.8888888888888888,\"#fdca26\"],[1.0,\"#f0f921\"]]}],\"heatmapgl\":[{\"type\":\"heatmapgl\",\"colorbar\":{\"outlinewidth\":0,\"ticks\":\"\"},\"colorscale\":[[0.0,\"#0d0887\"],[0.1111111111111111,\"#46039f\"],[0.2222222222222222,\"#7201a8\"],[0.3333333333333333,\"#9c179e\"],[0.4444444444444444,\"#bd3786\"],[0.5555555555555556,\"#d8576b\"],[0.6666666666666666,\"#ed7953\"],[0.7777777777777778,\"#fb9f3a\"],[0.8888888888888888,\"#fdca26\"],[1.0,\"#f0f921\"]]}],\"contourcarpet\":[{\"type\":\"contourcarpet\",\"colorbar\":{\"outlinewidth\":0,\"ticks\":\"\"}}],\"contour\":[{\"type\":\"contour\",\"colorbar\":{\"outlinewidth\":0,\"ticks\":\"\"},\"colorscale\":[[0.0,\"#0d0887\"],[0.1111111111111111,\"#46039f\"],[0.2222222222222222,\"#7201a8\"],[0.3333333333333333,\"#9c179e\"],[0.4444444444444444,\"#bd3786\"],[0.5555555555555556,\"#d8576b\"],[0.6666666666666666,\"#ed7953\"],[0.7777777777777778,\"#fb9f3a\"],[0.8888888888888888,\"#fdca26\"],[1.0,\"#f0f921\"]]}],\"surface\":[{\"type\":\"surface\",\"colorbar\":{\"outlinewidth\":0,\"ticks\":\"\"},\"colorscale\":[[0.0,\"#0d0887\"],[0.1111111111111111,\"#46039f\"],[0.2222222222222222,\"#7201a8\"],[0.3333333333333333,\"#9c179e\"],[0.4444444444444444,\"#bd3786\"],[0.5555555555555556,\"#d8576b\"],[0.6666666666666666,\"#ed7953\"],[0.7777777777777778,\"#fb9f3a\"],[0.8888888888888888,\"#fdca26\"],[1.0,\"#f0f921\"]]}],\"mesh3d\":[{\"type\":\"mesh3d\",\"colorbar\":{\"outlinewidth\":0,\"ticks\":\"\"}}],\"scatter\":[{\"fillpattern\":{\"fillmode\":\"overlay\",\"size\":10,\"solidity\":0.2},\"type\":\"scatter\"}],\"parcoords\":[{\"type\":\"parcoords\",\"line\":{\"colorbar\":{\"outlinewidth\":0,\"ticks\":\"\"}}}],\"scatterpolargl\":[{\"type\":\"scatterpolargl\",\"marker\":{\"colorbar\":{\"outlinewidth\":0,\"ticks\":\"\"}}}],\"bar\":[{\"error_x\":{\"color\":\"#2a3f5f\"},\"error_y\":{\"color\":\"#2a3f5f\"},\"marker\":{\"line\":{\"color\":\"#E5ECF6\",\"width\":0.5},\"pattern\":{\"fillmode\":\"overlay\",\"size\":10,\"solidity\":0.2}},\"type\":\"bar\"}],\"scattergeo\":[{\"type\":\"scattergeo\",\"marker\":{\"colorbar\":{\"outlinewidth\":0,\"ticks\":\"\"}}}],\"scatterpolar\":[{\"type\":\"scatterpolar\",\"marker\":{\"colorbar\":{\"outlinewidth\":0,\"ticks\":\"\"}}}],\"histogram\":[{\"marker\":{\"pattern\":{\"fillmode\":\"overlay\",\"size\":10,\"solidity\":0.2}},\"type\":\"histogram\"}],\"scattergl\":[{\"type\":\"scattergl\",\"marker\":{\"colorbar\":{\"outlinewidth\":0,\"ticks\":\"\"}}}],\"scatter3d\":[{\"type\":\"scatter3d\",\"line\":{\"colorbar\":{\"outlinewidth\":0,\"ticks\":\"\"}},\"marker\":{\"colorbar\":{\"outlinewidth\":0,\"ticks\":\"\"}}}],\"scattermapbox\":[{\"type\":\"scattermapbox\",\"marker\":{\"colorbar\":{\"outlinewidth\":0,\"ticks\":\"\"}}}],\"scatterternary\":[{\"type\":\"scatterternary\",\"marker\":{\"colorbar\":{\"outlinewidth\":0,\"ticks\":\"\"}}}],\"scattercarpet\":[{\"type\":\"scattercarpet\",\"marker\":{\"colorbar\":{\"outlinewidth\":0,\"ticks\":\"\"}}}],\"carpet\":[{\"aaxis\":{\"endlinecolor\":\"#2a3f5f\",\"gridcolor\":\"white\",\"linecolor\":\"white\",\"minorgridcolor\":\"white\",\"startlinecolor\":\"#2a3f5f\"},\"baxis\":{\"endlinecolor\":\"#2a3f5f\",\"gridcolor\":\"white\",\"linecolor\":\"white\",\"minorgridcolor\":\"white\",\"startlinecolor\":\"#2a3f5f\"},\"type\":\"carpet\"}],\"table\":[{\"cells\":{\"fill\":{\"color\":\"#EBF0F8\"},\"line\":{\"color\":\"white\"}},\"header\":{\"fill\":{\"color\":\"#C8D4E3\"},\"line\":{\"color\":\"white\"}},\"type\":\"table\"}],\"barpolar\":[{\"marker\":{\"line\":{\"color\":\"#E5ECF6\",\"width\":0.5},\"pattern\":{\"fillmode\":\"overlay\",\"size\":10,\"solidity\":0.2}},\"type\":\"barpolar\"}],\"pie\":[{\"automargin\":true,\"type\":\"pie\"}]},\"layout\":{\"autotypenumbers\":\"strict\",\"colorway\":[\"#636efa\",\"#EF553B\",\"#00cc96\",\"#ab63fa\",\"#FFA15A\",\"#19d3f3\",\"#FF6692\",\"#B6E880\",\"#FF97FF\",\"#FECB52\"],\"font\":{\"color\":\"#2a3f5f\"},\"hovermode\":\"closest\",\"hoverlabel\":{\"align\":\"left\"},\"paper_bgcolor\":\"white\",\"plot_bgcolor\":\"#E5ECF6\",\"polar\":{\"bgcolor\":\"#E5ECF6\",\"angularaxis\":{\"gridcolor\":\"white\",\"linecolor\":\"white\",\"ticks\":\"\"},\"radialaxis\":{\"gridcolor\":\"white\",\"linecolor\":\"white\",\"ticks\":\"\"}},\"ternary\":{\"bgcolor\":\"#E5ECF6\",\"aaxis\":{\"gridcolor\":\"white\",\"linecolor\":\"white\",\"ticks\":\"\"},\"baxis\":{\"gridcolor\":\"white\",\"linecolor\":\"white\",\"ticks\":\"\"},\"caxis\":{\"gridcolor\":\"white\",\"linecolor\":\"white\",\"ticks\":\"\"}},\"coloraxis\":{\"colorbar\":{\"outlinewidth\":0,\"ticks\":\"\"}},\"colorscale\":{\"sequential\":[[0.0,\"#0d0887\"],[0.1111111111111111,\"#46039f\"],[0.2222222222222222,\"#7201a8\"],[0.3333333333333333,\"#9c179e\"],[0.4444444444444444,\"#bd3786\"],[0.5555555555555556,\"#d8576b\"],[0.6666666666666666,\"#ed7953\"],[0.7777777777777778,\"#fb9f3a\"],[0.8888888888888888,\"#fdca26\"],[1.0,\"#f0f921\"]],\"sequentialminus\":[[0.0,\"#0d0887\"],[0.1111111111111111,\"#46039f\"],[0.2222222222222222,\"#7201a8\"],[0.3333333333333333,\"#9c179e\"],[0.4444444444444444,\"#bd3786\"],[0.5555555555555556,\"#d8576b\"],[0.6666666666666666,\"#ed7953\"],[0.7777777777777778,\"#fb9f3a\"],[0.8888888888888888,\"#fdca26\"],[1.0,\"#f0f921\"]],\"diverging\":[[0,\"#8e0152\"],[0.1,\"#c51b7d\"],[0.2,\"#de77ae\"],[0.3,\"#f1b6da\"],[0.4,\"#fde0ef\"],[0.5,\"#f7f7f7\"],[0.6,\"#e6f5d0\"],[0.7,\"#b8e186\"],[0.8,\"#7fbc41\"],[0.9,\"#4d9221\"],[1,\"#276419\"]]},\"xaxis\":{\"gridcolor\":\"white\",\"linecolor\":\"white\",\"ticks\":\"\",\"title\":{\"standoff\":15},\"zerolinecolor\":\"white\",\"automargin\":true,\"zerolinewidth\":2},\"yaxis\":{\"gridcolor\":\"white\",\"linecolor\":\"white\",\"ticks\":\"\",\"title\":{\"standoff\":15},\"zerolinecolor\":\"white\",\"automargin\":true,\"zerolinewidth\":2},\"scene\":{\"xaxis\":{\"backgroundcolor\":\"#E5ECF6\",\"gridcolor\":\"white\",\"linecolor\":\"white\",\"showbackground\":true,\"ticks\":\"\",\"zerolinecolor\":\"white\",\"gridwidth\":2},\"yaxis\":{\"backgroundcolor\":\"#E5ECF6\",\"gridcolor\":\"white\",\"linecolor\":\"white\",\"showbackground\":true,\"ticks\":\"\",\"zerolinecolor\":\"white\",\"gridwidth\":2},\"zaxis\":{\"backgroundcolor\":\"#E5ECF6\",\"gridcolor\":\"white\",\"linecolor\":\"white\",\"showbackground\":true,\"ticks\":\"\",\"zerolinecolor\":\"white\",\"gridwidth\":2}},\"shapedefaults\":{\"line\":{\"color\":\"#2a3f5f\"}},\"annotationdefaults\":{\"arrowcolor\":\"#2a3f5f\",\"arrowhead\":0,\"arrowwidth\":1},\"geo\":{\"bgcolor\":\"white\",\"landcolor\":\"#E5ECF6\",\"subunitcolor\":\"white\",\"showland\":true,\"showlakes\":true,\"lakecolor\":\"white\"},\"title\":{\"x\":0.05},\"mapbox\":{\"style\":\"light\"}}},\"xaxis\":{\"anchor\":\"y\",\"domain\":[0.0,1.0],\"title\":{\"text\":\"Financial Year\"}},\"yaxis\":{\"anchor\":\"x\",\"domain\":[0.0,1.0],\"title\":{\"text\":\"value\"}},\"legend\":{\"title\":{\"text\":\"variable\"},\"tracegroupgap\":0},\"margin\":{\"t\":60}},                        {\"responsive\": true}                    ).then(function(){\n",
       "                            \n",
       "var gd = document.getElementById('449bc4e1-ee54-4250-a9ef-4d3469bfa601');\n",
       "var x = new MutationObserver(function (mutations, observer) {{\n",
       "        var display = window.getComputedStyle(gd).display;\n",
       "        if (!display || display === 'none') {{\n",
       "            console.log([gd, 'removed!']);\n",
       "            Plotly.purge(gd);\n",
       "            observer.disconnect();\n",
       "        }}\n",
       "}});\n",
       "\n",
       "// Listen for the removal of the full notebook cells\n",
       "var notebookContainer = gd.closest('#notebook-container');\n",
       "if (notebookContainer) {{\n",
       "    x.observe(notebookContainer, {childList: true});\n",
       "}}\n",
       "\n",
       "// Listen for the clearing of the current output cell\n",
       "var outputEl = gd.closest('.output');\n",
       "if (outputEl) {{\n",
       "    x.observe(outputEl, {childList: true});\n",
       "}}\n",
       "\n",
       "                        })                };                });            </script>        </div>"
      ]
     },
     "metadata": {},
     "output_type": "display_data"
    }
   ],
   "source": [
    "fig = px.line(gdp_major_sector, x='Financial Year', y=['Gross Domestic Product (in Rs. Cr) at 2004-05 Prices',\n",
    "       'Agriculture & Allied Services (in Rs. Cr.) at 2004-05 Prices',\n",
    "       'Agriculture (in Rs. Cr.) at 2004-05 Prices',\n",
    "       'Industry (in Rs. Cr.) at 2004-05 Prices',\n",
    "       'Mining and Quarrying (in Rs. Cr.) at 2004-05 Prices'])\n",
    "fig.show()\n"
   ]
  },
  {
   "cell_type": "code",
   "execution_count": 21,
   "metadata": {},
   "outputs": [],
   "source": [
    "gdp_major_sector.to_csv('gdp_major_sector.csv', index=False)"
   ]
  },
  {
   "attachments": {},
   "cell_type": "markdown",
   "metadata": {},
   "source": [
    "# annual growth rate \n"
   ]
  },
  {
   "cell_type": "code",
   "execution_count": 24,
   "metadata": {},
   "outputs": [
    {
     "data": {
      "text/html": [
       "<div>\n",
       "<style scoped>\n",
       "    .dataframe tbody tr th:only-of-type {\n",
       "        vertical-align: middle;\n",
       "    }\n",
       "\n",
       "    .dataframe tbody tr th {\n",
       "        vertical-align: top;\n",
       "    }\n",
       "\n",
       "    .dataframe thead th {\n",
       "        text-align: right;\n",
       "    }\n",
       "</style>\n",
       "<table border=\"1\" class=\"dataframe\">\n",
       "  <thead>\n",
       "    <tr style=\"text-align: right;\">\n",
       "      <th></th>\n",
       "      <th>Financial Year</th>\n",
       "      <th>GVA at Basic Prices</th>\n",
       "      <th>Gross Domestic Product</th>\n",
       "      <th>Gross National Income</th>\n",
       "      <th>Net National Income</th>\n",
       "      <th>Per Capita NNI</th>\n",
       "      <th>Gross Capital Formation</th>\n",
       "      <th>Net Capital Formation</th>\n",
       "    </tr>\n",
       "  </thead>\n",
       "  <tbody>\n",
       "    <tr>\n",
       "      <th>0</th>\n",
       "      <td>2021-22</td>\n",
       "      <td>8.1</td>\n",
       "      <td>8.7</td>\n",
       "      <td>8.5</td>\n",
       "      <td>8.5</td>\n",
       "      <td>7.5</td>\n",
       "      <td>-</td>\n",
       "      <td>-</td>\n",
       "    </tr>\n",
       "    <tr>\n",
       "      <th>1</th>\n",
       "      <td>2020-21</td>\n",
       "      <td>-4.8</td>\n",
       "      <td>-6.6</td>\n",
       "      <td>-7.0</td>\n",
       "      <td>-8.7</td>\n",
       "      <td>-9.7</td>\n",
       "      <td>31.5</td>\n",
       "      <td>18</td>\n",
       "    </tr>\n",
       "    <tr>\n",
       "      <th>2</th>\n",
       "      <td>2019-20</td>\n",
       "      <td>3.8</td>\n",
       "      <td>3.7</td>\n",
       "      <td>3.9</td>\n",
       "      <td>3.4</td>\n",
       "      <td>2.3</td>\n",
       "      <td>34.1</td>\n",
       "      <td>22.2</td>\n",
       "    </tr>\n",
       "    <tr>\n",
       "      <th>3</th>\n",
       "      <td>2018-19</td>\n",
       "      <td>5.8</td>\n",
       "      <td>6.5</td>\n",
       "      <td>6.5</td>\n",
       "      <td>6.2</td>\n",
       "      <td>5.2</td>\n",
       "      <td>37.3</td>\n",
       "      <td>25.8</td>\n",
       "    </tr>\n",
       "    <tr>\n",
       "      <th>4</th>\n",
       "      <td>2017-18</td>\n",
       "      <td>6.2</td>\n",
       "      <td>6.8</td>\n",
       "      <td>6.9</td>\n",
       "      <td>6.7</td>\n",
       "      <td>5.5</td>\n",
       "      <td>37.5</td>\n",
       "      <td>26.1</td>\n",
       "    </tr>\n",
       "    <tr>\n",
       "      <th>...</th>\n",
       "      <td>...</td>\n",
       "      <td>...</td>\n",
       "      <td>...</td>\n",
       "      <td>...</td>\n",
       "      <td>...</td>\n",
       "      <td>...</td>\n",
       "      <td>...</td>\n",
       "      <td>...</td>\n",
       "    </tr>\n",
       "    <tr>\n",
       "      <th>57</th>\n",
       "      <td>1964-65</td>\n",
       "      <td>7.6</td>\n",
       "      <td>7.5</td>\n",
       "      <td>7.4</td>\n",
       "      <td>7.4</td>\n",
       "      <td>5.1</td>\n",
       "      <td>16.6</td>\n",
       "      <td>11.2</td>\n",
       "    </tr>\n",
       "    <tr>\n",
       "      <th>58</th>\n",
       "      <td>1963-64</td>\n",
       "      <td>5.1</td>\n",
       "      <td>6.0</td>\n",
       "      <td>6.0</td>\n",
       "      <td>6.1</td>\n",
       "      <td>3.8</td>\n",
       "      <td>16.2</td>\n",
       "      <td>10.7</td>\n",
       "    </tr>\n",
       "    <tr>\n",
       "      <th>59</th>\n",
       "      <td>1962-63</td>\n",
       "      <td>2.1</td>\n",
       "      <td>2.9</td>\n",
       "      <td>2.9</td>\n",
       "      <td>2.8</td>\n",
       "      <td>0.5</td>\n",
       "      <td>15.9</td>\n",
       "      <td>10.4</td>\n",
       "    </tr>\n",
       "    <tr>\n",
       "      <th>60</th>\n",
       "      <td>1961-62</td>\n",
       "      <td>3.1</td>\n",
       "      <td>3.7</td>\n",
       "      <td>3.6</td>\n",
       "      <td>3.6</td>\n",
       "      <td>1.3</td>\n",
       "      <td>14.4</td>\n",
       "      <td>8.9</td>\n",
       "    </tr>\n",
       "    <tr>\n",
       "      <th>61</th>\n",
       "      <td>1960-61</td>\n",
       "      <td>7.1</td>\n",
       "      <td>5.5</td>\n",
       "      <td>5.5</td>\n",
       "      <td>5.8</td>\n",
       "      <td>3.9</td>\n",
       "      <td>15.1</td>\n",
       "      <td>9.6</td>\n",
       "    </tr>\n",
       "  </tbody>\n",
       "</table>\n",
       "<p>62 rows × 8 columns</p>\n",
       "</div>"
      ],
      "text/plain": [
       "   Financial Year  GVA at Basic Prices  Gross Domestic Product  \\\n",
       "0      2021-22                     8.1                     8.7   \n",
       "1      2020-21                    -4.8                    -6.6   \n",
       "2      2019-20                     3.8                     3.7   \n",
       "3      2018-19                     5.8                     6.5   \n",
       "4      2017-18                     6.2                     6.8   \n",
       "..            ...                  ...                     ...   \n",
       "57     1964-65                     7.6                     7.5   \n",
       "58     1963-64                     5.1                     6.0   \n",
       "59     1962-63                     2.1                     2.9   \n",
       "60     1961-62                     3.1                     3.7   \n",
       "61     1960-61                     7.1                     5.5   \n",
       "\n",
       "    Gross National Income  Net National Income  Per Capita NNI  \\\n",
       "0                     8.5                  8.5             7.5   \n",
       "1                    -7.0                 -8.7            -9.7   \n",
       "2                     3.9                  3.4             2.3   \n",
       "3                     6.5                  6.2             5.2   \n",
       "4                     6.9                  6.7             5.5   \n",
       "..                    ...                  ...             ...   \n",
       "57                    7.4                  7.4             5.1   \n",
       "58                    6.0                  6.1             3.8   \n",
       "59                    2.9                  2.8             0.5   \n",
       "60                    3.6                  3.6             1.3   \n",
       "61                    5.5                  5.8             3.9   \n",
       "\n",
       "   Gross Capital Formation Net Capital Formation  \n",
       "0                        -                     -  \n",
       "1                     31.5                    18  \n",
       "2                     34.1                  22.2  \n",
       "3                     37.3                  25.8  \n",
       "4                     37.5                  26.1  \n",
       "..                     ...                   ...  \n",
       "57                    16.6                  11.2  \n",
       "58                    16.2                  10.7  \n",
       "59                    15.9                  10.4  \n",
       "60                    14.4                   8.9  \n",
       "61                    15.1                   9.6  \n",
       "\n",
       "[62 rows x 8 columns]"
      ]
     },
     "execution_count": 24,
     "metadata": {},
     "output_type": "execute_result"
    }
   ],
   "source": [
    "annual_growth_rates = pd.read_csv(\"anual growth rates.csv\")\n",
    "annual_growth_rates"
   ]
  },
  {
   "cell_type": "code",
   "execution_count": 25,
   "metadata": {},
   "outputs": [
    {
     "data": {
      "text/html": [
       "<div>\n",
       "<style scoped>\n",
       "    .dataframe tbody tr th:only-of-type {\n",
       "        vertical-align: middle;\n",
       "    }\n",
       "\n",
       "    .dataframe tbody tr th {\n",
       "        vertical-align: top;\n",
       "    }\n",
       "\n",
       "    .dataframe thead th {\n",
       "        text-align: right;\n",
       "    }\n",
       "</style>\n",
       "<table border=\"1\" class=\"dataframe\">\n",
       "  <thead>\n",
       "    <tr style=\"text-align: right;\">\n",
       "      <th></th>\n",
       "      <th>Financial Year</th>\n",
       "      <th>GVA at Basic Prices</th>\n",
       "      <th>Gross Domestic Product</th>\n",
       "      <th>Gross National Income</th>\n",
       "      <th>Net National Income</th>\n",
       "      <th>Per Capita NNI</th>\n",
       "      <th>Gross Capital Formation</th>\n",
       "      <th>Net Capital Formation</th>\n",
       "    </tr>\n",
       "  </thead>\n",
       "  <tbody>\n",
       "    <tr>\n",
       "      <th>0</th>\n",
       "      <td>2021-01-01</td>\n",
       "      <td>8.1</td>\n",
       "      <td>8.7</td>\n",
       "      <td>8.5</td>\n",
       "      <td>8.5</td>\n",
       "      <td>7.5</td>\n",
       "      <td>NaN</td>\n",
       "      <td>NaN</td>\n",
       "    </tr>\n",
       "    <tr>\n",
       "      <th>1</th>\n",
       "      <td>2020-01-01</td>\n",
       "      <td>-4.8</td>\n",
       "      <td>-6.6</td>\n",
       "      <td>-7.0</td>\n",
       "      <td>-8.7</td>\n",
       "      <td>-9.7</td>\n",
       "      <td>31.5</td>\n",
       "      <td>18.0</td>\n",
       "    </tr>\n",
       "    <tr>\n",
       "      <th>2</th>\n",
       "      <td>2019-01-01</td>\n",
       "      <td>3.8</td>\n",
       "      <td>3.7</td>\n",
       "      <td>3.9</td>\n",
       "      <td>3.4</td>\n",
       "      <td>2.3</td>\n",
       "      <td>34.1</td>\n",
       "      <td>22.2</td>\n",
       "    </tr>\n",
       "    <tr>\n",
       "      <th>3</th>\n",
       "      <td>2018-01-01</td>\n",
       "      <td>5.8</td>\n",
       "      <td>6.5</td>\n",
       "      <td>6.5</td>\n",
       "      <td>6.2</td>\n",
       "      <td>5.2</td>\n",
       "      <td>37.3</td>\n",
       "      <td>25.8</td>\n",
       "    </tr>\n",
       "    <tr>\n",
       "      <th>4</th>\n",
       "      <td>2017-01-01</td>\n",
       "      <td>6.2</td>\n",
       "      <td>6.8</td>\n",
       "      <td>6.9</td>\n",
       "      <td>6.7</td>\n",
       "      <td>5.5</td>\n",
       "      <td>37.5</td>\n",
       "      <td>26.1</td>\n",
       "    </tr>\n",
       "    <tr>\n",
       "      <th>...</th>\n",
       "      <td>...</td>\n",
       "      <td>...</td>\n",
       "      <td>...</td>\n",
       "      <td>...</td>\n",
       "      <td>...</td>\n",
       "      <td>...</td>\n",
       "      <td>...</td>\n",
       "      <td>...</td>\n",
       "    </tr>\n",
       "    <tr>\n",
       "      <th>57</th>\n",
       "      <td>1964-01-01</td>\n",
       "      <td>7.6</td>\n",
       "      <td>7.5</td>\n",
       "      <td>7.4</td>\n",
       "      <td>7.4</td>\n",
       "      <td>5.1</td>\n",
       "      <td>16.6</td>\n",
       "      <td>11.2</td>\n",
       "    </tr>\n",
       "    <tr>\n",
       "      <th>58</th>\n",
       "      <td>1963-01-01</td>\n",
       "      <td>5.1</td>\n",
       "      <td>6.0</td>\n",
       "      <td>6.0</td>\n",
       "      <td>6.1</td>\n",
       "      <td>3.8</td>\n",
       "      <td>16.2</td>\n",
       "      <td>10.7</td>\n",
       "    </tr>\n",
       "    <tr>\n",
       "      <th>59</th>\n",
       "      <td>1962-01-01</td>\n",
       "      <td>2.1</td>\n",
       "      <td>2.9</td>\n",
       "      <td>2.9</td>\n",
       "      <td>2.8</td>\n",
       "      <td>0.5</td>\n",
       "      <td>15.9</td>\n",
       "      <td>10.4</td>\n",
       "    </tr>\n",
       "    <tr>\n",
       "      <th>60</th>\n",
       "      <td>1961-01-01</td>\n",
       "      <td>3.1</td>\n",
       "      <td>3.7</td>\n",
       "      <td>3.6</td>\n",
       "      <td>3.6</td>\n",
       "      <td>1.3</td>\n",
       "      <td>14.4</td>\n",
       "      <td>8.9</td>\n",
       "    </tr>\n",
       "    <tr>\n",
       "      <th>61</th>\n",
       "      <td>1960-01-01</td>\n",
       "      <td>7.1</td>\n",
       "      <td>5.5</td>\n",
       "      <td>5.5</td>\n",
       "      <td>5.8</td>\n",
       "      <td>3.9</td>\n",
       "      <td>15.1</td>\n",
       "      <td>9.6</td>\n",
       "    </tr>\n",
       "  </tbody>\n",
       "</table>\n",
       "<p>62 rows × 8 columns</p>\n",
       "</div>"
      ],
      "text/plain": [
       "   Financial Year  GVA at Basic Prices  Gross Domestic Product  \\\n",
       "0      2021-01-01                  8.1                     8.7   \n",
       "1      2020-01-01                 -4.8                    -6.6   \n",
       "2      2019-01-01                  3.8                     3.7   \n",
       "3      2018-01-01                  5.8                     6.5   \n",
       "4      2017-01-01                  6.2                     6.8   \n",
       "..            ...                  ...                     ...   \n",
       "57     1964-01-01                  7.6                     7.5   \n",
       "58     1963-01-01                  5.1                     6.0   \n",
       "59     1962-01-01                  2.1                     2.9   \n",
       "60     1961-01-01                  3.1                     3.7   \n",
       "61     1960-01-01                  7.1                     5.5   \n",
       "\n",
       "    Gross National Income  Net National Income  Per Capita NNI  \\\n",
       "0                     8.5                  8.5             7.5   \n",
       "1                    -7.0                 -8.7            -9.7   \n",
       "2                     3.9                  3.4             2.3   \n",
       "3                     6.5                  6.2             5.2   \n",
       "4                     6.9                  6.7             5.5   \n",
       "..                    ...                  ...             ...   \n",
       "57                    7.4                  7.4             5.1   \n",
       "58                    6.0                  6.1             3.8   \n",
       "59                    2.9                  2.8             0.5   \n",
       "60                    3.6                  3.6             1.3   \n",
       "61                    5.5                  5.8             3.9   \n",
       "\n",
       "    Gross Capital Formation  Net Capital Formation  \n",
       "0                       NaN                    NaN  \n",
       "1                      31.5                   18.0  \n",
       "2                      34.1                   22.2  \n",
       "3                      37.3                   25.8  \n",
       "4                      37.5                   26.1  \n",
       "..                      ...                    ...  \n",
       "57                     16.6                   11.2  \n",
       "58                     16.2                   10.7  \n",
       "59                     15.9                   10.4  \n",
       "60                     14.4                    8.9  \n",
       "61                     15.1                    9.6  \n",
       "\n",
       "[62 rows x 8 columns]"
      ]
     },
     "execution_count": 25,
     "metadata": {},
     "output_type": "execute_result"
    }
   ],
   "source": [
    "annual_growth_rates.iloc[:, 1:] = annual_growth_rates.iloc[:, 1:].apply(pd.to_numeric, errors = 'coerce')\n",
    "annual_growth_rates['Financial Year'] = pd.to_datetime(annual_growth_rates['Financial Year'].str[:4], format='%Y')\n",
    "annual_growth_rates\n",
    "# gdp_major_sector.iloc[:,1:] = gdp_major_sector.iloc[:, 1:].apply(pd.to_numeric, errors='coerce')\n",
    "# gdp_major_sector['Financial Year'] = pd.to_datetime(gdp_major_sector['Financial Year'].str[:4], format='%Y')\n"
   ]
  },
  {
   "cell_type": "code",
   "execution_count": 26,
   "metadata": {},
   "outputs": [
    {
     "data": {
      "text/plain": [
       "Index(['Financial Year', 'GVA at Basic Prices', 'Gross Domestic Product',\n",
       "       'Gross National Income', 'Net National Income', 'Per Capita NNI',\n",
       "       'Gross Capital Formation', 'Net Capital Formation'],\n",
       "      dtype='object')"
      ]
     },
     "execution_count": 26,
     "metadata": {},
     "output_type": "execute_result"
    }
   ],
   "source": [
    "annual_growth_rates.columns"
   ]
  },
  {
   "cell_type": "code",
   "execution_count": 29,
   "metadata": {},
   "outputs": [
    {
     "data": {
      "application/vnd.plotly.v1+json": {
       "config": {
        "plotlyServerURL": "https://plot.ly"
       },
       "data": [
        {
         "hovertemplate": "variable=GVA at Basic Prices<br>Financial Year=%{x}<br>value=%{y}<extra></extra>",
         "legendgroup": "GVA at Basic Prices",
         "line": {
          "color": "#636efa",
          "dash": "solid"
         },
         "marker": {
          "symbol": "circle"
         },
         "mode": "lines",
         "name": "GVA at Basic Prices",
         "orientation": "v",
         "showlegend": true,
         "type": "scatter",
         "x": [
          "2021-01-01T00:00:00",
          "2020-01-01T00:00:00",
          "2019-01-01T00:00:00",
          "2018-01-01T00:00:00",
          "2017-01-01T00:00:00",
          "2016-01-01T00:00:00",
          "2015-01-01T00:00:00",
          "2014-01-01T00:00:00",
          "2013-01-01T00:00:00",
          "2012-01-01T00:00:00",
          "2011-01-01T00:00:00",
          "2010-01-01T00:00:00",
          "2009-01-01T00:00:00",
          "2008-01-01T00:00:00",
          "2007-01-01T00:00:00",
          "2006-01-01T00:00:00",
          "2005-01-01T00:00:00",
          "2004-01-01T00:00:00",
          "2003-01-01T00:00:00",
          "2002-01-01T00:00:00",
          "2001-01-01T00:00:00",
          "2000-01-01T00:00:00",
          "1999-01-01T00:00:00",
          "1998-01-01T00:00:00",
          "1997-01-01T00:00:00",
          "1996-01-01T00:00:00",
          "1995-01-01T00:00:00",
          "1994-01-01T00:00:00",
          "1993-01-01T00:00:00",
          "1992-01-01T00:00:00",
          "1991-01-01T00:00:00",
          "1990-01-01T00:00:00",
          "1989-01-01T00:00:00",
          "1988-01-01T00:00:00",
          "1987-01-01T00:00:00",
          "1986-01-01T00:00:00",
          "1985-01-01T00:00:00",
          "1984-01-01T00:00:00",
          "1983-01-01T00:00:00",
          "1982-01-01T00:00:00",
          "1981-01-01T00:00:00",
          "1980-01-01T00:00:00",
          "1979-01-01T00:00:00",
          "1978-01-01T00:00:00",
          "1977-01-01T00:00:00",
          "1976-01-01T00:00:00",
          "1975-01-01T00:00:00",
          "1974-01-01T00:00:00",
          "1973-01-01T00:00:00",
          "1972-01-01T00:00:00",
          "1971-01-01T00:00:00",
          "1970-01-01T00:00:00",
          "1969-01-01T00:00:00",
          "1968-01-01T00:00:00",
          "1967-01-01T00:00:00",
          "1966-01-01T00:00:00",
          "1965-01-01T00:00:00",
          "1964-01-01T00:00:00",
          "1963-01-01T00:00:00",
          "1962-01-01T00:00:00",
          "1961-01-01T00:00:00",
          "1960-01-01T00:00:00"
         ],
         "xaxis": "x",
         "y": [
          8.1,
          -4.8,
          3.8,
          5.8,
          6.2,
          8,
          8,
          7.2,
          6.1,
          5.4,
          5.2,
          8,
          6.9,
          4.3,
          7.4,
          8.1,
          8.3,
          7.1,
          8,
          3.9,
          5.4,
          4.1,
          8,
          6.7,
          4.3,
          8,
          7.3,
          6.4,
          5.7,
          5.4,
          1.4,
          5.3,
          6.1,
          10.2,
          3.5,
          4.3,
          4.2,
          4,
          7.9,
          2.9,
          5.6,
          7.2,
          -5.2,
          5.5,
          7.5,
          1.2,
          9,
          1.2,
          4.6,
          -0.3,
          1,
          5,
          6.5,
          2.6,
          8.1,
          1,
          -3.7,
          7.6,
          5.1,
          2.1,
          3.1,
          7.1
         ],
         "yaxis": "y"
        },
        {
         "hovertemplate": "variable=Gross Domestic Product<br>Financial Year=%{x}<br>value=%{y}<extra></extra>",
         "legendgroup": "Gross Domestic Product",
         "line": {
          "color": "#EF553B",
          "dash": "solid"
         },
         "marker": {
          "symbol": "circle"
         },
         "mode": "lines",
         "name": "Gross Domestic Product",
         "orientation": "v",
         "showlegend": true,
         "type": "scatter",
         "x": [
          "2021-01-01T00:00:00",
          "2020-01-01T00:00:00",
          "2019-01-01T00:00:00",
          "2018-01-01T00:00:00",
          "2017-01-01T00:00:00",
          "2016-01-01T00:00:00",
          "2015-01-01T00:00:00",
          "2014-01-01T00:00:00",
          "2013-01-01T00:00:00",
          "2012-01-01T00:00:00",
          "2011-01-01T00:00:00",
          "2010-01-01T00:00:00",
          "2009-01-01T00:00:00",
          "2008-01-01T00:00:00",
          "2007-01-01T00:00:00",
          "2006-01-01T00:00:00",
          "2005-01-01T00:00:00",
          "2004-01-01T00:00:00",
          "2003-01-01T00:00:00",
          "2002-01-01T00:00:00",
          "2001-01-01T00:00:00",
          "2000-01-01T00:00:00",
          "1999-01-01T00:00:00",
          "1998-01-01T00:00:00",
          "1997-01-01T00:00:00",
          "1996-01-01T00:00:00",
          "1995-01-01T00:00:00",
          "1994-01-01T00:00:00",
          "1993-01-01T00:00:00",
          "1992-01-01T00:00:00",
          "1991-01-01T00:00:00",
          "1990-01-01T00:00:00",
          "1989-01-01T00:00:00",
          "1988-01-01T00:00:00",
          "1987-01-01T00:00:00",
          "1986-01-01T00:00:00",
          "1985-01-01T00:00:00",
          "1984-01-01T00:00:00",
          "1983-01-01T00:00:00",
          "1982-01-01T00:00:00",
          "1981-01-01T00:00:00",
          "1980-01-01T00:00:00",
          "1979-01-01T00:00:00",
          "1978-01-01T00:00:00",
          "1977-01-01T00:00:00",
          "1976-01-01T00:00:00",
          "1975-01-01T00:00:00",
          "1974-01-01T00:00:00",
          "1973-01-01T00:00:00",
          "1972-01-01T00:00:00",
          "1971-01-01T00:00:00",
          "1970-01-01T00:00:00",
          "1969-01-01T00:00:00",
          "1968-01-01T00:00:00",
          "1967-01-01T00:00:00",
          "1966-01-01T00:00:00",
          "1965-01-01T00:00:00",
          "1964-01-01T00:00:00",
          "1963-01-01T00:00:00",
          "1962-01-01T00:00:00",
          "1961-01-01T00:00:00",
          "1960-01-01T00:00:00"
         ],
         "xaxis": "x",
         "y": [
          8.7,
          -6.6,
          3.7,
          6.5,
          6.8,
          8.3,
          8,
          7.4,
          6.4,
          5.5,
          5.2,
          8.5,
          7.9,
          3.1,
          7.7,
          8.1,
          7.9,
          7.9,
          7.9,
          3.8,
          4.8,
          3.8,
          8.8,
          6.2,
          4,
          7.5,
          7.6,
          6.7,
          4.8,
          5.5,
          1.1,
          5.5,
          5.9,
          9.6,
          4,
          4.8,
          5.3,
          3.8,
          7.3,
          3.5,
          6,
          6.7,
          -5.2,
          5.7,
          7.3,
          1.7,
          9.1,
          1.2,
          3.3,
          -0.6,
          1.6,
          5.2,
          6.5,
          3.4,
          7.8,
          -0.1,
          -2.6,
          7.5,
          6,
          2.9,
          3.7,
          5.5
         ],
         "yaxis": "y"
        },
        {
         "hovertemplate": "variable=Gross National Income<br>Financial Year=%{x}<br>value=%{y}<extra></extra>",
         "legendgroup": "Gross National Income",
         "line": {
          "color": "#00cc96",
          "dash": "solid"
         },
         "marker": {
          "symbol": "circle"
         },
         "mode": "lines",
         "name": "Gross National Income",
         "orientation": "v",
         "showlegend": true,
         "type": "scatter",
         "x": [
          "2021-01-01T00:00:00",
          "2020-01-01T00:00:00",
          "2019-01-01T00:00:00",
          "2018-01-01T00:00:00",
          "2017-01-01T00:00:00",
          "2016-01-01T00:00:00",
          "2015-01-01T00:00:00",
          "2014-01-01T00:00:00",
          "2013-01-01T00:00:00",
          "2012-01-01T00:00:00",
          "2011-01-01T00:00:00",
          "2010-01-01T00:00:00",
          "2009-01-01T00:00:00",
          "2008-01-01T00:00:00",
          "2007-01-01T00:00:00",
          "2006-01-01T00:00:00",
          "2005-01-01T00:00:00",
          "2004-01-01T00:00:00",
          "2003-01-01T00:00:00",
          "2002-01-01T00:00:00",
          "2001-01-01T00:00:00",
          "2000-01-01T00:00:00",
          "1999-01-01T00:00:00",
          "1998-01-01T00:00:00",
          "1997-01-01T00:00:00",
          "1996-01-01T00:00:00",
          "1995-01-01T00:00:00",
          "1994-01-01T00:00:00",
          "1993-01-01T00:00:00",
          "1992-01-01T00:00:00",
          "1991-01-01T00:00:00",
          "1990-01-01T00:00:00",
          "1989-01-01T00:00:00",
          "1988-01-01T00:00:00",
          "1987-01-01T00:00:00",
          "1986-01-01T00:00:00",
          "1985-01-01T00:00:00",
          "1984-01-01T00:00:00",
          "1983-01-01T00:00:00",
          "1982-01-01T00:00:00",
          "1981-01-01T00:00:00",
          "1980-01-01T00:00:00",
          "1979-01-01T00:00:00",
          "1978-01-01T00:00:00",
          "1977-01-01T00:00:00",
          "1976-01-01T00:00:00",
          "1975-01-01T00:00:00",
          "1974-01-01T00:00:00",
          "1973-01-01T00:00:00",
          "1972-01-01T00:00:00",
          "1971-01-01T00:00:00",
          "1970-01-01T00:00:00",
          "1969-01-01T00:00:00",
          "1968-01-01T00:00:00",
          "1967-01-01T00:00:00",
          "1966-01-01T00:00:00",
          "1965-01-01T00:00:00",
          "1964-01-01T00:00:00",
          "1963-01-01T00:00:00",
          "1962-01-01T00:00:00",
          "1961-01-01T00:00:00",
          "1960-01-01T00:00:00"
         ],
         "xaxis": "x",
         "y": [
          8.5,
          -7,
          3.9,
          6.5,
          6.9,
          8.3,
          8,
          7.5,
          6.3,
          5.1,
          5.5,
          8,
          7.9,
          2.9,
          8,
          8,
          7.9,
          7.9,
          7.9,
          3.9,
          5,
          3.6,
          8.8,
          6.2,
          4.2,
          7.7,
          7.6,
          6.7,
          4.9,
          5.5,
          1,
          5.3,
          5.9,
          9.4,
          3.8,
          4.7,
          5.3,
          3.7,
          7.3,
          3.2,
          5.9,
          6.8,
          -5.1,
          5.7,
          7.3,
          1.7,
          9.2,
          1.3,
          3.4,
          -0.5,
          1.7,
          5.2,
          6.5,
          3.4,
          7.7,
          0,
          -2.7,
          7.4,
          6,
          2.9,
          3.6,
          5.5
         ],
         "yaxis": "y"
        },
        {
         "hovertemplate": "variable=Net National Income<br>Financial Year=%{x}<br>value=%{y}<extra></extra>",
         "legendgroup": "Net National Income",
         "line": {
          "color": "#ab63fa",
          "dash": "solid"
         },
         "marker": {
          "symbol": "circle"
         },
         "mode": "lines",
         "name": "Net National Income",
         "orientation": "v",
         "showlegend": true,
         "type": "scatter",
         "x": [
          "2021-01-01T00:00:00",
          "2020-01-01T00:00:00",
          "2019-01-01T00:00:00",
          "2018-01-01T00:00:00",
          "2017-01-01T00:00:00",
          "2016-01-01T00:00:00",
          "2015-01-01T00:00:00",
          "2014-01-01T00:00:00",
          "2013-01-01T00:00:00",
          "2012-01-01T00:00:00",
          "2011-01-01T00:00:00",
          "2010-01-01T00:00:00",
          "2009-01-01T00:00:00",
          "2008-01-01T00:00:00",
          "2007-01-01T00:00:00",
          "2006-01-01T00:00:00",
          "2005-01-01T00:00:00",
          "2004-01-01T00:00:00",
          "2003-01-01T00:00:00",
          "2002-01-01T00:00:00",
          "2001-01-01T00:00:00",
          "2000-01-01T00:00:00",
          "1999-01-01T00:00:00",
          "1998-01-01T00:00:00",
          "1997-01-01T00:00:00",
          "1996-01-01T00:00:00",
          "1995-01-01T00:00:00",
          "1994-01-01T00:00:00",
          "1993-01-01T00:00:00",
          "1992-01-01T00:00:00",
          "1991-01-01T00:00:00",
          "1990-01-01T00:00:00",
          "1989-01-01T00:00:00",
          "1988-01-01T00:00:00",
          "1987-01-01T00:00:00",
          "1986-01-01T00:00:00",
          "1985-01-01T00:00:00",
          "1984-01-01T00:00:00",
          "1983-01-01T00:00:00",
          "1982-01-01T00:00:00",
          "1981-01-01T00:00:00",
          "1980-01-01T00:00:00",
          "1979-01-01T00:00:00",
          "1978-01-01T00:00:00",
          "1977-01-01T00:00:00",
          "1976-01-01T00:00:00",
          "1975-01-01T00:00:00",
          "1974-01-01T00:00:00",
          "1973-01-01T00:00:00",
          "1972-01-01T00:00:00",
          "1971-01-01T00:00:00",
          "1970-01-01T00:00:00",
          "1969-01-01T00:00:00",
          "1968-01-01T00:00:00",
          "1967-01-01T00:00:00",
          "1966-01-01T00:00:00",
          "1965-01-01T00:00:00",
          "1964-01-01T00:00:00",
          "1963-01-01T00:00:00",
          "1962-01-01T00:00:00",
          "1961-01-01T00:00:00",
          "1960-01-01T00:00:00"
         ],
         "xaxis": "x",
         "y": [
          8.5,
          -8.7,
          3.4,
          6.2,
          6.7,
          8.2,
          8,
          7.5,
          6,
          4.5,
          5,
          7.8,
          7.5,
          2.2,
          7.8,
          7.8,
          7.7,
          7.8,
          8,
          3.8,
          4.8,
          3.3,
          8.9,
          6.1,
          3.9,
          7.8,
          7.7,
          6.7,
          5,
          5.5,
          0.5,
          5.2,
          6,
          9.8,
          3.5,
          4.7,
          5.2,
          3.4,
          7.5,
          3,
          6,
          6.9,
          -5.8,
          5.9,
          7.6,
          1.4,
          9.6,
          1,
          3.3,
          -0.8,
          1.5,
          4.8,
          6.5,
          3.3,
          7.8,
          -0.4,
          -3.1,
          7.4,
          6.1,
          2.8,
          3.6,
          5.8
         ],
         "yaxis": "y"
        },
        {
         "hovertemplate": "variable=Per Capita NNI<br>Financial Year=%{x}<br>value=%{y}<extra></extra>",
         "legendgroup": "Per Capita NNI",
         "line": {
          "color": "#FFA15A",
          "dash": "solid"
         },
         "marker": {
          "symbol": "circle"
         },
         "mode": "lines",
         "name": "Per Capita NNI",
         "orientation": "v",
         "showlegend": true,
         "type": "scatter",
         "x": [
          "2021-01-01T00:00:00",
          "2020-01-01T00:00:00",
          "2019-01-01T00:00:00",
          "2018-01-01T00:00:00",
          "2017-01-01T00:00:00",
          "2016-01-01T00:00:00",
          "2015-01-01T00:00:00",
          "2014-01-01T00:00:00",
          "2013-01-01T00:00:00",
          "2012-01-01T00:00:00",
          "2011-01-01T00:00:00",
          "2010-01-01T00:00:00",
          "2009-01-01T00:00:00",
          "2008-01-01T00:00:00",
          "2007-01-01T00:00:00",
          "2006-01-01T00:00:00",
          "2005-01-01T00:00:00",
          "2004-01-01T00:00:00",
          "2003-01-01T00:00:00",
          "2002-01-01T00:00:00",
          "2001-01-01T00:00:00",
          "2000-01-01T00:00:00",
          "1999-01-01T00:00:00",
          "1998-01-01T00:00:00",
          "1997-01-01T00:00:00",
          "1996-01-01T00:00:00",
          "1995-01-01T00:00:00",
          "1994-01-01T00:00:00",
          "1993-01-01T00:00:00",
          "1992-01-01T00:00:00",
          "1991-01-01T00:00:00",
          "1990-01-01T00:00:00",
          "1989-01-01T00:00:00",
          "1988-01-01T00:00:00",
          "1987-01-01T00:00:00",
          "1986-01-01T00:00:00",
          "1985-01-01T00:00:00",
          "1984-01-01T00:00:00",
          "1983-01-01T00:00:00",
          "1982-01-01T00:00:00",
          "1981-01-01T00:00:00",
          "1980-01-01T00:00:00",
          "1979-01-01T00:00:00",
          "1978-01-01T00:00:00",
          "1977-01-01T00:00:00",
          "1976-01-01T00:00:00",
          "1975-01-01T00:00:00",
          "1974-01-01T00:00:00",
          "1973-01-01T00:00:00",
          "1972-01-01T00:00:00",
          "1971-01-01T00:00:00",
          "1970-01-01T00:00:00",
          "1969-01-01T00:00:00",
          "1968-01-01T00:00:00",
          "1967-01-01T00:00:00",
          "1966-01-01T00:00:00",
          "1965-01-01T00:00:00",
          "1964-01-01T00:00:00",
          "1963-01-01T00:00:00",
          "1962-01-01T00:00:00",
          "1961-01-01T00:00:00",
          "1960-01-01T00:00:00"
         ],
         "xaxis": "x",
         "y": [
          7.5,
          -9.7,
          2.3,
          5.2,
          5.5,
          6.9,
          6.7,
          6.2,
          4.6,
          3.3,
          2.1,
          6.4,
          6.1,
          0.8,
          6.3,
          6.3,
          6.1,
          6.1,
          6.4,
          2.2,
          2.7,
          1.4,
          7,
          4.1,
          2,
          5.7,
          5.6,
          4.6,
          2.6,
          3.6,
          -1.5,
          3.1,
          3.8,
          7.5,
          1.3,
          2.5,
          3,
          1.2,
          5.3,
          0.7,
          4,
          4.5,
          -8.1,
          3.6,
          5.2,
          -0.8,
          7.1,
          -1.2,
          1,
          -3.1,
          -0.9,
          2.5,
          4.3,
          0.9,
          5.5,
          -2.5,
          -5.3,
          5.1,
          3.8,
          0.5,
          1.3,
          3.9
         ],
         "yaxis": "y"
        },
        {
         "hovertemplate": "variable=Gross Capital Formation<br>Financial Year=%{x}<br>value=%{y}<extra></extra>",
         "legendgroup": "Gross Capital Formation",
         "line": {
          "color": "#19d3f3",
          "dash": "solid"
         },
         "marker": {
          "symbol": "circle"
         },
         "mode": "lines",
         "name": "Gross Capital Formation",
         "orientation": "v",
         "showlegend": true,
         "type": "scatter",
         "x": [
          "2021-01-01T00:00:00",
          "2020-01-01T00:00:00",
          "2019-01-01T00:00:00",
          "2018-01-01T00:00:00",
          "2017-01-01T00:00:00",
          "2016-01-01T00:00:00",
          "2015-01-01T00:00:00",
          "2014-01-01T00:00:00",
          "2013-01-01T00:00:00",
          "2012-01-01T00:00:00",
          "2011-01-01T00:00:00",
          "2010-01-01T00:00:00",
          "2009-01-01T00:00:00",
          "2008-01-01T00:00:00",
          "2007-01-01T00:00:00",
          "2006-01-01T00:00:00",
          "2005-01-01T00:00:00",
          "2004-01-01T00:00:00",
          "2003-01-01T00:00:00",
          "2002-01-01T00:00:00",
          "2001-01-01T00:00:00",
          "2000-01-01T00:00:00",
          "1999-01-01T00:00:00",
          "1998-01-01T00:00:00",
          "1997-01-01T00:00:00",
          "1996-01-01T00:00:00",
          "1995-01-01T00:00:00",
          "1994-01-01T00:00:00",
          "1993-01-01T00:00:00",
          "1992-01-01T00:00:00",
          "1991-01-01T00:00:00",
          "1990-01-01T00:00:00",
          "1989-01-01T00:00:00",
          "1988-01-01T00:00:00",
          "1987-01-01T00:00:00",
          "1986-01-01T00:00:00",
          "1985-01-01T00:00:00",
          "1984-01-01T00:00:00",
          "1983-01-01T00:00:00",
          "1982-01-01T00:00:00",
          "1981-01-01T00:00:00",
          "1980-01-01T00:00:00",
          "1979-01-01T00:00:00",
          "1978-01-01T00:00:00",
          "1977-01-01T00:00:00",
          "1976-01-01T00:00:00",
          "1975-01-01T00:00:00",
          "1974-01-01T00:00:00",
          "1973-01-01T00:00:00",
          "1972-01-01T00:00:00",
          "1971-01-01T00:00:00",
          "1970-01-01T00:00:00",
          "1969-01-01T00:00:00",
          "1968-01-01T00:00:00",
          "1967-01-01T00:00:00",
          "1966-01-01T00:00:00",
          "1965-01-01T00:00:00",
          "1964-01-01T00:00:00",
          "1963-01-01T00:00:00",
          "1962-01-01T00:00:00",
          "1961-01-01T00:00:00",
          "1960-01-01T00:00:00"
         ],
         "xaxis": "x",
         "y": [
          null,
          31.5,
          34.1,
          37.3,
          37.5,
          34.9,
          34.5,
          34.8,
          35.2,
          39.5,
          39,
          40.1,
          36.2,
          34.6,
          38.7,
          33.5,
          32.9,
          29.7,
          25.2,
          23.5,
          22.6,
          22.7,
          24.9,
          23.1,
          23.6,
          21.4,
          22.8,
          22.8,
          20.3,
          20.8,
          19.4,
          23.5,
          20.9,
          20.5,
          20,
          18.4,
          18.6,
          18.1,
          17.9,
          18,
          18.1,
          20.3,
          19.9,
          21.4,
          19,
          17.5,
          15,
          18.2,
          19.4,
          16.8,
          17.5,
          16.4,
          17.3,
          16.6,
          17.5,
          19.7,
          18.8,
          16.6,
          16.2,
          15.9,
          14.4,
          15.1
         ],
         "yaxis": "y"
        },
        {
         "hovertemplate": "variable=Net Capital Formation<br>Financial Year=%{x}<br>value=%{y}<extra></extra>",
         "legendgroup": "Net Capital Formation",
         "line": {
          "color": "#FF6692",
          "dash": "solid"
         },
         "marker": {
          "symbol": "circle"
         },
         "mode": "lines",
         "name": "Net Capital Formation",
         "orientation": "v",
         "showlegend": true,
         "type": "scatter",
         "x": [
          "2021-01-01T00:00:00",
          "2020-01-01T00:00:00",
          "2019-01-01T00:00:00",
          "2018-01-01T00:00:00",
          "2017-01-01T00:00:00",
          "2016-01-01T00:00:00",
          "2015-01-01T00:00:00",
          "2014-01-01T00:00:00",
          "2013-01-01T00:00:00",
          "2012-01-01T00:00:00",
          "2011-01-01T00:00:00",
          "2010-01-01T00:00:00",
          "2009-01-01T00:00:00",
          "2008-01-01T00:00:00",
          "2007-01-01T00:00:00",
          "2006-01-01T00:00:00",
          "2005-01-01T00:00:00",
          "2004-01-01T00:00:00",
          "2003-01-01T00:00:00",
          "2002-01-01T00:00:00",
          "2001-01-01T00:00:00",
          "2000-01-01T00:00:00",
          "1999-01-01T00:00:00",
          "1998-01-01T00:00:00",
          "1997-01-01T00:00:00",
          "1996-01-01T00:00:00",
          "1995-01-01T00:00:00",
          "1994-01-01T00:00:00",
          "1993-01-01T00:00:00",
          "1992-01-01T00:00:00",
          "1991-01-01T00:00:00",
          "1990-01-01T00:00:00",
          "1989-01-01T00:00:00",
          "1988-01-01T00:00:00",
          "1987-01-01T00:00:00",
          "1986-01-01T00:00:00",
          "1985-01-01T00:00:00",
          "1984-01-01T00:00:00",
          "1983-01-01T00:00:00",
          "1982-01-01T00:00:00",
          "1981-01-01T00:00:00",
          "1980-01-01T00:00:00",
          "1979-01-01T00:00:00",
          "1978-01-01T00:00:00",
          "1977-01-01T00:00:00",
          "1976-01-01T00:00:00",
          "1975-01-01T00:00:00",
          "1974-01-01T00:00:00",
          "1973-01-01T00:00:00",
          "1972-01-01T00:00:00",
          "1971-01-01T00:00:00",
          "1970-01-01T00:00:00",
          "1969-01-01T00:00:00",
          "1968-01-01T00:00:00",
          "1967-01-01T00:00:00",
          "1966-01-01T00:00:00",
          "1965-01-01T00:00:00",
          "1964-01-01T00:00:00",
          "1963-01-01T00:00:00",
          "1962-01-01T00:00:00",
          "1961-01-01T00:00:00",
          "1960-01-01T00:00:00"
         ],
         "xaxis": "x",
         "y": [
          null,
          18,
          22.2,
          25.8,
          26.1,
          23.7,
          23.3,
          23.6,
          24,
          28.5,
          28.5,
          30,
          26.2,
          24.9,
          29.5,
          24.6,
          24.1,
          21.1,
          16.6,
          14.8,
          14.1,
          14.3,
          16.8,
          14.9,
          15.5,
          13.5,
          14.8,
          14.6,
          12.2,
          12.6,
          11.3,
          15.8,
          13.3,
          12.8,
          12,
          10.6,
          10.9,
          10.5,
          10.5,
          10.3,
          10.5,
          12.7,
          12.2,
          14.4,
          11.9,
          10.1,
          8,
          10.9,
          12.4,
          9.9,
          10.9,
          9.9,
          11.1,
          10.4,
          11.4,
          13.5,
          13,
          11.2,
          10.7,
          10.4,
          8.9,
          9.6
         ],
         "yaxis": "y"
        }
       ],
       "layout": {
        "legend": {
         "title": {
          "text": "variable"
         },
         "tracegroupgap": 0
        },
        "template": {
         "data": {
          "bar": [
           {
            "error_x": {
             "color": "#2a3f5f"
            },
            "error_y": {
             "color": "#2a3f5f"
            },
            "marker": {
             "line": {
              "color": "#E5ECF6",
              "width": 0.5
             },
             "pattern": {
              "fillmode": "overlay",
              "size": 10,
              "solidity": 0.2
             }
            },
            "type": "bar"
           }
          ],
          "barpolar": [
           {
            "marker": {
             "line": {
              "color": "#E5ECF6",
              "width": 0.5
             },
             "pattern": {
              "fillmode": "overlay",
              "size": 10,
              "solidity": 0.2
             }
            },
            "type": "barpolar"
           }
          ],
          "carpet": [
           {
            "aaxis": {
             "endlinecolor": "#2a3f5f",
             "gridcolor": "white",
             "linecolor": "white",
             "minorgridcolor": "white",
             "startlinecolor": "#2a3f5f"
            },
            "baxis": {
             "endlinecolor": "#2a3f5f",
             "gridcolor": "white",
             "linecolor": "white",
             "minorgridcolor": "white",
             "startlinecolor": "#2a3f5f"
            },
            "type": "carpet"
           }
          ],
          "choropleth": [
           {
            "colorbar": {
             "outlinewidth": 0,
             "ticks": ""
            },
            "type": "choropleth"
           }
          ],
          "contour": [
           {
            "colorbar": {
             "outlinewidth": 0,
             "ticks": ""
            },
            "colorscale": [
             [
              0,
              "#0d0887"
             ],
             [
              0.1111111111111111,
              "#46039f"
             ],
             [
              0.2222222222222222,
              "#7201a8"
             ],
             [
              0.3333333333333333,
              "#9c179e"
             ],
             [
              0.4444444444444444,
              "#bd3786"
             ],
             [
              0.5555555555555556,
              "#d8576b"
             ],
             [
              0.6666666666666666,
              "#ed7953"
             ],
             [
              0.7777777777777778,
              "#fb9f3a"
             ],
             [
              0.8888888888888888,
              "#fdca26"
             ],
             [
              1,
              "#f0f921"
             ]
            ],
            "type": "contour"
           }
          ],
          "contourcarpet": [
           {
            "colorbar": {
             "outlinewidth": 0,
             "ticks": ""
            },
            "type": "contourcarpet"
           }
          ],
          "heatmap": [
           {
            "colorbar": {
             "outlinewidth": 0,
             "ticks": ""
            },
            "colorscale": [
             [
              0,
              "#0d0887"
             ],
             [
              0.1111111111111111,
              "#46039f"
             ],
             [
              0.2222222222222222,
              "#7201a8"
             ],
             [
              0.3333333333333333,
              "#9c179e"
             ],
             [
              0.4444444444444444,
              "#bd3786"
             ],
             [
              0.5555555555555556,
              "#d8576b"
             ],
             [
              0.6666666666666666,
              "#ed7953"
             ],
             [
              0.7777777777777778,
              "#fb9f3a"
             ],
             [
              0.8888888888888888,
              "#fdca26"
             ],
             [
              1,
              "#f0f921"
             ]
            ],
            "type": "heatmap"
           }
          ],
          "heatmapgl": [
           {
            "colorbar": {
             "outlinewidth": 0,
             "ticks": ""
            },
            "colorscale": [
             [
              0,
              "#0d0887"
             ],
             [
              0.1111111111111111,
              "#46039f"
             ],
             [
              0.2222222222222222,
              "#7201a8"
             ],
             [
              0.3333333333333333,
              "#9c179e"
             ],
             [
              0.4444444444444444,
              "#bd3786"
             ],
             [
              0.5555555555555556,
              "#d8576b"
             ],
             [
              0.6666666666666666,
              "#ed7953"
             ],
             [
              0.7777777777777778,
              "#fb9f3a"
             ],
             [
              0.8888888888888888,
              "#fdca26"
             ],
             [
              1,
              "#f0f921"
             ]
            ],
            "type": "heatmapgl"
           }
          ],
          "histogram": [
           {
            "marker": {
             "pattern": {
              "fillmode": "overlay",
              "size": 10,
              "solidity": 0.2
             }
            },
            "type": "histogram"
           }
          ],
          "histogram2d": [
           {
            "colorbar": {
             "outlinewidth": 0,
             "ticks": ""
            },
            "colorscale": [
             [
              0,
              "#0d0887"
             ],
             [
              0.1111111111111111,
              "#46039f"
             ],
             [
              0.2222222222222222,
              "#7201a8"
             ],
             [
              0.3333333333333333,
              "#9c179e"
             ],
             [
              0.4444444444444444,
              "#bd3786"
             ],
             [
              0.5555555555555556,
              "#d8576b"
             ],
             [
              0.6666666666666666,
              "#ed7953"
             ],
             [
              0.7777777777777778,
              "#fb9f3a"
             ],
             [
              0.8888888888888888,
              "#fdca26"
             ],
             [
              1,
              "#f0f921"
             ]
            ],
            "type": "histogram2d"
           }
          ],
          "histogram2dcontour": [
           {
            "colorbar": {
             "outlinewidth": 0,
             "ticks": ""
            },
            "colorscale": [
             [
              0,
              "#0d0887"
             ],
             [
              0.1111111111111111,
              "#46039f"
             ],
             [
              0.2222222222222222,
              "#7201a8"
             ],
             [
              0.3333333333333333,
              "#9c179e"
             ],
             [
              0.4444444444444444,
              "#bd3786"
             ],
             [
              0.5555555555555556,
              "#d8576b"
             ],
             [
              0.6666666666666666,
              "#ed7953"
             ],
             [
              0.7777777777777778,
              "#fb9f3a"
             ],
             [
              0.8888888888888888,
              "#fdca26"
             ],
             [
              1,
              "#f0f921"
             ]
            ],
            "type": "histogram2dcontour"
           }
          ],
          "mesh3d": [
           {
            "colorbar": {
             "outlinewidth": 0,
             "ticks": ""
            },
            "type": "mesh3d"
           }
          ],
          "parcoords": [
           {
            "line": {
             "colorbar": {
              "outlinewidth": 0,
              "ticks": ""
             }
            },
            "type": "parcoords"
           }
          ],
          "pie": [
           {
            "automargin": true,
            "type": "pie"
           }
          ],
          "scatter": [
           {
            "fillpattern": {
             "fillmode": "overlay",
             "size": 10,
             "solidity": 0.2
            },
            "type": "scatter"
           }
          ],
          "scatter3d": [
           {
            "line": {
             "colorbar": {
              "outlinewidth": 0,
              "ticks": ""
             }
            },
            "marker": {
             "colorbar": {
              "outlinewidth": 0,
              "ticks": ""
             }
            },
            "type": "scatter3d"
           }
          ],
          "scattercarpet": [
           {
            "marker": {
             "colorbar": {
              "outlinewidth": 0,
              "ticks": ""
             }
            },
            "type": "scattercarpet"
           }
          ],
          "scattergeo": [
           {
            "marker": {
             "colorbar": {
              "outlinewidth": 0,
              "ticks": ""
             }
            },
            "type": "scattergeo"
           }
          ],
          "scattergl": [
           {
            "marker": {
             "colorbar": {
              "outlinewidth": 0,
              "ticks": ""
             }
            },
            "type": "scattergl"
           }
          ],
          "scattermapbox": [
           {
            "marker": {
             "colorbar": {
              "outlinewidth": 0,
              "ticks": ""
             }
            },
            "type": "scattermapbox"
           }
          ],
          "scatterpolar": [
           {
            "marker": {
             "colorbar": {
              "outlinewidth": 0,
              "ticks": ""
             }
            },
            "type": "scatterpolar"
           }
          ],
          "scatterpolargl": [
           {
            "marker": {
             "colorbar": {
              "outlinewidth": 0,
              "ticks": ""
             }
            },
            "type": "scatterpolargl"
           }
          ],
          "scatterternary": [
           {
            "marker": {
             "colorbar": {
              "outlinewidth": 0,
              "ticks": ""
             }
            },
            "type": "scatterternary"
           }
          ],
          "surface": [
           {
            "colorbar": {
             "outlinewidth": 0,
             "ticks": ""
            },
            "colorscale": [
             [
              0,
              "#0d0887"
             ],
             [
              0.1111111111111111,
              "#46039f"
             ],
             [
              0.2222222222222222,
              "#7201a8"
             ],
             [
              0.3333333333333333,
              "#9c179e"
             ],
             [
              0.4444444444444444,
              "#bd3786"
             ],
             [
              0.5555555555555556,
              "#d8576b"
             ],
             [
              0.6666666666666666,
              "#ed7953"
             ],
             [
              0.7777777777777778,
              "#fb9f3a"
             ],
             [
              0.8888888888888888,
              "#fdca26"
             ],
             [
              1,
              "#f0f921"
             ]
            ],
            "type": "surface"
           }
          ],
          "table": [
           {
            "cells": {
             "fill": {
              "color": "#EBF0F8"
             },
             "line": {
              "color": "white"
             }
            },
            "header": {
             "fill": {
              "color": "#C8D4E3"
             },
             "line": {
              "color": "white"
             }
            },
            "type": "table"
           }
          ]
         },
         "layout": {
          "annotationdefaults": {
           "arrowcolor": "#2a3f5f",
           "arrowhead": 0,
           "arrowwidth": 1
          },
          "autotypenumbers": "strict",
          "coloraxis": {
           "colorbar": {
            "outlinewidth": 0,
            "ticks": ""
           }
          },
          "colorscale": {
           "diverging": [
            [
             0,
             "#8e0152"
            ],
            [
             0.1,
             "#c51b7d"
            ],
            [
             0.2,
             "#de77ae"
            ],
            [
             0.3,
             "#f1b6da"
            ],
            [
             0.4,
             "#fde0ef"
            ],
            [
             0.5,
             "#f7f7f7"
            ],
            [
             0.6,
             "#e6f5d0"
            ],
            [
             0.7,
             "#b8e186"
            ],
            [
             0.8,
             "#7fbc41"
            ],
            [
             0.9,
             "#4d9221"
            ],
            [
             1,
             "#276419"
            ]
           ],
           "sequential": [
            [
             0,
             "#0d0887"
            ],
            [
             0.1111111111111111,
             "#46039f"
            ],
            [
             0.2222222222222222,
             "#7201a8"
            ],
            [
             0.3333333333333333,
             "#9c179e"
            ],
            [
             0.4444444444444444,
             "#bd3786"
            ],
            [
             0.5555555555555556,
             "#d8576b"
            ],
            [
             0.6666666666666666,
             "#ed7953"
            ],
            [
             0.7777777777777778,
             "#fb9f3a"
            ],
            [
             0.8888888888888888,
             "#fdca26"
            ],
            [
             1,
             "#f0f921"
            ]
           ],
           "sequentialminus": [
            [
             0,
             "#0d0887"
            ],
            [
             0.1111111111111111,
             "#46039f"
            ],
            [
             0.2222222222222222,
             "#7201a8"
            ],
            [
             0.3333333333333333,
             "#9c179e"
            ],
            [
             0.4444444444444444,
             "#bd3786"
            ],
            [
             0.5555555555555556,
             "#d8576b"
            ],
            [
             0.6666666666666666,
             "#ed7953"
            ],
            [
             0.7777777777777778,
             "#fb9f3a"
            ],
            [
             0.8888888888888888,
             "#fdca26"
            ],
            [
             1,
             "#f0f921"
            ]
           ]
          },
          "colorway": [
           "#636efa",
           "#EF553B",
           "#00cc96",
           "#ab63fa",
           "#FFA15A",
           "#19d3f3",
           "#FF6692",
           "#B6E880",
           "#FF97FF",
           "#FECB52"
          ],
          "font": {
           "color": "#2a3f5f"
          },
          "geo": {
           "bgcolor": "white",
           "lakecolor": "white",
           "landcolor": "#E5ECF6",
           "showlakes": true,
           "showland": true,
           "subunitcolor": "white"
          },
          "hoverlabel": {
           "align": "left"
          },
          "hovermode": "closest",
          "mapbox": {
           "style": "light"
          },
          "paper_bgcolor": "white",
          "plot_bgcolor": "#E5ECF6",
          "polar": {
           "angularaxis": {
            "gridcolor": "white",
            "linecolor": "white",
            "ticks": ""
           },
           "bgcolor": "#E5ECF6",
           "radialaxis": {
            "gridcolor": "white",
            "linecolor": "white",
            "ticks": ""
           }
          },
          "scene": {
           "xaxis": {
            "backgroundcolor": "#E5ECF6",
            "gridcolor": "white",
            "gridwidth": 2,
            "linecolor": "white",
            "showbackground": true,
            "ticks": "",
            "zerolinecolor": "white"
           },
           "yaxis": {
            "backgroundcolor": "#E5ECF6",
            "gridcolor": "white",
            "gridwidth": 2,
            "linecolor": "white",
            "showbackground": true,
            "ticks": "",
            "zerolinecolor": "white"
           },
           "zaxis": {
            "backgroundcolor": "#E5ECF6",
            "gridcolor": "white",
            "gridwidth": 2,
            "linecolor": "white",
            "showbackground": true,
            "ticks": "",
            "zerolinecolor": "white"
           }
          },
          "shapedefaults": {
           "line": {
            "color": "#2a3f5f"
           }
          },
          "ternary": {
           "aaxis": {
            "gridcolor": "white",
            "linecolor": "white",
            "ticks": ""
           },
           "baxis": {
            "gridcolor": "white",
            "linecolor": "white",
            "ticks": ""
           },
           "bgcolor": "#E5ECF6",
           "caxis": {
            "gridcolor": "white",
            "linecolor": "white",
            "ticks": ""
           }
          },
          "title": {
           "x": 0.05
          },
          "xaxis": {
           "automargin": true,
           "gridcolor": "white",
           "linecolor": "white",
           "ticks": "",
           "title": {
            "standoff": 15
           },
           "zerolinecolor": "white",
           "zerolinewidth": 2
          },
          "yaxis": {
           "automargin": true,
           "gridcolor": "white",
           "linecolor": "white",
           "ticks": "",
           "title": {
            "standoff": 15
           },
           "zerolinecolor": "white",
           "zerolinewidth": 2
          }
         }
        },
        "title": {
         "text": "Annual Growth Rates"
        },
        "xaxis": {
         "anchor": "y",
         "domain": [
          0,
          1
         ],
         "title": {
          "text": "Financial Year"
         }
        },
        "yaxis": {
         "anchor": "x",
         "domain": [
          0,
          1
         ],
         "title": {
          "text": "value"
         }
        }
       }
      },
      "text/html": [
       "<div>                            <div id=\"dfd05b4f-4b4b-4ac1-bb2b-5421cd4e688e\" class=\"plotly-graph-div\" style=\"height:525px; width:100%;\"></div>            <script type=\"text/javascript\">                require([\"plotly\"], function(Plotly) {                    window.PLOTLYENV=window.PLOTLYENV || {};                                    if (document.getElementById(\"dfd05b4f-4b4b-4ac1-bb2b-5421cd4e688e\")) {                    Plotly.newPlot(                        \"dfd05b4f-4b4b-4ac1-bb2b-5421cd4e688e\",                        [{\"hovertemplate\":\"variable=GVA at Basic Prices<br>Financial Year=%{x}<br>value=%{y}<extra></extra>\",\"legendgroup\":\"GVA at Basic Prices\",\"line\":{\"color\":\"#636efa\",\"dash\":\"solid\"},\"marker\":{\"symbol\":\"circle\"},\"mode\":\"lines\",\"name\":\"GVA at Basic Prices\",\"orientation\":\"v\",\"showlegend\":true,\"x\":[\"2021-01-01T00:00:00\",\"2020-01-01T00:00:00\",\"2019-01-01T00:00:00\",\"2018-01-01T00:00:00\",\"2017-01-01T00:00:00\",\"2016-01-01T00:00:00\",\"2015-01-01T00:00:00\",\"2014-01-01T00:00:00\",\"2013-01-01T00:00:00\",\"2012-01-01T00:00:00\",\"2011-01-01T00:00:00\",\"2010-01-01T00:00:00\",\"2009-01-01T00:00:00\",\"2008-01-01T00:00:00\",\"2007-01-01T00:00:00\",\"2006-01-01T00:00:00\",\"2005-01-01T00:00:00\",\"2004-01-01T00:00:00\",\"2003-01-01T00:00:00\",\"2002-01-01T00:00:00\",\"2001-01-01T00:00:00\",\"2000-01-01T00:00:00\",\"1999-01-01T00:00:00\",\"1998-01-01T00:00:00\",\"1997-01-01T00:00:00\",\"1996-01-01T00:00:00\",\"1995-01-01T00:00:00\",\"1994-01-01T00:00:00\",\"1993-01-01T00:00:00\",\"1992-01-01T00:00:00\",\"1991-01-01T00:00:00\",\"1990-01-01T00:00:00\",\"1989-01-01T00:00:00\",\"1988-01-01T00:00:00\",\"1987-01-01T00:00:00\",\"1986-01-01T00:00:00\",\"1985-01-01T00:00:00\",\"1984-01-01T00:00:00\",\"1983-01-01T00:00:00\",\"1982-01-01T00:00:00\",\"1981-01-01T00:00:00\",\"1980-01-01T00:00:00\",\"1979-01-01T00:00:00\",\"1978-01-01T00:00:00\",\"1977-01-01T00:00:00\",\"1976-01-01T00:00:00\",\"1975-01-01T00:00:00\",\"1974-01-01T00:00:00\",\"1973-01-01T00:00:00\",\"1972-01-01T00:00:00\",\"1971-01-01T00:00:00\",\"1970-01-01T00:00:00\",\"1969-01-01T00:00:00\",\"1968-01-01T00:00:00\",\"1967-01-01T00:00:00\",\"1966-01-01T00:00:00\",\"1965-01-01T00:00:00\",\"1964-01-01T00:00:00\",\"1963-01-01T00:00:00\",\"1962-01-01T00:00:00\",\"1961-01-01T00:00:00\",\"1960-01-01T00:00:00\"],\"xaxis\":\"x\",\"y\":[8.1,-4.8,3.8,5.8,6.2,8.0,8.0,7.2,6.1,5.4,5.2,8.0,6.9,4.3,7.4,8.1,8.3,7.1,8.0,3.9,5.4,4.1,8.0,6.7,4.3,8.0,7.3,6.4,5.7,5.4,1.4,5.3,6.1,10.2,3.5,4.3,4.2,4.0,7.9,2.9,5.6,7.2,-5.2,5.5,7.5,1.2,9.0,1.2,4.6,-0.3,1.0,5.0,6.5,2.6,8.1,1.0,-3.7,7.6,5.1,2.1,3.1,7.1],\"yaxis\":\"y\",\"type\":\"scatter\"},{\"hovertemplate\":\"variable=Gross Domestic Product<br>Financial Year=%{x}<br>value=%{y}<extra></extra>\",\"legendgroup\":\"Gross Domestic Product\",\"line\":{\"color\":\"#EF553B\",\"dash\":\"solid\"},\"marker\":{\"symbol\":\"circle\"},\"mode\":\"lines\",\"name\":\"Gross Domestic Product\",\"orientation\":\"v\",\"showlegend\":true,\"x\":[\"2021-01-01T00:00:00\",\"2020-01-01T00:00:00\",\"2019-01-01T00:00:00\",\"2018-01-01T00:00:00\",\"2017-01-01T00:00:00\",\"2016-01-01T00:00:00\",\"2015-01-01T00:00:00\",\"2014-01-01T00:00:00\",\"2013-01-01T00:00:00\",\"2012-01-01T00:00:00\",\"2011-01-01T00:00:00\",\"2010-01-01T00:00:00\",\"2009-01-01T00:00:00\",\"2008-01-01T00:00:00\",\"2007-01-01T00:00:00\",\"2006-01-01T00:00:00\",\"2005-01-01T00:00:00\",\"2004-01-01T00:00:00\",\"2003-01-01T00:00:00\",\"2002-01-01T00:00:00\",\"2001-01-01T00:00:00\",\"2000-01-01T00:00:00\",\"1999-01-01T00:00:00\",\"1998-01-01T00:00:00\",\"1997-01-01T00:00:00\",\"1996-01-01T00:00:00\",\"1995-01-01T00:00:00\",\"1994-01-01T00:00:00\",\"1993-01-01T00:00:00\",\"1992-01-01T00:00:00\",\"1991-01-01T00:00:00\",\"1990-01-01T00:00:00\",\"1989-01-01T00:00:00\",\"1988-01-01T00:00:00\",\"1987-01-01T00:00:00\",\"1986-01-01T00:00:00\",\"1985-01-01T00:00:00\",\"1984-01-01T00:00:00\",\"1983-01-01T00:00:00\",\"1982-01-01T00:00:00\",\"1981-01-01T00:00:00\",\"1980-01-01T00:00:00\",\"1979-01-01T00:00:00\",\"1978-01-01T00:00:00\",\"1977-01-01T00:00:00\",\"1976-01-01T00:00:00\",\"1975-01-01T00:00:00\",\"1974-01-01T00:00:00\",\"1973-01-01T00:00:00\",\"1972-01-01T00:00:00\",\"1971-01-01T00:00:00\",\"1970-01-01T00:00:00\",\"1969-01-01T00:00:00\",\"1968-01-01T00:00:00\",\"1967-01-01T00:00:00\",\"1966-01-01T00:00:00\",\"1965-01-01T00:00:00\",\"1964-01-01T00:00:00\",\"1963-01-01T00:00:00\",\"1962-01-01T00:00:00\",\"1961-01-01T00:00:00\",\"1960-01-01T00:00:00\"],\"xaxis\":\"x\",\"y\":[8.7,-6.6,3.7,6.5,6.8,8.3,8.0,7.4,6.4,5.5,5.2,8.5,7.9,3.1,7.7,8.1,7.9,7.9,7.9,3.8,4.8,3.8,8.8,6.2,4.0,7.5,7.6,6.7,4.8,5.5,1.1,5.5,5.9,9.6,4.0,4.8,5.3,3.8,7.3,3.5,6.0,6.7,-5.2,5.7,7.3,1.7,9.1,1.2,3.3,-0.6,1.6,5.2,6.5,3.4,7.8,-0.1,-2.6,7.5,6.0,2.9,3.7,5.5],\"yaxis\":\"y\",\"type\":\"scatter\"},{\"hovertemplate\":\"variable=Gross National Income<br>Financial Year=%{x}<br>value=%{y}<extra></extra>\",\"legendgroup\":\"Gross National Income\",\"line\":{\"color\":\"#00cc96\",\"dash\":\"solid\"},\"marker\":{\"symbol\":\"circle\"},\"mode\":\"lines\",\"name\":\"Gross National Income\",\"orientation\":\"v\",\"showlegend\":true,\"x\":[\"2021-01-01T00:00:00\",\"2020-01-01T00:00:00\",\"2019-01-01T00:00:00\",\"2018-01-01T00:00:00\",\"2017-01-01T00:00:00\",\"2016-01-01T00:00:00\",\"2015-01-01T00:00:00\",\"2014-01-01T00:00:00\",\"2013-01-01T00:00:00\",\"2012-01-01T00:00:00\",\"2011-01-01T00:00:00\",\"2010-01-01T00:00:00\",\"2009-01-01T00:00:00\",\"2008-01-01T00:00:00\",\"2007-01-01T00:00:00\",\"2006-01-01T00:00:00\",\"2005-01-01T00:00:00\",\"2004-01-01T00:00:00\",\"2003-01-01T00:00:00\",\"2002-01-01T00:00:00\",\"2001-01-01T00:00:00\",\"2000-01-01T00:00:00\",\"1999-01-01T00:00:00\",\"1998-01-01T00:00:00\",\"1997-01-01T00:00:00\",\"1996-01-01T00:00:00\",\"1995-01-01T00:00:00\",\"1994-01-01T00:00:00\",\"1993-01-01T00:00:00\",\"1992-01-01T00:00:00\",\"1991-01-01T00:00:00\",\"1990-01-01T00:00:00\",\"1989-01-01T00:00:00\",\"1988-01-01T00:00:00\",\"1987-01-01T00:00:00\",\"1986-01-01T00:00:00\",\"1985-01-01T00:00:00\",\"1984-01-01T00:00:00\",\"1983-01-01T00:00:00\",\"1982-01-01T00:00:00\",\"1981-01-01T00:00:00\",\"1980-01-01T00:00:00\",\"1979-01-01T00:00:00\",\"1978-01-01T00:00:00\",\"1977-01-01T00:00:00\",\"1976-01-01T00:00:00\",\"1975-01-01T00:00:00\",\"1974-01-01T00:00:00\",\"1973-01-01T00:00:00\",\"1972-01-01T00:00:00\",\"1971-01-01T00:00:00\",\"1970-01-01T00:00:00\",\"1969-01-01T00:00:00\",\"1968-01-01T00:00:00\",\"1967-01-01T00:00:00\",\"1966-01-01T00:00:00\",\"1965-01-01T00:00:00\",\"1964-01-01T00:00:00\",\"1963-01-01T00:00:00\",\"1962-01-01T00:00:00\",\"1961-01-01T00:00:00\",\"1960-01-01T00:00:00\"],\"xaxis\":\"x\",\"y\":[8.5,-7.0,3.9,6.5,6.9,8.3,8.0,7.5,6.3,5.1,5.5,8.0,7.9,2.9,8.0,8.0,7.9,7.9,7.9,3.9,5.0,3.6,8.8,6.2,4.2,7.7,7.6,6.7,4.9,5.5,1.0,5.3,5.9,9.4,3.8,4.7,5.3,3.7,7.3,3.2,5.9,6.8,-5.1,5.7,7.3,1.7,9.2,1.3,3.4,-0.5,1.7,5.2,6.5,3.4,7.7,0.0,-2.7,7.4,6.0,2.9,3.6,5.5],\"yaxis\":\"y\",\"type\":\"scatter\"},{\"hovertemplate\":\"variable=Net National Income<br>Financial Year=%{x}<br>value=%{y}<extra></extra>\",\"legendgroup\":\"Net National Income\",\"line\":{\"color\":\"#ab63fa\",\"dash\":\"solid\"},\"marker\":{\"symbol\":\"circle\"},\"mode\":\"lines\",\"name\":\"Net National Income\",\"orientation\":\"v\",\"showlegend\":true,\"x\":[\"2021-01-01T00:00:00\",\"2020-01-01T00:00:00\",\"2019-01-01T00:00:00\",\"2018-01-01T00:00:00\",\"2017-01-01T00:00:00\",\"2016-01-01T00:00:00\",\"2015-01-01T00:00:00\",\"2014-01-01T00:00:00\",\"2013-01-01T00:00:00\",\"2012-01-01T00:00:00\",\"2011-01-01T00:00:00\",\"2010-01-01T00:00:00\",\"2009-01-01T00:00:00\",\"2008-01-01T00:00:00\",\"2007-01-01T00:00:00\",\"2006-01-01T00:00:00\",\"2005-01-01T00:00:00\",\"2004-01-01T00:00:00\",\"2003-01-01T00:00:00\",\"2002-01-01T00:00:00\",\"2001-01-01T00:00:00\",\"2000-01-01T00:00:00\",\"1999-01-01T00:00:00\",\"1998-01-01T00:00:00\",\"1997-01-01T00:00:00\",\"1996-01-01T00:00:00\",\"1995-01-01T00:00:00\",\"1994-01-01T00:00:00\",\"1993-01-01T00:00:00\",\"1992-01-01T00:00:00\",\"1991-01-01T00:00:00\",\"1990-01-01T00:00:00\",\"1989-01-01T00:00:00\",\"1988-01-01T00:00:00\",\"1987-01-01T00:00:00\",\"1986-01-01T00:00:00\",\"1985-01-01T00:00:00\",\"1984-01-01T00:00:00\",\"1983-01-01T00:00:00\",\"1982-01-01T00:00:00\",\"1981-01-01T00:00:00\",\"1980-01-01T00:00:00\",\"1979-01-01T00:00:00\",\"1978-01-01T00:00:00\",\"1977-01-01T00:00:00\",\"1976-01-01T00:00:00\",\"1975-01-01T00:00:00\",\"1974-01-01T00:00:00\",\"1973-01-01T00:00:00\",\"1972-01-01T00:00:00\",\"1971-01-01T00:00:00\",\"1970-01-01T00:00:00\",\"1969-01-01T00:00:00\",\"1968-01-01T00:00:00\",\"1967-01-01T00:00:00\",\"1966-01-01T00:00:00\",\"1965-01-01T00:00:00\",\"1964-01-01T00:00:00\",\"1963-01-01T00:00:00\",\"1962-01-01T00:00:00\",\"1961-01-01T00:00:00\",\"1960-01-01T00:00:00\"],\"xaxis\":\"x\",\"y\":[8.5,-8.7,3.4,6.2,6.7,8.2,8.0,7.5,6.0,4.5,5.0,7.8,7.5,2.2,7.8,7.8,7.7,7.8,8.0,3.8,4.8,3.3,8.9,6.1,3.9,7.8,7.7,6.7,5.0,5.5,0.5,5.2,6.0,9.8,3.5,4.7,5.2,3.4,7.5,3.0,6.0,6.9,-5.8,5.9,7.6,1.4,9.6,1.0,3.3,-0.8,1.5,4.8,6.5,3.3,7.8,-0.4,-3.1,7.4,6.1,2.8,3.6,5.8],\"yaxis\":\"y\",\"type\":\"scatter\"},{\"hovertemplate\":\"variable=Per Capita NNI<br>Financial Year=%{x}<br>value=%{y}<extra></extra>\",\"legendgroup\":\"Per Capita NNI\",\"line\":{\"color\":\"#FFA15A\",\"dash\":\"solid\"},\"marker\":{\"symbol\":\"circle\"},\"mode\":\"lines\",\"name\":\"Per Capita NNI\",\"orientation\":\"v\",\"showlegend\":true,\"x\":[\"2021-01-01T00:00:00\",\"2020-01-01T00:00:00\",\"2019-01-01T00:00:00\",\"2018-01-01T00:00:00\",\"2017-01-01T00:00:00\",\"2016-01-01T00:00:00\",\"2015-01-01T00:00:00\",\"2014-01-01T00:00:00\",\"2013-01-01T00:00:00\",\"2012-01-01T00:00:00\",\"2011-01-01T00:00:00\",\"2010-01-01T00:00:00\",\"2009-01-01T00:00:00\",\"2008-01-01T00:00:00\",\"2007-01-01T00:00:00\",\"2006-01-01T00:00:00\",\"2005-01-01T00:00:00\",\"2004-01-01T00:00:00\",\"2003-01-01T00:00:00\",\"2002-01-01T00:00:00\",\"2001-01-01T00:00:00\",\"2000-01-01T00:00:00\",\"1999-01-01T00:00:00\",\"1998-01-01T00:00:00\",\"1997-01-01T00:00:00\",\"1996-01-01T00:00:00\",\"1995-01-01T00:00:00\",\"1994-01-01T00:00:00\",\"1993-01-01T00:00:00\",\"1992-01-01T00:00:00\",\"1991-01-01T00:00:00\",\"1990-01-01T00:00:00\",\"1989-01-01T00:00:00\",\"1988-01-01T00:00:00\",\"1987-01-01T00:00:00\",\"1986-01-01T00:00:00\",\"1985-01-01T00:00:00\",\"1984-01-01T00:00:00\",\"1983-01-01T00:00:00\",\"1982-01-01T00:00:00\",\"1981-01-01T00:00:00\",\"1980-01-01T00:00:00\",\"1979-01-01T00:00:00\",\"1978-01-01T00:00:00\",\"1977-01-01T00:00:00\",\"1976-01-01T00:00:00\",\"1975-01-01T00:00:00\",\"1974-01-01T00:00:00\",\"1973-01-01T00:00:00\",\"1972-01-01T00:00:00\",\"1971-01-01T00:00:00\",\"1970-01-01T00:00:00\",\"1969-01-01T00:00:00\",\"1968-01-01T00:00:00\",\"1967-01-01T00:00:00\",\"1966-01-01T00:00:00\",\"1965-01-01T00:00:00\",\"1964-01-01T00:00:00\",\"1963-01-01T00:00:00\",\"1962-01-01T00:00:00\",\"1961-01-01T00:00:00\",\"1960-01-01T00:00:00\"],\"xaxis\":\"x\",\"y\":[7.5,-9.7,2.3,5.2,5.5,6.9,6.7,6.2,4.6,3.3,2.1,6.4,6.1,0.8,6.3,6.3,6.1,6.1,6.4,2.2,2.7,1.4,7.0,4.1,2.0,5.7,5.6,4.6,2.6,3.6,-1.5,3.1,3.8,7.5,1.3,2.5,3.0,1.2,5.3,0.7,4.0,4.5,-8.1,3.6,5.2,-0.8,7.1,-1.2,1.0,-3.1,-0.9,2.5,4.3,0.9,5.5,-2.5,-5.3,5.1,3.8,0.5,1.3,3.9],\"yaxis\":\"y\",\"type\":\"scatter\"},{\"hovertemplate\":\"variable=Gross Capital Formation<br>Financial Year=%{x}<br>value=%{y}<extra></extra>\",\"legendgroup\":\"Gross Capital Formation\",\"line\":{\"color\":\"#19d3f3\",\"dash\":\"solid\"},\"marker\":{\"symbol\":\"circle\"},\"mode\":\"lines\",\"name\":\"Gross Capital Formation\",\"orientation\":\"v\",\"showlegend\":true,\"x\":[\"2021-01-01T00:00:00\",\"2020-01-01T00:00:00\",\"2019-01-01T00:00:00\",\"2018-01-01T00:00:00\",\"2017-01-01T00:00:00\",\"2016-01-01T00:00:00\",\"2015-01-01T00:00:00\",\"2014-01-01T00:00:00\",\"2013-01-01T00:00:00\",\"2012-01-01T00:00:00\",\"2011-01-01T00:00:00\",\"2010-01-01T00:00:00\",\"2009-01-01T00:00:00\",\"2008-01-01T00:00:00\",\"2007-01-01T00:00:00\",\"2006-01-01T00:00:00\",\"2005-01-01T00:00:00\",\"2004-01-01T00:00:00\",\"2003-01-01T00:00:00\",\"2002-01-01T00:00:00\",\"2001-01-01T00:00:00\",\"2000-01-01T00:00:00\",\"1999-01-01T00:00:00\",\"1998-01-01T00:00:00\",\"1997-01-01T00:00:00\",\"1996-01-01T00:00:00\",\"1995-01-01T00:00:00\",\"1994-01-01T00:00:00\",\"1993-01-01T00:00:00\",\"1992-01-01T00:00:00\",\"1991-01-01T00:00:00\",\"1990-01-01T00:00:00\",\"1989-01-01T00:00:00\",\"1988-01-01T00:00:00\",\"1987-01-01T00:00:00\",\"1986-01-01T00:00:00\",\"1985-01-01T00:00:00\",\"1984-01-01T00:00:00\",\"1983-01-01T00:00:00\",\"1982-01-01T00:00:00\",\"1981-01-01T00:00:00\",\"1980-01-01T00:00:00\",\"1979-01-01T00:00:00\",\"1978-01-01T00:00:00\",\"1977-01-01T00:00:00\",\"1976-01-01T00:00:00\",\"1975-01-01T00:00:00\",\"1974-01-01T00:00:00\",\"1973-01-01T00:00:00\",\"1972-01-01T00:00:00\",\"1971-01-01T00:00:00\",\"1970-01-01T00:00:00\",\"1969-01-01T00:00:00\",\"1968-01-01T00:00:00\",\"1967-01-01T00:00:00\",\"1966-01-01T00:00:00\",\"1965-01-01T00:00:00\",\"1964-01-01T00:00:00\",\"1963-01-01T00:00:00\",\"1962-01-01T00:00:00\",\"1961-01-01T00:00:00\",\"1960-01-01T00:00:00\"],\"xaxis\":\"x\",\"y\":[null,31.5,34.1,37.3,37.5,34.9,34.5,34.8,35.2,39.5,39.0,40.1,36.2,34.6,38.7,33.5,32.9,29.7,25.2,23.5,22.6,22.7,24.9,23.1,23.6,21.4,22.8,22.8,20.3,20.8,19.4,23.5,20.9,20.5,20.0,18.4,18.6,18.1,17.9,18.0,18.1,20.3,19.9,21.4,19.0,17.5,15.0,18.2,19.4,16.8,17.5,16.4,17.3,16.6,17.5,19.7,18.8,16.6,16.2,15.9,14.4,15.1],\"yaxis\":\"y\",\"type\":\"scatter\"},{\"hovertemplate\":\"variable=Net Capital Formation<br>Financial Year=%{x}<br>value=%{y}<extra></extra>\",\"legendgroup\":\"Net Capital Formation\",\"line\":{\"color\":\"#FF6692\",\"dash\":\"solid\"},\"marker\":{\"symbol\":\"circle\"},\"mode\":\"lines\",\"name\":\"Net Capital Formation\",\"orientation\":\"v\",\"showlegend\":true,\"x\":[\"2021-01-01T00:00:00\",\"2020-01-01T00:00:00\",\"2019-01-01T00:00:00\",\"2018-01-01T00:00:00\",\"2017-01-01T00:00:00\",\"2016-01-01T00:00:00\",\"2015-01-01T00:00:00\",\"2014-01-01T00:00:00\",\"2013-01-01T00:00:00\",\"2012-01-01T00:00:00\",\"2011-01-01T00:00:00\",\"2010-01-01T00:00:00\",\"2009-01-01T00:00:00\",\"2008-01-01T00:00:00\",\"2007-01-01T00:00:00\",\"2006-01-01T00:00:00\",\"2005-01-01T00:00:00\",\"2004-01-01T00:00:00\",\"2003-01-01T00:00:00\",\"2002-01-01T00:00:00\",\"2001-01-01T00:00:00\",\"2000-01-01T00:00:00\",\"1999-01-01T00:00:00\",\"1998-01-01T00:00:00\",\"1997-01-01T00:00:00\",\"1996-01-01T00:00:00\",\"1995-01-01T00:00:00\",\"1994-01-01T00:00:00\",\"1993-01-01T00:00:00\",\"1992-01-01T00:00:00\",\"1991-01-01T00:00:00\",\"1990-01-01T00:00:00\",\"1989-01-01T00:00:00\",\"1988-01-01T00:00:00\",\"1987-01-01T00:00:00\",\"1986-01-01T00:00:00\",\"1985-01-01T00:00:00\",\"1984-01-01T00:00:00\",\"1983-01-01T00:00:00\",\"1982-01-01T00:00:00\",\"1981-01-01T00:00:00\",\"1980-01-01T00:00:00\",\"1979-01-01T00:00:00\",\"1978-01-01T00:00:00\",\"1977-01-01T00:00:00\",\"1976-01-01T00:00:00\",\"1975-01-01T00:00:00\",\"1974-01-01T00:00:00\",\"1973-01-01T00:00:00\",\"1972-01-01T00:00:00\",\"1971-01-01T00:00:00\",\"1970-01-01T00:00:00\",\"1969-01-01T00:00:00\",\"1968-01-01T00:00:00\",\"1967-01-01T00:00:00\",\"1966-01-01T00:00:00\",\"1965-01-01T00:00:00\",\"1964-01-01T00:00:00\",\"1963-01-01T00:00:00\",\"1962-01-01T00:00:00\",\"1961-01-01T00:00:00\",\"1960-01-01T00:00:00\"],\"xaxis\":\"x\",\"y\":[null,18.0,22.2,25.8,26.1,23.7,23.3,23.6,24.0,28.5,28.5,30.0,26.2,24.9,29.5,24.6,24.1,21.1,16.6,14.8,14.1,14.3,16.8,14.9,15.5,13.5,14.8,14.6,12.2,12.6,11.3,15.8,13.3,12.8,12.0,10.6,10.9,10.5,10.5,10.3,10.5,12.7,12.2,14.4,11.9,10.1,8.0,10.9,12.4,9.9,10.9,9.9,11.1,10.4,11.4,13.5,13.0,11.2,10.7,10.4,8.9,9.6],\"yaxis\":\"y\",\"type\":\"scatter\"}],                        {\"template\":{\"data\":{\"histogram2dcontour\":[{\"type\":\"histogram2dcontour\",\"colorbar\":{\"outlinewidth\":0,\"ticks\":\"\"},\"colorscale\":[[0.0,\"#0d0887\"],[0.1111111111111111,\"#46039f\"],[0.2222222222222222,\"#7201a8\"],[0.3333333333333333,\"#9c179e\"],[0.4444444444444444,\"#bd3786\"],[0.5555555555555556,\"#d8576b\"],[0.6666666666666666,\"#ed7953\"],[0.7777777777777778,\"#fb9f3a\"],[0.8888888888888888,\"#fdca26\"],[1.0,\"#f0f921\"]]}],\"choropleth\":[{\"type\":\"choropleth\",\"colorbar\":{\"outlinewidth\":0,\"ticks\":\"\"}}],\"histogram2d\":[{\"type\":\"histogram2d\",\"colorbar\":{\"outlinewidth\":0,\"ticks\":\"\"},\"colorscale\":[[0.0,\"#0d0887\"],[0.1111111111111111,\"#46039f\"],[0.2222222222222222,\"#7201a8\"],[0.3333333333333333,\"#9c179e\"],[0.4444444444444444,\"#bd3786\"],[0.5555555555555556,\"#d8576b\"],[0.6666666666666666,\"#ed7953\"],[0.7777777777777778,\"#fb9f3a\"],[0.8888888888888888,\"#fdca26\"],[1.0,\"#f0f921\"]]}],\"heatmap\":[{\"type\":\"heatmap\",\"colorbar\":{\"outlinewidth\":0,\"ticks\":\"\"},\"colorscale\":[[0.0,\"#0d0887\"],[0.1111111111111111,\"#46039f\"],[0.2222222222222222,\"#7201a8\"],[0.3333333333333333,\"#9c179e\"],[0.4444444444444444,\"#bd3786\"],[0.5555555555555556,\"#d8576b\"],[0.6666666666666666,\"#ed7953\"],[0.7777777777777778,\"#fb9f3a\"],[0.8888888888888888,\"#fdca26\"],[1.0,\"#f0f921\"]]}],\"heatmapgl\":[{\"type\":\"heatmapgl\",\"colorbar\":{\"outlinewidth\":0,\"ticks\":\"\"},\"colorscale\":[[0.0,\"#0d0887\"],[0.1111111111111111,\"#46039f\"],[0.2222222222222222,\"#7201a8\"],[0.3333333333333333,\"#9c179e\"],[0.4444444444444444,\"#bd3786\"],[0.5555555555555556,\"#d8576b\"],[0.6666666666666666,\"#ed7953\"],[0.7777777777777778,\"#fb9f3a\"],[0.8888888888888888,\"#fdca26\"],[1.0,\"#f0f921\"]]}],\"contourcarpet\":[{\"type\":\"contourcarpet\",\"colorbar\":{\"outlinewidth\":0,\"ticks\":\"\"}}],\"contour\":[{\"type\":\"contour\",\"colorbar\":{\"outlinewidth\":0,\"ticks\":\"\"},\"colorscale\":[[0.0,\"#0d0887\"],[0.1111111111111111,\"#46039f\"],[0.2222222222222222,\"#7201a8\"],[0.3333333333333333,\"#9c179e\"],[0.4444444444444444,\"#bd3786\"],[0.5555555555555556,\"#d8576b\"],[0.6666666666666666,\"#ed7953\"],[0.7777777777777778,\"#fb9f3a\"],[0.8888888888888888,\"#fdca26\"],[1.0,\"#f0f921\"]]}],\"surface\":[{\"type\":\"surface\",\"colorbar\":{\"outlinewidth\":0,\"ticks\":\"\"},\"colorscale\":[[0.0,\"#0d0887\"],[0.1111111111111111,\"#46039f\"],[0.2222222222222222,\"#7201a8\"],[0.3333333333333333,\"#9c179e\"],[0.4444444444444444,\"#bd3786\"],[0.5555555555555556,\"#d8576b\"],[0.6666666666666666,\"#ed7953\"],[0.7777777777777778,\"#fb9f3a\"],[0.8888888888888888,\"#fdca26\"],[1.0,\"#f0f921\"]]}],\"mesh3d\":[{\"type\":\"mesh3d\",\"colorbar\":{\"outlinewidth\":0,\"ticks\":\"\"}}],\"scatter\":[{\"fillpattern\":{\"fillmode\":\"overlay\",\"size\":10,\"solidity\":0.2},\"type\":\"scatter\"}],\"parcoords\":[{\"type\":\"parcoords\",\"line\":{\"colorbar\":{\"outlinewidth\":0,\"ticks\":\"\"}}}],\"scatterpolargl\":[{\"type\":\"scatterpolargl\",\"marker\":{\"colorbar\":{\"outlinewidth\":0,\"ticks\":\"\"}}}],\"bar\":[{\"error_x\":{\"color\":\"#2a3f5f\"},\"error_y\":{\"color\":\"#2a3f5f\"},\"marker\":{\"line\":{\"color\":\"#E5ECF6\",\"width\":0.5},\"pattern\":{\"fillmode\":\"overlay\",\"size\":10,\"solidity\":0.2}},\"type\":\"bar\"}],\"scattergeo\":[{\"type\":\"scattergeo\",\"marker\":{\"colorbar\":{\"outlinewidth\":0,\"ticks\":\"\"}}}],\"scatterpolar\":[{\"type\":\"scatterpolar\",\"marker\":{\"colorbar\":{\"outlinewidth\":0,\"ticks\":\"\"}}}],\"histogram\":[{\"marker\":{\"pattern\":{\"fillmode\":\"overlay\",\"size\":10,\"solidity\":0.2}},\"type\":\"histogram\"}],\"scattergl\":[{\"type\":\"scattergl\",\"marker\":{\"colorbar\":{\"outlinewidth\":0,\"ticks\":\"\"}}}],\"scatter3d\":[{\"type\":\"scatter3d\",\"line\":{\"colorbar\":{\"outlinewidth\":0,\"ticks\":\"\"}},\"marker\":{\"colorbar\":{\"outlinewidth\":0,\"ticks\":\"\"}}}],\"scattermapbox\":[{\"type\":\"scattermapbox\",\"marker\":{\"colorbar\":{\"outlinewidth\":0,\"ticks\":\"\"}}}],\"scatterternary\":[{\"type\":\"scatterternary\",\"marker\":{\"colorbar\":{\"outlinewidth\":0,\"ticks\":\"\"}}}],\"scattercarpet\":[{\"type\":\"scattercarpet\",\"marker\":{\"colorbar\":{\"outlinewidth\":0,\"ticks\":\"\"}}}],\"carpet\":[{\"aaxis\":{\"endlinecolor\":\"#2a3f5f\",\"gridcolor\":\"white\",\"linecolor\":\"white\",\"minorgridcolor\":\"white\",\"startlinecolor\":\"#2a3f5f\"},\"baxis\":{\"endlinecolor\":\"#2a3f5f\",\"gridcolor\":\"white\",\"linecolor\":\"white\",\"minorgridcolor\":\"white\",\"startlinecolor\":\"#2a3f5f\"},\"type\":\"carpet\"}],\"table\":[{\"cells\":{\"fill\":{\"color\":\"#EBF0F8\"},\"line\":{\"color\":\"white\"}},\"header\":{\"fill\":{\"color\":\"#C8D4E3\"},\"line\":{\"color\":\"white\"}},\"type\":\"table\"}],\"barpolar\":[{\"marker\":{\"line\":{\"color\":\"#E5ECF6\",\"width\":0.5},\"pattern\":{\"fillmode\":\"overlay\",\"size\":10,\"solidity\":0.2}},\"type\":\"barpolar\"}],\"pie\":[{\"automargin\":true,\"type\":\"pie\"}]},\"layout\":{\"autotypenumbers\":\"strict\",\"colorway\":[\"#636efa\",\"#EF553B\",\"#00cc96\",\"#ab63fa\",\"#FFA15A\",\"#19d3f3\",\"#FF6692\",\"#B6E880\",\"#FF97FF\",\"#FECB52\"],\"font\":{\"color\":\"#2a3f5f\"},\"hovermode\":\"closest\",\"hoverlabel\":{\"align\":\"left\"},\"paper_bgcolor\":\"white\",\"plot_bgcolor\":\"#E5ECF6\",\"polar\":{\"bgcolor\":\"#E5ECF6\",\"angularaxis\":{\"gridcolor\":\"white\",\"linecolor\":\"white\",\"ticks\":\"\"},\"radialaxis\":{\"gridcolor\":\"white\",\"linecolor\":\"white\",\"ticks\":\"\"}},\"ternary\":{\"bgcolor\":\"#E5ECF6\",\"aaxis\":{\"gridcolor\":\"white\",\"linecolor\":\"white\",\"ticks\":\"\"},\"baxis\":{\"gridcolor\":\"white\",\"linecolor\":\"white\",\"ticks\":\"\"},\"caxis\":{\"gridcolor\":\"white\",\"linecolor\":\"white\",\"ticks\":\"\"}},\"coloraxis\":{\"colorbar\":{\"outlinewidth\":0,\"ticks\":\"\"}},\"colorscale\":{\"sequential\":[[0.0,\"#0d0887\"],[0.1111111111111111,\"#46039f\"],[0.2222222222222222,\"#7201a8\"],[0.3333333333333333,\"#9c179e\"],[0.4444444444444444,\"#bd3786\"],[0.5555555555555556,\"#d8576b\"],[0.6666666666666666,\"#ed7953\"],[0.7777777777777778,\"#fb9f3a\"],[0.8888888888888888,\"#fdca26\"],[1.0,\"#f0f921\"]],\"sequentialminus\":[[0.0,\"#0d0887\"],[0.1111111111111111,\"#46039f\"],[0.2222222222222222,\"#7201a8\"],[0.3333333333333333,\"#9c179e\"],[0.4444444444444444,\"#bd3786\"],[0.5555555555555556,\"#d8576b\"],[0.6666666666666666,\"#ed7953\"],[0.7777777777777778,\"#fb9f3a\"],[0.8888888888888888,\"#fdca26\"],[1.0,\"#f0f921\"]],\"diverging\":[[0,\"#8e0152\"],[0.1,\"#c51b7d\"],[0.2,\"#de77ae\"],[0.3,\"#f1b6da\"],[0.4,\"#fde0ef\"],[0.5,\"#f7f7f7\"],[0.6,\"#e6f5d0\"],[0.7,\"#b8e186\"],[0.8,\"#7fbc41\"],[0.9,\"#4d9221\"],[1,\"#276419\"]]},\"xaxis\":{\"gridcolor\":\"white\",\"linecolor\":\"white\",\"ticks\":\"\",\"title\":{\"standoff\":15},\"zerolinecolor\":\"white\",\"automargin\":true,\"zerolinewidth\":2},\"yaxis\":{\"gridcolor\":\"white\",\"linecolor\":\"white\",\"ticks\":\"\",\"title\":{\"standoff\":15},\"zerolinecolor\":\"white\",\"automargin\":true,\"zerolinewidth\":2},\"scene\":{\"xaxis\":{\"backgroundcolor\":\"#E5ECF6\",\"gridcolor\":\"white\",\"linecolor\":\"white\",\"showbackground\":true,\"ticks\":\"\",\"zerolinecolor\":\"white\",\"gridwidth\":2},\"yaxis\":{\"backgroundcolor\":\"#E5ECF6\",\"gridcolor\":\"white\",\"linecolor\":\"white\",\"showbackground\":true,\"ticks\":\"\",\"zerolinecolor\":\"white\",\"gridwidth\":2},\"zaxis\":{\"backgroundcolor\":\"#E5ECF6\",\"gridcolor\":\"white\",\"linecolor\":\"white\",\"showbackground\":true,\"ticks\":\"\",\"zerolinecolor\":\"white\",\"gridwidth\":2}},\"shapedefaults\":{\"line\":{\"color\":\"#2a3f5f\"}},\"annotationdefaults\":{\"arrowcolor\":\"#2a3f5f\",\"arrowhead\":0,\"arrowwidth\":1},\"geo\":{\"bgcolor\":\"white\",\"landcolor\":\"#E5ECF6\",\"subunitcolor\":\"white\",\"showland\":true,\"showlakes\":true,\"lakecolor\":\"white\"},\"title\":{\"x\":0.05},\"mapbox\":{\"style\":\"light\"}}},\"xaxis\":{\"anchor\":\"y\",\"domain\":[0.0,1.0],\"title\":{\"text\":\"Financial Year\"}},\"yaxis\":{\"anchor\":\"x\",\"domain\":[0.0,1.0],\"title\":{\"text\":\"value\"}},\"legend\":{\"title\":{\"text\":\"variable\"},\"tracegroupgap\":0},\"title\":{\"text\":\"Annual Growth Rates\"}},                        {\"responsive\": true}                    ).then(function(){\n",
       "                            \n",
       "var gd = document.getElementById('dfd05b4f-4b4b-4ac1-bb2b-5421cd4e688e');\n",
       "var x = new MutationObserver(function (mutations, observer) {{\n",
       "        var display = window.getComputedStyle(gd).display;\n",
       "        if (!display || display === 'none') {{\n",
       "            console.log([gd, 'removed!']);\n",
       "            Plotly.purge(gd);\n",
       "            observer.disconnect();\n",
       "        }}\n",
       "}});\n",
       "\n",
       "// Listen for the removal of the full notebook cells\n",
       "var notebookContainer = gd.closest('#notebook-container');\n",
       "if (notebookContainer) {{\n",
       "    x.observe(notebookContainer, {childList: true});\n",
       "}}\n",
       "\n",
       "// Listen for the clearing of the current output cell\n",
       "var outputEl = gd.closest('.output');\n",
       "if (outputEl) {{\n",
       "    x.observe(outputEl, {childList: true});\n",
       "}}\n",
       "\n",
       "                        })                };                });            </script>        </div>"
      ]
     },
     "metadata": {},
     "output_type": "display_data"
    }
   ],
   "source": [
    "fig = px.line(annual_growth_rates, x='Financial Year', y=['GVA at Basic Prices', 'Gross Domestic Product',\n",
    "       'Gross National Income', 'Net National Income', 'Per Capita NNI',\n",
    "       'Gross Capital Formation', 'Net Capital Formation'], title='Annual Growth Rates')\n",
    "fig.show()"
   ]
  },
  {
   "cell_type": "code",
   "execution_count": 28,
   "metadata": {},
   "outputs": [],
   "source": [
    "annual_growth_rates.to_csv('annual_growth_rates_final.csv', index=False)"
   ]
  },
  {
   "attachments": {},
   "cell_type": "markdown",
   "metadata": {},
   "source": [
    "# GDP GNI NNI"
   ]
  },
  {
   "cell_type": "code",
   "execution_count": 33,
   "metadata": {},
   "outputs": [
    {
     "data": {
      "text/html": [
       "<div>\n",
       "<style scoped>\n",
       "    .dataframe tbody tr th:only-of-type {\n",
       "        vertical-align: middle;\n",
       "    }\n",
       "\n",
       "    .dataframe tbody tr th {\n",
       "        vertical-align: top;\n",
       "    }\n",
       "\n",
       "    .dataframe thead th {\n",
       "        text-align: right;\n",
       "    }\n",
       "</style>\n",
       "<table border=\"1\" class=\"dataframe\">\n",
       "  <thead>\n",
       "    <tr style=\"text-align: right;\">\n",
       "      <th></th>\n",
       "      <th>Financial Year</th>\n",
       "      <th>GVA at Basic Prices</th>\n",
       "      <th>Net taxes on Products</th>\n",
       "      <th>Gross Domestic Product</th>\n",
       "      <th>Gross National Income</th>\n",
       "      <th>Net National Income</th>\n",
       "      <th>Per Capita GDP</th>\n",
       "      <th>Per Capita GNI</th>\n",
       "      <th>Per Capita NNI</th>\n",
       "    </tr>\n",
       "  </thead>\n",
       "  <tbody>\n",
       "    <tr>\n",
       "      <th>0</th>\n",
       "      <td>1950-51</td>\n",
       "      <td>479210</td>\n",
       "      <td>17638</td>\n",
       "      <td>496848</td>\n",
       "      <td>495274</td>\n",
       "      <td>448483</td>\n",
       "      <td>13840</td>\n",
       "      <td>13796</td>\n",
       "      <td>12493</td>\n",
       "    </tr>\n",
       "    <tr>\n",
       "      <th>1</th>\n",
       "      <td>1951-52</td>\n",
       "      <td>490399</td>\n",
       "      <td>21091</td>\n",
       "      <td>511489</td>\n",
       "      <td>510505</td>\n",
       "      <td>465486</td>\n",
       "      <td>14013</td>\n",
       "      <td>13986</td>\n",
       "      <td>12753</td>\n",
       "    </tr>\n",
       "    <tr>\n",
       "      <th>2</th>\n",
       "      <td>1952-53</td>\n",
       "      <td>504315</td>\n",
       "      <td>20604</td>\n",
       "      <td>524919</td>\n",
       "      <td>524122</td>\n",
       "      <td>480731</td>\n",
       "      <td>14111</td>\n",
       "      <td>14089</td>\n",
       "      <td>12923</td>\n",
       "    </tr>\n",
       "    <tr>\n",
       "      <th>3</th>\n",
       "      <td>1953-54</td>\n",
       "      <td>535010</td>\n",
       "      <td>22193</td>\n",
       "      <td>557203</td>\n",
       "      <td>556545</td>\n",
       "      <td>514489</td>\n",
       "      <td>14702</td>\n",
       "      <td>14685</td>\n",
       "      <td>13575</td>\n",
       "    </tr>\n",
       "    <tr>\n",
       "      <th>4</th>\n",
       "      <td>1954-55</td>\n",
       "      <td>557724</td>\n",
       "      <td>26287</td>\n",
       "      <td>584011</td>\n",
       "      <td>583005</td>\n",
       "      <td>548393</td>\n",
       "      <td>15130</td>\n",
       "      <td>15104</td>\n",
       "      <td>14207</td>\n",
       "    </tr>\n",
       "    <tr>\n",
       "      <th>...</th>\n",
       "      <td>...</td>\n",
       "      <td>...</td>\n",
       "      <td>...</td>\n",
       "      <td>...</td>\n",
       "      <td>...</td>\n",
       "      <td>...</td>\n",
       "      <td>...</td>\n",
       "      <td>...</td>\n",
       "      <td>...</td>\n",
       "    </tr>\n",
       "    <tr>\n",
       "      <th>67</th>\n",
       "      <td>2017-18</td>\n",
       "      <td>12034171</td>\n",
       "      <td>1110412</td>\n",
       "      <td>13144582</td>\n",
       "      <td>12998695</td>\n",
       "      <td>11508774</td>\n",
       "      <td>100035</td>\n",
       "      <td>98925</td>\n",
       "      <td>87586</td>\n",
       "    </tr>\n",
       "    <tr>\n",
       "      <th>68</th>\n",
       "      <td>2018-19</td>\n",
       "      <td>12733798</td>\n",
       "      <td>1259116</td>\n",
       "      <td>13992914</td>\n",
       "      <td>13840474</td>\n",
       "      <td>12226019</td>\n",
       "      <td>105448</td>\n",
       "      <td>104299</td>\n",
       "      <td>92133</td>\n",
       "    </tr>\n",
       "    <tr>\n",
       "      <th>69</th>\n",
       "      <td>2019-20</td>\n",
       "      <td>13219476</td>\n",
       "      <td>1296482</td>\n",
       "      <td>14515958</td>\n",
       "      <td>14374253</td>\n",
       "      <td>12641633</td>\n",
       "      <td>108247</td>\n",
       "      <td>107191</td>\n",
       "      <td>94270</td>\n",
       "    </tr>\n",
       "    <tr>\n",
       "      <th>70</th>\n",
       "      <td>2020-21</td>\n",
       "      <td>12585074</td>\n",
       "      <td>973400</td>\n",
       "      <td>13558473</td>\n",
       "      <td>13368279</td>\n",
       "      <td>11536004</td>\n",
       "      <td>100032</td>\n",
       "      <td>98629</td>\n",
       "      <td>85110</td>\n",
       "    </tr>\n",
       "    <tr>\n",
       "      <th>71</th>\n",
       "      <td>2021-22</td>\n",
       "      <td>13798025</td>\n",
       "      <td>-</td>\n",
       "      <td>14925840</td>\n",
       "      <td>14619532</td>\n",
       "      <td>12670834</td>\n",
       "      <td>109060</td>\n",
       "      <td>106822</td>\n",
       "      <td>92583</td>\n",
       "    </tr>\n",
       "  </tbody>\n",
       "</table>\n",
       "<p>72 rows × 9 columns</p>\n",
       "</div>"
      ],
      "text/plain": [
       "   Financial Year  GVA at Basic Prices Net taxes on Products  \\\n",
       "0      1950-51                  479210                 17638   \n",
       "1      1951-52                  490399                 21091   \n",
       "2      1952-53                  504315                 20604   \n",
       "3      1953-54                  535010                 22193   \n",
       "4      1954-55                  557724                 26287   \n",
       "..            ...                  ...                   ...   \n",
       "67     2017-18                12034171               1110412   \n",
       "68     2018-19                12733798               1259116   \n",
       "69     2019-20                13219476               1296482   \n",
       "70     2020-21                12585074                973400   \n",
       "71     2021-22                13798025                     -   \n",
       "\n",
       "    Gross Domestic Product  Gross National Income  Net National Income  \\\n",
       "0                   496848                 495274               448483   \n",
       "1                   511489                 510505               465486   \n",
       "2                   524919                 524122               480731   \n",
       "3                   557203                 556545               514489   \n",
       "4                   584011                 583005               548393   \n",
       "..                     ...                    ...                  ...   \n",
       "67                13144582               12998695             11508774   \n",
       "68                13992914               13840474             12226019   \n",
       "69                14515958               14374253             12641633   \n",
       "70                13558473               13368279             11536004   \n",
       "71                14925840               14619532             12670834   \n",
       "\n",
       "    Per Capita GDP  Per Capita GNI  Per Capita NNI  \n",
       "0            13840           13796           12493  \n",
       "1            14013           13986           12753  \n",
       "2            14111           14089           12923  \n",
       "3            14702           14685           13575  \n",
       "4            15130           15104           14207  \n",
       "..             ...             ...             ...  \n",
       "67          100035           98925           87586  \n",
       "68          105448          104299           92133  \n",
       "69          108247          107191           94270  \n",
       "70          100032           98629           85110  \n",
       "71          109060          106822           92583  \n",
       "\n",
       "[72 rows x 9 columns]"
      ]
     },
     "execution_count": 33,
     "metadata": {},
     "output_type": "execute_result"
    }
   ],
   "source": [
    "title = 'MACROECONOMIC AGGREGATES (At constant prices) (Rupees Crore)'\n",
    "gdp_gni_nni = pd.read_csv('gdp gni nni.csv')\n",
    "gdp_gni_nni"
   ]
  },
  {
   "cell_type": "code",
   "execution_count": 34,
   "metadata": {},
   "outputs": [
    {
     "data": {
      "text/html": [
       "<div>\n",
       "<style scoped>\n",
       "    .dataframe tbody tr th:only-of-type {\n",
       "        vertical-align: middle;\n",
       "    }\n",
       "\n",
       "    .dataframe tbody tr th {\n",
       "        vertical-align: top;\n",
       "    }\n",
       "\n",
       "    .dataframe thead th {\n",
       "        text-align: right;\n",
       "    }\n",
       "</style>\n",
       "<table border=\"1\" class=\"dataframe\">\n",
       "  <thead>\n",
       "    <tr style=\"text-align: right;\">\n",
       "      <th></th>\n",
       "      <th>Financial Year</th>\n",
       "      <th>GVA at Basic Prices</th>\n",
       "      <th>Net taxes on Products</th>\n",
       "      <th>Gross Domestic Product</th>\n",
       "      <th>Gross National Income</th>\n",
       "      <th>Net National Income</th>\n",
       "      <th>Per Capita GDP</th>\n",
       "      <th>Per Capita GNI</th>\n",
       "      <th>Per Capita NNI</th>\n",
       "    </tr>\n",
       "  </thead>\n",
       "  <tbody>\n",
       "    <tr>\n",
       "      <th>0</th>\n",
       "      <td>1950-01-01</td>\n",
       "      <td>479210</td>\n",
       "      <td>17638.0</td>\n",
       "      <td>496848</td>\n",
       "      <td>495274</td>\n",
       "      <td>448483</td>\n",
       "      <td>13840</td>\n",
       "      <td>13796</td>\n",
       "      <td>12493</td>\n",
       "    </tr>\n",
       "    <tr>\n",
       "      <th>1</th>\n",
       "      <td>1951-01-01</td>\n",
       "      <td>490399</td>\n",
       "      <td>21091.0</td>\n",
       "      <td>511489</td>\n",
       "      <td>510505</td>\n",
       "      <td>465486</td>\n",
       "      <td>14013</td>\n",
       "      <td>13986</td>\n",
       "      <td>12753</td>\n",
       "    </tr>\n",
       "    <tr>\n",
       "      <th>2</th>\n",
       "      <td>1952-01-01</td>\n",
       "      <td>504315</td>\n",
       "      <td>20604.0</td>\n",
       "      <td>524919</td>\n",
       "      <td>524122</td>\n",
       "      <td>480731</td>\n",
       "      <td>14111</td>\n",
       "      <td>14089</td>\n",
       "      <td>12923</td>\n",
       "    </tr>\n",
       "    <tr>\n",
       "      <th>3</th>\n",
       "      <td>1953-01-01</td>\n",
       "      <td>535010</td>\n",
       "      <td>22193.0</td>\n",
       "      <td>557203</td>\n",
       "      <td>556545</td>\n",
       "      <td>514489</td>\n",
       "      <td>14702</td>\n",
       "      <td>14685</td>\n",
       "      <td>13575</td>\n",
       "    </tr>\n",
       "    <tr>\n",
       "      <th>4</th>\n",
       "      <td>1954-01-01</td>\n",
       "      <td>557724</td>\n",
       "      <td>26287.0</td>\n",
       "      <td>584011</td>\n",
       "      <td>583005</td>\n",
       "      <td>548393</td>\n",
       "      <td>15130</td>\n",
       "      <td>15104</td>\n",
       "      <td>14207</td>\n",
       "    </tr>\n",
       "    <tr>\n",
       "      <th>...</th>\n",
       "      <td>...</td>\n",
       "      <td>...</td>\n",
       "      <td>...</td>\n",
       "      <td>...</td>\n",
       "      <td>...</td>\n",
       "      <td>...</td>\n",
       "      <td>...</td>\n",
       "      <td>...</td>\n",
       "      <td>...</td>\n",
       "    </tr>\n",
       "    <tr>\n",
       "      <th>67</th>\n",
       "      <td>2017-01-01</td>\n",
       "      <td>12034171</td>\n",
       "      <td>1110412.0</td>\n",
       "      <td>13144582</td>\n",
       "      <td>12998695</td>\n",
       "      <td>11508774</td>\n",
       "      <td>100035</td>\n",
       "      <td>98925</td>\n",
       "      <td>87586</td>\n",
       "    </tr>\n",
       "    <tr>\n",
       "      <th>68</th>\n",
       "      <td>2018-01-01</td>\n",
       "      <td>12733798</td>\n",
       "      <td>1259116.0</td>\n",
       "      <td>13992914</td>\n",
       "      <td>13840474</td>\n",
       "      <td>12226019</td>\n",
       "      <td>105448</td>\n",
       "      <td>104299</td>\n",
       "      <td>92133</td>\n",
       "    </tr>\n",
       "    <tr>\n",
       "      <th>69</th>\n",
       "      <td>2019-01-01</td>\n",
       "      <td>13219476</td>\n",
       "      <td>1296482.0</td>\n",
       "      <td>14515958</td>\n",
       "      <td>14374253</td>\n",
       "      <td>12641633</td>\n",
       "      <td>108247</td>\n",
       "      <td>107191</td>\n",
       "      <td>94270</td>\n",
       "    </tr>\n",
       "    <tr>\n",
       "      <th>70</th>\n",
       "      <td>2020-01-01</td>\n",
       "      <td>12585074</td>\n",
       "      <td>973400.0</td>\n",
       "      <td>13558473</td>\n",
       "      <td>13368279</td>\n",
       "      <td>11536004</td>\n",
       "      <td>100032</td>\n",
       "      <td>98629</td>\n",
       "      <td>85110</td>\n",
       "    </tr>\n",
       "    <tr>\n",
       "      <th>71</th>\n",
       "      <td>2021-01-01</td>\n",
       "      <td>13798025</td>\n",
       "      <td>NaN</td>\n",
       "      <td>14925840</td>\n",
       "      <td>14619532</td>\n",
       "      <td>12670834</td>\n",
       "      <td>109060</td>\n",
       "      <td>106822</td>\n",
       "      <td>92583</td>\n",
       "    </tr>\n",
       "  </tbody>\n",
       "</table>\n",
       "<p>72 rows × 9 columns</p>\n",
       "</div>"
      ],
      "text/plain": [
       "   Financial Year  GVA at Basic Prices  Net taxes on Products  \\\n",
       "0      1950-01-01               479210                17638.0   \n",
       "1      1951-01-01               490399                21091.0   \n",
       "2      1952-01-01               504315                20604.0   \n",
       "3      1953-01-01               535010                22193.0   \n",
       "4      1954-01-01               557724                26287.0   \n",
       "..            ...                  ...                    ...   \n",
       "67     2017-01-01             12034171              1110412.0   \n",
       "68     2018-01-01             12733798              1259116.0   \n",
       "69     2019-01-01             13219476              1296482.0   \n",
       "70     2020-01-01             12585074               973400.0   \n",
       "71     2021-01-01             13798025                    NaN   \n",
       "\n",
       "    Gross Domestic Product  Gross National Income  Net National Income  \\\n",
       "0                   496848                 495274               448483   \n",
       "1                   511489                 510505               465486   \n",
       "2                   524919                 524122               480731   \n",
       "3                   557203                 556545               514489   \n",
       "4                   584011                 583005               548393   \n",
       "..                     ...                    ...                  ...   \n",
       "67                13144582               12998695             11508774   \n",
       "68                13992914               13840474             12226019   \n",
       "69                14515958               14374253             12641633   \n",
       "70                13558473               13368279             11536004   \n",
       "71                14925840               14619532             12670834   \n",
       "\n",
       "    Per Capita GDP  Per Capita GNI  Per Capita NNI  \n",
       "0            13840           13796           12493  \n",
       "1            14013           13986           12753  \n",
       "2            14111           14089           12923  \n",
       "3            14702           14685           13575  \n",
       "4            15130           15104           14207  \n",
       "..             ...             ...             ...  \n",
       "67          100035           98925           87586  \n",
       "68          105448          104299           92133  \n",
       "69          108247          107191           94270  \n",
       "70          100032           98629           85110  \n",
       "71          109060          106822           92583  \n",
       "\n",
       "[72 rows x 9 columns]"
      ]
     },
     "execution_count": 34,
     "metadata": {},
     "output_type": "execute_result"
    }
   ],
   "source": [
    "gdp_gni_nni.iloc[:, 1:] = gdp_gni_nni.iloc[:, 1:].apply(pd.to_numeric, errors = 'coerce')\n",
    "gdp_gni_nni['Financial Year'] = pd.to_datetime(gdp_gni_nni['Financial Year'].str[:4], format='%Y')\n",
    "gdp_gni_nni"
   ]
  },
  {
   "cell_type": "code",
   "execution_count": 35,
   "metadata": {},
   "outputs": [
    {
     "data": {
      "text/plain": [
       "Index(['Financial Year', 'GVA at Basic Prices', 'Net taxes on Products',\n",
       "       'Gross Domestic Product', 'Gross National Income',\n",
       "       'Net National Income', 'Per Capita GDP', 'Per Capita GNI',\n",
       "       'Per Capita NNI'],\n",
       "      dtype='object')"
      ]
     },
     "execution_count": 35,
     "metadata": {},
     "output_type": "execute_result"
    }
   ],
   "source": [
    "gdp_gni_nni.columns"
   ]
  },
  {
   "cell_type": "code",
   "execution_count": 39,
   "metadata": {},
   "outputs": [
    {
     "data": {
      "application/vnd.plotly.v1+json": {
       "config": {
        "plotlyServerURL": "https://plot.ly"
       },
       "data": [
        {
         "hovertemplate": "variable=GVA at Basic Prices<br>Financial Year=%{x}<br>value=%{y}<extra></extra>",
         "legendgroup": "GVA at Basic Prices",
         "line": {
          "color": "#636efa",
          "dash": "solid"
         },
         "marker": {
          "symbol": "circle"
         },
         "mode": "lines",
         "name": "GVA at Basic Prices",
         "orientation": "v",
         "showlegend": true,
         "type": "scatter",
         "x": [
          "1950-01-01T00:00:00",
          "1951-01-01T00:00:00",
          "1952-01-01T00:00:00",
          "1953-01-01T00:00:00",
          "1954-01-01T00:00:00",
          "1955-01-01T00:00:00",
          "1956-01-01T00:00:00",
          "1957-01-01T00:00:00",
          "1958-01-01T00:00:00",
          "1959-01-01T00:00:00",
          "1960-01-01T00:00:00",
          "1961-01-01T00:00:00",
          "1962-01-01T00:00:00",
          "1963-01-01T00:00:00",
          "1964-01-01T00:00:00",
          "1965-01-01T00:00:00",
          "1966-01-01T00:00:00",
          "1967-01-01T00:00:00",
          "1968-01-01T00:00:00",
          "1969-01-01T00:00:00",
          "1970-01-01T00:00:00",
          "1971-01-01T00:00:00",
          "1972-01-01T00:00:00",
          "1973-01-01T00:00:00",
          "1974-01-01T00:00:00",
          "1975-01-01T00:00:00",
          "1976-01-01T00:00:00",
          "1977-01-01T00:00:00",
          "1978-01-01T00:00:00",
          "1979-01-01T00:00:00",
          "1980-01-01T00:00:00",
          "1981-01-01T00:00:00",
          "1982-01-01T00:00:00",
          "1983-01-01T00:00:00",
          "1984-01-01T00:00:00",
          "1985-01-01T00:00:00",
          "1986-01-01T00:00:00",
          "1987-01-01T00:00:00",
          "1988-01-01T00:00:00",
          "1989-01-01T00:00:00",
          "1990-01-01T00:00:00",
          "1991-01-01T00:00:00",
          "1992-01-01T00:00:00",
          "1993-01-01T00:00:00",
          "1994-01-01T00:00:00",
          "1995-01-01T00:00:00",
          "1996-01-01T00:00:00",
          "1997-01-01T00:00:00",
          "1998-01-01T00:00:00",
          "1999-01-01T00:00:00",
          "2000-01-01T00:00:00",
          "2001-01-01T00:00:00",
          "2002-01-01T00:00:00",
          "2003-01-01T00:00:00",
          "2004-01-01T00:00:00",
          "2005-01-01T00:00:00",
          "2006-01-01T00:00:00",
          "2007-01-01T00:00:00",
          "2008-01-01T00:00:00",
          "2009-01-01T00:00:00",
          "2010-01-01T00:00:00",
          "2011-01-01T00:00:00",
          "2012-01-01T00:00:00",
          "2013-01-01T00:00:00",
          "2014-01-01T00:00:00",
          "2015-01-01T00:00:00",
          "2016-01-01T00:00:00",
          "2017-01-01T00:00:00",
          "2018-01-01T00:00:00",
          "2019-01-01T00:00:00",
          "2020-01-01T00:00:00",
          "2021-01-01T00:00:00"
         ],
         "xaxis": "x",
         "y": [
          479210,
          490399,
          504315,
          535010,
          557724,
          572009,
          604570,
          597260,
          642587,
          656648,
          703138,
          724957,
          740293,
          777773,
          836759,
          806176,
          814380,
          880654,
          903636,
          962522,
          1010777,
          1020982,
          1017730,
          1064051,
          1076403,
          1173327,
          1187992,
          1276734,
          1346987,
          1276924,
          1368481,
          1445465,
          1487737,
          1604580,
          1668141,
          1737565,
          1812537,
          1876600,
          2067262,
          2194056,
          2310015,
          2343059,
          2468738,
          2608995,
          2775834,
          2978143,
          3215638,
          3353964,
          3578123,
          3864524,
          4024831,
          4241595,
          4406074,
          4757084,
          5092503,
          5514228,
          5958367,
          6398295,
          6674215,
          7131836,
          7704514,
          8106946,
          8546275,
          9063649,
          9712133,
          10491870,
          11328285,
          12034171,
          12733798,
          13219476,
          12585074,
          13798025
         ],
         "yaxis": "y"
        },
        {
         "hovertemplate": "variable=Net taxes on Products<br>Financial Year=%{x}<br>value=%{y}<extra></extra>",
         "legendgroup": "Net taxes on Products",
         "line": {
          "color": "#EF553B",
          "dash": "solid"
         },
         "marker": {
          "symbol": "circle"
         },
         "mode": "lines",
         "name": "Net taxes on Products",
         "orientation": "v",
         "showlegend": true,
         "type": "scatter",
         "x": [
          "1950-01-01T00:00:00",
          "1951-01-01T00:00:00",
          "1952-01-01T00:00:00",
          "1953-01-01T00:00:00",
          "1954-01-01T00:00:00",
          "1955-01-01T00:00:00",
          "1956-01-01T00:00:00",
          "1957-01-01T00:00:00",
          "1958-01-01T00:00:00",
          "1959-01-01T00:00:00",
          "1960-01-01T00:00:00",
          "1961-01-01T00:00:00",
          "1962-01-01T00:00:00",
          "1963-01-01T00:00:00",
          "1964-01-01T00:00:00",
          "1965-01-01T00:00:00",
          "1966-01-01T00:00:00",
          "1967-01-01T00:00:00",
          "1968-01-01T00:00:00",
          "1969-01-01T00:00:00",
          "1970-01-01T00:00:00",
          "1971-01-01T00:00:00",
          "1972-01-01T00:00:00",
          "1973-01-01T00:00:00",
          "1974-01-01T00:00:00",
          "1975-01-01T00:00:00",
          "1976-01-01T00:00:00",
          "1977-01-01T00:00:00",
          "1978-01-01T00:00:00",
          "1979-01-01T00:00:00",
          "1980-01-01T00:00:00",
          "1981-01-01T00:00:00",
          "1982-01-01T00:00:00",
          "1983-01-01T00:00:00",
          "1984-01-01T00:00:00",
          "1985-01-01T00:00:00",
          "1986-01-01T00:00:00",
          "1987-01-01T00:00:00",
          "1988-01-01T00:00:00",
          "1989-01-01T00:00:00",
          "1990-01-01T00:00:00",
          "1991-01-01T00:00:00",
          "1992-01-01T00:00:00",
          "1993-01-01T00:00:00",
          "1994-01-01T00:00:00",
          "1995-01-01T00:00:00",
          "1996-01-01T00:00:00",
          "1997-01-01T00:00:00",
          "1998-01-01T00:00:00",
          "1999-01-01T00:00:00",
          "2000-01-01T00:00:00",
          "2001-01-01T00:00:00",
          "2002-01-01T00:00:00",
          "2003-01-01T00:00:00",
          "2004-01-01T00:00:00",
          "2005-01-01T00:00:00",
          "2006-01-01T00:00:00",
          "2007-01-01T00:00:00",
          "2008-01-01T00:00:00",
          "2009-01-01T00:00:00",
          "2010-01-01T00:00:00",
          "2011-01-01T00:00:00",
          "2012-01-01T00:00:00",
          "2013-01-01T00:00:00",
          "2014-01-01T00:00:00",
          "2015-01-01T00:00:00",
          "2016-01-01T00:00:00",
          "2017-01-01T00:00:00",
          "2018-01-01T00:00:00",
          "2019-01-01T00:00:00",
          "2020-01-01T00:00:00",
          "2021-01-01T00:00:00"
         ],
         "xaxis": "x",
         "y": [
          17638,
          21091,
          20604,
          22193,
          26287,
          30902,
          31974,
          36667,
          38189,
          41996,
          33906,
          39525,
          46597,
          56286,
          59462,
          66423,
          57735,
          59713,
          68590,
          73285,
          78449,
          86138,
          83265,
          73228,
          74357,
          82726,
          88950,
          92847,
          100832,
          95056,
          95913,
          106883,
          118567,
          118805,
          121090,
          145678,
          160660,
          174842,
          181689,
          188646,
          204534,
          198064,
          211700,
          198785,
          218913,
          243441,
          249160,
          251152,
          249949,
          302169,
          301905,
          293861,
          301910,
          320965,
          387877,
          400386,
          433008,
          482712,
          419188,
          519242,
          596721,
          629383,
          666741,
          737721,
          815541,
          877623,
          979909,
          1110412,
          1259116,
          1296482,
          973400,
          null
         ],
         "yaxis": "y"
        },
        {
         "hovertemplate": "variable=Gross Domestic Product<br>Financial Year=%{x}<br>value=%{y}<extra></extra>",
         "legendgroup": "Gross Domestic Product",
         "line": {
          "color": "#00cc96",
          "dash": "solid"
         },
         "marker": {
          "symbol": "circle"
         },
         "mode": "lines",
         "name": "Gross Domestic Product",
         "orientation": "v",
         "showlegend": true,
         "type": "scatter",
         "x": [
          "1950-01-01T00:00:00",
          "1951-01-01T00:00:00",
          "1952-01-01T00:00:00",
          "1953-01-01T00:00:00",
          "1954-01-01T00:00:00",
          "1955-01-01T00:00:00",
          "1956-01-01T00:00:00",
          "1957-01-01T00:00:00",
          "1958-01-01T00:00:00",
          "1959-01-01T00:00:00",
          "1960-01-01T00:00:00",
          "1961-01-01T00:00:00",
          "1962-01-01T00:00:00",
          "1963-01-01T00:00:00",
          "1964-01-01T00:00:00",
          "1965-01-01T00:00:00",
          "1966-01-01T00:00:00",
          "1967-01-01T00:00:00",
          "1968-01-01T00:00:00",
          "1969-01-01T00:00:00",
          "1970-01-01T00:00:00",
          "1971-01-01T00:00:00",
          "1972-01-01T00:00:00",
          "1973-01-01T00:00:00",
          "1974-01-01T00:00:00",
          "1975-01-01T00:00:00",
          "1976-01-01T00:00:00",
          "1977-01-01T00:00:00",
          "1978-01-01T00:00:00",
          "1979-01-01T00:00:00",
          "1980-01-01T00:00:00",
          "1981-01-01T00:00:00",
          "1982-01-01T00:00:00",
          "1983-01-01T00:00:00",
          "1984-01-01T00:00:00",
          "1985-01-01T00:00:00",
          "1986-01-01T00:00:00",
          "1987-01-01T00:00:00",
          "1988-01-01T00:00:00",
          "1989-01-01T00:00:00",
          "1990-01-01T00:00:00",
          "1991-01-01T00:00:00",
          "1992-01-01T00:00:00",
          "1993-01-01T00:00:00",
          "1994-01-01T00:00:00",
          "1995-01-01T00:00:00",
          "1996-01-01T00:00:00",
          "1997-01-01T00:00:00",
          "1998-01-01T00:00:00",
          "1999-01-01T00:00:00",
          "2000-01-01T00:00:00",
          "2001-01-01T00:00:00",
          "2002-01-01T00:00:00",
          "2003-01-01T00:00:00",
          "2004-01-01T00:00:00",
          "2005-01-01T00:00:00",
          "2006-01-01T00:00:00",
          "2007-01-01T00:00:00",
          "2008-01-01T00:00:00",
          "2009-01-01T00:00:00",
          "2010-01-01T00:00:00",
          "2011-01-01T00:00:00",
          "2012-01-01T00:00:00",
          "2013-01-01T00:00:00",
          "2014-01-01T00:00:00",
          "2015-01-01T00:00:00",
          "2016-01-01T00:00:00",
          "2017-01-01T00:00:00",
          "2018-01-01T00:00:00",
          "2019-01-01T00:00:00",
          "2020-01-01T00:00:00",
          "2021-01-01T00:00:00"
         ],
         "xaxis": "x",
         "y": [
          496848,
          511489,
          524919,
          557203,
          584011,
          602911,
          636544,
          633927,
          680776,
          698644,
          737044,
          764482,
          786890,
          834059,
          896221,
          872598,
          872116,
          940367,
          972226,
          1035807,
          1089226,
          1107121,
          1100995,
          1137279,
          1150759,
          1256053,
          1276942,
          1369581,
          1447819,
          1371980,
          1464394,
          1552348,
          1606304,
          1723386,
          1789232,
          1883243,
          1973197,
          2051442,
          2248950,
          2382703,
          2514549,
          2541123,
          2680438,
          2807779,
          2994747,
          3221584,
          3464798,
          3605116,
          3828072,
          4166694,
          4326736,
          4535456,
          4707984,
          5078049,
          5480380,
          5914614,
          6391375,
          6881007,
          7093403,
          7651078,
          8301235,
          8736329,
          9213017,
          9801370,
          10527674,
          11369493,
          12308193,
          13144582,
          13992914,
          14515958,
          13558473,
          14925840
         ],
         "yaxis": "y"
        },
        {
         "hovertemplate": "variable=Gross National Income<br>Financial Year=%{x}<br>value=%{y}<extra></extra>",
         "legendgroup": "Gross National Income",
         "line": {
          "color": "#ab63fa",
          "dash": "solid"
         },
         "marker": {
          "symbol": "circle"
         },
         "mode": "lines",
         "name": "Gross National Income",
         "orientation": "v",
         "showlegend": true,
         "type": "scatter",
         "x": [
          "1950-01-01T00:00:00",
          "1951-01-01T00:00:00",
          "1952-01-01T00:00:00",
          "1953-01-01T00:00:00",
          "1954-01-01T00:00:00",
          "1955-01-01T00:00:00",
          "1956-01-01T00:00:00",
          "1957-01-01T00:00:00",
          "1958-01-01T00:00:00",
          "1959-01-01T00:00:00",
          "1960-01-01T00:00:00",
          "1961-01-01T00:00:00",
          "1962-01-01T00:00:00",
          "1963-01-01T00:00:00",
          "1964-01-01T00:00:00",
          "1965-01-01T00:00:00",
          "1966-01-01T00:00:00",
          "1967-01-01T00:00:00",
          "1968-01-01T00:00:00",
          "1969-01-01T00:00:00",
          "1970-01-01T00:00:00",
          "1971-01-01T00:00:00",
          "1972-01-01T00:00:00",
          "1973-01-01T00:00:00",
          "1974-01-01T00:00:00",
          "1975-01-01T00:00:00",
          "1976-01-01T00:00:00",
          "1977-01-01T00:00:00",
          "1978-01-01T00:00:00",
          "1979-01-01T00:00:00",
          "1980-01-01T00:00:00",
          "1981-01-01T00:00:00",
          "1982-01-01T00:00:00",
          "1983-01-01T00:00:00",
          "1984-01-01T00:00:00",
          "1985-01-01T00:00:00",
          "1986-01-01T00:00:00",
          "1987-01-01T00:00:00",
          "1988-01-01T00:00:00",
          "1989-01-01T00:00:00",
          "1990-01-01T00:00:00",
          "1991-01-01T00:00:00",
          "1992-01-01T00:00:00",
          "1993-01-01T00:00:00",
          "1994-01-01T00:00:00",
          "1995-01-01T00:00:00",
          "1996-01-01T00:00:00",
          "1997-01-01T00:00:00",
          "1998-01-01T00:00:00",
          "1999-01-01T00:00:00",
          "2000-01-01T00:00:00",
          "2001-01-01T00:00:00",
          "2002-01-01T00:00:00",
          "2003-01-01T00:00:00",
          "2004-01-01T00:00:00",
          "2005-01-01T00:00:00",
          "2006-01-01T00:00:00",
          "2007-01-01T00:00:00",
          "2008-01-01T00:00:00",
          "2009-01-01T00:00:00",
          "2010-01-01T00:00:00",
          "2011-01-01T00:00:00",
          "2012-01-01T00:00:00",
          "2013-01-01T00:00:00",
          "2014-01-01T00:00:00",
          "2015-01-01T00:00:00",
          "2016-01-01T00:00:00",
          "2017-01-01T00:00:00",
          "2018-01-01T00:00:00",
          "2019-01-01T00:00:00",
          "2020-01-01T00:00:00",
          "2021-01-01T00:00:00"
         ],
         "xaxis": "x",
         "y": [
          495274,
          510505,
          524122,
          556545,
          583005,
          602537,
          635962,
          633039,
          679555,
          696488,
          734466,
          761038,
          782931,
          830072,
          891111,
          867165,
          866818,
          933850,
          966014,
          1029151,
          1082340,
          1100363,
          1094795,
          1131633,
          1146339,
          1252240,
          1273436,
          1366655,
          1445029,
          1371460,
          1464390,
          1550504,
          1599940,
          1716327,
          1779406,
          1873425,
          1962251,
          2036744,
          2227956,
          2360178,
          2486353,
          2511622,
          2650632,
          2780663,
          2967254,
          3192013,
          3436436,
          3581984,
          3803495,
          4139292,
          4286910,
          4499695,
          4676257,
          5043422,
          5442938,
          5872936,
          6342389,
          6852740,
          7052191,
          7606319,
          8211816,
          8659505,
          9104662,
          9679027,
          10402987,
          11234571,
          12163619,
          12998695,
          13840474,
          14374253,
          13368279,
          14619532
         ],
         "yaxis": "y"
        },
        {
         "hovertemplate": "variable=Net National Income<br>Financial Year=%{x}<br>value=%{y}<extra></extra>",
         "legendgroup": "Net National Income",
         "line": {
          "color": "#FFA15A",
          "dash": "solid"
         },
         "marker": {
          "symbol": "circle"
         },
         "mode": "lines",
         "name": "Net National Income",
         "orientation": "v",
         "showlegend": true,
         "type": "scatter",
         "x": [
          "1950-01-01T00:00:00",
          "1951-01-01T00:00:00",
          "1952-01-01T00:00:00",
          "1953-01-01T00:00:00",
          "1954-01-01T00:00:00",
          "1955-01-01T00:00:00",
          "1956-01-01T00:00:00",
          "1957-01-01T00:00:00",
          "1958-01-01T00:00:00",
          "1959-01-01T00:00:00",
          "1960-01-01T00:00:00",
          "1961-01-01T00:00:00",
          "1962-01-01T00:00:00",
          "1963-01-01T00:00:00",
          "1964-01-01T00:00:00",
          "1965-01-01T00:00:00",
          "1966-01-01T00:00:00",
          "1967-01-01T00:00:00",
          "1968-01-01T00:00:00",
          "1969-01-01T00:00:00",
          "1970-01-01T00:00:00",
          "1971-01-01T00:00:00",
          "1972-01-01T00:00:00",
          "1973-01-01T00:00:00",
          "1974-01-01T00:00:00",
          "1975-01-01T00:00:00",
          "1976-01-01T00:00:00",
          "1977-01-01T00:00:00",
          "1978-01-01T00:00:00",
          "1979-01-01T00:00:00",
          "1980-01-01T00:00:00",
          "1981-01-01T00:00:00",
          "1982-01-01T00:00:00",
          "1983-01-01T00:00:00",
          "1984-01-01T00:00:00",
          "1985-01-01T00:00:00",
          "1986-01-01T00:00:00",
          "1987-01-01T00:00:00",
          "1988-01-01T00:00:00",
          "1989-01-01T00:00:00",
          "1990-01-01T00:00:00",
          "1991-01-01T00:00:00",
          "1992-01-01T00:00:00",
          "1993-01-01T00:00:00",
          "1994-01-01T00:00:00",
          "1995-01-01T00:00:00",
          "1996-01-01T00:00:00",
          "1997-01-01T00:00:00",
          "1998-01-01T00:00:00",
          "1999-01-01T00:00:00",
          "2000-01-01T00:00:00",
          "2001-01-01T00:00:00",
          "2002-01-01T00:00:00",
          "2003-01-01T00:00:00",
          "2004-01-01T00:00:00",
          "2005-01-01T00:00:00",
          "2006-01-01T00:00:00",
          "2007-01-01T00:00:00",
          "2008-01-01T00:00:00",
          "2009-01-01T00:00:00",
          "2010-01-01T00:00:00",
          "2011-01-01T00:00:00",
          "2012-01-01T00:00:00",
          "2013-01-01T00:00:00",
          "2014-01-01T00:00:00",
          "2015-01-01T00:00:00",
          "2016-01-01T00:00:00",
          "2017-01-01T00:00:00",
          "2018-01-01T00:00:00",
          "2019-01-01T00:00:00",
          "2020-01-01T00:00:00",
          "2021-01-01T00:00:00"
         ],
         "xaxis": "x",
         "y": [
          448483,
          465486,
          480731,
          514489,
          548393,
          567499,
          599736,
          595941,
          640433,
          656423,
          694569,
          719592,
          739509,
          784625,
          842755,
          816540,
          812952,
          876628,
          905884,
          965200,
          1011757,
          1026822,
          1018453,
          1052122,
          1062259,
          1164066,
          1179925,
          1269352,
          1343841,
          1265522,
          1352931,
          1433659,
          1476733,
          1587882,
          1642628,
          1728209,
          1808778,
          1872727,
          2055937,
          2178379,
          2292078,
          2303954,
          2431154,
          2551800,
          2723964,
          2934298,
          3163037,
          3287915,
          3489318,
          3800560,
          3924698,
          4112858,
          4268230,
          4609081,
          4967090,
          5351624,
          5770565,
          6219065,
          6358644,
          6837719,
          7373384,
          7742330,
          8094001,
          8578417,
          9224343,
          9963681,
          10782092,
          11508774,
          12226019,
          12641633,
          11536004,
          12670834
         ],
         "yaxis": "y"
        }
       ],
       "layout": {
        "legend": {
         "title": {
          "text": "variable"
         },
         "tracegroupgap": 0
        },
        "template": {
         "data": {
          "bar": [
           {
            "error_x": {
             "color": "#2a3f5f"
            },
            "error_y": {
             "color": "#2a3f5f"
            },
            "marker": {
             "line": {
              "color": "#E5ECF6",
              "width": 0.5
             },
             "pattern": {
              "fillmode": "overlay",
              "size": 10,
              "solidity": 0.2
             }
            },
            "type": "bar"
           }
          ],
          "barpolar": [
           {
            "marker": {
             "line": {
              "color": "#E5ECF6",
              "width": 0.5
             },
             "pattern": {
              "fillmode": "overlay",
              "size": 10,
              "solidity": 0.2
             }
            },
            "type": "barpolar"
           }
          ],
          "carpet": [
           {
            "aaxis": {
             "endlinecolor": "#2a3f5f",
             "gridcolor": "white",
             "linecolor": "white",
             "minorgridcolor": "white",
             "startlinecolor": "#2a3f5f"
            },
            "baxis": {
             "endlinecolor": "#2a3f5f",
             "gridcolor": "white",
             "linecolor": "white",
             "minorgridcolor": "white",
             "startlinecolor": "#2a3f5f"
            },
            "type": "carpet"
           }
          ],
          "choropleth": [
           {
            "colorbar": {
             "outlinewidth": 0,
             "ticks": ""
            },
            "type": "choropleth"
           }
          ],
          "contour": [
           {
            "colorbar": {
             "outlinewidth": 0,
             "ticks": ""
            },
            "colorscale": [
             [
              0,
              "#0d0887"
             ],
             [
              0.1111111111111111,
              "#46039f"
             ],
             [
              0.2222222222222222,
              "#7201a8"
             ],
             [
              0.3333333333333333,
              "#9c179e"
             ],
             [
              0.4444444444444444,
              "#bd3786"
             ],
             [
              0.5555555555555556,
              "#d8576b"
             ],
             [
              0.6666666666666666,
              "#ed7953"
             ],
             [
              0.7777777777777778,
              "#fb9f3a"
             ],
             [
              0.8888888888888888,
              "#fdca26"
             ],
             [
              1,
              "#f0f921"
             ]
            ],
            "type": "contour"
           }
          ],
          "contourcarpet": [
           {
            "colorbar": {
             "outlinewidth": 0,
             "ticks": ""
            },
            "type": "contourcarpet"
           }
          ],
          "heatmap": [
           {
            "colorbar": {
             "outlinewidth": 0,
             "ticks": ""
            },
            "colorscale": [
             [
              0,
              "#0d0887"
             ],
             [
              0.1111111111111111,
              "#46039f"
             ],
             [
              0.2222222222222222,
              "#7201a8"
             ],
             [
              0.3333333333333333,
              "#9c179e"
             ],
             [
              0.4444444444444444,
              "#bd3786"
             ],
             [
              0.5555555555555556,
              "#d8576b"
             ],
             [
              0.6666666666666666,
              "#ed7953"
             ],
             [
              0.7777777777777778,
              "#fb9f3a"
             ],
             [
              0.8888888888888888,
              "#fdca26"
             ],
             [
              1,
              "#f0f921"
             ]
            ],
            "type": "heatmap"
           }
          ],
          "heatmapgl": [
           {
            "colorbar": {
             "outlinewidth": 0,
             "ticks": ""
            },
            "colorscale": [
             [
              0,
              "#0d0887"
             ],
             [
              0.1111111111111111,
              "#46039f"
             ],
             [
              0.2222222222222222,
              "#7201a8"
             ],
             [
              0.3333333333333333,
              "#9c179e"
             ],
             [
              0.4444444444444444,
              "#bd3786"
             ],
             [
              0.5555555555555556,
              "#d8576b"
             ],
             [
              0.6666666666666666,
              "#ed7953"
             ],
             [
              0.7777777777777778,
              "#fb9f3a"
             ],
             [
              0.8888888888888888,
              "#fdca26"
             ],
             [
              1,
              "#f0f921"
             ]
            ],
            "type": "heatmapgl"
           }
          ],
          "histogram": [
           {
            "marker": {
             "pattern": {
              "fillmode": "overlay",
              "size": 10,
              "solidity": 0.2
             }
            },
            "type": "histogram"
           }
          ],
          "histogram2d": [
           {
            "colorbar": {
             "outlinewidth": 0,
             "ticks": ""
            },
            "colorscale": [
             [
              0,
              "#0d0887"
             ],
             [
              0.1111111111111111,
              "#46039f"
             ],
             [
              0.2222222222222222,
              "#7201a8"
             ],
             [
              0.3333333333333333,
              "#9c179e"
             ],
             [
              0.4444444444444444,
              "#bd3786"
             ],
             [
              0.5555555555555556,
              "#d8576b"
             ],
             [
              0.6666666666666666,
              "#ed7953"
             ],
             [
              0.7777777777777778,
              "#fb9f3a"
             ],
             [
              0.8888888888888888,
              "#fdca26"
             ],
             [
              1,
              "#f0f921"
             ]
            ],
            "type": "histogram2d"
           }
          ],
          "histogram2dcontour": [
           {
            "colorbar": {
             "outlinewidth": 0,
             "ticks": ""
            },
            "colorscale": [
             [
              0,
              "#0d0887"
             ],
             [
              0.1111111111111111,
              "#46039f"
             ],
             [
              0.2222222222222222,
              "#7201a8"
             ],
             [
              0.3333333333333333,
              "#9c179e"
             ],
             [
              0.4444444444444444,
              "#bd3786"
             ],
             [
              0.5555555555555556,
              "#d8576b"
             ],
             [
              0.6666666666666666,
              "#ed7953"
             ],
             [
              0.7777777777777778,
              "#fb9f3a"
             ],
             [
              0.8888888888888888,
              "#fdca26"
             ],
             [
              1,
              "#f0f921"
             ]
            ],
            "type": "histogram2dcontour"
           }
          ],
          "mesh3d": [
           {
            "colorbar": {
             "outlinewidth": 0,
             "ticks": ""
            },
            "type": "mesh3d"
           }
          ],
          "parcoords": [
           {
            "line": {
             "colorbar": {
              "outlinewidth": 0,
              "ticks": ""
             }
            },
            "type": "parcoords"
           }
          ],
          "pie": [
           {
            "automargin": true,
            "type": "pie"
           }
          ],
          "scatter": [
           {
            "fillpattern": {
             "fillmode": "overlay",
             "size": 10,
             "solidity": 0.2
            },
            "type": "scatter"
           }
          ],
          "scatter3d": [
           {
            "line": {
             "colorbar": {
              "outlinewidth": 0,
              "ticks": ""
             }
            },
            "marker": {
             "colorbar": {
              "outlinewidth": 0,
              "ticks": ""
             }
            },
            "type": "scatter3d"
           }
          ],
          "scattercarpet": [
           {
            "marker": {
             "colorbar": {
              "outlinewidth": 0,
              "ticks": ""
             }
            },
            "type": "scattercarpet"
           }
          ],
          "scattergeo": [
           {
            "marker": {
             "colorbar": {
              "outlinewidth": 0,
              "ticks": ""
             }
            },
            "type": "scattergeo"
           }
          ],
          "scattergl": [
           {
            "marker": {
             "colorbar": {
              "outlinewidth": 0,
              "ticks": ""
             }
            },
            "type": "scattergl"
           }
          ],
          "scattermapbox": [
           {
            "marker": {
             "colorbar": {
              "outlinewidth": 0,
              "ticks": ""
             }
            },
            "type": "scattermapbox"
           }
          ],
          "scatterpolar": [
           {
            "marker": {
             "colorbar": {
              "outlinewidth": 0,
              "ticks": ""
             }
            },
            "type": "scatterpolar"
           }
          ],
          "scatterpolargl": [
           {
            "marker": {
             "colorbar": {
              "outlinewidth": 0,
              "ticks": ""
             }
            },
            "type": "scatterpolargl"
           }
          ],
          "scatterternary": [
           {
            "marker": {
             "colorbar": {
              "outlinewidth": 0,
              "ticks": ""
             }
            },
            "type": "scatterternary"
           }
          ],
          "surface": [
           {
            "colorbar": {
             "outlinewidth": 0,
             "ticks": ""
            },
            "colorscale": [
             [
              0,
              "#0d0887"
             ],
             [
              0.1111111111111111,
              "#46039f"
             ],
             [
              0.2222222222222222,
              "#7201a8"
             ],
             [
              0.3333333333333333,
              "#9c179e"
             ],
             [
              0.4444444444444444,
              "#bd3786"
             ],
             [
              0.5555555555555556,
              "#d8576b"
             ],
             [
              0.6666666666666666,
              "#ed7953"
             ],
             [
              0.7777777777777778,
              "#fb9f3a"
             ],
             [
              0.8888888888888888,
              "#fdca26"
             ],
             [
              1,
              "#f0f921"
             ]
            ],
            "type": "surface"
           }
          ],
          "table": [
           {
            "cells": {
             "fill": {
              "color": "#EBF0F8"
             },
             "line": {
              "color": "white"
             }
            },
            "header": {
             "fill": {
              "color": "#C8D4E3"
             },
             "line": {
              "color": "white"
             }
            },
            "type": "table"
           }
          ]
         },
         "layout": {
          "annotationdefaults": {
           "arrowcolor": "#2a3f5f",
           "arrowhead": 0,
           "arrowwidth": 1
          },
          "autotypenumbers": "strict",
          "coloraxis": {
           "colorbar": {
            "outlinewidth": 0,
            "ticks": ""
           }
          },
          "colorscale": {
           "diverging": [
            [
             0,
             "#8e0152"
            ],
            [
             0.1,
             "#c51b7d"
            ],
            [
             0.2,
             "#de77ae"
            ],
            [
             0.3,
             "#f1b6da"
            ],
            [
             0.4,
             "#fde0ef"
            ],
            [
             0.5,
             "#f7f7f7"
            ],
            [
             0.6,
             "#e6f5d0"
            ],
            [
             0.7,
             "#b8e186"
            ],
            [
             0.8,
             "#7fbc41"
            ],
            [
             0.9,
             "#4d9221"
            ],
            [
             1,
             "#276419"
            ]
           ],
           "sequential": [
            [
             0,
             "#0d0887"
            ],
            [
             0.1111111111111111,
             "#46039f"
            ],
            [
             0.2222222222222222,
             "#7201a8"
            ],
            [
             0.3333333333333333,
             "#9c179e"
            ],
            [
             0.4444444444444444,
             "#bd3786"
            ],
            [
             0.5555555555555556,
             "#d8576b"
            ],
            [
             0.6666666666666666,
             "#ed7953"
            ],
            [
             0.7777777777777778,
             "#fb9f3a"
            ],
            [
             0.8888888888888888,
             "#fdca26"
            ],
            [
             1,
             "#f0f921"
            ]
           ],
           "sequentialminus": [
            [
             0,
             "#0d0887"
            ],
            [
             0.1111111111111111,
             "#46039f"
            ],
            [
             0.2222222222222222,
             "#7201a8"
            ],
            [
             0.3333333333333333,
             "#9c179e"
            ],
            [
             0.4444444444444444,
             "#bd3786"
            ],
            [
             0.5555555555555556,
             "#d8576b"
            ],
            [
             0.6666666666666666,
             "#ed7953"
            ],
            [
             0.7777777777777778,
             "#fb9f3a"
            ],
            [
             0.8888888888888888,
             "#fdca26"
            ],
            [
             1,
             "#f0f921"
            ]
           ]
          },
          "colorway": [
           "#636efa",
           "#EF553B",
           "#00cc96",
           "#ab63fa",
           "#FFA15A",
           "#19d3f3",
           "#FF6692",
           "#B6E880",
           "#FF97FF",
           "#FECB52"
          ],
          "font": {
           "color": "#2a3f5f"
          },
          "geo": {
           "bgcolor": "white",
           "lakecolor": "white",
           "landcolor": "#E5ECF6",
           "showlakes": true,
           "showland": true,
           "subunitcolor": "white"
          },
          "hoverlabel": {
           "align": "left"
          },
          "hovermode": "closest",
          "mapbox": {
           "style": "light"
          },
          "paper_bgcolor": "white",
          "plot_bgcolor": "#E5ECF6",
          "polar": {
           "angularaxis": {
            "gridcolor": "white",
            "linecolor": "white",
            "ticks": ""
           },
           "bgcolor": "#E5ECF6",
           "radialaxis": {
            "gridcolor": "white",
            "linecolor": "white",
            "ticks": ""
           }
          },
          "scene": {
           "xaxis": {
            "backgroundcolor": "#E5ECF6",
            "gridcolor": "white",
            "gridwidth": 2,
            "linecolor": "white",
            "showbackground": true,
            "ticks": "",
            "zerolinecolor": "white"
           },
           "yaxis": {
            "backgroundcolor": "#E5ECF6",
            "gridcolor": "white",
            "gridwidth": 2,
            "linecolor": "white",
            "showbackground": true,
            "ticks": "",
            "zerolinecolor": "white"
           },
           "zaxis": {
            "backgroundcolor": "#E5ECF6",
            "gridcolor": "white",
            "gridwidth": 2,
            "linecolor": "white",
            "showbackground": true,
            "ticks": "",
            "zerolinecolor": "white"
           }
          },
          "shapedefaults": {
           "line": {
            "color": "#2a3f5f"
           }
          },
          "ternary": {
           "aaxis": {
            "gridcolor": "white",
            "linecolor": "white",
            "ticks": ""
           },
           "baxis": {
            "gridcolor": "white",
            "linecolor": "white",
            "ticks": ""
           },
           "bgcolor": "#E5ECF6",
           "caxis": {
            "gridcolor": "white",
            "linecolor": "white",
            "ticks": ""
           }
          },
          "title": {
           "x": 0.05
          },
          "xaxis": {
           "automargin": true,
           "gridcolor": "white",
           "linecolor": "white",
           "ticks": "",
           "title": {
            "standoff": 15
           },
           "zerolinecolor": "white",
           "zerolinewidth": 2
          },
          "yaxis": {
           "automargin": true,
           "gridcolor": "white",
           "linecolor": "white",
           "ticks": "",
           "title": {
            "standoff": 15
           },
           "zerolinecolor": "white",
           "zerolinewidth": 2
          }
         }
        },
        "title": {
         "text": "MACROECONOMIC AGGREGATES (At constant prices) (Rupees Crore)"
        },
        "xaxis": {
         "anchor": "y",
         "domain": [
          0,
          1
         ],
         "title": {
          "text": "Financial Year"
         }
        },
        "yaxis": {
         "anchor": "x",
         "domain": [
          0,
          1
         ],
         "title": {
          "text": "value"
         }
        }
       }
      },
      "text/html": [
       "<div>                            <div id=\"f1a97f44-5a42-44a7-917d-23c982642052\" class=\"plotly-graph-div\" style=\"height:525px; width:100%;\"></div>            <script type=\"text/javascript\">                require([\"plotly\"], function(Plotly) {                    window.PLOTLYENV=window.PLOTLYENV || {};                                    if (document.getElementById(\"f1a97f44-5a42-44a7-917d-23c982642052\")) {                    Plotly.newPlot(                        \"f1a97f44-5a42-44a7-917d-23c982642052\",                        [{\"hovertemplate\":\"variable=GVA at Basic Prices<br>Financial Year=%{x}<br>value=%{y}<extra></extra>\",\"legendgroup\":\"GVA at Basic Prices\",\"line\":{\"color\":\"#636efa\",\"dash\":\"solid\"},\"marker\":{\"symbol\":\"circle\"},\"mode\":\"lines\",\"name\":\"GVA at Basic Prices\",\"orientation\":\"v\",\"showlegend\":true,\"x\":[\"1950-01-01T00:00:00\",\"1951-01-01T00:00:00\",\"1952-01-01T00:00:00\",\"1953-01-01T00:00:00\",\"1954-01-01T00:00:00\",\"1955-01-01T00:00:00\",\"1956-01-01T00:00:00\",\"1957-01-01T00:00:00\",\"1958-01-01T00:00:00\",\"1959-01-01T00:00:00\",\"1960-01-01T00:00:00\",\"1961-01-01T00:00:00\",\"1962-01-01T00:00:00\",\"1963-01-01T00:00:00\",\"1964-01-01T00:00:00\",\"1965-01-01T00:00:00\",\"1966-01-01T00:00:00\",\"1967-01-01T00:00:00\",\"1968-01-01T00:00:00\",\"1969-01-01T00:00:00\",\"1970-01-01T00:00:00\",\"1971-01-01T00:00:00\",\"1972-01-01T00:00:00\",\"1973-01-01T00:00:00\",\"1974-01-01T00:00:00\",\"1975-01-01T00:00:00\",\"1976-01-01T00:00:00\",\"1977-01-01T00:00:00\",\"1978-01-01T00:00:00\",\"1979-01-01T00:00:00\",\"1980-01-01T00:00:00\",\"1981-01-01T00:00:00\",\"1982-01-01T00:00:00\",\"1983-01-01T00:00:00\",\"1984-01-01T00:00:00\",\"1985-01-01T00:00:00\",\"1986-01-01T00:00:00\",\"1987-01-01T00:00:00\",\"1988-01-01T00:00:00\",\"1989-01-01T00:00:00\",\"1990-01-01T00:00:00\",\"1991-01-01T00:00:00\",\"1992-01-01T00:00:00\",\"1993-01-01T00:00:00\",\"1994-01-01T00:00:00\",\"1995-01-01T00:00:00\",\"1996-01-01T00:00:00\",\"1997-01-01T00:00:00\",\"1998-01-01T00:00:00\",\"1999-01-01T00:00:00\",\"2000-01-01T00:00:00\",\"2001-01-01T00:00:00\",\"2002-01-01T00:00:00\",\"2003-01-01T00:00:00\",\"2004-01-01T00:00:00\",\"2005-01-01T00:00:00\",\"2006-01-01T00:00:00\",\"2007-01-01T00:00:00\",\"2008-01-01T00:00:00\",\"2009-01-01T00:00:00\",\"2010-01-01T00:00:00\",\"2011-01-01T00:00:00\",\"2012-01-01T00:00:00\",\"2013-01-01T00:00:00\",\"2014-01-01T00:00:00\",\"2015-01-01T00:00:00\",\"2016-01-01T00:00:00\",\"2017-01-01T00:00:00\",\"2018-01-01T00:00:00\",\"2019-01-01T00:00:00\",\"2020-01-01T00:00:00\",\"2021-01-01T00:00:00\"],\"xaxis\":\"x\",\"y\":[479210.0,490399.0,504315.0,535010.0,557724.0,572009.0,604570.0,597260.0,642587.0,656648.0,703138.0,724957.0,740293.0,777773.0,836759.0,806176.0,814380.0,880654.0,903636.0,962522.0,1010777.0,1020982.0,1017730.0,1064051.0,1076403.0,1173327.0,1187992.0,1276734.0,1346987.0,1276924.0,1368481.0,1445465.0,1487737.0,1604580.0,1668141.0,1737565.0,1812537.0,1876600.0,2067262.0,2194056.0,2310015.0,2343059.0,2468738.0,2608995.0,2775834.0,2978143.0,3215638.0,3353964.0,3578123.0,3864524.0,4024831.0,4241595.0,4406074.0,4757084.0,5092503.0,5514228.0,5958367.0,6398295.0,6674215.0,7131836.0,7704514.0,8106946.0,8546275.0,9063649.0,9712133.0,10491870.0,11328285.0,12034171.0,12733798.0,13219476.0,12585074.0,13798025.0],\"yaxis\":\"y\",\"type\":\"scatter\"},{\"hovertemplate\":\"variable=Net taxes on Products<br>Financial Year=%{x}<br>value=%{y}<extra></extra>\",\"legendgroup\":\"Net taxes on Products\",\"line\":{\"color\":\"#EF553B\",\"dash\":\"solid\"},\"marker\":{\"symbol\":\"circle\"},\"mode\":\"lines\",\"name\":\"Net taxes on Products\",\"orientation\":\"v\",\"showlegend\":true,\"x\":[\"1950-01-01T00:00:00\",\"1951-01-01T00:00:00\",\"1952-01-01T00:00:00\",\"1953-01-01T00:00:00\",\"1954-01-01T00:00:00\",\"1955-01-01T00:00:00\",\"1956-01-01T00:00:00\",\"1957-01-01T00:00:00\",\"1958-01-01T00:00:00\",\"1959-01-01T00:00:00\",\"1960-01-01T00:00:00\",\"1961-01-01T00:00:00\",\"1962-01-01T00:00:00\",\"1963-01-01T00:00:00\",\"1964-01-01T00:00:00\",\"1965-01-01T00:00:00\",\"1966-01-01T00:00:00\",\"1967-01-01T00:00:00\",\"1968-01-01T00:00:00\",\"1969-01-01T00:00:00\",\"1970-01-01T00:00:00\",\"1971-01-01T00:00:00\",\"1972-01-01T00:00:00\",\"1973-01-01T00:00:00\",\"1974-01-01T00:00:00\",\"1975-01-01T00:00:00\",\"1976-01-01T00:00:00\",\"1977-01-01T00:00:00\",\"1978-01-01T00:00:00\",\"1979-01-01T00:00:00\",\"1980-01-01T00:00:00\",\"1981-01-01T00:00:00\",\"1982-01-01T00:00:00\",\"1983-01-01T00:00:00\",\"1984-01-01T00:00:00\",\"1985-01-01T00:00:00\",\"1986-01-01T00:00:00\",\"1987-01-01T00:00:00\",\"1988-01-01T00:00:00\",\"1989-01-01T00:00:00\",\"1990-01-01T00:00:00\",\"1991-01-01T00:00:00\",\"1992-01-01T00:00:00\",\"1993-01-01T00:00:00\",\"1994-01-01T00:00:00\",\"1995-01-01T00:00:00\",\"1996-01-01T00:00:00\",\"1997-01-01T00:00:00\",\"1998-01-01T00:00:00\",\"1999-01-01T00:00:00\",\"2000-01-01T00:00:00\",\"2001-01-01T00:00:00\",\"2002-01-01T00:00:00\",\"2003-01-01T00:00:00\",\"2004-01-01T00:00:00\",\"2005-01-01T00:00:00\",\"2006-01-01T00:00:00\",\"2007-01-01T00:00:00\",\"2008-01-01T00:00:00\",\"2009-01-01T00:00:00\",\"2010-01-01T00:00:00\",\"2011-01-01T00:00:00\",\"2012-01-01T00:00:00\",\"2013-01-01T00:00:00\",\"2014-01-01T00:00:00\",\"2015-01-01T00:00:00\",\"2016-01-01T00:00:00\",\"2017-01-01T00:00:00\",\"2018-01-01T00:00:00\",\"2019-01-01T00:00:00\",\"2020-01-01T00:00:00\",\"2021-01-01T00:00:00\"],\"xaxis\":\"x\",\"y\":[17638.0,21091.0,20604.0,22193.0,26287.0,30902.0,31974.0,36667.0,38189.0,41996.0,33906.0,39525.0,46597.0,56286.0,59462.0,66423.0,57735.0,59713.0,68590.0,73285.0,78449.0,86138.0,83265.0,73228.0,74357.0,82726.0,88950.0,92847.0,100832.0,95056.0,95913.0,106883.0,118567.0,118805.0,121090.0,145678.0,160660.0,174842.0,181689.0,188646.0,204534.0,198064.0,211700.0,198785.0,218913.0,243441.0,249160.0,251152.0,249949.0,302169.0,301905.0,293861.0,301910.0,320965.0,387877.0,400386.0,433008.0,482712.0,419188.0,519242.0,596721.0,629383.0,666741.0,737721.0,815541.0,877623.0,979909.0,1110412.0,1259116.0,1296482.0,973400.0,null],\"yaxis\":\"y\",\"type\":\"scatter\"},{\"hovertemplate\":\"variable=Gross Domestic Product<br>Financial Year=%{x}<br>value=%{y}<extra></extra>\",\"legendgroup\":\"Gross Domestic Product\",\"line\":{\"color\":\"#00cc96\",\"dash\":\"solid\"},\"marker\":{\"symbol\":\"circle\"},\"mode\":\"lines\",\"name\":\"Gross Domestic Product\",\"orientation\":\"v\",\"showlegend\":true,\"x\":[\"1950-01-01T00:00:00\",\"1951-01-01T00:00:00\",\"1952-01-01T00:00:00\",\"1953-01-01T00:00:00\",\"1954-01-01T00:00:00\",\"1955-01-01T00:00:00\",\"1956-01-01T00:00:00\",\"1957-01-01T00:00:00\",\"1958-01-01T00:00:00\",\"1959-01-01T00:00:00\",\"1960-01-01T00:00:00\",\"1961-01-01T00:00:00\",\"1962-01-01T00:00:00\",\"1963-01-01T00:00:00\",\"1964-01-01T00:00:00\",\"1965-01-01T00:00:00\",\"1966-01-01T00:00:00\",\"1967-01-01T00:00:00\",\"1968-01-01T00:00:00\",\"1969-01-01T00:00:00\",\"1970-01-01T00:00:00\",\"1971-01-01T00:00:00\",\"1972-01-01T00:00:00\",\"1973-01-01T00:00:00\",\"1974-01-01T00:00:00\",\"1975-01-01T00:00:00\",\"1976-01-01T00:00:00\",\"1977-01-01T00:00:00\",\"1978-01-01T00:00:00\",\"1979-01-01T00:00:00\",\"1980-01-01T00:00:00\",\"1981-01-01T00:00:00\",\"1982-01-01T00:00:00\",\"1983-01-01T00:00:00\",\"1984-01-01T00:00:00\",\"1985-01-01T00:00:00\",\"1986-01-01T00:00:00\",\"1987-01-01T00:00:00\",\"1988-01-01T00:00:00\",\"1989-01-01T00:00:00\",\"1990-01-01T00:00:00\",\"1991-01-01T00:00:00\",\"1992-01-01T00:00:00\",\"1993-01-01T00:00:00\",\"1994-01-01T00:00:00\",\"1995-01-01T00:00:00\",\"1996-01-01T00:00:00\",\"1997-01-01T00:00:00\",\"1998-01-01T00:00:00\",\"1999-01-01T00:00:00\",\"2000-01-01T00:00:00\",\"2001-01-01T00:00:00\",\"2002-01-01T00:00:00\",\"2003-01-01T00:00:00\",\"2004-01-01T00:00:00\",\"2005-01-01T00:00:00\",\"2006-01-01T00:00:00\",\"2007-01-01T00:00:00\",\"2008-01-01T00:00:00\",\"2009-01-01T00:00:00\",\"2010-01-01T00:00:00\",\"2011-01-01T00:00:00\",\"2012-01-01T00:00:00\",\"2013-01-01T00:00:00\",\"2014-01-01T00:00:00\",\"2015-01-01T00:00:00\",\"2016-01-01T00:00:00\",\"2017-01-01T00:00:00\",\"2018-01-01T00:00:00\",\"2019-01-01T00:00:00\",\"2020-01-01T00:00:00\",\"2021-01-01T00:00:00\"],\"xaxis\":\"x\",\"y\":[496848.0,511489.0,524919.0,557203.0,584011.0,602911.0,636544.0,633927.0,680776.0,698644.0,737044.0,764482.0,786890.0,834059.0,896221.0,872598.0,872116.0,940367.0,972226.0,1035807.0,1089226.0,1107121.0,1100995.0,1137279.0,1150759.0,1256053.0,1276942.0,1369581.0,1447819.0,1371980.0,1464394.0,1552348.0,1606304.0,1723386.0,1789232.0,1883243.0,1973197.0,2051442.0,2248950.0,2382703.0,2514549.0,2541123.0,2680438.0,2807779.0,2994747.0,3221584.0,3464798.0,3605116.0,3828072.0,4166694.0,4326736.0,4535456.0,4707984.0,5078049.0,5480380.0,5914614.0,6391375.0,6881007.0,7093403.0,7651078.0,8301235.0,8736329.0,9213017.0,9801370.0,10527674.0,11369493.0,12308193.0,13144582.0,13992914.0,14515958.0,13558473.0,14925840.0],\"yaxis\":\"y\",\"type\":\"scatter\"},{\"hovertemplate\":\"variable=Gross National Income<br>Financial Year=%{x}<br>value=%{y}<extra></extra>\",\"legendgroup\":\"Gross National Income\",\"line\":{\"color\":\"#ab63fa\",\"dash\":\"solid\"},\"marker\":{\"symbol\":\"circle\"},\"mode\":\"lines\",\"name\":\"Gross National Income\",\"orientation\":\"v\",\"showlegend\":true,\"x\":[\"1950-01-01T00:00:00\",\"1951-01-01T00:00:00\",\"1952-01-01T00:00:00\",\"1953-01-01T00:00:00\",\"1954-01-01T00:00:00\",\"1955-01-01T00:00:00\",\"1956-01-01T00:00:00\",\"1957-01-01T00:00:00\",\"1958-01-01T00:00:00\",\"1959-01-01T00:00:00\",\"1960-01-01T00:00:00\",\"1961-01-01T00:00:00\",\"1962-01-01T00:00:00\",\"1963-01-01T00:00:00\",\"1964-01-01T00:00:00\",\"1965-01-01T00:00:00\",\"1966-01-01T00:00:00\",\"1967-01-01T00:00:00\",\"1968-01-01T00:00:00\",\"1969-01-01T00:00:00\",\"1970-01-01T00:00:00\",\"1971-01-01T00:00:00\",\"1972-01-01T00:00:00\",\"1973-01-01T00:00:00\",\"1974-01-01T00:00:00\",\"1975-01-01T00:00:00\",\"1976-01-01T00:00:00\",\"1977-01-01T00:00:00\",\"1978-01-01T00:00:00\",\"1979-01-01T00:00:00\",\"1980-01-01T00:00:00\",\"1981-01-01T00:00:00\",\"1982-01-01T00:00:00\",\"1983-01-01T00:00:00\",\"1984-01-01T00:00:00\",\"1985-01-01T00:00:00\",\"1986-01-01T00:00:00\",\"1987-01-01T00:00:00\",\"1988-01-01T00:00:00\",\"1989-01-01T00:00:00\",\"1990-01-01T00:00:00\",\"1991-01-01T00:00:00\",\"1992-01-01T00:00:00\",\"1993-01-01T00:00:00\",\"1994-01-01T00:00:00\",\"1995-01-01T00:00:00\",\"1996-01-01T00:00:00\",\"1997-01-01T00:00:00\",\"1998-01-01T00:00:00\",\"1999-01-01T00:00:00\",\"2000-01-01T00:00:00\",\"2001-01-01T00:00:00\",\"2002-01-01T00:00:00\",\"2003-01-01T00:00:00\",\"2004-01-01T00:00:00\",\"2005-01-01T00:00:00\",\"2006-01-01T00:00:00\",\"2007-01-01T00:00:00\",\"2008-01-01T00:00:00\",\"2009-01-01T00:00:00\",\"2010-01-01T00:00:00\",\"2011-01-01T00:00:00\",\"2012-01-01T00:00:00\",\"2013-01-01T00:00:00\",\"2014-01-01T00:00:00\",\"2015-01-01T00:00:00\",\"2016-01-01T00:00:00\",\"2017-01-01T00:00:00\",\"2018-01-01T00:00:00\",\"2019-01-01T00:00:00\",\"2020-01-01T00:00:00\",\"2021-01-01T00:00:00\"],\"xaxis\":\"x\",\"y\":[495274.0,510505.0,524122.0,556545.0,583005.0,602537.0,635962.0,633039.0,679555.0,696488.0,734466.0,761038.0,782931.0,830072.0,891111.0,867165.0,866818.0,933850.0,966014.0,1029151.0,1082340.0,1100363.0,1094795.0,1131633.0,1146339.0,1252240.0,1273436.0,1366655.0,1445029.0,1371460.0,1464390.0,1550504.0,1599940.0,1716327.0,1779406.0,1873425.0,1962251.0,2036744.0,2227956.0,2360178.0,2486353.0,2511622.0,2650632.0,2780663.0,2967254.0,3192013.0,3436436.0,3581984.0,3803495.0,4139292.0,4286910.0,4499695.0,4676257.0,5043422.0,5442938.0,5872936.0,6342389.0,6852740.0,7052191.0,7606319.0,8211816.0,8659505.0,9104662.0,9679027.0,10402987.0,11234571.0,12163619.0,12998695.0,13840474.0,14374253.0,13368279.0,14619532.0],\"yaxis\":\"y\",\"type\":\"scatter\"},{\"hovertemplate\":\"variable=Net National Income<br>Financial Year=%{x}<br>value=%{y}<extra></extra>\",\"legendgroup\":\"Net National Income\",\"line\":{\"color\":\"#FFA15A\",\"dash\":\"solid\"},\"marker\":{\"symbol\":\"circle\"},\"mode\":\"lines\",\"name\":\"Net National Income\",\"orientation\":\"v\",\"showlegend\":true,\"x\":[\"1950-01-01T00:00:00\",\"1951-01-01T00:00:00\",\"1952-01-01T00:00:00\",\"1953-01-01T00:00:00\",\"1954-01-01T00:00:00\",\"1955-01-01T00:00:00\",\"1956-01-01T00:00:00\",\"1957-01-01T00:00:00\",\"1958-01-01T00:00:00\",\"1959-01-01T00:00:00\",\"1960-01-01T00:00:00\",\"1961-01-01T00:00:00\",\"1962-01-01T00:00:00\",\"1963-01-01T00:00:00\",\"1964-01-01T00:00:00\",\"1965-01-01T00:00:00\",\"1966-01-01T00:00:00\",\"1967-01-01T00:00:00\",\"1968-01-01T00:00:00\",\"1969-01-01T00:00:00\",\"1970-01-01T00:00:00\",\"1971-01-01T00:00:00\",\"1972-01-01T00:00:00\",\"1973-01-01T00:00:00\",\"1974-01-01T00:00:00\",\"1975-01-01T00:00:00\",\"1976-01-01T00:00:00\",\"1977-01-01T00:00:00\",\"1978-01-01T00:00:00\",\"1979-01-01T00:00:00\",\"1980-01-01T00:00:00\",\"1981-01-01T00:00:00\",\"1982-01-01T00:00:00\",\"1983-01-01T00:00:00\",\"1984-01-01T00:00:00\",\"1985-01-01T00:00:00\",\"1986-01-01T00:00:00\",\"1987-01-01T00:00:00\",\"1988-01-01T00:00:00\",\"1989-01-01T00:00:00\",\"1990-01-01T00:00:00\",\"1991-01-01T00:00:00\",\"1992-01-01T00:00:00\",\"1993-01-01T00:00:00\",\"1994-01-01T00:00:00\",\"1995-01-01T00:00:00\",\"1996-01-01T00:00:00\",\"1997-01-01T00:00:00\",\"1998-01-01T00:00:00\",\"1999-01-01T00:00:00\",\"2000-01-01T00:00:00\",\"2001-01-01T00:00:00\",\"2002-01-01T00:00:00\",\"2003-01-01T00:00:00\",\"2004-01-01T00:00:00\",\"2005-01-01T00:00:00\",\"2006-01-01T00:00:00\",\"2007-01-01T00:00:00\",\"2008-01-01T00:00:00\",\"2009-01-01T00:00:00\",\"2010-01-01T00:00:00\",\"2011-01-01T00:00:00\",\"2012-01-01T00:00:00\",\"2013-01-01T00:00:00\",\"2014-01-01T00:00:00\",\"2015-01-01T00:00:00\",\"2016-01-01T00:00:00\",\"2017-01-01T00:00:00\",\"2018-01-01T00:00:00\",\"2019-01-01T00:00:00\",\"2020-01-01T00:00:00\",\"2021-01-01T00:00:00\"],\"xaxis\":\"x\",\"y\":[448483.0,465486.0,480731.0,514489.0,548393.0,567499.0,599736.0,595941.0,640433.0,656423.0,694569.0,719592.0,739509.0,784625.0,842755.0,816540.0,812952.0,876628.0,905884.0,965200.0,1011757.0,1026822.0,1018453.0,1052122.0,1062259.0,1164066.0,1179925.0,1269352.0,1343841.0,1265522.0,1352931.0,1433659.0,1476733.0,1587882.0,1642628.0,1728209.0,1808778.0,1872727.0,2055937.0,2178379.0,2292078.0,2303954.0,2431154.0,2551800.0,2723964.0,2934298.0,3163037.0,3287915.0,3489318.0,3800560.0,3924698.0,4112858.0,4268230.0,4609081.0,4967090.0,5351624.0,5770565.0,6219065.0,6358644.0,6837719.0,7373384.0,7742330.0,8094001.0,8578417.0,9224343.0,9963681.0,10782092.0,11508774.0,12226019.0,12641633.0,11536004.0,12670834.0],\"yaxis\":\"y\",\"type\":\"scatter\"}],                        {\"template\":{\"data\":{\"histogram2dcontour\":[{\"type\":\"histogram2dcontour\",\"colorbar\":{\"outlinewidth\":0,\"ticks\":\"\"},\"colorscale\":[[0.0,\"#0d0887\"],[0.1111111111111111,\"#46039f\"],[0.2222222222222222,\"#7201a8\"],[0.3333333333333333,\"#9c179e\"],[0.4444444444444444,\"#bd3786\"],[0.5555555555555556,\"#d8576b\"],[0.6666666666666666,\"#ed7953\"],[0.7777777777777778,\"#fb9f3a\"],[0.8888888888888888,\"#fdca26\"],[1.0,\"#f0f921\"]]}],\"choropleth\":[{\"type\":\"choropleth\",\"colorbar\":{\"outlinewidth\":0,\"ticks\":\"\"}}],\"histogram2d\":[{\"type\":\"histogram2d\",\"colorbar\":{\"outlinewidth\":0,\"ticks\":\"\"},\"colorscale\":[[0.0,\"#0d0887\"],[0.1111111111111111,\"#46039f\"],[0.2222222222222222,\"#7201a8\"],[0.3333333333333333,\"#9c179e\"],[0.4444444444444444,\"#bd3786\"],[0.5555555555555556,\"#d8576b\"],[0.6666666666666666,\"#ed7953\"],[0.7777777777777778,\"#fb9f3a\"],[0.8888888888888888,\"#fdca26\"],[1.0,\"#f0f921\"]]}],\"heatmap\":[{\"type\":\"heatmap\",\"colorbar\":{\"outlinewidth\":0,\"ticks\":\"\"},\"colorscale\":[[0.0,\"#0d0887\"],[0.1111111111111111,\"#46039f\"],[0.2222222222222222,\"#7201a8\"],[0.3333333333333333,\"#9c179e\"],[0.4444444444444444,\"#bd3786\"],[0.5555555555555556,\"#d8576b\"],[0.6666666666666666,\"#ed7953\"],[0.7777777777777778,\"#fb9f3a\"],[0.8888888888888888,\"#fdca26\"],[1.0,\"#f0f921\"]]}],\"heatmapgl\":[{\"type\":\"heatmapgl\",\"colorbar\":{\"outlinewidth\":0,\"ticks\":\"\"},\"colorscale\":[[0.0,\"#0d0887\"],[0.1111111111111111,\"#46039f\"],[0.2222222222222222,\"#7201a8\"],[0.3333333333333333,\"#9c179e\"],[0.4444444444444444,\"#bd3786\"],[0.5555555555555556,\"#d8576b\"],[0.6666666666666666,\"#ed7953\"],[0.7777777777777778,\"#fb9f3a\"],[0.8888888888888888,\"#fdca26\"],[1.0,\"#f0f921\"]]}],\"contourcarpet\":[{\"type\":\"contourcarpet\",\"colorbar\":{\"outlinewidth\":0,\"ticks\":\"\"}}],\"contour\":[{\"type\":\"contour\",\"colorbar\":{\"outlinewidth\":0,\"ticks\":\"\"},\"colorscale\":[[0.0,\"#0d0887\"],[0.1111111111111111,\"#46039f\"],[0.2222222222222222,\"#7201a8\"],[0.3333333333333333,\"#9c179e\"],[0.4444444444444444,\"#bd3786\"],[0.5555555555555556,\"#d8576b\"],[0.6666666666666666,\"#ed7953\"],[0.7777777777777778,\"#fb9f3a\"],[0.8888888888888888,\"#fdca26\"],[1.0,\"#f0f921\"]]}],\"surface\":[{\"type\":\"surface\",\"colorbar\":{\"outlinewidth\":0,\"ticks\":\"\"},\"colorscale\":[[0.0,\"#0d0887\"],[0.1111111111111111,\"#46039f\"],[0.2222222222222222,\"#7201a8\"],[0.3333333333333333,\"#9c179e\"],[0.4444444444444444,\"#bd3786\"],[0.5555555555555556,\"#d8576b\"],[0.6666666666666666,\"#ed7953\"],[0.7777777777777778,\"#fb9f3a\"],[0.8888888888888888,\"#fdca26\"],[1.0,\"#f0f921\"]]}],\"mesh3d\":[{\"type\":\"mesh3d\",\"colorbar\":{\"outlinewidth\":0,\"ticks\":\"\"}}],\"scatter\":[{\"fillpattern\":{\"fillmode\":\"overlay\",\"size\":10,\"solidity\":0.2},\"type\":\"scatter\"}],\"parcoords\":[{\"type\":\"parcoords\",\"line\":{\"colorbar\":{\"outlinewidth\":0,\"ticks\":\"\"}}}],\"scatterpolargl\":[{\"type\":\"scatterpolargl\",\"marker\":{\"colorbar\":{\"outlinewidth\":0,\"ticks\":\"\"}}}],\"bar\":[{\"error_x\":{\"color\":\"#2a3f5f\"},\"error_y\":{\"color\":\"#2a3f5f\"},\"marker\":{\"line\":{\"color\":\"#E5ECF6\",\"width\":0.5},\"pattern\":{\"fillmode\":\"overlay\",\"size\":10,\"solidity\":0.2}},\"type\":\"bar\"}],\"scattergeo\":[{\"type\":\"scattergeo\",\"marker\":{\"colorbar\":{\"outlinewidth\":0,\"ticks\":\"\"}}}],\"scatterpolar\":[{\"type\":\"scatterpolar\",\"marker\":{\"colorbar\":{\"outlinewidth\":0,\"ticks\":\"\"}}}],\"histogram\":[{\"marker\":{\"pattern\":{\"fillmode\":\"overlay\",\"size\":10,\"solidity\":0.2}},\"type\":\"histogram\"}],\"scattergl\":[{\"type\":\"scattergl\",\"marker\":{\"colorbar\":{\"outlinewidth\":0,\"ticks\":\"\"}}}],\"scatter3d\":[{\"type\":\"scatter3d\",\"line\":{\"colorbar\":{\"outlinewidth\":0,\"ticks\":\"\"}},\"marker\":{\"colorbar\":{\"outlinewidth\":0,\"ticks\":\"\"}}}],\"scattermapbox\":[{\"type\":\"scattermapbox\",\"marker\":{\"colorbar\":{\"outlinewidth\":0,\"ticks\":\"\"}}}],\"scatterternary\":[{\"type\":\"scatterternary\",\"marker\":{\"colorbar\":{\"outlinewidth\":0,\"ticks\":\"\"}}}],\"scattercarpet\":[{\"type\":\"scattercarpet\",\"marker\":{\"colorbar\":{\"outlinewidth\":0,\"ticks\":\"\"}}}],\"carpet\":[{\"aaxis\":{\"endlinecolor\":\"#2a3f5f\",\"gridcolor\":\"white\",\"linecolor\":\"white\",\"minorgridcolor\":\"white\",\"startlinecolor\":\"#2a3f5f\"},\"baxis\":{\"endlinecolor\":\"#2a3f5f\",\"gridcolor\":\"white\",\"linecolor\":\"white\",\"minorgridcolor\":\"white\",\"startlinecolor\":\"#2a3f5f\"},\"type\":\"carpet\"}],\"table\":[{\"cells\":{\"fill\":{\"color\":\"#EBF0F8\"},\"line\":{\"color\":\"white\"}},\"header\":{\"fill\":{\"color\":\"#C8D4E3\"},\"line\":{\"color\":\"white\"}},\"type\":\"table\"}],\"barpolar\":[{\"marker\":{\"line\":{\"color\":\"#E5ECF6\",\"width\":0.5},\"pattern\":{\"fillmode\":\"overlay\",\"size\":10,\"solidity\":0.2}},\"type\":\"barpolar\"}],\"pie\":[{\"automargin\":true,\"type\":\"pie\"}]},\"layout\":{\"autotypenumbers\":\"strict\",\"colorway\":[\"#636efa\",\"#EF553B\",\"#00cc96\",\"#ab63fa\",\"#FFA15A\",\"#19d3f3\",\"#FF6692\",\"#B6E880\",\"#FF97FF\",\"#FECB52\"],\"font\":{\"color\":\"#2a3f5f\"},\"hovermode\":\"closest\",\"hoverlabel\":{\"align\":\"left\"},\"paper_bgcolor\":\"white\",\"plot_bgcolor\":\"#E5ECF6\",\"polar\":{\"bgcolor\":\"#E5ECF6\",\"angularaxis\":{\"gridcolor\":\"white\",\"linecolor\":\"white\",\"ticks\":\"\"},\"radialaxis\":{\"gridcolor\":\"white\",\"linecolor\":\"white\",\"ticks\":\"\"}},\"ternary\":{\"bgcolor\":\"#E5ECF6\",\"aaxis\":{\"gridcolor\":\"white\",\"linecolor\":\"white\",\"ticks\":\"\"},\"baxis\":{\"gridcolor\":\"white\",\"linecolor\":\"white\",\"ticks\":\"\"},\"caxis\":{\"gridcolor\":\"white\",\"linecolor\":\"white\",\"ticks\":\"\"}},\"coloraxis\":{\"colorbar\":{\"outlinewidth\":0,\"ticks\":\"\"}},\"colorscale\":{\"sequential\":[[0.0,\"#0d0887\"],[0.1111111111111111,\"#46039f\"],[0.2222222222222222,\"#7201a8\"],[0.3333333333333333,\"#9c179e\"],[0.4444444444444444,\"#bd3786\"],[0.5555555555555556,\"#d8576b\"],[0.6666666666666666,\"#ed7953\"],[0.7777777777777778,\"#fb9f3a\"],[0.8888888888888888,\"#fdca26\"],[1.0,\"#f0f921\"]],\"sequentialminus\":[[0.0,\"#0d0887\"],[0.1111111111111111,\"#46039f\"],[0.2222222222222222,\"#7201a8\"],[0.3333333333333333,\"#9c179e\"],[0.4444444444444444,\"#bd3786\"],[0.5555555555555556,\"#d8576b\"],[0.6666666666666666,\"#ed7953\"],[0.7777777777777778,\"#fb9f3a\"],[0.8888888888888888,\"#fdca26\"],[1.0,\"#f0f921\"]],\"diverging\":[[0,\"#8e0152\"],[0.1,\"#c51b7d\"],[0.2,\"#de77ae\"],[0.3,\"#f1b6da\"],[0.4,\"#fde0ef\"],[0.5,\"#f7f7f7\"],[0.6,\"#e6f5d0\"],[0.7,\"#b8e186\"],[0.8,\"#7fbc41\"],[0.9,\"#4d9221\"],[1,\"#276419\"]]},\"xaxis\":{\"gridcolor\":\"white\",\"linecolor\":\"white\",\"ticks\":\"\",\"title\":{\"standoff\":15},\"zerolinecolor\":\"white\",\"automargin\":true,\"zerolinewidth\":2},\"yaxis\":{\"gridcolor\":\"white\",\"linecolor\":\"white\",\"ticks\":\"\",\"title\":{\"standoff\":15},\"zerolinecolor\":\"white\",\"automargin\":true,\"zerolinewidth\":2},\"scene\":{\"xaxis\":{\"backgroundcolor\":\"#E5ECF6\",\"gridcolor\":\"white\",\"linecolor\":\"white\",\"showbackground\":true,\"ticks\":\"\",\"zerolinecolor\":\"white\",\"gridwidth\":2},\"yaxis\":{\"backgroundcolor\":\"#E5ECF6\",\"gridcolor\":\"white\",\"linecolor\":\"white\",\"showbackground\":true,\"ticks\":\"\",\"zerolinecolor\":\"white\",\"gridwidth\":2},\"zaxis\":{\"backgroundcolor\":\"#E5ECF6\",\"gridcolor\":\"white\",\"linecolor\":\"white\",\"showbackground\":true,\"ticks\":\"\",\"zerolinecolor\":\"white\",\"gridwidth\":2}},\"shapedefaults\":{\"line\":{\"color\":\"#2a3f5f\"}},\"annotationdefaults\":{\"arrowcolor\":\"#2a3f5f\",\"arrowhead\":0,\"arrowwidth\":1},\"geo\":{\"bgcolor\":\"white\",\"landcolor\":\"#E5ECF6\",\"subunitcolor\":\"white\",\"showland\":true,\"showlakes\":true,\"lakecolor\":\"white\"},\"title\":{\"x\":0.05},\"mapbox\":{\"style\":\"light\"}}},\"xaxis\":{\"anchor\":\"y\",\"domain\":[0.0,1.0],\"title\":{\"text\":\"Financial Year\"}},\"yaxis\":{\"anchor\":\"x\",\"domain\":[0.0,1.0],\"title\":{\"text\":\"value\"}},\"legend\":{\"title\":{\"text\":\"variable\"},\"tracegroupgap\":0},\"title\":{\"text\":\"MACROECONOMIC AGGREGATES (At constant prices) (Rupees Crore)\"}},                        {\"responsive\": true}                    ).then(function(){\n",
       "                            \n",
       "var gd = document.getElementById('f1a97f44-5a42-44a7-917d-23c982642052');\n",
       "var x = new MutationObserver(function (mutations, observer) {{\n",
       "        var display = window.getComputedStyle(gd).display;\n",
       "        if (!display || display === 'none') {{\n",
       "            console.log([gd, 'removed!']);\n",
       "            Plotly.purge(gd);\n",
       "            observer.disconnect();\n",
       "        }}\n",
       "}});\n",
       "\n",
       "// Listen for the removal of the full notebook cells\n",
       "var notebookContainer = gd.closest('#notebook-container');\n",
       "if (notebookContainer) {{\n",
       "    x.observe(notebookContainer, {childList: true});\n",
       "}}\n",
       "\n",
       "// Listen for the clearing of the current output cell\n",
       "var outputEl = gd.closest('.output');\n",
       "if (outputEl) {{\n",
       "    x.observe(outputEl, {childList: true});\n",
       "}}\n",
       "\n",
       "                        })                };                });            </script>        </div>"
      ]
     },
     "metadata": {},
     "output_type": "display_data"
    },
    {
     "data": {
      "application/vnd.plotly.v1+json": {
       "config": {
        "plotlyServerURL": "https://plot.ly"
       },
       "data": [
        {
         "hovertemplate": "variable=Per Capita GDP<br>Financial Year=%{x}<br>value=%{y}<extra></extra>",
         "legendgroup": "Per Capita GDP",
         "line": {
          "color": "#636efa",
          "dash": "solid"
         },
         "marker": {
          "symbol": "circle"
         },
         "mode": "lines",
         "name": "Per Capita GDP",
         "orientation": "v",
         "showlegend": true,
         "type": "scatter",
         "x": [
          "1950-01-01T00:00:00",
          "1951-01-01T00:00:00",
          "1952-01-01T00:00:00",
          "1953-01-01T00:00:00",
          "1954-01-01T00:00:00",
          "1955-01-01T00:00:00",
          "1956-01-01T00:00:00",
          "1957-01-01T00:00:00",
          "1958-01-01T00:00:00",
          "1959-01-01T00:00:00",
          "1960-01-01T00:00:00",
          "1961-01-01T00:00:00",
          "1962-01-01T00:00:00",
          "1963-01-01T00:00:00",
          "1964-01-01T00:00:00",
          "1965-01-01T00:00:00",
          "1966-01-01T00:00:00",
          "1967-01-01T00:00:00",
          "1968-01-01T00:00:00",
          "1969-01-01T00:00:00",
          "1970-01-01T00:00:00",
          "1971-01-01T00:00:00",
          "1972-01-01T00:00:00",
          "1973-01-01T00:00:00",
          "1974-01-01T00:00:00",
          "1975-01-01T00:00:00",
          "1976-01-01T00:00:00",
          "1977-01-01T00:00:00",
          "1978-01-01T00:00:00",
          "1979-01-01T00:00:00",
          "1980-01-01T00:00:00",
          "1981-01-01T00:00:00",
          "1982-01-01T00:00:00",
          "1983-01-01T00:00:00",
          "1984-01-01T00:00:00",
          "1985-01-01T00:00:00",
          "1986-01-01T00:00:00",
          "1987-01-01T00:00:00",
          "1988-01-01T00:00:00",
          "1989-01-01T00:00:00",
          "1990-01-01T00:00:00",
          "1991-01-01T00:00:00",
          "1992-01-01T00:00:00",
          "1993-01-01T00:00:00",
          "1994-01-01T00:00:00",
          "1995-01-01T00:00:00",
          "1996-01-01T00:00:00",
          "1997-01-01T00:00:00",
          "1998-01-01T00:00:00",
          "1999-01-01T00:00:00",
          "2000-01-01T00:00:00",
          "2001-01-01T00:00:00",
          "2002-01-01T00:00:00",
          "2003-01-01T00:00:00",
          "2004-01-01T00:00:00",
          "2005-01-01T00:00:00",
          "2006-01-01T00:00:00",
          "2007-01-01T00:00:00",
          "2008-01-01T00:00:00",
          "2009-01-01T00:00:00",
          "2010-01-01T00:00:00",
          "2011-01-01T00:00:00",
          "2012-01-01T00:00:00",
          "2013-01-01T00:00:00",
          "2014-01-01T00:00:00",
          "2015-01-01T00:00:00",
          "2016-01-01T00:00:00",
          "2017-01-01T00:00:00",
          "2018-01-01T00:00:00",
          "2019-01-01T00:00:00",
          "2020-01-01T00:00:00",
          "2021-01-01T00:00:00"
         ],
         "xaxis": "x",
         "y": [
          13840,
          14013,
          14111,
          14702,
          15130,
          15341,
          15874,
          15499,
          16286,
          16400,
          16983,
          17218,
          17332,
          17975,
          18908,
          17992,
          17618,
          18584,
          18769,
          19580,
          20134,
          19984,
          19418,
          19608,
          19406,
          20693,
          20596,
          21602,
          22343,
          20662,
          21567,
          22433,
          22688,
          23837,
          24212,
          24944,
          25593,
          26034,
          27937,
          28987,
          29971,
          29686,
          30739,
          31477,
          32909,
          34715,
          36626,
          37397,
          38943,
          41625,
          42461,
          43610,
          44583,
          47370,
          50325,
          53478,
          56964,
          60466,
          61468,
          65394,
          69994,
          71609,
          74599,
          78348,
          83091,
          88616,
          94751,
          100035,
          105448,
          108247,
          100032,
          109060
         ],
         "yaxis": "y"
        },
        {
         "hovertemplate": "variable=Per Capita GNI<br>Financial Year=%{x}<br>value=%{y}<extra></extra>",
         "legendgroup": "Per Capita GNI",
         "line": {
          "color": "#EF553B",
          "dash": "solid"
         },
         "marker": {
          "symbol": "circle"
         },
         "mode": "lines",
         "name": "Per Capita GNI",
         "orientation": "v",
         "showlegend": true,
         "type": "scatter",
         "x": [
          "1950-01-01T00:00:00",
          "1951-01-01T00:00:00",
          "1952-01-01T00:00:00",
          "1953-01-01T00:00:00",
          "1954-01-01T00:00:00",
          "1955-01-01T00:00:00",
          "1956-01-01T00:00:00",
          "1957-01-01T00:00:00",
          "1958-01-01T00:00:00",
          "1959-01-01T00:00:00",
          "1960-01-01T00:00:00",
          "1961-01-01T00:00:00",
          "1962-01-01T00:00:00",
          "1963-01-01T00:00:00",
          "1964-01-01T00:00:00",
          "1965-01-01T00:00:00",
          "1966-01-01T00:00:00",
          "1967-01-01T00:00:00",
          "1968-01-01T00:00:00",
          "1969-01-01T00:00:00",
          "1970-01-01T00:00:00",
          "1971-01-01T00:00:00",
          "1972-01-01T00:00:00",
          "1973-01-01T00:00:00",
          "1974-01-01T00:00:00",
          "1975-01-01T00:00:00",
          "1976-01-01T00:00:00",
          "1977-01-01T00:00:00",
          "1978-01-01T00:00:00",
          "1979-01-01T00:00:00",
          "1980-01-01T00:00:00",
          "1981-01-01T00:00:00",
          "1982-01-01T00:00:00",
          "1983-01-01T00:00:00",
          "1984-01-01T00:00:00",
          "1985-01-01T00:00:00",
          "1986-01-01T00:00:00",
          "1987-01-01T00:00:00",
          "1988-01-01T00:00:00",
          "1989-01-01T00:00:00",
          "1990-01-01T00:00:00",
          "1991-01-01T00:00:00",
          "1992-01-01T00:00:00",
          "1993-01-01T00:00:00",
          "1994-01-01T00:00:00",
          "1995-01-01T00:00:00",
          "1996-01-01T00:00:00",
          "1997-01-01T00:00:00",
          "1998-01-01T00:00:00",
          "1999-01-01T00:00:00",
          "2000-01-01T00:00:00",
          "2001-01-01T00:00:00",
          "2002-01-01T00:00:00",
          "2003-01-01T00:00:00",
          "2004-01-01T00:00:00",
          "2005-01-01T00:00:00",
          "2006-01-01T00:00:00",
          "2007-01-01T00:00:00",
          "2008-01-01T00:00:00",
          "2009-01-01T00:00:00",
          "2010-01-01T00:00:00",
          "2011-01-01T00:00:00",
          "2012-01-01T00:00:00",
          "2013-01-01T00:00:00",
          "2014-01-01T00:00:00",
          "2015-01-01T00:00:00",
          "2016-01-01T00:00:00",
          "2017-01-01T00:00:00",
          "2018-01-01T00:00:00",
          "2019-01-01T00:00:00",
          "2020-01-01T00:00:00",
          "2021-01-01T00:00:00"
         ],
         "xaxis": "x",
         "y": [
          13796,
          13986,
          14089,
          14685,
          15104,
          15332,
          15859,
          15478,
          16257,
          16349,
          16923,
          17140,
          17245,
          17889,
          18800,
          17880,
          17511,
          18456,
          18649,
          19455,
          20006,
          19862,
          19309,
          19511,
          19331,
          20630,
          20539,
          21556,
          22300,
          20655,
          21567,
          22406,
          22598,
          23739,
          24079,
          24814,
          25451,
          25847,
          27676,
          28713,
          29635,
          29341,
          30397,
          31173,
          32607,
          34397,
          36326,
          37158,
          38693,
          41352,
          42070,
          43266,
          44283,
          47047,
          29054,
          32604,
          37624,
          42866,
          47498,
          54089,
          63682,
          70980,
          73722,
          77370,
          82107,
          87565,
          93638,
          98925,
          104299,
          107191,
          98629,
          106822
         ],
         "yaxis": "y"
        },
        {
         "hovertemplate": "variable=Per Capita NNI<br>Financial Year=%{x}<br>value=%{y}<extra></extra>",
         "legendgroup": "Per Capita NNI",
         "line": {
          "color": "#00cc96",
          "dash": "solid"
         },
         "marker": {
          "symbol": "circle"
         },
         "mode": "lines",
         "name": "Per Capita NNI",
         "orientation": "v",
         "showlegend": true,
         "type": "scatter",
         "x": [
          "1950-01-01T00:00:00",
          "1951-01-01T00:00:00",
          "1952-01-01T00:00:00",
          "1953-01-01T00:00:00",
          "1954-01-01T00:00:00",
          "1955-01-01T00:00:00",
          "1956-01-01T00:00:00",
          "1957-01-01T00:00:00",
          "1958-01-01T00:00:00",
          "1959-01-01T00:00:00",
          "1960-01-01T00:00:00",
          "1961-01-01T00:00:00",
          "1962-01-01T00:00:00",
          "1963-01-01T00:00:00",
          "1964-01-01T00:00:00",
          "1965-01-01T00:00:00",
          "1966-01-01T00:00:00",
          "1967-01-01T00:00:00",
          "1968-01-01T00:00:00",
          "1969-01-01T00:00:00",
          "1970-01-01T00:00:00",
          "1971-01-01T00:00:00",
          "1972-01-01T00:00:00",
          "1973-01-01T00:00:00",
          "1974-01-01T00:00:00",
          "1975-01-01T00:00:00",
          "1976-01-01T00:00:00",
          "1977-01-01T00:00:00",
          "1978-01-01T00:00:00",
          "1979-01-01T00:00:00",
          "1980-01-01T00:00:00",
          "1981-01-01T00:00:00",
          "1982-01-01T00:00:00",
          "1983-01-01T00:00:00",
          "1984-01-01T00:00:00",
          "1985-01-01T00:00:00",
          "1986-01-01T00:00:00",
          "1987-01-01T00:00:00",
          "1988-01-01T00:00:00",
          "1989-01-01T00:00:00",
          "1990-01-01T00:00:00",
          "1991-01-01T00:00:00",
          "1992-01-01T00:00:00",
          "1993-01-01T00:00:00",
          "1994-01-01T00:00:00",
          "1995-01-01T00:00:00",
          "1996-01-01T00:00:00",
          "1997-01-01T00:00:00",
          "1998-01-01T00:00:00",
          "1999-01-01T00:00:00",
          "2000-01-01T00:00:00",
          "2001-01-01T00:00:00",
          "2002-01-01T00:00:00",
          "2003-01-01T00:00:00",
          "2004-01-01T00:00:00",
          "2005-01-01T00:00:00",
          "2006-01-01T00:00:00",
          "2007-01-01T00:00:00",
          "2008-01-01T00:00:00",
          "2009-01-01T00:00:00",
          "2010-01-01T00:00:00",
          "2011-01-01T00:00:00",
          "2012-01-01T00:00:00",
          "2013-01-01T00:00:00",
          "2014-01-01T00:00:00",
          "2015-01-01T00:00:00",
          "2016-01-01T00:00:00",
          "2017-01-01T00:00:00",
          "2018-01-01T00:00:00",
          "2019-01-01T00:00:00",
          "2020-01-01T00:00:00",
          "2021-01-01T00:00:00"
         ],
         "xaxis": "x",
         "y": [
          12493,
          12753,
          12923,
          13575,
          14207,
          14440,
          14956,
          14571,
          15321,
          15409,
          16004,
          16207,
          16289,
          16910,
          17780,
          16836,
          16423,
          17325,
          17488,
          18246,
          18702,
          18535,
          17962,
          18140,
          17913,
          19177,
          19031,
          20021,
          20738,
          19059,
          19925,
          20718,
          20858,
          21962,
          22228,
          22890,
          23460,
          23766,
          25540,
          26501,
          27319,
          26915,
          27880,
          28608,
          29934,
          31620,
          33436,
          34107,
          35497,
          37968,
          38515,
          39547,
          40419,
          42995,
          45611,
          48387,
          51431,
          54649,
          55101,
          58442,
          62170,
          63462,
          65538,
          68572,
          72805,
          77659,
          83003,
          87586,
          92133,
          94270,
          85110,
          92583
         ],
         "yaxis": "y"
        }
       ],
       "layout": {
        "legend": {
         "title": {
          "text": "variable"
         },
         "tracegroupgap": 0
        },
        "template": {
         "data": {
          "bar": [
           {
            "error_x": {
             "color": "#2a3f5f"
            },
            "error_y": {
             "color": "#2a3f5f"
            },
            "marker": {
             "line": {
              "color": "#E5ECF6",
              "width": 0.5
             },
             "pattern": {
              "fillmode": "overlay",
              "size": 10,
              "solidity": 0.2
             }
            },
            "type": "bar"
           }
          ],
          "barpolar": [
           {
            "marker": {
             "line": {
              "color": "#E5ECF6",
              "width": 0.5
             },
             "pattern": {
              "fillmode": "overlay",
              "size": 10,
              "solidity": 0.2
             }
            },
            "type": "barpolar"
           }
          ],
          "carpet": [
           {
            "aaxis": {
             "endlinecolor": "#2a3f5f",
             "gridcolor": "white",
             "linecolor": "white",
             "minorgridcolor": "white",
             "startlinecolor": "#2a3f5f"
            },
            "baxis": {
             "endlinecolor": "#2a3f5f",
             "gridcolor": "white",
             "linecolor": "white",
             "minorgridcolor": "white",
             "startlinecolor": "#2a3f5f"
            },
            "type": "carpet"
           }
          ],
          "choropleth": [
           {
            "colorbar": {
             "outlinewidth": 0,
             "ticks": ""
            },
            "type": "choropleth"
           }
          ],
          "contour": [
           {
            "colorbar": {
             "outlinewidth": 0,
             "ticks": ""
            },
            "colorscale": [
             [
              0,
              "#0d0887"
             ],
             [
              0.1111111111111111,
              "#46039f"
             ],
             [
              0.2222222222222222,
              "#7201a8"
             ],
             [
              0.3333333333333333,
              "#9c179e"
             ],
             [
              0.4444444444444444,
              "#bd3786"
             ],
             [
              0.5555555555555556,
              "#d8576b"
             ],
             [
              0.6666666666666666,
              "#ed7953"
             ],
             [
              0.7777777777777778,
              "#fb9f3a"
             ],
             [
              0.8888888888888888,
              "#fdca26"
             ],
             [
              1,
              "#f0f921"
             ]
            ],
            "type": "contour"
           }
          ],
          "contourcarpet": [
           {
            "colorbar": {
             "outlinewidth": 0,
             "ticks": ""
            },
            "type": "contourcarpet"
           }
          ],
          "heatmap": [
           {
            "colorbar": {
             "outlinewidth": 0,
             "ticks": ""
            },
            "colorscale": [
             [
              0,
              "#0d0887"
             ],
             [
              0.1111111111111111,
              "#46039f"
             ],
             [
              0.2222222222222222,
              "#7201a8"
             ],
             [
              0.3333333333333333,
              "#9c179e"
             ],
             [
              0.4444444444444444,
              "#bd3786"
             ],
             [
              0.5555555555555556,
              "#d8576b"
             ],
             [
              0.6666666666666666,
              "#ed7953"
             ],
             [
              0.7777777777777778,
              "#fb9f3a"
             ],
             [
              0.8888888888888888,
              "#fdca26"
             ],
             [
              1,
              "#f0f921"
             ]
            ],
            "type": "heatmap"
           }
          ],
          "heatmapgl": [
           {
            "colorbar": {
             "outlinewidth": 0,
             "ticks": ""
            },
            "colorscale": [
             [
              0,
              "#0d0887"
             ],
             [
              0.1111111111111111,
              "#46039f"
             ],
             [
              0.2222222222222222,
              "#7201a8"
             ],
             [
              0.3333333333333333,
              "#9c179e"
             ],
             [
              0.4444444444444444,
              "#bd3786"
             ],
             [
              0.5555555555555556,
              "#d8576b"
             ],
             [
              0.6666666666666666,
              "#ed7953"
             ],
             [
              0.7777777777777778,
              "#fb9f3a"
             ],
             [
              0.8888888888888888,
              "#fdca26"
             ],
             [
              1,
              "#f0f921"
             ]
            ],
            "type": "heatmapgl"
           }
          ],
          "histogram": [
           {
            "marker": {
             "pattern": {
              "fillmode": "overlay",
              "size": 10,
              "solidity": 0.2
             }
            },
            "type": "histogram"
           }
          ],
          "histogram2d": [
           {
            "colorbar": {
             "outlinewidth": 0,
             "ticks": ""
            },
            "colorscale": [
             [
              0,
              "#0d0887"
             ],
             [
              0.1111111111111111,
              "#46039f"
             ],
             [
              0.2222222222222222,
              "#7201a8"
             ],
             [
              0.3333333333333333,
              "#9c179e"
             ],
             [
              0.4444444444444444,
              "#bd3786"
             ],
             [
              0.5555555555555556,
              "#d8576b"
             ],
             [
              0.6666666666666666,
              "#ed7953"
             ],
             [
              0.7777777777777778,
              "#fb9f3a"
             ],
             [
              0.8888888888888888,
              "#fdca26"
             ],
             [
              1,
              "#f0f921"
             ]
            ],
            "type": "histogram2d"
           }
          ],
          "histogram2dcontour": [
           {
            "colorbar": {
             "outlinewidth": 0,
             "ticks": ""
            },
            "colorscale": [
             [
              0,
              "#0d0887"
             ],
             [
              0.1111111111111111,
              "#46039f"
             ],
             [
              0.2222222222222222,
              "#7201a8"
             ],
             [
              0.3333333333333333,
              "#9c179e"
             ],
             [
              0.4444444444444444,
              "#bd3786"
             ],
             [
              0.5555555555555556,
              "#d8576b"
             ],
             [
              0.6666666666666666,
              "#ed7953"
             ],
             [
              0.7777777777777778,
              "#fb9f3a"
             ],
             [
              0.8888888888888888,
              "#fdca26"
             ],
             [
              1,
              "#f0f921"
             ]
            ],
            "type": "histogram2dcontour"
           }
          ],
          "mesh3d": [
           {
            "colorbar": {
             "outlinewidth": 0,
             "ticks": ""
            },
            "type": "mesh3d"
           }
          ],
          "parcoords": [
           {
            "line": {
             "colorbar": {
              "outlinewidth": 0,
              "ticks": ""
             }
            },
            "type": "parcoords"
           }
          ],
          "pie": [
           {
            "automargin": true,
            "type": "pie"
           }
          ],
          "scatter": [
           {
            "fillpattern": {
             "fillmode": "overlay",
             "size": 10,
             "solidity": 0.2
            },
            "type": "scatter"
           }
          ],
          "scatter3d": [
           {
            "line": {
             "colorbar": {
              "outlinewidth": 0,
              "ticks": ""
             }
            },
            "marker": {
             "colorbar": {
              "outlinewidth": 0,
              "ticks": ""
             }
            },
            "type": "scatter3d"
           }
          ],
          "scattercarpet": [
           {
            "marker": {
             "colorbar": {
              "outlinewidth": 0,
              "ticks": ""
             }
            },
            "type": "scattercarpet"
           }
          ],
          "scattergeo": [
           {
            "marker": {
             "colorbar": {
              "outlinewidth": 0,
              "ticks": ""
             }
            },
            "type": "scattergeo"
           }
          ],
          "scattergl": [
           {
            "marker": {
             "colorbar": {
              "outlinewidth": 0,
              "ticks": ""
             }
            },
            "type": "scattergl"
           }
          ],
          "scattermapbox": [
           {
            "marker": {
             "colorbar": {
              "outlinewidth": 0,
              "ticks": ""
             }
            },
            "type": "scattermapbox"
           }
          ],
          "scatterpolar": [
           {
            "marker": {
             "colorbar": {
              "outlinewidth": 0,
              "ticks": ""
             }
            },
            "type": "scatterpolar"
           }
          ],
          "scatterpolargl": [
           {
            "marker": {
             "colorbar": {
              "outlinewidth": 0,
              "ticks": ""
             }
            },
            "type": "scatterpolargl"
           }
          ],
          "scatterternary": [
           {
            "marker": {
             "colorbar": {
              "outlinewidth": 0,
              "ticks": ""
             }
            },
            "type": "scatterternary"
           }
          ],
          "surface": [
           {
            "colorbar": {
             "outlinewidth": 0,
             "ticks": ""
            },
            "colorscale": [
             [
              0,
              "#0d0887"
             ],
             [
              0.1111111111111111,
              "#46039f"
             ],
             [
              0.2222222222222222,
              "#7201a8"
             ],
             [
              0.3333333333333333,
              "#9c179e"
             ],
             [
              0.4444444444444444,
              "#bd3786"
             ],
             [
              0.5555555555555556,
              "#d8576b"
             ],
             [
              0.6666666666666666,
              "#ed7953"
             ],
             [
              0.7777777777777778,
              "#fb9f3a"
             ],
             [
              0.8888888888888888,
              "#fdca26"
             ],
             [
              1,
              "#f0f921"
             ]
            ],
            "type": "surface"
           }
          ],
          "table": [
           {
            "cells": {
             "fill": {
              "color": "#EBF0F8"
             },
             "line": {
              "color": "white"
             }
            },
            "header": {
             "fill": {
              "color": "#C8D4E3"
             },
             "line": {
              "color": "white"
             }
            },
            "type": "table"
           }
          ]
         },
         "layout": {
          "annotationdefaults": {
           "arrowcolor": "#2a3f5f",
           "arrowhead": 0,
           "arrowwidth": 1
          },
          "autotypenumbers": "strict",
          "coloraxis": {
           "colorbar": {
            "outlinewidth": 0,
            "ticks": ""
           }
          },
          "colorscale": {
           "diverging": [
            [
             0,
             "#8e0152"
            ],
            [
             0.1,
             "#c51b7d"
            ],
            [
             0.2,
             "#de77ae"
            ],
            [
             0.3,
             "#f1b6da"
            ],
            [
             0.4,
             "#fde0ef"
            ],
            [
             0.5,
             "#f7f7f7"
            ],
            [
             0.6,
             "#e6f5d0"
            ],
            [
             0.7,
             "#b8e186"
            ],
            [
             0.8,
             "#7fbc41"
            ],
            [
             0.9,
             "#4d9221"
            ],
            [
             1,
             "#276419"
            ]
           ],
           "sequential": [
            [
             0,
             "#0d0887"
            ],
            [
             0.1111111111111111,
             "#46039f"
            ],
            [
             0.2222222222222222,
             "#7201a8"
            ],
            [
             0.3333333333333333,
             "#9c179e"
            ],
            [
             0.4444444444444444,
             "#bd3786"
            ],
            [
             0.5555555555555556,
             "#d8576b"
            ],
            [
             0.6666666666666666,
             "#ed7953"
            ],
            [
             0.7777777777777778,
             "#fb9f3a"
            ],
            [
             0.8888888888888888,
             "#fdca26"
            ],
            [
             1,
             "#f0f921"
            ]
           ],
           "sequentialminus": [
            [
             0,
             "#0d0887"
            ],
            [
             0.1111111111111111,
             "#46039f"
            ],
            [
             0.2222222222222222,
             "#7201a8"
            ],
            [
             0.3333333333333333,
             "#9c179e"
            ],
            [
             0.4444444444444444,
             "#bd3786"
            ],
            [
             0.5555555555555556,
             "#d8576b"
            ],
            [
             0.6666666666666666,
             "#ed7953"
            ],
            [
             0.7777777777777778,
             "#fb9f3a"
            ],
            [
             0.8888888888888888,
             "#fdca26"
            ],
            [
             1,
             "#f0f921"
            ]
           ]
          },
          "colorway": [
           "#636efa",
           "#EF553B",
           "#00cc96",
           "#ab63fa",
           "#FFA15A",
           "#19d3f3",
           "#FF6692",
           "#B6E880",
           "#FF97FF",
           "#FECB52"
          ],
          "font": {
           "color": "#2a3f5f"
          },
          "geo": {
           "bgcolor": "white",
           "lakecolor": "white",
           "landcolor": "#E5ECF6",
           "showlakes": true,
           "showland": true,
           "subunitcolor": "white"
          },
          "hoverlabel": {
           "align": "left"
          },
          "hovermode": "closest",
          "mapbox": {
           "style": "light"
          },
          "paper_bgcolor": "white",
          "plot_bgcolor": "#E5ECF6",
          "polar": {
           "angularaxis": {
            "gridcolor": "white",
            "linecolor": "white",
            "ticks": ""
           },
           "bgcolor": "#E5ECF6",
           "radialaxis": {
            "gridcolor": "white",
            "linecolor": "white",
            "ticks": ""
           }
          },
          "scene": {
           "xaxis": {
            "backgroundcolor": "#E5ECF6",
            "gridcolor": "white",
            "gridwidth": 2,
            "linecolor": "white",
            "showbackground": true,
            "ticks": "",
            "zerolinecolor": "white"
           },
           "yaxis": {
            "backgroundcolor": "#E5ECF6",
            "gridcolor": "white",
            "gridwidth": 2,
            "linecolor": "white",
            "showbackground": true,
            "ticks": "",
            "zerolinecolor": "white"
           },
           "zaxis": {
            "backgroundcolor": "#E5ECF6",
            "gridcolor": "white",
            "gridwidth": 2,
            "linecolor": "white",
            "showbackground": true,
            "ticks": "",
            "zerolinecolor": "white"
           }
          },
          "shapedefaults": {
           "line": {
            "color": "#2a3f5f"
           }
          },
          "ternary": {
           "aaxis": {
            "gridcolor": "white",
            "linecolor": "white",
            "ticks": ""
           },
           "baxis": {
            "gridcolor": "white",
            "linecolor": "white",
            "ticks": ""
           },
           "bgcolor": "#E5ECF6",
           "caxis": {
            "gridcolor": "white",
            "linecolor": "white",
            "ticks": ""
           }
          },
          "title": {
           "x": 0.05
          },
          "xaxis": {
           "automargin": true,
           "gridcolor": "white",
           "linecolor": "white",
           "ticks": "",
           "title": {
            "standoff": 15
           },
           "zerolinecolor": "white",
           "zerolinewidth": 2
          },
          "yaxis": {
           "automargin": true,
           "gridcolor": "white",
           "linecolor": "white",
           "ticks": "",
           "title": {
            "standoff": 15
           },
           "zerolinecolor": "white",
           "zerolinewidth": 2
          }
         }
        },
        "title": {
         "text": "MACROECONOMIC AGGREGATES (At constant prices) (Rupees Crore)"
        },
        "xaxis": {
         "anchor": "y",
         "domain": [
          0,
          1
         ],
         "title": {
          "text": "Financial Year"
         }
        },
        "yaxis": {
         "anchor": "x",
         "domain": [
          0,
          1
         ],
         "title": {
          "text": "value"
         }
        }
       }
      },
      "text/html": [
       "<div>                            <div id=\"e196c315-2b13-4bc8-b421-c5378d3bd19d\" class=\"plotly-graph-div\" style=\"height:525px; width:100%;\"></div>            <script type=\"text/javascript\">                require([\"plotly\"], function(Plotly) {                    window.PLOTLYENV=window.PLOTLYENV || {};                                    if (document.getElementById(\"e196c315-2b13-4bc8-b421-c5378d3bd19d\")) {                    Plotly.newPlot(                        \"e196c315-2b13-4bc8-b421-c5378d3bd19d\",                        [{\"hovertemplate\":\"variable=Per Capita GDP<br>Financial Year=%{x}<br>value=%{y}<extra></extra>\",\"legendgroup\":\"Per Capita GDP\",\"line\":{\"color\":\"#636efa\",\"dash\":\"solid\"},\"marker\":{\"symbol\":\"circle\"},\"mode\":\"lines\",\"name\":\"Per Capita GDP\",\"orientation\":\"v\",\"showlegend\":true,\"x\":[\"1950-01-01T00:00:00\",\"1951-01-01T00:00:00\",\"1952-01-01T00:00:00\",\"1953-01-01T00:00:00\",\"1954-01-01T00:00:00\",\"1955-01-01T00:00:00\",\"1956-01-01T00:00:00\",\"1957-01-01T00:00:00\",\"1958-01-01T00:00:00\",\"1959-01-01T00:00:00\",\"1960-01-01T00:00:00\",\"1961-01-01T00:00:00\",\"1962-01-01T00:00:00\",\"1963-01-01T00:00:00\",\"1964-01-01T00:00:00\",\"1965-01-01T00:00:00\",\"1966-01-01T00:00:00\",\"1967-01-01T00:00:00\",\"1968-01-01T00:00:00\",\"1969-01-01T00:00:00\",\"1970-01-01T00:00:00\",\"1971-01-01T00:00:00\",\"1972-01-01T00:00:00\",\"1973-01-01T00:00:00\",\"1974-01-01T00:00:00\",\"1975-01-01T00:00:00\",\"1976-01-01T00:00:00\",\"1977-01-01T00:00:00\",\"1978-01-01T00:00:00\",\"1979-01-01T00:00:00\",\"1980-01-01T00:00:00\",\"1981-01-01T00:00:00\",\"1982-01-01T00:00:00\",\"1983-01-01T00:00:00\",\"1984-01-01T00:00:00\",\"1985-01-01T00:00:00\",\"1986-01-01T00:00:00\",\"1987-01-01T00:00:00\",\"1988-01-01T00:00:00\",\"1989-01-01T00:00:00\",\"1990-01-01T00:00:00\",\"1991-01-01T00:00:00\",\"1992-01-01T00:00:00\",\"1993-01-01T00:00:00\",\"1994-01-01T00:00:00\",\"1995-01-01T00:00:00\",\"1996-01-01T00:00:00\",\"1997-01-01T00:00:00\",\"1998-01-01T00:00:00\",\"1999-01-01T00:00:00\",\"2000-01-01T00:00:00\",\"2001-01-01T00:00:00\",\"2002-01-01T00:00:00\",\"2003-01-01T00:00:00\",\"2004-01-01T00:00:00\",\"2005-01-01T00:00:00\",\"2006-01-01T00:00:00\",\"2007-01-01T00:00:00\",\"2008-01-01T00:00:00\",\"2009-01-01T00:00:00\",\"2010-01-01T00:00:00\",\"2011-01-01T00:00:00\",\"2012-01-01T00:00:00\",\"2013-01-01T00:00:00\",\"2014-01-01T00:00:00\",\"2015-01-01T00:00:00\",\"2016-01-01T00:00:00\",\"2017-01-01T00:00:00\",\"2018-01-01T00:00:00\",\"2019-01-01T00:00:00\",\"2020-01-01T00:00:00\",\"2021-01-01T00:00:00\"],\"xaxis\":\"x\",\"y\":[13840,14013,14111,14702,15130,15341,15874,15499,16286,16400,16983,17218,17332,17975,18908,17992,17618,18584,18769,19580,20134,19984,19418,19608,19406,20693,20596,21602,22343,20662,21567,22433,22688,23837,24212,24944,25593,26034,27937,28987,29971,29686,30739,31477,32909,34715,36626,37397,38943,41625,42461,43610,44583,47370,50325,53478,56964,60466,61468,65394,69994,71609,74599,78348,83091,88616,94751,100035,105448,108247,100032,109060],\"yaxis\":\"y\",\"type\":\"scatter\"},{\"hovertemplate\":\"variable=Per Capita GNI<br>Financial Year=%{x}<br>value=%{y}<extra></extra>\",\"legendgroup\":\"Per Capita GNI\",\"line\":{\"color\":\"#EF553B\",\"dash\":\"solid\"},\"marker\":{\"symbol\":\"circle\"},\"mode\":\"lines\",\"name\":\"Per Capita GNI\",\"orientation\":\"v\",\"showlegend\":true,\"x\":[\"1950-01-01T00:00:00\",\"1951-01-01T00:00:00\",\"1952-01-01T00:00:00\",\"1953-01-01T00:00:00\",\"1954-01-01T00:00:00\",\"1955-01-01T00:00:00\",\"1956-01-01T00:00:00\",\"1957-01-01T00:00:00\",\"1958-01-01T00:00:00\",\"1959-01-01T00:00:00\",\"1960-01-01T00:00:00\",\"1961-01-01T00:00:00\",\"1962-01-01T00:00:00\",\"1963-01-01T00:00:00\",\"1964-01-01T00:00:00\",\"1965-01-01T00:00:00\",\"1966-01-01T00:00:00\",\"1967-01-01T00:00:00\",\"1968-01-01T00:00:00\",\"1969-01-01T00:00:00\",\"1970-01-01T00:00:00\",\"1971-01-01T00:00:00\",\"1972-01-01T00:00:00\",\"1973-01-01T00:00:00\",\"1974-01-01T00:00:00\",\"1975-01-01T00:00:00\",\"1976-01-01T00:00:00\",\"1977-01-01T00:00:00\",\"1978-01-01T00:00:00\",\"1979-01-01T00:00:00\",\"1980-01-01T00:00:00\",\"1981-01-01T00:00:00\",\"1982-01-01T00:00:00\",\"1983-01-01T00:00:00\",\"1984-01-01T00:00:00\",\"1985-01-01T00:00:00\",\"1986-01-01T00:00:00\",\"1987-01-01T00:00:00\",\"1988-01-01T00:00:00\",\"1989-01-01T00:00:00\",\"1990-01-01T00:00:00\",\"1991-01-01T00:00:00\",\"1992-01-01T00:00:00\",\"1993-01-01T00:00:00\",\"1994-01-01T00:00:00\",\"1995-01-01T00:00:00\",\"1996-01-01T00:00:00\",\"1997-01-01T00:00:00\",\"1998-01-01T00:00:00\",\"1999-01-01T00:00:00\",\"2000-01-01T00:00:00\",\"2001-01-01T00:00:00\",\"2002-01-01T00:00:00\",\"2003-01-01T00:00:00\",\"2004-01-01T00:00:00\",\"2005-01-01T00:00:00\",\"2006-01-01T00:00:00\",\"2007-01-01T00:00:00\",\"2008-01-01T00:00:00\",\"2009-01-01T00:00:00\",\"2010-01-01T00:00:00\",\"2011-01-01T00:00:00\",\"2012-01-01T00:00:00\",\"2013-01-01T00:00:00\",\"2014-01-01T00:00:00\",\"2015-01-01T00:00:00\",\"2016-01-01T00:00:00\",\"2017-01-01T00:00:00\",\"2018-01-01T00:00:00\",\"2019-01-01T00:00:00\",\"2020-01-01T00:00:00\",\"2021-01-01T00:00:00\"],\"xaxis\":\"x\",\"y\":[13796,13986,14089,14685,15104,15332,15859,15478,16257,16349,16923,17140,17245,17889,18800,17880,17511,18456,18649,19455,20006,19862,19309,19511,19331,20630,20539,21556,22300,20655,21567,22406,22598,23739,24079,24814,25451,25847,27676,28713,29635,29341,30397,31173,32607,34397,36326,37158,38693,41352,42070,43266,44283,47047,29054,32604,37624,42866,47498,54089,63682,70980,73722,77370,82107,87565,93638,98925,104299,107191,98629,106822],\"yaxis\":\"y\",\"type\":\"scatter\"},{\"hovertemplate\":\"variable=Per Capita NNI<br>Financial Year=%{x}<br>value=%{y}<extra></extra>\",\"legendgroup\":\"Per Capita NNI\",\"line\":{\"color\":\"#00cc96\",\"dash\":\"solid\"},\"marker\":{\"symbol\":\"circle\"},\"mode\":\"lines\",\"name\":\"Per Capita NNI\",\"orientation\":\"v\",\"showlegend\":true,\"x\":[\"1950-01-01T00:00:00\",\"1951-01-01T00:00:00\",\"1952-01-01T00:00:00\",\"1953-01-01T00:00:00\",\"1954-01-01T00:00:00\",\"1955-01-01T00:00:00\",\"1956-01-01T00:00:00\",\"1957-01-01T00:00:00\",\"1958-01-01T00:00:00\",\"1959-01-01T00:00:00\",\"1960-01-01T00:00:00\",\"1961-01-01T00:00:00\",\"1962-01-01T00:00:00\",\"1963-01-01T00:00:00\",\"1964-01-01T00:00:00\",\"1965-01-01T00:00:00\",\"1966-01-01T00:00:00\",\"1967-01-01T00:00:00\",\"1968-01-01T00:00:00\",\"1969-01-01T00:00:00\",\"1970-01-01T00:00:00\",\"1971-01-01T00:00:00\",\"1972-01-01T00:00:00\",\"1973-01-01T00:00:00\",\"1974-01-01T00:00:00\",\"1975-01-01T00:00:00\",\"1976-01-01T00:00:00\",\"1977-01-01T00:00:00\",\"1978-01-01T00:00:00\",\"1979-01-01T00:00:00\",\"1980-01-01T00:00:00\",\"1981-01-01T00:00:00\",\"1982-01-01T00:00:00\",\"1983-01-01T00:00:00\",\"1984-01-01T00:00:00\",\"1985-01-01T00:00:00\",\"1986-01-01T00:00:00\",\"1987-01-01T00:00:00\",\"1988-01-01T00:00:00\",\"1989-01-01T00:00:00\",\"1990-01-01T00:00:00\",\"1991-01-01T00:00:00\",\"1992-01-01T00:00:00\",\"1993-01-01T00:00:00\",\"1994-01-01T00:00:00\",\"1995-01-01T00:00:00\",\"1996-01-01T00:00:00\",\"1997-01-01T00:00:00\",\"1998-01-01T00:00:00\",\"1999-01-01T00:00:00\",\"2000-01-01T00:00:00\",\"2001-01-01T00:00:00\",\"2002-01-01T00:00:00\",\"2003-01-01T00:00:00\",\"2004-01-01T00:00:00\",\"2005-01-01T00:00:00\",\"2006-01-01T00:00:00\",\"2007-01-01T00:00:00\",\"2008-01-01T00:00:00\",\"2009-01-01T00:00:00\",\"2010-01-01T00:00:00\",\"2011-01-01T00:00:00\",\"2012-01-01T00:00:00\",\"2013-01-01T00:00:00\",\"2014-01-01T00:00:00\",\"2015-01-01T00:00:00\",\"2016-01-01T00:00:00\",\"2017-01-01T00:00:00\",\"2018-01-01T00:00:00\",\"2019-01-01T00:00:00\",\"2020-01-01T00:00:00\",\"2021-01-01T00:00:00\"],\"xaxis\":\"x\",\"y\":[12493,12753,12923,13575,14207,14440,14956,14571,15321,15409,16004,16207,16289,16910,17780,16836,16423,17325,17488,18246,18702,18535,17962,18140,17913,19177,19031,20021,20738,19059,19925,20718,20858,21962,22228,22890,23460,23766,25540,26501,27319,26915,27880,28608,29934,31620,33436,34107,35497,37968,38515,39547,40419,42995,45611,48387,51431,54649,55101,58442,62170,63462,65538,68572,72805,77659,83003,87586,92133,94270,85110,92583],\"yaxis\":\"y\",\"type\":\"scatter\"}],                        {\"template\":{\"data\":{\"histogram2dcontour\":[{\"type\":\"histogram2dcontour\",\"colorbar\":{\"outlinewidth\":0,\"ticks\":\"\"},\"colorscale\":[[0.0,\"#0d0887\"],[0.1111111111111111,\"#46039f\"],[0.2222222222222222,\"#7201a8\"],[0.3333333333333333,\"#9c179e\"],[0.4444444444444444,\"#bd3786\"],[0.5555555555555556,\"#d8576b\"],[0.6666666666666666,\"#ed7953\"],[0.7777777777777778,\"#fb9f3a\"],[0.8888888888888888,\"#fdca26\"],[1.0,\"#f0f921\"]]}],\"choropleth\":[{\"type\":\"choropleth\",\"colorbar\":{\"outlinewidth\":0,\"ticks\":\"\"}}],\"histogram2d\":[{\"type\":\"histogram2d\",\"colorbar\":{\"outlinewidth\":0,\"ticks\":\"\"},\"colorscale\":[[0.0,\"#0d0887\"],[0.1111111111111111,\"#46039f\"],[0.2222222222222222,\"#7201a8\"],[0.3333333333333333,\"#9c179e\"],[0.4444444444444444,\"#bd3786\"],[0.5555555555555556,\"#d8576b\"],[0.6666666666666666,\"#ed7953\"],[0.7777777777777778,\"#fb9f3a\"],[0.8888888888888888,\"#fdca26\"],[1.0,\"#f0f921\"]]}],\"heatmap\":[{\"type\":\"heatmap\",\"colorbar\":{\"outlinewidth\":0,\"ticks\":\"\"},\"colorscale\":[[0.0,\"#0d0887\"],[0.1111111111111111,\"#46039f\"],[0.2222222222222222,\"#7201a8\"],[0.3333333333333333,\"#9c179e\"],[0.4444444444444444,\"#bd3786\"],[0.5555555555555556,\"#d8576b\"],[0.6666666666666666,\"#ed7953\"],[0.7777777777777778,\"#fb9f3a\"],[0.8888888888888888,\"#fdca26\"],[1.0,\"#f0f921\"]]}],\"heatmapgl\":[{\"type\":\"heatmapgl\",\"colorbar\":{\"outlinewidth\":0,\"ticks\":\"\"},\"colorscale\":[[0.0,\"#0d0887\"],[0.1111111111111111,\"#46039f\"],[0.2222222222222222,\"#7201a8\"],[0.3333333333333333,\"#9c179e\"],[0.4444444444444444,\"#bd3786\"],[0.5555555555555556,\"#d8576b\"],[0.6666666666666666,\"#ed7953\"],[0.7777777777777778,\"#fb9f3a\"],[0.8888888888888888,\"#fdca26\"],[1.0,\"#f0f921\"]]}],\"contourcarpet\":[{\"type\":\"contourcarpet\",\"colorbar\":{\"outlinewidth\":0,\"ticks\":\"\"}}],\"contour\":[{\"type\":\"contour\",\"colorbar\":{\"outlinewidth\":0,\"ticks\":\"\"},\"colorscale\":[[0.0,\"#0d0887\"],[0.1111111111111111,\"#46039f\"],[0.2222222222222222,\"#7201a8\"],[0.3333333333333333,\"#9c179e\"],[0.4444444444444444,\"#bd3786\"],[0.5555555555555556,\"#d8576b\"],[0.6666666666666666,\"#ed7953\"],[0.7777777777777778,\"#fb9f3a\"],[0.8888888888888888,\"#fdca26\"],[1.0,\"#f0f921\"]]}],\"surface\":[{\"type\":\"surface\",\"colorbar\":{\"outlinewidth\":0,\"ticks\":\"\"},\"colorscale\":[[0.0,\"#0d0887\"],[0.1111111111111111,\"#46039f\"],[0.2222222222222222,\"#7201a8\"],[0.3333333333333333,\"#9c179e\"],[0.4444444444444444,\"#bd3786\"],[0.5555555555555556,\"#d8576b\"],[0.6666666666666666,\"#ed7953\"],[0.7777777777777778,\"#fb9f3a\"],[0.8888888888888888,\"#fdca26\"],[1.0,\"#f0f921\"]]}],\"mesh3d\":[{\"type\":\"mesh3d\",\"colorbar\":{\"outlinewidth\":0,\"ticks\":\"\"}}],\"scatter\":[{\"fillpattern\":{\"fillmode\":\"overlay\",\"size\":10,\"solidity\":0.2},\"type\":\"scatter\"}],\"parcoords\":[{\"type\":\"parcoords\",\"line\":{\"colorbar\":{\"outlinewidth\":0,\"ticks\":\"\"}}}],\"scatterpolargl\":[{\"type\":\"scatterpolargl\",\"marker\":{\"colorbar\":{\"outlinewidth\":0,\"ticks\":\"\"}}}],\"bar\":[{\"error_x\":{\"color\":\"#2a3f5f\"},\"error_y\":{\"color\":\"#2a3f5f\"},\"marker\":{\"line\":{\"color\":\"#E5ECF6\",\"width\":0.5},\"pattern\":{\"fillmode\":\"overlay\",\"size\":10,\"solidity\":0.2}},\"type\":\"bar\"}],\"scattergeo\":[{\"type\":\"scattergeo\",\"marker\":{\"colorbar\":{\"outlinewidth\":0,\"ticks\":\"\"}}}],\"scatterpolar\":[{\"type\":\"scatterpolar\",\"marker\":{\"colorbar\":{\"outlinewidth\":0,\"ticks\":\"\"}}}],\"histogram\":[{\"marker\":{\"pattern\":{\"fillmode\":\"overlay\",\"size\":10,\"solidity\":0.2}},\"type\":\"histogram\"}],\"scattergl\":[{\"type\":\"scattergl\",\"marker\":{\"colorbar\":{\"outlinewidth\":0,\"ticks\":\"\"}}}],\"scatter3d\":[{\"type\":\"scatter3d\",\"line\":{\"colorbar\":{\"outlinewidth\":0,\"ticks\":\"\"}},\"marker\":{\"colorbar\":{\"outlinewidth\":0,\"ticks\":\"\"}}}],\"scattermapbox\":[{\"type\":\"scattermapbox\",\"marker\":{\"colorbar\":{\"outlinewidth\":0,\"ticks\":\"\"}}}],\"scatterternary\":[{\"type\":\"scatterternary\",\"marker\":{\"colorbar\":{\"outlinewidth\":0,\"ticks\":\"\"}}}],\"scattercarpet\":[{\"type\":\"scattercarpet\",\"marker\":{\"colorbar\":{\"outlinewidth\":0,\"ticks\":\"\"}}}],\"carpet\":[{\"aaxis\":{\"endlinecolor\":\"#2a3f5f\",\"gridcolor\":\"white\",\"linecolor\":\"white\",\"minorgridcolor\":\"white\",\"startlinecolor\":\"#2a3f5f\"},\"baxis\":{\"endlinecolor\":\"#2a3f5f\",\"gridcolor\":\"white\",\"linecolor\":\"white\",\"minorgridcolor\":\"white\",\"startlinecolor\":\"#2a3f5f\"},\"type\":\"carpet\"}],\"table\":[{\"cells\":{\"fill\":{\"color\":\"#EBF0F8\"},\"line\":{\"color\":\"white\"}},\"header\":{\"fill\":{\"color\":\"#C8D4E3\"},\"line\":{\"color\":\"white\"}},\"type\":\"table\"}],\"barpolar\":[{\"marker\":{\"line\":{\"color\":\"#E5ECF6\",\"width\":0.5},\"pattern\":{\"fillmode\":\"overlay\",\"size\":10,\"solidity\":0.2}},\"type\":\"barpolar\"}],\"pie\":[{\"automargin\":true,\"type\":\"pie\"}]},\"layout\":{\"autotypenumbers\":\"strict\",\"colorway\":[\"#636efa\",\"#EF553B\",\"#00cc96\",\"#ab63fa\",\"#FFA15A\",\"#19d3f3\",\"#FF6692\",\"#B6E880\",\"#FF97FF\",\"#FECB52\"],\"font\":{\"color\":\"#2a3f5f\"},\"hovermode\":\"closest\",\"hoverlabel\":{\"align\":\"left\"},\"paper_bgcolor\":\"white\",\"plot_bgcolor\":\"#E5ECF6\",\"polar\":{\"bgcolor\":\"#E5ECF6\",\"angularaxis\":{\"gridcolor\":\"white\",\"linecolor\":\"white\",\"ticks\":\"\"},\"radialaxis\":{\"gridcolor\":\"white\",\"linecolor\":\"white\",\"ticks\":\"\"}},\"ternary\":{\"bgcolor\":\"#E5ECF6\",\"aaxis\":{\"gridcolor\":\"white\",\"linecolor\":\"white\",\"ticks\":\"\"},\"baxis\":{\"gridcolor\":\"white\",\"linecolor\":\"white\",\"ticks\":\"\"},\"caxis\":{\"gridcolor\":\"white\",\"linecolor\":\"white\",\"ticks\":\"\"}},\"coloraxis\":{\"colorbar\":{\"outlinewidth\":0,\"ticks\":\"\"}},\"colorscale\":{\"sequential\":[[0.0,\"#0d0887\"],[0.1111111111111111,\"#46039f\"],[0.2222222222222222,\"#7201a8\"],[0.3333333333333333,\"#9c179e\"],[0.4444444444444444,\"#bd3786\"],[0.5555555555555556,\"#d8576b\"],[0.6666666666666666,\"#ed7953\"],[0.7777777777777778,\"#fb9f3a\"],[0.8888888888888888,\"#fdca26\"],[1.0,\"#f0f921\"]],\"sequentialminus\":[[0.0,\"#0d0887\"],[0.1111111111111111,\"#46039f\"],[0.2222222222222222,\"#7201a8\"],[0.3333333333333333,\"#9c179e\"],[0.4444444444444444,\"#bd3786\"],[0.5555555555555556,\"#d8576b\"],[0.6666666666666666,\"#ed7953\"],[0.7777777777777778,\"#fb9f3a\"],[0.8888888888888888,\"#fdca26\"],[1.0,\"#f0f921\"]],\"diverging\":[[0,\"#8e0152\"],[0.1,\"#c51b7d\"],[0.2,\"#de77ae\"],[0.3,\"#f1b6da\"],[0.4,\"#fde0ef\"],[0.5,\"#f7f7f7\"],[0.6,\"#e6f5d0\"],[0.7,\"#b8e186\"],[0.8,\"#7fbc41\"],[0.9,\"#4d9221\"],[1,\"#276419\"]]},\"xaxis\":{\"gridcolor\":\"white\",\"linecolor\":\"white\",\"ticks\":\"\",\"title\":{\"standoff\":15},\"zerolinecolor\":\"white\",\"automargin\":true,\"zerolinewidth\":2},\"yaxis\":{\"gridcolor\":\"white\",\"linecolor\":\"white\",\"ticks\":\"\",\"title\":{\"standoff\":15},\"zerolinecolor\":\"white\",\"automargin\":true,\"zerolinewidth\":2},\"scene\":{\"xaxis\":{\"backgroundcolor\":\"#E5ECF6\",\"gridcolor\":\"white\",\"linecolor\":\"white\",\"showbackground\":true,\"ticks\":\"\",\"zerolinecolor\":\"white\",\"gridwidth\":2},\"yaxis\":{\"backgroundcolor\":\"#E5ECF6\",\"gridcolor\":\"white\",\"linecolor\":\"white\",\"showbackground\":true,\"ticks\":\"\",\"zerolinecolor\":\"white\",\"gridwidth\":2},\"zaxis\":{\"backgroundcolor\":\"#E5ECF6\",\"gridcolor\":\"white\",\"linecolor\":\"white\",\"showbackground\":true,\"ticks\":\"\",\"zerolinecolor\":\"white\",\"gridwidth\":2}},\"shapedefaults\":{\"line\":{\"color\":\"#2a3f5f\"}},\"annotationdefaults\":{\"arrowcolor\":\"#2a3f5f\",\"arrowhead\":0,\"arrowwidth\":1},\"geo\":{\"bgcolor\":\"white\",\"landcolor\":\"#E5ECF6\",\"subunitcolor\":\"white\",\"showland\":true,\"showlakes\":true,\"lakecolor\":\"white\"},\"title\":{\"x\":0.05},\"mapbox\":{\"style\":\"light\"}}},\"xaxis\":{\"anchor\":\"y\",\"domain\":[0.0,1.0],\"title\":{\"text\":\"Financial Year\"}},\"yaxis\":{\"anchor\":\"x\",\"domain\":[0.0,1.0],\"title\":{\"text\":\"value\"}},\"legend\":{\"title\":{\"text\":\"variable\"},\"tracegroupgap\":0},\"title\":{\"text\":\"MACROECONOMIC AGGREGATES (At constant prices) (Rupees Crore)\"}},                        {\"responsive\": true}                    ).then(function(){\n",
       "                            \n",
       "var gd = document.getElementById('e196c315-2b13-4bc8-b421-c5378d3bd19d');\n",
       "var x = new MutationObserver(function (mutations, observer) {{\n",
       "        var display = window.getComputedStyle(gd).display;\n",
       "        if (!display || display === 'none') {{\n",
       "            console.log([gd, 'removed!']);\n",
       "            Plotly.purge(gd);\n",
       "            observer.disconnect();\n",
       "        }}\n",
       "}});\n",
       "\n",
       "// Listen for the removal of the full notebook cells\n",
       "var notebookContainer = gd.closest('#notebook-container');\n",
       "if (notebookContainer) {{\n",
       "    x.observe(notebookContainer, {childList: true});\n",
       "}}\n",
       "\n",
       "// Listen for the clearing of the current output cell\n",
       "var outputEl = gd.closest('.output');\n",
       "if (outputEl) {{\n",
       "    x.observe(outputEl, {childList: true});\n",
       "}}\n",
       "\n",
       "                        })                };                });            </script>        </div>"
      ]
     },
     "metadata": {},
     "output_type": "display_data"
    }
   ],
   "source": [
    "fig = px.line(gdp_gni_nni, x='Financial Year', y=['GVA at Basic Prices', 'Net taxes on Products',\n",
    "       'Gross Domestic Product', 'Gross National Income',\n",
    "       'Net National Income'], title=title)\n",
    "fig.show()\n",
    "fig = px.line(gdp_gni_nni, x='Financial Year', y=['Per Capita GDP', 'Per Capita GNI',\n",
    "       'Per Capita NNI'], title=title)\n",
    "fig.show()"
   ]
  },
  {
   "cell_type": "code",
   "execution_count": 40,
   "metadata": {},
   "outputs": [],
   "source": [
    "gdp_gni_nni.to_csv('gdp_gni_nni_final.csv',index=False)"
   ]
  },
  {
   "attachments": {},
   "cell_type": "markdown",
   "metadata": {},
   "source": [
    "# Deposit"
   ]
  },
  {
   "cell_type": "code",
   "execution_count": null,
   "metadata": {},
   "outputs": [],
   "source": [
    "title = 'STRUCTURE OF INTEREST RATES (Per cent per annum)'\n",
    "deposits = pd.read_csv('deposit rates.csv')\n",
    "deposits"
   ]
  },
  {
   "cell_type": "code",
   "execution_count": null,
   "metadata": {},
   "outputs": [],
   "source": [
    "def convert_to_float(val):\n",
    "    try:\n",
    "        return float(val.split('-')[0])\n",
    "    except:\n",
    "        return np.nan\n",
    "\n",
    "# Apply the function to all columns except the first column\n",
    "deposits.iloc[:, 1:] = deposits.iloc[:, 1:].applymap(convert_to_float)\n",
    "deposits['Financial Year'] = pd.to_datetime(deposits['Financial Year'].str[:4], format='%Y')\n",
    "deposits"
   ]
  },
  {
   "cell_type": "code",
   "execution_count": 44,
   "metadata": {},
   "outputs": [
    {
     "data": {
      "text/plain": [
       "Index(['Financial Year', 'Savings', 'Term Deposits 1-3 yrs',\n",
       "       'Term Deposits 3-5 yrs', 'Term Deposits Above 5 yrs'],\n",
       "      dtype='object')"
      ]
     },
     "execution_count": 44,
     "metadata": {},
     "output_type": "execute_result"
    }
   ],
   "source": [
    "deposits.columns"
   ]
  },
  {
   "cell_type": "code",
   "execution_count": 45,
   "metadata": {},
   "outputs": [
    {
     "data": {
      "application/vnd.plotly.v1+json": {
       "config": {
        "plotlyServerURL": "https://plot.ly"
       },
       "data": [
        {
         "hovertemplate": "variable=Savings<br>Financial Year=%{x}<br>value=%{y}<extra></extra>",
         "legendgroup": "Savings",
         "line": {
          "color": "#636efa",
          "dash": "solid"
         },
         "marker": {
          "symbol": "circle"
         },
         "mode": "lines",
         "name": "Savings",
         "orientation": "v",
         "showlegend": true,
         "type": "scatter",
         "x": [
          "2022-01-01T00:00:00",
          "2021-01-01T00:00:00",
          "2020-01-01T00:00:00",
          "2019-01-01T00:00:00",
          "2018-01-01T00:00:00",
          "2017-01-01T00:00:00",
          "2016-01-01T00:00:00",
          "2015-01-01T00:00:00",
          "2014-01-01T00:00:00",
          "2013-01-01T00:00:00",
          "2012-01-01T00:00:00",
          "2011-01-01T00:00:00",
          "2010-01-01T00:00:00",
          "2009-01-01T00:00:00",
          "2008-01-01T00:00:00",
          "2007-01-01T00:00:00",
          "2006-01-01T00:00:00",
          "2005-01-01T00:00:00",
          "2004-01-01T00:00:00",
          "2003-01-01T00:00:00",
          "2002-01-01T00:00:00",
          "2001-01-01T00:00:00",
          "2000-01-01T00:00:00"
         ],
         "xaxis": "x",
         "y": [
          2.7,
          2.7,
          2.7,
          3,
          3.5,
          3.5,
          4,
          4,
          4,
          4,
          4,
          4,
          3.5,
          3.5,
          3.5,
          3.5,
          3.5,
          3.5,
          3.5,
          3.5,
          3.5,
          4,
          4
         ],
         "yaxis": "y"
        },
        {
         "hovertemplate": "variable=Term Deposits 1-3 yrs<br>Financial Year=%{x}<br>value=%{y}<extra></extra>",
         "legendgroup": "Term Deposits 1-3 yrs",
         "line": {
          "color": "#EF553B",
          "dash": "solid"
         },
         "marker": {
          "symbol": "circle"
         },
         "mode": "lines",
         "name": "Term Deposits 1-3 yrs",
         "orientation": "v",
         "showlegend": true,
         "type": "scatter",
         "x": [
          "2022-01-01T00:00:00",
          "2021-01-01T00:00:00",
          "2020-01-01T00:00:00",
          "2019-01-01T00:00:00",
          "2018-01-01T00:00:00",
          "2017-01-01T00:00:00",
          "2016-01-01T00:00:00",
          "2015-01-01T00:00:00",
          "2014-01-01T00:00:00",
          "2013-01-01T00:00:00",
          "2012-01-01T00:00:00",
          "2011-01-01T00:00:00",
          "2010-01-01T00:00:00",
          "2009-01-01T00:00:00",
          "2008-01-01T00:00:00",
          "2007-01-01T00:00:00",
          "2006-01-01T00:00:00",
          "2005-01-01T00:00:00",
          "2004-01-01T00:00:00",
          "2003-01-01T00:00:00",
          "2002-01-01T00:00:00",
          "2001-01-01T00:00:00",
          "2000-01-01T00:00:00"
         ],
         "xaxis": "x",
         "y": [
          5.3,
          5,
          4.9,
          5,
          6.25,
          6.4,
          6.75,
          7.25,
          8.5,
          8.75,
          8.75,
          9,
          8.25,
          6,
          8,
          8,
          6.75,
          6,
          5.25,
          4,
          4.25,
          7.5,
          8.5
         ],
         "yaxis": "y"
        },
        {
         "hovertemplate": "variable=Term Deposits 3-5 yrs<br>Financial Year=%{x}<br>value=%{y}<extra></extra>",
         "legendgroup": "Term Deposits 3-5 yrs",
         "line": {
          "color": "#00cc96",
          "dash": "solid"
         },
         "marker": {
          "symbol": "circle"
         },
         "mode": "lines",
         "name": "Term Deposits 3-5 yrs",
         "orientation": "v",
         "showlegend": true,
         "type": "scatter",
         "x": [
          "2022-01-01T00:00:00",
          "2021-01-01T00:00:00",
          "2020-01-01T00:00:00",
          "2019-01-01T00:00:00",
          "2018-01-01T00:00:00",
          "2017-01-01T00:00:00",
          "2016-01-01T00:00:00",
          "2015-01-01T00:00:00",
          "2014-01-01T00:00:00",
          "2013-01-01T00:00:00",
          "2012-01-01T00:00:00",
          "2011-01-01T00:00:00",
          "2010-01-01T00:00:00",
          "2009-01-01T00:00:00",
          "2008-01-01T00:00:00",
          "2007-01-01T00:00:00",
          "2006-01-01T00:00:00",
          "2005-01-01T00:00:00",
          "2004-01-01T00:00:00",
          "2003-01-01T00:00:00",
          "2002-01-01T00:00:00",
          "2001-01-01T00:00:00",
          "2000-01-01T00:00:00"
         ],
         "xaxis": "x",
         "y": [
          5.35,
          5.05,
          5.25,
          5.7,
          6.25,
          6.25,
          6.5,
          7,
          8.5,
          8.75,
          8.75,
          9,
          8.25,
          6.5,
          8,
          8,
          7.75,
          6.25,
          5.75,
          5.25,
          5.5,
          8,
          9.5
         ],
         "yaxis": "y"
        },
        {
         "hovertemplate": "variable=Term Deposits Above 5 yrs<br>Financial Year=%{x}<br>value=%{y}<extra></extra>",
         "legendgroup": "Term Deposits Above 5 yrs",
         "line": {
          "color": "#ab63fa",
          "dash": "solid"
         },
         "marker": {
          "symbol": "circle"
         },
         "mode": "lines",
         "name": "Term Deposits Above 5 yrs",
         "orientation": "v",
         "showlegend": true,
         "type": "scatter",
         "x": [
          "2022-01-01T00:00:00",
          "2021-01-01T00:00:00",
          "2020-01-01T00:00:00",
          "2019-01-01T00:00:00",
          "2018-01-01T00:00:00",
          "2017-01-01T00:00:00",
          "2016-01-01T00:00:00",
          "2015-01-01T00:00:00",
          "2014-01-01T00:00:00",
          "2013-01-01T00:00:00",
          "2012-01-01T00:00:00",
          "2011-01-01T00:00:00",
          "2010-01-01T00:00:00",
          "2009-01-01T00:00:00",
          "2008-01-01T00:00:00",
          "2007-01-01T00:00:00",
          "2006-01-01T00:00:00",
          "2005-01-01T00:00:00",
          "2004-01-01T00:00:00",
          "2003-01-01T00:00:00",
          "2002-01-01T00:00:00",
          "2001-01-01T00:00:00",
          "2000-01-01T00:00:00"
         ],
         "xaxis": "x",
         "y": [
          5.35,
          5.05,
          5.25,
          5.7,
          6.25,
          6.25,
          6.5,
          7,
          8.25,
          8.5,
          8.5,
          8.5,
          8.5,
          7,
          7.75,
          8.5,
          7.75,
          6.5,
          6.25,
          5.25,
          5.5,
          8,
          8.5
         ],
         "yaxis": "y"
        }
       ],
       "layout": {
        "legend": {
         "title": {
          "text": "variable"
         },
         "tracegroupgap": 0
        },
        "template": {
         "data": {
          "bar": [
           {
            "error_x": {
             "color": "#2a3f5f"
            },
            "error_y": {
             "color": "#2a3f5f"
            },
            "marker": {
             "line": {
              "color": "#E5ECF6",
              "width": 0.5
             },
             "pattern": {
              "fillmode": "overlay",
              "size": 10,
              "solidity": 0.2
             }
            },
            "type": "bar"
           }
          ],
          "barpolar": [
           {
            "marker": {
             "line": {
              "color": "#E5ECF6",
              "width": 0.5
             },
             "pattern": {
              "fillmode": "overlay",
              "size": 10,
              "solidity": 0.2
             }
            },
            "type": "barpolar"
           }
          ],
          "carpet": [
           {
            "aaxis": {
             "endlinecolor": "#2a3f5f",
             "gridcolor": "white",
             "linecolor": "white",
             "minorgridcolor": "white",
             "startlinecolor": "#2a3f5f"
            },
            "baxis": {
             "endlinecolor": "#2a3f5f",
             "gridcolor": "white",
             "linecolor": "white",
             "minorgridcolor": "white",
             "startlinecolor": "#2a3f5f"
            },
            "type": "carpet"
           }
          ],
          "choropleth": [
           {
            "colorbar": {
             "outlinewidth": 0,
             "ticks": ""
            },
            "type": "choropleth"
           }
          ],
          "contour": [
           {
            "colorbar": {
             "outlinewidth": 0,
             "ticks": ""
            },
            "colorscale": [
             [
              0,
              "#0d0887"
             ],
             [
              0.1111111111111111,
              "#46039f"
             ],
             [
              0.2222222222222222,
              "#7201a8"
             ],
             [
              0.3333333333333333,
              "#9c179e"
             ],
             [
              0.4444444444444444,
              "#bd3786"
             ],
             [
              0.5555555555555556,
              "#d8576b"
             ],
             [
              0.6666666666666666,
              "#ed7953"
             ],
             [
              0.7777777777777778,
              "#fb9f3a"
             ],
             [
              0.8888888888888888,
              "#fdca26"
             ],
             [
              1,
              "#f0f921"
             ]
            ],
            "type": "contour"
           }
          ],
          "contourcarpet": [
           {
            "colorbar": {
             "outlinewidth": 0,
             "ticks": ""
            },
            "type": "contourcarpet"
           }
          ],
          "heatmap": [
           {
            "colorbar": {
             "outlinewidth": 0,
             "ticks": ""
            },
            "colorscale": [
             [
              0,
              "#0d0887"
             ],
             [
              0.1111111111111111,
              "#46039f"
             ],
             [
              0.2222222222222222,
              "#7201a8"
             ],
             [
              0.3333333333333333,
              "#9c179e"
             ],
             [
              0.4444444444444444,
              "#bd3786"
             ],
             [
              0.5555555555555556,
              "#d8576b"
             ],
             [
              0.6666666666666666,
              "#ed7953"
             ],
             [
              0.7777777777777778,
              "#fb9f3a"
             ],
             [
              0.8888888888888888,
              "#fdca26"
             ],
             [
              1,
              "#f0f921"
             ]
            ],
            "type": "heatmap"
           }
          ],
          "heatmapgl": [
           {
            "colorbar": {
             "outlinewidth": 0,
             "ticks": ""
            },
            "colorscale": [
             [
              0,
              "#0d0887"
             ],
             [
              0.1111111111111111,
              "#46039f"
             ],
             [
              0.2222222222222222,
              "#7201a8"
             ],
             [
              0.3333333333333333,
              "#9c179e"
             ],
             [
              0.4444444444444444,
              "#bd3786"
             ],
             [
              0.5555555555555556,
              "#d8576b"
             ],
             [
              0.6666666666666666,
              "#ed7953"
             ],
             [
              0.7777777777777778,
              "#fb9f3a"
             ],
             [
              0.8888888888888888,
              "#fdca26"
             ],
             [
              1,
              "#f0f921"
             ]
            ],
            "type": "heatmapgl"
           }
          ],
          "histogram": [
           {
            "marker": {
             "pattern": {
              "fillmode": "overlay",
              "size": 10,
              "solidity": 0.2
             }
            },
            "type": "histogram"
           }
          ],
          "histogram2d": [
           {
            "colorbar": {
             "outlinewidth": 0,
             "ticks": ""
            },
            "colorscale": [
             [
              0,
              "#0d0887"
             ],
             [
              0.1111111111111111,
              "#46039f"
             ],
             [
              0.2222222222222222,
              "#7201a8"
             ],
             [
              0.3333333333333333,
              "#9c179e"
             ],
             [
              0.4444444444444444,
              "#bd3786"
             ],
             [
              0.5555555555555556,
              "#d8576b"
             ],
             [
              0.6666666666666666,
              "#ed7953"
             ],
             [
              0.7777777777777778,
              "#fb9f3a"
             ],
             [
              0.8888888888888888,
              "#fdca26"
             ],
             [
              1,
              "#f0f921"
             ]
            ],
            "type": "histogram2d"
           }
          ],
          "histogram2dcontour": [
           {
            "colorbar": {
             "outlinewidth": 0,
             "ticks": ""
            },
            "colorscale": [
             [
              0,
              "#0d0887"
             ],
             [
              0.1111111111111111,
              "#46039f"
             ],
             [
              0.2222222222222222,
              "#7201a8"
             ],
             [
              0.3333333333333333,
              "#9c179e"
             ],
             [
              0.4444444444444444,
              "#bd3786"
             ],
             [
              0.5555555555555556,
              "#d8576b"
             ],
             [
              0.6666666666666666,
              "#ed7953"
             ],
             [
              0.7777777777777778,
              "#fb9f3a"
             ],
             [
              0.8888888888888888,
              "#fdca26"
             ],
             [
              1,
              "#f0f921"
             ]
            ],
            "type": "histogram2dcontour"
           }
          ],
          "mesh3d": [
           {
            "colorbar": {
             "outlinewidth": 0,
             "ticks": ""
            },
            "type": "mesh3d"
           }
          ],
          "parcoords": [
           {
            "line": {
             "colorbar": {
              "outlinewidth": 0,
              "ticks": ""
             }
            },
            "type": "parcoords"
           }
          ],
          "pie": [
           {
            "automargin": true,
            "type": "pie"
           }
          ],
          "scatter": [
           {
            "fillpattern": {
             "fillmode": "overlay",
             "size": 10,
             "solidity": 0.2
            },
            "type": "scatter"
           }
          ],
          "scatter3d": [
           {
            "line": {
             "colorbar": {
              "outlinewidth": 0,
              "ticks": ""
             }
            },
            "marker": {
             "colorbar": {
              "outlinewidth": 0,
              "ticks": ""
             }
            },
            "type": "scatter3d"
           }
          ],
          "scattercarpet": [
           {
            "marker": {
             "colorbar": {
              "outlinewidth": 0,
              "ticks": ""
             }
            },
            "type": "scattercarpet"
           }
          ],
          "scattergeo": [
           {
            "marker": {
             "colorbar": {
              "outlinewidth": 0,
              "ticks": ""
             }
            },
            "type": "scattergeo"
           }
          ],
          "scattergl": [
           {
            "marker": {
             "colorbar": {
              "outlinewidth": 0,
              "ticks": ""
             }
            },
            "type": "scattergl"
           }
          ],
          "scattermapbox": [
           {
            "marker": {
             "colorbar": {
              "outlinewidth": 0,
              "ticks": ""
             }
            },
            "type": "scattermapbox"
           }
          ],
          "scatterpolar": [
           {
            "marker": {
             "colorbar": {
              "outlinewidth": 0,
              "ticks": ""
             }
            },
            "type": "scatterpolar"
           }
          ],
          "scatterpolargl": [
           {
            "marker": {
             "colorbar": {
              "outlinewidth": 0,
              "ticks": ""
             }
            },
            "type": "scatterpolargl"
           }
          ],
          "scatterternary": [
           {
            "marker": {
             "colorbar": {
              "outlinewidth": 0,
              "ticks": ""
             }
            },
            "type": "scatterternary"
           }
          ],
          "surface": [
           {
            "colorbar": {
             "outlinewidth": 0,
             "ticks": ""
            },
            "colorscale": [
             [
              0,
              "#0d0887"
             ],
             [
              0.1111111111111111,
              "#46039f"
             ],
             [
              0.2222222222222222,
              "#7201a8"
             ],
             [
              0.3333333333333333,
              "#9c179e"
             ],
             [
              0.4444444444444444,
              "#bd3786"
             ],
             [
              0.5555555555555556,
              "#d8576b"
             ],
             [
              0.6666666666666666,
              "#ed7953"
             ],
             [
              0.7777777777777778,
              "#fb9f3a"
             ],
             [
              0.8888888888888888,
              "#fdca26"
             ],
             [
              1,
              "#f0f921"
             ]
            ],
            "type": "surface"
           }
          ],
          "table": [
           {
            "cells": {
             "fill": {
              "color": "#EBF0F8"
             },
             "line": {
              "color": "white"
             }
            },
            "header": {
             "fill": {
              "color": "#C8D4E3"
             },
             "line": {
              "color": "white"
             }
            },
            "type": "table"
           }
          ]
         },
         "layout": {
          "annotationdefaults": {
           "arrowcolor": "#2a3f5f",
           "arrowhead": 0,
           "arrowwidth": 1
          },
          "autotypenumbers": "strict",
          "coloraxis": {
           "colorbar": {
            "outlinewidth": 0,
            "ticks": ""
           }
          },
          "colorscale": {
           "diverging": [
            [
             0,
             "#8e0152"
            ],
            [
             0.1,
             "#c51b7d"
            ],
            [
             0.2,
             "#de77ae"
            ],
            [
             0.3,
             "#f1b6da"
            ],
            [
             0.4,
             "#fde0ef"
            ],
            [
             0.5,
             "#f7f7f7"
            ],
            [
             0.6,
             "#e6f5d0"
            ],
            [
             0.7,
             "#b8e186"
            ],
            [
             0.8,
             "#7fbc41"
            ],
            [
             0.9,
             "#4d9221"
            ],
            [
             1,
             "#276419"
            ]
           ],
           "sequential": [
            [
             0,
             "#0d0887"
            ],
            [
             0.1111111111111111,
             "#46039f"
            ],
            [
             0.2222222222222222,
             "#7201a8"
            ],
            [
             0.3333333333333333,
             "#9c179e"
            ],
            [
             0.4444444444444444,
             "#bd3786"
            ],
            [
             0.5555555555555556,
             "#d8576b"
            ],
            [
             0.6666666666666666,
             "#ed7953"
            ],
            [
             0.7777777777777778,
             "#fb9f3a"
            ],
            [
             0.8888888888888888,
             "#fdca26"
            ],
            [
             1,
             "#f0f921"
            ]
           ],
           "sequentialminus": [
            [
             0,
             "#0d0887"
            ],
            [
             0.1111111111111111,
             "#46039f"
            ],
            [
             0.2222222222222222,
             "#7201a8"
            ],
            [
             0.3333333333333333,
             "#9c179e"
            ],
            [
             0.4444444444444444,
             "#bd3786"
            ],
            [
             0.5555555555555556,
             "#d8576b"
            ],
            [
             0.6666666666666666,
             "#ed7953"
            ],
            [
             0.7777777777777778,
             "#fb9f3a"
            ],
            [
             0.8888888888888888,
             "#fdca26"
            ],
            [
             1,
             "#f0f921"
            ]
           ]
          },
          "colorway": [
           "#636efa",
           "#EF553B",
           "#00cc96",
           "#ab63fa",
           "#FFA15A",
           "#19d3f3",
           "#FF6692",
           "#B6E880",
           "#FF97FF",
           "#FECB52"
          ],
          "font": {
           "color": "#2a3f5f"
          },
          "geo": {
           "bgcolor": "white",
           "lakecolor": "white",
           "landcolor": "#E5ECF6",
           "showlakes": true,
           "showland": true,
           "subunitcolor": "white"
          },
          "hoverlabel": {
           "align": "left"
          },
          "hovermode": "closest",
          "mapbox": {
           "style": "light"
          },
          "paper_bgcolor": "white",
          "plot_bgcolor": "#E5ECF6",
          "polar": {
           "angularaxis": {
            "gridcolor": "white",
            "linecolor": "white",
            "ticks": ""
           },
           "bgcolor": "#E5ECF6",
           "radialaxis": {
            "gridcolor": "white",
            "linecolor": "white",
            "ticks": ""
           }
          },
          "scene": {
           "xaxis": {
            "backgroundcolor": "#E5ECF6",
            "gridcolor": "white",
            "gridwidth": 2,
            "linecolor": "white",
            "showbackground": true,
            "ticks": "",
            "zerolinecolor": "white"
           },
           "yaxis": {
            "backgroundcolor": "#E5ECF6",
            "gridcolor": "white",
            "gridwidth": 2,
            "linecolor": "white",
            "showbackground": true,
            "ticks": "",
            "zerolinecolor": "white"
           },
           "zaxis": {
            "backgroundcolor": "#E5ECF6",
            "gridcolor": "white",
            "gridwidth": 2,
            "linecolor": "white",
            "showbackground": true,
            "ticks": "",
            "zerolinecolor": "white"
           }
          },
          "shapedefaults": {
           "line": {
            "color": "#2a3f5f"
           }
          },
          "ternary": {
           "aaxis": {
            "gridcolor": "white",
            "linecolor": "white",
            "ticks": ""
           },
           "baxis": {
            "gridcolor": "white",
            "linecolor": "white",
            "ticks": ""
           },
           "bgcolor": "#E5ECF6",
           "caxis": {
            "gridcolor": "white",
            "linecolor": "white",
            "ticks": ""
           }
          },
          "title": {
           "x": 0.05
          },
          "xaxis": {
           "automargin": true,
           "gridcolor": "white",
           "linecolor": "white",
           "ticks": "",
           "title": {
            "standoff": 15
           },
           "zerolinecolor": "white",
           "zerolinewidth": 2
          },
          "yaxis": {
           "automargin": true,
           "gridcolor": "white",
           "linecolor": "white",
           "ticks": "",
           "title": {
            "standoff": 15
           },
           "zerolinecolor": "white",
           "zerolinewidth": 2
          }
         }
        },
        "title": {
         "text": "STRUCTURE OF INTEREST RATES (Per cent per annum)"
        },
        "xaxis": {
         "anchor": "y",
         "domain": [
          0,
          1
         ],
         "title": {
          "text": "Financial Year"
         }
        },
        "yaxis": {
         "anchor": "x",
         "domain": [
          0,
          1
         ],
         "title": {
          "text": "value"
         }
        }
       }
      },
      "text/html": [
       "<div>                            <div id=\"64f3db5c-31cd-47c2-9c97-4cb584d4e51f\" class=\"plotly-graph-div\" style=\"height:525px; width:100%;\"></div>            <script type=\"text/javascript\">                require([\"plotly\"], function(Plotly) {                    window.PLOTLYENV=window.PLOTLYENV || {};                                    if (document.getElementById(\"64f3db5c-31cd-47c2-9c97-4cb584d4e51f\")) {                    Plotly.newPlot(                        \"64f3db5c-31cd-47c2-9c97-4cb584d4e51f\",                        [{\"hovertemplate\":\"variable=Savings<br>Financial Year=%{x}<br>value=%{y}<extra></extra>\",\"legendgroup\":\"Savings\",\"line\":{\"color\":\"#636efa\",\"dash\":\"solid\"},\"marker\":{\"symbol\":\"circle\"},\"mode\":\"lines\",\"name\":\"Savings\",\"orientation\":\"v\",\"showlegend\":true,\"x\":[\"2022-01-01T00:00:00\",\"2021-01-01T00:00:00\",\"2020-01-01T00:00:00\",\"2019-01-01T00:00:00\",\"2018-01-01T00:00:00\",\"2017-01-01T00:00:00\",\"2016-01-01T00:00:00\",\"2015-01-01T00:00:00\",\"2014-01-01T00:00:00\",\"2013-01-01T00:00:00\",\"2012-01-01T00:00:00\",\"2011-01-01T00:00:00\",\"2010-01-01T00:00:00\",\"2009-01-01T00:00:00\",\"2008-01-01T00:00:00\",\"2007-01-01T00:00:00\",\"2006-01-01T00:00:00\",\"2005-01-01T00:00:00\",\"2004-01-01T00:00:00\",\"2003-01-01T00:00:00\",\"2002-01-01T00:00:00\",\"2001-01-01T00:00:00\",\"2000-01-01T00:00:00\"],\"xaxis\":\"x\",\"y\":[2.7,2.7,2.7,3.0,3.5,3.5,4.0,4.0,4.0,4.0,4.0,4.0,3.5,3.5,3.5,3.5,3.5,3.5,3.5,3.5,3.5,4.0,4.0],\"yaxis\":\"y\",\"type\":\"scatter\"},{\"hovertemplate\":\"variable=Term Deposits 1-3 yrs<br>Financial Year=%{x}<br>value=%{y}<extra></extra>\",\"legendgroup\":\"Term Deposits 1-3 yrs\",\"line\":{\"color\":\"#EF553B\",\"dash\":\"solid\"},\"marker\":{\"symbol\":\"circle\"},\"mode\":\"lines\",\"name\":\"Term Deposits 1-3 yrs\",\"orientation\":\"v\",\"showlegend\":true,\"x\":[\"2022-01-01T00:00:00\",\"2021-01-01T00:00:00\",\"2020-01-01T00:00:00\",\"2019-01-01T00:00:00\",\"2018-01-01T00:00:00\",\"2017-01-01T00:00:00\",\"2016-01-01T00:00:00\",\"2015-01-01T00:00:00\",\"2014-01-01T00:00:00\",\"2013-01-01T00:00:00\",\"2012-01-01T00:00:00\",\"2011-01-01T00:00:00\",\"2010-01-01T00:00:00\",\"2009-01-01T00:00:00\",\"2008-01-01T00:00:00\",\"2007-01-01T00:00:00\",\"2006-01-01T00:00:00\",\"2005-01-01T00:00:00\",\"2004-01-01T00:00:00\",\"2003-01-01T00:00:00\",\"2002-01-01T00:00:00\",\"2001-01-01T00:00:00\",\"2000-01-01T00:00:00\"],\"xaxis\":\"x\",\"y\":[5.3,5.0,4.9,5.0,6.25,6.4,6.75,7.25,8.5,8.75,8.75,9.0,8.25,6.0,8.0,8.0,6.75,6.0,5.25,4.0,4.25,7.5,8.5],\"yaxis\":\"y\",\"type\":\"scatter\"},{\"hovertemplate\":\"variable=Term Deposits 3-5 yrs<br>Financial Year=%{x}<br>value=%{y}<extra></extra>\",\"legendgroup\":\"Term Deposits 3-5 yrs\",\"line\":{\"color\":\"#00cc96\",\"dash\":\"solid\"},\"marker\":{\"symbol\":\"circle\"},\"mode\":\"lines\",\"name\":\"Term Deposits 3-5 yrs\",\"orientation\":\"v\",\"showlegend\":true,\"x\":[\"2022-01-01T00:00:00\",\"2021-01-01T00:00:00\",\"2020-01-01T00:00:00\",\"2019-01-01T00:00:00\",\"2018-01-01T00:00:00\",\"2017-01-01T00:00:00\",\"2016-01-01T00:00:00\",\"2015-01-01T00:00:00\",\"2014-01-01T00:00:00\",\"2013-01-01T00:00:00\",\"2012-01-01T00:00:00\",\"2011-01-01T00:00:00\",\"2010-01-01T00:00:00\",\"2009-01-01T00:00:00\",\"2008-01-01T00:00:00\",\"2007-01-01T00:00:00\",\"2006-01-01T00:00:00\",\"2005-01-01T00:00:00\",\"2004-01-01T00:00:00\",\"2003-01-01T00:00:00\",\"2002-01-01T00:00:00\",\"2001-01-01T00:00:00\",\"2000-01-01T00:00:00\"],\"xaxis\":\"x\",\"y\":[5.35,5.05,5.25,5.7,6.25,6.25,6.5,7.0,8.5,8.75,8.75,9.0,8.25,6.5,8.0,8.0,7.75,6.25,5.75,5.25,5.5,8.0,9.5],\"yaxis\":\"y\",\"type\":\"scatter\"},{\"hovertemplate\":\"variable=Term Deposits Above 5 yrs<br>Financial Year=%{x}<br>value=%{y}<extra></extra>\",\"legendgroup\":\"Term Deposits Above 5 yrs\",\"line\":{\"color\":\"#ab63fa\",\"dash\":\"solid\"},\"marker\":{\"symbol\":\"circle\"},\"mode\":\"lines\",\"name\":\"Term Deposits Above 5 yrs\",\"orientation\":\"v\",\"showlegend\":true,\"x\":[\"2022-01-01T00:00:00\",\"2021-01-01T00:00:00\",\"2020-01-01T00:00:00\",\"2019-01-01T00:00:00\",\"2018-01-01T00:00:00\",\"2017-01-01T00:00:00\",\"2016-01-01T00:00:00\",\"2015-01-01T00:00:00\",\"2014-01-01T00:00:00\",\"2013-01-01T00:00:00\",\"2012-01-01T00:00:00\",\"2011-01-01T00:00:00\",\"2010-01-01T00:00:00\",\"2009-01-01T00:00:00\",\"2008-01-01T00:00:00\",\"2007-01-01T00:00:00\",\"2006-01-01T00:00:00\",\"2005-01-01T00:00:00\",\"2004-01-01T00:00:00\",\"2003-01-01T00:00:00\",\"2002-01-01T00:00:00\",\"2001-01-01T00:00:00\",\"2000-01-01T00:00:00\"],\"xaxis\":\"x\",\"y\":[5.35,5.05,5.25,5.7,6.25,6.25,6.5,7.0,8.25,8.5,8.5,8.5,8.5,7.0,7.75,8.5,7.75,6.5,6.25,5.25,5.5,8.0,8.5],\"yaxis\":\"y\",\"type\":\"scatter\"}],                        {\"template\":{\"data\":{\"histogram2dcontour\":[{\"type\":\"histogram2dcontour\",\"colorbar\":{\"outlinewidth\":0,\"ticks\":\"\"},\"colorscale\":[[0.0,\"#0d0887\"],[0.1111111111111111,\"#46039f\"],[0.2222222222222222,\"#7201a8\"],[0.3333333333333333,\"#9c179e\"],[0.4444444444444444,\"#bd3786\"],[0.5555555555555556,\"#d8576b\"],[0.6666666666666666,\"#ed7953\"],[0.7777777777777778,\"#fb9f3a\"],[0.8888888888888888,\"#fdca26\"],[1.0,\"#f0f921\"]]}],\"choropleth\":[{\"type\":\"choropleth\",\"colorbar\":{\"outlinewidth\":0,\"ticks\":\"\"}}],\"histogram2d\":[{\"type\":\"histogram2d\",\"colorbar\":{\"outlinewidth\":0,\"ticks\":\"\"},\"colorscale\":[[0.0,\"#0d0887\"],[0.1111111111111111,\"#46039f\"],[0.2222222222222222,\"#7201a8\"],[0.3333333333333333,\"#9c179e\"],[0.4444444444444444,\"#bd3786\"],[0.5555555555555556,\"#d8576b\"],[0.6666666666666666,\"#ed7953\"],[0.7777777777777778,\"#fb9f3a\"],[0.8888888888888888,\"#fdca26\"],[1.0,\"#f0f921\"]]}],\"heatmap\":[{\"type\":\"heatmap\",\"colorbar\":{\"outlinewidth\":0,\"ticks\":\"\"},\"colorscale\":[[0.0,\"#0d0887\"],[0.1111111111111111,\"#46039f\"],[0.2222222222222222,\"#7201a8\"],[0.3333333333333333,\"#9c179e\"],[0.4444444444444444,\"#bd3786\"],[0.5555555555555556,\"#d8576b\"],[0.6666666666666666,\"#ed7953\"],[0.7777777777777778,\"#fb9f3a\"],[0.8888888888888888,\"#fdca26\"],[1.0,\"#f0f921\"]]}],\"heatmapgl\":[{\"type\":\"heatmapgl\",\"colorbar\":{\"outlinewidth\":0,\"ticks\":\"\"},\"colorscale\":[[0.0,\"#0d0887\"],[0.1111111111111111,\"#46039f\"],[0.2222222222222222,\"#7201a8\"],[0.3333333333333333,\"#9c179e\"],[0.4444444444444444,\"#bd3786\"],[0.5555555555555556,\"#d8576b\"],[0.6666666666666666,\"#ed7953\"],[0.7777777777777778,\"#fb9f3a\"],[0.8888888888888888,\"#fdca26\"],[1.0,\"#f0f921\"]]}],\"contourcarpet\":[{\"type\":\"contourcarpet\",\"colorbar\":{\"outlinewidth\":0,\"ticks\":\"\"}}],\"contour\":[{\"type\":\"contour\",\"colorbar\":{\"outlinewidth\":0,\"ticks\":\"\"},\"colorscale\":[[0.0,\"#0d0887\"],[0.1111111111111111,\"#46039f\"],[0.2222222222222222,\"#7201a8\"],[0.3333333333333333,\"#9c179e\"],[0.4444444444444444,\"#bd3786\"],[0.5555555555555556,\"#d8576b\"],[0.6666666666666666,\"#ed7953\"],[0.7777777777777778,\"#fb9f3a\"],[0.8888888888888888,\"#fdca26\"],[1.0,\"#f0f921\"]]}],\"surface\":[{\"type\":\"surface\",\"colorbar\":{\"outlinewidth\":0,\"ticks\":\"\"},\"colorscale\":[[0.0,\"#0d0887\"],[0.1111111111111111,\"#46039f\"],[0.2222222222222222,\"#7201a8\"],[0.3333333333333333,\"#9c179e\"],[0.4444444444444444,\"#bd3786\"],[0.5555555555555556,\"#d8576b\"],[0.6666666666666666,\"#ed7953\"],[0.7777777777777778,\"#fb9f3a\"],[0.8888888888888888,\"#fdca26\"],[1.0,\"#f0f921\"]]}],\"mesh3d\":[{\"type\":\"mesh3d\",\"colorbar\":{\"outlinewidth\":0,\"ticks\":\"\"}}],\"scatter\":[{\"fillpattern\":{\"fillmode\":\"overlay\",\"size\":10,\"solidity\":0.2},\"type\":\"scatter\"}],\"parcoords\":[{\"type\":\"parcoords\",\"line\":{\"colorbar\":{\"outlinewidth\":0,\"ticks\":\"\"}}}],\"scatterpolargl\":[{\"type\":\"scatterpolargl\",\"marker\":{\"colorbar\":{\"outlinewidth\":0,\"ticks\":\"\"}}}],\"bar\":[{\"error_x\":{\"color\":\"#2a3f5f\"},\"error_y\":{\"color\":\"#2a3f5f\"},\"marker\":{\"line\":{\"color\":\"#E5ECF6\",\"width\":0.5},\"pattern\":{\"fillmode\":\"overlay\",\"size\":10,\"solidity\":0.2}},\"type\":\"bar\"}],\"scattergeo\":[{\"type\":\"scattergeo\",\"marker\":{\"colorbar\":{\"outlinewidth\":0,\"ticks\":\"\"}}}],\"scatterpolar\":[{\"type\":\"scatterpolar\",\"marker\":{\"colorbar\":{\"outlinewidth\":0,\"ticks\":\"\"}}}],\"histogram\":[{\"marker\":{\"pattern\":{\"fillmode\":\"overlay\",\"size\":10,\"solidity\":0.2}},\"type\":\"histogram\"}],\"scattergl\":[{\"type\":\"scattergl\",\"marker\":{\"colorbar\":{\"outlinewidth\":0,\"ticks\":\"\"}}}],\"scatter3d\":[{\"type\":\"scatter3d\",\"line\":{\"colorbar\":{\"outlinewidth\":0,\"ticks\":\"\"}},\"marker\":{\"colorbar\":{\"outlinewidth\":0,\"ticks\":\"\"}}}],\"scattermapbox\":[{\"type\":\"scattermapbox\",\"marker\":{\"colorbar\":{\"outlinewidth\":0,\"ticks\":\"\"}}}],\"scatterternary\":[{\"type\":\"scatterternary\",\"marker\":{\"colorbar\":{\"outlinewidth\":0,\"ticks\":\"\"}}}],\"scattercarpet\":[{\"type\":\"scattercarpet\",\"marker\":{\"colorbar\":{\"outlinewidth\":0,\"ticks\":\"\"}}}],\"carpet\":[{\"aaxis\":{\"endlinecolor\":\"#2a3f5f\",\"gridcolor\":\"white\",\"linecolor\":\"white\",\"minorgridcolor\":\"white\",\"startlinecolor\":\"#2a3f5f\"},\"baxis\":{\"endlinecolor\":\"#2a3f5f\",\"gridcolor\":\"white\",\"linecolor\":\"white\",\"minorgridcolor\":\"white\",\"startlinecolor\":\"#2a3f5f\"},\"type\":\"carpet\"}],\"table\":[{\"cells\":{\"fill\":{\"color\":\"#EBF0F8\"},\"line\":{\"color\":\"white\"}},\"header\":{\"fill\":{\"color\":\"#C8D4E3\"},\"line\":{\"color\":\"white\"}},\"type\":\"table\"}],\"barpolar\":[{\"marker\":{\"line\":{\"color\":\"#E5ECF6\",\"width\":0.5},\"pattern\":{\"fillmode\":\"overlay\",\"size\":10,\"solidity\":0.2}},\"type\":\"barpolar\"}],\"pie\":[{\"automargin\":true,\"type\":\"pie\"}]},\"layout\":{\"autotypenumbers\":\"strict\",\"colorway\":[\"#636efa\",\"#EF553B\",\"#00cc96\",\"#ab63fa\",\"#FFA15A\",\"#19d3f3\",\"#FF6692\",\"#B6E880\",\"#FF97FF\",\"#FECB52\"],\"font\":{\"color\":\"#2a3f5f\"},\"hovermode\":\"closest\",\"hoverlabel\":{\"align\":\"left\"},\"paper_bgcolor\":\"white\",\"plot_bgcolor\":\"#E5ECF6\",\"polar\":{\"bgcolor\":\"#E5ECF6\",\"angularaxis\":{\"gridcolor\":\"white\",\"linecolor\":\"white\",\"ticks\":\"\"},\"radialaxis\":{\"gridcolor\":\"white\",\"linecolor\":\"white\",\"ticks\":\"\"}},\"ternary\":{\"bgcolor\":\"#E5ECF6\",\"aaxis\":{\"gridcolor\":\"white\",\"linecolor\":\"white\",\"ticks\":\"\"},\"baxis\":{\"gridcolor\":\"white\",\"linecolor\":\"white\",\"ticks\":\"\"},\"caxis\":{\"gridcolor\":\"white\",\"linecolor\":\"white\",\"ticks\":\"\"}},\"coloraxis\":{\"colorbar\":{\"outlinewidth\":0,\"ticks\":\"\"}},\"colorscale\":{\"sequential\":[[0.0,\"#0d0887\"],[0.1111111111111111,\"#46039f\"],[0.2222222222222222,\"#7201a8\"],[0.3333333333333333,\"#9c179e\"],[0.4444444444444444,\"#bd3786\"],[0.5555555555555556,\"#d8576b\"],[0.6666666666666666,\"#ed7953\"],[0.7777777777777778,\"#fb9f3a\"],[0.8888888888888888,\"#fdca26\"],[1.0,\"#f0f921\"]],\"sequentialminus\":[[0.0,\"#0d0887\"],[0.1111111111111111,\"#46039f\"],[0.2222222222222222,\"#7201a8\"],[0.3333333333333333,\"#9c179e\"],[0.4444444444444444,\"#bd3786\"],[0.5555555555555556,\"#d8576b\"],[0.6666666666666666,\"#ed7953\"],[0.7777777777777778,\"#fb9f3a\"],[0.8888888888888888,\"#fdca26\"],[1.0,\"#f0f921\"]],\"diverging\":[[0,\"#8e0152\"],[0.1,\"#c51b7d\"],[0.2,\"#de77ae\"],[0.3,\"#f1b6da\"],[0.4,\"#fde0ef\"],[0.5,\"#f7f7f7\"],[0.6,\"#e6f5d0\"],[0.7,\"#b8e186\"],[0.8,\"#7fbc41\"],[0.9,\"#4d9221\"],[1,\"#276419\"]]},\"xaxis\":{\"gridcolor\":\"white\",\"linecolor\":\"white\",\"ticks\":\"\",\"title\":{\"standoff\":15},\"zerolinecolor\":\"white\",\"automargin\":true,\"zerolinewidth\":2},\"yaxis\":{\"gridcolor\":\"white\",\"linecolor\":\"white\",\"ticks\":\"\",\"title\":{\"standoff\":15},\"zerolinecolor\":\"white\",\"automargin\":true,\"zerolinewidth\":2},\"scene\":{\"xaxis\":{\"backgroundcolor\":\"#E5ECF6\",\"gridcolor\":\"white\",\"linecolor\":\"white\",\"showbackground\":true,\"ticks\":\"\",\"zerolinecolor\":\"white\",\"gridwidth\":2},\"yaxis\":{\"backgroundcolor\":\"#E5ECF6\",\"gridcolor\":\"white\",\"linecolor\":\"white\",\"showbackground\":true,\"ticks\":\"\",\"zerolinecolor\":\"white\",\"gridwidth\":2},\"zaxis\":{\"backgroundcolor\":\"#E5ECF6\",\"gridcolor\":\"white\",\"linecolor\":\"white\",\"showbackground\":true,\"ticks\":\"\",\"zerolinecolor\":\"white\",\"gridwidth\":2}},\"shapedefaults\":{\"line\":{\"color\":\"#2a3f5f\"}},\"annotationdefaults\":{\"arrowcolor\":\"#2a3f5f\",\"arrowhead\":0,\"arrowwidth\":1},\"geo\":{\"bgcolor\":\"white\",\"landcolor\":\"#E5ECF6\",\"subunitcolor\":\"white\",\"showland\":true,\"showlakes\":true,\"lakecolor\":\"white\"},\"title\":{\"x\":0.05},\"mapbox\":{\"style\":\"light\"}}},\"xaxis\":{\"anchor\":\"y\",\"domain\":[0.0,1.0],\"title\":{\"text\":\"Financial Year\"}},\"yaxis\":{\"anchor\":\"x\",\"domain\":[0.0,1.0],\"title\":{\"text\":\"value\"}},\"legend\":{\"title\":{\"text\":\"variable\"},\"tracegroupgap\":0},\"title\":{\"text\":\"STRUCTURE OF INTEREST RATES (Per cent per annum)\"}},                        {\"responsive\": true}                    ).then(function(){\n",
       "                            \n",
       "var gd = document.getElementById('64f3db5c-31cd-47c2-9c97-4cb584d4e51f');\n",
       "var x = new MutationObserver(function (mutations, observer) {{\n",
       "        var display = window.getComputedStyle(gd).display;\n",
       "        if (!display || display === 'none') {{\n",
       "            console.log([gd, 'removed!']);\n",
       "            Plotly.purge(gd);\n",
       "            observer.disconnect();\n",
       "        }}\n",
       "}});\n",
       "\n",
       "// Listen for the removal of the full notebook cells\n",
       "var notebookContainer = gd.closest('#notebook-container');\n",
       "if (notebookContainer) {{\n",
       "    x.observe(notebookContainer, {childList: true});\n",
       "}}\n",
       "\n",
       "// Listen for the clearing of the current output cell\n",
       "var outputEl = gd.closest('.output');\n",
       "if (outputEl) {{\n",
       "    x.observe(outputEl, {childList: true});\n",
       "}}\n",
       "\n",
       "                        })                };                });            </script>        </div>"
      ]
     },
     "metadata": {},
     "output_type": "display_data"
    }
   ],
   "source": [
    "fig = px.line(deposits, x='Financial Year', y=['Savings', 'Term Deposits 1-3 yrs',\n",
    "       'Term Deposits 3-5 yrs', 'Term Deposits Above 5 yrs'], title=title)\n",
    "fig.show()"
   ]
  },
  {
   "cell_type": "code",
   "execution_count": 46,
   "metadata": {},
   "outputs": [],
   "source": [
    "deposits.to_csv('deposits_final.csv', index=False)"
   ]
  },
  {
   "attachments": {},
   "cell_type": "markdown",
   "metadata": {},
   "source": [
    "# notes and coins"
   ]
  },
  {
   "cell_type": "code",
   "execution_count": null,
   "metadata": {},
   "outputs": [],
   "source": [
    "title = \"NOTES AND COINS IN CIRCULATION  (Rupees Crore)\"\n",
    "notes_coins = pd.read_csv(\"notes and coins.csv\")\n",
    "notes_coins"
   ]
  },
  {
   "cell_type": "code",
   "execution_count": null,
   "metadata": {},
   "outputs": [],
   "source": [
    "def convert_to_float(val):\n",
    "    try:\n",
    "        return float(val)\n",
    "    except:\n",
    "        return np.nan\n",
    "\n",
    "# Apply the function to all columns except the first column\n",
    "notes_coins.iloc[:, 1:] = notes_coins.iloc[:, 1:].applymap(convert_to_float)\n",
    "notes_coins['Year'] = pd.to_datetime(notes_coins['Year'].str[:4], format='%Y')\n",
    "notes_coins"
   ]
  },
  {
   "cell_type": "code",
   "execution_count": 49,
   "metadata": {},
   "outputs": [
    {
     "data": {
      "text/plain": [
       "Index(['Year', 'Small Coins', 'Re. 1 Notes', 'Re. 1 Coins', 'Rs. 2 Coins',\n",
       "       'Rs. 5 Coins', 'Rs. 10 Coins', 'Re. 20 Coins', 'Rs. 2 Notes',\n",
       "       'Rs. 5 Notes', 'Rs. 10 Notes', 'Rs. 20 Notes', 'Rs. 50 Notes',\n",
       "       'Rs. 100 Notes', 'Rs. 200 Notes', 'Rs. 500 Notes', 'Rs. 1000 Notes',\n",
       "       'Rs. 2000 Notes'],\n",
       "      dtype='object')"
      ]
     },
     "execution_count": 49,
     "metadata": {},
     "output_type": "execute_result"
    }
   ],
   "source": [
    "notes_coins.columns"
   ]
  },
  {
   "cell_type": "code",
   "execution_count": 54,
   "metadata": {},
   "outputs": [
    {
     "data": {
      "application/vnd.plotly.v1+json": {
       "config": {
        "plotlyServerURL": "https://plot.ly"
       },
       "data": [
        {
         "hovertemplate": "variable=Re. 1 Notes<br>Year=%{x}<br>value=%{y}<extra></extra>",
         "legendgroup": "Re. 1 Notes",
         "line": {
          "color": "#636efa",
          "dash": "solid"
         },
         "marker": {
          "symbol": "circle"
         },
         "mode": "lines",
         "name": "Re. 1 Notes",
         "orientation": "v",
         "showlegend": true,
         "type": "scatter",
         "x": [
          "2021-01-01T00:00:00",
          "2020-01-01T00:00:00",
          "2019-01-01T00:00:00",
          "2018-01-01T00:00:00",
          "2017-01-01T00:00:00",
          "2016-01-01T00:00:00",
          "2015-01-01T00:00:00",
          "2014-01-01T00:00:00",
          "2013-01-01T00:00:00",
          "2012-01-01T00:00:00",
          "2011-01-01T00:00:00",
          "2010-01-01T00:00:00",
          "2009-01-01T00:00:00",
          "2008-01-01T00:00:00",
          "2007-01-01T00:00:00",
          "2006-01-01T00:00:00",
          "2005-01-01T00:00:00",
          "2004-01-01T00:00:00",
          "2003-01-01T00:00:00",
          "2002-01-01T00:00:00",
          "2001-01-01T00:00:00",
          "2000-01-01T00:00:00",
          "1999-01-01T00:00:00",
          "1998-01-01T00:00:00",
          "1997-01-01T00:00:00",
          "1996-01-01T00:00:00",
          "1995-01-01T00:00:00",
          "1994-01-01T00:00:00",
          "1993-01-01T00:00:00",
          "1992-01-01T00:00:00",
          "1991-01-01T00:00:00",
          "1990-01-01T00:00:00",
          "1989-01-01T00:00:00",
          "1988-01-01T00:00:00",
          "1987-01-01T00:00:00",
          "1986-01-01T00:00:00",
          "1985-01-01T00:00:00",
          "1984-01-01T00:00:00",
          "1983-01-01T00:00:00",
          "1982-01-01T00:00:00",
          "1981-01-01T00:00:00",
          "1980-01-01T00:00:00",
          "1979-01-01T00:00:00",
          "1978-01-01T00:00:00",
          "1977-01-01T00:00:00",
          "1976-01-01T00:00:00",
          "1975-01-01T00:00:00",
          "1974-01-01T00:00:00",
          "1973-01-01T00:00:00",
          "1972-01-01T00:00:00",
          "1971-01-01T00:00:00",
          "1970-01-01T00:00:00"
         ],
         "xaxis": "x",
         "y": [
          382,
          377,
          370,
          359,
          343,
          321,
          309,
          299,
          299,
          299,
          299,
          299,
          299,
          300,
          300,
          301,
          299,
          299,
          299,
          305,
          308,
          307,
          308,
          316,
          319,
          316,
          322,
          320,
          328,
          null,
          null,
          335,
          348,
          360,
          352,
          301,
          238,
          204,
          198,
          205,
          212,
          207,
          214,
          256,
          272,
          274,
          293,
          290,
          283,
          260,
          234,
          219
         ],
         "yaxis": "y"
        },
        {
         "hovertemplate": "variable=Rs. 2 Notes<br>Year=%{x}<br>value=%{y}<extra></extra>",
         "legendgroup": "Rs. 2 Notes",
         "line": {
          "color": "#EF553B",
          "dash": "solid"
         },
         "marker": {
          "symbol": "circle"
         },
         "mode": "lines",
         "name": "Rs. 2 Notes",
         "orientation": "v",
         "showlegend": true,
         "type": "scatter",
         "x": [
          "2021-01-01T00:00:00",
          "2020-01-01T00:00:00",
          "2019-01-01T00:00:00",
          "2018-01-01T00:00:00",
          "2017-01-01T00:00:00",
          "2016-01-01T00:00:00",
          "2015-01-01T00:00:00",
          "2014-01-01T00:00:00",
          "2013-01-01T00:00:00",
          "2012-01-01T00:00:00",
          "2011-01-01T00:00:00",
          "2010-01-01T00:00:00",
          "2009-01-01T00:00:00",
          "2008-01-01T00:00:00",
          "2007-01-01T00:00:00",
          "2006-01-01T00:00:00",
          "2005-01-01T00:00:00",
          "2004-01-01T00:00:00",
          "2003-01-01T00:00:00",
          "2002-01-01T00:00:00",
          "2001-01-01T00:00:00",
          "2000-01-01T00:00:00",
          "1999-01-01T00:00:00",
          "1998-01-01T00:00:00",
          "1997-01-01T00:00:00",
          "1996-01-01T00:00:00",
          "1995-01-01T00:00:00",
          "1994-01-01T00:00:00",
          "1993-01-01T00:00:00",
          "1992-01-01T00:00:00",
          "1991-01-01T00:00:00",
          "1990-01-01T00:00:00",
          "1989-01-01T00:00:00",
          "1988-01-01T00:00:00",
          "1987-01-01T00:00:00",
          "1986-01-01T00:00:00",
          "1985-01-01T00:00:00",
          "1984-01-01T00:00:00",
          "1983-01-01T00:00:00",
          "1982-01-01T00:00:00",
          "1981-01-01T00:00:00",
          "1980-01-01T00:00:00",
          "1979-01-01T00:00:00",
          "1978-01-01T00:00:00",
          "1977-01-01T00:00:00",
          "1976-01-01T00:00:00",
          "1975-01-01T00:00:00",
          "1974-01-01T00:00:00",
          "1973-01-01T00:00:00",
          "1972-01-01T00:00:00",
          "1971-01-01T00:00:00",
          "1970-01-01T00:00:00"
         ],
         "xaxis": "x",
         "y": [
          853,
          853,
          853,
          853,
          853,
          853,
          853,
          854,
          851,
          851,
          851,
          851,
          698,
          665,
          636,
          447,
          451,
          462,
          472,
          483,
          538,
          471,
          512,
          530,
          550,
          527,
          515,
          602,
          624,
          720,
          942,
          883,
          804,
          681,
          653,
          683,
          650,
          580,
          450,
          431,
          392,
          299,
          215,
          174,
          148,
          127,
          116,
          56,
          83,
          70,
          66,
          69
         ],
         "yaxis": "y"
        },
        {
         "hovertemplate": "variable=Rs. 5 Notes<br>Year=%{x}<br>value=%{y}<extra></extra>",
         "legendgroup": "Rs. 5 Notes",
         "line": {
          "color": "#00cc96",
          "dash": "solid"
         },
         "marker": {
          "symbol": "circle"
         },
         "mode": "lines",
         "name": "Rs. 5 Notes",
         "orientation": "v",
         "showlegend": true,
         "type": "scatter",
         "x": [
          "2021-01-01T00:00:00",
          "2020-01-01T00:00:00",
          "2019-01-01T00:00:00",
          "2018-01-01T00:00:00",
          "2017-01-01T00:00:00",
          "2016-01-01T00:00:00",
          "2015-01-01T00:00:00",
          "2014-01-01T00:00:00",
          "2013-01-01T00:00:00",
          "2012-01-01T00:00:00",
          "2011-01-01T00:00:00",
          "2010-01-01T00:00:00",
          "2009-01-01T00:00:00",
          "2008-01-01T00:00:00",
          "2007-01-01T00:00:00",
          "2006-01-01T00:00:00",
          "2005-01-01T00:00:00",
          "2004-01-01T00:00:00",
          "2003-01-01T00:00:00",
          "2002-01-01T00:00:00",
          "2001-01-01T00:00:00",
          "2000-01-01T00:00:00",
          "1999-01-01T00:00:00",
          "1998-01-01T00:00:00",
          "1997-01-01T00:00:00",
          "1996-01-01T00:00:00",
          "1995-01-01T00:00:00",
          "1994-01-01T00:00:00",
          "1993-01-01T00:00:00",
          "1992-01-01T00:00:00",
          "1991-01-01T00:00:00",
          "1990-01-01T00:00:00",
          "1989-01-01T00:00:00",
          "1988-01-01T00:00:00",
          "1987-01-01T00:00:00",
          "1986-01-01T00:00:00",
          "1985-01-01T00:00:00",
          "1984-01-01T00:00:00",
          "1983-01-01T00:00:00",
          "1982-01-01T00:00:00",
          "1981-01-01T00:00:00",
          "1980-01-01T00:00:00",
          "1979-01-01T00:00:00",
          "1978-01-01T00:00:00",
          "1977-01-01T00:00:00",
          "1976-01-01T00:00:00",
          "1975-01-01T00:00:00",
          "1974-01-01T00:00:00",
          "1973-01-01T00:00:00",
          "1972-01-01T00:00:00",
          "1971-01-01T00:00:00",
          "1970-01-01T00:00:00"
         ],
         "xaxis": "x",
         "y": [
          3431,
          3454,
          3478,
          3519,
          3580,
          3645,
          3680,
          3702,
          3714,
          3687,
          3643,
          3430,
          2233,
          2271,
          2111,
          1887,
          1980,
          2086,
          2276,
          1739,
          1264,
          1016,
          1152,
          1290,
          1427,
          1554,
          1651,
          1765,
          1860,
          2022,
          2400,
          1810,
          1739,
          1482,
          1429,
          1287,
          1303,
          1234,
          560,
          807,
          692,
          634,
          588,
          576,
          572,
          540,
          532,
          433,
          412,
          371,
          325,
          310
         ],
         "yaxis": "y"
        },
        {
         "hovertemplate": "variable=Rs. 10 Notes<br>Year=%{x}<br>value=%{y}<extra></extra>",
         "legendgroup": "Rs. 10 Notes",
         "line": {
          "color": "#ab63fa",
          "dash": "solid"
         },
         "marker": {
          "symbol": "circle"
         },
         "mode": "lines",
         "name": "Rs. 10 Notes",
         "orientation": "v",
         "showlegend": true,
         "type": "scatter",
         "x": [
          "2021-01-01T00:00:00",
          "2020-01-01T00:00:00",
          "2019-01-01T00:00:00",
          "2018-01-01T00:00:00",
          "2017-01-01T00:00:00",
          "2016-01-01T00:00:00",
          "2015-01-01T00:00:00",
          "2014-01-01T00:00:00",
          "2013-01-01T00:00:00",
          "2012-01-01T00:00:00",
          "2011-01-01T00:00:00",
          "2010-01-01T00:00:00",
          "2009-01-01T00:00:00",
          "2008-01-01T00:00:00",
          "2007-01-01T00:00:00",
          "2006-01-01T00:00:00",
          "2005-01-01T00:00:00",
          "2004-01-01T00:00:00",
          "2003-01-01T00:00:00",
          "2002-01-01T00:00:00",
          "2001-01-01T00:00:00",
          "2000-01-01T00:00:00",
          "1999-01-01T00:00:00",
          "1998-01-01T00:00:00",
          "1997-01-01T00:00:00",
          "1996-01-01T00:00:00",
          "1995-01-01T00:00:00",
          "1994-01-01T00:00:00",
          "1993-01-01T00:00:00",
          "1992-01-01T00:00:00",
          "1991-01-01T00:00:00",
          "1990-01-01T00:00:00",
          "1989-01-01T00:00:00",
          "1988-01-01T00:00:00",
          "1987-01-01T00:00:00",
          "1986-01-01T00:00:00",
          "1985-01-01T00:00:00",
          "1984-01-01T00:00:00",
          "1983-01-01T00:00:00",
          "1982-01-01T00:00:00",
          "1981-01-01T00:00:00",
          "1980-01-01T00:00:00",
          "1979-01-01T00:00:00",
          "1978-01-01T00:00:00",
          "1977-01-01T00:00:00",
          "1976-01-01T00:00:00",
          "1975-01-01T00:00:00",
          "1974-01-01T00:00:00",
          "1973-01-01T00:00:00",
          "1972-01-01T00:00:00",
          "1971-01-01T00:00:00",
          "1970-01-01T00:00:00"
         ],
         "xaxis": "x",
         "y": [
          27805,
          29368,
          30402,
          31260,
          30645,
          36929,
          32015,
          30304,
          26648,
          25168,
          23002,
          21288,
          18536,
          12222,
          9333,
          7155,
          6274,
          6770,
          7750,
          9088,
          11989,
          12336,
          13282,
          12990,
          12412,
          11063,
          9218,
          6943,
          5334,
          4285,
          5202,
          3785,
          3515,
          2996,
          2825,
          2510,
          2536,
          2217,
          1770,
          1798,
          1991,
          2097,
          2123,
          1957,
          1825,
          1967,
          1880,
          1962,
          1980,
          1757,
          1713,
          1563
         ],
         "yaxis": "y"
        },
        {
         "hovertemplate": "variable=Rs. 20 Notes<br>Year=%{x}<br>value=%{y}<extra></extra>",
         "legendgroup": "Rs. 20 Notes",
         "line": {
          "color": "#FFA15A",
          "dash": "solid"
         },
         "marker": {
          "symbol": "circle"
         },
         "mode": "lines",
         "name": "Rs. 20 Notes",
         "orientation": "v",
         "showlegend": true,
         "type": "scatter",
         "x": [
          "2021-01-01T00:00:00",
          "2020-01-01T00:00:00",
          "2019-01-01T00:00:00",
          "2018-01-01T00:00:00",
          "2017-01-01T00:00:00",
          "2016-01-01T00:00:00",
          "2015-01-01T00:00:00",
          "2014-01-01T00:00:00",
          "2013-01-01T00:00:00",
          "2012-01-01T00:00:00",
          "2011-01-01T00:00:00",
          "2010-01-01T00:00:00",
          "2009-01-01T00:00:00",
          "2008-01-01T00:00:00",
          "2007-01-01T00:00:00",
          "2006-01-01T00:00:00",
          "2005-01-01T00:00:00",
          "2004-01-01T00:00:00",
          "2003-01-01T00:00:00",
          "2002-01-01T00:00:00",
          "2001-01-01T00:00:00",
          "2000-01-01T00:00:00",
          "1999-01-01T00:00:00",
          "1998-01-01T00:00:00",
          "1997-01-01T00:00:00",
          "1996-01-01T00:00:00",
          "1995-01-01T00:00:00",
          "1994-01-01T00:00:00",
          "1993-01-01T00:00:00",
          "1992-01-01T00:00:00",
          "1991-01-01T00:00:00",
          "1990-01-01T00:00:00",
          "1989-01-01T00:00:00",
          "1988-01-01T00:00:00",
          "1987-01-01T00:00:00",
          "1986-01-01T00:00:00",
          "1985-01-01T00:00:00",
          "1984-01-01T00:00:00",
          "1983-01-01T00:00:00",
          "1982-01-01T00:00:00",
          "1981-01-01T00:00:00",
          "1980-01-01T00:00:00",
          "1979-01-01T00:00:00",
          "1978-01-01T00:00:00",
          "1977-01-01T00:00:00",
          "1976-01-01T00:00:00",
          "1975-01-01T00:00:00",
          "1974-01-01T00:00:00",
          "1973-01-01T00:00:00",
          "1972-01-01T00:00:00",
          "1971-01-01T00:00:00",
          "1970-01-01T00:00:00"
         ],
         "xaxis": "x",
         "y": [
          22026,
          18116,
          16599,
          17425,
          20032,
          20315,
          9847,
          8699,
          8569,
          7650,
          7020,
          6040,
          4681,
          4399,
          4108,
          4178,
          4077,
          3876,
          4383,
          3425,
          1531,
          1012,
          1010,
          899,
          979,
          703,
          718,
          1120,
          1631,
          2340,
          2743,
          2952,
          3100,
          2613,
          2331,
          1899,
          1784,
          1636,
          1463,
          1433,
          1214,
          1090,
          961,
          779,
          690,
          555,
          425,
          415,
          382,
          152,
          null,
          null
         ],
         "yaxis": "y"
        },
        {
         "hovertemplate": "variable=Rs. 50 Notes<br>Year=%{x}<br>value=%{y}<extra></extra>",
         "legendgroup": "Rs. 50 Notes",
         "line": {
          "color": "#19d3f3",
          "dash": "solid"
         },
         "marker": {
          "symbol": "circle"
         },
         "mode": "lines",
         "name": "Rs. 50 Notes",
         "orientation": "v",
         "showlegend": true,
         "type": "scatter",
         "x": [
          "2021-01-01T00:00:00",
          "2020-01-01T00:00:00",
          "2019-01-01T00:00:00",
          "2018-01-01T00:00:00",
          "2017-01-01T00:00:00",
          "2016-01-01T00:00:00",
          "2015-01-01T00:00:00",
          "2014-01-01T00:00:00",
          "2013-01-01T00:00:00",
          "2012-01-01T00:00:00",
          "2011-01-01T00:00:00",
          "2010-01-01T00:00:00",
          "2009-01-01T00:00:00",
          "2008-01-01T00:00:00",
          "2007-01-01T00:00:00",
          "2006-01-01T00:00:00",
          "2005-01-01T00:00:00",
          "2004-01-01T00:00:00",
          "2003-01-01T00:00:00",
          "2002-01-01T00:00:00",
          "2001-01-01T00:00:00",
          "2000-01-01T00:00:00",
          "1999-01-01T00:00:00",
          "1998-01-01T00:00:00",
          "1997-01-01T00:00:00",
          "1996-01-01T00:00:00",
          "1995-01-01T00:00:00",
          "1994-01-01T00:00:00",
          "1993-01-01T00:00:00",
          "1992-01-01T00:00:00",
          "1991-01-01T00:00:00",
          "1990-01-01T00:00:00",
          "1989-01-01T00:00:00",
          "1988-01-01T00:00:00",
          "1987-01-01T00:00:00",
          "1986-01-01T00:00:00",
          "1985-01-01T00:00:00",
          "1984-01-01T00:00:00",
          "1983-01-01T00:00:00",
          "1982-01-01T00:00:00",
          "1981-01-01T00:00:00",
          "1980-01-01T00:00:00",
          "1979-01-01T00:00:00",
          "1978-01-01T00:00:00",
          "1977-01-01T00:00:00",
          "1976-01-01T00:00:00",
          "1975-01-01T00:00:00",
          "1974-01-01T00:00:00",
          "1973-01-01T00:00:00",
          "1972-01-01T00:00:00",
          "1971-01-01T00:00:00",
          "1970-01-01T00:00:00"
         ],
         "xaxis": "x",
         "y": [
          43571,
          43762,
          43004,
          43007,
          36715,
          35564,
          19450,
          17436,
          17242,
          17305,
          17438,
          15980,
          21057,
          24440,
          26508,
          27951,
          27842,
          29941,
          33027,
          35191,
          35601,
          32818,
          33230,
          33316,
          34245,
          33623,
          31659,
          28537,
          24991,
          22577,
          17719,
          14812,
          12553,
          9459,
          7267,
          5247,
          4310,
          3920,
          3626,
          3017,
          2724,
          2206,
          1983,
          1440,
          995,
          734,
          86,
          null,
          null,
          null,
          null,
          null
         ],
         "yaxis": "y"
        },
        {
         "hovertemplate": "variable=Rs. 100 Notes<br>Year=%{x}<br>value=%{y}<extra></extra>",
         "legendgroup": "Rs. 100 Notes",
         "line": {
          "color": "#FF6692",
          "dash": "solid"
         },
         "marker": {
          "symbol": "circle"
         },
         "mode": "lines",
         "name": "Rs. 100 Notes",
         "orientation": "v",
         "showlegend": true,
         "type": "scatter",
         "x": [
          "2021-01-01T00:00:00",
          "2020-01-01T00:00:00",
          "2019-01-01T00:00:00",
          "2018-01-01T00:00:00",
          "2017-01-01T00:00:00",
          "2016-01-01T00:00:00",
          "2015-01-01T00:00:00",
          "2014-01-01T00:00:00",
          "2013-01-01T00:00:00",
          "2012-01-01T00:00:00",
          "2011-01-01T00:00:00",
          "2010-01-01T00:00:00",
          "2009-01-01T00:00:00",
          "2008-01-01T00:00:00",
          "2007-01-01T00:00:00",
          "2006-01-01T00:00:00",
          "2005-01-01T00:00:00",
          "2004-01-01T00:00:00",
          "2003-01-01T00:00:00",
          "2002-01-01T00:00:00",
          "2001-01-01T00:00:00",
          "2000-01-01T00:00:00",
          "1999-01-01T00:00:00",
          "1998-01-01T00:00:00",
          "1997-01-01T00:00:00",
          "1996-01-01T00:00:00",
          "1995-01-01T00:00:00",
          "1994-01-01T00:00:00",
          "1993-01-01T00:00:00",
          "1992-01-01T00:00:00",
          "1991-01-01T00:00:00",
          "1990-01-01T00:00:00",
          "1989-01-01T00:00:00",
          "1988-01-01T00:00:00",
          "1987-01-01T00:00:00",
          "1986-01-01T00:00:00",
          "1985-01-01T00:00:00",
          "1984-01-01T00:00:00",
          "1983-01-01T00:00:00",
          "1982-01-01T00:00:00",
          "1981-01-01T00:00:00",
          "1980-01-01T00:00:00",
          "1979-01-01T00:00:00",
          "1978-01-01T00:00:00",
          "1977-01-01T00:00:00",
          "1976-01-01T00:00:00",
          "1975-01-01T00:00:00",
          "1974-01-01T00:00:00",
          "1973-01-01T00:00:00",
          "1972-01-01T00:00:00",
          "1971-01-01T00:00:00",
          "1970-01-01T00:00:00"
         ],
         "xaxis": "x",
         "y": [
          181421,
          190555,
          199021,
          200738,
          222149,
          252801,
          157783,
          150265,
          147646,
          144210,
          141188,
          140243,
          138364,
          137028,
          134575,
          135444,
          134637,
          123282,
          121442,
          115386,
          118041,
          108141,
          85831,
          78197,
          70159,
          62600,
          55105,
          46457,
          37784,
          32663,
          32266,
          24570,
          23778,
          21208,
          19077,
          17116,
          15018,
          13904,
          11690,
          9777,
          7829,
          7406,
          5951,
          5369,
          4302,
          3726,
          3422,
          3285,
          3216,
          2848,
          2482,
          2210
         ],
         "yaxis": "y"
        },
        {
         "hovertemplate": "variable=Rs. 200 Notes<br>Year=%{x}<br>value=%{y}<extra></extra>",
         "legendgroup": "Rs. 200 Notes",
         "line": {
          "color": "#B6E880",
          "dash": "solid"
         },
         "marker": {
          "symbol": "circle"
         },
         "mode": "lines",
         "name": "Rs. 200 Notes",
         "orientation": "v",
         "showlegend": true,
         "type": "scatter",
         "x": [
          "2021-01-01T00:00:00",
          "2020-01-01T00:00:00",
          "2019-01-01T00:00:00",
          "2018-01-01T00:00:00",
          "2017-01-01T00:00:00",
          "2016-01-01T00:00:00",
          "2015-01-01T00:00:00",
          "2014-01-01T00:00:00",
          "2013-01-01T00:00:00",
          "2012-01-01T00:00:00",
          "2011-01-01T00:00:00",
          "2010-01-01T00:00:00",
          "2009-01-01T00:00:00",
          "2008-01-01T00:00:00",
          "2007-01-01T00:00:00",
          "2006-01-01T00:00:00",
          "2005-01-01T00:00:00",
          "2004-01-01T00:00:00",
          "2003-01-01T00:00:00",
          "2002-01-01T00:00:00",
          "2001-01-01T00:00:00",
          "2000-01-01T00:00:00",
          "1999-01-01T00:00:00",
          "1998-01-01T00:00:00",
          "1997-01-01T00:00:00",
          "1996-01-01T00:00:00",
          "1995-01-01T00:00:00",
          "1994-01-01T00:00:00",
          "1993-01-01T00:00:00",
          "1992-01-01T00:00:00",
          "1991-01-01T00:00:00",
          "1990-01-01T00:00:00",
          "1989-01-01T00:00:00",
          "1988-01-01T00:00:00",
          "1987-01-01T00:00:00",
          "1986-01-01T00:00:00",
          "1985-01-01T00:00:00",
          "1984-01-01T00:00:00",
          "1983-01-01T00:00:00",
          "1982-01-01T00:00:00",
          "1981-01-01T00:00:00",
          "1980-01-01T00:00:00",
          "1979-01-01T00:00:00",
          "1978-01-01T00:00:00",
          "1977-01-01T00:00:00",
          "1976-01-01T00:00:00",
          "1975-01-01T00:00:00",
          "1974-01-01T00:00:00",
          "1973-01-01T00:00:00",
          "1972-01-01T00:00:00",
          "1971-01-01T00:00:00",
          "1970-01-01T00:00:00"
         ],
         "xaxis": "x",
         "y": [
          120881,
          116608,
          107293,
          80010,
          37053,
          null,
          null,
          null,
          null,
          null,
          null,
          null,
          null,
          null,
          null,
          null,
          null,
          null,
          null,
          null,
          null,
          null,
          null,
          null,
          null,
          null,
          null,
          null,
          null,
          null,
          null,
          null,
          null,
          null,
          null,
          null,
          null,
          null,
          null,
          null,
          null,
          null,
          null,
          null,
          null,
          null,
          null,
          null,
          null,
          null,
          null,
          null
         ],
         "yaxis": "y"
        },
        {
         "hovertemplate": "variable=Rs. 500 Notes<br>Year=%{x}<br>value=%{y}<extra></extra>",
         "legendgroup": "Rs. 500 Notes",
         "line": {
          "color": "#FF97FF",
          "dash": "solid"
         },
         "marker": {
          "symbol": "circle"
         },
         "mode": "lines",
         "name": "Rs. 500 Notes",
         "orientation": "v",
         "showlegend": true,
         "type": "scatter",
         "x": [
          "2021-01-01T00:00:00",
          "2020-01-01T00:00:00",
          "2019-01-01T00:00:00",
          "2018-01-01T00:00:00",
          "2017-01-01T00:00:00",
          "2016-01-01T00:00:00",
          "2015-01-01T00:00:00",
          "2014-01-01T00:00:00",
          "2013-01-01T00:00:00",
          "2012-01-01T00:00:00",
          "2011-01-01T00:00:00",
          "2010-01-01T00:00:00",
          "2009-01-01T00:00:00",
          "2008-01-01T00:00:00",
          "2007-01-01T00:00:00",
          "2006-01-01T00:00:00",
          "2005-01-01T00:00:00",
          "2004-01-01T00:00:00",
          "2003-01-01T00:00:00",
          "2002-01-01T00:00:00",
          "2001-01-01T00:00:00",
          "2000-01-01T00:00:00",
          "1999-01-01T00:00:00",
          "1998-01-01T00:00:00",
          "1997-01-01T00:00:00",
          "1996-01-01T00:00:00",
          "1995-01-01T00:00:00",
          "1994-01-01T00:00:00",
          "1993-01-01T00:00:00",
          "1992-01-01T00:00:00",
          "1991-01-01T00:00:00",
          "1990-01-01T00:00:00",
          "1989-01-01T00:00:00",
          "1988-01-01T00:00:00",
          "1987-01-01T00:00:00",
          "1986-01-01T00:00:00",
          "1985-01-01T00:00:00",
          "1984-01-01T00:00:00",
          "1983-01-01T00:00:00",
          "1982-01-01T00:00:00",
          "1981-01-01T00:00:00",
          "1980-01-01T00:00:00",
          "1979-01-01T00:00:00",
          "1978-01-01T00:00:00",
          "1977-01-01T00:00:00",
          "1976-01-01T00:00:00",
          "1975-01-01T00:00:00",
          "1974-01-01T00:00:00",
          "1973-01-01T00:00:00",
          "1972-01-01T00:00:00",
          "1971-01-01T00:00:00",
          "1970-01-01T00:00:00"
         ],
         "xaxis": "x",
         "y": [
          2277340,
          1933951,
          1472373,
          1075881,
          773429,
          294098,
          785375,
          656391,
          570248,
          535950,
          512807,
          445311,
          364479,
          308304,
          263108,
          225400,
          182332,
          152728,
          122938,
          93813,
          68512,
          52947,
          57250,
          44827,
          27975,
          24270,
          20873,
          16882,
          11303,
          4910,
          1854,
          2177,
          1257,
          230,
          180,
          null,
          null,
          null,
          null,
          null,
          null,
          null,
          null,
          null,
          null,
          null,
          null,
          null,
          null,
          null,
          null,
          null
         ],
         "yaxis": "y"
        },
        {
         "hovertemplate": "variable=Rs. 1000 Notes<br>Year=%{x}<br>value=%{y}<extra></extra>",
         "legendgroup": "Rs. 1000 Notes",
         "line": {
          "color": "#FECB52",
          "dash": "solid"
         },
         "marker": {
          "symbol": "circle"
         },
         "mode": "lines",
         "name": "Rs. 1000 Notes",
         "orientation": "v",
         "showlegend": true,
         "type": "scatter",
         "x": [
          "2021-01-01T00:00:00",
          "2020-01-01T00:00:00",
          "2019-01-01T00:00:00",
          "2018-01-01T00:00:00",
          "2017-01-01T00:00:00",
          "2016-01-01T00:00:00",
          "2015-01-01T00:00:00",
          "2014-01-01T00:00:00",
          "2013-01-01T00:00:00",
          "2012-01-01T00:00:00",
          "2011-01-01T00:00:00",
          "2010-01-01T00:00:00",
          "2009-01-01T00:00:00",
          "2008-01-01T00:00:00",
          "2007-01-01T00:00:00",
          "2006-01-01T00:00:00",
          "2005-01-01T00:00:00",
          "2004-01-01T00:00:00",
          "2003-01-01T00:00:00",
          "2002-01-01T00:00:00",
          "2001-01-01T00:00:00",
          "2000-01-01T00:00:00",
          "1999-01-01T00:00:00",
          "1998-01-01T00:00:00",
          "1997-01-01T00:00:00",
          "1996-01-01T00:00:00",
          "1995-01-01T00:00:00",
          "1994-01-01T00:00:00",
          "1993-01-01T00:00:00",
          "1992-01-01T00:00:00",
          "1991-01-01T00:00:00",
          "1990-01-01T00:00:00",
          "1989-01-01T00:00:00",
          "1988-01-01T00:00:00",
          "1987-01-01T00:00:00",
          "1986-01-01T00:00:00",
          "1985-01-01T00:00:00",
          "1984-01-01T00:00:00",
          "1983-01-01T00:00:00",
          "1982-01-01T00:00:00",
          "1981-01-01T00:00:00",
          "1980-01-01T00:00:00",
          "1979-01-01T00:00:00",
          "1978-01-01T00:00:00",
          "1977-01-01T00:00:00",
          "1976-01-01T00:00:00",
          "1975-01-01T00:00:00",
          "1974-01-01T00:00:00",
          "1973-01-01T00:00:00",
          "1972-01-01T00:00:00",
          "1971-01-01T00:00:00",
          "1970-01-01T00:00:00"
         ],
         "xaxis": "x",
         "y": [
          null,
          null,
          null,
          null,
          6610,
          8925,
          632568,
          561245,
          508137,
          429900,
          346881,
          302713,
          238252,
          191784,
          141219,
          93676,
          64346,
          42082,
          27473,
          15971,
          7179,
          3719,
          null,
          null,
          null,
          null,
          null,
          null,
          null,
          null,
          null,
          null,
          null,
          null,
          null,
          null,
          null,
          null,
          null,
          null,
          null,
          null,
          null,
          null,
          55,
          105,
          88,
          35,
          35,
          43,
          36,
          45
         ],
         "yaxis": "y"
        },
        {
         "hovertemplate": "variable=Rs. 2000 Notes<br>Year=%{x}<br>value=%{y}<extra></extra>",
         "legendgroup": "Rs. 2000 Notes",
         "line": {
          "color": "#636efa",
          "dash": "solid"
         },
         "marker": {
          "symbol": "circle"
         },
         "mode": "lines",
         "name": "Rs. 2000 Notes",
         "orientation": "v",
         "showlegend": true,
         "type": "scatter",
         "x": [
          "2021-01-01T00:00:00",
          "2020-01-01T00:00:00",
          "2019-01-01T00:00:00",
          "2018-01-01T00:00:00",
          "2017-01-01T00:00:00",
          "2016-01-01T00:00:00",
          "2015-01-01T00:00:00",
          "2014-01-01T00:00:00",
          "2013-01-01T00:00:00",
          "2012-01-01T00:00:00",
          "2011-01-01T00:00:00",
          "2010-01-01T00:00:00",
          "2009-01-01T00:00:00",
          "2008-01-01T00:00:00",
          "2007-01-01T00:00:00",
          "2006-01-01T00:00:00",
          "2005-01-01T00:00:00",
          "2004-01-01T00:00:00",
          "2003-01-01T00:00:00",
          "2002-01-01T00:00:00",
          "2001-01-01T00:00:00",
          "2000-01-01T00:00:00",
          "1999-01-01T00:00:00",
          "1998-01-01T00:00:00",
          "1997-01-01T00:00:00",
          "1996-01-01T00:00:00",
          "1995-01-01T00:00:00",
          "1994-01-01T00:00:00",
          "1993-01-01T00:00:00",
          "1992-01-01T00:00:00",
          "1991-01-01T00:00:00",
          "1990-01-01T00:00:00",
          "1989-01-01T00:00:00",
          "1988-01-01T00:00:00",
          "1987-01-01T00:00:00",
          "1986-01-01T00:00:00",
          "1985-01-01T00:00:00",
          "1984-01-01T00:00:00",
          "1983-01-01T00:00:00",
          "1982-01-01T00:00:00",
          "1981-01-01T00:00:00",
          "1980-01-01T00:00:00",
          "1979-01-01T00:00:00",
          "1978-01-01T00:00:00",
          "1977-01-01T00:00:00",
          "1976-01-01T00:00:00",
          "1975-01-01T00:00:00",
          "1974-01-01T00:00:00",
          "1973-01-01T00:00:00",
          "1972-01-01T00:00:00",
          "1971-01-01T00:00:00",
          "1970-01-01T00:00:00"
         ],
         "xaxis": "x",
         "y": [
          428394,
          490195,
          547952,
          658199,
          672642,
          657063,
          null,
          null,
          null,
          null,
          null,
          null,
          null,
          null,
          null,
          null,
          null,
          null,
          null,
          null,
          null,
          null,
          null,
          null,
          null,
          null,
          null,
          null,
          null,
          null,
          null,
          null,
          null,
          null,
          null,
          null,
          null,
          null,
          null,
          null,
          null,
          null,
          null,
          null,
          null,
          null,
          null,
          null,
          null,
          null,
          null,
          null
         ],
         "yaxis": "y"
        }
       ],
       "layout": {
        "legend": {
         "title": {
          "text": "variable"
         },
         "tracegroupgap": 0
        },
        "template": {
         "data": {
          "bar": [
           {
            "error_x": {
             "color": "#2a3f5f"
            },
            "error_y": {
             "color": "#2a3f5f"
            },
            "marker": {
             "line": {
              "color": "#E5ECF6",
              "width": 0.5
             },
             "pattern": {
              "fillmode": "overlay",
              "size": 10,
              "solidity": 0.2
             }
            },
            "type": "bar"
           }
          ],
          "barpolar": [
           {
            "marker": {
             "line": {
              "color": "#E5ECF6",
              "width": 0.5
             },
             "pattern": {
              "fillmode": "overlay",
              "size": 10,
              "solidity": 0.2
             }
            },
            "type": "barpolar"
           }
          ],
          "carpet": [
           {
            "aaxis": {
             "endlinecolor": "#2a3f5f",
             "gridcolor": "white",
             "linecolor": "white",
             "minorgridcolor": "white",
             "startlinecolor": "#2a3f5f"
            },
            "baxis": {
             "endlinecolor": "#2a3f5f",
             "gridcolor": "white",
             "linecolor": "white",
             "minorgridcolor": "white",
             "startlinecolor": "#2a3f5f"
            },
            "type": "carpet"
           }
          ],
          "choropleth": [
           {
            "colorbar": {
             "outlinewidth": 0,
             "ticks": ""
            },
            "type": "choropleth"
           }
          ],
          "contour": [
           {
            "colorbar": {
             "outlinewidth": 0,
             "ticks": ""
            },
            "colorscale": [
             [
              0,
              "#0d0887"
             ],
             [
              0.1111111111111111,
              "#46039f"
             ],
             [
              0.2222222222222222,
              "#7201a8"
             ],
             [
              0.3333333333333333,
              "#9c179e"
             ],
             [
              0.4444444444444444,
              "#bd3786"
             ],
             [
              0.5555555555555556,
              "#d8576b"
             ],
             [
              0.6666666666666666,
              "#ed7953"
             ],
             [
              0.7777777777777778,
              "#fb9f3a"
             ],
             [
              0.8888888888888888,
              "#fdca26"
             ],
             [
              1,
              "#f0f921"
             ]
            ],
            "type": "contour"
           }
          ],
          "contourcarpet": [
           {
            "colorbar": {
             "outlinewidth": 0,
             "ticks": ""
            },
            "type": "contourcarpet"
           }
          ],
          "heatmap": [
           {
            "colorbar": {
             "outlinewidth": 0,
             "ticks": ""
            },
            "colorscale": [
             [
              0,
              "#0d0887"
             ],
             [
              0.1111111111111111,
              "#46039f"
             ],
             [
              0.2222222222222222,
              "#7201a8"
             ],
             [
              0.3333333333333333,
              "#9c179e"
             ],
             [
              0.4444444444444444,
              "#bd3786"
             ],
             [
              0.5555555555555556,
              "#d8576b"
             ],
             [
              0.6666666666666666,
              "#ed7953"
             ],
             [
              0.7777777777777778,
              "#fb9f3a"
             ],
             [
              0.8888888888888888,
              "#fdca26"
             ],
             [
              1,
              "#f0f921"
             ]
            ],
            "type": "heatmap"
           }
          ],
          "heatmapgl": [
           {
            "colorbar": {
             "outlinewidth": 0,
             "ticks": ""
            },
            "colorscale": [
             [
              0,
              "#0d0887"
             ],
             [
              0.1111111111111111,
              "#46039f"
             ],
             [
              0.2222222222222222,
              "#7201a8"
             ],
             [
              0.3333333333333333,
              "#9c179e"
             ],
             [
              0.4444444444444444,
              "#bd3786"
             ],
             [
              0.5555555555555556,
              "#d8576b"
             ],
             [
              0.6666666666666666,
              "#ed7953"
             ],
             [
              0.7777777777777778,
              "#fb9f3a"
             ],
             [
              0.8888888888888888,
              "#fdca26"
             ],
             [
              1,
              "#f0f921"
             ]
            ],
            "type": "heatmapgl"
           }
          ],
          "histogram": [
           {
            "marker": {
             "pattern": {
              "fillmode": "overlay",
              "size": 10,
              "solidity": 0.2
             }
            },
            "type": "histogram"
           }
          ],
          "histogram2d": [
           {
            "colorbar": {
             "outlinewidth": 0,
             "ticks": ""
            },
            "colorscale": [
             [
              0,
              "#0d0887"
             ],
             [
              0.1111111111111111,
              "#46039f"
             ],
             [
              0.2222222222222222,
              "#7201a8"
             ],
             [
              0.3333333333333333,
              "#9c179e"
             ],
             [
              0.4444444444444444,
              "#bd3786"
             ],
             [
              0.5555555555555556,
              "#d8576b"
             ],
             [
              0.6666666666666666,
              "#ed7953"
             ],
             [
              0.7777777777777778,
              "#fb9f3a"
             ],
             [
              0.8888888888888888,
              "#fdca26"
             ],
             [
              1,
              "#f0f921"
             ]
            ],
            "type": "histogram2d"
           }
          ],
          "histogram2dcontour": [
           {
            "colorbar": {
             "outlinewidth": 0,
             "ticks": ""
            },
            "colorscale": [
             [
              0,
              "#0d0887"
             ],
             [
              0.1111111111111111,
              "#46039f"
             ],
             [
              0.2222222222222222,
              "#7201a8"
             ],
             [
              0.3333333333333333,
              "#9c179e"
             ],
             [
              0.4444444444444444,
              "#bd3786"
             ],
             [
              0.5555555555555556,
              "#d8576b"
             ],
             [
              0.6666666666666666,
              "#ed7953"
             ],
             [
              0.7777777777777778,
              "#fb9f3a"
             ],
             [
              0.8888888888888888,
              "#fdca26"
             ],
             [
              1,
              "#f0f921"
             ]
            ],
            "type": "histogram2dcontour"
           }
          ],
          "mesh3d": [
           {
            "colorbar": {
             "outlinewidth": 0,
             "ticks": ""
            },
            "type": "mesh3d"
           }
          ],
          "parcoords": [
           {
            "line": {
             "colorbar": {
              "outlinewidth": 0,
              "ticks": ""
             }
            },
            "type": "parcoords"
           }
          ],
          "pie": [
           {
            "automargin": true,
            "type": "pie"
           }
          ],
          "scatter": [
           {
            "fillpattern": {
             "fillmode": "overlay",
             "size": 10,
             "solidity": 0.2
            },
            "type": "scatter"
           }
          ],
          "scatter3d": [
           {
            "line": {
             "colorbar": {
              "outlinewidth": 0,
              "ticks": ""
             }
            },
            "marker": {
             "colorbar": {
              "outlinewidth": 0,
              "ticks": ""
             }
            },
            "type": "scatter3d"
           }
          ],
          "scattercarpet": [
           {
            "marker": {
             "colorbar": {
              "outlinewidth": 0,
              "ticks": ""
             }
            },
            "type": "scattercarpet"
           }
          ],
          "scattergeo": [
           {
            "marker": {
             "colorbar": {
              "outlinewidth": 0,
              "ticks": ""
             }
            },
            "type": "scattergeo"
           }
          ],
          "scattergl": [
           {
            "marker": {
             "colorbar": {
              "outlinewidth": 0,
              "ticks": ""
             }
            },
            "type": "scattergl"
           }
          ],
          "scattermapbox": [
           {
            "marker": {
             "colorbar": {
              "outlinewidth": 0,
              "ticks": ""
             }
            },
            "type": "scattermapbox"
           }
          ],
          "scatterpolar": [
           {
            "marker": {
             "colorbar": {
              "outlinewidth": 0,
              "ticks": ""
             }
            },
            "type": "scatterpolar"
           }
          ],
          "scatterpolargl": [
           {
            "marker": {
             "colorbar": {
              "outlinewidth": 0,
              "ticks": ""
             }
            },
            "type": "scatterpolargl"
           }
          ],
          "scatterternary": [
           {
            "marker": {
             "colorbar": {
              "outlinewidth": 0,
              "ticks": ""
             }
            },
            "type": "scatterternary"
           }
          ],
          "surface": [
           {
            "colorbar": {
             "outlinewidth": 0,
             "ticks": ""
            },
            "colorscale": [
             [
              0,
              "#0d0887"
             ],
             [
              0.1111111111111111,
              "#46039f"
             ],
             [
              0.2222222222222222,
              "#7201a8"
             ],
             [
              0.3333333333333333,
              "#9c179e"
             ],
             [
              0.4444444444444444,
              "#bd3786"
             ],
             [
              0.5555555555555556,
              "#d8576b"
             ],
             [
              0.6666666666666666,
              "#ed7953"
             ],
             [
              0.7777777777777778,
              "#fb9f3a"
             ],
             [
              0.8888888888888888,
              "#fdca26"
             ],
             [
              1,
              "#f0f921"
             ]
            ],
            "type": "surface"
           }
          ],
          "table": [
           {
            "cells": {
             "fill": {
              "color": "#EBF0F8"
             },
             "line": {
              "color": "white"
             }
            },
            "header": {
             "fill": {
              "color": "#C8D4E3"
             },
             "line": {
              "color": "white"
             }
            },
            "type": "table"
           }
          ]
         },
         "layout": {
          "annotationdefaults": {
           "arrowcolor": "#2a3f5f",
           "arrowhead": 0,
           "arrowwidth": 1
          },
          "autotypenumbers": "strict",
          "coloraxis": {
           "colorbar": {
            "outlinewidth": 0,
            "ticks": ""
           }
          },
          "colorscale": {
           "diverging": [
            [
             0,
             "#8e0152"
            ],
            [
             0.1,
             "#c51b7d"
            ],
            [
             0.2,
             "#de77ae"
            ],
            [
             0.3,
             "#f1b6da"
            ],
            [
             0.4,
             "#fde0ef"
            ],
            [
             0.5,
             "#f7f7f7"
            ],
            [
             0.6,
             "#e6f5d0"
            ],
            [
             0.7,
             "#b8e186"
            ],
            [
             0.8,
             "#7fbc41"
            ],
            [
             0.9,
             "#4d9221"
            ],
            [
             1,
             "#276419"
            ]
           ],
           "sequential": [
            [
             0,
             "#0d0887"
            ],
            [
             0.1111111111111111,
             "#46039f"
            ],
            [
             0.2222222222222222,
             "#7201a8"
            ],
            [
             0.3333333333333333,
             "#9c179e"
            ],
            [
             0.4444444444444444,
             "#bd3786"
            ],
            [
             0.5555555555555556,
             "#d8576b"
            ],
            [
             0.6666666666666666,
             "#ed7953"
            ],
            [
             0.7777777777777778,
             "#fb9f3a"
            ],
            [
             0.8888888888888888,
             "#fdca26"
            ],
            [
             1,
             "#f0f921"
            ]
           ],
           "sequentialminus": [
            [
             0,
             "#0d0887"
            ],
            [
             0.1111111111111111,
             "#46039f"
            ],
            [
             0.2222222222222222,
             "#7201a8"
            ],
            [
             0.3333333333333333,
             "#9c179e"
            ],
            [
             0.4444444444444444,
             "#bd3786"
            ],
            [
             0.5555555555555556,
             "#d8576b"
            ],
            [
             0.6666666666666666,
             "#ed7953"
            ],
            [
             0.7777777777777778,
             "#fb9f3a"
            ],
            [
             0.8888888888888888,
             "#fdca26"
            ],
            [
             1,
             "#f0f921"
            ]
           ]
          },
          "colorway": [
           "#636efa",
           "#EF553B",
           "#00cc96",
           "#ab63fa",
           "#FFA15A",
           "#19d3f3",
           "#FF6692",
           "#B6E880",
           "#FF97FF",
           "#FECB52"
          ],
          "font": {
           "color": "#2a3f5f"
          },
          "geo": {
           "bgcolor": "white",
           "lakecolor": "white",
           "landcolor": "#E5ECF6",
           "showlakes": true,
           "showland": true,
           "subunitcolor": "white"
          },
          "hoverlabel": {
           "align": "left"
          },
          "hovermode": "closest",
          "mapbox": {
           "style": "light"
          },
          "paper_bgcolor": "white",
          "plot_bgcolor": "#E5ECF6",
          "polar": {
           "angularaxis": {
            "gridcolor": "white",
            "linecolor": "white",
            "ticks": ""
           },
           "bgcolor": "#E5ECF6",
           "radialaxis": {
            "gridcolor": "white",
            "linecolor": "white",
            "ticks": ""
           }
          },
          "scene": {
           "xaxis": {
            "backgroundcolor": "#E5ECF6",
            "gridcolor": "white",
            "gridwidth": 2,
            "linecolor": "white",
            "showbackground": true,
            "ticks": "",
            "zerolinecolor": "white"
           },
           "yaxis": {
            "backgroundcolor": "#E5ECF6",
            "gridcolor": "white",
            "gridwidth": 2,
            "linecolor": "white",
            "showbackground": true,
            "ticks": "",
            "zerolinecolor": "white"
           },
           "zaxis": {
            "backgroundcolor": "#E5ECF6",
            "gridcolor": "white",
            "gridwidth": 2,
            "linecolor": "white",
            "showbackground": true,
            "ticks": "",
            "zerolinecolor": "white"
           }
          },
          "shapedefaults": {
           "line": {
            "color": "#2a3f5f"
           }
          },
          "ternary": {
           "aaxis": {
            "gridcolor": "white",
            "linecolor": "white",
            "ticks": ""
           },
           "baxis": {
            "gridcolor": "white",
            "linecolor": "white",
            "ticks": ""
           },
           "bgcolor": "#E5ECF6",
           "caxis": {
            "gridcolor": "white",
            "linecolor": "white",
            "ticks": ""
           }
          },
          "title": {
           "x": 0.05
          },
          "xaxis": {
           "automargin": true,
           "gridcolor": "white",
           "linecolor": "white",
           "ticks": "",
           "title": {
            "standoff": 15
           },
           "zerolinecolor": "white",
           "zerolinewidth": 2
          },
          "yaxis": {
           "automargin": true,
           "gridcolor": "white",
           "linecolor": "white",
           "ticks": "",
           "title": {
            "standoff": 15
           },
           "zerolinecolor": "white",
           "zerolinewidth": 2
          }
         }
        },
        "title": {
         "text": "NOTES AND COINS IN CIRCULATION  (Rupees Crore)"
        },
        "xaxis": {
         "anchor": "y",
         "domain": [
          0,
          1
         ],
         "title": {
          "text": "Year"
         }
        },
        "yaxis": {
         "anchor": "x",
         "domain": [
          0,
          1
         ],
         "title": {
          "text": "Number of Notes Issued"
         }
        }
       }
      },
      "text/html": [
       "<div>                            <div id=\"9ded8a12-c299-4fc7-8ef0-debc0dcbf2ae\" class=\"plotly-graph-div\" style=\"height:525px; width:100%;\"></div>            <script type=\"text/javascript\">                require([\"plotly\"], function(Plotly) {                    window.PLOTLYENV=window.PLOTLYENV || {};                                    if (document.getElementById(\"9ded8a12-c299-4fc7-8ef0-debc0dcbf2ae\")) {                    Plotly.newPlot(                        \"9ded8a12-c299-4fc7-8ef0-debc0dcbf2ae\",                        [{\"hovertemplate\":\"variable=Re. 1 Notes<br>Year=%{x}<br>value=%{y}<extra></extra>\",\"legendgroup\":\"Re. 1 Notes\",\"line\":{\"color\":\"#636efa\",\"dash\":\"solid\"},\"marker\":{\"symbol\":\"circle\"},\"mode\":\"lines\",\"name\":\"Re. 1 Notes\",\"orientation\":\"v\",\"showlegend\":true,\"x\":[\"2021-01-01T00:00:00\",\"2020-01-01T00:00:00\",\"2019-01-01T00:00:00\",\"2018-01-01T00:00:00\",\"2017-01-01T00:00:00\",\"2016-01-01T00:00:00\",\"2015-01-01T00:00:00\",\"2014-01-01T00:00:00\",\"2013-01-01T00:00:00\",\"2012-01-01T00:00:00\",\"2011-01-01T00:00:00\",\"2010-01-01T00:00:00\",\"2009-01-01T00:00:00\",\"2008-01-01T00:00:00\",\"2007-01-01T00:00:00\",\"2006-01-01T00:00:00\",\"2005-01-01T00:00:00\",\"2004-01-01T00:00:00\",\"2003-01-01T00:00:00\",\"2002-01-01T00:00:00\",\"2001-01-01T00:00:00\",\"2000-01-01T00:00:00\",\"1999-01-01T00:00:00\",\"1998-01-01T00:00:00\",\"1997-01-01T00:00:00\",\"1996-01-01T00:00:00\",\"1995-01-01T00:00:00\",\"1994-01-01T00:00:00\",\"1993-01-01T00:00:00\",\"1992-01-01T00:00:00\",\"1991-01-01T00:00:00\",\"1990-01-01T00:00:00\",\"1989-01-01T00:00:00\",\"1988-01-01T00:00:00\",\"1987-01-01T00:00:00\",\"1986-01-01T00:00:00\",\"1985-01-01T00:00:00\",\"1984-01-01T00:00:00\",\"1983-01-01T00:00:00\",\"1982-01-01T00:00:00\",\"1981-01-01T00:00:00\",\"1980-01-01T00:00:00\",\"1979-01-01T00:00:00\",\"1978-01-01T00:00:00\",\"1977-01-01T00:00:00\",\"1976-01-01T00:00:00\",\"1975-01-01T00:00:00\",\"1974-01-01T00:00:00\",\"1973-01-01T00:00:00\",\"1972-01-01T00:00:00\",\"1971-01-01T00:00:00\",\"1970-01-01T00:00:00\"],\"xaxis\":\"x\",\"y\":[382.0,377.0,370.0,359.0,343.0,321.0,309.0,299.0,299.0,299.0,299.0,299.0,299.0,300.0,300.0,301.0,299.0,299.0,299.0,305.0,308.0,307.0,308.0,316.0,319.0,316.0,322.0,320.0,328.0,null,null,335.0,348.0,360.0,352.0,301.0,238.0,204.0,198.0,205.0,212.0,207.0,214.0,256.0,272.0,274.0,293.0,290.0,283.0,260.0,234.0,219.0],\"yaxis\":\"y\",\"type\":\"scatter\"},{\"hovertemplate\":\"variable=Rs. 2 Notes<br>Year=%{x}<br>value=%{y}<extra></extra>\",\"legendgroup\":\"Rs. 2 Notes\",\"line\":{\"color\":\"#EF553B\",\"dash\":\"solid\"},\"marker\":{\"symbol\":\"circle\"},\"mode\":\"lines\",\"name\":\"Rs. 2 Notes\",\"orientation\":\"v\",\"showlegend\":true,\"x\":[\"2021-01-01T00:00:00\",\"2020-01-01T00:00:00\",\"2019-01-01T00:00:00\",\"2018-01-01T00:00:00\",\"2017-01-01T00:00:00\",\"2016-01-01T00:00:00\",\"2015-01-01T00:00:00\",\"2014-01-01T00:00:00\",\"2013-01-01T00:00:00\",\"2012-01-01T00:00:00\",\"2011-01-01T00:00:00\",\"2010-01-01T00:00:00\",\"2009-01-01T00:00:00\",\"2008-01-01T00:00:00\",\"2007-01-01T00:00:00\",\"2006-01-01T00:00:00\",\"2005-01-01T00:00:00\",\"2004-01-01T00:00:00\",\"2003-01-01T00:00:00\",\"2002-01-01T00:00:00\",\"2001-01-01T00:00:00\",\"2000-01-01T00:00:00\",\"1999-01-01T00:00:00\",\"1998-01-01T00:00:00\",\"1997-01-01T00:00:00\",\"1996-01-01T00:00:00\",\"1995-01-01T00:00:00\",\"1994-01-01T00:00:00\",\"1993-01-01T00:00:00\",\"1992-01-01T00:00:00\",\"1991-01-01T00:00:00\",\"1990-01-01T00:00:00\",\"1989-01-01T00:00:00\",\"1988-01-01T00:00:00\",\"1987-01-01T00:00:00\",\"1986-01-01T00:00:00\",\"1985-01-01T00:00:00\",\"1984-01-01T00:00:00\",\"1983-01-01T00:00:00\",\"1982-01-01T00:00:00\",\"1981-01-01T00:00:00\",\"1980-01-01T00:00:00\",\"1979-01-01T00:00:00\",\"1978-01-01T00:00:00\",\"1977-01-01T00:00:00\",\"1976-01-01T00:00:00\",\"1975-01-01T00:00:00\",\"1974-01-01T00:00:00\",\"1973-01-01T00:00:00\",\"1972-01-01T00:00:00\",\"1971-01-01T00:00:00\",\"1970-01-01T00:00:00\"],\"xaxis\":\"x\",\"y\":[853.0,853.0,853.0,853.0,853.0,853.0,853.0,854.0,851.0,851.0,851.0,851.0,698.0,665.0,636.0,447.0,451.0,462.0,472.0,483.0,538.0,471.0,512.0,530.0,550.0,527.0,515.0,602.0,624.0,720.0,942.0,883.0,804.0,681.0,653.0,683.0,650.0,580.0,450.0,431.0,392.0,299.0,215.0,174.0,148.0,127.0,116.0,56.0,83.0,70.0,66.0,69.0],\"yaxis\":\"y\",\"type\":\"scatter\"},{\"hovertemplate\":\"variable=Rs. 5 Notes<br>Year=%{x}<br>value=%{y}<extra></extra>\",\"legendgroup\":\"Rs. 5 Notes\",\"line\":{\"color\":\"#00cc96\",\"dash\":\"solid\"},\"marker\":{\"symbol\":\"circle\"},\"mode\":\"lines\",\"name\":\"Rs. 5 Notes\",\"orientation\":\"v\",\"showlegend\":true,\"x\":[\"2021-01-01T00:00:00\",\"2020-01-01T00:00:00\",\"2019-01-01T00:00:00\",\"2018-01-01T00:00:00\",\"2017-01-01T00:00:00\",\"2016-01-01T00:00:00\",\"2015-01-01T00:00:00\",\"2014-01-01T00:00:00\",\"2013-01-01T00:00:00\",\"2012-01-01T00:00:00\",\"2011-01-01T00:00:00\",\"2010-01-01T00:00:00\",\"2009-01-01T00:00:00\",\"2008-01-01T00:00:00\",\"2007-01-01T00:00:00\",\"2006-01-01T00:00:00\",\"2005-01-01T00:00:00\",\"2004-01-01T00:00:00\",\"2003-01-01T00:00:00\",\"2002-01-01T00:00:00\",\"2001-01-01T00:00:00\",\"2000-01-01T00:00:00\",\"1999-01-01T00:00:00\",\"1998-01-01T00:00:00\",\"1997-01-01T00:00:00\",\"1996-01-01T00:00:00\",\"1995-01-01T00:00:00\",\"1994-01-01T00:00:00\",\"1993-01-01T00:00:00\",\"1992-01-01T00:00:00\",\"1991-01-01T00:00:00\",\"1990-01-01T00:00:00\",\"1989-01-01T00:00:00\",\"1988-01-01T00:00:00\",\"1987-01-01T00:00:00\",\"1986-01-01T00:00:00\",\"1985-01-01T00:00:00\",\"1984-01-01T00:00:00\",\"1983-01-01T00:00:00\",\"1982-01-01T00:00:00\",\"1981-01-01T00:00:00\",\"1980-01-01T00:00:00\",\"1979-01-01T00:00:00\",\"1978-01-01T00:00:00\",\"1977-01-01T00:00:00\",\"1976-01-01T00:00:00\",\"1975-01-01T00:00:00\",\"1974-01-01T00:00:00\",\"1973-01-01T00:00:00\",\"1972-01-01T00:00:00\",\"1971-01-01T00:00:00\",\"1970-01-01T00:00:00\"],\"xaxis\":\"x\",\"y\":[3431.0,3454.0,3478.0,3519.0,3580.0,3645.0,3680.0,3702.0,3714.0,3687.0,3643.0,3430.0,2233.0,2271.0,2111.0,1887.0,1980.0,2086.0,2276.0,1739.0,1264.0,1016.0,1152.0,1290.0,1427.0,1554.0,1651.0,1765.0,1860.0,2022.0,2400.0,1810.0,1739.0,1482.0,1429.0,1287.0,1303.0,1234.0,560.0,807.0,692.0,634.0,588.0,576.0,572.0,540.0,532.0,433.0,412.0,371.0,325.0,310.0],\"yaxis\":\"y\",\"type\":\"scatter\"},{\"hovertemplate\":\"variable=Rs. 10 Notes<br>Year=%{x}<br>value=%{y}<extra></extra>\",\"legendgroup\":\"Rs. 10 Notes\",\"line\":{\"color\":\"#ab63fa\",\"dash\":\"solid\"},\"marker\":{\"symbol\":\"circle\"},\"mode\":\"lines\",\"name\":\"Rs. 10 Notes\",\"orientation\":\"v\",\"showlegend\":true,\"x\":[\"2021-01-01T00:00:00\",\"2020-01-01T00:00:00\",\"2019-01-01T00:00:00\",\"2018-01-01T00:00:00\",\"2017-01-01T00:00:00\",\"2016-01-01T00:00:00\",\"2015-01-01T00:00:00\",\"2014-01-01T00:00:00\",\"2013-01-01T00:00:00\",\"2012-01-01T00:00:00\",\"2011-01-01T00:00:00\",\"2010-01-01T00:00:00\",\"2009-01-01T00:00:00\",\"2008-01-01T00:00:00\",\"2007-01-01T00:00:00\",\"2006-01-01T00:00:00\",\"2005-01-01T00:00:00\",\"2004-01-01T00:00:00\",\"2003-01-01T00:00:00\",\"2002-01-01T00:00:00\",\"2001-01-01T00:00:00\",\"2000-01-01T00:00:00\",\"1999-01-01T00:00:00\",\"1998-01-01T00:00:00\",\"1997-01-01T00:00:00\",\"1996-01-01T00:00:00\",\"1995-01-01T00:00:00\",\"1994-01-01T00:00:00\",\"1993-01-01T00:00:00\",\"1992-01-01T00:00:00\",\"1991-01-01T00:00:00\",\"1990-01-01T00:00:00\",\"1989-01-01T00:00:00\",\"1988-01-01T00:00:00\",\"1987-01-01T00:00:00\",\"1986-01-01T00:00:00\",\"1985-01-01T00:00:00\",\"1984-01-01T00:00:00\",\"1983-01-01T00:00:00\",\"1982-01-01T00:00:00\",\"1981-01-01T00:00:00\",\"1980-01-01T00:00:00\",\"1979-01-01T00:00:00\",\"1978-01-01T00:00:00\",\"1977-01-01T00:00:00\",\"1976-01-01T00:00:00\",\"1975-01-01T00:00:00\",\"1974-01-01T00:00:00\",\"1973-01-01T00:00:00\",\"1972-01-01T00:00:00\",\"1971-01-01T00:00:00\",\"1970-01-01T00:00:00\"],\"xaxis\":\"x\",\"y\":[27805.0,29368.0,30402.0,31260.0,30645.0,36929.0,32015.0,30304.0,26648.0,25168.0,23002.0,21288.0,18536.0,12222.0,9333.0,7155.0,6274.0,6770.0,7750.0,9088.0,11989.0,12336.0,13282.0,12990.0,12412.0,11063.0,9218.0,6943.0,5334.0,4285.0,5202.0,3785.0,3515.0,2996.0,2825.0,2510.0,2536.0,2217.0,1770.0,1798.0,1991.0,2097.0,2123.0,1957.0,1825.0,1967.0,1880.0,1962.0,1980.0,1757.0,1713.0,1563.0],\"yaxis\":\"y\",\"type\":\"scatter\"},{\"hovertemplate\":\"variable=Rs. 20 Notes<br>Year=%{x}<br>value=%{y}<extra></extra>\",\"legendgroup\":\"Rs. 20 Notes\",\"line\":{\"color\":\"#FFA15A\",\"dash\":\"solid\"},\"marker\":{\"symbol\":\"circle\"},\"mode\":\"lines\",\"name\":\"Rs. 20 Notes\",\"orientation\":\"v\",\"showlegend\":true,\"x\":[\"2021-01-01T00:00:00\",\"2020-01-01T00:00:00\",\"2019-01-01T00:00:00\",\"2018-01-01T00:00:00\",\"2017-01-01T00:00:00\",\"2016-01-01T00:00:00\",\"2015-01-01T00:00:00\",\"2014-01-01T00:00:00\",\"2013-01-01T00:00:00\",\"2012-01-01T00:00:00\",\"2011-01-01T00:00:00\",\"2010-01-01T00:00:00\",\"2009-01-01T00:00:00\",\"2008-01-01T00:00:00\",\"2007-01-01T00:00:00\",\"2006-01-01T00:00:00\",\"2005-01-01T00:00:00\",\"2004-01-01T00:00:00\",\"2003-01-01T00:00:00\",\"2002-01-01T00:00:00\",\"2001-01-01T00:00:00\",\"2000-01-01T00:00:00\",\"1999-01-01T00:00:00\",\"1998-01-01T00:00:00\",\"1997-01-01T00:00:00\",\"1996-01-01T00:00:00\",\"1995-01-01T00:00:00\",\"1994-01-01T00:00:00\",\"1993-01-01T00:00:00\",\"1992-01-01T00:00:00\",\"1991-01-01T00:00:00\",\"1990-01-01T00:00:00\",\"1989-01-01T00:00:00\",\"1988-01-01T00:00:00\",\"1987-01-01T00:00:00\",\"1986-01-01T00:00:00\",\"1985-01-01T00:00:00\",\"1984-01-01T00:00:00\",\"1983-01-01T00:00:00\",\"1982-01-01T00:00:00\",\"1981-01-01T00:00:00\",\"1980-01-01T00:00:00\",\"1979-01-01T00:00:00\",\"1978-01-01T00:00:00\",\"1977-01-01T00:00:00\",\"1976-01-01T00:00:00\",\"1975-01-01T00:00:00\",\"1974-01-01T00:00:00\",\"1973-01-01T00:00:00\",\"1972-01-01T00:00:00\",\"1971-01-01T00:00:00\",\"1970-01-01T00:00:00\"],\"xaxis\":\"x\",\"y\":[22026.0,18116.0,16599.0,17425.0,20032.0,20315.0,9847.0,8699.0,8569.0,7650.0,7020.0,6040.0,4681.0,4399.0,4108.0,4178.0,4077.0,3876.0,4383.0,3425.0,1531.0,1012.0,1010.0,899.0,979.0,703.0,718.0,1120.0,1631.0,2340.0,2743.0,2952.0,3100.0,2613.0,2331.0,1899.0,1784.0,1636.0,1463.0,1433.0,1214.0,1090.0,961.0,779.0,690.0,555.0,425.0,415.0,382.0,152.0,null,null],\"yaxis\":\"y\",\"type\":\"scatter\"},{\"hovertemplate\":\"variable=Rs. 50 Notes<br>Year=%{x}<br>value=%{y}<extra></extra>\",\"legendgroup\":\"Rs. 50 Notes\",\"line\":{\"color\":\"#19d3f3\",\"dash\":\"solid\"},\"marker\":{\"symbol\":\"circle\"},\"mode\":\"lines\",\"name\":\"Rs. 50 Notes\",\"orientation\":\"v\",\"showlegend\":true,\"x\":[\"2021-01-01T00:00:00\",\"2020-01-01T00:00:00\",\"2019-01-01T00:00:00\",\"2018-01-01T00:00:00\",\"2017-01-01T00:00:00\",\"2016-01-01T00:00:00\",\"2015-01-01T00:00:00\",\"2014-01-01T00:00:00\",\"2013-01-01T00:00:00\",\"2012-01-01T00:00:00\",\"2011-01-01T00:00:00\",\"2010-01-01T00:00:00\",\"2009-01-01T00:00:00\",\"2008-01-01T00:00:00\",\"2007-01-01T00:00:00\",\"2006-01-01T00:00:00\",\"2005-01-01T00:00:00\",\"2004-01-01T00:00:00\",\"2003-01-01T00:00:00\",\"2002-01-01T00:00:00\",\"2001-01-01T00:00:00\",\"2000-01-01T00:00:00\",\"1999-01-01T00:00:00\",\"1998-01-01T00:00:00\",\"1997-01-01T00:00:00\",\"1996-01-01T00:00:00\",\"1995-01-01T00:00:00\",\"1994-01-01T00:00:00\",\"1993-01-01T00:00:00\",\"1992-01-01T00:00:00\",\"1991-01-01T00:00:00\",\"1990-01-01T00:00:00\",\"1989-01-01T00:00:00\",\"1988-01-01T00:00:00\",\"1987-01-01T00:00:00\",\"1986-01-01T00:00:00\",\"1985-01-01T00:00:00\",\"1984-01-01T00:00:00\",\"1983-01-01T00:00:00\",\"1982-01-01T00:00:00\",\"1981-01-01T00:00:00\",\"1980-01-01T00:00:00\",\"1979-01-01T00:00:00\",\"1978-01-01T00:00:00\",\"1977-01-01T00:00:00\",\"1976-01-01T00:00:00\",\"1975-01-01T00:00:00\",\"1974-01-01T00:00:00\",\"1973-01-01T00:00:00\",\"1972-01-01T00:00:00\",\"1971-01-01T00:00:00\",\"1970-01-01T00:00:00\"],\"xaxis\":\"x\",\"y\":[43571.0,43762.0,43004.0,43007.0,36715.0,35564.0,19450.0,17436.0,17242.0,17305.0,17438.0,15980.0,21057.0,24440.0,26508.0,27951.0,27842.0,29941.0,33027.0,35191.0,35601.0,32818.0,33230.0,33316.0,34245.0,33623.0,31659.0,28537.0,24991.0,22577.0,17719.0,14812.0,12553.0,9459.0,7267.0,5247.0,4310.0,3920.0,3626.0,3017.0,2724.0,2206.0,1983.0,1440.0,995.0,734.0,86.0,null,null,null,null,null],\"yaxis\":\"y\",\"type\":\"scatter\"},{\"hovertemplate\":\"variable=Rs. 100 Notes<br>Year=%{x}<br>value=%{y}<extra></extra>\",\"legendgroup\":\"Rs. 100 Notes\",\"line\":{\"color\":\"#FF6692\",\"dash\":\"solid\"},\"marker\":{\"symbol\":\"circle\"},\"mode\":\"lines\",\"name\":\"Rs. 100 Notes\",\"orientation\":\"v\",\"showlegend\":true,\"x\":[\"2021-01-01T00:00:00\",\"2020-01-01T00:00:00\",\"2019-01-01T00:00:00\",\"2018-01-01T00:00:00\",\"2017-01-01T00:00:00\",\"2016-01-01T00:00:00\",\"2015-01-01T00:00:00\",\"2014-01-01T00:00:00\",\"2013-01-01T00:00:00\",\"2012-01-01T00:00:00\",\"2011-01-01T00:00:00\",\"2010-01-01T00:00:00\",\"2009-01-01T00:00:00\",\"2008-01-01T00:00:00\",\"2007-01-01T00:00:00\",\"2006-01-01T00:00:00\",\"2005-01-01T00:00:00\",\"2004-01-01T00:00:00\",\"2003-01-01T00:00:00\",\"2002-01-01T00:00:00\",\"2001-01-01T00:00:00\",\"2000-01-01T00:00:00\",\"1999-01-01T00:00:00\",\"1998-01-01T00:00:00\",\"1997-01-01T00:00:00\",\"1996-01-01T00:00:00\",\"1995-01-01T00:00:00\",\"1994-01-01T00:00:00\",\"1993-01-01T00:00:00\",\"1992-01-01T00:00:00\",\"1991-01-01T00:00:00\",\"1990-01-01T00:00:00\",\"1989-01-01T00:00:00\",\"1988-01-01T00:00:00\",\"1987-01-01T00:00:00\",\"1986-01-01T00:00:00\",\"1985-01-01T00:00:00\",\"1984-01-01T00:00:00\",\"1983-01-01T00:00:00\",\"1982-01-01T00:00:00\",\"1981-01-01T00:00:00\",\"1980-01-01T00:00:00\",\"1979-01-01T00:00:00\",\"1978-01-01T00:00:00\",\"1977-01-01T00:00:00\",\"1976-01-01T00:00:00\",\"1975-01-01T00:00:00\",\"1974-01-01T00:00:00\",\"1973-01-01T00:00:00\",\"1972-01-01T00:00:00\",\"1971-01-01T00:00:00\",\"1970-01-01T00:00:00\"],\"xaxis\":\"x\",\"y\":[181421.0,190555.0,199021.0,200738.0,222149.0,252801.0,157783.0,150265.0,147646.0,144210.0,141188.0,140243.0,138364.0,137028.0,134575.0,135444.0,134637.0,123282.0,121442.0,115386.0,118041.0,108141.0,85831.0,78197.0,70159.0,62600.0,55105.0,46457.0,37784.0,32663.0,32266.0,24570.0,23778.0,21208.0,19077.0,17116.0,15018.0,13904.0,11690.0,9777.0,7829.0,7406.0,5951.0,5369.0,4302.0,3726.0,3422.0,3285.0,3216.0,2848.0,2482.0,2210.0],\"yaxis\":\"y\",\"type\":\"scatter\"},{\"hovertemplate\":\"variable=Rs. 200 Notes<br>Year=%{x}<br>value=%{y}<extra></extra>\",\"legendgroup\":\"Rs. 200 Notes\",\"line\":{\"color\":\"#B6E880\",\"dash\":\"solid\"},\"marker\":{\"symbol\":\"circle\"},\"mode\":\"lines\",\"name\":\"Rs. 200 Notes\",\"orientation\":\"v\",\"showlegend\":true,\"x\":[\"2021-01-01T00:00:00\",\"2020-01-01T00:00:00\",\"2019-01-01T00:00:00\",\"2018-01-01T00:00:00\",\"2017-01-01T00:00:00\",\"2016-01-01T00:00:00\",\"2015-01-01T00:00:00\",\"2014-01-01T00:00:00\",\"2013-01-01T00:00:00\",\"2012-01-01T00:00:00\",\"2011-01-01T00:00:00\",\"2010-01-01T00:00:00\",\"2009-01-01T00:00:00\",\"2008-01-01T00:00:00\",\"2007-01-01T00:00:00\",\"2006-01-01T00:00:00\",\"2005-01-01T00:00:00\",\"2004-01-01T00:00:00\",\"2003-01-01T00:00:00\",\"2002-01-01T00:00:00\",\"2001-01-01T00:00:00\",\"2000-01-01T00:00:00\",\"1999-01-01T00:00:00\",\"1998-01-01T00:00:00\",\"1997-01-01T00:00:00\",\"1996-01-01T00:00:00\",\"1995-01-01T00:00:00\",\"1994-01-01T00:00:00\",\"1993-01-01T00:00:00\",\"1992-01-01T00:00:00\",\"1991-01-01T00:00:00\",\"1990-01-01T00:00:00\",\"1989-01-01T00:00:00\",\"1988-01-01T00:00:00\",\"1987-01-01T00:00:00\",\"1986-01-01T00:00:00\",\"1985-01-01T00:00:00\",\"1984-01-01T00:00:00\",\"1983-01-01T00:00:00\",\"1982-01-01T00:00:00\",\"1981-01-01T00:00:00\",\"1980-01-01T00:00:00\",\"1979-01-01T00:00:00\",\"1978-01-01T00:00:00\",\"1977-01-01T00:00:00\",\"1976-01-01T00:00:00\",\"1975-01-01T00:00:00\",\"1974-01-01T00:00:00\",\"1973-01-01T00:00:00\",\"1972-01-01T00:00:00\",\"1971-01-01T00:00:00\",\"1970-01-01T00:00:00\"],\"xaxis\":\"x\",\"y\":[120881.0,116608.0,107293.0,80010.0,37053.0,null,null,null,null,null,null,null,null,null,null,null,null,null,null,null,null,null,null,null,null,null,null,null,null,null,null,null,null,null,null,null,null,null,null,null,null,null,null,null,null,null,null,null,null,null,null,null],\"yaxis\":\"y\",\"type\":\"scatter\"},{\"hovertemplate\":\"variable=Rs. 500 Notes<br>Year=%{x}<br>value=%{y}<extra></extra>\",\"legendgroup\":\"Rs. 500 Notes\",\"line\":{\"color\":\"#FF97FF\",\"dash\":\"solid\"},\"marker\":{\"symbol\":\"circle\"},\"mode\":\"lines\",\"name\":\"Rs. 500 Notes\",\"orientation\":\"v\",\"showlegend\":true,\"x\":[\"2021-01-01T00:00:00\",\"2020-01-01T00:00:00\",\"2019-01-01T00:00:00\",\"2018-01-01T00:00:00\",\"2017-01-01T00:00:00\",\"2016-01-01T00:00:00\",\"2015-01-01T00:00:00\",\"2014-01-01T00:00:00\",\"2013-01-01T00:00:00\",\"2012-01-01T00:00:00\",\"2011-01-01T00:00:00\",\"2010-01-01T00:00:00\",\"2009-01-01T00:00:00\",\"2008-01-01T00:00:00\",\"2007-01-01T00:00:00\",\"2006-01-01T00:00:00\",\"2005-01-01T00:00:00\",\"2004-01-01T00:00:00\",\"2003-01-01T00:00:00\",\"2002-01-01T00:00:00\",\"2001-01-01T00:00:00\",\"2000-01-01T00:00:00\",\"1999-01-01T00:00:00\",\"1998-01-01T00:00:00\",\"1997-01-01T00:00:00\",\"1996-01-01T00:00:00\",\"1995-01-01T00:00:00\",\"1994-01-01T00:00:00\",\"1993-01-01T00:00:00\",\"1992-01-01T00:00:00\",\"1991-01-01T00:00:00\",\"1990-01-01T00:00:00\",\"1989-01-01T00:00:00\",\"1988-01-01T00:00:00\",\"1987-01-01T00:00:00\",\"1986-01-01T00:00:00\",\"1985-01-01T00:00:00\",\"1984-01-01T00:00:00\",\"1983-01-01T00:00:00\",\"1982-01-01T00:00:00\",\"1981-01-01T00:00:00\",\"1980-01-01T00:00:00\",\"1979-01-01T00:00:00\",\"1978-01-01T00:00:00\",\"1977-01-01T00:00:00\",\"1976-01-01T00:00:00\",\"1975-01-01T00:00:00\",\"1974-01-01T00:00:00\",\"1973-01-01T00:00:00\",\"1972-01-01T00:00:00\",\"1971-01-01T00:00:00\",\"1970-01-01T00:00:00\"],\"xaxis\":\"x\",\"y\":[2277340.0,1933951.0,1472373.0,1075881.0,773429.0,294098.0,785375.0,656391.0,570248.0,535950.0,512807.0,445311.0,364479.0,308304.0,263108.0,225400.0,182332.0,152728.0,122938.0,93813.0,68512.0,52947.0,57250.0,44827.0,27975.0,24270.0,20873.0,16882.0,11303.0,4910.0,1854.0,2177.0,1257.0,230.0,180.0,null,null,null,null,null,null,null,null,null,null,null,null,null,null,null,null,null],\"yaxis\":\"y\",\"type\":\"scatter\"},{\"hovertemplate\":\"variable=Rs. 1000 Notes<br>Year=%{x}<br>value=%{y}<extra></extra>\",\"legendgroup\":\"Rs. 1000 Notes\",\"line\":{\"color\":\"#FECB52\",\"dash\":\"solid\"},\"marker\":{\"symbol\":\"circle\"},\"mode\":\"lines\",\"name\":\"Rs. 1000 Notes\",\"orientation\":\"v\",\"showlegend\":true,\"x\":[\"2021-01-01T00:00:00\",\"2020-01-01T00:00:00\",\"2019-01-01T00:00:00\",\"2018-01-01T00:00:00\",\"2017-01-01T00:00:00\",\"2016-01-01T00:00:00\",\"2015-01-01T00:00:00\",\"2014-01-01T00:00:00\",\"2013-01-01T00:00:00\",\"2012-01-01T00:00:00\",\"2011-01-01T00:00:00\",\"2010-01-01T00:00:00\",\"2009-01-01T00:00:00\",\"2008-01-01T00:00:00\",\"2007-01-01T00:00:00\",\"2006-01-01T00:00:00\",\"2005-01-01T00:00:00\",\"2004-01-01T00:00:00\",\"2003-01-01T00:00:00\",\"2002-01-01T00:00:00\",\"2001-01-01T00:00:00\",\"2000-01-01T00:00:00\",\"1999-01-01T00:00:00\",\"1998-01-01T00:00:00\",\"1997-01-01T00:00:00\",\"1996-01-01T00:00:00\",\"1995-01-01T00:00:00\",\"1994-01-01T00:00:00\",\"1993-01-01T00:00:00\",\"1992-01-01T00:00:00\",\"1991-01-01T00:00:00\",\"1990-01-01T00:00:00\",\"1989-01-01T00:00:00\",\"1988-01-01T00:00:00\",\"1987-01-01T00:00:00\",\"1986-01-01T00:00:00\",\"1985-01-01T00:00:00\",\"1984-01-01T00:00:00\",\"1983-01-01T00:00:00\",\"1982-01-01T00:00:00\",\"1981-01-01T00:00:00\",\"1980-01-01T00:00:00\",\"1979-01-01T00:00:00\",\"1978-01-01T00:00:00\",\"1977-01-01T00:00:00\",\"1976-01-01T00:00:00\",\"1975-01-01T00:00:00\",\"1974-01-01T00:00:00\",\"1973-01-01T00:00:00\",\"1972-01-01T00:00:00\",\"1971-01-01T00:00:00\",\"1970-01-01T00:00:00\"],\"xaxis\":\"x\",\"y\":[null,null,null,null,6610.0,8925.0,632568.0,561245.0,508137.0,429900.0,346881.0,302713.0,238252.0,191784.0,141219.0,93676.0,64346.0,42082.0,27473.0,15971.0,7179.0,3719.0,null,null,null,null,null,null,null,null,null,null,null,null,null,null,null,null,null,null,null,null,null,null,55.0,105.0,88.0,35.0,35.0,43.0,36.0,45.0],\"yaxis\":\"y\",\"type\":\"scatter\"},{\"hovertemplate\":\"variable=Rs. 2000 Notes<br>Year=%{x}<br>value=%{y}<extra></extra>\",\"legendgroup\":\"Rs. 2000 Notes\",\"line\":{\"color\":\"#636efa\",\"dash\":\"solid\"},\"marker\":{\"symbol\":\"circle\"},\"mode\":\"lines\",\"name\":\"Rs. 2000 Notes\",\"orientation\":\"v\",\"showlegend\":true,\"x\":[\"2021-01-01T00:00:00\",\"2020-01-01T00:00:00\",\"2019-01-01T00:00:00\",\"2018-01-01T00:00:00\",\"2017-01-01T00:00:00\",\"2016-01-01T00:00:00\",\"2015-01-01T00:00:00\",\"2014-01-01T00:00:00\",\"2013-01-01T00:00:00\",\"2012-01-01T00:00:00\",\"2011-01-01T00:00:00\",\"2010-01-01T00:00:00\",\"2009-01-01T00:00:00\",\"2008-01-01T00:00:00\",\"2007-01-01T00:00:00\",\"2006-01-01T00:00:00\",\"2005-01-01T00:00:00\",\"2004-01-01T00:00:00\",\"2003-01-01T00:00:00\",\"2002-01-01T00:00:00\",\"2001-01-01T00:00:00\",\"2000-01-01T00:00:00\",\"1999-01-01T00:00:00\",\"1998-01-01T00:00:00\",\"1997-01-01T00:00:00\",\"1996-01-01T00:00:00\",\"1995-01-01T00:00:00\",\"1994-01-01T00:00:00\",\"1993-01-01T00:00:00\",\"1992-01-01T00:00:00\",\"1991-01-01T00:00:00\",\"1990-01-01T00:00:00\",\"1989-01-01T00:00:00\",\"1988-01-01T00:00:00\",\"1987-01-01T00:00:00\",\"1986-01-01T00:00:00\",\"1985-01-01T00:00:00\",\"1984-01-01T00:00:00\",\"1983-01-01T00:00:00\",\"1982-01-01T00:00:00\",\"1981-01-01T00:00:00\",\"1980-01-01T00:00:00\",\"1979-01-01T00:00:00\",\"1978-01-01T00:00:00\",\"1977-01-01T00:00:00\",\"1976-01-01T00:00:00\",\"1975-01-01T00:00:00\",\"1974-01-01T00:00:00\",\"1973-01-01T00:00:00\",\"1972-01-01T00:00:00\",\"1971-01-01T00:00:00\",\"1970-01-01T00:00:00\"],\"xaxis\":\"x\",\"y\":[428394.0,490195.0,547952.0,658199.0,672642.0,657063.0,null,null,null,null,null,null,null,null,null,null,null,null,null,null,null,null,null,null,null,null,null,null,null,null,null,null,null,null,null,null,null,null,null,null,null,null,null,null,null,null,null,null,null,null,null,null],\"yaxis\":\"y\",\"type\":\"scatter\"}],                        {\"template\":{\"data\":{\"histogram2dcontour\":[{\"type\":\"histogram2dcontour\",\"colorbar\":{\"outlinewidth\":0,\"ticks\":\"\"},\"colorscale\":[[0.0,\"#0d0887\"],[0.1111111111111111,\"#46039f\"],[0.2222222222222222,\"#7201a8\"],[0.3333333333333333,\"#9c179e\"],[0.4444444444444444,\"#bd3786\"],[0.5555555555555556,\"#d8576b\"],[0.6666666666666666,\"#ed7953\"],[0.7777777777777778,\"#fb9f3a\"],[0.8888888888888888,\"#fdca26\"],[1.0,\"#f0f921\"]]}],\"choropleth\":[{\"type\":\"choropleth\",\"colorbar\":{\"outlinewidth\":0,\"ticks\":\"\"}}],\"histogram2d\":[{\"type\":\"histogram2d\",\"colorbar\":{\"outlinewidth\":0,\"ticks\":\"\"},\"colorscale\":[[0.0,\"#0d0887\"],[0.1111111111111111,\"#46039f\"],[0.2222222222222222,\"#7201a8\"],[0.3333333333333333,\"#9c179e\"],[0.4444444444444444,\"#bd3786\"],[0.5555555555555556,\"#d8576b\"],[0.6666666666666666,\"#ed7953\"],[0.7777777777777778,\"#fb9f3a\"],[0.8888888888888888,\"#fdca26\"],[1.0,\"#f0f921\"]]}],\"heatmap\":[{\"type\":\"heatmap\",\"colorbar\":{\"outlinewidth\":0,\"ticks\":\"\"},\"colorscale\":[[0.0,\"#0d0887\"],[0.1111111111111111,\"#46039f\"],[0.2222222222222222,\"#7201a8\"],[0.3333333333333333,\"#9c179e\"],[0.4444444444444444,\"#bd3786\"],[0.5555555555555556,\"#d8576b\"],[0.6666666666666666,\"#ed7953\"],[0.7777777777777778,\"#fb9f3a\"],[0.8888888888888888,\"#fdca26\"],[1.0,\"#f0f921\"]]}],\"heatmapgl\":[{\"type\":\"heatmapgl\",\"colorbar\":{\"outlinewidth\":0,\"ticks\":\"\"},\"colorscale\":[[0.0,\"#0d0887\"],[0.1111111111111111,\"#46039f\"],[0.2222222222222222,\"#7201a8\"],[0.3333333333333333,\"#9c179e\"],[0.4444444444444444,\"#bd3786\"],[0.5555555555555556,\"#d8576b\"],[0.6666666666666666,\"#ed7953\"],[0.7777777777777778,\"#fb9f3a\"],[0.8888888888888888,\"#fdca26\"],[1.0,\"#f0f921\"]]}],\"contourcarpet\":[{\"type\":\"contourcarpet\",\"colorbar\":{\"outlinewidth\":0,\"ticks\":\"\"}}],\"contour\":[{\"type\":\"contour\",\"colorbar\":{\"outlinewidth\":0,\"ticks\":\"\"},\"colorscale\":[[0.0,\"#0d0887\"],[0.1111111111111111,\"#46039f\"],[0.2222222222222222,\"#7201a8\"],[0.3333333333333333,\"#9c179e\"],[0.4444444444444444,\"#bd3786\"],[0.5555555555555556,\"#d8576b\"],[0.6666666666666666,\"#ed7953\"],[0.7777777777777778,\"#fb9f3a\"],[0.8888888888888888,\"#fdca26\"],[1.0,\"#f0f921\"]]}],\"surface\":[{\"type\":\"surface\",\"colorbar\":{\"outlinewidth\":0,\"ticks\":\"\"},\"colorscale\":[[0.0,\"#0d0887\"],[0.1111111111111111,\"#46039f\"],[0.2222222222222222,\"#7201a8\"],[0.3333333333333333,\"#9c179e\"],[0.4444444444444444,\"#bd3786\"],[0.5555555555555556,\"#d8576b\"],[0.6666666666666666,\"#ed7953\"],[0.7777777777777778,\"#fb9f3a\"],[0.8888888888888888,\"#fdca26\"],[1.0,\"#f0f921\"]]}],\"mesh3d\":[{\"type\":\"mesh3d\",\"colorbar\":{\"outlinewidth\":0,\"ticks\":\"\"}}],\"scatter\":[{\"fillpattern\":{\"fillmode\":\"overlay\",\"size\":10,\"solidity\":0.2},\"type\":\"scatter\"}],\"parcoords\":[{\"type\":\"parcoords\",\"line\":{\"colorbar\":{\"outlinewidth\":0,\"ticks\":\"\"}}}],\"scatterpolargl\":[{\"type\":\"scatterpolargl\",\"marker\":{\"colorbar\":{\"outlinewidth\":0,\"ticks\":\"\"}}}],\"bar\":[{\"error_x\":{\"color\":\"#2a3f5f\"},\"error_y\":{\"color\":\"#2a3f5f\"},\"marker\":{\"line\":{\"color\":\"#E5ECF6\",\"width\":0.5},\"pattern\":{\"fillmode\":\"overlay\",\"size\":10,\"solidity\":0.2}},\"type\":\"bar\"}],\"scattergeo\":[{\"type\":\"scattergeo\",\"marker\":{\"colorbar\":{\"outlinewidth\":0,\"ticks\":\"\"}}}],\"scatterpolar\":[{\"type\":\"scatterpolar\",\"marker\":{\"colorbar\":{\"outlinewidth\":0,\"ticks\":\"\"}}}],\"histogram\":[{\"marker\":{\"pattern\":{\"fillmode\":\"overlay\",\"size\":10,\"solidity\":0.2}},\"type\":\"histogram\"}],\"scattergl\":[{\"type\":\"scattergl\",\"marker\":{\"colorbar\":{\"outlinewidth\":0,\"ticks\":\"\"}}}],\"scatter3d\":[{\"type\":\"scatter3d\",\"line\":{\"colorbar\":{\"outlinewidth\":0,\"ticks\":\"\"}},\"marker\":{\"colorbar\":{\"outlinewidth\":0,\"ticks\":\"\"}}}],\"scattermapbox\":[{\"type\":\"scattermapbox\",\"marker\":{\"colorbar\":{\"outlinewidth\":0,\"ticks\":\"\"}}}],\"scatterternary\":[{\"type\":\"scatterternary\",\"marker\":{\"colorbar\":{\"outlinewidth\":0,\"ticks\":\"\"}}}],\"scattercarpet\":[{\"type\":\"scattercarpet\",\"marker\":{\"colorbar\":{\"outlinewidth\":0,\"ticks\":\"\"}}}],\"carpet\":[{\"aaxis\":{\"endlinecolor\":\"#2a3f5f\",\"gridcolor\":\"white\",\"linecolor\":\"white\",\"minorgridcolor\":\"white\",\"startlinecolor\":\"#2a3f5f\"},\"baxis\":{\"endlinecolor\":\"#2a3f5f\",\"gridcolor\":\"white\",\"linecolor\":\"white\",\"minorgridcolor\":\"white\",\"startlinecolor\":\"#2a3f5f\"},\"type\":\"carpet\"}],\"table\":[{\"cells\":{\"fill\":{\"color\":\"#EBF0F8\"},\"line\":{\"color\":\"white\"}},\"header\":{\"fill\":{\"color\":\"#C8D4E3\"},\"line\":{\"color\":\"white\"}},\"type\":\"table\"}],\"barpolar\":[{\"marker\":{\"line\":{\"color\":\"#E5ECF6\",\"width\":0.5},\"pattern\":{\"fillmode\":\"overlay\",\"size\":10,\"solidity\":0.2}},\"type\":\"barpolar\"}],\"pie\":[{\"automargin\":true,\"type\":\"pie\"}]},\"layout\":{\"autotypenumbers\":\"strict\",\"colorway\":[\"#636efa\",\"#EF553B\",\"#00cc96\",\"#ab63fa\",\"#FFA15A\",\"#19d3f3\",\"#FF6692\",\"#B6E880\",\"#FF97FF\",\"#FECB52\"],\"font\":{\"color\":\"#2a3f5f\"},\"hovermode\":\"closest\",\"hoverlabel\":{\"align\":\"left\"},\"paper_bgcolor\":\"white\",\"plot_bgcolor\":\"#E5ECF6\",\"polar\":{\"bgcolor\":\"#E5ECF6\",\"angularaxis\":{\"gridcolor\":\"white\",\"linecolor\":\"white\",\"ticks\":\"\"},\"radialaxis\":{\"gridcolor\":\"white\",\"linecolor\":\"white\",\"ticks\":\"\"}},\"ternary\":{\"bgcolor\":\"#E5ECF6\",\"aaxis\":{\"gridcolor\":\"white\",\"linecolor\":\"white\",\"ticks\":\"\"},\"baxis\":{\"gridcolor\":\"white\",\"linecolor\":\"white\",\"ticks\":\"\"},\"caxis\":{\"gridcolor\":\"white\",\"linecolor\":\"white\",\"ticks\":\"\"}},\"coloraxis\":{\"colorbar\":{\"outlinewidth\":0,\"ticks\":\"\"}},\"colorscale\":{\"sequential\":[[0.0,\"#0d0887\"],[0.1111111111111111,\"#46039f\"],[0.2222222222222222,\"#7201a8\"],[0.3333333333333333,\"#9c179e\"],[0.4444444444444444,\"#bd3786\"],[0.5555555555555556,\"#d8576b\"],[0.6666666666666666,\"#ed7953\"],[0.7777777777777778,\"#fb9f3a\"],[0.8888888888888888,\"#fdca26\"],[1.0,\"#f0f921\"]],\"sequentialminus\":[[0.0,\"#0d0887\"],[0.1111111111111111,\"#46039f\"],[0.2222222222222222,\"#7201a8\"],[0.3333333333333333,\"#9c179e\"],[0.4444444444444444,\"#bd3786\"],[0.5555555555555556,\"#d8576b\"],[0.6666666666666666,\"#ed7953\"],[0.7777777777777778,\"#fb9f3a\"],[0.8888888888888888,\"#fdca26\"],[1.0,\"#f0f921\"]],\"diverging\":[[0,\"#8e0152\"],[0.1,\"#c51b7d\"],[0.2,\"#de77ae\"],[0.3,\"#f1b6da\"],[0.4,\"#fde0ef\"],[0.5,\"#f7f7f7\"],[0.6,\"#e6f5d0\"],[0.7,\"#b8e186\"],[0.8,\"#7fbc41\"],[0.9,\"#4d9221\"],[1,\"#276419\"]]},\"xaxis\":{\"gridcolor\":\"white\",\"linecolor\":\"white\",\"ticks\":\"\",\"title\":{\"standoff\":15},\"zerolinecolor\":\"white\",\"automargin\":true,\"zerolinewidth\":2},\"yaxis\":{\"gridcolor\":\"white\",\"linecolor\":\"white\",\"ticks\":\"\",\"title\":{\"standoff\":15},\"zerolinecolor\":\"white\",\"automargin\":true,\"zerolinewidth\":2},\"scene\":{\"xaxis\":{\"backgroundcolor\":\"#E5ECF6\",\"gridcolor\":\"white\",\"linecolor\":\"white\",\"showbackground\":true,\"ticks\":\"\",\"zerolinecolor\":\"white\",\"gridwidth\":2},\"yaxis\":{\"backgroundcolor\":\"#E5ECF6\",\"gridcolor\":\"white\",\"linecolor\":\"white\",\"showbackground\":true,\"ticks\":\"\",\"zerolinecolor\":\"white\",\"gridwidth\":2},\"zaxis\":{\"backgroundcolor\":\"#E5ECF6\",\"gridcolor\":\"white\",\"linecolor\":\"white\",\"showbackground\":true,\"ticks\":\"\",\"zerolinecolor\":\"white\",\"gridwidth\":2}},\"shapedefaults\":{\"line\":{\"color\":\"#2a3f5f\"}},\"annotationdefaults\":{\"arrowcolor\":\"#2a3f5f\",\"arrowhead\":0,\"arrowwidth\":1},\"geo\":{\"bgcolor\":\"white\",\"landcolor\":\"#E5ECF6\",\"subunitcolor\":\"white\",\"showland\":true,\"showlakes\":true,\"lakecolor\":\"white\"},\"title\":{\"x\":0.05},\"mapbox\":{\"style\":\"light\"}}},\"xaxis\":{\"anchor\":\"y\",\"domain\":[0.0,1.0],\"title\":{\"text\":\"Year\"}},\"yaxis\":{\"anchor\":\"x\",\"domain\":[0.0,1.0],\"title\":{\"text\":\"Number of Notes Issued\"}},\"legend\":{\"title\":{\"text\":\"variable\"},\"tracegroupgap\":0},\"title\":{\"text\":\"NOTES AND COINS IN CIRCULATION  (Rupees Crore)\"}},                        {\"responsive\": true}                    ).then(function(){\n",
       "                            \n",
       "var gd = document.getElementById('9ded8a12-c299-4fc7-8ef0-debc0dcbf2ae');\n",
       "var x = new MutationObserver(function (mutations, observer) {{\n",
       "        var display = window.getComputedStyle(gd).display;\n",
       "        if (!display || display === 'none') {{\n",
       "            console.log([gd, 'removed!']);\n",
       "            Plotly.purge(gd);\n",
       "            observer.disconnect();\n",
       "        }}\n",
       "}});\n",
       "\n",
       "// Listen for the removal of the full notebook cells\n",
       "var notebookContainer = gd.closest('#notebook-container');\n",
       "if (notebookContainer) {{\n",
       "    x.observe(notebookContainer, {childList: true});\n",
       "}}\n",
       "\n",
       "// Listen for the clearing of the current output cell\n",
       "var outputEl = gd.closest('.output');\n",
       "if (outputEl) {{\n",
       "    x.observe(outputEl, {childList: true});\n",
       "}}\n",
       "\n",
       "                        })                };                });            </script>        </div>"
      ]
     },
     "metadata": {},
     "output_type": "display_data"
    },
    {
     "data": {
      "application/vnd.plotly.v1+json": {
       "config": {
        "plotlyServerURL": "https://plot.ly"
       },
       "data": [
        {
         "hovertemplate": "variable=Small Coins<br>Year=%{x}<br>value=%{y}<extra></extra>",
         "legendgroup": "Small Coins",
         "line": {
          "color": "#636efa",
          "dash": "solid"
         },
         "marker": {
          "symbol": "circle"
         },
         "mode": "lines",
         "name": "Small Coins",
         "orientation": "v",
         "showlegend": true,
         "type": "scatter",
         "x": [
          "2021-01-01T00:00:00",
          "2020-01-01T00:00:00",
          "2019-01-01T00:00:00",
          "2018-01-01T00:00:00",
          "2017-01-01T00:00:00",
          "2016-01-01T00:00:00",
          "2015-01-01T00:00:00",
          "2014-01-01T00:00:00",
          "2013-01-01T00:00:00",
          "2012-01-01T00:00:00",
          "2011-01-01T00:00:00",
          "2010-01-01T00:00:00",
          "2009-01-01T00:00:00",
          "2008-01-01T00:00:00",
          "2007-01-01T00:00:00",
          "2006-01-01T00:00:00",
          "2005-01-01T00:00:00",
          "2004-01-01T00:00:00",
          "2003-01-01T00:00:00",
          "2002-01-01T00:00:00",
          "2001-01-01T00:00:00",
          "2000-01-01T00:00:00",
          "1999-01-01T00:00:00",
          "1998-01-01T00:00:00",
          "1997-01-01T00:00:00",
          "1996-01-01T00:00:00",
          "1995-01-01T00:00:00",
          "1994-01-01T00:00:00",
          "1993-01-01T00:00:00",
          "1992-01-01T00:00:00",
          "1991-01-01T00:00:00",
          "1990-01-01T00:00:00",
          "1989-01-01T00:00:00",
          "1988-01-01T00:00:00",
          "1987-01-01T00:00:00",
          "1986-01-01T00:00:00",
          "1985-01-01T00:00:00",
          "1984-01-01T00:00:00",
          "1983-01-01T00:00:00",
          "1982-01-01T00:00:00",
          "1981-01-01T00:00:00",
          "1980-01-01T00:00:00",
          "1979-01-01T00:00:00",
          "1978-01-01T00:00:00",
          "1977-01-01T00:00:00",
          "1976-01-01T00:00:00",
          "1975-01-01T00:00:00",
          "1974-01-01T00:00:00",
          "1973-01-01T00:00:00",
          "1972-01-01T00:00:00",
          "1971-01-01T00:00:00",
          "1970-01-01T00:00:00"
         ],
         "xaxis": "x",
         "y": [
          700,
          700,
          700,
          700,
          700,
          700,
          700,
          700,
          700,
          700,
          739,
          1458,
          1455,
          1455,
          1455,
          1364,
          1358,
          1353,
          1353,
          1346,
          1328,
          1300,
          1188,
          1116,
          1055,
          991,
          940,
          881,
          829,
          780,
          729,
          685,
          640,
          539,
          498,
          439,
          366,
          307,
          290,
          277,
          263,
          243,
          null,
          null,
          null,
          null,
          null,
          null,
          null,
          null,
          null,
          null
         ],
         "yaxis": "y"
        },
        {
         "hovertemplate": "variable=Re. 1 Coins<br>Year=%{x}<br>value=%{y}<extra></extra>",
         "legendgroup": "Re. 1 Coins",
         "line": {
          "color": "#EF553B",
          "dash": "solid"
         },
         "marker": {
          "symbol": "circle"
         },
         "mode": "lines",
         "name": "Re. 1 Coins",
         "orientation": "v",
         "showlegend": true,
         "type": "scatter",
         "x": [
          "2021-01-01T00:00:00",
          "2020-01-01T00:00:00",
          "2019-01-01T00:00:00",
          "2018-01-01T00:00:00",
          "2017-01-01T00:00:00",
          "2016-01-01T00:00:00",
          "2015-01-01T00:00:00",
          "2014-01-01T00:00:00",
          "2013-01-01T00:00:00",
          "2012-01-01T00:00:00",
          "2011-01-01T00:00:00",
          "2010-01-01T00:00:00",
          "2009-01-01T00:00:00",
          "2008-01-01T00:00:00",
          "2007-01-01T00:00:00",
          "2006-01-01T00:00:00",
          "2005-01-01T00:00:00",
          "2004-01-01T00:00:00",
          "2003-01-01T00:00:00",
          "2002-01-01T00:00:00",
          "2001-01-01T00:00:00",
          "2000-01-01T00:00:00",
          "1999-01-01T00:00:00",
          "1998-01-01T00:00:00",
          "1997-01-01T00:00:00",
          "1996-01-01T00:00:00",
          "1995-01-01T00:00:00",
          "1994-01-01T00:00:00",
          "1993-01-01T00:00:00",
          "1992-01-01T00:00:00",
          "1991-01-01T00:00:00",
          "1990-01-01T00:00:00",
          "1989-01-01T00:00:00",
          "1988-01-01T00:00:00",
          "1987-01-01T00:00:00",
          "1986-01-01T00:00:00",
          "1985-01-01T00:00:00",
          "1984-01-01T00:00:00",
          "1983-01-01T00:00:00",
          "1982-01-01T00:00:00",
          "1981-01-01T00:00:00",
          "1980-01-01T00:00:00",
          "1979-01-01T00:00:00",
          "1978-01-01T00:00:00",
          "1977-01-01T00:00:00",
          "1976-01-01T00:00:00",
          "1975-01-01T00:00:00",
          "1974-01-01T00:00:00",
          "1973-01-01T00:00:00",
          "1972-01-01T00:00:00",
          "1971-01-01T00:00:00",
          "1970-01-01T00:00:00"
         ],
         "xaxis": "x",
         "y": [
          4777,
          4749,
          4719,
          4673,
          4963,
          4514,
          4178,
          3863,
          3842,
          3289,
          3142,
          2968,
          2647,
          2396,
          2214,
          2029,
          1894,
          1790,
          1757,
          1692,
          1547,
          1393,
          1260,
          1076,
          969,
          900,
          848,
          795,
          705,
          null,
          null,
          616,
          583,
          547,
          501,
          423,
          308,
          237,
          303,
          172,
          154,
          141,
          126,
          110,
          96,
          75,
          53,
          46,
          46,
          45,
          43,
          43
         ],
         "yaxis": "y"
        },
        {
         "hovertemplate": "variable=Rs. 2 Coins<br>Year=%{x}<br>value=%{y}<extra></extra>",
         "legendgroup": "Rs. 2 Coins",
         "line": {
          "color": "#00cc96",
          "dash": "solid"
         },
         "marker": {
          "symbol": "circle"
         },
         "mode": "lines",
         "name": "Rs. 2 Coins",
         "orientation": "v",
         "showlegend": true,
         "type": "scatter",
         "x": [
          "2021-01-01T00:00:00",
          "2020-01-01T00:00:00",
          "2019-01-01T00:00:00",
          "2018-01-01T00:00:00",
          "2017-01-01T00:00:00",
          "2016-01-01T00:00:00",
          "2015-01-01T00:00:00",
          "2014-01-01T00:00:00",
          "2013-01-01T00:00:00",
          "2012-01-01T00:00:00",
          "2011-01-01T00:00:00",
          "2010-01-01T00:00:00",
          "2009-01-01T00:00:00",
          "2008-01-01T00:00:00",
          "2007-01-01T00:00:00",
          "2006-01-01T00:00:00",
          "2005-01-01T00:00:00",
          "2004-01-01T00:00:00",
          "2003-01-01T00:00:00",
          "2002-01-01T00:00:00",
          "2001-01-01T00:00:00",
          "2000-01-01T00:00:00",
          "1999-01-01T00:00:00",
          "1998-01-01T00:00:00",
          "1997-01-01T00:00:00",
          "1996-01-01T00:00:00",
          "1995-01-01T00:00:00",
          "1994-01-01T00:00:00",
          "1993-01-01T00:00:00",
          "1992-01-01T00:00:00",
          "1991-01-01T00:00:00",
          "1990-01-01T00:00:00",
          "1989-01-01T00:00:00",
          "1988-01-01T00:00:00",
          "1987-01-01T00:00:00",
          "1986-01-01T00:00:00",
          "1985-01-01T00:00:00",
          "1984-01-01T00:00:00",
          "1983-01-01T00:00:00",
          "1982-01-01T00:00:00",
          "1981-01-01T00:00:00",
          "1980-01-01T00:00:00",
          "1979-01-01T00:00:00",
          "1978-01-01T00:00:00",
          "1977-01-01T00:00:00",
          "1976-01-01T00:00:00",
          "1975-01-01T00:00:00",
          "1974-01-01T00:00:00",
          "1973-01-01T00:00:00",
          "1972-01-01T00:00:00",
          "1971-01-01T00:00:00",
          "1970-01-01T00:00:00"
         ],
         "xaxis": "x",
         "y": [
          6816,
          6757,
          6703,
          6631,
          6571,
          6411,
          5926,
          5407,
          4965,
          4423,
          3640,
          3068,
          2640,
          2236,
          1907,
          1488,
          1365,
          1290,
          1255,
          1210,
          1062,
          814,
          672,
          497,
          352,
          286,
          226,
          159,
          85,
          37,
          10,
          23,
          null,
          null,
          null,
          null,
          null,
          null,
          null,
          null,
          null,
          null,
          null,
          null,
          null,
          null,
          null,
          null,
          null,
          null,
          null,
          null
         ],
         "yaxis": "y"
        },
        {
         "hovertemplate": "variable=Rs. 5 Coins<br>Year=%{x}<br>value=%{y}<extra></extra>",
         "legendgroup": "Rs. 5 Coins",
         "line": {
          "color": "#ab63fa",
          "dash": "solid"
         },
         "marker": {
          "symbol": "circle"
         },
         "mode": "lines",
         "name": "Rs. 5 Coins",
         "orientation": "v",
         "showlegend": true,
         "type": "scatter",
         "x": [
          "2021-01-01T00:00:00",
          "2020-01-01T00:00:00",
          "2019-01-01T00:00:00",
          "2018-01-01T00:00:00",
          "2017-01-01T00:00:00",
          "2016-01-01T00:00:00",
          "2015-01-01T00:00:00",
          "2014-01-01T00:00:00",
          "2013-01-01T00:00:00",
          "2012-01-01T00:00:00",
          "2011-01-01T00:00:00",
          "2010-01-01T00:00:00",
          "2009-01-01T00:00:00",
          "2008-01-01T00:00:00",
          "2007-01-01T00:00:00",
          "2006-01-01T00:00:00",
          "2005-01-01T00:00:00",
          "2004-01-01T00:00:00",
          "2003-01-01T00:00:00",
          "2002-01-01T00:00:00",
          "2001-01-01T00:00:00",
          "2000-01-01T00:00:00",
          "1999-01-01T00:00:00",
          "1998-01-01T00:00:00",
          "1997-01-01T00:00:00",
          "1996-01-01T00:00:00",
          "1995-01-01T00:00:00",
          "1994-01-01T00:00:00",
          "1993-01-01T00:00:00",
          "1992-01-01T00:00:00",
          "1991-01-01T00:00:00",
          "1990-01-01T00:00:00",
          "1989-01-01T00:00:00",
          "1988-01-01T00:00:00",
          "1987-01-01T00:00:00",
          "1986-01-01T00:00:00",
          "1985-01-01T00:00:00",
          "1984-01-01T00:00:00",
          "1983-01-01T00:00:00",
          "1982-01-01T00:00:00",
          "1981-01-01T00:00:00",
          "1980-01-01T00:00:00",
          "1979-01-01T00:00:00",
          "1978-01-01T00:00:00",
          "1977-01-01T00:00:00",
          "1976-01-01T00:00:00",
          "1975-01-01T00:00:00",
          "1974-01-01T00:00:00",
          "1973-01-01T00:00:00",
          "1972-01-01T00:00:00",
          "1971-01-01T00:00:00",
          "1970-01-01T00:00:00"
         ],
         "xaxis": "x",
         "y": [
          9217,
          8968,
          8800,
          8576,
          8324,
          7891,
          7045,
          6380,
          5789,
          5338,
          4990,
          4535,
          3880,
          3570,
          3249,
          2880,
          2735,
          2619,
          2535,
          2419,
          2025,
          1544,
          1164,
          856,
          672,
          440,
          183,
          115,
          58,
          5,
          null,
          null,
          20,
          null,
          null,
          17,
          20,
          null,
          null,
          null,
          null,
          null,
          null,
          null,
          null,
          null,
          null,
          null,
          null,
          null,
          null,
          null
         ],
         "yaxis": "y"
        },
        {
         "hovertemplate": "variable=Rs. 10 Coins<br>Year=%{x}<br>value=%{y}<extra></extra>",
         "legendgroup": "Rs. 10 Coins",
         "line": {
          "color": "#FFA15A",
          "dash": "solid"
         },
         "marker": {
          "symbol": "circle"
         },
         "mode": "lines",
         "name": "Rs. 10 Coins",
         "orientation": "v",
         "showlegend": true,
         "type": "scatter",
         "x": [
          "2021-01-01T00:00:00",
          "2020-01-01T00:00:00",
          "2019-01-01T00:00:00",
          "2018-01-01T00:00:00",
          "2017-01-01T00:00:00",
          "2016-01-01T00:00:00",
          "2015-01-01T00:00:00",
          "2014-01-01T00:00:00",
          "2013-01-01T00:00:00",
          "2012-01-01T00:00:00",
          "2011-01-01T00:00:00",
          "2010-01-01T00:00:00",
          "2009-01-01T00:00:00",
          "2008-01-01T00:00:00",
          "2007-01-01T00:00:00",
          "2006-01-01T00:00:00",
          "2005-01-01T00:00:00",
          "2004-01-01T00:00:00",
          "2003-01-01T00:00:00",
          "2002-01-01T00:00:00",
          "2001-01-01T00:00:00",
          "2000-01-01T00:00:00",
          "1999-01-01T00:00:00",
          "1998-01-01T00:00:00",
          "1997-01-01T00:00:00",
          "1996-01-01T00:00:00",
          "1995-01-01T00:00:00",
          "1994-01-01T00:00:00",
          "1993-01-01T00:00:00",
          "1992-01-01T00:00:00",
          "1991-01-01T00:00:00",
          "1990-01-01T00:00:00",
          "1989-01-01T00:00:00",
          "1988-01-01T00:00:00",
          "1987-01-01T00:00:00",
          "1986-01-01T00:00:00",
          "1985-01-01T00:00:00",
          "1984-01-01T00:00:00",
          "1983-01-01T00:00:00",
          "1982-01-01T00:00:00",
          "1981-01-01T00:00:00",
          "1980-01-01T00:00:00",
          "1979-01-01T00:00:00",
          "1978-01-01T00:00:00",
          "1977-01-01T00:00:00",
          "1976-01-01T00:00:00",
          "1975-01-01T00:00:00",
          "1974-01-01T00:00:00",
          "1973-01-01T00:00:00",
          "1972-01-01T00:00:00",
          "1971-01-01T00:00:00",
          "1970-01-01T00:00:00"
         ],
         "xaxis": "x",
         "y": [
          5404,
          5139,
          5013,
          4905,
          5049,
          5204,
          3703,
          2750,
          2017,
          1267,
          648,
          300,
          149,
          null,
          null,
          null,
          null,
          null,
          null,
          null,
          null,
          null,
          null,
          null,
          null,
          null,
          null,
          null,
          null,
          null,
          null,
          null,
          null,
          null,
          null,
          null,
          null,
          null,
          null,
          null,
          null,
          null,
          null,
          null,
          null,
          null,
          null,
          null,
          null,
          null,
          null,
          null
         ],
         "yaxis": "y"
        },
        {
         "hovertemplate": "variable=Re. 20 Coins<br>Year=%{x}<br>value=%{y}<extra></extra>",
         "legendgroup": "Re. 20 Coins",
         "line": {
          "color": "#19d3f3",
          "dash": "solid"
         },
         "marker": {
          "symbol": "circle"
         },
         "mode": "lines",
         "name": "Re. 20 Coins",
         "orientation": "v",
         "showlegend": true,
         "type": "scatter",
         "x": [
          "2021-01-01T00:00:00",
          "2020-01-01T00:00:00",
          "2019-01-01T00:00:00",
          "2018-01-01T00:00:00",
          "2017-01-01T00:00:00",
          "2016-01-01T00:00:00",
          "2015-01-01T00:00:00",
          "2014-01-01T00:00:00",
          "2013-01-01T00:00:00",
          "2012-01-01T00:00:00",
          "2011-01-01T00:00:00",
          "2010-01-01T00:00:00",
          "2009-01-01T00:00:00",
          "2008-01-01T00:00:00",
          "2007-01-01T00:00:00",
          "2006-01-01T00:00:00",
          "2005-01-01T00:00:00",
          "2004-01-01T00:00:00",
          "2003-01-01T00:00:00",
          "2002-01-01T00:00:00",
          "2001-01-01T00:00:00",
          "2000-01-01T00:00:00",
          "1999-01-01T00:00:00",
          "1998-01-01T00:00:00",
          "1997-01-01T00:00:00",
          "1996-01-01T00:00:00",
          "1995-01-01T00:00:00",
          "1994-01-01T00:00:00",
          "1993-01-01T00:00:00",
          "1992-01-01T00:00:00",
          "1991-01-01T00:00:00",
          "1990-01-01T00:00:00",
          "1989-01-01T00:00:00",
          "1988-01-01T00:00:00",
          "1987-01-01T00:00:00",
          "1986-01-01T00:00:00",
          "1985-01-01T00:00:00",
          "1984-01-01T00:00:00",
          "1983-01-01T00:00:00",
          "1982-01-01T00:00:00",
          "1981-01-01T00:00:00",
          "1980-01-01T00:00:00",
          "1979-01-01T00:00:00",
          "1978-01-01T00:00:00",
          "1977-01-01T00:00:00",
          "1976-01-01T00:00:00",
          "1975-01-01T00:00:00",
          "1974-01-01T00:00:00",
          "1973-01-01T00:00:00",
          "1972-01-01T00:00:00",
          "1971-01-01T00:00:00",
          "1970-01-01T00:00:00"
         ],
         "xaxis": "x",
         "y": [
          674,
          179,
          null,
          null,
          null,
          null,
          null,
          null,
          null,
          null,
          null,
          null,
          null,
          null,
          null,
          null,
          null,
          null,
          null,
          null,
          null,
          null,
          null,
          null,
          null,
          null,
          null,
          null,
          null,
          null,
          null,
          null,
          null,
          null,
          null,
          null,
          null,
          null,
          null,
          null,
          null,
          null,
          null,
          null,
          null,
          null,
          null,
          null,
          null,
          null,
          null,
          null
         ],
         "yaxis": "y"
        }
       ],
       "layout": {
        "legend": {
         "title": {
          "text": "variable"
         },
         "tracegroupgap": 0
        },
        "template": {
         "data": {
          "bar": [
           {
            "error_x": {
             "color": "#2a3f5f"
            },
            "error_y": {
             "color": "#2a3f5f"
            },
            "marker": {
             "line": {
              "color": "#E5ECF6",
              "width": 0.5
             },
             "pattern": {
              "fillmode": "overlay",
              "size": 10,
              "solidity": 0.2
             }
            },
            "type": "bar"
           }
          ],
          "barpolar": [
           {
            "marker": {
             "line": {
              "color": "#E5ECF6",
              "width": 0.5
             },
             "pattern": {
              "fillmode": "overlay",
              "size": 10,
              "solidity": 0.2
             }
            },
            "type": "barpolar"
           }
          ],
          "carpet": [
           {
            "aaxis": {
             "endlinecolor": "#2a3f5f",
             "gridcolor": "white",
             "linecolor": "white",
             "minorgridcolor": "white",
             "startlinecolor": "#2a3f5f"
            },
            "baxis": {
             "endlinecolor": "#2a3f5f",
             "gridcolor": "white",
             "linecolor": "white",
             "minorgridcolor": "white",
             "startlinecolor": "#2a3f5f"
            },
            "type": "carpet"
           }
          ],
          "choropleth": [
           {
            "colorbar": {
             "outlinewidth": 0,
             "ticks": ""
            },
            "type": "choropleth"
           }
          ],
          "contour": [
           {
            "colorbar": {
             "outlinewidth": 0,
             "ticks": ""
            },
            "colorscale": [
             [
              0,
              "#0d0887"
             ],
             [
              0.1111111111111111,
              "#46039f"
             ],
             [
              0.2222222222222222,
              "#7201a8"
             ],
             [
              0.3333333333333333,
              "#9c179e"
             ],
             [
              0.4444444444444444,
              "#bd3786"
             ],
             [
              0.5555555555555556,
              "#d8576b"
             ],
             [
              0.6666666666666666,
              "#ed7953"
             ],
             [
              0.7777777777777778,
              "#fb9f3a"
             ],
             [
              0.8888888888888888,
              "#fdca26"
             ],
             [
              1,
              "#f0f921"
             ]
            ],
            "type": "contour"
           }
          ],
          "contourcarpet": [
           {
            "colorbar": {
             "outlinewidth": 0,
             "ticks": ""
            },
            "type": "contourcarpet"
           }
          ],
          "heatmap": [
           {
            "colorbar": {
             "outlinewidth": 0,
             "ticks": ""
            },
            "colorscale": [
             [
              0,
              "#0d0887"
             ],
             [
              0.1111111111111111,
              "#46039f"
             ],
             [
              0.2222222222222222,
              "#7201a8"
             ],
             [
              0.3333333333333333,
              "#9c179e"
             ],
             [
              0.4444444444444444,
              "#bd3786"
             ],
             [
              0.5555555555555556,
              "#d8576b"
             ],
             [
              0.6666666666666666,
              "#ed7953"
             ],
             [
              0.7777777777777778,
              "#fb9f3a"
             ],
             [
              0.8888888888888888,
              "#fdca26"
             ],
             [
              1,
              "#f0f921"
             ]
            ],
            "type": "heatmap"
           }
          ],
          "heatmapgl": [
           {
            "colorbar": {
             "outlinewidth": 0,
             "ticks": ""
            },
            "colorscale": [
             [
              0,
              "#0d0887"
             ],
             [
              0.1111111111111111,
              "#46039f"
             ],
             [
              0.2222222222222222,
              "#7201a8"
             ],
             [
              0.3333333333333333,
              "#9c179e"
             ],
             [
              0.4444444444444444,
              "#bd3786"
             ],
             [
              0.5555555555555556,
              "#d8576b"
             ],
             [
              0.6666666666666666,
              "#ed7953"
             ],
             [
              0.7777777777777778,
              "#fb9f3a"
             ],
             [
              0.8888888888888888,
              "#fdca26"
             ],
             [
              1,
              "#f0f921"
             ]
            ],
            "type": "heatmapgl"
           }
          ],
          "histogram": [
           {
            "marker": {
             "pattern": {
              "fillmode": "overlay",
              "size": 10,
              "solidity": 0.2
             }
            },
            "type": "histogram"
           }
          ],
          "histogram2d": [
           {
            "colorbar": {
             "outlinewidth": 0,
             "ticks": ""
            },
            "colorscale": [
             [
              0,
              "#0d0887"
             ],
             [
              0.1111111111111111,
              "#46039f"
             ],
             [
              0.2222222222222222,
              "#7201a8"
             ],
             [
              0.3333333333333333,
              "#9c179e"
             ],
             [
              0.4444444444444444,
              "#bd3786"
             ],
             [
              0.5555555555555556,
              "#d8576b"
             ],
             [
              0.6666666666666666,
              "#ed7953"
             ],
             [
              0.7777777777777778,
              "#fb9f3a"
             ],
             [
              0.8888888888888888,
              "#fdca26"
             ],
             [
              1,
              "#f0f921"
             ]
            ],
            "type": "histogram2d"
           }
          ],
          "histogram2dcontour": [
           {
            "colorbar": {
             "outlinewidth": 0,
             "ticks": ""
            },
            "colorscale": [
             [
              0,
              "#0d0887"
             ],
             [
              0.1111111111111111,
              "#46039f"
             ],
             [
              0.2222222222222222,
              "#7201a8"
             ],
             [
              0.3333333333333333,
              "#9c179e"
             ],
             [
              0.4444444444444444,
              "#bd3786"
             ],
             [
              0.5555555555555556,
              "#d8576b"
             ],
             [
              0.6666666666666666,
              "#ed7953"
             ],
             [
              0.7777777777777778,
              "#fb9f3a"
             ],
             [
              0.8888888888888888,
              "#fdca26"
             ],
             [
              1,
              "#f0f921"
             ]
            ],
            "type": "histogram2dcontour"
           }
          ],
          "mesh3d": [
           {
            "colorbar": {
             "outlinewidth": 0,
             "ticks": ""
            },
            "type": "mesh3d"
           }
          ],
          "parcoords": [
           {
            "line": {
             "colorbar": {
              "outlinewidth": 0,
              "ticks": ""
             }
            },
            "type": "parcoords"
           }
          ],
          "pie": [
           {
            "automargin": true,
            "type": "pie"
           }
          ],
          "scatter": [
           {
            "fillpattern": {
             "fillmode": "overlay",
             "size": 10,
             "solidity": 0.2
            },
            "type": "scatter"
           }
          ],
          "scatter3d": [
           {
            "line": {
             "colorbar": {
              "outlinewidth": 0,
              "ticks": ""
             }
            },
            "marker": {
             "colorbar": {
              "outlinewidth": 0,
              "ticks": ""
             }
            },
            "type": "scatter3d"
           }
          ],
          "scattercarpet": [
           {
            "marker": {
             "colorbar": {
              "outlinewidth": 0,
              "ticks": ""
             }
            },
            "type": "scattercarpet"
           }
          ],
          "scattergeo": [
           {
            "marker": {
             "colorbar": {
              "outlinewidth": 0,
              "ticks": ""
             }
            },
            "type": "scattergeo"
           }
          ],
          "scattergl": [
           {
            "marker": {
             "colorbar": {
              "outlinewidth": 0,
              "ticks": ""
             }
            },
            "type": "scattergl"
           }
          ],
          "scattermapbox": [
           {
            "marker": {
             "colorbar": {
              "outlinewidth": 0,
              "ticks": ""
             }
            },
            "type": "scattermapbox"
           }
          ],
          "scatterpolar": [
           {
            "marker": {
             "colorbar": {
              "outlinewidth": 0,
              "ticks": ""
             }
            },
            "type": "scatterpolar"
           }
          ],
          "scatterpolargl": [
           {
            "marker": {
             "colorbar": {
              "outlinewidth": 0,
              "ticks": ""
             }
            },
            "type": "scatterpolargl"
           }
          ],
          "scatterternary": [
           {
            "marker": {
             "colorbar": {
              "outlinewidth": 0,
              "ticks": ""
             }
            },
            "type": "scatterternary"
           }
          ],
          "surface": [
           {
            "colorbar": {
             "outlinewidth": 0,
             "ticks": ""
            },
            "colorscale": [
             [
              0,
              "#0d0887"
             ],
             [
              0.1111111111111111,
              "#46039f"
             ],
             [
              0.2222222222222222,
              "#7201a8"
             ],
             [
              0.3333333333333333,
              "#9c179e"
             ],
             [
              0.4444444444444444,
              "#bd3786"
             ],
             [
              0.5555555555555556,
              "#d8576b"
             ],
             [
              0.6666666666666666,
              "#ed7953"
             ],
             [
              0.7777777777777778,
              "#fb9f3a"
             ],
             [
              0.8888888888888888,
              "#fdca26"
             ],
             [
              1,
              "#f0f921"
             ]
            ],
            "type": "surface"
           }
          ],
          "table": [
           {
            "cells": {
             "fill": {
              "color": "#EBF0F8"
             },
             "line": {
              "color": "white"
             }
            },
            "header": {
             "fill": {
              "color": "#C8D4E3"
             },
             "line": {
              "color": "white"
             }
            },
            "type": "table"
           }
          ]
         },
         "layout": {
          "annotationdefaults": {
           "arrowcolor": "#2a3f5f",
           "arrowhead": 0,
           "arrowwidth": 1
          },
          "autotypenumbers": "strict",
          "coloraxis": {
           "colorbar": {
            "outlinewidth": 0,
            "ticks": ""
           }
          },
          "colorscale": {
           "diverging": [
            [
             0,
             "#8e0152"
            ],
            [
             0.1,
             "#c51b7d"
            ],
            [
             0.2,
             "#de77ae"
            ],
            [
             0.3,
             "#f1b6da"
            ],
            [
             0.4,
             "#fde0ef"
            ],
            [
             0.5,
             "#f7f7f7"
            ],
            [
             0.6,
             "#e6f5d0"
            ],
            [
             0.7,
             "#b8e186"
            ],
            [
             0.8,
             "#7fbc41"
            ],
            [
             0.9,
             "#4d9221"
            ],
            [
             1,
             "#276419"
            ]
           ],
           "sequential": [
            [
             0,
             "#0d0887"
            ],
            [
             0.1111111111111111,
             "#46039f"
            ],
            [
             0.2222222222222222,
             "#7201a8"
            ],
            [
             0.3333333333333333,
             "#9c179e"
            ],
            [
             0.4444444444444444,
             "#bd3786"
            ],
            [
             0.5555555555555556,
             "#d8576b"
            ],
            [
             0.6666666666666666,
             "#ed7953"
            ],
            [
             0.7777777777777778,
             "#fb9f3a"
            ],
            [
             0.8888888888888888,
             "#fdca26"
            ],
            [
             1,
             "#f0f921"
            ]
           ],
           "sequentialminus": [
            [
             0,
             "#0d0887"
            ],
            [
             0.1111111111111111,
             "#46039f"
            ],
            [
             0.2222222222222222,
             "#7201a8"
            ],
            [
             0.3333333333333333,
             "#9c179e"
            ],
            [
             0.4444444444444444,
             "#bd3786"
            ],
            [
             0.5555555555555556,
             "#d8576b"
            ],
            [
             0.6666666666666666,
             "#ed7953"
            ],
            [
             0.7777777777777778,
             "#fb9f3a"
            ],
            [
             0.8888888888888888,
             "#fdca26"
            ],
            [
             1,
             "#f0f921"
            ]
           ]
          },
          "colorway": [
           "#636efa",
           "#EF553B",
           "#00cc96",
           "#ab63fa",
           "#FFA15A",
           "#19d3f3",
           "#FF6692",
           "#B6E880",
           "#FF97FF",
           "#FECB52"
          ],
          "font": {
           "color": "#2a3f5f"
          },
          "geo": {
           "bgcolor": "white",
           "lakecolor": "white",
           "landcolor": "#E5ECF6",
           "showlakes": true,
           "showland": true,
           "subunitcolor": "white"
          },
          "hoverlabel": {
           "align": "left"
          },
          "hovermode": "closest",
          "mapbox": {
           "style": "light"
          },
          "paper_bgcolor": "white",
          "plot_bgcolor": "#E5ECF6",
          "polar": {
           "angularaxis": {
            "gridcolor": "white",
            "linecolor": "white",
            "ticks": ""
           },
           "bgcolor": "#E5ECF6",
           "radialaxis": {
            "gridcolor": "white",
            "linecolor": "white",
            "ticks": ""
           }
          },
          "scene": {
           "xaxis": {
            "backgroundcolor": "#E5ECF6",
            "gridcolor": "white",
            "gridwidth": 2,
            "linecolor": "white",
            "showbackground": true,
            "ticks": "",
            "zerolinecolor": "white"
           },
           "yaxis": {
            "backgroundcolor": "#E5ECF6",
            "gridcolor": "white",
            "gridwidth": 2,
            "linecolor": "white",
            "showbackground": true,
            "ticks": "",
            "zerolinecolor": "white"
           },
           "zaxis": {
            "backgroundcolor": "#E5ECF6",
            "gridcolor": "white",
            "gridwidth": 2,
            "linecolor": "white",
            "showbackground": true,
            "ticks": "",
            "zerolinecolor": "white"
           }
          },
          "shapedefaults": {
           "line": {
            "color": "#2a3f5f"
           }
          },
          "ternary": {
           "aaxis": {
            "gridcolor": "white",
            "linecolor": "white",
            "ticks": ""
           },
           "baxis": {
            "gridcolor": "white",
            "linecolor": "white",
            "ticks": ""
           },
           "bgcolor": "#E5ECF6",
           "caxis": {
            "gridcolor": "white",
            "linecolor": "white",
            "ticks": ""
           }
          },
          "title": {
           "x": 0.05
          },
          "xaxis": {
           "automargin": true,
           "gridcolor": "white",
           "linecolor": "white",
           "ticks": "",
           "title": {
            "standoff": 15
           },
           "zerolinecolor": "white",
           "zerolinewidth": 2
          },
          "yaxis": {
           "automargin": true,
           "gridcolor": "white",
           "linecolor": "white",
           "ticks": "",
           "title": {
            "standoff": 15
           },
           "zerolinecolor": "white",
           "zerolinewidth": 2
          }
         }
        },
        "title": {
         "text": "NOTES AND COINS IN CIRCULATION  (Rupees Crore)"
        },
        "xaxis": {
         "anchor": "y",
         "domain": [
          0,
          1
         ],
         "title": {
          "text": "Year"
         }
        },
        "yaxis": {
         "anchor": "x",
         "domain": [
          0,
          1
         ],
         "title": {
          "text": "Number of coins Issued"
         }
        }
       }
      },
      "text/html": [
       "<div>                            <div id=\"2f8cd5ae-00ce-4f35-a53a-a541a247b35b\" class=\"plotly-graph-div\" style=\"height:525px; width:100%;\"></div>            <script type=\"text/javascript\">                require([\"plotly\"], function(Plotly) {                    window.PLOTLYENV=window.PLOTLYENV || {};                                    if (document.getElementById(\"2f8cd5ae-00ce-4f35-a53a-a541a247b35b\")) {                    Plotly.newPlot(                        \"2f8cd5ae-00ce-4f35-a53a-a541a247b35b\",                        [{\"hovertemplate\":\"variable=Small Coins<br>Year=%{x}<br>value=%{y}<extra></extra>\",\"legendgroup\":\"Small Coins\",\"line\":{\"color\":\"#636efa\",\"dash\":\"solid\"},\"marker\":{\"symbol\":\"circle\"},\"mode\":\"lines\",\"name\":\"Small Coins\",\"orientation\":\"v\",\"showlegend\":true,\"x\":[\"2021-01-01T00:00:00\",\"2020-01-01T00:00:00\",\"2019-01-01T00:00:00\",\"2018-01-01T00:00:00\",\"2017-01-01T00:00:00\",\"2016-01-01T00:00:00\",\"2015-01-01T00:00:00\",\"2014-01-01T00:00:00\",\"2013-01-01T00:00:00\",\"2012-01-01T00:00:00\",\"2011-01-01T00:00:00\",\"2010-01-01T00:00:00\",\"2009-01-01T00:00:00\",\"2008-01-01T00:00:00\",\"2007-01-01T00:00:00\",\"2006-01-01T00:00:00\",\"2005-01-01T00:00:00\",\"2004-01-01T00:00:00\",\"2003-01-01T00:00:00\",\"2002-01-01T00:00:00\",\"2001-01-01T00:00:00\",\"2000-01-01T00:00:00\",\"1999-01-01T00:00:00\",\"1998-01-01T00:00:00\",\"1997-01-01T00:00:00\",\"1996-01-01T00:00:00\",\"1995-01-01T00:00:00\",\"1994-01-01T00:00:00\",\"1993-01-01T00:00:00\",\"1992-01-01T00:00:00\",\"1991-01-01T00:00:00\",\"1990-01-01T00:00:00\",\"1989-01-01T00:00:00\",\"1988-01-01T00:00:00\",\"1987-01-01T00:00:00\",\"1986-01-01T00:00:00\",\"1985-01-01T00:00:00\",\"1984-01-01T00:00:00\",\"1983-01-01T00:00:00\",\"1982-01-01T00:00:00\",\"1981-01-01T00:00:00\",\"1980-01-01T00:00:00\",\"1979-01-01T00:00:00\",\"1978-01-01T00:00:00\",\"1977-01-01T00:00:00\",\"1976-01-01T00:00:00\",\"1975-01-01T00:00:00\",\"1974-01-01T00:00:00\",\"1973-01-01T00:00:00\",\"1972-01-01T00:00:00\",\"1971-01-01T00:00:00\",\"1970-01-01T00:00:00\"],\"xaxis\":\"x\",\"y\":[700.0,700.0,700.0,700.0,700.0,700.0,700.0,700.0,700.0,700.0,739.0,1458.0,1455.0,1455.0,1455.0,1364.0,1358.0,1353.0,1353.0,1346.0,1328.0,1300.0,1188.0,1116.0,1055.0,991.0,940.0,881.0,829.0,780.0,729.0,685.0,640.0,539.0,498.0,439.0,366.0,307.0,290.0,277.0,263.0,243.0,null,null,null,null,null,null,null,null,null,null],\"yaxis\":\"y\",\"type\":\"scatter\"},{\"hovertemplate\":\"variable=Re. 1 Coins<br>Year=%{x}<br>value=%{y}<extra></extra>\",\"legendgroup\":\"Re. 1 Coins\",\"line\":{\"color\":\"#EF553B\",\"dash\":\"solid\"},\"marker\":{\"symbol\":\"circle\"},\"mode\":\"lines\",\"name\":\"Re. 1 Coins\",\"orientation\":\"v\",\"showlegend\":true,\"x\":[\"2021-01-01T00:00:00\",\"2020-01-01T00:00:00\",\"2019-01-01T00:00:00\",\"2018-01-01T00:00:00\",\"2017-01-01T00:00:00\",\"2016-01-01T00:00:00\",\"2015-01-01T00:00:00\",\"2014-01-01T00:00:00\",\"2013-01-01T00:00:00\",\"2012-01-01T00:00:00\",\"2011-01-01T00:00:00\",\"2010-01-01T00:00:00\",\"2009-01-01T00:00:00\",\"2008-01-01T00:00:00\",\"2007-01-01T00:00:00\",\"2006-01-01T00:00:00\",\"2005-01-01T00:00:00\",\"2004-01-01T00:00:00\",\"2003-01-01T00:00:00\",\"2002-01-01T00:00:00\",\"2001-01-01T00:00:00\",\"2000-01-01T00:00:00\",\"1999-01-01T00:00:00\",\"1998-01-01T00:00:00\",\"1997-01-01T00:00:00\",\"1996-01-01T00:00:00\",\"1995-01-01T00:00:00\",\"1994-01-01T00:00:00\",\"1993-01-01T00:00:00\",\"1992-01-01T00:00:00\",\"1991-01-01T00:00:00\",\"1990-01-01T00:00:00\",\"1989-01-01T00:00:00\",\"1988-01-01T00:00:00\",\"1987-01-01T00:00:00\",\"1986-01-01T00:00:00\",\"1985-01-01T00:00:00\",\"1984-01-01T00:00:00\",\"1983-01-01T00:00:00\",\"1982-01-01T00:00:00\",\"1981-01-01T00:00:00\",\"1980-01-01T00:00:00\",\"1979-01-01T00:00:00\",\"1978-01-01T00:00:00\",\"1977-01-01T00:00:00\",\"1976-01-01T00:00:00\",\"1975-01-01T00:00:00\",\"1974-01-01T00:00:00\",\"1973-01-01T00:00:00\",\"1972-01-01T00:00:00\",\"1971-01-01T00:00:00\",\"1970-01-01T00:00:00\"],\"xaxis\":\"x\",\"y\":[4777.0,4749.0,4719.0,4673.0,4963.0,4514.0,4178.0,3863.0,3842.0,3289.0,3142.0,2968.0,2647.0,2396.0,2214.0,2029.0,1894.0,1790.0,1757.0,1692.0,1547.0,1393.0,1260.0,1076.0,969.0,900.0,848.0,795.0,705.0,null,null,616.0,583.0,547.0,501.0,423.0,308.0,237.0,303.0,172.0,154.0,141.0,126.0,110.0,96.0,75.0,53.0,46.0,46.0,45.0,43.0,43.0],\"yaxis\":\"y\",\"type\":\"scatter\"},{\"hovertemplate\":\"variable=Rs. 2 Coins<br>Year=%{x}<br>value=%{y}<extra></extra>\",\"legendgroup\":\"Rs. 2 Coins\",\"line\":{\"color\":\"#00cc96\",\"dash\":\"solid\"},\"marker\":{\"symbol\":\"circle\"},\"mode\":\"lines\",\"name\":\"Rs. 2 Coins\",\"orientation\":\"v\",\"showlegend\":true,\"x\":[\"2021-01-01T00:00:00\",\"2020-01-01T00:00:00\",\"2019-01-01T00:00:00\",\"2018-01-01T00:00:00\",\"2017-01-01T00:00:00\",\"2016-01-01T00:00:00\",\"2015-01-01T00:00:00\",\"2014-01-01T00:00:00\",\"2013-01-01T00:00:00\",\"2012-01-01T00:00:00\",\"2011-01-01T00:00:00\",\"2010-01-01T00:00:00\",\"2009-01-01T00:00:00\",\"2008-01-01T00:00:00\",\"2007-01-01T00:00:00\",\"2006-01-01T00:00:00\",\"2005-01-01T00:00:00\",\"2004-01-01T00:00:00\",\"2003-01-01T00:00:00\",\"2002-01-01T00:00:00\",\"2001-01-01T00:00:00\",\"2000-01-01T00:00:00\",\"1999-01-01T00:00:00\",\"1998-01-01T00:00:00\",\"1997-01-01T00:00:00\",\"1996-01-01T00:00:00\",\"1995-01-01T00:00:00\",\"1994-01-01T00:00:00\",\"1993-01-01T00:00:00\",\"1992-01-01T00:00:00\",\"1991-01-01T00:00:00\",\"1990-01-01T00:00:00\",\"1989-01-01T00:00:00\",\"1988-01-01T00:00:00\",\"1987-01-01T00:00:00\",\"1986-01-01T00:00:00\",\"1985-01-01T00:00:00\",\"1984-01-01T00:00:00\",\"1983-01-01T00:00:00\",\"1982-01-01T00:00:00\",\"1981-01-01T00:00:00\",\"1980-01-01T00:00:00\",\"1979-01-01T00:00:00\",\"1978-01-01T00:00:00\",\"1977-01-01T00:00:00\",\"1976-01-01T00:00:00\",\"1975-01-01T00:00:00\",\"1974-01-01T00:00:00\",\"1973-01-01T00:00:00\",\"1972-01-01T00:00:00\",\"1971-01-01T00:00:00\",\"1970-01-01T00:00:00\"],\"xaxis\":\"x\",\"y\":[6816.0,6757.0,6703.0,6631.0,6571.0,6411.0,5926.0,5407.0,4965.0,4423.0,3640.0,3068.0,2640.0,2236.0,1907.0,1488.0,1365.0,1290.0,1255.0,1210.0,1062.0,814.0,672.0,497.0,352.0,286.0,226.0,159.0,85.0,37.0,10.0,23.0,null,null,null,null,null,null,null,null,null,null,null,null,null,null,null,null,null,null,null,null],\"yaxis\":\"y\",\"type\":\"scatter\"},{\"hovertemplate\":\"variable=Rs. 5 Coins<br>Year=%{x}<br>value=%{y}<extra></extra>\",\"legendgroup\":\"Rs. 5 Coins\",\"line\":{\"color\":\"#ab63fa\",\"dash\":\"solid\"},\"marker\":{\"symbol\":\"circle\"},\"mode\":\"lines\",\"name\":\"Rs. 5 Coins\",\"orientation\":\"v\",\"showlegend\":true,\"x\":[\"2021-01-01T00:00:00\",\"2020-01-01T00:00:00\",\"2019-01-01T00:00:00\",\"2018-01-01T00:00:00\",\"2017-01-01T00:00:00\",\"2016-01-01T00:00:00\",\"2015-01-01T00:00:00\",\"2014-01-01T00:00:00\",\"2013-01-01T00:00:00\",\"2012-01-01T00:00:00\",\"2011-01-01T00:00:00\",\"2010-01-01T00:00:00\",\"2009-01-01T00:00:00\",\"2008-01-01T00:00:00\",\"2007-01-01T00:00:00\",\"2006-01-01T00:00:00\",\"2005-01-01T00:00:00\",\"2004-01-01T00:00:00\",\"2003-01-01T00:00:00\",\"2002-01-01T00:00:00\",\"2001-01-01T00:00:00\",\"2000-01-01T00:00:00\",\"1999-01-01T00:00:00\",\"1998-01-01T00:00:00\",\"1997-01-01T00:00:00\",\"1996-01-01T00:00:00\",\"1995-01-01T00:00:00\",\"1994-01-01T00:00:00\",\"1993-01-01T00:00:00\",\"1992-01-01T00:00:00\",\"1991-01-01T00:00:00\",\"1990-01-01T00:00:00\",\"1989-01-01T00:00:00\",\"1988-01-01T00:00:00\",\"1987-01-01T00:00:00\",\"1986-01-01T00:00:00\",\"1985-01-01T00:00:00\",\"1984-01-01T00:00:00\",\"1983-01-01T00:00:00\",\"1982-01-01T00:00:00\",\"1981-01-01T00:00:00\",\"1980-01-01T00:00:00\",\"1979-01-01T00:00:00\",\"1978-01-01T00:00:00\",\"1977-01-01T00:00:00\",\"1976-01-01T00:00:00\",\"1975-01-01T00:00:00\",\"1974-01-01T00:00:00\",\"1973-01-01T00:00:00\",\"1972-01-01T00:00:00\",\"1971-01-01T00:00:00\",\"1970-01-01T00:00:00\"],\"xaxis\":\"x\",\"y\":[9217.0,8968.0,8800.0,8576.0,8324.0,7891.0,7045.0,6380.0,5789.0,5338.0,4990.0,4535.0,3880.0,3570.0,3249.0,2880.0,2735.0,2619.0,2535.0,2419.0,2025.0,1544.0,1164.0,856.0,672.0,440.0,183.0,115.0,58.0,5.0,null,null,20.0,null,null,17.0,20.0,null,null,null,null,null,null,null,null,null,null,null,null,null,null,null],\"yaxis\":\"y\",\"type\":\"scatter\"},{\"hovertemplate\":\"variable=Rs. 10 Coins<br>Year=%{x}<br>value=%{y}<extra></extra>\",\"legendgroup\":\"Rs. 10 Coins\",\"line\":{\"color\":\"#FFA15A\",\"dash\":\"solid\"},\"marker\":{\"symbol\":\"circle\"},\"mode\":\"lines\",\"name\":\"Rs. 10 Coins\",\"orientation\":\"v\",\"showlegend\":true,\"x\":[\"2021-01-01T00:00:00\",\"2020-01-01T00:00:00\",\"2019-01-01T00:00:00\",\"2018-01-01T00:00:00\",\"2017-01-01T00:00:00\",\"2016-01-01T00:00:00\",\"2015-01-01T00:00:00\",\"2014-01-01T00:00:00\",\"2013-01-01T00:00:00\",\"2012-01-01T00:00:00\",\"2011-01-01T00:00:00\",\"2010-01-01T00:00:00\",\"2009-01-01T00:00:00\",\"2008-01-01T00:00:00\",\"2007-01-01T00:00:00\",\"2006-01-01T00:00:00\",\"2005-01-01T00:00:00\",\"2004-01-01T00:00:00\",\"2003-01-01T00:00:00\",\"2002-01-01T00:00:00\",\"2001-01-01T00:00:00\",\"2000-01-01T00:00:00\",\"1999-01-01T00:00:00\",\"1998-01-01T00:00:00\",\"1997-01-01T00:00:00\",\"1996-01-01T00:00:00\",\"1995-01-01T00:00:00\",\"1994-01-01T00:00:00\",\"1993-01-01T00:00:00\",\"1992-01-01T00:00:00\",\"1991-01-01T00:00:00\",\"1990-01-01T00:00:00\",\"1989-01-01T00:00:00\",\"1988-01-01T00:00:00\",\"1987-01-01T00:00:00\",\"1986-01-01T00:00:00\",\"1985-01-01T00:00:00\",\"1984-01-01T00:00:00\",\"1983-01-01T00:00:00\",\"1982-01-01T00:00:00\",\"1981-01-01T00:00:00\",\"1980-01-01T00:00:00\",\"1979-01-01T00:00:00\",\"1978-01-01T00:00:00\",\"1977-01-01T00:00:00\",\"1976-01-01T00:00:00\",\"1975-01-01T00:00:00\",\"1974-01-01T00:00:00\",\"1973-01-01T00:00:00\",\"1972-01-01T00:00:00\",\"1971-01-01T00:00:00\",\"1970-01-01T00:00:00\"],\"xaxis\":\"x\",\"y\":[5404.0,5139.0,5013.0,4905.0,5049.0,5204.0,3703.0,2750.0,2017.0,1267.0,648.0,300.0,149.0,null,null,null,null,null,null,null,null,null,null,null,null,null,null,null,null,null,null,null,null,null,null,null,null,null,null,null,null,null,null,null,null,null,null,null,null,null,null,null],\"yaxis\":\"y\",\"type\":\"scatter\"},{\"hovertemplate\":\"variable=Re. 20 Coins<br>Year=%{x}<br>value=%{y}<extra></extra>\",\"legendgroup\":\"Re. 20 Coins\",\"line\":{\"color\":\"#19d3f3\",\"dash\":\"solid\"},\"marker\":{\"symbol\":\"circle\"},\"mode\":\"lines\",\"name\":\"Re. 20 Coins\",\"orientation\":\"v\",\"showlegend\":true,\"x\":[\"2021-01-01T00:00:00\",\"2020-01-01T00:00:00\",\"2019-01-01T00:00:00\",\"2018-01-01T00:00:00\",\"2017-01-01T00:00:00\",\"2016-01-01T00:00:00\",\"2015-01-01T00:00:00\",\"2014-01-01T00:00:00\",\"2013-01-01T00:00:00\",\"2012-01-01T00:00:00\",\"2011-01-01T00:00:00\",\"2010-01-01T00:00:00\",\"2009-01-01T00:00:00\",\"2008-01-01T00:00:00\",\"2007-01-01T00:00:00\",\"2006-01-01T00:00:00\",\"2005-01-01T00:00:00\",\"2004-01-01T00:00:00\",\"2003-01-01T00:00:00\",\"2002-01-01T00:00:00\",\"2001-01-01T00:00:00\",\"2000-01-01T00:00:00\",\"1999-01-01T00:00:00\",\"1998-01-01T00:00:00\",\"1997-01-01T00:00:00\",\"1996-01-01T00:00:00\",\"1995-01-01T00:00:00\",\"1994-01-01T00:00:00\",\"1993-01-01T00:00:00\",\"1992-01-01T00:00:00\",\"1991-01-01T00:00:00\",\"1990-01-01T00:00:00\",\"1989-01-01T00:00:00\",\"1988-01-01T00:00:00\",\"1987-01-01T00:00:00\",\"1986-01-01T00:00:00\",\"1985-01-01T00:00:00\",\"1984-01-01T00:00:00\",\"1983-01-01T00:00:00\",\"1982-01-01T00:00:00\",\"1981-01-01T00:00:00\",\"1980-01-01T00:00:00\",\"1979-01-01T00:00:00\",\"1978-01-01T00:00:00\",\"1977-01-01T00:00:00\",\"1976-01-01T00:00:00\",\"1975-01-01T00:00:00\",\"1974-01-01T00:00:00\",\"1973-01-01T00:00:00\",\"1972-01-01T00:00:00\",\"1971-01-01T00:00:00\",\"1970-01-01T00:00:00\"],\"xaxis\":\"x\",\"y\":[674.0,179.0,null,null,null,null,null,null,null,null,null,null,null,null,null,null,null,null,null,null,null,null,null,null,null,null,null,null,null,null,null,null,null,null,null,null,null,null,null,null,null,null,null,null,null,null,null,null,null,null,null,null],\"yaxis\":\"y\",\"type\":\"scatter\"}],                        {\"template\":{\"data\":{\"histogram2dcontour\":[{\"type\":\"histogram2dcontour\",\"colorbar\":{\"outlinewidth\":0,\"ticks\":\"\"},\"colorscale\":[[0.0,\"#0d0887\"],[0.1111111111111111,\"#46039f\"],[0.2222222222222222,\"#7201a8\"],[0.3333333333333333,\"#9c179e\"],[0.4444444444444444,\"#bd3786\"],[0.5555555555555556,\"#d8576b\"],[0.6666666666666666,\"#ed7953\"],[0.7777777777777778,\"#fb9f3a\"],[0.8888888888888888,\"#fdca26\"],[1.0,\"#f0f921\"]]}],\"choropleth\":[{\"type\":\"choropleth\",\"colorbar\":{\"outlinewidth\":0,\"ticks\":\"\"}}],\"histogram2d\":[{\"type\":\"histogram2d\",\"colorbar\":{\"outlinewidth\":0,\"ticks\":\"\"},\"colorscale\":[[0.0,\"#0d0887\"],[0.1111111111111111,\"#46039f\"],[0.2222222222222222,\"#7201a8\"],[0.3333333333333333,\"#9c179e\"],[0.4444444444444444,\"#bd3786\"],[0.5555555555555556,\"#d8576b\"],[0.6666666666666666,\"#ed7953\"],[0.7777777777777778,\"#fb9f3a\"],[0.8888888888888888,\"#fdca26\"],[1.0,\"#f0f921\"]]}],\"heatmap\":[{\"type\":\"heatmap\",\"colorbar\":{\"outlinewidth\":0,\"ticks\":\"\"},\"colorscale\":[[0.0,\"#0d0887\"],[0.1111111111111111,\"#46039f\"],[0.2222222222222222,\"#7201a8\"],[0.3333333333333333,\"#9c179e\"],[0.4444444444444444,\"#bd3786\"],[0.5555555555555556,\"#d8576b\"],[0.6666666666666666,\"#ed7953\"],[0.7777777777777778,\"#fb9f3a\"],[0.8888888888888888,\"#fdca26\"],[1.0,\"#f0f921\"]]}],\"heatmapgl\":[{\"type\":\"heatmapgl\",\"colorbar\":{\"outlinewidth\":0,\"ticks\":\"\"},\"colorscale\":[[0.0,\"#0d0887\"],[0.1111111111111111,\"#46039f\"],[0.2222222222222222,\"#7201a8\"],[0.3333333333333333,\"#9c179e\"],[0.4444444444444444,\"#bd3786\"],[0.5555555555555556,\"#d8576b\"],[0.6666666666666666,\"#ed7953\"],[0.7777777777777778,\"#fb9f3a\"],[0.8888888888888888,\"#fdca26\"],[1.0,\"#f0f921\"]]}],\"contourcarpet\":[{\"type\":\"contourcarpet\",\"colorbar\":{\"outlinewidth\":0,\"ticks\":\"\"}}],\"contour\":[{\"type\":\"contour\",\"colorbar\":{\"outlinewidth\":0,\"ticks\":\"\"},\"colorscale\":[[0.0,\"#0d0887\"],[0.1111111111111111,\"#46039f\"],[0.2222222222222222,\"#7201a8\"],[0.3333333333333333,\"#9c179e\"],[0.4444444444444444,\"#bd3786\"],[0.5555555555555556,\"#d8576b\"],[0.6666666666666666,\"#ed7953\"],[0.7777777777777778,\"#fb9f3a\"],[0.8888888888888888,\"#fdca26\"],[1.0,\"#f0f921\"]]}],\"surface\":[{\"type\":\"surface\",\"colorbar\":{\"outlinewidth\":0,\"ticks\":\"\"},\"colorscale\":[[0.0,\"#0d0887\"],[0.1111111111111111,\"#46039f\"],[0.2222222222222222,\"#7201a8\"],[0.3333333333333333,\"#9c179e\"],[0.4444444444444444,\"#bd3786\"],[0.5555555555555556,\"#d8576b\"],[0.6666666666666666,\"#ed7953\"],[0.7777777777777778,\"#fb9f3a\"],[0.8888888888888888,\"#fdca26\"],[1.0,\"#f0f921\"]]}],\"mesh3d\":[{\"type\":\"mesh3d\",\"colorbar\":{\"outlinewidth\":0,\"ticks\":\"\"}}],\"scatter\":[{\"fillpattern\":{\"fillmode\":\"overlay\",\"size\":10,\"solidity\":0.2},\"type\":\"scatter\"}],\"parcoords\":[{\"type\":\"parcoords\",\"line\":{\"colorbar\":{\"outlinewidth\":0,\"ticks\":\"\"}}}],\"scatterpolargl\":[{\"type\":\"scatterpolargl\",\"marker\":{\"colorbar\":{\"outlinewidth\":0,\"ticks\":\"\"}}}],\"bar\":[{\"error_x\":{\"color\":\"#2a3f5f\"},\"error_y\":{\"color\":\"#2a3f5f\"},\"marker\":{\"line\":{\"color\":\"#E5ECF6\",\"width\":0.5},\"pattern\":{\"fillmode\":\"overlay\",\"size\":10,\"solidity\":0.2}},\"type\":\"bar\"}],\"scattergeo\":[{\"type\":\"scattergeo\",\"marker\":{\"colorbar\":{\"outlinewidth\":0,\"ticks\":\"\"}}}],\"scatterpolar\":[{\"type\":\"scatterpolar\",\"marker\":{\"colorbar\":{\"outlinewidth\":0,\"ticks\":\"\"}}}],\"histogram\":[{\"marker\":{\"pattern\":{\"fillmode\":\"overlay\",\"size\":10,\"solidity\":0.2}},\"type\":\"histogram\"}],\"scattergl\":[{\"type\":\"scattergl\",\"marker\":{\"colorbar\":{\"outlinewidth\":0,\"ticks\":\"\"}}}],\"scatter3d\":[{\"type\":\"scatter3d\",\"line\":{\"colorbar\":{\"outlinewidth\":0,\"ticks\":\"\"}},\"marker\":{\"colorbar\":{\"outlinewidth\":0,\"ticks\":\"\"}}}],\"scattermapbox\":[{\"type\":\"scattermapbox\",\"marker\":{\"colorbar\":{\"outlinewidth\":0,\"ticks\":\"\"}}}],\"scatterternary\":[{\"type\":\"scatterternary\",\"marker\":{\"colorbar\":{\"outlinewidth\":0,\"ticks\":\"\"}}}],\"scattercarpet\":[{\"type\":\"scattercarpet\",\"marker\":{\"colorbar\":{\"outlinewidth\":0,\"ticks\":\"\"}}}],\"carpet\":[{\"aaxis\":{\"endlinecolor\":\"#2a3f5f\",\"gridcolor\":\"white\",\"linecolor\":\"white\",\"minorgridcolor\":\"white\",\"startlinecolor\":\"#2a3f5f\"},\"baxis\":{\"endlinecolor\":\"#2a3f5f\",\"gridcolor\":\"white\",\"linecolor\":\"white\",\"minorgridcolor\":\"white\",\"startlinecolor\":\"#2a3f5f\"},\"type\":\"carpet\"}],\"table\":[{\"cells\":{\"fill\":{\"color\":\"#EBF0F8\"},\"line\":{\"color\":\"white\"}},\"header\":{\"fill\":{\"color\":\"#C8D4E3\"},\"line\":{\"color\":\"white\"}},\"type\":\"table\"}],\"barpolar\":[{\"marker\":{\"line\":{\"color\":\"#E5ECF6\",\"width\":0.5},\"pattern\":{\"fillmode\":\"overlay\",\"size\":10,\"solidity\":0.2}},\"type\":\"barpolar\"}],\"pie\":[{\"automargin\":true,\"type\":\"pie\"}]},\"layout\":{\"autotypenumbers\":\"strict\",\"colorway\":[\"#636efa\",\"#EF553B\",\"#00cc96\",\"#ab63fa\",\"#FFA15A\",\"#19d3f3\",\"#FF6692\",\"#B6E880\",\"#FF97FF\",\"#FECB52\"],\"font\":{\"color\":\"#2a3f5f\"},\"hovermode\":\"closest\",\"hoverlabel\":{\"align\":\"left\"},\"paper_bgcolor\":\"white\",\"plot_bgcolor\":\"#E5ECF6\",\"polar\":{\"bgcolor\":\"#E5ECF6\",\"angularaxis\":{\"gridcolor\":\"white\",\"linecolor\":\"white\",\"ticks\":\"\"},\"radialaxis\":{\"gridcolor\":\"white\",\"linecolor\":\"white\",\"ticks\":\"\"}},\"ternary\":{\"bgcolor\":\"#E5ECF6\",\"aaxis\":{\"gridcolor\":\"white\",\"linecolor\":\"white\",\"ticks\":\"\"},\"baxis\":{\"gridcolor\":\"white\",\"linecolor\":\"white\",\"ticks\":\"\"},\"caxis\":{\"gridcolor\":\"white\",\"linecolor\":\"white\",\"ticks\":\"\"}},\"coloraxis\":{\"colorbar\":{\"outlinewidth\":0,\"ticks\":\"\"}},\"colorscale\":{\"sequential\":[[0.0,\"#0d0887\"],[0.1111111111111111,\"#46039f\"],[0.2222222222222222,\"#7201a8\"],[0.3333333333333333,\"#9c179e\"],[0.4444444444444444,\"#bd3786\"],[0.5555555555555556,\"#d8576b\"],[0.6666666666666666,\"#ed7953\"],[0.7777777777777778,\"#fb9f3a\"],[0.8888888888888888,\"#fdca26\"],[1.0,\"#f0f921\"]],\"sequentialminus\":[[0.0,\"#0d0887\"],[0.1111111111111111,\"#46039f\"],[0.2222222222222222,\"#7201a8\"],[0.3333333333333333,\"#9c179e\"],[0.4444444444444444,\"#bd3786\"],[0.5555555555555556,\"#d8576b\"],[0.6666666666666666,\"#ed7953\"],[0.7777777777777778,\"#fb9f3a\"],[0.8888888888888888,\"#fdca26\"],[1.0,\"#f0f921\"]],\"diverging\":[[0,\"#8e0152\"],[0.1,\"#c51b7d\"],[0.2,\"#de77ae\"],[0.3,\"#f1b6da\"],[0.4,\"#fde0ef\"],[0.5,\"#f7f7f7\"],[0.6,\"#e6f5d0\"],[0.7,\"#b8e186\"],[0.8,\"#7fbc41\"],[0.9,\"#4d9221\"],[1,\"#276419\"]]},\"xaxis\":{\"gridcolor\":\"white\",\"linecolor\":\"white\",\"ticks\":\"\",\"title\":{\"standoff\":15},\"zerolinecolor\":\"white\",\"automargin\":true,\"zerolinewidth\":2},\"yaxis\":{\"gridcolor\":\"white\",\"linecolor\":\"white\",\"ticks\":\"\",\"title\":{\"standoff\":15},\"zerolinecolor\":\"white\",\"automargin\":true,\"zerolinewidth\":2},\"scene\":{\"xaxis\":{\"backgroundcolor\":\"#E5ECF6\",\"gridcolor\":\"white\",\"linecolor\":\"white\",\"showbackground\":true,\"ticks\":\"\",\"zerolinecolor\":\"white\",\"gridwidth\":2},\"yaxis\":{\"backgroundcolor\":\"#E5ECF6\",\"gridcolor\":\"white\",\"linecolor\":\"white\",\"showbackground\":true,\"ticks\":\"\",\"zerolinecolor\":\"white\",\"gridwidth\":2},\"zaxis\":{\"backgroundcolor\":\"#E5ECF6\",\"gridcolor\":\"white\",\"linecolor\":\"white\",\"showbackground\":true,\"ticks\":\"\",\"zerolinecolor\":\"white\",\"gridwidth\":2}},\"shapedefaults\":{\"line\":{\"color\":\"#2a3f5f\"}},\"annotationdefaults\":{\"arrowcolor\":\"#2a3f5f\",\"arrowhead\":0,\"arrowwidth\":1},\"geo\":{\"bgcolor\":\"white\",\"landcolor\":\"#E5ECF6\",\"subunitcolor\":\"white\",\"showland\":true,\"showlakes\":true,\"lakecolor\":\"white\"},\"title\":{\"x\":0.05},\"mapbox\":{\"style\":\"light\"}}},\"xaxis\":{\"anchor\":\"y\",\"domain\":[0.0,1.0],\"title\":{\"text\":\"Year\"}},\"yaxis\":{\"anchor\":\"x\",\"domain\":[0.0,1.0],\"title\":{\"text\":\"Number of coins Issued\"}},\"legend\":{\"title\":{\"text\":\"variable\"},\"tracegroupgap\":0},\"title\":{\"text\":\"NOTES AND COINS IN CIRCULATION  (Rupees Crore)\"}},                        {\"responsive\": true}                    ).then(function(){\n",
       "                            \n",
       "var gd = document.getElementById('2f8cd5ae-00ce-4f35-a53a-a541a247b35b');\n",
       "var x = new MutationObserver(function (mutations, observer) {{\n",
       "        var display = window.getComputedStyle(gd).display;\n",
       "        if (!display || display === 'none') {{\n",
       "            console.log([gd, 'removed!']);\n",
       "            Plotly.purge(gd);\n",
       "            observer.disconnect();\n",
       "        }}\n",
       "}});\n",
       "\n",
       "// Listen for the removal of the full notebook cells\n",
       "var notebookContainer = gd.closest('#notebook-container');\n",
       "if (notebookContainer) {{\n",
       "    x.observe(notebookContainer, {childList: true});\n",
       "}}\n",
       "\n",
       "// Listen for the clearing of the current output cell\n",
       "var outputEl = gd.closest('.output');\n",
       "if (outputEl) {{\n",
       "    x.observe(outputEl, {childList: true});\n",
       "}}\n",
       "\n",
       "                        })                };                });            </script>        </div>"
      ]
     },
     "metadata": {},
     "output_type": "display_data"
    }
   ],
   "source": [
    "fig = px.line(notes_coins, x='Year', y=[ 'Re. 1 Notes', 'Rs. 2 Notes',\n",
    "       'Rs. 5 Notes', 'Rs. 10 Notes', 'Rs. 20 Notes', 'Rs. 50 Notes',\n",
    "       'Rs. 100 Notes', 'Rs. 200 Notes', 'Rs. 500 Notes', 'Rs. 1000 Notes',\n",
    "       'Rs. 2000 Notes'], title=title)\n",
    "fig.update_layout(xaxis_title='Year', yaxis_title='Number of Notes Issued')\n",
    "fig.show()\n",
    "\n",
    "fig = px.line(notes_coins, x='Year', y=['Small Coins', 'Re. 1 Coins', 'Rs. 2 Coins',\n",
    "       'Rs. 5 Coins', 'Rs. 10 Coins', 'Re. 20 Coins',\n",
    "       ], title=title)\n",
    "fig.update_layout(xaxis_title='Year', yaxis_title='Number of coins Issued')\n",
    "fig.show()"
   ]
  },
  {
   "cell_type": "code",
   "execution_count": 55,
   "metadata": {},
   "outputs": [],
   "source": [
    "notes_coins.to_csv('notes_coins_final.csv', index=False)"
   ]
  },
  {
   "attachments": {},
   "cell_type": "markdown",
   "metadata": {},
   "source": [
    "# Exchange Rates"
   ]
  },
  {
   "cell_type": "code",
   "execution_count": null,
   "metadata": {},
   "outputs": [],
   "source": [
    "title = \"EXCHANGE RATE OF THE INDIAN RUPEE VIS-A-VIS THE SDR, US DOLLAR, POUND STERLING, D. M. / EURO AND JAPANESE YEN (Calendar Year â€“ Annual Average) (Rupees per unit of foreign currency)\"\n",
    "exchange_rates = pd.read_csv(\"exhange_rates.csv\")\n",
    "exchange_rates"
   ]
  },
  {
   "cell_type": "code",
   "execution_count": null,
   "metadata": {},
   "outputs": [],
   "source": [
    "exchange_rates.iloc[:, 0:] = exchange_rates.iloc[:, 0:].apply(pd.to_numeric, errors = 'coerce')\n",
    "# exchange_rates['Year'] = pd.to_datetime(exchange_rates['Year'])\n",
    "# exchange_rates['Year'] = exchange_rates['Year'].dt.year.astype(int)\n",
    "exchange_rates"
   ]
  },
  {
   "cell_type": "code",
   "execution_count": 70,
   "metadata": {},
   "outputs": [
    {
     "data": {
      "text/plain": [
       "Index(['Year', 'SDR', 'US Dollar', 'Pound Sterling', 'Japanese Yen',\n",
       "       'Deutsche Mark/Euro'],\n",
       "      dtype='object')"
      ]
     },
     "execution_count": 70,
     "metadata": {},
     "output_type": "execute_result"
    }
   ],
   "source": [
    "exchange_rates.columns"
   ]
  },
  {
   "cell_type": "code",
   "execution_count": 71,
   "metadata": {},
   "outputs": [
    {
     "data": {
      "application/vnd.plotly.v1+json": {
       "config": {
        "plotlyServerURL": "https://plot.ly"
       },
       "data": [
        {
         "hovertemplate": "variable=SDR<br>Year=%{x}<br>value=%{y}<extra></extra>",
         "legendgroup": "SDR",
         "line": {
          "color": "#636efa",
          "dash": "solid"
         },
         "marker": {
          "symbol": "circle"
         },
         "mode": "lines",
         "name": "SDR",
         "orientation": "v",
         "showlegend": true,
         "type": "scatter",
         "x": [
          1970,
          1971,
          1972,
          1973,
          1974,
          1975,
          1976,
          1977,
          1978,
          1979,
          1980,
          1981,
          1982,
          1983,
          1984,
          1985,
          1986,
          1987,
          1988,
          1989,
          1990,
          1991,
          1992,
          1993,
          1994,
          1995,
          1996,
          1997,
          1998,
          1999,
          2000,
          2001,
          2002,
          2003,
          2004,
          2005,
          2006,
          2007,
          2008,
          2009,
          2010,
          2011,
          2012,
          2013,
          2014,
          2015,
          2016,
          2017,
          2018,
          2019,
          2020,
          2021
         ],
         "xaxis": "x",
         "y": [
          7.5895,
          8.1601,
          9.0084,
          9.2293,
          9.759,
          9.7043,
          10.4016,
          10.2279,
          10.2782,
          10.5284,
          10.2611,
          10.2418,
          10.4766,
          10.831,
          11.6482,
          12.5625,
          14.8083,
          16.7617,
          18.6994,
          20.7906,
          23.7922,
          31.095,
          36.5094,
          42.6318,
          44.9296,
          49.1803,
          51.435,
          49.9584,
          56.0329,
          58.8799,
          59.2475,
          60.0782,
          62.9532,
          65.2192,
          67.1058,
          65.1404,
          66.6775,
          63.2702,
          68.6477,
          74.588,
          69.7509,
          73.6424,
          81.7876,
          89.0613,
          92.7309,
          89.7461,
          93.4012,
          90.2966,
          96.7832,
          97.2947,
          103.24,
          105.3257
         ],
         "yaxis": "y"
        },
        {
         "hovertemplate": "variable=US Dollar<br>Year=%{x}<br>value=%{y}<extra></extra>",
         "legendgroup": "US Dollar",
         "line": {
          "color": "#EF553B",
          "dash": "solid"
         },
         "marker": {
          "symbol": "circle"
         },
         "mode": "lines",
         "name": "US Dollar",
         "orientation": "v",
         "showlegend": true,
         "type": "scatter",
         "x": [
          1970,
          1971,
          1972,
          1973,
          1974,
          1975,
          1976,
          1977,
          1978,
          1979,
          1980,
          1981,
          1982,
          1983,
          1984,
          1985,
          1986,
          1987,
          1988,
          1989,
          1990,
          1991,
          1992,
          1993,
          1994,
          1995,
          1996,
          1997,
          1998,
          1999,
          2000,
          2001,
          2002,
          2003,
          2004,
          2005,
          2006,
          2007,
          2008,
          2009,
          2010,
          2011,
          2012,
          2013,
          2014,
          2015,
          2016,
          2017,
          2018,
          2019,
          2020,
          2021
         ],
         "xaxis": "x",
         "y": [
          7.5668,
          7.5244,
          7.5563,
          7.6742,
          8.0375,
          8.4058,
          9.0017,
          8.7625,
          8.2133,
          8.1467,
          7.88,
          8.6926,
          9.4924,
          10.1379,
          11.3683,
          12.364,
          12.6053,
          12.9552,
          13.9147,
          16.2238,
          17.4992,
          22.689,
          25.9206,
          31.4458,
          31.3742,
          32.4232,
          35.4294,
          36.3196,
          41.2677,
          43.0485,
          44.9401,
          47.1857,
          48.5993,
          46.5819,
          45.3165,
          44.1,
          45.307,
          41.3485,
          43.5049,
          48.4049,
          45.7262,
          46.6723,
          53.4376,
          58.5978,
          61.0295,
          64.1519,
          67.1953,
          65.1216,
          68.3895,
          70.4203,
          74.0996,
          73.918
         ],
         "yaxis": "y"
        },
        {
         "hovertemplate": "variable=Pound Sterling<br>Year=%{x}<br>value=%{y}<extra></extra>",
         "legendgroup": "Pound Sterling",
         "line": {
          "color": "#00cc96",
          "dash": "solid"
         },
         "marker": {
          "symbol": "circle"
         },
         "mode": "lines",
         "name": "Pound Sterling",
         "orientation": "v",
         "showlegend": true,
         "type": "scatter",
         "x": [
          1970,
          1971,
          1972,
          1973,
          1974,
          1975,
          1976,
          1977,
          1978,
          1979,
          1980,
          1981,
          1982,
          1983,
          1984,
          1985,
          1986,
          1987,
          1988,
          1989,
          1990,
          1991,
          1992,
          1993,
          1994,
          1995,
          1996,
          1997,
          1998,
          1999,
          2000,
          2001,
          2002,
          2003,
          2004,
          2005,
          2006,
          2007,
          2008,
          2009,
          2010,
          2011,
          2012,
          2013,
          2014,
          2015,
          2016,
          2017,
          2018,
          2019,
          2020,
          2021
         ],
         "xaxis": "x",
         "y": [
          18,
          18,
          18.885,
          18.8,
          18.8,
          18.6125,
          16.2542,
          15.2917,
          15.7633,
          17.2783,
          18.3242,
          17.5423,
          16.5954,
          15.3653,
          15.1469,
          15.9904,
          18.4924,
          21.2366,
          24.7729,
          26.5515,
          31.2835,
          39.9941,
          45.7104,
          47.2165,
          48.0543,
          51.168,
          55.3482,
          59.5289,
          68.3511,
          69.6786,
          68.076,
          67.9834,
          72.9988,
          76.0974,
          82.9983,
          80.253,
          83.5115,
          82.7218,
          80.1362,
          75.7282,
          70.6912,
          74.7736,
          84.6955,
          91.7716,
          100.544,
          98.1323,
          91.1248,
          83.876,
          91.2189,
          89.9351,
          95.0919,
          101.6904
         ],
         "yaxis": "y"
        },
        {
         "hovertemplate": "variable=Japanese Yen<br>Year=%{x}<br>value=%{y}<extra></extra>",
         "legendgroup": "Japanese Yen",
         "line": {
          "color": "#ab63fa",
          "dash": "solid"
         },
         "marker": {
          "symbol": "circle"
         },
         "mode": "lines",
         "name": "Japanese Yen",
         "orientation": "v",
         "showlegend": true,
         "type": "scatter",
         "x": [
          1970,
          1971,
          1972,
          1973,
          1974,
          1975,
          1976,
          1977,
          1978,
          1979,
          1980,
          1981,
          1982,
          1983,
          1984,
          1985,
          1986,
          1987,
          1988,
          1989,
          1990,
          1991,
          1992,
          1993,
          1994,
          1995,
          1996,
          1997,
          1998,
          1999,
          2000,
          2001,
          2002,
          2003,
          2004,
          2005,
          2006,
          2007,
          2008,
          2009,
          2010,
          2011,
          2012,
          2013,
          2014,
          2015,
          2016,
          2017,
          2018,
          2019,
          2020,
          2021
         ],
         "xaxis": "x",
         "y": [
          2.1578,
          2.4819,
          2.7811,
          3,
          3,
          3,
          3,
          3.17,
          3.92,
          3.92,
          3.83,
          3.96,
          3.82,
          4.26,
          4.79,
          5.22,
          7.54,
          8.98,
          10.87,
          11.76,
          12.16,
          16.92,
          20.48,
          28.3625,
          30.7424,
          34.6154,
          32.5975,
          30.048,
          31.6646,
          37.9595,
          41.7257,
          38.8674,
          38.873,
          40.2047,
          41.8941,
          40.102,
          38.9752,
          35.1348,
          42.3079,
          51.8119,
          52.1669,
          58.6244,
          67.0289,
          60.0777,
          57.7919,
          53.0212,
          61.934,
          58.0652,
          61.8963,
          64.6161,
          69.4479,
          67.3794
         ],
         "yaxis": "y"
        },
        {
         "hovertemplate": "variable=Deutsche Mark/Euro<br>Year=%{x}<br>value=%{y}<extra></extra>",
         "legendgroup": "Deutsche Mark/Euro",
         "line": {
          "color": "#FFA15A",
          "dash": "solid"
         },
         "marker": {
          "symbol": "circle"
         },
         "mode": "lines",
         "name": "Deutsche Mark/Euro",
         "orientation": "v",
         "showlegend": true,
         "type": "scatter",
         "x": [
          1970,
          1971,
          1972,
          1973,
          1974,
          1975,
          1976,
          1977,
          1978,
          1979,
          1980,
          1981,
          1982,
          1983,
          1984,
          1985,
          1986,
          1987,
          1988,
          1989,
          1990,
          1991,
          1992,
          1993,
          1994,
          1995,
          1996,
          1997,
          1998,
          1999,
          2000,
          2001,
          2002,
          2003,
          2004,
          2005,
          2006,
          2007,
          2008,
          2009,
          2010,
          2011,
          2012,
          2013,
          2014,
          2015,
          2016,
          2017,
          2018,
          2019,
          2020,
          2021
         ],
         "xaxis": "x",
         "y": [
          2.0674,
          2.1453,
          2.3698,
          2.8958,
          3.1108,
          3.4167,
          3.575,
          3.7767,
          4.0975,
          4.4483,
          4.3433,
          3.8512,
          3.9129,
          3.976,
          3.9979,
          4.2282,
          5.8414,
          7.2207,
          7.9297,
          8.6438,
          10.8694,
          13.6991,
          16.6354,
          19.0285,
          19.3729,
          22.6558,
          23.5666,
          20.9857,
          23.5074,
          45.9951,
          41.4939,
          42.2869,
          45.8873,
          52.6604,
          56.3259,
          54.8993,
          56.9279,
          56.6019,
          63.7403,
          67.3928,
          60.6683,
          64.8794,
          68.6729,
          77.8974,
          81.1161,
          71.2435,
          74.3754,
          73.5104,
          80.714,
          78.8466,
          84.5684,
          87.476
         ],
         "yaxis": "y"
        }
       ],
       "layout": {
        "legend": {
         "title": {
          "text": "variable"
         },
         "tracegroupgap": 0
        },
        "template": {
         "data": {
          "bar": [
           {
            "error_x": {
             "color": "#2a3f5f"
            },
            "error_y": {
             "color": "#2a3f5f"
            },
            "marker": {
             "line": {
              "color": "#E5ECF6",
              "width": 0.5
             },
             "pattern": {
              "fillmode": "overlay",
              "size": 10,
              "solidity": 0.2
             }
            },
            "type": "bar"
           }
          ],
          "barpolar": [
           {
            "marker": {
             "line": {
              "color": "#E5ECF6",
              "width": 0.5
             },
             "pattern": {
              "fillmode": "overlay",
              "size": 10,
              "solidity": 0.2
             }
            },
            "type": "barpolar"
           }
          ],
          "carpet": [
           {
            "aaxis": {
             "endlinecolor": "#2a3f5f",
             "gridcolor": "white",
             "linecolor": "white",
             "minorgridcolor": "white",
             "startlinecolor": "#2a3f5f"
            },
            "baxis": {
             "endlinecolor": "#2a3f5f",
             "gridcolor": "white",
             "linecolor": "white",
             "minorgridcolor": "white",
             "startlinecolor": "#2a3f5f"
            },
            "type": "carpet"
           }
          ],
          "choropleth": [
           {
            "colorbar": {
             "outlinewidth": 0,
             "ticks": ""
            },
            "type": "choropleth"
           }
          ],
          "contour": [
           {
            "colorbar": {
             "outlinewidth": 0,
             "ticks": ""
            },
            "colorscale": [
             [
              0,
              "#0d0887"
             ],
             [
              0.1111111111111111,
              "#46039f"
             ],
             [
              0.2222222222222222,
              "#7201a8"
             ],
             [
              0.3333333333333333,
              "#9c179e"
             ],
             [
              0.4444444444444444,
              "#bd3786"
             ],
             [
              0.5555555555555556,
              "#d8576b"
             ],
             [
              0.6666666666666666,
              "#ed7953"
             ],
             [
              0.7777777777777778,
              "#fb9f3a"
             ],
             [
              0.8888888888888888,
              "#fdca26"
             ],
             [
              1,
              "#f0f921"
             ]
            ],
            "type": "contour"
           }
          ],
          "contourcarpet": [
           {
            "colorbar": {
             "outlinewidth": 0,
             "ticks": ""
            },
            "type": "contourcarpet"
           }
          ],
          "heatmap": [
           {
            "colorbar": {
             "outlinewidth": 0,
             "ticks": ""
            },
            "colorscale": [
             [
              0,
              "#0d0887"
             ],
             [
              0.1111111111111111,
              "#46039f"
             ],
             [
              0.2222222222222222,
              "#7201a8"
             ],
             [
              0.3333333333333333,
              "#9c179e"
             ],
             [
              0.4444444444444444,
              "#bd3786"
             ],
             [
              0.5555555555555556,
              "#d8576b"
             ],
             [
              0.6666666666666666,
              "#ed7953"
             ],
             [
              0.7777777777777778,
              "#fb9f3a"
             ],
             [
              0.8888888888888888,
              "#fdca26"
             ],
             [
              1,
              "#f0f921"
             ]
            ],
            "type": "heatmap"
           }
          ],
          "heatmapgl": [
           {
            "colorbar": {
             "outlinewidth": 0,
             "ticks": ""
            },
            "colorscale": [
             [
              0,
              "#0d0887"
             ],
             [
              0.1111111111111111,
              "#46039f"
             ],
             [
              0.2222222222222222,
              "#7201a8"
             ],
             [
              0.3333333333333333,
              "#9c179e"
             ],
             [
              0.4444444444444444,
              "#bd3786"
             ],
             [
              0.5555555555555556,
              "#d8576b"
             ],
             [
              0.6666666666666666,
              "#ed7953"
             ],
             [
              0.7777777777777778,
              "#fb9f3a"
             ],
             [
              0.8888888888888888,
              "#fdca26"
             ],
             [
              1,
              "#f0f921"
             ]
            ],
            "type": "heatmapgl"
           }
          ],
          "histogram": [
           {
            "marker": {
             "pattern": {
              "fillmode": "overlay",
              "size": 10,
              "solidity": 0.2
             }
            },
            "type": "histogram"
           }
          ],
          "histogram2d": [
           {
            "colorbar": {
             "outlinewidth": 0,
             "ticks": ""
            },
            "colorscale": [
             [
              0,
              "#0d0887"
             ],
             [
              0.1111111111111111,
              "#46039f"
             ],
             [
              0.2222222222222222,
              "#7201a8"
             ],
             [
              0.3333333333333333,
              "#9c179e"
             ],
             [
              0.4444444444444444,
              "#bd3786"
             ],
             [
              0.5555555555555556,
              "#d8576b"
             ],
             [
              0.6666666666666666,
              "#ed7953"
             ],
             [
              0.7777777777777778,
              "#fb9f3a"
             ],
             [
              0.8888888888888888,
              "#fdca26"
             ],
             [
              1,
              "#f0f921"
             ]
            ],
            "type": "histogram2d"
           }
          ],
          "histogram2dcontour": [
           {
            "colorbar": {
             "outlinewidth": 0,
             "ticks": ""
            },
            "colorscale": [
             [
              0,
              "#0d0887"
             ],
             [
              0.1111111111111111,
              "#46039f"
             ],
             [
              0.2222222222222222,
              "#7201a8"
             ],
             [
              0.3333333333333333,
              "#9c179e"
             ],
             [
              0.4444444444444444,
              "#bd3786"
             ],
             [
              0.5555555555555556,
              "#d8576b"
             ],
             [
              0.6666666666666666,
              "#ed7953"
             ],
             [
              0.7777777777777778,
              "#fb9f3a"
             ],
             [
              0.8888888888888888,
              "#fdca26"
             ],
             [
              1,
              "#f0f921"
             ]
            ],
            "type": "histogram2dcontour"
           }
          ],
          "mesh3d": [
           {
            "colorbar": {
             "outlinewidth": 0,
             "ticks": ""
            },
            "type": "mesh3d"
           }
          ],
          "parcoords": [
           {
            "line": {
             "colorbar": {
              "outlinewidth": 0,
              "ticks": ""
             }
            },
            "type": "parcoords"
           }
          ],
          "pie": [
           {
            "automargin": true,
            "type": "pie"
           }
          ],
          "scatter": [
           {
            "fillpattern": {
             "fillmode": "overlay",
             "size": 10,
             "solidity": 0.2
            },
            "type": "scatter"
           }
          ],
          "scatter3d": [
           {
            "line": {
             "colorbar": {
              "outlinewidth": 0,
              "ticks": ""
             }
            },
            "marker": {
             "colorbar": {
              "outlinewidth": 0,
              "ticks": ""
             }
            },
            "type": "scatter3d"
           }
          ],
          "scattercarpet": [
           {
            "marker": {
             "colorbar": {
              "outlinewidth": 0,
              "ticks": ""
             }
            },
            "type": "scattercarpet"
           }
          ],
          "scattergeo": [
           {
            "marker": {
             "colorbar": {
              "outlinewidth": 0,
              "ticks": ""
             }
            },
            "type": "scattergeo"
           }
          ],
          "scattergl": [
           {
            "marker": {
             "colorbar": {
              "outlinewidth": 0,
              "ticks": ""
             }
            },
            "type": "scattergl"
           }
          ],
          "scattermapbox": [
           {
            "marker": {
             "colorbar": {
              "outlinewidth": 0,
              "ticks": ""
             }
            },
            "type": "scattermapbox"
           }
          ],
          "scatterpolar": [
           {
            "marker": {
             "colorbar": {
              "outlinewidth": 0,
              "ticks": ""
             }
            },
            "type": "scatterpolar"
           }
          ],
          "scatterpolargl": [
           {
            "marker": {
             "colorbar": {
              "outlinewidth": 0,
              "ticks": ""
             }
            },
            "type": "scatterpolargl"
           }
          ],
          "scatterternary": [
           {
            "marker": {
             "colorbar": {
              "outlinewidth": 0,
              "ticks": ""
             }
            },
            "type": "scatterternary"
           }
          ],
          "surface": [
           {
            "colorbar": {
             "outlinewidth": 0,
             "ticks": ""
            },
            "colorscale": [
             [
              0,
              "#0d0887"
             ],
             [
              0.1111111111111111,
              "#46039f"
             ],
             [
              0.2222222222222222,
              "#7201a8"
             ],
             [
              0.3333333333333333,
              "#9c179e"
             ],
             [
              0.4444444444444444,
              "#bd3786"
             ],
             [
              0.5555555555555556,
              "#d8576b"
             ],
             [
              0.6666666666666666,
              "#ed7953"
             ],
             [
              0.7777777777777778,
              "#fb9f3a"
             ],
             [
              0.8888888888888888,
              "#fdca26"
             ],
             [
              1,
              "#f0f921"
             ]
            ],
            "type": "surface"
           }
          ],
          "table": [
           {
            "cells": {
             "fill": {
              "color": "#EBF0F8"
             },
             "line": {
              "color": "white"
             }
            },
            "header": {
             "fill": {
              "color": "#C8D4E3"
             },
             "line": {
              "color": "white"
             }
            },
            "type": "table"
           }
          ]
         },
         "layout": {
          "annotationdefaults": {
           "arrowcolor": "#2a3f5f",
           "arrowhead": 0,
           "arrowwidth": 1
          },
          "autotypenumbers": "strict",
          "coloraxis": {
           "colorbar": {
            "outlinewidth": 0,
            "ticks": ""
           }
          },
          "colorscale": {
           "diverging": [
            [
             0,
             "#8e0152"
            ],
            [
             0.1,
             "#c51b7d"
            ],
            [
             0.2,
             "#de77ae"
            ],
            [
             0.3,
             "#f1b6da"
            ],
            [
             0.4,
             "#fde0ef"
            ],
            [
             0.5,
             "#f7f7f7"
            ],
            [
             0.6,
             "#e6f5d0"
            ],
            [
             0.7,
             "#b8e186"
            ],
            [
             0.8,
             "#7fbc41"
            ],
            [
             0.9,
             "#4d9221"
            ],
            [
             1,
             "#276419"
            ]
           ],
           "sequential": [
            [
             0,
             "#0d0887"
            ],
            [
             0.1111111111111111,
             "#46039f"
            ],
            [
             0.2222222222222222,
             "#7201a8"
            ],
            [
             0.3333333333333333,
             "#9c179e"
            ],
            [
             0.4444444444444444,
             "#bd3786"
            ],
            [
             0.5555555555555556,
             "#d8576b"
            ],
            [
             0.6666666666666666,
             "#ed7953"
            ],
            [
             0.7777777777777778,
             "#fb9f3a"
            ],
            [
             0.8888888888888888,
             "#fdca26"
            ],
            [
             1,
             "#f0f921"
            ]
           ],
           "sequentialminus": [
            [
             0,
             "#0d0887"
            ],
            [
             0.1111111111111111,
             "#46039f"
            ],
            [
             0.2222222222222222,
             "#7201a8"
            ],
            [
             0.3333333333333333,
             "#9c179e"
            ],
            [
             0.4444444444444444,
             "#bd3786"
            ],
            [
             0.5555555555555556,
             "#d8576b"
            ],
            [
             0.6666666666666666,
             "#ed7953"
            ],
            [
             0.7777777777777778,
             "#fb9f3a"
            ],
            [
             0.8888888888888888,
             "#fdca26"
            ],
            [
             1,
             "#f0f921"
            ]
           ]
          },
          "colorway": [
           "#636efa",
           "#EF553B",
           "#00cc96",
           "#ab63fa",
           "#FFA15A",
           "#19d3f3",
           "#FF6692",
           "#B6E880",
           "#FF97FF",
           "#FECB52"
          ],
          "font": {
           "color": "#2a3f5f"
          },
          "geo": {
           "bgcolor": "white",
           "lakecolor": "white",
           "landcolor": "#E5ECF6",
           "showlakes": true,
           "showland": true,
           "subunitcolor": "white"
          },
          "hoverlabel": {
           "align": "left"
          },
          "hovermode": "closest",
          "mapbox": {
           "style": "light"
          },
          "paper_bgcolor": "white",
          "plot_bgcolor": "#E5ECF6",
          "polar": {
           "angularaxis": {
            "gridcolor": "white",
            "linecolor": "white",
            "ticks": ""
           },
           "bgcolor": "#E5ECF6",
           "radialaxis": {
            "gridcolor": "white",
            "linecolor": "white",
            "ticks": ""
           }
          },
          "scene": {
           "xaxis": {
            "backgroundcolor": "#E5ECF6",
            "gridcolor": "white",
            "gridwidth": 2,
            "linecolor": "white",
            "showbackground": true,
            "ticks": "",
            "zerolinecolor": "white"
           },
           "yaxis": {
            "backgroundcolor": "#E5ECF6",
            "gridcolor": "white",
            "gridwidth": 2,
            "linecolor": "white",
            "showbackground": true,
            "ticks": "",
            "zerolinecolor": "white"
           },
           "zaxis": {
            "backgroundcolor": "#E5ECF6",
            "gridcolor": "white",
            "gridwidth": 2,
            "linecolor": "white",
            "showbackground": true,
            "ticks": "",
            "zerolinecolor": "white"
           }
          },
          "shapedefaults": {
           "line": {
            "color": "#2a3f5f"
           }
          },
          "ternary": {
           "aaxis": {
            "gridcolor": "white",
            "linecolor": "white",
            "ticks": ""
           },
           "baxis": {
            "gridcolor": "white",
            "linecolor": "white",
            "ticks": ""
           },
           "bgcolor": "#E5ECF6",
           "caxis": {
            "gridcolor": "white",
            "linecolor": "white",
            "ticks": ""
           }
          },
          "title": {
           "x": 0.05
          },
          "xaxis": {
           "automargin": true,
           "gridcolor": "white",
           "linecolor": "white",
           "ticks": "",
           "title": {
            "standoff": 15
           },
           "zerolinecolor": "white",
           "zerolinewidth": 2
          },
          "yaxis": {
           "automargin": true,
           "gridcolor": "white",
           "linecolor": "white",
           "ticks": "",
           "title": {
            "standoff": 15
           },
           "zerolinecolor": "white",
           "zerolinewidth": 2
          }
         }
        },
        "title": {
         "text": "EXCHANGE RATE OF THE INDIAN RUPEE VIS-A-VIS THE SDR, US DOLLAR, POUND STERLING, D. M. / EURO AND JAPANESE YEN (Calendar Year â€“ Annual Average) (Rupees per unit of foreign currency)"
        },
        "xaxis": {
         "anchor": "y",
         "domain": [
          0,
          1
         ],
         "title": {
          "text": "Year"
         }
        },
        "yaxis": {
         "anchor": "x",
         "domain": [
          0,
          1
         ],
         "title": {
          "text": "Exchange Rates"
         }
        }
       }
      },
      "text/html": [
       "<div>                            <div id=\"07730d59-ff54-47bf-be47-8a09d64e6beb\" class=\"plotly-graph-div\" style=\"height:525px; width:100%;\"></div>            <script type=\"text/javascript\">                require([\"plotly\"], function(Plotly) {                    window.PLOTLYENV=window.PLOTLYENV || {};                                    if (document.getElementById(\"07730d59-ff54-47bf-be47-8a09d64e6beb\")) {                    Plotly.newPlot(                        \"07730d59-ff54-47bf-be47-8a09d64e6beb\",                        [{\"hovertemplate\":\"variable=SDR<br>Year=%{x}<br>value=%{y}<extra></extra>\",\"legendgroup\":\"SDR\",\"line\":{\"color\":\"#636efa\",\"dash\":\"solid\"},\"marker\":{\"symbol\":\"circle\"},\"mode\":\"lines\",\"name\":\"SDR\",\"orientation\":\"v\",\"showlegend\":true,\"x\":[1970,1971,1972,1973,1974,1975,1976,1977,1978,1979,1980,1981,1982,1983,1984,1985,1986,1987,1988,1989,1990,1991,1992,1993,1994,1995,1996,1997,1998,1999,2000,2001,2002,2003,2004,2005,2006,2007,2008,2009,2010,2011,2012,2013,2014,2015,2016,2017,2018,2019,2020,2021],\"xaxis\":\"x\",\"y\":[7.5895,8.1601,9.0084,9.2293,9.759,9.7043,10.4016,10.2279,10.2782,10.5284,10.2611,10.2418,10.4766,10.831,11.6482,12.5625,14.8083,16.7617,18.6994,20.7906,23.7922,31.095,36.5094,42.6318,44.9296,49.1803,51.435,49.9584,56.0329,58.8799,59.2475,60.0782,62.9532,65.2192,67.1058,65.1404,66.6775,63.2702,68.6477,74.588,69.7509,73.6424,81.7876,89.0613,92.7309,89.7461,93.4012,90.2966,96.7832,97.2947,103.24,105.3257],\"yaxis\":\"y\",\"type\":\"scatter\"},{\"hovertemplate\":\"variable=US Dollar<br>Year=%{x}<br>value=%{y}<extra></extra>\",\"legendgroup\":\"US Dollar\",\"line\":{\"color\":\"#EF553B\",\"dash\":\"solid\"},\"marker\":{\"symbol\":\"circle\"},\"mode\":\"lines\",\"name\":\"US Dollar\",\"orientation\":\"v\",\"showlegend\":true,\"x\":[1970,1971,1972,1973,1974,1975,1976,1977,1978,1979,1980,1981,1982,1983,1984,1985,1986,1987,1988,1989,1990,1991,1992,1993,1994,1995,1996,1997,1998,1999,2000,2001,2002,2003,2004,2005,2006,2007,2008,2009,2010,2011,2012,2013,2014,2015,2016,2017,2018,2019,2020,2021],\"xaxis\":\"x\",\"y\":[7.5668,7.5244,7.5563,7.6742,8.0375,8.4058,9.0017,8.7625,8.2133,8.1467,7.88,8.6926,9.4924,10.1379,11.3683,12.364,12.6053,12.9552,13.9147,16.2238,17.4992,22.689,25.9206,31.4458,31.3742,32.4232,35.4294,36.3196,41.2677,43.0485,44.9401,47.1857,48.5993,46.5819,45.3165,44.1,45.307,41.3485,43.5049,48.4049,45.7262,46.6723,53.4376,58.5978,61.0295,64.1519,67.1953,65.1216,68.3895,70.4203,74.0996,73.918],\"yaxis\":\"y\",\"type\":\"scatter\"},{\"hovertemplate\":\"variable=Pound Sterling<br>Year=%{x}<br>value=%{y}<extra></extra>\",\"legendgroup\":\"Pound Sterling\",\"line\":{\"color\":\"#00cc96\",\"dash\":\"solid\"},\"marker\":{\"symbol\":\"circle\"},\"mode\":\"lines\",\"name\":\"Pound Sterling\",\"orientation\":\"v\",\"showlegend\":true,\"x\":[1970,1971,1972,1973,1974,1975,1976,1977,1978,1979,1980,1981,1982,1983,1984,1985,1986,1987,1988,1989,1990,1991,1992,1993,1994,1995,1996,1997,1998,1999,2000,2001,2002,2003,2004,2005,2006,2007,2008,2009,2010,2011,2012,2013,2014,2015,2016,2017,2018,2019,2020,2021],\"xaxis\":\"x\",\"y\":[18.0,18.0,18.885,18.8,18.8,18.6125,16.2542,15.2917,15.7633,17.2783,18.3242,17.5423,16.5954,15.3653,15.1469,15.9904,18.4924,21.2366,24.7729,26.5515,31.2835,39.9941,45.7104,47.2165,48.0543,51.168,55.3482,59.5289,68.3511,69.6786,68.076,67.9834,72.9988,76.0974,82.9983,80.253,83.5115,82.7218,80.1362,75.7282,70.6912,74.7736,84.6955,91.7716,100.544,98.1323,91.1248,83.876,91.2189,89.9351,95.0919,101.6904],\"yaxis\":\"y\",\"type\":\"scatter\"},{\"hovertemplate\":\"variable=Japanese Yen<br>Year=%{x}<br>value=%{y}<extra></extra>\",\"legendgroup\":\"Japanese Yen\",\"line\":{\"color\":\"#ab63fa\",\"dash\":\"solid\"},\"marker\":{\"symbol\":\"circle\"},\"mode\":\"lines\",\"name\":\"Japanese Yen\",\"orientation\":\"v\",\"showlegend\":true,\"x\":[1970,1971,1972,1973,1974,1975,1976,1977,1978,1979,1980,1981,1982,1983,1984,1985,1986,1987,1988,1989,1990,1991,1992,1993,1994,1995,1996,1997,1998,1999,2000,2001,2002,2003,2004,2005,2006,2007,2008,2009,2010,2011,2012,2013,2014,2015,2016,2017,2018,2019,2020,2021],\"xaxis\":\"x\",\"y\":[2.1578,2.4819,2.7811,3.0,3.0,3.0,3.0,3.17,3.92,3.92,3.83,3.96,3.82,4.26,4.79,5.22,7.54,8.98,10.87,11.76,12.16,16.92,20.48,28.3625,30.7424,34.6154,32.5975,30.048,31.6646,37.9595,41.7257,38.8674,38.873,40.2047,41.8941,40.102,38.9752,35.1348,42.3079,51.8119,52.1669,58.6244,67.0289,60.0777,57.7919,53.0212,61.934,58.0652,61.8963,64.6161,69.4479,67.3794],\"yaxis\":\"y\",\"type\":\"scatter\"},{\"hovertemplate\":\"variable=Deutsche Mark/Euro<br>Year=%{x}<br>value=%{y}<extra></extra>\",\"legendgroup\":\"Deutsche Mark/Euro\",\"line\":{\"color\":\"#FFA15A\",\"dash\":\"solid\"},\"marker\":{\"symbol\":\"circle\"},\"mode\":\"lines\",\"name\":\"Deutsche Mark/Euro\",\"orientation\":\"v\",\"showlegend\":true,\"x\":[1970,1971,1972,1973,1974,1975,1976,1977,1978,1979,1980,1981,1982,1983,1984,1985,1986,1987,1988,1989,1990,1991,1992,1993,1994,1995,1996,1997,1998,1999,2000,2001,2002,2003,2004,2005,2006,2007,2008,2009,2010,2011,2012,2013,2014,2015,2016,2017,2018,2019,2020,2021],\"xaxis\":\"x\",\"y\":[2.0674,2.1453,2.3698,2.8958,3.1108,3.4167,3.575,3.7767,4.0975,4.4483,4.3433,3.8512,3.9129,3.976,3.9979,4.2282,5.8414,7.2207,7.9297,8.6438,10.8694,13.6991,16.6354,19.0285,19.3729,22.6558,23.5666,20.9857,23.5074,45.9951,41.4939,42.2869,45.8873,52.6604,56.3259,54.8993,56.9279,56.6019,63.7403,67.3928,60.6683,64.8794,68.6729,77.8974,81.1161,71.2435,74.3754,73.5104,80.714,78.8466,84.5684,87.476],\"yaxis\":\"y\",\"type\":\"scatter\"}],                        {\"template\":{\"data\":{\"histogram2dcontour\":[{\"type\":\"histogram2dcontour\",\"colorbar\":{\"outlinewidth\":0,\"ticks\":\"\"},\"colorscale\":[[0.0,\"#0d0887\"],[0.1111111111111111,\"#46039f\"],[0.2222222222222222,\"#7201a8\"],[0.3333333333333333,\"#9c179e\"],[0.4444444444444444,\"#bd3786\"],[0.5555555555555556,\"#d8576b\"],[0.6666666666666666,\"#ed7953\"],[0.7777777777777778,\"#fb9f3a\"],[0.8888888888888888,\"#fdca26\"],[1.0,\"#f0f921\"]]}],\"choropleth\":[{\"type\":\"choropleth\",\"colorbar\":{\"outlinewidth\":0,\"ticks\":\"\"}}],\"histogram2d\":[{\"type\":\"histogram2d\",\"colorbar\":{\"outlinewidth\":0,\"ticks\":\"\"},\"colorscale\":[[0.0,\"#0d0887\"],[0.1111111111111111,\"#46039f\"],[0.2222222222222222,\"#7201a8\"],[0.3333333333333333,\"#9c179e\"],[0.4444444444444444,\"#bd3786\"],[0.5555555555555556,\"#d8576b\"],[0.6666666666666666,\"#ed7953\"],[0.7777777777777778,\"#fb9f3a\"],[0.8888888888888888,\"#fdca26\"],[1.0,\"#f0f921\"]]}],\"heatmap\":[{\"type\":\"heatmap\",\"colorbar\":{\"outlinewidth\":0,\"ticks\":\"\"},\"colorscale\":[[0.0,\"#0d0887\"],[0.1111111111111111,\"#46039f\"],[0.2222222222222222,\"#7201a8\"],[0.3333333333333333,\"#9c179e\"],[0.4444444444444444,\"#bd3786\"],[0.5555555555555556,\"#d8576b\"],[0.6666666666666666,\"#ed7953\"],[0.7777777777777778,\"#fb9f3a\"],[0.8888888888888888,\"#fdca26\"],[1.0,\"#f0f921\"]]}],\"heatmapgl\":[{\"type\":\"heatmapgl\",\"colorbar\":{\"outlinewidth\":0,\"ticks\":\"\"},\"colorscale\":[[0.0,\"#0d0887\"],[0.1111111111111111,\"#46039f\"],[0.2222222222222222,\"#7201a8\"],[0.3333333333333333,\"#9c179e\"],[0.4444444444444444,\"#bd3786\"],[0.5555555555555556,\"#d8576b\"],[0.6666666666666666,\"#ed7953\"],[0.7777777777777778,\"#fb9f3a\"],[0.8888888888888888,\"#fdca26\"],[1.0,\"#f0f921\"]]}],\"contourcarpet\":[{\"type\":\"contourcarpet\",\"colorbar\":{\"outlinewidth\":0,\"ticks\":\"\"}}],\"contour\":[{\"type\":\"contour\",\"colorbar\":{\"outlinewidth\":0,\"ticks\":\"\"},\"colorscale\":[[0.0,\"#0d0887\"],[0.1111111111111111,\"#46039f\"],[0.2222222222222222,\"#7201a8\"],[0.3333333333333333,\"#9c179e\"],[0.4444444444444444,\"#bd3786\"],[0.5555555555555556,\"#d8576b\"],[0.6666666666666666,\"#ed7953\"],[0.7777777777777778,\"#fb9f3a\"],[0.8888888888888888,\"#fdca26\"],[1.0,\"#f0f921\"]]}],\"surface\":[{\"type\":\"surface\",\"colorbar\":{\"outlinewidth\":0,\"ticks\":\"\"},\"colorscale\":[[0.0,\"#0d0887\"],[0.1111111111111111,\"#46039f\"],[0.2222222222222222,\"#7201a8\"],[0.3333333333333333,\"#9c179e\"],[0.4444444444444444,\"#bd3786\"],[0.5555555555555556,\"#d8576b\"],[0.6666666666666666,\"#ed7953\"],[0.7777777777777778,\"#fb9f3a\"],[0.8888888888888888,\"#fdca26\"],[1.0,\"#f0f921\"]]}],\"mesh3d\":[{\"type\":\"mesh3d\",\"colorbar\":{\"outlinewidth\":0,\"ticks\":\"\"}}],\"scatter\":[{\"fillpattern\":{\"fillmode\":\"overlay\",\"size\":10,\"solidity\":0.2},\"type\":\"scatter\"}],\"parcoords\":[{\"type\":\"parcoords\",\"line\":{\"colorbar\":{\"outlinewidth\":0,\"ticks\":\"\"}}}],\"scatterpolargl\":[{\"type\":\"scatterpolargl\",\"marker\":{\"colorbar\":{\"outlinewidth\":0,\"ticks\":\"\"}}}],\"bar\":[{\"error_x\":{\"color\":\"#2a3f5f\"},\"error_y\":{\"color\":\"#2a3f5f\"},\"marker\":{\"line\":{\"color\":\"#E5ECF6\",\"width\":0.5},\"pattern\":{\"fillmode\":\"overlay\",\"size\":10,\"solidity\":0.2}},\"type\":\"bar\"}],\"scattergeo\":[{\"type\":\"scattergeo\",\"marker\":{\"colorbar\":{\"outlinewidth\":0,\"ticks\":\"\"}}}],\"scatterpolar\":[{\"type\":\"scatterpolar\",\"marker\":{\"colorbar\":{\"outlinewidth\":0,\"ticks\":\"\"}}}],\"histogram\":[{\"marker\":{\"pattern\":{\"fillmode\":\"overlay\",\"size\":10,\"solidity\":0.2}},\"type\":\"histogram\"}],\"scattergl\":[{\"type\":\"scattergl\",\"marker\":{\"colorbar\":{\"outlinewidth\":0,\"ticks\":\"\"}}}],\"scatter3d\":[{\"type\":\"scatter3d\",\"line\":{\"colorbar\":{\"outlinewidth\":0,\"ticks\":\"\"}},\"marker\":{\"colorbar\":{\"outlinewidth\":0,\"ticks\":\"\"}}}],\"scattermapbox\":[{\"type\":\"scattermapbox\",\"marker\":{\"colorbar\":{\"outlinewidth\":0,\"ticks\":\"\"}}}],\"scatterternary\":[{\"type\":\"scatterternary\",\"marker\":{\"colorbar\":{\"outlinewidth\":0,\"ticks\":\"\"}}}],\"scattercarpet\":[{\"type\":\"scattercarpet\",\"marker\":{\"colorbar\":{\"outlinewidth\":0,\"ticks\":\"\"}}}],\"carpet\":[{\"aaxis\":{\"endlinecolor\":\"#2a3f5f\",\"gridcolor\":\"white\",\"linecolor\":\"white\",\"minorgridcolor\":\"white\",\"startlinecolor\":\"#2a3f5f\"},\"baxis\":{\"endlinecolor\":\"#2a3f5f\",\"gridcolor\":\"white\",\"linecolor\":\"white\",\"minorgridcolor\":\"white\",\"startlinecolor\":\"#2a3f5f\"},\"type\":\"carpet\"}],\"table\":[{\"cells\":{\"fill\":{\"color\":\"#EBF0F8\"},\"line\":{\"color\":\"white\"}},\"header\":{\"fill\":{\"color\":\"#C8D4E3\"},\"line\":{\"color\":\"white\"}},\"type\":\"table\"}],\"barpolar\":[{\"marker\":{\"line\":{\"color\":\"#E5ECF6\",\"width\":0.5},\"pattern\":{\"fillmode\":\"overlay\",\"size\":10,\"solidity\":0.2}},\"type\":\"barpolar\"}],\"pie\":[{\"automargin\":true,\"type\":\"pie\"}]},\"layout\":{\"autotypenumbers\":\"strict\",\"colorway\":[\"#636efa\",\"#EF553B\",\"#00cc96\",\"#ab63fa\",\"#FFA15A\",\"#19d3f3\",\"#FF6692\",\"#B6E880\",\"#FF97FF\",\"#FECB52\"],\"font\":{\"color\":\"#2a3f5f\"},\"hovermode\":\"closest\",\"hoverlabel\":{\"align\":\"left\"},\"paper_bgcolor\":\"white\",\"plot_bgcolor\":\"#E5ECF6\",\"polar\":{\"bgcolor\":\"#E5ECF6\",\"angularaxis\":{\"gridcolor\":\"white\",\"linecolor\":\"white\",\"ticks\":\"\"},\"radialaxis\":{\"gridcolor\":\"white\",\"linecolor\":\"white\",\"ticks\":\"\"}},\"ternary\":{\"bgcolor\":\"#E5ECF6\",\"aaxis\":{\"gridcolor\":\"white\",\"linecolor\":\"white\",\"ticks\":\"\"},\"baxis\":{\"gridcolor\":\"white\",\"linecolor\":\"white\",\"ticks\":\"\"},\"caxis\":{\"gridcolor\":\"white\",\"linecolor\":\"white\",\"ticks\":\"\"}},\"coloraxis\":{\"colorbar\":{\"outlinewidth\":0,\"ticks\":\"\"}},\"colorscale\":{\"sequential\":[[0.0,\"#0d0887\"],[0.1111111111111111,\"#46039f\"],[0.2222222222222222,\"#7201a8\"],[0.3333333333333333,\"#9c179e\"],[0.4444444444444444,\"#bd3786\"],[0.5555555555555556,\"#d8576b\"],[0.6666666666666666,\"#ed7953\"],[0.7777777777777778,\"#fb9f3a\"],[0.8888888888888888,\"#fdca26\"],[1.0,\"#f0f921\"]],\"sequentialminus\":[[0.0,\"#0d0887\"],[0.1111111111111111,\"#46039f\"],[0.2222222222222222,\"#7201a8\"],[0.3333333333333333,\"#9c179e\"],[0.4444444444444444,\"#bd3786\"],[0.5555555555555556,\"#d8576b\"],[0.6666666666666666,\"#ed7953\"],[0.7777777777777778,\"#fb9f3a\"],[0.8888888888888888,\"#fdca26\"],[1.0,\"#f0f921\"]],\"diverging\":[[0,\"#8e0152\"],[0.1,\"#c51b7d\"],[0.2,\"#de77ae\"],[0.3,\"#f1b6da\"],[0.4,\"#fde0ef\"],[0.5,\"#f7f7f7\"],[0.6,\"#e6f5d0\"],[0.7,\"#b8e186\"],[0.8,\"#7fbc41\"],[0.9,\"#4d9221\"],[1,\"#276419\"]]},\"xaxis\":{\"gridcolor\":\"white\",\"linecolor\":\"white\",\"ticks\":\"\",\"title\":{\"standoff\":15},\"zerolinecolor\":\"white\",\"automargin\":true,\"zerolinewidth\":2},\"yaxis\":{\"gridcolor\":\"white\",\"linecolor\":\"white\",\"ticks\":\"\",\"title\":{\"standoff\":15},\"zerolinecolor\":\"white\",\"automargin\":true,\"zerolinewidth\":2},\"scene\":{\"xaxis\":{\"backgroundcolor\":\"#E5ECF6\",\"gridcolor\":\"white\",\"linecolor\":\"white\",\"showbackground\":true,\"ticks\":\"\",\"zerolinecolor\":\"white\",\"gridwidth\":2},\"yaxis\":{\"backgroundcolor\":\"#E5ECF6\",\"gridcolor\":\"white\",\"linecolor\":\"white\",\"showbackground\":true,\"ticks\":\"\",\"zerolinecolor\":\"white\",\"gridwidth\":2},\"zaxis\":{\"backgroundcolor\":\"#E5ECF6\",\"gridcolor\":\"white\",\"linecolor\":\"white\",\"showbackground\":true,\"ticks\":\"\",\"zerolinecolor\":\"white\",\"gridwidth\":2}},\"shapedefaults\":{\"line\":{\"color\":\"#2a3f5f\"}},\"annotationdefaults\":{\"arrowcolor\":\"#2a3f5f\",\"arrowhead\":0,\"arrowwidth\":1},\"geo\":{\"bgcolor\":\"white\",\"landcolor\":\"#E5ECF6\",\"subunitcolor\":\"white\",\"showland\":true,\"showlakes\":true,\"lakecolor\":\"white\"},\"title\":{\"x\":0.05},\"mapbox\":{\"style\":\"light\"}}},\"xaxis\":{\"anchor\":\"y\",\"domain\":[0.0,1.0],\"title\":{\"text\":\"Year\"}},\"yaxis\":{\"anchor\":\"x\",\"domain\":[0.0,1.0],\"title\":{\"text\":\"Exchange Rates\"}},\"legend\":{\"title\":{\"text\":\"variable\"},\"tracegroupgap\":0},\"title\":{\"text\":\"EXCHANGE RATE OF THE INDIAN RUPEE VIS-A-VIS THE SDR, US DOLLAR, POUND STERLING, D. M. / EURO AND JAPANESE YEN (Calendar Year \\u00e2\\u20ac\\u201c Annual Average) (Rupees per unit of foreign currency)\"}},                        {\"responsive\": true}                    ).then(function(){\n",
       "                            \n",
       "var gd = document.getElementById('07730d59-ff54-47bf-be47-8a09d64e6beb');\n",
       "var x = new MutationObserver(function (mutations, observer) {{\n",
       "        var display = window.getComputedStyle(gd).display;\n",
       "        if (!display || display === 'none') {{\n",
       "            console.log([gd, 'removed!']);\n",
       "            Plotly.purge(gd);\n",
       "            observer.disconnect();\n",
       "        }}\n",
       "}});\n",
       "\n",
       "// Listen for the removal of the full notebook cells\n",
       "var notebookContainer = gd.closest('#notebook-container');\n",
       "if (notebookContainer) {{\n",
       "    x.observe(notebookContainer, {childList: true});\n",
       "}}\n",
       "\n",
       "// Listen for the clearing of the current output cell\n",
       "var outputEl = gd.closest('.output');\n",
       "if (outputEl) {{\n",
       "    x.observe(outputEl, {childList: true});\n",
       "}}\n",
       "\n",
       "                        })                };                });            </script>        </div>"
      ]
     },
     "metadata": {},
     "output_type": "display_data"
    }
   ],
   "source": [
    "fig = px.line(exchange_rates, x='Year', y=[ 'SDR', 'US Dollar', 'Pound Sterling', 'Japanese Yen',\n",
    "       'Deutsche Mark/Euro'], title=title)\n",
    "fig.update_layout(xaxis_title='Year', yaxis_title='Exchange Rates')\n",
    "fig.show()"
   ]
  },
  {
   "cell_type": "code",
   "execution_count": 72,
   "metadata": {},
   "outputs": [],
   "source": [
    "exchange_rates.to_csv('exchange_rates_final', index=False)"
   ]
  },
  {
   "attachments": {},
   "cell_type": "markdown",
   "metadata": {},
   "source": [
    "# debt"
   ]
  },
  {
   "cell_type": "code",
   "execution_count": null,
   "metadata": {},
   "outputs": [],
   "source": [
    "title = 'INDIAâ€™S EXTERNAL DEBT - RUPEES (End-March) (Rupees Crore)'\n",
    "debt = pd.read_csv('debt.csv')\n",
    "debt"
   ]
  },
  {
   "cell_type": "code",
   "execution_count": null,
   "metadata": {},
   "outputs": [],
   "source": [
    "debt.iloc[:, 0:] = debt.iloc[:, 0:].apply(pd.to_numeric, errors = 'coerce')\n",
    "debt\n"
   ]
  },
  {
   "cell_type": "code",
   "execution_count": 76,
   "metadata": {},
   "outputs": [
    {
     "data": {
      "text/plain": [
       "Index(['Year', 'Total Multilateral', 'Government Borrowing',\n",
       "       'Non - Government Borrowing', 'Total Bilateral',\n",
       "       'Government Borrowing.1', 'Non - Government Borrowing.1', 'IMF'],\n",
       "      dtype='object')"
      ]
     },
     "execution_count": 76,
     "metadata": {},
     "output_type": "execute_result"
    }
   ],
   "source": [
    "debt.columns"
   ]
  },
  {
   "cell_type": "code",
   "execution_count": 78,
   "metadata": {},
   "outputs": [
    {
     "data": {
      "application/vnd.plotly.v1+json": {
       "config": {
        "plotlyServerURL": "https://plot.ly"
       },
       "data": [
        {
         "hovertemplate": "variable=Total Multilateral<br>Year=%{x}<br>value=%{y}<extra></extra>",
         "legendgroup": "Total Multilateral",
         "line": {
          "color": "#636efa",
          "dash": "solid"
         },
         "marker": {
          "symbol": "circle"
         },
         "mode": "lines",
         "name": "Total Multilateral",
         "orientation": "v",
         "showlegend": true,
         "type": "scatter",
         "x": [
          2022,
          2021,
          2020,
          2019,
          2018,
          2017,
          2016,
          2015,
          2014,
          2013,
          2012,
          2011,
          2010,
          2009,
          2008,
          2007,
          2006,
          2005,
          2004,
          2003,
          2002,
          2001,
          2000,
          1999,
          1998,
          1997,
          1996,
          1995,
          1994,
          1993,
          1992,
          1991
         ],
         "xaxis": "x",
         "y": [
          553142,
          507314,
          449606,
          395885,
          371781,
          354118,
          359490,
          328148,
          321560,
          279310,
          257088,
          216672,
          193436,
          201425,
          157901,
          154053,
          145503,
          138897,
          131105,
          142683,
          155633,
          145105,
          137132,
          129682,
          116904,
          105066,
          98173,
          89819,
          82199,
          77758,
          68262,
          40386
         ],
         "yaxis": "y"
        },
        {
         "hovertemplate": "variable=Government Borrowing<br>Year=%{x}<br>value=%{y}<extra></extra>",
         "legendgroup": "Government Borrowing",
         "line": {
          "color": "#EF553B",
          "dash": "solid"
         },
         "marker": {
          "symbol": "circle"
         },
         "mode": "lines",
         "name": "Government Borrowing",
         "orientation": "v",
         "showlegend": true,
         "type": "scatter",
         "x": [
          2022,
          2021,
          2020,
          2019,
          2018,
          2017,
          2016,
          2015,
          2014,
          2013,
          2012,
          2011,
          2010,
          2009,
          2008,
          2007,
          2006,
          2005,
          2004,
          2003,
          2002,
          2001,
          2000,
          1999,
          1998,
          1997,
          1996,
          1995,
          1994,
          1993,
          1992,
          1991
         ],
         "xaxis": "x",
         "y": [
          460545,
          419319,
          362042,
          320336,
          304595,
          288246,
          294122,
          269431,
          268491,
          235670,
          222579,
          190326,
          170722,
          181997,
          144627,
          141746,
          133800,
          127782,
          120073,
          129727,
          138023,
          127886,
          120321,
          114531,
          104218,
          94824,
          89428,
          82223,
          75617,
          72286,
          63787,
          38429
         ],
         "yaxis": "y"
        },
        {
         "hovertemplate": "variable=Non - Government Borrowing<br>Year=%{x}<br>value=%{y}<extra></extra>",
         "legendgroup": "Non - Government Borrowing",
         "line": {
          "color": "#00cc96",
          "dash": "solid"
         },
         "marker": {
          "symbol": "circle"
         },
         "mode": "lines",
         "name": "Non - Government Borrowing",
         "orientation": "v",
         "showlegend": true,
         "type": "scatter",
         "x": [
          2022,
          2021,
          2020,
          2019,
          2018,
          2017,
          2016,
          2015,
          2014,
          2013,
          2012,
          2011,
          2010,
          2009,
          2008,
          2007,
          2006,
          2005,
          2004,
          2003,
          2002,
          2001,
          2000,
          1999,
          1998,
          1997,
          1996,
          1995,
          1994,
          1993,
          1992,
          1991
         ],
         "xaxis": "x",
         "y": [
          92597,
          87996,
          87564,
          75549,
          67186,
          65872,
          65368,
          58717,
          53069,
          43640,
          34509,
          26346,
          22714,
          19428,
          13274,
          12307,
          11703,
          11115,
          11032,
          12956,
          17610,
          17219,
          16811,
          15151,
          12686,
          10242,
          8745,
          7596,
          6582,
          5472,
          4475,
          1957
         ],
         "yaxis": "y"
        },
        {
         "hovertemplate": "variable=Total Bilateral<br>Year=%{x}<br>value=%{y}<extra></extra>",
         "legendgroup": "Total Bilateral",
         "line": {
          "color": "#ab63fa",
          "dash": "solid"
         },
         "marker": {
          "symbol": "circle"
         },
         "mode": "lines",
         "name": "Total Bilateral",
         "orientation": "v",
         "showlegend": true,
         "type": "scatter",
         "x": [
          2022,
          2021,
          2020,
          2019,
          2018,
          2017,
          2016,
          2015,
          2014,
          2013,
          2012,
          2011,
          2010,
          2009,
          2008,
          2007,
          2006,
          2005,
          2004,
          2003,
          2002,
          2001,
          2000,
          1999,
          1998,
          1997,
          1996,
          1995,
          1994,
          1993,
          1992,
          1991
         ],
         "xaxis": "x",
         "y": [
          245171,
          225017,
          210194,
          183742,
          164788,
          150808,
          149378,
          136060,
          148813,
          136329,
          137086,
          114905,
          101976,
          104997,
          78802,
          70034,
          70302,
          74530,
          77084,
          79921,
          74762,
          74519,
          79278,
          74304,
          67104,
          62891,
          65740,
          63761,
          54580,
          50258,
          47603,
          27378
         ],
         "yaxis": "y"
        },
        {
         "hovertemplate": "variable=Government Borrowing.1<br>Year=%{x}<br>value=%{y}<extra></extra>",
         "legendgroup": "Government Borrowing.1",
         "line": {
          "color": "#FFA15A",
          "dash": "solid"
         },
         "marker": {
          "symbol": "circle"
         },
         "mode": "lines",
         "name": "Government Borrowing.1",
         "orientation": "v",
         "showlegend": true,
         "type": "scatter",
         "x": [
          2022,
          2021,
          2020,
          2019,
          2018,
          2017,
          2016,
          2015,
          2014,
          2013,
          2012,
          2011,
          2010,
          2009,
          2008,
          2007,
          2006,
          2005,
          2004,
          2003,
          2002,
          2001,
          2000,
          1999,
          1998,
          1997,
          1996,
          1995,
          1994,
          1993,
          1992,
          1991
         ],
         "xaxis": "x",
         "y": [
          198021,
          179101,
          167494,
          141410,
          128945,
          109742,
          102925,
          88452,
          96918,
          88007,
          91641,
          80406,
          71584,
          74662,
          59391,
          53810,
          54593,
          57458,
          58121,
          60243,
          56302,
          56802,
          60920,
          57106,
          51420,
          49092,
          53119,
          52965,
          45387,
          42220,
          40371,
          23065
         ],
         "yaxis": "y"
        },
        {
         "hovertemplate": "variable=Non - Government Borrowing.1<br>Year=%{x}<br>value=%{y}<extra></extra>",
         "legendgroup": "Non - Government Borrowing.1",
         "line": {
          "color": "#19d3f3",
          "dash": "solid"
         },
         "marker": {
          "symbol": "circle"
         },
         "mode": "lines",
         "name": "Non - Government Borrowing.1",
         "orientation": "v",
         "showlegend": true,
         "type": "scatter",
         "x": [
          2022,
          2021,
          2020,
          2019,
          2018,
          2017,
          2016,
          2015,
          2014,
          2013,
          2012,
          2011,
          2010,
          2009,
          2008,
          2007,
          2006,
          2005,
          2004,
          2003,
          2002,
          2001,
          2000,
          1999,
          1998,
          1997,
          1996,
          1995,
          1994,
          1993,
          1992,
          1991
         ],
         "xaxis": "x",
         "y": [
          47150,
          45916,
          42700,
          42332,
          35843,
          41066,
          46453,
          47608,
          51895,
          48322,
          45445,
          34499,
          30392,
          30335,
          19411,
          16224,
          15709,
          17072,
          18963,
          19678,
          18460,
          17717,
          18358,
          17198,
          15684,
          13799,
          12621,
          10796,
          9193,
          8038,
          7232,
          4313
         ],
         "yaxis": "y"
        },
        {
         "hovertemplate": "variable=IMF<br>Year=%{x}<br>value=%{y}<extra></extra>",
         "legendgroup": "IMF",
         "line": {
          "color": "#FF6692",
          "dash": "solid"
         },
         "marker": {
          "symbol": "circle"
         },
         "mode": "lines",
         "name": "IMF",
         "orientation": "v",
         "showlegend": true,
         "type": "scatter",
         "x": [
          2022,
          2021,
          2020,
          2019,
          2018,
          2017,
          2016,
          2015,
          2014,
          2013,
          2012,
          2011,
          2010,
          2009,
          2008,
          2007,
          2006,
          2005,
          2004,
          2003,
          2002,
          2001,
          2000,
          1999,
          1998,
          1997,
          1996,
          1995,
          1994,
          1993,
          1992,
          1991
         ],
         "xaxis": "x",
         "y": [
          173415,
          41442,
          40931,
          38202,
          37716,
          35129,
          37177,
          34350,
          36910,
          32439,
          31528,
          28163,
          27264,
          5188,
          4479,
          4484,
          4378,
          4503,
          4381,
          0,
          0,
          0,
          113,
          1218,
          2622,
          4714,
          8152,
          13545,
          15812,
          14985,
          8934,
          5132
         ],
         "yaxis": "y"
        }
       ],
       "layout": {
        "legend": {
         "title": {
          "text": "variable"
         },
         "tracegroupgap": 0
        },
        "template": {
         "data": {
          "bar": [
           {
            "error_x": {
             "color": "#2a3f5f"
            },
            "error_y": {
             "color": "#2a3f5f"
            },
            "marker": {
             "line": {
              "color": "#E5ECF6",
              "width": 0.5
             },
             "pattern": {
              "fillmode": "overlay",
              "size": 10,
              "solidity": 0.2
             }
            },
            "type": "bar"
           }
          ],
          "barpolar": [
           {
            "marker": {
             "line": {
              "color": "#E5ECF6",
              "width": 0.5
             },
             "pattern": {
              "fillmode": "overlay",
              "size": 10,
              "solidity": 0.2
             }
            },
            "type": "barpolar"
           }
          ],
          "carpet": [
           {
            "aaxis": {
             "endlinecolor": "#2a3f5f",
             "gridcolor": "white",
             "linecolor": "white",
             "minorgridcolor": "white",
             "startlinecolor": "#2a3f5f"
            },
            "baxis": {
             "endlinecolor": "#2a3f5f",
             "gridcolor": "white",
             "linecolor": "white",
             "minorgridcolor": "white",
             "startlinecolor": "#2a3f5f"
            },
            "type": "carpet"
           }
          ],
          "choropleth": [
           {
            "colorbar": {
             "outlinewidth": 0,
             "ticks": ""
            },
            "type": "choropleth"
           }
          ],
          "contour": [
           {
            "colorbar": {
             "outlinewidth": 0,
             "ticks": ""
            },
            "colorscale": [
             [
              0,
              "#0d0887"
             ],
             [
              0.1111111111111111,
              "#46039f"
             ],
             [
              0.2222222222222222,
              "#7201a8"
             ],
             [
              0.3333333333333333,
              "#9c179e"
             ],
             [
              0.4444444444444444,
              "#bd3786"
             ],
             [
              0.5555555555555556,
              "#d8576b"
             ],
             [
              0.6666666666666666,
              "#ed7953"
             ],
             [
              0.7777777777777778,
              "#fb9f3a"
             ],
             [
              0.8888888888888888,
              "#fdca26"
             ],
             [
              1,
              "#f0f921"
             ]
            ],
            "type": "contour"
           }
          ],
          "contourcarpet": [
           {
            "colorbar": {
             "outlinewidth": 0,
             "ticks": ""
            },
            "type": "contourcarpet"
           }
          ],
          "heatmap": [
           {
            "colorbar": {
             "outlinewidth": 0,
             "ticks": ""
            },
            "colorscale": [
             [
              0,
              "#0d0887"
             ],
             [
              0.1111111111111111,
              "#46039f"
             ],
             [
              0.2222222222222222,
              "#7201a8"
             ],
             [
              0.3333333333333333,
              "#9c179e"
             ],
             [
              0.4444444444444444,
              "#bd3786"
             ],
             [
              0.5555555555555556,
              "#d8576b"
             ],
             [
              0.6666666666666666,
              "#ed7953"
             ],
             [
              0.7777777777777778,
              "#fb9f3a"
             ],
             [
              0.8888888888888888,
              "#fdca26"
             ],
             [
              1,
              "#f0f921"
             ]
            ],
            "type": "heatmap"
           }
          ],
          "heatmapgl": [
           {
            "colorbar": {
             "outlinewidth": 0,
             "ticks": ""
            },
            "colorscale": [
             [
              0,
              "#0d0887"
             ],
             [
              0.1111111111111111,
              "#46039f"
             ],
             [
              0.2222222222222222,
              "#7201a8"
             ],
             [
              0.3333333333333333,
              "#9c179e"
             ],
             [
              0.4444444444444444,
              "#bd3786"
             ],
             [
              0.5555555555555556,
              "#d8576b"
             ],
             [
              0.6666666666666666,
              "#ed7953"
             ],
             [
              0.7777777777777778,
              "#fb9f3a"
             ],
             [
              0.8888888888888888,
              "#fdca26"
             ],
             [
              1,
              "#f0f921"
             ]
            ],
            "type": "heatmapgl"
           }
          ],
          "histogram": [
           {
            "marker": {
             "pattern": {
              "fillmode": "overlay",
              "size": 10,
              "solidity": 0.2
             }
            },
            "type": "histogram"
           }
          ],
          "histogram2d": [
           {
            "colorbar": {
             "outlinewidth": 0,
             "ticks": ""
            },
            "colorscale": [
             [
              0,
              "#0d0887"
             ],
             [
              0.1111111111111111,
              "#46039f"
             ],
             [
              0.2222222222222222,
              "#7201a8"
             ],
             [
              0.3333333333333333,
              "#9c179e"
             ],
             [
              0.4444444444444444,
              "#bd3786"
             ],
             [
              0.5555555555555556,
              "#d8576b"
             ],
             [
              0.6666666666666666,
              "#ed7953"
             ],
             [
              0.7777777777777778,
              "#fb9f3a"
             ],
             [
              0.8888888888888888,
              "#fdca26"
             ],
             [
              1,
              "#f0f921"
             ]
            ],
            "type": "histogram2d"
           }
          ],
          "histogram2dcontour": [
           {
            "colorbar": {
             "outlinewidth": 0,
             "ticks": ""
            },
            "colorscale": [
             [
              0,
              "#0d0887"
             ],
             [
              0.1111111111111111,
              "#46039f"
             ],
             [
              0.2222222222222222,
              "#7201a8"
             ],
             [
              0.3333333333333333,
              "#9c179e"
             ],
             [
              0.4444444444444444,
              "#bd3786"
             ],
             [
              0.5555555555555556,
              "#d8576b"
             ],
             [
              0.6666666666666666,
              "#ed7953"
             ],
             [
              0.7777777777777778,
              "#fb9f3a"
             ],
             [
              0.8888888888888888,
              "#fdca26"
             ],
             [
              1,
              "#f0f921"
             ]
            ],
            "type": "histogram2dcontour"
           }
          ],
          "mesh3d": [
           {
            "colorbar": {
             "outlinewidth": 0,
             "ticks": ""
            },
            "type": "mesh3d"
           }
          ],
          "parcoords": [
           {
            "line": {
             "colorbar": {
              "outlinewidth": 0,
              "ticks": ""
             }
            },
            "type": "parcoords"
           }
          ],
          "pie": [
           {
            "automargin": true,
            "type": "pie"
           }
          ],
          "scatter": [
           {
            "fillpattern": {
             "fillmode": "overlay",
             "size": 10,
             "solidity": 0.2
            },
            "type": "scatter"
           }
          ],
          "scatter3d": [
           {
            "line": {
             "colorbar": {
              "outlinewidth": 0,
              "ticks": ""
             }
            },
            "marker": {
             "colorbar": {
              "outlinewidth": 0,
              "ticks": ""
             }
            },
            "type": "scatter3d"
           }
          ],
          "scattercarpet": [
           {
            "marker": {
             "colorbar": {
              "outlinewidth": 0,
              "ticks": ""
             }
            },
            "type": "scattercarpet"
           }
          ],
          "scattergeo": [
           {
            "marker": {
             "colorbar": {
              "outlinewidth": 0,
              "ticks": ""
             }
            },
            "type": "scattergeo"
           }
          ],
          "scattergl": [
           {
            "marker": {
             "colorbar": {
              "outlinewidth": 0,
              "ticks": ""
             }
            },
            "type": "scattergl"
           }
          ],
          "scattermapbox": [
           {
            "marker": {
             "colorbar": {
              "outlinewidth": 0,
              "ticks": ""
             }
            },
            "type": "scattermapbox"
           }
          ],
          "scatterpolar": [
           {
            "marker": {
             "colorbar": {
              "outlinewidth": 0,
              "ticks": ""
             }
            },
            "type": "scatterpolar"
           }
          ],
          "scatterpolargl": [
           {
            "marker": {
             "colorbar": {
              "outlinewidth": 0,
              "ticks": ""
             }
            },
            "type": "scatterpolargl"
           }
          ],
          "scatterternary": [
           {
            "marker": {
             "colorbar": {
              "outlinewidth": 0,
              "ticks": ""
             }
            },
            "type": "scatterternary"
           }
          ],
          "surface": [
           {
            "colorbar": {
             "outlinewidth": 0,
             "ticks": ""
            },
            "colorscale": [
             [
              0,
              "#0d0887"
             ],
             [
              0.1111111111111111,
              "#46039f"
             ],
             [
              0.2222222222222222,
              "#7201a8"
             ],
             [
              0.3333333333333333,
              "#9c179e"
             ],
             [
              0.4444444444444444,
              "#bd3786"
             ],
             [
              0.5555555555555556,
              "#d8576b"
             ],
             [
              0.6666666666666666,
              "#ed7953"
             ],
             [
              0.7777777777777778,
              "#fb9f3a"
             ],
             [
              0.8888888888888888,
              "#fdca26"
             ],
             [
              1,
              "#f0f921"
             ]
            ],
            "type": "surface"
           }
          ],
          "table": [
           {
            "cells": {
             "fill": {
              "color": "#EBF0F8"
             },
             "line": {
              "color": "white"
             }
            },
            "header": {
             "fill": {
              "color": "#C8D4E3"
             },
             "line": {
              "color": "white"
             }
            },
            "type": "table"
           }
          ]
         },
         "layout": {
          "annotationdefaults": {
           "arrowcolor": "#2a3f5f",
           "arrowhead": 0,
           "arrowwidth": 1
          },
          "autotypenumbers": "strict",
          "coloraxis": {
           "colorbar": {
            "outlinewidth": 0,
            "ticks": ""
           }
          },
          "colorscale": {
           "diverging": [
            [
             0,
             "#8e0152"
            ],
            [
             0.1,
             "#c51b7d"
            ],
            [
             0.2,
             "#de77ae"
            ],
            [
             0.3,
             "#f1b6da"
            ],
            [
             0.4,
             "#fde0ef"
            ],
            [
             0.5,
             "#f7f7f7"
            ],
            [
             0.6,
             "#e6f5d0"
            ],
            [
             0.7,
             "#b8e186"
            ],
            [
             0.8,
             "#7fbc41"
            ],
            [
             0.9,
             "#4d9221"
            ],
            [
             1,
             "#276419"
            ]
           ],
           "sequential": [
            [
             0,
             "#0d0887"
            ],
            [
             0.1111111111111111,
             "#46039f"
            ],
            [
             0.2222222222222222,
             "#7201a8"
            ],
            [
             0.3333333333333333,
             "#9c179e"
            ],
            [
             0.4444444444444444,
             "#bd3786"
            ],
            [
             0.5555555555555556,
             "#d8576b"
            ],
            [
             0.6666666666666666,
             "#ed7953"
            ],
            [
             0.7777777777777778,
             "#fb9f3a"
            ],
            [
             0.8888888888888888,
             "#fdca26"
            ],
            [
             1,
             "#f0f921"
            ]
           ],
           "sequentialminus": [
            [
             0,
             "#0d0887"
            ],
            [
             0.1111111111111111,
             "#46039f"
            ],
            [
             0.2222222222222222,
             "#7201a8"
            ],
            [
             0.3333333333333333,
             "#9c179e"
            ],
            [
             0.4444444444444444,
             "#bd3786"
            ],
            [
             0.5555555555555556,
             "#d8576b"
            ],
            [
             0.6666666666666666,
             "#ed7953"
            ],
            [
             0.7777777777777778,
             "#fb9f3a"
            ],
            [
             0.8888888888888888,
             "#fdca26"
            ],
            [
             1,
             "#f0f921"
            ]
           ]
          },
          "colorway": [
           "#636efa",
           "#EF553B",
           "#00cc96",
           "#ab63fa",
           "#FFA15A",
           "#19d3f3",
           "#FF6692",
           "#B6E880",
           "#FF97FF",
           "#FECB52"
          ],
          "font": {
           "color": "#2a3f5f"
          },
          "geo": {
           "bgcolor": "white",
           "lakecolor": "white",
           "landcolor": "#E5ECF6",
           "showlakes": true,
           "showland": true,
           "subunitcolor": "white"
          },
          "hoverlabel": {
           "align": "left"
          },
          "hovermode": "closest",
          "mapbox": {
           "style": "light"
          },
          "paper_bgcolor": "white",
          "plot_bgcolor": "#E5ECF6",
          "polar": {
           "angularaxis": {
            "gridcolor": "white",
            "linecolor": "white",
            "ticks": ""
           },
           "bgcolor": "#E5ECF6",
           "radialaxis": {
            "gridcolor": "white",
            "linecolor": "white",
            "ticks": ""
           }
          },
          "scene": {
           "xaxis": {
            "backgroundcolor": "#E5ECF6",
            "gridcolor": "white",
            "gridwidth": 2,
            "linecolor": "white",
            "showbackground": true,
            "ticks": "",
            "zerolinecolor": "white"
           },
           "yaxis": {
            "backgroundcolor": "#E5ECF6",
            "gridcolor": "white",
            "gridwidth": 2,
            "linecolor": "white",
            "showbackground": true,
            "ticks": "",
            "zerolinecolor": "white"
           },
           "zaxis": {
            "backgroundcolor": "#E5ECF6",
            "gridcolor": "white",
            "gridwidth": 2,
            "linecolor": "white",
            "showbackground": true,
            "ticks": "",
            "zerolinecolor": "white"
           }
          },
          "shapedefaults": {
           "line": {
            "color": "#2a3f5f"
           }
          },
          "ternary": {
           "aaxis": {
            "gridcolor": "white",
            "linecolor": "white",
            "ticks": ""
           },
           "baxis": {
            "gridcolor": "white",
            "linecolor": "white",
            "ticks": ""
           },
           "bgcolor": "#E5ECF6",
           "caxis": {
            "gridcolor": "white",
            "linecolor": "white",
            "ticks": ""
           }
          },
          "title": {
           "x": 0.05
          },
          "xaxis": {
           "automargin": true,
           "gridcolor": "white",
           "linecolor": "white",
           "ticks": "",
           "title": {
            "standoff": 15
           },
           "zerolinecolor": "white",
           "zerolinewidth": 2
          },
          "yaxis": {
           "automargin": true,
           "gridcolor": "white",
           "linecolor": "white",
           "ticks": "",
           "title": {
            "standoff": 15
           },
           "zerolinecolor": "white",
           "zerolinewidth": 2
          }
         }
        },
        "title": {
         "text": "INDIAâ€™S EXTERNAL DEBT - RUPEES (End-March) (Rupees Crore)"
        },
        "xaxis": {
         "anchor": "y",
         "domain": [
          0,
          1
         ],
         "title": {
          "text": "Year"
         }
        },
        "yaxis": {
         "anchor": "x",
         "domain": [
          0,
          1
         ],
         "title": {
          "text": "Debt"
         }
        }
       }
      },
      "text/html": [
       "<div>                            <div id=\"e22958b2-32c4-4e40-8cb5-2c3fc75dbbcc\" class=\"plotly-graph-div\" style=\"height:525px; width:100%;\"></div>            <script type=\"text/javascript\">                require([\"plotly\"], function(Plotly) {                    window.PLOTLYENV=window.PLOTLYENV || {};                                    if (document.getElementById(\"e22958b2-32c4-4e40-8cb5-2c3fc75dbbcc\")) {                    Plotly.newPlot(                        \"e22958b2-32c4-4e40-8cb5-2c3fc75dbbcc\",                        [{\"hovertemplate\":\"variable=Total Multilateral<br>Year=%{x}<br>value=%{y}<extra></extra>\",\"legendgroup\":\"Total Multilateral\",\"line\":{\"color\":\"#636efa\",\"dash\":\"solid\"},\"marker\":{\"symbol\":\"circle\"},\"mode\":\"lines\",\"name\":\"Total Multilateral\",\"orientation\":\"v\",\"showlegend\":true,\"x\":[2022,2021,2020,2019,2018,2017,2016,2015,2014,2013,2012,2011,2010,2009,2008,2007,2006,2005,2004,2003,2002,2001,2000,1999,1998,1997,1996,1995,1994,1993,1992,1991],\"xaxis\":\"x\",\"y\":[553142,507314,449606,395885,371781,354118,359490,328148,321560,279310,257088,216672,193436,201425,157901,154053,145503,138897,131105,142683,155633,145105,137132,129682,116904,105066,98173,89819,82199,77758,68262,40386],\"yaxis\":\"y\",\"type\":\"scatter\"},{\"hovertemplate\":\"variable=Government Borrowing<br>Year=%{x}<br>value=%{y}<extra></extra>\",\"legendgroup\":\"Government Borrowing\",\"line\":{\"color\":\"#EF553B\",\"dash\":\"solid\"},\"marker\":{\"symbol\":\"circle\"},\"mode\":\"lines\",\"name\":\"Government Borrowing\",\"orientation\":\"v\",\"showlegend\":true,\"x\":[2022,2021,2020,2019,2018,2017,2016,2015,2014,2013,2012,2011,2010,2009,2008,2007,2006,2005,2004,2003,2002,2001,2000,1999,1998,1997,1996,1995,1994,1993,1992,1991],\"xaxis\":\"x\",\"y\":[460545,419319,362042,320336,304595,288246,294122,269431,268491,235670,222579,190326,170722,181997,144627,141746,133800,127782,120073,129727,138023,127886,120321,114531,104218,94824,89428,82223,75617,72286,63787,38429],\"yaxis\":\"y\",\"type\":\"scatter\"},{\"hovertemplate\":\"variable=Non - Government Borrowing<br>Year=%{x}<br>value=%{y}<extra></extra>\",\"legendgroup\":\"Non - Government Borrowing\",\"line\":{\"color\":\"#00cc96\",\"dash\":\"solid\"},\"marker\":{\"symbol\":\"circle\"},\"mode\":\"lines\",\"name\":\"Non - Government Borrowing\",\"orientation\":\"v\",\"showlegend\":true,\"x\":[2022,2021,2020,2019,2018,2017,2016,2015,2014,2013,2012,2011,2010,2009,2008,2007,2006,2005,2004,2003,2002,2001,2000,1999,1998,1997,1996,1995,1994,1993,1992,1991],\"xaxis\":\"x\",\"y\":[92597,87996,87564,75549,67186,65872,65368,58717,53069,43640,34509,26346,22714,19428,13274,12307,11703,11115,11032,12956,17610,17219,16811,15151,12686,10242,8745,7596,6582,5472,4475,1957],\"yaxis\":\"y\",\"type\":\"scatter\"},{\"hovertemplate\":\"variable=Total Bilateral<br>Year=%{x}<br>value=%{y}<extra></extra>\",\"legendgroup\":\"Total Bilateral\",\"line\":{\"color\":\"#ab63fa\",\"dash\":\"solid\"},\"marker\":{\"symbol\":\"circle\"},\"mode\":\"lines\",\"name\":\"Total Bilateral\",\"orientation\":\"v\",\"showlegend\":true,\"x\":[2022,2021,2020,2019,2018,2017,2016,2015,2014,2013,2012,2011,2010,2009,2008,2007,2006,2005,2004,2003,2002,2001,2000,1999,1998,1997,1996,1995,1994,1993,1992,1991],\"xaxis\":\"x\",\"y\":[245171,225017,210194,183742,164788,150808,149378,136060,148813,136329,137086,114905,101976,104997,78802,70034,70302,74530,77084,79921,74762,74519,79278,74304,67104,62891,65740,63761,54580,50258,47603,27378],\"yaxis\":\"y\",\"type\":\"scatter\"},{\"hovertemplate\":\"variable=Government Borrowing.1<br>Year=%{x}<br>value=%{y}<extra></extra>\",\"legendgroup\":\"Government Borrowing.1\",\"line\":{\"color\":\"#FFA15A\",\"dash\":\"solid\"},\"marker\":{\"symbol\":\"circle\"},\"mode\":\"lines\",\"name\":\"Government Borrowing.1\",\"orientation\":\"v\",\"showlegend\":true,\"x\":[2022,2021,2020,2019,2018,2017,2016,2015,2014,2013,2012,2011,2010,2009,2008,2007,2006,2005,2004,2003,2002,2001,2000,1999,1998,1997,1996,1995,1994,1993,1992,1991],\"xaxis\":\"x\",\"y\":[198021,179101,167494,141410,128945,109742,102925,88452,96918,88007,91641,80406,71584,74662,59391,53810,54593,57458,58121,60243,56302,56802,60920,57106,51420,49092,53119,52965,45387,42220,40371,23065],\"yaxis\":\"y\",\"type\":\"scatter\"},{\"hovertemplate\":\"variable=Non - Government Borrowing.1<br>Year=%{x}<br>value=%{y}<extra></extra>\",\"legendgroup\":\"Non - Government Borrowing.1\",\"line\":{\"color\":\"#19d3f3\",\"dash\":\"solid\"},\"marker\":{\"symbol\":\"circle\"},\"mode\":\"lines\",\"name\":\"Non - Government Borrowing.1\",\"orientation\":\"v\",\"showlegend\":true,\"x\":[2022,2021,2020,2019,2018,2017,2016,2015,2014,2013,2012,2011,2010,2009,2008,2007,2006,2005,2004,2003,2002,2001,2000,1999,1998,1997,1996,1995,1994,1993,1992,1991],\"xaxis\":\"x\",\"y\":[47150,45916,42700,42332,35843,41066,46453,47608,51895,48322,45445,34499,30392,30335,19411,16224,15709,17072,18963,19678,18460,17717,18358,17198,15684,13799,12621,10796,9193,8038,7232,4313],\"yaxis\":\"y\",\"type\":\"scatter\"},{\"hovertemplate\":\"variable=IMF<br>Year=%{x}<br>value=%{y}<extra></extra>\",\"legendgroup\":\"IMF\",\"line\":{\"color\":\"#FF6692\",\"dash\":\"solid\"},\"marker\":{\"symbol\":\"circle\"},\"mode\":\"lines\",\"name\":\"IMF\",\"orientation\":\"v\",\"showlegend\":true,\"x\":[2022,2021,2020,2019,2018,2017,2016,2015,2014,2013,2012,2011,2010,2009,2008,2007,2006,2005,2004,2003,2002,2001,2000,1999,1998,1997,1996,1995,1994,1993,1992,1991],\"xaxis\":\"x\",\"y\":[173415,41442,40931,38202,37716,35129,37177,34350,36910,32439,31528,28163,27264,5188,4479,4484,4378,4503,4381,0,0,0,113,1218,2622,4714,8152,13545,15812,14985,8934,5132],\"yaxis\":\"y\",\"type\":\"scatter\"}],                        {\"template\":{\"data\":{\"histogram2dcontour\":[{\"type\":\"histogram2dcontour\",\"colorbar\":{\"outlinewidth\":0,\"ticks\":\"\"},\"colorscale\":[[0.0,\"#0d0887\"],[0.1111111111111111,\"#46039f\"],[0.2222222222222222,\"#7201a8\"],[0.3333333333333333,\"#9c179e\"],[0.4444444444444444,\"#bd3786\"],[0.5555555555555556,\"#d8576b\"],[0.6666666666666666,\"#ed7953\"],[0.7777777777777778,\"#fb9f3a\"],[0.8888888888888888,\"#fdca26\"],[1.0,\"#f0f921\"]]}],\"choropleth\":[{\"type\":\"choropleth\",\"colorbar\":{\"outlinewidth\":0,\"ticks\":\"\"}}],\"histogram2d\":[{\"type\":\"histogram2d\",\"colorbar\":{\"outlinewidth\":0,\"ticks\":\"\"},\"colorscale\":[[0.0,\"#0d0887\"],[0.1111111111111111,\"#46039f\"],[0.2222222222222222,\"#7201a8\"],[0.3333333333333333,\"#9c179e\"],[0.4444444444444444,\"#bd3786\"],[0.5555555555555556,\"#d8576b\"],[0.6666666666666666,\"#ed7953\"],[0.7777777777777778,\"#fb9f3a\"],[0.8888888888888888,\"#fdca26\"],[1.0,\"#f0f921\"]]}],\"heatmap\":[{\"type\":\"heatmap\",\"colorbar\":{\"outlinewidth\":0,\"ticks\":\"\"},\"colorscale\":[[0.0,\"#0d0887\"],[0.1111111111111111,\"#46039f\"],[0.2222222222222222,\"#7201a8\"],[0.3333333333333333,\"#9c179e\"],[0.4444444444444444,\"#bd3786\"],[0.5555555555555556,\"#d8576b\"],[0.6666666666666666,\"#ed7953\"],[0.7777777777777778,\"#fb9f3a\"],[0.8888888888888888,\"#fdca26\"],[1.0,\"#f0f921\"]]}],\"heatmapgl\":[{\"type\":\"heatmapgl\",\"colorbar\":{\"outlinewidth\":0,\"ticks\":\"\"},\"colorscale\":[[0.0,\"#0d0887\"],[0.1111111111111111,\"#46039f\"],[0.2222222222222222,\"#7201a8\"],[0.3333333333333333,\"#9c179e\"],[0.4444444444444444,\"#bd3786\"],[0.5555555555555556,\"#d8576b\"],[0.6666666666666666,\"#ed7953\"],[0.7777777777777778,\"#fb9f3a\"],[0.8888888888888888,\"#fdca26\"],[1.0,\"#f0f921\"]]}],\"contourcarpet\":[{\"type\":\"contourcarpet\",\"colorbar\":{\"outlinewidth\":0,\"ticks\":\"\"}}],\"contour\":[{\"type\":\"contour\",\"colorbar\":{\"outlinewidth\":0,\"ticks\":\"\"},\"colorscale\":[[0.0,\"#0d0887\"],[0.1111111111111111,\"#46039f\"],[0.2222222222222222,\"#7201a8\"],[0.3333333333333333,\"#9c179e\"],[0.4444444444444444,\"#bd3786\"],[0.5555555555555556,\"#d8576b\"],[0.6666666666666666,\"#ed7953\"],[0.7777777777777778,\"#fb9f3a\"],[0.8888888888888888,\"#fdca26\"],[1.0,\"#f0f921\"]]}],\"surface\":[{\"type\":\"surface\",\"colorbar\":{\"outlinewidth\":0,\"ticks\":\"\"},\"colorscale\":[[0.0,\"#0d0887\"],[0.1111111111111111,\"#46039f\"],[0.2222222222222222,\"#7201a8\"],[0.3333333333333333,\"#9c179e\"],[0.4444444444444444,\"#bd3786\"],[0.5555555555555556,\"#d8576b\"],[0.6666666666666666,\"#ed7953\"],[0.7777777777777778,\"#fb9f3a\"],[0.8888888888888888,\"#fdca26\"],[1.0,\"#f0f921\"]]}],\"mesh3d\":[{\"type\":\"mesh3d\",\"colorbar\":{\"outlinewidth\":0,\"ticks\":\"\"}}],\"scatter\":[{\"fillpattern\":{\"fillmode\":\"overlay\",\"size\":10,\"solidity\":0.2},\"type\":\"scatter\"}],\"parcoords\":[{\"type\":\"parcoords\",\"line\":{\"colorbar\":{\"outlinewidth\":0,\"ticks\":\"\"}}}],\"scatterpolargl\":[{\"type\":\"scatterpolargl\",\"marker\":{\"colorbar\":{\"outlinewidth\":0,\"ticks\":\"\"}}}],\"bar\":[{\"error_x\":{\"color\":\"#2a3f5f\"},\"error_y\":{\"color\":\"#2a3f5f\"},\"marker\":{\"line\":{\"color\":\"#E5ECF6\",\"width\":0.5},\"pattern\":{\"fillmode\":\"overlay\",\"size\":10,\"solidity\":0.2}},\"type\":\"bar\"}],\"scattergeo\":[{\"type\":\"scattergeo\",\"marker\":{\"colorbar\":{\"outlinewidth\":0,\"ticks\":\"\"}}}],\"scatterpolar\":[{\"type\":\"scatterpolar\",\"marker\":{\"colorbar\":{\"outlinewidth\":0,\"ticks\":\"\"}}}],\"histogram\":[{\"marker\":{\"pattern\":{\"fillmode\":\"overlay\",\"size\":10,\"solidity\":0.2}},\"type\":\"histogram\"}],\"scattergl\":[{\"type\":\"scattergl\",\"marker\":{\"colorbar\":{\"outlinewidth\":0,\"ticks\":\"\"}}}],\"scatter3d\":[{\"type\":\"scatter3d\",\"line\":{\"colorbar\":{\"outlinewidth\":0,\"ticks\":\"\"}},\"marker\":{\"colorbar\":{\"outlinewidth\":0,\"ticks\":\"\"}}}],\"scattermapbox\":[{\"type\":\"scattermapbox\",\"marker\":{\"colorbar\":{\"outlinewidth\":0,\"ticks\":\"\"}}}],\"scatterternary\":[{\"type\":\"scatterternary\",\"marker\":{\"colorbar\":{\"outlinewidth\":0,\"ticks\":\"\"}}}],\"scattercarpet\":[{\"type\":\"scattercarpet\",\"marker\":{\"colorbar\":{\"outlinewidth\":0,\"ticks\":\"\"}}}],\"carpet\":[{\"aaxis\":{\"endlinecolor\":\"#2a3f5f\",\"gridcolor\":\"white\",\"linecolor\":\"white\",\"minorgridcolor\":\"white\",\"startlinecolor\":\"#2a3f5f\"},\"baxis\":{\"endlinecolor\":\"#2a3f5f\",\"gridcolor\":\"white\",\"linecolor\":\"white\",\"minorgridcolor\":\"white\",\"startlinecolor\":\"#2a3f5f\"},\"type\":\"carpet\"}],\"table\":[{\"cells\":{\"fill\":{\"color\":\"#EBF0F8\"},\"line\":{\"color\":\"white\"}},\"header\":{\"fill\":{\"color\":\"#C8D4E3\"},\"line\":{\"color\":\"white\"}},\"type\":\"table\"}],\"barpolar\":[{\"marker\":{\"line\":{\"color\":\"#E5ECF6\",\"width\":0.5},\"pattern\":{\"fillmode\":\"overlay\",\"size\":10,\"solidity\":0.2}},\"type\":\"barpolar\"}],\"pie\":[{\"automargin\":true,\"type\":\"pie\"}]},\"layout\":{\"autotypenumbers\":\"strict\",\"colorway\":[\"#636efa\",\"#EF553B\",\"#00cc96\",\"#ab63fa\",\"#FFA15A\",\"#19d3f3\",\"#FF6692\",\"#B6E880\",\"#FF97FF\",\"#FECB52\"],\"font\":{\"color\":\"#2a3f5f\"},\"hovermode\":\"closest\",\"hoverlabel\":{\"align\":\"left\"},\"paper_bgcolor\":\"white\",\"plot_bgcolor\":\"#E5ECF6\",\"polar\":{\"bgcolor\":\"#E5ECF6\",\"angularaxis\":{\"gridcolor\":\"white\",\"linecolor\":\"white\",\"ticks\":\"\"},\"radialaxis\":{\"gridcolor\":\"white\",\"linecolor\":\"white\",\"ticks\":\"\"}},\"ternary\":{\"bgcolor\":\"#E5ECF6\",\"aaxis\":{\"gridcolor\":\"white\",\"linecolor\":\"white\",\"ticks\":\"\"},\"baxis\":{\"gridcolor\":\"white\",\"linecolor\":\"white\",\"ticks\":\"\"},\"caxis\":{\"gridcolor\":\"white\",\"linecolor\":\"white\",\"ticks\":\"\"}},\"coloraxis\":{\"colorbar\":{\"outlinewidth\":0,\"ticks\":\"\"}},\"colorscale\":{\"sequential\":[[0.0,\"#0d0887\"],[0.1111111111111111,\"#46039f\"],[0.2222222222222222,\"#7201a8\"],[0.3333333333333333,\"#9c179e\"],[0.4444444444444444,\"#bd3786\"],[0.5555555555555556,\"#d8576b\"],[0.6666666666666666,\"#ed7953\"],[0.7777777777777778,\"#fb9f3a\"],[0.8888888888888888,\"#fdca26\"],[1.0,\"#f0f921\"]],\"sequentialminus\":[[0.0,\"#0d0887\"],[0.1111111111111111,\"#46039f\"],[0.2222222222222222,\"#7201a8\"],[0.3333333333333333,\"#9c179e\"],[0.4444444444444444,\"#bd3786\"],[0.5555555555555556,\"#d8576b\"],[0.6666666666666666,\"#ed7953\"],[0.7777777777777778,\"#fb9f3a\"],[0.8888888888888888,\"#fdca26\"],[1.0,\"#f0f921\"]],\"diverging\":[[0,\"#8e0152\"],[0.1,\"#c51b7d\"],[0.2,\"#de77ae\"],[0.3,\"#f1b6da\"],[0.4,\"#fde0ef\"],[0.5,\"#f7f7f7\"],[0.6,\"#e6f5d0\"],[0.7,\"#b8e186\"],[0.8,\"#7fbc41\"],[0.9,\"#4d9221\"],[1,\"#276419\"]]},\"xaxis\":{\"gridcolor\":\"white\",\"linecolor\":\"white\",\"ticks\":\"\",\"title\":{\"standoff\":15},\"zerolinecolor\":\"white\",\"automargin\":true,\"zerolinewidth\":2},\"yaxis\":{\"gridcolor\":\"white\",\"linecolor\":\"white\",\"ticks\":\"\",\"title\":{\"standoff\":15},\"zerolinecolor\":\"white\",\"automargin\":true,\"zerolinewidth\":2},\"scene\":{\"xaxis\":{\"backgroundcolor\":\"#E5ECF6\",\"gridcolor\":\"white\",\"linecolor\":\"white\",\"showbackground\":true,\"ticks\":\"\",\"zerolinecolor\":\"white\",\"gridwidth\":2},\"yaxis\":{\"backgroundcolor\":\"#E5ECF6\",\"gridcolor\":\"white\",\"linecolor\":\"white\",\"showbackground\":true,\"ticks\":\"\",\"zerolinecolor\":\"white\",\"gridwidth\":2},\"zaxis\":{\"backgroundcolor\":\"#E5ECF6\",\"gridcolor\":\"white\",\"linecolor\":\"white\",\"showbackground\":true,\"ticks\":\"\",\"zerolinecolor\":\"white\",\"gridwidth\":2}},\"shapedefaults\":{\"line\":{\"color\":\"#2a3f5f\"}},\"annotationdefaults\":{\"arrowcolor\":\"#2a3f5f\",\"arrowhead\":0,\"arrowwidth\":1},\"geo\":{\"bgcolor\":\"white\",\"landcolor\":\"#E5ECF6\",\"subunitcolor\":\"white\",\"showland\":true,\"showlakes\":true,\"lakecolor\":\"white\"},\"title\":{\"x\":0.05},\"mapbox\":{\"style\":\"light\"}}},\"xaxis\":{\"anchor\":\"y\",\"domain\":[0.0,1.0],\"title\":{\"text\":\"Year\"}},\"yaxis\":{\"anchor\":\"x\",\"domain\":[0.0,1.0],\"title\":{\"text\":\"Debt\"}},\"legend\":{\"title\":{\"text\":\"variable\"},\"tracegroupgap\":0},\"title\":{\"text\":\"INDIA\\u00e2\\u20ac\\u2122S EXTERNAL DEBT - RUPEES (End-March) (Rupees Crore)\"}},                        {\"responsive\": true}                    ).then(function(){\n",
       "                            \n",
       "var gd = document.getElementById('e22958b2-32c4-4e40-8cb5-2c3fc75dbbcc');\n",
       "var x = new MutationObserver(function (mutations, observer) {{\n",
       "        var display = window.getComputedStyle(gd).display;\n",
       "        if (!display || display === 'none') {{\n",
       "            console.log([gd, 'removed!']);\n",
       "            Plotly.purge(gd);\n",
       "            observer.disconnect();\n",
       "        }}\n",
       "}});\n",
       "\n",
       "// Listen for the removal of the full notebook cells\n",
       "var notebookContainer = gd.closest('#notebook-container');\n",
       "if (notebookContainer) {{\n",
       "    x.observe(notebookContainer, {childList: true});\n",
       "}}\n",
       "\n",
       "// Listen for the clearing of the current output cell\n",
       "var outputEl = gd.closest('.output');\n",
       "if (outputEl) {{\n",
       "    x.observe(outputEl, {childList: true});\n",
       "}}\n",
       "\n",
       "                        })                };                });            </script>        </div>"
      ]
     },
     "metadata": {},
     "output_type": "display_data"
    }
   ],
   "source": [
    "fig = px.line(debt, x='Year', y=[ 'Total Multilateral', 'Government Borrowing',\n",
    "       'Non - Government Borrowing', 'Total Bilateral',\n",
    "       'Government Borrowing.1', 'Non - Government Borrowing.1', 'IMF'], title=title)\n",
    "fig.update_layout(xaxis_title='Year', yaxis_title='Debt')\n",
    "fig.show()"
   ]
  },
  {
   "cell_type": "code",
   "execution_count": 79,
   "metadata": {},
   "outputs": [],
   "source": [
    "debt.to_csv('debt_final.csv', index=False)"
   ]
  },
  {
   "attachments": {},
   "cell_type": "markdown",
   "metadata": {},
   "source": [
    "# Foreign Trade"
   ]
  },
  {
   "cell_type": "code",
   "execution_count": null,
   "metadata": {},
   "outputs": [],
   "source": [
    "title = \"INDIAâ€™S FOREIGN TRADE - RUPEES (Rupees Crore)\"\n",
    "foreign_trade = pd.read_csv(\"foreign trade.csv\")\n",
    "foreign_trade"
   ]
  },
  {
   "cell_type": "code",
   "execution_count": null,
   "metadata": {},
   "outputs": [],
   "source": [
    "foreign_trade.iloc[:, 1:] = foreign_trade.iloc[:, 1:].apply(pd.to_numeric, errors = 'coerce')\n",
    "foreign_trade['Year'] = pd.to_datetime(foreign_trade['Year'].str[:4], format='%Y')\n",
    "foreign_trade"
   ]
  },
  {
   "cell_type": "code",
   "execution_count": 90,
   "metadata": {},
   "outputs": [
    {
     "data": {
      "text/plain": [
       "Index(['Year', 'Exports Oil', 'Exports Non-Oil', 'Exports Total',\n",
       "       'Imports Oil', 'Imports Non-Oil', 'Imports Total', 'Trade Balance Oil',\n",
       "       'Trade Balance Non-Oil', 'Trade Balance Total'],\n",
       "      dtype='object')"
      ]
     },
     "execution_count": 90,
     "metadata": {},
     "output_type": "execute_result"
    }
   ],
   "source": [
    "foreign_trade.columns"
   ]
  },
  {
   "cell_type": "code",
   "execution_count": 91,
   "metadata": {},
   "outputs": [
    {
     "data": {
      "application/vnd.plotly.v1+json": {
       "config": {
        "plotlyServerURL": "https://plot.ly"
       },
       "data": [
        {
         "hovertemplate": "variable=Exports Oil<br>Year=%{x}<br>value=%{y}<extra></extra>",
         "legendgroup": "Exports Oil",
         "line": {
          "color": "#636efa",
          "dash": "solid"
         },
         "marker": {
          "symbol": "circle"
         },
         "mode": "lines",
         "name": "Exports Oil",
         "orientation": "v",
         "showlegend": true,
         "type": "scatter",
         "x": [
          "2021-01-01T00:00:00",
          "2020-01-01T00:00:00",
          "2019-01-01T00:00:00",
          "2018-01-01T00:00:00",
          "2017-01-01T00:00:00",
          "2016-01-01T00:00:00",
          "2015-01-01T00:00:00",
          "2014-01-01T00:00:00",
          "2013-01-01T00:00:00",
          "2012-01-01T00:00:00",
          "2011-01-01T00:00:00",
          "2010-01-01T00:00:00",
          "2009-01-01T00:00:00",
          "2008-01-01T00:00:00",
          "2007-01-01T00:00:00",
          "2006-01-01T00:00:00",
          "2005-01-01T00:00:00",
          "2004-01-01T00:00:00",
          "2003-01-01T00:00:00",
          "2002-01-01T00:00:00",
          "2001-01-01T00:00:00",
          "2000-01-01T00:00:00",
          "1999-01-01T00:00:00",
          "1998-01-01T00:00:00",
          "1997-01-01T00:00:00",
          "1996-01-01T00:00:00",
          "1995-01-01T00:00:00",
          "1994-01-01T00:00:00",
          "1993-01-01T00:00:00",
          "1992-01-01T00:00:00",
          "1991-01-01T00:00:00",
          "1990-01-01T00:00:00",
          "1989-01-01T00:00:00",
          "1988-01-01T00:00:00",
          "1987-01-01T00:00:00",
          "1986-01-01T00:00:00",
          "1985-01-01T00:00:00",
          "1984-01-01T00:00:00",
          "1983-01-01T00:00:00",
          "1982-01-01T00:00:00",
          "1981-01-01T00:00:00",
          "1980-01-01T00:00:00",
          "1979-01-01T00:00:00",
          "1978-01-01T00:00:00",
          "1977-01-01T00:00:00",
          "1976-01-01T00:00:00",
          "1975-01-01T00:00:00",
          "1974-01-01T00:00:00",
          "1973-01-01T00:00:00",
          "1972-01-01T00:00:00",
          "1971-01-01T00:00:00",
          "1970-01-01T00:00:00"
         ],
         "xaxis": "x",
         "y": [
          503850,
          190896,
          292340,
          325929,
          241435,
          211509,
          199638,
          346082,
          383248,
          330819,
          267915,
          188779,
          132899,
          123398,
          114192,
          84520,
          51533,
          31404,
          16397,
          12469,
          10107,
          8542,
          169,
          376,
          1311,
          1710,
          1518,
          1309,
          1248,
          1379,
          1022,
          938,
          697,
          505,
          649,
          411,
          645,
          1818,
          1588,
          1235,
          221,
          25,
          19,
          14,
          16,
          19,
          19,
          14,
          12,
          29,
          11,
          9
         ],
         "yaxis": "y"
        },
        {
         "hovertemplate": "variable=Exports Non-Oil<br>Year=%{x}<br>value=%{y}<extra></extra>",
         "legendgroup": "Exports Non-Oil",
         "line": {
          "color": "#EF553B",
          "dash": "solid"
         },
         "marker": {
          "symbol": "circle"
         },
         "mode": "lines",
         "name": "Exports Non-Oil",
         "orientation": "v",
         "showlegend": true,
         "type": "scatter",
         "x": [
          "2021-01-01T00:00:00",
          "2020-01-01T00:00:00",
          "2019-01-01T00:00:00",
          "2018-01-01T00:00:00",
          "2017-01-01T00:00:00",
          "2016-01-01T00:00:00",
          "2015-01-01T00:00:00",
          "2014-01-01T00:00:00",
          "2013-01-01T00:00:00",
          "2012-01-01T00:00:00",
          "2011-01-01T00:00:00",
          "2010-01-01T00:00:00",
          "2009-01-01T00:00:00",
          "2008-01-01T00:00:00",
          "2007-01-01T00:00:00",
          "2006-01-01T00:00:00",
          "2005-01-01T00:00:00",
          "2004-01-01T00:00:00",
          "2003-01-01T00:00:00",
          "2002-01-01T00:00:00",
          "2001-01-01T00:00:00",
          "2000-01-01T00:00:00",
          "1999-01-01T00:00:00",
          "1998-01-01T00:00:00",
          "1997-01-01T00:00:00",
          "1996-01-01T00:00:00",
          "1995-01-01T00:00:00",
          "1994-01-01T00:00:00",
          "1993-01-01T00:00:00",
          "1992-01-01T00:00:00",
          "1991-01-01T00:00:00",
          "1990-01-01T00:00:00",
          "1989-01-01T00:00:00",
          "1988-01-01T00:00:00",
          "1987-01-01T00:00:00",
          "1986-01-01T00:00:00",
          "1985-01-01T00:00:00",
          "1984-01-01T00:00:00",
          "1983-01-01T00:00:00",
          "1982-01-01T00:00:00",
          "1981-01-01T00:00:00",
          "1980-01-01T00:00:00",
          "1979-01-01T00:00:00",
          "1978-01-01T00:00:00",
          "1977-01-01T00:00:00",
          "1976-01-01T00:00:00",
          "1975-01-01T00:00:00",
          "1974-01-01T00:00:00",
          "1973-01-01T00:00:00",
          "1972-01-01T00:00:00",
          "1971-01-01T00:00:00",
          "1970-01-01T00:00:00"
         ],
         "xaxis": "x",
         "y": [
          2643171,
          1968147,
          1927514,
          1981797,
          1715080,
          1637925,
          1516747,
          1550363,
          1521763,
          1303500,
          1198045,
          954143,
          712635,
          717357,
          541672,
          487259,
          404885,
          343935,
          276969,
          242668,
          198911,
          195029,
          159393,
          139377,
          128790,
          117107,
          104836,
          81365,
          68504,
          52309,
          43020,
          31620,
          26962,
          19727,
          15025,
          12041,
          10250,
          9926,
          8183,
          7568,
          7585,
          6686,
          6400,
          5712,
          5392,
          5124,
          4017,
          3315,
          2511,
          1943,
          1598,
          1527
         ],
         "yaxis": "y"
        },
        {
         "hovertemplate": "variable=Exports Total<br>Year=%{x}<br>value=%{y}<extra></extra>",
         "legendgroup": "Exports Total",
         "line": {
          "color": "#00cc96",
          "dash": "solid"
         },
         "marker": {
          "symbol": "circle"
         },
         "mode": "lines",
         "name": "Exports Total",
         "orientation": "v",
         "showlegend": true,
         "type": "scatter",
         "x": [
          "2021-01-01T00:00:00",
          "2020-01-01T00:00:00",
          "2019-01-01T00:00:00",
          "2018-01-01T00:00:00",
          "2017-01-01T00:00:00",
          "2016-01-01T00:00:00",
          "2015-01-01T00:00:00",
          "2014-01-01T00:00:00",
          "2013-01-01T00:00:00",
          "2012-01-01T00:00:00",
          "2011-01-01T00:00:00",
          "2010-01-01T00:00:00",
          "2009-01-01T00:00:00",
          "2008-01-01T00:00:00",
          "2007-01-01T00:00:00",
          "2006-01-01T00:00:00",
          "2005-01-01T00:00:00",
          "2004-01-01T00:00:00",
          "2003-01-01T00:00:00",
          "2002-01-01T00:00:00",
          "2001-01-01T00:00:00",
          "2000-01-01T00:00:00",
          "1999-01-01T00:00:00",
          "1998-01-01T00:00:00",
          "1997-01-01T00:00:00",
          "1996-01-01T00:00:00",
          "1995-01-01T00:00:00",
          "1994-01-01T00:00:00",
          "1993-01-01T00:00:00",
          "1992-01-01T00:00:00",
          "1991-01-01T00:00:00",
          "1990-01-01T00:00:00",
          "1989-01-01T00:00:00",
          "1988-01-01T00:00:00",
          "1987-01-01T00:00:00",
          "1986-01-01T00:00:00",
          "1985-01-01T00:00:00",
          "1984-01-01T00:00:00",
          "1983-01-01T00:00:00",
          "1982-01-01T00:00:00",
          "1981-01-01T00:00:00",
          "1980-01-01T00:00:00",
          "1979-01-01T00:00:00",
          "1978-01-01T00:00:00",
          "1977-01-01T00:00:00",
          "1976-01-01T00:00:00",
          "1975-01-01T00:00:00",
          "1974-01-01T00:00:00",
          "1973-01-01T00:00:00",
          "1972-01-01T00:00:00",
          "1971-01-01T00:00:00",
          "1970-01-01T00:00:00"
         ],
         "xaxis": "x",
         "y": [
          3147021,
          2159043,
          2219854,
          2307726,
          1956515,
          1849434,
          1716384,
          1896445,
          1905011,
          1634318,
          1465959,
          1142922,
          845534,
          840755,
          655864,
          571779,
          456418,
          375340,
          293367,
          255137,
          209018,
          203571,
          159561,
          139753,
          130101,
          118817,
          106353,
          82674,
          69751,
          53688,
          44042,
          32558,
          27658,
          20232,
          15674,
          12452,
          10895,
          11744,
          9771,
          8803,
          7806,
          6711,
          6418,
          5726,
          5408,
          5143,
          4036,
          3329,
          2523,
          1972,
          1608,
          1535
         ],
         "yaxis": "y"
        },
        {
         "hovertemplate": "variable=Imports Oil<br>Year=%{x}<br>value=%{y}<extra></extra>",
         "legendgroup": "Imports Oil",
         "line": {
          "color": "#ab63fa",
          "dash": "solid"
         },
         "marker": {
          "symbol": "circle"
         },
         "mode": "lines",
         "name": "Imports Oil",
         "orientation": "v",
         "showlegend": true,
         "type": "scatter",
         "x": [
          "2021-01-01T00:00:00",
          "2020-01-01T00:00:00",
          "2019-01-01T00:00:00",
          "2018-01-01T00:00:00",
          "2017-01-01T00:00:00",
          "2016-01-01T00:00:00",
          "2015-01-01T00:00:00",
          "2014-01-01T00:00:00",
          "2013-01-01T00:00:00",
          "2012-01-01T00:00:00",
          "2011-01-01T00:00:00",
          "2010-01-01T00:00:00",
          "2009-01-01T00:00:00",
          "2008-01-01T00:00:00",
          "2007-01-01T00:00:00",
          "2006-01-01T00:00:00",
          "2005-01-01T00:00:00",
          "2004-01-01T00:00:00",
          "2003-01-01T00:00:00",
          "2002-01-01T00:00:00",
          "2001-01-01T00:00:00",
          "2000-01-01T00:00:00",
          "1999-01-01T00:00:00",
          "1998-01-01T00:00:00",
          "1997-01-01T00:00:00",
          "1996-01-01T00:00:00",
          "1995-01-01T00:00:00",
          "1994-01-01T00:00:00",
          "1993-01-01T00:00:00",
          "1992-01-01T00:00:00",
          "1991-01-01T00:00:00",
          "1990-01-01T00:00:00",
          "1989-01-01T00:00:00",
          "1988-01-01T00:00:00",
          "1987-01-01T00:00:00",
          "1986-01-01T00:00:00",
          "1985-01-01T00:00:00",
          "1984-01-01T00:00:00",
          "1983-01-01T00:00:00",
          "1982-01-01T00:00:00",
          "1981-01-01T00:00:00",
          "1980-01-01T00:00:00",
          "1979-01-01T00:00:00",
          "1978-01-01T00:00:00",
          "1977-01-01T00:00:00",
          "1976-01-01T00:00:00",
          "1975-01-01T00:00:00",
          "1974-01-01T00:00:00",
          "1973-01-01T00:00:00",
          "1972-01-01T00:00:00",
          "1971-01-01T00:00:00",
          "1970-01-01T00:00:00"
         ],
         "xaxis": "x",
         "y": [
          1207803,
          611353,
          925168,
          986275,
          700321,
          583217,
          540505,
          842874,
          997885,
          891871,
          743075,
          482282,
          411649,
          419968,
          320655,
          258572,
          194640,
          134094,
          94520,
          85367,
          66770,
          71497,
          54649,
          26919,
          30341,
          35629,
          25174,
          18613,
          18046,
          17142,
          13127,
          10816,
          6273,
          4358,
          4043,
          2811,
          4989,
          5409,
          4832,
          5622,
          5189,
          5264,
          3267,
          1677,
          1551,
          1413,
          1226,
          1157,
          560,
          204,
          194,
          136
         ],
         "yaxis": "y"
        },
        {
         "hovertemplate": "variable=Imports Non-Oil<br>Year=%{x}<br>value=%{y}<extra></extra>",
         "legendgroup": "Imports Non-Oil",
         "line": {
          "color": "#FFA15A",
          "dash": "solid"
         },
         "marker": {
          "symbol": "circle"
         },
         "mode": "lines",
         "name": "Imports Non-Oil",
         "orientation": "v",
         "showlegend": true,
         "type": "scatter",
         "x": [
          "2021-01-01T00:00:00",
          "2020-01-01T00:00:00",
          "2019-01-01T00:00:00",
          "2018-01-01T00:00:00",
          "2017-01-01T00:00:00",
          "2016-01-01T00:00:00",
          "2015-01-01T00:00:00",
          "2014-01-01T00:00:00",
          "2013-01-01T00:00:00",
          "2012-01-01T00:00:00",
          "2011-01-01T00:00:00",
          "2010-01-01T00:00:00",
          "2009-01-01T00:00:00",
          "2008-01-01T00:00:00",
          "2007-01-01T00:00:00",
          "2006-01-01T00:00:00",
          "2005-01-01T00:00:00",
          "2004-01-01T00:00:00",
          "2003-01-01T00:00:00",
          "2002-01-01T00:00:00",
          "2001-01-01T00:00:00",
          "2000-01-01T00:00:00",
          "1999-01-01T00:00:00",
          "1998-01-01T00:00:00",
          "1997-01-01T00:00:00",
          "1996-01-01T00:00:00",
          "1995-01-01T00:00:00",
          "1994-01-01T00:00:00",
          "1993-01-01T00:00:00",
          "1992-01-01T00:00:00",
          "1991-01-01T00:00:00",
          "1990-01-01T00:00:00",
          "1989-01-01T00:00:00",
          "1988-01-01T00:00:00",
          "1987-01-01T00:00:00",
          "1986-01-01T00:00:00",
          "1985-01-01T00:00:00",
          "1984-01-01T00:00:00",
          "1983-01-01T00:00:00",
          "1982-01-01T00:00:00",
          "1981-01-01T00:00:00",
          "1980-01-01T00:00:00",
          "1979-01-01T00:00:00",
          "1978-01-01T00:00:00",
          "1977-01-01T00:00:00",
          "1976-01-01T00:00:00",
          "1975-01-01T00:00:00",
          "1974-01-01T00:00:00",
          "1973-01-01T00:00:00",
          "1972-01-01T00:00:00",
          "1971-01-01T00:00:00",
          "1970-01-01T00:00:00"
         ],
         "xaxis": "x",
         "y": [
          3364972,
          2304605,
          2435787,
          2608400,
          2300713,
          1994458,
          1949801,
          1894212,
          1717548,
          1777291,
          1602388,
          1201185,
          952086,
          954468,
          691657,
          581935,
          465769,
          366971,
          264588,
          211839,
          178430,
          159376,
          160588,
          151413,
          123835,
          103291,
          97505,
          71358,
          55055,
          46233,
          34724,
          32377,
          29056,
          23878,
          18201,
          17285,
          14668,
          11725,
          11000,
          8671,
          8418,
          7286,
          5876,
          5134,
          4469,
          3660,
          4039,
          3362,
          2395,
          1663,
          1630,
          1498
         ],
         "yaxis": "y"
        },
        {
         "hovertemplate": "variable=Imports Total<br>Year=%{x}<br>value=%{y}<extra></extra>",
         "legendgroup": "Imports Total",
         "line": {
          "color": "#19d3f3",
          "dash": "solid"
         },
         "marker": {
          "symbol": "circle"
         },
         "mode": "lines",
         "name": "Imports Total",
         "orientation": "v",
         "showlegend": true,
         "type": "scatter",
         "x": [
          "2021-01-01T00:00:00",
          "2020-01-01T00:00:00",
          "2019-01-01T00:00:00",
          "2018-01-01T00:00:00",
          "2017-01-01T00:00:00",
          "2016-01-01T00:00:00",
          "2015-01-01T00:00:00",
          "2014-01-01T00:00:00",
          "2013-01-01T00:00:00",
          "2012-01-01T00:00:00",
          "2011-01-01T00:00:00",
          "2010-01-01T00:00:00",
          "2009-01-01T00:00:00",
          "2008-01-01T00:00:00",
          "2007-01-01T00:00:00",
          "2006-01-01T00:00:00",
          "2005-01-01T00:00:00",
          "2004-01-01T00:00:00",
          "2003-01-01T00:00:00",
          "2002-01-01T00:00:00",
          "2001-01-01T00:00:00",
          "2000-01-01T00:00:00",
          "1999-01-01T00:00:00",
          "1998-01-01T00:00:00",
          "1997-01-01T00:00:00",
          "1996-01-01T00:00:00",
          "1995-01-01T00:00:00",
          "1994-01-01T00:00:00",
          "1993-01-01T00:00:00",
          "1992-01-01T00:00:00",
          "1991-01-01T00:00:00",
          "1990-01-01T00:00:00",
          "1989-01-01T00:00:00",
          "1988-01-01T00:00:00",
          "1987-01-01T00:00:00",
          "1986-01-01T00:00:00",
          "1985-01-01T00:00:00",
          "1984-01-01T00:00:00",
          "1983-01-01T00:00:00",
          "1982-01-01T00:00:00",
          "1981-01-01T00:00:00",
          "1980-01-01T00:00:00",
          "1979-01-01T00:00:00",
          "1978-01-01T00:00:00",
          "1977-01-01T00:00:00",
          "1976-01-01T00:00:00",
          "1975-01-01T00:00:00",
          "1974-01-01T00:00:00",
          "1973-01-01T00:00:00",
          "1972-01-01T00:00:00",
          "1971-01-01T00:00:00",
          "1970-01-01T00:00:00"
         ],
         "xaxis": "x",
         "y": [
          4572775,
          2915958,
          3360954,
          3594675,
          3001033,
          2577675,
          2490306,
          2737087,
          2715434,
          2669162,
          2345463,
          1683467,
          1363736,
          1374436,
          1012312,
          840506,
          660409,
          501065,
          359108,
          297206,
          245200,
          230873,
          215237,
          178332,
          154176,
          138920,
          122678,
          89971,
          73101,
          63375,
          47851,
          43193,
          35328,
          28235,
          22244,
          20096,
          19658,
          17134,
          15832,
          14293,
          13608,
          12549,
          9143,
          6811,
          6020,
          5074,
          5265,
          4519,
          2955,
          1867,
          1825,
          1634
         ],
         "yaxis": "y"
        },
        {
         "hovertemplate": "variable=Trade Balance Oil<br>Year=%{x}<br>value=%{y}<extra></extra>",
         "legendgroup": "Trade Balance Oil",
         "line": {
          "color": "#FF6692",
          "dash": "solid"
         },
         "marker": {
          "symbol": "circle"
         },
         "mode": "lines",
         "name": "Trade Balance Oil",
         "orientation": "v",
         "showlegend": true,
         "type": "scatter",
         "x": [
          "2021-01-01T00:00:00",
          "2020-01-01T00:00:00",
          "2019-01-01T00:00:00",
          "2018-01-01T00:00:00",
          "2017-01-01T00:00:00",
          "2016-01-01T00:00:00",
          "2015-01-01T00:00:00",
          "2014-01-01T00:00:00",
          "2013-01-01T00:00:00",
          "2012-01-01T00:00:00",
          "2011-01-01T00:00:00",
          "2010-01-01T00:00:00",
          "2009-01-01T00:00:00",
          "2008-01-01T00:00:00",
          "2007-01-01T00:00:00",
          "2006-01-01T00:00:00",
          "2005-01-01T00:00:00",
          "2004-01-01T00:00:00",
          "2003-01-01T00:00:00",
          "2002-01-01T00:00:00",
          "2001-01-01T00:00:00",
          "2000-01-01T00:00:00",
          "1999-01-01T00:00:00",
          "1998-01-01T00:00:00",
          "1997-01-01T00:00:00",
          "1996-01-01T00:00:00",
          "1995-01-01T00:00:00",
          "1994-01-01T00:00:00",
          "1993-01-01T00:00:00",
          "1992-01-01T00:00:00",
          "1991-01-01T00:00:00",
          "1990-01-01T00:00:00",
          "1989-01-01T00:00:00",
          "1988-01-01T00:00:00",
          "1987-01-01T00:00:00",
          "1986-01-01T00:00:00",
          "1985-01-01T00:00:00",
          "1984-01-01T00:00:00",
          "1983-01-01T00:00:00",
          "1982-01-01T00:00:00",
          "1981-01-01T00:00:00",
          "1980-01-01T00:00:00",
          "1979-01-01T00:00:00",
          "1978-01-01T00:00:00",
          "1977-01-01T00:00:00",
          "1976-01-01T00:00:00",
          "1975-01-01T00:00:00",
          "1974-01-01T00:00:00",
          "1973-01-01T00:00:00",
          "1972-01-01T00:00:00",
          "1971-01-01T00:00:00",
          "1970-01-01T00:00:00"
         ],
         "xaxis": "x",
         "y": [
          -703953,
          -420457,
          -632828,
          -660346,
          -458886,
          -371708,
          -340867,
          -496792,
          -614638,
          -561052,
          -475160,
          -293503,
          -278750,
          -296570,
          -206463,
          -174052,
          -143107,
          -102690,
          -78123,
          -72898,
          -56663,
          -62955,
          -54480,
          -26543,
          -29030,
          -33918,
          -23656,
          -17304,
          -16798,
          -15763,
          -12105,
          -9878,
          -5576,
          -3853,
          -3394,
          -2399,
          -4345,
          -3591,
          -3244,
          -4387,
          -4968,
          -5239,
          -3248,
          -1663,
          -1535,
          -1395,
          -1207,
          -1143,
          -548,
          -175,
          -184,
          -127
         ],
         "yaxis": "y"
        },
        {
         "hovertemplate": "variable=Trade Balance Non-Oil<br>Year=%{x}<br>value=%{y}<extra></extra>",
         "legendgroup": "Trade Balance Non-Oil",
         "line": {
          "color": "#B6E880",
          "dash": "solid"
         },
         "marker": {
          "symbol": "circle"
         },
         "mode": "lines",
         "name": "Trade Balance Non-Oil",
         "orientation": "v",
         "showlegend": true,
         "type": "scatter",
         "x": [
          "2021-01-01T00:00:00",
          "2020-01-01T00:00:00",
          "2019-01-01T00:00:00",
          "2018-01-01T00:00:00",
          "2017-01-01T00:00:00",
          "2016-01-01T00:00:00",
          "2015-01-01T00:00:00",
          "2014-01-01T00:00:00",
          "2013-01-01T00:00:00",
          "2012-01-01T00:00:00",
          "2011-01-01T00:00:00",
          "2010-01-01T00:00:00",
          "2009-01-01T00:00:00",
          "2008-01-01T00:00:00",
          "2007-01-01T00:00:00",
          "2006-01-01T00:00:00",
          "2005-01-01T00:00:00",
          "2004-01-01T00:00:00",
          "2003-01-01T00:00:00",
          "2002-01-01T00:00:00",
          "2001-01-01T00:00:00",
          "2000-01-01T00:00:00",
          "1999-01-01T00:00:00",
          "1998-01-01T00:00:00",
          "1997-01-01T00:00:00",
          "1996-01-01T00:00:00",
          "1995-01-01T00:00:00",
          "1994-01-01T00:00:00",
          "1993-01-01T00:00:00",
          "1992-01-01T00:00:00",
          "1991-01-01T00:00:00",
          "1990-01-01T00:00:00",
          "1989-01-01T00:00:00",
          "1988-01-01T00:00:00",
          "1987-01-01T00:00:00",
          "1986-01-01T00:00:00",
          "1985-01-01T00:00:00",
          "1984-01-01T00:00:00",
          "1983-01-01T00:00:00",
          "1982-01-01T00:00:00",
          "1981-01-01T00:00:00",
          "1980-01-01T00:00:00",
          "1979-01-01T00:00:00",
          "1978-01-01T00:00:00",
          "1977-01-01T00:00:00",
          "1976-01-01T00:00:00",
          "1975-01-01T00:00:00",
          "1974-01-01T00:00:00",
          "1973-01-01T00:00:00",
          "1972-01-01T00:00:00",
          "1971-01-01T00:00:00",
          "1970-01-01T00:00:00"
         ],
         "xaxis": "x",
         "y": [
          -721800,
          -336458,
          -508273,
          -626602,
          -585633,
          -356534,
          -433054,
          -343849,
          -195785,
          -473792,
          -404344,
          -247042,
          -239452,
          -237111,
          -149985,
          -94675,
          -60884,
          -23035,
          12382,
          30829,
          20482,
          35653,
          -1195,
          -12036,
          4955,
          13816,
          7331,
          10007,
          13449,
          6076,
          8295,
          -757,
          -2094,
          -4151,
          -3176,
          -5245,
          -4418,
          -1800,
          -2817,
          -1103,
          -833,
          -600,
          524,
          578,
          923,
          1464,
          -22,
          -47,
          116,
          279,
          -33,
          28
         ],
         "yaxis": "y"
        },
        {
         "hovertemplate": "variable=Trade Balance Total<br>Year=%{x}<br>value=%{y}<extra></extra>",
         "legendgroup": "Trade Balance Total",
         "line": {
          "color": "#FF97FF",
          "dash": "solid"
         },
         "marker": {
          "symbol": "circle"
         },
         "mode": "lines",
         "name": "Trade Balance Total",
         "orientation": "v",
         "showlegend": true,
         "type": "scatter",
         "x": [
          "2021-01-01T00:00:00",
          "2020-01-01T00:00:00",
          "2019-01-01T00:00:00",
          "2018-01-01T00:00:00",
          "2017-01-01T00:00:00",
          "2016-01-01T00:00:00",
          "2015-01-01T00:00:00",
          "2014-01-01T00:00:00",
          "2013-01-01T00:00:00",
          "2012-01-01T00:00:00",
          "2011-01-01T00:00:00",
          "2010-01-01T00:00:00",
          "2009-01-01T00:00:00",
          "2008-01-01T00:00:00",
          "2007-01-01T00:00:00",
          "2006-01-01T00:00:00",
          "2005-01-01T00:00:00",
          "2004-01-01T00:00:00",
          "2003-01-01T00:00:00",
          "2002-01-01T00:00:00",
          "2001-01-01T00:00:00",
          "2000-01-01T00:00:00",
          "1999-01-01T00:00:00",
          "1998-01-01T00:00:00",
          "1997-01-01T00:00:00",
          "1996-01-01T00:00:00",
          "1995-01-01T00:00:00",
          "1994-01-01T00:00:00",
          "1993-01-01T00:00:00",
          "1992-01-01T00:00:00",
          "1991-01-01T00:00:00",
          "1990-01-01T00:00:00",
          "1989-01-01T00:00:00",
          "1988-01-01T00:00:00",
          "1987-01-01T00:00:00",
          "1986-01-01T00:00:00",
          "1985-01-01T00:00:00",
          "1984-01-01T00:00:00",
          "1983-01-01T00:00:00",
          "1982-01-01T00:00:00",
          "1981-01-01T00:00:00",
          "1980-01-01T00:00:00",
          "1979-01-01T00:00:00",
          "1978-01-01T00:00:00",
          "1977-01-01T00:00:00",
          "1976-01-01T00:00:00",
          "1975-01-01T00:00:00",
          "1974-01-01T00:00:00",
          "1973-01-01T00:00:00",
          "1972-01-01T00:00:00",
          "1971-01-01T00:00:00",
          "1970-01-01T00:00:00"
         ],
         "xaxis": "x",
         "y": [
          -1425753,
          -756914,
          -1141100,
          -1286948,
          -1044519,
          -728242,
          -773921,
          -840641,
          -810423,
          -1034844,
          -879504,
          -540545,
          -518202,
          -533680,
          -356448,
          -268727,
          -203991,
          -125725,
          -65741,
          -42069,
          -36182,
          -27302,
          -55675,
          -38579,
          -24076,
          -20103,
          -16325,
          -7297,
          -3350,
          -9686,
          -3809,
          -10635,
          -7670,
          -8004,
          -6570,
          -7644,
          -8763,
          -5391,
          -6061,
          -5489,
          -5802,
          -5838,
          -2724,
          -1085,
          -612,
          69,
          -1229,
          -1190,
          -432,
          104,
          -216,
          -99
         ],
         "yaxis": "y"
        }
       ],
       "layout": {
        "legend": {
         "title": {
          "text": "variable"
         },
         "tracegroupgap": 0
        },
        "template": {
         "data": {
          "bar": [
           {
            "error_x": {
             "color": "#2a3f5f"
            },
            "error_y": {
             "color": "#2a3f5f"
            },
            "marker": {
             "line": {
              "color": "#E5ECF6",
              "width": 0.5
             },
             "pattern": {
              "fillmode": "overlay",
              "size": 10,
              "solidity": 0.2
             }
            },
            "type": "bar"
           }
          ],
          "barpolar": [
           {
            "marker": {
             "line": {
              "color": "#E5ECF6",
              "width": 0.5
             },
             "pattern": {
              "fillmode": "overlay",
              "size": 10,
              "solidity": 0.2
             }
            },
            "type": "barpolar"
           }
          ],
          "carpet": [
           {
            "aaxis": {
             "endlinecolor": "#2a3f5f",
             "gridcolor": "white",
             "linecolor": "white",
             "minorgridcolor": "white",
             "startlinecolor": "#2a3f5f"
            },
            "baxis": {
             "endlinecolor": "#2a3f5f",
             "gridcolor": "white",
             "linecolor": "white",
             "minorgridcolor": "white",
             "startlinecolor": "#2a3f5f"
            },
            "type": "carpet"
           }
          ],
          "choropleth": [
           {
            "colorbar": {
             "outlinewidth": 0,
             "ticks": ""
            },
            "type": "choropleth"
           }
          ],
          "contour": [
           {
            "colorbar": {
             "outlinewidth": 0,
             "ticks": ""
            },
            "colorscale": [
             [
              0,
              "#0d0887"
             ],
             [
              0.1111111111111111,
              "#46039f"
             ],
             [
              0.2222222222222222,
              "#7201a8"
             ],
             [
              0.3333333333333333,
              "#9c179e"
             ],
             [
              0.4444444444444444,
              "#bd3786"
             ],
             [
              0.5555555555555556,
              "#d8576b"
             ],
             [
              0.6666666666666666,
              "#ed7953"
             ],
             [
              0.7777777777777778,
              "#fb9f3a"
             ],
             [
              0.8888888888888888,
              "#fdca26"
             ],
             [
              1,
              "#f0f921"
             ]
            ],
            "type": "contour"
           }
          ],
          "contourcarpet": [
           {
            "colorbar": {
             "outlinewidth": 0,
             "ticks": ""
            },
            "type": "contourcarpet"
           }
          ],
          "heatmap": [
           {
            "colorbar": {
             "outlinewidth": 0,
             "ticks": ""
            },
            "colorscale": [
             [
              0,
              "#0d0887"
             ],
             [
              0.1111111111111111,
              "#46039f"
             ],
             [
              0.2222222222222222,
              "#7201a8"
             ],
             [
              0.3333333333333333,
              "#9c179e"
             ],
             [
              0.4444444444444444,
              "#bd3786"
             ],
             [
              0.5555555555555556,
              "#d8576b"
             ],
             [
              0.6666666666666666,
              "#ed7953"
             ],
             [
              0.7777777777777778,
              "#fb9f3a"
             ],
             [
              0.8888888888888888,
              "#fdca26"
             ],
             [
              1,
              "#f0f921"
             ]
            ],
            "type": "heatmap"
           }
          ],
          "heatmapgl": [
           {
            "colorbar": {
             "outlinewidth": 0,
             "ticks": ""
            },
            "colorscale": [
             [
              0,
              "#0d0887"
             ],
             [
              0.1111111111111111,
              "#46039f"
             ],
             [
              0.2222222222222222,
              "#7201a8"
             ],
             [
              0.3333333333333333,
              "#9c179e"
             ],
             [
              0.4444444444444444,
              "#bd3786"
             ],
             [
              0.5555555555555556,
              "#d8576b"
             ],
             [
              0.6666666666666666,
              "#ed7953"
             ],
             [
              0.7777777777777778,
              "#fb9f3a"
             ],
             [
              0.8888888888888888,
              "#fdca26"
             ],
             [
              1,
              "#f0f921"
             ]
            ],
            "type": "heatmapgl"
           }
          ],
          "histogram": [
           {
            "marker": {
             "pattern": {
              "fillmode": "overlay",
              "size": 10,
              "solidity": 0.2
             }
            },
            "type": "histogram"
           }
          ],
          "histogram2d": [
           {
            "colorbar": {
             "outlinewidth": 0,
             "ticks": ""
            },
            "colorscale": [
             [
              0,
              "#0d0887"
             ],
             [
              0.1111111111111111,
              "#46039f"
             ],
             [
              0.2222222222222222,
              "#7201a8"
             ],
             [
              0.3333333333333333,
              "#9c179e"
             ],
             [
              0.4444444444444444,
              "#bd3786"
             ],
             [
              0.5555555555555556,
              "#d8576b"
             ],
             [
              0.6666666666666666,
              "#ed7953"
             ],
             [
              0.7777777777777778,
              "#fb9f3a"
             ],
             [
              0.8888888888888888,
              "#fdca26"
             ],
             [
              1,
              "#f0f921"
             ]
            ],
            "type": "histogram2d"
           }
          ],
          "histogram2dcontour": [
           {
            "colorbar": {
             "outlinewidth": 0,
             "ticks": ""
            },
            "colorscale": [
             [
              0,
              "#0d0887"
             ],
             [
              0.1111111111111111,
              "#46039f"
             ],
             [
              0.2222222222222222,
              "#7201a8"
             ],
             [
              0.3333333333333333,
              "#9c179e"
             ],
             [
              0.4444444444444444,
              "#bd3786"
             ],
             [
              0.5555555555555556,
              "#d8576b"
             ],
             [
              0.6666666666666666,
              "#ed7953"
             ],
             [
              0.7777777777777778,
              "#fb9f3a"
             ],
             [
              0.8888888888888888,
              "#fdca26"
             ],
             [
              1,
              "#f0f921"
             ]
            ],
            "type": "histogram2dcontour"
           }
          ],
          "mesh3d": [
           {
            "colorbar": {
             "outlinewidth": 0,
             "ticks": ""
            },
            "type": "mesh3d"
           }
          ],
          "parcoords": [
           {
            "line": {
             "colorbar": {
              "outlinewidth": 0,
              "ticks": ""
             }
            },
            "type": "parcoords"
           }
          ],
          "pie": [
           {
            "automargin": true,
            "type": "pie"
           }
          ],
          "scatter": [
           {
            "fillpattern": {
             "fillmode": "overlay",
             "size": 10,
             "solidity": 0.2
            },
            "type": "scatter"
           }
          ],
          "scatter3d": [
           {
            "line": {
             "colorbar": {
              "outlinewidth": 0,
              "ticks": ""
             }
            },
            "marker": {
             "colorbar": {
              "outlinewidth": 0,
              "ticks": ""
             }
            },
            "type": "scatter3d"
           }
          ],
          "scattercarpet": [
           {
            "marker": {
             "colorbar": {
              "outlinewidth": 0,
              "ticks": ""
             }
            },
            "type": "scattercarpet"
           }
          ],
          "scattergeo": [
           {
            "marker": {
             "colorbar": {
              "outlinewidth": 0,
              "ticks": ""
             }
            },
            "type": "scattergeo"
           }
          ],
          "scattergl": [
           {
            "marker": {
             "colorbar": {
              "outlinewidth": 0,
              "ticks": ""
             }
            },
            "type": "scattergl"
           }
          ],
          "scattermapbox": [
           {
            "marker": {
             "colorbar": {
              "outlinewidth": 0,
              "ticks": ""
             }
            },
            "type": "scattermapbox"
           }
          ],
          "scatterpolar": [
           {
            "marker": {
             "colorbar": {
              "outlinewidth": 0,
              "ticks": ""
             }
            },
            "type": "scatterpolar"
           }
          ],
          "scatterpolargl": [
           {
            "marker": {
             "colorbar": {
              "outlinewidth": 0,
              "ticks": ""
             }
            },
            "type": "scatterpolargl"
           }
          ],
          "scatterternary": [
           {
            "marker": {
             "colorbar": {
              "outlinewidth": 0,
              "ticks": ""
             }
            },
            "type": "scatterternary"
           }
          ],
          "surface": [
           {
            "colorbar": {
             "outlinewidth": 0,
             "ticks": ""
            },
            "colorscale": [
             [
              0,
              "#0d0887"
             ],
             [
              0.1111111111111111,
              "#46039f"
             ],
             [
              0.2222222222222222,
              "#7201a8"
             ],
             [
              0.3333333333333333,
              "#9c179e"
             ],
             [
              0.4444444444444444,
              "#bd3786"
             ],
             [
              0.5555555555555556,
              "#d8576b"
             ],
             [
              0.6666666666666666,
              "#ed7953"
             ],
             [
              0.7777777777777778,
              "#fb9f3a"
             ],
             [
              0.8888888888888888,
              "#fdca26"
             ],
             [
              1,
              "#f0f921"
             ]
            ],
            "type": "surface"
           }
          ],
          "table": [
           {
            "cells": {
             "fill": {
              "color": "#EBF0F8"
             },
             "line": {
              "color": "white"
             }
            },
            "header": {
             "fill": {
              "color": "#C8D4E3"
             },
             "line": {
              "color": "white"
             }
            },
            "type": "table"
           }
          ]
         },
         "layout": {
          "annotationdefaults": {
           "arrowcolor": "#2a3f5f",
           "arrowhead": 0,
           "arrowwidth": 1
          },
          "autotypenumbers": "strict",
          "coloraxis": {
           "colorbar": {
            "outlinewidth": 0,
            "ticks": ""
           }
          },
          "colorscale": {
           "diverging": [
            [
             0,
             "#8e0152"
            ],
            [
             0.1,
             "#c51b7d"
            ],
            [
             0.2,
             "#de77ae"
            ],
            [
             0.3,
             "#f1b6da"
            ],
            [
             0.4,
             "#fde0ef"
            ],
            [
             0.5,
             "#f7f7f7"
            ],
            [
             0.6,
             "#e6f5d0"
            ],
            [
             0.7,
             "#b8e186"
            ],
            [
             0.8,
             "#7fbc41"
            ],
            [
             0.9,
             "#4d9221"
            ],
            [
             1,
             "#276419"
            ]
           ],
           "sequential": [
            [
             0,
             "#0d0887"
            ],
            [
             0.1111111111111111,
             "#46039f"
            ],
            [
             0.2222222222222222,
             "#7201a8"
            ],
            [
             0.3333333333333333,
             "#9c179e"
            ],
            [
             0.4444444444444444,
             "#bd3786"
            ],
            [
             0.5555555555555556,
             "#d8576b"
            ],
            [
             0.6666666666666666,
             "#ed7953"
            ],
            [
             0.7777777777777778,
             "#fb9f3a"
            ],
            [
             0.8888888888888888,
             "#fdca26"
            ],
            [
             1,
             "#f0f921"
            ]
           ],
           "sequentialminus": [
            [
             0,
             "#0d0887"
            ],
            [
             0.1111111111111111,
             "#46039f"
            ],
            [
             0.2222222222222222,
             "#7201a8"
            ],
            [
             0.3333333333333333,
             "#9c179e"
            ],
            [
             0.4444444444444444,
             "#bd3786"
            ],
            [
             0.5555555555555556,
             "#d8576b"
            ],
            [
             0.6666666666666666,
             "#ed7953"
            ],
            [
             0.7777777777777778,
             "#fb9f3a"
            ],
            [
             0.8888888888888888,
             "#fdca26"
            ],
            [
             1,
             "#f0f921"
            ]
           ]
          },
          "colorway": [
           "#636efa",
           "#EF553B",
           "#00cc96",
           "#ab63fa",
           "#FFA15A",
           "#19d3f3",
           "#FF6692",
           "#B6E880",
           "#FF97FF",
           "#FECB52"
          ],
          "font": {
           "color": "#2a3f5f"
          },
          "geo": {
           "bgcolor": "white",
           "lakecolor": "white",
           "landcolor": "#E5ECF6",
           "showlakes": true,
           "showland": true,
           "subunitcolor": "white"
          },
          "hoverlabel": {
           "align": "left"
          },
          "hovermode": "closest",
          "mapbox": {
           "style": "light"
          },
          "paper_bgcolor": "white",
          "plot_bgcolor": "#E5ECF6",
          "polar": {
           "angularaxis": {
            "gridcolor": "white",
            "linecolor": "white",
            "ticks": ""
           },
           "bgcolor": "#E5ECF6",
           "radialaxis": {
            "gridcolor": "white",
            "linecolor": "white",
            "ticks": ""
           }
          },
          "scene": {
           "xaxis": {
            "backgroundcolor": "#E5ECF6",
            "gridcolor": "white",
            "gridwidth": 2,
            "linecolor": "white",
            "showbackground": true,
            "ticks": "",
            "zerolinecolor": "white"
           },
           "yaxis": {
            "backgroundcolor": "#E5ECF6",
            "gridcolor": "white",
            "gridwidth": 2,
            "linecolor": "white",
            "showbackground": true,
            "ticks": "",
            "zerolinecolor": "white"
           },
           "zaxis": {
            "backgroundcolor": "#E5ECF6",
            "gridcolor": "white",
            "gridwidth": 2,
            "linecolor": "white",
            "showbackground": true,
            "ticks": "",
            "zerolinecolor": "white"
           }
          },
          "shapedefaults": {
           "line": {
            "color": "#2a3f5f"
           }
          },
          "ternary": {
           "aaxis": {
            "gridcolor": "white",
            "linecolor": "white",
            "ticks": ""
           },
           "baxis": {
            "gridcolor": "white",
            "linecolor": "white",
            "ticks": ""
           },
           "bgcolor": "#E5ECF6",
           "caxis": {
            "gridcolor": "white",
            "linecolor": "white",
            "ticks": ""
           }
          },
          "title": {
           "x": 0.05
          },
          "xaxis": {
           "automargin": true,
           "gridcolor": "white",
           "linecolor": "white",
           "ticks": "",
           "title": {
            "standoff": 15
           },
           "zerolinecolor": "white",
           "zerolinewidth": 2
          },
          "yaxis": {
           "automargin": true,
           "gridcolor": "white",
           "linecolor": "white",
           "ticks": "",
           "title": {
            "standoff": 15
           },
           "zerolinecolor": "white",
           "zerolinewidth": 2
          }
         }
        },
        "title": {
         "text": "INDIAâ€™S FOREIGN TRADE - RUPEES (Rupees Crore)"
        },
        "xaxis": {
         "anchor": "y",
         "domain": [
          0,
          1
         ],
         "title": {
          "text": "Year"
         }
        },
        "yaxis": {
         "anchor": "x",
         "domain": [
          0,
          1
         ],
         "title": {
          "text": "Foreign Trade"
         }
        }
       }
      },
      "text/html": [
       "<div>                            <div id=\"19dae22d-c3a4-419a-b2f0-d8fb3847b774\" class=\"plotly-graph-div\" style=\"height:525px; width:100%;\"></div>            <script type=\"text/javascript\">                require([\"plotly\"], function(Plotly) {                    window.PLOTLYENV=window.PLOTLYENV || {};                                    if (document.getElementById(\"19dae22d-c3a4-419a-b2f0-d8fb3847b774\")) {                    Plotly.newPlot(                        \"19dae22d-c3a4-419a-b2f0-d8fb3847b774\",                        [{\"hovertemplate\":\"variable=Exports Oil<br>Year=%{x}<br>value=%{y}<extra></extra>\",\"legendgroup\":\"Exports Oil\",\"line\":{\"color\":\"#636efa\",\"dash\":\"solid\"},\"marker\":{\"symbol\":\"circle\"},\"mode\":\"lines\",\"name\":\"Exports Oil\",\"orientation\":\"v\",\"showlegend\":true,\"x\":[\"2021-01-01T00:00:00\",\"2020-01-01T00:00:00\",\"2019-01-01T00:00:00\",\"2018-01-01T00:00:00\",\"2017-01-01T00:00:00\",\"2016-01-01T00:00:00\",\"2015-01-01T00:00:00\",\"2014-01-01T00:00:00\",\"2013-01-01T00:00:00\",\"2012-01-01T00:00:00\",\"2011-01-01T00:00:00\",\"2010-01-01T00:00:00\",\"2009-01-01T00:00:00\",\"2008-01-01T00:00:00\",\"2007-01-01T00:00:00\",\"2006-01-01T00:00:00\",\"2005-01-01T00:00:00\",\"2004-01-01T00:00:00\",\"2003-01-01T00:00:00\",\"2002-01-01T00:00:00\",\"2001-01-01T00:00:00\",\"2000-01-01T00:00:00\",\"1999-01-01T00:00:00\",\"1998-01-01T00:00:00\",\"1997-01-01T00:00:00\",\"1996-01-01T00:00:00\",\"1995-01-01T00:00:00\",\"1994-01-01T00:00:00\",\"1993-01-01T00:00:00\",\"1992-01-01T00:00:00\",\"1991-01-01T00:00:00\",\"1990-01-01T00:00:00\",\"1989-01-01T00:00:00\",\"1988-01-01T00:00:00\",\"1987-01-01T00:00:00\",\"1986-01-01T00:00:00\",\"1985-01-01T00:00:00\",\"1984-01-01T00:00:00\",\"1983-01-01T00:00:00\",\"1982-01-01T00:00:00\",\"1981-01-01T00:00:00\",\"1980-01-01T00:00:00\",\"1979-01-01T00:00:00\",\"1978-01-01T00:00:00\",\"1977-01-01T00:00:00\",\"1976-01-01T00:00:00\",\"1975-01-01T00:00:00\",\"1974-01-01T00:00:00\",\"1973-01-01T00:00:00\",\"1972-01-01T00:00:00\",\"1971-01-01T00:00:00\",\"1970-01-01T00:00:00\"],\"xaxis\":\"x\",\"y\":[503850,190896,292340,325929,241435,211509,199638,346082,383248,330819,267915,188779,132899,123398,114192,84520,51533,31404,16397,12469,10107,8542,169,376,1311,1710,1518,1309,1248,1379,1022,938,697,505,649,411,645,1818,1588,1235,221,25,19,14,16,19,19,14,12,29,11,9],\"yaxis\":\"y\",\"type\":\"scatter\"},{\"hovertemplate\":\"variable=Exports Non-Oil<br>Year=%{x}<br>value=%{y}<extra></extra>\",\"legendgroup\":\"Exports Non-Oil\",\"line\":{\"color\":\"#EF553B\",\"dash\":\"solid\"},\"marker\":{\"symbol\":\"circle\"},\"mode\":\"lines\",\"name\":\"Exports Non-Oil\",\"orientation\":\"v\",\"showlegend\":true,\"x\":[\"2021-01-01T00:00:00\",\"2020-01-01T00:00:00\",\"2019-01-01T00:00:00\",\"2018-01-01T00:00:00\",\"2017-01-01T00:00:00\",\"2016-01-01T00:00:00\",\"2015-01-01T00:00:00\",\"2014-01-01T00:00:00\",\"2013-01-01T00:00:00\",\"2012-01-01T00:00:00\",\"2011-01-01T00:00:00\",\"2010-01-01T00:00:00\",\"2009-01-01T00:00:00\",\"2008-01-01T00:00:00\",\"2007-01-01T00:00:00\",\"2006-01-01T00:00:00\",\"2005-01-01T00:00:00\",\"2004-01-01T00:00:00\",\"2003-01-01T00:00:00\",\"2002-01-01T00:00:00\",\"2001-01-01T00:00:00\",\"2000-01-01T00:00:00\",\"1999-01-01T00:00:00\",\"1998-01-01T00:00:00\",\"1997-01-01T00:00:00\",\"1996-01-01T00:00:00\",\"1995-01-01T00:00:00\",\"1994-01-01T00:00:00\",\"1993-01-01T00:00:00\",\"1992-01-01T00:00:00\",\"1991-01-01T00:00:00\",\"1990-01-01T00:00:00\",\"1989-01-01T00:00:00\",\"1988-01-01T00:00:00\",\"1987-01-01T00:00:00\",\"1986-01-01T00:00:00\",\"1985-01-01T00:00:00\",\"1984-01-01T00:00:00\",\"1983-01-01T00:00:00\",\"1982-01-01T00:00:00\",\"1981-01-01T00:00:00\",\"1980-01-01T00:00:00\",\"1979-01-01T00:00:00\",\"1978-01-01T00:00:00\",\"1977-01-01T00:00:00\",\"1976-01-01T00:00:00\",\"1975-01-01T00:00:00\",\"1974-01-01T00:00:00\",\"1973-01-01T00:00:00\",\"1972-01-01T00:00:00\",\"1971-01-01T00:00:00\",\"1970-01-01T00:00:00\"],\"xaxis\":\"x\",\"y\":[2643171,1968147,1927514,1981797,1715080,1637925,1516747,1550363,1521763,1303500,1198045,954143,712635,717357,541672,487259,404885,343935,276969,242668,198911,195029,159393,139377,128790,117107,104836,81365,68504,52309,43020,31620,26962,19727,15025,12041,10250,9926,8183,7568,7585,6686,6400,5712,5392,5124,4017,3315,2511,1943,1598,1527],\"yaxis\":\"y\",\"type\":\"scatter\"},{\"hovertemplate\":\"variable=Exports Total<br>Year=%{x}<br>value=%{y}<extra></extra>\",\"legendgroup\":\"Exports Total\",\"line\":{\"color\":\"#00cc96\",\"dash\":\"solid\"},\"marker\":{\"symbol\":\"circle\"},\"mode\":\"lines\",\"name\":\"Exports Total\",\"orientation\":\"v\",\"showlegend\":true,\"x\":[\"2021-01-01T00:00:00\",\"2020-01-01T00:00:00\",\"2019-01-01T00:00:00\",\"2018-01-01T00:00:00\",\"2017-01-01T00:00:00\",\"2016-01-01T00:00:00\",\"2015-01-01T00:00:00\",\"2014-01-01T00:00:00\",\"2013-01-01T00:00:00\",\"2012-01-01T00:00:00\",\"2011-01-01T00:00:00\",\"2010-01-01T00:00:00\",\"2009-01-01T00:00:00\",\"2008-01-01T00:00:00\",\"2007-01-01T00:00:00\",\"2006-01-01T00:00:00\",\"2005-01-01T00:00:00\",\"2004-01-01T00:00:00\",\"2003-01-01T00:00:00\",\"2002-01-01T00:00:00\",\"2001-01-01T00:00:00\",\"2000-01-01T00:00:00\",\"1999-01-01T00:00:00\",\"1998-01-01T00:00:00\",\"1997-01-01T00:00:00\",\"1996-01-01T00:00:00\",\"1995-01-01T00:00:00\",\"1994-01-01T00:00:00\",\"1993-01-01T00:00:00\",\"1992-01-01T00:00:00\",\"1991-01-01T00:00:00\",\"1990-01-01T00:00:00\",\"1989-01-01T00:00:00\",\"1988-01-01T00:00:00\",\"1987-01-01T00:00:00\",\"1986-01-01T00:00:00\",\"1985-01-01T00:00:00\",\"1984-01-01T00:00:00\",\"1983-01-01T00:00:00\",\"1982-01-01T00:00:00\",\"1981-01-01T00:00:00\",\"1980-01-01T00:00:00\",\"1979-01-01T00:00:00\",\"1978-01-01T00:00:00\",\"1977-01-01T00:00:00\",\"1976-01-01T00:00:00\",\"1975-01-01T00:00:00\",\"1974-01-01T00:00:00\",\"1973-01-01T00:00:00\",\"1972-01-01T00:00:00\",\"1971-01-01T00:00:00\",\"1970-01-01T00:00:00\"],\"xaxis\":\"x\",\"y\":[3147021,2159043,2219854,2307726,1956515,1849434,1716384,1896445,1905011,1634318,1465959,1142922,845534,840755,655864,571779,456418,375340,293367,255137,209018,203571,159561,139753,130101,118817,106353,82674,69751,53688,44042,32558,27658,20232,15674,12452,10895,11744,9771,8803,7806,6711,6418,5726,5408,5143,4036,3329,2523,1972,1608,1535],\"yaxis\":\"y\",\"type\":\"scatter\"},{\"hovertemplate\":\"variable=Imports Oil<br>Year=%{x}<br>value=%{y}<extra></extra>\",\"legendgroup\":\"Imports Oil\",\"line\":{\"color\":\"#ab63fa\",\"dash\":\"solid\"},\"marker\":{\"symbol\":\"circle\"},\"mode\":\"lines\",\"name\":\"Imports Oil\",\"orientation\":\"v\",\"showlegend\":true,\"x\":[\"2021-01-01T00:00:00\",\"2020-01-01T00:00:00\",\"2019-01-01T00:00:00\",\"2018-01-01T00:00:00\",\"2017-01-01T00:00:00\",\"2016-01-01T00:00:00\",\"2015-01-01T00:00:00\",\"2014-01-01T00:00:00\",\"2013-01-01T00:00:00\",\"2012-01-01T00:00:00\",\"2011-01-01T00:00:00\",\"2010-01-01T00:00:00\",\"2009-01-01T00:00:00\",\"2008-01-01T00:00:00\",\"2007-01-01T00:00:00\",\"2006-01-01T00:00:00\",\"2005-01-01T00:00:00\",\"2004-01-01T00:00:00\",\"2003-01-01T00:00:00\",\"2002-01-01T00:00:00\",\"2001-01-01T00:00:00\",\"2000-01-01T00:00:00\",\"1999-01-01T00:00:00\",\"1998-01-01T00:00:00\",\"1997-01-01T00:00:00\",\"1996-01-01T00:00:00\",\"1995-01-01T00:00:00\",\"1994-01-01T00:00:00\",\"1993-01-01T00:00:00\",\"1992-01-01T00:00:00\",\"1991-01-01T00:00:00\",\"1990-01-01T00:00:00\",\"1989-01-01T00:00:00\",\"1988-01-01T00:00:00\",\"1987-01-01T00:00:00\",\"1986-01-01T00:00:00\",\"1985-01-01T00:00:00\",\"1984-01-01T00:00:00\",\"1983-01-01T00:00:00\",\"1982-01-01T00:00:00\",\"1981-01-01T00:00:00\",\"1980-01-01T00:00:00\",\"1979-01-01T00:00:00\",\"1978-01-01T00:00:00\",\"1977-01-01T00:00:00\",\"1976-01-01T00:00:00\",\"1975-01-01T00:00:00\",\"1974-01-01T00:00:00\",\"1973-01-01T00:00:00\",\"1972-01-01T00:00:00\",\"1971-01-01T00:00:00\",\"1970-01-01T00:00:00\"],\"xaxis\":\"x\",\"y\":[1207803,611353,925168,986275,700321,583217,540505,842874,997885,891871,743075,482282,411649,419968,320655,258572,194640,134094,94520,85367,66770,71497,54649,26919,30341,35629,25174,18613,18046,17142,13127,10816,6273,4358,4043,2811,4989,5409,4832,5622,5189,5264,3267,1677,1551,1413,1226,1157,560,204,194,136],\"yaxis\":\"y\",\"type\":\"scatter\"},{\"hovertemplate\":\"variable=Imports Non-Oil<br>Year=%{x}<br>value=%{y}<extra></extra>\",\"legendgroup\":\"Imports Non-Oil\",\"line\":{\"color\":\"#FFA15A\",\"dash\":\"solid\"},\"marker\":{\"symbol\":\"circle\"},\"mode\":\"lines\",\"name\":\"Imports Non-Oil\",\"orientation\":\"v\",\"showlegend\":true,\"x\":[\"2021-01-01T00:00:00\",\"2020-01-01T00:00:00\",\"2019-01-01T00:00:00\",\"2018-01-01T00:00:00\",\"2017-01-01T00:00:00\",\"2016-01-01T00:00:00\",\"2015-01-01T00:00:00\",\"2014-01-01T00:00:00\",\"2013-01-01T00:00:00\",\"2012-01-01T00:00:00\",\"2011-01-01T00:00:00\",\"2010-01-01T00:00:00\",\"2009-01-01T00:00:00\",\"2008-01-01T00:00:00\",\"2007-01-01T00:00:00\",\"2006-01-01T00:00:00\",\"2005-01-01T00:00:00\",\"2004-01-01T00:00:00\",\"2003-01-01T00:00:00\",\"2002-01-01T00:00:00\",\"2001-01-01T00:00:00\",\"2000-01-01T00:00:00\",\"1999-01-01T00:00:00\",\"1998-01-01T00:00:00\",\"1997-01-01T00:00:00\",\"1996-01-01T00:00:00\",\"1995-01-01T00:00:00\",\"1994-01-01T00:00:00\",\"1993-01-01T00:00:00\",\"1992-01-01T00:00:00\",\"1991-01-01T00:00:00\",\"1990-01-01T00:00:00\",\"1989-01-01T00:00:00\",\"1988-01-01T00:00:00\",\"1987-01-01T00:00:00\",\"1986-01-01T00:00:00\",\"1985-01-01T00:00:00\",\"1984-01-01T00:00:00\",\"1983-01-01T00:00:00\",\"1982-01-01T00:00:00\",\"1981-01-01T00:00:00\",\"1980-01-01T00:00:00\",\"1979-01-01T00:00:00\",\"1978-01-01T00:00:00\",\"1977-01-01T00:00:00\",\"1976-01-01T00:00:00\",\"1975-01-01T00:00:00\",\"1974-01-01T00:00:00\",\"1973-01-01T00:00:00\",\"1972-01-01T00:00:00\",\"1971-01-01T00:00:00\",\"1970-01-01T00:00:00\"],\"xaxis\":\"x\",\"y\":[3364972,2304605,2435787,2608400,2300713,1994458,1949801,1894212,1717548,1777291,1602388,1201185,952086,954468,691657,581935,465769,366971,264588,211839,178430,159376,160588,151413,123835,103291,97505,71358,55055,46233,34724,32377,29056,23878,18201,17285,14668,11725,11000,8671,8418,7286,5876,5134,4469,3660,4039,3362,2395,1663,1630,1498],\"yaxis\":\"y\",\"type\":\"scatter\"},{\"hovertemplate\":\"variable=Imports Total<br>Year=%{x}<br>value=%{y}<extra></extra>\",\"legendgroup\":\"Imports Total\",\"line\":{\"color\":\"#19d3f3\",\"dash\":\"solid\"},\"marker\":{\"symbol\":\"circle\"},\"mode\":\"lines\",\"name\":\"Imports Total\",\"orientation\":\"v\",\"showlegend\":true,\"x\":[\"2021-01-01T00:00:00\",\"2020-01-01T00:00:00\",\"2019-01-01T00:00:00\",\"2018-01-01T00:00:00\",\"2017-01-01T00:00:00\",\"2016-01-01T00:00:00\",\"2015-01-01T00:00:00\",\"2014-01-01T00:00:00\",\"2013-01-01T00:00:00\",\"2012-01-01T00:00:00\",\"2011-01-01T00:00:00\",\"2010-01-01T00:00:00\",\"2009-01-01T00:00:00\",\"2008-01-01T00:00:00\",\"2007-01-01T00:00:00\",\"2006-01-01T00:00:00\",\"2005-01-01T00:00:00\",\"2004-01-01T00:00:00\",\"2003-01-01T00:00:00\",\"2002-01-01T00:00:00\",\"2001-01-01T00:00:00\",\"2000-01-01T00:00:00\",\"1999-01-01T00:00:00\",\"1998-01-01T00:00:00\",\"1997-01-01T00:00:00\",\"1996-01-01T00:00:00\",\"1995-01-01T00:00:00\",\"1994-01-01T00:00:00\",\"1993-01-01T00:00:00\",\"1992-01-01T00:00:00\",\"1991-01-01T00:00:00\",\"1990-01-01T00:00:00\",\"1989-01-01T00:00:00\",\"1988-01-01T00:00:00\",\"1987-01-01T00:00:00\",\"1986-01-01T00:00:00\",\"1985-01-01T00:00:00\",\"1984-01-01T00:00:00\",\"1983-01-01T00:00:00\",\"1982-01-01T00:00:00\",\"1981-01-01T00:00:00\",\"1980-01-01T00:00:00\",\"1979-01-01T00:00:00\",\"1978-01-01T00:00:00\",\"1977-01-01T00:00:00\",\"1976-01-01T00:00:00\",\"1975-01-01T00:00:00\",\"1974-01-01T00:00:00\",\"1973-01-01T00:00:00\",\"1972-01-01T00:00:00\",\"1971-01-01T00:00:00\",\"1970-01-01T00:00:00\"],\"xaxis\":\"x\",\"y\":[4572775,2915958,3360954,3594675,3001033,2577675,2490306,2737087,2715434,2669162,2345463,1683467,1363736,1374436,1012312,840506,660409,501065,359108,297206,245200,230873,215237,178332,154176,138920,122678,89971,73101,63375,47851,43193,35328,28235,22244,20096,19658,17134,15832,14293,13608,12549,9143,6811,6020,5074,5265,4519,2955,1867,1825,1634],\"yaxis\":\"y\",\"type\":\"scatter\"},{\"hovertemplate\":\"variable=Trade Balance Oil<br>Year=%{x}<br>value=%{y}<extra></extra>\",\"legendgroup\":\"Trade Balance Oil\",\"line\":{\"color\":\"#FF6692\",\"dash\":\"solid\"},\"marker\":{\"symbol\":\"circle\"},\"mode\":\"lines\",\"name\":\"Trade Balance Oil\",\"orientation\":\"v\",\"showlegend\":true,\"x\":[\"2021-01-01T00:00:00\",\"2020-01-01T00:00:00\",\"2019-01-01T00:00:00\",\"2018-01-01T00:00:00\",\"2017-01-01T00:00:00\",\"2016-01-01T00:00:00\",\"2015-01-01T00:00:00\",\"2014-01-01T00:00:00\",\"2013-01-01T00:00:00\",\"2012-01-01T00:00:00\",\"2011-01-01T00:00:00\",\"2010-01-01T00:00:00\",\"2009-01-01T00:00:00\",\"2008-01-01T00:00:00\",\"2007-01-01T00:00:00\",\"2006-01-01T00:00:00\",\"2005-01-01T00:00:00\",\"2004-01-01T00:00:00\",\"2003-01-01T00:00:00\",\"2002-01-01T00:00:00\",\"2001-01-01T00:00:00\",\"2000-01-01T00:00:00\",\"1999-01-01T00:00:00\",\"1998-01-01T00:00:00\",\"1997-01-01T00:00:00\",\"1996-01-01T00:00:00\",\"1995-01-01T00:00:00\",\"1994-01-01T00:00:00\",\"1993-01-01T00:00:00\",\"1992-01-01T00:00:00\",\"1991-01-01T00:00:00\",\"1990-01-01T00:00:00\",\"1989-01-01T00:00:00\",\"1988-01-01T00:00:00\",\"1987-01-01T00:00:00\",\"1986-01-01T00:00:00\",\"1985-01-01T00:00:00\",\"1984-01-01T00:00:00\",\"1983-01-01T00:00:00\",\"1982-01-01T00:00:00\",\"1981-01-01T00:00:00\",\"1980-01-01T00:00:00\",\"1979-01-01T00:00:00\",\"1978-01-01T00:00:00\",\"1977-01-01T00:00:00\",\"1976-01-01T00:00:00\",\"1975-01-01T00:00:00\",\"1974-01-01T00:00:00\",\"1973-01-01T00:00:00\",\"1972-01-01T00:00:00\",\"1971-01-01T00:00:00\",\"1970-01-01T00:00:00\"],\"xaxis\":\"x\",\"y\":[-703953,-420457,-632828,-660346,-458886,-371708,-340867,-496792,-614638,-561052,-475160,-293503,-278750,-296570,-206463,-174052,-143107,-102690,-78123,-72898,-56663,-62955,-54480,-26543,-29030,-33918,-23656,-17304,-16798,-15763,-12105,-9878,-5576,-3853,-3394,-2399,-4345,-3591,-3244,-4387,-4968,-5239,-3248,-1663,-1535,-1395,-1207,-1143,-548,-175,-184,-127],\"yaxis\":\"y\",\"type\":\"scatter\"},{\"hovertemplate\":\"variable=Trade Balance Non-Oil<br>Year=%{x}<br>value=%{y}<extra></extra>\",\"legendgroup\":\"Trade Balance Non-Oil\",\"line\":{\"color\":\"#B6E880\",\"dash\":\"solid\"},\"marker\":{\"symbol\":\"circle\"},\"mode\":\"lines\",\"name\":\"Trade Balance Non-Oil\",\"orientation\":\"v\",\"showlegend\":true,\"x\":[\"2021-01-01T00:00:00\",\"2020-01-01T00:00:00\",\"2019-01-01T00:00:00\",\"2018-01-01T00:00:00\",\"2017-01-01T00:00:00\",\"2016-01-01T00:00:00\",\"2015-01-01T00:00:00\",\"2014-01-01T00:00:00\",\"2013-01-01T00:00:00\",\"2012-01-01T00:00:00\",\"2011-01-01T00:00:00\",\"2010-01-01T00:00:00\",\"2009-01-01T00:00:00\",\"2008-01-01T00:00:00\",\"2007-01-01T00:00:00\",\"2006-01-01T00:00:00\",\"2005-01-01T00:00:00\",\"2004-01-01T00:00:00\",\"2003-01-01T00:00:00\",\"2002-01-01T00:00:00\",\"2001-01-01T00:00:00\",\"2000-01-01T00:00:00\",\"1999-01-01T00:00:00\",\"1998-01-01T00:00:00\",\"1997-01-01T00:00:00\",\"1996-01-01T00:00:00\",\"1995-01-01T00:00:00\",\"1994-01-01T00:00:00\",\"1993-01-01T00:00:00\",\"1992-01-01T00:00:00\",\"1991-01-01T00:00:00\",\"1990-01-01T00:00:00\",\"1989-01-01T00:00:00\",\"1988-01-01T00:00:00\",\"1987-01-01T00:00:00\",\"1986-01-01T00:00:00\",\"1985-01-01T00:00:00\",\"1984-01-01T00:00:00\",\"1983-01-01T00:00:00\",\"1982-01-01T00:00:00\",\"1981-01-01T00:00:00\",\"1980-01-01T00:00:00\",\"1979-01-01T00:00:00\",\"1978-01-01T00:00:00\",\"1977-01-01T00:00:00\",\"1976-01-01T00:00:00\",\"1975-01-01T00:00:00\",\"1974-01-01T00:00:00\",\"1973-01-01T00:00:00\",\"1972-01-01T00:00:00\",\"1971-01-01T00:00:00\",\"1970-01-01T00:00:00\"],\"xaxis\":\"x\",\"y\":[-721800,-336458,-508273,-626602,-585633,-356534,-433054,-343849,-195785,-473792,-404344,-247042,-239452,-237111,-149985,-94675,-60884,-23035,12382,30829,20482,35653,-1195,-12036,4955,13816,7331,10007,13449,6076,8295,-757,-2094,-4151,-3176,-5245,-4418,-1800,-2817,-1103,-833,-600,524,578,923,1464,-22,-47,116,279,-33,28],\"yaxis\":\"y\",\"type\":\"scatter\"},{\"hovertemplate\":\"variable=Trade Balance Total<br>Year=%{x}<br>value=%{y}<extra></extra>\",\"legendgroup\":\"Trade Balance Total\",\"line\":{\"color\":\"#FF97FF\",\"dash\":\"solid\"},\"marker\":{\"symbol\":\"circle\"},\"mode\":\"lines\",\"name\":\"Trade Balance Total\",\"orientation\":\"v\",\"showlegend\":true,\"x\":[\"2021-01-01T00:00:00\",\"2020-01-01T00:00:00\",\"2019-01-01T00:00:00\",\"2018-01-01T00:00:00\",\"2017-01-01T00:00:00\",\"2016-01-01T00:00:00\",\"2015-01-01T00:00:00\",\"2014-01-01T00:00:00\",\"2013-01-01T00:00:00\",\"2012-01-01T00:00:00\",\"2011-01-01T00:00:00\",\"2010-01-01T00:00:00\",\"2009-01-01T00:00:00\",\"2008-01-01T00:00:00\",\"2007-01-01T00:00:00\",\"2006-01-01T00:00:00\",\"2005-01-01T00:00:00\",\"2004-01-01T00:00:00\",\"2003-01-01T00:00:00\",\"2002-01-01T00:00:00\",\"2001-01-01T00:00:00\",\"2000-01-01T00:00:00\",\"1999-01-01T00:00:00\",\"1998-01-01T00:00:00\",\"1997-01-01T00:00:00\",\"1996-01-01T00:00:00\",\"1995-01-01T00:00:00\",\"1994-01-01T00:00:00\",\"1993-01-01T00:00:00\",\"1992-01-01T00:00:00\",\"1991-01-01T00:00:00\",\"1990-01-01T00:00:00\",\"1989-01-01T00:00:00\",\"1988-01-01T00:00:00\",\"1987-01-01T00:00:00\",\"1986-01-01T00:00:00\",\"1985-01-01T00:00:00\",\"1984-01-01T00:00:00\",\"1983-01-01T00:00:00\",\"1982-01-01T00:00:00\",\"1981-01-01T00:00:00\",\"1980-01-01T00:00:00\",\"1979-01-01T00:00:00\",\"1978-01-01T00:00:00\",\"1977-01-01T00:00:00\",\"1976-01-01T00:00:00\",\"1975-01-01T00:00:00\",\"1974-01-01T00:00:00\",\"1973-01-01T00:00:00\",\"1972-01-01T00:00:00\",\"1971-01-01T00:00:00\",\"1970-01-01T00:00:00\"],\"xaxis\":\"x\",\"y\":[-1425753,-756914,-1141100,-1286948,-1044519,-728242,-773921,-840641,-810423,-1034844,-879504,-540545,-518202,-533680,-356448,-268727,-203991,-125725,-65741,-42069,-36182,-27302,-55675,-38579,-24076,-20103,-16325,-7297,-3350,-9686,-3809,-10635,-7670,-8004,-6570,-7644,-8763,-5391,-6061,-5489,-5802,-5838,-2724,-1085,-612,69,-1229,-1190,-432,104,-216,-99],\"yaxis\":\"y\",\"type\":\"scatter\"}],                        {\"template\":{\"data\":{\"histogram2dcontour\":[{\"type\":\"histogram2dcontour\",\"colorbar\":{\"outlinewidth\":0,\"ticks\":\"\"},\"colorscale\":[[0.0,\"#0d0887\"],[0.1111111111111111,\"#46039f\"],[0.2222222222222222,\"#7201a8\"],[0.3333333333333333,\"#9c179e\"],[0.4444444444444444,\"#bd3786\"],[0.5555555555555556,\"#d8576b\"],[0.6666666666666666,\"#ed7953\"],[0.7777777777777778,\"#fb9f3a\"],[0.8888888888888888,\"#fdca26\"],[1.0,\"#f0f921\"]]}],\"choropleth\":[{\"type\":\"choropleth\",\"colorbar\":{\"outlinewidth\":0,\"ticks\":\"\"}}],\"histogram2d\":[{\"type\":\"histogram2d\",\"colorbar\":{\"outlinewidth\":0,\"ticks\":\"\"},\"colorscale\":[[0.0,\"#0d0887\"],[0.1111111111111111,\"#46039f\"],[0.2222222222222222,\"#7201a8\"],[0.3333333333333333,\"#9c179e\"],[0.4444444444444444,\"#bd3786\"],[0.5555555555555556,\"#d8576b\"],[0.6666666666666666,\"#ed7953\"],[0.7777777777777778,\"#fb9f3a\"],[0.8888888888888888,\"#fdca26\"],[1.0,\"#f0f921\"]]}],\"heatmap\":[{\"type\":\"heatmap\",\"colorbar\":{\"outlinewidth\":0,\"ticks\":\"\"},\"colorscale\":[[0.0,\"#0d0887\"],[0.1111111111111111,\"#46039f\"],[0.2222222222222222,\"#7201a8\"],[0.3333333333333333,\"#9c179e\"],[0.4444444444444444,\"#bd3786\"],[0.5555555555555556,\"#d8576b\"],[0.6666666666666666,\"#ed7953\"],[0.7777777777777778,\"#fb9f3a\"],[0.8888888888888888,\"#fdca26\"],[1.0,\"#f0f921\"]]}],\"heatmapgl\":[{\"type\":\"heatmapgl\",\"colorbar\":{\"outlinewidth\":0,\"ticks\":\"\"},\"colorscale\":[[0.0,\"#0d0887\"],[0.1111111111111111,\"#46039f\"],[0.2222222222222222,\"#7201a8\"],[0.3333333333333333,\"#9c179e\"],[0.4444444444444444,\"#bd3786\"],[0.5555555555555556,\"#d8576b\"],[0.6666666666666666,\"#ed7953\"],[0.7777777777777778,\"#fb9f3a\"],[0.8888888888888888,\"#fdca26\"],[1.0,\"#f0f921\"]]}],\"contourcarpet\":[{\"type\":\"contourcarpet\",\"colorbar\":{\"outlinewidth\":0,\"ticks\":\"\"}}],\"contour\":[{\"type\":\"contour\",\"colorbar\":{\"outlinewidth\":0,\"ticks\":\"\"},\"colorscale\":[[0.0,\"#0d0887\"],[0.1111111111111111,\"#46039f\"],[0.2222222222222222,\"#7201a8\"],[0.3333333333333333,\"#9c179e\"],[0.4444444444444444,\"#bd3786\"],[0.5555555555555556,\"#d8576b\"],[0.6666666666666666,\"#ed7953\"],[0.7777777777777778,\"#fb9f3a\"],[0.8888888888888888,\"#fdca26\"],[1.0,\"#f0f921\"]]}],\"surface\":[{\"type\":\"surface\",\"colorbar\":{\"outlinewidth\":0,\"ticks\":\"\"},\"colorscale\":[[0.0,\"#0d0887\"],[0.1111111111111111,\"#46039f\"],[0.2222222222222222,\"#7201a8\"],[0.3333333333333333,\"#9c179e\"],[0.4444444444444444,\"#bd3786\"],[0.5555555555555556,\"#d8576b\"],[0.6666666666666666,\"#ed7953\"],[0.7777777777777778,\"#fb9f3a\"],[0.8888888888888888,\"#fdca26\"],[1.0,\"#f0f921\"]]}],\"mesh3d\":[{\"type\":\"mesh3d\",\"colorbar\":{\"outlinewidth\":0,\"ticks\":\"\"}}],\"scatter\":[{\"fillpattern\":{\"fillmode\":\"overlay\",\"size\":10,\"solidity\":0.2},\"type\":\"scatter\"}],\"parcoords\":[{\"type\":\"parcoords\",\"line\":{\"colorbar\":{\"outlinewidth\":0,\"ticks\":\"\"}}}],\"scatterpolargl\":[{\"type\":\"scatterpolargl\",\"marker\":{\"colorbar\":{\"outlinewidth\":0,\"ticks\":\"\"}}}],\"bar\":[{\"error_x\":{\"color\":\"#2a3f5f\"},\"error_y\":{\"color\":\"#2a3f5f\"},\"marker\":{\"line\":{\"color\":\"#E5ECF6\",\"width\":0.5},\"pattern\":{\"fillmode\":\"overlay\",\"size\":10,\"solidity\":0.2}},\"type\":\"bar\"}],\"scattergeo\":[{\"type\":\"scattergeo\",\"marker\":{\"colorbar\":{\"outlinewidth\":0,\"ticks\":\"\"}}}],\"scatterpolar\":[{\"type\":\"scatterpolar\",\"marker\":{\"colorbar\":{\"outlinewidth\":0,\"ticks\":\"\"}}}],\"histogram\":[{\"marker\":{\"pattern\":{\"fillmode\":\"overlay\",\"size\":10,\"solidity\":0.2}},\"type\":\"histogram\"}],\"scattergl\":[{\"type\":\"scattergl\",\"marker\":{\"colorbar\":{\"outlinewidth\":0,\"ticks\":\"\"}}}],\"scatter3d\":[{\"type\":\"scatter3d\",\"line\":{\"colorbar\":{\"outlinewidth\":0,\"ticks\":\"\"}},\"marker\":{\"colorbar\":{\"outlinewidth\":0,\"ticks\":\"\"}}}],\"scattermapbox\":[{\"type\":\"scattermapbox\",\"marker\":{\"colorbar\":{\"outlinewidth\":0,\"ticks\":\"\"}}}],\"scatterternary\":[{\"type\":\"scatterternary\",\"marker\":{\"colorbar\":{\"outlinewidth\":0,\"ticks\":\"\"}}}],\"scattercarpet\":[{\"type\":\"scattercarpet\",\"marker\":{\"colorbar\":{\"outlinewidth\":0,\"ticks\":\"\"}}}],\"carpet\":[{\"aaxis\":{\"endlinecolor\":\"#2a3f5f\",\"gridcolor\":\"white\",\"linecolor\":\"white\",\"minorgridcolor\":\"white\",\"startlinecolor\":\"#2a3f5f\"},\"baxis\":{\"endlinecolor\":\"#2a3f5f\",\"gridcolor\":\"white\",\"linecolor\":\"white\",\"minorgridcolor\":\"white\",\"startlinecolor\":\"#2a3f5f\"},\"type\":\"carpet\"}],\"table\":[{\"cells\":{\"fill\":{\"color\":\"#EBF0F8\"},\"line\":{\"color\":\"white\"}},\"header\":{\"fill\":{\"color\":\"#C8D4E3\"},\"line\":{\"color\":\"white\"}},\"type\":\"table\"}],\"barpolar\":[{\"marker\":{\"line\":{\"color\":\"#E5ECF6\",\"width\":0.5},\"pattern\":{\"fillmode\":\"overlay\",\"size\":10,\"solidity\":0.2}},\"type\":\"barpolar\"}],\"pie\":[{\"automargin\":true,\"type\":\"pie\"}]},\"layout\":{\"autotypenumbers\":\"strict\",\"colorway\":[\"#636efa\",\"#EF553B\",\"#00cc96\",\"#ab63fa\",\"#FFA15A\",\"#19d3f3\",\"#FF6692\",\"#B6E880\",\"#FF97FF\",\"#FECB52\"],\"font\":{\"color\":\"#2a3f5f\"},\"hovermode\":\"closest\",\"hoverlabel\":{\"align\":\"left\"},\"paper_bgcolor\":\"white\",\"plot_bgcolor\":\"#E5ECF6\",\"polar\":{\"bgcolor\":\"#E5ECF6\",\"angularaxis\":{\"gridcolor\":\"white\",\"linecolor\":\"white\",\"ticks\":\"\"},\"radialaxis\":{\"gridcolor\":\"white\",\"linecolor\":\"white\",\"ticks\":\"\"}},\"ternary\":{\"bgcolor\":\"#E5ECF6\",\"aaxis\":{\"gridcolor\":\"white\",\"linecolor\":\"white\",\"ticks\":\"\"},\"baxis\":{\"gridcolor\":\"white\",\"linecolor\":\"white\",\"ticks\":\"\"},\"caxis\":{\"gridcolor\":\"white\",\"linecolor\":\"white\",\"ticks\":\"\"}},\"coloraxis\":{\"colorbar\":{\"outlinewidth\":0,\"ticks\":\"\"}},\"colorscale\":{\"sequential\":[[0.0,\"#0d0887\"],[0.1111111111111111,\"#46039f\"],[0.2222222222222222,\"#7201a8\"],[0.3333333333333333,\"#9c179e\"],[0.4444444444444444,\"#bd3786\"],[0.5555555555555556,\"#d8576b\"],[0.6666666666666666,\"#ed7953\"],[0.7777777777777778,\"#fb9f3a\"],[0.8888888888888888,\"#fdca26\"],[1.0,\"#f0f921\"]],\"sequentialminus\":[[0.0,\"#0d0887\"],[0.1111111111111111,\"#46039f\"],[0.2222222222222222,\"#7201a8\"],[0.3333333333333333,\"#9c179e\"],[0.4444444444444444,\"#bd3786\"],[0.5555555555555556,\"#d8576b\"],[0.6666666666666666,\"#ed7953\"],[0.7777777777777778,\"#fb9f3a\"],[0.8888888888888888,\"#fdca26\"],[1.0,\"#f0f921\"]],\"diverging\":[[0,\"#8e0152\"],[0.1,\"#c51b7d\"],[0.2,\"#de77ae\"],[0.3,\"#f1b6da\"],[0.4,\"#fde0ef\"],[0.5,\"#f7f7f7\"],[0.6,\"#e6f5d0\"],[0.7,\"#b8e186\"],[0.8,\"#7fbc41\"],[0.9,\"#4d9221\"],[1,\"#276419\"]]},\"xaxis\":{\"gridcolor\":\"white\",\"linecolor\":\"white\",\"ticks\":\"\",\"title\":{\"standoff\":15},\"zerolinecolor\":\"white\",\"automargin\":true,\"zerolinewidth\":2},\"yaxis\":{\"gridcolor\":\"white\",\"linecolor\":\"white\",\"ticks\":\"\",\"title\":{\"standoff\":15},\"zerolinecolor\":\"white\",\"automargin\":true,\"zerolinewidth\":2},\"scene\":{\"xaxis\":{\"backgroundcolor\":\"#E5ECF6\",\"gridcolor\":\"white\",\"linecolor\":\"white\",\"showbackground\":true,\"ticks\":\"\",\"zerolinecolor\":\"white\",\"gridwidth\":2},\"yaxis\":{\"backgroundcolor\":\"#E5ECF6\",\"gridcolor\":\"white\",\"linecolor\":\"white\",\"showbackground\":true,\"ticks\":\"\",\"zerolinecolor\":\"white\",\"gridwidth\":2},\"zaxis\":{\"backgroundcolor\":\"#E5ECF6\",\"gridcolor\":\"white\",\"linecolor\":\"white\",\"showbackground\":true,\"ticks\":\"\",\"zerolinecolor\":\"white\",\"gridwidth\":2}},\"shapedefaults\":{\"line\":{\"color\":\"#2a3f5f\"}},\"annotationdefaults\":{\"arrowcolor\":\"#2a3f5f\",\"arrowhead\":0,\"arrowwidth\":1},\"geo\":{\"bgcolor\":\"white\",\"landcolor\":\"#E5ECF6\",\"subunitcolor\":\"white\",\"showland\":true,\"showlakes\":true,\"lakecolor\":\"white\"},\"title\":{\"x\":0.05},\"mapbox\":{\"style\":\"light\"}}},\"xaxis\":{\"anchor\":\"y\",\"domain\":[0.0,1.0],\"title\":{\"text\":\"Year\"}},\"yaxis\":{\"anchor\":\"x\",\"domain\":[0.0,1.0],\"title\":{\"text\":\"Foreign Trade\"}},\"legend\":{\"title\":{\"text\":\"variable\"},\"tracegroupgap\":0},\"title\":{\"text\":\"INDIA\\u00e2\\u20ac\\u2122S FOREIGN TRADE - RUPEES (Rupees Crore)\"}},                        {\"responsive\": true}                    ).then(function(){\n",
       "                            \n",
       "var gd = document.getElementById('19dae22d-c3a4-419a-b2f0-d8fb3847b774');\n",
       "var x = new MutationObserver(function (mutations, observer) {{\n",
       "        var display = window.getComputedStyle(gd).display;\n",
       "        if (!display || display === 'none') {{\n",
       "            console.log([gd, 'removed!']);\n",
       "            Plotly.purge(gd);\n",
       "            observer.disconnect();\n",
       "        }}\n",
       "}});\n",
       "\n",
       "// Listen for the removal of the full notebook cells\n",
       "var notebookContainer = gd.closest('#notebook-container');\n",
       "if (notebookContainer) {{\n",
       "    x.observe(notebookContainer, {childList: true});\n",
       "}}\n",
       "\n",
       "// Listen for the clearing of the current output cell\n",
       "var outputEl = gd.closest('.output');\n",
       "if (outputEl) {{\n",
       "    x.observe(outputEl, {childList: true});\n",
       "}}\n",
       "\n",
       "                        })                };                });            </script>        </div>"
      ]
     },
     "metadata": {},
     "output_type": "display_data"
    }
   ],
   "source": [
    "fig = px.line(foreign_trade, x='Year', y=['Exports Oil', 'Exports Non-Oil', 'Exports Total',\n",
    "       'Imports Oil', 'Imports Non-Oil', 'Imports Total', 'Trade Balance Oil',\n",
    "       'Trade Balance Non-Oil', 'Trade Balance Total'], title=title)\n",
    "fig.update_layout(xaxis_title='Year', yaxis_title='Foreign Trade')\n",
    "fig.show()"
   ]
  },
  {
   "attachments": {},
   "cell_type": "markdown",
   "metadata": {},
   "source": [
    "# payment_system_yearly"
   ]
  },
  {
   "cell_type": "code",
   "execution_count": 104,
   "metadata": {},
   "outputs": [
    {
     "data": {
      "text/html": [
       "<div>\n",
       "<style scoped>\n",
       "    .dataframe tbody tr th:only-of-type {\n",
       "        vertical-align: middle;\n",
       "    }\n",
       "\n",
       "    .dataframe tbody tr th {\n",
       "        vertical-align: top;\n",
       "    }\n",
       "\n",
       "    .dataframe thead th {\n",
       "        text-align: right;\n",
       "    }\n",
       "</style>\n",
       "<table border=\"1\" class=\"dataframe\">\n",
       "  <thead>\n",
       "    <tr style=\"text-align: right;\">\n",
       "      <th></th>\n",
       "      <th>Year</th>\n",
       "      <th>IMPS Volume</th>\n",
       "      <th>IMPS Value</th>\n",
       "      <th>NACH Cr Volume</th>\n",
       "      <th>NACH Cr Value</th>\n",
       "      <th>NEFT Volume</th>\n",
       "      <th>NEFT Value</th>\n",
       "      <th>UPI Volume</th>\n",
       "      <th>UPI Value</th>\n",
       "      <th>BHIM Aadhaar Pay Volume</th>\n",
       "      <th>BHIM Aadhaar Pay Value</th>\n",
       "      <th>NACH Dr Volume</th>\n",
       "      <th>NACH Dr  Value</th>\n",
       "      <th>Credit Cards  Volume</th>\n",
       "      <th>Credit Cards  Value</th>\n",
       "      <th>Debit Cards Volume</th>\n",
       "      <th>Debit Cards Value</th>\n",
       "    </tr>\n",
       "  </thead>\n",
       "  <tbody>\n",
       "    <tr>\n",
       "      <th>0</th>\n",
       "      <td>2015-16</td>\n",
       "      <td>2208</td>\n",
       "      <td>162226</td>\n",
       "      <td>6234</td>\n",
       "      <td>287751</td>\n",
       "      <td>12529</td>\n",
       "      <td>8327311</td>\n",
       "      <td>-</td>\n",
       "      <td>-</td>\n",
       "      <td>-</td>\n",
       "      <td>-</td>\n",
       "      <td>521</td>\n",
       "      <td>65204</td>\n",
       "      <td>7857</td>\n",
       "      <td>240662</td>\n",
       "      <td>11736</td>\n",
       "      <td>158927</td>\n",
       "    </tr>\n",
       "    <tr>\n",
       "      <th>1</th>\n",
       "      <td>2016-17</td>\n",
       "      <td>5067</td>\n",
       "      <td>411106</td>\n",
       "      <td>7319</td>\n",
       "      <td>387074</td>\n",
       "      <td>16221</td>\n",
       "      <td>12003968</td>\n",
       "      <td>180</td>\n",
       "      <td>6961</td>\n",
       "      <td>-</td>\n",
       "      <td>-</td>\n",
       "      <td>2865</td>\n",
       "      <td>304941</td>\n",
       "      <td>10871</td>\n",
       "      <td>328382</td>\n",
       "      <td>23993</td>\n",
       "      <td>329907</td>\n",
       "    </tr>\n",
       "    <tr>\n",
       "      <th>2</th>\n",
       "      <td>2017-18</td>\n",
       "      <td>10098</td>\n",
       "      <td>892497</td>\n",
       "      <td>7031</td>\n",
       "      <td>521001</td>\n",
       "      <td>19464</td>\n",
       "      <td>17222852</td>\n",
       "      <td>9152</td>\n",
       "      <td>109832</td>\n",
       "      <td>20</td>\n",
       "      <td>78</td>\n",
       "      <td>3738</td>\n",
       "      <td>389781</td>\n",
       "      <td>14052</td>\n",
       "      <td>458965</td>\n",
       "      <td>33434</td>\n",
       "      <td>460070</td>\n",
       "    </tr>\n",
       "    <tr>\n",
       "      <th>3</th>\n",
       "      <td>2018-19</td>\n",
       "      <td>17529</td>\n",
       "      <td>1590257</td>\n",
       "      <td>8834</td>\n",
       "      <td>729673</td>\n",
       "      <td>23189</td>\n",
       "      <td>22793608</td>\n",
       "      <td>53915</td>\n",
       "      <td>876971</td>\n",
       "      <td>68</td>\n",
       "      <td>815</td>\n",
       "      <td>4830</td>\n",
       "      <td>522461</td>\n",
       "      <td>17626</td>\n",
       "      <td>603413</td>\n",
       "      <td>44143</td>\n",
       "      <td>593475</td>\n",
       "    </tr>\n",
       "    <tr>\n",
       "      <th>4</th>\n",
       "      <td>2019-20</td>\n",
       "      <td>25792</td>\n",
       "      <td>2337541</td>\n",
       "      <td>11100</td>\n",
       "      <td>1037079</td>\n",
       "      <td>27445</td>\n",
       "      <td>22945580</td>\n",
       "      <td>125186</td>\n",
       "      <td>2131730</td>\n",
       "      <td>91</td>\n",
       "      <td>1303</td>\n",
       "      <td>5842</td>\n",
       "      <td>604397</td>\n",
       "      <td>21773</td>\n",
       "      <td>730894</td>\n",
       "      <td>50611</td>\n",
       "      <td>703920</td>\n",
       "    </tr>\n",
       "    <tr>\n",
       "      <th>5</th>\n",
       "      <td>2020-21</td>\n",
       "      <td>32783</td>\n",
       "      <td>2941500</td>\n",
       "      <td>16465</td>\n",
       "      <td>1216535</td>\n",
       "      <td>30928</td>\n",
       "      <td>25130910</td>\n",
       "      <td>223307</td>\n",
       "      <td>4103658</td>\n",
       "      <td>161</td>\n",
       "      <td>2580</td>\n",
       "      <td>9646</td>\n",
       "      <td>862027</td>\n",
       "      <td>17641</td>\n",
       "      <td>630414</td>\n",
       "      <td>40146</td>\n",
       "      <td>661385</td>\n",
       "    </tr>\n",
       "    <tr>\n",
       "      <th>6</th>\n",
       "      <td>2021-22</td>\n",
       "      <td>46625</td>\n",
       "      <td>4171037</td>\n",
       "      <td>18758</td>\n",
       "      <td>1281685</td>\n",
       "      <td>40407</td>\n",
       "      <td>28725463</td>\n",
       "      <td>459561</td>\n",
       "      <td>8415900</td>\n",
       "      <td>228</td>\n",
       "      <td>6113</td>\n",
       "      <td>10755</td>\n",
       "      <td>1026641</td>\n",
       "      <td>22399</td>\n",
       "      <td>971638</td>\n",
       "      <td>39384</td>\n",
       "      <td>730213</td>\n",
       "    </tr>\n",
       "  </tbody>\n",
       "</table>\n",
       "</div>"
      ],
      "text/plain": [
       "      Year  IMPS Volume  IMPS Value  NACH Cr Volume  NACH Cr Value  \\\n",
       "0  2015-16         2208      162226            6234         287751   \n",
       "1  2016-17         5067      411106            7319         387074   \n",
       "2  2017-18        10098      892497            7031         521001   \n",
       "3  2018-19        17529     1590257            8834         729673   \n",
       "4  2019-20        25792     2337541           11100        1037079   \n",
       "5  2020-21        32783     2941500           16465        1216535   \n",
       "6  2021-22        46625     4171037           18758        1281685   \n",
       "\n",
       "   NEFT Volume  NEFT Value UPI Volume UPI Value BHIM Aadhaar Pay Volume  \\\n",
       "0        12529     8327311          -         -                       -   \n",
       "1        16221    12003968        180      6961                       -   \n",
       "2        19464    17222852       9152    109832                      20   \n",
       "3        23189    22793608      53915    876971                      68   \n",
       "4        27445    22945580     125186   2131730                      91   \n",
       "5        30928    25130910     223307   4103658                     161   \n",
       "6        40407    28725463     459561   8415900                     228   \n",
       "\n",
       "  BHIM Aadhaar Pay Value  NACH Dr Volume  NACH Dr  Value  \\\n",
       "0                      -             521           65204   \n",
       "1                      -            2865          304941   \n",
       "2                     78            3738          389781   \n",
       "3                    815            4830          522461   \n",
       "4                   1303            5842          604397   \n",
       "5                   2580            9646          862027   \n",
       "6                   6113           10755         1026641   \n",
       "\n",
       "   Credit Cards  Volume  Credit Cards  Value  Debit Cards Volume  \\\n",
       "0                  7857               240662               11736   \n",
       "1                 10871               328382               23993   \n",
       "2                 14052               458965               33434   \n",
       "3                 17626               603413               44143   \n",
       "4                 21773               730894               50611   \n",
       "5                 17641               630414               40146   \n",
       "6                 22399               971638               39384   \n",
       "\n",
       "   Debit Cards Value  \n",
       "0             158927  \n",
       "1             329907  \n",
       "2             460070  \n",
       "3             593475  \n",
       "4             703920  \n",
       "5             661385  \n",
       "6             730213  "
      ]
     },
     "execution_count": 104,
     "metadata": {},
     "output_type": "execute_result"
    }
   ],
   "source": [
    "title = \"Payment System Indicators (Volume in lakh; Value in ` Crore) B. Payment Systems\"\n",
    "payment_system_yearly = pd.read_csv(\"payment_system_yearly.csv\")\n",
    "payment_system_yearly"
   ]
  },
  {
   "cell_type": "code",
   "execution_count": 105,
   "metadata": {},
   "outputs": [],
   "source": [
    "\n",
    "payment_system_yearly.iloc[:, 1:] = payment_system_yearly.iloc[:, 1:].apply(pd.to_numeric, errors = 'coerce')\n",
    "payment_system_yearly['Year'] = pd.to_datetime(payment_system_yearly['Year'].str[:4], format='%Y')\n",
    "payment_system_yearly['Year'] = payment_system_yearly['Year'].dt.year.astype(int)\n"
   ]
  },
  {
   "cell_type": "code",
   "execution_count": 106,
   "metadata": {},
   "outputs": [
    {
     "data": {
      "text/html": [
       "<div>\n",
       "<style scoped>\n",
       "    .dataframe tbody tr th:only-of-type {\n",
       "        vertical-align: middle;\n",
       "    }\n",
       "\n",
       "    .dataframe tbody tr th {\n",
       "        vertical-align: top;\n",
       "    }\n",
       "\n",
       "    .dataframe thead th {\n",
       "        text-align: right;\n",
       "    }\n",
       "</style>\n",
       "<table border=\"1\" class=\"dataframe\">\n",
       "  <thead>\n",
       "    <tr style=\"text-align: right;\">\n",
       "      <th></th>\n",
       "      <th>Year</th>\n",
       "      <th>IMPS Volume</th>\n",
       "      <th>IMPS Value</th>\n",
       "      <th>NACH Cr Volume</th>\n",
       "      <th>NACH Cr Value</th>\n",
       "      <th>NEFT Volume</th>\n",
       "      <th>NEFT Value</th>\n",
       "      <th>UPI Volume</th>\n",
       "      <th>UPI Value</th>\n",
       "      <th>BHIM Aadhaar Pay Volume</th>\n",
       "      <th>BHIM Aadhaar Pay Value</th>\n",
       "      <th>NACH Dr Volume</th>\n",
       "      <th>NACH Dr  Value</th>\n",
       "      <th>Credit Cards  Volume</th>\n",
       "      <th>Credit Cards  Value</th>\n",
       "      <th>Debit Cards Volume</th>\n",
       "      <th>Debit Cards Value</th>\n",
       "    </tr>\n",
       "  </thead>\n",
       "  <tbody>\n",
       "    <tr>\n",
       "      <th>0</th>\n",
       "      <td>2015</td>\n",
       "      <td>2208</td>\n",
       "      <td>162226</td>\n",
       "      <td>6234</td>\n",
       "      <td>287751</td>\n",
       "      <td>12529</td>\n",
       "      <td>8327311</td>\n",
       "      <td>0.0</td>\n",
       "      <td>0.0</td>\n",
       "      <td>0.0</td>\n",
       "      <td>0.0</td>\n",
       "      <td>521</td>\n",
       "      <td>65204</td>\n",
       "      <td>7857</td>\n",
       "      <td>240662</td>\n",
       "      <td>11736</td>\n",
       "      <td>158927</td>\n",
       "    </tr>\n",
       "    <tr>\n",
       "      <th>1</th>\n",
       "      <td>2016</td>\n",
       "      <td>5067</td>\n",
       "      <td>411106</td>\n",
       "      <td>7319</td>\n",
       "      <td>387074</td>\n",
       "      <td>16221</td>\n",
       "      <td>12003968</td>\n",
       "      <td>180.0</td>\n",
       "      <td>6961.0</td>\n",
       "      <td>0.0</td>\n",
       "      <td>0.0</td>\n",
       "      <td>2865</td>\n",
       "      <td>304941</td>\n",
       "      <td>10871</td>\n",
       "      <td>328382</td>\n",
       "      <td>23993</td>\n",
       "      <td>329907</td>\n",
       "    </tr>\n",
       "    <tr>\n",
       "      <th>2</th>\n",
       "      <td>2017</td>\n",
       "      <td>10098</td>\n",
       "      <td>892497</td>\n",
       "      <td>7031</td>\n",
       "      <td>521001</td>\n",
       "      <td>19464</td>\n",
       "      <td>17222852</td>\n",
       "      <td>9152.0</td>\n",
       "      <td>109832.0</td>\n",
       "      <td>20.0</td>\n",
       "      <td>78.0</td>\n",
       "      <td>3738</td>\n",
       "      <td>389781</td>\n",
       "      <td>14052</td>\n",
       "      <td>458965</td>\n",
       "      <td>33434</td>\n",
       "      <td>460070</td>\n",
       "    </tr>\n",
       "    <tr>\n",
       "      <th>3</th>\n",
       "      <td>2018</td>\n",
       "      <td>17529</td>\n",
       "      <td>1590257</td>\n",
       "      <td>8834</td>\n",
       "      <td>729673</td>\n",
       "      <td>23189</td>\n",
       "      <td>22793608</td>\n",
       "      <td>53915.0</td>\n",
       "      <td>876971.0</td>\n",
       "      <td>68.0</td>\n",
       "      <td>815.0</td>\n",
       "      <td>4830</td>\n",
       "      <td>522461</td>\n",
       "      <td>17626</td>\n",
       "      <td>603413</td>\n",
       "      <td>44143</td>\n",
       "      <td>593475</td>\n",
       "    </tr>\n",
       "    <tr>\n",
       "      <th>4</th>\n",
       "      <td>2019</td>\n",
       "      <td>25792</td>\n",
       "      <td>2337541</td>\n",
       "      <td>11100</td>\n",
       "      <td>1037079</td>\n",
       "      <td>27445</td>\n",
       "      <td>22945580</td>\n",
       "      <td>125186.0</td>\n",
       "      <td>2131730.0</td>\n",
       "      <td>91.0</td>\n",
       "      <td>1303.0</td>\n",
       "      <td>5842</td>\n",
       "      <td>604397</td>\n",
       "      <td>21773</td>\n",
       "      <td>730894</td>\n",
       "      <td>50611</td>\n",
       "      <td>703920</td>\n",
       "    </tr>\n",
       "    <tr>\n",
       "      <th>5</th>\n",
       "      <td>2020</td>\n",
       "      <td>32783</td>\n",
       "      <td>2941500</td>\n",
       "      <td>16465</td>\n",
       "      <td>1216535</td>\n",
       "      <td>30928</td>\n",
       "      <td>25130910</td>\n",
       "      <td>223307.0</td>\n",
       "      <td>4103658.0</td>\n",
       "      <td>161.0</td>\n",
       "      <td>2580.0</td>\n",
       "      <td>9646</td>\n",
       "      <td>862027</td>\n",
       "      <td>17641</td>\n",
       "      <td>630414</td>\n",
       "      <td>40146</td>\n",
       "      <td>661385</td>\n",
       "    </tr>\n",
       "    <tr>\n",
       "      <th>6</th>\n",
       "      <td>2021</td>\n",
       "      <td>46625</td>\n",
       "      <td>4171037</td>\n",
       "      <td>18758</td>\n",
       "      <td>1281685</td>\n",
       "      <td>40407</td>\n",
       "      <td>28725463</td>\n",
       "      <td>459561.0</td>\n",
       "      <td>8415900.0</td>\n",
       "      <td>228.0</td>\n",
       "      <td>6113.0</td>\n",
       "      <td>10755</td>\n",
       "      <td>1026641</td>\n",
       "      <td>22399</td>\n",
       "      <td>971638</td>\n",
       "      <td>39384</td>\n",
       "      <td>730213</td>\n",
       "    </tr>\n",
       "  </tbody>\n",
       "</table>\n",
       "</div>"
      ],
      "text/plain": [
       "   Year  IMPS Volume  IMPS Value  NACH Cr Volume  NACH Cr Value  NEFT Volume  \\\n",
       "0  2015         2208      162226            6234         287751        12529   \n",
       "1  2016         5067      411106            7319         387074        16221   \n",
       "2  2017        10098      892497            7031         521001        19464   \n",
       "3  2018        17529     1590257            8834         729673        23189   \n",
       "4  2019        25792     2337541           11100        1037079        27445   \n",
       "5  2020        32783     2941500           16465        1216535        30928   \n",
       "6  2021        46625     4171037           18758        1281685        40407   \n",
       "\n",
       "   NEFT Value  UPI Volume  UPI Value  BHIM Aadhaar Pay Volume  \\\n",
       "0     8327311         0.0        0.0                      0.0   \n",
       "1    12003968       180.0     6961.0                      0.0   \n",
       "2    17222852      9152.0   109832.0                     20.0   \n",
       "3    22793608     53915.0   876971.0                     68.0   \n",
       "4    22945580    125186.0  2131730.0                     91.0   \n",
       "5    25130910    223307.0  4103658.0                    161.0   \n",
       "6    28725463    459561.0  8415900.0                    228.0   \n",
       "\n",
       "   BHIM Aadhaar Pay Value  NACH Dr Volume  NACH Dr  Value  \\\n",
       "0                     0.0             521           65204   \n",
       "1                     0.0            2865          304941   \n",
       "2                    78.0            3738          389781   \n",
       "3                   815.0            4830          522461   \n",
       "4                  1303.0            5842          604397   \n",
       "5                  2580.0            9646          862027   \n",
       "6                  6113.0           10755         1026641   \n",
       "\n",
       "   Credit Cards  Volume  Credit Cards  Value  Debit Cards Volume  \\\n",
       "0                  7857               240662               11736   \n",
       "1                 10871               328382               23993   \n",
       "2                 14052               458965               33434   \n",
       "3                 17626               603413               44143   \n",
       "4                 21773               730894               50611   \n",
       "5                 17641               630414               40146   \n",
       "6                 22399               971638               39384   \n",
       "\n",
       "   Debit Cards Value  \n",
       "0             158927  \n",
       "1             329907  \n",
       "2             460070  \n",
       "3             593475  \n",
       "4             703920  \n",
       "5             661385  \n",
       "6             730213  "
      ]
     },
     "execution_count": 106,
     "metadata": {},
     "output_type": "execute_result"
    }
   ],
   "source": [
    "payment_system_yearly = payment_system_yearly.fillna(0)\n",
    "payment_system_yearly"
   ]
  },
  {
   "cell_type": "code",
   "execution_count": 107,
   "metadata": {},
   "outputs": [
    {
     "data": {
      "text/plain": [
       "Index(['Year', 'IMPS Volume', 'IMPS Value', 'NACH Cr Volume', 'NACH Cr Value',\n",
       "       'NEFT Volume', 'NEFT Value', 'UPI Volume', 'UPI Value',\n",
       "       'BHIM Aadhaar Pay Volume', 'BHIM Aadhaar Pay Value', 'NACH Dr Volume',\n",
       "       'NACH Dr  Value', 'Credit Cards  Volume', 'Credit Cards  Value',\n",
       "       'Debit Cards Volume', 'Debit Cards Value'],\n",
       "      dtype='object')"
      ]
     },
     "execution_count": 107,
     "metadata": {},
     "output_type": "execute_result"
    }
   ],
   "source": [
    "payment_system_yearly.columns"
   ]
  },
  {
   "cell_type": "code",
   "execution_count": null,
   "metadata": {},
   "outputs": [],
   "source": [
    "vol = ['IMPS Volume', 'NACH Cr Volume', 'NEFT Volume', 'UPI Volume', 'BHIM Aadhaar Pay Volume',  'NACH Dr Volume',\n",
    "       'Credit Cards  Volume', 'Debit Cards Volume']"
   ]
  }
 ],
 "metadata": {
  "kernelspec": {
   "display_name": "Python 3",
   "language": "python",
   "name": "python3"
  },
  "language_info": {
   "codemirror_mode": {
    "name": "ipython",
    "version": 3
   },
   "file_extension": ".py",
   "mimetype": "text/x-python",
   "name": "python",
   "nbconvert_exporter": "python",
   "pygments_lexer": "ipython3",
   "version": "3.10.7"
  },
  "orig_nbformat": 4
 },
 "nbformat": 4,
 "nbformat_minor": 2
}
