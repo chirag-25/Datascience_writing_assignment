{
 "cells": [
  {
   "attachments": {},
   "cell_type": "markdown",
   "metadata": {},
   "source": [
    "# History of India (Economic)"
   ]
  },
  {
   "cell_type": "code",
   "execution_count": 18,
   "metadata": {},
   "outputs": [
    {
     "data": {
      "text/html": [
       "        <script type=\"text/javascript\">\n",
       "        window.PlotlyConfig = {MathJaxConfig: 'local'};\n",
       "        if (window.MathJax && window.MathJax.Hub && window.MathJax.Hub.Config) {window.MathJax.Hub.Config({SVG: {font: \"STIX-Web\"}});}\n",
       "        if (typeof require !== 'undefined') {\n",
       "        require.undef(\"plotly\");\n",
       "        requirejs.config({\n",
       "            paths: {\n",
       "                'plotly': ['https://cdn.plot.ly/plotly-2.20.0.min']\n",
       "            }\n",
       "        });\n",
       "        require(['plotly'], function(Plotly) {\n",
       "            window._Plotly = Plotly;\n",
       "        });\n",
       "        }\n",
       "        </script>\n",
       "        "
      ]
     },
     "metadata": {},
     "output_type": "display_data"
    }
   ],
   "source": [
    "# Importing the libraries needed\n",
    "import pandas as pd\n",
    "import numpy as np\n",
    "import matplotlib.pyplot as plt\n",
    "import seaborn as sns\n",
    "from ipywidgets import widgets, interactive\n",
    "import plotly.io as pio\n",
    "import plotly.express as px\n",
    "import warnings\n",
    "import plotly.graph_objs as go\n",
    "from plotly.subplots import make_subplots\n",
    "warnings.filterwarnings('ignore')\n",
    "pio.renderers.default='notebook'\n",
    "from plotly.offline import init_notebook_mode\n",
    "init_notebook_mode(connected=True)"
   ]
  },
  {
   "attachments": {},
   "cell_type": "markdown",
   "metadata": {},
   "source": [
    "### Introduction\n",
    "\n",
    "India celebrated its 75th independence day last year. It is a good time to look back and see how far we have come. In this notebook, we will look at the economic history of India. India has come a long way, from being a highly oppressed colony, India has overcome many challenges and is now one of the fastest growing economies in the world. In our families, almost all of us can realise how much the ecnomonic situation has changed over the generations. However, there is still a lot which has to be done. Being one of the most populous countries in the world, India has a lot of potential. It is really important for us to make correct the right policy choices inorder to ensure sustainable economic growth. Inorder to take the correct decisions we believe it is important to analyse the past and present, see the economic trends and learn from it.\n"
   ]
  },
  {
   "cell_type": "code",
   "execution_count": 19,
   "metadata": {},
   "outputs": [
    {
     "data": {
      "application/vnd.plotly.v1+json": {
       "config": {
        "plotlyServerURL": "https://plot.ly"
       },
       "data": [
        {
         "hovertemplate": "variable=Net taxes on Products<br>Financial Year=%{x}<br>value=%{y}<extra></extra>",
         "legendgroup": "Net taxes on Products",
         "line": {
          "color": "#636efa",
          "dash": "solid"
         },
         "marker": {
          "symbol": "circle"
         },
         "mode": "lines",
         "name": "Net taxes on Products",
         "orientation": "v",
         "showlegend": true,
         "type": "scatter",
         "x": [
          "1950-01-01",
          "1951-01-01",
          "1952-01-01",
          "1953-01-01",
          "1954-01-01",
          "1955-01-01",
          "1956-01-01",
          "1957-01-01",
          "1958-01-01",
          "1959-01-01",
          "1960-01-01",
          "1961-01-01",
          "1962-01-01",
          "1963-01-01",
          "1964-01-01",
          "1965-01-01",
          "1966-01-01",
          "1967-01-01",
          "1968-01-01",
          "1969-01-01",
          "1970-01-01",
          "1971-01-01",
          "1972-01-01",
          "1973-01-01",
          "1974-01-01",
          "1975-01-01",
          "1976-01-01",
          "1977-01-01",
          "1978-01-01",
          "1979-01-01",
          "1980-01-01",
          "1981-01-01",
          "1982-01-01",
          "1983-01-01",
          "1984-01-01",
          "1985-01-01",
          "1986-01-01",
          "1987-01-01",
          "1988-01-01",
          "1989-01-01",
          "1990-01-01",
          "1991-01-01",
          "1992-01-01",
          "1993-01-01",
          "1994-01-01",
          "1995-01-01",
          "1996-01-01",
          "1997-01-01",
          "1998-01-01",
          "1999-01-01",
          "2000-01-01",
          "2001-01-01",
          "2002-01-01",
          "2003-01-01",
          "2004-01-01",
          "2005-01-01",
          "2006-01-01",
          "2007-01-01",
          "2008-01-01",
          "2009-01-01",
          "2010-01-01",
          "2011-01-01",
          "2012-01-01",
          "2013-01-01",
          "2014-01-01",
          "2015-01-01",
          "2016-01-01",
          "2017-01-01",
          "2018-01-01",
          "2019-01-01",
          "2020-01-01",
          "2021-01-01"
         ],
         "xaxis": "x",
         "y": [
          17638,
          21091,
          20604,
          22193,
          26287,
          30902,
          31974,
          36667,
          38189,
          41996,
          33906,
          39525,
          46597,
          56286,
          59462,
          66423,
          57735,
          59713,
          68590,
          73285,
          78449,
          86138,
          83265,
          73228,
          74357,
          82726,
          88950,
          92847,
          100832,
          95056,
          95913,
          106883,
          118567,
          118805,
          121090,
          145678,
          160660,
          174842,
          181689,
          188646,
          204534,
          198064,
          211700,
          198785,
          218913,
          243441,
          249160,
          251152,
          249949,
          302169,
          301905,
          293861,
          301910,
          320965,
          387877,
          400386,
          433008,
          482712,
          419188,
          519242,
          596721,
          629383,
          666741,
          737721,
          815541,
          877623,
          979909,
          1110412,
          1259116,
          1296482,
          973400,
          null
         ],
         "yaxis": "y"
        },
        {
         "hovertemplate": "variable=Gross Domestic Product<br>Financial Year=%{x}<br>value=%{y}<extra></extra>",
         "legendgroup": "Gross Domestic Product",
         "line": {
          "color": "#EF553B",
          "dash": "solid"
         },
         "marker": {
          "symbol": "circle"
         },
         "mode": "lines",
         "name": "Gross Domestic Product",
         "orientation": "v",
         "showlegend": true,
         "type": "scatter",
         "x": [
          "1950-01-01",
          "1951-01-01",
          "1952-01-01",
          "1953-01-01",
          "1954-01-01",
          "1955-01-01",
          "1956-01-01",
          "1957-01-01",
          "1958-01-01",
          "1959-01-01",
          "1960-01-01",
          "1961-01-01",
          "1962-01-01",
          "1963-01-01",
          "1964-01-01",
          "1965-01-01",
          "1966-01-01",
          "1967-01-01",
          "1968-01-01",
          "1969-01-01",
          "1970-01-01",
          "1971-01-01",
          "1972-01-01",
          "1973-01-01",
          "1974-01-01",
          "1975-01-01",
          "1976-01-01",
          "1977-01-01",
          "1978-01-01",
          "1979-01-01",
          "1980-01-01",
          "1981-01-01",
          "1982-01-01",
          "1983-01-01",
          "1984-01-01",
          "1985-01-01",
          "1986-01-01",
          "1987-01-01",
          "1988-01-01",
          "1989-01-01",
          "1990-01-01",
          "1991-01-01",
          "1992-01-01",
          "1993-01-01",
          "1994-01-01",
          "1995-01-01",
          "1996-01-01",
          "1997-01-01",
          "1998-01-01",
          "1999-01-01",
          "2000-01-01",
          "2001-01-01",
          "2002-01-01",
          "2003-01-01",
          "2004-01-01",
          "2005-01-01",
          "2006-01-01",
          "2007-01-01",
          "2008-01-01",
          "2009-01-01",
          "2010-01-01",
          "2011-01-01",
          "2012-01-01",
          "2013-01-01",
          "2014-01-01",
          "2015-01-01",
          "2016-01-01",
          "2017-01-01",
          "2018-01-01",
          "2019-01-01",
          "2020-01-01",
          "2021-01-01"
         ],
         "xaxis": "x",
         "y": [
          496848,
          511489,
          524919,
          557203,
          584011,
          602911,
          636544,
          633927,
          680776,
          698644,
          737044,
          764482,
          786890,
          834059,
          896221,
          872598,
          872116,
          940367,
          972226,
          1035807,
          1089226,
          1107121,
          1100995,
          1137279,
          1150759,
          1256053,
          1276942,
          1369581,
          1447819,
          1371980,
          1464394,
          1552348,
          1606304,
          1723386,
          1789232,
          1883243,
          1973197,
          2051442,
          2248950,
          2382703,
          2514549,
          2541123,
          2680438,
          2807779,
          2994747,
          3221584,
          3464798,
          3605116,
          3828072,
          4166694,
          4326736,
          4535456,
          4707984,
          5078049,
          5480380,
          5914614,
          6391375,
          6881007,
          7093403,
          7651078,
          8301235,
          8736329,
          9213017,
          9801370,
          10527674,
          11369493,
          12308193,
          13144582,
          13992914,
          14515958,
          13558473,
          14925840
         ],
         "yaxis": "y"
        },
        {
         "hovertemplate": "variable=Gross National Income<br>Financial Year=%{x}<br>value=%{y}<extra></extra>",
         "legendgroup": "Gross National Income",
         "line": {
          "color": "#00cc96",
          "dash": "solid"
         },
         "marker": {
          "symbol": "circle"
         },
         "mode": "lines",
         "name": "Gross National Income",
         "orientation": "v",
         "showlegend": true,
         "type": "scatter",
         "x": [
          "1950-01-01",
          "1951-01-01",
          "1952-01-01",
          "1953-01-01",
          "1954-01-01",
          "1955-01-01",
          "1956-01-01",
          "1957-01-01",
          "1958-01-01",
          "1959-01-01",
          "1960-01-01",
          "1961-01-01",
          "1962-01-01",
          "1963-01-01",
          "1964-01-01",
          "1965-01-01",
          "1966-01-01",
          "1967-01-01",
          "1968-01-01",
          "1969-01-01",
          "1970-01-01",
          "1971-01-01",
          "1972-01-01",
          "1973-01-01",
          "1974-01-01",
          "1975-01-01",
          "1976-01-01",
          "1977-01-01",
          "1978-01-01",
          "1979-01-01",
          "1980-01-01",
          "1981-01-01",
          "1982-01-01",
          "1983-01-01",
          "1984-01-01",
          "1985-01-01",
          "1986-01-01",
          "1987-01-01",
          "1988-01-01",
          "1989-01-01",
          "1990-01-01",
          "1991-01-01",
          "1992-01-01",
          "1993-01-01",
          "1994-01-01",
          "1995-01-01",
          "1996-01-01",
          "1997-01-01",
          "1998-01-01",
          "1999-01-01",
          "2000-01-01",
          "2001-01-01",
          "2002-01-01",
          "2003-01-01",
          "2004-01-01",
          "2005-01-01",
          "2006-01-01",
          "2007-01-01",
          "2008-01-01",
          "2009-01-01",
          "2010-01-01",
          "2011-01-01",
          "2012-01-01",
          "2013-01-01",
          "2014-01-01",
          "2015-01-01",
          "2016-01-01",
          "2017-01-01",
          "2018-01-01",
          "2019-01-01",
          "2020-01-01",
          "2021-01-01"
         ],
         "xaxis": "x",
         "y": [
          495274,
          510505,
          524122,
          556545,
          583005,
          602537,
          635962,
          633039,
          679555,
          696488,
          734466,
          761038,
          782931,
          830072,
          891111,
          867165,
          866818,
          933850,
          966014,
          1029151,
          1082340,
          1100363,
          1094795,
          1131633,
          1146339,
          1252240,
          1273436,
          1366655,
          1445029,
          1371460,
          1464390,
          1550504,
          1599940,
          1716327,
          1779406,
          1873425,
          1962251,
          2036744,
          2227956,
          2360178,
          2486353,
          2511622,
          2650632,
          2780663,
          2967254,
          3192013,
          3436436,
          3581984,
          3803495,
          4139292,
          4286910,
          4499695,
          4676257,
          5043422,
          5442938,
          5872936,
          6342389,
          6852740,
          7052191,
          7606319,
          8211816,
          8659505,
          9104662,
          9679027,
          10402987,
          11234571,
          12163619,
          12998695,
          13840474,
          14374253,
          13368279,
          14619532
         ],
         "yaxis": "y"
        },
        {
         "hovertemplate": "variable=Net National Income<br>Financial Year=%{x}<br>value=%{y}<extra></extra>",
         "legendgroup": "Net National Income",
         "line": {
          "color": "#ab63fa",
          "dash": "solid"
         },
         "marker": {
          "symbol": "circle"
         },
         "mode": "lines",
         "name": "Net National Income",
         "orientation": "v",
         "showlegend": true,
         "type": "scatter",
         "x": [
          "1950-01-01",
          "1951-01-01",
          "1952-01-01",
          "1953-01-01",
          "1954-01-01",
          "1955-01-01",
          "1956-01-01",
          "1957-01-01",
          "1958-01-01",
          "1959-01-01",
          "1960-01-01",
          "1961-01-01",
          "1962-01-01",
          "1963-01-01",
          "1964-01-01",
          "1965-01-01",
          "1966-01-01",
          "1967-01-01",
          "1968-01-01",
          "1969-01-01",
          "1970-01-01",
          "1971-01-01",
          "1972-01-01",
          "1973-01-01",
          "1974-01-01",
          "1975-01-01",
          "1976-01-01",
          "1977-01-01",
          "1978-01-01",
          "1979-01-01",
          "1980-01-01",
          "1981-01-01",
          "1982-01-01",
          "1983-01-01",
          "1984-01-01",
          "1985-01-01",
          "1986-01-01",
          "1987-01-01",
          "1988-01-01",
          "1989-01-01",
          "1990-01-01",
          "1991-01-01",
          "1992-01-01",
          "1993-01-01",
          "1994-01-01",
          "1995-01-01",
          "1996-01-01",
          "1997-01-01",
          "1998-01-01",
          "1999-01-01",
          "2000-01-01",
          "2001-01-01",
          "2002-01-01",
          "2003-01-01",
          "2004-01-01",
          "2005-01-01",
          "2006-01-01",
          "2007-01-01",
          "2008-01-01",
          "2009-01-01",
          "2010-01-01",
          "2011-01-01",
          "2012-01-01",
          "2013-01-01",
          "2014-01-01",
          "2015-01-01",
          "2016-01-01",
          "2017-01-01",
          "2018-01-01",
          "2019-01-01",
          "2020-01-01",
          "2021-01-01"
         ],
         "xaxis": "x",
         "y": [
          448483,
          465486,
          480731,
          514489,
          548393,
          567499,
          599736,
          595941,
          640433,
          656423,
          694569,
          719592,
          739509,
          784625,
          842755,
          816540,
          812952,
          876628,
          905884,
          965200,
          1011757,
          1026822,
          1018453,
          1052122,
          1062259,
          1164066,
          1179925,
          1269352,
          1343841,
          1265522,
          1352931,
          1433659,
          1476733,
          1587882,
          1642628,
          1728209,
          1808778,
          1872727,
          2055937,
          2178379,
          2292078,
          2303954,
          2431154,
          2551800,
          2723964,
          2934298,
          3163037,
          3287915,
          3489318,
          3800560,
          3924698,
          4112858,
          4268230,
          4609081,
          4967090,
          5351624,
          5770565,
          6219065,
          6358644,
          6837719,
          7373384,
          7742330,
          8094001,
          8578417,
          9224343,
          9963681,
          10782092,
          11508774,
          12226019,
          12641633,
          11536004,
          12670834
         ],
         "yaxis": "y"
        }
       ],
       "layout": {
        "legend": {
         "title": {
          "text": "variable"
         },
         "tracegroupgap": 0
        },
        "template": {
         "data": {
          "bar": [
           {
            "error_x": {
             "color": "#2a3f5f"
            },
            "error_y": {
             "color": "#2a3f5f"
            },
            "marker": {
             "line": {
              "color": "#E5ECF6",
              "width": 0.5
             },
             "pattern": {
              "fillmode": "overlay",
              "size": 10,
              "solidity": 0.2
             }
            },
            "type": "bar"
           }
          ],
          "barpolar": [
           {
            "marker": {
             "line": {
              "color": "#E5ECF6",
              "width": 0.5
             },
             "pattern": {
              "fillmode": "overlay",
              "size": 10,
              "solidity": 0.2
             }
            },
            "type": "barpolar"
           }
          ],
          "carpet": [
           {
            "aaxis": {
             "endlinecolor": "#2a3f5f",
             "gridcolor": "white",
             "linecolor": "white",
             "minorgridcolor": "white",
             "startlinecolor": "#2a3f5f"
            },
            "baxis": {
             "endlinecolor": "#2a3f5f",
             "gridcolor": "white",
             "linecolor": "white",
             "minorgridcolor": "white",
             "startlinecolor": "#2a3f5f"
            },
            "type": "carpet"
           }
          ],
          "choropleth": [
           {
            "colorbar": {
             "outlinewidth": 0,
             "ticks": ""
            },
            "type": "choropleth"
           }
          ],
          "contour": [
           {
            "colorbar": {
             "outlinewidth": 0,
             "ticks": ""
            },
            "colorscale": [
             [
              0,
              "#0d0887"
             ],
             [
              0.1111111111111111,
              "#46039f"
             ],
             [
              0.2222222222222222,
              "#7201a8"
             ],
             [
              0.3333333333333333,
              "#9c179e"
             ],
             [
              0.4444444444444444,
              "#bd3786"
             ],
             [
              0.5555555555555556,
              "#d8576b"
             ],
             [
              0.6666666666666666,
              "#ed7953"
             ],
             [
              0.7777777777777778,
              "#fb9f3a"
             ],
             [
              0.8888888888888888,
              "#fdca26"
             ],
             [
              1,
              "#f0f921"
             ]
            ],
            "type": "contour"
           }
          ],
          "contourcarpet": [
           {
            "colorbar": {
             "outlinewidth": 0,
             "ticks": ""
            },
            "type": "contourcarpet"
           }
          ],
          "heatmap": [
           {
            "colorbar": {
             "outlinewidth": 0,
             "ticks": ""
            },
            "colorscale": [
             [
              0,
              "#0d0887"
             ],
             [
              0.1111111111111111,
              "#46039f"
             ],
             [
              0.2222222222222222,
              "#7201a8"
             ],
             [
              0.3333333333333333,
              "#9c179e"
             ],
             [
              0.4444444444444444,
              "#bd3786"
             ],
             [
              0.5555555555555556,
              "#d8576b"
             ],
             [
              0.6666666666666666,
              "#ed7953"
             ],
             [
              0.7777777777777778,
              "#fb9f3a"
             ],
             [
              0.8888888888888888,
              "#fdca26"
             ],
             [
              1,
              "#f0f921"
             ]
            ],
            "type": "heatmap"
           }
          ],
          "heatmapgl": [
           {
            "colorbar": {
             "outlinewidth": 0,
             "ticks": ""
            },
            "colorscale": [
             [
              0,
              "#0d0887"
             ],
             [
              0.1111111111111111,
              "#46039f"
             ],
             [
              0.2222222222222222,
              "#7201a8"
             ],
             [
              0.3333333333333333,
              "#9c179e"
             ],
             [
              0.4444444444444444,
              "#bd3786"
             ],
             [
              0.5555555555555556,
              "#d8576b"
             ],
             [
              0.6666666666666666,
              "#ed7953"
             ],
             [
              0.7777777777777778,
              "#fb9f3a"
             ],
             [
              0.8888888888888888,
              "#fdca26"
             ],
             [
              1,
              "#f0f921"
             ]
            ],
            "type": "heatmapgl"
           }
          ],
          "histogram": [
           {
            "marker": {
             "pattern": {
              "fillmode": "overlay",
              "size": 10,
              "solidity": 0.2
             }
            },
            "type": "histogram"
           }
          ],
          "histogram2d": [
           {
            "colorbar": {
             "outlinewidth": 0,
             "ticks": ""
            },
            "colorscale": [
             [
              0,
              "#0d0887"
             ],
             [
              0.1111111111111111,
              "#46039f"
             ],
             [
              0.2222222222222222,
              "#7201a8"
             ],
             [
              0.3333333333333333,
              "#9c179e"
             ],
             [
              0.4444444444444444,
              "#bd3786"
             ],
             [
              0.5555555555555556,
              "#d8576b"
             ],
             [
              0.6666666666666666,
              "#ed7953"
             ],
             [
              0.7777777777777778,
              "#fb9f3a"
             ],
             [
              0.8888888888888888,
              "#fdca26"
             ],
             [
              1,
              "#f0f921"
             ]
            ],
            "type": "histogram2d"
           }
          ],
          "histogram2dcontour": [
           {
            "colorbar": {
             "outlinewidth": 0,
             "ticks": ""
            },
            "colorscale": [
             [
              0,
              "#0d0887"
             ],
             [
              0.1111111111111111,
              "#46039f"
             ],
             [
              0.2222222222222222,
              "#7201a8"
             ],
             [
              0.3333333333333333,
              "#9c179e"
             ],
             [
              0.4444444444444444,
              "#bd3786"
             ],
             [
              0.5555555555555556,
              "#d8576b"
             ],
             [
              0.6666666666666666,
              "#ed7953"
             ],
             [
              0.7777777777777778,
              "#fb9f3a"
             ],
             [
              0.8888888888888888,
              "#fdca26"
             ],
             [
              1,
              "#f0f921"
             ]
            ],
            "type": "histogram2dcontour"
           }
          ],
          "mesh3d": [
           {
            "colorbar": {
             "outlinewidth": 0,
             "ticks": ""
            },
            "type": "mesh3d"
           }
          ],
          "parcoords": [
           {
            "line": {
             "colorbar": {
              "outlinewidth": 0,
              "ticks": ""
             }
            },
            "type": "parcoords"
           }
          ],
          "pie": [
           {
            "automargin": true,
            "type": "pie"
           }
          ],
          "scatter": [
           {
            "fillpattern": {
             "fillmode": "overlay",
             "size": 10,
             "solidity": 0.2
            },
            "type": "scatter"
           }
          ],
          "scatter3d": [
           {
            "line": {
             "colorbar": {
              "outlinewidth": 0,
              "ticks": ""
             }
            },
            "marker": {
             "colorbar": {
              "outlinewidth": 0,
              "ticks": ""
             }
            },
            "type": "scatter3d"
           }
          ],
          "scattercarpet": [
           {
            "marker": {
             "colorbar": {
              "outlinewidth": 0,
              "ticks": ""
             }
            },
            "type": "scattercarpet"
           }
          ],
          "scattergeo": [
           {
            "marker": {
             "colorbar": {
              "outlinewidth": 0,
              "ticks": ""
             }
            },
            "type": "scattergeo"
           }
          ],
          "scattergl": [
           {
            "marker": {
             "colorbar": {
              "outlinewidth": 0,
              "ticks": ""
             }
            },
            "type": "scattergl"
           }
          ],
          "scattermapbox": [
           {
            "marker": {
             "colorbar": {
              "outlinewidth": 0,
              "ticks": ""
             }
            },
            "type": "scattermapbox"
           }
          ],
          "scatterpolar": [
           {
            "marker": {
             "colorbar": {
              "outlinewidth": 0,
              "ticks": ""
             }
            },
            "type": "scatterpolar"
           }
          ],
          "scatterpolargl": [
           {
            "marker": {
             "colorbar": {
              "outlinewidth": 0,
              "ticks": ""
             }
            },
            "type": "scatterpolargl"
           }
          ],
          "scatterternary": [
           {
            "marker": {
             "colorbar": {
              "outlinewidth": 0,
              "ticks": ""
             }
            },
            "type": "scatterternary"
           }
          ],
          "surface": [
           {
            "colorbar": {
             "outlinewidth": 0,
             "ticks": ""
            },
            "colorscale": [
             [
              0,
              "#0d0887"
             ],
             [
              0.1111111111111111,
              "#46039f"
             ],
             [
              0.2222222222222222,
              "#7201a8"
             ],
             [
              0.3333333333333333,
              "#9c179e"
             ],
             [
              0.4444444444444444,
              "#bd3786"
             ],
             [
              0.5555555555555556,
              "#d8576b"
             ],
             [
              0.6666666666666666,
              "#ed7953"
             ],
             [
              0.7777777777777778,
              "#fb9f3a"
             ],
             [
              0.8888888888888888,
              "#fdca26"
             ],
             [
              1,
              "#f0f921"
             ]
            ],
            "type": "surface"
           }
          ],
          "table": [
           {
            "cells": {
             "fill": {
              "color": "#EBF0F8"
             },
             "line": {
              "color": "white"
             }
            },
            "header": {
             "fill": {
              "color": "#C8D4E3"
             },
             "line": {
              "color": "white"
             }
            },
            "type": "table"
           }
          ]
         },
         "layout": {
          "annotationdefaults": {
           "arrowcolor": "#2a3f5f",
           "arrowhead": 0,
           "arrowwidth": 1
          },
          "autotypenumbers": "strict",
          "coloraxis": {
           "colorbar": {
            "outlinewidth": 0,
            "ticks": ""
           }
          },
          "colorscale": {
           "diverging": [
            [
             0,
             "#8e0152"
            ],
            [
             0.1,
             "#c51b7d"
            ],
            [
             0.2,
             "#de77ae"
            ],
            [
             0.3,
             "#f1b6da"
            ],
            [
             0.4,
             "#fde0ef"
            ],
            [
             0.5,
             "#f7f7f7"
            ],
            [
             0.6,
             "#e6f5d0"
            ],
            [
             0.7,
             "#b8e186"
            ],
            [
             0.8,
             "#7fbc41"
            ],
            [
             0.9,
             "#4d9221"
            ],
            [
             1,
             "#276419"
            ]
           ],
           "sequential": [
            [
             0,
             "#0d0887"
            ],
            [
             0.1111111111111111,
             "#46039f"
            ],
            [
             0.2222222222222222,
             "#7201a8"
            ],
            [
             0.3333333333333333,
             "#9c179e"
            ],
            [
             0.4444444444444444,
             "#bd3786"
            ],
            [
             0.5555555555555556,
             "#d8576b"
            ],
            [
             0.6666666666666666,
             "#ed7953"
            ],
            [
             0.7777777777777778,
             "#fb9f3a"
            ],
            [
             0.8888888888888888,
             "#fdca26"
            ],
            [
             1,
             "#f0f921"
            ]
           ],
           "sequentialminus": [
            [
             0,
             "#0d0887"
            ],
            [
             0.1111111111111111,
             "#46039f"
            ],
            [
             0.2222222222222222,
             "#7201a8"
            ],
            [
             0.3333333333333333,
             "#9c179e"
            ],
            [
             0.4444444444444444,
             "#bd3786"
            ],
            [
             0.5555555555555556,
             "#d8576b"
            ],
            [
             0.6666666666666666,
             "#ed7953"
            ],
            [
             0.7777777777777778,
             "#fb9f3a"
            ],
            [
             0.8888888888888888,
             "#fdca26"
            ],
            [
             1,
             "#f0f921"
            ]
           ]
          },
          "colorway": [
           "#636efa",
           "#EF553B",
           "#00cc96",
           "#ab63fa",
           "#FFA15A",
           "#19d3f3",
           "#FF6692",
           "#B6E880",
           "#FF97FF",
           "#FECB52"
          ],
          "font": {
           "color": "#2a3f5f"
          },
          "geo": {
           "bgcolor": "white",
           "lakecolor": "white",
           "landcolor": "#E5ECF6",
           "showlakes": true,
           "showland": true,
           "subunitcolor": "white"
          },
          "hoverlabel": {
           "align": "left"
          },
          "hovermode": "closest",
          "mapbox": {
           "style": "light"
          },
          "paper_bgcolor": "white",
          "plot_bgcolor": "#E5ECF6",
          "polar": {
           "angularaxis": {
            "gridcolor": "white",
            "linecolor": "white",
            "ticks": ""
           },
           "bgcolor": "#E5ECF6",
           "radialaxis": {
            "gridcolor": "white",
            "linecolor": "white",
            "ticks": ""
           }
          },
          "scene": {
           "xaxis": {
            "backgroundcolor": "#E5ECF6",
            "gridcolor": "white",
            "gridwidth": 2,
            "linecolor": "white",
            "showbackground": true,
            "ticks": "",
            "zerolinecolor": "white"
           },
           "yaxis": {
            "backgroundcolor": "#E5ECF6",
            "gridcolor": "white",
            "gridwidth": 2,
            "linecolor": "white",
            "showbackground": true,
            "ticks": "",
            "zerolinecolor": "white"
           },
           "zaxis": {
            "backgroundcolor": "#E5ECF6",
            "gridcolor": "white",
            "gridwidth": 2,
            "linecolor": "white",
            "showbackground": true,
            "ticks": "",
            "zerolinecolor": "white"
           }
          },
          "shapedefaults": {
           "line": {
            "color": "#2a3f5f"
           }
          },
          "ternary": {
           "aaxis": {
            "gridcolor": "white",
            "linecolor": "white",
            "ticks": ""
           },
           "baxis": {
            "gridcolor": "white",
            "linecolor": "white",
            "ticks": ""
           },
           "bgcolor": "#E5ECF6",
           "caxis": {
            "gridcolor": "white",
            "linecolor": "white",
            "ticks": ""
           }
          },
          "title": {
           "x": 0.05
          },
          "xaxis": {
           "automargin": true,
           "gridcolor": "white",
           "linecolor": "white",
           "ticks": "",
           "title": {
            "standoff": 15
           },
           "zerolinecolor": "white",
           "zerolinewidth": 2
          },
          "yaxis": {
           "automargin": true,
           "gridcolor": "white",
           "linecolor": "white",
           "ticks": "",
           "title": {
            "standoff": 15
           },
           "zerolinecolor": "white",
           "zerolinewidth": 2
          }
         }
        },
        "title": {
         "text": "Macroeconomic Aggregates(At Constant Prices Base Year 2011-12)"
        },
        "xaxis": {
         "anchor": "y",
         "domain": [
          0,
          1
         ],
         "title": {
          "text": "Financial Year"
         }
        },
        "yaxis": {
         "anchor": "x",
         "domain": [
          0,
          1
         ],
         "title": {
          "text": "value"
         }
        }
       }
      },
      "text/html": [
       "<div>                            <div id=\"bd94d0fd-f5c4-40a3-91ea-5722580c9d34\" class=\"plotly-graph-div\" style=\"height:525px; width:100%;\"></div>            <script type=\"text/javascript\">                require([\"plotly\"], function(Plotly) {                    window.PLOTLYENV=window.PLOTLYENV || {};                                    if (document.getElementById(\"bd94d0fd-f5c4-40a3-91ea-5722580c9d34\")) {                    Plotly.newPlot(                        \"bd94d0fd-f5c4-40a3-91ea-5722580c9d34\",                        [{\"hovertemplate\":\"variable=Net taxes on Products<br>Financial Year=%{x}<br>value=%{y}<extra></extra>\",\"legendgroup\":\"Net taxes on Products\",\"line\":{\"color\":\"#636efa\",\"dash\":\"solid\"},\"marker\":{\"symbol\":\"circle\"},\"mode\":\"lines\",\"name\":\"Net taxes on Products\",\"orientation\":\"v\",\"showlegend\":true,\"x\":[\"1950-01-01\",\"1951-01-01\",\"1952-01-01\",\"1953-01-01\",\"1954-01-01\",\"1955-01-01\",\"1956-01-01\",\"1957-01-01\",\"1958-01-01\",\"1959-01-01\",\"1960-01-01\",\"1961-01-01\",\"1962-01-01\",\"1963-01-01\",\"1964-01-01\",\"1965-01-01\",\"1966-01-01\",\"1967-01-01\",\"1968-01-01\",\"1969-01-01\",\"1970-01-01\",\"1971-01-01\",\"1972-01-01\",\"1973-01-01\",\"1974-01-01\",\"1975-01-01\",\"1976-01-01\",\"1977-01-01\",\"1978-01-01\",\"1979-01-01\",\"1980-01-01\",\"1981-01-01\",\"1982-01-01\",\"1983-01-01\",\"1984-01-01\",\"1985-01-01\",\"1986-01-01\",\"1987-01-01\",\"1988-01-01\",\"1989-01-01\",\"1990-01-01\",\"1991-01-01\",\"1992-01-01\",\"1993-01-01\",\"1994-01-01\",\"1995-01-01\",\"1996-01-01\",\"1997-01-01\",\"1998-01-01\",\"1999-01-01\",\"2000-01-01\",\"2001-01-01\",\"2002-01-01\",\"2003-01-01\",\"2004-01-01\",\"2005-01-01\",\"2006-01-01\",\"2007-01-01\",\"2008-01-01\",\"2009-01-01\",\"2010-01-01\",\"2011-01-01\",\"2012-01-01\",\"2013-01-01\",\"2014-01-01\",\"2015-01-01\",\"2016-01-01\",\"2017-01-01\",\"2018-01-01\",\"2019-01-01\",\"2020-01-01\",\"2021-01-01\"],\"xaxis\":\"x\",\"y\":[17638.0,21091.0,20604.0,22193.0,26287.0,30902.0,31974.0,36667.0,38189.0,41996.0,33906.0,39525.0,46597.0,56286.0,59462.0,66423.0,57735.0,59713.0,68590.0,73285.0,78449.0,86138.0,83265.0,73228.0,74357.0,82726.0,88950.0,92847.0,100832.0,95056.0,95913.0,106883.0,118567.0,118805.0,121090.0,145678.0,160660.0,174842.0,181689.0,188646.0,204534.0,198064.0,211700.0,198785.0,218913.0,243441.0,249160.0,251152.0,249949.0,302169.0,301905.0,293861.0,301910.0,320965.0,387877.0,400386.0,433008.0,482712.0,419188.0,519242.0,596721.0,629383.0,666741.0,737721.0,815541.0,877623.0,979909.0,1110412.0,1259116.0,1296482.0,973400.0,null],\"yaxis\":\"y\",\"type\":\"scatter\"},{\"hovertemplate\":\"variable=Gross Domestic Product<br>Financial Year=%{x}<br>value=%{y}<extra></extra>\",\"legendgroup\":\"Gross Domestic Product\",\"line\":{\"color\":\"#EF553B\",\"dash\":\"solid\"},\"marker\":{\"symbol\":\"circle\"},\"mode\":\"lines\",\"name\":\"Gross Domestic Product\",\"orientation\":\"v\",\"showlegend\":true,\"x\":[\"1950-01-01\",\"1951-01-01\",\"1952-01-01\",\"1953-01-01\",\"1954-01-01\",\"1955-01-01\",\"1956-01-01\",\"1957-01-01\",\"1958-01-01\",\"1959-01-01\",\"1960-01-01\",\"1961-01-01\",\"1962-01-01\",\"1963-01-01\",\"1964-01-01\",\"1965-01-01\",\"1966-01-01\",\"1967-01-01\",\"1968-01-01\",\"1969-01-01\",\"1970-01-01\",\"1971-01-01\",\"1972-01-01\",\"1973-01-01\",\"1974-01-01\",\"1975-01-01\",\"1976-01-01\",\"1977-01-01\",\"1978-01-01\",\"1979-01-01\",\"1980-01-01\",\"1981-01-01\",\"1982-01-01\",\"1983-01-01\",\"1984-01-01\",\"1985-01-01\",\"1986-01-01\",\"1987-01-01\",\"1988-01-01\",\"1989-01-01\",\"1990-01-01\",\"1991-01-01\",\"1992-01-01\",\"1993-01-01\",\"1994-01-01\",\"1995-01-01\",\"1996-01-01\",\"1997-01-01\",\"1998-01-01\",\"1999-01-01\",\"2000-01-01\",\"2001-01-01\",\"2002-01-01\",\"2003-01-01\",\"2004-01-01\",\"2005-01-01\",\"2006-01-01\",\"2007-01-01\",\"2008-01-01\",\"2009-01-01\",\"2010-01-01\",\"2011-01-01\",\"2012-01-01\",\"2013-01-01\",\"2014-01-01\",\"2015-01-01\",\"2016-01-01\",\"2017-01-01\",\"2018-01-01\",\"2019-01-01\",\"2020-01-01\",\"2021-01-01\"],\"xaxis\":\"x\",\"y\":[496848.0,511489.0,524919.0,557203.0,584011.0,602911.0,636544.0,633927.0,680776.0,698644.0,737044.0,764482.0,786890.0,834059.0,896221.0,872598.0,872116.0,940367.0,972226.0,1035807.0,1089226.0,1107121.0,1100995.0,1137279.0,1150759.0,1256053.0,1276942.0,1369581.0,1447819.0,1371980.0,1464394.0,1552348.0,1606304.0,1723386.0,1789232.0,1883243.0,1973197.0,2051442.0,2248950.0,2382703.0,2514549.0,2541123.0,2680438.0,2807779.0,2994747.0,3221584.0,3464798.0,3605116.0,3828072.0,4166694.0,4326736.0,4535456.0,4707984.0,5078049.0,5480380.0,5914614.0,6391375.0,6881007.0,7093403.0,7651078.0,8301235.0,8736329.0,9213017.0,9801370.0,10527674.0,11369493.0,12308193.0,13144582.0,13992914.0,14515958.0,13558473.0,14925840.0],\"yaxis\":\"y\",\"type\":\"scatter\"},{\"hovertemplate\":\"variable=Gross National Income<br>Financial Year=%{x}<br>value=%{y}<extra></extra>\",\"legendgroup\":\"Gross National Income\",\"line\":{\"color\":\"#00cc96\",\"dash\":\"solid\"},\"marker\":{\"symbol\":\"circle\"},\"mode\":\"lines\",\"name\":\"Gross National Income\",\"orientation\":\"v\",\"showlegend\":true,\"x\":[\"1950-01-01\",\"1951-01-01\",\"1952-01-01\",\"1953-01-01\",\"1954-01-01\",\"1955-01-01\",\"1956-01-01\",\"1957-01-01\",\"1958-01-01\",\"1959-01-01\",\"1960-01-01\",\"1961-01-01\",\"1962-01-01\",\"1963-01-01\",\"1964-01-01\",\"1965-01-01\",\"1966-01-01\",\"1967-01-01\",\"1968-01-01\",\"1969-01-01\",\"1970-01-01\",\"1971-01-01\",\"1972-01-01\",\"1973-01-01\",\"1974-01-01\",\"1975-01-01\",\"1976-01-01\",\"1977-01-01\",\"1978-01-01\",\"1979-01-01\",\"1980-01-01\",\"1981-01-01\",\"1982-01-01\",\"1983-01-01\",\"1984-01-01\",\"1985-01-01\",\"1986-01-01\",\"1987-01-01\",\"1988-01-01\",\"1989-01-01\",\"1990-01-01\",\"1991-01-01\",\"1992-01-01\",\"1993-01-01\",\"1994-01-01\",\"1995-01-01\",\"1996-01-01\",\"1997-01-01\",\"1998-01-01\",\"1999-01-01\",\"2000-01-01\",\"2001-01-01\",\"2002-01-01\",\"2003-01-01\",\"2004-01-01\",\"2005-01-01\",\"2006-01-01\",\"2007-01-01\",\"2008-01-01\",\"2009-01-01\",\"2010-01-01\",\"2011-01-01\",\"2012-01-01\",\"2013-01-01\",\"2014-01-01\",\"2015-01-01\",\"2016-01-01\",\"2017-01-01\",\"2018-01-01\",\"2019-01-01\",\"2020-01-01\",\"2021-01-01\"],\"xaxis\":\"x\",\"y\":[495274.0,510505.0,524122.0,556545.0,583005.0,602537.0,635962.0,633039.0,679555.0,696488.0,734466.0,761038.0,782931.0,830072.0,891111.0,867165.0,866818.0,933850.0,966014.0,1029151.0,1082340.0,1100363.0,1094795.0,1131633.0,1146339.0,1252240.0,1273436.0,1366655.0,1445029.0,1371460.0,1464390.0,1550504.0,1599940.0,1716327.0,1779406.0,1873425.0,1962251.0,2036744.0,2227956.0,2360178.0,2486353.0,2511622.0,2650632.0,2780663.0,2967254.0,3192013.0,3436436.0,3581984.0,3803495.0,4139292.0,4286910.0,4499695.0,4676257.0,5043422.0,5442938.0,5872936.0,6342389.0,6852740.0,7052191.0,7606319.0,8211816.0,8659505.0,9104662.0,9679027.0,10402987.0,11234571.0,12163619.0,12998695.0,13840474.0,14374253.0,13368279.0,14619532.0],\"yaxis\":\"y\",\"type\":\"scatter\"},{\"hovertemplate\":\"variable=Net National Income<br>Financial Year=%{x}<br>value=%{y}<extra></extra>\",\"legendgroup\":\"Net National Income\",\"line\":{\"color\":\"#ab63fa\",\"dash\":\"solid\"},\"marker\":{\"symbol\":\"circle\"},\"mode\":\"lines\",\"name\":\"Net National Income\",\"orientation\":\"v\",\"showlegend\":true,\"x\":[\"1950-01-01\",\"1951-01-01\",\"1952-01-01\",\"1953-01-01\",\"1954-01-01\",\"1955-01-01\",\"1956-01-01\",\"1957-01-01\",\"1958-01-01\",\"1959-01-01\",\"1960-01-01\",\"1961-01-01\",\"1962-01-01\",\"1963-01-01\",\"1964-01-01\",\"1965-01-01\",\"1966-01-01\",\"1967-01-01\",\"1968-01-01\",\"1969-01-01\",\"1970-01-01\",\"1971-01-01\",\"1972-01-01\",\"1973-01-01\",\"1974-01-01\",\"1975-01-01\",\"1976-01-01\",\"1977-01-01\",\"1978-01-01\",\"1979-01-01\",\"1980-01-01\",\"1981-01-01\",\"1982-01-01\",\"1983-01-01\",\"1984-01-01\",\"1985-01-01\",\"1986-01-01\",\"1987-01-01\",\"1988-01-01\",\"1989-01-01\",\"1990-01-01\",\"1991-01-01\",\"1992-01-01\",\"1993-01-01\",\"1994-01-01\",\"1995-01-01\",\"1996-01-01\",\"1997-01-01\",\"1998-01-01\",\"1999-01-01\",\"2000-01-01\",\"2001-01-01\",\"2002-01-01\",\"2003-01-01\",\"2004-01-01\",\"2005-01-01\",\"2006-01-01\",\"2007-01-01\",\"2008-01-01\",\"2009-01-01\",\"2010-01-01\",\"2011-01-01\",\"2012-01-01\",\"2013-01-01\",\"2014-01-01\",\"2015-01-01\",\"2016-01-01\",\"2017-01-01\",\"2018-01-01\",\"2019-01-01\",\"2020-01-01\",\"2021-01-01\"],\"xaxis\":\"x\",\"y\":[448483.0,465486.0,480731.0,514489.0,548393.0,567499.0,599736.0,595941.0,640433.0,656423.0,694569.0,719592.0,739509.0,784625.0,842755.0,816540.0,812952.0,876628.0,905884.0,965200.0,1011757.0,1026822.0,1018453.0,1052122.0,1062259.0,1164066.0,1179925.0,1269352.0,1343841.0,1265522.0,1352931.0,1433659.0,1476733.0,1587882.0,1642628.0,1728209.0,1808778.0,1872727.0,2055937.0,2178379.0,2292078.0,2303954.0,2431154.0,2551800.0,2723964.0,2934298.0,3163037.0,3287915.0,3489318.0,3800560.0,3924698.0,4112858.0,4268230.0,4609081.0,4967090.0,5351624.0,5770565.0,6219065.0,6358644.0,6837719.0,7373384.0,7742330.0,8094001.0,8578417.0,9224343.0,9963681.0,10782092.0,11508774.0,12226019.0,12641633.0,11536004.0,12670834.0],\"yaxis\":\"y\",\"type\":\"scatter\"}],                        {\"template\":{\"data\":{\"histogram2dcontour\":[{\"type\":\"histogram2dcontour\",\"colorbar\":{\"outlinewidth\":0,\"ticks\":\"\"},\"colorscale\":[[0.0,\"#0d0887\"],[0.1111111111111111,\"#46039f\"],[0.2222222222222222,\"#7201a8\"],[0.3333333333333333,\"#9c179e\"],[0.4444444444444444,\"#bd3786\"],[0.5555555555555556,\"#d8576b\"],[0.6666666666666666,\"#ed7953\"],[0.7777777777777778,\"#fb9f3a\"],[0.8888888888888888,\"#fdca26\"],[1.0,\"#f0f921\"]]}],\"choropleth\":[{\"type\":\"choropleth\",\"colorbar\":{\"outlinewidth\":0,\"ticks\":\"\"}}],\"histogram2d\":[{\"type\":\"histogram2d\",\"colorbar\":{\"outlinewidth\":0,\"ticks\":\"\"},\"colorscale\":[[0.0,\"#0d0887\"],[0.1111111111111111,\"#46039f\"],[0.2222222222222222,\"#7201a8\"],[0.3333333333333333,\"#9c179e\"],[0.4444444444444444,\"#bd3786\"],[0.5555555555555556,\"#d8576b\"],[0.6666666666666666,\"#ed7953\"],[0.7777777777777778,\"#fb9f3a\"],[0.8888888888888888,\"#fdca26\"],[1.0,\"#f0f921\"]]}],\"heatmap\":[{\"type\":\"heatmap\",\"colorbar\":{\"outlinewidth\":0,\"ticks\":\"\"},\"colorscale\":[[0.0,\"#0d0887\"],[0.1111111111111111,\"#46039f\"],[0.2222222222222222,\"#7201a8\"],[0.3333333333333333,\"#9c179e\"],[0.4444444444444444,\"#bd3786\"],[0.5555555555555556,\"#d8576b\"],[0.6666666666666666,\"#ed7953\"],[0.7777777777777778,\"#fb9f3a\"],[0.8888888888888888,\"#fdca26\"],[1.0,\"#f0f921\"]]}],\"heatmapgl\":[{\"type\":\"heatmapgl\",\"colorbar\":{\"outlinewidth\":0,\"ticks\":\"\"},\"colorscale\":[[0.0,\"#0d0887\"],[0.1111111111111111,\"#46039f\"],[0.2222222222222222,\"#7201a8\"],[0.3333333333333333,\"#9c179e\"],[0.4444444444444444,\"#bd3786\"],[0.5555555555555556,\"#d8576b\"],[0.6666666666666666,\"#ed7953\"],[0.7777777777777778,\"#fb9f3a\"],[0.8888888888888888,\"#fdca26\"],[1.0,\"#f0f921\"]]}],\"contourcarpet\":[{\"type\":\"contourcarpet\",\"colorbar\":{\"outlinewidth\":0,\"ticks\":\"\"}}],\"contour\":[{\"type\":\"contour\",\"colorbar\":{\"outlinewidth\":0,\"ticks\":\"\"},\"colorscale\":[[0.0,\"#0d0887\"],[0.1111111111111111,\"#46039f\"],[0.2222222222222222,\"#7201a8\"],[0.3333333333333333,\"#9c179e\"],[0.4444444444444444,\"#bd3786\"],[0.5555555555555556,\"#d8576b\"],[0.6666666666666666,\"#ed7953\"],[0.7777777777777778,\"#fb9f3a\"],[0.8888888888888888,\"#fdca26\"],[1.0,\"#f0f921\"]]}],\"surface\":[{\"type\":\"surface\",\"colorbar\":{\"outlinewidth\":0,\"ticks\":\"\"},\"colorscale\":[[0.0,\"#0d0887\"],[0.1111111111111111,\"#46039f\"],[0.2222222222222222,\"#7201a8\"],[0.3333333333333333,\"#9c179e\"],[0.4444444444444444,\"#bd3786\"],[0.5555555555555556,\"#d8576b\"],[0.6666666666666666,\"#ed7953\"],[0.7777777777777778,\"#fb9f3a\"],[0.8888888888888888,\"#fdca26\"],[1.0,\"#f0f921\"]]}],\"mesh3d\":[{\"type\":\"mesh3d\",\"colorbar\":{\"outlinewidth\":0,\"ticks\":\"\"}}],\"scatter\":[{\"fillpattern\":{\"fillmode\":\"overlay\",\"size\":10,\"solidity\":0.2},\"type\":\"scatter\"}],\"parcoords\":[{\"type\":\"parcoords\",\"line\":{\"colorbar\":{\"outlinewidth\":0,\"ticks\":\"\"}}}],\"scatterpolargl\":[{\"type\":\"scatterpolargl\",\"marker\":{\"colorbar\":{\"outlinewidth\":0,\"ticks\":\"\"}}}],\"bar\":[{\"error_x\":{\"color\":\"#2a3f5f\"},\"error_y\":{\"color\":\"#2a3f5f\"},\"marker\":{\"line\":{\"color\":\"#E5ECF6\",\"width\":0.5},\"pattern\":{\"fillmode\":\"overlay\",\"size\":10,\"solidity\":0.2}},\"type\":\"bar\"}],\"scattergeo\":[{\"type\":\"scattergeo\",\"marker\":{\"colorbar\":{\"outlinewidth\":0,\"ticks\":\"\"}}}],\"scatterpolar\":[{\"type\":\"scatterpolar\",\"marker\":{\"colorbar\":{\"outlinewidth\":0,\"ticks\":\"\"}}}],\"histogram\":[{\"marker\":{\"pattern\":{\"fillmode\":\"overlay\",\"size\":10,\"solidity\":0.2}},\"type\":\"histogram\"}],\"scattergl\":[{\"type\":\"scattergl\",\"marker\":{\"colorbar\":{\"outlinewidth\":0,\"ticks\":\"\"}}}],\"scatter3d\":[{\"type\":\"scatter3d\",\"line\":{\"colorbar\":{\"outlinewidth\":0,\"ticks\":\"\"}},\"marker\":{\"colorbar\":{\"outlinewidth\":0,\"ticks\":\"\"}}}],\"scattermapbox\":[{\"type\":\"scattermapbox\",\"marker\":{\"colorbar\":{\"outlinewidth\":0,\"ticks\":\"\"}}}],\"scatterternary\":[{\"type\":\"scatterternary\",\"marker\":{\"colorbar\":{\"outlinewidth\":0,\"ticks\":\"\"}}}],\"scattercarpet\":[{\"type\":\"scattercarpet\",\"marker\":{\"colorbar\":{\"outlinewidth\":0,\"ticks\":\"\"}}}],\"carpet\":[{\"aaxis\":{\"endlinecolor\":\"#2a3f5f\",\"gridcolor\":\"white\",\"linecolor\":\"white\",\"minorgridcolor\":\"white\",\"startlinecolor\":\"#2a3f5f\"},\"baxis\":{\"endlinecolor\":\"#2a3f5f\",\"gridcolor\":\"white\",\"linecolor\":\"white\",\"minorgridcolor\":\"white\",\"startlinecolor\":\"#2a3f5f\"},\"type\":\"carpet\"}],\"table\":[{\"cells\":{\"fill\":{\"color\":\"#EBF0F8\"},\"line\":{\"color\":\"white\"}},\"header\":{\"fill\":{\"color\":\"#C8D4E3\"},\"line\":{\"color\":\"white\"}},\"type\":\"table\"}],\"barpolar\":[{\"marker\":{\"line\":{\"color\":\"#E5ECF6\",\"width\":0.5},\"pattern\":{\"fillmode\":\"overlay\",\"size\":10,\"solidity\":0.2}},\"type\":\"barpolar\"}],\"pie\":[{\"automargin\":true,\"type\":\"pie\"}]},\"layout\":{\"autotypenumbers\":\"strict\",\"colorway\":[\"#636efa\",\"#EF553B\",\"#00cc96\",\"#ab63fa\",\"#FFA15A\",\"#19d3f3\",\"#FF6692\",\"#B6E880\",\"#FF97FF\",\"#FECB52\"],\"font\":{\"color\":\"#2a3f5f\"},\"hovermode\":\"closest\",\"hoverlabel\":{\"align\":\"left\"},\"paper_bgcolor\":\"white\",\"plot_bgcolor\":\"#E5ECF6\",\"polar\":{\"bgcolor\":\"#E5ECF6\",\"angularaxis\":{\"gridcolor\":\"white\",\"linecolor\":\"white\",\"ticks\":\"\"},\"radialaxis\":{\"gridcolor\":\"white\",\"linecolor\":\"white\",\"ticks\":\"\"}},\"ternary\":{\"bgcolor\":\"#E5ECF6\",\"aaxis\":{\"gridcolor\":\"white\",\"linecolor\":\"white\",\"ticks\":\"\"},\"baxis\":{\"gridcolor\":\"white\",\"linecolor\":\"white\",\"ticks\":\"\"},\"caxis\":{\"gridcolor\":\"white\",\"linecolor\":\"white\",\"ticks\":\"\"}},\"coloraxis\":{\"colorbar\":{\"outlinewidth\":0,\"ticks\":\"\"}},\"colorscale\":{\"sequential\":[[0.0,\"#0d0887\"],[0.1111111111111111,\"#46039f\"],[0.2222222222222222,\"#7201a8\"],[0.3333333333333333,\"#9c179e\"],[0.4444444444444444,\"#bd3786\"],[0.5555555555555556,\"#d8576b\"],[0.6666666666666666,\"#ed7953\"],[0.7777777777777778,\"#fb9f3a\"],[0.8888888888888888,\"#fdca26\"],[1.0,\"#f0f921\"]],\"sequentialminus\":[[0.0,\"#0d0887\"],[0.1111111111111111,\"#46039f\"],[0.2222222222222222,\"#7201a8\"],[0.3333333333333333,\"#9c179e\"],[0.4444444444444444,\"#bd3786\"],[0.5555555555555556,\"#d8576b\"],[0.6666666666666666,\"#ed7953\"],[0.7777777777777778,\"#fb9f3a\"],[0.8888888888888888,\"#fdca26\"],[1.0,\"#f0f921\"]],\"diverging\":[[0,\"#8e0152\"],[0.1,\"#c51b7d\"],[0.2,\"#de77ae\"],[0.3,\"#f1b6da\"],[0.4,\"#fde0ef\"],[0.5,\"#f7f7f7\"],[0.6,\"#e6f5d0\"],[0.7,\"#b8e186\"],[0.8,\"#7fbc41\"],[0.9,\"#4d9221\"],[1,\"#276419\"]]},\"xaxis\":{\"gridcolor\":\"white\",\"linecolor\":\"white\",\"ticks\":\"\",\"title\":{\"standoff\":15},\"zerolinecolor\":\"white\",\"automargin\":true,\"zerolinewidth\":2},\"yaxis\":{\"gridcolor\":\"white\",\"linecolor\":\"white\",\"ticks\":\"\",\"title\":{\"standoff\":15},\"zerolinecolor\":\"white\",\"automargin\":true,\"zerolinewidth\":2},\"scene\":{\"xaxis\":{\"backgroundcolor\":\"#E5ECF6\",\"gridcolor\":\"white\",\"linecolor\":\"white\",\"showbackground\":true,\"ticks\":\"\",\"zerolinecolor\":\"white\",\"gridwidth\":2},\"yaxis\":{\"backgroundcolor\":\"#E5ECF6\",\"gridcolor\":\"white\",\"linecolor\":\"white\",\"showbackground\":true,\"ticks\":\"\",\"zerolinecolor\":\"white\",\"gridwidth\":2},\"zaxis\":{\"backgroundcolor\":\"#E5ECF6\",\"gridcolor\":\"white\",\"linecolor\":\"white\",\"showbackground\":true,\"ticks\":\"\",\"zerolinecolor\":\"white\",\"gridwidth\":2}},\"shapedefaults\":{\"line\":{\"color\":\"#2a3f5f\"}},\"annotationdefaults\":{\"arrowcolor\":\"#2a3f5f\",\"arrowhead\":0,\"arrowwidth\":1},\"geo\":{\"bgcolor\":\"white\",\"landcolor\":\"#E5ECF6\",\"subunitcolor\":\"white\",\"showland\":true,\"showlakes\":true,\"lakecolor\":\"white\"},\"title\":{\"x\":0.05},\"mapbox\":{\"style\":\"light\"}}},\"xaxis\":{\"anchor\":\"y\",\"domain\":[0.0,1.0],\"title\":{\"text\":\"Financial Year\"}},\"yaxis\":{\"anchor\":\"x\",\"domain\":[0.0,1.0],\"title\":{\"text\":\"value\"}},\"legend\":{\"title\":{\"text\":\"variable\"},\"tracegroupgap\":0},\"title\":{\"text\":\"Macroeconomic Aggregates(At Constant Prices Base Year 2011-12)\"}},                        {\"responsive\": true}                    ).then(function(){\n",
       "                            \n",
       "var gd = document.getElementById('bd94d0fd-f5c4-40a3-91ea-5722580c9d34');\n",
       "var x = new MutationObserver(function (mutations, observer) {{\n",
       "        var display = window.getComputedStyle(gd).display;\n",
       "        if (!display || display === 'none') {{\n",
       "            console.log([gd, 'removed!']);\n",
       "            Plotly.purge(gd);\n",
       "            observer.disconnect();\n",
       "        }}\n",
       "}});\n",
       "\n",
       "// Listen for the removal of the full notebook cells\n",
       "var notebookContainer = gd.closest('#notebook-container');\n",
       "if (notebookContainer) {{\n",
       "    x.observe(notebookContainer, {childList: true});\n",
       "}}\n",
       "\n",
       "// Listen for the clearing of the current output cell\n",
       "var outputEl = gd.closest('.output');\n",
       "if (outputEl) {{\n",
       "    x.observe(outputEl, {childList: true});\n",
       "}}\n",
       "\n",
       "                        })                };                });            </script>        </div>"
      ]
     },
     "metadata": {},
     "output_type": "display_data"
    },
    {
     "data": {
      "application/vnd.plotly.v1+json": {
       "config": {
        "plotlyServerURL": "https://plot.ly"
       },
       "data": [
        {
         "hovertemplate": "variable=Per Capita GDP<br>Financial Year=%{x}<br>value=%{y}<extra></extra>",
         "legendgroup": "Per Capita GDP",
         "line": {
          "color": "#636efa",
          "dash": "solid"
         },
         "marker": {
          "symbol": "circle"
         },
         "mode": "lines",
         "name": "Per Capita GDP",
         "orientation": "v",
         "showlegend": true,
         "type": "scatter",
         "x": [
          "1950-01-01",
          "1951-01-01",
          "1952-01-01",
          "1953-01-01",
          "1954-01-01",
          "1955-01-01",
          "1956-01-01",
          "1957-01-01",
          "1958-01-01",
          "1959-01-01",
          "1960-01-01",
          "1961-01-01",
          "1962-01-01",
          "1963-01-01",
          "1964-01-01",
          "1965-01-01",
          "1966-01-01",
          "1967-01-01",
          "1968-01-01",
          "1969-01-01",
          "1970-01-01",
          "1971-01-01",
          "1972-01-01",
          "1973-01-01",
          "1974-01-01",
          "1975-01-01",
          "1976-01-01",
          "1977-01-01",
          "1978-01-01",
          "1979-01-01",
          "1980-01-01",
          "1981-01-01",
          "1982-01-01",
          "1983-01-01",
          "1984-01-01",
          "1985-01-01",
          "1986-01-01",
          "1987-01-01",
          "1988-01-01",
          "1989-01-01",
          "1990-01-01",
          "1991-01-01",
          "1992-01-01",
          "1993-01-01",
          "1994-01-01",
          "1995-01-01",
          "1996-01-01",
          "1997-01-01",
          "1998-01-01",
          "1999-01-01",
          "2000-01-01",
          "2001-01-01",
          "2002-01-01",
          "2003-01-01",
          "2004-01-01",
          "2005-01-01",
          "2006-01-01",
          "2007-01-01",
          "2008-01-01",
          "2009-01-01",
          "2010-01-01",
          "2011-01-01",
          "2012-01-01",
          "2013-01-01",
          "2014-01-01",
          "2015-01-01",
          "2016-01-01",
          "2017-01-01",
          "2018-01-01",
          "2019-01-01",
          "2020-01-01",
          "2021-01-01"
         ],
         "xaxis": "x",
         "y": [
          13840,
          14013,
          14111,
          14702,
          15130,
          15341,
          15874,
          15499,
          16286,
          16400,
          16983,
          17218,
          17332,
          17975,
          18908,
          17992,
          17618,
          18584,
          18769,
          19580,
          20134,
          19984,
          19418,
          19608,
          19406,
          20693,
          20596,
          21602,
          22343,
          20662,
          21567,
          22433,
          22688,
          23837,
          24212,
          24944,
          25593,
          26034,
          27937,
          28987,
          29971,
          29686,
          30739,
          31477,
          32909,
          34715,
          36626,
          37397,
          38943,
          41625,
          42461,
          43610,
          44583,
          47370,
          50325,
          53478,
          56964,
          60466,
          61468,
          65394,
          69994,
          71609,
          74599,
          78348,
          83091,
          88616,
          94751,
          100035,
          105448,
          108247,
          100032,
          109060
         ],
         "yaxis": "y"
        },
        {
         "hovertemplate": "variable=Per Capita GNI<br>Financial Year=%{x}<br>value=%{y}<extra></extra>",
         "legendgroup": "Per Capita GNI",
         "line": {
          "color": "#EF553B",
          "dash": "solid"
         },
         "marker": {
          "symbol": "circle"
         },
         "mode": "lines",
         "name": "Per Capita GNI",
         "orientation": "v",
         "showlegend": true,
         "type": "scatter",
         "x": [
          "1950-01-01",
          "1951-01-01",
          "1952-01-01",
          "1953-01-01",
          "1954-01-01",
          "1955-01-01",
          "1956-01-01",
          "1957-01-01",
          "1958-01-01",
          "1959-01-01",
          "1960-01-01",
          "1961-01-01",
          "1962-01-01",
          "1963-01-01",
          "1964-01-01",
          "1965-01-01",
          "1966-01-01",
          "1967-01-01",
          "1968-01-01",
          "1969-01-01",
          "1970-01-01",
          "1971-01-01",
          "1972-01-01",
          "1973-01-01",
          "1974-01-01",
          "1975-01-01",
          "1976-01-01",
          "1977-01-01",
          "1978-01-01",
          "1979-01-01",
          "1980-01-01",
          "1981-01-01",
          "1982-01-01",
          "1983-01-01",
          "1984-01-01",
          "1985-01-01",
          "1986-01-01",
          "1987-01-01",
          "1988-01-01",
          "1989-01-01",
          "1990-01-01",
          "1991-01-01",
          "1992-01-01",
          "1993-01-01",
          "1994-01-01",
          "1995-01-01",
          "1996-01-01",
          "1997-01-01",
          "1998-01-01",
          "1999-01-01",
          "2000-01-01",
          "2001-01-01",
          "2002-01-01",
          "2003-01-01",
          "2004-01-01",
          "2005-01-01",
          "2006-01-01",
          "2007-01-01",
          "2008-01-01",
          "2009-01-01",
          "2010-01-01",
          "2011-01-01",
          "2012-01-01",
          "2013-01-01",
          "2014-01-01",
          "2015-01-01",
          "2016-01-01",
          "2017-01-01",
          "2018-01-01",
          "2019-01-01",
          "2020-01-01",
          "2021-01-01"
         ],
         "xaxis": "x",
         "y": [
          13796,
          13986,
          14089,
          14685,
          15104,
          15332,
          15859,
          15478,
          16257,
          16349,
          16923,
          17140,
          17245,
          17889,
          18800,
          17880,
          17511,
          18456,
          18649,
          19455,
          20006,
          19862,
          19309,
          19511,
          19331,
          20630,
          20539,
          21556,
          22300,
          20655,
          21567,
          22406,
          22598,
          23739,
          24079,
          24814,
          25451,
          25847,
          27676,
          28713,
          29635,
          29341,
          30397,
          31173,
          32607,
          34397,
          36326,
          37158,
          38693,
          41352,
          42070,
          43266,
          44283,
          47047,
          29054,
          32604,
          37624,
          42866,
          47498,
          54089,
          63682,
          70980,
          73722,
          77370,
          82107,
          87565,
          93638,
          98925,
          104299,
          107191,
          98629,
          106822
         ],
         "yaxis": "y"
        },
        {
         "hovertemplate": "variable=Per Capita NNI<br>Financial Year=%{x}<br>value=%{y}<extra></extra>",
         "legendgroup": "Per Capita NNI",
         "line": {
          "color": "#00cc96",
          "dash": "solid"
         },
         "marker": {
          "symbol": "circle"
         },
         "mode": "lines",
         "name": "Per Capita NNI",
         "orientation": "v",
         "showlegend": true,
         "type": "scatter",
         "x": [
          "1950-01-01",
          "1951-01-01",
          "1952-01-01",
          "1953-01-01",
          "1954-01-01",
          "1955-01-01",
          "1956-01-01",
          "1957-01-01",
          "1958-01-01",
          "1959-01-01",
          "1960-01-01",
          "1961-01-01",
          "1962-01-01",
          "1963-01-01",
          "1964-01-01",
          "1965-01-01",
          "1966-01-01",
          "1967-01-01",
          "1968-01-01",
          "1969-01-01",
          "1970-01-01",
          "1971-01-01",
          "1972-01-01",
          "1973-01-01",
          "1974-01-01",
          "1975-01-01",
          "1976-01-01",
          "1977-01-01",
          "1978-01-01",
          "1979-01-01",
          "1980-01-01",
          "1981-01-01",
          "1982-01-01",
          "1983-01-01",
          "1984-01-01",
          "1985-01-01",
          "1986-01-01",
          "1987-01-01",
          "1988-01-01",
          "1989-01-01",
          "1990-01-01",
          "1991-01-01",
          "1992-01-01",
          "1993-01-01",
          "1994-01-01",
          "1995-01-01",
          "1996-01-01",
          "1997-01-01",
          "1998-01-01",
          "1999-01-01",
          "2000-01-01",
          "2001-01-01",
          "2002-01-01",
          "2003-01-01",
          "2004-01-01",
          "2005-01-01",
          "2006-01-01",
          "2007-01-01",
          "2008-01-01",
          "2009-01-01",
          "2010-01-01",
          "2011-01-01",
          "2012-01-01",
          "2013-01-01",
          "2014-01-01",
          "2015-01-01",
          "2016-01-01",
          "2017-01-01",
          "2018-01-01",
          "2019-01-01",
          "2020-01-01",
          "2021-01-01"
         ],
         "xaxis": "x",
         "y": [
          12493,
          12753,
          12923,
          13575,
          14207,
          14440,
          14956,
          14571,
          15321,
          15409,
          16004,
          16207,
          16289,
          16910,
          17780,
          16836,
          16423,
          17325,
          17488,
          18246,
          18702,
          18535,
          17962,
          18140,
          17913,
          19177,
          19031,
          20021,
          20738,
          19059,
          19925,
          20718,
          20858,
          21962,
          22228,
          22890,
          23460,
          23766,
          25540,
          26501,
          27319,
          26915,
          27880,
          28608,
          29934,
          31620,
          33436,
          34107,
          35497,
          37968,
          38515,
          39547,
          40419,
          42995,
          45611,
          48387,
          51431,
          54649,
          55101,
          58442,
          62170,
          63462,
          65538,
          68572,
          72805,
          77659,
          83003,
          87586,
          92133,
          94270,
          85110,
          92583
         ],
         "yaxis": "y"
        }
       ],
       "layout": {
        "legend": {
         "title": {
          "text": "variable"
         },
         "tracegroupgap": 0
        },
        "template": {
         "data": {
          "bar": [
           {
            "error_x": {
             "color": "#2a3f5f"
            },
            "error_y": {
             "color": "#2a3f5f"
            },
            "marker": {
             "line": {
              "color": "#E5ECF6",
              "width": 0.5
             },
             "pattern": {
              "fillmode": "overlay",
              "size": 10,
              "solidity": 0.2
             }
            },
            "type": "bar"
           }
          ],
          "barpolar": [
           {
            "marker": {
             "line": {
              "color": "#E5ECF6",
              "width": 0.5
             },
             "pattern": {
              "fillmode": "overlay",
              "size": 10,
              "solidity": 0.2
             }
            },
            "type": "barpolar"
           }
          ],
          "carpet": [
           {
            "aaxis": {
             "endlinecolor": "#2a3f5f",
             "gridcolor": "white",
             "linecolor": "white",
             "minorgridcolor": "white",
             "startlinecolor": "#2a3f5f"
            },
            "baxis": {
             "endlinecolor": "#2a3f5f",
             "gridcolor": "white",
             "linecolor": "white",
             "minorgridcolor": "white",
             "startlinecolor": "#2a3f5f"
            },
            "type": "carpet"
           }
          ],
          "choropleth": [
           {
            "colorbar": {
             "outlinewidth": 0,
             "ticks": ""
            },
            "type": "choropleth"
           }
          ],
          "contour": [
           {
            "colorbar": {
             "outlinewidth": 0,
             "ticks": ""
            },
            "colorscale": [
             [
              0,
              "#0d0887"
             ],
             [
              0.1111111111111111,
              "#46039f"
             ],
             [
              0.2222222222222222,
              "#7201a8"
             ],
             [
              0.3333333333333333,
              "#9c179e"
             ],
             [
              0.4444444444444444,
              "#bd3786"
             ],
             [
              0.5555555555555556,
              "#d8576b"
             ],
             [
              0.6666666666666666,
              "#ed7953"
             ],
             [
              0.7777777777777778,
              "#fb9f3a"
             ],
             [
              0.8888888888888888,
              "#fdca26"
             ],
             [
              1,
              "#f0f921"
             ]
            ],
            "type": "contour"
           }
          ],
          "contourcarpet": [
           {
            "colorbar": {
             "outlinewidth": 0,
             "ticks": ""
            },
            "type": "contourcarpet"
           }
          ],
          "heatmap": [
           {
            "colorbar": {
             "outlinewidth": 0,
             "ticks": ""
            },
            "colorscale": [
             [
              0,
              "#0d0887"
             ],
             [
              0.1111111111111111,
              "#46039f"
             ],
             [
              0.2222222222222222,
              "#7201a8"
             ],
             [
              0.3333333333333333,
              "#9c179e"
             ],
             [
              0.4444444444444444,
              "#bd3786"
             ],
             [
              0.5555555555555556,
              "#d8576b"
             ],
             [
              0.6666666666666666,
              "#ed7953"
             ],
             [
              0.7777777777777778,
              "#fb9f3a"
             ],
             [
              0.8888888888888888,
              "#fdca26"
             ],
             [
              1,
              "#f0f921"
             ]
            ],
            "type": "heatmap"
           }
          ],
          "heatmapgl": [
           {
            "colorbar": {
             "outlinewidth": 0,
             "ticks": ""
            },
            "colorscale": [
             [
              0,
              "#0d0887"
             ],
             [
              0.1111111111111111,
              "#46039f"
             ],
             [
              0.2222222222222222,
              "#7201a8"
             ],
             [
              0.3333333333333333,
              "#9c179e"
             ],
             [
              0.4444444444444444,
              "#bd3786"
             ],
             [
              0.5555555555555556,
              "#d8576b"
             ],
             [
              0.6666666666666666,
              "#ed7953"
             ],
             [
              0.7777777777777778,
              "#fb9f3a"
             ],
             [
              0.8888888888888888,
              "#fdca26"
             ],
             [
              1,
              "#f0f921"
             ]
            ],
            "type": "heatmapgl"
           }
          ],
          "histogram": [
           {
            "marker": {
             "pattern": {
              "fillmode": "overlay",
              "size": 10,
              "solidity": 0.2
             }
            },
            "type": "histogram"
           }
          ],
          "histogram2d": [
           {
            "colorbar": {
             "outlinewidth": 0,
             "ticks": ""
            },
            "colorscale": [
             [
              0,
              "#0d0887"
             ],
             [
              0.1111111111111111,
              "#46039f"
             ],
             [
              0.2222222222222222,
              "#7201a8"
             ],
             [
              0.3333333333333333,
              "#9c179e"
             ],
             [
              0.4444444444444444,
              "#bd3786"
             ],
             [
              0.5555555555555556,
              "#d8576b"
             ],
             [
              0.6666666666666666,
              "#ed7953"
             ],
             [
              0.7777777777777778,
              "#fb9f3a"
             ],
             [
              0.8888888888888888,
              "#fdca26"
             ],
             [
              1,
              "#f0f921"
             ]
            ],
            "type": "histogram2d"
           }
          ],
          "histogram2dcontour": [
           {
            "colorbar": {
             "outlinewidth": 0,
             "ticks": ""
            },
            "colorscale": [
             [
              0,
              "#0d0887"
             ],
             [
              0.1111111111111111,
              "#46039f"
             ],
             [
              0.2222222222222222,
              "#7201a8"
             ],
             [
              0.3333333333333333,
              "#9c179e"
             ],
             [
              0.4444444444444444,
              "#bd3786"
             ],
             [
              0.5555555555555556,
              "#d8576b"
             ],
             [
              0.6666666666666666,
              "#ed7953"
             ],
             [
              0.7777777777777778,
              "#fb9f3a"
             ],
             [
              0.8888888888888888,
              "#fdca26"
             ],
             [
              1,
              "#f0f921"
             ]
            ],
            "type": "histogram2dcontour"
           }
          ],
          "mesh3d": [
           {
            "colorbar": {
             "outlinewidth": 0,
             "ticks": ""
            },
            "type": "mesh3d"
           }
          ],
          "parcoords": [
           {
            "line": {
             "colorbar": {
              "outlinewidth": 0,
              "ticks": ""
             }
            },
            "type": "parcoords"
           }
          ],
          "pie": [
           {
            "automargin": true,
            "type": "pie"
           }
          ],
          "scatter": [
           {
            "fillpattern": {
             "fillmode": "overlay",
             "size": 10,
             "solidity": 0.2
            },
            "type": "scatter"
           }
          ],
          "scatter3d": [
           {
            "line": {
             "colorbar": {
              "outlinewidth": 0,
              "ticks": ""
             }
            },
            "marker": {
             "colorbar": {
              "outlinewidth": 0,
              "ticks": ""
             }
            },
            "type": "scatter3d"
           }
          ],
          "scattercarpet": [
           {
            "marker": {
             "colorbar": {
              "outlinewidth": 0,
              "ticks": ""
             }
            },
            "type": "scattercarpet"
           }
          ],
          "scattergeo": [
           {
            "marker": {
             "colorbar": {
              "outlinewidth": 0,
              "ticks": ""
             }
            },
            "type": "scattergeo"
           }
          ],
          "scattergl": [
           {
            "marker": {
             "colorbar": {
              "outlinewidth": 0,
              "ticks": ""
             }
            },
            "type": "scattergl"
           }
          ],
          "scattermapbox": [
           {
            "marker": {
             "colorbar": {
              "outlinewidth": 0,
              "ticks": ""
             }
            },
            "type": "scattermapbox"
           }
          ],
          "scatterpolar": [
           {
            "marker": {
             "colorbar": {
              "outlinewidth": 0,
              "ticks": ""
             }
            },
            "type": "scatterpolar"
           }
          ],
          "scatterpolargl": [
           {
            "marker": {
             "colorbar": {
              "outlinewidth": 0,
              "ticks": ""
             }
            },
            "type": "scatterpolargl"
           }
          ],
          "scatterternary": [
           {
            "marker": {
             "colorbar": {
              "outlinewidth": 0,
              "ticks": ""
             }
            },
            "type": "scatterternary"
           }
          ],
          "surface": [
           {
            "colorbar": {
             "outlinewidth": 0,
             "ticks": ""
            },
            "colorscale": [
             [
              0,
              "#0d0887"
             ],
             [
              0.1111111111111111,
              "#46039f"
             ],
             [
              0.2222222222222222,
              "#7201a8"
             ],
             [
              0.3333333333333333,
              "#9c179e"
             ],
             [
              0.4444444444444444,
              "#bd3786"
             ],
             [
              0.5555555555555556,
              "#d8576b"
             ],
             [
              0.6666666666666666,
              "#ed7953"
             ],
             [
              0.7777777777777778,
              "#fb9f3a"
             ],
             [
              0.8888888888888888,
              "#fdca26"
             ],
             [
              1,
              "#f0f921"
             ]
            ],
            "type": "surface"
           }
          ],
          "table": [
           {
            "cells": {
             "fill": {
              "color": "#EBF0F8"
             },
             "line": {
              "color": "white"
             }
            },
            "header": {
             "fill": {
              "color": "#C8D4E3"
             },
             "line": {
              "color": "white"
             }
            },
            "type": "table"
           }
          ]
         },
         "layout": {
          "annotationdefaults": {
           "arrowcolor": "#2a3f5f",
           "arrowhead": 0,
           "arrowwidth": 1
          },
          "autotypenumbers": "strict",
          "coloraxis": {
           "colorbar": {
            "outlinewidth": 0,
            "ticks": ""
           }
          },
          "colorscale": {
           "diverging": [
            [
             0,
             "#8e0152"
            ],
            [
             0.1,
             "#c51b7d"
            ],
            [
             0.2,
             "#de77ae"
            ],
            [
             0.3,
             "#f1b6da"
            ],
            [
             0.4,
             "#fde0ef"
            ],
            [
             0.5,
             "#f7f7f7"
            ],
            [
             0.6,
             "#e6f5d0"
            ],
            [
             0.7,
             "#b8e186"
            ],
            [
             0.8,
             "#7fbc41"
            ],
            [
             0.9,
             "#4d9221"
            ],
            [
             1,
             "#276419"
            ]
           ],
           "sequential": [
            [
             0,
             "#0d0887"
            ],
            [
             0.1111111111111111,
             "#46039f"
            ],
            [
             0.2222222222222222,
             "#7201a8"
            ],
            [
             0.3333333333333333,
             "#9c179e"
            ],
            [
             0.4444444444444444,
             "#bd3786"
            ],
            [
             0.5555555555555556,
             "#d8576b"
            ],
            [
             0.6666666666666666,
             "#ed7953"
            ],
            [
             0.7777777777777778,
             "#fb9f3a"
            ],
            [
             0.8888888888888888,
             "#fdca26"
            ],
            [
             1,
             "#f0f921"
            ]
           ],
           "sequentialminus": [
            [
             0,
             "#0d0887"
            ],
            [
             0.1111111111111111,
             "#46039f"
            ],
            [
             0.2222222222222222,
             "#7201a8"
            ],
            [
             0.3333333333333333,
             "#9c179e"
            ],
            [
             0.4444444444444444,
             "#bd3786"
            ],
            [
             0.5555555555555556,
             "#d8576b"
            ],
            [
             0.6666666666666666,
             "#ed7953"
            ],
            [
             0.7777777777777778,
             "#fb9f3a"
            ],
            [
             0.8888888888888888,
             "#fdca26"
            ],
            [
             1,
             "#f0f921"
            ]
           ]
          },
          "colorway": [
           "#636efa",
           "#EF553B",
           "#00cc96",
           "#ab63fa",
           "#FFA15A",
           "#19d3f3",
           "#FF6692",
           "#B6E880",
           "#FF97FF",
           "#FECB52"
          ],
          "font": {
           "color": "#2a3f5f"
          },
          "geo": {
           "bgcolor": "white",
           "lakecolor": "white",
           "landcolor": "#E5ECF6",
           "showlakes": true,
           "showland": true,
           "subunitcolor": "white"
          },
          "hoverlabel": {
           "align": "left"
          },
          "hovermode": "closest",
          "mapbox": {
           "style": "light"
          },
          "paper_bgcolor": "white",
          "plot_bgcolor": "#E5ECF6",
          "polar": {
           "angularaxis": {
            "gridcolor": "white",
            "linecolor": "white",
            "ticks": ""
           },
           "bgcolor": "#E5ECF6",
           "radialaxis": {
            "gridcolor": "white",
            "linecolor": "white",
            "ticks": ""
           }
          },
          "scene": {
           "xaxis": {
            "backgroundcolor": "#E5ECF6",
            "gridcolor": "white",
            "gridwidth": 2,
            "linecolor": "white",
            "showbackground": true,
            "ticks": "",
            "zerolinecolor": "white"
           },
           "yaxis": {
            "backgroundcolor": "#E5ECF6",
            "gridcolor": "white",
            "gridwidth": 2,
            "linecolor": "white",
            "showbackground": true,
            "ticks": "",
            "zerolinecolor": "white"
           },
           "zaxis": {
            "backgroundcolor": "#E5ECF6",
            "gridcolor": "white",
            "gridwidth": 2,
            "linecolor": "white",
            "showbackground": true,
            "ticks": "",
            "zerolinecolor": "white"
           }
          },
          "shapedefaults": {
           "line": {
            "color": "#2a3f5f"
           }
          },
          "ternary": {
           "aaxis": {
            "gridcolor": "white",
            "linecolor": "white",
            "ticks": ""
           },
           "baxis": {
            "gridcolor": "white",
            "linecolor": "white",
            "ticks": ""
           },
           "bgcolor": "#E5ECF6",
           "caxis": {
            "gridcolor": "white",
            "linecolor": "white",
            "ticks": ""
           }
          },
          "title": {
           "x": 0.05
          },
          "xaxis": {
           "automargin": true,
           "gridcolor": "white",
           "linecolor": "white",
           "ticks": "",
           "title": {
            "standoff": 15
           },
           "zerolinecolor": "white",
           "zerolinewidth": 2
          },
          "yaxis": {
           "automargin": true,
           "gridcolor": "white",
           "linecolor": "white",
           "ticks": "",
           "title": {
            "standoff": 15
           },
           "zerolinecolor": "white",
           "zerolinewidth": 2
          }
         }
        },
        "title": {
         "text": "Macroeconomic Aggregates(At Constant Prices Base Year 2011-12)"
        },
        "xaxis": {
         "anchor": "y",
         "domain": [
          0,
          1
         ],
         "title": {
          "text": "Year"
         }
        },
        "yaxis": {
         "anchor": "x",
         "domain": [
          0,
          1
         ],
         "title": {
          "text": "Value(Rupees Crore)"
         }
        }
       }
      },
      "text/html": [
       "<div>                            <div id=\"198a2fff-f430-473d-818a-a15d3fc916c3\" class=\"plotly-graph-div\" style=\"height:525px; width:100%;\"></div>            <script type=\"text/javascript\">                require([\"plotly\"], function(Plotly) {                    window.PLOTLYENV=window.PLOTLYENV || {};                                    if (document.getElementById(\"198a2fff-f430-473d-818a-a15d3fc916c3\")) {                    Plotly.newPlot(                        \"198a2fff-f430-473d-818a-a15d3fc916c3\",                        [{\"hovertemplate\":\"variable=Per Capita GDP<br>Financial Year=%{x}<br>value=%{y}<extra></extra>\",\"legendgroup\":\"Per Capita GDP\",\"line\":{\"color\":\"#636efa\",\"dash\":\"solid\"},\"marker\":{\"symbol\":\"circle\"},\"mode\":\"lines\",\"name\":\"Per Capita GDP\",\"orientation\":\"v\",\"showlegend\":true,\"x\":[\"1950-01-01\",\"1951-01-01\",\"1952-01-01\",\"1953-01-01\",\"1954-01-01\",\"1955-01-01\",\"1956-01-01\",\"1957-01-01\",\"1958-01-01\",\"1959-01-01\",\"1960-01-01\",\"1961-01-01\",\"1962-01-01\",\"1963-01-01\",\"1964-01-01\",\"1965-01-01\",\"1966-01-01\",\"1967-01-01\",\"1968-01-01\",\"1969-01-01\",\"1970-01-01\",\"1971-01-01\",\"1972-01-01\",\"1973-01-01\",\"1974-01-01\",\"1975-01-01\",\"1976-01-01\",\"1977-01-01\",\"1978-01-01\",\"1979-01-01\",\"1980-01-01\",\"1981-01-01\",\"1982-01-01\",\"1983-01-01\",\"1984-01-01\",\"1985-01-01\",\"1986-01-01\",\"1987-01-01\",\"1988-01-01\",\"1989-01-01\",\"1990-01-01\",\"1991-01-01\",\"1992-01-01\",\"1993-01-01\",\"1994-01-01\",\"1995-01-01\",\"1996-01-01\",\"1997-01-01\",\"1998-01-01\",\"1999-01-01\",\"2000-01-01\",\"2001-01-01\",\"2002-01-01\",\"2003-01-01\",\"2004-01-01\",\"2005-01-01\",\"2006-01-01\",\"2007-01-01\",\"2008-01-01\",\"2009-01-01\",\"2010-01-01\",\"2011-01-01\",\"2012-01-01\",\"2013-01-01\",\"2014-01-01\",\"2015-01-01\",\"2016-01-01\",\"2017-01-01\",\"2018-01-01\",\"2019-01-01\",\"2020-01-01\",\"2021-01-01\"],\"xaxis\":\"x\",\"y\":[13840,14013,14111,14702,15130,15341,15874,15499,16286,16400,16983,17218,17332,17975,18908,17992,17618,18584,18769,19580,20134,19984,19418,19608,19406,20693,20596,21602,22343,20662,21567,22433,22688,23837,24212,24944,25593,26034,27937,28987,29971,29686,30739,31477,32909,34715,36626,37397,38943,41625,42461,43610,44583,47370,50325,53478,56964,60466,61468,65394,69994,71609,74599,78348,83091,88616,94751,100035,105448,108247,100032,109060],\"yaxis\":\"y\",\"type\":\"scatter\"},{\"hovertemplate\":\"variable=Per Capita GNI<br>Financial Year=%{x}<br>value=%{y}<extra></extra>\",\"legendgroup\":\"Per Capita GNI\",\"line\":{\"color\":\"#EF553B\",\"dash\":\"solid\"},\"marker\":{\"symbol\":\"circle\"},\"mode\":\"lines\",\"name\":\"Per Capita GNI\",\"orientation\":\"v\",\"showlegend\":true,\"x\":[\"1950-01-01\",\"1951-01-01\",\"1952-01-01\",\"1953-01-01\",\"1954-01-01\",\"1955-01-01\",\"1956-01-01\",\"1957-01-01\",\"1958-01-01\",\"1959-01-01\",\"1960-01-01\",\"1961-01-01\",\"1962-01-01\",\"1963-01-01\",\"1964-01-01\",\"1965-01-01\",\"1966-01-01\",\"1967-01-01\",\"1968-01-01\",\"1969-01-01\",\"1970-01-01\",\"1971-01-01\",\"1972-01-01\",\"1973-01-01\",\"1974-01-01\",\"1975-01-01\",\"1976-01-01\",\"1977-01-01\",\"1978-01-01\",\"1979-01-01\",\"1980-01-01\",\"1981-01-01\",\"1982-01-01\",\"1983-01-01\",\"1984-01-01\",\"1985-01-01\",\"1986-01-01\",\"1987-01-01\",\"1988-01-01\",\"1989-01-01\",\"1990-01-01\",\"1991-01-01\",\"1992-01-01\",\"1993-01-01\",\"1994-01-01\",\"1995-01-01\",\"1996-01-01\",\"1997-01-01\",\"1998-01-01\",\"1999-01-01\",\"2000-01-01\",\"2001-01-01\",\"2002-01-01\",\"2003-01-01\",\"2004-01-01\",\"2005-01-01\",\"2006-01-01\",\"2007-01-01\",\"2008-01-01\",\"2009-01-01\",\"2010-01-01\",\"2011-01-01\",\"2012-01-01\",\"2013-01-01\",\"2014-01-01\",\"2015-01-01\",\"2016-01-01\",\"2017-01-01\",\"2018-01-01\",\"2019-01-01\",\"2020-01-01\",\"2021-01-01\"],\"xaxis\":\"x\",\"y\":[13796,13986,14089,14685,15104,15332,15859,15478,16257,16349,16923,17140,17245,17889,18800,17880,17511,18456,18649,19455,20006,19862,19309,19511,19331,20630,20539,21556,22300,20655,21567,22406,22598,23739,24079,24814,25451,25847,27676,28713,29635,29341,30397,31173,32607,34397,36326,37158,38693,41352,42070,43266,44283,47047,29054,32604,37624,42866,47498,54089,63682,70980,73722,77370,82107,87565,93638,98925,104299,107191,98629,106822],\"yaxis\":\"y\",\"type\":\"scatter\"},{\"hovertemplate\":\"variable=Per Capita NNI<br>Financial Year=%{x}<br>value=%{y}<extra></extra>\",\"legendgroup\":\"Per Capita NNI\",\"line\":{\"color\":\"#00cc96\",\"dash\":\"solid\"},\"marker\":{\"symbol\":\"circle\"},\"mode\":\"lines\",\"name\":\"Per Capita NNI\",\"orientation\":\"v\",\"showlegend\":true,\"x\":[\"1950-01-01\",\"1951-01-01\",\"1952-01-01\",\"1953-01-01\",\"1954-01-01\",\"1955-01-01\",\"1956-01-01\",\"1957-01-01\",\"1958-01-01\",\"1959-01-01\",\"1960-01-01\",\"1961-01-01\",\"1962-01-01\",\"1963-01-01\",\"1964-01-01\",\"1965-01-01\",\"1966-01-01\",\"1967-01-01\",\"1968-01-01\",\"1969-01-01\",\"1970-01-01\",\"1971-01-01\",\"1972-01-01\",\"1973-01-01\",\"1974-01-01\",\"1975-01-01\",\"1976-01-01\",\"1977-01-01\",\"1978-01-01\",\"1979-01-01\",\"1980-01-01\",\"1981-01-01\",\"1982-01-01\",\"1983-01-01\",\"1984-01-01\",\"1985-01-01\",\"1986-01-01\",\"1987-01-01\",\"1988-01-01\",\"1989-01-01\",\"1990-01-01\",\"1991-01-01\",\"1992-01-01\",\"1993-01-01\",\"1994-01-01\",\"1995-01-01\",\"1996-01-01\",\"1997-01-01\",\"1998-01-01\",\"1999-01-01\",\"2000-01-01\",\"2001-01-01\",\"2002-01-01\",\"2003-01-01\",\"2004-01-01\",\"2005-01-01\",\"2006-01-01\",\"2007-01-01\",\"2008-01-01\",\"2009-01-01\",\"2010-01-01\",\"2011-01-01\",\"2012-01-01\",\"2013-01-01\",\"2014-01-01\",\"2015-01-01\",\"2016-01-01\",\"2017-01-01\",\"2018-01-01\",\"2019-01-01\",\"2020-01-01\",\"2021-01-01\"],\"xaxis\":\"x\",\"y\":[12493,12753,12923,13575,14207,14440,14956,14571,15321,15409,16004,16207,16289,16910,17780,16836,16423,17325,17488,18246,18702,18535,17962,18140,17913,19177,19031,20021,20738,19059,19925,20718,20858,21962,22228,22890,23460,23766,25540,26501,27319,26915,27880,28608,29934,31620,33436,34107,35497,37968,38515,39547,40419,42995,45611,48387,51431,54649,55101,58442,62170,63462,65538,68572,72805,77659,83003,87586,92133,94270,85110,92583],\"yaxis\":\"y\",\"type\":\"scatter\"}],                        {\"template\":{\"data\":{\"histogram2dcontour\":[{\"type\":\"histogram2dcontour\",\"colorbar\":{\"outlinewidth\":0,\"ticks\":\"\"},\"colorscale\":[[0.0,\"#0d0887\"],[0.1111111111111111,\"#46039f\"],[0.2222222222222222,\"#7201a8\"],[0.3333333333333333,\"#9c179e\"],[0.4444444444444444,\"#bd3786\"],[0.5555555555555556,\"#d8576b\"],[0.6666666666666666,\"#ed7953\"],[0.7777777777777778,\"#fb9f3a\"],[0.8888888888888888,\"#fdca26\"],[1.0,\"#f0f921\"]]}],\"choropleth\":[{\"type\":\"choropleth\",\"colorbar\":{\"outlinewidth\":0,\"ticks\":\"\"}}],\"histogram2d\":[{\"type\":\"histogram2d\",\"colorbar\":{\"outlinewidth\":0,\"ticks\":\"\"},\"colorscale\":[[0.0,\"#0d0887\"],[0.1111111111111111,\"#46039f\"],[0.2222222222222222,\"#7201a8\"],[0.3333333333333333,\"#9c179e\"],[0.4444444444444444,\"#bd3786\"],[0.5555555555555556,\"#d8576b\"],[0.6666666666666666,\"#ed7953\"],[0.7777777777777778,\"#fb9f3a\"],[0.8888888888888888,\"#fdca26\"],[1.0,\"#f0f921\"]]}],\"heatmap\":[{\"type\":\"heatmap\",\"colorbar\":{\"outlinewidth\":0,\"ticks\":\"\"},\"colorscale\":[[0.0,\"#0d0887\"],[0.1111111111111111,\"#46039f\"],[0.2222222222222222,\"#7201a8\"],[0.3333333333333333,\"#9c179e\"],[0.4444444444444444,\"#bd3786\"],[0.5555555555555556,\"#d8576b\"],[0.6666666666666666,\"#ed7953\"],[0.7777777777777778,\"#fb9f3a\"],[0.8888888888888888,\"#fdca26\"],[1.0,\"#f0f921\"]]}],\"heatmapgl\":[{\"type\":\"heatmapgl\",\"colorbar\":{\"outlinewidth\":0,\"ticks\":\"\"},\"colorscale\":[[0.0,\"#0d0887\"],[0.1111111111111111,\"#46039f\"],[0.2222222222222222,\"#7201a8\"],[0.3333333333333333,\"#9c179e\"],[0.4444444444444444,\"#bd3786\"],[0.5555555555555556,\"#d8576b\"],[0.6666666666666666,\"#ed7953\"],[0.7777777777777778,\"#fb9f3a\"],[0.8888888888888888,\"#fdca26\"],[1.0,\"#f0f921\"]]}],\"contourcarpet\":[{\"type\":\"contourcarpet\",\"colorbar\":{\"outlinewidth\":0,\"ticks\":\"\"}}],\"contour\":[{\"type\":\"contour\",\"colorbar\":{\"outlinewidth\":0,\"ticks\":\"\"},\"colorscale\":[[0.0,\"#0d0887\"],[0.1111111111111111,\"#46039f\"],[0.2222222222222222,\"#7201a8\"],[0.3333333333333333,\"#9c179e\"],[0.4444444444444444,\"#bd3786\"],[0.5555555555555556,\"#d8576b\"],[0.6666666666666666,\"#ed7953\"],[0.7777777777777778,\"#fb9f3a\"],[0.8888888888888888,\"#fdca26\"],[1.0,\"#f0f921\"]]}],\"surface\":[{\"type\":\"surface\",\"colorbar\":{\"outlinewidth\":0,\"ticks\":\"\"},\"colorscale\":[[0.0,\"#0d0887\"],[0.1111111111111111,\"#46039f\"],[0.2222222222222222,\"#7201a8\"],[0.3333333333333333,\"#9c179e\"],[0.4444444444444444,\"#bd3786\"],[0.5555555555555556,\"#d8576b\"],[0.6666666666666666,\"#ed7953\"],[0.7777777777777778,\"#fb9f3a\"],[0.8888888888888888,\"#fdca26\"],[1.0,\"#f0f921\"]]}],\"mesh3d\":[{\"type\":\"mesh3d\",\"colorbar\":{\"outlinewidth\":0,\"ticks\":\"\"}}],\"scatter\":[{\"fillpattern\":{\"fillmode\":\"overlay\",\"size\":10,\"solidity\":0.2},\"type\":\"scatter\"}],\"parcoords\":[{\"type\":\"parcoords\",\"line\":{\"colorbar\":{\"outlinewidth\":0,\"ticks\":\"\"}}}],\"scatterpolargl\":[{\"type\":\"scatterpolargl\",\"marker\":{\"colorbar\":{\"outlinewidth\":0,\"ticks\":\"\"}}}],\"bar\":[{\"error_x\":{\"color\":\"#2a3f5f\"},\"error_y\":{\"color\":\"#2a3f5f\"},\"marker\":{\"line\":{\"color\":\"#E5ECF6\",\"width\":0.5},\"pattern\":{\"fillmode\":\"overlay\",\"size\":10,\"solidity\":0.2}},\"type\":\"bar\"}],\"scattergeo\":[{\"type\":\"scattergeo\",\"marker\":{\"colorbar\":{\"outlinewidth\":0,\"ticks\":\"\"}}}],\"scatterpolar\":[{\"type\":\"scatterpolar\",\"marker\":{\"colorbar\":{\"outlinewidth\":0,\"ticks\":\"\"}}}],\"histogram\":[{\"marker\":{\"pattern\":{\"fillmode\":\"overlay\",\"size\":10,\"solidity\":0.2}},\"type\":\"histogram\"}],\"scattergl\":[{\"type\":\"scattergl\",\"marker\":{\"colorbar\":{\"outlinewidth\":0,\"ticks\":\"\"}}}],\"scatter3d\":[{\"type\":\"scatter3d\",\"line\":{\"colorbar\":{\"outlinewidth\":0,\"ticks\":\"\"}},\"marker\":{\"colorbar\":{\"outlinewidth\":0,\"ticks\":\"\"}}}],\"scattermapbox\":[{\"type\":\"scattermapbox\",\"marker\":{\"colorbar\":{\"outlinewidth\":0,\"ticks\":\"\"}}}],\"scatterternary\":[{\"type\":\"scatterternary\",\"marker\":{\"colorbar\":{\"outlinewidth\":0,\"ticks\":\"\"}}}],\"scattercarpet\":[{\"type\":\"scattercarpet\",\"marker\":{\"colorbar\":{\"outlinewidth\":0,\"ticks\":\"\"}}}],\"carpet\":[{\"aaxis\":{\"endlinecolor\":\"#2a3f5f\",\"gridcolor\":\"white\",\"linecolor\":\"white\",\"minorgridcolor\":\"white\",\"startlinecolor\":\"#2a3f5f\"},\"baxis\":{\"endlinecolor\":\"#2a3f5f\",\"gridcolor\":\"white\",\"linecolor\":\"white\",\"minorgridcolor\":\"white\",\"startlinecolor\":\"#2a3f5f\"},\"type\":\"carpet\"}],\"table\":[{\"cells\":{\"fill\":{\"color\":\"#EBF0F8\"},\"line\":{\"color\":\"white\"}},\"header\":{\"fill\":{\"color\":\"#C8D4E3\"},\"line\":{\"color\":\"white\"}},\"type\":\"table\"}],\"barpolar\":[{\"marker\":{\"line\":{\"color\":\"#E5ECF6\",\"width\":0.5},\"pattern\":{\"fillmode\":\"overlay\",\"size\":10,\"solidity\":0.2}},\"type\":\"barpolar\"}],\"pie\":[{\"automargin\":true,\"type\":\"pie\"}]},\"layout\":{\"autotypenumbers\":\"strict\",\"colorway\":[\"#636efa\",\"#EF553B\",\"#00cc96\",\"#ab63fa\",\"#FFA15A\",\"#19d3f3\",\"#FF6692\",\"#B6E880\",\"#FF97FF\",\"#FECB52\"],\"font\":{\"color\":\"#2a3f5f\"},\"hovermode\":\"closest\",\"hoverlabel\":{\"align\":\"left\"},\"paper_bgcolor\":\"white\",\"plot_bgcolor\":\"#E5ECF6\",\"polar\":{\"bgcolor\":\"#E5ECF6\",\"angularaxis\":{\"gridcolor\":\"white\",\"linecolor\":\"white\",\"ticks\":\"\"},\"radialaxis\":{\"gridcolor\":\"white\",\"linecolor\":\"white\",\"ticks\":\"\"}},\"ternary\":{\"bgcolor\":\"#E5ECF6\",\"aaxis\":{\"gridcolor\":\"white\",\"linecolor\":\"white\",\"ticks\":\"\"},\"baxis\":{\"gridcolor\":\"white\",\"linecolor\":\"white\",\"ticks\":\"\"},\"caxis\":{\"gridcolor\":\"white\",\"linecolor\":\"white\",\"ticks\":\"\"}},\"coloraxis\":{\"colorbar\":{\"outlinewidth\":0,\"ticks\":\"\"}},\"colorscale\":{\"sequential\":[[0.0,\"#0d0887\"],[0.1111111111111111,\"#46039f\"],[0.2222222222222222,\"#7201a8\"],[0.3333333333333333,\"#9c179e\"],[0.4444444444444444,\"#bd3786\"],[0.5555555555555556,\"#d8576b\"],[0.6666666666666666,\"#ed7953\"],[0.7777777777777778,\"#fb9f3a\"],[0.8888888888888888,\"#fdca26\"],[1.0,\"#f0f921\"]],\"sequentialminus\":[[0.0,\"#0d0887\"],[0.1111111111111111,\"#46039f\"],[0.2222222222222222,\"#7201a8\"],[0.3333333333333333,\"#9c179e\"],[0.4444444444444444,\"#bd3786\"],[0.5555555555555556,\"#d8576b\"],[0.6666666666666666,\"#ed7953\"],[0.7777777777777778,\"#fb9f3a\"],[0.8888888888888888,\"#fdca26\"],[1.0,\"#f0f921\"]],\"diverging\":[[0,\"#8e0152\"],[0.1,\"#c51b7d\"],[0.2,\"#de77ae\"],[0.3,\"#f1b6da\"],[0.4,\"#fde0ef\"],[0.5,\"#f7f7f7\"],[0.6,\"#e6f5d0\"],[0.7,\"#b8e186\"],[0.8,\"#7fbc41\"],[0.9,\"#4d9221\"],[1,\"#276419\"]]},\"xaxis\":{\"gridcolor\":\"white\",\"linecolor\":\"white\",\"ticks\":\"\",\"title\":{\"standoff\":15},\"zerolinecolor\":\"white\",\"automargin\":true,\"zerolinewidth\":2},\"yaxis\":{\"gridcolor\":\"white\",\"linecolor\":\"white\",\"ticks\":\"\",\"title\":{\"standoff\":15},\"zerolinecolor\":\"white\",\"automargin\":true,\"zerolinewidth\":2},\"scene\":{\"xaxis\":{\"backgroundcolor\":\"#E5ECF6\",\"gridcolor\":\"white\",\"linecolor\":\"white\",\"showbackground\":true,\"ticks\":\"\",\"zerolinecolor\":\"white\",\"gridwidth\":2},\"yaxis\":{\"backgroundcolor\":\"#E5ECF6\",\"gridcolor\":\"white\",\"linecolor\":\"white\",\"showbackground\":true,\"ticks\":\"\",\"zerolinecolor\":\"white\",\"gridwidth\":2},\"zaxis\":{\"backgroundcolor\":\"#E5ECF6\",\"gridcolor\":\"white\",\"linecolor\":\"white\",\"showbackground\":true,\"ticks\":\"\",\"zerolinecolor\":\"white\",\"gridwidth\":2}},\"shapedefaults\":{\"line\":{\"color\":\"#2a3f5f\"}},\"annotationdefaults\":{\"arrowcolor\":\"#2a3f5f\",\"arrowhead\":0,\"arrowwidth\":1},\"geo\":{\"bgcolor\":\"white\",\"landcolor\":\"#E5ECF6\",\"subunitcolor\":\"white\",\"showland\":true,\"showlakes\":true,\"lakecolor\":\"white\"},\"title\":{\"x\":0.05},\"mapbox\":{\"style\":\"light\"}}},\"xaxis\":{\"anchor\":\"y\",\"domain\":[0.0,1.0],\"title\":{\"text\":\"Year\"}},\"yaxis\":{\"anchor\":\"x\",\"domain\":[0.0,1.0],\"title\":{\"text\":\"Value(Rupees Crore)\"}},\"legend\":{\"title\":{\"text\":\"variable\"},\"tracegroupgap\":0},\"title\":{\"text\":\"Macroeconomic Aggregates(At Constant Prices Base Year 2011-12)\"}},                        {\"responsive\": true}                    ).then(function(){\n",
       "                            \n",
       "var gd = document.getElementById('198a2fff-f430-473d-818a-a15d3fc916c3');\n",
       "var x = new MutationObserver(function (mutations, observer) {{\n",
       "        var display = window.getComputedStyle(gd).display;\n",
       "        if (!display || display === 'none') {{\n",
       "            console.log([gd, 'removed!']);\n",
       "            Plotly.purge(gd);\n",
       "            observer.disconnect();\n",
       "        }}\n",
       "}});\n",
       "\n",
       "// Listen for the removal of the full notebook cells\n",
       "var notebookContainer = gd.closest('#notebook-container');\n",
       "if (notebookContainer) {{\n",
       "    x.observe(notebookContainer, {childList: true});\n",
       "}}\n",
       "\n",
       "// Listen for the clearing of the current output cell\n",
       "var outputEl = gd.closest('.output');\n",
       "if (outputEl) {{\n",
       "    x.observe(outputEl, {childList: true});\n",
       "}}\n",
       "\n",
       "                        })                };                });            </script>        </div>"
      ]
     },
     "metadata": {},
     "output_type": "display_data"
    }
   ],
   "source": [
    "gdp_gni_nni = pd.read_csv('Final/gdp_gni_nni_final.csv')\n",
    "title = 'Macroeconomic Aggregates(At Constant Prices Base Year 2011-12)'\n",
    "fig = px.line(gdp_gni_nni, x='Financial Year', y=[ 'Net taxes on Products',\n",
    "       'Gross Domestic Product', 'Gross National Income',\n",
    "       'Net National Income'], title=title)\n",
    "fig.show()\n",
    "fig = px.line(gdp_gni_nni, x='Financial Year', y=['Per Capita GDP', 'Per Capita GNI',\n",
    "       'Per Capita NNI'], title=title)\n",
    "fig.update_layout(xaxis_title='Year', yaxis_title='Value(Rupees Crore)')\n",
    "\n",
    "fig.show()\n"
   ]
  },
  {
   "attachments": {},
   "cell_type": "markdown",
   "metadata": {},
   "source": [
    "As expected, we see that the all of the aggregates has been rising over the years. The growth rates have also been positive for most of the years. During COVID there was a lockdown, and most of the ecnomic activities were stopped. This led to a negative growth rate in 2020 and a slight dip in values of the aggregates. However, the economy has recovered and we see a positive growth rate in 2021.  We also see that the GDP has sharply increased after the 1990 which we believe is due to the liberalisation policy."
   ]
  },
  {
   "attachments": {},
   "cell_type": "markdown",
   "metadata": {},
   "source": [
    "# Annual Growth Rates"
   ]
  },
  {
   "cell_type": "code",
   "execution_count": 20,
   "metadata": {},
   "outputs": [
    {
     "data": {
      "application/vnd.plotly.v1+json": {
       "config": {
        "plotlyServerURL": "https://plot.ly"
       },
       "data": [
        {
         "hovertemplate": "variable=Gross Domestic Product<br>Financial Year=%{x}<br>value=%{y}<extra></extra>",
         "legendgroup": "Gross Domestic Product",
         "line": {
          "color": "#636efa",
          "dash": "solid"
         },
         "marker": {
          "symbol": "circle"
         },
         "mode": "lines",
         "name": "Gross Domestic Product",
         "orientation": "v",
         "showlegend": true,
         "type": "scatter",
         "x": [
          "2021-01-01",
          "2020-01-01",
          "2019-01-01",
          "2018-01-01",
          "2017-01-01",
          "2016-01-01",
          "2015-01-01",
          "2014-01-01",
          "2013-01-01",
          "2012-01-01",
          "2011-01-01",
          "2010-01-01",
          "2009-01-01",
          "2008-01-01",
          "2007-01-01",
          "2006-01-01",
          "2005-01-01",
          "2004-01-01",
          "2003-01-01",
          "2002-01-01",
          "2001-01-01",
          "2000-01-01",
          "1999-01-01",
          "1998-01-01",
          "1997-01-01",
          "1996-01-01",
          "1995-01-01",
          "1994-01-01",
          "1993-01-01",
          "1992-01-01",
          "1991-01-01",
          "1990-01-01",
          "1989-01-01",
          "1988-01-01",
          "1987-01-01",
          "1986-01-01",
          "1985-01-01",
          "1984-01-01",
          "1983-01-01",
          "1982-01-01",
          "1981-01-01",
          "1980-01-01",
          "1979-01-01",
          "1978-01-01",
          "1977-01-01",
          "1976-01-01",
          "1975-01-01",
          "1974-01-01",
          "1973-01-01",
          "1972-01-01",
          "1971-01-01",
          "1970-01-01",
          "1969-01-01",
          "1968-01-01",
          "1967-01-01",
          "1966-01-01",
          "1965-01-01",
          "1964-01-01",
          "1963-01-01",
          "1962-01-01",
          "1961-01-01",
          "1960-01-01"
         ],
         "xaxis": "x",
         "y": [
          8.7,
          -6.6,
          3.7,
          6.5,
          6.8,
          8.3,
          8,
          7.4,
          6.4,
          5.5,
          5.2,
          8.5,
          7.9,
          3.1,
          7.7,
          8.1,
          7.9,
          7.9,
          7.9,
          3.8,
          4.8,
          3.8,
          8.8,
          6.2,
          4,
          7.5,
          7.6,
          6.7,
          4.8,
          5.5,
          1.1,
          5.5,
          5.9,
          9.6,
          4,
          4.8,
          5.3,
          3.8,
          7.3,
          3.5,
          6,
          6.7,
          -5.2,
          5.7,
          7.3,
          1.7,
          9.1,
          1.2,
          3.3,
          -0.6,
          1.6,
          5.2,
          6.5,
          3.4,
          7.8,
          -0.1,
          -2.6,
          7.5,
          6,
          2.9,
          3.7,
          5.5
         ],
         "yaxis": "y"
        },
        {
         "hovertemplate": "variable=Gross National Income<br>Financial Year=%{x}<br>value=%{y}<extra></extra>",
         "legendgroup": "Gross National Income",
         "line": {
          "color": "#EF553B",
          "dash": "solid"
         },
         "marker": {
          "symbol": "circle"
         },
         "mode": "lines",
         "name": "Gross National Income",
         "orientation": "v",
         "showlegend": true,
         "type": "scatter",
         "x": [
          "2021-01-01",
          "2020-01-01",
          "2019-01-01",
          "2018-01-01",
          "2017-01-01",
          "2016-01-01",
          "2015-01-01",
          "2014-01-01",
          "2013-01-01",
          "2012-01-01",
          "2011-01-01",
          "2010-01-01",
          "2009-01-01",
          "2008-01-01",
          "2007-01-01",
          "2006-01-01",
          "2005-01-01",
          "2004-01-01",
          "2003-01-01",
          "2002-01-01",
          "2001-01-01",
          "2000-01-01",
          "1999-01-01",
          "1998-01-01",
          "1997-01-01",
          "1996-01-01",
          "1995-01-01",
          "1994-01-01",
          "1993-01-01",
          "1992-01-01",
          "1991-01-01",
          "1990-01-01",
          "1989-01-01",
          "1988-01-01",
          "1987-01-01",
          "1986-01-01",
          "1985-01-01",
          "1984-01-01",
          "1983-01-01",
          "1982-01-01",
          "1981-01-01",
          "1980-01-01",
          "1979-01-01",
          "1978-01-01",
          "1977-01-01",
          "1976-01-01",
          "1975-01-01",
          "1974-01-01",
          "1973-01-01",
          "1972-01-01",
          "1971-01-01",
          "1970-01-01",
          "1969-01-01",
          "1968-01-01",
          "1967-01-01",
          "1966-01-01",
          "1965-01-01",
          "1964-01-01",
          "1963-01-01",
          "1962-01-01",
          "1961-01-01",
          "1960-01-01"
         ],
         "xaxis": "x",
         "y": [
          8.5,
          -7,
          3.9,
          6.5,
          6.9,
          8.3,
          8,
          7.5,
          6.3,
          5.1,
          5.5,
          8,
          7.9,
          2.9,
          8,
          8,
          7.9,
          7.9,
          7.9,
          3.9,
          5,
          3.6,
          8.8,
          6.2,
          4.2,
          7.7,
          7.6,
          6.7,
          4.9,
          5.5,
          1,
          5.3,
          5.9,
          9.4,
          3.8,
          4.7,
          5.3,
          3.7,
          7.3,
          3.2,
          5.9,
          6.8,
          -5.1,
          5.7,
          7.3,
          1.7,
          9.2,
          1.3,
          3.4,
          -0.5,
          1.7,
          5.2,
          6.5,
          3.4,
          7.7,
          0,
          -2.7,
          7.4,
          6,
          2.9,
          3.6,
          5.5
         ],
         "yaxis": "y"
        },
        {
         "hovertemplate": "variable=Net National Income<br>Financial Year=%{x}<br>value=%{y}<extra></extra>",
         "legendgroup": "Net National Income",
         "line": {
          "color": "#00cc96",
          "dash": "solid"
         },
         "marker": {
          "symbol": "circle"
         },
         "mode": "lines",
         "name": "Net National Income",
         "orientation": "v",
         "showlegend": true,
         "type": "scatter",
         "x": [
          "2021-01-01",
          "2020-01-01",
          "2019-01-01",
          "2018-01-01",
          "2017-01-01",
          "2016-01-01",
          "2015-01-01",
          "2014-01-01",
          "2013-01-01",
          "2012-01-01",
          "2011-01-01",
          "2010-01-01",
          "2009-01-01",
          "2008-01-01",
          "2007-01-01",
          "2006-01-01",
          "2005-01-01",
          "2004-01-01",
          "2003-01-01",
          "2002-01-01",
          "2001-01-01",
          "2000-01-01",
          "1999-01-01",
          "1998-01-01",
          "1997-01-01",
          "1996-01-01",
          "1995-01-01",
          "1994-01-01",
          "1993-01-01",
          "1992-01-01",
          "1991-01-01",
          "1990-01-01",
          "1989-01-01",
          "1988-01-01",
          "1987-01-01",
          "1986-01-01",
          "1985-01-01",
          "1984-01-01",
          "1983-01-01",
          "1982-01-01",
          "1981-01-01",
          "1980-01-01",
          "1979-01-01",
          "1978-01-01",
          "1977-01-01",
          "1976-01-01",
          "1975-01-01",
          "1974-01-01",
          "1973-01-01",
          "1972-01-01",
          "1971-01-01",
          "1970-01-01",
          "1969-01-01",
          "1968-01-01",
          "1967-01-01",
          "1966-01-01",
          "1965-01-01",
          "1964-01-01",
          "1963-01-01",
          "1962-01-01",
          "1961-01-01",
          "1960-01-01"
         ],
         "xaxis": "x",
         "y": [
          8.5,
          -8.7,
          3.4,
          6.2,
          6.7,
          8.2,
          8,
          7.5,
          6,
          4.5,
          5,
          7.8,
          7.5,
          2.2,
          7.8,
          7.8,
          7.7,
          7.8,
          8,
          3.8,
          4.8,
          3.3,
          8.9,
          6.1,
          3.9,
          7.8,
          7.7,
          6.7,
          5,
          5.5,
          0.5,
          5.2,
          6,
          9.8,
          3.5,
          4.7,
          5.2,
          3.4,
          7.5,
          3,
          6,
          6.9,
          -5.8,
          5.9,
          7.6,
          1.4,
          9.6,
          1,
          3.3,
          -0.8,
          1.5,
          4.8,
          6.5,
          3.3,
          7.8,
          -0.4,
          -3.1,
          7.4,
          6.1,
          2.8,
          3.6,
          5.8
         ],
         "yaxis": "y"
        },
        {
         "hovertemplate": "variable=Per Capita NNI<br>Financial Year=%{x}<br>value=%{y}<extra></extra>",
         "legendgroup": "Per Capita NNI",
         "line": {
          "color": "#ab63fa",
          "dash": "solid"
         },
         "marker": {
          "symbol": "circle"
         },
         "mode": "lines",
         "name": "Per Capita NNI",
         "orientation": "v",
         "showlegend": true,
         "type": "scatter",
         "x": [
          "2021-01-01",
          "2020-01-01",
          "2019-01-01",
          "2018-01-01",
          "2017-01-01",
          "2016-01-01",
          "2015-01-01",
          "2014-01-01",
          "2013-01-01",
          "2012-01-01",
          "2011-01-01",
          "2010-01-01",
          "2009-01-01",
          "2008-01-01",
          "2007-01-01",
          "2006-01-01",
          "2005-01-01",
          "2004-01-01",
          "2003-01-01",
          "2002-01-01",
          "2001-01-01",
          "2000-01-01",
          "1999-01-01",
          "1998-01-01",
          "1997-01-01",
          "1996-01-01",
          "1995-01-01",
          "1994-01-01",
          "1993-01-01",
          "1992-01-01",
          "1991-01-01",
          "1990-01-01",
          "1989-01-01",
          "1988-01-01",
          "1987-01-01",
          "1986-01-01",
          "1985-01-01",
          "1984-01-01",
          "1983-01-01",
          "1982-01-01",
          "1981-01-01",
          "1980-01-01",
          "1979-01-01",
          "1978-01-01",
          "1977-01-01",
          "1976-01-01",
          "1975-01-01",
          "1974-01-01",
          "1973-01-01",
          "1972-01-01",
          "1971-01-01",
          "1970-01-01",
          "1969-01-01",
          "1968-01-01",
          "1967-01-01",
          "1966-01-01",
          "1965-01-01",
          "1964-01-01",
          "1963-01-01",
          "1962-01-01",
          "1961-01-01",
          "1960-01-01"
         ],
         "xaxis": "x",
         "y": [
          7.5,
          -9.7,
          2.3,
          5.2,
          5.5,
          6.9,
          6.7,
          6.2,
          4.6,
          3.3,
          2.1,
          6.4,
          6.1,
          0.8,
          6.3,
          6.3,
          6.1,
          6.1,
          6.4,
          2.2,
          2.7,
          1.4,
          7,
          4.1,
          2,
          5.7,
          5.6,
          4.6,
          2.6,
          3.6,
          -1.5,
          3.1,
          3.8,
          7.5,
          1.3,
          2.5,
          3,
          1.2,
          5.3,
          0.7,
          4,
          4.5,
          -8.1,
          3.6,
          5.2,
          -0.8,
          7.1,
          -1.2,
          1,
          -3.1,
          -0.9,
          2.5,
          4.3,
          0.9,
          5.5,
          -2.5,
          -5.3,
          5.1,
          3.8,
          0.5,
          1.3,
          3.9
         ],
         "yaxis": "y"
        },
        {
         "hovertemplate": "variable=Gross Capital Formation<br>Financial Year=%{x}<br>value=%{y}<extra></extra>",
         "legendgroup": "Gross Capital Formation",
         "line": {
          "color": "#FFA15A",
          "dash": "solid"
         },
         "marker": {
          "symbol": "circle"
         },
         "mode": "lines",
         "name": "Gross Capital Formation",
         "orientation": "v",
         "showlegend": true,
         "type": "scatter",
         "x": [
          "2021-01-01",
          "2020-01-01",
          "2019-01-01",
          "2018-01-01",
          "2017-01-01",
          "2016-01-01",
          "2015-01-01",
          "2014-01-01",
          "2013-01-01",
          "2012-01-01",
          "2011-01-01",
          "2010-01-01",
          "2009-01-01",
          "2008-01-01",
          "2007-01-01",
          "2006-01-01",
          "2005-01-01",
          "2004-01-01",
          "2003-01-01",
          "2002-01-01",
          "2001-01-01",
          "2000-01-01",
          "1999-01-01",
          "1998-01-01",
          "1997-01-01",
          "1996-01-01",
          "1995-01-01",
          "1994-01-01",
          "1993-01-01",
          "1992-01-01",
          "1991-01-01",
          "1990-01-01",
          "1989-01-01",
          "1988-01-01",
          "1987-01-01",
          "1986-01-01",
          "1985-01-01",
          "1984-01-01",
          "1983-01-01",
          "1982-01-01",
          "1981-01-01",
          "1980-01-01",
          "1979-01-01",
          "1978-01-01",
          "1977-01-01",
          "1976-01-01",
          "1975-01-01",
          "1974-01-01",
          "1973-01-01",
          "1972-01-01",
          "1971-01-01",
          "1970-01-01",
          "1969-01-01",
          "1968-01-01",
          "1967-01-01",
          "1966-01-01",
          "1965-01-01",
          "1964-01-01",
          "1963-01-01",
          "1962-01-01",
          "1961-01-01",
          "1960-01-01"
         ],
         "xaxis": "x",
         "y": [
          null,
          31.5,
          34.1,
          37.3,
          37.5,
          34.9,
          34.5,
          34.8,
          35.2,
          39.5,
          39,
          40.1,
          36.2,
          34.6,
          38.7,
          33.5,
          32.9,
          29.7,
          25.2,
          23.5,
          22.6,
          22.7,
          24.9,
          23.1,
          23.6,
          21.4,
          22.8,
          22.8,
          20.3,
          20.8,
          19.4,
          23.5,
          20.9,
          20.5,
          20,
          18.4,
          18.6,
          18.1,
          17.9,
          18,
          18.1,
          20.3,
          19.9,
          21.4,
          19,
          17.5,
          15,
          18.2,
          19.4,
          16.8,
          17.5,
          16.4,
          17.3,
          16.6,
          17.5,
          19.7,
          18.8,
          16.6,
          16.2,
          15.9,
          14.4,
          15.1
         ],
         "yaxis": "y"
        },
        {
         "hovertemplate": "variable=Net Capital Formation<br>Financial Year=%{x}<br>value=%{y}<extra></extra>",
         "legendgroup": "Net Capital Formation",
         "line": {
          "color": "#19d3f3",
          "dash": "solid"
         },
         "marker": {
          "symbol": "circle"
         },
         "mode": "lines",
         "name": "Net Capital Formation",
         "orientation": "v",
         "showlegend": true,
         "type": "scatter",
         "x": [
          "2021-01-01",
          "2020-01-01",
          "2019-01-01",
          "2018-01-01",
          "2017-01-01",
          "2016-01-01",
          "2015-01-01",
          "2014-01-01",
          "2013-01-01",
          "2012-01-01",
          "2011-01-01",
          "2010-01-01",
          "2009-01-01",
          "2008-01-01",
          "2007-01-01",
          "2006-01-01",
          "2005-01-01",
          "2004-01-01",
          "2003-01-01",
          "2002-01-01",
          "2001-01-01",
          "2000-01-01",
          "1999-01-01",
          "1998-01-01",
          "1997-01-01",
          "1996-01-01",
          "1995-01-01",
          "1994-01-01",
          "1993-01-01",
          "1992-01-01",
          "1991-01-01",
          "1990-01-01",
          "1989-01-01",
          "1988-01-01",
          "1987-01-01",
          "1986-01-01",
          "1985-01-01",
          "1984-01-01",
          "1983-01-01",
          "1982-01-01",
          "1981-01-01",
          "1980-01-01",
          "1979-01-01",
          "1978-01-01",
          "1977-01-01",
          "1976-01-01",
          "1975-01-01",
          "1974-01-01",
          "1973-01-01",
          "1972-01-01",
          "1971-01-01",
          "1970-01-01",
          "1969-01-01",
          "1968-01-01",
          "1967-01-01",
          "1966-01-01",
          "1965-01-01",
          "1964-01-01",
          "1963-01-01",
          "1962-01-01",
          "1961-01-01",
          "1960-01-01"
         ],
         "xaxis": "x",
         "y": [
          null,
          18,
          22.2,
          25.8,
          26.1,
          23.7,
          23.3,
          23.6,
          24,
          28.5,
          28.5,
          30,
          26.2,
          24.9,
          29.5,
          24.6,
          24.1,
          21.1,
          16.6,
          14.8,
          14.1,
          14.3,
          16.8,
          14.9,
          15.5,
          13.5,
          14.8,
          14.6,
          12.2,
          12.6,
          11.3,
          15.8,
          13.3,
          12.8,
          12,
          10.6,
          10.9,
          10.5,
          10.5,
          10.3,
          10.5,
          12.7,
          12.2,
          14.4,
          11.9,
          10.1,
          8,
          10.9,
          12.4,
          9.9,
          10.9,
          9.9,
          11.1,
          10.4,
          11.4,
          13.5,
          13,
          11.2,
          10.7,
          10.4,
          8.9,
          9.6
         ],
         "yaxis": "y"
        }
       ],
       "layout": {
        "legend": {
         "title": {
          "text": "variable"
         },
         "tracegroupgap": 0
        },
        "template": {
         "data": {
          "bar": [
           {
            "error_x": {
             "color": "#2a3f5f"
            },
            "error_y": {
             "color": "#2a3f5f"
            },
            "marker": {
             "line": {
              "color": "#E5ECF6",
              "width": 0.5
             },
             "pattern": {
              "fillmode": "overlay",
              "size": 10,
              "solidity": 0.2
             }
            },
            "type": "bar"
           }
          ],
          "barpolar": [
           {
            "marker": {
             "line": {
              "color": "#E5ECF6",
              "width": 0.5
             },
             "pattern": {
              "fillmode": "overlay",
              "size": 10,
              "solidity": 0.2
             }
            },
            "type": "barpolar"
           }
          ],
          "carpet": [
           {
            "aaxis": {
             "endlinecolor": "#2a3f5f",
             "gridcolor": "white",
             "linecolor": "white",
             "minorgridcolor": "white",
             "startlinecolor": "#2a3f5f"
            },
            "baxis": {
             "endlinecolor": "#2a3f5f",
             "gridcolor": "white",
             "linecolor": "white",
             "minorgridcolor": "white",
             "startlinecolor": "#2a3f5f"
            },
            "type": "carpet"
           }
          ],
          "choropleth": [
           {
            "colorbar": {
             "outlinewidth": 0,
             "ticks": ""
            },
            "type": "choropleth"
           }
          ],
          "contour": [
           {
            "colorbar": {
             "outlinewidth": 0,
             "ticks": ""
            },
            "colorscale": [
             [
              0,
              "#0d0887"
             ],
             [
              0.1111111111111111,
              "#46039f"
             ],
             [
              0.2222222222222222,
              "#7201a8"
             ],
             [
              0.3333333333333333,
              "#9c179e"
             ],
             [
              0.4444444444444444,
              "#bd3786"
             ],
             [
              0.5555555555555556,
              "#d8576b"
             ],
             [
              0.6666666666666666,
              "#ed7953"
             ],
             [
              0.7777777777777778,
              "#fb9f3a"
             ],
             [
              0.8888888888888888,
              "#fdca26"
             ],
             [
              1,
              "#f0f921"
             ]
            ],
            "type": "contour"
           }
          ],
          "contourcarpet": [
           {
            "colorbar": {
             "outlinewidth": 0,
             "ticks": ""
            },
            "type": "contourcarpet"
           }
          ],
          "heatmap": [
           {
            "colorbar": {
             "outlinewidth": 0,
             "ticks": ""
            },
            "colorscale": [
             [
              0,
              "#0d0887"
             ],
             [
              0.1111111111111111,
              "#46039f"
             ],
             [
              0.2222222222222222,
              "#7201a8"
             ],
             [
              0.3333333333333333,
              "#9c179e"
             ],
             [
              0.4444444444444444,
              "#bd3786"
             ],
             [
              0.5555555555555556,
              "#d8576b"
             ],
             [
              0.6666666666666666,
              "#ed7953"
             ],
             [
              0.7777777777777778,
              "#fb9f3a"
             ],
             [
              0.8888888888888888,
              "#fdca26"
             ],
             [
              1,
              "#f0f921"
             ]
            ],
            "type": "heatmap"
           }
          ],
          "heatmapgl": [
           {
            "colorbar": {
             "outlinewidth": 0,
             "ticks": ""
            },
            "colorscale": [
             [
              0,
              "#0d0887"
             ],
             [
              0.1111111111111111,
              "#46039f"
             ],
             [
              0.2222222222222222,
              "#7201a8"
             ],
             [
              0.3333333333333333,
              "#9c179e"
             ],
             [
              0.4444444444444444,
              "#bd3786"
             ],
             [
              0.5555555555555556,
              "#d8576b"
             ],
             [
              0.6666666666666666,
              "#ed7953"
             ],
             [
              0.7777777777777778,
              "#fb9f3a"
             ],
             [
              0.8888888888888888,
              "#fdca26"
             ],
             [
              1,
              "#f0f921"
             ]
            ],
            "type": "heatmapgl"
           }
          ],
          "histogram": [
           {
            "marker": {
             "pattern": {
              "fillmode": "overlay",
              "size": 10,
              "solidity": 0.2
             }
            },
            "type": "histogram"
           }
          ],
          "histogram2d": [
           {
            "colorbar": {
             "outlinewidth": 0,
             "ticks": ""
            },
            "colorscale": [
             [
              0,
              "#0d0887"
             ],
             [
              0.1111111111111111,
              "#46039f"
             ],
             [
              0.2222222222222222,
              "#7201a8"
             ],
             [
              0.3333333333333333,
              "#9c179e"
             ],
             [
              0.4444444444444444,
              "#bd3786"
             ],
             [
              0.5555555555555556,
              "#d8576b"
             ],
             [
              0.6666666666666666,
              "#ed7953"
             ],
             [
              0.7777777777777778,
              "#fb9f3a"
             ],
             [
              0.8888888888888888,
              "#fdca26"
             ],
             [
              1,
              "#f0f921"
             ]
            ],
            "type": "histogram2d"
           }
          ],
          "histogram2dcontour": [
           {
            "colorbar": {
             "outlinewidth": 0,
             "ticks": ""
            },
            "colorscale": [
             [
              0,
              "#0d0887"
             ],
             [
              0.1111111111111111,
              "#46039f"
             ],
             [
              0.2222222222222222,
              "#7201a8"
             ],
             [
              0.3333333333333333,
              "#9c179e"
             ],
             [
              0.4444444444444444,
              "#bd3786"
             ],
             [
              0.5555555555555556,
              "#d8576b"
             ],
             [
              0.6666666666666666,
              "#ed7953"
             ],
             [
              0.7777777777777778,
              "#fb9f3a"
             ],
             [
              0.8888888888888888,
              "#fdca26"
             ],
             [
              1,
              "#f0f921"
             ]
            ],
            "type": "histogram2dcontour"
           }
          ],
          "mesh3d": [
           {
            "colorbar": {
             "outlinewidth": 0,
             "ticks": ""
            },
            "type": "mesh3d"
           }
          ],
          "parcoords": [
           {
            "line": {
             "colorbar": {
              "outlinewidth": 0,
              "ticks": ""
             }
            },
            "type": "parcoords"
           }
          ],
          "pie": [
           {
            "automargin": true,
            "type": "pie"
           }
          ],
          "scatter": [
           {
            "fillpattern": {
             "fillmode": "overlay",
             "size": 10,
             "solidity": 0.2
            },
            "type": "scatter"
           }
          ],
          "scatter3d": [
           {
            "line": {
             "colorbar": {
              "outlinewidth": 0,
              "ticks": ""
             }
            },
            "marker": {
             "colorbar": {
              "outlinewidth": 0,
              "ticks": ""
             }
            },
            "type": "scatter3d"
           }
          ],
          "scattercarpet": [
           {
            "marker": {
             "colorbar": {
              "outlinewidth": 0,
              "ticks": ""
             }
            },
            "type": "scattercarpet"
           }
          ],
          "scattergeo": [
           {
            "marker": {
             "colorbar": {
              "outlinewidth": 0,
              "ticks": ""
             }
            },
            "type": "scattergeo"
           }
          ],
          "scattergl": [
           {
            "marker": {
             "colorbar": {
              "outlinewidth": 0,
              "ticks": ""
             }
            },
            "type": "scattergl"
           }
          ],
          "scattermapbox": [
           {
            "marker": {
             "colorbar": {
              "outlinewidth": 0,
              "ticks": ""
             }
            },
            "type": "scattermapbox"
           }
          ],
          "scatterpolar": [
           {
            "marker": {
             "colorbar": {
              "outlinewidth": 0,
              "ticks": ""
             }
            },
            "type": "scatterpolar"
           }
          ],
          "scatterpolargl": [
           {
            "marker": {
             "colorbar": {
              "outlinewidth": 0,
              "ticks": ""
             }
            },
            "type": "scatterpolargl"
           }
          ],
          "scatterternary": [
           {
            "marker": {
             "colorbar": {
              "outlinewidth": 0,
              "ticks": ""
             }
            },
            "type": "scatterternary"
           }
          ],
          "surface": [
           {
            "colorbar": {
             "outlinewidth": 0,
             "ticks": ""
            },
            "colorscale": [
             [
              0,
              "#0d0887"
             ],
             [
              0.1111111111111111,
              "#46039f"
             ],
             [
              0.2222222222222222,
              "#7201a8"
             ],
             [
              0.3333333333333333,
              "#9c179e"
             ],
             [
              0.4444444444444444,
              "#bd3786"
             ],
             [
              0.5555555555555556,
              "#d8576b"
             ],
             [
              0.6666666666666666,
              "#ed7953"
             ],
             [
              0.7777777777777778,
              "#fb9f3a"
             ],
             [
              0.8888888888888888,
              "#fdca26"
             ],
             [
              1,
              "#f0f921"
             ]
            ],
            "type": "surface"
           }
          ],
          "table": [
           {
            "cells": {
             "fill": {
              "color": "#EBF0F8"
             },
             "line": {
              "color": "white"
             }
            },
            "header": {
             "fill": {
              "color": "#C8D4E3"
             },
             "line": {
              "color": "white"
             }
            },
            "type": "table"
           }
          ]
         },
         "layout": {
          "annotationdefaults": {
           "arrowcolor": "#2a3f5f",
           "arrowhead": 0,
           "arrowwidth": 1
          },
          "autotypenumbers": "strict",
          "coloraxis": {
           "colorbar": {
            "outlinewidth": 0,
            "ticks": ""
           }
          },
          "colorscale": {
           "diverging": [
            [
             0,
             "#8e0152"
            ],
            [
             0.1,
             "#c51b7d"
            ],
            [
             0.2,
             "#de77ae"
            ],
            [
             0.3,
             "#f1b6da"
            ],
            [
             0.4,
             "#fde0ef"
            ],
            [
             0.5,
             "#f7f7f7"
            ],
            [
             0.6,
             "#e6f5d0"
            ],
            [
             0.7,
             "#b8e186"
            ],
            [
             0.8,
             "#7fbc41"
            ],
            [
             0.9,
             "#4d9221"
            ],
            [
             1,
             "#276419"
            ]
           ],
           "sequential": [
            [
             0,
             "#0d0887"
            ],
            [
             0.1111111111111111,
             "#46039f"
            ],
            [
             0.2222222222222222,
             "#7201a8"
            ],
            [
             0.3333333333333333,
             "#9c179e"
            ],
            [
             0.4444444444444444,
             "#bd3786"
            ],
            [
             0.5555555555555556,
             "#d8576b"
            ],
            [
             0.6666666666666666,
             "#ed7953"
            ],
            [
             0.7777777777777778,
             "#fb9f3a"
            ],
            [
             0.8888888888888888,
             "#fdca26"
            ],
            [
             1,
             "#f0f921"
            ]
           ],
           "sequentialminus": [
            [
             0,
             "#0d0887"
            ],
            [
             0.1111111111111111,
             "#46039f"
            ],
            [
             0.2222222222222222,
             "#7201a8"
            ],
            [
             0.3333333333333333,
             "#9c179e"
            ],
            [
             0.4444444444444444,
             "#bd3786"
            ],
            [
             0.5555555555555556,
             "#d8576b"
            ],
            [
             0.6666666666666666,
             "#ed7953"
            ],
            [
             0.7777777777777778,
             "#fb9f3a"
            ],
            [
             0.8888888888888888,
             "#fdca26"
            ],
            [
             1,
             "#f0f921"
            ]
           ]
          },
          "colorway": [
           "#636efa",
           "#EF553B",
           "#00cc96",
           "#ab63fa",
           "#FFA15A",
           "#19d3f3",
           "#FF6692",
           "#B6E880",
           "#FF97FF",
           "#FECB52"
          ],
          "font": {
           "color": "#2a3f5f"
          },
          "geo": {
           "bgcolor": "white",
           "lakecolor": "white",
           "landcolor": "#E5ECF6",
           "showlakes": true,
           "showland": true,
           "subunitcolor": "white"
          },
          "hoverlabel": {
           "align": "left"
          },
          "hovermode": "closest",
          "mapbox": {
           "style": "light"
          },
          "paper_bgcolor": "white",
          "plot_bgcolor": "#E5ECF6",
          "polar": {
           "angularaxis": {
            "gridcolor": "white",
            "linecolor": "white",
            "ticks": ""
           },
           "bgcolor": "#E5ECF6",
           "radialaxis": {
            "gridcolor": "white",
            "linecolor": "white",
            "ticks": ""
           }
          },
          "scene": {
           "xaxis": {
            "backgroundcolor": "#E5ECF6",
            "gridcolor": "white",
            "gridwidth": 2,
            "linecolor": "white",
            "showbackground": true,
            "ticks": "",
            "zerolinecolor": "white"
           },
           "yaxis": {
            "backgroundcolor": "#E5ECF6",
            "gridcolor": "white",
            "gridwidth": 2,
            "linecolor": "white",
            "showbackground": true,
            "ticks": "",
            "zerolinecolor": "white"
           },
           "zaxis": {
            "backgroundcolor": "#E5ECF6",
            "gridcolor": "white",
            "gridwidth": 2,
            "linecolor": "white",
            "showbackground": true,
            "ticks": "",
            "zerolinecolor": "white"
           }
          },
          "shapedefaults": {
           "line": {
            "color": "#2a3f5f"
           }
          },
          "ternary": {
           "aaxis": {
            "gridcolor": "white",
            "linecolor": "white",
            "ticks": ""
           },
           "baxis": {
            "gridcolor": "white",
            "linecolor": "white",
            "ticks": ""
           },
           "bgcolor": "#E5ECF6",
           "caxis": {
            "gridcolor": "white",
            "linecolor": "white",
            "ticks": ""
           }
          },
          "title": {
           "x": 0.05
          },
          "xaxis": {
           "automargin": true,
           "gridcolor": "white",
           "linecolor": "white",
           "ticks": "",
           "title": {
            "standoff": 15
           },
           "zerolinecolor": "white",
           "zerolinewidth": 2
          },
          "yaxis": {
           "automargin": true,
           "gridcolor": "white",
           "linecolor": "white",
           "ticks": "",
           "title": {
            "standoff": 15
           },
           "zerolinecolor": "white",
           "zerolinewidth": 2
          }
         }
        },
        "title": {
         "text": "Annual Growth Rates(At Constant Prices Base Year 2011-12)"
        },
        "xaxis": {
         "anchor": "y",
         "domain": [
          0,
          1
         ],
         "title": {
          "text": "Year"
         }
        },
        "yaxis": {
         "anchor": "x",
         "domain": [
          0,
          1
         ],
         "title": {
          "text": "Percentage Growth"
         }
        }
       }
      },
      "text/html": [
       "<div>                            <div id=\"b30d5b52-08e5-4ff3-8165-18a777de501a\" class=\"plotly-graph-div\" style=\"height:525px; width:100%;\"></div>            <script type=\"text/javascript\">                require([\"plotly\"], function(Plotly) {                    window.PLOTLYENV=window.PLOTLYENV || {};                                    if (document.getElementById(\"b30d5b52-08e5-4ff3-8165-18a777de501a\")) {                    Plotly.newPlot(                        \"b30d5b52-08e5-4ff3-8165-18a777de501a\",                        [{\"hovertemplate\":\"variable=Gross Domestic Product<br>Financial Year=%{x}<br>value=%{y}<extra></extra>\",\"legendgroup\":\"Gross Domestic Product\",\"line\":{\"color\":\"#636efa\",\"dash\":\"solid\"},\"marker\":{\"symbol\":\"circle\"},\"mode\":\"lines\",\"name\":\"Gross Domestic Product\",\"orientation\":\"v\",\"showlegend\":true,\"x\":[\"2021-01-01\",\"2020-01-01\",\"2019-01-01\",\"2018-01-01\",\"2017-01-01\",\"2016-01-01\",\"2015-01-01\",\"2014-01-01\",\"2013-01-01\",\"2012-01-01\",\"2011-01-01\",\"2010-01-01\",\"2009-01-01\",\"2008-01-01\",\"2007-01-01\",\"2006-01-01\",\"2005-01-01\",\"2004-01-01\",\"2003-01-01\",\"2002-01-01\",\"2001-01-01\",\"2000-01-01\",\"1999-01-01\",\"1998-01-01\",\"1997-01-01\",\"1996-01-01\",\"1995-01-01\",\"1994-01-01\",\"1993-01-01\",\"1992-01-01\",\"1991-01-01\",\"1990-01-01\",\"1989-01-01\",\"1988-01-01\",\"1987-01-01\",\"1986-01-01\",\"1985-01-01\",\"1984-01-01\",\"1983-01-01\",\"1982-01-01\",\"1981-01-01\",\"1980-01-01\",\"1979-01-01\",\"1978-01-01\",\"1977-01-01\",\"1976-01-01\",\"1975-01-01\",\"1974-01-01\",\"1973-01-01\",\"1972-01-01\",\"1971-01-01\",\"1970-01-01\",\"1969-01-01\",\"1968-01-01\",\"1967-01-01\",\"1966-01-01\",\"1965-01-01\",\"1964-01-01\",\"1963-01-01\",\"1962-01-01\",\"1961-01-01\",\"1960-01-01\"],\"xaxis\":\"x\",\"y\":[8.7,-6.6,3.7,6.5,6.8,8.3,8.0,7.4,6.4,5.5,5.2,8.5,7.9,3.1,7.7,8.1,7.9,7.9,7.9,3.8,4.8,3.8,8.8,6.2,4.0,7.5,7.6,6.7,4.8,5.5,1.1,5.5,5.9,9.6,4.0,4.8,5.3,3.8,7.3,3.5,6.0,6.7,-5.2,5.7,7.3,1.7,9.1,1.2,3.3,-0.6,1.6,5.2,6.5,3.4,7.8,-0.1,-2.6,7.5,6.0,2.9,3.7,5.5],\"yaxis\":\"y\",\"type\":\"scatter\"},{\"hovertemplate\":\"variable=Gross National Income<br>Financial Year=%{x}<br>value=%{y}<extra></extra>\",\"legendgroup\":\"Gross National Income\",\"line\":{\"color\":\"#EF553B\",\"dash\":\"solid\"},\"marker\":{\"symbol\":\"circle\"},\"mode\":\"lines\",\"name\":\"Gross National Income\",\"orientation\":\"v\",\"showlegend\":true,\"x\":[\"2021-01-01\",\"2020-01-01\",\"2019-01-01\",\"2018-01-01\",\"2017-01-01\",\"2016-01-01\",\"2015-01-01\",\"2014-01-01\",\"2013-01-01\",\"2012-01-01\",\"2011-01-01\",\"2010-01-01\",\"2009-01-01\",\"2008-01-01\",\"2007-01-01\",\"2006-01-01\",\"2005-01-01\",\"2004-01-01\",\"2003-01-01\",\"2002-01-01\",\"2001-01-01\",\"2000-01-01\",\"1999-01-01\",\"1998-01-01\",\"1997-01-01\",\"1996-01-01\",\"1995-01-01\",\"1994-01-01\",\"1993-01-01\",\"1992-01-01\",\"1991-01-01\",\"1990-01-01\",\"1989-01-01\",\"1988-01-01\",\"1987-01-01\",\"1986-01-01\",\"1985-01-01\",\"1984-01-01\",\"1983-01-01\",\"1982-01-01\",\"1981-01-01\",\"1980-01-01\",\"1979-01-01\",\"1978-01-01\",\"1977-01-01\",\"1976-01-01\",\"1975-01-01\",\"1974-01-01\",\"1973-01-01\",\"1972-01-01\",\"1971-01-01\",\"1970-01-01\",\"1969-01-01\",\"1968-01-01\",\"1967-01-01\",\"1966-01-01\",\"1965-01-01\",\"1964-01-01\",\"1963-01-01\",\"1962-01-01\",\"1961-01-01\",\"1960-01-01\"],\"xaxis\":\"x\",\"y\":[8.5,-7.0,3.9,6.5,6.9,8.3,8.0,7.5,6.3,5.1,5.5,8.0,7.9,2.9,8.0,8.0,7.9,7.9,7.9,3.9,5.0,3.6,8.8,6.2,4.2,7.7,7.6,6.7,4.9,5.5,1.0,5.3,5.9,9.4,3.8,4.7,5.3,3.7,7.3,3.2,5.9,6.8,-5.1,5.7,7.3,1.7,9.2,1.3,3.4,-0.5,1.7,5.2,6.5,3.4,7.7,0.0,-2.7,7.4,6.0,2.9,3.6,5.5],\"yaxis\":\"y\",\"type\":\"scatter\"},{\"hovertemplate\":\"variable=Net National Income<br>Financial Year=%{x}<br>value=%{y}<extra></extra>\",\"legendgroup\":\"Net National Income\",\"line\":{\"color\":\"#00cc96\",\"dash\":\"solid\"},\"marker\":{\"symbol\":\"circle\"},\"mode\":\"lines\",\"name\":\"Net National Income\",\"orientation\":\"v\",\"showlegend\":true,\"x\":[\"2021-01-01\",\"2020-01-01\",\"2019-01-01\",\"2018-01-01\",\"2017-01-01\",\"2016-01-01\",\"2015-01-01\",\"2014-01-01\",\"2013-01-01\",\"2012-01-01\",\"2011-01-01\",\"2010-01-01\",\"2009-01-01\",\"2008-01-01\",\"2007-01-01\",\"2006-01-01\",\"2005-01-01\",\"2004-01-01\",\"2003-01-01\",\"2002-01-01\",\"2001-01-01\",\"2000-01-01\",\"1999-01-01\",\"1998-01-01\",\"1997-01-01\",\"1996-01-01\",\"1995-01-01\",\"1994-01-01\",\"1993-01-01\",\"1992-01-01\",\"1991-01-01\",\"1990-01-01\",\"1989-01-01\",\"1988-01-01\",\"1987-01-01\",\"1986-01-01\",\"1985-01-01\",\"1984-01-01\",\"1983-01-01\",\"1982-01-01\",\"1981-01-01\",\"1980-01-01\",\"1979-01-01\",\"1978-01-01\",\"1977-01-01\",\"1976-01-01\",\"1975-01-01\",\"1974-01-01\",\"1973-01-01\",\"1972-01-01\",\"1971-01-01\",\"1970-01-01\",\"1969-01-01\",\"1968-01-01\",\"1967-01-01\",\"1966-01-01\",\"1965-01-01\",\"1964-01-01\",\"1963-01-01\",\"1962-01-01\",\"1961-01-01\",\"1960-01-01\"],\"xaxis\":\"x\",\"y\":[8.5,-8.7,3.4,6.2,6.7,8.2,8.0,7.5,6.0,4.5,5.0,7.8,7.5,2.2,7.8,7.8,7.7,7.8,8.0,3.8,4.8,3.3,8.9,6.1,3.9,7.8,7.7,6.7,5.0,5.5,0.5,5.2,6.0,9.8,3.5,4.7,5.2,3.4,7.5,3.0,6.0,6.9,-5.8,5.9,7.6,1.4,9.6,1.0,3.3,-0.8,1.5,4.8,6.5,3.3,7.8,-0.4,-3.1,7.4,6.1,2.8,3.6,5.8],\"yaxis\":\"y\",\"type\":\"scatter\"},{\"hovertemplate\":\"variable=Per Capita NNI<br>Financial Year=%{x}<br>value=%{y}<extra></extra>\",\"legendgroup\":\"Per Capita NNI\",\"line\":{\"color\":\"#ab63fa\",\"dash\":\"solid\"},\"marker\":{\"symbol\":\"circle\"},\"mode\":\"lines\",\"name\":\"Per Capita NNI\",\"orientation\":\"v\",\"showlegend\":true,\"x\":[\"2021-01-01\",\"2020-01-01\",\"2019-01-01\",\"2018-01-01\",\"2017-01-01\",\"2016-01-01\",\"2015-01-01\",\"2014-01-01\",\"2013-01-01\",\"2012-01-01\",\"2011-01-01\",\"2010-01-01\",\"2009-01-01\",\"2008-01-01\",\"2007-01-01\",\"2006-01-01\",\"2005-01-01\",\"2004-01-01\",\"2003-01-01\",\"2002-01-01\",\"2001-01-01\",\"2000-01-01\",\"1999-01-01\",\"1998-01-01\",\"1997-01-01\",\"1996-01-01\",\"1995-01-01\",\"1994-01-01\",\"1993-01-01\",\"1992-01-01\",\"1991-01-01\",\"1990-01-01\",\"1989-01-01\",\"1988-01-01\",\"1987-01-01\",\"1986-01-01\",\"1985-01-01\",\"1984-01-01\",\"1983-01-01\",\"1982-01-01\",\"1981-01-01\",\"1980-01-01\",\"1979-01-01\",\"1978-01-01\",\"1977-01-01\",\"1976-01-01\",\"1975-01-01\",\"1974-01-01\",\"1973-01-01\",\"1972-01-01\",\"1971-01-01\",\"1970-01-01\",\"1969-01-01\",\"1968-01-01\",\"1967-01-01\",\"1966-01-01\",\"1965-01-01\",\"1964-01-01\",\"1963-01-01\",\"1962-01-01\",\"1961-01-01\",\"1960-01-01\"],\"xaxis\":\"x\",\"y\":[7.5,-9.7,2.3,5.2,5.5,6.9,6.7,6.2,4.6,3.3,2.1,6.4,6.1,0.8,6.3,6.3,6.1,6.1,6.4,2.2,2.7,1.4,7.0,4.1,2.0,5.7,5.6,4.6,2.6,3.6,-1.5,3.1,3.8,7.5,1.3,2.5,3.0,1.2,5.3,0.7,4.0,4.5,-8.1,3.6,5.2,-0.8,7.1,-1.2,1.0,-3.1,-0.9,2.5,4.3,0.9,5.5,-2.5,-5.3,5.1,3.8,0.5,1.3,3.9],\"yaxis\":\"y\",\"type\":\"scatter\"},{\"hovertemplate\":\"variable=Gross Capital Formation<br>Financial Year=%{x}<br>value=%{y}<extra></extra>\",\"legendgroup\":\"Gross Capital Formation\",\"line\":{\"color\":\"#FFA15A\",\"dash\":\"solid\"},\"marker\":{\"symbol\":\"circle\"},\"mode\":\"lines\",\"name\":\"Gross Capital Formation\",\"orientation\":\"v\",\"showlegend\":true,\"x\":[\"2021-01-01\",\"2020-01-01\",\"2019-01-01\",\"2018-01-01\",\"2017-01-01\",\"2016-01-01\",\"2015-01-01\",\"2014-01-01\",\"2013-01-01\",\"2012-01-01\",\"2011-01-01\",\"2010-01-01\",\"2009-01-01\",\"2008-01-01\",\"2007-01-01\",\"2006-01-01\",\"2005-01-01\",\"2004-01-01\",\"2003-01-01\",\"2002-01-01\",\"2001-01-01\",\"2000-01-01\",\"1999-01-01\",\"1998-01-01\",\"1997-01-01\",\"1996-01-01\",\"1995-01-01\",\"1994-01-01\",\"1993-01-01\",\"1992-01-01\",\"1991-01-01\",\"1990-01-01\",\"1989-01-01\",\"1988-01-01\",\"1987-01-01\",\"1986-01-01\",\"1985-01-01\",\"1984-01-01\",\"1983-01-01\",\"1982-01-01\",\"1981-01-01\",\"1980-01-01\",\"1979-01-01\",\"1978-01-01\",\"1977-01-01\",\"1976-01-01\",\"1975-01-01\",\"1974-01-01\",\"1973-01-01\",\"1972-01-01\",\"1971-01-01\",\"1970-01-01\",\"1969-01-01\",\"1968-01-01\",\"1967-01-01\",\"1966-01-01\",\"1965-01-01\",\"1964-01-01\",\"1963-01-01\",\"1962-01-01\",\"1961-01-01\",\"1960-01-01\"],\"xaxis\":\"x\",\"y\":[null,31.5,34.1,37.3,37.5,34.9,34.5,34.8,35.2,39.5,39.0,40.1,36.2,34.6,38.7,33.5,32.9,29.7,25.2,23.5,22.6,22.7,24.9,23.1,23.6,21.4,22.8,22.8,20.3,20.8,19.4,23.5,20.9,20.5,20.0,18.4,18.6,18.1,17.9,18.0,18.1,20.3,19.9,21.4,19.0,17.5,15.0,18.2,19.4,16.8,17.5,16.4,17.3,16.6,17.5,19.7,18.8,16.6,16.2,15.9,14.4,15.1],\"yaxis\":\"y\",\"type\":\"scatter\"},{\"hovertemplate\":\"variable=Net Capital Formation<br>Financial Year=%{x}<br>value=%{y}<extra></extra>\",\"legendgroup\":\"Net Capital Formation\",\"line\":{\"color\":\"#19d3f3\",\"dash\":\"solid\"},\"marker\":{\"symbol\":\"circle\"},\"mode\":\"lines\",\"name\":\"Net Capital Formation\",\"orientation\":\"v\",\"showlegend\":true,\"x\":[\"2021-01-01\",\"2020-01-01\",\"2019-01-01\",\"2018-01-01\",\"2017-01-01\",\"2016-01-01\",\"2015-01-01\",\"2014-01-01\",\"2013-01-01\",\"2012-01-01\",\"2011-01-01\",\"2010-01-01\",\"2009-01-01\",\"2008-01-01\",\"2007-01-01\",\"2006-01-01\",\"2005-01-01\",\"2004-01-01\",\"2003-01-01\",\"2002-01-01\",\"2001-01-01\",\"2000-01-01\",\"1999-01-01\",\"1998-01-01\",\"1997-01-01\",\"1996-01-01\",\"1995-01-01\",\"1994-01-01\",\"1993-01-01\",\"1992-01-01\",\"1991-01-01\",\"1990-01-01\",\"1989-01-01\",\"1988-01-01\",\"1987-01-01\",\"1986-01-01\",\"1985-01-01\",\"1984-01-01\",\"1983-01-01\",\"1982-01-01\",\"1981-01-01\",\"1980-01-01\",\"1979-01-01\",\"1978-01-01\",\"1977-01-01\",\"1976-01-01\",\"1975-01-01\",\"1974-01-01\",\"1973-01-01\",\"1972-01-01\",\"1971-01-01\",\"1970-01-01\",\"1969-01-01\",\"1968-01-01\",\"1967-01-01\",\"1966-01-01\",\"1965-01-01\",\"1964-01-01\",\"1963-01-01\",\"1962-01-01\",\"1961-01-01\",\"1960-01-01\"],\"xaxis\":\"x\",\"y\":[null,18.0,22.2,25.8,26.1,23.7,23.3,23.6,24.0,28.5,28.5,30.0,26.2,24.9,29.5,24.6,24.1,21.1,16.6,14.8,14.1,14.3,16.8,14.9,15.5,13.5,14.8,14.6,12.2,12.6,11.3,15.8,13.3,12.8,12.0,10.6,10.9,10.5,10.5,10.3,10.5,12.7,12.2,14.4,11.9,10.1,8.0,10.9,12.4,9.9,10.9,9.9,11.1,10.4,11.4,13.5,13.0,11.2,10.7,10.4,8.9,9.6],\"yaxis\":\"y\",\"type\":\"scatter\"}],                        {\"template\":{\"data\":{\"histogram2dcontour\":[{\"type\":\"histogram2dcontour\",\"colorbar\":{\"outlinewidth\":0,\"ticks\":\"\"},\"colorscale\":[[0.0,\"#0d0887\"],[0.1111111111111111,\"#46039f\"],[0.2222222222222222,\"#7201a8\"],[0.3333333333333333,\"#9c179e\"],[0.4444444444444444,\"#bd3786\"],[0.5555555555555556,\"#d8576b\"],[0.6666666666666666,\"#ed7953\"],[0.7777777777777778,\"#fb9f3a\"],[0.8888888888888888,\"#fdca26\"],[1.0,\"#f0f921\"]]}],\"choropleth\":[{\"type\":\"choropleth\",\"colorbar\":{\"outlinewidth\":0,\"ticks\":\"\"}}],\"histogram2d\":[{\"type\":\"histogram2d\",\"colorbar\":{\"outlinewidth\":0,\"ticks\":\"\"},\"colorscale\":[[0.0,\"#0d0887\"],[0.1111111111111111,\"#46039f\"],[0.2222222222222222,\"#7201a8\"],[0.3333333333333333,\"#9c179e\"],[0.4444444444444444,\"#bd3786\"],[0.5555555555555556,\"#d8576b\"],[0.6666666666666666,\"#ed7953\"],[0.7777777777777778,\"#fb9f3a\"],[0.8888888888888888,\"#fdca26\"],[1.0,\"#f0f921\"]]}],\"heatmap\":[{\"type\":\"heatmap\",\"colorbar\":{\"outlinewidth\":0,\"ticks\":\"\"},\"colorscale\":[[0.0,\"#0d0887\"],[0.1111111111111111,\"#46039f\"],[0.2222222222222222,\"#7201a8\"],[0.3333333333333333,\"#9c179e\"],[0.4444444444444444,\"#bd3786\"],[0.5555555555555556,\"#d8576b\"],[0.6666666666666666,\"#ed7953\"],[0.7777777777777778,\"#fb9f3a\"],[0.8888888888888888,\"#fdca26\"],[1.0,\"#f0f921\"]]}],\"heatmapgl\":[{\"type\":\"heatmapgl\",\"colorbar\":{\"outlinewidth\":0,\"ticks\":\"\"},\"colorscale\":[[0.0,\"#0d0887\"],[0.1111111111111111,\"#46039f\"],[0.2222222222222222,\"#7201a8\"],[0.3333333333333333,\"#9c179e\"],[0.4444444444444444,\"#bd3786\"],[0.5555555555555556,\"#d8576b\"],[0.6666666666666666,\"#ed7953\"],[0.7777777777777778,\"#fb9f3a\"],[0.8888888888888888,\"#fdca26\"],[1.0,\"#f0f921\"]]}],\"contourcarpet\":[{\"type\":\"contourcarpet\",\"colorbar\":{\"outlinewidth\":0,\"ticks\":\"\"}}],\"contour\":[{\"type\":\"contour\",\"colorbar\":{\"outlinewidth\":0,\"ticks\":\"\"},\"colorscale\":[[0.0,\"#0d0887\"],[0.1111111111111111,\"#46039f\"],[0.2222222222222222,\"#7201a8\"],[0.3333333333333333,\"#9c179e\"],[0.4444444444444444,\"#bd3786\"],[0.5555555555555556,\"#d8576b\"],[0.6666666666666666,\"#ed7953\"],[0.7777777777777778,\"#fb9f3a\"],[0.8888888888888888,\"#fdca26\"],[1.0,\"#f0f921\"]]}],\"surface\":[{\"type\":\"surface\",\"colorbar\":{\"outlinewidth\":0,\"ticks\":\"\"},\"colorscale\":[[0.0,\"#0d0887\"],[0.1111111111111111,\"#46039f\"],[0.2222222222222222,\"#7201a8\"],[0.3333333333333333,\"#9c179e\"],[0.4444444444444444,\"#bd3786\"],[0.5555555555555556,\"#d8576b\"],[0.6666666666666666,\"#ed7953\"],[0.7777777777777778,\"#fb9f3a\"],[0.8888888888888888,\"#fdca26\"],[1.0,\"#f0f921\"]]}],\"mesh3d\":[{\"type\":\"mesh3d\",\"colorbar\":{\"outlinewidth\":0,\"ticks\":\"\"}}],\"scatter\":[{\"fillpattern\":{\"fillmode\":\"overlay\",\"size\":10,\"solidity\":0.2},\"type\":\"scatter\"}],\"parcoords\":[{\"type\":\"parcoords\",\"line\":{\"colorbar\":{\"outlinewidth\":0,\"ticks\":\"\"}}}],\"scatterpolargl\":[{\"type\":\"scatterpolargl\",\"marker\":{\"colorbar\":{\"outlinewidth\":0,\"ticks\":\"\"}}}],\"bar\":[{\"error_x\":{\"color\":\"#2a3f5f\"},\"error_y\":{\"color\":\"#2a3f5f\"},\"marker\":{\"line\":{\"color\":\"#E5ECF6\",\"width\":0.5},\"pattern\":{\"fillmode\":\"overlay\",\"size\":10,\"solidity\":0.2}},\"type\":\"bar\"}],\"scattergeo\":[{\"type\":\"scattergeo\",\"marker\":{\"colorbar\":{\"outlinewidth\":0,\"ticks\":\"\"}}}],\"scatterpolar\":[{\"type\":\"scatterpolar\",\"marker\":{\"colorbar\":{\"outlinewidth\":0,\"ticks\":\"\"}}}],\"histogram\":[{\"marker\":{\"pattern\":{\"fillmode\":\"overlay\",\"size\":10,\"solidity\":0.2}},\"type\":\"histogram\"}],\"scattergl\":[{\"type\":\"scattergl\",\"marker\":{\"colorbar\":{\"outlinewidth\":0,\"ticks\":\"\"}}}],\"scatter3d\":[{\"type\":\"scatter3d\",\"line\":{\"colorbar\":{\"outlinewidth\":0,\"ticks\":\"\"}},\"marker\":{\"colorbar\":{\"outlinewidth\":0,\"ticks\":\"\"}}}],\"scattermapbox\":[{\"type\":\"scattermapbox\",\"marker\":{\"colorbar\":{\"outlinewidth\":0,\"ticks\":\"\"}}}],\"scatterternary\":[{\"type\":\"scatterternary\",\"marker\":{\"colorbar\":{\"outlinewidth\":0,\"ticks\":\"\"}}}],\"scattercarpet\":[{\"type\":\"scattercarpet\",\"marker\":{\"colorbar\":{\"outlinewidth\":0,\"ticks\":\"\"}}}],\"carpet\":[{\"aaxis\":{\"endlinecolor\":\"#2a3f5f\",\"gridcolor\":\"white\",\"linecolor\":\"white\",\"minorgridcolor\":\"white\",\"startlinecolor\":\"#2a3f5f\"},\"baxis\":{\"endlinecolor\":\"#2a3f5f\",\"gridcolor\":\"white\",\"linecolor\":\"white\",\"minorgridcolor\":\"white\",\"startlinecolor\":\"#2a3f5f\"},\"type\":\"carpet\"}],\"table\":[{\"cells\":{\"fill\":{\"color\":\"#EBF0F8\"},\"line\":{\"color\":\"white\"}},\"header\":{\"fill\":{\"color\":\"#C8D4E3\"},\"line\":{\"color\":\"white\"}},\"type\":\"table\"}],\"barpolar\":[{\"marker\":{\"line\":{\"color\":\"#E5ECF6\",\"width\":0.5},\"pattern\":{\"fillmode\":\"overlay\",\"size\":10,\"solidity\":0.2}},\"type\":\"barpolar\"}],\"pie\":[{\"automargin\":true,\"type\":\"pie\"}]},\"layout\":{\"autotypenumbers\":\"strict\",\"colorway\":[\"#636efa\",\"#EF553B\",\"#00cc96\",\"#ab63fa\",\"#FFA15A\",\"#19d3f3\",\"#FF6692\",\"#B6E880\",\"#FF97FF\",\"#FECB52\"],\"font\":{\"color\":\"#2a3f5f\"},\"hovermode\":\"closest\",\"hoverlabel\":{\"align\":\"left\"},\"paper_bgcolor\":\"white\",\"plot_bgcolor\":\"#E5ECF6\",\"polar\":{\"bgcolor\":\"#E5ECF6\",\"angularaxis\":{\"gridcolor\":\"white\",\"linecolor\":\"white\",\"ticks\":\"\"},\"radialaxis\":{\"gridcolor\":\"white\",\"linecolor\":\"white\",\"ticks\":\"\"}},\"ternary\":{\"bgcolor\":\"#E5ECF6\",\"aaxis\":{\"gridcolor\":\"white\",\"linecolor\":\"white\",\"ticks\":\"\"},\"baxis\":{\"gridcolor\":\"white\",\"linecolor\":\"white\",\"ticks\":\"\"},\"caxis\":{\"gridcolor\":\"white\",\"linecolor\":\"white\",\"ticks\":\"\"}},\"coloraxis\":{\"colorbar\":{\"outlinewidth\":0,\"ticks\":\"\"}},\"colorscale\":{\"sequential\":[[0.0,\"#0d0887\"],[0.1111111111111111,\"#46039f\"],[0.2222222222222222,\"#7201a8\"],[0.3333333333333333,\"#9c179e\"],[0.4444444444444444,\"#bd3786\"],[0.5555555555555556,\"#d8576b\"],[0.6666666666666666,\"#ed7953\"],[0.7777777777777778,\"#fb9f3a\"],[0.8888888888888888,\"#fdca26\"],[1.0,\"#f0f921\"]],\"sequentialminus\":[[0.0,\"#0d0887\"],[0.1111111111111111,\"#46039f\"],[0.2222222222222222,\"#7201a8\"],[0.3333333333333333,\"#9c179e\"],[0.4444444444444444,\"#bd3786\"],[0.5555555555555556,\"#d8576b\"],[0.6666666666666666,\"#ed7953\"],[0.7777777777777778,\"#fb9f3a\"],[0.8888888888888888,\"#fdca26\"],[1.0,\"#f0f921\"]],\"diverging\":[[0,\"#8e0152\"],[0.1,\"#c51b7d\"],[0.2,\"#de77ae\"],[0.3,\"#f1b6da\"],[0.4,\"#fde0ef\"],[0.5,\"#f7f7f7\"],[0.6,\"#e6f5d0\"],[0.7,\"#b8e186\"],[0.8,\"#7fbc41\"],[0.9,\"#4d9221\"],[1,\"#276419\"]]},\"xaxis\":{\"gridcolor\":\"white\",\"linecolor\":\"white\",\"ticks\":\"\",\"title\":{\"standoff\":15},\"zerolinecolor\":\"white\",\"automargin\":true,\"zerolinewidth\":2},\"yaxis\":{\"gridcolor\":\"white\",\"linecolor\":\"white\",\"ticks\":\"\",\"title\":{\"standoff\":15},\"zerolinecolor\":\"white\",\"automargin\":true,\"zerolinewidth\":2},\"scene\":{\"xaxis\":{\"backgroundcolor\":\"#E5ECF6\",\"gridcolor\":\"white\",\"linecolor\":\"white\",\"showbackground\":true,\"ticks\":\"\",\"zerolinecolor\":\"white\",\"gridwidth\":2},\"yaxis\":{\"backgroundcolor\":\"#E5ECF6\",\"gridcolor\":\"white\",\"linecolor\":\"white\",\"showbackground\":true,\"ticks\":\"\",\"zerolinecolor\":\"white\",\"gridwidth\":2},\"zaxis\":{\"backgroundcolor\":\"#E5ECF6\",\"gridcolor\":\"white\",\"linecolor\":\"white\",\"showbackground\":true,\"ticks\":\"\",\"zerolinecolor\":\"white\",\"gridwidth\":2}},\"shapedefaults\":{\"line\":{\"color\":\"#2a3f5f\"}},\"annotationdefaults\":{\"arrowcolor\":\"#2a3f5f\",\"arrowhead\":0,\"arrowwidth\":1},\"geo\":{\"bgcolor\":\"white\",\"landcolor\":\"#E5ECF6\",\"subunitcolor\":\"white\",\"showland\":true,\"showlakes\":true,\"lakecolor\":\"white\"},\"title\":{\"x\":0.05},\"mapbox\":{\"style\":\"light\"}}},\"xaxis\":{\"anchor\":\"y\",\"domain\":[0.0,1.0],\"title\":{\"text\":\"Year\"}},\"yaxis\":{\"anchor\":\"x\",\"domain\":[0.0,1.0],\"title\":{\"text\":\"Percentage Growth\"}},\"legend\":{\"title\":{\"text\":\"variable\"},\"tracegroupgap\":0},\"title\":{\"text\":\"Annual Growth Rates(At Constant Prices Base Year 2011-12)\"}},                        {\"responsive\": true}                    ).then(function(){\n",
       "                            \n",
       "var gd = document.getElementById('b30d5b52-08e5-4ff3-8165-18a777de501a');\n",
       "var x = new MutationObserver(function (mutations, observer) {{\n",
       "        var display = window.getComputedStyle(gd).display;\n",
       "        if (!display || display === 'none') {{\n",
       "            console.log([gd, 'removed!']);\n",
       "            Plotly.purge(gd);\n",
       "            observer.disconnect();\n",
       "        }}\n",
       "}});\n",
       "\n",
       "// Listen for the removal of the full notebook cells\n",
       "var notebookContainer = gd.closest('#notebook-container');\n",
       "if (notebookContainer) {{\n",
       "    x.observe(notebookContainer, {childList: true});\n",
       "}}\n",
       "\n",
       "// Listen for the clearing of the current output cell\n",
       "var outputEl = gd.closest('.output');\n",
       "if (outputEl) {{\n",
       "    x.observe(outputEl, {childList: true});\n",
       "}}\n",
       "\n",
       "                        })                };                });            </script>        </div>"
      ]
     },
     "metadata": {},
     "output_type": "display_data"
    }
   ],
   "source": [
    "annual_growth_rates = pd.read_csv(\"Final/annual_growth_rates_final.csv\")\n",
    "title= 'Annual Growth Rates(At Constant Prices Base Year 2011-12)'\n",
    "fig = px.line(annual_growth_rates, x='Financial Year', y=[ 'Gross Domestic Product',\n",
    "       'Gross National Income', 'Net National Income', 'Per Capita NNI',\n",
    "       'Gross Capital Formation', 'Net Capital Formation'], title=title)\n",
    "fig.update_layout(xaxis_title='Year', yaxis_title='Percentage Growth')\n",
    "\n",
    "fig.show()"
   ]
  },
  {
   "attachments": {},
   "cell_type": "markdown",
   "metadata": {},
   "source": [
    "# Sector wise GDP"
   ]
  },
  {
   "cell_type": "code",
   "execution_count": 21,
   "metadata": {},
   "outputs": [
    {
     "data": {
      "application/vnd.plotly.v1+json": {
       "config": {
        "plotlyServerURL": "https://plot.ly"
       },
       "data": [
        {
         "hovertemplate": "variable=Agriculture & Allied Services (in Rs. Cr.) at 2004-05 Prices<br>Financial Year=%{x}<br>value=%{y}<extra></extra>",
         "legendgroup": "Agriculture & Allied Services (in Rs. Cr.) at 2004-05 Prices",
         "line": {
          "color": "#636efa",
          "dash": "solid"
         },
         "marker": {
          "symbol": "circle"
         },
         "mode": "lines",
         "name": "Agriculture & Allied Services (in Rs. Cr.) at 2004-05 Prices",
         "orientation": "v",
         "showlegend": true,
         "type": "scatter",
         "x": [
          "1951-01-01",
          "1952-01-01",
          "1953-01-01",
          "1954-01-01",
          "1955-01-01",
          "1956-01-01",
          "1957-01-01",
          "1958-01-01",
          "1959-01-01",
          "1960-01-01",
          "1961-01-01",
          "1962-01-01",
          "1963-01-01",
          "1964-01-01",
          "1965-01-01",
          "1966-01-01",
          "1967-01-01",
          "1968-01-01",
          "1969-01-01",
          "1970-01-01",
          "1971-01-01",
          "1972-01-01",
          "1973-01-01",
          "1974-01-01",
          "1975-01-01",
          "1976-01-01",
          "1977-01-01",
          "1978-01-01",
          "1979-01-01",
          "1980-01-01",
          "1981-01-01",
          "1982-01-01",
          "1983-01-01",
          "1984-01-01",
          "1985-01-01",
          "1986-01-01",
          "1987-01-01",
          "1988-01-01",
          "1989-01-01",
          "1990-01-01",
          "1991-01-01",
          "1992-01-01",
          "1993-01-01",
          "1994-01-01",
          "1995-01-01",
          "1996-01-01",
          "1997-01-01",
          "1998-01-01",
          "1999-01-01",
          "2000-01-01",
          "2001-01-01",
          "2002-01-01",
          "2003-01-01",
          "2004-01-01",
          "2005-01-01",
          "2006-01-01",
          "2007-01-01",
          "2008-01-01",
          "2009-01-01",
          "2010-01-01",
          "2011-01-01",
          "2012-01-01"
         ],
         "xaxis": "x",
         "y": [
          147215.64108196,
          151858.73630313302,
          163553.252821664,
          168360.958740467,
          166906.301162504,
          175979.57124596002,
          168074.67926632898,
          185009.899408296,
          183147.293579686,
          195482.360421601,
          195646.97111923,
          191755.359517669,
          196241.001028066,
          214342.81002714497,
          190674.654502798,
          187962.156485342,
          215913.768641476,
          215572.022519224,
          229427.949067496,
          245699.358678805,
          241086.68065175897,
          228987.79437600903,
          245479.281333062,
          241739.755702136,
          272899.487215327,
          257130.855930472,
          282937.161277286,
          289451.808560635,
          252475.235982305,
          285014.813295959,
          298130.263863734,
          297293.00992963096,
          327381.958419686,
          332571.264853139,
          333616.44744676,
          332250.339974136,
          326974.88038059,
          378112.599014824,
          382608.942918228,
          397971.05853382,
          390200.720438231,
          416152.996823509,
          429980.5408778269,
          450258.337771063,
          447127.344544422,
          491483.7151054539,
          478932.558649166,
          509203.272908272,
          522794.556699871,
          522754.7294486099,
          554157.0742792439,
          517559.24155757,
          564391.009571678,
          565426,
          594487,
          619190,
          655080,
          655689,
          660987,
          713477,
          739495,
          752746.3313920799
         ],
         "yaxis": "y"
        },
        {
         "hovertemplate": "variable=Agriculture (in Rs. Cr.) at 2004-05 Prices<br>Financial Year=%{x}<br>value=%{y}<extra></extra>",
         "legendgroup": "Agriculture (in Rs. Cr.) at 2004-05 Prices",
         "line": {
          "color": "#EF553B",
          "dash": "solid"
         },
         "marker": {
          "symbol": "circle"
         },
         "mode": "lines",
         "name": "Agriculture (in Rs. Cr.) at 2004-05 Prices",
         "orientation": "v",
         "showlegend": true,
         "type": "scatter",
         "x": [
          "1951-01-01",
          "1952-01-01",
          "1953-01-01",
          "1954-01-01",
          "1955-01-01",
          "1956-01-01",
          "1957-01-01",
          "1958-01-01",
          "1959-01-01",
          "1960-01-01",
          "1961-01-01",
          "1962-01-01",
          "1963-01-01",
          "1964-01-01",
          "1965-01-01",
          "1966-01-01",
          "1967-01-01",
          "1968-01-01",
          "1969-01-01",
          "1970-01-01",
          "1971-01-01",
          "1972-01-01",
          "1973-01-01",
          "1974-01-01",
          "1975-01-01",
          "1976-01-01",
          "1977-01-01",
          "1978-01-01",
          "1979-01-01",
          "1980-01-01",
          "1981-01-01",
          "1982-01-01",
          "1983-01-01",
          "1984-01-01",
          "1985-01-01",
          "1986-01-01",
          "1987-01-01",
          "1988-01-01",
          "1989-01-01",
          "1990-01-01",
          "1991-01-01",
          "1992-01-01",
          "1993-01-01",
          "1994-01-01",
          "1995-01-01",
          "1996-01-01",
          "1997-01-01",
          "1998-01-01",
          "1999-01-01",
          "2000-01-01",
          "2001-01-01",
          "2002-01-01",
          "2003-01-01",
          "2004-01-01",
          "2005-01-01",
          "2006-01-01",
          "2007-01-01",
          "2008-01-01",
          "2009-01-01",
          "2010-01-01",
          "2011-01-01",
          "2012-01-01"
         ],
         "xaxis": "x",
         "y": [
          118877.048078827,
          123822.315336893,
          134957.57698600902,
          138731.006537799,
          136678.88883207,
          144859.325260096,
          137497.493162771,
          152961.265382439,
          150729.727549434,
          161707.996587182,
          161186.556842284,
          157727.01653711498,
          160681.937734318,
          177283.90638639798,
          153404.20882165298,
          149894.302581801,
          175484.098234653,
          174878.555305094,
          187555.708672994,
          201455.161657968,
          196089.378476597,
          185055.040649074,
          200647.771085222,
          195119.388413506,
          222817.37056186,
          209266.27056734,
          235455.27577691892,
          240148.23348100303,
          208060.065093345,
          238101.722654252,
          249645.225220645,
          249295.742779104,
          276103.590029425,
          280200.268792544,
          280747.215239899,
          279649.10055096,
          274819.5698904309,
          321114.201473085,
          322383.766620286,
          336176.155006963,
          328407.105364659,
          351584.318683392,
          362764.19663302,
          379959.499344859,
          376243.391425441,
          415376.536244035,
          403029.52655763103,
          431719.330535129,
          442112.6414238651,
          439432.310042123,
          467814.52041992,
          429751.699609595,
          476324.268092513,
          476634,
          502996,
          523745,
          556956,
          555442,
          557715,
          606848,
          630540,
          null
         ],
         "yaxis": "y"
        },
        {
         "hovertemplate": "variable=Industry (in Rs. Cr.) at 2004-05 Prices<br>Financial Year=%{x}<br>value=%{y}<extra></extra>",
         "legendgroup": "Industry (in Rs. Cr.) at 2004-05 Prices",
         "line": {
          "color": "#00cc96",
          "dash": "solid"
         },
         "marker": {
          "symbol": "circle"
         },
         "mode": "lines",
         "name": "Industry (in Rs. Cr.) at 2004-05 Prices",
         "orientation": "v",
         "showlegend": true,
         "type": "scatter",
         "x": [
          "1951-01-01",
          "1952-01-01",
          "1953-01-01",
          "1954-01-01",
          "1955-01-01",
          "1956-01-01",
          "1957-01-01",
          "1958-01-01",
          "1959-01-01",
          "1960-01-01",
          "1961-01-01",
          "1962-01-01",
          "1963-01-01",
          "1964-01-01",
          "1965-01-01",
          "1966-01-01",
          "1967-01-01",
          "1968-01-01",
          "1969-01-01",
          "1970-01-01",
          "1971-01-01",
          "1972-01-01",
          "1973-01-01",
          "1974-01-01",
          "1975-01-01",
          "1976-01-01",
          "1977-01-01",
          "1978-01-01",
          "1979-01-01",
          "1980-01-01",
          "1981-01-01",
          "1982-01-01",
          "1983-01-01",
          "1984-01-01",
          "1985-01-01",
          "1986-01-01",
          "1987-01-01",
          "1988-01-01",
          "1989-01-01",
          "1990-01-01",
          "1991-01-01",
          "1992-01-01",
          "1993-01-01",
          "1994-01-01",
          "1995-01-01",
          "1996-01-01",
          "1997-01-01",
          "1998-01-01",
          "1999-01-01",
          "2000-01-01",
          "2001-01-01",
          "2002-01-01",
          "2003-01-01",
          "2004-01-01",
          "2005-01-01",
          "2006-01-01",
          "2007-01-01",
          "2008-01-01",
          "2009-01-01",
          "2010-01-01",
          "2011-01-01",
          "2012-01-01"
         ],
         "xaxis": "x",
         "y": [
          47767.952076714006,
          47738.62980282,
          50409.128114653,
          54574.451094847,
          60310.510849311,
          65479.96252772,
          64841.854378339,
          69335.25448404599,
          74081.44725568201,
          82412.644782316,
          88005.758060268,
          93995.713982118,
          103220.960069455,
          110194.954775621,
          114705.939857285,
          118823.443277867,
          122754.600646157,
          128685.280052253,
          138291.30354502698,
          139321.303028158,
          142814.246508238,
          148011.438342159,
          148920.039468264,
          151023.852445456,
          161723.378873807,
          175745.24811041198,
          188059.068251558,
          201012.15615245295,
          194656.21011745103,
          204861.19563380704,
          221264.279487225,
          224401.75438974096,
          242074.632335145,
          251942.162305781,
          262984.57791197504,
          278124.168108658,
          293614.731515025,
          320331.487824256,
          346926.288949108,
          372359.78002312407,
          373634.185048675,
          385646.941887954,
          406847.539496331,
          444121.941562346,
          494262.3370126,
          525864.105413749,
          546965.734879535,
          569655.818321845,
          603631.436819366,
          640043.2753765051,
          656736.5474033899,
          704095.4906857699,
          755625.377340667,
          829783,
          910413,
          1021204,
          1119995,
          1169736,
          1276919,
          1393879,
          1442498,
          1487533.36181175
         ],
         "yaxis": "y"
        },
        {
         "hovertemplate": "variable=Mining and Quarrying (in Rs. Cr.) at 2004-05 Prices<br>Financial Year=%{x}<br>value=%{y}<extra></extra>",
         "legendgroup": "Mining and Quarrying (in Rs. Cr.) at 2004-05 Prices",
         "line": {
          "color": "#ab63fa",
          "dash": "solid"
         },
         "marker": {
          "symbol": "circle"
         },
         "mode": "lines",
         "name": "Mining and Quarrying (in Rs. Cr.) at 2004-05 Prices",
         "orientation": "v",
         "showlegend": true,
         "type": "scatter",
         "x": [
          "1951-01-01",
          "1952-01-01",
          "1953-01-01",
          "1954-01-01",
          "1955-01-01",
          "1956-01-01",
          "1957-01-01",
          "1958-01-01",
          "1959-01-01",
          "1960-01-01",
          "1961-01-01",
          "1962-01-01",
          "1963-01-01",
          "1964-01-01",
          "1965-01-01",
          "1966-01-01",
          "1967-01-01",
          "1968-01-01",
          "1969-01-01",
          "1970-01-01",
          "1971-01-01",
          "1972-01-01",
          "1973-01-01",
          "1974-01-01",
          "1975-01-01",
          "1976-01-01",
          "1977-01-01",
          "1978-01-01",
          "1979-01-01",
          "1980-01-01",
          "1981-01-01",
          "1982-01-01",
          "1983-01-01",
          "1984-01-01",
          "1985-01-01",
          "1986-01-01",
          "1987-01-01",
          "1988-01-01",
          "1989-01-01",
          "1990-01-01",
          "1991-01-01",
          "1992-01-01",
          "1993-01-01",
          "1994-01-01",
          "1995-01-01",
          "1996-01-01",
          "1997-01-01",
          "1998-01-01",
          "1999-01-01",
          "2000-01-01",
          "2001-01-01",
          "2002-01-01",
          "2003-01-01",
          "2004-01-01",
          "2005-01-01",
          "2006-01-01",
          "2007-01-01",
          "2008-01-01",
          "2009-01-01",
          "2010-01-01",
          "2011-01-01",
          "2012-01-01"
         ],
         "xaxis": "x",
         "y": [
          5771.6876959,
          5904.766746105,
          5993.486112908001,
          6249.786505894,
          6348.363580119,
          6671.203498208,
          7104.9426248,
          7326.741041807,
          7703.798350719,
          8857.150119157,
          9367.286478274,
          10478.742990166,
          10789.260773976,
          10944.519665881,
          12230.950484523,
          12519.288426633,
          12898.810162401,
          13263.545337035,
          13919.082880634,
          12965.349687503,
          13307.905020436,
          14094.057187384002,
          14271.49592099,
          14978.786428557998,
          16795.069021162002,
          17391.460320226004,
          17936.098655321002,
          18422.645273256,
          18621.209321188,
          20890.946455229,
          23745.429708392003,
          26568.677497055,
          27337.762940401,
          27658.24101425,
          29167.034006165,
          32738.881775317,
          33973.93455650099,
          39468.090900938,
          42465.675632731,
          46909.408135344,
          48484.348479086,
          48930.678788679,
          49611.033117903,
          54218.949812881,
          57399.56945648699,
          57718.089724305006,
          63380.265496549,
          65170.971558234,
          67901.611245053,
          69471.901615775,
          70765.51188702599,
          76721.054200687,
          78792.336105175,
          85028,
          86141,
          92578,
          95997,
          98055,
          103830,
          108938,
          108249,
          108713.492560351
         ],
         "yaxis": "y"
        }
       ],
       "layout": {
        "legend": {
         "title": {
          "text": "variable"
         },
         "tracegroupgap": 0
        },
        "template": {
         "data": {
          "bar": [
           {
            "error_x": {
             "color": "#2a3f5f"
            },
            "error_y": {
             "color": "#2a3f5f"
            },
            "marker": {
             "line": {
              "color": "#E5ECF6",
              "width": 0.5
             },
             "pattern": {
              "fillmode": "overlay",
              "size": 10,
              "solidity": 0.2
             }
            },
            "type": "bar"
           }
          ],
          "barpolar": [
           {
            "marker": {
             "line": {
              "color": "#E5ECF6",
              "width": 0.5
             },
             "pattern": {
              "fillmode": "overlay",
              "size": 10,
              "solidity": 0.2
             }
            },
            "type": "barpolar"
           }
          ],
          "carpet": [
           {
            "aaxis": {
             "endlinecolor": "#2a3f5f",
             "gridcolor": "white",
             "linecolor": "white",
             "minorgridcolor": "white",
             "startlinecolor": "#2a3f5f"
            },
            "baxis": {
             "endlinecolor": "#2a3f5f",
             "gridcolor": "white",
             "linecolor": "white",
             "minorgridcolor": "white",
             "startlinecolor": "#2a3f5f"
            },
            "type": "carpet"
           }
          ],
          "choropleth": [
           {
            "colorbar": {
             "outlinewidth": 0,
             "ticks": ""
            },
            "type": "choropleth"
           }
          ],
          "contour": [
           {
            "colorbar": {
             "outlinewidth": 0,
             "ticks": ""
            },
            "colorscale": [
             [
              0,
              "#0d0887"
             ],
             [
              0.1111111111111111,
              "#46039f"
             ],
             [
              0.2222222222222222,
              "#7201a8"
             ],
             [
              0.3333333333333333,
              "#9c179e"
             ],
             [
              0.4444444444444444,
              "#bd3786"
             ],
             [
              0.5555555555555556,
              "#d8576b"
             ],
             [
              0.6666666666666666,
              "#ed7953"
             ],
             [
              0.7777777777777778,
              "#fb9f3a"
             ],
             [
              0.8888888888888888,
              "#fdca26"
             ],
             [
              1,
              "#f0f921"
             ]
            ],
            "type": "contour"
           }
          ],
          "contourcarpet": [
           {
            "colorbar": {
             "outlinewidth": 0,
             "ticks": ""
            },
            "type": "contourcarpet"
           }
          ],
          "heatmap": [
           {
            "colorbar": {
             "outlinewidth": 0,
             "ticks": ""
            },
            "colorscale": [
             [
              0,
              "#0d0887"
             ],
             [
              0.1111111111111111,
              "#46039f"
             ],
             [
              0.2222222222222222,
              "#7201a8"
             ],
             [
              0.3333333333333333,
              "#9c179e"
             ],
             [
              0.4444444444444444,
              "#bd3786"
             ],
             [
              0.5555555555555556,
              "#d8576b"
             ],
             [
              0.6666666666666666,
              "#ed7953"
             ],
             [
              0.7777777777777778,
              "#fb9f3a"
             ],
             [
              0.8888888888888888,
              "#fdca26"
             ],
             [
              1,
              "#f0f921"
             ]
            ],
            "type": "heatmap"
           }
          ],
          "heatmapgl": [
           {
            "colorbar": {
             "outlinewidth": 0,
             "ticks": ""
            },
            "colorscale": [
             [
              0,
              "#0d0887"
             ],
             [
              0.1111111111111111,
              "#46039f"
             ],
             [
              0.2222222222222222,
              "#7201a8"
             ],
             [
              0.3333333333333333,
              "#9c179e"
             ],
             [
              0.4444444444444444,
              "#bd3786"
             ],
             [
              0.5555555555555556,
              "#d8576b"
             ],
             [
              0.6666666666666666,
              "#ed7953"
             ],
             [
              0.7777777777777778,
              "#fb9f3a"
             ],
             [
              0.8888888888888888,
              "#fdca26"
             ],
             [
              1,
              "#f0f921"
             ]
            ],
            "type": "heatmapgl"
           }
          ],
          "histogram": [
           {
            "marker": {
             "pattern": {
              "fillmode": "overlay",
              "size": 10,
              "solidity": 0.2
             }
            },
            "type": "histogram"
           }
          ],
          "histogram2d": [
           {
            "colorbar": {
             "outlinewidth": 0,
             "ticks": ""
            },
            "colorscale": [
             [
              0,
              "#0d0887"
             ],
             [
              0.1111111111111111,
              "#46039f"
             ],
             [
              0.2222222222222222,
              "#7201a8"
             ],
             [
              0.3333333333333333,
              "#9c179e"
             ],
             [
              0.4444444444444444,
              "#bd3786"
             ],
             [
              0.5555555555555556,
              "#d8576b"
             ],
             [
              0.6666666666666666,
              "#ed7953"
             ],
             [
              0.7777777777777778,
              "#fb9f3a"
             ],
             [
              0.8888888888888888,
              "#fdca26"
             ],
             [
              1,
              "#f0f921"
             ]
            ],
            "type": "histogram2d"
           }
          ],
          "histogram2dcontour": [
           {
            "colorbar": {
             "outlinewidth": 0,
             "ticks": ""
            },
            "colorscale": [
             [
              0,
              "#0d0887"
             ],
             [
              0.1111111111111111,
              "#46039f"
             ],
             [
              0.2222222222222222,
              "#7201a8"
             ],
             [
              0.3333333333333333,
              "#9c179e"
             ],
             [
              0.4444444444444444,
              "#bd3786"
             ],
             [
              0.5555555555555556,
              "#d8576b"
             ],
             [
              0.6666666666666666,
              "#ed7953"
             ],
             [
              0.7777777777777778,
              "#fb9f3a"
             ],
             [
              0.8888888888888888,
              "#fdca26"
             ],
             [
              1,
              "#f0f921"
             ]
            ],
            "type": "histogram2dcontour"
           }
          ],
          "mesh3d": [
           {
            "colorbar": {
             "outlinewidth": 0,
             "ticks": ""
            },
            "type": "mesh3d"
           }
          ],
          "parcoords": [
           {
            "line": {
             "colorbar": {
              "outlinewidth": 0,
              "ticks": ""
             }
            },
            "type": "parcoords"
           }
          ],
          "pie": [
           {
            "automargin": true,
            "type": "pie"
           }
          ],
          "scatter": [
           {
            "fillpattern": {
             "fillmode": "overlay",
             "size": 10,
             "solidity": 0.2
            },
            "type": "scatter"
           }
          ],
          "scatter3d": [
           {
            "line": {
             "colorbar": {
              "outlinewidth": 0,
              "ticks": ""
             }
            },
            "marker": {
             "colorbar": {
              "outlinewidth": 0,
              "ticks": ""
             }
            },
            "type": "scatter3d"
           }
          ],
          "scattercarpet": [
           {
            "marker": {
             "colorbar": {
              "outlinewidth": 0,
              "ticks": ""
             }
            },
            "type": "scattercarpet"
           }
          ],
          "scattergeo": [
           {
            "marker": {
             "colorbar": {
              "outlinewidth": 0,
              "ticks": ""
             }
            },
            "type": "scattergeo"
           }
          ],
          "scattergl": [
           {
            "marker": {
             "colorbar": {
              "outlinewidth": 0,
              "ticks": ""
             }
            },
            "type": "scattergl"
           }
          ],
          "scattermapbox": [
           {
            "marker": {
             "colorbar": {
              "outlinewidth": 0,
              "ticks": ""
             }
            },
            "type": "scattermapbox"
           }
          ],
          "scatterpolar": [
           {
            "marker": {
             "colorbar": {
              "outlinewidth": 0,
              "ticks": ""
             }
            },
            "type": "scatterpolar"
           }
          ],
          "scatterpolargl": [
           {
            "marker": {
             "colorbar": {
              "outlinewidth": 0,
              "ticks": ""
             }
            },
            "type": "scatterpolargl"
           }
          ],
          "scatterternary": [
           {
            "marker": {
             "colorbar": {
              "outlinewidth": 0,
              "ticks": ""
             }
            },
            "type": "scatterternary"
           }
          ],
          "surface": [
           {
            "colorbar": {
             "outlinewidth": 0,
             "ticks": ""
            },
            "colorscale": [
             [
              0,
              "#0d0887"
             ],
             [
              0.1111111111111111,
              "#46039f"
             ],
             [
              0.2222222222222222,
              "#7201a8"
             ],
             [
              0.3333333333333333,
              "#9c179e"
             ],
             [
              0.4444444444444444,
              "#bd3786"
             ],
             [
              0.5555555555555556,
              "#d8576b"
             ],
             [
              0.6666666666666666,
              "#ed7953"
             ],
             [
              0.7777777777777778,
              "#fb9f3a"
             ],
             [
              0.8888888888888888,
              "#fdca26"
             ],
             [
              1,
              "#f0f921"
             ]
            ],
            "type": "surface"
           }
          ],
          "table": [
           {
            "cells": {
             "fill": {
              "color": "#EBF0F8"
             },
             "line": {
              "color": "white"
             }
            },
            "header": {
             "fill": {
              "color": "#C8D4E3"
             },
             "line": {
              "color": "white"
             }
            },
            "type": "table"
           }
          ]
         },
         "layout": {
          "annotationdefaults": {
           "arrowcolor": "#2a3f5f",
           "arrowhead": 0,
           "arrowwidth": 1
          },
          "autotypenumbers": "strict",
          "coloraxis": {
           "colorbar": {
            "outlinewidth": 0,
            "ticks": ""
           }
          },
          "colorscale": {
           "diverging": [
            [
             0,
             "#8e0152"
            ],
            [
             0.1,
             "#c51b7d"
            ],
            [
             0.2,
             "#de77ae"
            ],
            [
             0.3,
             "#f1b6da"
            ],
            [
             0.4,
             "#fde0ef"
            ],
            [
             0.5,
             "#f7f7f7"
            ],
            [
             0.6,
             "#e6f5d0"
            ],
            [
             0.7,
             "#b8e186"
            ],
            [
             0.8,
             "#7fbc41"
            ],
            [
             0.9,
             "#4d9221"
            ],
            [
             1,
             "#276419"
            ]
           ],
           "sequential": [
            [
             0,
             "#0d0887"
            ],
            [
             0.1111111111111111,
             "#46039f"
            ],
            [
             0.2222222222222222,
             "#7201a8"
            ],
            [
             0.3333333333333333,
             "#9c179e"
            ],
            [
             0.4444444444444444,
             "#bd3786"
            ],
            [
             0.5555555555555556,
             "#d8576b"
            ],
            [
             0.6666666666666666,
             "#ed7953"
            ],
            [
             0.7777777777777778,
             "#fb9f3a"
            ],
            [
             0.8888888888888888,
             "#fdca26"
            ],
            [
             1,
             "#f0f921"
            ]
           ],
           "sequentialminus": [
            [
             0,
             "#0d0887"
            ],
            [
             0.1111111111111111,
             "#46039f"
            ],
            [
             0.2222222222222222,
             "#7201a8"
            ],
            [
             0.3333333333333333,
             "#9c179e"
            ],
            [
             0.4444444444444444,
             "#bd3786"
            ],
            [
             0.5555555555555556,
             "#d8576b"
            ],
            [
             0.6666666666666666,
             "#ed7953"
            ],
            [
             0.7777777777777778,
             "#fb9f3a"
            ],
            [
             0.8888888888888888,
             "#fdca26"
            ],
            [
             1,
             "#f0f921"
            ]
           ]
          },
          "colorway": [
           "#636efa",
           "#EF553B",
           "#00cc96",
           "#ab63fa",
           "#FFA15A",
           "#19d3f3",
           "#FF6692",
           "#B6E880",
           "#FF97FF",
           "#FECB52"
          ],
          "font": {
           "color": "#2a3f5f"
          },
          "geo": {
           "bgcolor": "white",
           "lakecolor": "white",
           "landcolor": "#E5ECF6",
           "showlakes": true,
           "showland": true,
           "subunitcolor": "white"
          },
          "hoverlabel": {
           "align": "left"
          },
          "hovermode": "closest",
          "mapbox": {
           "style": "light"
          },
          "paper_bgcolor": "white",
          "plot_bgcolor": "#E5ECF6",
          "polar": {
           "angularaxis": {
            "gridcolor": "white",
            "linecolor": "white",
            "ticks": ""
           },
           "bgcolor": "#E5ECF6",
           "radialaxis": {
            "gridcolor": "white",
            "linecolor": "white",
            "ticks": ""
           }
          },
          "scene": {
           "xaxis": {
            "backgroundcolor": "#E5ECF6",
            "gridcolor": "white",
            "gridwidth": 2,
            "linecolor": "white",
            "showbackground": true,
            "ticks": "",
            "zerolinecolor": "white"
           },
           "yaxis": {
            "backgroundcolor": "#E5ECF6",
            "gridcolor": "white",
            "gridwidth": 2,
            "linecolor": "white",
            "showbackground": true,
            "ticks": "",
            "zerolinecolor": "white"
           },
           "zaxis": {
            "backgroundcolor": "#E5ECF6",
            "gridcolor": "white",
            "gridwidth": 2,
            "linecolor": "white",
            "showbackground": true,
            "ticks": "",
            "zerolinecolor": "white"
           }
          },
          "shapedefaults": {
           "line": {
            "color": "#2a3f5f"
           }
          },
          "ternary": {
           "aaxis": {
            "gridcolor": "white",
            "linecolor": "white",
            "ticks": ""
           },
           "baxis": {
            "gridcolor": "white",
            "linecolor": "white",
            "ticks": ""
           },
           "bgcolor": "#E5ECF6",
           "caxis": {
            "gridcolor": "white",
            "linecolor": "white",
            "ticks": ""
           }
          },
          "title": {
           "x": 0.05
          },
          "xaxis": {
           "automargin": true,
           "gridcolor": "white",
           "linecolor": "white",
           "ticks": "",
           "title": {
            "standoff": 15
           },
           "zerolinecolor": "white",
           "zerolinewidth": 2
          },
          "yaxis": {
           "automargin": true,
           "gridcolor": "white",
           "linecolor": "white",
           "ticks": "",
           "title": {
            "standoff": 15
           },
           "zerolinecolor": "white",
           "zerolinewidth": 2
          }
         }
        },
        "title": {
         "text": "Sector Wise GDP (At Constant Prices Base Year 2004-2005)"
        },
        "xaxis": {
         "anchor": "y",
         "domain": [
          0,
          1
         ],
         "title": {
          "text": "Year"
         }
        },
        "yaxis": {
         "anchor": "x",
         "domain": [
          0,
          1
         ],
         "title": {
          "text": "Value(Rupees Crore)"
         }
        }
       }
      },
      "text/html": [
       "<div>                            <div id=\"f5dcf502-e8b1-4cdb-b147-0505896f6098\" class=\"plotly-graph-div\" style=\"height:525px; width:100%;\"></div>            <script type=\"text/javascript\">                require([\"plotly\"], function(Plotly) {                    window.PLOTLYENV=window.PLOTLYENV || {};                                    if (document.getElementById(\"f5dcf502-e8b1-4cdb-b147-0505896f6098\")) {                    Plotly.newPlot(                        \"f5dcf502-e8b1-4cdb-b147-0505896f6098\",                        [{\"hovertemplate\":\"variable=Agriculture & Allied Services (in Rs. Cr.) at 2004-05 Prices<br>Financial Year=%{x}<br>value=%{y}<extra></extra>\",\"legendgroup\":\"Agriculture & Allied Services (in Rs. Cr.) at 2004-05 Prices\",\"line\":{\"color\":\"#636efa\",\"dash\":\"solid\"},\"marker\":{\"symbol\":\"circle\"},\"mode\":\"lines\",\"name\":\"Agriculture & Allied Services (in Rs. Cr.) at 2004-05 Prices\",\"orientation\":\"v\",\"showlegend\":true,\"x\":[\"1951-01-01\",\"1952-01-01\",\"1953-01-01\",\"1954-01-01\",\"1955-01-01\",\"1956-01-01\",\"1957-01-01\",\"1958-01-01\",\"1959-01-01\",\"1960-01-01\",\"1961-01-01\",\"1962-01-01\",\"1963-01-01\",\"1964-01-01\",\"1965-01-01\",\"1966-01-01\",\"1967-01-01\",\"1968-01-01\",\"1969-01-01\",\"1970-01-01\",\"1971-01-01\",\"1972-01-01\",\"1973-01-01\",\"1974-01-01\",\"1975-01-01\",\"1976-01-01\",\"1977-01-01\",\"1978-01-01\",\"1979-01-01\",\"1980-01-01\",\"1981-01-01\",\"1982-01-01\",\"1983-01-01\",\"1984-01-01\",\"1985-01-01\",\"1986-01-01\",\"1987-01-01\",\"1988-01-01\",\"1989-01-01\",\"1990-01-01\",\"1991-01-01\",\"1992-01-01\",\"1993-01-01\",\"1994-01-01\",\"1995-01-01\",\"1996-01-01\",\"1997-01-01\",\"1998-01-01\",\"1999-01-01\",\"2000-01-01\",\"2001-01-01\",\"2002-01-01\",\"2003-01-01\",\"2004-01-01\",\"2005-01-01\",\"2006-01-01\",\"2007-01-01\",\"2008-01-01\",\"2009-01-01\",\"2010-01-01\",\"2011-01-01\",\"2012-01-01\"],\"xaxis\":\"x\",\"y\":[147215.64108196,151858.73630313302,163553.252821664,168360.958740467,166906.301162504,175979.57124596002,168074.67926632898,185009.899408296,183147.293579686,195482.360421601,195646.97111923,191755.359517669,196241.001028066,214342.81002714497,190674.654502798,187962.156485342,215913.768641476,215572.022519224,229427.949067496,245699.358678805,241086.68065175897,228987.79437600903,245479.281333062,241739.755702136,272899.487215327,257130.855930472,282937.161277286,289451.808560635,252475.235982305,285014.813295959,298130.263863734,297293.00992963096,327381.958419686,332571.264853139,333616.44744676,332250.339974136,326974.88038059,378112.599014824,382608.942918228,397971.05853382,390200.720438231,416152.996823509,429980.5408778269,450258.337771063,447127.344544422,491483.7151054539,478932.558649166,509203.272908272,522794.556699871,522754.7294486099,554157.0742792439,517559.24155757,564391.009571678,565426.0,594487.0,619190.0,655080.0,655689.0,660987.0,713477.0,739495.0,752746.3313920799],\"yaxis\":\"y\",\"type\":\"scatter\"},{\"hovertemplate\":\"variable=Agriculture (in Rs. Cr.) at 2004-05 Prices<br>Financial Year=%{x}<br>value=%{y}<extra></extra>\",\"legendgroup\":\"Agriculture (in Rs. Cr.) at 2004-05 Prices\",\"line\":{\"color\":\"#EF553B\",\"dash\":\"solid\"},\"marker\":{\"symbol\":\"circle\"},\"mode\":\"lines\",\"name\":\"Agriculture (in Rs. Cr.) at 2004-05 Prices\",\"orientation\":\"v\",\"showlegend\":true,\"x\":[\"1951-01-01\",\"1952-01-01\",\"1953-01-01\",\"1954-01-01\",\"1955-01-01\",\"1956-01-01\",\"1957-01-01\",\"1958-01-01\",\"1959-01-01\",\"1960-01-01\",\"1961-01-01\",\"1962-01-01\",\"1963-01-01\",\"1964-01-01\",\"1965-01-01\",\"1966-01-01\",\"1967-01-01\",\"1968-01-01\",\"1969-01-01\",\"1970-01-01\",\"1971-01-01\",\"1972-01-01\",\"1973-01-01\",\"1974-01-01\",\"1975-01-01\",\"1976-01-01\",\"1977-01-01\",\"1978-01-01\",\"1979-01-01\",\"1980-01-01\",\"1981-01-01\",\"1982-01-01\",\"1983-01-01\",\"1984-01-01\",\"1985-01-01\",\"1986-01-01\",\"1987-01-01\",\"1988-01-01\",\"1989-01-01\",\"1990-01-01\",\"1991-01-01\",\"1992-01-01\",\"1993-01-01\",\"1994-01-01\",\"1995-01-01\",\"1996-01-01\",\"1997-01-01\",\"1998-01-01\",\"1999-01-01\",\"2000-01-01\",\"2001-01-01\",\"2002-01-01\",\"2003-01-01\",\"2004-01-01\",\"2005-01-01\",\"2006-01-01\",\"2007-01-01\",\"2008-01-01\",\"2009-01-01\",\"2010-01-01\",\"2011-01-01\",\"2012-01-01\"],\"xaxis\":\"x\",\"y\":[118877.048078827,123822.315336893,134957.57698600902,138731.006537799,136678.88883207,144859.325260096,137497.493162771,152961.265382439,150729.727549434,161707.996587182,161186.556842284,157727.01653711498,160681.937734318,177283.90638639798,153404.20882165298,149894.302581801,175484.098234653,174878.555305094,187555.708672994,201455.161657968,196089.378476597,185055.040649074,200647.771085222,195119.388413506,222817.37056186,209266.27056734,235455.27577691892,240148.23348100303,208060.065093345,238101.722654252,249645.225220645,249295.742779104,276103.590029425,280200.268792544,280747.215239899,279649.10055096,274819.5698904309,321114.201473085,322383.766620286,336176.155006963,328407.105364659,351584.318683392,362764.19663302,379959.499344859,376243.391425441,415376.536244035,403029.52655763103,431719.330535129,442112.6414238651,439432.310042123,467814.52041992,429751.699609595,476324.268092513,476634.0,502996.0,523745.0,556956.0,555442.0,557715.0,606848.0,630540.0,null],\"yaxis\":\"y\",\"type\":\"scatter\"},{\"hovertemplate\":\"variable=Industry (in Rs. Cr.) at 2004-05 Prices<br>Financial Year=%{x}<br>value=%{y}<extra></extra>\",\"legendgroup\":\"Industry (in Rs. Cr.) at 2004-05 Prices\",\"line\":{\"color\":\"#00cc96\",\"dash\":\"solid\"},\"marker\":{\"symbol\":\"circle\"},\"mode\":\"lines\",\"name\":\"Industry (in Rs. Cr.) at 2004-05 Prices\",\"orientation\":\"v\",\"showlegend\":true,\"x\":[\"1951-01-01\",\"1952-01-01\",\"1953-01-01\",\"1954-01-01\",\"1955-01-01\",\"1956-01-01\",\"1957-01-01\",\"1958-01-01\",\"1959-01-01\",\"1960-01-01\",\"1961-01-01\",\"1962-01-01\",\"1963-01-01\",\"1964-01-01\",\"1965-01-01\",\"1966-01-01\",\"1967-01-01\",\"1968-01-01\",\"1969-01-01\",\"1970-01-01\",\"1971-01-01\",\"1972-01-01\",\"1973-01-01\",\"1974-01-01\",\"1975-01-01\",\"1976-01-01\",\"1977-01-01\",\"1978-01-01\",\"1979-01-01\",\"1980-01-01\",\"1981-01-01\",\"1982-01-01\",\"1983-01-01\",\"1984-01-01\",\"1985-01-01\",\"1986-01-01\",\"1987-01-01\",\"1988-01-01\",\"1989-01-01\",\"1990-01-01\",\"1991-01-01\",\"1992-01-01\",\"1993-01-01\",\"1994-01-01\",\"1995-01-01\",\"1996-01-01\",\"1997-01-01\",\"1998-01-01\",\"1999-01-01\",\"2000-01-01\",\"2001-01-01\",\"2002-01-01\",\"2003-01-01\",\"2004-01-01\",\"2005-01-01\",\"2006-01-01\",\"2007-01-01\",\"2008-01-01\",\"2009-01-01\",\"2010-01-01\",\"2011-01-01\",\"2012-01-01\"],\"xaxis\":\"x\",\"y\":[47767.952076714006,47738.62980282,50409.128114653,54574.451094847,60310.510849311,65479.96252772,64841.854378339,69335.25448404599,74081.44725568201,82412.644782316,88005.758060268,93995.713982118,103220.960069455,110194.954775621,114705.939857285,118823.443277867,122754.600646157,128685.280052253,138291.30354502698,139321.303028158,142814.246508238,148011.438342159,148920.039468264,151023.852445456,161723.378873807,175745.24811041198,188059.068251558,201012.15615245295,194656.21011745103,204861.19563380704,221264.279487225,224401.75438974096,242074.632335145,251942.162305781,262984.57791197504,278124.168108658,293614.731515025,320331.487824256,346926.288949108,372359.78002312407,373634.185048675,385646.941887954,406847.539496331,444121.941562346,494262.3370126,525864.105413749,546965.734879535,569655.818321845,603631.436819366,640043.2753765051,656736.5474033899,704095.4906857699,755625.377340667,829783.0,910413.0,1021204.0,1119995.0,1169736.0,1276919.0,1393879.0,1442498.0,1487533.36181175],\"yaxis\":\"y\",\"type\":\"scatter\"},{\"hovertemplate\":\"variable=Mining and Quarrying (in Rs. Cr.) at 2004-05 Prices<br>Financial Year=%{x}<br>value=%{y}<extra></extra>\",\"legendgroup\":\"Mining and Quarrying (in Rs. Cr.) at 2004-05 Prices\",\"line\":{\"color\":\"#ab63fa\",\"dash\":\"solid\"},\"marker\":{\"symbol\":\"circle\"},\"mode\":\"lines\",\"name\":\"Mining and Quarrying (in Rs. Cr.) at 2004-05 Prices\",\"orientation\":\"v\",\"showlegend\":true,\"x\":[\"1951-01-01\",\"1952-01-01\",\"1953-01-01\",\"1954-01-01\",\"1955-01-01\",\"1956-01-01\",\"1957-01-01\",\"1958-01-01\",\"1959-01-01\",\"1960-01-01\",\"1961-01-01\",\"1962-01-01\",\"1963-01-01\",\"1964-01-01\",\"1965-01-01\",\"1966-01-01\",\"1967-01-01\",\"1968-01-01\",\"1969-01-01\",\"1970-01-01\",\"1971-01-01\",\"1972-01-01\",\"1973-01-01\",\"1974-01-01\",\"1975-01-01\",\"1976-01-01\",\"1977-01-01\",\"1978-01-01\",\"1979-01-01\",\"1980-01-01\",\"1981-01-01\",\"1982-01-01\",\"1983-01-01\",\"1984-01-01\",\"1985-01-01\",\"1986-01-01\",\"1987-01-01\",\"1988-01-01\",\"1989-01-01\",\"1990-01-01\",\"1991-01-01\",\"1992-01-01\",\"1993-01-01\",\"1994-01-01\",\"1995-01-01\",\"1996-01-01\",\"1997-01-01\",\"1998-01-01\",\"1999-01-01\",\"2000-01-01\",\"2001-01-01\",\"2002-01-01\",\"2003-01-01\",\"2004-01-01\",\"2005-01-01\",\"2006-01-01\",\"2007-01-01\",\"2008-01-01\",\"2009-01-01\",\"2010-01-01\",\"2011-01-01\",\"2012-01-01\"],\"xaxis\":\"x\",\"y\":[5771.6876959,5904.766746105,5993.486112908001,6249.786505894,6348.363580119,6671.203498208,7104.9426248,7326.741041807,7703.798350719,8857.150119157,9367.286478274,10478.742990166,10789.260773976,10944.519665881,12230.950484523,12519.288426633,12898.810162401,13263.545337035,13919.082880634,12965.349687503,13307.905020436,14094.057187384002,14271.49592099,14978.786428557998,16795.069021162002,17391.460320226004,17936.098655321002,18422.645273256,18621.209321188,20890.946455229,23745.429708392003,26568.677497055,27337.762940401,27658.24101425,29167.034006165,32738.881775317,33973.93455650099,39468.090900938,42465.675632731,46909.408135344,48484.348479086,48930.678788679,49611.033117903,54218.949812881,57399.56945648699,57718.089724305006,63380.265496549,65170.971558234,67901.611245053,69471.901615775,70765.51188702599,76721.054200687,78792.336105175,85028.0,86141.0,92578.0,95997.0,98055.0,103830.0,108938.0,108249.0,108713.492560351],\"yaxis\":\"y\",\"type\":\"scatter\"}],                        {\"template\":{\"data\":{\"histogram2dcontour\":[{\"type\":\"histogram2dcontour\",\"colorbar\":{\"outlinewidth\":0,\"ticks\":\"\"},\"colorscale\":[[0.0,\"#0d0887\"],[0.1111111111111111,\"#46039f\"],[0.2222222222222222,\"#7201a8\"],[0.3333333333333333,\"#9c179e\"],[0.4444444444444444,\"#bd3786\"],[0.5555555555555556,\"#d8576b\"],[0.6666666666666666,\"#ed7953\"],[0.7777777777777778,\"#fb9f3a\"],[0.8888888888888888,\"#fdca26\"],[1.0,\"#f0f921\"]]}],\"choropleth\":[{\"type\":\"choropleth\",\"colorbar\":{\"outlinewidth\":0,\"ticks\":\"\"}}],\"histogram2d\":[{\"type\":\"histogram2d\",\"colorbar\":{\"outlinewidth\":0,\"ticks\":\"\"},\"colorscale\":[[0.0,\"#0d0887\"],[0.1111111111111111,\"#46039f\"],[0.2222222222222222,\"#7201a8\"],[0.3333333333333333,\"#9c179e\"],[0.4444444444444444,\"#bd3786\"],[0.5555555555555556,\"#d8576b\"],[0.6666666666666666,\"#ed7953\"],[0.7777777777777778,\"#fb9f3a\"],[0.8888888888888888,\"#fdca26\"],[1.0,\"#f0f921\"]]}],\"heatmap\":[{\"type\":\"heatmap\",\"colorbar\":{\"outlinewidth\":0,\"ticks\":\"\"},\"colorscale\":[[0.0,\"#0d0887\"],[0.1111111111111111,\"#46039f\"],[0.2222222222222222,\"#7201a8\"],[0.3333333333333333,\"#9c179e\"],[0.4444444444444444,\"#bd3786\"],[0.5555555555555556,\"#d8576b\"],[0.6666666666666666,\"#ed7953\"],[0.7777777777777778,\"#fb9f3a\"],[0.8888888888888888,\"#fdca26\"],[1.0,\"#f0f921\"]]}],\"heatmapgl\":[{\"type\":\"heatmapgl\",\"colorbar\":{\"outlinewidth\":0,\"ticks\":\"\"},\"colorscale\":[[0.0,\"#0d0887\"],[0.1111111111111111,\"#46039f\"],[0.2222222222222222,\"#7201a8\"],[0.3333333333333333,\"#9c179e\"],[0.4444444444444444,\"#bd3786\"],[0.5555555555555556,\"#d8576b\"],[0.6666666666666666,\"#ed7953\"],[0.7777777777777778,\"#fb9f3a\"],[0.8888888888888888,\"#fdca26\"],[1.0,\"#f0f921\"]]}],\"contourcarpet\":[{\"type\":\"contourcarpet\",\"colorbar\":{\"outlinewidth\":0,\"ticks\":\"\"}}],\"contour\":[{\"type\":\"contour\",\"colorbar\":{\"outlinewidth\":0,\"ticks\":\"\"},\"colorscale\":[[0.0,\"#0d0887\"],[0.1111111111111111,\"#46039f\"],[0.2222222222222222,\"#7201a8\"],[0.3333333333333333,\"#9c179e\"],[0.4444444444444444,\"#bd3786\"],[0.5555555555555556,\"#d8576b\"],[0.6666666666666666,\"#ed7953\"],[0.7777777777777778,\"#fb9f3a\"],[0.8888888888888888,\"#fdca26\"],[1.0,\"#f0f921\"]]}],\"surface\":[{\"type\":\"surface\",\"colorbar\":{\"outlinewidth\":0,\"ticks\":\"\"},\"colorscale\":[[0.0,\"#0d0887\"],[0.1111111111111111,\"#46039f\"],[0.2222222222222222,\"#7201a8\"],[0.3333333333333333,\"#9c179e\"],[0.4444444444444444,\"#bd3786\"],[0.5555555555555556,\"#d8576b\"],[0.6666666666666666,\"#ed7953\"],[0.7777777777777778,\"#fb9f3a\"],[0.8888888888888888,\"#fdca26\"],[1.0,\"#f0f921\"]]}],\"mesh3d\":[{\"type\":\"mesh3d\",\"colorbar\":{\"outlinewidth\":0,\"ticks\":\"\"}}],\"scatter\":[{\"fillpattern\":{\"fillmode\":\"overlay\",\"size\":10,\"solidity\":0.2},\"type\":\"scatter\"}],\"parcoords\":[{\"type\":\"parcoords\",\"line\":{\"colorbar\":{\"outlinewidth\":0,\"ticks\":\"\"}}}],\"scatterpolargl\":[{\"type\":\"scatterpolargl\",\"marker\":{\"colorbar\":{\"outlinewidth\":0,\"ticks\":\"\"}}}],\"bar\":[{\"error_x\":{\"color\":\"#2a3f5f\"},\"error_y\":{\"color\":\"#2a3f5f\"},\"marker\":{\"line\":{\"color\":\"#E5ECF6\",\"width\":0.5},\"pattern\":{\"fillmode\":\"overlay\",\"size\":10,\"solidity\":0.2}},\"type\":\"bar\"}],\"scattergeo\":[{\"type\":\"scattergeo\",\"marker\":{\"colorbar\":{\"outlinewidth\":0,\"ticks\":\"\"}}}],\"scatterpolar\":[{\"type\":\"scatterpolar\",\"marker\":{\"colorbar\":{\"outlinewidth\":0,\"ticks\":\"\"}}}],\"histogram\":[{\"marker\":{\"pattern\":{\"fillmode\":\"overlay\",\"size\":10,\"solidity\":0.2}},\"type\":\"histogram\"}],\"scattergl\":[{\"type\":\"scattergl\",\"marker\":{\"colorbar\":{\"outlinewidth\":0,\"ticks\":\"\"}}}],\"scatter3d\":[{\"type\":\"scatter3d\",\"line\":{\"colorbar\":{\"outlinewidth\":0,\"ticks\":\"\"}},\"marker\":{\"colorbar\":{\"outlinewidth\":0,\"ticks\":\"\"}}}],\"scattermapbox\":[{\"type\":\"scattermapbox\",\"marker\":{\"colorbar\":{\"outlinewidth\":0,\"ticks\":\"\"}}}],\"scatterternary\":[{\"type\":\"scatterternary\",\"marker\":{\"colorbar\":{\"outlinewidth\":0,\"ticks\":\"\"}}}],\"scattercarpet\":[{\"type\":\"scattercarpet\",\"marker\":{\"colorbar\":{\"outlinewidth\":0,\"ticks\":\"\"}}}],\"carpet\":[{\"aaxis\":{\"endlinecolor\":\"#2a3f5f\",\"gridcolor\":\"white\",\"linecolor\":\"white\",\"minorgridcolor\":\"white\",\"startlinecolor\":\"#2a3f5f\"},\"baxis\":{\"endlinecolor\":\"#2a3f5f\",\"gridcolor\":\"white\",\"linecolor\":\"white\",\"minorgridcolor\":\"white\",\"startlinecolor\":\"#2a3f5f\"},\"type\":\"carpet\"}],\"table\":[{\"cells\":{\"fill\":{\"color\":\"#EBF0F8\"},\"line\":{\"color\":\"white\"}},\"header\":{\"fill\":{\"color\":\"#C8D4E3\"},\"line\":{\"color\":\"white\"}},\"type\":\"table\"}],\"barpolar\":[{\"marker\":{\"line\":{\"color\":\"#E5ECF6\",\"width\":0.5},\"pattern\":{\"fillmode\":\"overlay\",\"size\":10,\"solidity\":0.2}},\"type\":\"barpolar\"}],\"pie\":[{\"automargin\":true,\"type\":\"pie\"}]},\"layout\":{\"autotypenumbers\":\"strict\",\"colorway\":[\"#636efa\",\"#EF553B\",\"#00cc96\",\"#ab63fa\",\"#FFA15A\",\"#19d3f3\",\"#FF6692\",\"#B6E880\",\"#FF97FF\",\"#FECB52\"],\"font\":{\"color\":\"#2a3f5f\"},\"hovermode\":\"closest\",\"hoverlabel\":{\"align\":\"left\"},\"paper_bgcolor\":\"white\",\"plot_bgcolor\":\"#E5ECF6\",\"polar\":{\"bgcolor\":\"#E5ECF6\",\"angularaxis\":{\"gridcolor\":\"white\",\"linecolor\":\"white\",\"ticks\":\"\"},\"radialaxis\":{\"gridcolor\":\"white\",\"linecolor\":\"white\",\"ticks\":\"\"}},\"ternary\":{\"bgcolor\":\"#E5ECF6\",\"aaxis\":{\"gridcolor\":\"white\",\"linecolor\":\"white\",\"ticks\":\"\"},\"baxis\":{\"gridcolor\":\"white\",\"linecolor\":\"white\",\"ticks\":\"\"},\"caxis\":{\"gridcolor\":\"white\",\"linecolor\":\"white\",\"ticks\":\"\"}},\"coloraxis\":{\"colorbar\":{\"outlinewidth\":0,\"ticks\":\"\"}},\"colorscale\":{\"sequential\":[[0.0,\"#0d0887\"],[0.1111111111111111,\"#46039f\"],[0.2222222222222222,\"#7201a8\"],[0.3333333333333333,\"#9c179e\"],[0.4444444444444444,\"#bd3786\"],[0.5555555555555556,\"#d8576b\"],[0.6666666666666666,\"#ed7953\"],[0.7777777777777778,\"#fb9f3a\"],[0.8888888888888888,\"#fdca26\"],[1.0,\"#f0f921\"]],\"sequentialminus\":[[0.0,\"#0d0887\"],[0.1111111111111111,\"#46039f\"],[0.2222222222222222,\"#7201a8\"],[0.3333333333333333,\"#9c179e\"],[0.4444444444444444,\"#bd3786\"],[0.5555555555555556,\"#d8576b\"],[0.6666666666666666,\"#ed7953\"],[0.7777777777777778,\"#fb9f3a\"],[0.8888888888888888,\"#fdca26\"],[1.0,\"#f0f921\"]],\"diverging\":[[0,\"#8e0152\"],[0.1,\"#c51b7d\"],[0.2,\"#de77ae\"],[0.3,\"#f1b6da\"],[0.4,\"#fde0ef\"],[0.5,\"#f7f7f7\"],[0.6,\"#e6f5d0\"],[0.7,\"#b8e186\"],[0.8,\"#7fbc41\"],[0.9,\"#4d9221\"],[1,\"#276419\"]]},\"xaxis\":{\"gridcolor\":\"white\",\"linecolor\":\"white\",\"ticks\":\"\",\"title\":{\"standoff\":15},\"zerolinecolor\":\"white\",\"automargin\":true,\"zerolinewidth\":2},\"yaxis\":{\"gridcolor\":\"white\",\"linecolor\":\"white\",\"ticks\":\"\",\"title\":{\"standoff\":15},\"zerolinecolor\":\"white\",\"automargin\":true,\"zerolinewidth\":2},\"scene\":{\"xaxis\":{\"backgroundcolor\":\"#E5ECF6\",\"gridcolor\":\"white\",\"linecolor\":\"white\",\"showbackground\":true,\"ticks\":\"\",\"zerolinecolor\":\"white\",\"gridwidth\":2},\"yaxis\":{\"backgroundcolor\":\"#E5ECF6\",\"gridcolor\":\"white\",\"linecolor\":\"white\",\"showbackground\":true,\"ticks\":\"\",\"zerolinecolor\":\"white\",\"gridwidth\":2},\"zaxis\":{\"backgroundcolor\":\"#E5ECF6\",\"gridcolor\":\"white\",\"linecolor\":\"white\",\"showbackground\":true,\"ticks\":\"\",\"zerolinecolor\":\"white\",\"gridwidth\":2}},\"shapedefaults\":{\"line\":{\"color\":\"#2a3f5f\"}},\"annotationdefaults\":{\"arrowcolor\":\"#2a3f5f\",\"arrowhead\":0,\"arrowwidth\":1},\"geo\":{\"bgcolor\":\"white\",\"landcolor\":\"#E5ECF6\",\"subunitcolor\":\"white\",\"showland\":true,\"showlakes\":true,\"lakecolor\":\"white\"},\"title\":{\"x\":0.05},\"mapbox\":{\"style\":\"light\"}}},\"xaxis\":{\"anchor\":\"y\",\"domain\":[0.0,1.0],\"title\":{\"text\":\"Year\"}},\"yaxis\":{\"anchor\":\"x\",\"domain\":[0.0,1.0],\"title\":{\"text\":\"Value(Rupees Crore)\"}},\"legend\":{\"title\":{\"text\":\"variable\"},\"tracegroupgap\":0},\"title\":{\"text\":\"Sector Wise GDP (At Constant Prices Base Year 2004-2005)\"}},                        {\"responsive\": true}                    ).then(function(){\n",
       "                            \n",
       "var gd = document.getElementById('f5dcf502-e8b1-4cdb-b147-0505896f6098');\n",
       "var x = new MutationObserver(function (mutations, observer) {{\n",
       "        var display = window.getComputedStyle(gd).display;\n",
       "        if (!display || display === 'none') {{\n",
       "            console.log([gd, 'removed!']);\n",
       "            Plotly.purge(gd);\n",
       "            observer.disconnect();\n",
       "        }}\n",
       "}});\n",
       "\n",
       "// Listen for the removal of the full notebook cells\n",
       "var notebookContainer = gd.closest('#notebook-container');\n",
       "if (notebookContainer) {{\n",
       "    x.observe(notebookContainer, {childList: true});\n",
       "}}\n",
       "\n",
       "// Listen for the clearing of the current output cell\n",
       "var outputEl = gd.closest('.output');\n",
       "if (outputEl) {{\n",
       "    x.observe(outputEl, {childList: true});\n",
       "}}\n",
       "\n",
       "                        })                };                });            </script>        </div>"
      ]
     },
     "metadata": {},
     "output_type": "display_data"
    }
   ],
   "source": [
    "gdp_major_sector = pd.read_csv('Final/gdp_major_sector.csv')\n",
    "title = \"Sector Wise GDP (At Constant Prices Base Year 2004-2005)\"\n",
    "fig = px.line(gdp_major_sector, x='Financial Year', y=['Agriculture & Allied Services (in Rs. Cr.) at 2004-05 Prices',\n",
    "       'Agriculture (in Rs. Cr.) at 2004-05 Prices',\n",
    "       'Industry (in Rs. Cr.) at 2004-05 Prices',\n",
    "       'Mining and Quarrying (in Rs. Cr.) at 2004-05 Prices'], title=title)\n",
    "\n",
    "fig.update_layout(xaxis_title='Year', yaxis_title='Value(Rupees Crore)')\n",
    "\n",
    "fig.show()\n"
   ]
  },
  {
   "attachments": {},
   "cell_type": "markdown",
   "metadata": {},
   "source": [
    "The GDP of India has been rising rapidly. Similar trend can be seen across all the sectors of the economy. However, their share in GDP has changed over the past years. As we all know, India is highly dependent on agriculture. After independence, agriculture contributed much more in GDP than industry. However with rapid industrial development the industry sector has grown much faster. We belive that such high growth in industrial sector after 1990 is due to the liberalistion policy that was implemented during that time. Now industry contributes much more than agriculture and is one of the fastest growing sector."
   ]
  },
  {
   "attachments": {},
   "cell_type": "markdown",
   "metadata": {},
   "source": [
    "# Exchange Rates"
   ]
  },
  {
   "cell_type": "code",
   "execution_count": 22,
   "metadata": {},
   "outputs": [
    {
     "data": {
      "application/vnd.plotly.v1+json": {
       "config": {
        "plotlyServerURL": "https://plot.ly"
       },
       "data": [
        {
         "hovertemplate": "variable=SDR<br>Year=%{x}<br>value=%{y}<extra></extra>",
         "legendgroup": "SDR",
         "line": {
          "color": "#636efa",
          "dash": "solid"
         },
         "marker": {
          "symbol": "circle"
         },
         "mode": "lines",
         "name": "SDR",
         "orientation": "v",
         "showlegend": true,
         "type": "scatter",
         "x": [
          1970,
          1971,
          1972,
          1973,
          1974,
          1975,
          1976,
          1977,
          1978,
          1979,
          1980,
          1981,
          1982,
          1983,
          1984,
          1985,
          1986,
          1987,
          1988,
          1989,
          1990,
          1991,
          1992,
          1993,
          1994,
          1995,
          1996,
          1997,
          1998,
          1999,
          2000,
          2001,
          2002,
          2003,
          2004,
          2005,
          2006,
          2007,
          2008,
          2009,
          2010,
          2011,
          2012,
          2013,
          2014,
          2015,
          2016,
          2017,
          2018,
          2019,
          2020,
          2021
         ],
         "xaxis": "x",
         "y": [
          7.5895,
          8.1601,
          9.0084,
          9.2293,
          9.759,
          9.7043,
          10.4016,
          10.2279,
          10.2782,
          10.5284,
          10.2611,
          10.2418,
          10.4766,
          10.831,
          11.6482,
          12.5625,
          14.8083,
          16.7617,
          18.6994,
          20.7906,
          23.7922,
          31.095,
          36.5094,
          42.6318,
          44.9296,
          49.1803,
          51.435,
          49.9584,
          56.0329,
          58.8799,
          59.2475,
          60.0782,
          62.9532,
          65.2192,
          67.1058,
          65.1404,
          66.6775,
          63.2702,
          68.6477,
          74.588,
          69.7509,
          73.6424,
          81.7876,
          89.0613,
          92.7309,
          89.7461,
          93.4012,
          90.2966,
          96.7832,
          97.2947,
          103.24,
          105.3257
         ],
         "yaxis": "y"
        },
        {
         "hovertemplate": "variable=US Dollar<br>Year=%{x}<br>value=%{y}<extra></extra>",
         "legendgroup": "US Dollar",
         "line": {
          "color": "#EF553B",
          "dash": "solid"
         },
         "marker": {
          "symbol": "circle"
         },
         "mode": "lines",
         "name": "US Dollar",
         "orientation": "v",
         "showlegend": true,
         "type": "scatter",
         "x": [
          1970,
          1971,
          1972,
          1973,
          1974,
          1975,
          1976,
          1977,
          1978,
          1979,
          1980,
          1981,
          1982,
          1983,
          1984,
          1985,
          1986,
          1987,
          1988,
          1989,
          1990,
          1991,
          1992,
          1993,
          1994,
          1995,
          1996,
          1997,
          1998,
          1999,
          2000,
          2001,
          2002,
          2003,
          2004,
          2005,
          2006,
          2007,
          2008,
          2009,
          2010,
          2011,
          2012,
          2013,
          2014,
          2015,
          2016,
          2017,
          2018,
          2019,
          2020,
          2021
         ],
         "xaxis": "x",
         "y": [
          7.5668,
          7.5244,
          7.5563,
          7.6742,
          8.0375,
          8.4058,
          9.0017,
          8.7625,
          8.2133,
          8.1467,
          7.88,
          8.6926,
          9.4924,
          10.1379,
          11.3683,
          12.364,
          12.6053,
          12.9552,
          13.9147,
          16.2238,
          17.4992,
          22.689,
          25.9206,
          31.4458,
          31.3742,
          32.4232,
          35.4294,
          36.3196,
          41.2677,
          43.0485,
          44.9401,
          47.1857,
          48.5993,
          46.5819,
          45.3165,
          44.1,
          45.307,
          41.3485,
          43.5049,
          48.4049,
          45.7262,
          46.6723,
          53.4376,
          58.5978,
          61.0295,
          64.1519,
          67.1953,
          65.1216,
          68.3895,
          70.4203,
          74.0996,
          73.918
         ],
         "yaxis": "y"
        },
        {
         "hovertemplate": "variable=Pound Sterling<br>Year=%{x}<br>value=%{y}<extra></extra>",
         "legendgroup": "Pound Sterling",
         "line": {
          "color": "#00cc96",
          "dash": "solid"
         },
         "marker": {
          "symbol": "circle"
         },
         "mode": "lines",
         "name": "Pound Sterling",
         "orientation": "v",
         "showlegend": true,
         "type": "scatter",
         "x": [
          1970,
          1971,
          1972,
          1973,
          1974,
          1975,
          1976,
          1977,
          1978,
          1979,
          1980,
          1981,
          1982,
          1983,
          1984,
          1985,
          1986,
          1987,
          1988,
          1989,
          1990,
          1991,
          1992,
          1993,
          1994,
          1995,
          1996,
          1997,
          1998,
          1999,
          2000,
          2001,
          2002,
          2003,
          2004,
          2005,
          2006,
          2007,
          2008,
          2009,
          2010,
          2011,
          2012,
          2013,
          2014,
          2015,
          2016,
          2017,
          2018,
          2019,
          2020,
          2021
         ],
         "xaxis": "x",
         "y": [
          18,
          18,
          18.885,
          18.8,
          18.8,
          18.6125,
          16.2542,
          15.2917,
          15.7633,
          17.2783,
          18.3242,
          17.5423,
          16.5954,
          15.3653,
          15.1469,
          15.9904,
          18.4924,
          21.2366,
          24.7729,
          26.5515,
          31.2835,
          39.9941,
          45.7104,
          47.2165,
          48.0543,
          51.168,
          55.3482,
          59.5289,
          68.3511,
          69.6786,
          68.076,
          67.9834,
          72.9988,
          76.0974,
          82.9983,
          80.253,
          83.5115,
          82.7218,
          80.1362,
          75.7282,
          70.6912,
          74.7736,
          84.6955,
          91.7716,
          100.544,
          98.1323,
          91.1248,
          83.876,
          91.2189,
          89.9351,
          95.0919,
          101.6904
         ],
         "yaxis": "y"
        },
        {
         "hovertemplate": "variable=Japanese Yen<br>Year=%{x}<br>value=%{y}<extra></extra>",
         "legendgroup": "Japanese Yen",
         "line": {
          "color": "#ab63fa",
          "dash": "solid"
         },
         "marker": {
          "symbol": "circle"
         },
         "mode": "lines",
         "name": "Japanese Yen",
         "orientation": "v",
         "showlegend": true,
         "type": "scatter",
         "x": [
          1970,
          1971,
          1972,
          1973,
          1974,
          1975,
          1976,
          1977,
          1978,
          1979,
          1980,
          1981,
          1982,
          1983,
          1984,
          1985,
          1986,
          1987,
          1988,
          1989,
          1990,
          1991,
          1992,
          1993,
          1994,
          1995,
          1996,
          1997,
          1998,
          1999,
          2000,
          2001,
          2002,
          2003,
          2004,
          2005,
          2006,
          2007,
          2008,
          2009,
          2010,
          2011,
          2012,
          2013,
          2014,
          2015,
          2016,
          2017,
          2018,
          2019,
          2020,
          2021
         ],
         "xaxis": "x",
         "y": [
          2.1578,
          2.4819,
          2.7811,
          3,
          3,
          3,
          3,
          3.17,
          3.92,
          3.92,
          3.83,
          3.96,
          3.82,
          4.26,
          4.79,
          5.22,
          7.54,
          8.98,
          10.87,
          11.76,
          12.16,
          16.92,
          20.48,
          28.3625,
          30.7424,
          34.6154,
          32.5975,
          30.048,
          31.6646,
          37.9595,
          41.7257,
          38.8674,
          38.873,
          40.2047,
          41.8941,
          40.102,
          38.9752,
          35.1348,
          42.3079,
          51.8119,
          52.1669,
          58.6244,
          67.0289,
          60.0777,
          57.7919,
          53.0212,
          61.934,
          58.0652,
          61.8963,
          64.6161,
          69.4479,
          67.3794
         ],
         "yaxis": "y"
        },
        {
         "hovertemplate": "variable=Deutsche Mark/Euro<br>Year=%{x}<br>value=%{y}<extra></extra>",
         "legendgroup": "Deutsche Mark/Euro",
         "line": {
          "color": "#FFA15A",
          "dash": "solid"
         },
         "marker": {
          "symbol": "circle"
         },
         "mode": "lines",
         "name": "Deutsche Mark/Euro",
         "orientation": "v",
         "showlegend": true,
         "type": "scatter",
         "x": [
          1970,
          1971,
          1972,
          1973,
          1974,
          1975,
          1976,
          1977,
          1978,
          1979,
          1980,
          1981,
          1982,
          1983,
          1984,
          1985,
          1986,
          1987,
          1988,
          1989,
          1990,
          1991,
          1992,
          1993,
          1994,
          1995,
          1996,
          1997,
          1998,
          1999,
          2000,
          2001,
          2002,
          2003,
          2004,
          2005,
          2006,
          2007,
          2008,
          2009,
          2010,
          2011,
          2012,
          2013,
          2014,
          2015,
          2016,
          2017,
          2018,
          2019,
          2020,
          2021
         ],
         "xaxis": "x",
         "y": [
          2.0674,
          2.1453,
          2.3698,
          2.8958,
          3.1108,
          3.4167,
          3.575,
          3.7767,
          4.0975,
          4.4483,
          4.3433,
          3.8512,
          3.9129,
          3.976,
          3.9979,
          4.2282,
          5.8414,
          7.2207,
          7.9297,
          8.6438,
          10.8694,
          13.6991,
          16.6354,
          19.0285,
          19.3729,
          22.6558,
          23.5666,
          20.9857,
          23.5074,
          45.9951,
          41.4939,
          42.2869,
          45.8873,
          52.6604,
          56.3259,
          54.8993,
          56.9279,
          56.6019,
          63.7403,
          67.3928,
          60.6683,
          64.8794,
          68.6729,
          77.8974,
          81.1161,
          71.2435,
          74.3754,
          73.5104,
          80.714,
          78.8466,
          84.5684,
          87.476
         ],
         "yaxis": "y"
        }
       ],
       "layout": {
        "legend": {
         "title": {
          "text": "variable"
         },
         "tracegroupgap": 0
        },
        "template": {
         "data": {
          "bar": [
           {
            "error_x": {
             "color": "#2a3f5f"
            },
            "error_y": {
             "color": "#2a3f5f"
            },
            "marker": {
             "line": {
              "color": "#E5ECF6",
              "width": 0.5
             },
             "pattern": {
              "fillmode": "overlay",
              "size": 10,
              "solidity": 0.2
             }
            },
            "type": "bar"
           }
          ],
          "barpolar": [
           {
            "marker": {
             "line": {
              "color": "#E5ECF6",
              "width": 0.5
             },
             "pattern": {
              "fillmode": "overlay",
              "size": 10,
              "solidity": 0.2
             }
            },
            "type": "barpolar"
           }
          ],
          "carpet": [
           {
            "aaxis": {
             "endlinecolor": "#2a3f5f",
             "gridcolor": "white",
             "linecolor": "white",
             "minorgridcolor": "white",
             "startlinecolor": "#2a3f5f"
            },
            "baxis": {
             "endlinecolor": "#2a3f5f",
             "gridcolor": "white",
             "linecolor": "white",
             "minorgridcolor": "white",
             "startlinecolor": "#2a3f5f"
            },
            "type": "carpet"
           }
          ],
          "choropleth": [
           {
            "colorbar": {
             "outlinewidth": 0,
             "ticks": ""
            },
            "type": "choropleth"
           }
          ],
          "contour": [
           {
            "colorbar": {
             "outlinewidth": 0,
             "ticks": ""
            },
            "colorscale": [
             [
              0,
              "#0d0887"
             ],
             [
              0.1111111111111111,
              "#46039f"
             ],
             [
              0.2222222222222222,
              "#7201a8"
             ],
             [
              0.3333333333333333,
              "#9c179e"
             ],
             [
              0.4444444444444444,
              "#bd3786"
             ],
             [
              0.5555555555555556,
              "#d8576b"
             ],
             [
              0.6666666666666666,
              "#ed7953"
             ],
             [
              0.7777777777777778,
              "#fb9f3a"
             ],
             [
              0.8888888888888888,
              "#fdca26"
             ],
             [
              1,
              "#f0f921"
             ]
            ],
            "type": "contour"
           }
          ],
          "contourcarpet": [
           {
            "colorbar": {
             "outlinewidth": 0,
             "ticks": ""
            },
            "type": "contourcarpet"
           }
          ],
          "heatmap": [
           {
            "colorbar": {
             "outlinewidth": 0,
             "ticks": ""
            },
            "colorscale": [
             [
              0,
              "#0d0887"
             ],
             [
              0.1111111111111111,
              "#46039f"
             ],
             [
              0.2222222222222222,
              "#7201a8"
             ],
             [
              0.3333333333333333,
              "#9c179e"
             ],
             [
              0.4444444444444444,
              "#bd3786"
             ],
             [
              0.5555555555555556,
              "#d8576b"
             ],
             [
              0.6666666666666666,
              "#ed7953"
             ],
             [
              0.7777777777777778,
              "#fb9f3a"
             ],
             [
              0.8888888888888888,
              "#fdca26"
             ],
             [
              1,
              "#f0f921"
             ]
            ],
            "type": "heatmap"
           }
          ],
          "heatmapgl": [
           {
            "colorbar": {
             "outlinewidth": 0,
             "ticks": ""
            },
            "colorscale": [
             [
              0,
              "#0d0887"
             ],
             [
              0.1111111111111111,
              "#46039f"
             ],
             [
              0.2222222222222222,
              "#7201a8"
             ],
             [
              0.3333333333333333,
              "#9c179e"
             ],
             [
              0.4444444444444444,
              "#bd3786"
             ],
             [
              0.5555555555555556,
              "#d8576b"
             ],
             [
              0.6666666666666666,
              "#ed7953"
             ],
             [
              0.7777777777777778,
              "#fb9f3a"
             ],
             [
              0.8888888888888888,
              "#fdca26"
             ],
             [
              1,
              "#f0f921"
             ]
            ],
            "type": "heatmapgl"
           }
          ],
          "histogram": [
           {
            "marker": {
             "pattern": {
              "fillmode": "overlay",
              "size": 10,
              "solidity": 0.2
             }
            },
            "type": "histogram"
           }
          ],
          "histogram2d": [
           {
            "colorbar": {
             "outlinewidth": 0,
             "ticks": ""
            },
            "colorscale": [
             [
              0,
              "#0d0887"
             ],
             [
              0.1111111111111111,
              "#46039f"
             ],
             [
              0.2222222222222222,
              "#7201a8"
             ],
             [
              0.3333333333333333,
              "#9c179e"
             ],
             [
              0.4444444444444444,
              "#bd3786"
             ],
             [
              0.5555555555555556,
              "#d8576b"
             ],
             [
              0.6666666666666666,
              "#ed7953"
             ],
             [
              0.7777777777777778,
              "#fb9f3a"
             ],
             [
              0.8888888888888888,
              "#fdca26"
             ],
             [
              1,
              "#f0f921"
             ]
            ],
            "type": "histogram2d"
           }
          ],
          "histogram2dcontour": [
           {
            "colorbar": {
             "outlinewidth": 0,
             "ticks": ""
            },
            "colorscale": [
             [
              0,
              "#0d0887"
             ],
             [
              0.1111111111111111,
              "#46039f"
             ],
             [
              0.2222222222222222,
              "#7201a8"
             ],
             [
              0.3333333333333333,
              "#9c179e"
             ],
             [
              0.4444444444444444,
              "#bd3786"
             ],
             [
              0.5555555555555556,
              "#d8576b"
             ],
             [
              0.6666666666666666,
              "#ed7953"
             ],
             [
              0.7777777777777778,
              "#fb9f3a"
             ],
             [
              0.8888888888888888,
              "#fdca26"
             ],
             [
              1,
              "#f0f921"
             ]
            ],
            "type": "histogram2dcontour"
           }
          ],
          "mesh3d": [
           {
            "colorbar": {
             "outlinewidth": 0,
             "ticks": ""
            },
            "type": "mesh3d"
           }
          ],
          "parcoords": [
           {
            "line": {
             "colorbar": {
              "outlinewidth": 0,
              "ticks": ""
             }
            },
            "type": "parcoords"
           }
          ],
          "pie": [
           {
            "automargin": true,
            "type": "pie"
           }
          ],
          "scatter": [
           {
            "fillpattern": {
             "fillmode": "overlay",
             "size": 10,
             "solidity": 0.2
            },
            "type": "scatter"
           }
          ],
          "scatter3d": [
           {
            "line": {
             "colorbar": {
              "outlinewidth": 0,
              "ticks": ""
             }
            },
            "marker": {
             "colorbar": {
              "outlinewidth": 0,
              "ticks": ""
             }
            },
            "type": "scatter3d"
           }
          ],
          "scattercarpet": [
           {
            "marker": {
             "colorbar": {
              "outlinewidth": 0,
              "ticks": ""
             }
            },
            "type": "scattercarpet"
           }
          ],
          "scattergeo": [
           {
            "marker": {
             "colorbar": {
              "outlinewidth": 0,
              "ticks": ""
             }
            },
            "type": "scattergeo"
           }
          ],
          "scattergl": [
           {
            "marker": {
             "colorbar": {
              "outlinewidth": 0,
              "ticks": ""
             }
            },
            "type": "scattergl"
           }
          ],
          "scattermapbox": [
           {
            "marker": {
             "colorbar": {
              "outlinewidth": 0,
              "ticks": ""
             }
            },
            "type": "scattermapbox"
           }
          ],
          "scatterpolar": [
           {
            "marker": {
             "colorbar": {
              "outlinewidth": 0,
              "ticks": ""
             }
            },
            "type": "scatterpolar"
           }
          ],
          "scatterpolargl": [
           {
            "marker": {
             "colorbar": {
              "outlinewidth": 0,
              "ticks": ""
             }
            },
            "type": "scatterpolargl"
           }
          ],
          "scatterternary": [
           {
            "marker": {
             "colorbar": {
              "outlinewidth": 0,
              "ticks": ""
             }
            },
            "type": "scatterternary"
           }
          ],
          "surface": [
           {
            "colorbar": {
             "outlinewidth": 0,
             "ticks": ""
            },
            "colorscale": [
             [
              0,
              "#0d0887"
             ],
             [
              0.1111111111111111,
              "#46039f"
             ],
             [
              0.2222222222222222,
              "#7201a8"
             ],
             [
              0.3333333333333333,
              "#9c179e"
             ],
             [
              0.4444444444444444,
              "#bd3786"
             ],
             [
              0.5555555555555556,
              "#d8576b"
             ],
             [
              0.6666666666666666,
              "#ed7953"
             ],
             [
              0.7777777777777778,
              "#fb9f3a"
             ],
             [
              0.8888888888888888,
              "#fdca26"
             ],
             [
              1,
              "#f0f921"
             ]
            ],
            "type": "surface"
           }
          ],
          "table": [
           {
            "cells": {
             "fill": {
              "color": "#EBF0F8"
             },
             "line": {
              "color": "white"
             }
            },
            "header": {
             "fill": {
              "color": "#C8D4E3"
             },
             "line": {
              "color": "white"
             }
            },
            "type": "table"
           }
          ]
         },
         "layout": {
          "annotationdefaults": {
           "arrowcolor": "#2a3f5f",
           "arrowhead": 0,
           "arrowwidth": 1
          },
          "autotypenumbers": "strict",
          "coloraxis": {
           "colorbar": {
            "outlinewidth": 0,
            "ticks": ""
           }
          },
          "colorscale": {
           "diverging": [
            [
             0,
             "#8e0152"
            ],
            [
             0.1,
             "#c51b7d"
            ],
            [
             0.2,
             "#de77ae"
            ],
            [
             0.3,
             "#f1b6da"
            ],
            [
             0.4,
             "#fde0ef"
            ],
            [
             0.5,
             "#f7f7f7"
            ],
            [
             0.6,
             "#e6f5d0"
            ],
            [
             0.7,
             "#b8e186"
            ],
            [
             0.8,
             "#7fbc41"
            ],
            [
             0.9,
             "#4d9221"
            ],
            [
             1,
             "#276419"
            ]
           ],
           "sequential": [
            [
             0,
             "#0d0887"
            ],
            [
             0.1111111111111111,
             "#46039f"
            ],
            [
             0.2222222222222222,
             "#7201a8"
            ],
            [
             0.3333333333333333,
             "#9c179e"
            ],
            [
             0.4444444444444444,
             "#bd3786"
            ],
            [
             0.5555555555555556,
             "#d8576b"
            ],
            [
             0.6666666666666666,
             "#ed7953"
            ],
            [
             0.7777777777777778,
             "#fb9f3a"
            ],
            [
             0.8888888888888888,
             "#fdca26"
            ],
            [
             1,
             "#f0f921"
            ]
           ],
           "sequentialminus": [
            [
             0,
             "#0d0887"
            ],
            [
             0.1111111111111111,
             "#46039f"
            ],
            [
             0.2222222222222222,
             "#7201a8"
            ],
            [
             0.3333333333333333,
             "#9c179e"
            ],
            [
             0.4444444444444444,
             "#bd3786"
            ],
            [
             0.5555555555555556,
             "#d8576b"
            ],
            [
             0.6666666666666666,
             "#ed7953"
            ],
            [
             0.7777777777777778,
             "#fb9f3a"
            ],
            [
             0.8888888888888888,
             "#fdca26"
            ],
            [
             1,
             "#f0f921"
            ]
           ]
          },
          "colorway": [
           "#636efa",
           "#EF553B",
           "#00cc96",
           "#ab63fa",
           "#FFA15A",
           "#19d3f3",
           "#FF6692",
           "#B6E880",
           "#FF97FF",
           "#FECB52"
          ],
          "font": {
           "color": "#2a3f5f"
          },
          "geo": {
           "bgcolor": "white",
           "lakecolor": "white",
           "landcolor": "#E5ECF6",
           "showlakes": true,
           "showland": true,
           "subunitcolor": "white"
          },
          "hoverlabel": {
           "align": "left"
          },
          "hovermode": "closest",
          "mapbox": {
           "style": "light"
          },
          "paper_bgcolor": "white",
          "plot_bgcolor": "#E5ECF6",
          "polar": {
           "angularaxis": {
            "gridcolor": "white",
            "linecolor": "white",
            "ticks": ""
           },
           "bgcolor": "#E5ECF6",
           "radialaxis": {
            "gridcolor": "white",
            "linecolor": "white",
            "ticks": ""
           }
          },
          "scene": {
           "xaxis": {
            "backgroundcolor": "#E5ECF6",
            "gridcolor": "white",
            "gridwidth": 2,
            "linecolor": "white",
            "showbackground": true,
            "ticks": "",
            "zerolinecolor": "white"
           },
           "yaxis": {
            "backgroundcolor": "#E5ECF6",
            "gridcolor": "white",
            "gridwidth": 2,
            "linecolor": "white",
            "showbackground": true,
            "ticks": "",
            "zerolinecolor": "white"
           },
           "zaxis": {
            "backgroundcolor": "#E5ECF6",
            "gridcolor": "white",
            "gridwidth": 2,
            "linecolor": "white",
            "showbackground": true,
            "ticks": "",
            "zerolinecolor": "white"
           }
          },
          "shapedefaults": {
           "line": {
            "color": "#2a3f5f"
           }
          },
          "ternary": {
           "aaxis": {
            "gridcolor": "white",
            "linecolor": "white",
            "ticks": ""
           },
           "baxis": {
            "gridcolor": "white",
            "linecolor": "white",
            "ticks": ""
           },
           "bgcolor": "#E5ECF6",
           "caxis": {
            "gridcolor": "white",
            "linecolor": "white",
            "ticks": ""
           }
          },
          "title": {
           "x": 0.05
          },
          "xaxis": {
           "automargin": true,
           "gridcolor": "white",
           "linecolor": "white",
           "ticks": "",
           "title": {
            "standoff": 15
           },
           "zerolinecolor": "white",
           "zerolinewidth": 2
          },
          "yaxis": {
           "automargin": true,
           "gridcolor": "white",
           "linecolor": "white",
           "ticks": "",
           "title": {
            "standoff": 15
           },
           "zerolinecolor": "white",
           "zerolinewidth": 2
          }
         }
        },
        "title": {
         "text": "Exchange Rates"
        },
        "xaxis": {
         "anchor": "y",
         "domain": [
          0,
          1
         ],
         "title": {
          "text": "Year"
         }
        },
        "yaxis": {
         "anchor": "x",
         "domain": [
          0,
          1
         ],
         "title": {
          "text": "Exchange Rates"
         }
        }
       }
      },
      "text/html": [
       "<div>                            <div id=\"8256ae0f-6502-4399-88a4-a555d274f0fa\" class=\"plotly-graph-div\" style=\"height:525px; width:100%;\"></div>            <script type=\"text/javascript\">                require([\"plotly\"], function(Plotly) {                    window.PLOTLYENV=window.PLOTLYENV || {};                                    if (document.getElementById(\"8256ae0f-6502-4399-88a4-a555d274f0fa\")) {                    Plotly.newPlot(                        \"8256ae0f-6502-4399-88a4-a555d274f0fa\",                        [{\"hovertemplate\":\"variable=SDR<br>Year=%{x}<br>value=%{y}<extra></extra>\",\"legendgroup\":\"SDR\",\"line\":{\"color\":\"#636efa\",\"dash\":\"solid\"},\"marker\":{\"symbol\":\"circle\"},\"mode\":\"lines\",\"name\":\"SDR\",\"orientation\":\"v\",\"showlegend\":true,\"x\":[1970,1971,1972,1973,1974,1975,1976,1977,1978,1979,1980,1981,1982,1983,1984,1985,1986,1987,1988,1989,1990,1991,1992,1993,1994,1995,1996,1997,1998,1999,2000,2001,2002,2003,2004,2005,2006,2007,2008,2009,2010,2011,2012,2013,2014,2015,2016,2017,2018,2019,2020,2021],\"xaxis\":\"x\",\"y\":[7.5895,8.1601,9.0084,9.2293,9.759,9.7043,10.4016,10.2279,10.2782,10.5284,10.2611,10.2418,10.4766,10.831,11.6482,12.5625,14.8083,16.7617,18.6994,20.7906,23.7922,31.095,36.5094,42.6318,44.9296,49.1803,51.435,49.9584,56.0329,58.8799,59.2475,60.0782,62.9532,65.2192,67.1058,65.1404,66.6775,63.2702,68.6477,74.588,69.7509,73.6424,81.7876,89.0613,92.7309,89.7461,93.4012,90.2966,96.7832,97.2947,103.24,105.3257],\"yaxis\":\"y\",\"type\":\"scatter\"},{\"hovertemplate\":\"variable=US Dollar<br>Year=%{x}<br>value=%{y}<extra></extra>\",\"legendgroup\":\"US Dollar\",\"line\":{\"color\":\"#EF553B\",\"dash\":\"solid\"},\"marker\":{\"symbol\":\"circle\"},\"mode\":\"lines\",\"name\":\"US Dollar\",\"orientation\":\"v\",\"showlegend\":true,\"x\":[1970,1971,1972,1973,1974,1975,1976,1977,1978,1979,1980,1981,1982,1983,1984,1985,1986,1987,1988,1989,1990,1991,1992,1993,1994,1995,1996,1997,1998,1999,2000,2001,2002,2003,2004,2005,2006,2007,2008,2009,2010,2011,2012,2013,2014,2015,2016,2017,2018,2019,2020,2021],\"xaxis\":\"x\",\"y\":[7.5668,7.5244,7.5563,7.6742,8.0375,8.4058,9.0017,8.7625,8.2133,8.1467,7.88,8.6926,9.4924,10.1379,11.3683,12.364,12.6053,12.9552,13.9147,16.2238,17.4992,22.689,25.9206,31.4458,31.3742,32.4232,35.4294,36.3196,41.2677,43.0485,44.9401,47.1857,48.5993,46.5819,45.3165,44.1,45.307,41.3485,43.5049,48.4049,45.7262,46.6723,53.4376,58.5978,61.0295,64.1519,67.1953,65.1216,68.3895,70.4203,74.0996,73.918],\"yaxis\":\"y\",\"type\":\"scatter\"},{\"hovertemplate\":\"variable=Pound Sterling<br>Year=%{x}<br>value=%{y}<extra></extra>\",\"legendgroup\":\"Pound Sterling\",\"line\":{\"color\":\"#00cc96\",\"dash\":\"solid\"},\"marker\":{\"symbol\":\"circle\"},\"mode\":\"lines\",\"name\":\"Pound Sterling\",\"orientation\":\"v\",\"showlegend\":true,\"x\":[1970,1971,1972,1973,1974,1975,1976,1977,1978,1979,1980,1981,1982,1983,1984,1985,1986,1987,1988,1989,1990,1991,1992,1993,1994,1995,1996,1997,1998,1999,2000,2001,2002,2003,2004,2005,2006,2007,2008,2009,2010,2011,2012,2013,2014,2015,2016,2017,2018,2019,2020,2021],\"xaxis\":\"x\",\"y\":[18.0,18.0,18.885,18.8,18.8,18.6125,16.2542,15.2917,15.7633,17.2783,18.3242,17.5423,16.5954,15.3653,15.1469,15.9904,18.4924,21.2366,24.7729,26.5515,31.2835,39.9941,45.7104,47.2165,48.0543,51.168,55.3482,59.5289,68.3511,69.6786,68.076,67.9834,72.9988,76.0974,82.9983,80.253,83.5115,82.7218,80.1362,75.7282,70.6912,74.7736,84.6955,91.7716,100.544,98.1323,91.1248,83.876,91.2189,89.9351,95.0919,101.6904],\"yaxis\":\"y\",\"type\":\"scatter\"},{\"hovertemplate\":\"variable=Japanese Yen<br>Year=%{x}<br>value=%{y}<extra></extra>\",\"legendgroup\":\"Japanese Yen\",\"line\":{\"color\":\"#ab63fa\",\"dash\":\"solid\"},\"marker\":{\"symbol\":\"circle\"},\"mode\":\"lines\",\"name\":\"Japanese Yen\",\"orientation\":\"v\",\"showlegend\":true,\"x\":[1970,1971,1972,1973,1974,1975,1976,1977,1978,1979,1980,1981,1982,1983,1984,1985,1986,1987,1988,1989,1990,1991,1992,1993,1994,1995,1996,1997,1998,1999,2000,2001,2002,2003,2004,2005,2006,2007,2008,2009,2010,2011,2012,2013,2014,2015,2016,2017,2018,2019,2020,2021],\"xaxis\":\"x\",\"y\":[2.1578,2.4819,2.7811,3.0,3.0,3.0,3.0,3.17,3.92,3.92,3.83,3.96,3.82,4.26,4.79,5.22,7.54,8.98,10.87,11.76,12.16,16.92,20.48,28.3625,30.7424,34.6154,32.5975,30.048,31.6646,37.9595,41.7257,38.8674,38.873,40.2047,41.8941,40.102,38.9752,35.1348,42.3079,51.8119,52.1669,58.6244,67.0289,60.0777,57.7919,53.0212,61.934,58.0652,61.8963,64.6161,69.4479,67.3794],\"yaxis\":\"y\",\"type\":\"scatter\"},{\"hovertemplate\":\"variable=Deutsche Mark/Euro<br>Year=%{x}<br>value=%{y}<extra></extra>\",\"legendgroup\":\"Deutsche Mark/Euro\",\"line\":{\"color\":\"#FFA15A\",\"dash\":\"solid\"},\"marker\":{\"symbol\":\"circle\"},\"mode\":\"lines\",\"name\":\"Deutsche Mark/Euro\",\"orientation\":\"v\",\"showlegend\":true,\"x\":[1970,1971,1972,1973,1974,1975,1976,1977,1978,1979,1980,1981,1982,1983,1984,1985,1986,1987,1988,1989,1990,1991,1992,1993,1994,1995,1996,1997,1998,1999,2000,2001,2002,2003,2004,2005,2006,2007,2008,2009,2010,2011,2012,2013,2014,2015,2016,2017,2018,2019,2020,2021],\"xaxis\":\"x\",\"y\":[2.0674,2.1453,2.3698,2.8958,3.1108,3.4167,3.575,3.7767,4.0975,4.4483,4.3433,3.8512,3.9129,3.976,3.9979,4.2282,5.8414,7.2207,7.9297,8.6438,10.8694,13.6991,16.6354,19.0285,19.3729,22.6558,23.5666,20.9857,23.5074,45.9951,41.4939,42.2869,45.8873,52.6604,56.3259,54.8993,56.9279,56.6019,63.7403,67.3928,60.6683,64.8794,68.6729,77.8974,81.1161,71.2435,74.3754,73.5104,80.714,78.8466,84.5684,87.476],\"yaxis\":\"y\",\"type\":\"scatter\"}],                        {\"template\":{\"data\":{\"histogram2dcontour\":[{\"type\":\"histogram2dcontour\",\"colorbar\":{\"outlinewidth\":0,\"ticks\":\"\"},\"colorscale\":[[0.0,\"#0d0887\"],[0.1111111111111111,\"#46039f\"],[0.2222222222222222,\"#7201a8\"],[0.3333333333333333,\"#9c179e\"],[0.4444444444444444,\"#bd3786\"],[0.5555555555555556,\"#d8576b\"],[0.6666666666666666,\"#ed7953\"],[0.7777777777777778,\"#fb9f3a\"],[0.8888888888888888,\"#fdca26\"],[1.0,\"#f0f921\"]]}],\"choropleth\":[{\"type\":\"choropleth\",\"colorbar\":{\"outlinewidth\":0,\"ticks\":\"\"}}],\"histogram2d\":[{\"type\":\"histogram2d\",\"colorbar\":{\"outlinewidth\":0,\"ticks\":\"\"},\"colorscale\":[[0.0,\"#0d0887\"],[0.1111111111111111,\"#46039f\"],[0.2222222222222222,\"#7201a8\"],[0.3333333333333333,\"#9c179e\"],[0.4444444444444444,\"#bd3786\"],[0.5555555555555556,\"#d8576b\"],[0.6666666666666666,\"#ed7953\"],[0.7777777777777778,\"#fb9f3a\"],[0.8888888888888888,\"#fdca26\"],[1.0,\"#f0f921\"]]}],\"heatmap\":[{\"type\":\"heatmap\",\"colorbar\":{\"outlinewidth\":0,\"ticks\":\"\"},\"colorscale\":[[0.0,\"#0d0887\"],[0.1111111111111111,\"#46039f\"],[0.2222222222222222,\"#7201a8\"],[0.3333333333333333,\"#9c179e\"],[0.4444444444444444,\"#bd3786\"],[0.5555555555555556,\"#d8576b\"],[0.6666666666666666,\"#ed7953\"],[0.7777777777777778,\"#fb9f3a\"],[0.8888888888888888,\"#fdca26\"],[1.0,\"#f0f921\"]]}],\"heatmapgl\":[{\"type\":\"heatmapgl\",\"colorbar\":{\"outlinewidth\":0,\"ticks\":\"\"},\"colorscale\":[[0.0,\"#0d0887\"],[0.1111111111111111,\"#46039f\"],[0.2222222222222222,\"#7201a8\"],[0.3333333333333333,\"#9c179e\"],[0.4444444444444444,\"#bd3786\"],[0.5555555555555556,\"#d8576b\"],[0.6666666666666666,\"#ed7953\"],[0.7777777777777778,\"#fb9f3a\"],[0.8888888888888888,\"#fdca26\"],[1.0,\"#f0f921\"]]}],\"contourcarpet\":[{\"type\":\"contourcarpet\",\"colorbar\":{\"outlinewidth\":0,\"ticks\":\"\"}}],\"contour\":[{\"type\":\"contour\",\"colorbar\":{\"outlinewidth\":0,\"ticks\":\"\"},\"colorscale\":[[0.0,\"#0d0887\"],[0.1111111111111111,\"#46039f\"],[0.2222222222222222,\"#7201a8\"],[0.3333333333333333,\"#9c179e\"],[0.4444444444444444,\"#bd3786\"],[0.5555555555555556,\"#d8576b\"],[0.6666666666666666,\"#ed7953\"],[0.7777777777777778,\"#fb9f3a\"],[0.8888888888888888,\"#fdca26\"],[1.0,\"#f0f921\"]]}],\"surface\":[{\"type\":\"surface\",\"colorbar\":{\"outlinewidth\":0,\"ticks\":\"\"},\"colorscale\":[[0.0,\"#0d0887\"],[0.1111111111111111,\"#46039f\"],[0.2222222222222222,\"#7201a8\"],[0.3333333333333333,\"#9c179e\"],[0.4444444444444444,\"#bd3786\"],[0.5555555555555556,\"#d8576b\"],[0.6666666666666666,\"#ed7953\"],[0.7777777777777778,\"#fb9f3a\"],[0.8888888888888888,\"#fdca26\"],[1.0,\"#f0f921\"]]}],\"mesh3d\":[{\"type\":\"mesh3d\",\"colorbar\":{\"outlinewidth\":0,\"ticks\":\"\"}}],\"scatter\":[{\"fillpattern\":{\"fillmode\":\"overlay\",\"size\":10,\"solidity\":0.2},\"type\":\"scatter\"}],\"parcoords\":[{\"type\":\"parcoords\",\"line\":{\"colorbar\":{\"outlinewidth\":0,\"ticks\":\"\"}}}],\"scatterpolargl\":[{\"type\":\"scatterpolargl\",\"marker\":{\"colorbar\":{\"outlinewidth\":0,\"ticks\":\"\"}}}],\"bar\":[{\"error_x\":{\"color\":\"#2a3f5f\"},\"error_y\":{\"color\":\"#2a3f5f\"},\"marker\":{\"line\":{\"color\":\"#E5ECF6\",\"width\":0.5},\"pattern\":{\"fillmode\":\"overlay\",\"size\":10,\"solidity\":0.2}},\"type\":\"bar\"}],\"scattergeo\":[{\"type\":\"scattergeo\",\"marker\":{\"colorbar\":{\"outlinewidth\":0,\"ticks\":\"\"}}}],\"scatterpolar\":[{\"type\":\"scatterpolar\",\"marker\":{\"colorbar\":{\"outlinewidth\":0,\"ticks\":\"\"}}}],\"histogram\":[{\"marker\":{\"pattern\":{\"fillmode\":\"overlay\",\"size\":10,\"solidity\":0.2}},\"type\":\"histogram\"}],\"scattergl\":[{\"type\":\"scattergl\",\"marker\":{\"colorbar\":{\"outlinewidth\":0,\"ticks\":\"\"}}}],\"scatter3d\":[{\"type\":\"scatter3d\",\"line\":{\"colorbar\":{\"outlinewidth\":0,\"ticks\":\"\"}},\"marker\":{\"colorbar\":{\"outlinewidth\":0,\"ticks\":\"\"}}}],\"scattermapbox\":[{\"type\":\"scattermapbox\",\"marker\":{\"colorbar\":{\"outlinewidth\":0,\"ticks\":\"\"}}}],\"scatterternary\":[{\"type\":\"scatterternary\",\"marker\":{\"colorbar\":{\"outlinewidth\":0,\"ticks\":\"\"}}}],\"scattercarpet\":[{\"type\":\"scattercarpet\",\"marker\":{\"colorbar\":{\"outlinewidth\":0,\"ticks\":\"\"}}}],\"carpet\":[{\"aaxis\":{\"endlinecolor\":\"#2a3f5f\",\"gridcolor\":\"white\",\"linecolor\":\"white\",\"minorgridcolor\":\"white\",\"startlinecolor\":\"#2a3f5f\"},\"baxis\":{\"endlinecolor\":\"#2a3f5f\",\"gridcolor\":\"white\",\"linecolor\":\"white\",\"minorgridcolor\":\"white\",\"startlinecolor\":\"#2a3f5f\"},\"type\":\"carpet\"}],\"table\":[{\"cells\":{\"fill\":{\"color\":\"#EBF0F8\"},\"line\":{\"color\":\"white\"}},\"header\":{\"fill\":{\"color\":\"#C8D4E3\"},\"line\":{\"color\":\"white\"}},\"type\":\"table\"}],\"barpolar\":[{\"marker\":{\"line\":{\"color\":\"#E5ECF6\",\"width\":0.5},\"pattern\":{\"fillmode\":\"overlay\",\"size\":10,\"solidity\":0.2}},\"type\":\"barpolar\"}],\"pie\":[{\"automargin\":true,\"type\":\"pie\"}]},\"layout\":{\"autotypenumbers\":\"strict\",\"colorway\":[\"#636efa\",\"#EF553B\",\"#00cc96\",\"#ab63fa\",\"#FFA15A\",\"#19d3f3\",\"#FF6692\",\"#B6E880\",\"#FF97FF\",\"#FECB52\"],\"font\":{\"color\":\"#2a3f5f\"},\"hovermode\":\"closest\",\"hoverlabel\":{\"align\":\"left\"},\"paper_bgcolor\":\"white\",\"plot_bgcolor\":\"#E5ECF6\",\"polar\":{\"bgcolor\":\"#E5ECF6\",\"angularaxis\":{\"gridcolor\":\"white\",\"linecolor\":\"white\",\"ticks\":\"\"},\"radialaxis\":{\"gridcolor\":\"white\",\"linecolor\":\"white\",\"ticks\":\"\"}},\"ternary\":{\"bgcolor\":\"#E5ECF6\",\"aaxis\":{\"gridcolor\":\"white\",\"linecolor\":\"white\",\"ticks\":\"\"},\"baxis\":{\"gridcolor\":\"white\",\"linecolor\":\"white\",\"ticks\":\"\"},\"caxis\":{\"gridcolor\":\"white\",\"linecolor\":\"white\",\"ticks\":\"\"}},\"coloraxis\":{\"colorbar\":{\"outlinewidth\":0,\"ticks\":\"\"}},\"colorscale\":{\"sequential\":[[0.0,\"#0d0887\"],[0.1111111111111111,\"#46039f\"],[0.2222222222222222,\"#7201a8\"],[0.3333333333333333,\"#9c179e\"],[0.4444444444444444,\"#bd3786\"],[0.5555555555555556,\"#d8576b\"],[0.6666666666666666,\"#ed7953\"],[0.7777777777777778,\"#fb9f3a\"],[0.8888888888888888,\"#fdca26\"],[1.0,\"#f0f921\"]],\"sequentialminus\":[[0.0,\"#0d0887\"],[0.1111111111111111,\"#46039f\"],[0.2222222222222222,\"#7201a8\"],[0.3333333333333333,\"#9c179e\"],[0.4444444444444444,\"#bd3786\"],[0.5555555555555556,\"#d8576b\"],[0.6666666666666666,\"#ed7953\"],[0.7777777777777778,\"#fb9f3a\"],[0.8888888888888888,\"#fdca26\"],[1.0,\"#f0f921\"]],\"diverging\":[[0,\"#8e0152\"],[0.1,\"#c51b7d\"],[0.2,\"#de77ae\"],[0.3,\"#f1b6da\"],[0.4,\"#fde0ef\"],[0.5,\"#f7f7f7\"],[0.6,\"#e6f5d0\"],[0.7,\"#b8e186\"],[0.8,\"#7fbc41\"],[0.9,\"#4d9221\"],[1,\"#276419\"]]},\"xaxis\":{\"gridcolor\":\"white\",\"linecolor\":\"white\",\"ticks\":\"\",\"title\":{\"standoff\":15},\"zerolinecolor\":\"white\",\"automargin\":true,\"zerolinewidth\":2},\"yaxis\":{\"gridcolor\":\"white\",\"linecolor\":\"white\",\"ticks\":\"\",\"title\":{\"standoff\":15},\"zerolinecolor\":\"white\",\"automargin\":true,\"zerolinewidth\":2},\"scene\":{\"xaxis\":{\"backgroundcolor\":\"#E5ECF6\",\"gridcolor\":\"white\",\"linecolor\":\"white\",\"showbackground\":true,\"ticks\":\"\",\"zerolinecolor\":\"white\",\"gridwidth\":2},\"yaxis\":{\"backgroundcolor\":\"#E5ECF6\",\"gridcolor\":\"white\",\"linecolor\":\"white\",\"showbackground\":true,\"ticks\":\"\",\"zerolinecolor\":\"white\",\"gridwidth\":2},\"zaxis\":{\"backgroundcolor\":\"#E5ECF6\",\"gridcolor\":\"white\",\"linecolor\":\"white\",\"showbackground\":true,\"ticks\":\"\",\"zerolinecolor\":\"white\",\"gridwidth\":2}},\"shapedefaults\":{\"line\":{\"color\":\"#2a3f5f\"}},\"annotationdefaults\":{\"arrowcolor\":\"#2a3f5f\",\"arrowhead\":0,\"arrowwidth\":1},\"geo\":{\"bgcolor\":\"white\",\"landcolor\":\"#E5ECF6\",\"subunitcolor\":\"white\",\"showland\":true,\"showlakes\":true,\"lakecolor\":\"white\"},\"title\":{\"x\":0.05},\"mapbox\":{\"style\":\"light\"}}},\"xaxis\":{\"anchor\":\"y\",\"domain\":[0.0,1.0],\"title\":{\"text\":\"Year\"}},\"yaxis\":{\"anchor\":\"x\",\"domain\":[0.0,1.0],\"title\":{\"text\":\"Exchange Rates\"}},\"legend\":{\"title\":{\"text\":\"variable\"},\"tracegroupgap\":0},\"title\":{\"text\":\"Exchange Rates\"}},                        {\"responsive\": true}                    ).then(function(){\n",
       "                            \n",
       "var gd = document.getElementById('8256ae0f-6502-4399-88a4-a555d274f0fa');\n",
       "var x = new MutationObserver(function (mutations, observer) {{\n",
       "        var display = window.getComputedStyle(gd).display;\n",
       "        if (!display || display === 'none') {{\n",
       "            console.log([gd, 'removed!']);\n",
       "            Plotly.purge(gd);\n",
       "            observer.disconnect();\n",
       "        }}\n",
       "}});\n",
       "\n",
       "// Listen for the removal of the full notebook cells\n",
       "var notebookContainer = gd.closest('#notebook-container');\n",
       "if (notebookContainer) {{\n",
       "    x.observe(notebookContainer, {childList: true});\n",
       "}}\n",
       "\n",
       "// Listen for the clearing of the current output cell\n",
       "var outputEl = gd.closest('.output');\n",
       "if (outputEl) {{\n",
       "    x.observe(outputEl, {childList: true});\n",
       "}}\n",
       "\n",
       "                        })                };                });            </script>        </div>"
      ]
     },
     "metadata": {},
     "output_type": "display_data"
    }
   ],
   "source": [
    "exchange_rates = pd.read_csv(\"Final/exchange_rates_final.csv\")\n",
    "title=\"Exchange Rates\"\n",
    "fig = px.line(exchange_rates, x='Year', y=[ 'SDR', 'US Dollar', 'Pound Sterling', 'Japanese Yen',\n",
    "       'Deutsche Mark/Euro'], title=title)\n",
    "fig.update_layout(xaxis_title='Year', yaxis_title='Exchange Rates')\n",
    "\n",
    "fig.show()"
   ]
  },
  {
   "attachments": {},
   "cell_type": "markdown",
   "metadata": {},
   "source": [
    "We see that the exchange rates of the Indian rupees are also increasing. This means that the value of Indian Ruppees is decreasing. The fall in Indian rupees is due to multiple reasons. One of the reasons in the increase in the trade deficit of India. This is also because of increase in crude oil prices. You can see as the trade deficit of India has increased so has the value of Indian rupees decreased."
   ]
  },
  {
   "attachments": {},
   "cell_type": "markdown",
   "metadata": {},
   "source": [
    "# Deposit Rates"
   ]
  },
  {
   "cell_type": "code",
   "execution_count": 23,
   "metadata": {},
   "outputs": [
    {
     "data": {
      "application/vnd.plotly.v1+json": {
       "config": {
        "plotlyServerURL": "https://plot.ly"
       },
       "data": [
        {
         "hovertemplate": "variable=Savings<br>Financial Year=%{x}<br>value=%{y}<extra></extra>",
         "legendgroup": "Savings",
         "line": {
          "color": "#636efa",
          "dash": "solid"
         },
         "marker": {
          "symbol": "circle"
         },
         "mode": "lines",
         "name": "Savings",
         "orientation": "v",
         "showlegend": true,
         "type": "scatter",
         "x": [
          "2022-01-01",
          "2021-01-01",
          "2020-01-01",
          "2019-01-01",
          "2018-01-01",
          "2017-01-01",
          "2016-01-01",
          "2015-01-01",
          "2014-01-01",
          "2013-01-01",
          "2012-01-01",
          "2011-01-01",
          "2010-01-01",
          "2009-01-01",
          "2008-01-01",
          "2007-01-01",
          "2006-01-01",
          "2005-01-01",
          "2004-01-01",
          "2003-01-01",
          "2002-01-01",
          "2001-01-01",
          "2000-01-01"
         ],
         "xaxis": "x",
         "y": [
          2.7,
          2.7,
          2.7,
          3,
          3.5,
          3.5,
          4,
          4,
          4,
          4,
          4,
          4,
          3.5,
          3.5,
          3.5,
          3.5,
          3.5,
          3.5,
          3.5,
          3.5,
          3.5,
          4,
          4
         ],
         "yaxis": "y"
        },
        {
         "hovertemplate": "variable=Term Deposits 1-3 yrs<br>Financial Year=%{x}<br>value=%{y}<extra></extra>",
         "legendgroup": "Term Deposits 1-3 yrs",
         "line": {
          "color": "#EF553B",
          "dash": "solid"
         },
         "marker": {
          "symbol": "circle"
         },
         "mode": "lines",
         "name": "Term Deposits 1-3 yrs",
         "orientation": "v",
         "showlegend": true,
         "type": "scatter",
         "x": [
          "2022-01-01",
          "2021-01-01",
          "2020-01-01",
          "2019-01-01",
          "2018-01-01",
          "2017-01-01",
          "2016-01-01",
          "2015-01-01",
          "2014-01-01",
          "2013-01-01",
          "2012-01-01",
          "2011-01-01",
          "2010-01-01",
          "2009-01-01",
          "2008-01-01",
          "2007-01-01",
          "2006-01-01",
          "2005-01-01",
          "2004-01-01",
          "2003-01-01",
          "2002-01-01",
          "2001-01-01",
          "2000-01-01"
         ],
         "xaxis": "x",
         "y": [
          5.3,
          5,
          4.9,
          5,
          6.25,
          6.4,
          6.75,
          7.25,
          8.5,
          8.75,
          8.75,
          9,
          8.25,
          6,
          8,
          8,
          6.75,
          6,
          5.25,
          4,
          4.25,
          7.5,
          8.5
         ],
         "yaxis": "y"
        },
        {
         "hovertemplate": "variable=Term Deposits 3-5 yrs<br>Financial Year=%{x}<br>value=%{y}<extra></extra>",
         "legendgroup": "Term Deposits 3-5 yrs",
         "line": {
          "color": "#00cc96",
          "dash": "solid"
         },
         "marker": {
          "symbol": "circle"
         },
         "mode": "lines",
         "name": "Term Deposits 3-5 yrs",
         "orientation": "v",
         "showlegend": true,
         "type": "scatter",
         "x": [
          "2022-01-01",
          "2021-01-01",
          "2020-01-01",
          "2019-01-01",
          "2018-01-01",
          "2017-01-01",
          "2016-01-01",
          "2015-01-01",
          "2014-01-01",
          "2013-01-01",
          "2012-01-01",
          "2011-01-01",
          "2010-01-01",
          "2009-01-01",
          "2008-01-01",
          "2007-01-01",
          "2006-01-01",
          "2005-01-01",
          "2004-01-01",
          "2003-01-01",
          "2002-01-01",
          "2001-01-01",
          "2000-01-01"
         ],
         "xaxis": "x",
         "y": [
          5.35,
          5.05,
          5.25,
          5.7,
          6.25,
          6.25,
          6.5,
          7,
          8.5,
          8.75,
          8.75,
          9,
          8.25,
          6.5,
          8,
          8,
          7.75,
          6.25,
          5.75,
          5.25,
          5.5,
          8,
          9.5
         ],
         "yaxis": "y"
        },
        {
         "hovertemplate": "variable=Term Deposits Above 5 yrs<br>Financial Year=%{x}<br>value=%{y}<extra></extra>",
         "legendgroup": "Term Deposits Above 5 yrs",
         "line": {
          "color": "#ab63fa",
          "dash": "solid"
         },
         "marker": {
          "symbol": "circle"
         },
         "mode": "lines",
         "name": "Term Deposits Above 5 yrs",
         "orientation": "v",
         "showlegend": true,
         "type": "scatter",
         "x": [
          "2022-01-01",
          "2021-01-01",
          "2020-01-01",
          "2019-01-01",
          "2018-01-01",
          "2017-01-01",
          "2016-01-01",
          "2015-01-01",
          "2014-01-01",
          "2013-01-01",
          "2012-01-01",
          "2011-01-01",
          "2010-01-01",
          "2009-01-01",
          "2008-01-01",
          "2007-01-01",
          "2006-01-01",
          "2005-01-01",
          "2004-01-01",
          "2003-01-01",
          "2002-01-01",
          "2001-01-01",
          "2000-01-01"
         ],
         "xaxis": "x",
         "y": [
          5.35,
          5.05,
          5.25,
          5.7,
          6.25,
          6.25,
          6.5,
          7,
          8.25,
          8.5,
          8.5,
          8.5,
          8.5,
          7,
          7.75,
          8.5,
          7.75,
          6.5,
          6.25,
          5.25,
          5.5,
          8,
          8.5
         ],
         "yaxis": "y"
        }
       ],
       "layout": {
        "legend": {
         "title": {
          "text": "variable"
         },
         "tracegroupgap": 0
        },
        "template": {
         "data": {
          "bar": [
           {
            "error_x": {
             "color": "#2a3f5f"
            },
            "error_y": {
             "color": "#2a3f5f"
            },
            "marker": {
             "line": {
              "color": "#E5ECF6",
              "width": 0.5
             },
             "pattern": {
              "fillmode": "overlay",
              "size": 10,
              "solidity": 0.2
             }
            },
            "type": "bar"
           }
          ],
          "barpolar": [
           {
            "marker": {
             "line": {
              "color": "#E5ECF6",
              "width": 0.5
             },
             "pattern": {
              "fillmode": "overlay",
              "size": 10,
              "solidity": 0.2
             }
            },
            "type": "barpolar"
           }
          ],
          "carpet": [
           {
            "aaxis": {
             "endlinecolor": "#2a3f5f",
             "gridcolor": "white",
             "linecolor": "white",
             "minorgridcolor": "white",
             "startlinecolor": "#2a3f5f"
            },
            "baxis": {
             "endlinecolor": "#2a3f5f",
             "gridcolor": "white",
             "linecolor": "white",
             "minorgridcolor": "white",
             "startlinecolor": "#2a3f5f"
            },
            "type": "carpet"
           }
          ],
          "choropleth": [
           {
            "colorbar": {
             "outlinewidth": 0,
             "ticks": ""
            },
            "type": "choropleth"
           }
          ],
          "contour": [
           {
            "colorbar": {
             "outlinewidth": 0,
             "ticks": ""
            },
            "colorscale": [
             [
              0,
              "#0d0887"
             ],
             [
              0.1111111111111111,
              "#46039f"
             ],
             [
              0.2222222222222222,
              "#7201a8"
             ],
             [
              0.3333333333333333,
              "#9c179e"
             ],
             [
              0.4444444444444444,
              "#bd3786"
             ],
             [
              0.5555555555555556,
              "#d8576b"
             ],
             [
              0.6666666666666666,
              "#ed7953"
             ],
             [
              0.7777777777777778,
              "#fb9f3a"
             ],
             [
              0.8888888888888888,
              "#fdca26"
             ],
             [
              1,
              "#f0f921"
             ]
            ],
            "type": "contour"
           }
          ],
          "contourcarpet": [
           {
            "colorbar": {
             "outlinewidth": 0,
             "ticks": ""
            },
            "type": "contourcarpet"
           }
          ],
          "heatmap": [
           {
            "colorbar": {
             "outlinewidth": 0,
             "ticks": ""
            },
            "colorscale": [
             [
              0,
              "#0d0887"
             ],
             [
              0.1111111111111111,
              "#46039f"
             ],
             [
              0.2222222222222222,
              "#7201a8"
             ],
             [
              0.3333333333333333,
              "#9c179e"
             ],
             [
              0.4444444444444444,
              "#bd3786"
             ],
             [
              0.5555555555555556,
              "#d8576b"
             ],
             [
              0.6666666666666666,
              "#ed7953"
             ],
             [
              0.7777777777777778,
              "#fb9f3a"
             ],
             [
              0.8888888888888888,
              "#fdca26"
             ],
             [
              1,
              "#f0f921"
             ]
            ],
            "type": "heatmap"
           }
          ],
          "heatmapgl": [
           {
            "colorbar": {
             "outlinewidth": 0,
             "ticks": ""
            },
            "colorscale": [
             [
              0,
              "#0d0887"
             ],
             [
              0.1111111111111111,
              "#46039f"
             ],
             [
              0.2222222222222222,
              "#7201a8"
             ],
             [
              0.3333333333333333,
              "#9c179e"
             ],
             [
              0.4444444444444444,
              "#bd3786"
             ],
             [
              0.5555555555555556,
              "#d8576b"
             ],
             [
              0.6666666666666666,
              "#ed7953"
             ],
             [
              0.7777777777777778,
              "#fb9f3a"
             ],
             [
              0.8888888888888888,
              "#fdca26"
             ],
             [
              1,
              "#f0f921"
             ]
            ],
            "type": "heatmapgl"
           }
          ],
          "histogram": [
           {
            "marker": {
             "pattern": {
              "fillmode": "overlay",
              "size": 10,
              "solidity": 0.2
             }
            },
            "type": "histogram"
           }
          ],
          "histogram2d": [
           {
            "colorbar": {
             "outlinewidth": 0,
             "ticks": ""
            },
            "colorscale": [
             [
              0,
              "#0d0887"
             ],
             [
              0.1111111111111111,
              "#46039f"
             ],
             [
              0.2222222222222222,
              "#7201a8"
             ],
             [
              0.3333333333333333,
              "#9c179e"
             ],
             [
              0.4444444444444444,
              "#bd3786"
             ],
             [
              0.5555555555555556,
              "#d8576b"
             ],
             [
              0.6666666666666666,
              "#ed7953"
             ],
             [
              0.7777777777777778,
              "#fb9f3a"
             ],
             [
              0.8888888888888888,
              "#fdca26"
             ],
             [
              1,
              "#f0f921"
             ]
            ],
            "type": "histogram2d"
           }
          ],
          "histogram2dcontour": [
           {
            "colorbar": {
             "outlinewidth": 0,
             "ticks": ""
            },
            "colorscale": [
             [
              0,
              "#0d0887"
             ],
             [
              0.1111111111111111,
              "#46039f"
             ],
             [
              0.2222222222222222,
              "#7201a8"
             ],
             [
              0.3333333333333333,
              "#9c179e"
             ],
             [
              0.4444444444444444,
              "#bd3786"
             ],
             [
              0.5555555555555556,
              "#d8576b"
             ],
             [
              0.6666666666666666,
              "#ed7953"
             ],
             [
              0.7777777777777778,
              "#fb9f3a"
             ],
             [
              0.8888888888888888,
              "#fdca26"
             ],
             [
              1,
              "#f0f921"
             ]
            ],
            "type": "histogram2dcontour"
           }
          ],
          "mesh3d": [
           {
            "colorbar": {
             "outlinewidth": 0,
             "ticks": ""
            },
            "type": "mesh3d"
           }
          ],
          "parcoords": [
           {
            "line": {
             "colorbar": {
              "outlinewidth": 0,
              "ticks": ""
             }
            },
            "type": "parcoords"
           }
          ],
          "pie": [
           {
            "automargin": true,
            "type": "pie"
           }
          ],
          "scatter": [
           {
            "fillpattern": {
             "fillmode": "overlay",
             "size": 10,
             "solidity": 0.2
            },
            "type": "scatter"
           }
          ],
          "scatter3d": [
           {
            "line": {
             "colorbar": {
              "outlinewidth": 0,
              "ticks": ""
             }
            },
            "marker": {
             "colorbar": {
              "outlinewidth": 0,
              "ticks": ""
             }
            },
            "type": "scatter3d"
           }
          ],
          "scattercarpet": [
           {
            "marker": {
             "colorbar": {
              "outlinewidth": 0,
              "ticks": ""
             }
            },
            "type": "scattercarpet"
           }
          ],
          "scattergeo": [
           {
            "marker": {
             "colorbar": {
              "outlinewidth": 0,
              "ticks": ""
             }
            },
            "type": "scattergeo"
           }
          ],
          "scattergl": [
           {
            "marker": {
             "colorbar": {
              "outlinewidth": 0,
              "ticks": ""
             }
            },
            "type": "scattergl"
           }
          ],
          "scattermapbox": [
           {
            "marker": {
             "colorbar": {
              "outlinewidth": 0,
              "ticks": ""
             }
            },
            "type": "scattermapbox"
           }
          ],
          "scatterpolar": [
           {
            "marker": {
             "colorbar": {
              "outlinewidth": 0,
              "ticks": ""
             }
            },
            "type": "scatterpolar"
           }
          ],
          "scatterpolargl": [
           {
            "marker": {
             "colorbar": {
              "outlinewidth": 0,
              "ticks": ""
             }
            },
            "type": "scatterpolargl"
           }
          ],
          "scatterternary": [
           {
            "marker": {
             "colorbar": {
              "outlinewidth": 0,
              "ticks": ""
             }
            },
            "type": "scatterternary"
           }
          ],
          "surface": [
           {
            "colorbar": {
             "outlinewidth": 0,
             "ticks": ""
            },
            "colorscale": [
             [
              0,
              "#0d0887"
             ],
             [
              0.1111111111111111,
              "#46039f"
             ],
             [
              0.2222222222222222,
              "#7201a8"
             ],
             [
              0.3333333333333333,
              "#9c179e"
             ],
             [
              0.4444444444444444,
              "#bd3786"
             ],
             [
              0.5555555555555556,
              "#d8576b"
             ],
             [
              0.6666666666666666,
              "#ed7953"
             ],
             [
              0.7777777777777778,
              "#fb9f3a"
             ],
             [
              0.8888888888888888,
              "#fdca26"
             ],
             [
              1,
              "#f0f921"
             ]
            ],
            "type": "surface"
           }
          ],
          "table": [
           {
            "cells": {
             "fill": {
              "color": "#EBF0F8"
             },
             "line": {
              "color": "white"
             }
            },
            "header": {
             "fill": {
              "color": "#C8D4E3"
             },
             "line": {
              "color": "white"
             }
            },
            "type": "table"
           }
          ]
         },
         "layout": {
          "annotationdefaults": {
           "arrowcolor": "#2a3f5f",
           "arrowhead": 0,
           "arrowwidth": 1
          },
          "autotypenumbers": "strict",
          "coloraxis": {
           "colorbar": {
            "outlinewidth": 0,
            "ticks": ""
           }
          },
          "colorscale": {
           "diverging": [
            [
             0,
             "#8e0152"
            ],
            [
             0.1,
             "#c51b7d"
            ],
            [
             0.2,
             "#de77ae"
            ],
            [
             0.3,
             "#f1b6da"
            ],
            [
             0.4,
             "#fde0ef"
            ],
            [
             0.5,
             "#f7f7f7"
            ],
            [
             0.6,
             "#e6f5d0"
            ],
            [
             0.7,
             "#b8e186"
            ],
            [
             0.8,
             "#7fbc41"
            ],
            [
             0.9,
             "#4d9221"
            ],
            [
             1,
             "#276419"
            ]
           ],
           "sequential": [
            [
             0,
             "#0d0887"
            ],
            [
             0.1111111111111111,
             "#46039f"
            ],
            [
             0.2222222222222222,
             "#7201a8"
            ],
            [
             0.3333333333333333,
             "#9c179e"
            ],
            [
             0.4444444444444444,
             "#bd3786"
            ],
            [
             0.5555555555555556,
             "#d8576b"
            ],
            [
             0.6666666666666666,
             "#ed7953"
            ],
            [
             0.7777777777777778,
             "#fb9f3a"
            ],
            [
             0.8888888888888888,
             "#fdca26"
            ],
            [
             1,
             "#f0f921"
            ]
           ],
           "sequentialminus": [
            [
             0,
             "#0d0887"
            ],
            [
             0.1111111111111111,
             "#46039f"
            ],
            [
             0.2222222222222222,
             "#7201a8"
            ],
            [
             0.3333333333333333,
             "#9c179e"
            ],
            [
             0.4444444444444444,
             "#bd3786"
            ],
            [
             0.5555555555555556,
             "#d8576b"
            ],
            [
             0.6666666666666666,
             "#ed7953"
            ],
            [
             0.7777777777777778,
             "#fb9f3a"
            ],
            [
             0.8888888888888888,
             "#fdca26"
            ],
            [
             1,
             "#f0f921"
            ]
           ]
          },
          "colorway": [
           "#636efa",
           "#EF553B",
           "#00cc96",
           "#ab63fa",
           "#FFA15A",
           "#19d3f3",
           "#FF6692",
           "#B6E880",
           "#FF97FF",
           "#FECB52"
          ],
          "font": {
           "color": "#2a3f5f"
          },
          "geo": {
           "bgcolor": "white",
           "lakecolor": "white",
           "landcolor": "#E5ECF6",
           "showlakes": true,
           "showland": true,
           "subunitcolor": "white"
          },
          "hoverlabel": {
           "align": "left"
          },
          "hovermode": "closest",
          "mapbox": {
           "style": "light"
          },
          "paper_bgcolor": "white",
          "plot_bgcolor": "#E5ECF6",
          "polar": {
           "angularaxis": {
            "gridcolor": "white",
            "linecolor": "white",
            "ticks": ""
           },
           "bgcolor": "#E5ECF6",
           "radialaxis": {
            "gridcolor": "white",
            "linecolor": "white",
            "ticks": ""
           }
          },
          "scene": {
           "xaxis": {
            "backgroundcolor": "#E5ECF6",
            "gridcolor": "white",
            "gridwidth": 2,
            "linecolor": "white",
            "showbackground": true,
            "ticks": "",
            "zerolinecolor": "white"
           },
           "yaxis": {
            "backgroundcolor": "#E5ECF6",
            "gridcolor": "white",
            "gridwidth": 2,
            "linecolor": "white",
            "showbackground": true,
            "ticks": "",
            "zerolinecolor": "white"
           },
           "zaxis": {
            "backgroundcolor": "#E5ECF6",
            "gridcolor": "white",
            "gridwidth": 2,
            "linecolor": "white",
            "showbackground": true,
            "ticks": "",
            "zerolinecolor": "white"
           }
          },
          "shapedefaults": {
           "line": {
            "color": "#2a3f5f"
           }
          },
          "ternary": {
           "aaxis": {
            "gridcolor": "white",
            "linecolor": "white",
            "ticks": ""
           },
           "baxis": {
            "gridcolor": "white",
            "linecolor": "white",
            "ticks": ""
           },
           "bgcolor": "#E5ECF6",
           "caxis": {
            "gridcolor": "white",
            "linecolor": "white",
            "ticks": ""
           }
          },
          "title": {
           "x": 0.05
          },
          "xaxis": {
           "automargin": true,
           "gridcolor": "white",
           "linecolor": "white",
           "ticks": "",
           "title": {
            "standoff": 15
           },
           "zerolinecolor": "white",
           "zerolinewidth": 2
          },
          "yaxis": {
           "automargin": true,
           "gridcolor": "white",
           "linecolor": "white",
           "ticks": "",
           "title": {
            "standoff": 15
           },
           "zerolinecolor": "white",
           "zerolinewidth": 2
          }
         }
        },
        "title": {
         "text": "Deposit and Savings Rates"
        },
        "xaxis": {
         "anchor": "y",
         "domain": [
          0,
          1
         ],
         "title": {
          "text": "Year"
         }
        },
        "yaxis": {
         "anchor": "x",
         "domain": [
          0,
          1
         ],
         "title": {
          "text": "Rate"
         }
        }
       }
      },
      "text/html": [
       "<div>                            <div id=\"61f68249-b197-466f-9afe-801d2cd1ac06\" class=\"plotly-graph-div\" style=\"height:525px; width:100%;\"></div>            <script type=\"text/javascript\">                require([\"plotly\"], function(Plotly) {                    window.PLOTLYENV=window.PLOTLYENV || {};                                    if (document.getElementById(\"61f68249-b197-466f-9afe-801d2cd1ac06\")) {                    Plotly.newPlot(                        \"61f68249-b197-466f-9afe-801d2cd1ac06\",                        [{\"hovertemplate\":\"variable=Savings<br>Financial Year=%{x}<br>value=%{y}<extra></extra>\",\"legendgroup\":\"Savings\",\"line\":{\"color\":\"#636efa\",\"dash\":\"solid\"},\"marker\":{\"symbol\":\"circle\"},\"mode\":\"lines\",\"name\":\"Savings\",\"orientation\":\"v\",\"showlegend\":true,\"x\":[\"2022-01-01\",\"2021-01-01\",\"2020-01-01\",\"2019-01-01\",\"2018-01-01\",\"2017-01-01\",\"2016-01-01\",\"2015-01-01\",\"2014-01-01\",\"2013-01-01\",\"2012-01-01\",\"2011-01-01\",\"2010-01-01\",\"2009-01-01\",\"2008-01-01\",\"2007-01-01\",\"2006-01-01\",\"2005-01-01\",\"2004-01-01\",\"2003-01-01\",\"2002-01-01\",\"2001-01-01\",\"2000-01-01\"],\"xaxis\":\"x\",\"y\":[2.7,2.7,2.7,3.0,3.5,3.5,4.0,4.0,4.0,4.0,4.0,4.0,3.5,3.5,3.5,3.5,3.5,3.5,3.5,3.5,3.5,4.0,4.0],\"yaxis\":\"y\",\"type\":\"scatter\"},{\"hovertemplate\":\"variable=Term Deposits 1-3 yrs<br>Financial Year=%{x}<br>value=%{y}<extra></extra>\",\"legendgroup\":\"Term Deposits 1-3 yrs\",\"line\":{\"color\":\"#EF553B\",\"dash\":\"solid\"},\"marker\":{\"symbol\":\"circle\"},\"mode\":\"lines\",\"name\":\"Term Deposits 1-3 yrs\",\"orientation\":\"v\",\"showlegend\":true,\"x\":[\"2022-01-01\",\"2021-01-01\",\"2020-01-01\",\"2019-01-01\",\"2018-01-01\",\"2017-01-01\",\"2016-01-01\",\"2015-01-01\",\"2014-01-01\",\"2013-01-01\",\"2012-01-01\",\"2011-01-01\",\"2010-01-01\",\"2009-01-01\",\"2008-01-01\",\"2007-01-01\",\"2006-01-01\",\"2005-01-01\",\"2004-01-01\",\"2003-01-01\",\"2002-01-01\",\"2001-01-01\",\"2000-01-01\"],\"xaxis\":\"x\",\"y\":[5.3,5.0,4.9,5.0,6.25,6.4,6.75,7.25,8.5,8.75,8.75,9.0,8.25,6.0,8.0,8.0,6.75,6.0,5.25,4.0,4.25,7.5,8.5],\"yaxis\":\"y\",\"type\":\"scatter\"},{\"hovertemplate\":\"variable=Term Deposits 3-5 yrs<br>Financial Year=%{x}<br>value=%{y}<extra></extra>\",\"legendgroup\":\"Term Deposits 3-5 yrs\",\"line\":{\"color\":\"#00cc96\",\"dash\":\"solid\"},\"marker\":{\"symbol\":\"circle\"},\"mode\":\"lines\",\"name\":\"Term Deposits 3-5 yrs\",\"orientation\":\"v\",\"showlegend\":true,\"x\":[\"2022-01-01\",\"2021-01-01\",\"2020-01-01\",\"2019-01-01\",\"2018-01-01\",\"2017-01-01\",\"2016-01-01\",\"2015-01-01\",\"2014-01-01\",\"2013-01-01\",\"2012-01-01\",\"2011-01-01\",\"2010-01-01\",\"2009-01-01\",\"2008-01-01\",\"2007-01-01\",\"2006-01-01\",\"2005-01-01\",\"2004-01-01\",\"2003-01-01\",\"2002-01-01\",\"2001-01-01\",\"2000-01-01\"],\"xaxis\":\"x\",\"y\":[5.35,5.05,5.25,5.7,6.25,6.25,6.5,7.0,8.5,8.75,8.75,9.0,8.25,6.5,8.0,8.0,7.75,6.25,5.75,5.25,5.5,8.0,9.5],\"yaxis\":\"y\",\"type\":\"scatter\"},{\"hovertemplate\":\"variable=Term Deposits Above 5 yrs<br>Financial Year=%{x}<br>value=%{y}<extra></extra>\",\"legendgroup\":\"Term Deposits Above 5 yrs\",\"line\":{\"color\":\"#ab63fa\",\"dash\":\"solid\"},\"marker\":{\"symbol\":\"circle\"},\"mode\":\"lines\",\"name\":\"Term Deposits Above 5 yrs\",\"orientation\":\"v\",\"showlegend\":true,\"x\":[\"2022-01-01\",\"2021-01-01\",\"2020-01-01\",\"2019-01-01\",\"2018-01-01\",\"2017-01-01\",\"2016-01-01\",\"2015-01-01\",\"2014-01-01\",\"2013-01-01\",\"2012-01-01\",\"2011-01-01\",\"2010-01-01\",\"2009-01-01\",\"2008-01-01\",\"2007-01-01\",\"2006-01-01\",\"2005-01-01\",\"2004-01-01\",\"2003-01-01\",\"2002-01-01\",\"2001-01-01\",\"2000-01-01\"],\"xaxis\":\"x\",\"y\":[5.35,5.05,5.25,5.7,6.25,6.25,6.5,7.0,8.25,8.5,8.5,8.5,8.5,7.0,7.75,8.5,7.75,6.5,6.25,5.25,5.5,8.0,8.5],\"yaxis\":\"y\",\"type\":\"scatter\"}],                        {\"template\":{\"data\":{\"histogram2dcontour\":[{\"type\":\"histogram2dcontour\",\"colorbar\":{\"outlinewidth\":0,\"ticks\":\"\"},\"colorscale\":[[0.0,\"#0d0887\"],[0.1111111111111111,\"#46039f\"],[0.2222222222222222,\"#7201a8\"],[0.3333333333333333,\"#9c179e\"],[0.4444444444444444,\"#bd3786\"],[0.5555555555555556,\"#d8576b\"],[0.6666666666666666,\"#ed7953\"],[0.7777777777777778,\"#fb9f3a\"],[0.8888888888888888,\"#fdca26\"],[1.0,\"#f0f921\"]]}],\"choropleth\":[{\"type\":\"choropleth\",\"colorbar\":{\"outlinewidth\":0,\"ticks\":\"\"}}],\"histogram2d\":[{\"type\":\"histogram2d\",\"colorbar\":{\"outlinewidth\":0,\"ticks\":\"\"},\"colorscale\":[[0.0,\"#0d0887\"],[0.1111111111111111,\"#46039f\"],[0.2222222222222222,\"#7201a8\"],[0.3333333333333333,\"#9c179e\"],[0.4444444444444444,\"#bd3786\"],[0.5555555555555556,\"#d8576b\"],[0.6666666666666666,\"#ed7953\"],[0.7777777777777778,\"#fb9f3a\"],[0.8888888888888888,\"#fdca26\"],[1.0,\"#f0f921\"]]}],\"heatmap\":[{\"type\":\"heatmap\",\"colorbar\":{\"outlinewidth\":0,\"ticks\":\"\"},\"colorscale\":[[0.0,\"#0d0887\"],[0.1111111111111111,\"#46039f\"],[0.2222222222222222,\"#7201a8\"],[0.3333333333333333,\"#9c179e\"],[0.4444444444444444,\"#bd3786\"],[0.5555555555555556,\"#d8576b\"],[0.6666666666666666,\"#ed7953\"],[0.7777777777777778,\"#fb9f3a\"],[0.8888888888888888,\"#fdca26\"],[1.0,\"#f0f921\"]]}],\"heatmapgl\":[{\"type\":\"heatmapgl\",\"colorbar\":{\"outlinewidth\":0,\"ticks\":\"\"},\"colorscale\":[[0.0,\"#0d0887\"],[0.1111111111111111,\"#46039f\"],[0.2222222222222222,\"#7201a8\"],[0.3333333333333333,\"#9c179e\"],[0.4444444444444444,\"#bd3786\"],[0.5555555555555556,\"#d8576b\"],[0.6666666666666666,\"#ed7953\"],[0.7777777777777778,\"#fb9f3a\"],[0.8888888888888888,\"#fdca26\"],[1.0,\"#f0f921\"]]}],\"contourcarpet\":[{\"type\":\"contourcarpet\",\"colorbar\":{\"outlinewidth\":0,\"ticks\":\"\"}}],\"contour\":[{\"type\":\"contour\",\"colorbar\":{\"outlinewidth\":0,\"ticks\":\"\"},\"colorscale\":[[0.0,\"#0d0887\"],[0.1111111111111111,\"#46039f\"],[0.2222222222222222,\"#7201a8\"],[0.3333333333333333,\"#9c179e\"],[0.4444444444444444,\"#bd3786\"],[0.5555555555555556,\"#d8576b\"],[0.6666666666666666,\"#ed7953\"],[0.7777777777777778,\"#fb9f3a\"],[0.8888888888888888,\"#fdca26\"],[1.0,\"#f0f921\"]]}],\"surface\":[{\"type\":\"surface\",\"colorbar\":{\"outlinewidth\":0,\"ticks\":\"\"},\"colorscale\":[[0.0,\"#0d0887\"],[0.1111111111111111,\"#46039f\"],[0.2222222222222222,\"#7201a8\"],[0.3333333333333333,\"#9c179e\"],[0.4444444444444444,\"#bd3786\"],[0.5555555555555556,\"#d8576b\"],[0.6666666666666666,\"#ed7953\"],[0.7777777777777778,\"#fb9f3a\"],[0.8888888888888888,\"#fdca26\"],[1.0,\"#f0f921\"]]}],\"mesh3d\":[{\"type\":\"mesh3d\",\"colorbar\":{\"outlinewidth\":0,\"ticks\":\"\"}}],\"scatter\":[{\"fillpattern\":{\"fillmode\":\"overlay\",\"size\":10,\"solidity\":0.2},\"type\":\"scatter\"}],\"parcoords\":[{\"type\":\"parcoords\",\"line\":{\"colorbar\":{\"outlinewidth\":0,\"ticks\":\"\"}}}],\"scatterpolargl\":[{\"type\":\"scatterpolargl\",\"marker\":{\"colorbar\":{\"outlinewidth\":0,\"ticks\":\"\"}}}],\"bar\":[{\"error_x\":{\"color\":\"#2a3f5f\"},\"error_y\":{\"color\":\"#2a3f5f\"},\"marker\":{\"line\":{\"color\":\"#E5ECF6\",\"width\":0.5},\"pattern\":{\"fillmode\":\"overlay\",\"size\":10,\"solidity\":0.2}},\"type\":\"bar\"}],\"scattergeo\":[{\"type\":\"scattergeo\",\"marker\":{\"colorbar\":{\"outlinewidth\":0,\"ticks\":\"\"}}}],\"scatterpolar\":[{\"type\":\"scatterpolar\",\"marker\":{\"colorbar\":{\"outlinewidth\":0,\"ticks\":\"\"}}}],\"histogram\":[{\"marker\":{\"pattern\":{\"fillmode\":\"overlay\",\"size\":10,\"solidity\":0.2}},\"type\":\"histogram\"}],\"scattergl\":[{\"type\":\"scattergl\",\"marker\":{\"colorbar\":{\"outlinewidth\":0,\"ticks\":\"\"}}}],\"scatter3d\":[{\"type\":\"scatter3d\",\"line\":{\"colorbar\":{\"outlinewidth\":0,\"ticks\":\"\"}},\"marker\":{\"colorbar\":{\"outlinewidth\":0,\"ticks\":\"\"}}}],\"scattermapbox\":[{\"type\":\"scattermapbox\",\"marker\":{\"colorbar\":{\"outlinewidth\":0,\"ticks\":\"\"}}}],\"scatterternary\":[{\"type\":\"scatterternary\",\"marker\":{\"colorbar\":{\"outlinewidth\":0,\"ticks\":\"\"}}}],\"scattercarpet\":[{\"type\":\"scattercarpet\",\"marker\":{\"colorbar\":{\"outlinewidth\":0,\"ticks\":\"\"}}}],\"carpet\":[{\"aaxis\":{\"endlinecolor\":\"#2a3f5f\",\"gridcolor\":\"white\",\"linecolor\":\"white\",\"minorgridcolor\":\"white\",\"startlinecolor\":\"#2a3f5f\"},\"baxis\":{\"endlinecolor\":\"#2a3f5f\",\"gridcolor\":\"white\",\"linecolor\":\"white\",\"minorgridcolor\":\"white\",\"startlinecolor\":\"#2a3f5f\"},\"type\":\"carpet\"}],\"table\":[{\"cells\":{\"fill\":{\"color\":\"#EBF0F8\"},\"line\":{\"color\":\"white\"}},\"header\":{\"fill\":{\"color\":\"#C8D4E3\"},\"line\":{\"color\":\"white\"}},\"type\":\"table\"}],\"barpolar\":[{\"marker\":{\"line\":{\"color\":\"#E5ECF6\",\"width\":0.5},\"pattern\":{\"fillmode\":\"overlay\",\"size\":10,\"solidity\":0.2}},\"type\":\"barpolar\"}],\"pie\":[{\"automargin\":true,\"type\":\"pie\"}]},\"layout\":{\"autotypenumbers\":\"strict\",\"colorway\":[\"#636efa\",\"#EF553B\",\"#00cc96\",\"#ab63fa\",\"#FFA15A\",\"#19d3f3\",\"#FF6692\",\"#B6E880\",\"#FF97FF\",\"#FECB52\"],\"font\":{\"color\":\"#2a3f5f\"},\"hovermode\":\"closest\",\"hoverlabel\":{\"align\":\"left\"},\"paper_bgcolor\":\"white\",\"plot_bgcolor\":\"#E5ECF6\",\"polar\":{\"bgcolor\":\"#E5ECF6\",\"angularaxis\":{\"gridcolor\":\"white\",\"linecolor\":\"white\",\"ticks\":\"\"},\"radialaxis\":{\"gridcolor\":\"white\",\"linecolor\":\"white\",\"ticks\":\"\"}},\"ternary\":{\"bgcolor\":\"#E5ECF6\",\"aaxis\":{\"gridcolor\":\"white\",\"linecolor\":\"white\",\"ticks\":\"\"},\"baxis\":{\"gridcolor\":\"white\",\"linecolor\":\"white\",\"ticks\":\"\"},\"caxis\":{\"gridcolor\":\"white\",\"linecolor\":\"white\",\"ticks\":\"\"}},\"coloraxis\":{\"colorbar\":{\"outlinewidth\":0,\"ticks\":\"\"}},\"colorscale\":{\"sequential\":[[0.0,\"#0d0887\"],[0.1111111111111111,\"#46039f\"],[0.2222222222222222,\"#7201a8\"],[0.3333333333333333,\"#9c179e\"],[0.4444444444444444,\"#bd3786\"],[0.5555555555555556,\"#d8576b\"],[0.6666666666666666,\"#ed7953\"],[0.7777777777777778,\"#fb9f3a\"],[0.8888888888888888,\"#fdca26\"],[1.0,\"#f0f921\"]],\"sequentialminus\":[[0.0,\"#0d0887\"],[0.1111111111111111,\"#46039f\"],[0.2222222222222222,\"#7201a8\"],[0.3333333333333333,\"#9c179e\"],[0.4444444444444444,\"#bd3786\"],[0.5555555555555556,\"#d8576b\"],[0.6666666666666666,\"#ed7953\"],[0.7777777777777778,\"#fb9f3a\"],[0.8888888888888888,\"#fdca26\"],[1.0,\"#f0f921\"]],\"diverging\":[[0,\"#8e0152\"],[0.1,\"#c51b7d\"],[0.2,\"#de77ae\"],[0.3,\"#f1b6da\"],[0.4,\"#fde0ef\"],[0.5,\"#f7f7f7\"],[0.6,\"#e6f5d0\"],[0.7,\"#b8e186\"],[0.8,\"#7fbc41\"],[0.9,\"#4d9221\"],[1,\"#276419\"]]},\"xaxis\":{\"gridcolor\":\"white\",\"linecolor\":\"white\",\"ticks\":\"\",\"title\":{\"standoff\":15},\"zerolinecolor\":\"white\",\"automargin\":true,\"zerolinewidth\":2},\"yaxis\":{\"gridcolor\":\"white\",\"linecolor\":\"white\",\"ticks\":\"\",\"title\":{\"standoff\":15},\"zerolinecolor\":\"white\",\"automargin\":true,\"zerolinewidth\":2},\"scene\":{\"xaxis\":{\"backgroundcolor\":\"#E5ECF6\",\"gridcolor\":\"white\",\"linecolor\":\"white\",\"showbackground\":true,\"ticks\":\"\",\"zerolinecolor\":\"white\",\"gridwidth\":2},\"yaxis\":{\"backgroundcolor\":\"#E5ECF6\",\"gridcolor\":\"white\",\"linecolor\":\"white\",\"showbackground\":true,\"ticks\":\"\",\"zerolinecolor\":\"white\",\"gridwidth\":2},\"zaxis\":{\"backgroundcolor\":\"#E5ECF6\",\"gridcolor\":\"white\",\"linecolor\":\"white\",\"showbackground\":true,\"ticks\":\"\",\"zerolinecolor\":\"white\",\"gridwidth\":2}},\"shapedefaults\":{\"line\":{\"color\":\"#2a3f5f\"}},\"annotationdefaults\":{\"arrowcolor\":\"#2a3f5f\",\"arrowhead\":0,\"arrowwidth\":1},\"geo\":{\"bgcolor\":\"white\",\"landcolor\":\"#E5ECF6\",\"subunitcolor\":\"white\",\"showland\":true,\"showlakes\":true,\"lakecolor\":\"white\"},\"title\":{\"x\":0.05},\"mapbox\":{\"style\":\"light\"}}},\"xaxis\":{\"anchor\":\"y\",\"domain\":[0.0,1.0],\"title\":{\"text\":\"Year\"}},\"yaxis\":{\"anchor\":\"x\",\"domain\":[0.0,1.0],\"title\":{\"text\":\"Rate\"}},\"legend\":{\"title\":{\"text\":\"variable\"},\"tracegroupgap\":0},\"title\":{\"text\":\"Deposit and Savings Rates\"}},                        {\"responsive\": true}                    ).then(function(){\n",
       "                            \n",
       "var gd = document.getElementById('61f68249-b197-466f-9afe-801d2cd1ac06');\n",
       "var x = new MutationObserver(function (mutations, observer) {{\n",
       "        var display = window.getComputedStyle(gd).display;\n",
       "        if (!display || display === 'none') {{\n",
       "            console.log([gd, 'removed!']);\n",
       "            Plotly.purge(gd);\n",
       "            observer.disconnect();\n",
       "        }}\n",
       "}});\n",
       "\n",
       "// Listen for the removal of the full notebook cells\n",
       "var notebookContainer = gd.closest('#notebook-container');\n",
       "if (notebookContainer) {{\n",
       "    x.observe(notebookContainer, {childList: true});\n",
       "}}\n",
       "\n",
       "// Listen for the clearing of the current output cell\n",
       "var outputEl = gd.closest('.output');\n",
       "if (outputEl) {{\n",
       "    x.observe(outputEl, {childList: true});\n",
       "}}\n",
       "\n",
       "                        })                };                });            </script>        </div>"
      ]
     },
     "metadata": {},
     "output_type": "display_data"
    }
   ],
   "source": [
    "deposits = pd.read_csv(\"Final/deposits_final.csv\")\n",
    "title = \"Deposit and Savings Rates\"\n",
    "fig = px.line(deposits, x='Financial Year', y=['Savings', 'Term Deposits 1-3 yrs',\n",
    "       'Term Deposits 3-5 yrs', 'Term Deposits Above 5 yrs'], title=title)\n",
    "fig.update_layout(xaxis_title='Year', yaxis_title='Rate')\n",
    "fig.show()"
   ]
  },
  {
   "attachments": {},
   "cell_type": "markdown",
   "metadata": {},
   "source": [
    "We see the deposite rates have been decreasing since 2014. The RBI has been decreasing the repo rate since 2014. This was done to increase the liquidity in the market and to boost the economy. Decrease in repo rates leads to decrease in lending rates of the bank. If the lending rates are decreased then the bank has to decrease the rates of interest on deposite. We can see that mostly deposite rates vary according to the lending rates."
   ]
  },
  {
   "attachments": {},
   "cell_type": "markdown",
   "metadata": {},
   "source": [
    "# Foreign Trades"
   ]
  },
  {
   "cell_type": "code",
   "execution_count": 24,
   "metadata": {},
   "outputs": [
    {
     "data": {
      "application/vnd.plotly.v1+json": {
       "config": {
        "plotlyServerURL": "https://plot.ly"
       },
       "data": [
        {
         "hovertemplate": "variable=Exports Oil<br>Year=%{x}<br>value=%{y}<extra></extra>",
         "legendgroup": "Exports Oil",
         "line": {
          "color": "#636efa",
          "dash": "solid"
         },
         "marker": {
          "symbol": "circle"
         },
         "mode": "lines",
         "name": "Exports Oil",
         "orientation": "v",
         "showlegend": true,
         "type": "scatter",
         "x": [
          "2021-01-01",
          "2020-01-01",
          "2019-01-01",
          "2018-01-01",
          "2017-01-01",
          "2016-01-01",
          "2015-01-01",
          "2014-01-01",
          "2013-01-01",
          "2012-01-01",
          "2011-01-01",
          "2010-01-01",
          "2009-01-01",
          "2008-01-01",
          "2007-01-01",
          "2006-01-01",
          "2005-01-01",
          "2004-01-01",
          "2003-01-01",
          "2002-01-01",
          "2001-01-01",
          "2000-01-01",
          "1999-01-01",
          "1998-01-01",
          "1997-01-01",
          "1996-01-01",
          "1995-01-01",
          "1994-01-01",
          "1993-01-01",
          "1992-01-01",
          "1991-01-01",
          "1990-01-01",
          "1989-01-01",
          "1988-01-01",
          "1987-01-01",
          "1986-01-01",
          "1985-01-01",
          "1984-01-01",
          "1983-01-01",
          "1982-01-01",
          "1981-01-01",
          "1980-01-01",
          "1979-01-01",
          "1978-01-01",
          "1977-01-01",
          "1976-01-01",
          "1975-01-01",
          "1974-01-01",
          "1973-01-01",
          "1972-01-01",
          "1971-01-01",
          "1970-01-01"
         ],
         "xaxis": "x",
         "y": [
          503850,
          190896,
          292340,
          325929,
          241435,
          211509,
          199638,
          346082,
          383248,
          330819,
          267915,
          188779,
          132899,
          123398,
          114192,
          84520,
          51533,
          31404,
          16397,
          12469,
          10107,
          8542,
          169,
          376,
          1311,
          1710,
          1518,
          1309,
          1248,
          1379,
          1022,
          938,
          697,
          505,
          649,
          411,
          645,
          1818,
          1588,
          1235,
          221,
          25,
          19,
          14,
          16,
          19,
          19,
          14,
          12,
          29,
          11,
          9
         ],
         "yaxis": "y"
        },
        {
         "hovertemplate": "variable=Exports Non-Oil<br>Year=%{x}<br>value=%{y}<extra></extra>",
         "legendgroup": "Exports Non-Oil",
         "line": {
          "color": "#EF553B",
          "dash": "solid"
         },
         "marker": {
          "symbol": "circle"
         },
         "mode": "lines",
         "name": "Exports Non-Oil",
         "orientation": "v",
         "showlegend": true,
         "type": "scatter",
         "x": [
          "2021-01-01",
          "2020-01-01",
          "2019-01-01",
          "2018-01-01",
          "2017-01-01",
          "2016-01-01",
          "2015-01-01",
          "2014-01-01",
          "2013-01-01",
          "2012-01-01",
          "2011-01-01",
          "2010-01-01",
          "2009-01-01",
          "2008-01-01",
          "2007-01-01",
          "2006-01-01",
          "2005-01-01",
          "2004-01-01",
          "2003-01-01",
          "2002-01-01",
          "2001-01-01",
          "2000-01-01",
          "1999-01-01",
          "1998-01-01",
          "1997-01-01",
          "1996-01-01",
          "1995-01-01",
          "1994-01-01",
          "1993-01-01",
          "1992-01-01",
          "1991-01-01",
          "1990-01-01",
          "1989-01-01",
          "1988-01-01",
          "1987-01-01",
          "1986-01-01",
          "1985-01-01",
          "1984-01-01",
          "1983-01-01",
          "1982-01-01",
          "1981-01-01",
          "1980-01-01",
          "1979-01-01",
          "1978-01-01",
          "1977-01-01",
          "1976-01-01",
          "1975-01-01",
          "1974-01-01",
          "1973-01-01",
          "1972-01-01",
          "1971-01-01",
          "1970-01-01"
         ],
         "xaxis": "x",
         "y": [
          2643171,
          1968147,
          1927514,
          1981797,
          1715080,
          1637925,
          1516747,
          1550363,
          1521763,
          1303500,
          1198045,
          954143,
          712635,
          717357,
          541672,
          487259,
          404885,
          343935,
          276969,
          242668,
          198911,
          195029,
          159393,
          139377,
          128790,
          117107,
          104836,
          81365,
          68504,
          52309,
          43020,
          31620,
          26962,
          19727,
          15025,
          12041,
          10250,
          9926,
          8183,
          7568,
          7585,
          6686,
          6400,
          5712,
          5392,
          5124,
          4017,
          3315,
          2511,
          1943,
          1598,
          1527
         ],
         "yaxis": "y"
        },
        {
         "hovertemplate": "variable=Exports Total<br>Year=%{x}<br>value=%{y}<extra></extra>",
         "legendgroup": "Exports Total",
         "line": {
          "color": "#00cc96",
          "dash": "solid"
         },
         "marker": {
          "symbol": "circle"
         },
         "mode": "lines",
         "name": "Exports Total",
         "orientation": "v",
         "showlegend": true,
         "type": "scatter",
         "x": [
          "2021-01-01",
          "2020-01-01",
          "2019-01-01",
          "2018-01-01",
          "2017-01-01",
          "2016-01-01",
          "2015-01-01",
          "2014-01-01",
          "2013-01-01",
          "2012-01-01",
          "2011-01-01",
          "2010-01-01",
          "2009-01-01",
          "2008-01-01",
          "2007-01-01",
          "2006-01-01",
          "2005-01-01",
          "2004-01-01",
          "2003-01-01",
          "2002-01-01",
          "2001-01-01",
          "2000-01-01",
          "1999-01-01",
          "1998-01-01",
          "1997-01-01",
          "1996-01-01",
          "1995-01-01",
          "1994-01-01",
          "1993-01-01",
          "1992-01-01",
          "1991-01-01",
          "1990-01-01",
          "1989-01-01",
          "1988-01-01",
          "1987-01-01",
          "1986-01-01",
          "1985-01-01",
          "1984-01-01",
          "1983-01-01",
          "1982-01-01",
          "1981-01-01",
          "1980-01-01",
          "1979-01-01",
          "1978-01-01",
          "1977-01-01",
          "1976-01-01",
          "1975-01-01",
          "1974-01-01",
          "1973-01-01",
          "1972-01-01",
          "1971-01-01",
          "1970-01-01"
         ],
         "xaxis": "x",
         "y": [
          3147021,
          2159043,
          2219854,
          2307726,
          1956515,
          1849434,
          1716384,
          1896445,
          1905011,
          1634318,
          1465959,
          1142922,
          845534,
          840755,
          655864,
          571779,
          456418,
          375340,
          293367,
          255137,
          209018,
          203571,
          159561,
          139753,
          130101,
          118817,
          106353,
          82674,
          69751,
          53688,
          44042,
          32558,
          27658,
          20232,
          15674,
          12452,
          10895,
          11744,
          9771,
          8803,
          7806,
          6711,
          6418,
          5726,
          5408,
          5143,
          4036,
          3329,
          2523,
          1972,
          1608,
          1535
         ],
         "yaxis": "y"
        },
        {
         "hovertemplate": "variable=Imports Oil<br>Year=%{x}<br>value=%{y}<extra></extra>",
         "legendgroup": "Imports Oil",
         "line": {
          "color": "#ab63fa",
          "dash": "solid"
         },
         "marker": {
          "symbol": "circle"
         },
         "mode": "lines",
         "name": "Imports Oil",
         "orientation": "v",
         "showlegend": true,
         "type": "scatter",
         "x": [
          "2021-01-01",
          "2020-01-01",
          "2019-01-01",
          "2018-01-01",
          "2017-01-01",
          "2016-01-01",
          "2015-01-01",
          "2014-01-01",
          "2013-01-01",
          "2012-01-01",
          "2011-01-01",
          "2010-01-01",
          "2009-01-01",
          "2008-01-01",
          "2007-01-01",
          "2006-01-01",
          "2005-01-01",
          "2004-01-01",
          "2003-01-01",
          "2002-01-01",
          "2001-01-01",
          "2000-01-01",
          "1999-01-01",
          "1998-01-01",
          "1997-01-01",
          "1996-01-01",
          "1995-01-01",
          "1994-01-01",
          "1993-01-01",
          "1992-01-01",
          "1991-01-01",
          "1990-01-01",
          "1989-01-01",
          "1988-01-01",
          "1987-01-01",
          "1986-01-01",
          "1985-01-01",
          "1984-01-01",
          "1983-01-01",
          "1982-01-01",
          "1981-01-01",
          "1980-01-01",
          "1979-01-01",
          "1978-01-01",
          "1977-01-01",
          "1976-01-01",
          "1975-01-01",
          "1974-01-01",
          "1973-01-01",
          "1972-01-01",
          "1971-01-01",
          "1970-01-01"
         ],
         "xaxis": "x",
         "y": [
          1207803,
          611353,
          925168,
          986275,
          700321,
          583217,
          540505,
          842874,
          997885,
          891871,
          743075,
          482282,
          411649,
          419968,
          320655,
          258572,
          194640,
          134094,
          94520,
          85367,
          66770,
          71497,
          54649,
          26919,
          30341,
          35629,
          25174,
          18613,
          18046,
          17142,
          13127,
          10816,
          6273,
          4358,
          4043,
          2811,
          4989,
          5409,
          4832,
          5622,
          5189,
          5264,
          3267,
          1677,
          1551,
          1413,
          1226,
          1157,
          560,
          204,
          194,
          136
         ],
         "yaxis": "y"
        },
        {
         "hovertemplate": "variable=Imports Non-Oil<br>Year=%{x}<br>value=%{y}<extra></extra>",
         "legendgroup": "Imports Non-Oil",
         "line": {
          "color": "#FFA15A",
          "dash": "solid"
         },
         "marker": {
          "symbol": "circle"
         },
         "mode": "lines",
         "name": "Imports Non-Oil",
         "orientation": "v",
         "showlegend": true,
         "type": "scatter",
         "x": [
          "2021-01-01",
          "2020-01-01",
          "2019-01-01",
          "2018-01-01",
          "2017-01-01",
          "2016-01-01",
          "2015-01-01",
          "2014-01-01",
          "2013-01-01",
          "2012-01-01",
          "2011-01-01",
          "2010-01-01",
          "2009-01-01",
          "2008-01-01",
          "2007-01-01",
          "2006-01-01",
          "2005-01-01",
          "2004-01-01",
          "2003-01-01",
          "2002-01-01",
          "2001-01-01",
          "2000-01-01",
          "1999-01-01",
          "1998-01-01",
          "1997-01-01",
          "1996-01-01",
          "1995-01-01",
          "1994-01-01",
          "1993-01-01",
          "1992-01-01",
          "1991-01-01",
          "1990-01-01",
          "1989-01-01",
          "1988-01-01",
          "1987-01-01",
          "1986-01-01",
          "1985-01-01",
          "1984-01-01",
          "1983-01-01",
          "1982-01-01",
          "1981-01-01",
          "1980-01-01",
          "1979-01-01",
          "1978-01-01",
          "1977-01-01",
          "1976-01-01",
          "1975-01-01",
          "1974-01-01",
          "1973-01-01",
          "1972-01-01",
          "1971-01-01",
          "1970-01-01"
         ],
         "xaxis": "x",
         "y": [
          3364972,
          2304605,
          2435787,
          2608400,
          2300713,
          1994458,
          1949801,
          1894212,
          1717548,
          1777291,
          1602388,
          1201185,
          952086,
          954468,
          691657,
          581935,
          465769,
          366971,
          264588,
          211839,
          178430,
          159376,
          160588,
          151413,
          123835,
          103291,
          97505,
          71358,
          55055,
          46233,
          34724,
          32377,
          29056,
          23878,
          18201,
          17285,
          14668,
          11725,
          11000,
          8671,
          8418,
          7286,
          5876,
          5134,
          4469,
          3660,
          4039,
          3362,
          2395,
          1663,
          1630,
          1498
         ],
         "yaxis": "y"
        },
        {
         "hovertemplate": "variable=Imports Total<br>Year=%{x}<br>value=%{y}<extra></extra>",
         "legendgroup": "Imports Total",
         "line": {
          "color": "#19d3f3",
          "dash": "solid"
         },
         "marker": {
          "symbol": "circle"
         },
         "mode": "lines",
         "name": "Imports Total",
         "orientation": "v",
         "showlegend": true,
         "type": "scatter",
         "x": [
          "2021-01-01",
          "2020-01-01",
          "2019-01-01",
          "2018-01-01",
          "2017-01-01",
          "2016-01-01",
          "2015-01-01",
          "2014-01-01",
          "2013-01-01",
          "2012-01-01",
          "2011-01-01",
          "2010-01-01",
          "2009-01-01",
          "2008-01-01",
          "2007-01-01",
          "2006-01-01",
          "2005-01-01",
          "2004-01-01",
          "2003-01-01",
          "2002-01-01",
          "2001-01-01",
          "2000-01-01",
          "1999-01-01",
          "1998-01-01",
          "1997-01-01",
          "1996-01-01",
          "1995-01-01",
          "1994-01-01",
          "1993-01-01",
          "1992-01-01",
          "1991-01-01",
          "1990-01-01",
          "1989-01-01",
          "1988-01-01",
          "1987-01-01",
          "1986-01-01",
          "1985-01-01",
          "1984-01-01",
          "1983-01-01",
          "1982-01-01",
          "1981-01-01",
          "1980-01-01",
          "1979-01-01",
          "1978-01-01",
          "1977-01-01",
          "1976-01-01",
          "1975-01-01",
          "1974-01-01",
          "1973-01-01",
          "1972-01-01",
          "1971-01-01",
          "1970-01-01"
         ],
         "xaxis": "x",
         "y": [
          4572775,
          2915958,
          3360954,
          3594675,
          3001033,
          2577675,
          2490306,
          2737087,
          2715434,
          2669162,
          2345463,
          1683467,
          1363736,
          1374436,
          1012312,
          840506,
          660409,
          501065,
          359108,
          297206,
          245200,
          230873,
          215237,
          178332,
          154176,
          138920,
          122678,
          89971,
          73101,
          63375,
          47851,
          43193,
          35328,
          28235,
          22244,
          20096,
          19658,
          17134,
          15832,
          14293,
          13608,
          12549,
          9143,
          6811,
          6020,
          5074,
          5265,
          4519,
          2955,
          1867,
          1825,
          1634
         ],
         "yaxis": "y"
        },
        {
         "hovertemplate": "variable=Trade Balance Oil<br>Year=%{x}<br>value=%{y}<extra></extra>",
         "legendgroup": "Trade Balance Oil",
         "line": {
          "color": "#FF6692",
          "dash": "solid"
         },
         "marker": {
          "symbol": "circle"
         },
         "mode": "lines",
         "name": "Trade Balance Oil",
         "orientation": "v",
         "showlegend": true,
         "type": "scatter",
         "x": [
          "2021-01-01",
          "2020-01-01",
          "2019-01-01",
          "2018-01-01",
          "2017-01-01",
          "2016-01-01",
          "2015-01-01",
          "2014-01-01",
          "2013-01-01",
          "2012-01-01",
          "2011-01-01",
          "2010-01-01",
          "2009-01-01",
          "2008-01-01",
          "2007-01-01",
          "2006-01-01",
          "2005-01-01",
          "2004-01-01",
          "2003-01-01",
          "2002-01-01",
          "2001-01-01",
          "2000-01-01",
          "1999-01-01",
          "1998-01-01",
          "1997-01-01",
          "1996-01-01",
          "1995-01-01",
          "1994-01-01",
          "1993-01-01",
          "1992-01-01",
          "1991-01-01",
          "1990-01-01",
          "1989-01-01",
          "1988-01-01",
          "1987-01-01",
          "1986-01-01",
          "1985-01-01",
          "1984-01-01",
          "1983-01-01",
          "1982-01-01",
          "1981-01-01",
          "1980-01-01",
          "1979-01-01",
          "1978-01-01",
          "1977-01-01",
          "1976-01-01",
          "1975-01-01",
          "1974-01-01",
          "1973-01-01",
          "1972-01-01",
          "1971-01-01",
          "1970-01-01"
         ],
         "xaxis": "x",
         "y": [
          -703953,
          -420457,
          -632828,
          -660346,
          -458886,
          -371708,
          -340867,
          -496792,
          -614638,
          -561052,
          -475160,
          -293503,
          -278750,
          -296570,
          -206463,
          -174052,
          -143107,
          -102690,
          -78123,
          -72898,
          -56663,
          -62955,
          -54480,
          -26543,
          -29030,
          -33918,
          -23656,
          -17304,
          -16798,
          -15763,
          -12105,
          -9878,
          -5576,
          -3853,
          -3394,
          -2399,
          -4345,
          -3591,
          -3244,
          -4387,
          -4968,
          -5239,
          -3248,
          -1663,
          -1535,
          -1395,
          -1207,
          -1143,
          -548,
          -175,
          -184,
          -127
         ],
         "yaxis": "y"
        },
        {
         "hovertemplate": "variable=Trade Balance Non-Oil<br>Year=%{x}<br>value=%{y}<extra></extra>",
         "legendgroup": "Trade Balance Non-Oil",
         "line": {
          "color": "#B6E880",
          "dash": "solid"
         },
         "marker": {
          "symbol": "circle"
         },
         "mode": "lines",
         "name": "Trade Balance Non-Oil",
         "orientation": "v",
         "showlegend": true,
         "type": "scatter",
         "x": [
          "2021-01-01",
          "2020-01-01",
          "2019-01-01",
          "2018-01-01",
          "2017-01-01",
          "2016-01-01",
          "2015-01-01",
          "2014-01-01",
          "2013-01-01",
          "2012-01-01",
          "2011-01-01",
          "2010-01-01",
          "2009-01-01",
          "2008-01-01",
          "2007-01-01",
          "2006-01-01",
          "2005-01-01",
          "2004-01-01",
          "2003-01-01",
          "2002-01-01",
          "2001-01-01",
          "2000-01-01",
          "1999-01-01",
          "1998-01-01",
          "1997-01-01",
          "1996-01-01",
          "1995-01-01",
          "1994-01-01",
          "1993-01-01",
          "1992-01-01",
          "1991-01-01",
          "1990-01-01",
          "1989-01-01",
          "1988-01-01",
          "1987-01-01",
          "1986-01-01",
          "1985-01-01",
          "1984-01-01",
          "1983-01-01",
          "1982-01-01",
          "1981-01-01",
          "1980-01-01",
          "1979-01-01",
          "1978-01-01",
          "1977-01-01",
          "1976-01-01",
          "1975-01-01",
          "1974-01-01",
          "1973-01-01",
          "1972-01-01",
          "1971-01-01",
          "1970-01-01"
         ],
         "xaxis": "x",
         "y": [
          -721800,
          -336458,
          -508273,
          -626602,
          -585633,
          -356534,
          -433054,
          -343849,
          -195785,
          -473792,
          -404344,
          -247042,
          -239452,
          -237111,
          -149985,
          -94675,
          -60884,
          -23035,
          12382,
          30829,
          20482,
          35653,
          -1195,
          -12036,
          4955,
          13816,
          7331,
          10007,
          13449,
          6076,
          8295,
          -757,
          -2094,
          -4151,
          -3176,
          -5245,
          -4418,
          -1800,
          -2817,
          -1103,
          -833,
          -600,
          524,
          578,
          923,
          1464,
          -22,
          -47,
          116,
          279,
          -33,
          28
         ],
         "yaxis": "y"
        },
        {
         "hovertemplate": "variable=Trade Balance Total<br>Year=%{x}<br>value=%{y}<extra></extra>",
         "legendgroup": "Trade Balance Total",
         "line": {
          "color": "#FF97FF",
          "dash": "solid"
         },
         "marker": {
          "symbol": "circle"
         },
         "mode": "lines",
         "name": "Trade Balance Total",
         "orientation": "v",
         "showlegend": true,
         "type": "scatter",
         "x": [
          "2021-01-01",
          "2020-01-01",
          "2019-01-01",
          "2018-01-01",
          "2017-01-01",
          "2016-01-01",
          "2015-01-01",
          "2014-01-01",
          "2013-01-01",
          "2012-01-01",
          "2011-01-01",
          "2010-01-01",
          "2009-01-01",
          "2008-01-01",
          "2007-01-01",
          "2006-01-01",
          "2005-01-01",
          "2004-01-01",
          "2003-01-01",
          "2002-01-01",
          "2001-01-01",
          "2000-01-01",
          "1999-01-01",
          "1998-01-01",
          "1997-01-01",
          "1996-01-01",
          "1995-01-01",
          "1994-01-01",
          "1993-01-01",
          "1992-01-01",
          "1991-01-01",
          "1990-01-01",
          "1989-01-01",
          "1988-01-01",
          "1987-01-01",
          "1986-01-01",
          "1985-01-01",
          "1984-01-01",
          "1983-01-01",
          "1982-01-01",
          "1981-01-01",
          "1980-01-01",
          "1979-01-01",
          "1978-01-01",
          "1977-01-01",
          "1976-01-01",
          "1975-01-01",
          "1974-01-01",
          "1973-01-01",
          "1972-01-01",
          "1971-01-01",
          "1970-01-01"
         ],
         "xaxis": "x",
         "y": [
          -1425753,
          -756914,
          -1141100,
          -1286948,
          -1044519,
          -728242,
          -773921,
          -840641,
          -810423,
          -1034844,
          -879504,
          -540545,
          -518202,
          -533680,
          -356448,
          -268727,
          -203991,
          -125725,
          -65741,
          -42069,
          -36182,
          -27302,
          -55675,
          -38579,
          -24076,
          -20103,
          -16325,
          -7297,
          -3350,
          -9686,
          -3809,
          -10635,
          -7670,
          -8004,
          -6570,
          -7644,
          -8763,
          -5391,
          -6061,
          -5489,
          -5802,
          -5838,
          -2724,
          -1085,
          -612,
          69,
          -1229,
          -1190,
          -432,
          104,
          -216,
          -99
         ],
         "yaxis": "y"
        }
       ],
       "layout": {
        "legend": {
         "title": {
          "text": "variable"
         },
         "tracegroupgap": 0
        },
        "template": {
         "data": {
          "bar": [
           {
            "error_x": {
             "color": "#2a3f5f"
            },
            "error_y": {
             "color": "#2a3f5f"
            },
            "marker": {
             "line": {
              "color": "#E5ECF6",
              "width": 0.5
             },
             "pattern": {
              "fillmode": "overlay",
              "size": 10,
              "solidity": 0.2
             }
            },
            "type": "bar"
           }
          ],
          "barpolar": [
           {
            "marker": {
             "line": {
              "color": "#E5ECF6",
              "width": 0.5
             },
             "pattern": {
              "fillmode": "overlay",
              "size": 10,
              "solidity": 0.2
             }
            },
            "type": "barpolar"
           }
          ],
          "carpet": [
           {
            "aaxis": {
             "endlinecolor": "#2a3f5f",
             "gridcolor": "white",
             "linecolor": "white",
             "minorgridcolor": "white",
             "startlinecolor": "#2a3f5f"
            },
            "baxis": {
             "endlinecolor": "#2a3f5f",
             "gridcolor": "white",
             "linecolor": "white",
             "minorgridcolor": "white",
             "startlinecolor": "#2a3f5f"
            },
            "type": "carpet"
           }
          ],
          "choropleth": [
           {
            "colorbar": {
             "outlinewidth": 0,
             "ticks": ""
            },
            "type": "choropleth"
           }
          ],
          "contour": [
           {
            "colorbar": {
             "outlinewidth": 0,
             "ticks": ""
            },
            "colorscale": [
             [
              0,
              "#0d0887"
             ],
             [
              0.1111111111111111,
              "#46039f"
             ],
             [
              0.2222222222222222,
              "#7201a8"
             ],
             [
              0.3333333333333333,
              "#9c179e"
             ],
             [
              0.4444444444444444,
              "#bd3786"
             ],
             [
              0.5555555555555556,
              "#d8576b"
             ],
             [
              0.6666666666666666,
              "#ed7953"
             ],
             [
              0.7777777777777778,
              "#fb9f3a"
             ],
             [
              0.8888888888888888,
              "#fdca26"
             ],
             [
              1,
              "#f0f921"
             ]
            ],
            "type": "contour"
           }
          ],
          "contourcarpet": [
           {
            "colorbar": {
             "outlinewidth": 0,
             "ticks": ""
            },
            "type": "contourcarpet"
           }
          ],
          "heatmap": [
           {
            "colorbar": {
             "outlinewidth": 0,
             "ticks": ""
            },
            "colorscale": [
             [
              0,
              "#0d0887"
             ],
             [
              0.1111111111111111,
              "#46039f"
             ],
             [
              0.2222222222222222,
              "#7201a8"
             ],
             [
              0.3333333333333333,
              "#9c179e"
             ],
             [
              0.4444444444444444,
              "#bd3786"
             ],
             [
              0.5555555555555556,
              "#d8576b"
             ],
             [
              0.6666666666666666,
              "#ed7953"
             ],
             [
              0.7777777777777778,
              "#fb9f3a"
             ],
             [
              0.8888888888888888,
              "#fdca26"
             ],
             [
              1,
              "#f0f921"
             ]
            ],
            "type": "heatmap"
           }
          ],
          "heatmapgl": [
           {
            "colorbar": {
             "outlinewidth": 0,
             "ticks": ""
            },
            "colorscale": [
             [
              0,
              "#0d0887"
             ],
             [
              0.1111111111111111,
              "#46039f"
             ],
             [
              0.2222222222222222,
              "#7201a8"
             ],
             [
              0.3333333333333333,
              "#9c179e"
             ],
             [
              0.4444444444444444,
              "#bd3786"
             ],
             [
              0.5555555555555556,
              "#d8576b"
             ],
             [
              0.6666666666666666,
              "#ed7953"
             ],
             [
              0.7777777777777778,
              "#fb9f3a"
             ],
             [
              0.8888888888888888,
              "#fdca26"
             ],
             [
              1,
              "#f0f921"
             ]
            ],
            "type": "heatmapgl"
           }
          ],
          "histogram": [
           {
            "marker": {
             "pattern": {
              "fillmode": "overlay",
              "size": 10,
              "solidity": 0.2
             }
            },
            "type": "histogram"
           }
          ],
          "histogram2d": [
           {
            "colorbar": {
             "outlinewidth": 0,
             "ticks": ""
            },
            "colorscale": [
             [
              0,
              "#0d0887"
             ],
             [
              0.1111111111111111,
              "#46039f"
             ],
             [
              0.2222222222222222,
              "#7201a8"
             ],
             [
              0.3333333333333333,
              "#9c179e"
             ],
             [
              0.4444444444444444,
              "#bd3786"
             ],
             [
              0.5555555555555556,
              "#d8576b"
             ],
             [
              0.6666666666666666,
              "#ed7953"
             ],
             [
              0.7777777777777778,
              "#fb9f3a"
             ],
             [
              0.8888888888888888,
              "#fdca26"
             ],
             [
              1,
              "#f0f921"
             ]
            ],
            "type": "histogram2d"
           }
          ],
          "histogram2dcontour": [
           {
            "colorbar": {
             "outlinewidth": 0,
             "ticks": ""
            },
            "colorscale": [
             [
              0,
              "#0d0887"
             ],
             [
              0.1111111111111111,
              "#46039f"
             ],
             [
              0.2222222222222222,
              "#7201a8"
             ],
             [
              0.3333333333333333,
              "#9c179e"
             ],
             [
              0.4444444444444444,
              "#bd3786"
             ],
             [
              0.5555555555555556,
              "#d8576b"
             ],
             [
              0.6666666666666666,
              "#ed7953"
             ],
             [
              0.7777777777777778,
              "#fb9f3a"
             ],
             [
              0.8888888888888888,
              "#fdca26"
             ],
             [
              1,
              "#f0f921"
             ]
            ],
            "type": "histogram2dcontour"
           }
          ],
          "mesh3d": [
           {
            "colorbar": {
             "outlinewidth": 0,
             "ticks": ""
            },
            "type": "mesh3d"
           }
          ],
          "parcoords": [
           {
            "line": {
             "colorbar": {
              "outlinewidth": 0,
              "ticks": ""
             }
            },
            "type": "parcoords"
           }
          ],
          "pie": [
           {
            "automargin": true,
            "type": "pie"
           }
          ],
          "scatter": [
           {
            "fillpattern": {
             "fillmode": "overlay",
             "size": 10,
             "solidity": 0.2
            },
            "type": "scatter"
           }
          ],
          "scatter3d": [
           {
            "line": {
             "colorbar": {
              "outlinewidth": 0,
              "ticks": ""
             }
            },
            "marker": {
             "colorbar": {
              "outlinewidth": 0,
              "ticks": ""
             }
            },
            "type": "scatter3d"
           }
          ],
          "scattercarpet": [
           {
            "marker": {
             "colorbar": {
              "outlinewidth": 0,
              "ticks": ""
             }
            },
            "type": "scattercarpet"
           }
          ],
          "scattergeo": [
           {
            "marker": {
             "colorbar": {
              "outlinewidth": 0,
              "ticks": ""
             }
            },
            "type": "scattergeo"
           }
          ],
          "scattergl": [
           {
            "marker": {
             "colorbar": {
              "outlinewidth": 0,
              "ticks": ""
             }
            },
            "type": "scattergl"
           }
          ],
          "scattermapbox": [
           {
            "marker": {
             "colorbar": {
              "outlinewidth": 0,
              "ticks": ""
             }
            },
            "type": "scattermapbox"
           }
          ],
          "scatterpolar": [
           {
            "marker": {
             "colorbar": {
              "outlinewidth": 0,
              "ticks": ""
             }
            },
            "type": "scatterpolar"
           }
          ],
          "scatterpolargl": [
           {
            "marker": {
             "colorbar": {
              "outlinewidth": 0,
              "ticks": ""
             }
            },
            "type": "scatterpolargl"
           }
          ],
          "scatterternary": [
           {
            "marker": {
             "colorbar": {
              "outlinewidth": 0,
              "ticks": ""
             }
            },
            "type": "scatterternary"
           }
          ],
          "surface": [
           {
            "colorbar": {
             "outlinewidth": 0,
             "ticks": ""
            },
            "colorscale": [
             [
              0,
              "#0d0887"
             ],
             [
              0.1111111111111111,
              "#46039f"
             ],
             [
              0.2222222222222222,
              "#7201a8"
             ],
             [
              0.3333333333333333,
              "#9c179e"
             ],
             [
              0.4444444444444444,
              "#bd3786"
             ],
             [
              0.5555555555555556,
              "#d8576b"
             ],
             [
              0.6666666666666666,
              "#ed7953"
             ],
             [
              0.7777777777777778,
              "#fb9f3a"
             ],
             [
              0.8888888888888888,
              "#fdca26"
             ],
             [
              1,
              "#f0f921"
             ]
            ],
            "type": "surface"
           }
          ],
          "table": [
           {
            "cells": {
             "fill": {
              "color": "#EBF0F8"
             },
             "line": {
              "color": "white"
             }
            },
            "header": {
             "fill": {
              "color": "#C8D4E3"
             },
             "line": {
              "color": "white"
             }
            },
            "type": "table"
           }
          ]
         },
         "layout": {
          "annotationdefaults": {
           "arrowcolor": "#2a3f5f",
           "arrowhead": 0,
           "arrowwidth": 1
          },
          "autotypenumbers": "strict",
          "coloraxis": {
           "colorbar": {
            "outlinewidth": 0,
            "ticks": ""
           }
          },
          "colorscale": {
           "diverging": [
            [
             0,
             "#8e0152"
            ],
            [
             0.1,
             "#c51b7d"
            ],
            [
             0.2,
             "#de77ae"
            ],
            [
             0.3,
             "#f1b6da"
            ],
            [
             0.4,
             "#fde0ef"
            ],
            [
             0.5,
             "#f7f7f7"
            ],
            [
             0.6,
             "#e6f5d0"
            ],
            [
             0.7,
             "#b8e186"
            ],
            [
             0.8,
             "#7fbc41"
            ],
            [
             0.9,
             "#4d9221"
            ],
            [
             1,
             "#276419"
            ]
           ],
           "sequential": [
            [
             0,
             "#0d0887"
            ],
            [
             0.1111111111111111,
             "#46039f"
            ],
            [
             0.2222222222222222,
             "#7201a8"
            ],
            [
             0.3333333333333333,
             "#9c179e"
            ],
            [
             0.4444444444444444,
             "#bd3786"
            ],
            [
             0.5555555555555556,
             "#d8576b"
            ],
            [
             0.6666666666666666,
             "#ed7953"
            ],
            [
             0.7777777777777778,
             "#fb9f3a"
            ],
            [
             0.8888888888888888,
             "#fdca26"
            ],
            [
             1,
             "#f0f921"
            ]
           ],
           "sequentialminus": [
            [
             0,
             "#0d0887"
            ],
            [
             0.1111111111111111,
             "#46039f"
            ],
            [
             0.2222222222222222,
             "#7201a8"
            ],
            [
             0.3333333333333333,
             "#9c179e"
            ],
            [
             0.4444444444444444,
             "#bd3786"
            ],
            [
             0.5555555555555556,
             "#d8576b"
            ],
            [
             0.6666666666666666,
             "#ed7953"
            ],
            [
             0.7777777777777778,
             "#fb9f3a"
            ],
            [
             0.8888888888888888,
             "#fdca26"
            ],
            [
             1,
             "#f0f921"
            ]
           ]
          },
          "colorway": [
           "#636efa",
           "#EF553B",
           "#00cc96",
           "#ab63fa",
           "#FFA15A",
           "#19d3f3",
           "#FF6692",
           "#B6E880",
           "#FF97FF",
           "#FECB52"
          ],
          "font": {
           "color": "#2a3f5f"
          },
          "geo": {
           "bgcolor": "white",
           "lakecolor": "white",
           "landcolor": "#E5ECF6",
           "showlakes": true,
           "showland": true,
           "subunitcolor": "white"
          },
          "hoverlabel": {
           "align": "left"
          },
          "hovermode": "closest",
          "mapbox": {
           "style": "light"
          },
          "paper_bgcolor": "white",
          "plot_bgcolor": "#E5ECF6",
          "polar": {
           "angularaxis": {
            "gridcolor": "white",
            "linecolor": "white",
            "ticks": ""
           },
           "bgcolor": "#E5ECF6",
           "radialaxis": {
            "gridcolor": "white",
            "linecolor": "white",
            "ticks": ""
           }
          },
          "scene": {
           "xaxis": {
            "backgroundcolor": "#E5ECF6",
            "gridcolor": "white",
            "gridwidth": 2,
            "linecolor": "white",
            "showbackground": true,
            "ticks": "",
            "zerolinecolor": "white"
           },
           "yaxis": {
            "backgroundcolor": "#E5ECF6",
            "gridcolor": "white",
            "gridwidth": 2,
            "linecolor": "white",
            "showbackground": true,
            "ticks": "",
            "zerolinecolor": "white"
           },
           "zaxis": {
            "backgroundcolor": "#E5ECF6",
            "gridcolor": "white",
            "gridwidth": 2,
            "linecolor": "white",
            "showbackground": true,
            "ticks": "",
            "zerolinecolor": "white"
           }
          },
          "shapedefaults": {
           "line": {
            "color": "#2a3f5f"
           }
          },
          "ternary": {
           "aaxis": {
            "gridcolor": "white",
            "linecolor": "white",
            "ticks": ""
           },
           "baxis": {
            "gridcolor": "white",
            "linecolor": "white",
            "ticks": ""
           },
           "bgcolor": "#E5ECF6",
           "caxis": {
            "gridcolor": "white",
            "linecolor": "white",
            "ticks": ""
           }
          },
          "title": {
           "x": 0.05
          },
          "xaxis": {
           "automargin": true,
           "gridcolor": "white",
           "linecolor": "white",
           "ticks": "",
           "title": {
            "standoff": 15
           },
           "zerolinecolor": "white",
           "zerolinewidth": 2
          },
          "yaxis": {
           "automargin": true,
           "gridcolor": "white",
           "linecolor": "white",
           "ticks": "",
           "title": {
            "standoff": 15
           },
           "zerolinecolor": "white",
           "zerolinewidth": 2
          }
         }
        },
        "title": {
         "text": "Foreign Trade"
        },
        "xaxis": {
         "anchor": "y",
         "domain": [
          0,
          1
         ],
         "title": {
          "text": "Year"
         }
        },
        "yaxis": {
         "anchor": "x",
         "domain": [
          0,
          1
         ],
         "title": {
          "text": "Foreign Trade(Rupees Crore)"
         }
        }
       }
      },
      "text/html": [
       "<div>                            <div id=\"276d96d9-0270-4128-aff6-d8a56cf3e914\" class=\"plotly-graph-div\" style=\"height:525px; width:100%;\"></div>            <script type=\"text/javascript\">                require([\"plotly\"], function(Plotly) {                    window.PLOTLYENV=window.PLOTLYENV || {};                                    if (document.getElementById(\"276d96d9-0270-4128-aff6-d8a56cf3e914\")) {                    Plotly.newPlot(                        \"276d96d9-0270-4128-aff6-d8a56cf3e914\",                        [{\"hovertemplate\":\"variable=Exports Oil<br>Year=%{x}<br>value=%{y}<extra></extra>\",\"legendgroup\":\"Exports Oil\",\"line\":{\"color\":\"#636efa\",\"dash\":\"solid\"},\"marker\":{\"symbol\":\"circle\"},\"mode\":\"lines\",\"name\":\"Exports Oil\",\"orientation\":\"v\",\"showlegend\":true,\"x\":[\"2021-01-01\",\"2020-01-01\",\"2019-01-01\",\"2018-01-01\",\"2017-01-01\",\"2016-01-01\",\"2015-01-01\",\"2014-01-01\",\"2013-01-01\",\"2012-01-01\",\"2011-01-01\",\"2010-01-01\",\"2009-01-01\",\"2008-01-01\",\"2007-01-01\",\"2006-01-01\",\"2005-01-01\",\"2004-01-01\",\"2003-01-01\",\"2002-01-01\",\"2001-01-01\",\"2000-01-01\",\"1999-01-01\",\"1998-01-01\",\"1997-01-01\",\"1996-01-01\",\"1995-01-01\",\"1994-01-01\",\"1993-01-01\",\"1992-01-01\",\"1991-01-01\",\"1990-01-01\",\"1989-01-01\",\"1988-01-01\",\"1987-01-01\",\"1986-01-01\",\"1985-01-01\",\"1984-01-01\",\"1983-01-01\",\"1982-01-01\",\"1981-01-01\",\"1980-01-01\",\"1979-01-01\",\"1978-01-01\",\"1977-01-01\",\"1976-01-01\",\"1975-01-01\",\"1974-01-01\",\"1973-01-01\",\"1972-01-01\",\"1971-01-01\",\"1970-01-01\"],\"xaxis\":\"x\",\"y\":[503850,190896,292340,325929,241435,211509,199638,346082,383248,330819,267915,188779,132899,123398,114192,84520,51533,31404,16397,12469,10107,8542,169,376,1311,1710,1518,1309,1248,1379,1022,938,697,505,649,411,645,1818,1588,1235,221,25,19,14,16,19,19,14,12,29,11,9],\"yaxis\":\"y\",\"type\":\"scatter\"},{\"hovertemplate\":\"variable=Exports Non-Oil<br>Year=%{x}<br>value=%{y}<extra></extra>\",\"legendgroup\":\"Exports Non-Oil\",\"line\":{\"color\":\"#EF553B\",\"dash\":\"solid\"},\"marker\":{\"symbol\":\"circle\"},\"mode\":\"lines\",\"name\":\"Exports Non-Oil\",\"orientation\":\"v\",\"showlegend\":true,\"x\":[\"2021-01-01\",\"2020-01-01\",\"2019-01-01\",\"2018-01-01\",\"2017-01-01\",\"2016-01-01\",\"2015-01-01\",\"2014-01-01\",\"2013-01-01\",\"2012-01-01\",\"2011-01-01\",\"2010-01-01\",\"2009-01-01\",\"2008-01-01\",\"2007-01-01\",\"2006-01-01\",\"2005-01-01\",\"2004-01-01\",\"2003-01-01\",\"2002-01-01\",\"2001-01-01\",\"2000-01-01\",\"1999-01-01\",\"1998-01-01\",\"1997-01-01\",\"1996-01-01\",\"1995-01-01\",\"1994-01-01\",\"1993-01-01\",\"1992-01-01\",\"1991-01-01\",\"1990-01-01\",\"1989-01-01\",\"1988-01-01\",\"1987-01-01\",\"1986-01-01\",\"1985-01-01\",\"1984-01-01\",\"1983-01-01\",\"1982-01-01\",\"1981-01-01\",\"1980-01-01\",\"1979-01-01\",\"1978-01-01\",\"1977-01-01\",\"1976-01-01\",\"1975-01-01\",\"1974-01-01\",\"1973-01-01\",\"1972-01-01\",\"1971-01-01\",\"1970-01-01\"],\"xaxis\":\"x\",\"y\":[2643171,1968147,1927514,1981797,1715080,1637925,1516747,1550363,1521763,1303500,1198045,954143,712635,717357,541672,487259,404885,343935,276969,242668,198911,195029,159393,139377,128790,117107,104836,81365,68504,52309,43020,31620,26962,19727,15025,12041,10250,9926,8183,7568,7585,6686,6400,5712,5392,5124,4017,3315,2511,1943,1598,1527],\"yaxis\":\"y\",\"type\":\"scatter\"},{\"hovertemplate\":\"variable=Exports Total<br>Year=%{x}<br>value=%{y}<extra></extra>\",\"legendgroup\":\"Exports Total\",\"line\":{\"color\":\"#00cc96\",\"dash\":\"solid\"},\"marker\":{\"symbol\":\"circle\"},\"mode\":\"lines\",\"name\":\"Exports Total\",\"orientation\":\"v\",\"showlegend\":true,\"x\":[\"2021-01-01\",\"2020-01-01\",\"2019-01-01\",\"2018-01-01\",\"2017-01-01\",\"2016-01-01\",\"2015-01-01\",\"2014-01-01\",\"2013-01-01\",\"2012-01-01\",\"2011-01-01\",\"2010-01-01\",\"2009-01-01\",\"2008-01-01\",\"2007-01-01\",\"2006-01-01\",\"2005-01-01\",\"2004-01-01\",\"2003-01-01\",\"2002-01-01\",\"2001-01-01\",\"2000-01-01\",\"1999-01-01\",\"1998-01-01\",\"1997-01-01\",\"1996-01-01\",\"1995-01-01\",\"1994-01-01\",\"1993-01-01\",\"1992-01-01\",\"1991-01-01\",\"1990-01-01\",\"1989-01-01\",\"1988-01-01\",\"1987-01-01\",\"1986-01-01\",\"1985-01-01\",\"1984-01-01\",\"1983-01-01\",\"1982-01-01\",\"1981-01-01\",\"1980-01-01\",\"1979-01-01\",\"1978-01-01\",\"1977-01-01\",\"1976-01-01\",\"1975-01-01\",\"1974-01-01\",\"1973-01-01\",\"1972-01-01\",\"1971-01-01\",\"1970-01-01\"],\"xaxis\":\"x\",\"y\":[3147021,2159043,2219854,2307726,1956515,1849434,1716384,1896445,1905011,1634318,1465959,1142922,845534,840755,655864,571779,456418,375340,293367,255137,209018,203571,159561,139753,130101,118817,106353,82674,69751,53688,44042,32558,27658,20232,15674,12452,10895,11744,9771,8803,7806,6711,6418,5726,5408,5143,4036,3329,2523,1972,1608,1535],\"yaxis\":\"y\",\"type\":\"scatter\"},{\"hovertemplate\":\"variable=Imports Oil<br>Year=%{x}<br>value=%{y}<extra></extra>\",\"legendgroup\":\"Imports Oil\",\"line\":{\"color\":\"#ab63fa\",\"dash\":\"solid\"},\"marker\":{\"symbol\":\"circle\"},\"mode\":\"lines\",\"name\":\"Imports Oil\",\"orientation\":\"v\",\"showlegend\":true,\"x\":[\"2021-01-01\",\"2020-01-01\",\"2019-01-01\",\"2018-01-01\",\"2017-01-01\",\"2016-01-01\",\"2015-01-01\",\"2014-01-01\",\"2013-01-01\",\"2012-01-01\",\"2011-01-01\",\"2010-01-01\",\"2009-01-01\",\"2008-01-01\",\"2007-01-01\",\"2006-01-01\",\"2005-01-01\",\"2004-01-01\",\"2003-01-01\",\"2002-01-01\",\"2001-01-01\",\"2000-01-01\",\"1999-01-01\",\"1998-01-01\",\"1997-01-01\",\"1996-01-01\",\"1995-01-01\",\"1994-01-01\",\"1993-01-01\",\"1992-01-01\",\"1991-01-01\",\"1990-01-01\",\"1989-01-01\",\"1988-01-01\",\"1987-01-01\",\"1986-01-01\",\"1985-01-01\",\"1984-01-01\",\"1983-01-01\",\"1982-01-01\",\"1981-01-01\",\"1980-01-01\",\"1979-01-01\",\"1978-01-01\",\"1977-01-01\",\"1976-01-01\",\"1975-01-01\",\"1974-01-01\",\"1973-01-01\",\"1972-01-01\",\"1971-01-01\",\"1970-01-01\"],\"xaxis\":\"x\",\"y\":[1207803,611353,925168,986275,700321,583217,540505,842874,997885,891871,743075,482282,411649,419968,320655,258572,194640,134094,94520,85367,66770,71497,54649,26919,30341,35629,25174,18613,18046,17142,13127,10816,6273,4358,4043,2811,4989,5409,4832,5622,5189,5264,3267,1677,1551,1413,1226,1157,560,204,194,136],\"yaxis\":\"y\",\"type\":\"scatter\"},{\"hovertemplate\":\"variable=Imports Non-Oil<br>Year=%{x}<br>value=%{y}<extra></extra>\",\"legendgroup\":\"Imports Non-Oil\",\"line\":{\"color\":\"#FFA15A\",\"dash\":\"solid\"},\"marker\":{\"symbol\":\"circle\"},\"mode\":\"lines\",\"name\":\"Imports Non-Oil\",\"orientation\":\"v\",\"showlegend\":true,\"x\":[\"2021-01-01\",\"2020-01-01\",\"2019-01-01\",\"2018-01-01\",\"2017-01-01\",\"2016-01-01\",\"2015-01-01\",\"2014-01-01\",\"2013-01-01\",\"2012-01-01\",\"2011-01-01\",\"2010-01-01\",\"2009-01-01\",\"2008-01-01\",\"2007-01-01\",\"2006-01-01\",\"2005-01-01\",\"2004-01-01\",\"2003-01-01\",\"2002-01-01\",\"2001-01-01\",\"2000-01-01\",\"1999-01-01\",\"1998-01-01\",\"1997-01-01\",\"1996-01-01\",\"1995-01-01\",\"1994-01-01\",\"1993-01-01\",\"1992-01-01\",\"1991-01-01\",\"1990-01-01\",\"1989-01-01\",\"1988-01-01\",\"1987-01-01\",\"1986-01-01\",\"1985-01-01\",\"1984-01-01\",\"1983-01-01\",\"1982-01-01\",\"1981-01-01\",\"1980-01-01\",\"1979-01-01\",\"1978-01-01\",\"1977-01-01\",\"1976-01-01\",\"1975-01-01\",\"1974-01-01\",\"1973-01-01\",\"1972-01-01\",\"1971-01-01\",\"1970-01-01\"],\"xaxis\":\"x\",\"y\":[3364972,2304605,2435787,2608400,2300713,1994458,1949801,1894212,1717548,1777291,1602388,1201185,952086,954468,691657,581935,465769,366971,264588,211839,178430,159376,160588,151413,123835,103291,97505,71358,55055,46233,34724,32377,29056,23878,18201,17285,14668,11725,11000,8671,8418,7286,5876,5134,4469,3660,4039,3362,2395,1663,1630,1498],\"yaxis\":\"y\",\"type\":\"scatter\"},{\"hovertemplate\":\"variable=Imports Total<br>Year=%{x}<br>value=%{y}<extra></extra>\",\"legendgroup\":\"Imports Total\",\"line\":{\"color\":\"#19d3f3\",\"dash\":\"solid\"},\"marker\":{\"symbol\":\"circle\"},\"mode\":\"lines\",\"name\":\"Imports Total\",\"orientation\":\"v\",\"showlegend\":true,\"x\":[\"2021-01-01\",\"2020-01-01\",\"2019-01-01\",\"2018-01-01\",\"2017-01-01\",\"2016-01-01\",\"2015-01-01\",\"2014-01-01\",\"2013-01-01\",\"2012-01-01\",\"2011-01-01\",\"2010-01-01\",\"2009-01-01\",\"2008-01-01\",\"2007-01-01\",\"2006-01-01\",\"2005-01-01\",\"2004-01-01\",\"2003-01-01\",\"2002-01-01\",\"2001-01-01\",\"2000-01-01\",\"1999-01-01\",\"1998-01-01\",\"1997-01-01\",\"1996-01-01\",\"1995-01-01\",\"1994-01-01\",\"1993-01-01\",\"1992-01-01\",\"1991-01-01\",\"1990-01-01\",\"1989-01-01\",\"1988-01-01\",\"1987-01-01\",\"1986-01-01\",\"1985-01-01\",\"1984-01-01\",\"1983-01-01\",\"1982-01-01\",\"1981-01-01\",\"1980-01-01\",\"1979-01-01\",\"1978-01-01\",\"1977-01-01\",\"1976-01-01\",\"1975-01-01\",\"1974-01-01\",\"1973-01-01\",\"1972-01-01\",\"1971-01-01\",\"1970-01-01\"],\"xaxis\":\"x\",\"y\":[4572775,2915958,3360954,3594675,3001033,2577675,2490306,2737087,2715434,2669162,2345463,1683467,1363736,1374436,1012312,840506,660409,501065,359108,297206,245200,230873,215237,178332,154176,138920,122678,89971,73101,63375,47851,43193,35328,28235,22244,20096,19658,17134,15832,14293,13608,12549,9143,6811,6020,5074,5265,4519,2955,1867,1825,1634],\"yaxis\":\"y\",\"type\":\"scatter\"},{\"hovertemplate\":\"variable=Trade Balance Oil<br>Year=%{x}<br>value=%{y}<extra></extra>\",\"legendgroup\":\"Trade Balance Oil\",\"line\":{\"color\":\"#FF6692\",\"dash\":\"solid\"},\"marker\":{\"symbol\":\"circle\"},\"mode\":\"lines\",\"name\":\"Trade Balance Oil\",\"orientation\":\"v\",\"showlegend\":true,\"x\":[\"2021-01-01\",\"2020-01-01\",\"2019-01-01\",\"2018-01-01\",\"2017-01-01\",\"2016-01-01\",\"2015-01-01\",\"2014-01-01\",\"2013-01-01\",\"2012-01-01\",\"2011-01-01\",\"2010-01-01\",\"2009-01-01\",\"2008-01-01\",\"2007-01-01\",\"2006-01-01\",\"2005-01-01\",\"2004-01-01\",\"2003-01-01\",\"2002-01-01\",\"2001-01-01\",\"2000-01-01\",\"1999-01-01\",\"1998-01-01\",\"1997-01-01\",\"1996-01-01\",\"1995-01-01\",\"1994-01-01\",\"1993-01-01\",\"1992-01-01\",\"1991-01-01\",\"1990-01-01\",\"1989-01-01\",\"1988-01-01\",\"1987-01-01\",\"1986-01-01\",\"1985-01-01\",\"1984-01-01\",\"1983-01-01\",\"1982-01-01\",\"1981-01-01\",\"1980-01-01\",\"1979-01-01\",\"1978-01-01\",\"1977-01-01\",\"1976-01-01\",\"1975-01-01\",\"1974-01-01\",\"1973-01-01\",\"1972-01-01\",\"1971-01-01\",\"1970-01-01\"],\"xaxis\":\"x\",\"y\":[-703953,-420457,-632828,-660346,-458886,-371708,-340867,-496792,-614638,-561052,-475160,-293503,-278750,-296570,-206463,-174052,-143107,-102690,-78123,-72898,-56663,-62955,-54480,-26543,-29030,-33918,-23656,-17304,-16798,-15763,-12105,-9878,-5576,-3853,-3394,-2399,-4345,-3591,-3244,-4387,-4968,-5239,-3248,-1663,-1535,-1395,-1207,-1143,-548,-175,-184,-127],\"yaxis\":\"y\",\"type\":\"scatter\"},{\"hovertemplate\":\"variable=Trade Balance Non-Oil<br>Year=%{x}<br>value=%{y}<extra></extra>\",\"legendgroup\":\"Trade Balance Non-Oil\",\"line\":{\"color\":\"#B6E880\",\"dash\":\"solid\"},\"marker\":{\"symbol\":\"circle\"},\"mode\":\"lines\",\"name\":\"Trade Balance Non-Oil\",\"orientation\":\"v\",\"showlegend\":true,\"x\":[\"2021-01-01\",\"2020-01-01\",\"2019-01-01\",\"2018-01-01\",\"2017-01-01\",\"2016-01-01\",\"2015-01-01\",\"2014-01-01\",\"2013-01-01\",\"2012-01-01\",\"2011-01-01\",\"2010-01-01\",\"2009-01-01\",\"2008-01-01\",\"2007-01-01\",\"2006-01-01\",\"2005-01-01\",\"2004-01-01\",\"2003-01-01\",\"2002-01-01\",\"2001-01-01\",\"2000-01-01\",\"1999-01-01\",\"1998-01-01\",\"1997-01-01\",\"1996-01-01\",\"1995-01-01\",\"1994-01-01\",\"1993-01-01\",\"1992-01-01\",\"1991-01-01\",\"1990-01-01\",\"1989-01-01\",\"1988-01-01\",\"1987-01-01\",\"1986-01-01\",\"1985-01-01\",\"1984-01-01\",\"1983-01-01\",\"1982-01-01\",\"1981-01-01\",\"1980-01-01\",\"1979-01-01\",\"1978-01-01\",\"1977-01-01\",\"1976-01-01\",\"1975-01-01\",\"1974-01-01\",\"1973-01-01\",\"1972-01-01\",\"1971-01-01\",\"1970-01-01\"],\"xaxis\":\"x\",\"y\":[-721800,-336458,-508273,-626602,-585633,-356534,-433054,-343849,-195785,-473792,-404344,-247042,-239452,-237111,-149985,-94675,-60884,-23035,12382,30829,20482,35653,-1195,-12036,4955,13816,7331,10007,13449,6076,8295,-757,-2094,-4151,-3176,-5245,-4418,-1800,-2817,-1103,-833,-600,524,578,923,1464,-22,-47,116,279,-33,28],\"yaxis\":\"y\",\"type\":\"scatter\"},{\"hovertemplate\":\"variable=Trade Balance Total<br>Year=%{x}<br>value=%{y}<extra></extra>\",\"legendgroup\":\"Trade Balance Total\",\"line\":{\"color\":\"#FF97FF\",\"dash\":\"solid\"},\"marker\":{\"symbol\":\"circle\"},\"mode\":\"lines\",\"name\":\"Trade Balance Total\",\"orientation\":\"v\",\"showlegend\":true,\"x\":[\"2021-01-01\",\"2020-01-01\",\"2019-01-01\",\"2018-01-01\",\"2017-01-01\",\"2016-01-01\",\"2015-01-01\",\"2014-01-01\",\"2013-01-01\",\"2012-01-01\",\"2011-01-01\",\"2010-01-01\",\"2009-01-01\",\"2008-01-01\",\"2007-01-01\",\"2006-01-01\",\"2005-01-01\",\"2004-01-01\",\"2003-01-01\",\"2002-01-01\",\"2001-01-01\",\"2000-01-01\",\"1999-01-01\",\"1998-01-01\",\"1997-01-01\",\"1996-01-01\",\"1995-01-01\",\"1994-01-01\",\"1993-01-01\",\"1992-01-01\",\"1991-01-01\",\"1990-01-01\",\"1989-01-01\",\"1988-01-01\",\"1987-01-01\",\"1986-01-01\",\"1985-01-01\",\"1984-01-01\",\"1983-01-01\",\"1982-01-01\",\"1981-01-01\",\"1980-01-01\",\"1979-01-01\",\"1978-01-01\",\"1977-01-01\",\"1976-01-01\",\"1975-01-01\",\"1974-01-01\",\"1973-01-01\",\"1972-01-01\",\"1971-01-01\",\"1970-01-01\"],\"xaxis\":\"x\",\"y\":[-1425753,-756914,-1141100,-1286948,-1044519,-728242,-773921,-840641,-810423,-1034844,-879504,-540545,-518202,-533680,-356448,-268727,-203991,-125725,-65741,-42069,-36182,-27302,-55675,-38579,-24076,-20103,-16325,-7297,-3350,-9686,-3809,-10635,-7670,-8004,-6570,-7644,-8763,-5391,-6061,-5489,-5802,-5838,-2724,-1085,-612,69,-1229,-1190,-432,104,-216,-99],\"yaxis\":\"y\",\"type\":\"scatter\"}],                        {\"template\":{\"data\":{\"histogram2dcontour\":[{\"type\":\"histogram2dcontour\",\"colorbar\":{\"outlinewidth\":0,\"ticks\":\"\"},\"colorscale\":[[0.0,\"#0d0887\"],[0.1111111111111111,\"#46039f\"],[0.2222222222222222,\"#7201a8\"],[0.3333333333333333,\"#9c179e\"],[0.4444444444444444,\"#bd3786\"],[0.5555555555555556,\"#d8576b\"],[0.6666666666666666,\"#ed7953\"],[0.7777777777777778,\"#fb9f3a\"],[0.8888888888888888,\"#fdca26\"],[1.0,\"#f0f921\"]]}],\"choropleth\":[{\"type\":\"choropleth\",\"colorbar\":{\"outlinewidth\":0,\"ticks\":\"\"}}],\"histogram2d\":[{\"type\":\"histogram2d\",\"colorbar\":{\"outlinewidth\":0,\"ticks\":\"\"},\"colorscale\":[[0.0,\"#0d0887\"],[0.1111111111111111,\"#46039f\"],[0.2222222222222222,\"#7201a8\"],[0.3333333333333333,\"#9c179e\"],[0.4444444444444444,\"#bd3786\"],[0.5555555555555556,\"#d8576b\"],[0.6666666666666666,\"#ed7953\"],[0.7777777777777778,\"#fb9f3a\"],[0.8888888888888888,\"#fdca26\"],[1.0,\"#f0f921\"]]}],\"heatmap\":[{\"type\":\"heatmap\",\"colorbar\":{\"outlinewidth\":0,\"ticks\":\"\"},\"colorscale\":[[0.0,\"#0d0887\"],[0.1111111111111111,\"#46039f\"],[0.2222222222222222,\"#7201a8\"],[0.3333333333333333,\"#9c179e\"],[0.4444444444444444,\"#bd3786\"],[0.5555555555555556,\"#d8576b\"],[0.6666666666666666,\"#ed7953\"],[0.7777777777777778,\"#fb9f3a\"],[0.8888888888888888,\"#fdca26\"],[1.0,\"#f0f921\"]]}],\"heatmapgl\":[{\"type\":\"heatmapgl\",\"colorbar\":{\"outlinewidth\":0,\"ticks\":\"\"},\"colorscale\":[[0.0,\"#0d0887\"],[0.1111111111111111,\"#46039f\"],[0.2222222222222222,\"#7201a8\"],[0.3333333333333333,\"#9c179e\"],[0.4444444444444444,\"#bd3786\"],[0.5555555555555556,\"#d8576b\"],[0.6666666666666666,\"#ed7953\"],[0.7777777777777778,\"#fb9f3a\"],[0.8888888888888888,\"#fdca26\"],[1.0,\"#f0f921\"]]}],\"contourcarpet\":[{\"type\":\"contourcarpet\",\"colorbar\":{\"outlinewidth\":0,\"ticks\":\"\"}}],\"contour\":[{\"type\":\"contour\",\"colorbar\":{\"outlinewidth\":0,\"ticks\":\"\"},\"colorscale\":[[0.0,\"#0d0887\"],[0.1111111111111111,\"#46039f\"],[0.2222222222222222,\"#7201a8\"],[0.3333333333333333,\"#9c179e\"],[0.4444444444444444,\"#bd3786\"],[0.5555555555555556,\"#d8576b\"],[0.6666666666666666,\"#ed7953\"],[0.7777777777777778,\"#fb9f3a\"],[0.8888888888888888,\"#fdca26\"],[1.0,\"#f0f921\"]]}],\"surface\":[{\"type\":\"surface\",\"colorbar\":{\"outlinewidth\":0,\"ticks\":\"\"},\"colorscale\":[[0.0,\"#0d0887\"],[0.1111111111111111,\"#46039f\"],[0.2222222222222222,\"#7201a8\"],[0.3333333333333333,\"#9c179e\"],[0.4444444444444444,\"#bd3786\"],[0.5555555555555556,\"#d8576b\"],[0.6666666666666666,\"#ed7953\"],[0.7777777777777778,\"#fb9f3a\"],[0.8888888888888888,\"#fdca26\"],[1.0,\"#f0f921\"]]}],\"mesh3d\":[{\"type\":\"mesh3d\",\"colorbar\":{\"outlinewidth\":0,\"ticks\":\"\"}}],\"scatter\":[{\"fillpattern\":{\"fillmode\":\"overlay\",\"size\":10,\"solidity\":0.2},\"type\":\"scatter\"}],\"parcoords\":[{\"type\":\"parcoords\",\"line\":{\"colorbar\":{\"outlinewidth\":0,\"ticks\":\"\"}}}],\"scatterpolargl\":[{\"type\":\"scatterpolargl\",\"marker\":{\"colorbar\":{\"outlinewidth\":0,\"ticks\":\"\"}}}],\"bar\":[{\"error_x\":{\"color\":\"#2a3f5f\"},\"error_y\":{\"color\":\"#2a3f5f\"},\"marker\":{\"line\":{\"color\":\"#E5ECF6\",\"width\":0.5},\"pattern\":{\"fillmode\":\"overlay\",\"size\":10,\"solidity\":0.2}},\"type\":\"bar\"}],\"scattergeo\":[{\"type\":\"scattergeo\",\"marker\":{\"colorbar\":{\"outlinewidth\":0,\"ticks\":\"\"}}}],\"scatterpolar\":[{\"type\":\"scatterpolar\",\"marker\":{\"colorbar\":{\"outlinewidth\":0,\"ticks\":\"\"}}}],\"histogram\":[{\"marker\":{\"pattern\":{\"fillmode\":\"overlay\",\"size\":10,\"solidity\":0.2}},\"type\":\"histogram\"}],\"scattergl\":[{\"type\":\"scattergl\",\"marker\":{\"colorbar\":{\"outlinewidth\":0,\"ticks\":\"\"}}}],\"scatter3d\":[{\"type\":\"scatter3d\",\"line\":{\"colorbar\":{\"outlinewidth\":0,\"ticks\":\"\"}},\"marker\":{\"colorbar\":{\"outlinewidth\":0,\"ticks\":\"\"}}}],\"scattermapbox\":[{\"type\":\"scattermapbox\",\"marker\":{\"colorbar\":{\"outlinewidth\":0,\"ticks\":\"\"}}}],\"scatterternary\":[{\"type\":\"scatterternary\",\"marker\":{\"colorbar\":{\"outlinewidth\":0,\"ticks\":\"\"}}}],\"scattercarpet\":[{\"type\":\"scattercarpet\",\"marker\":{\"colorbar\":{\"outlinewidth\":0,\"ticks\":\"\"}}}],\"carpet\":[{\"aaxis\":{\"endlinecolor\":\"#2a3f5f\",\"gridcolor\":\"white\",\"linecolor\":\"white\",\"minorgridcolor\":\"white\",\"startlinecolor\":\"#2a3f5f\"},\"baxis\":{\"endlinecolor\":\"#2a3f5f\",\"gridcolor\":\"white\",\"linecolor\":\"white\",\"minorgridcolor\":\"white\",\"startlinecolor\":\"#2a3f5f\"},\"type\":\"carpet\"}],\"table\":[{\"cells\":{\"fill\":{\"color\":\"#EBF0F8\"},\"line\":{\"color\":\"white\"}},\"header\":{\"fill\":{\"color\":\"#C8D4E3\"},\"line\":{\"color\":\"white\"}},\"type\":\"table\"}],\"barpolar\":[{\"marker\":{\"line\":{\"color\":\"#E5ECF6\",\"width\":0.5},\"pattern\":{\"fillmode\":\"overlay\",\"size\":10,\"solidity\":0.2}},\"type\":\"barpolar\"}],\"pie\":[{\"automargin\":true,\"type\":\"pie\"}]},\"layout\":{\"autotypenumbers\":\"strict\",\"colorway\":[\"#636efa\",\"#EF553B\",\"#00cc96\",\"#ab63fa\",\"#FFA15A\",\"#19d3f3\",\"#FF6692\",\"#B6E880\",\"#FF97FF\",\"#FECB52\"],\"font\":{\"color\":\"#2a3f5f\"},\"hovermode\":\"closest\",\"hoverlabel\":{\"align\":\"left\"},\"paper_bgcolor\":\"white\",\"plot_bgcolor\":\"#E5ECF6\",\"polar\":{\"bgcolor\":\"#E5ECF6\",\"angularaxis\":{\"gridcolor\":\"white\",\"linecolor\":\"white\",\"ticks\":\"\"},\"radialaxis\":{\"gridcolor\":\"white\",\"linecolor\":\"white\",\"ticks\":\"\"}},\"ternary\":{\"bgcolor\":\"#E5ECF6\",\"aaxis\":{\"gridcolor\":\"white\",\"linecolor\":\"white\",\"ticks\":\"\"},\"baxis\":{\"gridcolor\":\"white\",\"linecolor\":\"white\",\"ticks\":\"\"},\"caxis\":{\"gridcolor\":\"white\",\"linecolor\":\"white\",\"ticks\":\"\"}},\"coloraxis\":{\"colorbar\":{\"outlinewidth\":0,\"ticks\":\"\"}},\"colorscale\":{\"sequential\":[[0.0,\"#0d0887\"],[0.1111111111111111,\"#46039f\"],[0.2222222222222222,\"#7201a8\"],[0.3333333333333333,\"#9c179e\"],[0.4444444444444444,\"#bd3786\"],[0.5555555555555556,\"#d8576b\"],[0.6666666666666666,\"#ed7953\"],[0.7777777777777778,\"#fb9f3a\"],[0.8888888888888888,\"#fdca26\"],[1.0,\"#f0f921\"]],\"sequentialminus\":[[0.0,\"#0d0887\"],[0.1111111111111111,\"#46039f\"],[0.2222222222222222,\"#7201a8\"],[0.3333333333333333,\"#9c179e\"],[0.4444444444444444,\"#bd3786\"],[0.5555555555555556,\"#d8576b\"],[0.6666666666666666,\"#ed7953\"],[0.7777777777777778,\"#fb9f3a\"],[0.8888888888888888,\"#fdca26\"],[1.0,\"#f0f921\"]],\"diverging\":[[0,\"#8e0152\"],[0.1,\"#c51b7d\"],[0.2,\"#de77ae\"],[0.3,\"#f1b6da\"],[0.4,\"#fde0ef\"],[0.5,\"#f7f7f7\"],[0.6,\"#e6f5d0\"],[0.7,\"#b8e186\"],[0.8,\"#7fbc41\"],[0.9,\"#4d9221\"],[1,\"#276419\"]]},\"xaxis\":{\"gridcolor\":\"white\",\"linecolor\":\"white\",\"ticks\":\"\",\"title\":{\"standoff\":15},\"zerolinecolor\":\"white\",\"automargin\":true,\"zerolinewidth\":2},\"yaxis\":{\"gridcolor\":\"white\",\"linecolor\":\"white\",\"ticks\":\"\",\"title\":{\"standoff\":15},\"zerolinecolor\":\"white\",\"automargin\":true,\"zerolinewidth\":2},\"scene\":{\"xaxis\":{\"backgroundcolor\":\"#E5ECF6\",\"gridcolor\":\"white\",\"linecolor\":\"white\",\"showbackground\":true,\"ticks\":\"\",\"zerolinecolor\":\"white\",\"gridwidth\":2},\"yaxis\":{\"backgroundcolor\":\"#E5ECF6\",\"gridcolor\":\"white\",\"linecolor\":\"white\",\"showbackground\":true,\"ticks\":\"\",\"zerolinecolor\":\"white\",\"gridwidth\":2},\"zaxis\":{\"backgroundcolor\":\"#E5ECF6\",\"gridcolor\":\"white\",\"linecolor\":\"white\",\"showbackground\":true,\"ticks\":\"\",\"zerolinecolor\":\"white\",\"gridwidth\":2}},\"shapedefaults\":{\"line\":{\"color\":\"#2a3f5f\"}},\"annotationdefaults\":{\"arrowcolor\":\"#2a3f5f\",\"arrowhead\":0,\"arrowwidth\":1},\"geo\":{\"bgcolor\":\"white\",\"landcolor\":\"#E5ECF6\",\"subunitcolor\":\"white\",\"showland\":true,\"showlakes\":true,\"lakecolor\":\"white\"},\"title\":{\"x\":0.05},\"mapbox\":{\"style\":\"light\"}}},\"xaxis\":{\"anchor\":\"y\",\"domain\":[0.0,1.0],\"title\":{\"text\":\"Year\"}},\"yaxis\":{\"anchor\":\"x\",\"domain\":[0.0,1.0],\"title\":{\"text\":\"Foreign Trade(Rupees Crore)\"}},\"legend\":{\"title\":{\"text\":\"variable\"},\"tracegroupgap\":0},\"title\":{\"text\":\"Foreign Trade\"}},                        {\"responsive\": true}                    ).then(function(){\n",
       "                            \n",
       "var gd = document.getElementById('276d96d9-0270-4128-aff6-d8a56cf3e914');\n",
       "var x = new MutationObserver(function (mutations, observer) {{\n",
       "        var display = window.getComputedStyle(gd).display;\n",
       "        if (!display || display === 'none') {{\n",
       "            console.log([gd, 'removed!']);\n",
       "            Plotly.purge(gd);\n",
       "            observer.disconnect();\n",
       "        }}\n",
       "}});\n",
       "\n",
       "// Listen for the removal of the full notebook cells\n",
       "var notebookContainer = gd.closest('#notebook-container');\n",
       "if (notebookContainer) {{\n",
       "    x.observe(notebookContainer, {childList: true});\n",
       "}}\n",
       "\n",
       "// Listen for the clearing of the current output cell\n",
       "var outputEl = gd.closest('.output');\n",
       "if (outputEl) {{\n",
       "    x.observe(outputEl, {childList: true});\n",
       "}}\n",
       "\n",
       "                        })                };                });            </script>        </div>"
      ]
     },
     "metadata": {},
     "output_type": "display_data"
    }
   ],
   "source": [
    "foreign_trade = pd.read_csv('Final/foreign_trade_final.csv')\n",
    "title=\"Foreign Trade\"\n",
    "fig = px.line(foreign_trade, x='Year', y=['Exports Oil', 'Exports Non-Oil', 'Exports Total',\n",
    "       'Imports Oil', 'Imports Non-Oil', 'Imports Total', 'Trade Balance Oil',\n",
    "       'Trade Balance Non-Oil', 'Trade Balance Total'], title=title)\n",
    "fig.update_layout(xaxis_title='Year', yaxis_title='Foreign Trade(Rupees Crore)')\n",
    "fig.show()"
   ]
  },
  {
   "attachments": {},
   "cell_type": "markdown",
   "metadata": {},
   "source": [
    "We that the Indian foreign trade has increased drastically after the libralisation. As the country is developings, its energy needs are also increasing. This is the reason for the increase in the import of crude oil. The price of the crude oil has also increased. Even though are foreign trade is increased, we have a large trade deficit. This is also one of the reasons for fall in value of Indian Rupees."
   ]
  },
  {
   "attachments": {},
   "cell_type": "markdown",
   "metadata": {},
   "source": [
    "# External Debt"
   ]
  },
  {
   "cell_type": "code",
   "execution_count": 25,
   "metadata": {},
   "outputs": [
    {
     "data": {
      "application/vnd.plotly.v1+json": {
       "config": {
        "plotlyServerURL": "https://plot.ly"
       },
       "data": [
        {
         "hovertemplate": "variable=Total Multilateral<br>Year=%{x}<br>value=%{y}<extra></extra>",
         "legendgroup": "Total Multilateral",
         "line": {
          "color": "#636efa",
          "dash": "solid"
         },
         "marker": {
          "symbol": "circle"
         },
         "mode": "lines",
         "name": "Total Multilateral",
         "orientation": "v",
         "showlegend": true,
         "type": "scatter",
         "x": [
          2022,
          2021,
          2020,
          2019,
          2018,
          2017,
          2016,
          2015,
          2014,
          2013,
          2012,
          2011,
          2010,
          2009,
          2008,
          2007,
          2006,
          2005,
          2004,
          2003,
          2002,
          2001,
          2000,
          1999,
          1998,
          1997,
          1996,
          1995,
          1994,
          1993,
          1992,
          1991
         ],
         "xaxis": "x",
         "y": [
          553142,
          507314,
          449606,
          395885,
          371781,
          354118,
          359490,
          328148,
          321560,
          279310,
          257088,
          216672,
          193436,
          201425,
          157901,
          154053,
          145503,
          138897,
          131105,
          142683,
          155633,
          145105,
          137132,
          129682,
          116904,
          105066,
          98173,
          89819,
          82199,
          77758,
          68262,
          40386
         ],
         "yaxis": "y"
        },
        {
         "hovertemplate": "variable=Government Borrowing<br>Year=%{x}<br>value=%{y}<extra></extra>",
         "legendgroup": "Government Borrowing",
         "line": {
          "color": "#EF553B",
          "dash": "solid"
         },
         "marker": {
          "symbol": "circle"
         },
         "mode": "lines",
         "name": "Government Borrowing",
         "orientation": "v",
         "showlegend": true,
         "type": "scatter",
         "x": [
          2022,
          2021,
          2020,
          2019,
          2018,
          2017,
          2016,
          2015,
          2014,
          2013,
          2012,
          2011,
          2010,
          2009,
          2008,
          2007,
          2006,
          2005,
          2004,
          2003,
          2002,
          2001,
          2000,
          1999,
          1998,
          1997,
          1996,
          1995,
          1994,
          1993,
          1992,
          1991
         ],
         "xaxis": "x",
         "y": [
          460545,
          419319,
          362042,
          320336,
          304595,
          288246,
          294122,
          269431,
          268491,
          235670,
          222579,
          190326,
          170722,
          181997,
          144627,
          141746,
          133800,
          127782,
          120073,
          129727,
          138023,
          127886,
          120321,
          114531,
          104218,
          94824,
          89428,
          82223,
          75617,
          72286,
          63787,
          38429
         ],
         "yaxis": "y"
        },
        {
         "hovertemplate": "variable=Non - Government Borrowing<br>Year=%{x}<br>value=%{y}<extra></extra>",
         "legendgroup": "Non - Government Borrowing",
         "line": {
          "color": "#00cc96",
          "dash": "solid"
         },
         "marker": {
          "symbol": "circle"
         },
         "mode": "lines",
         "name": "Non - Government Borrowing",
         "orientation": "v",
         "showlegend": true,
         "type": "scatter",
         "x": [
          2022,
          2021,
          2020,
          2019,
          2018,
          2017,
          2016,
          2015,
          2014,
          2013,
          2012,
          2011,
          2010,
          2009,
          2008,
          2007,
          2006,
          2005,
          2004,
          2003,
          2002,
          2001,
          2000,
          1999,
          1998,
          1997,
          1996,
          1995,
          1994,
          1993,
          1992,
          1991
         ],
         "xaxis": "x",
         "y": [
          92597,
          87996,
          87564,
          75549,
          67186,
          65872,
          65368,
          58717,
          53069,
          43640,
          34509,
          26346,
          22714,
          19428,
          13274,
          12307,
          11703,
          11115,
          11032,
          12956,
          17610,
          17219,
          16811,
          15151,
          12686,
          10242,
          8745,
          7596,
          6582,
          5472,
          4475,
          1957
         ],
         "yaxis": "y"
        },
        {
         "hovertemplate": "variable=Total Bilateral<br>Year=%{x}<br>value=%{y}<extra></extra>",
         "legendgroup": "Total Bilateral",
         "line": {
          "color": "#ab63fa",
          "dash": "solid"
         },
         "marker": {
          "symbol": "circle"
         },
         "mode": "lines",
         "name": "Total Bilateral",
         "orientation": "v",
         "showlegend": true,
         "type": "scatter",
         "x": [
          2022,
          2021,
          2020,
          2019,
          2018,
          2017,
          2016,
          2015,
          2014,
          2013,
          2012,
          2011,
          2010,
          2009,
          2008,
          2007,
          2006,
          2005,
          2004,
          2003,
          2002,
          2001,
          2000,
          1999,
          1998,
          1997,
          1996,
          1995,
          1994,
          1993,
          1992,
          1991
         ],
         "xaxis": "x",
         "y": [
          245171,
          225017,
          210194,
          183742,
          164788,
          150808,
          149378,
          136060,
          148813,
          136329,
          137086,
          114905,
          101976,
          104997,
          78802,
          70034,
          70302,
          74530,
          77084,
          79921,
          74762,
          74519,
          79278,
          74304,
          67104,
          62891,
          65740,
          63761,
          54580,
          50258,
          47603,
          27378
         ],
         "yaxis": "y"
        },
        {
         "hovertemplate": "variable=Government Borrowing.1<br>Year=%{x}<br>value=%{y}<extra></extra>",
         "legendgroup": "Government Borrowing.1",
         "line": {
          "color": "#FFA15A",
          "dash": "solid"
         },
         "marker": {
          "symbol": "circle"
         },
         "mode": "lines",
         "name": "Government Borrowing.1",
         "orientation": "v",
         "showlegend": true,
         "type": "scatter",
         "x": [
          2022,
          2021,
          2020,
          2019,
          2018,
          2017,
          2016,
          2015,
          2014,
          2013,
          2012,
          2011,
          2010,
          2009,
          2008,
          2007,
          2006,
          2005,
          2004,
          2003,
          2002,
          2001,
          2000,
          1999,
          1998,
          1997,
          1996,
          1995,
          1994,
          1993,
          1992,
          1991
         ],
         "xaxis": "x",
         "y": [
          198021,
          179101,
          167494,
          141410,
          128945,
          109742,
          102925,
          88452,
          96918,
          88007,
          91641,
          80406,
          71584,
          74662,
          59391,
          53810,
          54593,
          57458,
          58121,
          60243,
          56302,
          56802,
          60920,
          57106,
          51420,
          49092,
          53119,
          52965,
          45387,
          42220,
          40371,
          23065
         ],
         "yaxis": "y"
        },
        {
         "hovertemplate": "variable=Non - Government Borrowing.1<br>Year=%{x}<br>value=%{y}<extra></extra>",
         "legendgroup": "Non - Government Borrowing.1",
         "line": {
          "color": "#19d3f3",
          "dash": "solid"
         },
         "marker": {
          "symbol": "circle"
         },
         "mode": "lines",
         "name": "Non - Government Borrowing.1",
         "orientation": "v",
         "showlegend": true,
         "type": "scatter",
         "x": [
          2022,
          2021,
          2020,
          2019,
          2018,
          2017,
          2016,
          2015,
          2014,
          2013,
          2012,
          2011,
          2010,
          2009,
          2008,
          2007,
          2006,
          2005,
          2004,
          2003,
          2002,
          2001,
          2000,
          1999,
          1998,
          1997,
          1996,
          1995,
          1994,
          1993,
          1992,
          1991
         ],
         "xaxis": "x",
         "y": [
          47150,
          45916,
          42700,
          42332,
          35843,
          41066,
          46453,
          47608,
          51895,
          48322,
          45445,
          34499,
          30392,
          30335,
          19411,
          16224,
          15709,
          17072,
          18963,
          19678,
          18460,
          17717,
          18358,
          17198,
          15684,
          13799,
          12621,
          10796,
          9193,
          8038,
          7232,
          4313
         ],
         "yaxis": "y"
        },
        {
         "hovertemplate": "variable=IMF<br>Year=%{x}<br>value=%{y}<extra></extra>",
         "legendgroup": "IMF",
         "line": {
          "color": "#FF6692",
          "dash": "solid"
         },
         "marker": {
          "symbol": "circle"
         },
         "mode": "lines",
         "name": "IMF",
         "orientation": "v",
         "showlegend": true,
         "type": "scatter",
         "x": [
          2022,
          2021,
          2020,
          2019,
          2018,
          2017,
          2016,
          2015,
          2014,
          2013,
          2012,
          2011,
          2010,
          2009,
          2008,
          2007,
          2006,
          2005,
          2004,
          2003,
          2002,
          2001,
          2000,
          1999,
          1998,
          1997,
          1996,
          1995,
          1994,
          1993,
          1992,
          1991
         ],
         "xaxis": "x",
         "y": [
          173415,
          41442,
          40931,
          38202,
          37716,
          35129,
          37177,
          34350,
          36910,
          32439,
          31528,
          28163,
          27264,
          5188,
          4479,
          4484,
          4378,
          4503,
          4381,
          0,
          0,
          0,
          113,
          1218,
          2622,
          4714,
          8152,
          13545,
          15812,
          14985,
          8934,
          5132
         ],
         "yaxis": "y"
        }
       ],
       "layout": {
        "legend": {
         "title": {
          "text": "variable"
         },
         "tracegroupgap": 0
        },
        "template": {
         "data": {
          "bar": [
           {
            "error_x": {
             "color": "#2a3f5f"
            },
            "error_y": {
             "color": "#2a3f5f"
            },
            "marker": {
             "line": {
              "color": "#E5ECF6",
              "width": 0.5
             },
             "pattern": {
              "fillmode": "overlay",
              "size": 10,
              "solidity": 0.2
             }
            },
            "type": "bar"
           }
          ],
          "barpolar": [
           {
            "marker": {
             "line": {
              "color": "#E5ECF6",
              "width": 0.5
             },
             "pattern": {
              "fillmode": "overlay",
              "size": 10,
              "solidity": 0.2
             }
            },
            "type": "barpolar"
           }
          ],
          "carpet": [
           {
            "aaxis": {
             "endlinecolor": "#2a3f5f",
             "gridcolor": "white",
             "linecolor": "white",
             "minorgridcolor": "white",
             "startlinecolor": "#2a3f5f"
            },
            "baxis": {
             "endlinecolor": "#2a3f5f",
             "gridcolor": "white",
             "linecolor": "white",
             "minorgridcolor": "white",
             "startlinecolor": "#2a3f5f"
            },
            "type": "carpet"
           }
          ],
          "choropleth": [
           {
            "colorbar": {
             "outlinewidth": 0,
             "ticks": ""
            },
            "type": "choropleth"
           }
          ],
          "contour": [
           {
            "colorbar": {
             "outlinewidth": 0,
             "ticks": ""
            },
            "colorscale": [
             [
              0,
              "#0d0887"
             ],
             [
              0.1111111111111111,
              "#46039f"
             ],
             [
              0.2222222222222222,
              "#7201a8"
             ],
             [
              0.3333333333333333,
              "#9c179e"
             ],
             [
              0.4444444444444444,
              "#bd3786"
             ],
             [
              0.5555555555555556,
              "#d8576b"
             ],
             [
              0.6666666666666666,
              "#ed7953"
             ],
             [
              0.7777777777777778,
              "#fb9f3a"
             ],
             [
              0.8888888888888888,
              "#fdca26"
             ],
             [
              1,
              "#f0f921"
             ]
            ],
            "type": "contour"
           }
          ],
          "contourcarpet": [
           {
            "colorbar": {
             "outlinewidth": 0,
             "ticks": ""
            },
            "type": "contourcarpet"
           }
          ],
          "heatmap": [
           {
            "colorbar": {
             "outlinewidth": 0,
             "ticks": ""
            },
            "colorscale": [
             [
              0,
              "#0d0887"
             ],
             [
              0.1111111111111111,
              "#46039f"
             ],
             [
              0.2222222222222222,
              "#7201a8"
             ],
             [
              0.3333333333333333,
              "#9c179e"
             ],
             [
              0.4444444444444444,
              "#bd3786"
             ],
             [
              0.5555555555555556,
              "#d8576b"
             ],
             [
              0.6666666666666666,
              "#ed7953"
             ],
             [
              0.7777777777777778,
              "#fb9f3a"
             ],
             [
              0.8888888888888888,
              "#fdca26"
             ],
             [
              1,
              "#f0f921"
             ]
            ],
            "type": "heatmap"
           }
          ],
          "heatmapgl": [
           {
            "colorbar": {
             "outlinewidth": 0,
             "ticks": ""
            },
            "colorscale": [
             [
              0,
              "#0d0887"
             ],
             [
              0.1111111111111111,
              "#46039f"
             ],
             [
              0.2222222222222222,
              "#7201a8"
             ],
             [
              0.3333333333333333,
              "#9c179e"
             ],
             [
              0.4444444444444444,
              "#bd3786"
             ],
             [
              0.5555555555555556,
              "#d8576b"
             ],
             [
              0.6666666666666666,
              "#ed7953"
             ],
             [
              0.7777777777777778,
              "#fb9f3a"
             ],
             [
              0.8888888888888888,
              "#fdca26"
             ],
             [
              1,
              "#f0f921"
             ]
            ],
            "type": "heatmapgl"
           }
          ],
          "histogram": [
           {
            "marker": {
             "pattern": {
              "fillmode": "overlay",
              "size": 10,
              "solidity": 0.2
             }
            },
            "type": "histogram"
           }
          ],
          "histogram2d": [
           {
            "colorbar": {
             "outlinewidth": 0,
             "ticks": ""
            },
            "colorscale": [
             [
              0,
              "#0d0887"
             ],
             [
              0.1111111111111111,
              "#46039f"
             ],
             [
              0.2222222222222222,
              "#7201a8"
             ],
             [
              0.3333333333333333,
              "#9c179e"
             ],
             [
              0.4444444444444444,
              "#bd3786"
             ],
             [
              0.5555555555555556,
              "#d8576b"
             ],
             [
              0.6666666666666666,
              "#ed7953"
             ],
             [
              0.7777777777777778,
              "#fb9f3a"
             ],
             [
              0.8888888888888888,
              "#fdca26"
             ],
             [
              1,
              "#f0f921"
             ]
            ],
            "type": "histogram2d"
           }
          ],
          "histogram2dcontour": [
           {
            "colorbar": {
             "outlinewidth": 0,
             "ticks": ""
            },
            "colorscale": [
             [
              0,
              "#0d0887"
             ],
             [
              0.1111111111111111,
              "#46039f"
             ],
             [
              0.2222222222222222,
              "#7201a8"
             ],
             [
              0.3333333333333333,
              "#9c179e"
             ],
             [
              0.4444444444444444,
              "#bd3786"
             ],
             [
              0.5555555555555556,
              "#d8576b"
             ],
             [
              0.6666666666666666,
              "#ed7953"
             ],
             [
              0.7777777777777778,
              "#fb9f3a"
             ],
             [
              0.8888888888888888,
              "#fdca26"
             ],
             [
              1,
              "#f0f921"
             ]
            ],
            "type": "histogram2dcontour"
           }
          ],
          "mesh3d": [
           {
            "colorbar": {
             "outlinewidth": 0,
             "ticks": ""
            },
            "type": "mesh3d"
           }
          ],
          "parcoords": [
           {
            "line": {
             "colorbar": {
              "outlinewidth": 0,
              "ticks": ""
             }
            },
            "type": "parcoords"
           }
          ],
          "pie": [
           {
            "automargin": true,
            "type": "pie"
           }
          ],
          "scatter": [
           {
            "fillpattern": {
             "fillmode": "overlay",
             "size": 10,
             "solidity": 0.2
            },
            "type": "scatter"
           }
          ],
          "scatter3d": [
           {
            "line": {
             "colorbar": {
              "outlinewidth": 0,
              "ticks": ""
             }
            },
            "marker": {
             "colorbar": {
              "outlinewidth": 0,
              "ticks": ""
             }
            },
            "type": "scatter3d"
           }
          ],
          "scattercarpet": [
           {
            "marker": {
             "colorbar": {
              "outlinewidth": 0,
              "ticks": ""
             }
            },
            "type": "scattercarpet"
           }
          ],
          "scattergeo": [
           {
            "marker": {
             "colorbar": {
              "outlinewidth": 0,
              "ticks": ""
             }
            },
            "type": "scattergeo"
           }
          ],
          "scattergl": [
           {
            "marker": {
             "colorbar": {
              "outlinewidth": 0,
              "ticks": ""
             }
            },
            "type": "scattergl"
           }
          ],
          "scattermapbox": [
           {
            "marker": {
             "colorbar": {
              "outlinewidth": 0,
              "ticks": ""
             }
            },
            "type": "scattermapbox"
           }
          ],
          "scatterpolar": [
           {
            "marker": {
             "colorbar": {
              "outlinewidth": 0,
              "ticks": ""
             }
            },
            "type": "scatterpolar"
           }
          ],
          "scatterpolargl": [
           {
            "marker": {
             "colorbar": {
              "outlinewidth": 0,
              "ticks": ""
             }
            },
            "type": "scatterpolargl"
           }
          ],
          "scatterternary": [
           {
            "marker": {
             "colorbar": {
              "outlinewidth": 0,
              "ticks": ""
             }
            },
            "type": "scatterternary"
           }
          ],
          "surface": [
           {
            "colorbar": {
             "outlinewidth": 0,
             "ticks": ""
            },
            "colorscale": [
             [
              0,
              "#0d0887"
             ],
             [
              0.1111111111111111,
              "#46039f"
             ],
             [
              0.2222222222222222,
              "#7201a8"
             ],
             [
              0.3333333333333333,
              "#9c179e"
             ],
             [
              0.4444444444444444,
              "#bd3786"
             ],
             [
              0.5555555555555556,
              "#d8576b"
             ],
             [
              0.6666666666666666,
              "#ed7953"
             ],
             [
              0.7777777777777778,
              "#fb9f3a"
             ],
             [
              0.8888888888888888,
              "#fdca26"
             ],
             [
              1,
              "#f0f921"
             ]
            ],
            "type": "surface"
           }
          ],
          "table": [
           {
            "cells": {
             "fill": {
              "color": "#EBF0F8"
             },
             "line": {
              "color": "white"
             }
            },
            "header": {
             "fill": {
              "color": "#C8D4E3"
             },
             "line": {
              "color": "white"
             }
            },
            "type": "table"
           }
          ]
         },
         "layout": {
          "annotationdefaults": {
           "arrowcolor": "#2a3f5f",
           "arrowhead": 0,
           "arrowwidth": 1
          },
          "autotypenumbers": "strict",
          "coloraxis": {
           "colorbar": {
            "outlinewidth": 0,
            "ticks": ""
           }
          },
          "colorscale": {
           "diverging": [
            [
             0,
             "#8e0152"
            ],
            [
             0.1,
             "#c51b7d"
            ],
            [
             0.2,
             "#de77ae"
            ],
            [
             0.3,
             "#f1b6da"
            ],
            [
             0.4,
             "#fde0ef"
            ],
            [
             0.5,
             "#f7f7f7"
            ],
            [
             0.6,
             "#e6f5d0"
            ],
            [
             0.7,
             "#b8e186"
            ],
            [
             0.8,
             "#7fbc41"
            ],
            [
             0.9,
             "#4d9221"
            ],
            [
             1,
             "#276419"
            ]
           ],
           "sequential": [
            [
             0,
             "#0d0887"
            ],
            [
             0.1111111111111111,
             "#46039f"
            ],
            [
             0.2222222222222222,
             "#7201a8"
            ],
            [
             0.3333333333333333,
             "#9c179e"
            ],
            [
             0.4444444444444444,
             "#bd3786"
            ],
            [
             0.5555555555555556,
             "#d8576b"
            ],
            [
             0.6666666666666666,
             "#ed7953"
            ],
            [
             0.7777777777777778,
             "#fb9f3a"
            ],
            [
             0.8888888888888888,
             "#fdca26"
            ],
            [
             1,
             "#f0f921"
            ]
           ],
           "sequentialminus": [
            [
             0,
             "#0d0887"
            ],
            [
             0.1111111111111111,
             "#46039f"
            ],
            [
             0.2222222222222222,
             "#7201a8"
            ],
            [
             0.3333333333333333,
             "#9c179e"
            ],
            [
             0.4444444444444444,
             "#bd3786"
            ],
            [
             0.5555555555555556,
             "#d8576b"
            ],
            [
             0.6666666666666666,
             "#ed7953"
            ],
            [
             0.7777777777777778,
             "#fb9f3a"
            ],
            [
             0.8888888888888888,
             "#fdca26"
            ],
            [
             1,
             "#f0f921"
            ]
           ]
          },
          "colorway": [
           "#636efa",
           "#EF553B",
           "#00cc96",
           "#ab63fa",
           "#FFA15A",
           "#19d3f3",
           "#FF6692",
           "#B6E880",
           "#FF97FF",
           "#FECB52"
          ],
          "font": {
           "color": "#2a3f5f"
          },
          "geo": {
           "bgcolor": "white",
           "lakecolor": "white",
           "landcolor": "#E5ECF6",
           "showlakes": true,
           "showland": true,
           "subunitcolor": "white"
          },
          "hoverlabel": {
           "align": "left"
          },
          "hovermode": "closest",
          "mapbox": {
           "style": "light"
          },
          "paper_bgcolor": "white",
          "plot_bgcolor": "#E5ECF6",
          "polar": {
           "angularaxis": {
            "gridcolor": "white",
            "linecolor": "white",
            "ticks": ""
           },
           "bgcolor": "#E5ECF6",
           "radialaxis": {
            "gridcolor": "white",
            "linecolor": "white",
            "ticks": ""
           }
          },
          "scene": {
           "xaxis": {
            "backgroundcolor": "#E5ECF6",
            "gridcolor": "white",
            "gridwidth": 2,
            "linecolor": "white",
            "showbackground": true,
            "ticks": "",
            "zerolinecolor": "white"
           },
           "yaxis": {
            "backgroundcolor": "#E5ECF6",
            "gridcolor": "white",
            "gridwidth": 2,
            "linecolor": "white",
            "showbackground": true,
            "ticks": "",
            "zerolinecolor": "white"
           },
           "zaxis": {
            "backgroundcolor": "#E5ECF6",
            "gridcolor": "white",
            "gridwidth": 2,
            "linecolor": "white",
            "showbackground": true,
            "ticks": "",
            "zerolinecolor": "white"
           }
          },
          "shapedefaults": {
           "line": {
            "color": "#2a3f5f"
           }
          },
          "ternary": {
           "aaxis": {
            "gridcolor": "white",
            "linecolor": "white",
            "ticks": ""
           },
           "baxis": {
            "gridcolor": "white",
            "linecolor": "white",
            "ticks": ""
           },
           "bgcolor": "#E5ECF6",
           "caxis": {
            "gridcolor": "white",
            "linecolor": "white",
            "ticks": ""
           }
          },
          "title": {
           "x": 0.05
          },
          "xaxis": {
           "automargin": true,
           "gridcolor": "white",
           "linecolor": "white",
           "ticks": "",
           "title": {
            "standoff": 15
           },
           "zerolinecolor": "white",
           "zerolinewidth": 2
          },
          "yaxis": {
           "automargin": true,
           "gridcolor": "white",
           "linecolor": "white",
           "ticks": "",
           "title": {
            "standoff": 15
           },
           "zerolinecolor": "white",
           "zerolinewidth": 2
          }
         }
        },
        "title": {
         "text": "External Debt"
        },
        "xaxis": {
         "anchor": "y",
         "domain": [
          0,
          1
         ],
         "title": {
          "text": "Year"
         }
        },
        "yaxis": {
         "anchor": "x",
         "domain": [
          0,
          1
         ],
         "title": {
          "text": "Debt(Rupees Crore)"
         }
        }
       }
      },
      "text/html": [
       "<div>                            <div id=\"c8cc7ea2-88e1-4784-b735-4b7b61d5bb09\" class=\"plotly-graph-div\" style=\"height:525px; width:100%;\"></div>            <script type=\"text/javascript\">                require([\"plotly\"], function(Plotly) {                    window.PLOTLYENV=window.PLOTLYENV || {};                                    if (document.getElementById(\"c8cc7ea2-88e1-4784-b735-4b7b61d5bb09\")) {                    Plotly.newPlot(                        \"c8cc7ea2-88e1-4784-b735-4b7b61d5bb09\",                        [{\"hovertemplate\":\"variable=Total Multilateral<br>Year=%{x}<br>value=%{y}<extra></extra>\",\"legendgroup\":\"Total Multilateral\",\"line\":{\"color\":\"#636efa\",\"dash\":\"solid\"},\"marker\":{\"symbol\":\"circle\"},\"mode\":\"lines\",\"name\":\"Total Multilateral\",\"orientation\":\"v\",\"showlegend\":true,\"x\":[2022,2021,2020,2019,2018,2017,2016,2015,2014,2013,2012,2011,2010,2009,2008,2007,2006,2005,2004,2003,2002,2001,2000,1999,1998,1997,1996,1995,1994,1993,1992,1991],\"xaxis\":\"x\",\"y\":[553142,507314,449606,395885,371781,354118,359490,328148,321560,279310,257088,216672,193436,201425,157901,154053,145503,138897,131105,142683,155633,145105,137132,129682,116904,105066,98173,89819,82199,77758,68262,40386],\"yaxis\":\"y\",\"type\":\"scatter\"},{\"hovertemplate\":\"variable=Government Borrowing<br>Year=%{x}<br>value=%{y}<extra></extra>\",\"legendgroup\":\"Government Borrowing\",\"line\":{\"color\":\"#EF553B\",\"dash\":\"solid\"},\"marker\":{\"symbol\":\"circle\"},\"mode\":\"lines\",\"name\":\"Government Borrowing\",\"orientation\":\"v\",\"showlegend\":true,\"x\":[2022,2021,2020,2019,2018,2017,2016,2015,2014,2013,2012,2011,2010,2009,2008,2007,2006,2005,2004,2003,2002,2001,2000,1999,1998,1997,1996,1995,1994,1993,1992,1991],\"xaxis\":\"x\",\"y\":[460545,419319,362042,320336,304595,288246,294122,269431,268491,235670,222579,190326,170722,181997,144627,141746,133800,127782,120073,129727,138023,127886,120321,114531,104218,94824,89428,82223,75617,72286,63787,38429],\"yaxis\":\"y\",\"type\":\"scatter\"},{\"hovertemplate\":\"variable=Non - Government Borrowing<br>Year=%{x}<br>value=%{y}<extra></extra>\",\"legendgroup\":\"Non - Government Borrowing\",\"line\":{\"color\":\"#00cc96\",\"dash\":\"solid\"},\"marker\":{\"symbol\":\"circle\"},\"mode\":\"lines\",\"name\":\"Non - Government Borrowing\",\"orientation\":\"v\",\"showlegend\":true,\"x\":[2022,2021,2020,2019,2018,2017,2016,2015,2014,2013,2012,2011,2010,2009,2008,2007,2006,2005,2004,2003,2002,2001,2000,1999,1998,1997,1996,1995,1994,1993,1992,1991],\"xaxis\":\"x\",\"y\":[92597,87996,87564,75549,67186,65872,65368,58717,53069,43640,34509,26346,22714,19428,13274,12307,11703,11115,11032,12956,17610,17219,16811,15151,12686,10242,8745,7596,6582,5472,4475,1957],\"yaxis\":\"y\",\"type\":\"scatter\"},{\"hovertemplate\":\"variable=Total Bilateral<br>Year=%{x}<br>value=%{y}<extra></extra>\",\"legendgroup\":\"Total Bilateral\",\"line\":{\"color\":\"#ab63fa\",\"dash\":\"solid\"},\"marker\":{\"symbol\":\"circle\"},\"mode\":\"lines\",\"name\":\"Total Bilateral\",\"orientation\":\"v\",\"showlegend\":true,\"x\":[2022,2021,2020,2019,2018,2017,2016,2015,2014,2013,2012,2011,2010,2009,2008,2007,2006,2005,2004,2003,2002,2001,2000,1999,1998,1997,1996,1995,1994,1993,1992,1991],\"xaxis\":\"x\",\"y\":[245171,225017,210194,183742,164788,150808,149378,136060,148813,136329,137086,114905,101976,104997,78802,70034,70302,74530,77084,79921,74762,74519,79278,74304,67104,62891,65740,63761,54580,50258,47603,27378],\"yaxis\":\"y\",\"type\":\"scatter\"},{\"hovertemplate\":\"variable=Government Borrowing.1<br>Year=%{x}<br>value=%{y}<extra></extra>\",\"legendgroup\":\"Government Borrowing.1\",\"line\":{\"color\":\"#FFA15A\",\"dash\":\"solid\"},\"marker\":{\"symbol\":\"circle\"},\"mode\":\"lines\",\"name\":\"Government Borrowing.1\",\"orientation\":\"v\",\"showlegend\":true,\"x\":[2022,2021,2020,2019,2018,2017,2016,2015,2014,2013,2012,2011,2010,2009,2008,2007,2006,2005,2004,2003,2002,2001,2000,1999,1998,1997,1996,1995,1994,1993,1992,1991],\"xaxis\":\"x\",\"y\":[198021,179101,167494,141410,128945,109742,102925,88452,96918,88007,91641,80406,71584,74662,59391,53810,54593,57458,58121,60243,56302,56802,60920,57106,51420,49092,53119,52965,45387,42220,40371,23065],\"yaxis\":\"y\",\"type\":\"scatter\"},{\"hovertemplate\":\"variable=Non - Government Borrowing.1<br>Year=%{x}<br>value=%{y}<extra></extra>\",\"legendgroup\":\"Non - Government Borrowing.1\",\"line\":{\"color\":\"#19d3f3\",\"dash\":\"solid\"},\"marker\":{\"symbol\":\"circle\"},\"mode\":\"lines\",\"name\":\"Non - Government Borrowing.1\",\"orientation\":\"v\",\"showlegend\":true,\"x\":[2022,2021,2020,2019,2018,2017,2016,2015,2014,2013,2012,2011,2010,2009,2008,2007,2006,2005,2004,2003,2002,2001,2000,1999,1998,1997,1996,1995,1994,1993,1992,1991],\"xaxis\":\"x\",\"y\":[47150,45916,42700,42332,35843,41066,46453,47608,51895,48322,45445,34499,30392,30335,19411,16224,15709,17072,18963,19678,18460,17717,18358,17198,15684,13799,12621,10796,9193,8038,7232,4313],\"yaxis\":\"y\",\"type\":\"scatter\"},{\"hovertemplate\":\"variable=IMF<br>Year=%{x}<br>value=%{y}<extra></extra>\",\"legendgroup\":\"IMF\",\"line\":{\"color\":\"#FF6692\",\"dash\":\"solid\"},\"marker\":{\"symbol\":\"circle\"},\"mode\":\"lines\",\"name\":\"IMF\",\"orientation\":\"v\",\"showlegend\":true,\"x\":[2022,2021,2020,2019,2018,2017,2016,2015,2014,2013,2012,2011,2010,2009,2008,2007,2006,2005,2004,2003,2002,2001,2000,1999,1998,1997,1996,1995,1994,1993,1992,1991],\"xaxis\":\"x\",\"y\":[173415,41442,40931,38202,37716,35129,37177,34350,36910,32439,31528,28163,27264,5188,4479,4484,4378,4503,4381,0,0,0,113,1218,2622,4714,8152,13545,15812,14985,8934,5132],\"yaxis\":\"y\",\"type\":\"scatter\"}],                        {\"template\":{\"data\":{\"histogram2dcontour\":[{\"type\":\"histogram2dcontour\",\"colorbar\":{\"outlinewidth\":0,\"ticks\":\"\"},\"colorscale\":[[0.0,\"#0d0887\"],[0.1111111111111111,\"#46039f\"],[0.2222222222222222,\"#7201a8\"],[0.3333333333333333,\"#9c179e\"],[0.4444444444444444,\"#bd3786\"],[0.5555555555555556,\"#d8576b\"],[0.6666666666666666,\"#ed7953\"],[0.7777777777777778,\"#fb9f3a\"],[0.8888888888888888,\"#fdca26\"],[1.0,\"#f0f921\"]]}],\"choropleth\":[{\"type\":\"choropleth\",\"colorbar\":{\"outlinewidth\":0,\"ticks\":\"\"}}],\"histogram2d\":[{\"type\":\"histogram2d\",\"colorbar\":{\"outlinewidth\":0,\"ticks\":\"\"},\"colorscale\":[[0.0,\"#0d0887\"],[0.1111111111111111,\"#46039f\"],[0.2222222222222222,\"#7201a8\"],[0.3333333333333333,\"#9c179e\"],[0.4444444444444444,\"#bd3786\"],[0.5555555555555556,\"#d8576b\"],[0.6666666666666666,\"#ed7953\"],[0.7777777777777778,\"#fb9f3a\"],[0.8888888888888888,\"#fdca26\"],[1.0,\"#f0f921\"]]}],\"heatmap\":[{\"type\":\"heatmap\",\"colorbar\":{\"outlinewidth\":0,\"ticks\":\"\"},\"colorscale\":[[0.0,\"#0d0887\"],[0.1111111111111111,\"#46039f\"],[0.2222222222222222,\"#7201a8\"],[0.3333333333333333,\"#9c179e\"],[0.4444444444444444,\"#bd3786\"],[0.5555555555555556,\"#d8576b\"],[0.6666666666666666,\"#ed7953\"],[0.7777777777777778,\"#fb9f3a\"],[0.8888888888888888,\"#fdca26\"],[1.0,\"#f0f921\"]]}],\"heatmapgl\":[{\"type\":\"heatmapgl\",\"colorbar\":{\"outlinewidth\":0,\"ticks\":\"\"},\"colorscale\":[[0.0,\"#0d0887\"],[0.1111111111111111,\"#46039f\"],[0.2222222222222222,\"#7201a8\"],[0.3333333333333333,\"#9c179e\"],[0.4444444444444444,\"#bd3786\"],[0.5555555555555556,\"#d8576b\"],[0.6666666666666666,\"#ed7953\"],[0.7777777777777778,\"#fb9f3a\"],[0.8888888888888888,\"#fdca26\"],[1.0,\"#f0f921\"]]}],\"contourcarpet\":[{\"type\":\"contourcarpet\",\"colorbar\":{\"outlinewidth\":0,\"ticks\":\"\"}}],\"contour\":[{\"type\":\"contour\",\"colorbar\":{\"outlinewidth\":0,\"ticks\":\"\"},\"colorscale\":[[0.0,\"#0d0887\"],[0.1111111111111111,\"#46039f\"],[0.2222222222222222,\"#7201a8\"],[0.3333333333333333,\"#9c179e\"],[0.4444444444444444,\"#bd3786\"],[0.5555555555555556,\"#d8576b\"],[0.6666666666666666,\"#ed7953\"],[0.7777777777777778,\"#fb9f3a\"],[0.8888888888888888,\"#fdca26\"],[1.0,\"#f0f921\"]]}],\"surface\":[{\"type\":\"surface\",\"colorbar\":{\"outlinewidth\":0,\"ticks\":\"\"},\"colorscale\":[[0.0,\"#0d0887\"],[0.1111111111111111,\"#46039f\"],[0.2222222222222222,\"#7201a8\"],[0.3333333333333333,\"#9c179e\"],[0.4444444444444444,\"#bd3786\"],[0.5555555555555556,\"#d8576b\"],[0.6666666666666666,\"#ed7953\"],[0.7777777777777778,\"#fb9f3a\"],[0.8888888888888888,\"#fdca26\"],[1.0,\"#f0f921\"]]}],\"mesh3d\":[{\"type\":\"mesh3d\",\"colorbar\":{\"outlinewidth\":0,\"ticks\":\"\"}}],\"scatter\":[{\"fillpattern\":{\"fillmode\":\"overlay\",\"size\":10,\"solidity\":0.2},\"type\":\"scatter\"}],\"parcoords\":[{\"type\":\"parcoords\",\"line\":{\"colorbar\":{\"outlinewidth\":0,\"ticks\":\"\"}}}],\"scatterpolargl\":[{\"type\":\"scatterpolargl\",\"marker\":{\"colorbar\":{\"outlinewidth\":0,\"ticks\":\"\"}}}],\"bar\":[{\"error_x\":{\"color\":\"#2a3f5f\"},\"error_y\":{\"color\":\"#2a3f5f\"},\"marker\":{\"line\":{\"color\":\"#E5ECF6\",\"width\":0.5},\"pattern\":{\"fillmode\":\"overlay\",\"size\":10,\"solidity\":0.2}},\"type\":\"bar\"}],\"scattergeo\":[{\"type\":\"scattergeo\",\"marker\":{\"colorbar\":{\"outlinewidth\":0,\"ticks\":\"\"}}}],\"scatterpolar\":[{\"type\":\"scatterpolar\",\"marker\":{\"colorbar\":{\"outlinewidth\":0,\"ticks\":\"\"}}}],\"histogram\":[{\"marker\":{\"pattern\":{\"fillmode\":\"overlay\",\"size\":10,\"solidity\":0.2}},\"type\":\"histogram\"}],\"scattergl\":[{\"type\":\"scattergl\",\"marker\":{\"colorbar\":{\"outlinewidth\":0,\"ticks\":\"\"}}}],\"scatter3d\":[{\"type\":\"scatter3d\",\"line\":{\"colorbar\":{\"outlinewidth\":0,\"ticks\":\"\"}},\"marker\":{\"colorbar\":{\"outlinewidth\":0,\"ticks\":\"\"}}}],\"scattermapbox\":[{\"type\":\"scattermapbox\",\"marker\":{\"colorbar\":{\"outlinewidth\":0,\"ticks\":\"\"}}}],\"scatterternary\":[{\"type\":\"scatterternary\",\"marker\":{\"colorbar\":{\"outlinewidth\":0,\"ticks\":\"\"}}}],\"scattercarpet\":[{\"type\":\"scattercarpet\",\"marker\":{\"colorbar\":{\"outlinewidth\":0,\"ticks\":\"\"}}}],\"carpet\":[{\"aaxis\":{\"endlinecolor\":\"#2a3f5f\",\"gridcolor\":\"white\",\"linecolor\":\"white\",\"minorgridcolor\":\"white\",\"startlinecolor\":\"#2a3f5f\"},\"baxis\":{\"endlinecolor\":\"#2a3f5f\",\"gridcolor\":\"white\",\"linecolor\":\"white\",\"minorgridcolor\":\"white\",\"startlinecolor\":\"#2a3f5f\"},\"type\":\"carpet\"}],\"table\":[{\"cells\":{\"fill\":{\"color\":\"#EBF0F8\"},\"line\":{\"color\":\"white\"}},\"header\":{\"fill\":{\"color\":\"#C8D4E3\"},\"line\":{\"color\":\"white\"}},\"type\":\"table\"}],\"barpolar\":[{\"marker\":{\"line\":{\"color\":\"#E5ECF6\",\"width\":0.5},\"pattern\":{\"fillmode\":\"overlay\",\"size\":10,\"solidity\":0.2}},\"type\":\"barpolar\"}],\"pie\":[{\"automargin\":true,\"type\":\"pie\"}]},\"layout\":{\"autotypenumbers\":\"strict\",\"colorway\":[\"#636efa\",\"#EF553B\",\"#00cc96\",\"#ab63fa\",\"#FFA15A\",\"#19d3f3\",\"#FF6692\",\"#B6E880\",\"#FF97FF\",\"#FECB52\"],\"font\":{\"color\":\"#2a3f5f\"},\"hovermode\":\"closest\",\"hoverlabel\":{\"align\":\"left\"},\"paper_bgcolor\":\"white\",\"plot_bgcolor\":\"#E5ECF6\",\"polar\":{\"bgcolor\":\"#E5ECF6\",\"angularaxis\":{\"gridcolor\":\"white\",\"linecolor\":\"white\",\"ticks\":\"\"},\"radialaxis\":{\"gridcolor\":\"white\",\"linecolor\":\"white\",\"ticks\":\"\"}},\"ternary\":{\"bgcolor\":\"#E5ECF6\",\"aaxis\":{\"gridcolor\":\"white\",\"linecolor\":\"white\",\"ticks\":\"\"},\"baxis\":{\"gridcolor\":\"white\",\"linecolor\":\"white\",\"ticks\":\"\"},\"caxis\":{\"gridcolor\":\"white\",\"linecolor\":\"white\",\"ticks\":\"\"}},\"coloraxis\":{\"colorbar\":{\"outlinewidth\":0,\"ticks\":\"\"}},\"colorscale\":{\"sequential\":[[0.0,\"#0d0887\"],[0.1111111111111111,\"#46039f\"],[0.2222222222222222,\"#7201a8\"],[0.3333333333333333,\"#9c179e\"],[0.4444444444444444,\"#bd3786\"],[0.5555555555555556,\"#d8576b\"],[0.6666666666666666,\"#ed7953\"],[0.7777777777777778,\"#fb9f3a\"],[0.8888888888888888,\"#fdca26\"],[1.0,\"#f0f921\"]],\"sequentialminus\":[[0.0,\"#0d0887\"],[0.1111111111111111,\"#46039f\"],[0.2222222222222222,\"#7201a8\"],[0.3333333333333333,\"#9c179e\"],[0.4444444444444444,\"#bd3786\"],[0.5555555555555556,\"#d8576b\"],[0.6666666666666666,\"#ed7953\"],[0.7777777777777778,\"#fb9f3a\"],[0.8888888888888888,\"#fdca26\"],[1.0,\"#f0f921\"]],\"diverging\":[[0,\"#8e0152\"],[0.1,\"#c51b7d\"],[0.2,\"#de77ae\"],[0.3,\"#f1b6da\"],[0.4,\"#fde0ef\"],[0.5,\"#f7f7f7\"],[0.6,\"#e6f5d0\"],[0.7,\"#b8e186\"],[0.8,\"#7fbc41\"],[0.9,\"#4d9221\"],[1,\"#276419\"]]},\"xaxis\":{\"gridcolor\":\"white\",\"linecolor\":\"white\",\"ticks\":\"\",\"title\":{\"standoff\":15},\"zerolinecolor\":\"white\",\"automargin\":true,\"zerolinewidth\":2},\"yaxis\":{\"gridcolor\":\"white\",\"linecolor\":\"white\",\"ticks\":\"\",\"title\":{\"standoff\":15},\"zerolinecolor\":\"white\",\"automargin\":true,\"zerolinewidth\":2},\"scene\":{\"xaxis\":{\"backgroundcolor\":\"#E5ECF6\",\"gridcolor\":\"white\",\"linecolor\":\"white\",\"showbackground\":true,\"ticks\":\"\",\"zerolinecolor\":\"white\",\"gridwidth\":2},\"yaxis\":{\"backgroundcolor\":\"#E5ECF6\",\"gridcolor\":\"white\",\"linecolor\":\"white\",\"showbackground\":true,\"ticks\":\"\",\"zerolinecolor\":\"white\",\"gridwidth\":2},\"zaxis\":{\"backgroundcolor\":\"#E5ECF6\",\"gridcolor\":\"white\",\"linecolor\":\"white\",\"showbackground\":true,\"ticks\":\"\",\"zerolinecolor\":\"white\",\"gridwidth\":2}},\"shapedefaults\":{\"line\":{\"color\":\"#2a3f5f\"}},\"annotationdefaults\":{\"arrowcolor\":\"#2a3f5f\",\"arrowhead\":0,\"arrowwidth\":1},\"geo\":{\"bgcolor\":\"white\",\"landcolor\":\"#E5ECF6\",\"subunitcolor\":\"white\",\"showland\":true,\"showlakes\":true,\"lakecolor\":\"white\"},\"title\":{\"x\":0.05},\"mapbox\":{\"style\":\"light\"}}},\"xaxis\":{\"anchor\":\"y\",\"domain\":[0.0,1.0],\"title\":{\"text\":\"Year\"}},\"yaxis\":{\"anchor\":\"x\",\"domain\":[0.0,1.0],\"title\":{\"text\":\"Debt(Rupees Crore)\"}},\"legend\":{\"title\":{\"text\":\"variable\"},\"tracegroupgap\":0},\"title\":{\"text\":\"External Debt\"}},                        {\"responsive\": true}                    ).then(function(){\n",
       "                            \n",
       "var gd = document.getElementById('c8cc7ea2-88e1-4784-b735-4b7b61d5bb09');\n",
       "var x = new MutationObserver(function (mutations, observer) {{\n",
       "        var display = window.getComputedStyle(gd).display;\n",
       "        if (!display || display === 'none') {{\n",
       "            console.log([gd, 'removed!']);\n",
       "            Plotly.purge(gd);\n",
       "            observer.disconnect();\n",
       "        }}\n",
       "}});\n",
       "\n",
       "// Listen for the removal of the full notebook cells\n",
       "var notebookContainer = gd.closest('#notebook-container');\n",
       "if (notebookContainer) {{\n",
       "    x.observe(notebookContainer, {childList: true});\n",
       "}}\n",
       "\n",
       "// Listen for the clearing of the current output cell\n",
       "var outputEl = gd.closest('.output');\n",
       "if (outputEl) {{\n",
       "    x.observe(outputEl, {childList: true});\n",
       "}}\n",
       "\n",
       "                        })                };                });            </script>        </div>"
      ]
     },
     "metadata": {},
     "output_type": "display_data"
    }
   ],
   "source": [
    "debt = pd.read_csv('Final/debt_final.csv')\n",
    "title = \"External Debt\"\n",
    "fig = px.line(debt, x='Year', y=[ 'Total Multilateral', 'Government Borrowing',\n",
    "       'Non - Government Borrowing', 'Total Bilateral',\n",
    "       'Government Borrowing.1', 'Non - Government Borrowing.1', 'IMF'], title=title)\n",
    "fig.update_layout(xaxis_title='Year', yaxis_title='Debt(Rupees Crore)')\n",
    "fig.show()"
   ]
  },
  {
   "attachments": {},
   "cell_type": "markdown",
   "metadata": {},
   "source": [
    "As India's GDP increases, the external debt is also increaisng. However the debt to GDP ratio is stable and much less than few of the countries like Japan, Greece, Singapore, US etc. There is a rise in development and investment in our country. Some of this development is also funded by the external debt. As long as debt to GDP ratio is stable, India can borrow more and invest in the development of the country."
   ]
  },
  {
   "attachments": {},
   "cell_type": "markdown",
   "metadata": {},
   "source": [
    "# Notes and Coins"
   ]
  },
  {
   "cell_type": "code",
   "execution_count": 26,
   "metadata": {},
   "outputs": [
    {
     "data": {
      "application/vnd.plotly.v1+json": {
       "config": {
        "plotlyServerURL": "https://plot.ly"
       },
       "data": [
        {
         "hovertemplate": "variable=Re. 1 Notes<br>Year=%{x}<br>value=%{y}<extra></extra>",
         "legendgroup": "Re. 1 Notes",
         "line": {
          "color": "#636efa",
          "dash": "solid"
         },
         "marker": {
          "symbol": "circle"
         },
         "mode": "lines",
         "name": "Re. 1 Notes",
         "orientation": "v",
         "showlegend": true,
         "type": "scatter",
         "x": [
          "2021-01-01",
          "2020-01-01",
          "2019-01-01",
          "2018-01-01",
          "2017-01-01",
          "2016-01-01",
          "2015-01-01",
          "2014-01-01",
          "2013-01-01",
          "2012-01-01",
          "2011-01-01",
          "2010-01-01",
          "2009-01-01",
          "2008-01-01",
          "2007-01-01",
          "2006-01-01",
          "2005-01-01",
          "2004-01-01",
          "2003-01-01",
          "2002-01-01",
          "2001-01-01",
          "2000-01-01",
          "1999-01-01",
          "1998-01-01",
          "1997-01-01",
          "1996-01-01",
          "1995-01-01",
          "1994-01-01",
          "1993-01-01",
          "1992-01-01",
          "1991-01-01",
          "1990-01-01",
          "1989-01-01",
          "1988-01-01",
          "1987-01-01",
          "1986-01-01",
          "1985-01-01",
          "1984-01-01",
          "1983-01-01",
          "1982-01-01",
          "1981-01-01",
          "1980-01-01",
          "1979-01-01",
          "1978-01-01",
          "1977-01-01",
          "1976-01-01",
          "1975-01-01",
          "1974-01-01",
          "1973-01-01",
          "1972-01-01",
          "1971-01-01",
          "1970-01-01"
         ],
         "xaxis": "x",
         "y": [
          382,
          377,
          370,
          359,
          343,
          321,
          309,
          299,
          299,
          299,
          299,
          299,
          299,
          300,
          300,
          301,
          299,
          299,
          299,
          305,
          308,
          307,
          308,
          316,
          319,
          316,
          322,
          320,
          328,
          null,
          null,
          335,
          348,
          360,
          352,
          301,
          238,
          204,
          198,
          205,
          212,
          207,
          214,
          256,
          272,
          274,
          293,
          290,
          283,
          260,
          234,
          219
         ],
         "yaxis": "y"
        },
        {
         "hovertemplate": "variable=Rs. 2 Notes<br>Year=%{x}<br>value=%{y}<extra></extra>",
         "legendgroup": "Rs. 2 Notes",
         "line": {
          "color": "#EF553B",
          "dash": "solid"
         },
         "marker": {
          "symbol": "circle"
         },
         "mode": "lines",
         "name": "Rs. 2 Notes",
         "orientation": "v",
         "showlegend": true,
         "type": "scatter",
         "x": [
          "2021-01-01",
          "2020-01-01",
          "2019-01-01",
          "2018-01-01",
          "2017-01-01",
          "2016-01-01",
          "2015-01-01",
          "2014-01-01",
          "2013-01-01",
          "2012-01-01",
          "2011-01-01",
          "2010-01-01",
          "2009-01-01",
          "2008-01-01",
          "2007-01-01",
          "2006-01-01",
          "2005-01-01",
          "2004-01-01",
          "2003-01-01",
          "2002-01-01",
          "2001-01-01",
          "2000-01-01",
          "1999-01-01",
          "1998-01-01",
          "1997-01-01",
          "1996-01-01",
          "1995-01-01",
          "1994-01-01",
          "1993-01-01",
          "1992-01-01",
          "1991-01-01",
          "1990-01-01",
          "1989-01-01",
          "1988-01-01",
          "1987-01-01",
          "1986-01-01",
          "1985-01-01",
          "1984-01-01",
          "1983-01-01",
          "1982-01-01",
          "1981-01-01",
          "1980-01-01",
          "1979-01-01",
          "1978-01-01",
          "1977-01-01",
          "1976-01-01",
          "1975-01-01",
          "1974-01-01",
          "1973-01-01",
          "1972-01-01",
          "1971-01-01",
          "1970-01-01"
         ],
         "xaxis": "x",
         "y": [
          853,
          853,
          853,
          853,
          853,
          853,
          853,
          854,
          851,
          851,
          851,
          851,
          698,
          665,
          636,
          447,
          451,
          462,
          472,
          483,
          538,
          471,
          512,
          530,
          550,
          527,
          515,
          602,
          624,
          720,
          942,
          883,
          804,
          681,
          653,
          683,
          650,
          580,
          450,
          431,
          392,
          299,
          215,
          174,
          148,
          127,
          116,
          56,
          83,
          70,
          66,
          69
         ],
         "yaxis": "y"
        },
        {
         "hovertemplate": "variable=Rs. 5 Notes<br>Year=%{x}<br>value=%{y}<extra></extra>",
         "legendgroup": "Rs. 5 Notes",
         "line": {
          "color": "#00cc96",
          "dash": "solid"
         },
         "marker": {
          "symbol": "circle"
         },
         "mode": "lines",
         "name": "Rs. 5 Notes",
         "orientation": "v",
         "showlegend": true,
         "type": "scatter",
         "x": [
          "2021-01-01",
          "2020-01-01",
          "2019-01-01",
          "2018-01-01",
          "2017-01-01",
          "2016-01-01",
          "2015-01-01",
          "2014-01-01",
          "2013-01-01",
          "2012-01-01",
          "2011-01-01",
          "2010-01-01",
          "2009-01-01",
          "2008-01-01",
          "2007-01-01",
          "2006-01-01",
          "2005-01-01",
          "2004-01-01",
          "2003-01-01",
          "2002-01-01",
          "2001-01-01",
          "2000-01-01",
          "1999-01-01",
          "1998-01-01",
          "1997-01-01",
          "1996-01-01",
          "1995-01-01",
          "1994-01-01",
          "1993-01-01",
          "1992-01-01",
          "1991-01-01",
          "1990-01-01",
          "1989-01-01",
          "1988-01-01",
          "1987-01-01",
          "1986-01-01",
          "1985-01-01",
          "1984-01-01",
          "1983-01-01",
          "1982-01-01",
          "1981-01-01",
          "1980-01-01",
          "1979-01-01",
          "1978-01-01",
          "1977-01-01",
          "1976-01-01",
          "1975-01-01",
          "1974-01-01",
          "1973-01-01",
          "1972-01-01",
          "1971-01-01",
          "1970-01-01"
         ],
         "xaxis": "x",
         "y": [
          3431,
          3454,
          3478,
          3519,
          3580,
          3645,
          3680,
          3702,
          3714,
          3687,
          3643,
          3430,
          2233,
          2271,
          2111,
          1887,
          1980,
          2086,
          2276,
          1739,
          1264,
          1016,
          1152,
          1290,
          1427,
          1554,
          1651,
          1765,
          1860,
          2022,
          2400,
          1810,
          1739,
          1482,
          1429,
          1287,
          1303,
          1234,
          560,
          807,
          692,
          634,
          588,
          576,
          572,
          540,
          532,
          433,
          412,
          371,
          325,
          310
         ],
         "yaxis": "y"
        },
        {
         "hovertemplate": "variable=Rs. 10 Notes<br>Year=%{x}<br>value=%{y}<extra></extra>",
         "legendgroup": "Rs. 10 Notes",
         "line": {
          "color": "#ab63fa",
          "dash": "solid"
         },
         "marker": {
          "symbol": "circle"
         },
         "mode": "lines",
         "name": "Rs. 10 Notes",
         "orientation": "v",
         "showlegend": true,
         "type": "scatter",
         "x": [
          "2021-01-01",
          "2020-01-01",
          "2019-01-01",
          "2018-01-01",
          "2017-01-01",
          "2016-01-01",
          "2015-01-01",
          "2014-01-01",
          "2013-01-01",
          "2012-01-01",
          "2011-01-01",
          "2010-01-01",
          "2009-01-01",
          "2008-01-01",
          "2007-01-01",
          "2006-01-01",
          "2005-01-01",
          "2004-01-01",
          "2003-01-01",
          "2002-01-01",
          "2001-01-01",
          "2000-01-01",
          "1999-01-01",
          "1998-01-01",
          "1997-01-01",
          "1996-01-01",
          "1995-01-01",
          "1994-01-01",
          "1993-01-01",
          "1992-01-01",
          "1991-01-01",
          "1990-01-01",
          "1989-01-01",
          "1988-01-01",
          "1987-01-01",
          "1986-01-01",
          "1985-01-01",
          "1984-01-01",
          "1983-01-01",
          "1982-01-01",
          "1981-01-01",
          "1980-01-01",
          "1979-01-01",
          "1978-01-01",
          "1977-01-01",
          "1976-01-01",
          "1975-01-01",
          "1974-01-01",
          "1973-01-01",
          "1972-01-01",
          "1971-01-01",
          "1970-01-01"
         ],
         "xaxis": "x",
         "y": [
          27805,
          29368,
          30402,
          31260,
          30645,
          36929,
          32015,
          30304,
          26648,
          25168,
          23002,
          21288,
          18536,
          12222,
          9333,
          7155,
          6274,
          6770,
          7750,
          9088,
          11989,
          12336,
          13282,
          12990,
          12412,
          11063,
          9218,
          6943,
          5334,
          4285,
          5202,
          3785,
          3515,
          2996,
          2825,
          2510,
          2536,
          2217,
          1770,
          1798,
          1991,
          2097,
          2123,
          1957,
          1825,
          1967,
          1880,
          1962,
          1980,
          1757,
          1713,
          1563
         ],
         "yaxis": "y"
        },
        {
         "hovertemplate": "variable=Rs. 20 Notes<br>Year=%{x}<br>value=%{y}<extra></extra>",
         "legendgroup": "Rs. 20 Notes",
         "line": {
          "color": "#FFA15A",
          "dash": "solid"
         },
         "marker": {
          "symbol": "circle"
         },
         "mode": "lines",
         "name": "Rs. 20 Notes",
         "orientation": "v",
         "showlegend": true,
         "type": "scatter",
         "x": [
          "2021-01-01",
          "2020-01-01",
          "2019-01-01",
          "2018-01-01",
          "2017-01-01",
          "2016-01-01",
          "2015-01-01",
          "2014-01-01",
          "2013-01-01",
          "2012-01-01",
          "2011-01-01",
          "2010-01-01",
          "2009-01-01",
          "2008-01-01",
          "2007-01-01",
          "2006-01-01",
          "2005-01-01",
          "2004-01-01",
          "2003-01-01",
          "2002-01-01",
          "2001-01-01",
          "2000-01-01",
          "1999-01-01",
          "1998-01-01",
          "1997-01-01",
          "1996-01-01",
          "1995-01-01",
          "1994-01-01",
          "1993-01-01",
          "1992-01-01",
          "1991-01-01",
          "1990-01-01",
          "1989-01-01",
          "1988-01-01",
          "1987-01-01",
          "1986-01-01",
          "1985-01-01",
          "1984-01-01",
          "1983-01-01",
          "1982-01-01",
          "1981-01-01",
          "1980-01-01",
          "1979-01-01",
          "1978-01-01",
          "1977-01-01",
          "1976-01-01",
          "1975-01-01",
          "1974-01-01",
          "1973-01-01",
          "1972-01-01",
          "1971-01-01",
          "1970-01-01"
         ],
         "xaxis": "x",
         "y": [
          22026,
          18116,
          16599,
          17425,
          20032,
          20315,
          9847,
          8699,
          8569,
          7650,
          7020,
          6040,
          4681,
          4399,
          4108,
          4178,
          4077,
          3876,
          4383,
          3425,
          1531,
          1012,
          1010,
          899,
          979,
          703,
          718,
          1120,
          1631,
          2340,
          2743,
          2952,
          3100,
          2613,
          2331,
          1899,
          1784,
          1636,
          1463,
          1433,
          1214,
          1090,
          961,
          779,
          690,
          555,
          425,
          415,
          382,
          152,
          null,
          null
         ],
         "yaxis": "y"
        },
        {
         "hovertemplate": "variable=Rs. 50 Notes<br>Year=%{x}<br>value=%{y}<extra></extra>",
         "legendgroup": "Rs. 50 Notes",
         "line": {
          "color": "#19d3f3",
          "dash": "solid"
         },
         "marker": {
          "symbol": "circle"
         },
         "mode": "lines",
         "name": "Rs. 50 Notes",
         "orientation": "v",
         "showlegend": true,
         "type": "scatter",
         "x": [
          "2021-01-01",
          "2020-01-01",
          "2019-01-01",
          "2018-01-01",
          "2017-01-01",
          "2016-01-01",
          "2015-01-01",
          "2014-01-01",
          "2013-01-01",
          "2012-01-01",
          "2011-01-01",
          "2010-01-01",
          "2009-01-01",
          "2008-01-01",
          "2007-01-01",
          "2006-01-01",
          "2005-01-01",
          "2004-01-01",
          "2003-01-01",
          "2002-01-01",
          "2001-01-01",
          "2000-01-01",
          "1999-01-01",
          "1998-01-01",
          "1997-01-01",
          "1996-01-01",
          "1995-01-01",
          "1994-01-01",
          "1993-01-01",
          "1992-01-01",
          "1991-01-01",
          "1990-01-01",
          "1989-01-01",
          "1988-01-01",
          "1987-01-01",
          "1986-01-01",
          "1985-01-01",
          "1984-01-01",
          "1983-01-01",
          "1982-01-01",
          "1981-01-01",
          "1980-01-01",
          "1979-01-01",
          "1978-01-01",
          "1977-01-01",
          "1976-01-01",
          "1975-01-01",
          "1974-01-01",
          "1973-01-01",
          "1972-01-01",
          "1971-01-01",
          "1970-01-01"
         ],
         "xaxis": "x",
         "y": [
          43571,
          43762,
          43004,
          43007,
          36715,
          35564,
          19450,
          17436,
          17242,
          17305,
          17438,
          15980,
          21057,
          24440,
          26508,
          27951,
          27842,
          29941,
          33027,
          35191,
          35601,
          32818,
          33230,
          33316,
          34245,
          33623,
          31659,
          28537,
          24991,
          22577,
          17719,
          14812,
          12553,
          9459,
          7267,
          5247,
          4310,
          3920,
          3626,
          3017,
          2724,
          2206,
          1983,
          1440,
          995,
          734,
          86,
          null,
          null,
          null,
          null,
          null
         ],
         "yaxis": "y"
        },
        {
         "hovertemplate": "variable=Rs. 100 Notes<br>Year=%{x}<br>value=%{y}<extra></extra>",
         "legendgroup": "Rs. 100 Notes",
         "line": {
          "color": "#FF6692",
          "dash": "solid"
         },
         "marker": {
          "symbol": "circle"
         },
         "mode": "lines",
         "name": "Rs. 100 Notes",
         "orientation": "v",
         "showlegend": true,
         "type": "scatter",
         "x": [
          "2021-01-01",
          "2020-01-01",
          "2019-01-01",
          "2018-01-01",
          "2017-01-01",
          "2016-01-01",
          "2015-01-01",
          "2014-01-01",
          "2013-01-01",
          "2012-01-01",
          "2011-01-01",
          "2010-01-01",
          "2009-01-01",
          "2008-01-01",
          "2007-01-01",
          "2006-01-01",
          "2005-01-01",
          "2004-01-01",
          "2003-01-01",
          "2002-01-01",
          "2001-01-01",
          "2000-01-01",
          "1999-01-01",
          "1998-01-01",
          "1997-01-01",
          "1996-01-01",
          "1995-01-01",
          "1994-01-01",
          "1993-01-01",
          "1992-01-01",
          "1991-01-01",
          "1990-01-01",
          "1989-01-01",
          "1988-01-01",
          "1987-01-01",
          "1986-01-01",
          "1985-01-01",
          "1984-01-01",
          "1983-01-01",
          "1982-01-01",
          "1981-01-01",
          "1980-01-01",
          "1979-01-01",
          "1978-01-01",
          "1977-01-01",
          "1976-01-01",
          "1975-01-01",
          "1974-01-01",
          "1973-01-01",
          "1972-01-01",
          "1971-01-01",
          "1970-01-01"
         ],
         "xaxis": "x",
         "y": [
          181421,
          190555,
          199021,
          200738,
          222149,
          252801,
          157783,
          150265,
          147646,
          144210,
          141188,
          140243,
          138364,
          137028,
          134575,
          135444,
          134637,
          123282,
          121442,
          115386,
          118041,
          108141,
          85831,
          78197,
          70159,
          62600,
          55105,
          46457,
          37784,
          32663,
          32266,
          24570,
          23778,
          21208,
          19077,
          17116,
          15018,
          13904,
          11690,
          9777,
          7829,
          7406,
          5951,
          5369,
          4302,
          3726,
          3422,
          3285,
          3216,
          2848,
          2482,
          2210
         ],
         "yaxis": "y"
        },
        {
         "hovertemplate": "variable=Rs. 200 Notes<br>Year=%{x}<br>value=%{y}<extra></extra>",
         "legendgroup": "Rs. 200 Notes",
         "line": {
          "color": "#B6E880",
          "dash": "solid"
         },
         "marker": {
          "symbol": "circle"
         },
         "mode": "lines",
         "name": "Rs. 200 Notes",
         "orientation": "v",
         "showlegend": true,
         "type": "scatter",
         "x": [
          "2021-01-01",
          "2020-01-01",
          "2019-01-01",
          "2018-01-01",
          "2017-01-01",
          "2016-01-01",
          "2015-01-01",
          "2014-01-01",
          "2013-01-01",
          "2012-01-01",
          "2011-01-01",
          "2010-01-01",
          "2009-01-01",
          "2008-01-01",
          "2007-01-01",
          "2006-01-01",
          "2005-01-01",
          "2004-01-01",
          "2003-01-01",
          "2002-01-01",
          "2001-01-01",
          "2000-01-01",
          "1999-01-01",
          "1998-01-01",
          "1997-01-01",
          "1996-01-01",
          "1995-01-01",
          "1994-01-01",
          "1993-01-01",
          "1992-01-01",
          "1991-01-01",
          "1990-01-01",
          "1989-01-01",
          "1988-01-01",
          "1987-01-01",
          "1986-01-01",
          "1985-01-01",
          "1984-01-01",
          "1983-01-01",
          "1982-01-01",
          "1981-01-01",
          "1980-01-01",
          "1979-01-01",
          "1978-01-01",
          "1977-01-01",
          "1976-01-01",
          "1975-01-01",
          "1974-01-01",
          "1973-01-01",
          "1972-01-01",
          "1971-01-01",
          "1970-01-01"
         ],
         "xaxis": "x",
         "y": [
          120881,
          116608,
          107293,
          80010,
          37053,
          null,
          null,
          null,
          null,
          null,
          null,
          null,
          null,
          null,
          null,
          null,
          null,
          null,
          null,
          null,
          null,
          null,
          null,
          null,
          null,
          null,
          null,
          null,
          null,
          null,
          null,
          null,
          null,
          null,
          null,
          null,
          null,
          null,
          null,
          null,
          null,
          null,
          null,
          null,
          null,
          null,
          null,
          null,
          null,
          null,
          null,
          null
         ],
         "yaxis": "y"
        },
        {
         "hovertemplate": "variable=Rs. 500 Notes<br>Year=%{x}<br>value=%{y}<extra></extra>",
         "legendgroup": "Rs. 500 Notes",
         "line": {
          "color": "#FF97FF",
          "dash": "solid"
         },
         "marker": {
          "symbol": "circle"
         },
         "mode": "lines",
         "name": "Rs. 500 Notes",
         "orientation": "v",
         "showlegend": true,
         "type": "scatter",
         "x": [
          "2021-01-01",
          "2020-01-01",
          "2019-01-01",
          "2018-01-01",
          "2017-01-01",
          "2016-01-01",
          "2015-01-01",
          "2014-01-01",
          "2013-01-01",
          "2012-01-01",
          "2011-01-01",
          "2010-01-01",
          "2009-01-01",
          "2008-01-01",
          "2007-01-01",
          "2006-01-01",
          "2005-01-01",
          "2004-01-01",
          "2003-01-01",
          "2002-01-01",
          "2001-01-01",
          "2000-01-01",
          "1999-01-01",
          "1998-01-01",
          "1997-01-01",
          "1996-01-01",
          "1995-01-01",
          "1994-01-01",
          "1993-01-01",
          "1992-01-01",
          "1991-01-01",
          "1990-01-01",
          "1989-01-01",
          "1988-01-01",
          "1987-01-01",
          "1986-01-01",
          "1985-01-01",
          "1984-01-01",
          "1983-01-01",
          "1982-01-01",
          "1981-01-01",
          "1980-01-01",
          "1979-01-01",
          "1978-01-01",
          "1977-01-01",
          "1976-01-01",
          "1975-01-01",
          "1974-01-01",
          "1973-01-01",
          "1972-01-01",
          "1971-01-01",
          "1970-01-01"
         ],
         "xaxis": "x",
         "y": [
          2277340,
          1933951,
          1472373,
          1075881,
          773429,
          294098,
          785375,
          656391,
          570248,
          535950,
          512807,
          445311,
          364479,
          308304,
          263108,
          225400,
          182332,
          152728,
          122938,
          93813,
          68512,
          52947,
          57250,
          44827,
          27975,
          24270,
          20873,
          16882,
          11303,
          4910,
          1854,
          2177,
          1257,
          230,
          180,
          null,
          null,
          null,
          null,
          null,
          null,
          null,
          null,
          null,
          null,
          null,
          null,
          null,
          null,
          null,
          null,
          null
         ],
         "yaxis": "y"
        },
        {
         "hovertemplate": "variable=Rs. 1000 Notes<br>Year=%{x}<br>value=%{y}<extra></extra>",
         "legendgroup": "Rs. 1000 Notes",
         "line": {
          "color": "#FECB52",
          "dash": "solid"
         },
         "marker": {
          "symbol": "circle"
         },
         "mode": "lines",
         "name": "Rs. 1000 Notes",
         "orientation": "v",
         "showlegend": true,
         "type": "scatter",
         "x": [
          "2021-01-01",
          "2020-01-01",
          "2019-01-01",
          "2018-01-01",
          "2017-01-01",
          "2016-01-01",
          "2015-01-01",
          "2014-01-01",
          "2013-01-01",
          "2012-01-01",
          "2011-01-01",
          "2010-01-01",
          "2009-01-01",
          "2008-01-01",
          "2007-01-01",
          "2006-01-01",
          "2005-01-01",
          "2004-01-01",
          "2003-01-01",
          "2002-01-01",
          "2001-01-01",
          "2000-01-01",
          "1999-01-01",
          "1998-01-01",
          "1997-01-01",
          "1996-01-01",
          "1995-01-01",
          "1994-01-01",
          "1993-01-01",
          "1992-01-01",
          "1991-01-01",
          "1990-01-01",
          "1989-01-01",
          "1988-01-01",
          "1987-01-01",
          "1986-01-01",
          "1985-01-01",
          "1984-01-01",
          "1983-01-01",
          "1982-01-01",
          "1981-01-01",
          "1980-01-01",
          "1979-01-01",
          "1978-01-01",
          "1977-01-01",
          "1976-01-01",
          "1975-01-01",
          "1974-01-01",
          "1973-01-01",
          "1972-01-01",
          "1971-01-01",
          "1970-01-01"
         ],
         "xaxis": "x",
         "y": [
          null,
          null,
          null,
          null,
          6610,
          8925,
          632568,
          561245,
          508137,
          429900,
          346881,
          302713,
          238252,
          191784,
          141219,
          93676,
          64346,
          42082,
          27473,
          15971,
          7179,
          3719,
          null,
          null,
          null,
          null,
          null,
          null,
          null,
          null,
          null,
          null,
          null,
          null,
          null,
          null,
          null,
          null,
          null,
          null,
          null,
          null,
          null,
          null,
          55,
          105,
          88,
          35,
          35,
          43,
          36,
          45
         ],
         "yaxis": "y"
        },
        {
         "hovertemplate": "variable=Rs. 2000 Notes<br>Year=%{x}<br>value=%{y}<extra></extra>",
         "legendgroup": "Rs. 2000 Notes",
         "line": {
          "color": "#636efa",
          "dash": "solid"
         },
         "marker": {
          "symbol": "circle"
         },
         "mode": "lines",
         "name": "Rs. 2000 Notes",
         "orientation": "v",
         "showlegend": true,
         "type": "scatter",
         "x": [
          "2021-01-01",
          "2020-01-01",
          "2019-01-01",
          "2018-01-01",
          "2017-01-01",
          "2016-01-01",
          "2015-01-01",
          "2014-01-01",
          "2013-01-01",
          "2012-01-01",
          "2011-01-01",
          "2010-01-01",
          "2009-01-01",
          "2008-01-01",
          "2007-01-01",
          "2006-01-01",
          "2005-01-01",
          "2004-01-01",
          "2003-01-01",
          "2002-01-01",
          "2001-01-01",
          "2000-01-01",
          "1999-01-01",
          "1998-01-01",
          "1997-01-01",
          "1996-01-01",
          "1995-01-01",
          "1994-01-01",
          "1993-01-01",
          "1992-01-01",
          "1991-01-01",
          "1990-01-01",
          "1989-01-01",
          "1988-01-01",
          "1987-01-01",
          "1986-01-01",
          "1985-01-01",
          "1984-01-01",
          "1983-01-01",
          "1982-01-01",
          "1981-01-01",
          "1980-01-01",
          "1979-01-01",
          "1978-01-01",
          "1977-01-01",
          "1976-01-01",
          "1975-01-01",
          "1974-01-01",
          "1973-01-01",
          "1972-01-01",
          "1971-01-01",
          "1970-01-01"
         ],
         "xaxis": "x",
         "y": [
          428394,
          490195,
          547952,
          658199,
          672642,
          657063,
          null,
          null,
          null,
          null,
          null,
          null,
          null,
          null,
          null,
          null,
          null,
          null,
          null,
          null,
          null,
          null,
          null,
          null,
          null,
          null,
          null,
          null,
          null,
          null,
          null,
          null,
          null,
          null,
          null,
          null,
          null,
          null,
          null,
          null,
          null,
          null,
          null,
          null,
          null,
          null,
          null,
          null,
          null,
          null,
          null,
          null
         ],
         "yaxis": "y"
        }
       ],
       "layout": {
        "legend": {
         "title": {
          "text": "variable"
         },
         "tracegroupgap": 0
        },
        "template": {
         "data": {
          "bar": [
           {
            "error_x": {
             "color": "#2a3f5f"
            },
            "error_y": {
             "color": "#2a3f5f"
            },
            "marker": {
             "line": {
              "color": "#E5ECF6",
              "width": 0.5
             },
             "pattern": {
              "fillmode": "overlay",
              "size": 10,
              "solidity": 0.2
             }
            },
            "type": "bar"
           }
          ],
          "barpolar": [
           {
            "marker": {
             "line": {
              "color": "#E5ECF6",
              "width": 0.5
             },
             "pattern": {
              "fillmode": "overlay",
              "size": 10,
              "solidity": 0.2
             }
            },
            "type": "barpolar"
           }
          ],
          "carpet": [
           {
            "aaxis": {
             "endlinecolor": "#2a3f5f",
             "gridcolor": "white",
             "linecolor": "white",
             "minorgridcolor": "white",
             "startlinecolor": "#2a3f5f"
            },
            "baxis": {
             "endlinecolor": "#2a3f5f",
             "gridcolor": "white",
             "linecolor": "white",
             "minorgridcolor": "white",
             "startlinecolor": "#2a3f5f"
            },
            "type": "carpet"
           }
          ],
          "choropleth": [
           {
            "colorbar": {
             "outlinewidth": 0,
             "ticks": ""
            },
            "type": "choropleth"
           }
          ],
          "contour": [
           {
            "colorbar": {
             "outlinewidth": 0,
             "ticks": ""
            },
            "colorscale": [
             [
              0,
              "#0d0887"
             ],
             [
              0.1111111111111111,
              "#46039f"
             ],
             [
              0.2222222222222222,
              "#7201a8"
             ],
             [
              0.3333333333333333,
              "#9c179e"
             ],
             [
              0.4444444444444444,
              "#bd3786"
             ],
             [
              0.5555555555555556,
              "#d8576b"
             ],
             [
              0.6666666666666666,
              "#ed7953"
             ],
             [
              0.7777777777777778,
              "#fb9f3a"
             ],
             [
              0.8888888888888888,
              "#fdca26"
             ],
             [
              1,
              "#f0f921"
             ]
            ],
            "type": "contour"
           }
          ],
          "contourcarpet": [
           {
            "colorbar": {
             "outlinewidth": 0,
             "ticks": ""
            },
            "type": "contourcarpet"
           }
          ],
          "heatmap": [
           {
            "colorbar": {
             "outlinewidth": 0,
             "ticks": ""
            },
            "colorscale": [
             [
              0,
              "#0d0887"
             ],
             [
              0.1111111111111111,
              "#46039f"
             ],
             [
              0.2222222222222222,
              "#7201a8"
             ],
             [
              0.3333333333333333,
              "#9c179e"
             ],
             [
              0.4444444444444444,
              "#bd3786"
             ],
             [
              0.5555555555555556,
              "#d8576b"
             ],
             [
              0.6666666666666666,
              "#ed7953"
             ],
             [
              0.7777777777777778,
              "#fb9f3a"
             ],
             [
              0.8888888888888888,
              "#fdca26"
             ],
             [
              1,
              "#f0f921"
             ]
            ],
            "type": "heatmap"
           }
          ],
          "heatmapgl": [
           {
            "colorbar": {
             "outlinewidth": 0,
             "ticks": ""
            },
            "colorscale": [
             [
              0,
              "#0d0887"
             ],
             [
              0.1111111111111111,
              "#46039f"
             ],
             [
              0.2222222222222222,
              "#7201a8"
             ],
             [
              0.3333333333333333,
              "#9c179e"
             ],
             [
              0.4444444444444444,
              "#bd3786"
             ],
             [
              0.5555555555555556,
              "#d8576b"
             ],
             [
              0.6666666666666666,
              "#ed7953"
             ],
             [
              0.7777777777777778,
              "#fb9f3a"
             ],
             [
              0.8888888888888888,
              "#fdca26"
             ],
             [
              1,
              "#f0f921"
             ]
            ],
            "type": "heatmapgl"
           }
          ],
          "histogram": [
           {
            "marker": {
             "pattern": {
              "fillmode": "overlay",
              "size": 10,
              "solidity": 0.2
             }
            },
            "type": "histogram"
           }
          ],
          "histogram2d": [
           {
            "colorbar": {
             "outlinewidth": 0,
             "ticks": ""
            },
            "colorscale": [
             [
              0,
              "#0d0887"
             ],
             [
              0.1111111111111111,
              "#46039f"
             ],
             [
              0.2222222222222222,
              "#7201a8"
             ],
             [
              0.3333333333333333,
              "#9c179e"
             ],
             [
              0.4444444444444444,
              "#bd3786"
             ],
             [
              0.5555555555555556,
              "#d8576b"
             ],
             [
              0.6666666666666666,
              "#ed7953"
             ],
             [
              0.7777777777777778,
              "#fb9f3a"
             ],
             [
              0.8888888888888888,
              "#fdca26"
             ],
             [
              1,
              "#f0f921"
             ]
            ],
            "type": "histogram2d"
           }
          ],
          "histogram2dcontour": [
           {
            "colorbar": {
             "outlinewidth": 0,
             "ticks": ""
            },
            "colorscale": [
             [
              0,
              "#0d0887"
             ],
             [
              0.1111111111111111,
              "#46039f"
             ],
             [
              0.2222222222222222,
              "#7201a8"
             ],
             [
              0.3333333333333333,
              "#9c179e"
             ],
             [
              0.4444444444444444,
              "#bd3786"
             ],
             [
              0.5555555555555556,
              "#d8576b"
             ],
             [
              0.6666666666666666,
              "#ed7953"
             ],
             [
              0.7777777777777778,
              "#fb9f3a"
             ],
             [
              0.8888888888888888,
              "#fdca26"
             ],
             [
              1,
              "#f0f921"
             ]
            ],
            "type": "histogram2dcontour"
           }
          ],
          "mesh3d": [
           {
            "colorbar": {
             "outlinewidth": 0,
             "ticks": ""
            },
            "type": "mesh3d"
           }
          ],
          "parcoords": [
           {
            "line": {
             "colorbar": {
              "outlinewidth": 0,
              "ticks": ""
             }
            },
            "type": "parcoords"
           }
          ],
          "pie": [
           {
            "automargin": true,
            "type": "pie"
           }
          ],
          "scatter": [
           {
            "fillpattern": {
             "fillmode": "overlay",
             "size": 10,
             "solidity": 0.2
            },
            "type": "scatter"
           }
          ],
          "scatter3d": [
           {
            "line": {
             "colorbar": {
              "outlinewidth": 0,
              "ticks": ""
             }
            },
            "marker": {
             "colorbar": {
              "outlinewidth": 0,
              "ticks": ""
             }
            },
            "type": "scatter3d"
           }
          ],
          "scattercarpet": [
           {
            "marker": {
             "colorbar": {
              "outlinewidth": 0,
              "ticks": ""
             }
            },
            "type": "scattercarpet"
           }
          ],
          "scattergeo": [
           {
            "marker": {
             "colorbar": {
              "outlinewidth": 0,
              "ticks": ""
             }
            },
            "type": "scattergeo"
           }
          ],
          "scattergl": [
           {
            "marker": {
             "colorbar": {
              "outlinewidth": 0,
              "ticks": ""
             }
            },
            "type": "scattergl"
           }
          ],
          "scattermapbox": [
           {
            "marker": {
             "colorbar": {
              "outlinewidth": 0,
              "ticks": ""
             }
            },
            "type": "scattermapbox"
           }
          ],
          "scatterpolar": [
           {
            "marker": {
             "colorbar": {
              "outlinewidth": 0,
              "ticks": ""
             }
            },
            "type": "scatterpolar"
           }
          ],
          "scatterpolargl": [
           {
            "marker": {
             "colorbar": {
              "outlinewidth": 0,
              "ticks": ""
             }
            },
            "type": "scatterpolargl"
           }
          ],
          "scatterternary": [
           {
            "marker": {
             "colorbar": {
              "outlinewidth": 0,
              "ticks": ""
             }
            },
            "type": "scatterternary"
           }
          ],
          "surface": [
           {
            "colorbar": {
             "outlinewidth": 0,
             "ticks": ""
            },
            "colorscale": [
             [
              0,
              "#0d0887"
             ],
             [
              0.1111111111111111,
              "#46039f"
             ],
             [
              0.2222222222222222,
              "#7201a8"
             ],
             [
              0.3333333333333333,
              "#9c179e"
             ],
             [
              0.4444444444444444,
              "#bd3786"
             ],
             [
              0.5555555555555556,
              "#d8576b"
             ],
             [
              0.6666666666666666,
              "#ed7953"
             ],
             [
              0.7777777777777778,
              "#fb9f3a"
             ],
             [
              0.8888888888888888,
              "#fdca26"
             ],
             [
              1,
              "#f0f921"
             ]
            ],
            "type": "surface"
           }
          ],
          "table": [
           {
            "cells": {
             "fill": {
              "color": "#EBF0F8"
             },
             "line": {
              "color": "white"
             }
            },
            "header": {
             "fill": {
              "color": "#C8D4E3"
             },
             "line": {
              "color": "white"
             }
            },
            "type": "table"
           }
          ]
         },
         "layout": {
          "annotationdefaults": {
           "arrowcolor": "#2a3f5f",
           "arrowhead": 0,
           "arrowwidth": 1
          },
          "autotypenumbers": "strict",
          "coloraxis": {
           "colorbar": {
            "outlinewidth": 0,
            "ticks": ""
           }
          },
          "colorscale": {
           "diverging": [
            [
             0,
             "#8e0152"
            ],
            [
             0.1,
             "#c51b7d"
            ],
            [
             0.2,
             "#de77ae"
            ],
            [
             0.3,
             "#f1b6da"
            ],
            [
             0.4,
             "#fde0ef"
            ],
            [
             0.5,
             "#f7f7f7"
            ],
            [
             0.6,
             "#e6f5d0"
            ],
            [
             0.7,
             "#b8e186"
            ],
            [
             0.8,
             "#7fbc41"
            ],
            [
             0.9,
             "#4d9221"
            ],
            [
             1,
             "#276419"
            ]
           ],
           "sequential": [
            [
             0,
             "#0d0887"
            ],
            [
             0.1111111111111111,
             "#46039f"
            ],
            [
             0.2222222222222222,
             "#7201a8"
            ],
            [
             0.3333333333333333,
             "#9c179e"
            ],
            [
             0.4444444444444444,
             "#bd3786"
            ],
            [
             0.5555555555555556,
             "#d8576b"
            ],
            [
             0.6666666666666666,
             "#ed7953"
            ],
            [
             0.7777777777777778,
             "#fb9f3a"
            ],
            [
             0.8888888888888888,
             "#fdca26"
            ],
            [
             1,
             "#f0f921"
            ]
           ],
           "sequentialminus": [
            [
             0,
             "#0d0887"
            ],
            [
             0.1111111111111111,
             "#46039f"
            ],
            [
             0.2222222222222222,
             "#7201a8"
            ],
            [
             0.3333333333333333,
             "#9c179e"
            ],
            [
             0.4444444444444444,
             "#bd3786"
            ],
            [
             0.5555555555555556,
             "#d8576b"
            ],
            [
             0.6666666666666666,
             "#ed7953"
            ],
            [
             0.7777777777777778,
             "#fb9f3a"
            ],
            [
             0.8888888888888888,
             "#fdca26"
            ],
            [
             1,
             "#f0f921"
            ]
           ]
          },
          "colorway": [
           "#636efa",
           "#EF553B",
           "#00cc96",
           "#ab63fa",
           "#FFA15A",
           "#19d3f3",
           "#FF6692",
           "#B6E880",
           "#FF97FF",
           "#FECB52"
          ],
          "font": {
           "color": "#2a3f5f"
          },
          "geo": {
           "bgcolor": "white",
           "lakecolor": "white",
           "landcolor": "#E5ECF6",
           "showlakes": true,
           "showland": true,
           "subunitcolor": "white"
          },
          "hoverlabel": {
           "align": "left"
          },
          "hovermode": "closest",
          "mapbox": {
           "style": "light"
          },
          "paper_bgcolor": "white",
          "plot_bgcolor": "#E5ECF6",
          "polar": {
           "angularaxis": {
            "gridcolor": "white",
            "linecolor": "white",
            "ticks": ""
           },
           "bgcolor": "#E5ECF6",
           "radialaxis": {
            "gridcolor": "white",
            "linecolor": "white",
            "ticks": ""
           }
          },
          "scene": {
           "xaxis": {
            "backgroundcolor": "#E5ECF6",
            "gridcolor": "white",
            "gridwidth": 2,
            "linecolor": "white",
            "showbackground": true,
            "ticks": "",
            "zerolinecolor": "white"
           },
           "yaxis": {
            "backgroundcolor": "#E5ECF6",
            "gridcolor": "white",
            "gridwidth": 2,
            "linecolor": "white",
            "showbackground": true,
            "ticks": "",
            "zerolinecolor": "white"
           },
           "zaxis": {
            "backgroundcolor": "#E5ECF6",
            "gridcolor": "white",
            "gridwidth": 2,
            "linecolor": "white",
            "showbackground": true,
            "ticks": "",
            "zerolinecolor": "white"
           }
          },
          "shapedefaults": {
           "line": {
            "color": "#2a3f5f"
           }
          },
          "ternary": {
           "aaxis": {
            "gridcolor": "white",
            "linecolor": "white",
            "ticks": ""
           },
           "baxis": {
            "gridcolor": "white",
            "linecolor": "white",
            "ticks": ""
           },
           "bgcolor": "#E5ECF6",
           "caxis": {
            "gridcolor": "white",
            "linecolor": "white",
            "ticks": ""
           }
          },
          "title": {
           "x": 0.05
          },
          "xaxis": {
           "automargin": true,
           "gridcolor": "white",
           "linecolor": "white",
           "ticks": "",
           "title": {
            "standoff": 15
           },
           "zerolinecolor": "white",
           "zerolinewidth": 2
          },
          "yaxis": {
           "automargin": true,
           "gridcolor": "white",
           "linecolor": "white",
           "ticks": "",
           "title": {
            "standoff": 15
           },
           "zerolinecolor": "white",
           "zerolinewidth": 2
          }
         }
        },
        "title": {
         "text": "External Debt"
        },
        "xaxis": {
         "anchor": "y",
         "domain": [
          0,
          1
         ],
         "title": {
          "text": "Year"
         }
        },
        "yaxis": {
         "anchor": "x",
         "domain": [
          0,
          1
         ],
         "title": {
          "text": "Notes in Circulation(Rupees Crore)"
         }
        }
       }
      },
      "text/html": [
       "<div>                            <div id=\"ec963546-cd30-49f2-b235-673ed6160a85\" class=\"plotly-graph-div\" style=\"height:525px; width:100%;\"></div>            <script type=\"text/javascript\">                require([\"plotly\"], function(Plotly) {                    window.PLOTLYENV=window.PLOTLYENV || {};                                    if (document.getElementById(\"ec963546-cd30-49f2-b235-673ed6160a85\")) {                    Plotly.newPlot(                        \"ec963546-cd30-49f2-b235-673ed6160a85\",                        [{\"hovertemplate\":\"variable=Re. 1 Notes<br>Year=%{x}<br>value=%{y}<extra></extra>\",\"legendgroup\":\"Re. 1 Notes\",\"line\":{\"color\":\"#636efa\",\"dash\":\"solid\"},\"marker\":{\"symbol\":\"circle\"},\"mode\":\"lines\",\"name\":\"Re. 1 Notes\",\"orientation\":\"v\",\"showlegend\":true,\"x\":[\"2021-01-01\",\"2020-01-01\",\"2019-01-01\",\"2018-01-01\",\"2017-01-01\",\"2016-01-01\",\"2015-01-01\",\"2014-01-01\",\"2013-01-01\",\"2012-01-01\",\"2011-01-01\",\"2010-01-01\",\"2009-01-01\",\"2008-01-01\",\"2007-01-01\",\"2006-01-01\",\"2005-01-01\",\"2004-01-01\",\"2003-01-01\",\"2002-01-01\",\"2001-01-01\",\"2000-01-01\",\"1999-01-01\",\"1998-01-01\",\"1997-01-01\",\"1996-01-01\",\"1995-01-01\",\"1994-01-01\",\"1993-01-01\",\"1992-01-01\",\"1991-01-01\",\"1990-01-01\",\"1989-01-01\",\"1988-01-01\",\"1987-01-01\",\"1986-01-01\",\"1985-01-01\",\"1984-01-01\",\"1983-01-01\",\"1982-01-01\",\"1981-01-01\",\"1980-01-01\",\"1979-01-01\",\"1978-01-01\",\"1977-01-01\",\"1976-01-01\",\"1975-01-01\",\"1974-01-01\",\"1973-01-01\",\"1972-01-01\",\"1971-01-01\",\"1970-01-01\"],\"xaxis\":\"x\",\"y\":[382.0,377.0,370.0,359.0,343.0,321.0,309.0,299.0,299.0,299.0,299.0,299.0,299.0,300.0,300.0,301.0,299.0,299.0,299.0,305.0,308.0,307.0,308.0,316.0,319.0,316.0,322.0,320.0,328.0,null,null,335.0,348.0,360.0,352.0,301.0,238.0,204.0,198.0,205.0,212.0,207.0,214.0,256.0,272.0,274.0,293.0,290.0,283.0,260.0,234.0,219.0],\"yaxis\":\"y\",\"type\":\"scatter\"},{\"hovertemplate\":\"variable=Rs. 2 Notes<br>Year=%{x}<br>value=%{y}<extra></extra>\",\"legendgroup\":\"Rs. 2 Notes\",\"line\":{\"color\":\"#EF553B\",\"dash\":\"solid\"},\"marker\":{\"symbol\":\"circle\"},\"mode\":\"lines\",\"name\":\"Rs. 2 Notes\",\"orientation\":\"v\",\"showlegend\":true,\"x\":[\"2021-01-01\",\"2020-01-01\",\"2019-01-01\",\"2018-01-01\",\"2017-01-01\",\"2016-01-01\",\"2015-01-01\",\"2014-01-01\",\"2013-01-01\",\"2012-01-01\",\"2011-01-01\",\"2010-01-01\",\"2009-01-01\",\"2008-01-01\",\"2007-01-01\",\"2006-01-01\",\"2005-01-01\",\"2004-01-01\",\"2003-01-01\",\"2002-01-01\",\"2001-01-01\",\"2000-01-01\",\"1999-01-01\",\"1998-01-01\",\"1997-01-01\",\"1996-01-01\",\"1995-01-01\",\"1994-01-01\",\"1993-01-01\",\"1992-01-01\",\"1991-01-01\",\"1990-01-01\",\"1989-01-01\",\"1988-01-01\",\"1987-01-01\",\"1986-01-01\",\"1985-01-01\",\"1984-01-01\",\"1983-01-01\",\"1982-01-01\",\"1981-01-01\",\"1980-01-01\",\"1979-01-01\",\"1978-01-01\",\"1977-01-01\",\"1976-01-01\",\"1975-01-01\",\"1974-01-01\",\"1973-01-01\",\"1972-01-01\",\"1971-01-01\",\"1970-01-01\"],\"xaxis\":\"x\",\"y\":[853.0,853.0,853.0,853.0,853.0,853.0,853.0,854.0,851.0,851.0,851.0,851.0,698.0,665.0,636.0,447.0,451.0,462.0,472.0,483.0,538.0,471.0,512.0,530.0,550.0,527.0,515.0,602.0,624.0,720.0,942.0,883.0,804.0,681.0,653.0,683.0,650.0,580.0,450.0,431.0,392.0,299.0,215.0,174.0,148.0,127.0,116.0,56.0,83.0,70.0,66.0,69.0],\"yaxis\":\"y\",\"type\":\"scatter\"},{\"hovertemplate\":\"variable=Rs. 5 Notes<br>Year=%{x}<br>value=%{y}<extra></extra>\",\"legendgroup\":\"Rs. 5 Notes\",\"line\":{\"color\":\"#00cc96\",\"dash\":\"solid\"},\"marker\":{\"symbol\":\"circle\"},\"mode\":\"lines\",\"name\":\"Rs. 5 Notes\",\"orientation\":\"v\",\"showlegend\":true,\"x\":[\"2021-01-01\",\"2020-01-01\",\"2019-01-01\",\"2018-01-01\",\"2017-01-01\",\"2016-01-01\",\"2015-01-01\",\"2014-01-01\",\"2013-01-01\",\"2012-01-01\",\"2011-01-01\",\"2010-01-01\",\"2009-01-01\",\"2008-01-01\",\"2007-01-01\",\"2006-01-01\",\"2005-01-01\",\"2004-01-01\",\"2003-01-01\",\"2002-01-01\",\"2001-01-01\",\"2000-01-01\",\"1999-01-01\",\"1998-01-01\",\"1997-01-01\",\"1996-01-01\",\"1995-01-01\",\"1994-01-01\",\"1993-01-01\",\"1992-01-01\",\"1991-01-01\",\"1990-01-01\",\"1989-01-01\",\"1988-01-01\",\"1987-01-01\",\"1986-01-01\",\"1985-01-01\",\"1984-01-01\",\"1983-01-01\",\"1982-01-01\",\"1981-01-01\",\"1980-01-01\",\"1979-01-01\",\"1978-01-01\",\"1977-01-01\",\"1976-01-01\",\"1975-01-01\",\"1974-01-01\",\"1973-01-01\",\"1972-01-01\",\"1971-01-01\",\"1970-01-01\"],\"xaxis\":\"x\",\"y\":[3431.0,3454.0,3478.0,3519.0,3580.0,3645.0,3680.0,3702.0,3714.0,3687.0,3643.0,3430.0,2233.0,2271.0,2111.0,1887.0,1980.0,2086.0,2276.0,1739.0,1264.0,1016.0,1152.0,1290.0,1427.0,1554.0,1651.0,1765.0,1860.0,2022.0,2400.0,1810.0,1739.0,1482.0,1429.0,1287.0,1303.0,1234.0,560.0,807.0,692.0,634.0,588.0,576.0,572.0,540.0,532.0,433.0,412.0,371.0,325.0,310.0],\"yaxis\":\"y\",\"type\":\"scatter\"},{\"hovertemplate\":\"variable=Rs. 10 Notes<br>Year=%{x}<br>value=%{y}<extra></extra>\",\"legendgroup\":\"Rs. 10 Notes\",\"line\":{\"color\":\"#ab63fa\",\"dash\":\"solid\"},\"marker\":{\"symbol\":\"circle\"},\"mode\":\"lines\",\"name\":\"Rs. 10 Notes\",\"orientation\":\"v\",\"showlegend\":true,\"x\":[\"2021-01-01\",\"2020-01-01\",\"2019-01-01\",\"2018-01-01\",\"2017-01-01\",\"2016-01-01\",\"2015-01-01\",\"2014-01-01\",\"2013-01-01\",\"2012-01-01\",\"2011-01-01\",\"2010-01-01\",\"2009-01-01\",\"2008-01-01\",\"2007-01-01\",\"2006-01-01\",\"2005-01-01\",\"2004-01-01\",\"2003-01-01\",\"2002-01-01\",\"2001-01-01\",\"2000-01-01\",\"1999-01-01\",\"1998-01-01\",\"1997-01-01\",\"1996-01-01\",\"1995-01-01\",\"1994-01-01\",\"1993-01-01\",\"1992-01-01\",\"1991-01-01\",\"1990-01-01\",\"1989-01-01\",\"1988-01-01\",\"1987-01-01\",\"1986-01-01\",\"1985-01-01\",\"1984-01-01\",\"1983-01-01\",\"1982-01-01\",\"1981-01-01\",\"1980-01-01\",\"1979-01-01\",\"1978-01-01\",\"1977-01-01\",\"1976-01-01\",\"1975-01-01\",\"1974-01-01\",\"1973-01-01\",\"1972-01-01\",\"1971-01-01\",\"1970-01-01\"],\"xaxis\":\"x\",\"y\":[27805.0,29368.0,30402.0,31260.0,30645.0,36929.0,32015.0,30304.0,26648.0,25168.0,23002.0,21288.0,18536.0,12222.0,9333.0,7155.0,6274.0,6770.0,7750.0,9088.0,11989.0,12336.0,13282.0,12990.0,12412.0,11063.0,9218.0,6943.0,5334.0,4285.0,5202.0,3785.0,3515.0,2996.0,2825.0,2510.0,2536.0,2217.0,1770.0,1798.0,1991.0,2097.0,2123.0,1957.0,1825.0,1967.0,1880.0,1962.0,1980.0,1757.0,1713.0,1563.0],\"yaxis\":\"y\",\"type\":\"scatter\"},{\"hovertemplate\":\"variable=Rs. 20 Notes<br>Year=%{x}<br>value=%{y}<extra></extra>\",\"legendgroup\":\"Rs. 20 Notes\",\"line\":{\"color\":\"#FFA15A\",\"dash\":\"solid\"},\"marker\":{\"symbol\":\"circle\"},\"mode\":\"lines\",\"name\":\"Rs. 20 Notes\",\"orientation\":\"v\",\"showlegend\":true,\"x\":[\"2021-01-01\",\"2020-01-01\",\"2019-01-01\",\"2018-01-01\",\"2017-01-01\",\"2016-01-01\",\"2015-01-01\",\"2014-01-01\",\"2013-01-01\",\"2012-01-01\",\"2011-01-01\",\"2010-01-01\",\"2009-01-01\",\"2008-01-01\",\"2007-01-01\",\"2006-01-01\",\"2005-01-01\",\"2004-01-01\",\"2003-01-01\",\"2002-01-01\",\"2001-01-01\",\"2000-01-01\",\"1999-01-01\",\"1998-01-01\",\"1997-01-01\",\"1996-01-01\",\"1995-01-01\",\"1994-01-01\",\"1993-01-01\",\"1992-01-01\",\"1991-01-01\",\"1990-01-01\",\"1989-01-01\",\"1988-01-01\",\"1987-01-01\",\"1986-01-01\",\"1985-01-01\",\"1984-01-01\",\"1983-01-01\",\"1982-01-01\",\"1981-01-01\",\"1980-01-01\",\"1979-01-01\",\"1978-01-01\",\"1977-01-01\",\"1976-01-01\",\"1975-01-01\",\"1974-01-01\",\"1973-01-01\",\"1972-01-01\",\"1971-01-01\",\"1970-01-01\"],\"xaxis\":\"x\",\"y\":[22026.0,18116.0,16599.0,17425.0,20032.0,20315.0,9847.0,8699.0,8569.0,7650.0,7020.0,6040.0,4681.0,4399.0,4108.0,4178.0,4077.0,3876.0,4383.0,3425.0,1531.0,1012.0,1010.0,899.0,979.0,703.0,718.0,1120.0,1631.0,2340.0,2743.0,2952.0,3100.0,2613.0,2331.0,1899.0,1784.0,1636.0,1463.0,1433.0,1214.0,1090.0,961.0,779.0,690.0,555.0,425.0,415.0,382.0,152.0,null,null],\"yaxis\":\"y\",\"type\":\"scatter\"},{\"hovertemplate\":\"variable=Rs. 50 Notes<br>Year=%{x}<br>value=%{y}<extra></extra>\",\"legendgroup\":\"Rs. 50 Notes\",\"line\":{\"color\":\"#19d3f3\",\"dash\":\"solid\"},\"marker\":{\"symbol\":\"circle\"},\"mode\":\"lines\",\"name\":\"Rs. 50 Notes\",\"orientation\":\"v\",\"showlegend\":true,\"x\":[\"2021-01-01\",\"2020-01-01\",\"2019-01-01\",\"2018-01-01\",\"2017-01-01\",\"2016-01-01\",\"2015-01-01\",\"2014-01-01\",\"2013-01-01\",\"2012-01-01\",\"2011-01-01\",\"2010-01-01\",\"2009-01-01\",\"2008-01-01\",\"2007-01-01\",\"2006-01-01\",\"2005-01-01\",\"2004-01-01\",\"2003-01-01\",\"2002-01-01\",\"2001-01-01\",\"2000-01-01\",\"1999-01-01\",\"1998-01-01\",\"1997-01-01\",\"1996-01-01\",\"1995-01-01\",\"1994-01-01\",\"1993-01-01\",\"1992-01-01\",\"1991-01-01\",\"1990-01-01\",\"1989-01-01\",\"1988-01-01\",\"1987-01-01\",\"1986-01-01\",\"1985-01-01\",\"1984-01-01\",\"1983-01-01\",\"1982-01-01\",\"1981-01-01\",\"1980-01-01\",\"1979-01-01\",\"1978-01-01\",\"1977-01-01\",\"1976-01-01\",\"1975-01-01\",\"1974-01-01\",\"1973-01-01\",\"1972-01-01\",\"1971-01-01\",\"1970-01-01\"],\"xaxis\":\"x\",\"y\":[43571.0,43762.0,43004.0,43007.0,36715.0,35564.0,19450.0,17436.0,17242.0,17305.0,17438.0,15980.0,21057.0,24440.0,26508.0,27951.0,27842.0,29941.0,33027.0,35191.0,35601.0,32818.0,33230.0,33316.0,34245.0,33623.0,31659.0,28537.0,24991.0,22577.0,17719.0,14812.0,12553.0,9459.0,7267.0,5247.0,4310.0,3920.0,3626.0,3017.0,2724.0,2206.0,1983.0,1440.0,995.0,734.0,86.0,null,null,null,null,null],\"yaxis\":\"y\",\"type\":\"scatter\"},{\"hovertemplate\":\"variable=Rs. 100 Notes<br>Year=%{x}<br>value=%{y}<extra></extra>\",\"legendgroup\":\"Rs. 100 Notes\",\"line\":{\"color\":\"#FF6692\",\"dash\":\"solid\"},\"marker\":{\"symbol\":\"circle\"},\"mode\":\"lines\",\"name\":\"Rs. 100 Notes\",\"orientation\":\"v\",\"showlegend\":true,\"x\":[\"2021-01-01\",\"2020-01-01\",\"2019-01-01\",\"2018-01-01\",\"2017-01-01\",\"2016-01-01\",\"2015-01-01\",\"2014-01-01\",\"2013-01-01\",\"2012-01-01\",\"2011-01-01\",\"2010-01-01\",\"2009-01-01\",\"2008-01-01\",\"2007-01-01\",\"2006-01-01\",\"2005-01-01\",\"2004-01-01\",\"2003-01-01\",\"2002-01-01\",\"2001-01-01\",\"2000-01-01\",\"1999-01-01\",\"1998-01-01\",\"1997-01-01\",\"1996-01-01\",\"1995-01-01\",\"1994-01-01\",\"1993-01-01\",\"1992-01-01\",\"1991-01-01\",\"1990-01-01\",\"1989-01-01\",\"1988-01-01\",\"1987-01-01\",\"1986-01-01\",\"1985-01-01\",\"1984-01-01\",\"1983-01-01\",\"1982-01-01\",\"1981-01-01\",\"1980-01-01\",\"1979-01-01\",\"1978-01-01\",\"1977-01-01\",\"1976-01-01\",\"1975-01-01\",\"1974-01-01\",\"1973-01-01\",\"1972-01-01\",\"1971-01-01\",\"1970-01-01\"],\"xaxis\":\"x\",\"y\":[181421.0,190555.0,199021.0,200738.0,222149.0,252801.0,157783.0,150265.0,147646.0,144210.0,141188.0,140243.0,138364.0,137028.0,134575.0,135444.0,134637.0,123282.0,121442.0,115386.0,118041.0,108141.0,85831.0,78197.0,70159.0,62600.0,55105.0,46457.0,37784.0,32663.0,32266.0,24570.0,23778.0,21208.0,19077.0,17116.0,15018.0,13904.0,11690.0,9777.0,7829.0,7406.0,5951.0,5369.0,4302.0,3726.0,3422.0,3285.0,3216.0,2848.0,2482.0,2210.0],\"yaxis\":\"y\",\"type\":\"scatter\"},{\"hovertemplate\":\"variable=Rs. 200 Notes<br>Year=%{x}<br>value=%{y}<extra></extra>\",\"legendgroup\":\"Rs. 200 Notes\",\"line\":{\"color\":\"#B6E880\",\"dash\":\"solid\"},\"marker\":{\"symbol\":\"circle\"},\"mode\":\"lines\",\"name\":\"Rs. 200 Notes\",\"orientation\":\"v\",\"showlegend\":true,\"x\":[\"2021-01-01\",\"2020-01-01\",\"2019-01-01\",\"2018-01-01\",\"2017-01-01\",\"2016-01-01\",\"2015-01-01\",\"2014-01-01\",\"2013-01-01\",\"2012-01-01\",\"2011-01-01\",\"2010-01-01\",\"2009-01-01\",\"2008-01-01\",\"2007-01-01\",\"2006-01-01\",\"2005-01-01\",\"2004-01-01\",\"2003-01-01\",\"2002-01-01\",\"2001-01-01\",\"2000-01-01\",\"1999-01-01\",\"1998-01-01\",\"1997-01-01\",\"1996-01-01\",\"1995-01-01\",\"1994-01-01\",\"1993-01-01\",\"1992-01-01\",\"1991-01-01\",\"1990-01-01\",\"1989-01-01\",\"1988-01-01\",\"1987-01-01\",\"1986-01-01\",\"1985-01-01\",\"1984-01-01\",\"1983-01-01\",\"1982-01-01\",\"1981-01-01\",\"1980-01-01\",\"1979-01-01\",\"1978-01-01\",\"1977-01-01\",\"1976-01-01\",\"1975-01-01\",\"1974-01-01\",\"1973-01-01\",\"1972-01-01\",\"1971-01-01\",\"1970-01-01\"],\"xaxis\":\"x\",\"y\":[120881.0,116608.0,107293.0,80010.0,37053.0,null,null,null,null,null,null,null,null,null,null,null,null,null,null,null,null,null,null,null,null,null,null,null,null,null,null,null,null,null,null,null,null,null,null,null,null,null,null,null,null,null,null,null,null,null,null,null],\"yaxis\":\"y\",\"type\":\"scatter\"},{\"hovertemplate\":\"variable=Rs. 500 Notes<br>Year=%{x}<br>value=%{y}<extra></extra>\",\"legendgroup\":\"Rs. 500 Notes\",\"line\":{\"color\":\"#FF97FF\",\"dash\":\"solid\"},\"marker\":{\"symbol\":\"circle\"},\"mode\":\"lines\",\"name\":\"Rs. 500 Notes\",\"orientation\":\"v\",\"showlegend\":true,\"x\":[\"2021-01-01\",\"2020-01-01\",\"2019-01-01\",\"2018-01-01\",\"2017-01-01\",\"2016-01-01\",\"2015-01-01\",\"2014-01-01\",\"2013-01-01\",\"2012-01-01\",\"2011-01-01\",\"2010-01-01\",\"2009-01-01\",\"2008-01-01\",\"2007-01-01\",\"2006-01-01\",\"2005-01-01\",\"2004-01-01\",\"2003-01-01\",\"2002-01-01\",\"2001-01-01\",\"2000-01-01\",\"1999-01-01\",\"1998-01-01\",\"1997-01-01\",\"1996-01-01\",\"1995-01-01\",\"1994-01-01\",\"1993-01-01\",\"1992-01-01\",\"1991-01-01\",\"1990-01-01\",\"1989-01-01\",\"1988-01-01\",\"1987-01-01\",\"1986-01-01\",\"1985-01-01\",\"1984-01-01\",\"1983-01-01\",\"1982-01-01\",\"1981-01-01\",\"1980-01-01\",\"1979-01-01\",\"1978-01-01\",\"1977-01-01\",\"1976-01-01\",\"1975-01-01\",\"1974-01-01\",\"1973-01-01\",\"1972-01-01\",\"1971-01-01\",\"1970-01-01\"],\"xaxis\":\"x\",\"y\":[2277340.0,1933951.0,1472373.0,1075881.0,773429.0,294098.0,785375.0,656391.0,570248.0,535950.0,512807.0,445311.0,364479.0,308304.0,263108.0,225400.0,182332.0,152728.0,122938.0,93813.0,68512.0,52947.0,57250.0,44827.0,27975.0,24270.0,20873.0,16882.0,11303.0,4910.0,1854.0,2177.0,1257.0,230.0,180.0,null,null,null,null,null,null,null,null,null,null,null,null,null,null,null,null,null],\"yaxis\":\"y\",\"type\":\"scatter\"},{\"hovertemplate\":\"variable=Rs. 1000 Notes<br>Year=%{x}<br>value=%{y}<extra></extra>\",\"legendgroup\":\"Rs. 1000 Notes\",\"line\":{\"color\":\"#FECB52\",\"dash\":\"solid\"},\"marker\":{\"symbol\":\"circle\"},\"mode\":\"lines\",\"name\":\"Rs. 1000 Notes\",\"orientation\":\"v\",\"showlegend\":true,\"x\":[\"2021-01-01\",\"2020-01-01\",\"2019-01-01\",\"2018-01-01\",\"2017-01-01\",\"2016-01-01\",\"2015-01-01\",\"2014-01-01\",\"2013-01-01\",\"2012-01-01\",\"2011-01-01\",\"2010-01-01\",\"2009-01-01\",\"2008-01-01\",\"2007-01-01\",\"2006-01-01\",\"2005-01-01\",\"2004-01-01\",\"2003-01-01\",\"2002-01-01\",\"2001-01-01\",\"2000-01-01\",\"1999-01-01\",\"1998-01-01\",\"1997-01-01\",\"1996-01-01\",\"1995-01-01\",\"1994-01-01\",\"1993-01-01\",\"1992-01-01\",\"1991-01-01\",\"1990-01-01\",\"1989-01-01\",\"1988-01-01\",\"1987-01-01\",\"1986-01-01\",\"1985-01-01\",\"1984-01-01\",\"1983-01-01\",\"1982-01-01\",\"1981-01-01\",\"1980-01-01\",\"1979-01-01\",\"1978-01-01\",\"1977-01-01\",\"1976-01-01\",\"1975-01-01\",\"1974-01-01\",\"1973-01-01\",\"1972-01-01\",\"1971-01-01\",\"1970-01-01\"],\"xaxis\":\"x\",\"y\":[null,null,null,null,6610.0,8925.0,632568.0,561245.0,508137.0,429900.0,346881.0,302713.0,238252.0,191784.0,141219.0,93676.0,64346.0,42082.0,27473.0,15971.0,7179.0,3719.0,null,null,null,null,null,null,null,null,null,null,null,null,null,null,null,null,null,null,null,null,null,null,55.0,105.0,88.0,35.0,35.0,43.0,36.0,45.0],\"yaxis\":\"y\",\"type\":\"scatter\"},{\"hovertemplate\":\"variable=Rs. 2000 Notes<br>Year=%{x}<br>value=%{y}<extra></extra>\",\"legendgroup\":\"Rs. 2000 Notes\",\"line\":{\"color\":\"#636efa\",\"dash\":\"solid\"},\"marker\":{\"symbol\":\"circle\"},\"mode\":\"lines\",\"name\":\"Rs. 2000 Notes\",\"orientation\":\"v\",\"showlegend\":true,\"x\":[\"2021-01-01\",\"2020-01-01\",\"2019-01-01\",\"2018-01-01\",\"2017-01-01\",\"2016-01-01\",\"2015-01-01\",\"2014-01-01\",\"2013-01-01\",\"2012-01-01\",\"2011-01-01\",\"2010-01-01\",\"2009-01-01\",\"2008-01-01\",\"2007-01-01\",\"2006-01-01\",\"2005-01-01\",\"2004-01-01\",\"2003-01-01\",\"2002-01-01\",\"2001-01-01\",\"2000-01-01\",\"1999-01-01\",\"1998-01-01\",\"1997-01-01\",\"1996-01-01\",\"1995-01-01\",\"1994-01-01\",\"1993-01-01\",\"1992-01-01\",\"1991-01-01\",\"1990-01-01\",\"1989-01-01\",\"1988-01-01\",\"1987-01-01\",\"1986-01-01\",\"1985-01-01\",\"1984-01-01\",\"1983-01-01\",\"1982-01-01\",\"1981-01-01\",\"1980-01-01\",\"1979-01-01\",\"1978-01-01\",\"1977-01-01\",\"1976-01-01\",\"1975-01-01\",\"1974-01-01\",\"1973-01-01\",\"1972-01-01\",\"1971-01-01\",\"1970-01-01\"],\"xaxis\":\"x\",\"y\":[428394.0,490195.0,547952.0,658199.0,672642.0,657063.0,null,null,null,null,null,null,null,null,null,null,null,null,null,null,null,null,null,null,null,null,null,null,null,null,null,null,null,null,null,null,null,null,null,null,null,null,null,null,null,null,null,null,null,null,null,null],\"yaxis\":\"y\",\"type\":\"scatter\"}],                        {\"template\":{\"data\":{\"histogram2dcontour\":[{\"type\":\"histogram2dcontour\",\"colorbar\":{\"outlinewidth\":0,\"ticks\":\"\"},\"colorscale\":[[0.0,\"#0d0887\"],[0.1111111111111111,\"#46039f\"],[0.2222222222222222,\"#7201a8\"],[0.3333333333333333,\"#9c179e\"],[0.4444444444444444,\"#bd3786\"],[0.5555555555555556,\"#d8576b\"],[0.6666666666666666,\"#ed7953\"],[0.7777777777777778,\"#fb9f3a\"],[0.8888888888888888,\"#fdca26\"],[1.0,\"#f0f921\"]]}],\"choropleth\":[{\"type\":\"choropleth\",\"colorbar\":{\"outlinewidth\":0,\"ticks\":\"\"}}],\"histogram2d\":[{\"type\":\"histogram2d\",\"colorbar\":{\"outlinewidth\":0,\"ticks\":\"\"},\"colorscale\":[[0.0,\"#0d0887\"],[0.1111111111111111,\"#46039f\"],[0.2222222222222222,\"#7201a8\"],[0.3333333333333333,\"#9c179e\"],[0.4444444444444444,\"#bd3786\"],[0.5555555555555556,\"#d8576b\"],[0.6666666666666666,\"#ed7953\"],[0.7777777777777778,\"#fb9f3a\"],[0.8888888888888888,\"#fdca26\"],[1.0,\"#f0f921\"]]}],\"heatmap\":[{\"type\":\"heatmap\",\"colorbar\":{\"outlinewidth\":0,\"ticks\":\"\"},\"colorscale\":[[0.0,\"#0d0887\"],[0.1111111111111111,\"#46039f\"],[0.2222222222222222,\"#7201a8\"],[0.3333333333333333,\"#9c179e\"],[0.4444444444444444,\"#bd3786\"],[0.5555555555555556,\"#d8576b\"],[0.6666666666666666,\"#ed7953\"],[0.7777777777777778,\"#fb9f3a\"],[0.8888888888888888,\"#fdca26\"],[1.0,\"#f0f921\"]]}],\"heatmapgl\":[{\"type\":\"heatmapgl\",\"colorbar\":{\"outlinewidth\":0,\"ticks\":\"\"},\"colorscale\":[[0.0,\"#0d0887\"],[0.1111111111111111,\"#46039f\"],[0.2222222222222222,\"#7201a8\"],[0.3333333333333333,\"#9c179e\"],[0.4444444444444444,\"#bd3786\"],[0.5555555555555556,\"#d8576b\"],[0.6666666666666666,\"#ed7953\"],[0.7777777777777778,\"#fb9f3a\"],[0.8888888888888888,\"#fdca26\"],[1.0,\"#f0f921\"]]}],\"contourcarpet\":[{\"type\":\"contourcarpet\",\"colorbar\":{\"outlinewidth\":0,\"ticks\":\"\"}}],\"contour\":[{\"type\":\"contour\",\"colorbar\":{\"outlinewidth\":0,\"ticks\":\"\"},\"colorscale\":[[0.0,\"#0d0887\"],[0.1111111111111111,\"#46039f\"],[0.2222222222222222,\"#7201a8\"],[0.3333333333333333,\"#9c179e\"],[0.4444444444444444,\"#bd3786\"],[0.5555555555555556,\"#d8576b\"],[0.6666666666666666,\"#ed7953\"],[0.7777777777777778,\"#fb9f3a\"],[0.8888888888888888,\"#fdca26\"],[1.0,\"#f0f921\"]]}],\"surface\":[{\"type\":\"surface\",\"colorbar\":{\"outlinewidth\":0,\"ticks\":\"\"},\"colorscale\":[[0.0,\"#0d0887\"],[0.1111111111111111,\"#46039f\"],[0.2222222222222222,\"#7201a8\"],[0.3333333333333333,\"#9c179e\"],[0.4444444444444444,\"#bd3786\"],[0.5555555555555556,\"#d8576b\"],[0.6666666666666666,\"#ed7953\"],[0.7777777777777778,\"#fb9f3a\"],[0.8888888888888888,\"#fdca26\"],[1.0,\"#f0f921\"]]}],\"mesh3d\":[{\"type\":\"mesh3d\",\"colorbar\":{\"outlinewidth\":0,\"ticks\":\"\"}}],\"scatter\":[{\"fillpattern\":{\"fillmode\":\"overlay\",\"size\":10,\"solidity\":0.2},\"type\":\"scatter\"}],\"parcoords\":[{\"type\":\"parcoords\",\"line\":{\"colorbar\":{\"outlinewidth\":0,\"ticks\":\"\"}}}],\"scatterpolargl\":[{\"type\":\"scatterpolargl\",\"marker\":{\"colorbar\":{\"outlinewidth\":0,\"ticks\":\"\"}}}],\"bar\":[{\"error_x\":{\"color\":\"#2a3f5f\"},\"error_y\":{\"color\":\"#2a3f5f\"},\"marker\":{\"line\":{\"color\":\"#E5ECF6\",\"width\":0.5},\"pattern\":{\"fillmode\":\"overlay\",\"size\":10,\"solidity\":0.2}},\"type\":\"bar\"}],\"scattergeo\":[{\"type\":\"scattergeo\",\"marker\":{\"colorbar\":{\"outlinewidth\":0,\"ticks\":\"\"}}}],\"scatterpolar\":[{\"type\":\"scatterpolar\",\"marker\":{\"colorbar\":{\"outlinewidth\":0,\"ticks\":\"\"}}}],\"histogram\":[{\"marker\":{\"pattern\":{\"fillmode\":\"overlay\",\"size\":10,\"solidity\":0.2}},\"type\":\"histogram\"}],\"scattergl\":[{\"type\":\"scattergl\",\"marker\":{\"colorbar\":{\"outlinewidth\":0,\"ticks\":\"\"}}}],\"scatter3d\":[{\"type\":\"scatter3d\",\"line\":{\"colorbar\":{\"outlinewidth\":0,\"ticks\":\"\"}},\"marker\":{\"colorbar\":{\"outlinewidth\":0,\"ticks\":\"\"}}}],\"scattermapbox\":[{\"type\":\"scattermapbox\",\"marker\":{\"colorbar\":{\"outlinewidth\":0,\"ticks\":\"\"}}}],\"scatterternary\":[{\"type\":\"scatterternary\",\"marker\":{\"colorbar\":{\"outlinewidth\":0,\"ticks\":\"\"}}}],\"scattercarpet\":[{\"type\":\"scattercarpet\",\"marker\":{\"colorbar\":{\"outlinewidth\":0,\"ticks\":\"\"}}}],\"carpet\":[{\"aaxis\":{\"endlinecolor\":\"#2a3f5f\",\"gridcolor\":\"white\",\"linecolor\":\"white\",\"minorgridcolor\":\"white\",\"startlinecolor\":\"#2a3f5f\"},\"baxis\":{\"endlinecolor\":\"#2a3f5f\",\"gridcolor\":\"white\",\"linecolor\":\"white\",\"minorgridcolor\":\"white\",\"startlinecolor\":\"#2a3f5f\"},\"type\":\"carpet\"}],\"table\":[{\"cells\":{\"fill\":{\"color\":\"#EBF0F8\"},\"line\":{\"color\":\"white\"}},\"header\":{\"fill\":{\"color\":\"#C8D4E3\"},\"line\":{\"color\":\"white\"}},\"type\":\"table\"}],\"barpolar\":[{\"marker\":{\"line\":{\"color\":\"#E5ECF6\",\"width\":0.5},\"pattern\":{\"fillmode\":\"overlay\",\"size\":10,\"solidity\":0.2}},\"type\":\"barpolar\"}],\"pie\":[{\"automargin\":true,\"type\":\"pie\"}]},\"layout\":{\"autotypenumbers\":\"strict\",\"colorway\":[\"#636efa\",\"#EF553B\",\"#00cc96\",\"#ab63fa\",\"#FFA15A\",\"#19d3f3\",\"#FF6692\",\"#B6E880\",\"#FF97FF\",\"#FECB52\"],\"font\":{\"color\":\"#2a3f5f\"},\"hovermode\":\"closest\",\"hoverlabel\":{\"align\":\"left\"},\"paper_bgcolor\":\"white\",\"plot_bgcolor\":\"#E5ECF6\",\"polar\":{\"bgcolor\":\"#E5ECF6\",\"angularaxis\":{\"gridcolor\":\"white\",\"linecolor\":\"white\",\"ticks\":\"\"},\"radialaxis\":{\"gridcolor\":\"white\",\"linecolor\":\"white\",\"ticks\":\"\"}},\"ternary\":{\"bgcolor\":\"#E5ECF6\",\"aaxis\":{\"gridcolor\":\"white\",\"linecolor\":\"white\",\"ticks\":\"\"},\"baxis\":{\"gridcolor\":\"white\",\"linecolor\":\"white\",\"ticks\":\"\"},\"caxis\":{\"gridcolor\":\"white\",\"linecolor\":\"white\",\"ticks\":\"\"}},\"coloraxis\":{\"colorbar\":{\"outlinewidth\":0,\"ticks\":\"\"}},\"colorscale\":{\"sequential\":[[0.0,\"#0d0887\"],[0.1111111111111111,\"#46039f\"],[0.2222222222222222,\"#7201a8\"],[0.3333333333333333,\"#9c179e\"],[0.4444444444444444,\"#bd3786\"],[0.5555555555555556,\"#d8576b\"],[0.6666666666666666,\"#ed7953\"],[0.7777777777777778,\"#fb9f3a\"],[0.8888888888888888,\"#fdca26\"],[1.0,\"#f0f921\"]],\"sequentialminus\":[[0.0,\"#0d0887\"],[0.1111111111111111,\"#46039f\"],[0.2222222222222222,\"#7201a8\"],[0.3333333333333333,\"#9c179e\"],[0.4444444444444444,\"#bd3786\"],[0.5555555555555556,\"#d8576b\"],[0.6666666666666666,\"#ed7953\"],[0.7777777777777778,\"#fb9f3a\"],[0.8888888888888888,\"#fdca26\"],[1.0,\"#f0f921\"]],\"diverging\":[[0,\"#8e0152\"],[0.1,\"#c51b7d\"],[0.2,\"#de77ae\"],[0.3,\"#f1b6da\"],[0.4,\"#fde0ef\"],[0.5,\"#f7f7f7\"],[0.6,\"#e6f5d0\"],[0.7,\"#b8e186\"],[0.8,\"#7fbc41\"],[0.9,\"#4d9221\"],[1,\"#276419\"]]},\"xaxis\":{\"gridcolor\":\"white\",\"linecolor\":\"white\",\"ticks\":\"\",\"title\":{\"standoff\":15},\"zerolinecolor\":\"white\",\"automargin\":true,\"zerolinewidth\":2},\"yaxis\":{\"gridcolor\":\"white\",\"linecolor\":\"white\",\"ticks\":\"\",\"title\":{\"standoff\":15},\"zerolinecolor\":\"white\",\"automargin\":true,\"zerolinewidth\":2},\"scene\":{\"xaxis\":{\"backgroundcolor\":\"#E5ECF6\",\"gridcolor\":\"white\",\"linecolor\":\"white\",\"showbackground\":true,\"ticks\":\"\",\"zerolinecolor\":\"white\",\"gridwidth\":2},\"yaxis\":{\"backgroundcolor\":\"#E5ECF6\",\"gridcolor\":\"white\",\"linecolor\":\"white\",\"showbackground\":true,\"ticks\":\"\",\"zerolinecolor\":\"white\",\"gridwidth\":2},\"zaxis\":{\"backgroundcolor\":\"#E5ECF6\",\"gridcolor\":\"white\",\"linecolor\":\"white\",\"showbackground\":true,\"ticks\":\"\",\"zerolinecolor\":\"white\",\"gridwidth\":2}},\"shapedefaults\":{\"line\":{\"color\":\"#2a3f5f\"}},\"annotationdefaults\":{\"arrowcolor\":\"#2a3f5f\",\"arrowhead\":0,\"arrowwidth\":1},\"geo\":{\"bgcolor\":\"white\",\"landcolor\":\"#E5ECF6\",\"subunitcolor\":\"white\",\"showland\":true,\"showlakes\":true,\"lakecolor\":\"white\"},\"title\":{\"x\":0.05},\"mapbox\":{\"style\":\"light\"}}},\"xaxis\":{\"anchor\":\"y\",\"domain\":[0.0,1.0],\"title\":{\"text\":\"Year\"}},\"yaxis\":{\"anchor\":\"x\",\"domain\":[0.0,1.0],\"title\":{\"text\":\"Notes in Circulation(Rupees Crore)\"}},\"legend\":{\"title\":{\"text\":\"variable\"},\"tracegroupgap\":0},\"title\":{\"text\":\"External Debt\"}},                        {\"responsive\": true}                    ).then(function(){\n",
       "                            \n",
       "var gd = document.getElementById('ec963546-cd30-49f2-b235-673ed6160a85');\n",
       "var x = new MutationObserver(function (mutations, observer) {{\n",
       "        var display = window.getComputedStyle(gd).display;\n",
       "        if (!display || display === 'none') {{\n",
       "            console.log([gd, 'removed!']);\n",
       "            Plotly.purge(gd);\n",
       "            observer.disconnect();\n",
       "        }}\n",
       "}});\n",
       "\n",
       "// Listen for the removal of the full notebook cells\n",
       "var notebookContainer = gd.closest('#notebook-container');\n",
       "if (notebookContainer) {{\n",
       "    x.observe(notebookContainer, {childList: true});\n",
       "}}\n",
       "\n",
       "// Listen for the clearing of the current output cell\n",
       "var outputEl = gd.closest('.output');\n",
       "if (outputEl) {{\n",
       "    x.observe(outputEl, {childList: true});\n",
       "}}\n",
       "\n",
       "                        })                };                });            </script>        </div>"
      ]
     },
     "metadata": {},
     "output_type": "display_data"
    },
    {
     "data": {
      "application/vnd.plotly.v1+json": {
       "config": {
        "plotlyServerURL": "https://plot.ly"
       },
       "data": [
        {
         "hovertemplate": "variable=Small Coins<br>Year=%{x}<br>value=%{y}<extra></extra>",
         "legendgroup": "Small Coins",
         "line": {
          "color": "#636efa",
          "dash": "solid"
         },
         "marker": {
          "symbol": "circle"
         },
         "mode": "lines",
         "name": "Small Coins",
         "orientation": "v",
         "showlegend": true,
         "type": "scatter",
         "x": [
          "2021-01-01",
          "2020-01-01",
          "2019-01-01",
          "2018-01-01",
          "2017-01-01",
          "2016-01-01",
          "2015-01-01",
          "2014-01-01",
          "2013-01-01",
          "2012-01-01",
          "2011-01-01",
          "2010-01-01",
          "2009-01-01",
          "2008-01-01",
          "2007-01-01",
          "2006-01-01",
          "2005-01-01",
          "2004-01-01",
          "2003-01-01",
          "2002-01-01",
          "2001-01-01",
          "2000-01-01",
          "1999-01-01",
          "1998-01-01",
          "1997-01-01",
          "1996-01-01",
          "1995-01-01",
          "1994-01-01",
          "1993-01-01",
          "1992-01-01",
          "1991-01-01",
          "1990-01-01",
          "1989-01-01",
          "1988-01-01",
          "1987-01-01",
          "1986-01-01",
          "1985-01-01",
          "1984-01-01",
          "1983-01-01",
          "1982-01-01",
          "1981-01-01",
          "1980-01-01",
          "1979-01-01",
          "1978-01-01",
          "1977-01-01",
          "1976-01-01",
          "1975-01-01",
          "1974-01-01",
          "1973-01-01",
          "1972-01-01",
          "1971-01-01",
          "1970-01-01"
         ],
         "xaxis": "x",
         "y": [
          700,
          700,
          700,
          700,
          700,
          700,
          700,
          700,
          700,
          700,
          739,
          1458,
          1455,
          1455,
          1455,
          1364,
          1358,
          1353,
          1353,
          1346,
          1328,
          1300,
          1188,
          1116,
          1055,
          991,
          940,
          881,
          829,
          780,
          729,
          685,
          640,
          539,
          498,
          439,
          366,
          307,
          290,
          277,
          263,
          243,
          null,
          null,
          null,
          null,
          null,
          null,
          null,
          null,
          null,
          null
         ],
         "yaxis": "y"
        },
        {
         "hovertemplate": "variable=Re. 1 Coins<br>Year=%{x}<br>value=%{y}<extra></extra>",
         "legendgroup": "Re. 1 Coins",
         "line": {
          "color": "#EF553B",
          "dash": "solid"
         },
         "marker": {
          "symbol": "circle"
         },
         "mode": "lines",
         "name": "Re. 1 Coins",
         "orientation": "v",
         "showlegend": true,
         "type": "scatter",
         "x": [
          "2021-01-01",
          "2020-01-01",
          "2019-01-01",
          "2018-01-01",
          "2017-01-01",
          "2016-01-01",
          "2015-01-01",
          "2014-01-01",
          "2013-01-01",
          "2012-01-01",
          "2011-01-01",
          "2010-01-01",
          "2009-01-01",
          "2008-01-01",
          "2007-01-01",
          "2006-01-01",
          "2005-01-01",
          "2004-01-01",
          "2003-01-01",
          "2002-01-01",
          "2001-01-01",
          "2000-01-01",
          "1999-01-01",
          "1998-01-01",
          "1997-01-01",
          "1996-01-01",
          "1995-01-01",
          "1994-01-01",
          "1993-01-01",
          "1992-01-01",
          "1991-01-01",
          "1990-01-01",
          "1989-01-01",
          "1988-01-01",
          "1987-01-01",
          "1986-01-01",
          "1985-01-01",
          "1984-01-01",
          "1983-01-01",
          "1982-01-01",
          "1981-01-01",
          "1980-01-01",
          "1979-01-01",
          "1978-01-01",
          "1977-01-01",
          "1976-01-01",
          "1975-01-01",
          "1974-01-01",
          "1973-01-01",
          "1972-01-01",
          "1971-01-01",
          "1970-01-01"
         ],
         "xaxis": "x",
         "y": [
          4777,
          4749,
          4719,
          4673,
          4963,
          4514,
          4178,
          3863,
          3842,
          3289,
          3142,
          2968,
          2647,
          2396,
          2214,
          2029,
          1894,
          1790,
          1757,
          1692,
          1547,
          1393,
          1260,
          1076,
          969,
          900,
          848,
          795,
          705,
          null,
          null,
          616,
          583,
          547,
          501,
          423,
          308,
          237,
          303,
          172,
          154,
          141,
          126,
          110,
          96,
          75,
          53,
          46,
          46,
          45,
          43,
          43
         ],
         "yaxis": "y"
        },
        {
         "hovertemplate": "variable=Rs. 2 Coins<br>Year=%{x}<br>value=%{y}<extra></extra>",
         "legendgroup": "Rs. 2 Coins",
         "line": {
          "color": "#00cc96",
          "dash": "solid"
         },
         "marker": {
          "symbol": "circle"
         },
         "mode": "lines",
         "name": "Rs. 2 Coins",
         "orientation": "v",
         "showlegend": true,
         "type": "scatter",
         "x": [
          "2021-01-01",
          "2020-01-01",
          "2019-01-01",
          "2018-01-01",
          "2017-01-01",
          "2016-01-01",
          "2015-01-01",
          "2014-01-01",
          "2013-01-01",
          "2012-01-01",
          "2011-01-01",
          "2010-01-01",
          "2009-01-01",
          "2008-01-01",
          "2007-01-01",
          "2006-01-01",
          "2005-01-01",
          "2004-01-01",
          "2003-01-01",
          "2002-01-01",
          "2001-01-01",
          "2000-01-01",
          "1999-01-01",
          "1998-01-01",
          "1997-01-01",
          "1996-01-01",
          "1995-01-01",
          "1994-01-01",
          "1993-01-01",
          "1992-01-01",
          "1991-01-01",
          "1990-01-01",
          "1989-01-01",
          "1988-01-01",
          "1987-01-01",
          "1986-01-01",
          "1985-01-01",
          "1984-01-01",
          "1983-01-01",
          "1982-01-01",
          "1981-01-01",
          "1980-01-01",
          "1979-01-01",
          "1978-01-01",
          "1977-01-01",
          "1976-01-01",
          "1975-01-01",
          "1974-01-01",
          "1973-01-01",
          "1972-01-01",
          "1971-01-01",
          "1970-01-01"
         ],
         "xaxis": "x",
         "y": [
          6816,
          6757,
          6703,
          6631,
          6571,
          6411,
          5926,
          5407,
          4965,
          4423,
          3640,
          3068,
          2640,
          2236,
          1907,
          1488,
          1365,
          1290,
          1255,
          1210,
          1062,
          814,
          672,
          497,
          352,
          286,
          226,
          159,
          85,
          37,
          10,
          23,
          null,
          null,
          null,
          null,
          null,
          null,
          null,
          null,
          null,
          null,
          null,
          null,
          null,
          null,
          null,
          null,
          null,
          null,
          null,
          null
         ],
         "yaxis": "y"
        },
        {
         "hovertemplate": "variable=Rs. 5 Coins<br>Year=%{x}<br>value=%{y}<extra></extra>",
         "legendgroup": "Rs. 5 Coins",
         "line": {
          "color": "#ab63fa",
          "dash": "solid"
         },
         "marker": {
          "symbol": "circle"
         },
         "mode": "lines",
         "name": "Rs. 5 Coins",
         "orientation": "v",
         "showlegend": true,
         "type": "scatter",
         "x": [
          "2021-01-01",
          "2020-01-01",
          "2019-01-01",
          "2018-01-01",
          "2017-01-01",
          "2016-01-01",
          "2015-01-01",
          "2014-01-01",
          "2013-01-01",
          "2012-01-01",
          "2011-01-01",
          "2010-01-01",
          "2009-01-01",
          "2008-01-01",
          "2007-01-01",
          "2006-01-01",
          "2005-01-01",
          "2004-01-01",
          "2003-01-01",
          "2002-01-01",
          "2001-01-01",
          "2000-01-01",
          "1999-01-01",
          "1998-01-01",
          "1997-01-01",
          "1996-01-01",
          "1995-01-01",
          "1994-01-01",
          "1993-01-01",
          "1992-01-01",
          "1991-01-01",
          "1990-01-01",
          "1989-01-01",
          "1988-01-01",
          "1987-01-01",
          "1986-01-01",
          "1985-01-01",
          "1984-01-01",
          "1983-01-01",
          "1982-01-01",
          "1981-01-01",
          "1980-01-01",
          "1979-01-01",
          "1978-01-01",
          "1977-01-01",
          "1976-01-01",
          "1975-01-01",
          "1974-01-01",
          "1973-01-01",
          "1972-01-01",
          "1971-01-01",
          "1970-01-01"
         ],
         "xaxis": "x",
         "y": [
          9217,
          8968,
          8800,
          8576,
          8324,
          7891,
          7045,
          6380,
          5789,
          5338,
          4990,
          4535,
          3880,
          3570,
          3249,
          2880,
          2735,
          2619,
          2535,
          2419,
          2025,
          1544,
          1164,
          856,
          672,
          440,
          183,
          115,
          58,
          5,
          null,
          null,
          20,
          null,
          null,
          17,
          20,
          null,
          null,
          null,
          null,
          null,
          null,
          null,
          null,
          null,
          null,
          null,
          null,
          null,
          null,
          null
         ],
         "yaxis": "y"
        },
        {
         "hovertemplate": "variable=Rs. 10 Coins<br>Year=%{x}<br>value=%{y}<extra></extra>",
         "legendgroup": "Rs. 10 Coins",
         "line": {
          "color": "#FFA15A",
          "dash": "solid"
         },
         "marker": {
          "symbol": "circle"
         },
         "mode": "lines",
         "name": "Rs. 10 Coins",
         "orientation": "v",
         "showlegend": true,
         "type": "scatter",
         "x": [
          "2021-01-01",
          "2020-01-01",
          "2019-01-01",
          "2018-01-01",
          "2017-01-01",
          "2016-01-01",
          "2015-01-01",
          "2014-01-01",
          "2013-01-01",
          "2012-01-01",
          "2011-01-01",
          "2010-01-01",
          "2009-01-01",
          "2008-01-01",
          "2007-01-01",
          "2006-01-01",
          "2005-01-01",
          "2004-01-01",
          "2003-01-01",
          "2002-01-01",
          "2001-01-01",
          "2000-01-01",
          "1999-01-01",
          "1998-01-01",
          "1997-01-01",
          "1996-01-01",
          "1995-01-01",
          "1994-01-01",
          "1993-01-01",
          "1992-01-01",
          "1991-01-01",
          "1990-01-01",
          "1989-01-01",
          "1988-01-01",
          "1987-01-01",
          "1986-01-01",
          "1985-01-01",
          "1984-01-01",
          "1983-01-01",
          "1982-01-01",
          "1981-01-01",
          "1980-01-01",
          "1979-01-01",
          "1978-01-01",
          "1977-01-01",
          "1976-01-01",
          "1975-01-01",
          "1974-01-01",
          "1973-01-01",
          "1972-01-01",
          "1971-01-01",
          "1970-01-01"
         ],
         "xaxis": "x",
         "y": [
          5404,
          5139,
          5013,
          4905,
          5049,
          5204,
          3703,
          2750,
          2017,
          1267,
          648,
          300,
          149,
          null,
          null,
          null,
          null,
          null,
          null,
          null,
          null,
          null,
          null,
          null,
          null,
          null,
          null,
          null,
          null,
          null,
          null,
          null,
          null,
          null,
          null,
          null,
          null,
          null,
          null,
          null,
          null,
          null,
          null,
          null,
          null,
          null,
          null,
          null,
          null,
          null,
          null,
          null
         ],
         "yaxis": "y"
        },
        {
         "hovertemplate": "variable=Re. 20 Coins<br>Year=%{x}<br>value=%{y}<extra></extra>",
         "legendgroup": "Re. 20 Coins",
         "line": {
          "color": "#19d3f3",
          "dash": "solid"
         },
         "marker": {
          "symbol": "circle"
         },
         "mode": "lines",
         "name": "Re. 20 Coins",
         "orientation": "v",
         "showlegend": true,
         "type": "scatter",
         "x": [
          "2021-01-01",
          "2020-01-01",
          "2019-01-01",
          "2018-01-01",
          "2017-01-01",
          "2016-01-01",
          "2015-01-01",
          "2014-01-01",
          "2013-01-01",
          "2012-01-01",
          "2011-01-01",
          "2010-01-01",
          "2009-01-01",
          "2008-01-01",
          "2007-01-01",
          "2006-01-01",
          "2005-01-01",
          "2004-01-01",
          "2003-01-01",
          "2002-01-01",
          "2001-01-01",
          "2000-01-01",
          "1999-01-01",
          "1998-01-01",
          "1997-01-01",
          "1996-01-01",
          "1995-01-01",
          "1994-01-01",
          "1993-01-01",
          "1992-01-01",
          "1991-01-01",
          "1990-01-01",
          "1989-01-01",
          "1988-01-01",
          "1987-01-01",
          "1986-01-01",
          "1985-01-01",
          "1984-01-01",
          "1983-01-01",
          "1982-01-01",
          "1981-01-01",
          "1980-01-01",
          "1979-01-01",
          "1978-01-01",
          "1977-01-01",
          "1976-01-01",
          "1975-01-01",
          "1974-01-01",
          "1973-01-01",
          "1972-01-01",
          "1971-01-01",
          "1970-01-01"
         ],
         "xaxis": "x",
         "y": [
          674,
          179,
          null,
          null,
          null,
          null,
          null,
          null,
          null,
          null,
          null,
          null,
          null,
          null,
          null,
          null,
          null,
          null,
          null,
          null,
          null,
          null,
          null,
          null,
          null,
          null,
          null,
          null,
          null,
          null,
          null,
          null,
          null,
          null,
          null,
          null,
          null,
          null,
          null,
          null,
          null,
          null,
          null,
          null,
          null,
          null,
          null,
          null,
          null,
          null,
          null,
          null
         ],
         "yaxis": "y"
        }
       ],
       "layout": {
        "legend": {
         "title": {
          "text": "variable"
         },
         "tracegroupgap": 0
        },
        "template": {
         "data": {
          "bar": [
           {
            "error_x": {
             "color": "#2a3f5f"
            },
            "error_y": {
             "color": "#2a3f5f"
            },
            "marker": {
             "line": {
              "color": "#E5ECF6",
              "width": 0.5
             },
             "pattern": {
              "fillmode": "overlay",
              "size": 10,
              "solidity": 0.2
             }
            },
            "type": "bar"
           }
          ],
          "barpolar": [
           {
            "marker": {
             "line": {
              "color": "#E5ECF6",
              "width": 0.5
             },
             "pattern": {
              "fillmode": "overlay",
              "size": 10,
              "solidity": 0.2
             }
            },
            "type": "barpolar"
           }
          ],
          "carpet": [
           {
            "aaxis": {
             "endlinecolor": "#2a3f5f",
             "gridcolor": "white",
             "linecolor": "white",
             "minorgridcolor": "white",
             "startlinecolor": "#2a3f5f"
            },
            "baxis": {
             "endlinecolor": "#2a3f5f",
             "gridcolor": "white",
             "linecolor": "white",
             "minorgridcolor": "white",
             "startlinecolor": "#2a3f5f"
            },
            "type": "carpet"
           }
          ],
          "choropleth": [
           {
            "colorbar": {
             "outlinewidth": 0,
             "ticks": ""
            },
            "type": "choropleth"
           }
          ],
          "contour": [
           {
            "colorbar": {
             "outlinewidth": 0,
             "ticks": ""
            },
            "colorscale": [
             [
              0,
              "#0d0887"
             ],
             [
              0.1111111111111111,
              "#46039f"
             ],
             [
              0.2222222222222222,
              "#7201a8"
             ],
             [
              0.3333333333333333,
              "#9c179e"
             ],
             [
              0.4444444444444444,
              "#bd3786"
             ],
             [
              0.5555555555555556,
              "#d8576b"
             ],
             [
              0.6666666666666666,
              "#ed7953"
             ],
             [
              0.7777777777777778,
              "#fb9f3a"
             ],
             [
              0.8888888888888888,
              "#fdca26"
             ],
             [
              1,
              "#f0f921"
             ]
            ],
            "type": "contour"
           }
          ],
          "contourcarpet": [
           {
            "colorbar": {
             "outlinewidth": 0,
             "ticks": ""
            },
            "type": "contourcarpet"
           }
          ],
          "heatmap": [
           {
            "colorbar": {
             "outlinewidth": 0,
             "ticks": ""
            },
            "colorscale": [
             [
              0,
              "#0d0887"
             ],
             [
              0.1111111111111111,
              "#46039f"
             ],
             [
              0.2222222222222222,
              "#7201a8"
             ],
             [
              0.3333333333333333,
              "#9c179e"
             ],
             [
              0.4444444444444444,
              "#bd3786"
             ],
             [
              0.5555555555555556,
              "#d8576b"
             ],
             [
              0.6666666666666666,
              "#ed7953"
             ],
             [
              0.7777777777777778,
              "#fb9f3a"
             ],
             [
              0.8888888888888888,
              "#fdca26"
             ],
             [
              1,
              "#f0f921"
             ]
            ],
            "type": "heatmap"
           }
          ],
          "heatmapgl": [
           {
            "colorbar": {
             "outlinewidth": 0,
             "ticks": ""
            },
            "colorscale": [
             [
              0,
              "#0d0887"
             ],
             [
              0.1111111111111111,
              "#46039f"
             ],
             [
              0.2222222222222222,
              "#7201a8"
             ],
             [
              0.3333333333333333,
              "#9c179e"
             ],
             [
              0.4444444444444444,
              "#bd3786"
             ],
             [
              0.5555555555555556,
              "#d8576b"
             ],
             [
              0.6666666666666666,
              "#ed7953"
             ],
             [
              0.7777777777777778,
              "#fb9f3a"
             ],
             [
              0.8888888888888888,
              "#fdca26"
             ],
             [
              1,
              "#f0f921"
             ]
            ],
            "type": "heatmapgl"
           }
          ],
          "histogram": [
           {
            "marker": {
             "pattern": {
              "fillmode": "overlay",
              "size": 10,
              "solidity": 0.2
             }
            },
            "type": "histogram"
           }
          ],
          "histogram2d": [
           {
            "colorbar": {
             "outlinewidth": 0,
             "ticks": ""
            },
            "colorscale": [
             [
              0,
              "#0d0887"
             ],
             [
              0.1111111111111111,
              "#46039f"
             ],
             [
              0.2222222222222222,
              "#7201a8"
             ],
             [
              0.3333333333333333,
              "#9c179e"
             ],
             [
              0.4444444444444444,
              "#bd3786"
             ],
             [
              0.5555555555555556,
              "#d8576b"
             ],
             [
              0.6666666666666666,
              "#ed7953"
             ],
             [
              0.7777777777777778,
              "#fb9f3a"
             ],
             [
              0.8888888888888888,
              "#fdca26"
             ],
             [
              1,
              "#f0f921"
             ]
            ],
            "type": "histogram2d"
           }
          ],
          "histogram2dcontour": [
           {
            "colorbar": {
             "outlinewidth": 0,
             "ticks": ""
            },
            "colorscale": [
             [
              0,
              "#0d0887"
             ],
             [
              0.1111111111111111,
              "#46039f"
             ],
             [
              0.2222222222222222,
              "#7201a8"
             ],
             [
              0.3333333333333333,
              "#9c179e"
             ],
             [
              0.4444444444444444,
              "#bd3786"
             ],
             [
              0.5555555555555556,
              "#d8576b"
             ],
             [
              0.6666666666666666,
              "#ed7953"
             ],
             [
              0.7777777777777778,
              "#fb9f3a"
             ],
             [
              0.8888888888888888,
              "#fdca26"
             ],
             [
              1,
              "#f0f921"
             ]
            ],
            "type": "histogram2dcontour"
           }
          ],
          "mesh3d": [
           {
            "colorbar": {
             "outlinewidth": 0,
             "ticks": ""
            },
            "type": "mesh3d"
           }
          ],
          "parcoords": [
           {
            "line": {
             "colorbar": {
              "outlinewidth": 0,
              "ticks": ""
             }
            },
            "type": "parcoords"
           }
          ],
          "pie": [
           {
            "automargin": true,
            "type": "pie"
           }
          ],
          "scatter": [
           {
            "fillpattern": {
             "fillmode": "overlay",
             "size": 10,
             "solidity": 0.2
            },
            "type": "scatter"
           }
          ],
          "scatter3d": [
           {
            "line": {
             "colorbar": {
              "outlinewidth": 0,
              "ticks": ""
             }
            },
            "marker": {
             "colorbar": {
              "outlinewidth": 0,
              "ticks": ""
             }
            },
            "type": "scatter3d"
           }
          ],
          "scattercarpet": [
           {
            "marker": {
             "colorbar": {
              "outlinewidth": 0,
              "ticks": ""
             }
            },
            "type": "scattercarpet"
           }
          ],
          "scattergeo": [
           {
            "marker": {
             "colorbar": {
              "outlinewidth": 0,
              "ticks": ""
             }
            },
            "type": "scattergeo"
           }
          ],
          "scattergl": [
           {
            "marker": {
             "colorbar": {
              "outlinewidth": 0,
              "ticks": ""
             }
            },
            "type": "scattergl"
           }
          ],
          "scattermapbox": [
           {
            "marker": {
             "colorbar": {
              "outlinewidth": 0,
              "ticks": ""
             }
            },
            "type": "scattermapbox"
           }
          ],
          "scatterpolar": [
           {
            "marker": {
             "colorbar": {
              "outlinewidth": 0,
              "ticks": ""
             }
            },
            "type": "scatterpolar"
           }
          ],
          "scatterpolargl": [
           {
            "marker": {
             "colorbar": {
              "outlinewidth": 0,
              "ticks": ""
             }
            },
            "type": "scatterpolargl"
           }
          ],
          "scatterternary": [
           {
            "marker": {
             "colorbar": {
              "outlinewidth": 0,
              "ticks": ""
             }
            },
            "type": "scatterternary"
           }
          ],
          "surface": [
           {
            "colorbar": {
             "outlinewidth": 0,
             "ticks": ""
            },
            "colorscale": [
             [
              0,
              "#0d0887"
             ],
             [
              0.1111111111111111,
              "#46039f"
             ],
             [
              0.2222222222222222,
              "#7201a8"
             ],
             [
              0.3333333333333333,
              "#9c179e"
             ],
             [
              0.4444444444444444,
              "#bd3786"
             ],
             [
              0.5555555555555556,
              "#d8576b"
             ],
             [
              0.6666666666666666,
              "#ed7953"
             ],
             [
              0.7777777777777778,
              "#fb9f3a"
             ],
             [
              0.8888888888888888,
              "#fdca26"
             ],
             [
              1,
              "#f0f921"
             ]
            ],
            "type": "surface"
           }
          ],
          "table": [
           {
            "cells": {
             "fill": {
              "color": "#EBF0F8"
             },
             "line": {
              "color": "white"
             }
            },
            "header": {
             "fill": {
              "color": "#C8D4E3"
             },
             "line": {
              "color": "white"
             }
            },
            "type": "table"
           }
          ]
         },
         "layout": {
          "annotationdefaults": {
           "arrowcolor": "#2a3f5f",
           "arrowhead": 0,
           "arrowwidth": 1
          },
          "autotypenumbers": "strict",
          "coloraxis": {
           "colorbar": {
            "outlinewidth": 0,
            "ticks": ""
           }
          },
          "colorscale": {
           "diverging": [
            [
             0,
             "#8e0152"
            ],
            [
             0.1,
             "#c51b7d"
            ],
            [
             0.2,
             "#de77ae"
            ],
            [
             0.3,
             "#f1b6da"
            ],
            [
             0.4,
             "#fde0ef"
            ],
            [
             0.5,
             "#f7f7f7"
            ],
            [
             0.6,
             "#e6f5d0"
            ],
            [
             0.7,
             "#b8e186"
            ],
            [
             0.8,
             "#7fbc41"
            ],
            [
             0.9,
             "#4d9221"
            ],
            [
             1,
             "#276419"
            ]
           ],
           "sequential": [
            [
             0,
             "#0d0887"
            ],
            [
             0.1111111111111111,
             "#46039f"
            ],
            [
             0.2222222222222222,
             "#7201a8"
            ],
            [
             0.3333333333333333,
             "#9c179e"
            ],
            [
             0.4444444444444444,
             "#bd3786"
            ],
            [
             0.5555555555555556,
             "#d8576b"
            ],
            [
             0.6666666666666666,
             "#ed7953"
            ],
            [
             0.7777777777777778,
             "#fb9f3a"
            ],
            [
             0.8888888888888888,
             "#fdca26"
            ],
            [
             1,
             "#f0f921"
            ]
           ],
           "sequentialminus": [
            [
             0,
             "#0d0887"
            ],
            [
             0.1111111111111111,
             "#46039f"
            ],
            [
             0.2222222222222222,
             "#7201a8"
            ],
            [
             0.3333333333333333,
             "#9c179e"
            ],
            [
             0.4444444444444444,
             "#bd3786"
            ],
            [
             0.5555555555555556,
             "#d8576b"
            ],
            [
             0.6666666666666666,
             "#ed7953"
            ],
            [
             0.7777777777777778,
             "#fb9f3a"
            ],
            [
             0.8888888888888888,
             "#fdca26"
            ],
            [
             1,
             "#f0f921"
            ]
           ]
          },
          "colorway": [
           "#636efa",
           "#EF553B",
           "#00cc96",
           "#ab63fa",
           "#FFA15A",
           "#19d3f3",
           "#FF6692",
           "#B6E880",
           "#FF97FF",
           "#FECB52"
          ],
          "font": {
           "color": "#2a3f5f"
          },
          "geo": {
           "bgcolor": "white",
           "lakecolor": "white",
           "landcolor": "#E5ECF6",
           "showlakes": true,
           "showland": true,
           "subunitcolor": "white"
          },
          "hoverlabel": {
           "align": "left"
          },
          "hovermode": "closest",
          "mapbox": {
           "style": "light"
          },
          "paper_bgcolor": "white",
          "plot_bgcolor": "#E5ECF6",
          "polar": {
           "angularaxis": {
            "gridcolor": "white",
            "linecolor": "white",
            "ticks": ""
           },
           "bgcolor": "#E5ECF6",
           "radialaxis": {
            "gridcolor": "white",
            "linecolor": "white",
            "ticks": ""
           }
          },
          "scene": {
           "xaxis": {
            "backgroundcolor": "#E5ECF6",
            "gridcolor": "white",
            "gridwidth": 2,
            "linecolor": "white",
            "showbackground": true,
            "ticks": "",
            "zerolinecolor": "white"
           },
           "yaxis": {
            "backgroundcolor": "#E5ECF6",
            "gridcolor": "white",
            "gridwidth": 2,
            "linecolor": "white",
            "showbackground": true,
            "ticks": "",
            "zerolinecolor": "white"
           },
           "zaxis": {
            "backgroundcolor": "#E5ECF6",
            "gridcolor": "white",
            "gridwidth": 2,
            "linecolor": "white",
            "showbackground": true,
            "ticks": "",
            "zerolinecolor": "white"
           }
          },
          "shapedefaults": {
           "line": {
            "color": "#2a3f5f"
           }
          },
          "ternary": {
           "aaxis": {
            "gridcolor": "white",
            "linecolor": "white",
            "ticks": ""
           },
           "baxis": {
            "gridcolor": "white",
            "linecolor": "white",
            "ticks": ""
           },
           "bgcolor": "#E5ECF6",
           "caxis": {
            "gridcolor": "white",
            "linecolor": "white",
            "ticks": ""
           }
          },
          "title": {
           "x": 0.05
          },
          "xaxis": {
           "automargin": true,
           "gridcolor": "white",
           "linecolor": "white",
           "ticks": "",
           "title": {
            "standoff": 15
           },
           "zerolinecolor": "white",
           "zerolinewidth": 2
          },
          "yaxis": {
           "automargin": true,
           "gridcolor": "white",
           "linecolor": "white",
           "ticks": "",
           "title": {
            "standoff": 15
           },
           "zerolinecolor": "white",
           "zerolinewidth": 2
          }
         }
        },
        "title": {
         "text": "External Debt"
        },
        "xaxis": {
         "anchor": "y",
         "domain": [
          0,
          1
         ],
         "title": {
          "text": "Year"
         }
        },
        "yaxis": {
         "anchor": "x",
         "domain": [
          0,
          1
         ],
         "title": {
          "text": "Coins in Circulation(Rupees Crore)"
         }
        }
       }
      },
      "text/html": [
       "<div>                            <div id=\"115e78ec-5f41-495a-aa73-a5c28848e5fc\" class=\"plotly-graph-div\" style=\"height:525px; width:100%;\"></div>            <script type=\"text/javascript\">                require([\"plotly\"], function(Plotly) {                    window.PLOTLYENV=window.PLOTLYENV || {};                                    if (document.getElementById(\"115e78ec-5f41-495a-aa73-a5c28848e5fc\")) {                    Plotly.newPlot(                        \"115e78ec-5f41-495a-aa73-a5c28848e5fc\",                        [{\"hovertemplate\":\"variable=Small Coins<br>Year=%{x}<br>value=%{y}<extra></extra>\",\"legendgroup\":\"Small Coins\",\"line\":{\"color\":\"#636efa\",\"dash\":\"solid\"},\"marker\":{\"symbol\":\"circle\"},\"mode\":\"lines\",\"name\":\"Small Coins\",\"orientation\":\"v\",\"showlegend\":true,\"x\":[\"2021-01-01\",\"2020-01-01\",\"2019-01-01\",\"2018-01-01\",\"2017-01-01\",\"2016-01-01\",\"2015-01-01\",\"2014-01-01\",\"2013-01-01\",\"2012-01-01\",\"2011-01-01\",\"2010-01-01\",\"2009-01-01\",\"2008-01-01\",\"2007-01-01\",\"2006-01-01\",\"2005-01-01\",\"2004-01-01\",\"2003-01-01\",\"2002-01-01\",\"2001-01-01\",\"2000-01-01\",\"1999-01-01\",\"1998-01-01\",\"1997-01-01\",\"1996-01-01\",\"1995-01-01\",\"1994-01-01\",\"1993-01-01\",\"1992-01-01\",\"1991-01-01\",\"1990-01-01\",\"1989-01-01\",\"1988-01-01\",\"1987-01-01\",\"1986-01-01\",\"1985-01-01\",\"1984-01-01\",\"1983-01-01\",\"1982-01-01\",\"1981-01-01\",\"1980-01-01\",\"1979-01-01\",\"1978-01-01\",\"1977-01-01\",\"1976-01-01\",\"1975-01-01\",\"1974-01-01\",\"1973-01-01\",\"1972-01-01\",\"1971-01-01\",\"1970-01-01\"],\"xaxis\":\"x\",\"y\":[700.0,700.0,700.0,700.0,700.0,700.0,700.0,700.0,700.0,700.0,739.0,1458.0,1455.0,1455.0,1455.0,1364.0,1358.0,1353.0,1353.0,1346.0,1328.0,1300.0,1188.0,1116.0,1055.0,991.0,940.0,881.0,829.0,780.0,729.0,685.0,640.0,539.0,498.0,439.0,366.0,307.0,290.0,277.0,263.0,243.0,null,null,null,null,null,null,null,null,null,null],\"yaxis\":\"y\",\"type\":\"scatter\"},{\"hovertemplate\":\"variable=Re. 1 Coins<br>Year=%{x}<br>value=%{y}<extra></extra>\",\"legendgroup\":\"Re. 1 Coins\",\"line\":{\"color\":\"#EF553B\",\"dash\":\"solid\"},\"marker\":{\"symbol\":\"circle\"},\"mode\":\"lines\",\"name\":\"Re. 1 Coins\",\"orientation\":\"v\",\"showlegend\":true,\"x\":[\"2021-01-01\",\"2020-01-01\",\"2019-01-01\",\"2018-01-01\",\"2017-01-01\",\"2016-01-01\",\"2015-01-01\",\"2014-01-01\",\"2013-01-01\",\"2012-01-01\",\"2011-01-01\",\"2010-01-01\",\"2009-01-01\",\"2008-01-01\",\"2007-01-01\",\"2006-01-01\",\"2005-01-01\",\"2004-01-01\",\"2003-01-01\",\"2002-01-01\",\"2001-01-01\",\"2000-01-01\",\"1999-01-01\",\"1998-01-01\",\"1997-01-01\",\"1996-01-01\",\"1995-01-01\",\"1994-01-01\",\"1993-01-01\",\"1992-01-01\",\"1991-01-01\",\"1990-01-01\",\"1989-01-01\",\"1988-01-01\",\"1987-01-01\",\"1986-01-01\",\"1985-01-01\",\"1984-01-01\",\"1983-01-01\",\"1982-01-01\",\"1981-01-01\",\"1980-01-01\",\"1979-01-01\",\"1978-01-01\",\"1977-01-01\",\"1976-01-01\",\"1975-01-01\",\"1974-01-01\",\"1973-01-01\",\"1972-01-01\",\"1971-01-01\",\"1970-01-01\"],\"xaxis\":\"x\",\"y\":[4777.0,4749.0,4719.0,4673.0,4963.0,4514.0,4178.0,3863.0,3842.0,3289.0,3142.0,2968.0,2647.0,2396.0,2214.0,2029.0,1894.0,1790.0,1757.0,1692.0,1547.0,1393.0,1260.0,1076.0,969.0,900.0,848.0,795.0,705.0,null,null,616.0,583.0,547.0,501.0,423.0,308.0,237.0,303.0,172.0,154.0,141.0,126.0,110.0,96.0,75.0,53.0,46.0,46.0,45.0,43.0,43.0],\"yaxis\":\"y\",\"type\":\"scatter\"},{\"hovertemplate\":\"variable=Rs. 2 Coins<br>Year=%{x}<br>value=%{y}<extra></extra>\",\"legendgroup\":\"Rs. 2 Coins\",\"line\":{\"color\":\"#00cc96\",\"dash\":\"solid\"},\"marker\":{\"symbol\":\"circle\"},\"mode\":\"lines\",\"name\":\"Rs. 2 Coins\",\"orientation\":\"v\",\"showlegend\":true,\"x\":[\"2021-01-01\",\"2020-01-01\",\"2019-01-01\",\"2018-01-01\",\"2017-01-01\",\"2016-01-01\",\"2015-01-01\",\"2014-01-01\",\"2013-01-01\",\"2012-01-01\",\"2011-01-01\",\"2010-01-01\",\"2009-01-01\",\"2008-01-01\",\"2007-01-01\",\"2006-01-01\",\"2005-01-01\",\"2004-01-01\",\"2003-01-01\",\"2002-01-01\",\"2001-01-01\",\"2000-01-01\",\"1999-01-01\",\"1998-01-01\",\"1997-01-01\",\"1996-01-01\",\"1995-01-01\",\"1994-01-01\",\"1993-01-01\",\"1992-01-01\",\"1991-01-01\",\"1990-01-01\",\"1989-01-01\",\"1988-01-01\",\"1987-01-01\",\"1986-01-01\",\"1985-01-01\",\"1984-01-01\",\"1983-01-01\",\"1982-01-01\",\"1981-01-01\",\"1980-01-01\",\"1979-01-01\",\"1978-01-01\",\"1977-01-01\",\"1976-01-01\",\"1975-01-01\",\"1974-01-01\",\"1973-01-01\",\"1972-01-01\",\"1971-01-01\",\"1970-01-01\"],\"xaxis\":\"x\",\"y\":[6816.0,6757.0,6703.0,6631.0,6571.0,6411.0,5926.0,5407.0,4965.0,4423.0,3640.0,3068.0,2640.0,2236.0,1907.0,1488.0,1365.0,1290.0,1255.0,1210.0,1062.0,814.0,672.0,497.0,352.0,286.0,226.0,159.0,85.0,37.0,10.0,23.0,null,null,null,null,null,null,null,null,null,null,null,null,null,null,null,null,null,null,null,null],\"yaxis\":\"y\",\"type\":\"scatter\"},{\"hovertemplate\":\"variable=Rs. 5 Coins<br>Year=%{x}<br>value=%{y}<extra></extra>\",\"legendgroup\":\"Rs. 5 Coins\",\"line\":{\"color\":\"#ab63fa\",\"dash\":\"solid\"},\"marker\":{\"symbol\":\"circle\"},\"mode\":\"lines\",\"name\":\"Rs. 5 Coins\",\"orientation\":\"v\",\"showlegend\":true,\"x\":[\"2021-01-01\",\"2020-01-01\",\"2019-01-01\",\"2018-01-01\",\"2017-01-01\",\"2016-01-01\",\"2015-01-01\",\"2014-01-01\",\"2013-01-01\",\"2012-01-01\",\"2011-01-01\",\"2010-01-01\",\"2009-01-01\",\"2008-01-01\",\"2007-01-01\",\"2006-01-01\",\"2005-01-01\",\"2004-01-01\",\"2003-01-01\",\"2002-01-01\",\"2001-01-01\",\"2000-01-01\",\"1999-01-01\",\"1998-01-01\",\"1997-01-01\",\"1996-01-01\",\"1995-01-01\",\"1994-01-01\",\"1993-01-01\",\"1992-01-01\",\"1991-01-01\",\"1990-01-01\",\"1989-01-01\",\"1988-01-01\",\"1987-01-01\",\"1986-01-01\",\"1985-01-01\",\"1984-01-01\",\"1983-01-01\",\"1982-01-01\",\"1981-01-01\",\"1980-01-01\",\"1979-01-01\",\"1978-01-01\",\"1977-01-01\",\"1976-01-01\",\"1975-01-01\",\"1974-01-01\",\"1973-01-01\",\"1972-01-01\",\"1971-01-01\",\"1970-01-01\"],\"xaxis\":\"x\",\"y\":[9217.0,8968.0,8800.0,8576.0,8324.0,7891.0,7045.0,6380.0,5789.0,5338.0,4990.0,4535.0,3880.0,3570.0,3249.0,2880.0,2735.0,2619.0,2535.0,2419.0,2025.0,1544.0,1164.0,856.0,672.0,440.0,183.0,115.0,58.0,5.0,null,null,20.0,null,null,17.0,20.0,null,null,null,null,null,null,null,null,null,null,null,null,null,null,null],\"yaxis\":\"y\",\"type\":\"scatter\"},{\"hovertemplate\":\"variable=Rs. 10 Coins<br>Year=%{x}<br>value=%{y}<extra></extra>\",\"legendgroup\":\"Rs. 10 Coins\",\"line\":{\"color\":\"#FFA15A\",\"dash\":\"solid\"},\"marker\":{\"symbol\":\"circle\"},\"mode\":\"lines\",\"name\":\"Rs. 10 Coins\",\"orientation\":\"v\",\"showlegend\":true,\"x\":[\"2021-01-01\",\"2020-01-01\",\"2019-01-01\",\"2018-01-01\",\"2017-01-01\",\"2016-01-01\",\"2015-01-01\",\"2014-01-01\",\"2013-01-01\",\"2012-01-01\",\"2011-01-01\",\"2010-01-01\",\"2009-01-01\",\"2008-01-01\",\"2007-01-01\",\"2006-01-01\",\"2005-01-01\",\"2004-01-01\",\"2003-01-01\",\"2002-01-01\",\"2001-01-01\",\"2000-01-01\",\"1999-01-01\",\"1998-01-01\",\"1997-01-01\",\"1996-01-01\",\"1995-01-01\",\"1994-01-01\",\"1993-01-01\",\"1992-01-01\",\"1991-01-01\",\"1990-01-01\",\"1989-01-01\",\"1988-01-01\",\"1987-01-01\",\"1986-01-01\",\"1985-01-01\",\"1984-01-01\",\"1983-01-01\",\"1982-01-01\",\"1981-01-01\",\"1980-01-01\",\"1979-01-01\",\"1978-01-01\",\"1977-01-01\",\"1976-01-01\",\"1975-01-01\",\"1974-01-01\",\"1973-01-01\",\"1972-01-01\",\"1971-01-01\",\"1970-01-01\"],\"xaxis\":\"x\",\"y\":[5404.0,5139.0,5013.0,4905.0,5049.0,5204.0,3703.0,2750.0,2017.0,1267.0,648.0,300.0,149.0,null,null,null,null,null,null,null,null,null,null,null,null,null,null,null,null,null,null,null,null,null,null,null,null,null,null,null,null,null,null,null,null,null,null,null,null,null,null,null],\"yaxis\":\"y\",\"type\":\"scatter\"},{\"hovertemplate\":\"variable=Re. 20 Coins<br>Year=%{x}<br>value=%{y}<extra></extra>\",\"legendgroup\":\"Re. 20 Coins\",\"line\":{\"color\":\"#19d3f3\",\"dash\":\"solid\"},\"marker\":{\"symbol\":\"circle\"},\"mode\":\"lines\",\"name\":\"Re. 20 Coins\",\"orientation\":\"v\",\"showlegend\":true,\"x\":[\"2021-01-01\",\"2020-01-01\",\"2019-01-01\",\"2018-01-01\",\"2017-01-01\",\"2016-01-01\",\"2015-01-01\",\"2014-01-01\",\"2013-01-01\",\"2012-01-01\",\"2011-01-01\",\"2010-01-01\",\"2009-01-01\",\"2008-01-01\",\"2007-01-01\",\"2006-01-01\",\"2005-01-01\",\"2004-01-01\",\"2003-01-01\",\"2002-01-01\",\"2001-01-01\",\"2000-01-01\",\"1999-01-01\",\"1998-01-01\",\"1997-01-01\",\"1996-01-01\",\"1995-01-01\",\"1994-01-01\",\"1993-01-01\",\"1992-01-01\",\"1991-01-01\",\"1990-01-01\",\"1989-01-01\",\"1988-01-01\",\"1987-01-01\",\"1986-01-01\",\"1985-01-01\",\"1984-01-01\",\"1983-01-01\",\"1982-01-01\",\"1981-01-01\",\"1980-01-01\",\"1979-01-01\",\"1978-01-01\",\"1977-01-01\",\"1976-01-01\",\"1975-01-01\",\"1974-01-01\",\"1973-01-01\",\"1972-01-01\",\"1971-01-01\",\"1970-01-01\"],\"xaxis\":\"x\",\"y\":[674.0,179.0,null,null,null,null,null,null,null,null,null,null,null,null,null,null,null,null,null,null,null,null,null,null,null,null,null,null,null,null,null,null,null,null,null,null,null,null,null,null,null,null,null,null,null,null,null,null,null,null,null,null],\"yaxis\":\"y\",\"type\":\"scatter\"}],                        {\"template\":{\"data\":{\"histogram2dcontour\":[{\"type\":\"histogram2dcontour\",\"colorbar\":{\"outlinewidth\":0,\"ticks\":\"\"},\"colorscale\":[[0.0,\"#0d0887\"],[0.1111111111111111,\"#46039f\"],[0.2222222222222222,\"#7201a8\"],[0.3333333333333333,\"#9c179e\"],[0.4444444444444444,\"#bd3786\"],[0.5555555555555556,\"#d8576b\"],[0.6666666666666666,\"#ed7953\"],[0.7777777777777778,\"#fb9f3a\"],[0.8888888888888888,\"#fdca26\"],[1.0,\"#f0f921\"]]}],\"choropleth\":[{\"type\":\"choropleth\",\"colorbar\":{\"outlinewidth\":0,\"ticks\":\"\"}}],\"histogram2d\":[{\"type\":\"histogram2d\",\"colorbar\":{\"outlinewidth\":0,\"ticks\":\"\"},\"colorscale\":[[0.0,\"#0d0887\"],[0.1111111111111111,\"#46039f\"],[0.2222222222222222,\"#7201a8\"],[0.3333333333333333,\"#9c179e\"],[0.4444444444444444,\"#bd3786\"],[0.5555555555555556,\"#d8576b\"],[0.6666666666666666,\"#ed7953\"],[0.7777777777777778,\"#fb9f3a\"],[0.8888888888888888,\"#fdca26\"],[1.0,\"#f0f921\"]]}],\"heatmap\":[{\"type\":\"heatmap\",\"colorbar\":{\"outlinewidth\":0,\"ticks\":\"\"},\"colorscale\":[[0.0,\"#0d0887\"],[0.1111111111111111,\"#46039f\"],[0.2222222222222222,\"#7201a8\"],[0.3333333333333333,\"#9c179e\"],[0.4444444444444444,\"#bd3786\"],[0.5555555555555556,\"#d8576b\"],[0.6666666666666666,\"#ed7953\"],[0.7777777777777778,\"#fb9f3a\"],[0.8888888888888888,\"#fdca26\"],[1.0,\"#f0f921\"]]}],\"heatmapgl\":[{\"type\":\"heatmapgl\",\"colorbar\":{\"outlinewidth\":0,\"ticks\":\"\"},\"colorscale\":[[0.0,\"#0d0887\"],[0.1111111111111111,\"#46039f\"],[0.2222222222222222,\"#7201a8\"],[0.3333333333333333,\"#9c179e\"],[0.4444444444444444,\"#bd3786\"],[0.5555555555555556,\"#d8576b\"],[0.6666666666666666,\"#ed7953\"],[0.7777777777777778,\"#fb9f3a\"],[0.8888888888888888,\"#fdca26\"],[1.0,\"#f0f921\"]]}],\"contourcarpet\":[{\"type\":\"contourcarpet\",\"colorbar\":{\"outlinewidth\":0,\"ticks\":\"\"}}],\"contour\":[{\"type\":\"contour\",\"colorbar\":{\"outlinewidth\":0,\"ticks\":\"\"},\"colorscale\":[[0.0,\"#0d0887\"],[0.1111111111111111,\"#46039f\"],[0.2222222222222222,\"#7201a8\"],[0.3333333333333333,\"#9c179e\"],[0.4444444444444444,\"#bd3786\"],[0.5555555555555556,\"#d8576b\"],[0.6666666666666666,\"#ed7953\"],[0.7777777777777778,\"#fb9f3a\"],[0.8888888888888888,\"#fdca26\"],[1.0,\"#f0f921\"]]}],\"surface\":[{\"type\":\"surface\",\"colorbar\":{\"outlinewidth\":0,\"ticks\":\"\"},\"colorscale\":[[0.0,\"#0d0887\"],[0.1111111111111111,\"#46039f\"],[0.2222222222222222,\"#7201a8\"],[0.3333333333333333,\"#9c179e\"],[0.4444444444444444,\"#bd3786\"],[0.5555555555555556,\"#d8576b\"],[0.6666666666666666,\"#ed7953\"],[0.7777777777777778,\"#fb9f3a\"],[0.8888888888888888,\"#fdca26\"],[1.0,\"#f0f921\"]]}],\"mesh3d\":[{\"type\":\"mesh3d\",\"colorbar\":{\"outlinewidth\":0,\"ticks\":\"\"}}],\"scatter\":[{\"fillpattern\":{\"fillmode\":\"overlay\",\"size\":10,\"solidity\":0.2},\"type\":\"scatter\"}],\"parcoords\":[{\"type\":\"parcoords\",\"line\":{\"colorbar\":{\"outlinewidth\":0,\"ticks\":\"\"}}}],\"scatterpolargl\":[{\"type\":\"scatterpolargl\",\"marker\":{\"colorbar\":{\"outlinewidth\":0,\"ticks\":\"\"}}}],\"bar\":[{\"error_x\":{\"color\":\"#2a3f5f\"},\"error_y\":{\"color\":\"#2a3f5f\"},\"marker\":{\"line\":{\"color\":\"#E5ECF6\",\"width\":0.5},\"pattern\":{\"fillmode\":\"overlay\",\"size\":10,\"solidity\":0.2}},\"type\":\"bar\"}],\"scattergeo\":[{\"type\":\"scattergeo\",\"marker\":{\"colorbar\":{\"outlinewidth\":0,\"ticks\":\"\"}}}],\"scatterpolar\":[{\"type\":\"scatterpolar\",\"marker\":{\"colorbar\":{\"outlinewidth\":0,\"ticks\":\"\"}}}],\"histogram\":[{\"marker\":{\"pattern\":{\"fillmode\":\"overlay\",\"size\":10,\"solidity\":0.2}},\"type\":\"histogram\"}],\"scattergl\":[{\"type\":\"scattergl\",\"marker\":{\"colorbar\":{\"outlinewidth\":0,\"ticks\":\"\"}}}],\"scatter3d\":[{\"type\":\"scatter3d\",\"line\":{\"colorbar\":{\"outlinewidth\":0,\"ticks\":\"\"}},\"marker\":{\"colorbar\":{\"outlinewidth\":0,\"ticks\":\"\"}}}],\"scattermapbox\":[{\"type\":\"scattermapbox\",\"marker\":{\"colorbar\":{\"outlinewidth\":0,\"ticks\":\"\"}}}],\"scatterternary\":[{\"type\":\"scatterternary\",\"marker\":{\"colorbar\":{\"outlinewidth\":0,\"ticks\":\"\"}}}],\"scattercarpet\":[{\"type\":\"scattercarpet\",\"marker\":{\"colorbar\":{\"outlinewidth\":0,\"ticks\":\"\"}}}],\"carpet\":[{\"aaxis\":{\"endlinecolor\":\"#2a3f5f\",\"gridcolor\":\"white\",\"linecolor\":\"white\",\"minorgridcolor\":\"white\",\"startlinecolor\":\"#2a3f5f\"},\"baxis\":{\"endlinecolor\":\"#2a3f5f\",\"gridcolor\":\"white\",\"linecolor\":\"white\",\"minorgridcolor\":\"white\",\"startlinecolor\":\"#2a3f5f\"},\"type\":\"carpet\"}],\"table\":[{\"cells\":{\"fill\":{\"color\":\"#EBF0F8\"},\"line\":{\"color\":\"white\"}},\"header\":{\"fill\":{\"color\":\"#C8D4E3\"},\"line\":{\"color\":\"white\"}},\"type\":\"table\"}],\"barpolar\":[{\"marker\":{\"line\":{\"color\":\"#E5ECF6\",\"width\":0.5},\"pattern\":{\"fillmode\":\"overlay\",\"size\":10,\"solidity\":0.2}},\"type\":\"barpolar\"}],\"pie\":[{\"automargin\":true,\"type\":\"pie\"}]},\"layout\":{\"autotypenumbers\":\"strict\",\"colorway\":[\"#636efa\",\"#EF553B\",\"#00cc96\",\"#ab63fa\",\"#FFA15A\",\"#19d3f3\",\"#FF6692\",\"#B6E880\",\"#FF97FF\",\"#FECB52\"],\"font\":{\"color\":\"#2a3f5f\"},\"hovermode\":\"closest\",\"hoverlabel\":{\"align\":\"left\"},\"paper_bgcolor\":\"white\",\"plot_bgcolor\":\"#E5ECF6\",\"polar\":{\"bgcolor\":\"#E5ECF6\",\"angularaxis\":{\"gridcolor\":\"white\",\"linecolor\":\"white\",\"ticks\":\"\"},\"radialaxis\":{\"gridcolor\":\"white\",\"linecolor\":\"white\",\"ticks\":\"\"}},\"ternary\":{\"bgcolor\":\"#E5ECF6\",\"aaxis\":{\"gridcolor\":\"white\",\"linecolor\":\"white\",\"ticks\":\"\"},\"baxis\":{\"gridcolor\":\"white\",\"linecolor\":\"white\",\"ticks\":\"\"},\"caxis\":{\"gridcolor\":\"white\",\"linecolor\":\"white\",\"ticks\":\"\"}},\"coloraxis\":{\"colorbar\":{\"outlinewidth\":0,\"ticks\":\"\"}},\"colorscale\":{\"sequential\":[[0.0,\"#0d0887\"],[0.1111111111111111,\"#46039f\"],[0.2222222222222222,\"#7201a8\"],[0.3333333333333333,\"#9c179e\"],[0.4444444444444444,\"#bd3786\"],[0.5555555555555556,\"#d8576b\"],[0.6666666666666666,\"#ed7953\"],[0.7777777777777778,\"#fb9f3a\"],[0.8888888888888888,\"#fdca26\"],[1.0,\"#f0f921\"]],\"sequentialminus\":[[0.0,\"#0d0887\"],[0.1111111111111111,\"#46039f\"],[0.2222222222222222,\"#7201a8\"],[0.3333333333333333,\"#9c179e\"],[0.4444444444444444,\"#bd3786\"],[0.5555555555555556,\"#d8576b\"],[0.6666666666666666,\"#ed7953\"],[0.7777777777777778,\"#fb9f3a\"],[0.8888888888888888,\"#fdca26\"],[1.0,\"#f0f921\"]],\"diverging\":[[0,\"#8e0152\"],[0.1,\"#c51b7d\"],[0.2,\"#de77ae\"],[0.3,\"#f1b6da\"],[0.4,\"#fde0ef\"],[0.5,\"#f7f7f7\"],[0.6,\"#e6f5d0\"],[0.7,\"#b8e186\"],[0.8,\"#7fbc41\"],[0.9,\"#4d9221\"],[1,\"#276419\"]]},\"xaxis\":{\"gridcolor\":\"white\",\"linecolor\":\"white\",\"ticks\":\"\",\"title\":{\"standoff\":15},\"zerolinecolor\":\"white\",\"automargin\":true,\"zerolinewidth\":2},\"yaxis\":{\"gridcolor\":\"white\",\"linecolor\":\"white\",\"ticks\":\"\",\"title\":{\"standoff\":15},\"zerolinecolor\":\"white\",\"automargin\":true,\"zerolinewidth\":2},\"scene\":{\"xaxis\":{\"backgroundcolor\":\"#E5ECF6\",\"gridcolor\":\"white\",\"linecolor\":\"white\",\"showbackground\":true,\"ticks\":\"\",\"zerolinecolor\":\"white\",\"gridwidth\":2},\"yaxis\":{\"backgroundcolor\":\"#E5ECF6\",\"gridcolor\":\"white\",\"linecolor\":\"white\",\"showbackground\":true,\"ticks\":\"\",\"zerolinecolor\":\"white\",\"gridwidth\":2},\"zaxis\":{\"backgroundcolor\":\"#E5ECF6\",\"gridcolor\":\"white\",\"linecolor\":\"white\",\"showbackground\":true,\"ticks\":\"\",\"zerolinecolor\":\"white\",\"gridwidth\":2}},\"shapedefaults\":{\"line\":{\"color\":\"#2a3f5f\"}},\"annotationdefaults\":{\"arrowcolor\":\"#2a3f5f\",\"arrowhead\":0,\"arrowwidth\":1},\"geo\":{\"bgcolor\":\"white\",\"landcolor\":\"#E5ECF6\",\"subunitcolor\":\"white\",\"showland\":true,\"showlakes\":true,\"lakecolor\":\"white\"},\"title\":{\"x\":0.05},\"mapbox\":{\"style\":\"light\"}}},\"xaxis\":{\"anchor\":\"y\",\"domain\":[0.0,1.0],\"title\":{\"text\":\"Year\"}},\"yaxis\":{\"anchor\":\"x\",\"domain\":[0.0,1.0],\"title\":{\"text\":\"Coins in Circulation(Rupees Crore)\"}},\"legend\":{\"title\":{\"text\":\"variable\"},\"tracegroupgap\":0},\"title\":{\"text\":\"External Debt\"}},                        {\"responsive\": true}                    ).then(function(){\n",
       "                            \n",
       "var gd = document.getElementById('115e78ec-5f41-495a-aa73-a5c28848e5fc');\n",
       "var x = new MutationObserver(function (mutations, observer) {{\n",
       "        var display = window.getComputedStyle(gd).display;\n",
       "        if (!display || display === 'none') {{\n",
       "            console.log([gd, 'removed!']);\n",
       "            Plotly.purge(gd);\n",
       "            observer.disconnect();\n",
       "        }}\n",
       "}});\n",
       "\n",
       "// Listen for the removal of the full notebook cells\n",
       "var notebookContainer = gd.closest('#notebook-container');\n",
       "if (notebookContainer) {{\n",
       "    x.observe(notebookContainer, {childList: true});\n",
       "}}\n",
       "\n",
       "// Listen for the clearing of the current output cell\n",
       "var outputEl = gd.closest('.output');\n",
       "if (outputEl) {{\n",
       "    x.observe(outputEl, {childList: true});\n",
       "}}\n",
       "\n",
       "                        })                };                });            </script>        </div>"
      ]
     },
     "metadata": {},
     "output_type": "display_data"
    }
   ],
   "source": [
    "notes_coins = pd.read_csv('Final/notes_coins_final.csv')\n",
    "fig = px.line(notes_coins, x='Year', y=[ 'Re. 1 Notes', 'Rs. 2 Notes',\n",
    "       'Rs. 5 Notes', 'Rs. 10 Notes', 'Rs. 20 Notes', 'Rs. 50 Notes',\n",
    "       'Rs. 100 Notes', 'Rs. 200 Notes', 'Rs. 500 Notes', 'Rs. 1000 Notes',\n",
    "       'Rs. 2000 Notes'], title=title)\n",
    "fig.update_layout(xaxis_title='Year', yaxis_title='Notes in Circulation(Rupees Crore)')\n",
    "fig.show()\n",
    "\n",
    "fig = px.line(notes_coins, x='Year', y=['Small Coins', 'Re. 1 Coins', 'Rs. 2 Coins',\n",
    "       'Rs. 5 Coins', 'Rs. 10 Coins', 'Re. 20 Coins',\n",
    "       ], title=title)\n",
    "fig.update_layout(xaxis_title='Year', yaxis_title='Coins in Circulation(Rupees Crore)')\n",
    "fig.show()"
   ]
  },
  {
   "attachments": {},
   "cell_type": "markdown",
   "metadata": {},
   "source": [
    "There is a steep fall in notes in circulation in 2016. This is due to the demonetisation policy implemented by the government. The government demonetised the 500 and 1000 rupee notes. We also see that the notes in circulation of 2000 rupees is decreasing every year by the government. We believe that this is done to stop the black money in the economy, but instead the 500 rupees notes are being circulated more. Due to demonetisation, and other government policies promoting digital payments, we be\n",
    "\n",
    "The digital payments and online transactions should also increase after demonitisation (also government is tring to promote digitim) as people were forced to switch to digital payments and later started prefering it. "
   ]
  },
  {
   "attachments": {},
   "cell_type": "markdown",
   "metadata": {},
   "source": [
    "# Payment Systems"
   ]
  },
  {
   "cell_type": "code",
   "execution_count": 27,
   "metadata": {},
   "outputs": [
    {
     "data": {
      "application/vnd.plotly.v1+json": {
       "config": {
        "plotlyServerURL": "https://plot.ly"
       },
       "data": [
        {
         "marker": {
          "color": "#1f77b4"
         },
         "type": "bar",
         "x": [
          "IMPS Volume(Lakh)",
          "NACH Cr Volume (Lakh)",
          "NEFT Volume (Lakh)",
          "UPI Volume (Lakh)",
          "BHIM Aadhaar Pay Volume (Lakh)",
          "NACH Dr Volume (Lakh)",
          "Credit Cards Volume (Lakh)",
          "Debit Cards Volume (Lakh)",
          "Wallets Volume (Lakh)"
         ],
         "y": [
          2280.75,
          706.05,
          2194.59,
          12187.71,
          6.46,
          522.31,
          1762.12,
          4180.84,
          3354.08
         ]
        }
       ],
       "frames": [
        {
         "data": [
          {
           "marker": {
            "color": "#1f77b4"
           },
           "type": "bar",
           "x": [
            "IMPS Volume(Lakh)",
            "NACH Cr Volume (Lakh)",
            "NEFT Volume (Lakh)",
            "UPI Volume (Lakh)",
            "BHIM Aadhaar Pay Volume (Lakh)",
            "NACH Dr Volume (Lakh)",
            "Credit Cards Volume (Lakh)",
            "Debit Cards Volume (Lakh)",
            "Wallets Volume (Lakh)"
           ],
           "y": [
            2280.75,
            706.05,
            2194.59,
            12187.71,
            6.46,
            522.31,
            1762.12,
            4180.84,
            3354.08
           ]
          }
         ],
         "layout": {
          "font": {
           "size": 14
          },
          "height": 600,
          "margin": {
           "b": 100,
           "pad": 10
          },
          "title": {
           "text": "Payment Volume - November-2019"
          },
          "xaxis": {
           "title": {
            "text": "Payment System"
           }
          },
          "yaxis": {
           "title": {
            "text": "Volume (Lakh)"
           }
          }
         }
        },
        {
         "data": [
          {
           "marker": {
            "color": "#1f77b4"
           },
           "type": "bar",
           "x": [
            "IMPS Volume(Lakh)",
            "NACH Cr Volume (Lakh)",
            "NEFT Volume (Lakh)",
            "UPI Volume (Lakh)",
            "BHIM Aadhaar Pay Volume (Lakh)",
            "NACH Dr Volume (Lakh)",
            "Credit Cards Volume (Lakh)",
            "Debit Cards Volume (Lakh)",
            "Wallets Volume (Lakh)"
           ],
           "y": [
            2564.67,
            659.48,
            2336.88,
            13084.02,
            7.37,
            531.45,
            2036.64,
            4448.75,
            3652.64
           ]
          }
         ],
         "layout": {
          "font": {
           "size": 14
          },
          "height": 600,
          "margin": {
           "b": 100,
           "pad": 10
          },
          "title": {
           "text": "Payment Volume - December-2019"
          },
          "xaxis": {
           "title": {
            "text": "Payment System"
           }
          },
          "yaxis": {
           "title": {
            "text": "Volume (Lakh)"
           }
          }
         }
        },
        {
         "data": [
          {
           "marker": {
            "color": "#1f77b4"
           },
           "type": "bar",
           "x": [
            "IMPS Volume(Lakh)",
            "NACH Cr Volume (Lakh)",
            "NEFT Volume (Lakh)",
            "UPI Volume (Lakh)",
            "BHIM Aadhaar Pay Volume (Lakh)",
            "NACH Dr Volume (Lakh)",
            "Credit Cards Volume (Lakh)",
            "Debit Cards Volume (Lakh)",
            "Wallets Volume (Lakh)"
           ],
           "y": [
            2595.26,
            1407.61,
            2605.55,
            13050.19,
            9.36,
            536.08,
            2017.27,
            4500.85,
            3876.23
           ]
          }
         ],
         "layout": {
          "font": {
           "size": 14
          },
          "height": 600,
          "margin": {
           "b": 100,
           "pad": 10
          },
          "title": {
           "text": "Payment Volume - January-2020"
          },
          "xaxis": {
           "title": {
            "text": "Payment System"
           }
          },
          "yaxis": {
           "title": {
            "text": "Volume (Lakh)"
           }
          }
         }
        },
        {
         "data": [
          {
           "marker": {
            "color": "#1f77b4"
           },
           "type": "bar",
           "x": [
            "IMPS Volume(Lakh)",
            "NACH Cr Volume (Lakh)",
            "NEFT Volume (Lakh)",
            "UPI Volume (Lakh)",
            "BHIM Aadhaar Pay Volume (Lakh)",
            "NACH Dr Volume (Lakh)",
            "Credit Cards Volume (Lakh)",
            "Debit Cards Volume (Lakh)",
            "Wallets Volume (Lakh)"
           ],
           "y": [
            2477.98,
            753.52,
            2483.57,
            13256.93,
            9.67,
            540.99,
            1882.94,
            4245.74,
            3782.82
           ]
          }
         ],
         "layout": {
          "font": {
           "size": 14
          },
          "height": 600,
          "margin": {
           "b": 100,
           "pad": 10
          },
          "title": {
           "text": "Payment Volume - February-2020"
          },
          "xaxis": {
           "title": {
            "text": "Payment System"
           }
          },
          "yaxis": {
           "title": {
            "text": "Volume (Lakh)"
           }
          }
         }
        },
        {
         "data": [
          {
           "marker": {
            "color": "#1f77b4"
           },
           "type": "bar",
           "x": [
            "IMPS Volume(Lakh)",
            "NACH Cr Volume (Lakh)",
            "NEFT Volume (Lakh)",
            "UPI Volume (Lakh)",
            "BHIM Aadhaar Pay Volume (Lakh)",
            "NACH Dr Volume (Lakh)",
            "Credit Cards Volume (Lakh)",
            "Debit Cards Volume (Lakh)",
            "Wallets Volume (Lakh)"
           ],
           "y": [
            2168.23,
            1134.79,
            2623.7,
            12468.45,
            8.88,
            256.21,
            1638.57,
            3608.13,
            3178.6
           ]
          }
         ],
         "layout": {
          "font": {
           "size": 14
          },
          "height": 600,
          "margin": {
           "b": 100,
           "pad": 10
          },
          "title": {
           "text": "Payment Volume - March-2020"
          },
          "xaxis": {
           "title": {
            "text": "Payment System"
           }
          },
          "yaxis": {
           "title": {
            "text": "Volume (Lakh)"
           }
          }
         }
        },
        {
         "data": [
          {
           "marker": {
            "color": "#1f77b4"
           },
           "type": "bar",
           "x": [
            "IMPS Volume(Lakh)",
            "NACH Cr Volume (Lakh)",
            "NEFT Volume (Lakh)",
            "UPI Volume (Lakh)",
            "BHIM Aadhaar Pay Volume (Lakh)",
            "NACH Dr Volume (Lakh)",
            "Credit Cards Volume (Lakh)",
            "Debit Cards Volume (Lakh)",
            "Wallets Volume (Lakh)"
           ],
           "y": [
            1224.75,
            2657.38,
            1759.79,
            9995.74,
            20.66,
            667.06,
            768.53,
            2053.66,
            1841.26
           ]
          }
         ],
         "layout": {
          "font": {
           "size": 14
          },
          "height": 600,
          "margin": {
           "b": 100,
           "pad": 10
          },
          "title": {
           "text": "Payment Volume - April-2020"
          },
          "xaxis": {
           "title": {
            "text": "Payment System"
           }
          },
          "yaxis": {
           "title": {
            "text": "Volume (Lakh)"
           }
          }
         }
        },
        {
         "data": [
          {
           "marker": {
            "color": "#1f77b4"
           },
           "type": "bar",
           "x": [
            "IMPS Volume(Lakh)",
            "NACH Cr Volume (Lakh)",
            "NEFT Volume (Lakh)",
            "UPI Volume (Lakh)",
            "BHIM Aadhaar Pay Volume (Lakh)",
            "NACH Dr Volume (Lakh)",
            "Credit Cards Volume (Lakh)",
            "Debit Cards Volume (Lakh)",
            "Wallets Volume (Lakh)"
           ],
           "y": [
            1666.8,
            995.63,
            1929.39,
            12344.97,
            13.4,
            640.09,
            1028.86,
            2658.82,
            2532.24
           ]
          }
         ],
         "layout": {
          "font": {
           "size": 14
          },
          "height": 600,
          "margin": {
           "b": 100,
           "pad": 10
          },
          "title": {
           "text": "Payment Volume - May-2020"
          },
          "xaxis": {
           "title": {
            "text": "Payment System"
           }
          },
          "yaxis": {
           "title": {
            "text": "Volume (Lakh)"
           }
          }
         }
        },
        {
         "data": [
          {
           "marker": {
            "color": "#1f77b4"
           },
           "type": "bar",
           "x": [
            "IMPS Volume(Lakh)",
            "NACH Cr Volume (Lakh)",
            "NEFT Volume (Lakh)",
            "UPI Volume (Lakh)",
            "BHIM Aadhaar Pay Volume (Lakh)",
            "NACH Dr Volume (Lakh)",
            "Credit Cards Volume (Lakh)",
            "Debit Cards Volume (Lakh)",
            "Wallets Volume (Lakh)"
           ],
           "y": [
            1989.12,
            1337.29,
            2274.01,
            13369.31,
            14.67,
            788.94,
            1248.55,
            3002.34,
            2905.68
           ]
          }
         ],
         "layout": {
          "font": {
           "size": 14
          },
          "height": 600,
          "margin": {
           "b": 100,
           "pad": 10
          },
          "title": {
           "text": "Payment Volume - June-2020"
          },
          "xaxis": {
           "title": {
            "text": "Payment System"
           }
          },
          "yaxis": {
           "title": {
            "text": "Volume (Lakh)"
           }
          }
         }
        },
        {
         "data": [
          {
           "marker": {
            "color": "#1f77b4"
           },
           "type": "bar",
           "x": [
            "IMPS Volume(Lakh)",
            "NACH Cr Volume (Lakh)",
            "NEFT Volume (Lakh)",
            "UPI Volume (Lakh)",
            "BHIM Aadhaar Pay Volume (Lakh)",
            "NACH Dr Volume (Lakh)",
            "Credit Cards Volume (Lakh)",
            "Debit Cards Volume (Lakh)",
            "Wallets Volume (Lakh)"
           ],
           "y": [
            2220.99,
            1053.63,
            2401.03,
            14973.54,
            15.96,
            801.08,
            1319.66,
            3161.93,
            3205.59
           ]
          }
         ],
         "layout": {
          "font": {
           "size": 14
          },
          "height": 600,
          "margin": {
           "b": 100,
           "pad": 10
          },
          "title": {
           "text": "Payment Volume - July-2020"
          },
          "xaxis": {
           "title": {
            "text": "Payment System"
           }
          },
          "yaxis": {
           "title": {
            "text": "Volume (Lakh)"
           }
          }
         }
        },
        {
         "data": [
          {
           "marker": {
            "color": "#1f77b4"
           },
           "type": "bar",
           "x": [
            "IMPS Volume(Lakh)",
            "NACH Cr Volume (Lakh)",
            "NEFT Volume (Lakh)",
            "UPI Volume (Lakh)",
            "BHIM Aadhaar Pay Volume (Lakh)",
            "NACH Dr Volume (Lakh)",
            "Credit Cards Volume (Lakh)",
            "Debit Cards Volume (Lakh)",
            "Wallets Volume (Lakh)"
           ],
           "y": [
            2461.25,
            1775.28,
            2346.09,
            16188.28,
            19.5,
            791.81,
            1425.11,
            3389.42,
            3967.82
           ]
          }
         ],
         "layout": {
          "font": {
           "size": 14
          },
          "height": 600,
          "margin": {
           "b": 100,
           "pad": 10
          },
          "title": {
           "text": "Payment Volume - August-2020"
          },
          "xaxis": {
           "title": {
            "text": "Payment System"
           }
          },
          "yaxis": {
           "title": {
            "text": "Volume (Lakh)"
           }
          }
         }
        },
        {
         "data": [
          {
           "marker": {
            "color": "#1f77b4"
           },
           "type": "bar",
           "x": [
            "IMPS Volume(Lakh)",
            "NACH Cr Volume (Lakh)",
            "NEFT Volume (Lakh)",
            "UPI Volume (Lakh)",
            "BHIM Aadhaar Pay Volume (Lakh)",
            "NACH Dr Volume (Lakh)",
            "Credit Cards Volume (Lakh)",
            "Debit Cards Volume (Lakh)",
            "Wallets Volume (Lakh)"
           ],
           "y": [
            2796.08,
            1179.89,
            2468.27,
            18001.67,
            15.28,
            857.43,
            1486.71,
            3507.81,
            3616.58
           ]
          }
         ],
         "layout": {
          "font": {
           "size": 14
          },
          "height": 600,
          "margin": {
           "b": 100,
           "pad": 10
          },
          "title": {
           "text": "Payment Volume - September-2020"
          },
          "xaxis": {
           "title": {
            "text": "Payment System"
           }
          },
          "yaxis": {
           "title": {
            "text": "Volume (Lakh)"
           }
          }
         }
        },
        {
         "data": [
          {
           "marker": {
            "color": "#1f77b4"
           },
           "type": "bar",
           "x": [
            "IMPS Volume(Lakh)",
            "NACH Cr Volume (Lakh)",
            "NEFT Volume (Lakh)",
            "UPI Volume (Lakh)",
            "BHIM Aadhaar Pay Volume (Lakh)",
            "NACH Dr Volume (Lakh)",
            "Credit Cards Volume (Lakh)",
            "Debit Cards Volume (Lakh)",
            "Wallets Volume (Lakh)"
           ],
           "y": [
            3189.72,
            1015.89,
            2761.65,
            20716.19,
            10.55,
            848.34,
            1718.03,
            3932.66,
            3639.88
           ]
          }
         ],
         "layout": {
          "font": {
           "size": 14
          },
          "height": 600,
          "margin": {
           "b": 100,
           "pad": 10
          },
          "title": {
           "text": "Payment Volume - October-2020"
          },
          "xaxis": {
           "title": {
            "text": "Payment System"
           }
          },
          "yaxis": {
           "title": {
            "text": "Volume (Lakh)"
           }
          }
         }
        },
        {
         "data": [
          {
           "marker": {
            "color": "#1f77b4"
           },
           "type": "bar",
           "x": [
            "IMPS Volume(Lakh)",
            "NACH Cr Volume (Lakh)",
            "NEFT Volume (Lakh)",
            "UPI Volume (Lakh)",
            "BHIM Aadhaar Pay Volume (Lakh)",
            "NACH Dr Volume (Lakh)",
            "Credit Cards Volume (Lakh)",
            "Debit Cards Volume (Lakh)",
            "Wallets Volume (Lakh)"
           ],
           "y": [
            3391.14,
            1114.39,
            2734.1,
            22102.28,
            9.39,
            869.63,
            1662.58,
            3765.75,
            3420.83
           ]
          }
         ],
         "layout": {
          "font": {
           "size": 14
          },
          "height": 600,
          "margin": {
           "b": 100,
           "pad": 10
          },
          "title": {
           "text": "Payment Volume - November-2020"
          },
          "xaxis": {
           "title": {
            "text": "Payment System"
           }
          },
          "yaxis": {
           "title": {
            "text": "Volume (Lakh)"
           }
          }
         }
        },
        {
         "data": [
          {
           "marker": {
            "color": "#1f77b4"
           },
           "type": "bar",
           "x": [
            "IMPS Volume(Lakh)",
            "NACH Cr Volume (Lakh)",
            "NEFT Volume (Lakh)",
            "UPI Volume (Lakh)",
            "BHIM Aadhaar Pay Volume (Lakh)",
            "NACH Dr Volume (Lakh)",
            "Credit Cards Volume (Lakh)",
            "Debit Cards Volume (Lakh)",
            "Wallets Volume (Lakh)"
           ],
           "y": [
            3556.93,
            1741.2,
            3076.15,
            22341.58,
            8.9,
            840.43,
            1737.79,
            3765.09,
            3521.48
           ]
          }
         ],
         "layout": {
          "font": {
           "size": 14
          },
          "height": 600,
          "margin": {
           "b": 100,
           "pad": 10
          },
          "title": {
           "text": "Payment Volume - December-2020"
          },
          "xaxis": {
           "title": {
            "text": "Payment System"
           }
          },
          "yaxis": {
           "title": {
            "text": "Volume (Lakh)"
           }
          }
         }
        },
        {
         "data": [
          {
           "marker": {
            "color": "#1f77b4"
           },
           "type": "bar",
           "x": [
            "IMPS Volume(Lakh)",
            "NACH Cr Volume (Lakh)",
            "NEFT Volume (Lakh)",
            "UPI Volume (Lakh)",
            "BHIM Aadhaar Pay Volume (Lakh)",
            "NACH Dr Volume (Lakh)",
            "Credit Cards Volume (Lakh)",
            "Debit Cards Volume (Lakh)",
            "Wallets Volume (Lakh)"
           ],
           "y": [
            3465.52,
            1115.13,
            2874.93,
            23027.28,
            10.29,
            839.08,
            1744.2,
            3699.54,
            3495.85
           ]
          }
         ],
         "layout": {
          "font": {
           "size": 14
          },
          "height": 600,
          "margin": {
           "b": 100,
           "pad": 10
          },
          "title": {
           "text": "Payment Volume - January-2021"
          },
          "xaxis": {
           "title": {
            "text": "Payment System"
           }
          },
          "yaxis": {
           "title": {
            "text": "Volume (Lakh)"
           }
          }
         }
        },
        {
         "data": [
          {
           "marker": {
            "color": "#1f77b4"
           },
           "type": "bar",
           "x": [
            "IMPS Volume(Lakh)",
            "NACH Cr Volume (Lakh)",
            "NEFT Volume (Lakh)",
            "UPI Volume (Lakh)",
            "BHIM Aadhaar Pay Volume (Lakh)",
            "NACH Dr Volume (Lakh)",
            "Credit Cards Volume (Lakh)",
            "Debit Cards Volume (Lakh)",
            "Wallets Volume (Lakh)"
           ],
           "y": [
            3189.73,
            830.89,
            2821.07,
            22928.94,
            9.33,
            781.43,
            1613.77,
            3445.46,
            3648.84
           ]
          }
         ],
         "layout": {
          "font": {
           "size": 14
          },
          "height": 600,
          "margin": {
           "b": 100,
           "pad": 10
          },
          "title": {
           "text": "Payment Volume - February-2021"
          },
          "xaxis": {
           "title": {
            "text": "Payment System"
           }
          },
          "yaxis": {
           "title": {
            "text": "Volume (Lakh)"
           }
          }
         }
        },
        {
         "data": [
          {
           "marker": {
            "color": "#1f77b4"
           },
           "type": "bar",
           "x": [
            "IMPS Volume(Lakh)",
            "NACH Cr Volume (Lakh)",
            "NEFT Volume (Lakh)",
            "UPI Volume (Lakh)",
            "BHIM Aadhaar Pay Volume (Lakh)",
            "NACH Dr Volume (Lakh)",
            "Credit Cards Volume (Lakh)",
            "Debit Cards Volume (Lakh)",
            "Wallets Volume (Lakh)"
           ],
           "y": [
            3631.44,
            1648.84,
            3481.39,
            27316.85,
            12.92,
            920.42,
            1887.27,
            3763.05,
            4177.79
           ]
          }
         ],
         "layout": {
          "font": {
           "size": 14
          },
          "height": 600,
          "margin": {
           "b": 100,
           "pad": 10
          },
          "title": {
           "text": "Payment Volume - March-2021"
          },
          "xaxis": {
           "title": {
            "text": "Payment System"
           }
          },
          "yaxis": {
           "title": {
            "text": "Volume (Lakh)"
           }
          }
         }
        },
        {
         "data": [
          {
           "marker": {
            "color": "#1f77b4"
           },
           "type": "bar",
           "x": [
            "IMPS Volume(Lakh)",
            "NACH Cr Volume (Lakh)",
            "NEFT Volume (Lakh)",
            "UPI Volume (Lakh)",
            "BHIM Aadhaar Pay Volume (Lakh)",
            "NACH Dr Volume (Lakh)",
            "Credit Cards Volume (Lakh)",
            "Debit Cards Volume (Lakh)",
            "Wallets Volume (Lakh)"
           ],
           "y": [
            3229.68,
            1029.55,
            2862.71,
            26410.61,
            13.88,
            814.04,
            1575.32,
            3213.23,
            3958.67
           ]
          }
         ],
         "layout": {
          "font": {
           "size": 14
          },
          "height": 600,
          "margin": {
           "b": 100,
           "pad": 10
          },
          "title": {
           "text": "Payment Volume - April-2021"
          },
          "xaxis": {
           "title": {
            "text": "Payment System"
           }
          },
          "yaxis": {
           "title": {
            "text": "Volume (Lakh)"
           }
          }
         }
        },
        {
         "data": [
          {
           "marker": {
            "color": "#1f77b4"
           },
           "type": "bar",
           "x": [
            "IMPS Volume(Lakh)",
            "NACH Cr Volume (Lakh)",
            "NEFT Volume (Lakh)",
            "UPI Volume (Lakh)",
            "BHIM Aadhaar Pay Volume (Lakh)",
            "NACH Dr Volume (Lakh)",
            "Credit Cards Volume (Lakh)",
            "Debit Cards Volume (Lakh)",
            "Wallets Volume (Lakh)"
           ],
           "y": [
            2798.61,
            1866.34,
            2565.39,
            25291.82,
            17.29,
            857.3,
            1344.73,
            2556.6,
            3175.54
           ]
          }
         ],
         "layout": {
          "font": {
           "size": 14
          },
          "height": 600,
          "margin": {
           "b": 100,
           "pad": 10
          },
          "title": {
           "text": "Payment Volume - May-2021"
          },
          "xaxis": {
           "title": {
            "text": "Payment System"
           }
          },
          "yaxis": {
           "title": {
            "text": "Volume (Lakh)"
           }
          }
         }
        },
        {
         "data": [
          {
           "marker": {
            "color": "#1f77b4"
           },
           "type": "bar",
           "x": [
            "IMPS Volume(Lakh)",
            "NACH Cr Volume (Lakh)",
            "NEFT Volume (Lakh)",
            "UPI Volume (Lakh)",
            "BHIM Aadhaar Pay Volume (Lakh)",
            "NACH Dr Volume (Lakh)",
            "Credit Cards Volume (Lakh)",
            "Debit Cards Volume (Lakh)",
            "Wallets Volume (Lakh)"
           ],
           "y": [
            3038.45,
            1498.12,
            2923.27,
            28075.16,
            17.66,
            878.73,
            1547.01,
            2946.74,
            3906.02
           ]
          }
         ],
         "layout": {
          "font": {
           "size": 14
          },
          "height": 600,
          "margin": {
           "b": 100,
           "pad": 10
          },
          "title": {
           "text": "Payment Volume - June-2021"
          },
          "xaxis": {
           "title": {
            "text": "Payment System"
           }
          },
          "yaxis": {
           "title": {
            "text": "Volume (Lakh)"
           }
          }
         }
        },
        {
         "data": [
          {
           "marker": {
            "color": "#1f77b4"
           },
           "type": "bar",
           "x": [
            "IMPS Volume(Lakh)",
            "NACH Cr Volume (Lakh)",
            "NEFT Volume (Lakh)",
            "UPI Volume (Lakh)",
            "BHIM Aadhaar Pay Volume (Lakh)",
            "NACH Dr Volume (Lakh)",
            "Credit Cards Volume (Lakh)",
            "Debit Cards Volume (Lakh)",
            "Wallets Volume (Lakh)"
           ],
           "y": [
            3524.64,
            1174.68,
            3170,
            32455.02,
            17.49,
            877.08,
            1820.49,
            3405.37,
            4068.85
           ]
          }
         ],
         "layout": {
          "font": {
           "size": 14
          },
          "height": 600,
          "margin": {
           "b": 100,
           "pad": 10
          },
          "title": {
           "text": "Payment Volume - July-2021"
          },
          "xaxis": {
           "title": {
            "text": "Payment System"
           }
          },
          "yaxis": {
           "title": {
            "text": "Volume (Lakh)"
           }
          }
         }
        },
        {
         "data": [
          {
           "marker": {
            "color": "#1f77b4"
           },
           "type": "bar",
           "x": [
            "IMPS Volume(Lakh)",
            "NACH Cr Volume (Lakh)",
            "NEFT Volume (Lakh)",
            "UPI Volume (Lakh)",
            "BHIM Aadhaar Pay Volume (Lakh)",
            "NACH Dr Volume (Lakh)",
            "Credit Cards Volume (Lakh)",
            "Debit Cards Volume (Lakh)",
            "Wallets Volume (Lakh)"
           ],
           "y": [
            3797.12,
            2075.99,
            3218.73,
            35555.45,
            21.99,
            876.81,
            1904.71,
            3588.29,
            4227.08
           ]
          }
         ],
         "layout": {
          "font": {
           "size": 14
          },
          "height": 600,
          "margin": {
           "b": 100,
           "pad": 10
          },
          "title": {
           "text": "Payment Volume - August-2021"
          },
          "xaxis": {
           "title": {
            "text": "Payment System"
           }
          },
          "yaxis": {
           "title": {
            "text": "Volume (Lakh)"
           }
          }
         }
        },
        {
         "data": [
          {
           "marker": {
            "color": "#1f77b4"
           },
           "type": "bar",
           "x": [
            "IMPS Volume(Lakh)",
            "NACH Cr Volume (Lakh)",
            "NEFT Volume (Lakh)",
            "UPI Volume (Lakh)",
            "BHIM Aadhaar Pay Volume (Lakh)",
            "NACH Dr Volume (Lakh)",
            "Credit Cards Volume (Lakh)",
            "Debit Cards Volume (Lakh)",
            "Wallets Volume (Lakh)"
           ],
           "y": [
            3848.84,
            1171.57,
            3359.54,
            36558.17,
            19.39,
            878.31,
            1847.21,
            3490.29,
            4242.67
           ]
          }
         ],
         "layout": {
          "font": {
           "size": 14
          },
          "height": 600,
          "margin": {
           "b": 100,
           "pad": 10
          },
          "title": {
           "text": "Payment Volume - September-2021"
          },
          "xaxis": {
           "title": {
            "text": "Payment System"
           }
          },
          "yaxis": {
           "title": {
            "text": "Volume (Lakh)"
           }
          }
         }
        },
        {
         "data": [
          {
           "marker": {
            "color": "#1f77b4"
           },
           "type": "bar",
           "x": [
            "IMPS Volume(Lakh)",
            "NACH Cr Volume (Lakh)",
            "NEFT Volume (Lakh)",
            "UPI Volume (Lakh)",
            "BHIM Aadhaar Pay Volume (Lakh)",
            "NACH Dr Volume (Lakh)",
            "Credit Cards Volume (Lakh)",
            "Debit Cards Volume (Lakh)",
            "Wallets Volume (Lakh)"
           ],
           "y": [
            4306.71,
            1660.26,
            3574.46,
            42184.32,
            21.49,
            865.69,
            2155.81,
            3852.95,
            4888.97
           ]
          }
         ],
         "layout": {
          "font": {
           "size": 14
          },
          "height": 600,
          "margin": {
           "b": 100,
           "pad": 10
          },
          "title": {
           "text": "Payment Volume - October-2021"
          },
          "xaxis": {
           "title": {
            "text": "Payment System"
           }
          },
          "yaxis": {
           "title": {
            "text": "Volume (Lakh)"
           }
          }
         }
        },
        {
         "data": [
          {
           "marker": {
            "color": "#1f77b4"
           },
           "type": "bar",
           "x": [
            "IMPS Volume(Lakh)",
            "NACH Cr Volume (Lakh)",
            "NEFT Volume (Lakh)",
            "UPI Volume (Lakh)",
            "BHIM Aadhaar Pay Volume (Lakh)",
            "NACH Dr Volume (Lakh)",
            "Credit Cards Volume (Lakh)",
            "Debit Cards Volume (Lakh)",
            "Wallets Volume (Lakh)"
           ],
           "y": [
            4120.29,
            1382,
            3394,
            41864.8,
            19.78,
            907.32,
            2011.16,
            3407.02,
            4870.19
           ]
          }
         ],
         "layout": {
          "font": {
           "size": 14
          },
          "height": 600,
          "margin": {
           "b": 100,
           "pad": 10
          },
          "title": {
           "text": "Payment Volume - November-2021"
          },
          "xaxis": {
           "title": {
            "text": "Payment System"
           }
          },
          "yaxis": {
           "title": {
            "text": "Volume (Lakh)"
           }
          }
         }
        },
        {
         "data": [
          {
           "marker": {
            "color": "#1f77b4"
           },
           "type": "bar",
           "x": [
            "IMPS Volume(Lakh)",
            "NACH Cr Volume (Lakh)",
            "NEFT Volume (Lakh)",
            "UPI Volume (Lakh)",
            "BHIM Aadhaar Pay Volume (Lakh)",
            "NACH Dr Volume (Lakh)",
            "Credit Cards Volume (Lakh)",
            "Debit Cards Volume (Lakh)",
            "Wallets Volume (Lakh)"
           ],
           "y": [
            4429.86,
            1483.71,
            3763.38,
            45662.99,
            19.59,
            937.92,
            2112.59,
            3499.21,
            5659.18
           ]
          }
         ],
         "layout": {
          "font": {
           "size": 14
          },
          "height": 600,
          "margin": {
           "b": 100,
           "pad": 10
          },
          "title": {
           "text": "Payment Volume - December-2021"
          },
          "xaxis": {
           "title": {
            "text": "Payment System"
           }
          },
          "yaxis": {
           "title": {
            "text": "Volume (Lakh)"
           }
          }
         }
        },
        {
         "data": [
          {
           "marker": {
            "color": "#1f77b4"
           },
           "type": "bar",
           "x": [
            "IMPS Volume(Lakh)",
            "NACH Cr Volume (Lakh)",
            "NEFT Volume (Lakh)",
            "UPI Volume (Lakh)",
            "BHIM Aadhaar Pay Volume (Lakh)",
            "NACH Dr Volume (Lakh)",
            "Credit Cards Volume (Lakh)",
            "Debit Cards Volume (Lakh)",
            "Wallets Volume (Lakh)"
           ],
           "y": [
            4401.73,
            2053.15,
            3629.03,
            46171.56,
            24.47,
            934.07,
            1958.05,
            3193,
            4613.76
           ]
          }
         ],
         "layout": {
          "font": {
           "size": 14
          },
          "height": 600,
          "margin": {
           "b": 100,
           "pad": 10
          },
          "title": {
           "text": "Payment Volume - January-2022"
          },
          "xaxis": {
           "title": {
            "text": "Payment System"
           }
          },
          "yaxis": {
           "title": {
            "text": "Volume (Lakh)"
           }
          }
         }
        },
        {
         "data": [
          {
           "marker": {
            "color": "#1f77b4"
           },
           "type": "bar",
           "x": [
            "IMPS Volume(Lakh)",
            "NACH Cr Volume (Lakh)",
            "NEFT Volume (Lakh)",
            "UPI Volume (Lakh)",
            "BHIM Aadhaar Pay Volume (Lakh)",
            "NACH Dr Volume (Lakh)",
            "Credit Cards Volume (Lakh)",
            "Debit Cards Volume (Lakh)",
            "Wallets Volume (Lakh)"
           ],
           "y": [
            4209.31,
            1536.56,
            3632.58,
            45274.89,
            15.23,
            948.2,
            1884.24,
            2956.23,
            4386.09
           ]
          }
         ],
         "layout": {
          "font": {
           "size": 14
          },
          "height": 600,
          "margin": {
           "b": 100,
           "pad": 10
          },
          "title": {
           "text": "Payment Volume - February-2022"
          },
          "xaxis": {
           "title": {
            "text": "Payment System"
           }
          },
          "yaxis": {
           "title": {
            "text": "Volume (Lakh)"
           }
          }
         }
        },
        {
         "data": [
          {
           "marker": {
            "color": "#1f77b4"
           },
           "type": "bar",
           "x": [
            "IMPS Volume(Lakh)",
            "NACH Cr Volume (Lakh)",
            "NEFT Volume (Lakh)",
            "UPI Volume (Lakh)",
            "BHIM Aadhaar Pay Volume (Lakh)",
            "NACH Dr Volume (Lakh)",
            "Credit Cards Volume (Lakh)",
            "Debit Cards Volume (Lakh)",
            "Wallets Volume (Lakh)"
           ],
           "y": [
            4920.01,
            1825.88,
            4314.2,
            54056.51,
            19.47,
            979.27,
            2237.51,
            3275.19,
            5016.86
           ]
          }
         ],
         "layout": {
          "font": {
           "size": 14
          },
          "height": 600,
          "margin": {
           "b": 100,
           "pad": 10
          },
          "title": {
           "text": "Payment Volume - March-2022"
          },
          "xaxis": {
           "title": {
            "text": "Payment System"
           }
          },
          "yaxis": {
           "title": {
            "text": "Volume (Lakh)"
           }
          }
         }
        },
        {
         "data": [
          {
           "marker": {
            "color": "#1f77b4"
           },
           "type": "bar",
           "x": [
            "IMPS Volume(Lakh)",
            "NACH Cr Volume (Lakh)",
            "NEFT Volume (Lakh)",
            "UPI Volume (Lakh)",
            "BHIM Aadhaar Pay Volume (Lakh)",
            "NACH Dr Volume (Lakh)",
            "Credit Cards Volume (Lakh)",
            "Debit Cards Volume (Lakh)",
            "Wallets Volume (Lakh)"
           ],
           "y": [
            4716.26,
            1329.76,
            3737.59,
            55843.88,
            16.76,
            996.72,
            2229.3,
            3311.87,
            5036.17
           ]
          }
         ],
         "layout": {
          "font": {
           "size": 14
          },
          "height": 600,
          "margin": {
           "b": 100,
           "pad": 10
          },
          "title": {
           "text": "Payment Volume - April-2022"
          },
          "xaxis": {
           "title": {
            "text": "Payment System"
           }
          },
          "yaxis": {
           "title": {
            "text": "Volume (Lakh)"
           }
          }
         }
        },
        {
         "data": [
          {
           "marker": {
            "color": "#1f77b4"
           },
           "type": "bar",
           "x": [
            "IMPS Volume(Lakh)",
            "NACH Cr Volume (Lakh)",
            "NEFT Volume (Lakh)",
            "UPI Volume (Lakh)",
            "BHIM Aadhaar Pay Volume (Lakh)",
            "NACH Dr Volume (Lakh)",
            "Credit Cards Volume (Lakh)",
            "Debit Cards Volume (Lakh)",
            "Wallets Volume (Lakh)"
           ],
           "y": [
            4848.13,
            1794.53,
            3813.34,
            59462.89,
            17.81,
            1018.05,
            2378.03,
            3320.22,
            5198.06
           ]
          }
         ],
         "layout": {
          "font": {
           "size": 14
          },
          "height": 600,
          "margin": {
           "b": 100,
           "pad": 10
          },
          "title": {
           "text": "Payment Volume - May-2022"
          },
          "xaxis": {
           "title": {
            "text": "Payment System"
           }
          },
          "yaxis": {
           "title": {
            "text": "Volume (Lakh)"
           }
          }
         }
        },
        {
         "data": [
          {
           "marker": {
            "color": "#1f77b4"
           },
           "type": "bar",
           "x": [
            "IMPS Volume(Lakh)",
            "NACH Cr Volume (Lakh)",
            "NEFT Volume (Lakh)",
            "UPI Volume (Lakh)",
            "BHIM Aadhaar Pay Volume (Lakh)",
            "NACH Dr Volume (Lakh)",
            "Credit Cards Volume (Lakh)",
            "Debit Cards Volume (Lakh)",
            "Wallets Volume (Lakh)"
           ],
           "y": [
            4557.01,
            1489.99,
            4022.33,
            58629.08,
            39.82,
            1048.14,
            2279.46,
            3096.79,
            4979.19
           ]
          }
         ],
         "layout": {
          "font": {
           "size": 14
          },
          "height": 600,
          "margin": {
           "b": 100,
           "pad": 10
          },
          "title": {
           "text": "Payment Volume - June-2022"
          },
          "xaxis": {
           "title": {
            "text": "Payment System"
           }
          },
          "yaxis": {
           "title": {
            "text": "Volume (Lakh)"
           }
          }
         }
        },
        {
         "data": [
          {
           "marker": {
            "color": "#1f77b4"
           },
           "type": "bar",
           "x": [
            "IMPS Volume(Lakh)",
            "NACH Cr Volume (Lakh)",
            "NEFT Volume (Lakh)",
            "UPI Volume (Lakh)",
            "BHIM Aadhaar Pay Volume (Lakh)",
            "NACH Dr Volume (Lakh)",
            "Credit Cards Volume (Lakh)",
            "Debit Cards Volume (Lakh)",
            "Wallets Volume (Lakh)"
           ],
           "y": [
            4608.3,
            1892.88,
            4018.39,
            62893.4,
            21.26,
            1067.05,
            2348.34,
            3133.47,
            4855.87
           ]
          }
         ],
         "layout": {
          "font": {
           "size": 14
          },
          "height": 600,
          "margin": {
           "b": 100,
           "pad": 10
          },
          "title": {
           "text": "Payment Volume - July-2022"
          },
          "xaxis": {
           "title": {
            "text": "Payment System"
           }
          },
          "yaxis": {
           "title": {
            "text": "Volume (Lakh)"
           }
          }
         }
        },
        {
         "data": [
          {
           "marker": {
            "color": "#1f77b4"
           },
           "type": "bar",
           "x": [
            "IMPS Volume(Lakh)",
            "NACH Cr Volume (Lakh)",
            "NEFT Volume (Lakh)",
            "UPI Volume (Lakh)",
            "BHIM Aadhaar Pay Volume (Lakh)",
            "NACH Dr Volume (Lakh)",
            "Credit Cards Volume (Lakh)",
            "Debit Cards Volume (Lakh)",
            "Wallets Volume (Lakh)"
           ],
           "y": [
            4669.09,
            1940.04,
            4166.76,
            65819.06,
            17.57,
            1097.38,
            2447.83,
            3033.47,
            4877.42
           ]
          }
         ],
         "layout": {
          "font": {
           "size": 14
          },
          "height": 600,
          "margin": {
           "b": 100,
           "pad": 10
          },
          "title": {
           "text": "Payment Volume - August-2022"
          },
          "xaxis": {
           "title": {
            "text": "Payment System"
           }
          },
          "yaxis": {
           "title": {
            "text": "Volume (Lakh)"
           }
          }
         }
        },
        {
         "data": [
          {
           "marker": {
            "color": "#1f77b4"
           },
           "type": "bar",
           "x": [
            "IMPS Volume(Lakh)",
            "NACH Cr Volume (Lakh)",
            "NEFT Volume (Lakh)",
            "UPI Volume (Lakh)",
            "BHIM Aadhaar Pay Volume (Lakh)",
            "NACH Dr Volume (Lakh)",
            "Credit Cards Volume (Lakh)",
            "Debit Cards Volume (Lakh)",
            "Wallets Volume (Lakh)"
           ],
           "y": [
            4622.31,
            1630.85,
            4332.45,
            67808,
            16.35,
            1113.2,
            2453.06,
            2899.38,
            4706.99
           ]
          }
         ],
         "layout": {
          "font": {
           "size": 14
          },
          "height": 600,
          "margin": {
           "b": 100,
           "pad": 10
          },
          "title": {
           "text": "Payment Volume - September-2022"
          },
          "xaxis": {
           "title": {
            "text": "Payment System"
           }
          },
          "yaxis": {
           "title": {
            "text": "Volume (Lakh)"
           }
          }
         }
        },
        {
         "data": [
          {
           "marker": {
            "color": "#1f77b4"
           },
           "type": "bar",
           "x": [
            "IMPS Volume(Lakh)",
            "NACH Cr Volume (Lakh)",
            "NEFT Volume (Lakh)",
            "UPI Volume (Lakh)",
            "BHIM Aadhaar Pay Volume (Lakh)",
            "NACH Dr Volume (Lakh)",
            "Credit Cards Volume (Lakh)",
            "Debit Cards Volume (Lakh)",
            "Wallets Volume (Lakh)"
           ],
           "y": [
            4824.59,
            1454.99,
            4570.48,
            73054.21,
            19.99,
            1139.92,
            2554.02,
            2970.85,
            4877.04
           ]
          }
         ],
         "layout": {
          "font": {
           "size": 14
          },
          "height": 600,
          "margin": {
           "b": 100,
           "pad": 10
          },
          "title": {
           "text": "Payment Volume - October-2022"
          },
          "xaxis": {
           "title": {
            "text": "Payment System"
           }
          },
          "yaxis": {
           "title": {
            "text": "Volume (Lakh)"
           }
          }
         }
        },
        {
         "data": [
          {
           "marker": {
            "color": "#1f77b4"
           },
           "type": "bar",
           "x": [
            "IMPS Volume(Lakh)",
            "NACH Cr Volume (Lakh)",
            "NEFT Volume (Lakh)",
            "UPI Volume (Lakh)",
            "BHIM Aadhaar Pay Volume (Lakh)",
            "NACH Dr Volume (Lakh)",
            "Credit Cards Volume (Lakh)",
            "Debit Cards Volume (Lakh)",
            "Wallets Volume (Lakh)"
           ],
           "y": [
            4634.8,
            1373.88,
            4388.3,
            73094.47,
            14.52,
            1164.17,
            2347.73,
            2608.22,
            4730.07
           ]
          }
         ],
         "layout": {
          "font": {
           "size": 14
          },
          "height": 600,
          "margin": {
           "b": 100,
           "pad": 10
          },
          "title": {
           "text": "Payment Volume - November-2022"
          },
          "xaxis": {
           "title": {
            "text": "Payment System"
           }
          },
          "yaxis": {
           "title": {
            "text": "Volume (Lakh)"
           }
          }
         }
        },
        {
         "data": [
          {
           "marker": {
            "color": "#1f77b4"
           },
           "type": "bar",
           "x": [
            "IMPS Volume(Lakh)",
            "NACH Cr Volume (Lakh)",
            "NEFT Volume (Lakh)",
            "UPI Volume (Lakh)",
            "BHIM Aadhaar Pay Volume (Lakh)",
            "NACH Dr Volume (Lakh)",
            "Credit Cards Volume (Lakh)",
            "Debit Cards Volume (Lakh)",
            "Wallets Volume (Lakh)"
           ],
           "y": [
            4858.37,
            1515.84,
            4854.81,
            78288.95,
            12.71,
            1198.55,
            2556.47,
            2667.1,
            5012.71
           ]
          }
         ],
         "layout": {
          "font": {
           "size": 14
          },
          "height": 600,
          "margin": {
           "b": 100,
           "pad": 10
          },
          "title": {
           "text": "Payment Volume - December-2022"
          },
          "xaxis": {
           "title": {
            "text": "Payment System"
           }
          },
          "yaxis": {
           "title": {
            "text": "Volume (Lakh)"
           }
          }
         }
        },
        {
         "data": [
          {
           "marker": {
            "color": "#1f77b4"
           },
           "type": "bar",
           "x": [
            "IMPS Volume(Lakh)",
            "NACH Cr Volume (Lakh)",
            "NEFT Volume (Lakh)",
            "UPI Volume (Lakh)",
            "BHIM Aadhaar Pay Volume (Lakh)",
            "NACH Dr Volume (Lakh)",
            "Credit Cards Volume (Lakh)",
            "Debit Cards Volume (Lakh)",
            "Wallets Volume (Lakh)"
           ],
           "y": [
            4745.08,
            1354.13,
            4798.31,
            80385.88,
            13.01,
            1202.79,
            2593.52,
            2510.09,
            4873.96
           ]
          }
         ],
         "layout": {
          "font": {
           "size": 14
          },
          "height": 600,
          "margin": {
           "b": 100,
           "pad": 10
          },
          "title": {
           "text": "Payment Volume - January-2023"
          },
          "xaxis": {
           "title": {
            "text": "Payment System"
           }
          },
          "yaxis": {
           "title": {
            "text": "Volume (Lakh)"
           }
          }
         }
        },
        {
         "data": [
          {
           "marker": {
            "color": "#1f77b4"
           },
           "type": "bar",
           "x": [
            "IMPS Volume(Lakh)",
            "NACH Cr Volume (Lakh)",
            "NEFT Volume (Lakh)",
            "UPI Volume (Lakh)",
            "BHIM Aadhaar Pay Volume (Lakh)",
            "NACH Dr Volume (Lakh)",
            "Credit Cards Volume (Lakh)",
            "Debit Cards Volume (Lakh)",
            "Wallets Volume (Lakh)"
           ],
           "y": [
            4478.13,
            1527.38,
            4675.61,
            75347.57,
            11.5,
            1210.19,
            2323.2,
            2265.31,
            4929.04
           ]
          }
         ],
         "layout": {
          "font": {
           "size": 14
          },
          "height": 600,
          "margin": {
           "b": 100,
           "pad": 10
          },
          "title": {
           "text": "Payment Volume - February-2023"
          },
          "xaxis": {
           "title": {
            "text": "Payment System"
           }
          },
          "yaxis": {
           "title": {
            "text": "Volume (Lakh)"
           }
          }
         }
        }
       ],
       "layout": {
        "font": {
         "size": 14
        },
        "height": 600,
        "margin": {
         "b": 100,
         "pad": 10
        },
        "template": {
         "data": {
          "bar": [
           {
            "error_x": {
             "color": "#2a3f5f"
            },
            "error_y": {
             "color": "#2a3f5f"
            },
            "marker": {
             "line": {
              "color": "#E5ECF6",
              "width": 0.5
             },
             "pattern": {
              "fillmode": "overlay",
              "size": 10,
              "solidity": 0.2
             }
            },
            "type": "bar"
           }
          ],
          "barpolar": [
           {
            "marker": {
             "line": {
              "color": "#E5ECF6",
              "width": 0.5
             },
             "pattern": {
              "fillmode": "overlay",
              "size": 10,
              "solidity": 0.2
             }
            },
            "type": "barpolar"
           }
          ],
          "carpet": [
           {
            "aaxis": {
             "endlinecolor": "#2a3f5f",
             "gridcolor": "white",
             "linecolor": "white",
             "minorgridcolor": "white",
             "startlinecolor": "#2a3f5f"
            },
            "baxis": {
             "endlinecolor": "#2a3f5f",
             "gridcolor": "white",
             "linecolor": "white",
             "minorgridcolor": "white",
             "startlinecolor": "#2a3f5f"
            },
            "type": "carpet"
           }
          ],
          "choropleth": [
           {
            "colorbar": {
             "outlinewidth": 0,
             "ticks": ""
            },
            "type": "choropleth"
           }
          ],
          "contour": [
           {
            "colorbar": {
             "outlinewidth": 0,
             "ticks": ""
            },
            "colorscale": [
             [
              0,
              "#0d0887"
             ],
             [
              0.1111111111111111,
              "#46039f"
             ],
             [
              0.2222222222222222,
              "#7201a8"
             ],
             [
              0.3333333333333333,
              "#9c179e"
             ],
             [
              0.4444444444444444,
              "#bd3786"
             ],
             [
              0.5555555555555556,
              "#d8576b"
             ],
             [
              0.6666666666666666,
              "#ed7953"
             ],
             [
              0.7777777777777778,
              "#fb9f3a"
             ],
             [
              0.8888888888888888,
              "#fdca26"
             ],
             [
              1,
              "#f0f921"
             ]
            ],
            "type": "contour"
           }
          ],
          "contourcarpet": [
           {
            "colorbar": {
             "outlinewidth": 0,
             "ticks": ""
            },
            "type": "contourcarpet"
           }
          ],
          "heatmap": [
           {
            "colorbar": {
             "outlinewidth": 0,
             "ticks": ""
            },
            "colorscale": [
             [
              0,
              "#0d0887"
             ],
             [
              0.1111111111111111,
              "#46039f"
             ],
             [
              0.2222222222222222,
              "#7201a8"
             ],
             [
              0.3333333333333333,
              "#9c179e"
             ],
             [
              0.4444444444444444,
              "#bd3786"
             ],
             [
              0.5555555555555556,
              "#d8576b"
             ],
             [
              0.6666666666666666,
              "#ed7953"
             ],
             [
              0.7777777777777778,
              "#fb9f3a"
             ],
             [
              0.8888888888888888,
              "#fdca26"
             ],
             [
              1,
              "#f0f921"
             ]
            ],
            "type": "heatmap"
           }
          ],
          "heatmapgl": [
           {
            "colorbar": {
             "outlinewidth": 0,
             "ticks": ""
            },
            "colorscale": [
             [
              0,
              "#0d0887"
             ],
             [
              0.1111111111111111,
              "#46039f"
             ],
             [
              0.2222222222222222,
              "#7201a8"
             ],
             [
              0.3333333333333333,
              "#9c179e"
             ],
             [
              0.4444444444444444,
              "#bd3786"
             ],
             [
              0.5555555555555556,
              "#d8576b"
             ],
             [
              0.6666666666666666,
              "#ed7953"
             ],
             [
              0.7777777777777778,
              "#fb9f3a"
             ],
             [
              0.8888888888888888,
              "#fdca26"
             ],
             [
              1,
              "#f0f921"
             ]
            ],
            "type": "heatmapgl"
           }
          ],
          "histogram": [
           {
            "marker": {
             "pattern": {
              "fillmode": "overlay",
              "size": 10,
              "solidity": 0.2
             }
            },
            "type": "histogram"
           }
          ],
          "histogram2d": [
           {
            "colorbar": {
             "outlinewidth": 0,
             "ticks": ""
            },
            "colorscale": [
             [
              0,
              "#0d0887"
             ],
             [
              0.1111111111111111,
              "#46039f"
             ],
             [
              0.2222222222222222,
              "#7201a8"
             ],
             [
              0.3333333333333333,
              "#9c179e"
             ],
             [
              0.4444444444444444,
              "#bd3786"
             ],
             [
              0.5555555555555556,
              "#d8576b"
             ],
             [
              0.6666666666666666,
              "#ed7953"
             ],
             [
              0.7777777777777778,
              "#fb9f3a"
             ],
             [
              0.8888888888888888,
              "#fdca26"
             ],
             [
              1,
              "#f0f921"
             ]
            ],
            "type": "histogram2d"
           }
          ],
          "histogram2dcontour": [
           {
            "colorbar": {
             "outlinewidth": 0,
             "ticks": ""
            },
            "colorscale": [
             [
              0,
              "#0d0887"
             ],
             [
              0.1111111111111111,
              "#46039f"
             ],
             [
              0.2222222222222222,
              "#7201a8"
             ],
             [
              0.3333333333333333,
              "#9c179e"
             ],
             [
              0.4444444444444444,
              "#bd3786"
             ],
             [
              0.5555555555555556,
              "#d8576b"
             ],
             [
              0.6666666666666666,
              "#ed7953"
             ],
             [
              0.7777777777777778,
              "#fb9f3a"
             ],
             [
              0.8888888888888888,
              "#fdca26"
             ],
             [
              1,
              "#f0f921"
             ]
            ],
            "type": "histogram2dcontour"
           }
          ],
          "mesh3d": [
           {
            "colorbar": {
             "outlinewidth": 0,
             "ticks": ""
            },
            "type": "mesh3d"
           }
          ],
          "parcoords": [
           {
            "line": {
             "colorbar": {
              "outlinewidth": 0,
              "ticks": ""
             }
            },
            "type": "parcoords"
           }
          ],
          "pie": [
           {
            "automargin": true,
            "type": "pie"
           }
          ],
          "scatter": [
           {
            "fillpattern": {
             "fillmode": "overlay",
             "size": 10,
             "solidity": 0.2
            },
            "type": "scatter"
           }
          ],
          "scatter3d": [
           {
            "line": {
             "colorbar": {
              "outlinewidth": 0,
              "ticks": ""
             }
            },
            "marker": {
             "colorbar": {
              "outlinewidth": 0,
              "ticks": ""
             }
            },
            "type": "scatter3d"
           }
          ],
          "scattercarpet": [
           {
            "marker": {
             "colorbar": {
              "outlinewidth": 0,
              "ticks": ""
             }
            },
            "type": "scattercarpet"
           }
          ],
          "scattergeo": [
           {
            "marker": {
             "colorbar": {
              "outlinewidth": 0,
              "ticks": ""
             }
            },
            "type": "scattergeo"
           }
          ],
          "scattergl": [
           {
            "marker": {
             "colorbar": {
              "outlinewidth": 0,
              "ticks": ""
             }
            },
            "type": "scattergl"
           }
          ],
          "scattermapbox": [
           {
            "marker": {
             "colorbar": {
              "outlinewidth": 0,
              "ticks": ""
             }
            },
            "type": "scattermapbox"
           }
          ],
          "scatterpolar": [
           {
            "marker": {
             "colorbar": {
              "outlinewidth": 0,
              "ticks": ""
             }
            },
            "type": "scatterpolar"
           }
          ],
          "scatterpolargl": [
           {
            "marker": {
             "colorbar": {
              "outlinewidth": 0,
              "ticks": ""
             }
            },
            "type": "scatterpolargl"
           }
          ],
          "scatterternary": [
           {
            "marker": {
             "colorbar": {
              "outlinewidth": 0,
              "ticks": ""
             }
            },
            "type": "scatterternary"
           }
          ],
          "surface": [
           {
            "colorbar": {
             "outlinewidth": 0,
             "ticks": ""
            },
            "colorscale": [
             [
              0,
              "#0d0887"
             ],
             [
              0.1111111111111111,
              "#46039f"
             ],
             [
              0.2222222222222222,
              "#7201a8"
             ],
             [
              0.3333333333333333,
              "#9c179e"
             ],
             [
              0.4444444444444444,
              "#bd3786"
             ],
             [
              0.5555555555555556,
              "#d8576b"
             ],
             [
              0.6666666666666666,
              "#ed7953"
             ],
             [
              0.7777777777777778,
              "#fb9f3a"
             ],
             [
              0.8888888888888888,
              "#fdca26"
             ],
             [
              1,
              "#f0f921"
             ]
            ],
            "type": "surface"
           }
          ],
          "table": [
           {
            "cells": {
             "fill": {
              "color": "#EBF0F8"
             },
             "line": {
              "color": "white"
             }
            },
            "header": {
             "fill": {
              "color": "#C8D4E3"
             },
             "line": {
              "color": "white"
             }
            },
            "type": "table"
           }
          ]
         },
         "layout": {
          "annotationdefaults": {
           "arrowcolor": "#2a3f5f",
           "arrowhead": 0,
           "arrowwidth": 1
          },
          "autotypenumbers": "strict",
          "coloraxis": {
           "colorbar": {
            "outlinewidth": 0,
            "ticks": ""
           }
          },
          "colorscale": {
           "diverging": [
            [
             0,
             "#8e0152"
            ],
            [
             0.1,
             "#c51b7d"
            ],
            [
             0.2,
             "#de77ae"
            ],
            [
             0.3,
             "#f1b6da"
            ],
            [
             0.4,
             "#fde0ef"
            ],
            [
             0.5,
             "#f7f7f7"
            ],
            [
             0.6,
             "#e6f5d0"
            ],
            [
             0.7,
             "#b8e186"
            ],
            [
             0.8,
             "#7fbc41"
            ],
            [
             0.9,
             "#4d9221"
            ],
            [
             1,
             "#276419"
            ]
           ],
           "sequential": [
            [
             0,
             "#0d0887"
            ],
            [
             0.1111111111111111,
             "#46039f"
            ],
            [
             0.2222222222222222,
             "#7201a8"
            ],
            [
             0.3333333333333333,
             "#9c179e"
            ],
            [
             0.4444444444444444,
             "#bd3786"
            ],
            [
             0.5555555555555556,
             "#d8576b"
            ],
            [
             0.6666666666666666,
             "#ed7953"
            ],
            [
             0.7777777777777778,
             "#fb9f3a"
            ],
            [
             0.8888888888888888,
             "#fdca26"
            ],
            [
             1,
             "#f0f921"
            ]
           ],
           "sequentialminus": [
            [
             0,
             "#0d0887"
            ],
            [
             0.1111111111111111,
             "#46039f"
            ],
            [
             0.2222222222222222,
             "#7201a8"
            ],
            [
             0.3333333333333333,
             "#9c179e"
            ],
            [
             0.4444444444444444,
             "#bd3786"
            ],
            [
             0.5555555555555556,
             "#d8576b"
            ],
            [
             0.6666666666666666,
             "#ed7953"
            ],
            [
             0.7777777777777778,
             "#fb9f3a"
            ],
            [
             0.8888888888888888,
             "#fdca26"
            ],
            [
             1,
             "#f0f921"
            ]
           ]
          },
          "colorway": [
           "#636efa",
           "#EF553B",
           "#00cc96",
           "#ab63fa",
           "#FFA15A",
           "#19d3f3",
           "#FF6692",
           "#B6E880",
           "#FF97FF",
           "#FECB52"
          ],
          "font": {
           "color": "#2a3f5f"
          },
          "geo": {
           "bgcolor": "white",
           "lakecolor": "white",
           "landcolor": "#E5ECF6",
           "showlakes": true,
           "showland": true,
           "subunitcolor": "white"
          },
          "hoverlabel": {
           "align": "left"
          },
          "hovermode": "closest",
          "mapbox": {
           "style": "light"
          },
          "paper_bgcolor": "white",
          "plot_bgcolor": "#E5ECF6",
          "polar": {
           "angularaxis": {
            "gridcolor": "white",
            "linecolor": "white",
            "ticks": ""
           },
           "bgcolor": "#E5ECF6",
           "radialaxis": {
            "gridcolor": "white",
            "linecolor": "white",
            "ticks": ""
           }
          },
          "scene": {
           "xaxis": {
            "backgroundcolor": "#E5ECF6",
            "gridcolor": "white",
            "gridwidth": 2,
            "linecolor": "white",
            "showbackground": true,
            "ticks": "",
            "zerolinecolor": "white"
           },
           "yaxis": {
            "backgroundcolor": "#E5ECF6",
            "gridcolor": "white",
            "gridwidth": 2,
            "linecolor": "white",
            "showbackground": true,
            "ticks": "",
            "zerolinecolor": "white"
           },
           "zaxis": {
            "backgroundcolor": "#E5ECF6",
            "gridcolor": "white",
            "gridwidth": 2,
            "linecolor": "white",
            "showbackground": true,
            "ticks": "",
            "zerolinecolor": "white"
           }
          },
          "shapedefaults": {
           "line": {
            "color": "#2a3f5f"
           }
          },
          "ternary": {
           "aaxis": {
            "gridcolor": "white",
            "linecolor": "white",
            "ticks": ""
           },
           "baxis": {
            "gridcolor": "white",
            "linecolor": "white",
            "ticks": ""
           },
           "bgcolor": "#E5ECF6",
           "caxis": {
            "gridcolor": "white",
            "linecolor": "white",
            "ticks": ""
           }
          },
          "title": {
           "x": 0.05
          },
          "xaxis": {
           "automargin": true,
           "gridcolor": "white",
           "linecolor": "white",
           "ticks": "",
           "title": {
            "standoff": 15
           },
           "zerolinecolor": "white",
           "zerolinewidth": 2
          },
          "yaxis": {
           "automargin": true,
           "gridcolor": "white",
           "linecolor": "white",
           "ticks": "",
           "title": {
            "standoff": 15
           },
           "zerolinecolor": "white",
           "zerolinewidth": 2
          }
         }
        },
        "title": {
         "text": "Payment Volume - November-2019"
        },
        "updatemenus": [
         {
          "buttons": [
           {
            "args": [
             null,
             {
              "frame": {
               "duration": 200,
               "redraw": true
              },
              "fromcurrent": true
             }
            ],
            "label": "Play",
            "method": "animate"
           }
          ],
          "showactive": false,
          "type": "buttons"
         }
        ],
        "xaxis": {
         "anchor": "y",
         "domain": [
          0,
          1
         ],
         "title": {
          "text": "Payment System"
         }
        },
        "yaxis": {
         "anchor": "x",
         "domain": [
          0,
          1
         ],
         "range": [
          0,
          80000
         ],
         "title": {
          "text": "Volume (Lakh)"
         }
        }
       }
      },
      "text/html": [
       "<div>                            <div id=\"316d0765-e539-4901-bdf0-04d129947765\" class=\"plotly-graph-div\" style=\"height:600px; width:100%;\"></div>            <script type=\"text/javascript\">                require([\"plotly\"], function(Plotly) {                    window.PLOTLYENV=window.PLOTLYENV || {};                                    if (document.getElementById(\"316d0765-e539-4901-bdf0-04d129947765\")) {                    Plotly.newPlot(                        \"316d0765-e539-4901-bdf0-04d129947765\",                        [{\"marker\":{\"color\":\"#1f77b4\"},\"x\":[\"IMPS Volume(Lakh)\",\"NACH Cr Volume (Lakh)\",\"NEFT Volume (Lakh)\",\"UPI Volume (Lakh)\",\"BHIM Aadhaar Pay Volume (Lakh)\",\"NACH Dr Volume (Lakh)\",\"Credit Cards Volume (Lakh)\",\"Debit Cards Volume (Lakh)\",\"Wallets Volume (Lakh)\"],\"y\":[2280.75,706.05,2194.59,12187.71,6.46,522.31,1762.12,4180.84,3354.08],\"type\":\"bar\"}],                        {\"template\":{\"data\":{\"histogram2dcontour\":[{\"type\":\"histogram2dcontour\",\"colorbar\":{\"outlinewidth\":0,\"ticks\":\"\"},\"colorscale\":[[0.0,\"#0d0887\"],[0.1111111111111111,\"#46039f\"],[0.2222222222222222,\"#7201a8\"],[0.3333333333333333,\"#9c179e\"],[0.4444444444444444,\"#bd3786\"],[0.5555555555555556,\"#d8576b\"],[0.6666666666666666,\"#ed7953\"],[0.7777777777777778,\"#fb9f3a\"],[0.8888888888888888,\"#fdca26\"],[1.0,\"#f0f921\"]]}],\"choropleth\":[{\"type\":\"choropleth\",\"colorbar\":{\"outlinewidth\":0,\"ticks\":\"\"}}],\"histogram2d\":[{\"type\":\"histogram2d\",\"colorbar\":{\"outlinewidth\":0,\"ticks\":\"\"},\"colorscale\":[[0.0,\"#0d0887\"],[0.1111111111111111,\"#46039f\"],[0.2222222222222222,\"#7201a8\"],[0.3333333333333333,\"#9c179e\"],[0.4444444444444444,\"#bd3786\"],[0.5555555555555556,\"#d8576b\"],[0.6666666666666666,\"#ed7953\"],[0.7777777777777778,\"#fb9f3a\"],[0.8888888888888888,\"#fdca26\"],[1.0,\"#f0f921\"]]}],\"heatmap\":[{\"type\":\"heatmap\",\"colorbar\":{\"outlinewidth\":0,\"ticks\":\"\"},\"colorscale\":[[0.0,\"#0d0887\"],[0.1111111111111111,\"#46039f\"],[0.2222222222222222,\"#7201a8\"],[0.3333333333333333,\"#9c179e\"],[0.4444444444444444,\"#bd3786\"],[0.5555555555555556,\"#d8576b\"],[0.6666666666666666,\"#ed7953\"],[0.7777777777777778,\"#fb9f3a\"],[0.8888888888888888,\"#fdca26\"],[1.0,\"#f0f921\"]]}],\"heatmapgl\":[{\"type\":\"heatmapgl\",\"colorbar\":{\"outlinewidth\":0,\"ticks\":\"\"},\"colorscale\":[[0.0,\"#0d0887\"],[0.1111111111111111,\"#46039f\"],[0.2222222222222222,\"#7201a8\"],[0.3333333333333333,\"#9c179e\"],[0.4444444444444444,\"#bd3786\"],[0.5555555555555556,\"#d8576b\"],[0.6666666666666666,\"#ed7953\"],[0.7777777777777778,\"#fb9f3a\"],[0.8888888888888888,\"#fdca26\"],[1.0,\"#f0f921\"]]}],\"contourcarpet\":[{\"type\":\"contourcarpet\",\"colorbar\":{\"outlinewidth\":0,\"ticks\":\"\"}}],\"contour\":[{\"type\":\"contour\",\"colorbar\":{\"outlinewidth\":0,\"ticks\":\"\"},\"colorscale\":[[0.0,\"#0d0887\"],[0.1111111111111111,\"#46039f\"],[0.2222222222222222,\"#7201a8\"],[0.3333333333333333,\"#9c179e\"],[0.4444444444444444,\"#bd3786\"],[0.5555555555555556,\"#d8576b\"],[0.6666666666666666,\"#ed7953\"],[0.7777777777777778,\"#fb9f3a\"],[0.8888888888888888,\"#fdca26\"],[1.0,\"#f0f921\"]]}],\"surface\":[{\"type\":\"surface\",\"colorbar\":{\"outlinewidth\":0,\"ticks\":\"\"},\"colorscale\":[[0.0,\"#0d0887\"],[0.1111111111111111,\"#46039f\"],[0.2222222222222222,\"#7201a8\"],[0.3333333333333333,\"#9c179e\"],[0.4444444444444444,\"#bd3786\"],[0.5555555555555556,\"#d8576b\"],[0.6666666666666666,\"#ed7953\"],[0.7777777777777778,\"#fb9f3a\"],[0.8888888888888888,\"#fdca26\"],[1.0,\"#f0f921\"]]}],\"mesh3d\":[{\"type\":\"mesh3d\",\"colorbar\":{\"outlinewidth\":0,\"ticks\":\"\"}}],\"scatter\":[{\"fillpattern\":{\"fillmode\":\"overlay\",\"size\":10,\"solidity\":0.2},\"type\":\"scatter\"}],\"parcoords\":[{\"type\":\"parcoords\",\"line\":{\"colorbar\":{\"outlinewidth\":0,\"ticks\":\"\"}}}],\"scatterpolargl\":[{\"type\":\"scatterpolargl\",\"marker\":{\"colorbar\":{\"outlinewidth\":0,\"ticks\":\"\"}}}],\"bar\":[{\"error_x\":{\"color\":\"#2a3f5f\"},\"error_y\":{\"color\":\"#2a3f5f\"},\"marker\":{\"line\":{\"color\":\"#E5ECF6\",\"width\":0.5},\"pattern\":{\"fillmode\":\"overlay\",\"size\":10,\"solidity\":0.2}},\"type\":\"bar\"}],\"scattergeo\":[{\"type\":\"scattergeo\",\"marker\":{\"colorbar\":{\"outlinewidth\":0,\"ticks\":\"\"}}}],\"scatterpolar\":[{\"type\":\"scatterpolar\",\"marker\":{\"colorbar\":{\"outlinewidth\":0,\"ticks\":\"\"}}}],\"histogram\":[{\"marker\":{\"pattern\":{\"fillmode\":\"overlay\",\"size\":10,\"solidity\":0.2}},\"type\":\"histogram\"}],\"scattergl\":[{\"type\":\"scattergl\",\"marker\":{\"colorbar\":{\"outlinewidth\":0,\"ticks\":\"\"}}}],\"scatter3d\":[{\"type\":\"scatter3d\",\"line\":{\"colorbar\":{\"outlinewidth\":0,\"ticks\":\"\"}},\"marker\":{\"colorbar\":{\"outlinewidth\":0,\"ticks\":\"\"}}}],\"scattermapbox\":[{\"type\":\"scattermapbox\",\"marker\":{\"colorbar\":{\"outlinewidth\":0,\"ticks\":\"\"}}}],\"scatterternary\":[{\"type\":\"scatterternary\",\"marker\":{\"colorbar\":{\"outlinewidth\":0,\"ticks\":\"\"}}}],\"scattercarpet\":[{\"type\":\"scattercarpet\",\"marker\":{\"colorbar\":{\"outlinewidth\":0,\"ticks\":\"\"}}}],\"carpet\":[{\"aaxis\":{\"endlinecolor\":\"#2a3f5f\",\"gridcolor\":\"white\",\"linecolor\":\"white\",\"minorgridcolor\":\"white\",\"startlinecolor\":\"#2a3f5f\"},\"baxis\":{\"endlinecolor\":\"#2a3f5f\",\"gridcolor\":\"white\",\"linecolor\":\"white\",\"minorgridcolor\":\"white\",\"startlinecolor\":\"#2a3f5f\"},\"type\":\"carpet\"}],\"table\":[{\"cells\":{\"fill\":{\"color\":\"#EBF0F8\"},\"line\":{\"color\":\"white\"}},\"header\":{\"fill\":{\"color\":\"#C8D4E3\"},\"line\":{\"color\":\"white\"}},\"type\":\"table\"}],\"barpolar\":[{\"marker\":{\"line\":{\"color\":\"#E5ECF6\",\"width\":0.5},\"pattern\":{\"fillmode\":\"overlay\",\"size\":10,\"solidity\":0.2}},\"type\":\"barpolar\"}],\"pie\":[{\"automargin\":true,\"type\":\"pie\"}]},\"layout\":{\"autotypenumbers\":\"strict\",\"colorway\":[\"#636efa\",\"#EF553B\",\"#00cc96\",\"#ab63fa\",\"#FFA15A\",\"#19d3f3\",\"#FF6692\",\"#B6E880\",\"#FF97FF\",\"#FECB52\"],\"font\":{\"color\":\"#2a3f5f\"},\"hovermode\":\"closest\",\"hoverlabel\":{\"align\":\"left\"},\"paper_bgcolor\":\"white\",\"plot_bgcolor\":\"#E5ECF6\",\"polar\":{\"bgcolor\":\"#E5ECF6\",\"angularaxis\":{\"gridcolor\":\"white\",\"linecolor\":\"white\",\"ticks\":\"\"},\"radialaxis\":{\"gridcolor\":\"white\",\"linecolor\":\"white\",\"ticks\":\"\"}},\"ternary\":{\"bgcolor\":\"#E5ECF6\",\"aaxis\":{\"gridcolor\":\"white\",\"linecolor\":\"white\",\"ticks\":\"\"},\"baxis\":{\"gridcolor\":\"white\",\"linecolor\":\"white\",\"ticks\":\"\"},\"caxis\":{\"gridcolor\":\"white\",\"linecolor\":\"white\",\"ticks\":\"\"}},\"coloraxis\":{\"colorbar\":{\"outlinewidth\":0,\"ticks\":\"\"}},\"colorscale\":{\"sequential\":[[0.0,\"#0d0887\"],[0.1111111111111111,\"#46039f\"],[0.2222222222222222,\"#7201a8\"],[0.3333333333333333,\"#9c179e\"],[0.4444444444444444,\"#bd3786\"],[0.5555555555555556,\"#d8576b\"],[0.6666666666666666,\"#ed7953\"],[0.7777777777777778,\"#fb9f3a\"],[0.8888888888888888,\"#fdca26\"],[1.0,\"#f0f921\"]],\"sequentialminus\":[[0.0,\"#0d0887\"],[0.1111111111111111,\"#46039f\"],[0.2222222222222222,\"#7201a8\"],[0.3333333333333333,\"#9c179e\"],[0.4444444444444444,\"#bd3786\"],[0.5555555555555556,\"#d8576b\"],[0.6666666666666666,\"#ed7953\"],[0.7777777777777778,\"#fb9f3a\"],[0.8888888888888888,\"#fdca26\"],[1.0,\"#f0f921\"]],\"diverging\":[[0,\"#8e0152\"],[0.1,\"#c51b7d\"],[0.2,\"#de77ae\"],[0.3,\"#f1b6da\"],[0.4,\"#fde0ef\"],[0.5,\"#f7f7f7\"],[0.6,\"#e6f5d0\"],[0.7,\"#b8e186\"],[0.8,\"#7fbc41\"],[0.9,\"#4d9221\"],[1,\"#276419\"]]},\"xaxis\":{\"gridcolor\":\"white\",\"linecolor\":\"white\",\"ticks\":\"\",\"title\":{\"standoff\":15},\"zerolinecolor\":\"white\",\"automargin\":true,\"zerolinewidth\":2},\"yaxis\":{\"gridcolor\":\"white\",\"linecolor\":\"white\",\"ticks\":\"\",\"title\":{\"standoff\":15},\"zerolinecolor\":\"white\",\"automargin\":true,\"zerolinewidth\":2},\"scene\":{\"xaxis\":{\"backgroundcolor\":\"#E5ECF6\",\"gridcolor\":\"white\",\"linecolor\":\"white\",\"showbackground\":true,\"ticks\":\"\",\"zerolinecolor\":\"white\",\"gridwidth\":2},\"yaxis\":{\"backgroundcolor\":\"#E5ECF6\",\"gridcolor\":\"white\",\"linecolor\":\"white\",\"showbackground\":true,\"ticks\":\"\",\"zerolinecolor\":\"white\",\"gridwidth\":2},\"zaxis\":{\"backgroundcolor\":\"#E5ECF6\",\"gridcolor\":\"white\",\"linecolor\":\"white\",\"showbackground\":true,\"ticks\":\"\",\"zerolinecolor\":\"white\",\"gridwidth\":2}},\"shapedefaults\":{\"line\":{\"color\":\"#2a3f5f\"}},\"annotationdefaults\":{\"arrowcolor\":\"#2a3f5f\",\"arrowhead\":0,\"arrowwidth\":1},\"geo\":{\"bgcolor\":\"white\",\"landcolor\":\"#E5ECF6\",\"subunitcolor\":\"white\",\"showland\":true,\"showlakes\":true,\"lakecolor\":\"white\"},\"title\":{\"x\":0.05},\"mapbox\":{\"style\":\"light\"}}},\"xaxis\":{\"anchor\":\"y\",\"domain\":[0.0,1.0],\"title\":{\"text\":\"Payment System\"}},\"yaxis\":{\"anchor\":\"x\",\"domain\":[0.0,1.0],\"range\":[0,80000],\"title\":{\"text\":\"Volume (Lakh)\"}},\"updatemenus\":[{\"buttons\":[{\"args\":[null,{\"frame\":{\"duration\":200,\"redraw\":true},\"fromcurrent\":true}],\"label\":\"Play\",\"method\":\"animate\"}],\"showactive\":false,\"type\":\"buttons\"}],\"font\":{\"size\":14},\"margin\":{\"pad\":10,\"b\":100},\"title\":{\"text\":\"Payment Volume - November-2019\"},\"height\":600},                        {\"responsive\": true}                    ).then(function(){\n",
       "                            Plotly.addFrames('316d0765-e539-4901-bdf0-04d129947765', [{\"data\":[{\"marker\":{\"color\":\"#1f77b4\"},\"x\":[\"IMPS Volume(Lakh)\",\"NACH Cr Volume (Lakh)\",\"NEFT Volume (Lakh)\",\"UPI Volume (Lakh)\",\"BHIM Aadhaar Pay Volume (Lakh)\",\"NACH Dr Volume (Lakh)\",\"Credit Cards Volume (Lakh)\",\"Debit Cards Volume (Lakh)\",\"Wallets Volume (Lakh)\"],\"y\":[2280.75,706.05,2194.59,12187.71,6.46,522.31,1762.12,4180.84,3354.08],\"type\":\"bar\"}],\"layout\":{\"font\":{\"size\":14},\"height\":600,\"margin\":{\"b\":100,\"pad\":10},\"title\":{\"text\":\"Payment Volume - November-2019\"},\"xaxis\":{\"title\":{\"text\":\"Payment System\"}},\"yaxis\":{\"title\":{\"text\":\"Volume (Lakh)\"}}}},{\"data\":[{\"marker\":{\"color\":\"#1f77b4\"},\"x\":[\"IMPS Volume(Lakh)\",\"NACH Cr Volume (Lakh)\",\"NEFT Volume (Lakh)\",\"UPI Volume (Lakh)\",\"BHIM Aadhaar Pay Volume (Lakh)\",\"NACH Dr Volume (Lakh)\",\"Credit Cards Volume (Lakh)\",\"Debit Cards Volume (Lakh)\",\"Wallets Volume (Lakh)\"],\"y\":[2564.67,659.48,2336.88,13084.02,7.37,531.45,2036.64,4448.75,3652.64],\"type\":\"bar\"}],\"layout\":{\"font\":{\"size\":14},\"height\":600,\"margin\":{\"b\":100,\"pad\":10},\"title\":{\"text\":\"Payment Volume - December-2019\"},\"xaxis\":{\"title\":{\"text\":\"Payment System\"}},\"yaxis\":{\"title\":{\"text\":\"Volume (Lakh)\"}}}},{\"data\":[{\"marker\":{\"color\":\"#1f77b4\"},\"x\":[\"IMPS Volume(Lakh)\",\"NACH Cr Volume (Lakh)\",\"NEFT Volume (Lakh)\",\"UPI Volume (Lakh)\",\"BHIM Aadhaar Pay Volume (Lakh)\",\"NACH Dr Volume (Lakh)\",\"Credit Cards Volume (Lakh)\",\"Debit Cards Volume (Lakh)\",\"Wallets Volume (Lakh)\"],\"y\":[2595.26,1407.61,2605.55,13050.19,9.36,536.08,2017.27,4500.85,3876.23],\"type\":\"bar\"}],\"layout\":{\"font\":{\"size\":14},\"height\":600,\"margin\":{\"b\":100,\"pad\":10},\"title\":{\"text\":\"Payment Volume - January-2020\"},\"xaxis\":{\"title\":{\"text\":\"Payment System\"}},\"yaxis\":{\"title\":{\"text\":\"Volume (Lakh)\"}}}},{\"data\":[{\"marker\":{\"color\":\"#1f77b4\"},\"x\":[\"IMPS Volume(Lakh)\",\"NACH Cr Volume (Lakh)\",\"NEFT Volume (Lakh)\",\"UPI Volume (Lakh)\",\"BHIM Aadhaar Pay Volume (Lakh)\",\"NACH Dr Volume (Lakh)\",\"Credit Cards Volume (Lakh)\",\"Debit Cards Volume (Lakh)\",\"Wallets Volume (Lakh)\"],\"y\":[2477.98,753.52,2483.57,13256.93,9.67,540.99,1882.94,4245.74,3782.82],\"type\":\"bar\"}],\"layout\":{\"font\":{\"size\":14},\"height\":600,\"margin\":{\"b\":100,\"pad\":10},\"title\":{\"text\":\"Payment Volume - February-2020\"},\"xaxis\":{\"title\":{\"text\":\"Payment System\"}},\"yaxis\":{\"title\":{\"text\":\"Volume (Lakh)\"}}}},{\"data\":[{\"marker\":{\"color\":\"#1f77b4\"},\"x\":[\"IMPS Volume(Lakh)\",\"NACH Cr Volume (Lakh)\",\"NEFT Volume (Lakh)\",\"UPI Volume (Lakh)\",\"BHIM Aadhaar Pay Volume (Lakh)\",\"NACH Dr Volume (Lakh)\",\"Credit Cards Volume (Lakh)\",\"Debit Cards Volume (Lakh)\",\"Wallets Volume (Lakh)\"],\"y\":[2168.23,1134.79,2623.7,12468.45,8.88,256.21,1638.57,3608.13,3178.6],\"type\":\"bar\"}],\"layout\":{\"font\":{\"size\":14},\"height\":600,\"margin\":{\"b\":100,\"pad\":10},\"title\":{\"text\":\"Payment Volume - March-2020\"},\"xaxis\":{\"title\":{\"text\":\"Payment System\"}},\"yaxis\":{\"title\":{\"text\":\"Volume (Lakh)\"}}}},{\"data\":[{\"marker\":{\"color\":\"#1f77b4\"},\"x\":[\"IMPS Volume(Lakh)\",\"NACH Cr Volume (Lakh)\",\"NEFT Volume (Lakh)\",\"UPI Volume (Lakh)\",\"BHIM Aadhaar Pay Volume (Lakh)\",\"NACH Dr Volume (Lakh)\",\"Credit Cards Volume (Lakh)\",\"Debit Cards Volume (Lakh)\",\"Wallets Volume (Lakh)\"],\"y\":[1224.75,2657.38,1759.79,9995.74,20.66,667.06,768.53,2053.66,1841.26],\"type\":\"bar\"}],\"layout\":{\"font\":{\"size\":14},\"height\":600,\"margin\":{\"b\":100,\"pad\":10},\"title\":{\"text\":\"Payment Volume - April-2020\"},\"xaxis\":{\"title\":{\"text\":\"Payment System\"}},\"yaxis\":{\"title\":{\"text\":\"Volume (Lakh)\"}}}},{\"data\":[{\"marker\":{\"color\":\"#1f77b4\"},\"x\":[\"IMPS Volume(Lakh)\",\"NACH Cr Volume (Lakh)\",\"NEFT Volume (Lakh)\",\"UPI Volume (Lakh)\",\"BHIM Aadhaar Pay Volume (Lakh)\",\"NACH Dr Volume (Lakh)\",\"Credit Cards Volume (Lakh)\",\"Debit Cards Volume (Lakh)\",\"Wallets Volume (Lakh)\"],\"y\":[1666.8,995.63,1929.39,12344.97,13.4,640.09,1028.86,2658.82,2532.24],\"type\":\"bar\"}],\"layout\":{\"font\":{\"size\":14},\"height\":600,\"margin\":{\"b\":100,\"pad\":10},\"title\":{\"text\":\"Payment Volume - May-2020\"},\"xaxis\":{\"title\":{\"text\":\"Payment System\"}},\"yaxis\":{\"title\":{\"text\":\"Volume (Lakh)\"}}}},{\"data\":[{\"marker\":{\"color\":\"#1f77b4\"},\"x\":[\"IMPS Volume(Lakh)\",\"NACH Cr Volume (Lakh)\",\"NEFT Volume (Lakh)\",\"UPI Volume (Lakh)\",\"BHIM Aadhaar Pay Volume (Lakh)\",\"NACH Dr Volume (Lakh)\",\"Credit Cards Volume (Lakh)\",\"Debit Cards Volume (Lakh)\",\"Wallets Volume (Lakh)\"],\"y\":[1989.12,1337.29,2274.01,13369.31,14.67,788.94,1248.55,3002.34,2905.68],\"type\":\"bar\"}],\"layout\":{\"font\":{\"size\":14},\"height\":600,\"margin\":{\"b\":100,\"pad\":10},\"title\":{\"text\":\"Payment Volume - June-2020\"},\"xaxis\":{\"title\":{\"text\":\"Payment System\"}},\"yaxis\":{\"title\":{\"text\":\"Volume (Lakh)\"}}}},{\"data\":[{\"marker\":{\"color\":\"#1f77b4\"},\"x\":[\"IMPS Volume(Lakh)\",\"NACH Cr Volume (Lakh)\",\"NEFT Volume (Lakh)\",\"UPI Volume (Lakh)\",\"BHIM Aadhaar Pay Volume (Lakh)\",\"NACH Dr Volume (Lakh)\",\"Credit Cards Volume (Lakh)\",\"Debit Cards Volume (Lakh)\",\"Wallets Volume (Lakh)\"],\"y\":[2220.99,1053.63,2401.03,14973.54,15.96,801.08,1319.66,3161.93,3205.59],\"type\":\"bar\"}],\"layout\":{\"font\":{\"size\":14},\"height\":600,\"margin\":{\"b\":100,\"pad\":10},\"title\":{\"text\":\"Payment Volume - July-2020\"},\"xaxis\":{\"title\":{\"text\":\"Payment System\"}},\"yaxis\":{\"title\":{\"text\":\"Volume (Lakh)\"}}}},{\"data\":[{\"marker\":{\"color\":\"#1f77b4\"},\"x\":[\"IMPS Volume(Lakh)\",\"NACH Cr Volume (Lakh)\",\"NEFT Volume (Lakh)\",\"UPI Volume (Lakh)\",\"BHIM Aadhaar Pay Volume (Lakh)\",\"NACH Dr Volume (Lakh)\",\"Credit Cards Volume (Lakh)\",\"Debit Cards Volume (Lakh)\",\"Wallets Volume (Lakh)\"],\"y\":[2461.25,1775.28,2346.09,16188.28,19.5,791.81,1425.11,3389.42,3967.82],\"type\":\"bar\"}],\"layout\":{\"font\":{\"size\":14},\"height\":600,\"margin\":{\"b\":100,\"pad\":10},\"title\":{\"text\":\"Payment Volume - August-2020\"},\"xaxis\":{\"title\":{\"text\":\"Payment System\"}},\"yaxis\":{\"title\":{\"text\":\"Volume (Lakh)\"}}}},{\"data\":[{\"marker\":{\"color\":\"#1f77b4\"},\"x\":[\"IMPS Volume(Lakh)\",\"NACH Cr Volume (Lakh)\",\"NEFT Volume (Lakh)\",\"UPI Volume (Lakh)\",\"BHIM Aadhaar Pay Volume (Lakh)\",\"NACH Dr Volume (Lakh)\",\"Credit Cards Volume (Lakh)\",\"Debit Cards Volume (Lakh)\",\"Wallets Volume (Lakh)\"],\"y\":[2796.08,1179.89,2468.27,18001.67,15.28,857.43,1486.71,3507.81,3616.58],\"type\":\"bar\"}],\"layout\":{\"font\":{\"size\":14},\"height\":600,\"margin\":{\"b\":100,\"pad\":10},\"title\":{\"text\":\"Payment Volume - September-2020\"},\"xaxis\":{\"title\":{\"text\":\"Payment System\"}},\"yaxis\":{\"title\":{\"text\":\"Volume (Lakh)\"}}}},{\"data\":[{\"marker\":{\"color\":\"#1f77b4\"},\"x\":[\"IMPS Volume(Lakh)\",\"NACH Cr Volume (Lakh)\",\"NEFT Volume (Lakh)\",\"UPI Volume (Lakh)\",\"BHIM Aadhaar Pay Volume (Lakh)\",\"NACH Dr Volume (Lakh)\",\"Credit Cards Volume (Lakh)\",\"Debit Cards Volume (Lakh)\",\"Wallets Volume (Lakh)\"],\"y\":[3189.72,1015.89,2761.65,20716.19,10.55,848.34,1718.03,3932.66,3639.88],\"type\":\"bar\"}],\"layout\":{\"font\":{\"size\":14},\"height\":600,\"margin\":{\"b\":100,\"pad\":10},\"title\":{\"text\":\"Payment Volume - October-2020\"},\"xaxis\":{\"title\":{\"text\":\"Payment System\"}},\"yaxis\":{\"title\":{\"text\":\"Volume (Lakh)\"}}}},{\"data\":[{\"marker\":{\"color\":\"#1f77b4\"},\"x\":[\"IMPS Volume(Lakh)\",\"NACH Cr Volume (Lakh)\",\"NEFT Volume (Lakh)\",\"UPI Volume (Lakh)\",\"BHIM Aadhaar Pay Volume (Lakh)\",\"NACH Dr Volume (Lakh)\",\"Credit Cards Volume (Lakh)\",\"Debit Cards Volume (Lakh)\",\"Wallets Volume (Lakh)\"],\"y\":[3391.14,1114.39,2734.1,22102.28,9.39,869.63,1662.58,3765.75,3420.83],\"type\":\"bar\"}],\"layout\":{\"font\":{\"size\":14},\"height\":600,\"margin\":{\"b\":100,\"pad\":10},\"title\":{\"text\":\"Payment Volume - November-2020\"},\"xaxis\":{\"title\":{\"text\":\"Payment System\"}},\"yaxis\":{\"title\":{\"text\":\"Volume (Lakh)\"}}}},{\"data\":[{\"marker\":{\"color\":\"#1f77b4\"},\"x\":[\"IMPS Volume(Lakh)\",\"NACH Cr Volume (Lakh)\",\"NEFT Volume (Lakh)\",\"UPI Volume (Lakh)\",\"BHIM Aadhaar Pay Volume (Lakh)\",\"NACH Dr Volume (Lakh)\",\"Credit Cards Volume (Lakh)\",\"Debit Cards Volume (Lakh)\",\"Wallets Volume (Lakh)\"],\"y\":[3556.93,1741.2,3076.15,22341.58,8.9,840.43,1737.79,3765.09,3521.48],\"type\":\"bar\"}],\"layout\":{\"font\":{\"size\":14},\"height\":600,\"margin\":{\"b\":100,\"pad\":10},\"title\":{\"text\":\"Payment Volume - December-2020\"},\"xaxis\":{\"title\":{\"text\":\"Payment System\"}},\"yaxis\":{\"title\":{\"text\":\"Volume (Lakh)\"}}}},{\"data\":[{\"marker\":{\"color\":\"#1f77b4\"},\"x\":[\"IMPS Volume(Lakh)\",\"NACH Cr Volume (Lakh)\",\"NEFT Volume (Lakh)\",\"UPI Volume (Lakh)\",\"BHIM Aadhaar Pay Volume (Lakh)\",\"NACH Dr Volume (Lakh)\",\"Credit Cards Volume (Lakh)\",\"Debit Cards Volume (Lakh)\",\"Wallets Volume (Lakh)\"],\"y\":[3465.52,1115.13,2874.93,23027.28,10.29,839.08,1744.2,3699.54,3495.85],\"type\":\"bar\"}],\"layout\":{\"font\":{\"size\":14},\"height\":600,\"margin\":{\"b\":100,\"pad\":10},\"title\":{\"text\":\"Payment Volume - January-2021\"},\"xaxis\":{\"title\":{\"text\":\"Payment System\"}},\"yaxis\":{\"title\":{\"text\":\"Volume (Lakh)\"}}}},{\"data\":[{\"marker\":{\"color\":\"#1f77b4\"},\"x\":[\"IMPS Volume(Lakh)\",\"NACH Cr Volume (Lakh)\",\"NEFT Volume (Lakh)\",\"UPI Volume (Lakh)\",\"BHIM Aadhaar Pay Volume (Lakh)\",\"NACH Dr Volume (Lakh)\",\"Credit Cards Volume (Lakh)\",\"Debit Cards Volume (Lakh)\",\"Wallets Volume (Lakh)\"],\"y\":[3189.73,830.89,2821.07,22928.94,9.33,781.43,1613.77,3445.46,3648.84],\"type\":\"bar\"}],\"layout\":{\"font\":{\"size\":14},\"height\":600,\"margin\":{\"b\":100,\"pad\":10},\"title\":{\"text\":\"Payment Volume - February-2021\"},\"xaxis\":{\"title\":{\"text\":\"Payment System\"}},\"yaxis\":{\"title\":{\"text\":\"Volume (Lakh)\"}}}},{\"data\":[{\"marker\":{\"color\":\"#1f77b4\"},\"x\":[\"IMPS Volume(Lakh)\",\"NACH Cr Volume (Lakh)\",\"NEFT Volume (Lakh)\",\"UPI Volume (Lakh)\",\"BHIM Aadhaar Pay Volume (Lakh)\",\"NACH Dr Volume (Lakh)\",\"Credit Cards Volume (Lakh)\",\"Debit Cards Volume (Lakh)\",\"Wallets Volume (Lakh)\"],\"y\":[3631.44,1648.84,3481.39,27316.85,12.92,920.42,1887.27,3763.05,4177.79],\"type\":\"bar\"}],\"layout\":{\"font\":{\"size\":14},\"height\":600,\"margin\":{\"b\":100,\"pad\":10},\"title\":{\"text\":\"Payment Volume - March-2021\"},\"xaxis\":{\"title\":{\"text\":\"Payment System\"}},\"yaxis\":{\"title\":{\"text\":\"Volume (Lakh)\"}}}},{\"data\":[{\"marker\":{\"color\":\"#1f77b4\"},\"x\":[\"IMPS Volume(Lakh)\",\"NACH Cr Volume (Lakh)\",\"NEFT Volume (Lakh)\",\"UPI Volume (Lakh)\",\"BHIM Aadhaar Pay Volume (Lakh)\",\"NACH Dr Volume (Lakh)\",\"Credit Cards Volume (Lakh)\",\"Debit Cards Volume (Lakh)\",\"Wallets Volume (Lakh)\"],\"y\":[3229.68,1029.55,2862.71,26410.61,13.88,814.04,1575.32,3213.23,3958.67],\"type\":\"bar\"}],\"layout\":{\"font\":{\"size\":14},\"height\":600,\"margin\":{\"b\":100,\"pad\":10},\"title\":{\"text\":\"Payment Volume - April-2021\"},\"xaxis\":{\"title\":{\"text\":\"Payment System\"}},\"yaxis\":{\"title\":{\"text\":\"Volume (Lakh)\"}}}},{\"data\":[{\"marker\":{\"color\":\"#1f77b4\"},\"x\":[\"IMPS Volume(Lakh)\",\"NACH Cr Volume (Lakh)\",\"NEFT Volume (Lakh)\",\"UPI Volume (Lakh)\",\"BHIM Aadhaar Pay Volume (Lakh)\",\"NACH Dr Volume (Lakh)\",\"Credit Cards Volume (Lakh)\",\"Debit Cards Volume (Lakh)\",\"Wallets Volume (Lakh)\"],\"y\":[2798.61,1866.34,2565.39,25291.82,17.29,857.3,1344.73,2556.6,3175.54],\"type\":\"bar\"}],\"layout\":{\"font\":{\"size\":14},\"height\":600,\"margin\":{\"b\":100,\"pad\":10},\"title\":{\"text\":\"Payment Volume - May-2021\"},\"xaxis\":{\"title\":{\"text\":\"Payment System\"}},\"yaxis\":{\"title\":{\"text\":\"Volume (Lakh)\"}}}},{\"data\":[{\"marker\":{\"color\":\"#1f77b4\"},\"x\":[\"IMPS Volume(Lakh)\",\"NACH Cr Volume (Lakh)\",\"NEFT Volume (Lakh)\",\"UPI Volume (Lakh)\",\"BHIM Aadhaar Pay Volume (Lakh)\",\"NACH Dr Volume (Lakh)\",\"Credit Cards Volume (Lakh)\",\"Debit Cards Volume (Lakh)\",\"Wallets Volume (Lakh)\"],\"y\":[3038.45,1498.12,2923.27,28075.16,17.66,878.73,1547.01,2946.74,3906.02],\"type\":\"bar\"}],\"layout\":{\"font\":{\"size\":14},\"height\":600,\"margin\":{\"b\":100,\"pad\":10},\"title\":{\"text\":\"Payment Volume - June-2021\"},\"xaxis\":{\"title\":{\"text\":\"Payment System\"}},\"yaxis\":{\"title\":{\"text\":\"Volume (Lakh)\"}}}},{\"data\":[{\"marker\":{\"color\":\"#1f77b4\"},\"x\":[\"IMPS Volume(Lakh)\",\"NACH Cr Volume (Lakh)\",\"NEFT Volume (Lakh)\",\"UPI Volume (Lakh)\",\"BHIM Aadhaar Pay Volume (Lakh)\",\"NACH Dr Volume (Lakh)\",\"Credit Cards Volume (Lakh)\",\"Debit Cards Volume (Lakh)\",\"Wallets Volume (Lakh)\"],\"y\":[3524.64,1174.68,3170.0,32455.02,17.49,877.08,1820.49,3405.37,4068.85],\"type\":\"bar\"}],\"layout\":{\"font\":{\"size\":14},\"height\":600,\"margin\":{\"b\":100,\"pad\":10},\"title\":{\"text\":\"Payment Volume - July-2021\"},\"xaxis\":{\"title\":{\"text\":\"Payment System\"}},\"yaxis\":{\"title\":{\"text\":\"Volume (Lakh)\"}}}},{\"data\":[{\"marker\":{\"color\":\"#1f77b4\"},\"x\":[\"IMPS Volume(Lakh)\",\"NACH Cr Volume (Lakh)\",\"NEFT Volume (Lakh)\",\"UPI Volume (Lakh)\",\"BHIM Aadhaar Pay Volume (Lakh)\",\"NACH Dr Volume (Lakh)\",\"Credit Cards Volume (Lakh)\",\"Debit Cards Volume (Lakh)\",\"Wallets Volume (Lakh)\"],\"y\":[3797.12,2075.99,3218.73,35555.45,21.99,876.81,1904.71,3588.29,4227.08],\"type\":\"bar\"}],\"layout\":{\"font\":{\"size\":14},\"height\":600,\"margin\":{\"b\":100,\"pad\":10},\"title\":{\"text\":\"Payment Volume - August-2021\"},\"xaxis\":{\"title\":{\"text\":\"Payment System\"}},\"yaxis\":{\"title\":{\"text\":\"Volume (Lakh)\"}}}},{\"data\":[{\"marker\":{\"color\":\"#1f77b4\"},\"x\":[\"IMPS Volume(Lakh)\",\"NACH Cr Volume (Lakh)\",\"NEFT Volume (Lakh)\",\"UPI Volume (Lakh)\",\"BHIM Aadhaar Pay Volume (Lakh)\",\"NACH Dr Volume (Lakh)\",\"Credit Cards Volume (Lakh)\",\"Debit Cards Volume (Lakh)\",\"Wallets Volume (Lakh)\"],\"y\":[3848.84,1171.57,3359.54,36558.17,19.39,878.31,1847.21,3490.29,4242.67],\"type\":\"bar\"}],\"layout\":{\"font\":{\"size\":14},\"height\":600,\"margin\":{\"b\":100,\"pad\":10},\"title\":{\"text\":\"Payment Volume - September-2021\"},\"xaxis\":{\"title\":{\"text\":\"Payment System\"}},\"yaxis\":{\"title\":{\"text\":\"Volume (Lakh)\"}}}},{\"data\":[{\"marker\":{\"color\":\"#1f77b4\"},\"x\":[\"IMPS Volume(Lakh)\",\"NACH Cr Volume (Lakh)\",\"NEFT Volume (Lakh)\",\"UPI Volume (Lakh)\",\"BHIM Aadhaar Pay Volume (Lakh)\",\"NACH Dr Volume (Lakh)\",\"Credit Cards Volume (Lakh)\",\"Debit Cards Volume (Lakh)\",\"Wallets Volume (Lakh)\"],\"y\":[4306.71,1660.26,3574.46,42184.32,21.49,865.69,2155.81,3852.95,4888.97],\"type\":\"bar\"}],\"layout\":{\"font\":{\"size\":14},\"height\":600,\"margin\":{\"b\":100,\"pad\":10},\"title\":{\"text\":\"Payment Volume - October-2021\"},\"xaxis\":{\"title\":{\"text\":\"Payment System\"}},\"yaxis\":{\"title\":{\"text\":\"Volume (Lakh)\"}}}},{\"data\":[{\"marker\":{\"color\":\"#1f77b4\"},\"x\":[\"IMPS Volume(Lakh)\",\"NACH Cr Volume (Lakh)\",\"NEFT Volume (Lakh)\",\"UPI Volume (Lakh)\",\"BHIM Aadhaar Pay Volume (Lakh)\",\"NACH Dr Volume (Lakh)\",\"Credit Cards Volume (Lakh)\",\"Debit Cards Volume (Lakh)\",\"Wallets Volume (Lakh)\"],\"y\":[4120.29,1382.0,3394.0,41864.8,19.78,907.32,2011.16,3407.02,4870.19],\"type\":\"bar\"}],\"layout\":{\"font\":{\"size\":14},\"height\":600,\"margin\":{\"b\":100,\"pad\":10},\"title\":{\"text\":\"Payment Volume - November-2021\"},\"xaxis\":{\"title\":{\"text\":\"Payment System\"}},\"yaxis\":{\"title\":{\"text\":\"Volume (Lakh)\"}}}},{\"data\":[{\"marker\":{\"color\":\"#1f77b4\"},\"x\":[\"IMPS Volume(Lakh)\",\"NACH Cr Volume (Lakh)\",\"NEFT Volume (Lakh)\",\"UPI Volume (Lakh)\",\"BHIM Aadhaar Pay Volume (Lakh)\",\"NACH Dr Volume (Lakh)\",\"Credit Cards Volume (Lakh)\",\"Debit Cards Volume (Lakh)\",\"Wallets Volume (Lakh)\"],\"y\":[4429.86,1483.71,3763.38,45662.99,19.59,937.92,2112.59,3499.21,5659.18],\"type\":\"bar\"}],\"layout\":{\"font\":{\"size\":14},\"height\":600,\"margin\":{\"b\":100,\"pad\":10},\"title\":{\"text\":\"Payment Volume - December-2021\"},\"xaxis\":{\"title\":{\"text\":\"Payment System\"}},\"yaxis\":{\"title\":{\"text\":\"Volume (Lakh)\"}}}},{\"data\":[{\"marker\":{\"color\":\"#1f77b4\"},\"x\":[\"IMPS Volume(Lakh)\",\"NACH Cr Volume (Lakh)\",\"NEFT Volume (Lakh)\",\"UPI Volume (Lakh)\",\"BHIM Aadhaar Pay Volume (Lakh)\",\"NACH Dr Volume (Lakh)\",\"Credit Cards Volume (Lakh)\",\"Debit Cards Volume (Lakh)\",\"Wallets Volume (Lakh)\"],\"y\":[4401.73,2053.15,3629.03,46171.56,24.47,934.07,1958.05,3193.0,4613.76],\"type\":\"bar\"}],\"layout\":{\"font\":{\"size\":14},\"height\":600,\"margin\":{\"b\":100,\"pad\":10},\"title\":{\"text\":\"Payment Volume - January-2022\"},\"xaxis\":{\"title\":{\"text\":\"Payment System\"}},\"yaxis\":{\"title\":{\"text\":\"Volume (Lakh)\"}}}},{\"data\":[{\"marker\":{\"color\":\"#1f77b4\"},\"x\":[\"IMPS Volume(Lakh)\",\"NACH Cr Volume (Lakh)\",\"NEFT Volume (Lakh)\",\"UPI Volume (Lakh)\",\"BHIM Aadhaar Pay Volume (Lakh)\",\"NACH Dr Volume (Lakh)\",\"Credit Cards Volume (Lakh)\",\"Debit Cards Volume (Lakh)\",\"Wallets Volume (Lakh)\"],\"y\":[4209.31,1536.56,3632.58,45274.89,15.23,948.2,1884.24,2956.23,4386.09],\"type\":\"bar\"}],\"layout\":{\"font\":{\"size\":14},\"height\":600,\"margin\":{\"b\":100,\"pad\":10},\"title\":{\"text\":\"Payment Volume - February-2022\"},\"xaxis\":{\"title\":{\"text\":\"Payment System\"}},\"yaxis\":{\"title\":{\"text\":\"Volume (Lakh)\"}}}},{\"data\":[{\"marker\":{\"color\":\"#1f77b4\"},\"x\":[\"IMPS Volume(Lakh)\",\"NACH Cr Volume (Lakh)\",\"NEFT Volume (Lakh)\",\"UPI Volume (Lakh)\",\"BHIM Aadhaar Pay Volume (Lakh)\",\"NACH Dr Volume (Lakh)\",\"Credit Cards Volume (Lakh)\",\"Debit Cards Volume (Lakh)\",\"Wallets Volume (Lakh)\"],\"y\":[4920.01,1825.88,4314.2,54056.51,19.47,979.27,2237.51,3275.19,5016.86],\"type\":\"bar\"}],\"layout\":{\"font\":{\"size\":14},\"height\":600,\"margin\":{\"b\":100,\"pad\":10},\"title\":{\"text\":\"Payment Volume - March-2022\"},\"xaxis\":{\"title\":{\"text\":\"Payment System\"}},\"yaxis\":{\"title\":{\"text\":\"Volume (Lakh)\"}}}},{\"data\":[{\"marker\":{\"color\":\"#1f77b4\"},\"x\":[\"IMPS Volume(Lakh)\",\"NACH Cr Volume (Lakh)\",\"NEFT Volume (Lakh)\",\"UPI Volume (Lakh)\",\"BHIM Aadhaar Pay Volume (Lakh)\",\"NACH Dr Volume (Lakh)\",\"Credit Cards Volume (Lakh)\",\"Debit Cards Volume (Lakh)\",\"Wallets Volume (Lakh)\"],\"y\":[4716.26,1329.76,3737.59,55843.88,16.76,996.72,2229.3,3311.87,5036.17],\"type\":\"bar\"}],\"layout\":{\"font\":{\"size\":14},\"height\":600,\"margin\":{\"b\":100,\"pad\":10},\"title\":{\"text\":\"Payment Volume - April-2022\"},\"xaxis\":{\"title\":{\"text\":\"Payment System\"}},\"yaxis\":{\"title\":{\"text\":\"Volume (Lakh)\"}}}},{\"data\":[{\"marker\":{\"color\":\"#1f77b4\"},\"x\":[\"IMPS Volume(Lakh)\",\"NACH Cr Volume (Lakh)\",\"NEFT Volume (Lakh)\",\"UPI Volume (Lakh)\",\"BHIM Aadhaar Pay Volume (Lakh)\",\"NACH Dr Volume (Lakh)\",\"Credit Cards Volume (Lakh)\",\"Debit Cards Volume (Lakh)\",\"Wallets Volume (Lakh)\"],\"y\":[4848.13,1794.53,3813.34,59462.89,17.81,1018.05,2378.03,3320.22,5198.06],\"type\":\"bar\"}],\"layout\":{\"font\":{\"size\":14},\"height\":600,\"margin\":{\"b\":100,\"pad\":10},\"title\":{\"text\":\"Payment Volume - May-2022\"},\"xaxis\":{\"title\":{\"text\":\"Payment System\"}},\"yaxis\":{\"title\":{\"text\":\"Volume (Lakh)\"}}}},{\"data\":[{\"marker\":{\"color\":\"#1f77b4\"},\"x\":[\"IMPS Volume(Lakh)\",\"NACH Cr Volume (Lakh)\",\"NEFT Volume (Lakh)\",\"UPI Volume (Lakh)\",\"BHIM Aadhaar Pay Volume (Lakh)\",\"NACH Dr Volume (Lakh)\",\"Credit Cards Volume (Lakh)\",\"Debit Cards Volume (Lakh)\",\"Wallets Volume (Lakh)\"],\"y\":[4557.01,1489.99,4022.33,58629.08,39.82,1048.14,2279.46,3096.79,4979.19],\"type\":\"bar\"}],\"layout\":{\"font\":{\"size\":14},\"height\":600,\"margin\":{\"b\":100,\"pad\":10},\"title\":{\"text\":\"Payment Volume - June-2022\"},\"xaxis\":{\"title\":{\"text\":\"Payment System\"}},\"yaxis\":{\"title\":{\"text\":\"Volume (Lakh)\"}}}},{\"data\":[{\"marker\":{\"color\":\"#1f77b4\"},\"x\":[\"IMPS Volume(Lakh)\",\"NACH Cr Volume (Lakh)\",\"NEFT Volume (Lakh)\",\"UPI Volume (Lakh)\",\"BHIM Aadhaar Pay Volume (Lakh)\",\"NACH Dr Volume (Lakh)\",\"Credit Cards Volume (Lakh)\",\"Debit Cards Volume (Lakh)\",\"Wallets Volume (Lakh)\"],\"y\":[4608.3,1892.88,4018.39,62893.4,21.26,1067.05,2348.34,3133.47,4855.87],\"type\":\"bar\"}],\"layout\":{\"font\":{\"size\":14},\"height\":600,\"margin\":{\"b\":100,\"pad\":10},\"title\":{\"text\":\"Payment Volume - July-2022\"},\"xaxis\":{\"title\":{\"text\":\"Payment System\"}},\"yaxis\":{\"title\":{\"text\":\"Volume (Lakh)\"}}}},{\"data\":[{\"marker\":{\"color\":\"#1f77b4\"},\"x\":[\"IMPS Volume(Lakh)\",\"NACH Cr Volume (Lakh)\",\"NEFT Volume (Lakh)\",\"UPI Volume (Lakh)\",\"BHIM Aadhaar Pay Volume (Lakh)\",\"NACH Dr Volume (Lakh)\",\"Credit Cards Volume (Lakh)\",\"Debit Cards Volume (Lakh)\",\"Wallets Volume (Lakh)\"],\"y\":[4669.09,1940.04,4166.76,65819.06,17.57,1097.38,2447.83,3033.47,4877.42],\"type\":\"bar\"}],\"layout\":{\"font\":{\"size\":14},\"height\":600,\"margin\":{\"b\":100,\"pad\":10},\"title\":{\"text\":\"Payment Volume - August-2022\"},\"xaxis\":{\"title\":{\"text\":\"Payment System\"}},\"yaxis\":{\"title\":{\"text\":\"Volume (Lakh)\"}}}},{\"data\":[{\"marker\":{\"color\":\"#1f77b4\"},\"x\":[\"IMPS Volume(Lakh)\",\"NACH Cr Volume (Lakh)\",\"NEFT Volume (Lakh)\",\"UPI Volume (Lakh)\",\"BHIM Aadhaar Pay Volume (Lakh)\",\"NACH Dr Volume (Lakh)\",\"Credit Cards Volume (Lakh)\",\"Debit Cards Volume (Lakh)\",\"Wallets Volume (Lakh)\"],\"y\":[4622.31,1630.85,4332.45,67808.0,16.35,1113.2,2453.06,2899.38,4706.99],\"type\":\"bar\"}],\"layout\":{\"font\":{\"size\":14},\"height\":600,\"margin\":{\"b\":100,\"pad\":10},\"title\":{\"text\":\"Payment Volume - September-2022\"},\"xaxis\":{\"title\":{\"text\":\"Payment System\"}},\"yaxis\":{\"title\":{\"text\":\"Volume (Lakh)\"}}}},{\"data\":[{\"marker\":{\"color\":\"#1f77b4\"},\"x\":[\"IMPS Volume(Lakh)\",\"NACH Cr Volume (Lakh)\",\"NEFT Volume (Lakh)\",\"UPI Volume (Lakh)\",\"BHIM Aadhaar Pay Volume (Lakh)\",\"NACH Dr Volume (Lakh)\",\"Credit Cards Volume (Lakh)\",\"Debit Cards Volume (Lakh)\",\"Wallets Volume (Lakh)\"],\"y\":[4824.59,1454.99,4570.48,73054.21,19.99,1139.92,2554.02,2970.85,4877.04],\"type\":\"bar\"}],\"layout\":{\"font\":{\"size\":14},\"height\":600,\"margin\":{\"b\":100,\"pad\":10},\"title\":{\"text\":\"Payment Volume - October-2022\"},\"xaxis\":{\"title\":{\"text\":\"Payment System\"}},\"yaxis\":{\"title\":{\"text\":\"Volume (Lakh)\"}}}},{\"data\":[{\"marker\":{\"color\":\"#1f77b4\"},\"x\":[\"IMPS Volume(Lakh)\",\"NACH Cr Volume (Lakh)\",\"NEFT Volume (Lakh)\",\"UPI Volume (Lakh)\",\"BHIM Aadhaar Pay Volume (Lakh)\",\"NACH Dr Volume (Lakh)\",\"Credit Cards Volume (Lakh)\",\"Debit Cards Volume (Lakh)\",\"Wallets Volume (Lakh)\"],\"y\":[4634.8,1373.88,4388.3,73094.47,14.52,1164.17,2347.73,2608.22,4730.07],\"type\":\"bar\"}],\"layout\":{\"font\":{\"size\":14},\"height\":600,\"margin\":{\"b\":100,\"pad\":10},\"title\":{\"text\":\"Payment Volume - November-2022\"},\"xaxis\":{\"title\":{\"text\":\"Payment System\"}},\"yaxis\":{\"title\":{\"text\":\"Volume (Lakh)\"}}}},{\"data\":[{\"marker\":{\"color\":\"#1f77b4\"},\"x\":[\"IMPS Volume(Lakh)\",\"NACH Cr Volume (Lakh)\",\"NEFT Volume (Lakh)\",\"UPI Volume (Lakh)\",\"BHIM Aadhaar Pay Volume (Lakh)\",\"NACH Dr Volume (Lakh)\",\"Credit Cards Volume (Lakh)\",\"Debit Cards Volume (Lakh)\",\"Wallets Volume (Lakh)\"],\"y\":[4858.37,1515.84,4854.81,78288.95,12.71,1198.55,2556.47,2667.1,5012.71],\"type\":\"bar\"}],\"layout\":{\"font\":{\"size\":14},\"height\":600,\"margin\":{\"b\":100,\"pad\":10},\"title\":{\"text\":\"Payment Volume - December-2022\"},\"xaxis\":{\"title\":{\"text\":\"Payment System\"}},\"yaxis\":{\"title\":{\"text\":\"Volume (Lakh)\"}}}},{\"data\":[{\"marker\":{\"color\":\"#1f77b4\"},\"x\":[\"IMPS Volume(Lakh)\",\"NACH Cr Volume (Lakh)\",\"NEFT Volume (Lakh)\",\"UPI Volume (Lakh)\",\"BHIM Aadhaar Pay Volume (Lakh)\",\"NACH Dr Volume (Lakh)\",\"Credit Cards Volume (Lakh)\",\"Debit Cards Volume (Lakh)\",\"Wallets Volume (Lakh)\"],\"y\":[4745.08,1354.13,4798.31,80385.88,13.01,1202.79,2593.52,2510.09,4873.96],\"type\":\"bar\"}],\"layout\":{\"font\":{\"size\":14},\"height\":600,\"margin\":{\"b\":100,\"pad\":10},\"title\":{\"text\":\"Payment Volume - January-2023\"},\"xaxis\":{\"title\":{\"text\":\"Payment System\"}},\"yaxis\":{\"title\":{\"text\":\"Volume (Lakh)\"}}}},{\"data\":[{\"marker\":{\"color\":\"#1f77b4\"},\"x\":[\"IMPS Volume(Lakh)\",\"NACH Cr Volume (Lakh)\",\"NEFT Volume (Lakh)\",\"UPI Volume (Lakh)\",\"BHIM Aadhaar Pay Volume (Lakh)\",\"NACH Dr Volume (Lakh)\",\"Credit Cards Volume (Lakh)\",\"Debit Cards Volume (Lakh)\",\"Wallets Volume (Lakh)\"],\"y\":[4478.13,1527.38,4675.61,75347.57,11.5,1210.19,2323.2,2265.31,4929.04],\"type\":\"bar\"}],\"layout\":{\"font\":{\"size\":14},\"height\":600,\"margin\":{\"b\":100,\"pad\":10},\"title\":{\"text\":\"Payment Volume - February-2023\"},\"xaxis\":{\"title\":{\"text\":\"Payment System\"}},\"yaxis\":{\"title\":{\"text\":\"Volume (Lakh)\"}}}}]);\n",
       "                        }).then(function(){\n",
       "                            \n",
       "var gd = document.getElementById('316d0765-e539-4901-bdf0-04d129947765');\n",
       "var x = new MutationObserver(function (mutations, observer) {{\n",
       "        var display = window.getComputedStyle(gd).display;\n",
       "        if (!display || display === 'none') {{\n",
       "            console.log([gd, 'removed!']);\n",
       "            Plotly.purge(gd);\n",
       "            observer.disconnect();\n",
       "        }}\n",
       "}});\n",
       "\n",
       "// Listen for the removal of the full notebook cells\n",
       "var notebookContainer = gd.closest('#notebook-container');\n",
       "if (notebookContainer) {{\n",
       "    x.observe(notebookContainer, {childList: true});\n",
       "}}\n",
       "\n",
       "// Listen for the clearing of the current output cell\n",
       "var outputEl = gd.closest('.output');\n",
       "if (outputEl) {{\n",
       "    x.observe(outputEl, {childList: true});\n",
       "}}\n",
       "\n",
       "                        })                };                });            </script>        </div>"
      ]
     },
     "metadata": {},
     "output_type": "display_data"
    }
   ],
   "source": [
    "monthly_paisa_system = pd.read_csv('Final/monthly_paisa_system_final.csv')\n",
    "# Import data\n",
    "data = monthly_paisa_system[['Month', 'IMPS Volume(Lakh)', 'NACH Cr Volume (Lakh)', 'NEFT Volume (Lakh)', 'UPI Volume (Lakh)', 'BHIM Aadhaar Pay Volume (Lakh)',\n",
    "                             'NACH Dr Volume (Lakh)',  'Credit Cards Volume (Lakh)', 'Debit Cards Volume (Lakh)', 'Wallets Volume (Lakh)']]\n",
    "\n",
    "# Set up subplots\n",
    "fig = make_subplots(rows=1, cols=1, specs=[[{\"type\": \"bar\"}]])\n",
    "\n",
    "# Define function to update the bar chart with each frame\n",
    "def update_volume(frame):\n",
    "    # Select data for the current frame\n",
    "    current_data = data.iloc[frame, :]\n",
    "    \n",
    "    # Create bar trace\n",
    "    volume_trace = go.Bar(\n",
    "        x=current_data.index[1:],\n",
    "        y=current_data.values[1:],\n",
    "        marker=dict(color=\"#1f77b4\")\n",
    "    )\n",
    "    \n",
    "    # Update layout\n",
    "    fig.update_layout(\n",
    "        title=f\"Payment Volume - {current_data['Month']}\",\n",
    "        xaxis_title=\"Payment System\",\n",
    "        yaxis_title=\"Volume (Lakh)\",\n",
    "        font=dict(size=14),\n",
    "        height=600,\n",
    "        margin=dict(pad=10, b=100)\n",
    "    )\n",
    "    \n",
    "    # Update trace\n",
    "    fig.data = [volume_trace]\n",
    "    \n",
    "    return fig\n",
    "\n",
    "# Create frames for each month\n",
    "frames = [go.Frame(data=[go.Bar(y=data.iloc[i, 1:].values, x=data.columns[1:], marker=dict(color=\"#1f77b4\"))],\n",
    "                   layout=go.Layout(title=f\"Payment Volume - {data.iloc[i, 0]}\",\n",
    "                                    xaxis_title=\"Payment System\",\n",
    "                                    yaxis_title=\"Volume (Lakh)\",\n",
    "                                    font=dict(size=14),\n",
    "                                    height=600,\n",
    "                                    margin=dict(pad=10, b=100)\n",
    "                                   )\n",
    "                  ) for i in range(len(data))]\n",
    "\n",
    "# Add frames to animation\n",
    "fig.frames = frames\n",
    "\n",
    "# Set up animation settings\n",
    "animation_settings = dict(frame=dict(duration=200, redraw = True), fromcurrent=True)\n",
    "\n",
    "# Add animation buttons\n",
    "fig.update_layout(yaxis=dict(range=[0, 80000]), \n",
    "                  updatemenus=[dict(type=\"buttons\",\n",
    "                                   showactive=False,\n",
    "                                   buttons=[dict(label=\"Play\",\n",
    "                                                 method=\"animate\",\n",
    "                                                 args=[None, animation_settings])])]\n",
    "                )\n",
    "\n",
    "            \n",
    "\n",
    "# Set initial layout\n",
    "fig.update_layout(\n",
    "    title=f\"Payment Volume - {data.iloc[0, 0]}\",\n",
    "    xaxis_title=\"Payment System\",\n",
    "    yaxis_title=\"Volume (Lakh)\",\n",
    "    font=dict(size=14),\n",
    "    height=600,\n",
    "    margin=dict(pad=10, b=100),\n",
    "    yaxis = dict(range=[0,80000]) \n",
    ")\n",
    "\n",
    "# Add initial trace\n",
    "fig.add_trace(go.Bar(x=data.columns[1:], y=data.iloc[0, 1:].values, marker=dict(color=\"#1f77b4\")))\n",
    "\n",
    "# save the animation as an html file\n",
    "fig.write_html('Final/payment_systems_volume.html')\n",
    "# We have manual made the gif from this html file\n",
    "# Show plot\n",
    "fig.show()\n"
   ]
  },
  {
   "cell_type": "code",
   "execution_count": 28,
   "metadata": {},
   "outputs": [
    {
     "data": {
      "application/vnd.plotly.v1+json": {
       "config": {
        "plotlyServerURL": "https://plot.ly"
       },
       "data": [
        {
         "marker": {
          "color": "#1f77b4"
         },
         "type": "bar",
         "x": [
          " IMPS Value (Rupees Crore)",
          "NACH Cr Value (Rupees Crore)",
          " NEFT Value (Rupees Crore)",
          " UPI Value (Rupees Crore)",
          "BHIM Aadhaar Pay Value (Rupees Crore)",
          "NACH Dr Value (Rupees Crore)",
          "Credit Cards Value (Rupees Crore)",
          "Debit Cards Value (Rupees Crore)",
          "Wallets Value (Rupees Crore)"
         ],
         "y": [
          202904,
          90941,
          1734651,
          189229,
          97,
          52792,
          60130,
          58209,
          14652
         ]
        }
       ],
       "frames": [
        {
         "data": [
          {
           "marker": {
            "color": "#1f77b4"
           },
           "type": "bar",
           "x": [
            " IMPS Value (Rupees Crore)",
            "NACH Cr Value (Rupees Crore)",
            " NEFT Value (Rupees Crore)",
            " UPI Value (Rupees Crore)",
            "BHIM Aadhaar Pay Value (Rupees Crore)",
            "NACH Dr Value (Rupees Crore)",
            "Credit Cards Value (Rupees Crore)",
            "Debit Cards Value (Rupees Crore)",
            "Wallets Value (Rupees Crore)"
           ],
           "y": [
            202904,
            90941,
            1734651,
            189229,
            97,
            52792,
            60130,
            58209,
            14652
           ]
          }
         ],
         "layout": {
          "font": {
           "size": 14
          },
          "height": 600,
          "margin": {
           "b": 100,
           "pad": 10
          },
          "title": {
           "text": "Payment Value - November-2019"
          },
          "xaxis": {
           "title": {
            "text": "Payment System"
           }
          },
          "yaxis": {
           "title": {
            "text": "Value (Rs Crore)"
           }
          }
         }
        },
        {
         "data": [
          {
           "marker": {
            "color": "#1f77b4"
           },
           "type": "bar",
           "x": [
            " IMPS Value (Rupees Crore)",
            "NACH Cr Value (Rupees Crore)",
            " NEFT Value (Rupees Crore)",
            " UPI Value (Rupees Crore)",
            "BHIM Aadhaar Pay Value (Rupees Crore)",
            "NACH Dr Value (Rupees Crore)",
            "Credit Cards Value (Rupees Crore)",
            "Debit Cards Value (Rupees Crore)",
            "Wallets Value (Rupees Crore)"
           ],
           "y": [
            210934,
            78362,
            1942231,
            202521,
            112,
            54171,
            65736,
            62752,
            15835
           ]
          }
         ],
         "layout": {
          "font": {
           "size": 14
          },
          "height": 600,
          "margin": {
           "b": 100,
           "pad": 10
          },
          "title": {
           "text": "Payment Value - December-2019"
          },
          "xaxis": {
           "title": {
            "text": "Payment System"
           }
          },
          "yaxis": {
           "title": {
            "text": "Value (Rs Crore)"
           }
          }
         }
        },
        {
         "data": [
          {
           "marker": {
            "color": "#1f77b4"
           },
           "type": "bar",
           "x": [
            " IMPS Value (Rupees Crore)",
            "NACH Cr Value (Rupees Crore)",
            " NEFT Value (Rupees Crore)",
            " UPI Value (Rupees Crore)",
            "BHIM Aadhaar Pay Value (Rupees Crore)",
            "NACH Dr Value (Rupees Crore)",
            "Credit Cards Value (Rupees Crore)",
            "Debit Cards Value (Rupees Crore)",
            "Wallets Value (Rupees Crore)"
           ],
           "y": [
            216811,
            81544,
            1929464,
            216243,
            141,
            55108,
            66573,
            62871,
            15408
           ]
          }
         ],
         "layout": {
          "font": {
           "size": 14
          },
          "height": 600,
          "margin": {
           "b": 100,
           "pad": 10
          },
          "title": {
           "text": "Payment Value - January-2020"
          },
          "xaxis": {
           "title": {
            "text": "Payment System"
           }
          },
          "yaxis": {
           "title": {
            "text": "Value (Rs Crore)"
           }
          }
         }
        },
        {
         "data": [
          {
           "marker": {
            "color": "#1f77b4"
           },
           "type": "bar",
           "x": [
            " IMPS Value (Rupees Crore)",
            "NACH Cr Value (Rupees Crore)",
            " NEFT Value (Rupees Crore)",
            " UPI Value (Rupees Crore)",
            "BHIM Aadhaar Pay Value (Rupees Crore)",
            "NACH Dr Value (Rupees Crore)",
            "Credit Cards Value (Rupees Crore)",
            "Debit Cards Value (Rupees Crore)",
            "Wallets Value (Rupees Crore)"
           ],
           "y": [
            214566,
            78710,
            1870494,
            222517,
            149,
            55013,
            62147,
            58561,
            14461
           ]
          }
         ],
         "layout": {
          "font": {
           "size": 14
          },
          "height": 600,
          "margin": {
           "b": 100,
           "pad": 10
          },
          "title": {
           "text": "Payment Value - February-2020"
          },
          "xaxis": {
           "title": {
            "text": "Payment System"
           }
          },
          "yaxis": {
           "title": {
            "text": "Value (Rs Crore)"
           }
          }
         }
        },
        {
         "data": [
          {
           "marker": {
            "color": "#1f77b4"
           },
           "type": "bar",
           "x": [
            " IMPS Value (Rupees Crore)",
            "NACH Cr Value (Rupees Crore)",
            " NEFT Value (Rupees Crore)",
            " UPI Value (Rupees Crore)",
            "BHIM Aadhaar Pay Value (Rupees Crore)",
            "NACH Dr Value (Rupees Crore)",
            "Credit Cards Value (Rupees Crore)",
            "Debit Cards Value (Rupees Crore)",
            "Wallets Value (Rupees Crore)"
           ],
           "y": [
            201962,
            129113,
            2283665,
            206462,
            141,
            34095,
            50574,
            48209,
            13111
           ]
          }
         ],
         "layout": {
          "font": {
           "size": 14
          },
          "height": 600,
          "margin": {
           "b": 100,
           "pad": 10
          },
          "title": {
           "text": "Payment Value - March-2020"
          },
          "xaxis": {
           "title": {
            "text": "Payment System"
           }
          },
          "yaxis": {
           "title": {
            "text": "Value (Rs Crore)"
           }
          }
         }
        },
        {
         "data": [
          {
           "marker": {
            "color": "#1f77b4"
           },
           "type": "bar",
           "x": [
            " IMPS Value (Rupees Crore)",
            "NACH Cr Value (Rupees Crore)",
            " NEFT Value (Rupees Crore)",
            " UPI Value (Rupees Crore)",
            "BHIM Aadhaar Pay Value (Rupees Crore)",
            "NACH Dr Value (Rupees Crore)",
            "Credit Cards Value (Rupees Crore)",
            "Debit Cards Value (Rupees Crore)",
            "Wallets Value (Rupees Crore)"
           ],
           "y": [
            121141,
            90089,
            1306406,
            151141,
            217,
            55805,
            20765,
            23250,
            8693
           ]
          }
         ],
         "layout": {
          "font": {
           "size": 14
          },
          "height": 600,
          "margin": {
           "b": 100,
           "pad": 10
          },
          "title": {
           "text": "Payment Value - April-2020"
          },
          "xaxis": {
           "title": {
            "text": "Payment System"
           }
          },
          "yaxis": {
           "title": {
            "text": "Value (Rs Crore)"
           }
          }
         }
        },
        {
         "data": [
          {
           "marker": {
            "color": "#1f77b4"
           },
           "type": "bar",
           "x": [
            " IMPS Value (Rupees Crore)",
            "NACH Cr Value (Rupees Crore)",
            " NEFT Value (Rupees Crore)",
            " UPI Value (Rupees Crore)",
            "BHIM Aadhaar Pay Value (Rupees Crore)",
            "NACH Dr Value (Rupees Crore)",
            "Credit Cards Value (Rupees Crore)",
            "Debit Cards Value (Rupees Crore)",
            "Wallets Value (Rupees Crore)"
           ],
           "y": [
            169402,
            134229,
            1481750,
            218392,
            159,
            50767,
            32225,
            37984,
            11080
           ]
          }
         ],
         "layout": {
          "font": {
           "size": 14
          },
          "height": 600,
          "margin": {
           "b": 100,
           "pad": 10
          },
          "title": {
           "text": "Payment Value - May-2020"
          },
          "xaxis": {
           "title": {
            "text": "Payment System"
           }
          },
          "yaxis": {
           "title": {
            "text": "Value (Rs Crore)"
           }
          }
         }
        },
        {
         "data": [
          {
           "marker": {
            "color": "#1f77b4"
           },
           "type": "bar",
           "x": [
            " IMPS Value (Rupees Crore)",
            "NACH Cr Value (Rupees Crore)",
            " NEFT Value (Rupees Crore)",
            " UPI Value (Rupees Crore)",
            "BHIM Aadhaar Pay Value (Rupees Crore)",
            "NACH Dr Value (Rupees Crore)",
            "Credit Cards Value (Rupees Crore)",
            "Debit Cards Value (Rupees Crore)",
            "Wallets Value (Rupees Crore)"
           ],
           "y": [
            206951,
            112285,
            1906586,
            261835,
            186,
            70492,
            42773,
            47711,
            12132
           ]
          }
         ],
         "layout": {
          "font": {
           "size": 14
          },
          "height": 600,
          "margin": {
           "b": 100,
           "pad": 10
          },
          "title": {
           "text": "Payment Value - June-2020"
          },
          "xaxis": {
           "title": {
            "text": "Payment System"
           }
          },
          "yaxis": {
           "title": {
            "text": "Value (Rs Crore)"
           }
          }
         }
        },
        {
         "data": [
          {
           "marker": {
            "color": "#1f77b4"
           },
           "type": "bar",
           "x": [
            " IMPS Value (Rupees Crore)",
            "NACH Cr Value (Rupees Crore)",
            " NEFT Value (Rupees Crore)",
            " UPI Value (Rupees Crore)",
            "BHIM Aadhaar Pay Value (Rupees Crore)",
            "NACH Dr Value (Rupees Crore)",
            "Credit Cards Value (Rupees Crore)",
            "Debit Cards Value (Rupees Crore)",
            "Wallets Value (Rupees Crore)"
           ],
           "y": [
            225775,
            98960,
            1963113,
            290538,
            216,
            68083,
            45558,
            50325,
            12892
           ]
          }
         ],
         "layout": {
          "font": {
           "size": 14
          },
          "height": 600,
          "margin": {
           "b": 100,
           "pad": 10
          },
          "title": {
           "text": "Payment Value - July-2020"
          },
          "xaxis": {
           "title": {
            "text": "Payment System"
           }
          },
          "yaxis": {
           "title": {
            "text": "Value (Rs Crore)"
           }
          }
         }
        },
        {
         "data": [
          {
           "marker": {
            "color": "#1f77b4"
           },
           "type": "bar",
           "x": [
            " IMPS Value (Rupees Crore)",
            "NACH Cr Value (Rupees Crore)",
            " NEFT Value (Rupees Crore)",
            " UPI Value (Rupees Crore)",
            "BHIM Aadhaar Pay Value (Rupees Crore)",
            "NACH Dr Value (Rupees Crore)",
            "Credit Cards Value (Rupees Crore)",
            "Debit Cards Value (Rupees Crore)",
            "Wallets Value (Rupees Crore)"
           ],
           "y": [
            235137,
            84523,
            1930552,
            298308,
            253,
            66830,
            50311,
            54770,
            13000
           ]
          }
         ],
         "layout": {
          "font": {
           "size": 14
          },
          "height": 600,
          "margin": {
           "b": 100,
           "pad": 10
          },
          "title": {
           "text": "Payment Value - August-2020"
          },
          "xaxis": {
           "title": {
            "text": "Payment System"
           }
          },
          "yaxis": {
           "title": {
            "text": "Value (Rs Crore)"
           }
          }
         }
        },
        {
         "data": [
          {
           "marker": {
            "color": "#1f77b4"
           },
           "type": "bar",
           "x": [
            " IMPS Value (Rupees Crore)",
            "NACH Cr Value (Rupees Crore)",
            " NEFT Value (Rupees Crore)",
            " UPI Value (Rupees Crore)",
            "BHIM Aadhaar Pay Value (Rupees Crore)",
            "NACH Dr Value (Rupees Crore)",
            "Credit Cards Value (Rupees Crore)",
            "Debit Cards Value (Rupees Crore)",
            "Wallets Value (Rupees Crore)"
           ],
           "y": [
            248662,
            68231,
            2165515,
            329032,
            205,
            77958,
            51134,
            55366,
            13258
           ]
          }
         ],
         "layout": {
          "font": {
           "size": 14
          },
          "height": 600,
          "margin": {
           "b": 100,
           "pad": 10
          },
          "title": {
           "text": "Payment Value - September-2020"
          },
          "xaxis": {
           "title": {
            "text": "Payment System"
           }
          },
          "yaxis": {
           "title": {
            "text": "Value (Rs Crore)"
           }
          }
         }
        },
        {
         "data": [
          {
           "marker": {
            "color": "#1f77b4"
           },
           "type": "bar",
           "x": [
            " IMPS Value (Rupees Crore)",
            "NACH Cr Value (Rupees Crore)",
            " NEFT Value (Rupees Crore)",
            " UPI Value (Rupees Crore)",
            "BHIM Aadhaar Pay Value (Rupees Crore)",
            "NACH Dr Value (Rupees Crore)",
            "Credit Cards Value (Rupees Crore)",
            "Debit Cards Value (Rupees Crore)",
            "Wallets Value (Rupees Crore)"
           ],
           "y": [
            274645,
            91438,
            2235389,
            386107,
            192,
            79022,
            64652,
            69141,
            13827
           ]
          }
         ],
         "layout": {
          "font": {
           "size": 14
          },
          "height": 600,
          "margin": {
           "b": 100,
           "pad": 10
          },
          "title": {
           "text": "Payment Value - October-2020"
          },
          "xaxis": {
           "title": {
            "text": "Payment System"
           }
          },
          "yaxis": {
           "title": {
            "text": "Value (Rs Crore)"
           }
          }
         }
        },
        {
         "data": [
          {
           "marker": {
            "color": "#1f77b4"
           },
           "type": "bar",
           "x": [
            " IMPS Value (Rupees Crore)",
            "NACH Cr Value (Rupees Crore)",
            " NEFT Value (Rupees Crore)",
            " UPI Value (Rupees Crore)",
            "BHIM Aadhaar Pay Value (Rupees Crore)",
            "NACH Dr Value (Rupees Crore)",
            "Credit Cards Value (Rupees Crore)",
            "Debit Cards Value (Rupees Crore)",
            "Wallets Value (Rupees Crore)"
           ],
           "y": [
            276459,
            96127,
            2218252,
            390999,
            181,
            78433,
            62350,
            67889,
            12820
           ]
          }
         ],
         "layout": {
          "font": {
           "size": 14
          },
          "height": 600,
          "margin": {
           "b": 100,
           "pad": 10
          },
          "title": {
           "text": "Payment Value - November-2020"
          },
          "xaxis": {
           "title": {
            "text": "Payment System"
           }
          },
          "yaxis": {
           "title": {
            "text": "Value (Rs Crore)"
           }
          }
         }
        },
        {
         "data": [
          {
           "marker": {
            "color": "#1f77b4"
           },
           "type": "bar",
           "x": [
            " IMPS Value (Rupees Crore)",
            "NACH Cr Value (Rupees Crore)",
            " NEFT Value (Rupees Crore)",
            " UPI Value (Rupees Crore)",
            "BHIM Aadhaar Pay Value (Rupees Crore)",
            "NACH Dr Value (Rupees Crore)",
            "Credit Cards Value (Rupees Crore)",
            "Debit Cards Value (Rupees Crore)",
            "Wallets Value (Rupees Crore)"
           ],
           "y": [
            292325,
            118309,
            2558304,
            416176,
            187,
            81576,
            63487,
            65178,
            13392
           ]
          }
         ],
         "layout": {
          "font": {
           "size": 14
          },
          "height": 600,
          "margin": {
           "b": 100,
           "pad": 10
          },
          "title": {
           "text": "Payment Value - December-2020"
          },
          "xaxis": {
           "title": {
            "text": "Payment System"
           }
          },
          "yaxis": {
           "title": {
            "text": "Value (Rs Crore)"
           }
          }
         }
        },
        {
         "data": [
          {
           "marker": {
            "color": "#1f77b4"
           },
           "type": "bar",
           "x": [
            " IMPS Value (Rupees Crore)",
            "NACH Cr Value (Rupees Crore)",
            " NEFT Value (Rupees Crore)",
            " UPI Value (Rupees Crore)",
            "BHIM Aadhaar Pay Value (Rupees Crore)",
            "NACH Dr Value (Rupees Crore)",
            "Credit Cards Value (Rupees Crore)",
            "Debit Cards Value (Rupees Crore)",
            "Wallets Value (Rupees Crore)"
           ],
           "y": [
            288538,
            96681,
            2165869,
            431182,
            214,
            79044,
            64737,
            63157,
            13451
           ]
          }
         ],
         "layout": {
          "font": {
           "size": 14
          },
          "height": 600,
          "margin": {
           "b": 100,
           "pad": 10
          },
          "title": {
           "text": "Payment Value - January-2021"
          },
          "xaxis": {
           "title": {
            "text": "Payment System"
           }
          },
          "yaxis": {
           "title": {
            "text": "Value (Rs Crore)"
           }
          }
         }
        },
        {
         "data": [
          {
           "marker": {
            "color": "#1f77b4"
           },
           "type": "bar",
           "x": [
            " IMPS Value (Rupees Crore)",
            "NACH Cr Value (Rupees Crore)",
            " NEFT Value (Rupees Crore)",
            " UPI Value (Rupees Crore)",
            "BHIM Aadhaar Pay Value (Rupees Crore)",
            "NACH Dr Value (Rupees Crore)",
            "Credit Cards Value (Rupees Crore)",
            "Debit Cards Value (Rupees Crore)",
            "Wallets Value (Rupees Crore)"
           ],
           "y": [
            275230,
            61364,
            2152844,
            425063,
            223,
            68011,
            60105,
            59227,
            12717
           ]
          }
         ],
         "layout": {
          "font": {
           "size": 14
          },
          "height": 600,
          "margin": {
           "b": 100,
           "pad": 10
          },
          "title": {
           "text": "Payment Value - February-2021"
          },
          "xaxis": {
           "title": {
            "text": "Payment System"
           }
          },
          "yaxis": {
           "title": {
            "text": "Value (Rs Crore)"
           }
          }
         }
        },
        {
         "data": [
          {
           "marker": {
            "color": "#1f77b4"
           },
           "type": "bar",
           "x": [
            " IMPS Value (Rupees Crore)",
            "NACH Cr Value (Rupees Crore)",
            " NEFT Value (Rupees Crore)",
            " UPI Value (Rupees Crore)",
            "BHIM Aadhaar Pay Value (Rupees Crore)",
            "NACH Dr Value (Rupees Crore)",
            "Credit Cards Value (Rupees Crore)",
            "Debit Cards Value (Rupees Crore)",
            "Wallets Value (Rupees Crore)"
           ],
           "y": [
            327236,
            164298,
            3046329,
            504886,
            346,
            86005,
            72319,
            67386,
            14683
           ]
          }
         ],
         "layout": {
          "font": {
           "size": 14
          },
          "height": 600,
          "margin": {
           "b": 100,
           "pad": 10
          },
          "title": {
           "text": "Payment Value - March-2021"
          },
          "xaxis": {
           "title": {
            "text": "Payment System"
           }
          },
          "yaxis": {
           "title": {
            "text": "Value (Rs Crore)"
           }
          }
         }
        },
        {
         "data": [
          {
           "marker": {
            "color": "#1f77b4"
           },
           "type": "bar",
           "x": [
            " IMPS Value (Rupees Crore)",
            "NACH Cr Value (Rupees Crore)",
            " NEFT Value (Rupees Crore)",
            " UPI Value (Rupees Crore)",
            "BHIM Aadhaar Pay Value (Rupees Crore)",
            "NACH Dr Value (Rupees Crore)",
            "Credit Cards Value (Rupees Crore)",
            "Debit Cards Value (Rupees Crore)",
            "Wallets Value (Rupees Crore)"
           ],
           "y": [
            299542,
            101457,
            2046235,
            493664,
            377,
            74985,
            59049,
            56183,
            14250
           ]
          }
         ],
         "layout": {
          "font": {
           "size": 14
          },
          "height": 600,
          "margin": {
           "b": 100,
           "pad": 10
          },
          "title": {
           "text": "Payment Value - April-2021"
          },
          "xaxis": {
           "title": {
            "text": "Payment System"
           }
          },
          "yaxis": {
           "title": {
            "text": "Value (Rs Crore)"
           }
          }
         }
        },
        {
         "data": [
          {
           "marker": {
            "color": "#1f77b4"
           },
           "type": "bar",
           "x": [
            " IMPS Value (Rupees Crore)",
            "NACH Cr Value (Rupees Crore)",
            " NEFT Value (Rupees Crore)",
            " UPI Value (Rupees Crore)",
            "BHIM Aadhaar Pay Value (Rupees Crore)",
            "NACH Dr Value (Rupees Crore)",
            "Credit Cards Value (Rupees Crore)",
            "Debit Cards Value (Rupees Crore)",
            "Wallets Value (Rupees Crore)"
           ],
           "y": [
            266289,
            116463,
            1819459,
            489106,
            422,
            70069,
            52014,
            43225,
            14442
           ]
          }
         ],
         "layout": {
          "font": {
           "size": 14
          },
          "height": 600,
          "margin": {
           "b": 100,
           "pad": 10
          },
          "title": {
           "text": "Payment Value - May-2021"
          },
          "xaxis": {
           "title": {
            "text": "Payment System"
           }
          },
          "yaxis": {
           "title": {
            "text": "Value (Rs Crore)"
           }
          }
         }
        },
        {
         "data": [
          {
           "marker": {
            "color": "#1f77b4"
           },
           "type": "bar",
           "x": [
            " IMPS Value (Rupees Crore)",
            "NACH Cr Value (Rupees Crore)",
            " NEFT Value (Rupees Crore)",
            " UPI Value (Rupees Crore)",
            "BHIM Aadhaar Pay Value (Rupees Crore)",
            "NACH Dr Value (Rupees Crore)",
            "Credit Cards Value (Rupees Crore)",
            "Debit Cards Value (Rupees Crore)",
            "Wallets Value (Rupees Crore)"
           ],
           "y": [
            284111,
            92266,
            2097771,
            547373,
            417,
            86215,
            62746,
            51044,
            15849
           ]
          }
         ],
         "layout": {
          "font": {
           "size": 14
          },
          "height": 600,
          "margin": {
           "b": 100,
           "pad": 10
          },
          "title": {
           "text": "Payment Value - June-2021"
          },
          "xaxis": {
           "title": {
            "text": "Payment System"
           }
          },
          "yaxis": {
           "title": {
            "text": "Value (Rs Crore)"
           }
          }
         }
        },
        {
         "data": [
          {
           "marker": {
            "color": "#1f77b4"
           },
           "type": "bar",
           "x": [
            " IMPS Value (Rupees Crore)",
            "NACH Cr Value (Rupees Crore)",
            " NEFT Value (Rupees Crore)",
            " UPI Value (Rupees Crore)",
            "BHIM Aadhaar Pay Value (Rupees Crore)",
            "NACH Dr Value (Rupees Crore)",
            "Credit Cards Value (Rupees Crore)",
            "Debit Cards Value (Rupees Crore)",
            "Wallets Value (Rupees Crore)"
           ],
           "y": [
            311310,
            85697,
            2204303,
            605883,
            414,
            85980,
            74885,
            61087,
            16624
           ]
          }
         ],
         "layout": {
          "font": {
           "size": 14
          },
          "height": 600,
          "margin": {
           "b": 100,
           "pad": 10
          },
          "title": {
           "text": "Payment Value - July-2021"
          },
          "xaxis": {
           "title": {
            "text": "Payment System"
           }
          },
          "yaxis": {
           "title": {
            "text": "Value (Rs Crore)"
           }
          }
         }
        },
        {
         "data": [
          {
           "marker": {
            "color": "#1f77b4"
           },
           "type": "bar",
           "x": [
            " IMPS Value (Rupees Crore)",
            "NACH Cr Value (Rupees Crore)",
            " NEFT Value (Rupees Crore)",
            " UPI Value (Rupees Crore)",
            "BHIM Aadhaar Pay Value (Rupees Crore)",
            "NACH Dr Value (Rupees Crore)",
            "Credit Cards Value (Rupees Crore)",
            "Debit Cards Value (Rupees Crore)",
            "Wallets Value (Rupees Crore)"
           ],
           "y": [
            320203,
            98119,
            2209818,
            639117,
            462,
            84818,
            77733,
            64867,
            17746
           ]
          }
         ],
         "layout": {
          "font": {
           "size": 14
          },
          "height": 600,
          "margin": {
           "b": 100,
           "pad": 10
          },
          "title": {
           "text": "Payment Value - August-2021"
          },
          "xaxis": {
           "title": {
            "text": "Payment System"
           }
          },
          "yaxis": {
           "title": {
            "text": "Value (Rs Crore)"
           }
          }
         }
        },
        {
         "data": [
          {
           "marker": {
            "color": "#1f77b4"
           },
           "type": "bar",
           "x": [
            " IMPS Value (Rupees Crore)",
            "NACH Cr Value (Rupees Crore)",
            " NEFT Value (Rupees Crore)",
            " UPI Value (Rupees Crore)",
            "BHIM Aadhaar Pay Value (Rupees Crore)",
            "NACH Dr Value (Rupees Crore)",
            "Credit Cards Value (Rupees Crore)",
            "Debit Cards Value (Rupees Crore)",
            "Wallets Value (Rupees Crore)"
           ],
           "y": [
            324096,
            91281,
            2419688,
            654648,
            440,
            84068,
            80228,
            62589,
            20230
           ]
          }
         ],
         "layout": {
          "font": {
           "size": 14
          },
          "height": 600,
          "margin": {
           "b": 100,
           "pad": 10
          },
          "title": {
           "text": "Payment Value - September-2021"
          },
          "xaxis": {
           "title": {
            "text": "Payment System"
           }
          },
          "yaxis": {
           "title": {
            "text": "Value (Rs Crore)"
           }
          }
         }
        },
        {
         "data": [
          {
           "marker": {
            "color": "#1f77b4"
           },
           "type": "bar",
           "x": [
            " IMPS Value (Rupees Crore)",
            "NACH Cr Value (Rupees Crore)",
            " NEFT Value (Rupees Crore)",
            " UPI Value (Rupees Crore)",
            "BHIM Aadhaar Pay Value (Rupees Crore)",
            "NACH Dr Value (Rupees Crore)",
            "Credit Cards Value (Rupees Crore)",
            "Debit Cards Value (Rupees Crore)",
            "Wallets Value (Rupees Crore)"
           ],
           "y": [
            370712,
            122519,
            2476397,
            771407,
            560,
            85103,
            100943,
            76471,
            21702
           ]
          }
         ],
         "layout": {
          "font": {
           "size": 14
          },
          "height": 600,
          "margin": {
           "b": 100,
           "pad": 10
          },
          "title": {
           "text": "Payment Value - October-2021"
          },
          "xaxis": {
           "title": {
            "text": "Payment System"
           }
          },
          "yaxis": {
           "title": {
            "text": "Value (Rs Crore)"
           }
          }
         }
        },
        {
         "data": [
          {
           "marker": {
            "color": "#1f77b4"
           },
           "type": "bar",
           "x": [
            " IMPS Value (Rupees Crore)",
            "NACH Cr Value (Rupees Crore)",
            " NEFT Value (Rupees Crore)",
            " UPI Value (Rupees Crore)",
            "BHIM Aadhaar Pay Value (Rupees Crore)",
            "NACH Dr Value (Rupees Crore)",
            "Credit Cards Value (Rupees Crore)",
            "Debit Cards Value (Rupees Crore)",
            "Wallets Value (Rupees Crore)"
           ],
           "y": [
            364672,
            97513,
            2314490,
            768436,
            536,
            86417,
            89217,
            67109,
            21041
           ]
          }
         ],
         "layout": {
          "font": {
           "size": 14
          },
          "height": 600,
          "margin": {
           "b": 100,
           "pad": 10
          },
          "title": {
           "text": "Payment Value - November-2021"
          },
          "xaxis": {
           "title": {
            "text": "Payment System"
           }
          },
          "yaxis": {
           "title": {
            "text": "Value (Rs Crore)"
           }
          }
         }
        },
        {
         "data": [
          {
           "marker": {
            "color": "#1f77b4"
           },
           "type": "bar",
           "x": [
            " IMPS Value (Rupees Crore)",
            "NACH Cr Value (Rupees Crore)",
            " NEFT Value (Rupees Crore)",
            " UPI Value (Rupees Crore)",
            "BHIM Aadhaar Pay Value (Rupees Crore)",
            "NACH Dr Value (Rupees Crore)",
            "Credit Cards Value (Rupees Crore)",
            "Debit Cards Value (Rupees Crore)",
            "Wallets Value (Rupees Crore)"
           ],
           "y": [
            396411,
            113132,
            2724980,
            826848,
            611,
            90426,
            93907,
            66491,
            21195
           ]
          }
         ],
         "layout": {
          "font": {
           "size": 14
          },
          "height": 600,
          "margin": {
           "b": 100,
           "pad": 10
          },
          "title": {
           "text": "Payment Value - December-2021"
          },
          "xaxis": {
           "title": {
            "text": "Payment System"
           }
          },
          "yaxis": {
           "title": {
            "text": "Value (Rs Crore)"
           }
          }
         }
        },
        {
         "data": [
          {
           "marker": {
            "color": "#1f77b4"
           },
           "type": "bar",
           "x": [
            " IMPS Value (Rupees Crore)",
            "NACH Cr Value (Rupees Crore)",
            " NEFT Value (Rupees Crore)",
            " UPI Value (Rupees Crore)",
            "BHIM Aadhaar Pay Value (Rupees Crore)",
            "NACH Dr Value (Rupees Crore)",
            "Credit Cards Value (Rupees Crore)",
            "Debit Cards Value (Rupees Crore)",
            "Wallets Value (Rupees Crore)"
           ],
           "y": [
            387007,
            126812,
            2442686,
            831993,
            728,
            90703,
            87769,
            60025,
            19789
           ]
          }
         ],
         "layout": {
          "font": {
           "size": 14
          },
          "height": 600,
          "margin": {
           "b": 100,
           "pad": 10
          },
          "title": {
           "text": "Payment Value - January-2022"
          },
          "xaxis": {
           "title": {
            "text": "Payment System"
           }
          },
          "yaxis": {
           "title": {
            "text": "Value (Rs Crore)"
           }
          }
         }
        },
        {
         "data": [
          {
           "marker": {
            "color": "#1f77b4"
           },
           "type": "bar",
           "x": [
            " IMPS Value (Rupees Crore)",
            "NACH Cr Value (Rupees Crore)",
            " NEFT Value (Rupees Crore)",
            " UPI Value (Rupees Crore)",
            "BHIM Aadhaar Pay Value (Rupees Crore)",
            "NACH Dr Value (Rupees Crore)",
            "Credit Cards Value (Rupees Crore)",
            "Debit Cards Value (Rupees Crore)",
            "Wallets Value (Rupees Crore)"
           ],
           "y": [
            384404,
            104998,
            2477059,
            826843,
            506,
            90056,
            86041,
            57070,
            17259
           ]
          }
         ],
         "layout": {
          "font": {
           "size": 14
          },
          "height": 600,
          "margin": {
           "b": 100,
           "pad": 10
          },
          "title": {
           "text": "Payment Value - February-2022"
          },
          "xaxis": {
           "title": {
            "text": "Payment System"
           }
          },
          "yaxis": {
           "title": {
            "text": "Value (Rs Crore)"
           }
          }
         }
        },
        {
         "data": [
          {
           "marker": {
            "color": "#1f77b4"
           },
           "type": "bar",
           "x": [
            " IMPS Value (Rupees Crore)",
            "NACH Cr Value (Rupees Crore)",
            " NEFT Value (Rupees Crore)",
            " UPI Value (Rupees Crore)",
            "BHIM Aadhaar Pay Value (Rupees Crore)",
            "NACH Dr Value (Rupees Crore)",
            "Credit Cards Value (Rupees Crore)",
            "Debit Cards Value (Rupees Crore)",
            "Wallets Value (Rupees Crore)"
           ],
           "y": [
            462279,
            131428,
            3492578,
            960582,
            640,
            97801,
            107107,
            64052,
            20054
           ]
          }
         ],
         "layout": {
          "font": {
           "size": 14
          },
          "height": 600,
          "margin": {
           "b": 100,
           "pad": 10
          },
          "title": {
           "text": "Payment Value - March-2022"
          },
          "xaxis": {
           "title": {
            "text": "Payment System"
           }
          },
          "yaxis": {
           "title": {
            "text": "Value (Rs Crore)"
           }
          }
         }
        },
        {
         "data": [
          {
           "marker": {
            "color": "#1f77b4"
           },
           "type": "bar",
           "x": [
            " IMPS Value (Rupees Crore)",
            "NACH Cr Value (Rupees Crore)",
            " NEFT Value (Rupees Crore)",
            " UPI Value (Rupees Crore)",
            "BHIM Aadhaar Pay Value (Rupees Crore)",
            "NACH Dr Value (Rupees Crore)",
            "Credit Cards Value (Rupees Crore)",
            "Debit Cards Value (Rupees Crore)",
            "Wallets Value (Rupees Crore)"
           ],
           "y": [
            444670,
            112354,
            2498587,
            983573,
            580,
            92902,
            105459,
            65062,
            19360
           ]
          }
         ],
         "layout": {
          "font": {
           "size": 14
          },
          "height": 600,
          "margin": {
           "b": 100,
           "pad": 10
          },
          "title": {
           "text": "Payment Value - April-2022"
          },
          "xaxis": {
           "title": {
            "text": "Payment System"
           }
          },
          "yaxis": {
           "title": {
            "text": "Value (Rs Crore)"
           }
          }
         }
        },
        {
         "data": [
          {
           "marker": {
            "color": "#1f77b4"
           },
           "type": "bar",
           "x": [
            " IMPS Value (Rupees Crore)",
            "NACH Cr Value (Rupees Crore)",
            " NEFT Value (Rupees Crore)",
            " UPI Value (Rupees Crore)",
            "BHIM Aadhaar Pay Value (Rupees Crore)",
            "NACH Dr Value (Rupees Crore)",
            "Credit Cards Value (Rupees Crore)",
            "Debit Cards Value (Rupees Crore)",
            "Wallets Value (Rupees Crore)"
           ],
           "y": [
            452328,
            97341,
            2546928,
            1040221,
            571,
            94752,
            113694,
            65827,
            19616
           ]
          }
         ],
         "layout": {
          "font": {
           "size": 14
          },
          "height": 600,
          "margin": {
           "b": 100,
           "pad": 10
          },
          "title": {
           "text": "Payment Value - May-2022"
          },
          "xaxis": {
           "title": {
            "text": "Payment System"
           }
          },
          "yaxis": {
           "title": {
            "text": "Value (Rs Crore)"
           }
          }
         }
        },
        {
         "data": [
          {
           "marker": {
            "color": "#1f77b4"
           },
           "type": "bar",
           "x": [
            " IMPS Value (Rupees Crore)",
            "NACH Cr Value (Rupees Crore)",
            " NEFT Value (Rupees Crore)",
            " UPI Value (Rupees Crore)",
            "BHIM Aadhaar Pay Value (Rupees Crore)",
            "NACH Dr Value (Rupees Crore)",
            "Credit Cards Value (Rupees Crore)",
            "Debit Cards Value (Rupees Crore)",
            "Wallets Value (Rupees Crore)"
           ],
           "y": [
            443776,
            100909,
            2716013,
            1014413,
            1049,
            99060,
            108752,
            60917,
            18488
           ]
          }
         ],
         "layout": {
          "font": {
           "size": 14
          },
          "height": 600,
          "margin": {
           "b": 100,
           "pad": 10
          },
          "title": {
           "text": "Payment Value - June-2022"
          },
          "xaxis": {
           "title": {
            "text": "Payment System"
           }
          },
          "yaxis": {
           "title": {
            "text": "Value (Rs Crore)"
           }
          }
         }
        },
        {
         "data": [
          {
           "marker": {
            "color": "#1f77b4"
           },
           "type": "bar",
           "x": [
            " IMPS Value (Rupees Crore)",
            "NACH Cr Value (Rupees Crore)",
            " NEFT Value (Rupees Crore)",
            " UPI Value (Rupees Crore)",
            "BHIM Aadhaar Pay Value (Rupees Crore)",
            "NACH Dr Value (Rupees Crore)",
            "Credit Cards Value (Rupees Crore)",
            "Debit Cards Value (Rupees Crore)",
            "Wallets Value (Rupees Crore)"
           ],
           "y": [
            444541,
            119677,
            2627354,
            1063117,
            621,
            99754,
            115856,
            64515,
            18775
           ]
          }
         ],
         "layout": {
          "font": {
           "size": 14
          },
          "height": 600,
          "margin": {
           "b": 100,
           "pad": 10
          },
          "title": {
           "text": "Payment Value - July-2022"
          },
          "xaxis": {
           "title": {
            "text": "Payment System"
           }
          },
          "yaxis": {
           "title": {
            "text": "Value (Rs Crore)"
           }
          }
         }
        },
        {
         "data": [
          {
           "marker": {
            "color": "#1f77b4"
           },
           "type": "bar",
           "x": [
            " IMPS Value (Rupees Crore)",
            "NACH Cr Value (Rupees Crore)",
            " NEFT Value (Rupees Crore)",
            " UPI Value (Rupees Crore)",
            "BHIM Aadhaar Pay Value (Rupees Crore)",
            "NACH Dr Value (Rupees Crore)",
            "Credit Cards Value (Rupees Crore)",
            "Debit Cards Value (Rupees Crore)",
            "Wallets Value (Rupees Crore)"
           ],
           "y": [
            445989,
            128480,
            2631639,
            1073162,
            516,
            102100,
            112358,
            62159,
            18495
           ]
          }
         ],
         "layout": {
          "font": {
           "size": 14
          },
          "height": 600,
          "margin": {
           "b": 100,
           "pad": 10
          },
          "title": {
           "text": "Payment Value - August-2022"
          },
          "xaxis": {
           "title": {
            "text": "Payment System"
           }
          },
          "yaxis": {
           "title": {
            "text": "Value (Rs Crore)"
           }
          }
         }
        },
        {
         "data": [
          {
           "marker": {
            "color": "#1f77b4"
           },
           "type": "bar",
           "x": [
            " IMPS Value (Rupees Crore)",
            "NACH Cr Value (Rupees Crore)",
            " NEFT Value (Rupees Crore)",
            " UPI Value (Rupees Crore)",
            "BHIM Aadhaar Pay Value (Rupees Crore)",
            "NACH Dr Value (Rupees Crore)",
            "Credit Cards Value (Rupees Crore)",
            "Debit Cards Value (Rupees Crore)",
            "Wallets Value (Rupees Crore)"
           ],
           "y": [
            454451,
            114718,
            2922913,
            1116438,
            516,
            105128,
            122094,
            61204,
            17915
           ]
          }
         ],
         "layout": {
          "font": {
           "size": 14
          },
          "height": 600,
          "margin": {
           "b": 100,
           "pad": 10
          },
          "title": {
           "text": "Payment Value - September-2022"
          },
          "xaxis": {
           "title": {
            "text": "Payment System"
           }
          },
          "yaxis": {
           "title": {
            "text": "Value (Rs Crore)"
           }
          }
         }
        },
        {
         "data": [
          {
           "marker": {
            "color": "#1f77b4"
           },
           "type": "bar",
           "x": [
            " IMPS Value (Rupees Crore)",
            "NACH Cr Value (Rupees Crore)",
            " NEFT Value (Rupees Crore)",
            " UPI Value (Rupees Crore)",
            "BHIM Aadhaar Pay Value (Rupees Crore)",
            "NACH Dr Value (Rupees Crore)",
            "Credit Cards Value (Rupees Crore)",
            "Debit Cards Value (Rupees Crore)",
            "Wallets Value (Rupees Crore)"
           ],
           "y": [
            466082,
            127118,
            2726827,
            1211588,
            604,
            106131,
            129048,
            67073,
            18450
           ]
          }
         ],
         "layout": {
          "font": {
           "size": 14
          },
          "height": 600,
          "margin": {
           "b": 100,
           "pad": 10
          },
          "title": {
           "text": "Payment Value - October-2022"
          },
          "xaxis": {
           "title": {
            "text": "Payment System"
           }
          },
          "yaxis": {
           "title": {
            "text": "Value (Rs Crore)"
           }
          }
         }
        },
        {
         "data": [
          {
           "marker": {
            "color": "#1f77b4"
           },
           "type": "bar",
           "x": [
            " IMPS Value (Rupees Crore)",
            "NACH Cr Value (Rupees Crore)",
            " NEFT Value (Rupees Crore)",
            " UPI Value (Rupees Crore)",
            "BHIM Aadhaar Pay Value (Rupees Crore)",
            "NACH Dr Value (Rupees Crore)",
            "Credit Cards Value (Rupees Crore)",
            "Debit Cards Value (Rupees Crore)",
            "Wallets Value (Rupees Crore)"
           ],
           "y": [
            454679,
            141901,
            2730878,
            1190593,
            475,
            109479,
            114794,
            55592,
            17342
           ]
          }
         ],
         "layout": {
          "font": {
           "size": 14
          },
          "height": 600,
          "margin": {
           "b": 100,
           "pad": 10
          },
          "title": {
           "text": "Payment Value - November-2022"
          },
          "xaxis": {
           "title": {
            "text": "Payment System"
           }
          },
          "yaxis": {
           "title": {
            "text": "Value (Rs Crore)"
           }
          }
         }
        },
        {
         "data": [
          {
           "marker": {
            "color": "#1f77b4"
           },
           "type": "bar",
           "x": [
            " IMPS Value (Rupees Crore)",
            "NACH Cr Value (Rupees Crore)",
            " NEFT Value (Rupees Crore)",
            " UPI Value (Rupees Crore)",
            "BHIM Aadhaar Pay Value (Rupees Crore)",
            "NACH Dr Value (Rupees Crore)",
            "Credit Cards Value (Rupees Crore)",
            "Debit Cards Value (Rupees Crore)",
            "Wallets Value (Rupees Crore)"
           ],
           "y": [
            486552,
            157435,
            2981681,
            1281971,
            446,
            115737,
            126524,
            58626,
            18400
           ]
          }
         ],
         "layout": {
          "font": {
           "size": 14
          },
          "height": 600,
          "margin": {
           "b": 100,
           "pad": 10
          },
          "title": {
           "text": "Payment Value - December-2022"
          },
          "xaxis": {
           "title": {
            "text": "Payment System"
           }
          },
          "yaxis": {
           "title": {
            "text": "Value (Rs Crore)"
           }
          }
         }
        },
        {
         "data": [
          {
           "marker": {
            "color": "#1f77b4"
           },
           "type": "bar",
           "x": [
            " IMPS Value (Rupees Crore)",
            "NACH Cr Value (Rupees Crore)",
            " NEFT Value (Rupees Crore)",
            " UPI Value (Rupees Crore)",
            "BHIM Aadhaar Pay Value (Rupees Crore)",
            "NACH Dr Value (Rupees Crore)",
            "Credit Cards Value (Rupees Crore)",
            "Debit Cards Value (Rupees Crore)",
            "Wallets Value (Rupees Crore)"
           ],
           "y": [
            477491,
            131620,
            2810180,
            1299059,
            468,
            114953,
            127682,
            55778,
            17899
           ]
          }
         ],
         "layout": {
          "font": {
           "size": 14
          },
          "height": 600,
          "margin": {
           "b": 100,
           "pad": 10
          },
          "title": {
           "text": "Payment Value - January-2023"
          },
          "xaxis": {
           "title": {
            "text": "Payment System"
           }
          },
          "yaxis": {
           "title": {
            "text": "Value (Rs Crore)"
           }
          }
         }
        },
        {
         "data": [
          {
           "marker": {
            "color": "#1f77b4"
           },
           "type": "bar",
           "x": [
            " IMPS Value (Rupees Crore)",
            "NACH Cr Value (Rupees Crore)",
            " NEFT Value (Rupees Crore)",
            " UPI Value (Rupees Crore)",
            "BHIM Aadhaar Pay Value (Rupees Crore)",
            "NACH Dr Value (Rupees Crore)",
            "Credit Cards Value (Rupees Crore)",
            "Debit Cards Value (Rupees Crore)",
            "Wallets Value (Rupees Crore)"
           ],
           "y": [
            468647,
            134032,
            2775972,
            1235847,
            454,
            114630,
            118684,
            49693,
            18356
           ]
          }
         ],
         "layout": {
          "font": {
           "size": 14
          },
          "height": 600,
          "margin": {
           "b": 100,
           "pad": 10
          },
          "title": {
           "text": "Payment Value - February-2023"
          },
          "xaxis": {
           "title": {
            "text": "Payment System"
           }
          },
          "yaxis": {
           "title": {
            "text": "Value (Rs Crore)"
           }
          }
         }
        }
       ],
       "layout": {
        "font": {
         "size": 14
        },
        "height": 600,
        "margin": {
         "b": 100,
         "pad": 10
        },
        "template": {
         "data": {
          "bar": [
           {
            "error_x": {
             "color": "#2a3f5f"
            },
            "error_y": {
             "color": "#2a3f5f"
            },
            "marker": {
             "line": {
              "color": "#E5ECF6",
              "width": 0.5
             },
             "pattern": {
              "fillmode": "overlay",
              "size": 10,
              "solidity": 0.2
             }
            },
            "type": "bar"
           }
          ],
          "barpolar": [
           {
            "marker": {
             "line": {
              "color": "#E5ECF6",
              "width": 0.5
             },
             "pattern": {
              "fillmode": "overlay",
              "size": 10,
              "solidity": 0.2
             }
            },
            "type": "barpolar"
           }
          ],
          "carpet": [
           {
            "aaxis": {
             "endlinecolor": "#2a3f5f",
             "gridcolor": "white",
             "linecolor": "white",
             "minorgridcolor": "white",
             "startlinecolor": "#2a3f5f"
            },
            "baxis": {
             "endlinecolor": "#2a3f5f",
             "gridcolor": "white",
             "linecolor": "white",
             "minorgridcolor": "white",
             "startlinecolor": "#2a3f5f"
            },
            "type": "carpet"
           }
          ],
          "choropleth": [
           {
            "colorbar": {
             "outlinewidth": 0,
             "ticks": ""
            },
            "type": "choropleth"
           }
          ],
          "contour": [
           {
            "colorbar": {
             "outlinewidth": 0,
             "ticks": ""
            },
            "colorscale": [
             [
              0,
              "#0d0887"
             ],
             [
              0.1111111111111111,
              "#46039f"
             ],
             [
              0.2222222222222222,
              "#7201a8"
             ],
             [
              0.3333333333333333,
              "#9c179e"
             ],
             [
              0.4444444444444444,
              "#bd3786"
             ],
             [
              0.5555555555555556,
              "#d8576b"
             ],
             [
              0.6666666666666666,
              "#ed7953"
             ],
             [
              0.7777777777777778,
              "#fb9f3a"
             ],
             [
              0.8888888888888888,
              "#fdca26"
             ],
             [
              1,
              "#f0f921"
             ]
            ],
            "type": "contour"
           }
          ],
          "contourcarpet": [
           {
            "colorbar": {
             "outlinewidth": 0,
             "ticks": ""
            },
            "type": "contourcarpet"
           }
          ],
          "heatmap": [
           {
            "colorbar": {
             "outlinewidth": 0,
             "ticks": ""
            },
            "colorscale": [
             [
              0,
              "#0d0887"
             ],
             [
              0.1111111111111111,
              "#46039f"
             ],
             [
              0.2222222222222222,
              "#7201a8"
             ],
             [
              0.3333333333333333,
              "#9c179e"
             ],
             [
              0.4444444444444444,
              "#bd3786"
             ],
             [
              0.5555555555555556,
              "#d8576b"
             ],
             [
              0.6666666666666666,
              "#ed7953"
             ],
             [
              0.7777777777777778,
              "#fb9f3a"
             ],
             [
              0.8888888888888888,
              "#fdca26"
             ],
             [
              1,
              "#f0f921"
             ]
            ],
            "type": "heatmap"
           }
          ],
          "heatmapgl": [
           {
            "colorbar": {
             "outlinewidth": 0,
             "ticks": ""
            },
            "colorscale": [
             [
              0,
              "#0d0887"
             ],
             [
              0.1111111111111111,
              "#46039f"
             ],
             [
              0.2222222222222222,
              "#7201a8"
             ],
             [
              0.3333333333333333,
              "#9c179e"
             ],
             [
              0.4444444444444444,
              "#bd3786"
             ],
             [
              0.5555555555555556,
              "#d8576b"
             ],
             [
              0.6666666666666666,
              "#ed7953"
             ],
             [
              0.7777777777777778,
              "#fb9f3a"
             ],
             [
              0.8888888888888888,
              "#fdca26"
             ],
             [
              1,
              "#f0f921"
             ]
            ],
            "type": "heatmapgl"
           }
          ],
          "histogram": [
           {
            "marker": {
             "pattern": {
              "fillmode": "overlay",
              "size": 10,
              "solidity": 0.2
             }
            },
            "type": "histogram"
           }
          ],
          "histogram2d": [
           {
            "colorbar": {
             "outlinewidth": 0,
             "ticks": ""
            },
            "colorscale": [
             [
              0,
              "#0d0887"
             ],
             [
              0.1111111111111111,
              "#46039f"
             ],
             [
              0.2222222222222222,
              "#7201a8"
             ],
             [
              0.3333333333333333,
              "#9c179e"
             ],
             [
              0.4444444444444444,
              "#bd3786"
             ],
             [
              0.5555555555555556,
              "#d8576b"
             ],
             [
              0.6666666666666666,
              "#ed7953"
             ],
             [
              0.7777777777777778,
              "#fb9f3a"
             ],
             [
              0.8888888888888888,
              "#fdca26"
             ],
             [
              1,
              "#f0f921"
             ]
            ],
            "type": "histogram2d"
           }
          ],
          "histogram2dcontour": [
           {
            "colorbar": {
             "outlinewidth": 0,
             "ticks": ""
            },
            "colorscale": [
             [
              0,
              "#0d0887"
             ],
             [
              0.1111111111111111,
              "#46039f"
             ],
             [
              0.2222222222222222,
              "#7201a8"
             ],
             [
              0.3333333333333333,
              "#9c179e"
             ],
             [
              0.4444444444444444,
              "#bd3786"
             ],
             [
              0.5555555555555556,
              "#d8576b"
             ],
             [
              0.6666666666666666,
              "#ed7953"
             ],
             [
              0.7777777777777778,
              "#fb9f3a"
             ],
             [
              0.8888888888888888,
              "#fdca26"
             ],
             [
              1,
              "#f0f921"
             ]
            ],
            "type": "histogram2dcontour"
           }
          ],
          "mesh3d": [
           {
            "colorbar": {
             "outlinewidth": 0,
             "ticks": ""
            },
            "type": "mesh3d"
           }
          ],
          "parcoords": [
           {
            "line": {
             "colorbar": {
              "outlinewidth": 0,
              "ticks": ""
             }
            },
            "type": "parcoords"
           }
          ],
          "pie": [
           {
            "automargin": true,
            "type": "pie"
           }
          ],
          "scatter": [
           {
            "fillpattern": {
             "fillmode": "overlay",
             "size": 10,
             "solidity": 0.2
            },
            "type": "scatter"
           }
          ],
          "scatter3d": [
           {
            "line": {
             "colorbar": {
              "outlinewidth": 0,
              "ticks": ""
             }
            },
            "marker": {
             "colorbar": {
              "outlinewidth": 0,
              "ticks": ""
             }
            },
            "type": "scatter3d"
           }
          ],
          "scattercarpet": [
           {
            "marker": {
             "colorbar": {
              "outlinewidth": 0,
              "ticks": ""
             }
            },
            "type": "scattercarpet"
           }
          ],
          "scattergeo": [
           {
            "marker": {
             "colorbar": {
              "outlinewidth": 0,
              "ticks": ""
             }
            },
            "type": "scattergeo"
           }
          ],
          "scattergl": [
           {
            "marker": {
             "colorbar": {
              "outlinewidth": 0,
              "ticks": ""
             }
            },
            "type": "scattergl"
           }
          ],
          "scattermapbox": [
           {
            "marker": {
             "colorbar": {
              "outlinewidth": 0,
              "ticks": ""
             }
            },
            "type": "scattermapbox"
           }
          ],
          "scatterpolar": [
           {
            "marker": {
             "colorbar": {
              "outlinewidth": 0,
              "ticks": ""
             }
            },
            "type": "scatterpolar"
           }
          ],
          "scatterpolargl": [
           {
            "marker": {
             "colorbar": {
              "outlinewidth": 0,
              "ticks": ""
             }
            },
            "type": "scatterpolargl"
           }
          ],
          "scatterternary": [
           {
            "marker": {
             "colorbar": {
              "outlinewidth": 0,
              "ticks": ""
             }
            },
            "type": "scatterternary"
           }
          ],
          "surface": [
           {
            "colorbar": {
             "outlinewidth": 0,
             "ticks": ""
            },
            "colorscale": [
             [
              0,
              "#0d0887"
             ],
             [
              0.1111111111111111,
              "#46039f"
             ],
             [
              0.2222222222222222,
              "#7201a8"
             ],
             [
              0.3333333333333333,
              "#9c179e"
             ],
             [
              0.4444444444444444,
              "#bd3786"
             ],
             [
              0.5555555555555556,
              "#d8576b"
             ],
             [
              0.6666666666666666,
              "#ed7953"
             ],
             [
              0.7777777777777778,
              "#fb9f3a"
             ],
             [
              0.8888888888888888,
              "#fdca26"
             ],
             [
              1,
              "#f0f921"
             ]
            ],
            "type": "surface"
           }
          ],
          "table": [
           {
            "cells": {
             "fill": {
              "color": "#EBF0F8"
             },
             "line": {
              "color": "white"
             }
            },
            "header": {
             "fill": {
              "color": "#C8D4E3"
             },
             "line": {
              "color": "white"
             }
            },
            "type": "table"
           }
          ]
         },
         "layout": {
          "annotationdefaults": {
           "arrowcolor": "#2a3f5f",
           "arrowhead": 0,
           "arrowwidth": 1
          },
          "autotypenumbers": "strict",
          "coloraxis": {
           "colorbar": {
            "outlinewidth": 0,
            "ticks": ""
           }
          },
          "colorscale": {
           "diverging": [
            [
             0,
             "#8e0152"
            ],
            [
             0.1,
             "#c51b7d"
            ],
            [
             0.2,
             "#de77ae"
            ],
            [
             0.3,
             "#f1b6da"
            ],
            [
             0.4,
             "#fde0ef"
            ],
            [
             0.5,
             "#f7f7f7"
            ],
            [
             0.6,
             "#e6f5d0"
            ],
            [
             0.7,
             "#b8e186"
            ],
            [
             0.8,
             "#7fbc41"
            ],
            [
             0.9,
             "#4d9221"
            ],
            [
             1,
             "#276419"
            ]
           ],
           "sequential": [
            [
             0,
             "#0d0887"
            ],
            [
             0.1111111111111111,
             "#46039f"
            ],
            [
             0.2222222222222222,
             "#7201a8"
            ],
            [
             0.3333333333333333,
             "#9c179e"
            ],
            [
             0.4444444444444444,
             "#bd3786"
            ],
            [
             0.5555555555555556,
             "#d8576b"
            ],
            [
             0.6666666666666666,
             "#ed7953"
            ],
            [
             0.7777777777777778,
             "#fb9f3a"
            ],
            [
             0.8888888888888888,
             "#fdca26"
            ],
            [
             1,
             "#f0f921"
            ]
           ],
           "sequentialminus": [
            [
             0,
             "#0d0887"
            ],
            [
             0.1111111111111111,
             "#46039f"
            ],
            [
             0.2222222222222222,
             "#7201a8"
            ],
            [
             0.3333333333333333,
             "#9c179e"
            ],
            [
             0.4444444444444444,
             "#bd3786"
            ],
            [
             0.5555555555555556,
             "#d8576b"
            ],
            [
             0.6666666666666666,
             "#ed7953"
            ],
            [
             0.7777777777777778,
             "#fb9f3a"
            ],
            [
             0.8888888888888888,
             "#fdca26"
            ],
            [
             1,
             "#f0f921"
            ]
           ]
          },
          "colorway": [
           "#636efa",
           "#EF553B",
           "#00cc96",
           "#ab63fa",
           "#FFA15A",
           "#19d3f3",
           "#FF6692",
           "#B6E880",
           "#FF97FF",
           "#FECB52"
          ],
          "font": {
           "color": "#2a3f5f"
          },
          "geo": {
           "bgcolor": "white",
           "lakecolor": "white",
           "landcolor": "#E5ECF6",
           "showlakes": true,
           "showland": true,
           "subunitcolor": "white"
          },
          "hoverlabel": {
           "align": "left"
          },
          "hovermode": "closest",
          "mapbox": {
           "style": "light"
          },
          "paper_bgcolor": "white",
          "plot_bgcolor": "#E5ECF6",
          "polar": {
           "angularaxis": {
            "gridcolor": "white",
            "linecolor": "white",
            "ticks": ""
           },
           "bgcolor": "#E5ECF6",
           "radialaxis": {
            "gridcolor": "white",
            "linecolor": "white",
            "ticks": ""
           }
          },
          "scene": {
           "xaxis": {
            "backgroundcolor": "#E5ECF6",
            "gridcolor": "white",
            "gridwidth": 2,
            "linecolor": "white",
            "showbackground": true,
            "ticks": "",
            "zerolinecolor": "white"
           },
           "yaxis": {
            "backgroundcolor": "#E5ECF6",
            "gridcolor": "white",
            "gridwidth": 2,
            "linecolor": "white",
            "showbackground": true,
            "ticks": "",
            "zerolinecolor": "white"
           },
           "zaxis": {
            "backgroundcolor": "#E5ECF6",
            "gridcolor": "white",
            "gridwidth": 2,
            "linecolor": "white",
            "showbackground": true,
            "ticks": "",
            "zerolinecolor": "white"
           }
          },
          "shapedefaults": {
           "line": {
            "color": "#2a3f5f"
           }
          },
          "ternary": {
           "aaxis": {
            "gridcolor": "white",
            "linecolor": "white",
            "ticks": ""
           },
           "baxis": {
            "gridcolor": "white",
            "linecolor": "white",
            "ticks": ""
           },
           "bgcolor": "#E5ECF6",
           "caxis": {
            "gridcolor": "white",
            "linecolor": "white",
            "ticks": ""
           }
          },
          "title": {
           "x": 0.05
          },
          "xaxis": {
           "automargin": true,
           "gridcolor": "white",
           "linecolor": "white",
           "ticks": "",
           "title": {
            "standoff": 15
           },
           "zerolinecolor": "white",
           "zerolinewidth": 2
          },
          "yaxis": {
           "automargin": true,
           "gridcolor": "white",
           "linecolor": "white",
           "ticks": "",
           "title": {
            "standoff": 15
           },
           "zerolinecolor": "white",
           "zerolinewidth": 2
          }
         }
        },
        "title": {
         "text": "Payment Value - November-2019"
        },
        "updatemenus": [
         {
          "buttons": [
           {
            "args": [
             null,
             {
              "frame": {
               "duration": 300,
               "redraw": true
              },
              "fromcurrent": true
             }
            ],
            "label": "Play",
            "method": "animate"
           }
          ],
          "showactive": false,
          "type": "buttons"
         }
        ],
        "xaxis": {
         "anchor": "y",
         "domain": [
          0,
          1
         ],
         "title": {
          "text": "Payment System"
         }
        },
        "yaxis": {
         "anchor": "x",
         "domain": [
          0,
          1
         ],
         "range": [
          0,
          3500000
         ],
         "title": {
          "text": "Value (Rs Crore)"
         }
        }
       }
      },
      "text/html": [
       "<div>                            <div id=\"add75c48-0068-4747-921d-cc64c21cbec2\" class=\"plotly-graph-div\" style=\"height:600px; width:100%;\"></div>            <script type=\"text/javascript\">                require([\"plotly\"], function(Plotly) {                    window.PLOTLYENV=window.PLOTLYENV || {};                                    if (document.getElementById(\"add75c48-0068-4747-921d-cc64c21cbec2\")) {                    Plotly.newPlot(                        \"add75c48-0068-4747-921d-cc64c21cbec2\",                        [{\"marker\":{\"color\":\"#1f77b4\"},\"x\":[\" IMPS Value (Rupees Crore)\",\"NACH Cr Value (Rupees Crore)\",\" NEFT Value (Rupees Crore)\",\" UPI Value (Rupees Crore)\",\"BHIM Aadhaar Pay Value (Rupees Crore)\",\"NACH Dr Value (Rupees Crore)\",\"Credit Cards Value (Rupees Crore)\",\"Debit Cards Value (Rupees Crore)\",\"Wallets Value (Rupees Crore)\"],\"y\":[202904,90941,1734651,189229,97,52792,60130,58209,14652],\"type\":\"bar\"}],                        {\"template\":{\"data\":{\"histogram2dcontour\":[{\"type\":\"histogram2dcontour\",\"colorbar\":{\"outlinewidth\":0,\"ticks\":\"\"},\"colorscale\":[[0.0,\"#0d0887\"],[0.1111111111111111,\"#46039f\"],[0.2222222222222222,\"#7201a8\"],[0.3333333333333333,\"#9c179e\"],[0.4444444444444444,\"#bd3786\"],[0.5555555555555556,\"#d8576b\"],[0.6666666666666666,\"#ed7953\"],[0.7777777777777778,\"#fb9f3a\"],[0.8888888888888888,\"#fdca26\"],[1.0,\"#f0f921\"]]}],\"choropleth\":[{\"type\":\"choropleth\",\"colorbar\":{\"outlinewidth\":0,\"ticks\":\"\"}}],\"histogram2d\":[{\"type\":\"histogram2d\",\"colorbar\":{\"outlinewidth\":0,\"ticks\":\"\"},\"colorscale\":[[0.0,\"#0d0887\"],[0.1111111111111111,\"#46039f\"],[0.2222222222222222,\"#7201a8\"],[0.3333333333333333,\"#9c179e\"],[0.4444444444444444,\"#bd3786\"],[0.5555555555555556,\"#d8576b\"],[0.6666666666666666,\"#ed7953\"],[0.7777777777777778,\"#fb9f3a\"],[0.8888888888888888,\"#fdca26\"],[1.0,\"#f0f921\"]]}],\"heatmap\":[{\"type\":\"heatmap\",\"colorbar\":{\"outlinewidth\":0,\"ticks\":\"\"},\"colorscale\":[[0.0,\"#0d0887\"],[0.1111111111111111,\"#46039f\"],[0.2222222222222222,\"#7201a8\"],[0.3333333333333333,\"#9c179e\"],[0.4444444444444444,\"#bd3786\"],[0.5555555555555556,\"#d8576b\"],[0.6666666666666666,\"#ed7953\"],[0.7777777777777778,\"#fb9f3a\"],[0.8888888888888888,\"#fdca26\"],[1.0,\"#f0f921\"]]}],\"heatmapgl\":[{\"type\":\"heatmapgl\",\"colorbar\":{\"outlinewidth\":0,\"ticks\":\"\"},\"colorscale\":[[0.0,\"#0d0887\"],[0.1111111111111111,\"#46039f\"],[0.2222222222222222,\"#7201a8\"],[0.3333333333333333,\"#9c179e\"],[0.4444444444444444,\"#bd3786\"],[0.5555555555555556,\"#d8576b\"],[0.6666666666666666,\"#ed7953\"],[0.7777777777777778,\"#fb9f3a\"],[0.8888888888888888,\"#fdca26\"],[1.0,\"#f0f921\"]]}],\"contourcarpet\":[{\"type\":\"contourcarpet\",\"colorbar\":{\"outlinewidth\":0,\"ticks\":\"\"}}],\"contour\":[{\"type\":\"contour\",\"colorbar\":{\"outlinewidth\":0,\"ticks\":\"\"},\"colorscale\":[[0.0,\"#0d0887\"],[0.1111111111111111,\"#46039f\"],[0.2222222222222222,\"#7201a8\"],[0.3333333333333333,\"#9c179e\"],[0.4444444444444444,\"#bd3786\"],[0.5555555555555556,\"#d8576b\"],[0.6666666666666666,\"#ed7953\"],[0.7777777777777778,\"#fb9f3a\"],[0.8888888888888888,\"#fdca26\"],[1.0,\"#f0f921\"]]}],\"surface\":[{\"type\":\"surface\",\"colorbar\":{\"outlinewidth\":0,\"ticks\":\"\"},\"colorscale\":[[0.0,\"#0d0887\"],[0.1111111111111111,\"#46039f\"],[0.2222222222222222,\"#7201a8\"],[0.3333333333333333,\"#9c179e\"],[0.4444444444444444,\"#bd3786\"],[0.5555555555555556,\"#d8576b\"],[0.6666666666666666,\"#ed7953\"],[0.7777777777777778,\"#fb9f3a\"],[0.8888888888888888,\"#fdca26\"],[1.0,\"#f0f921\"]]}],\"mesh3d\":[{\"type\":\"mesh3d\",\"colorbar\":{\"outlinewidth\":0,\"ticks\":\"\"}}],\"scatter\":[{\"fillpattern\":{\"fillmode\":\"overlay\",\"size\":10,\"solidity\":0.2},\"type\":\"scatter\"}],\"parcoords\":[{\"type\":\"parcoords\",\"line\":{\"colorbar\":{\"outlinewidth\":0,\"ticks\":\"\"}}}],\"scatterpolargl\":[{\"type\":\"scatterpolargl\",\"marker\":{\"colorbar\":{\"outlinewidth\":0,\"ticks\":\"\"}}}],\"bar\":[{\"error_x\":{\"color\":\"#2a3f5f\"},\"error_y\":{\"color\":\"#2a3f5f\"},\"marker\":{\"line\":{\"color\":\"#E5ECF6\",\"width\":0.5},\"pattern\":{\"fillmode\":\"overlay\",\"size\":10,\"solidity\":0.2}},\"type\":\"bar\"}],\"scattergeo\":[{\"type\":\"scattergeo\",\"marker\":{\"colorbar\":{\"outlinewidth\":0,\"ticks\":\"\"}}}],\"scatterpolar\":[{\"type\":\"scatterpolar\",\"marker\":{\"colorbar\":{\"outlinewidth\":0,\"ticks\":\"\"}}}],\"histogram\":[{\"marker\":{\"pattern\":{\"fillmode\":\"overlay\",\"size\":10,\"solidity\":0.2}},\"type\":\"histogram\"}],\"scattergl\":[{\"type\":\"scattergl\",\"marker\":{\"colorbar\":{\"outlinewidth\":0,\"ticks\":\"\"}}}],\"scatter3d\":[{\"type\":\"scatter3d\",\"line\":{\"colorbar\":{\"outlinewidth\":0,\"ticks\":\"\"}},\"marker\":{\"colorbar\":{\"outlinewidth\":0,\"ticks\":\"\"}}}],\"scattermapbox\":[{\"type\":\"scattermapbox\",\"marker\":{\"colorbar\":{\"outlinewidth\":0,\"ticks\":\"\"}}}],\"scatterternary\":[{\"type\":\"scatterternary\",\"marker\":{\"colorbar\":{\"outlinewidth\":0,\"ticks\":\"\"}}}],\"scattercarpet\":[{\"type\":\"scattercarpet\",\"marker\":{\"colorbar\":{\"outlinewidth\":0,\"ticks\":\"\"}}}],\"carpet\":[{\"aaxis\":{\"endlinecolor\":\"#2a3f5f\",\"gridcolor\":\"white\",\"linecolor\":\"white\",\"minorgridcolor\":\"white\",\"startlinecolor\":\"#2a3f5f\"},\"baxis\":{\"endlinecolor\":\"#2a3f5f\",\"gridcolor\":\"white\",\"linecolor\":\"white\",\"minorgridcolor\":\"white\",\"startlinecolor\":\"#2a3f5f\"},\"type\":\"carpet\"}],\"table\":[{\"cells\":{\"fill\":{\"color\":\"#EBF0F8\"},\"line\":{\"color\":\"white\"}},\"header\":{\"fill\":{\"color\":\"#C8D4E3\"},\"line\":{\"color\":\"white\"}},\"type\":\"table\"}],\"barpolar\":[{\"marker\":{\"line\":{\"color\":\"#E5ECF6\",\"width\":0.5},\"pattern\":{\"fillmode\":\"overlay\",\"size\":10,\"solidity\":0.2}},\"type\":\"barpolar\"}],\"pie\":[{\"automargin\":true,\"type\":\"pie\"}]},\"layout\":{\"autotypenumbers\":\"strict\",\"colorway\":[\"#636efa\",\"#EF553B\",\"#00cc96\",\"#ab63fa\",\"#FFA15A\",\"#19d3f3\",\"#FF6692\",\"#B6E880\",\"#FF97FF\",\"#FECB52\"],\"font\":{\"color\":\"#2a3f5f\"},\"hovermode\":\"closest\",\"hoverlabel\":{\"align\":\"left\"},\"paper_bgcolor\":\"white\",\"plot_bgcolor\":\"#E5ECF6\",\"polar\":{\"bgcolor\":\"#E5ECF6\",\"angularaxis\":{\"gridcolor\":\"white\",\"linecolor\":\"white\",\"ticks\":\"\"},\"radialaxis\":{\"gridcolor\":\"white\",\"linecolor\":\"white\",\"ticks\":\"\"}},\"ternary\":{\"bgcolor\":\"#E5ECF6\",\"aaxis\":{\"gridcolor\":\"white\",\"linecolor\":\"white\",\"ticks\":\"\"},\"baxis\":{\"gridcolor\":\"white\",\"linecolor\":\"white\",\"ticks\":\"\"},\"caxis\":{\"gridcolor\":\"white\",\"linecolor\":\"white\",\"ticks\":\"\"}},\"coloraxis\":{\"colorbar\":{\"outlinewidth\":0,\"ticks\":\"\"}},\"colorscale\":{\"sequential\":[[0.0,\"#0d0887\"],[0.1111111111111111,\"#46039f\"],[0.2222222222222222,\"#7201a8\"],[0.3333333333333333,\"#9c179e\"],[0.4444444444444444,\"#bd3786\"],[0.5555555555555556,\"#d8576b\"],[0.6666666666666666,\"#ed7953\"],[0.7777777777777778,\"#fb9f3a\"],[0.8888888888888888,\"#fdca26\"],[1.0,\"#f0f921\"]],\"sequentialminus\":[[0.0,\"#0d0887\"],[0.1111111111111111,\"#46039f\"],[0.2222222222222222,\"#7201a8\"],[0.3333333333333333,\"#9c179e\"],[0.4444444444444444,\"#bd3786\"],[0.5555555555555556,\"#d8576b\"],[0.6666666666666666,\"#ed7953\"],[0.7777777777777778,\"#fb9f3a\"],[0.8888888888888888,\"#fdca26\"],[1.0,\"#f0f921\"]],\"diverging\":[[0,\"#8e0152\"],[0.1,\"#c51b7d\"],[0.2,\"#de77ae\"],[0.3,\"#f1b6da\"],[0.4,\"#fde0ef\"],[0.5,\"#f7f7f7\"],[0.6,\"#e6f5d0\"],[0.7,\"#b8e186\"],[0.8,\"#7fbc41\"],[0.9,\"#4d9221\"],[1,\"#276419\"]]},\"xaxis\":{\"gridcolor\":\"white\",\"linecolor\":\"white\",\"ticks\":\"\",\"title\":{\"standoff\":15},\"zerolinecolor\":\"white\",\"automargin\":true,\"zerolinewidth\":2},\"yaxis\":{\"gridcolor\":\"white\",\"linecolor\":\"white\",\"ticks\":\"\",\"title\":{\"standoff\":15},\"zerolinecolor\":\"white\",\"automargin\":true,\"zerolinewidth\":2},\"scene\":{\"xaxis\":{\"backgroundcolor\":\"#E5ECF6\",\"gridcolor\":\"white\",\"linecolor\":\"white\",\"showbackground\":true,\"ticks\":\"\",\"zerolinecolor\":\"white\",\"gridwidth\":2},\"yaxis\":{\"backgroundcolor\":\"#E5ECF6\",\"gridcolor\":\"white\",\"linecolor\":\"white\",\"showbackground\":true,\"ticks\":\"\",\"zerolinecolor\":\"white\",\"gridwidth\":2},\"zaxis\":{\"backgroundcolor\":\"#E5ECF6\",\"gridcolor\":\"white\",\"linecolor\":\"white\",\"showbackground\":true,\"ticks\":\"\",\"zerolinecolor\":\"white\",\"gridwidth\":2}},\"shapedefaults\":{\"line\":{\"color\":\"#2a3f5f\"}},\"annotationdefaults\":{\"arrowcolor\":\"#2a3f5f\",\"arrowhead\":0,\"arrowwidth\":1},\"geo\":{\"bgcolor\":\"white\",\"landcolor\":\"#E5ECF6\",\"subunitcolor\":\"white\",\"showland\":true,\"showlakes\":true,\"lakecolor\":\"white\"},\"title\":{\"x\":0.05},\"mapbox\":{\"style\":\"light\"}}},\"xaxis\":{\"anchor\":\"y\",\"domain\":[0.0,1.0],\"title\":{\"text\":\"Payment System\"}},\"yaxis\":{\"anchor\":\"x\",\"domain\":[0.0,1.0],\"range\":[0,3500000],\"title\":{\"text\":\"Value (Rs Crore)\"}},\"updatemenus\":[{\"buttons\":[{\"args\":[null,{\"frame\":{\"duration\":300,\"redraw\":true},\"fromcurrent\":true}],\"label\":\"Play\",\"method\":\"animate\"}],\"showactive\":false,\"type\":\"buttons\"}],\"font\":{\"size\":14},\"margin\":{\"pad\":10,\"b\":100},\"title\":{\"text\":\"Payment Value - November-2019\"},\"height\":600},                        {\"responsive\": true}                    ).then(function(){\n",
       "                            Plotly.addFrames('add75c48-0068-4747-921d-cc64c21cbec2', [{\"data\":[{\"marker\":{\"color\":\"#1f77b4\"},\"x\":[\" IMPS Value (Rupees Crore)\",\"NACH Cr Value (Rupees Crore)\",\" NEFT Value (Rupees Crore)\",\" UPI Value (Rupees Crore)\",\"BHIM Aadhaar Pay Value (Rupees Crore)\",\"NACH Dr Value (Rupees Crore)\",\"Credit Cards Value (Rupees Crore)\",\"Debit Cards Value (Rupees Crore)\",\"Wallets Value (Rupees Crore)\"],\"y\":[202904,90941,1734651,189229,97,52792,60130,58209,14652],\"type\":\"bar\"}],\"layout\":{\"font\":{\"size\":14},\"height\":600,\"margin\":{\"b\":100,\"pad\":10},\"title\":{\"text\":\"Payment Value - November-2019\"},\"xaxis\":{\"title\":{\"text\":\"Payment System\"}},\"yaxis\":{\"title\":{\"text\":\"Value (Rs Crore)\"}}}},{\"data\":[{\"marker\":{\"color\":\"#1f77b4\"},\"x\":[\" IMPS Value (Rupees Crore)\",\"NACH Cr Value (Rupees Crore)\",\" NEFT Value (Rupees Crore)\",\" UPI Value (Rupees Crore)\",\"BHIM Aadhaar Pay Value (Rupees Crore)\",\"NACH Dr Value (Rupees Crore)\",\"Credit Cards Value (Rupees Crore)\",\"Debit Cards Value (Rupees Crore)\",\"Wallets Value (Rupees Crore)\"],\"y\":[210934,78362,1942231,202521,112,54171,65736,62752,15835],\"type\":\"bar\"}],\"layout\":{\"font\":{\"size\":14},\"height\":600,\"margin\":{\"b\":100,\"pad\":10},\"title\":{\"text\":\"Payment Value - December-2019\"},\"xaxis\":{\"title\":{\"text\":\"Payment System\"}},\"yaxis\":{\"title\":{\"text\":\"Value (Rs Crore)\"}}}},{\"data\":[{\"marker\":{\"color\":\"#1f77b4\"},\"x\":[\" IMPS Value (Rupees Crore)\",\"NACH Cr Value (Rupees Crore)\",\" NEFT Value (Rupees Crore)\",\" UPI Value (Rupees Crore)\",\"BHIM Aadhaar Pay Value (Rupees Crore)\",\"NACH Dr Value (Rupees Crore)\",\"Credit Cards Value (Rupees Crore)\",\"Debit Cards Value (Rupees Crore)\",\"Wallets Value (Rupees Crore)\"],\"y\":[216811,81544,1929464,216243,141,55108,66573,62871,15408],\"type\":\"bar\"}],\"layout\":{\"font\":{\"size\":14},\"height\":600,\"margin\":{\"b\":100,\"pad\":10},\"title\":{\"text\":\"Payment Value - January-2020\"},\"xaxis\":{\"title\":{\"text\":\"Payment System\"}},\"yaxis\":{\"title\":{\"text\":\"Value (Rs Crore)\"}}}},{\"data\":[{\"marker\":{\"color\":\"#1f77b4\"},\"x\":[\" IMPS Value (Rupees Crore)\",\"NACH Cr Value (Rupees Crore)\",\" NEFT Value (Rupees Crore)\",\" UPI Value (Rupees Crore)\",\"BHIM Aadhaar Pay Value (Rupees Crore)\",\"NACH Dr Value (Rupees Crore)\",\"Credit Cards Value (Rupees Crore)\",\"Debit Cards Value (Rupees Crore)\",\"Wallets Value (Rupees Crore)\"],\"y\":[214566,78710,1870494,222517,149,55013,62147,58561,14461],\"type\":\"bar\"}],\"layout\":{\"font\":{\"size\":14},\"height\":600,\"margin\":{\"b\":100,\"pad\":10},\"title\":{\"text\":\"Payment Value - February-2020\"},\"xaxis\":{\"title\":{\"text\":\"Payment System\"}},\"yaxis\":{\"title\":{\"text\":\"Value (Rs Crore)\"}}}},{\"data\":[{\"marker\":{\"color\":\"#1f77b4\"},\"x\":[\" IMPS Value (Rupees Crore)\",\"NACH Cr Value (Rupees Crore)\",\" NEFT Value (Rupees Crore)\",\" UPI Value (Rupees Crore)\",\"BHIM Aadhaar Pay Value (Rupees Crore)\",\"NACH Dr Value (Rupees Crore)\",\"Credit Cards Value (Rupees Crore)\",\"Debit Cards Value (Rupees Crore)\",\"Wallets Value (Rupees Crore)\"],\"y\":[201962,129113,2283665,206462,141,34095,50574,48209,13111],\"type\":\"bar\"}],\"layout\":{\"font\":{\"size\":14},\"height\":600,\"margin\":{\"b\":100,\"pad\":10},\"title\":{\"text\":\"Payment Value - March-2020\"},\"xaxis\":{\"title\":{\"text\":\"Payment System\"}},\"yaxis\":{\"title\":{\"text\":\"Value (Rs Crore)\"}}}},{\"data\":[{\"marker\":{\"color\":\"#1f77b4\"},\"x\":[\" IMPS Value (Rupees Crore)\",\"NACH Cr Value (Rupees Crore)\",\" NEFT Value (Rupees Crore)\",\" UPI Value (Rupees Crore)\",\"BHIM Aadhaar Pay Value (Rupees Crore)\",\"NACH Dr Value (Rupees Crore)\",\"Credit Cards Value (Rupees Crore)\",\"Debit Cards Value (Rupees Crore)\",\"Wallets Value (Rupees Crore)\"],\"y\":[121141,90089,1306406,151141,217,55805,20765,23250,8693],\"type\":\"bar\"}],\"layout\":{\"font\":{\"size\":14},\"height\":600,\"margin\":{\"b\":100,\"pad\":10},\"title\":{\"text\":\"Payment Value - April-2020\"},\"xaxis\":{\"title\":{\"text\":\"Payment System\"}},\"yaxis\":{\"title\":{\"text\":\"Value (Rs Crore)\"}}}},{\"data\":[{\"marker\":{\"color\":\"#1f77b4\"},\"x\":[\" IMPS Value (Rupees Crore)\",\"NACH Cr Value (Rupees Crore)\",\" NEFT Value (Rupees Crore)\",\" UPI Value (Rupees Crore)\",\"BHIM Aadhaar Pay Value (Rupees Crore)\",\"NACH Dr Value (Rupees Crore)\",\"Credit Cards Value (Rupees Crore)\",\"Debit Cards Value (Rupees Crore)\",\"Wallets Value (Rupees Crore)\"],\"y\":[169402,134229,1481750,218392,159,50767,32225,37984,11080],\"type\":\"bar\"}],\"layout\":{\"font\":{\"size\":14},\"height\":600,\"margin\":{\"b\":100,\"pad\":10},\"title\":{\"text\":\"Payment Value - May-2020\"},\"xaxis\":{\"title\":{\"text\":\"Payment System\"}},\"yaxis\":{\"title\":{\"text\":\"Value (Rs Crore)\"}}}},{\"data\":[{\"marker\":{\"color\":\"#1f77b4\"},\"x\":[\" IMPS Value (Rupees Crore)\",\"NACH Cr Value (Rupees Crore)\",\" NEFT Value (Rupees Crore)\",\" UPI Value (Rupees Crore)\",\"BHIM Aadhaar Pay Value (Rupees Crore)\",\"NACH Dr Value (Rupees Crore)\",\"Credit Cards Value (Rupees Crore)\",\"Debit Cards Value (Rupees Crore)\",\"Wallets Value (Rupees Crore)\"],\"y\":[206951,112285,1906586,261835,186,70492,42773,47711,12132],\"type\":\"bar\"}],\"layout\":{\"font\":{\"size\":14},\"height\":600,\"margin\":{\"b\":100,\"pad\":10},\"title\":{\"text\":\"Payment Value - June-2020\"},\"xaxis\":{\"title\":{\"text\":\"Payment System\"}},\"yaxis\":{\"title\":{\"text\":\"Value (Rs Crore)\"}}}},{\"data\":[{\"marker\":{\"color\":\"#1f77b4\"},\"x\":[\" IMPS Value (Rupees Crore)\",\"NACH Cr Value (Rupees Crore)\",\" NEFT Value (Rupees Crore)\",\" UPI Value (Rupees Crore)\",\"BHIM Aadhaar Pay Value (Rupees Crore)\",\"NACH Dr Value (Rupees Crore)\",\"Credit Cards Value (Rupees Crore)\",\"Debit Cards Value (Rupees Crore)\",\"Wallets Value (Rupees Crore)\"],\"y\":[225775,98960,1963113,290538,216,68083,45558,50325,12892],\"type\":\"bar\"}],\"layout\":{\"font\":{\"size\":14},\"height\":600,\"margin\":{\"b\":100,\"pad\":10},\"title\":{\"text\":\"Payment Value - July-2020\"},\"xaxis\":{\"title\":{\"text\":\"Payment System\"}},\"yaxis\":{\"title\":{\"text\":\"Value (Rs Crore)\"}}}},{\"data\":[{\"marker\":{\"color\":\"#1f77b4\"},\"x\":[\" IMPS Value (Rupees Crore)\",\"NACH Cr Value (Rupees Crore)\",\" NEFT Value (Rupees Crore)\",\" UPI Value (Rupees Crore)\",\"BHIM Aadhaar Pay Value (Rupees Crore)\",\"NACH Dr Value (Rupees Crore)\",\"Credit Cards Value (Rupees Crore)\",\"Debit Cards Value (Rupees Crore)\",\"Wallets Value (Rupees Crore)\"],\"y\":[235137,84523,1930552,298308,253,66830,50311,54770,13000],\"type\":\"bar\"}],\"layout\":{\"font\":{\"size\":14},\"height\":600,\"margin\":{\"b\":100,\"pad\":10},\"title\":{\"text\":\"Payment Value - August-2020\"},\"xaxis\":{\"title\":{\"text\":\"Payment System\"}},\"yaxis\":{\"title\":{\"text\":\"Value (Rs Crore)\"}}}},{\"data\":[{\"marker\":{\"color\":\"#1f77b4\"},\"x\":[\" IMPS Value (Rupees Crore)\",\"NACH Cr Value (Rupees Crore)\",\" NEFT Value (Rupees Crore)\",\" UPI Value (Rupees Crore)\",\"BHIM Aadhaar Pay Value (Rupees Crore)\",\"NACH Dr Value (Rupees Crore)\",\"Credit Cards Value (Rupees Crore)\",\"Debit Cards Value (Rupees Crore)\",\"Wallets Value (Rupees Crore)\"],\"y\":[248662,68231,2165515,329032,205,77958,51134,55366,13258],\"type\":\"bar\"}],\"layout\":{\"font\":{\"size\":14},\"height\":600,\"margin\":{\"b\":100,\"pad\":10},\"title\":{\"text\":\"Payment Value - September-2020\"},\"xaxis\":{\"title\":{\"text\":\"Payment System\"}},\"yaxis\":{\"title\":{\"text\":\"Value (Rs Crore)\"}}}},{\"data\":[{\"marker\":{\"color\":\"#1f77b4\"},\"x\":[\" IMPS Value (Rupees Crore)\",\"NACH Cr Value (Rupees Crore)\",\" NEFT Value (Rupees Crore)\",\" UPI Value (Rupees Crore)\",\"BHIM Aadhaar Pay Value (Rupees Crore)\",\"NACH Dr Value (Rupees Crore)\",\"Credit Cards Value (Rupees Crore)\",\"Debit Cards Value (Rupees Crore)\",\"Wallets Value (Rupees Crore)\"],\"y\":[274645,91438,2235389,386107,192,79022,64652,69141,13827],\"type\":\"bar\"}],\"layout\":{\"font\":{\"size\":14},\"height\":600,\"margin\":{\"b\":100,\"pad\":10},\"title\":{\"text\":\"Payment Value - October-2020\"},\"xaxis\":{\"title\":{\"text\":\"Payment System\"}},\"yaxis\":{\"title\":{\"text\":\"Value (Rs Crore)\"}}}},{\"data\":[{\"marker\":{\"color\":\"#1f77b4\"},\"x\":[\" IMPS Value (Rupees Crore)\",\"NACH Cr Value (Rupees Crore)\",\" NEFT Value (Rupees Crore)\",\" UPI Value (Rupees Crore)\",\"BHIM Aadhaar Pay Value (Rupees Crore)\",\"NACH Dr Value (Rupees Crore)\",\"Credit Cards Value (Rupees Crore)\",\"Debit Cards Value (Rupees Crore)\",\"Wallets Value (Rupees Crore)\"],\"y\":[276459,96127,2218252,390999,181,78433,62350,67889,12820],\"type\":\"bar\"}],\"layout\":{\"font\":{\"size\":14},\"height\":600,\"margin\":{\"b\":100,\"pad\":10},\"title\":{\"text\":\"Payment Value - November-2020\"},\"xaxis\":{\"title\":{\"text\":\"Payment System\"}},\"yaxis\":{\"title\":{\"text\":\"Value (Rs Crore)\"}}}},{\"data\":[{\"marker\":{\"color\":\"#1f77b4\"},\"x\":[\" IMPS Value (Rupees Crore)\",\"NACH Cr Value (Rupees Crore)\",\" NEFT Value (Rupees Crore)\",\" UPI Value (Rupees Crore)\",\"BHIM Aadhaar Pay Value (Rupees Crore)\",\"NACH Dr Value (Rupees Crore)\",\"Credit Cards Value (Rupees Crore)\",\"Debit Cards Value (Rupees Crore)\",\"Wallets Value (Rupees Crore)\"],\"y\":[292325,118309,2558304,416176,187,81576,63487,65178,13392],\"type\":\"bar\"}],\"layout\":{\"font\":{\"size\":14},\"height\":600,\"margin\":{\"b\":100,\"pad\":10},\"title\":{\"text\":\"Payment Value - December-2020\"},\"xaxis\":{\"title\":{\"text\":\"Payment System\"}},\"yaxis\":{\"title\":{\"text\":\"Value (Rs Crore)\"}}}},{\"data\":[{\"marker\":{\"color\":\"#1f77b4\"},\"x\":[\" IMPS Value (Rupees Crore)\",\"NACH Cr Value (Rupees Crore)\",\" NEFT Value (Rupees Crore)\",\" UPI Value (Rupees Crore)\",\"BHIM Aadhaar Pay Value (Rupees Crore)\",\"NACH Dr Value (Rupees Crore)\",\"Credit Cards Value (Rupees Crore)\",\"Debit Cards Value (Rupees Crore)\",\"Wallets Value (Rupees Crore)\"],\"y\":[288538,96681,2165869,431182,214,79044,64737,63157,13451],\"type\":\"bar\"}],\"layout\":{\"font\":{\"size\":14},\"height\":600,\"margin\":{\"b\":100,\"pad\":10},\"title\":{\"text\":\"Payment Value - January-2021\"},\"xaxis\":{\"title\":{\"text\":\"Payment System\"}},\"yaxis\":{\"title\":{\"text\":\"Value (Rs Crore)\"}}}},{\"data\":[{\"marker\":{\"color\":\"#1f77b4\"},\"x\":[\" IMPS Value (Rupees Crore)\",\"NACH Cr Value (Rupees Crore)\",\" NEFT Value (Rupees Crore)\",\" UPI Value (Rupees Crore)\",\"BHIM Aadhaar Pay Value (Rupees Crore)\",\"NACH Dr Value (Rupees Crore)\",\"Credit Cards Value (Rupees Crore)\",\"Debit Cards Value (Rupees Crore)\",\"Wallets Value (Rupees Crore)\"],\"y\":[275230,61364,2152844,425063,223,68011,60105,59227,12717],\"type\":\"bar\"}],\"layout\":{\"font\":{\"size\":14},\"height\":600,\"margin\":{\"b\":100,\"pad\":10},\"title\":{\"text\":\"Payment Value - February-2021\"},\"xaxis\":{\"title\":{\"text\":\"Payment System\"}},\"yaxis\":{\"title\":{\"text\":\"Value (Rs Crore)\"}}}},{\"data\":[{\"marker\":{\"color\":\"#1f77b4\"},\"x\":[\" IMPS Value (Rupees Crore)\",\"NACH Cr Value (Rupees Crore)\",\" NEFT Value (Rupees Crore)\",\" UPI Value (Rupees Crore)\",\"BHIM Aadhaar Pay Value (Rupees Crore)\",\"NACH Dr Value (Rupees Crore)\",\"Credit Cards Value (Rupees Crore)\",\"Debit Cards Value (Rupees Crore)\",\"Wallets Value (Rupees Crore)\"],\"y\":[327236,164298,3046329,504886,346,86005,72319,67386,14683],\"type\":\"bar\"}],\"layout\":{\"font\":{\"size\":14},\"height\":600,\"margin\":{\"b\":100,\"pad\":10},\"title\":{\"text\":\"Payment Value - March-2021\"},\"xaxis\":{\"title\":{\"text\":\"Payment System\"}},\"yaxis\":{\"title\":{\"text\":\"Value (Rs Crore)\"}}}},{\"data\":[{\"marker\":{\"color\":\"#1f77b4\"},\"x\":[\" IMPS Value (Rupees Crore)\",\"NACH Cr Value (Rupees Crore)\",\" NEFT Value (Rupees Crore)\",\" UPI Value (Rupees Crore)\",\"BHIM Aadhaar Pay Value (Rupees Crore)\",\"NACH Dr Value (Rupees Crore)\",\"Credit Cards Value (Rupees Crore)\",\"Debit Cards Value (Rupees Crore)\",\"Wallets Value (Rupees Crore)\"],\"y\":[299542,101457,2046235,493664,377,74985,59049,56183,14250],\"type\":\"bar\"}],\"layout\":{\"font\":{\"size\":14},\"height\":600,\"margin\":{\"b\":100,\"pad\":10},\"title\":{\"text\":\"Payment Value - April-2021\"},\"xaxis\":{\"title\":{\"text\":\"Payment System\"}},\"yaxis\":{\"title\":{\"text\":\"Value (Rs Crore)\"}}}},{\"data\":[{\"marker\":{\"color\":\"#1f77b4\"},\"x\":[\" IMPS Value (Rupees Crore)\",\"NACH Cr Value (Rupees Crore)\",\" NEFT Value (Rupees Crore)\",\" UPI Value (Rupees Crore)\",\"BHIM Aadhaar Pay Value (Rupees Crore)\",\"NACH Dr Value (Rupees Crore)\",\"Credit Cards Value (Rupees Crore)\",\"Debit Cards Value (Rupees Crore)\",\"Wallets Value (Rupees Crore)\"],\"y\":[266289,116463,1819459,489106,422,70069,52014,43225,14442],\"type\":\"bar\"}],\"layout\":{\"font\":{\"size\":14},\"height\":600,\"margin\":{\"b\":100,\"pad\":10},\"title\":{\"text\":\"Payment Value - May-2021\"},\"xaxis\":{\"title\":{\"text\":\"Payment System\"}},\"yaxis\":{\"title\":{\"text\":\"Value (Rs Crore)\"}}}},{\"data\":[{\"marker\":{\"color\":\"#1f77b4\"},\"x\":[\" IMPS Value (Rupees Crore)\",\"NACH Cr Value (Rupees Crore)\",\" NEFT Value (Rupees Crore)\",\" UPI Value (Rupees Crore)\",\"BHIM Aadhaar Pay Value (Rupees Crore)\",\"NACH Dr Value (Rupees Crore)\",\"Credit Cards Value (Rupees Crore)\",\"Debit Cards Value (Rupees Crore)\",\"Wallets Value (Rupees Crore)\"],\"y\":[284111,92266,2097771,547373,417,86215,62746,51044,15849],\"type\":\"bar\"}],\"layout\":{\"font\":{\"size\":14},\"height\":600,\"margin\":{\"b\":100,\"pad\":10},\"title\":{\"text\":\"Payment Value - June-2021\"},\"xaxis\":{\"title\":{\"text\":\"Payment System\"}},\"yaxis\":{\"title\":{\"text\":\"Value (Rs Crore)\"}}}},{\"data\":[{\"marker\":{\"color\":\"#1f77b4\"},\"x\":[\" IMPS Value (Rupees Crore)\",\"NACH Cr Value (Rupees Crore)\",\" NEFT Value (Rupees Crore)\",\" UPI Value (Rupees Crore)\",\"BHIM Aadhaar Pay Value (Rupees Crore)\",\"NACH Dr Value (Rupees Crore)\",\"Credit Cards Value (Rupees Crore)\",\"Debit Cards Value (Rupees Crore)\",\"Wallets Value (Rupees Crore)\"],\"y\":[311310,85697,2204303,605883,414,85980,74885,61087,16624],\"type\":\"bar\"}],\"layout\":{\"font\":{\"size\":14},\"height\":600,\"margin\":{\"b\":100,\"pad\":10},\"title\":{\"text\":\"Payment Value - July-2021\"},\"xaxis\":{\"title\":{\"text\":\"Payment System\"}},\"yaxis\":{\"title\":{\"text\":\"Value (Rs Crore)\"}}}},{\"data\":[{\"marker\":{\"color\":\"#1f77b4\"},\"x\":[\" IMPS Value (Rupees Crore)\",\"NACH Cr Value (Rupees Crore)\",\" NEFT Value (Rupees Crore)\",\" UPI Value (Rupees Crore)\",\"BHIM Aadhaar Pay Value (Rupees Crore)\",\"NACH Dr Value (Rupees Crore)\",\"Credit Cards Value (Rupees Crore)\",\"Debit Cards Value (Rupees Crore)\",\"Wallets Value (Rupees Crore)\"],\"y\":[320203,98119,2209818,639117,462,84818,77733,64867,17746],\"type\":\"bar\"}],\"layout\":{\"font\":{\"size\":14},\"height\":600,\"margin\":{\"b\":100,\"pad\":10},\"title\":{\"text\":\"Payment Value - August-2021\"},\"xaxis\":{\"title\":{\"text\":\"Payment System\"}},\"yaxis\":{\"title\":{\"text\":\"Value (Rs Crore)\"}}}},{\"data\":[{\"marker\":{\"color\":\"#1f77b4\"},\"x\":[\" IMPS Value (Rupees Crore)\",\"NACH Cr Value (Rupees Crore)\",\" NEFT Value (Rupees Crore)\",\" UPI Value (Rupees Crore)\",\"BHIM Aadhaar Pay Value (Rupees Crore)\",\"NACH Dr Value (Rupees Crore)\",\"Credit Cards Value (Rupees Crore)\",\"Debit Cards Value (Rupees Crore)\",\"Wallets Value (Rupees Crore)\"],\"y\":[324096,91281,2419688,654648,440,84068,80228,62589,20230],\"type\":\"bar\"}],\"layout\":{\"font\":{\"size\":14},\"height\":600,\"margin\":{\"b\":100,\"pad\":10},\"title\":{\"text\":\"Payment Value - September-2021\"},\"xaxis\":{\"title\":{\"text\":\"Payment System\"}},\"yaxis\":{\"title\":{\"text\":\"Value (Rs Crore)\"}}}},{\"data\":[{\"marker\":{\"color\":\"#1f77b4\"},\"x\":[\" IMPS Value (Rupees Crore)\",\"NACH Cr Value (Rupees Crore)\",\" NEFT Value (Rupees Crore)\",\" UPI Value (Rupees Crore)\",\"BHIM Aadhaar Pay Value (Rupees Crore)\",\"NACH Dr Value (Rupees Crore)\",\"Credit Cards Value (Rupees Crore)\",\"Debit Cards Value (Rupees Crore)\",\"Wallets Value (Rupees Crore)\"],\"y\":[370712,122519,2476397,771407,560,85103,100943,76471,21702],\"type\":\"bar\"}],\"layout\":{\"font\":{\"size\":14},\"height\":600,\"margin\":{\"b\":100,\"pad\":10},\"title\":{\"text\":\"Payment Value - October-2021\"},\"xaxis\":{\"title\":{\"text\":\"Payment System\"}},\"yaxis\":{\"title\":{\"text\":\"Value (Rs Crore)\"}}}},{\"data\":[{\"marker\":{\"color\":\"#1f77b4\"},\"x\":[\" IMPS Value (Rupees Crore)\",\"NACH Cr Value (Rupees Crore)\",\" NEFT Value (Rupees Crore)\",\" UPI Value (Rupees Crore)\",\"BHIM Aadhaar Pay Value (Rupees Crore)\",\"NACH Dr Value (Rupees Crore)\",\"Credit Cards Value (Rupees Crore)\",\"Debit Cards Value (Rupees Crore)\",\"Wallets Value (Rupees Crore)\"],\"y\":[364672,97513,2314490,768436,536,86417,89217,67109,21041],\"type\":\"bar\"}],\"layout\":{\"font\":{\"size\":14},\"height\":600,\"margin\":{\"b\":100,\"pad\":10},\"title\":{\"text\":\"Payment Value - November-2021\"},\"xaxis\":{\"title\":{\"text\":\"Payment System\"}},\"yaxis\":{\"title\":{\"text\":\"Value (Rs Crore)\"}}}},{\"data\":[{\"marker\":{\"color\":\"#1f77b4\"},\"x\":[\" IMPS Value (Rupees Crore)\",\"NACH Cr Value (Rupees Crore)\",\" NEFT Value (Rupees Crore)\",\" UPI Value (Rupees Crore)\",\"BHIM Aadhaar Pay Value (Rupees Crore)\",\"NACH Dr Value (Rupees Crore)\",\"Credit Cards Value (Rupees Crore)\",\"Debit Cards Value (Rupees Crore)\",\"Wallets Value (Rupees Crore)\"],\"y\":[396411,113132,2724980,826848,611,90426,93907,66491,21195],\"type\":\"bar\"}],\"layout\":{\"font\":{\"size\":14},\"height\":600,\"margin\":{\"b\":100,\"pad\":10},\"title\":{\"text\":\"Payment Value - December-2021\"},\"xaxis\":{\"title\":{\"text\":\"Payment System\"}},\"yaxis\":{\"title\":{\"text\":\"Value (Rs Crore)\"}}}},{\"data\":[{\"marker\":{\"color\":\"#1f77b4\"},\"x\":[\" IMPS Value (Rupees Crore)\",\"NACH Cr Value (Rupees Crore)\",\" NEFT Value (Rupees Crore)\",\" UPI Value (Rupees Crore)\",\"BHIM Aadhaar Pay Value (Rupees Crore)\",\"NACH Dr Value (Rupees Crore)\",\"Credit Cards Value (Rupees Crore)\",\"Debit Cards Value (Rupees Crore)\",\"Wallets Value (Rupees Crore)\"],\"y\":[387007,126812,2442686,831993,728,90703,87769,60025,19789],\"type\":\"bar\"}],\"layout\":{\"font\":{\"size\":14},\"height\":600,\"margin\":{\"b\":100,\"pad\":10},\"title\":{\"text\":\"Payment Value - January-2022\"},\"xaxis\":{\"title\":{\"text\":\"Payment System\"}},\"yaxis\":{\"title\":{\"text\":\"Value (Rs Crore)\"}}}},{\"data\":[{\"marker\":{\"color\":\"#1f77b4\"},\"x\":[\" IMPS Value (Rupees Crore)\",\"NACH Cr Value (Rupees Crore)\",\" NEFT Value (Rupees Crore)\",\" UPI Value (Rupees Crore)\",\"BHIM Aadhaar Pay Value (Rupees Crore)\",\"NACH Dr Value (Rupees Crore)\",\"Credit Cards Value (Rupees Crore)\",\"Debit Cards Value (Rupees Crore)\",\"Wallets Value (Rupees Crore)\"],\"y\":[384404,104998,2477059,826843,506,90056,86041,57070,17259],\"type\":\"bar\"}],\"layout\":{\"font\":{\"size\":14},\"height\":600,\"margin\":{\"b\":100,\"pad\":10},\"title\":{\"text\":\"Payment Value - February-2022\"},\"xaxis\":{\"title\":{\"text\":\"Payment System\"}},\"yaxis\":{\"title\":{\"text\":\"Value (Rs Crore)\"}}}},{\"data\":[{\"marker\":{\"color\":\"#1f77b4\"},\"x\":[\" IMPS Value (Rupees Crore)\",\"NACH Cr Value (Rupees Crore)\",\" NEFT Value (Rupees Crore)\",\" UPI Value (Rupees Crore)\",\"BHIM Aadhaar Pay Value (Rupees Crore)\",\"NACH Dr Value (Rupees Crore)\",\"Credit Cards Value (Rupees Crore)\",\"Debit Cards Value (Rupees Crore)\",\"Wallets Value (Rupees Crore)\"],\"y\":[462279,131428,3492578,960582,640,97801,107107,64052,20054],\"type\":\"bar\"}],\"layout\":{\"font\":{\"size\":14},\"height\":600,\"margin\":{\"b\":100,\"pad\":10},\"title\":{\"text\":\"Payment Value - March-2022\"},\"xaxis\":{\"title\":{\"text\":\"Payment System\"}},\"yaxis\":{\"title\":{\"text\":\"Value (Rs Crore)\"}}}},{\"data\":[{\"marker\":{\"color\":\"#1f77b4\"},\"x\":[\" IMPS Value (Rupees Crore)\",\"NACH Cr Value (Rupees Crore)\",\" NEFT Value (Rupees Crore)\",\" UPI Value (Rupees Crore)\",\"BHIM Aadhaar Pay Value (Rupees Crore)\",\"NACH Dr Value (Rupees Crore)\",\"Credit Cards Value (Rupees Crore)\",\"Debit Cards Value (Rupees Crore)\",\"Wallets Value (Rupees Crore)\"],\"y\":[444670,112354,2498587,983573,580,92902,105459,65062,19360],\"type\":\"bar\"}],\"layout\":{\"font\":{\"size\":14},\"height\":600,\"margin\":{\"b\":100,\"pad\":10},\"title\":{\"text\":\"Payment Value - April-2022\"},\"xaxis\":{\"title\":{\"text\":\"Payment System\"}},\"yaxis\":{\"title\":{\"text\":\"Value (Rs Crore)\"}}}},{\"data\":[{\"marker\":{\"color\":\"#1f77b4\"},\"x\":[\" IMPS Value (Rupees Crore)\",\"NACH Cr Value (Rupees Crore)\",\" NEFT Value (Rupees Crore)\",\" UPI Value (Rupees Crore)\",\"BHIM Aadhaar Pay Value (Rupees Crore)\",\"NACH Dr Value (Rupees Crore)\",\"Credit Cards Value (Rupees Crore)\",\"Debit Cards Value (Rupees Crore)\",\"Wallets Value (Rupees Crore)\"],\"y\":[452328,97341,2546928,1040221,571,94752,113694,65827,19616],\"type\":\"bar\"}],\"layout\":{\"font\":{\"size\":14},\"height\":600,\"margin\":{\"b\":100,\"pad\":10},\"title\":{\"text\":\"Payment Value - May-2022\"},\"xaxis\":{\"title\":{\"text\":\"Payment System\"}},\"yaxis\":{\"title\":{\"text\":\"Value (Rs Crore)\"}}}},{\"data\":[{\"marker\":{\"color\":\"#1f77b4\"},\"x\":[\" IMPS Value (Rupees Crore)\",\"NACH Cr Value (Rupees Crore)\",\" NEFT Value (Rupees Crore)\",\" UPI Value (Rupees Crore)\",\"BHIM Aadhaar Pay Value (Rupees Crore)\",\"NACH Dr Value (Rupees Crore)\",\"Credit Cards Value (Rupees Crore)\",\"Debit Cards Value (Rupees Crore)\",\"Wallets Value (Rupees Crore)\"],\"y\":[443776,100909,2716013,1014413,1049,99060,108752,60917,18488],\"type\":\"bar\"}],\"layout\":{\"font\":{\"size\":14},\"height\":600,\"margin\":{\"b\":100,\"pad\":10},\"title\":{\"text\":\"Payment Value - June-2022\"},\"xaxis\":{\"title\":{\"text\":\"Payment System\"}},\"yaxis\":{\"title\":{\"text\":\"Value (Rs Crore)\"}}}},{\"data\":[{\"marker\":{\"color\":\"#1f77b4\"},\"x\":[\" IMPS Value (Rupees Crore)\",\"NACH Cr Value (Rupees Crore)\",\" NEFT Value (Rupees Crore)\",\" UPI Value (Rupees Crore)\",\"BHIM Aadhaar Pay Value (Rupees Crore)\",\"NACH Dr Value (Rupees Crore)\",\"Credit Cards Value (Rupees Crore)\",\"Debit Cards Value (Rupees Crore)\",\"Wallets Value (Rupees Crore)\"],\"y\":[444541,119677,2627354,1063117,621,99754,115856,64515,18775],\"type\":\"bar\"}],\"layout\":{\"font\":{\"size\":14},\"height\":600,\"margin\":{\"b\":100,\"pad\":10},\"title\":{\"text\":\"Payment Value - July-2022\"},\"xaxis\":{\"title\":{\"text\":\"Payment System\"}},\"yaxis\":{\"title\":{\"text\":\"Value (Rs Crore)\"}}}},{\"data\":[{\"marker\":{\"color\":\"#1f77b4\"},\"x\":[\" IMPS Value (Rupees Crore)\",\"NACH Cr Value (Rupees Crore)\",\" NEFT Value (Rupees Crore)\",\" UPI Value (Rupees Crore)\",\"BHIM Aadhaar Pay Value (Rupees Crore)\",\"NACH Dr Value (Rupees Crore)\",\"Credit Cards Value (Rupees Crore)\",\"Debit Cards Value (Rupees Crore)\",\"Wallets Value (Rupees Crore)\"],\"y\":[445989,128480,2631639,1073162,516,102100,112358,62159,18495],\"type\":\"bar\"}],\"layout\":{\"font\":{\"size\":14},\"height\":600,\"margin\":{\"b\":100,\"pad\":10},\"title\":{\"text\":\"Payment Value - August-2022\"},\"xaxis\":{\"title\":{\"text\":\"Payment System\"}},\"yaxis\":{\"title\":{\"text\":\"Value (Rs Crore)\"}}}},{\"data\":[{\"marker\":{\"color\":\"#1f77b4\"},\"x\":[\" IMPS Value (Rupees Crore)\",\"NACH Cr Value (Rupees Crore)\",\" NEFT Value (Rupees Crore)\",\" UPI Value (Rupees Crore)\",\"BHIM Aadhaar Pay Value (Rupees Crore)\",\"NACH Dr Value (Rupees Crore)\",\"Credit Cards Value (Rupees Crore)\",\"Debit Cards Value (Rupees Crore)\",\"Wallets Value (Rupees Crore)\"],\"y\":[454451,114718,2922913,1116438,516,105128,122094,61204,17915],\"type\":\"bar\"}],\"layout\":{\"font\":{\"size\":14},\"height\":600,\"margin\":{\"b\":100,\"pad\":10},\"title\":{\"text\":\"Payment Value - September-2022\"},\"xaxis\":{\"title\":{\"text\":\"Payment System\"}},\"yaxis\":{\"title\":{\"text\":\"Value (Rs Crore)\"}}}},{\"data\":[{\"marker\":{\"color\":\"#1f77b4\"},\"x\":[\" IMPS Value (Rupees Crore)\",\"NACH Cr Value (Rupees Crore)\",\" NEFT Value (Rupees Crore)\",\" UPI Value (Rupees Crore)\",\"BHIM Aadhaar Pay Value (Rupees Crore)\",\"NACH Dr Value (Rupees Crore)\",\"Credit Cards Value (Rupees Crore)\",\"Debit Cards Value (Rupees Crore)\",\"Wallets Value (Rupees Crore)\"],\"y\":[466082,127118,2726827,1211588,604,106131,129048,67073,18450],\"type\":\"bar\"}],\"layout\":{\"font\":{\"size\":14},\"height\":600,\"margin\":{\"b\":100,\"pad\":10},\"title\":{\"text\":\"Payment Value - October-2022\"},\"xaxis\":{\"title\":{\"text\":\"Payment System\"}},\"yaxis\":{\"title\":{\"text\":\"Value (Rs Crore)\"}}}},{\"data\":[{\"marker\":{\"color\":\"#1f77b4\"},\"x\":[\" IMPS Value (Rupees Crore)\",\"NACH Cr Value (Rupees Crore)\",\" NEFT Value (Rupees Crore)\",\" UPI Value (Rupees Crore)\",\"BHIM Aadhaar Pay Value (Rupees Crore)\",\"NACH Dr Value (Rupees Crore)\",\"Credit Cards Value (Rupees Crore)\",\"Debit Cards Value (Rupees Crore)\",\"Wallets Value (Rupees Crore)\"],\"y\":[454679,141901,2730878,1190593,475,109479,114794,55592,17342],\"type\":\"bar\"}],\"layout\":{\"font\":{\"size\":14},\"height\":600,\"margin\":{\"b\":100,\"pad\":10},\"title\":{\"text\":\"Payment Value - November-2022\"},\"xaxis\":{\"title\":{\"text\":\"Payment System\"}},\"yaxis\":{\"title\":{\"text\":\"Value (Rs Crore)\"}}}},{\"data\":[{\"marker\":{\"color\":\"#1f77b4\"},\"x\":[\" IMPS Value (Rupees Crore)\",\"NACH Cr Value (Rupees Crore)\",\" NEFT Value (Rupees Crore)\",\" UPI Value (Rupees Crore)\",\"BHIM Aadhaar Pay Value (Rupees Crore)\",\"NACH Dr Value (Rupees Crore)\",\"Credit Cards Value (Rupees Crore)\",\"Debit Cards Value (Rupees Crore)\",\"Wallets Value (Rupees Crore)\"],\"y\":[486552,157435,2981681,1281971,446,115737,126524,58626,18400],\"type\":\"bar\"}],\"layout\":{\"font\":{\"size\":14},\"height\":600,\"margin\":{\"b\":100,\"pad\":10},\"title\":{\"text\":\"Payment Value - December-2022\"},\"xaxis\":{\"title\":{\"text\":\"Payment System\"}},\"yaxis\":{\"title\":{\"text\":\"Value (Rs Crore)\"}}}},{\"data\":[{\"marker\":{\"color\":\"#1f77b4\"},\"x\":[\" IMPS Value (Rupees Crore)\",\"NACH Cr Value (Rupees Crore)\",\" NEFT Value (Rupees Crore)\",\" UPI Value (Rupees Crore)\",\"BHIM Aadhaar Pay Value (Rupees Crore)\",\"NACH Dr Value (Rupees Crore)\",\"Credit Cards Value (Rupees Crore)\",\"Debit Cards Value (Rupees Crore)\",\"Wallets Value (Rupees Crore)\"],\"y\":[477491,131620,2810180,1299059,468,114953,127682,55778,17899],\"type\":\"bar\"}],\"layout\":{\"font\":{\"size\":14},\"height\":600,\"margin\":{\"b\":100,\"pad\":10},\"title\":{\"text\":\"Payment Value - January-2023\"},\"xaxis\":{\"title\":{\"text\":\"Payment System\"}},\"yaxis\":{\"title\":{\"text\":\"Value (Rs Crore)\"}}}},{\"data\":[{\"marker\":{\"color\":\"#1f77b4\"},\"x\":[\" IMPS Value (Rupees Crore)\",\"NACH Cr Value (Rupees Crore)\",\" NEFT Value (Rupees Crore)\",\" UPI Value (Rupees Crore)\",\"BHIM Aadhaar Pay Value (Rupees Crore)\",\"NACH Dr Value (Rupees Crore)\",\"Credit Cards Value (Rupees Crore)\",\"Debit Cards Value (Rupees Crore)\",\"Wallets Value (Rupees Crore)\"],\"y\":[468647,134032,2775972,1235847,454,114630,118684,49693,18356],\"type\":\"bar\"}],\"layout\":{\"font\":{\"size\":14},\"height\":600,\"margin\":{\"b\":100,\"pad\":10},\"title\":{\"text\":\"Payment Value - February-2023\"},\"xaxis\":{\"title\":{\"text\":\"Payment System\"}},\"yaxis\":{\"title\":{\"text\":\"Value (Rs Crore)\"}}}}]);\n",
       "                        }).then(function(){\n",
       "                            \n",
       "var gd = document.getElementById('add75c48-0068-4747-921d-cc64c21cbec2');\n",
       "var x = new MutationObserver(function (mutations, observer) {{\n",
       "        var display = window.getComputedStyle(gd).display;\n",
       "        if (!display || display === 'none') {{\n",
       "            console.log([gd, 'removed!']);\n",
       "            Plotly.purge(gd);\n",
       "            observer.disconnect();\n",
       "        }}\n",
       "}});\n",
       "\n",
       "// Listen for the removal of the full notebook cells\n",
       "var notebookContainer = gd.closest('#notebook-container');\n",
       "if (notebookContainer) {{\n",
       "    x.observe(notebookContainer, {childList: true});\n",
       "}}\n",
       "\n",
       "// Listen for the clearing of the current output cell\n",
       "var outputEl = gd.closest('.output');\n",
       "if (outputEl) {{\n",
       "    x.observe(outputEl, {childList: true});\n",
       "}}\n",
       "\n",
       "                        })                };                });            </script>        </div>"
      ]
     },
     "metadata": {},
     "output_type": "display_data"
    }
   ],
   "source": [
    "#  Import data\n",
    "data = monthly_paisa_system[['Month', ' IMPS Value (Rupees Crore)', 'NACH Cr Value (Rupees Crore)', ' NEFT Value (Rupees Crore)', ' UPI Value (Rupees Crore)', \n",
    "       'BHIM Aadhaar Pay Value (Rupees Crore)',\n",
    "       'NACH Dr Value (Rupees Crore)', \n",
    "       'Credit Cards Value (Rupees Crore)', 'Debit Cards Value (Rupees Crore)', \n",
    "       'Wallets Value (Rupees Crore)']]\n",
    "\n",
    "# Set up subplots\n",
    "fig = make_subplots(rows=1, cols=1, specs=[[{\"type\": \"bar\"}]])\n",
    "\n",
    "# Define function to update the bar chart with each frame\n",
    "def update_value(frame):\n",
    "    # Select data for the current frame\n",
    "    current_data = data.iloc[frame, :]\n",
    "    \n",
    "    # Create bar trace\n",
    "    value_trace = go.Bar(\n",
    "        x=current_data.index[1:],\n",
    "        y=current_data.values[1:],\n",
    "        marker=dict(color=\"#1f77b4\")\n",
    "    )\n",
    "    \n",
    "    # Update layout\n",
    "    fig.update_layout(\n",
    "        title=f\"Payment Value - {current_data['Month']}\",\n",
    "        xaxis_title=\"Payment System\",\n",
    "        yaxis_title=\"Value (Rs Crore)\",\n",
    "        font=dict(size=14),\n",
    "        height=600,\n",
    "        margin=dict(pad=10, b=100)\n",
    "    )\n",
    "    \n",
    "    # Update trace\n",
    "    fig.data = [value_trace]\n",
    "    \n",
    "    return fig\n",
    "\n",
    "# Create frames for each month\n",
    "frames = [go.Frame(data=[go.Bar(y=data.iloc[i, 1:].values, x=data.columns[1:], marker=dict(color=\"#1f77b4\"))],\n",
    "                   layout=go.Layout(title=f\"Payment Value - {data.iloc[i, 0]}\",\n",
    "                                    xaxis_title=\"Payment System\",\n",
    "                                    yaxis_title = \"Value (Rs Crore)\",\n",
    "                                    font=dict(size=14),\n",
    "                                    height=600,\n",
    "                                    margin=dict(pad=10, b=100)\n",
    "                                   )\n",
    "                  ) for i in range(len(data))]\n",
    "\n",
    "# Add frames to animation\n",
    "fig.frames = frames\n",
    "\n",
    "# Set up animation settings\n",
    "animation_settings = dict(frame=dict(duration=300, redraw = True), fromcurrent=True)\n",
    "\n",
    "# Add animation buttons\n",
    "fig.update_layout(yaxis=dict(range=[0, 80000]), \n",
    "                  updatemenus=[dict(type=\"buttons\",\n",
    "                                   showactive=False,\n",
    "                                   buttons=[dict(label=\"Play\",\n",
    "                                                 method=\"animate\",\n",
    "                                                 args=[None, animation_settings])])]\n",
    "                )\n",
    "\n",
    "            \n",
    "\n",
    "# Set initial layout\n",
    "fig.update_layout(\n",
    "    title=f\"Payment Value - {data.iloc[0, 0]}\",\n",
    "    xaxis_title=\"Payment System\",\n",
    "    yaxis_title=\"Value (Rs Crore)\",\n",
    "    font=dict(size=14),\n",
    "    height=600,\n",
    "    margin=dict(pad=10, b=100),\n",
    "    yaxis = dict(range=[0,3500000]) \n",
    ")\n",
    "\n",
    "# Add initial trace\n",
    "fig.add_trace(go.Bar(x=data.columns[1:], y=data.iloc[0, 1:].values, marker=dict(color=\"#1f77b4\")))\n",
    "\n",
    "# save the animation as an html file\n",
    "fig.write_html('Final/payment_systems_value.html')\n",
    "# We have manual made the gif from this html file\n",
    "\n",
    "fig.show()\n"
   ]
  },
  {
   "attachments": {},
   "cell_type": "markdown",
   "metadata": {},
   "source": [
    "We see that there is a large overall increase in the number of digital transactions. One of the major reason for the increase is the demonitisation and push for cashless systems by the Indian government. UPI has become one of the most used payment system. It is being widely used by the Indian Population. We can also see that most of the people use UPI for small transaction as the value of UPI transaction is not as high its volume. Overall, volume and value of transaction across all cashless system has increased. Due to ease of payments, security and emergence of new startups the UPI has boomed. "
   ]
  },
  {
   "attachments": {},
   "cell_type": "markdown",
   "metadata": {},
   "source": [
    "# India Map"
   ]
  },
  {
   "cell_type": "code",
   "execution_count": 29,
   "metadata": {},
   "outputs": [],
   "source": [
    "pass"
   ]
  },
  {
   "attachments": {},
   "cell_type": "markdown",
   "metadata": {},
   "source": [
    "# India Poverty Vs GDP"
   ]
  },
  {
   "cell_type": "code",
   "execution_count": 30,
   "metadata": {},
   "outputs": [
    {
     "data": {
      "application/vnd.plotly.v1+json": {
       "config": {
        "plotlyServerURL": "https://plot.ly"
       },
       "data": [
        {
         "name": "Poverty Percentage",
         "type": "scatter",
         "x": [
          2011,
          2009,
          2004,
          1993,
          1990,
          1983,
          1973
         ],
         "y": [
          21.92,
          29.8,
          37.2,
          26.1,
          35.97,
          44.48,
          54.88
         ]
        },
        {
         "name": "GDP",
         "type": "scatter",
         "x": [
          1973,
          1974,
          1975,
          1976,
          1977,
          1978,
          1979,
          1980,
          1981,
          1982,
          1983,
          1984,
          1985,
          1986,
          1987,
          1988,
          1989,
          1990,
          1991,
          1992,
          1993,
          1994,
          1995,
          1996,
          1997,
          1998,
          1999,
          2000,
          2001,
          2002,
          2003,
          2004,
          2005,
          2006,
          2007,
          2008,
          2009,
          2010,
          2011
         ],
         "y": [
          11.37279,
          11.50759,
          12.56053,
          12.76942,
          13.69581,
          14.47819,
          13.7198,
          14.64394,
          15.52348,
          16.06304,
          17.23386,
          17.89232,
          18.83243,
          19.73197,
          20.51442,
          22.4895,
          23.82703,
          25.14549,
          25.41123,
          26.80438,
          28.07779,
          29.94747,
          32.21584,
          34.64798,
          36.05116,
          38.28072,
          41.66694,
          43.26736,
          45.35456,
          47.07984,
          50.78049,
          54.8038,
          59.14614,
          63.91375,
          68.81007,
          70.93403,
          76.51078,
          83.01235,
          87.36329
         ]
        }
       ],
       "layout": {
        "template": {
         "data": {
          "bar": [
           {
            "error_x": {
             "color": "#2a3f5f"
            },
            "error_y": {
             "color": "#2a3f5f"
            },
            "marker": {
             "line": {
              "color": "#E5ECF6",
              "width": 0.5
             },
             "pattern": {
              "fillmode": "overlay",
              "size": 10,
              "solidity": 0.2
             }
            },
            "type": "bar"
           }
          ],
          "barpolar": [
           {
            "marker": {
             "line": {
              "color": "#E5ECF6",
              "width": 0.5
             },
             "pattern": {
              "fillmode": "overlay",
              "size": 10,
              "solidity": 0.2
             }
            },
            "type": "barpolar"
           }
          ],
          "carpet": [
           {
            "aaxis": {
             "endlinecolor": "#2a3f5f",
             "gridcolor": "white",
             "linecolor": "white",
             "minorgridcolor": "white",
             "startlinecolor": "#2a3f5f"
            },
            "baxis": {
             "endlinecolor": "#2a3f5f",
             "gridcolor": "white",
             "linecolor": "white",
             "minorgridcolor": "white",
             "startlinecolor": "#2a3f5f"
            },
            "type": "carpet"
           }
          ],
          "choropleth": [
           {
            "colorbar": {
             "outlinewidth": 0,
             "ticks": ""
            },
            "type": "choropleth"
           }
          ],
          "contour": [
           {
            "colorbar": {
             "outlinewidth": 0,
             "ticks": ""
            },
            "colorscale": [
             [
              0,
              "#0d0887"
             ],
             [
              0.1111111111111111,
              "#46039f"
             ],
             [
              0.2222222222222222,
              "#7201a8"
             ],
             [
              0.3333333333333333,
              "#9c179e"
             ],
             [
              0.4444444444444444,
              "#bd3786"
             ],
             [
              0.5555555555555556,
              "#d8576b"
             ],
             [
              0.6666666666666666,
              "#ed7953"
             ],
             [
              0.7777777777777778,
              "#fb9f3a"
             ],
             [
              0.8888888888888888,
              "#fdca26"
             ],
             [
              1,
              "#f0f921"
             ]
            ],
            "type": "contour"
           }
          ],
          "contourcarpet": [
           {
            "colorbar": {
             "outlinewidth": 0,
             "ticks": ""
            },
            "type": "contourcarpet"
           }
          ],
          "heatmap": [
           {
            "colorbar": {
             "outlinewidth": 0,
             "ticks": ""
            },
            "colorscale": [
             [
              0,
              "#0d0887"
             ],
             [
              0.1111111111111111,
              "#46039f"
             ],
             [
              0.2222222222222222,
              "#7201a8"
             ],
             [
              0.3333333333333333,
              "#9c179e"
             ],
             [
              0.4444444444444444,
              "#bd3786"
             ],
             [
              0.5555555555555556,
              "#d8576b"
             ],
             [
              0.6666666666666666,
              "#ed7953"
             ],
             [
              0.7777777777777778,
              "#fb9f3a"
             ],
             [
              0.8888888888888888,
              "#fdca26"
             ],
             [
              1,
              "#f0f921"
             ]
            ],
            "type": "heatmap"
           }
          ],
          "heatmapgl": [
           {
            "colorbar": {
             "outlinewidth": 0,
             "ticks": ""
            },
            "colorscale": [
             [
              0,
              "#0d0887"
             ],
             [
              0.1111111111111111,
              "#46039f"
             ],
             [
              0.2222222222222222,
              "#7201a8"
             ],
             [
              0.3333333333333333,
              "#9c179e"
             ],
             [
              0.4444444444444444,
              "#bd3786"
             ],
             [
              0.5555555555555556,
              "#d8576b"
             ],
             [
              0.6666666666666666,
              "#ed7953"
             ],
             [
              0.7777777777777778,
              "#fb9f3a"
             ],
             [
              0.8888888888888888,
              "#fdca26"
             ],
             [
              1,
              "#f0f921"
             ]
            ],
            "type": "heatmapgl"
           }
          ],
          "histogram": [
           {
            "marker": {
             "pattern": {
              "fillmode": "overlay",
              "size": 10,
              "solidity": 0.2
             }
            },
            "type": "histogram"
           }
          ],
          "histogram2d": [
           {
            "colorbar": {
             "outlinewidth": 0,
             "ticks": ""
            },
            "colorscale": [
             [
              0,
              "#0d0887"
             ],
             [
              0.1111111111111111,
              "#46039f"
             ],
             [
              0.2222222222222222,
              "#7201a8"
             ],
             [
              0.3333333333333333,
              "#9c179e"
             ],
             [
              0.4444444444444444,
              "#bd3786"
             ],
             [
              0.5555555555555556,
              "#d8576b"
             ],
             [
              0.6666666666666666,
              "#ed7953"
             ],
             [
              0.7777777777777778,
              "#fb9f3a"
             ],
             [
              0.8888888888888888,
              "#fdca26"
             ],
             [
              1,
              "#f0f921"
             ]
            ],
            "type": "histogram2d"
           }
          ],
          "histogram2dcontour": [
           {
            "colorbar": {
             "outlinewidth": 0,
             "ticks": ""
            },
            "colorscale": [
             [
              0,
              "#0d0887"
             ],
             [
              0.1111111111111111,
              "#46039f"
             ],
             [
              0.2222222222222222,
              "#7201a8"
             ],
             [
              0.3333333333333333,
              "#9c179e"
             ],
             [
              0.4444444444444444,
              "#bd3786"
             ],
             [
              0.5555555555555556,
              "#d8576b"
             ],
             [
              0.6666666666666666,
              "#ed7953"
             ],
             [
              0.7777777777777778,
              "#fb9f3a"
             ],
             [
              0.8888888888888888,
              "#fdca26"
             ],
             [
              1,
              "#f0f921"
             ]
            ],
            "type": "histogram2dcontour"
           }
          ],
          "mesh3d": [
           {
            "colorbar": {
             "outlinewidth": 0,
             "ticks": ""
            },
            "type": "mesh3d"
           }
          ],
          "parcoords": [
           {
            "line": {
             "colorbar": {
              "outlinewidth": 0,
              "ticks": ""
             }
            },
            "type": "parcoords"
           }
          ],
          "pie": [
           {
            "automargin": true,
            "type": "pie"
           }
          ],
          "scatter": [
           {
            "fillpattern": {
             "fillmode": "overlay",
             "size": 10,
             "solidity": 0.2
            },
            "type": "scatter"
           }
          ],
          "scatter3d": [
           {
            "line": {
             "colorbar": {
              "outlinewidth": 0,
              "ticks": ""
             }
            },
            "marker": {
             "colorbar": {
              "outlinewidth": 0,
              "ticks": ""
             }
            },
            "type": "scatter3d"
           }
          ],
          "scattercarpet": [
           {
            "marker": {
             "colorbar": {
              "outlinewidth": 0,
              "ticks": ""
             }
            },
            "type": "scattercarpet"
           }
          ],
          "scattergeo": [
           {
            "marker": {
             "colorbar": {
              "outlinewidth": 0,
              "ticks": ""
             }
            },
            "type": "scattergeo"
           }
          ],
          "scattergl": [
           {
            "marker": {
             "colorbar": {
              "outlinewidth": 0,
              "ticks": ""
             }
            },
            "type": "scattergl"
           }
          ],
          "scattermapbox": [
           {
            "marker": {
             "colorbar": {
              "outlinewidth": 0,
              "ticks": ""
             }
            },
            "type": "scattermapbox"
           }
          ],
          "scatterpolar": [
           {
            "marker": {
             "colorbar": {
              "outlinewidth": 0,
              "ticks": ""
             }
            },
            "type": "scatterpolar"
           }
          ],
          "scatterpolargl": [
           {
            "marker": {
             "colorbar": {
              "outlinewidth": 0,
              "ticks": ""
             }
            },
            "type": "scatterpolargl"
           }
          ],
          "scatterternary": [
           {
            "marker": {
             "colorbar": {
              "outlinewidth": 0,
              "ticks": ""
             }
            },
            "type": "scatterternary"
           }
          ],
          "surface": [
           {
            "colorbar": {
             "outlinewidth": 0,
             "ticks": ""
            },
            "colorscale": [
             [
              0,
              "#0d0887"
             ],
             [
              0.1111111111111111,
              "#46039f"
             ],
             [
              0.2222222222222222,
              "#7201a8"
             ],
             [
              0.3333333333333333,
              "#9c179e"
             ],
             [
              0.4444444444444444,
              "#bd3786"
             ],
             [
              0.5555555555555556,
              "#d8576b"
             ],
             [
              0.6666666666666666,
              "#ed7953"
             ],
             [
              0.7777777777777778,
              "#fb9f3a"
             ],
             [
              0.8888888888888888,
              "#fdca26"
             ],
             [
              1,
              "#f0f921"
             ]
            ],
            "type": "surface"
           }
          ],
          "table": [
           {
            "cells": {
             "fill": {
              "color": "#EBF0F8"
             },
             "line": {
              "color": "white"
             }
            },
            "header": {
             "fill": {
              "color": "#C8D4E3"
             },
             "line": {
              "color": "white"
             }
            },
            "type": "table"
           }
          ]
         },
         "layout": {
          "annotationdefaults": {
           "arrowcolor": "#2a3f5f",
           "arrowhead": 0,
           "arrowwidth": 1
          },
          "autotypenumbers": "strict",
          "coloraxis": {
           "colorbar": {
            "outlinewidth": 0,
            "ticks": ""
           }
          },
          "colorscale": {
           "diverging": [
            [
             0,
             "#8e0152"
            ],
            [
             0.1,
             "#c51b7d"
            ],
            [
             0.2,
             "#de77ae"
            ],
            [
             0.3,
             "#f1b6da"
            ],
            [
             0.4,
             "#fde0ef"
            ],
            [
             0.5,
             "#f7f7f7"
            ],
            [
             0.6,
             "#e6f5d0"
            ],
            [
             0.7,
             "#b8e186"
            ],
            [
             0.8,
             "#7fbc41"
            ],
            [
             0.9,
             "#4d9221"
            ],
            [
             1,
             "#276419"
            ]
           ],
           "sequential": [
            [
             0,
             "#0d0887"
            ],
            [
             0.1111111111111111,
             "#46039f"
            ],
            [
             0.2222222222222222,
             "#7201a8"
            ],
            [
             0.3333333333333333,
             "#9c179e"
            ],
            [
             0.4444444444444444,
             "#bd3786"
            ],
            [
             0.5555555555555556,
             "#d8576b"
            ],
            [
             0.6666666666666666,
             "#ed7953"
            ],
            [
             0.7777777777777778,
             "#fb9f3a"
            ],
            [
             0.8888888888888888,
             "#fdca26"
            ],
            [
             1,
             "#f0f921"
            ]
           ],
           "sequentialminus": [
            [
             0,
             "#0d0887"
            ],
            [
             0.1111111111111111,
             "#46039f"
            ],
            [
             0.2222222222222222,
             "#7201a8"
            ],
            [
             0.3333333333333333,
             "#9c179e"
            ],
            [
             0.4444444444444444,
             "#bd3786"
            ],
            [
             0.5555555555555556,
             "#d8576b"
            ],
            [
             0.6666666666666666,
             "#ed7953"
            ],
            [
             0.7777777777777778,
             "#fb9f3a"
            ],
            [
             0.8888888888888888,
             "#fdca26"
            ],
            [
             1,
             "#f0f921"
            ]
           ]
          },
          "colorway": [
           "#636efa",
           "#EF553B",
           "#00cc96",
           "#ab63fa",
           "#FFA15A",
           "#19d3f3",
           "#FF6692",
           "#B6E880",
           "#FF97FF",
           "#FECB52"
          ],
          "font": {
           "color": "#2a3f5f"
          },
          "geo": {
           "bgcolor": "white",
           "lakecolor": "white",
           "landcolor": "#E5ECF6",
           "showlakes": true,
           "showland": true,
           "subunitcolor": "white"
          },
          "hoverlabel": {
           "align": "left"
          },
          "hovermode": "closest",
          "mapbox": {
           "style": "light"
          },
          "paper_bgcolor": "white",
          "plot_bgcolor": "#E5ECF6",
          "polar": {
           "angularaxis": {
            "gridcolor": "white",
            "linecolor": "white",
            "ticks": ""
           },
           "bgcolor": "#E5ECF6",
           "radialaxis": {
            "gridcolor": "white",
            "linecolor": "white",
            "ticks": ""
           }
          },
          "scene": {
           "xaxis": {
            "backgroundcolor": "#E5ECF6",
            "gridcolor": "white",
            "gridwidth": 2,
            "linecolor": "white",
            "showbackground": true,
            "ticks": "",
            "zerolinecolor": "white"
           },
           "yaxis": {
            "backgroundcolor": "#E5ECF6",
            "gridcolor": "white",
            "gridwidth": 2,
            "linecolor": "white",
            "showbackground": true,
            "ticks": "",
            "zerolinecolor": "white"
           },
           "zaxis": {
            "backgroundcolor": "#E5ECF6",
            "gridcolor": "white",
            "gridwidth": 2,
            "linecolor": "white",
            "showbackground": true,
            "ticks": "",
            "zerolinecolor": "white"
           }
          },
          "shapedefaults": {
           "line": {
            "color": "#2a3f5f"
           }
          },
          "ternary": {
           "aaxis": {
            "gridcolor": "white",
            "linecolor": "white",
            "ticks": ""
           },
           "baxis": {
            "gridcolor": "white",
            "linecolor": "white",
            "ticks": ""
           },
           "bgcolor": "#E5ECF6",
           "caxis": {
            "gridcolor": "white",
            "linecolor": "white",
            "ticks": ""
           }
          },
          "title": {
           "x": 0.05
          },
          "xaxis": {
           "automargin": true,
           "gridcolor": "white",
           "linecolor": "white",
           "ticks": "",
           "title": {
            "standoff": 15
           },
           "zerolinecolor": "white",
           "zerolinewidth": 2
          },
          "yaxis": {
           "automargin": true,
           "gridcolor": "white",
           "linecolor": "white",
           "ticks": "",
           "title": {
            "standoff": 15
           },
           "zerolinecolor": "white",
           "zerolinewidth": 2
          }
         }
        },
        "title": {
         "text": "Poverty Percentage vs GDP Over Time"
        },
        "xaxis": {
         "title": {
          "text": "Year"
         }
        },
        "yaxis": {
         "title": {
          "text": "Value"
         }
        }
       }
      },
      "text/html": [
       "<div>                            <div id=\"aece43c1-08a7-4914-873f-7e7753e07aa3\" class=\"plotly-graph-div\" style=\"height:525px; width:100%;\"></div>            <script type=\"text/javascript\">                require([\"plotly\"], function(Plotly) {                    window.PLOTLYENV=window.PLOTLYENV || {};                                    if (document.getElementById(\"aece43c1-08a7-4914-873f-7e7753e07aa3\")) {                    Plotly.newPlot(                        \"aece43c1-08a7-4914-873f-7e7753e07aa3\",                        [{\"name\":\"Poverty Percentage\",\"x\":[2011,2009,2004,1993,1990,1983,1973],\"y\":[21.92,29.8,37.2,26.1,35.97,44.48,54.88],\"type\":\"scatter\"},{\"name\":\"GDP\",\"x\":[1973,1974,1975,1976,1977,1978,1979,1980,1981,1982,1983,1984,1985,1986,1987,1988,1989,1990,1991,1992,1993,1994,1995,1996,1997,1998,1999,2000,2001,2002,2003,2004,2005,2006,2007,2008,2009,2010,2011],\"y\":[11.37279,11.50759,12.56053,12.76942,13.69581,14.47819,13.7198,14.64394,15.52348,16.06304,17.23386,17.89232,18.83243,19.73197,20.51442,22.4895,23.82703,25.14549,25.41123,26.80438,28.07779,29.94747,32.21584,34.64798,36.05116,38.28072,41.66694,43.26736,45.35456,47.07984,50.78049,54.8038,59.14614,63.91375,68.81007,70.93403,76.51078,83.01235,87.36329],\"type\":\"scatter\"}],                        {\"title\":{\"text\":\"Poverty Percentage vs GDP Over Time\"},\"xaxis\":{\"title\":{\"text\":\"Year\"}},\"yaxis\":{\"title\":{\"text\":\"Value\"}},\"template\":{\"data\":{\"histogram2dcontour\":[{\"type\":\"histogram2dcontour\",\"colorbar\":{\"outlinewidth\":0,\"ticks\":\"\"},\"colorscale\":[[0.0,\"#0d0887\"],[0.1111111111111111,\"#46039f\"],[0.2222222222222222,\"#7201a8\"],[0.3333333333333333,\"#9c179e\"],[0.4444444444444444,\"#bd3786\"],[0.5555555555555556,\"#d8576b\"],[0.6666666666666666,\"#ed7953\"],[0.7777777777777778,\"#fb9f3a\"],[0.8888888888888888,\"#fdca26\"],[1.0,\"#f0f921\"]]}],\"choropleth\":[{\"type\":\"choropleth\",\"colorbar\":{\"outlinewidth\":0,\"ticks\":\"\"}}],\"histogram2d\":[{\"type\":\"histogram2d\",\"colorbar\":{\"outlinewidth\":0,\"ticks\":\"\"},\"colorscale\":[[0.0,\"#0d0887\"],[0.1111111111111111,\"#46039f\"],[0.2222222222222222,\"#7201a8\"],[0.3333333333333333,\"#9c179e\"],[0.4444444444444444,\"#bd3786\"],[0.5555555555555556,\"#d8576b\"],[0.6666666666666666,\"#ed7953\"],[0.7777777777777778,\"#fb9f3a\"],[0.8888888888888888,\"#fdca26\"],[1.0,\"#f0f921\"]]}],\"heatmap\":[{\"type\":\"heatmap\",\"colorbar\":{\"outlinewidth\":0,\"ticks\":\"\"},\"colorscale\":[[0.0,\"#0d0887\"],[0.1111111111111111,\"#46039f\"],[0.2222222222222222,\"#7201a8\"],[0.3333333333333333,\"#9c179e\"],[0.4444444444444444,\"#bd3786\"],[0.5555555555555556,\"#d8576b\"],[0.6666666666666666,\"#ed7953\"],[0.7777777777777778,\"#fb9f3a\"],[0.8888888888888888,\"#fdca26\"],[1.0,\"#f0f921\"]]}],\"heatmapgl\":[{\"type\":\"heatmapgl\",\"colorbar\":{\"outlinewidth\":0,\"ticks\":\"\"},\"colorscale\":[[0.0,\"#0d0887\"],[0.1111111111111111,\"#46039f\"],[0.2222222222222222,\"#7201a8\"],[0.3333333333333333,\"#9c179e\"],[0.4444444444444444,\"#bd3786\"],[0.5555555555555556,\"#d8576b\"],[0.6666666666666666,\"#ed7953\"],[0.7777777777777778,\"#fb9f3a\"],[0.8888888888888888,\"#fdca26\"],[1.0,\"#f0f921\"]]}],\"contourcarpet\":[{\"type\":\"contourcarpet\",\"colorbar\":{\"outlinewidth\":0,\"ticks\":\"\"}}],\"contour\":[{\"type\":\"contour\",\"colorbar\":{\"outlinewidth\":0,\"ticks\":\"\"},\"colorscale\":[[0.0,\"#0d0887\"],[0.1111111111111111,\"#46039f\"],[0.2222222222222222,\"#7201a8\"],[0.3333333333333333,\"#9c179e\"],[0.4444444444444444,\"#bd3786\"],[0.5555555555555556,\"#d8576b\"],[0.6666666666666666,\"#ed7953\"],[0.7777777777777778,\"#fb9f3a\"],[0.8888888888888888,\"#fdca26\"],[1.0,\"#f0f921\"]]}],\"surface\":[{\"type\":\"surface\",\"colorbar\":{\"outlinewidth\":0,\"ticks\":\"\"},\"colorscale\":[[0.0,\"#0d0887\"],[0.1111111111111111,\"#46039f\"],[0.2222222222222222,\"#7201a8\"],[0.3333333333333333,\"#9c179e\"],[0.4444444444444444,\"#bd3786\"],[0.5555555555555556,\"#d8576b\"],[0.6666666666666666,\"#ed7953\"],[0.7777777777777778,\"#fb9f3a\"],[0.8888888888888888,\"#fdca26\"],[1.0,\"#f0f921\"]]}],\"mesh3d\":[{\"type\":\"mesh3d\",\"colorbar\":{\"outlinewidth\":0,\"ticks\":\"\"}}],\"scatter\":[{\"fillpattern\":{\"fillmode\":\"overlay\",\"size\":10,\"solidity\":0.2},\"type\":\"scatter\"}],\"parcoords\":[{\"type\":\"parcoords\",\"line\":{\"colorbar\":{\"outlinewidth\":0,\"ticks\":\"\"}}}],\"scatterpolargl\":[{\"type\":\"scatterpolargl\",\"marker\":{\"colorbar\":{\"outlinewidth\":0,\"ticks\":\"\"}}}],\"bar\":[{\"error_x\":{\"color\":\"#2a3f5f\"},\"error_y\":{\"color\":\"#2a3f5f\"},\"marker\":{\"line\":{\"color\":\"#E5ECF6\",\"width\":0.5},\"pattern\":{\"fillmode\":\"overlay\",\"size\":10,\"solidity\":0.2}},\"type\":\"bar\"}],\"scattergeo\":[{\"type\":\"scattergeo\",\"marker\":{\"colorbar\":{\"outlinewidth\":0,\"ticks\":\"\"}}}],\"scatterpolar\":[{\"type\":\"scatterpolar\",\"marker\":{\"colorbar\":{\"outlinewidth\":0,\"ticks\":\"\"}}}],\"histogram\":[{\"marker\":{\"pattern\":{\"fillmode\":\"overlay\",\"size\":10,\"solidity\":0.2}},\"type\":\"histogram\"}],\"scattergl\":[{\"type\":\"scattergl\",\"marker\":{\"colorbar\":{\"outlinewidth\":0,\"ticks\":\"\"}}}],\"scatter3d\":[{\"type\":\"scatter3d\",\"line\":{\"colorbar\":{\"outlinewidth\":0,\"ticks\":\"\"}},\"marker\":{\"colorbar\":{\"outlinewidth\":0,\"ticks\":\"\"}}}],\"scattermapbox\":[{\"type\":\"scattermapbox\",\"marker\":{\"colorbar\":{\"outlinewidth\":0,\"ticks\":\"\"}}}],\"scatterternary\":[{\"type\":\"scatterternary\",\"marker\":{\"colorbar\":{\"outlinewidth\":0,\"ticks\":\"\"}}}],\"scattercarpet\":[{\"type\":\"scattercarpet\",\"marker\":{\"colorbar\":{\"outlinewidth\":0,\"ticks\":\"\"}}}],\"carpet\":[{\"aaxis\":{\"endlinecolor\":\"#2a3f5f\",\"gridcolor\":\"white\",\"linecolor\":\"white\",\"minorgridcolor\":\"white\",\"startlinecolor\":\"#2a3f5f\"},\"baxis\":{\"endlinecolor\":\"#2a3f5f\",\"gridcolor\":\"white\",\"linecolor\":\"white\",\"minorgridcolor\":\"white\",\"startlinecolor\":\"#2a3f5f\"},\"type\":\"carpet\"}],\"table\":[{\"cells\":{\"fill\":{\"color\":\"#EBF0F8\"},\"line\":{\"color\":\"white\"}},\"header\":{\"fill\":{\"color\":\"#C8D4E3\"},\"line\":{\"color\":\"white\"}},\"type\":\"table\"}],\"barpolar\":[{\"marker\":{\"line\":{\"color\":\"#E5ECF6\",\"width\":0.5},\"pattern\":{\"fillmode\":\"overlay\",\"size\":10,\"solidity\":0.2}},\"type\":\"barpolar\"}],\"pie\":[{\"automargin\":true,\"type\":\"pie\"}]},\"layout\":{\"autotypenumbers\":\"strict\",\"colorway\":[\"#636efa\",\"#EF553B\",\"#00cc96\",\"#ab63fa\",\"#FFA15A\",\"#19d3f3\",\"#FF6692\",\"#B6E880\",\"#FF97FF\",\"#FECB52\"],\"font\":{\"color\":\"#2a3f5f\"},\"hovermode\":\"closest\",\"hoverlabel\":{\"align\":\"left\"},\"paper_bgcolor\":\"white\",\"plot_bgcolor\":\"#E5ECF6\",\"polar\":{\"bgcolor\":\"#E5ECF6\",\"angularaxis\":{\"gridcolor\":\"white\",\"linecolor\":\"white\",\"ticks\":\"\"},\"radialaxis\":{\"gridcolor\":\"white\",\"linecolor\":\"white\",\"ticks\":\"\"}},\"ternary\":{\"bgcolor\":\"#E5ECF6\",\"aaxis\":{\"gridcolor\":\"white\",\"linecolor\":\"white\",\"ticks\":\"\"},\"baxis\":{\"gridcolor\":\"white\",\"linecolor\":\"white\",\"ticks\":\"\"},\"caxis\":{\"gridcolor\":\"white\",\"linecolor\":\"white\",\"ticks\":\"\"}},\"coloraxis\":{\"colorbar\":{\"outlinewidth\":0,\"ticks\":\"\"}},\"colorscale\":{\"sequential\":[[0.0,\"#0d0887\"],[0.1111111111111111,\"#46039f\"],[0.2222222222222222,\"#7201a8\"],[0.3333333333333333,\"#9c179e\"],[0.4444444444444444,\"#bd3786\"],[0.5555555555555556,\"#d8576b\"],[0.6666666666666666,\"#ed7953\"],[0.7777777777777778,\"#fb9f3a\"],[0.8888888888888888,\"#fdca26\"],[1.0,\"#f0f921\"]],\"sequentialminus\":[[0.0,\"#0d0887\"],[0.1111111111111111,\"#46039f\"],[0.2222222222222222,\"#7201a8\"],[0.3333333333333333,\"#9c179e\"],[0.4444444444444444,\"#bd3786\"],[0.5555555555555556,\"#d8576b\"],[0.6666666666666666,\"#ed7953\"],[0.7777777777777778,\"#fb9f3a\"],[0.8888888888888888,\"#fdca26\"],[1.0,\"#f0f921\"]],\"diverging\":[[0,\"#8e0152\"],[0.1,\"#c51b7d\"],[0.2,\"#de77ae\"],[0.3,\"#f1b6da\"],[0.4,\"#fde0ef\"],[0.5,\"#f7f7f7\"],[0.6,\"#e6f5d0\"],[0.7,\"#b8e186\"],[0.8,\"#7fbc41\"],[0.9,\"#4d9221\"],[1,\"#276419\"]]},\"xaxis\":{\"gridcolor\":\"white\",\"linecolor\":\"white\",\"ticks\":\"\",\"title\":{\"standoff\":15},\"zerolinecolor\":\"white\",\"automargin\":true,\"zerolinewidth\":2},\"yaxis\":{\"gridcolor\":\"white\",\"linecolor\":\"white\",\"ticks\":\"\",\"title\":{\"standoff\":15},\"zerolinecolor\":\"white\",\"automargin\":true,\"zerolinewidth\":2},\"scene\":{\"xaxis\":{\"backgroundcolor\":\"#E5ECF6\",\"gridcolor\":\"white\",\"linecolor\":\"white\",\"showbackground\":true,\"ticks\":\"\",\"zerolinecolor\":\"white\",\"gridwidth\":2},\"yaxis\":{\"backgroundcolor\":\"#E5ECF6\",\"gridcolor\":\"white\",\"linecolor\":\"white\",\"showbackground\":true,\"ticks\":\"\",\"zerolinecolor\":\"white\",\"gridwidth\":2},\"zaxis\":{\"backgroundcolor\":\"#E5ECF6\",\"gridcolor\":\"white\",\"linecolor\":\"white\",\"showbackground\":true,\"ticks\":\"\",\"zerolinecolor\":\"white\",\"gridwidth\":2}},\"shapedefaults\":{\"line\":{\"color\":\"#2a3f5f\"}},\"annotationdefaults\":{\"arrowcolor\":\"#2a3f5f\",\"arrowhead\":0,\"arrowwidth\":1},\"geo\":{\"bgcolor\":\"white\",\"landcolor\":\"#E5ECF6\",\"subunitcolor\":\"white\",\"showland\":true,\"showlakes\":true,\"lakecolor\":\"white\"},\"title\":{\"x\":0.05},\"mapbox\":{\"style\":\"light\"}}}},                        {\"responsive\": true}                    ).then(function(){\n",
       "                            \n",
       "var gd = document.getElementById('aece43c1-08a7-4914-873f-7e7753e07aa3');\n",
       "var x = new MutationObserver(function (mutations, observer) {{\n",
       "        var display = window.getComputedStyle(gd).display;\n",
       "        if (!display || display === 'none') {{\n",
       "            console.log([gd, 'removed!']);\n",
       "            Plotly.purge(gd);\n",
       "            observer.disconnect();\n",
       "        }}\n",
       "}});\n",
       "\n",
       "// Listen for the removal of the full notebook cells\n",
       "var notebookContainer = gd.closest('#notebook-container');\n",
       "if (notebookContainer) {{\n",
       "    x.observe(notebookContainer, {childList: true});\n",
       "}}\n",
       "\n",
       "// Listen for the clearing of the current output cell\n",
       "var outputEl = gd.closest('.output');\n",
       "if (outputEl) {{\n",
       "    x.observe(outputEl, {childList: true});\n",
       "}}\n",
       "\n",
       "                        })                };                });            </script>        </div>"
      ]
     },
     "metadata": {},
     "output_type": "display_data"
    }
   ],
   "source": [
    "poverty_pct = [21.92, 29.8, 37.2, 26.1, 35.97, 44.48, 54.88]\n",
    "year = [2011, 2009, 2004, 1993, 1990, 1983, 1973]\n",
    "gdp = [1137279, 1150759, 1256053, 1276942, 1369581, 1447819, 1371980, 1464394, 1552348, 1606304, 1723386, 1789232, 1883243, 1973197, 2051442, 2248950, 2382703, 2514549, 2541123, 2680438, 2807779, 2994747, 3221584, 3464798, 3605116, 3828072, 4166694, 4326736, 4535456, 4707984, 5078049, 5480380, 5914614, 6391375, 6881007, 7093403, 7651078, 8301235, 8736329]\n",
    "\n",
    "india_poverty_gdp = pd.DataFrame([poverty_pct, year, gdp])\n",
    "\n",
    "gdp_norm = [i/10**5 for i in gdp]\n",
    "year2 = list(range(1973, 2012))\n",
    "\n",
    "# Create trace for poverty percentage data\n",
    "trace_poverty = go.Scatter(x=year, y=poverty_pct, name='Poverty Percentage')\n",
    "\n",
    "# Create trace for GDP data\n",
    "trace_gdp = go.Scatter(x=year2, y=gdp_norm, name='GDP')\n",
    "\n",
    "# Create the layout\n",
    "layout = go.Layout(title='Poverty Percentage vs GDP Over Time',\n",
    "                   xaxis=dict(title='Year'),\n",
    "                   yaxis=dict(title='Value'))\n",
    "\n",
    "# Create the figure\n",
    "fig = go.Figure(data=[trace_poverty, trace_gdp], layout=layout)\n",
    "\n",
    "# Show the figure\n",
    "fig.show()"
   ]
  },
  {
   "attachments": {},
   "cell_type": "markdown",
   "metadata": {},
   "source": [
    "Even though we see that the GDP of India is increasing very rapidly, the percentage of people below poverty line is still very high. The GDP and per capita GDP of India is one of the fastest growing in the world. India is one of the richest country. Still many people sleep hungry. This shows there is a huge income inequality in the country. In the above graph we see that even though the GDP has increased approximately 10 times, the people below the poverty line have only reduced by half. Its important that the government take steps to improve the situation. "
   ]
  },
  {
   "attachments": {},
   "cell_type": "markdown",
   "metadata": {},
   "source": []
  },
  {
   "cell_type": "code",
   "execution_count": 35,
   "metadata": {},
   "outputs": [],
   "source": [
    "states = ['Andhra Pradesh','Arunachal Pradesh','Assam','Bihar','Chhattisgarh','Goa','Gujarat','Haryana','Himachal Pradesh','Jammu and Kashmir','Jharkhand','Karnataka','Kerala','Madhya Pradesh','Maharashtra', 'Manipur',\n",
    "'Meghalaya','Mizoram','Nagaland','Orissa','Punjab','Rajasthan','Sikkim','Tamil Nadu','Tripura','Uttar Pradesh','Uttarakhand','West Bengal','Andaman and Nicobar Islands','Chandigarh','Delhi',\n",
    "'Puducherry']\n",
    "gdp = [413164,13377,160442,292143,186050,32043,707456,362196,80129,79692,172030,746569,417265,393115,1448720,14440,20415,8989,14545,260977,297908,494236,12203,858870,23329,833825,131814,617470,4288,22308,404841,19778]\n",
    "poverty= [9.2, 34.67, 31.98, 33.74, 39.93, 5.09, 16.63, 11.16, 8.06, 10.35, 36.96, 20.91, 7.05, 31.65, 17.35, 36.89, 11.87, 20.4, 18.88, 32.59, 8.26, 14.71, 8.19, 11.28, 14.05, 29.43, 11.26, 19.98, 1, 21.81, 9.91, 9.69]"
   ]
  },
  {
   "cell_type": "code",
   "execution_count": 36,
   "metadata": {},
   "outputs": [
    {
     "data": {
      "application/vnd.plotly.v1+json": {
       "config": {
        "plotlyServerURL": "https://plot.ly"
       },
       "data": [
        {
         "name": "Poverty Percentage",
         "type": "scatter",
         "x": [
          "Andhra Pradesh",
          "Arunachal Pradesh",
          "Assam",
          "Bihar",
          "Chhattisgarh",
          "Goa",
          "Gujarat",
          "Haryana",
          "Himachal Pradesh",
          "Jammu and Kashmir",
          "Jharkhand",
          "Karnataka",
          "Kerala",
          "Madhya Pradesh",
          "Maharashtra",
          "Manipur",
          "Meghalaya",
          "Mizoram",
          "Nagaland",
          "Orissa",
          "Punjab",
          "Rajasthan",
          "Sikkim",
          "Tamil Nadu",
          "Tripura",
          "Uttar Pradesh",
          "Uttarakhand",
          "West Bengal",
          "Andaman and Nicobar Islands",
          "Chandigarh",
          "Delhi",
          "Puducherry"
         ],
         "y": [
          9.2,
          34.67,
          31.98,
          33.74,
          39.93,
          5.09,
          16.63,
          11.16,
          8.06,
          10.35,
          36.96,
          20.91,
          7.05,
          31.65,
          17.35,
          36.89,
          11.87,
          20.4,
          18.88,
          32.59,
          8.26,
          14.71,
          8.19,
          11.28,
          14.05,
          29.43,
          11.26,
          19.98,
          1,
          21.81,
          9.91,
          9.69
         ]
        },
        {
         "name": "GDP",
         "type": "scatter",
         "x": [
          "Andhra Pradesh",
          "Arunachal Pradesh",
          "Assam",
          "Bihar",
          "Chhattisgarh",
          "Goa",
          "Gujarat",
          "Haryana",
          "Himachal Pradesh",
          "Jammu and Kashmir",
          "Jharkhand",
          "Karnataka",
          "Kerala",
          "Madhya Pradesh",
          "Maharashtra",
          "Manipur",
          "Meghalaya",
          "Mizoram",
          "Nagaland",
          "Orissa",
          "Punjab",
          "Rajasthan",
          "Sikkim",
          "Tamil Nadu",
          "Tripura",
          "Uttar Pradesh",
          "Uttarakhand",
          "West Bengal",
          "Andaman and Nicobar Islands",
          "Chandigarh",
          "Delhi",
          "Puducherry"
         ],
         "y": [
          4.13164,
          0.13377,
          1.60442,
          2.92143,
          1.8605,
          0.32043,
          7.07456,
          3.62196,
          0.80129,
          0.79692,
          1.7203,
          7.46569,
          4.17265,
          3.93115,
          14.4872,
          0.1444,
          0.20415,
          0.08989,
          0.14545,
          2.60977,
          2.97908,
          4.94236,
          0.12203,
          8.5887,
          0.23329,
          8.33825,
          1.31814,
          6.1747,
          0.04288,
          0.22308,
          4.04841,
          0.19778
         ]
        }
       ],
       "layout": {
        "template": {
         "data": {
          "bar": [
           {
            "error_x": {
             "color": "#2a3f5f"
            },
            "error_y": {
             "color": "#2a3f5f"
            },
            "marker": {
             "line": {
              "color": "#E5ECF6",
              "width": 0.5
             },
             "pattern": {
              "fillmode": "overlay",
              "size": 10,
              "solidity": 0.2
             }
            },
            "type": "bar"
           }
          ],
          "barpolar": [
           {
            "marker": {
             "line": {
              "color": "#E5ECF6",
              "width": 0.5
             },
             "pattern": {
              "fillmode": "overlay",
              "size": 10,
              "solidity": 0.2
             }
            },
            "type": "barpolar"
           }
          ],
          "carpet": [
           {
            "aaxis": {
             "endlinecolor": "#2a3f5f",
             "gridcolor": "white",
             "linecolor": "white",
             "minorgridcolor": "white",
             "startlinecolor": "#2a3f5f"
            },
            "baxis": {
             "endlinecolor": "#2a3f5f",
             "gridcolor": "white",
             "linecolor": "white",
             "minorgridcolor": "white",
             "startlinecolor": "#2a3f5f"
            },
            "type": "carpet"
           }
          ],
          "choropleth": [
           {
            "colorbar": {
             "outlinewidth": 0,
             "ticks": ""
            },
            "type": "choropleth"
           }
          ],
          "contour": [
           {
            "colorbar": {
             "outlinewidth": 0,
             "ticks": ""
            },
            "colorscale": [
             [
              0,
              "#0d0887"
             ],
             [
              0.1111111111111111,
              "#46039f"
             ],
             [
              0.2222222222222222,
              "#7201a8"
             ],
             [
              0.3333333333333333,
              "#9c179e"
             ],
             [
              0.4444444444444444,
              "#bd3786"
             ],
             [
              0.5555555555555556,
              "#d8576b"
             ],
             [
              0.6666666666666666,
              "#ed7953"
             ],
             [
              0.7777777777777778,
              "#fb9f3a"
             ],
             [
              0.8888888888888888,
              "#fdca26"
             ],
             [
              1,
              "#f0f921"
             ]
            ],
            "type": "contour"
           }
          ],
          "contourcarpet": [
           {
            "colorbar": {
             "outlinewidth": 0,
             "ticks": ""
            },
            "type": "contourcarpet"
           }
          ],
          "heatmap": [
           {
            "colorbar": {
             "outlinewidth": 0,
             "ticks": ""
            },
            "colorscale": [
             [
              0,
              "#0d0887"
             ],
             [
              0.1111111111111111,
              "#46039f"
             ],
             [
              0.2222222222222222,
              "#7201a8"
             ],
             [
              0.3333333333333333,
              "#9c179e"
             ],
             [
              0.4444444444444444,
              "#bd3786"
             ],
             [
              0.5555555555555556,
              "#d8576b"
             ],
             [
              0.6666666666666666,
              "#ed7953"
             ],
             [
              0.7777777777777778,
              "#fb9f3a"
             ],
             [
              0.8888888888888888,
              "#fdca26"
             ],
             [
              1,
              "#f0f921"
             ]
            ],
            "type": "heatmap"
           }
          ],
          "heatmapgl": [
           {
            "colorbar": {
             "outlinewidth": 0,
             "ticks": ""
            },
            "colorscale": [
             [
              0,
              "#0d0887"
             ],
             [
              0.1111111111111111,
              "#46039f"
             ],
             [
              0.2222222222222222,
              "#7201a8"
             ],
             [
              0.3333333333333333,
              "#9c179e"
             ],
             [
              0.4444444444444444,
              "#bd3786"
             ],
             [
              0.5555555555555556,
              "#d8576b"
             ],
             [
              0.6666666666666666,
              "#ed7953"
             ],
             [
              0.7777777777777778,
              "#fb9f3a"
             ],
             [
              0.8888888888888888,
              "#fdca26"
             ],
             [
              1,
              "#f0f921"
             ]
            ],
            "type": "heatmapgl"
           }
          ],
          "histogram": [
           {
            "marker": {
             "pattern": {
              "fillmode": "overlay",
              "size": 10,
              "solidity": 0.2
             }
            },
            "type": "histogram"
           }
          ],
          "histogram2d": [
           {
            "colorbar": {
             "outlinewidth": 0,
             "ticks": ""
            },
            "colorscale": [
             [
              0,
              "#0d0887"
             ],
             [
              0.1111111111111111,
              "#46039f"
             ],
             [
              0.2222222222222222,
              "#7201a8"
             ],
             [
              0.3333333333333333,
              "#9c179e"
             ],
             [
              0.4444444444444444,
              "#bd3786"
             ],
             [
              0.5555555555555556,
              "#d8576b"
             ],
             [
              0.6666666666666666,
              "#ed7953"
             ],
             [
              0.7777777777777778,
              "#fb9f3a"
             ],
             [
              0.8888888888888888,
              "#fdca26"
             ],
             [
              1,
              "#f0f921"
             ]
            ],
            "type": "histogram2d"
           }
          ],
          "histogram2dcontour": [
           {
            "colorbar": {
             "outlinewidth": 0,
             "ticks": ""
            },
            "colorscale": [
             [
              0,
              "#0d0887"
             ],
             [
              0.1111111111111111,
              "#46039f"
             ],
             [
              0.2222222222222222,
              "#7201a8"
             ],
             [
              0.3333333333333333,
              "#9c179e"
             ],
             [
              0.4444444444444444,
              "#bd3786"
             ],
             [
              0.5555555555555556,
              "#d8576b"
             ],
             [
              0.6666666666666666,
              "#ed7953"
             ],
             [
              0.7777777777777778,
              "#fb9f3a"
             ],
             [
              0.8888888888888888,
              "#fdca26"
             ],
             [
              1,
              "#f0f921"
             ]
            ],
            "type": "histogram2dcontour"
           }
          ],
          "mesh3d": [
           {
            "colorbar": {
             "outlinewidth": 0,
             "ticks": ""
            },
            "type": "mesh3d"
           }
          ],
          "parcoords": [
           {
            "line": {
             "colorbar": {
              "outlinewidth": 0,
              "ticks": ""
             }
            },
            "type": "parcoords"
           }
          ],
          "pie": [
           {
            "automargin": true,
            "type": "pie"
           }
          ],
          "scatter": [
           {
            "fillpattern": {
             "fillmode": "overlay",
             "size": 10,
             "solidity": 0.2
            },
            "type": "scatter"
           }
          ],
          "scatter3d": [
           {
            "line": {
             "colorbar": {
              "outlinewidth": 0,
              "ticks": ""
             }
            },
            "marker": {
             "colorbar": {
              "outlinewidth": 0,
              "ticks": ""
             }
            },
            "type": "scatter3d"
           }
          ],
          "scattercarpet": [
           {
            "marker": {
             "colorbar": {
              "outlinewidth": 0,
              "ticks": ""
             }
            },
            "type": "scattercarpet"
           }
          ],
          "scattergeo": [
           {
            "marker": {
             "colorbar": {
              "outlinewidth": 0,
              "ticks": ""
             }
            },
            "type": "scattergeo"
           }
          ],
          "scattergl": [
           {
            "marker": {
             "colorbar": {
              "outlinewidth": 0,
              "ticks": ""
             }
            },
            "type": "scattergl"
           }
          ],
          "scattermapbox": [
           {
            "marker": {
             "colorbar": {
              "outlinewidth": 0,
              "ticks": ""
             }
            },
            "type": "scattermapbox"
           }
          ],
          "scatterpolar": [
           {
            "marker": {
             "colorbar": {
              "outlinewidth": 0,
              "ticks": ""
             }
            },
            "type": "scatterpolar"
           }
          ],
          "scatterpolargl": [
           {
            "marker": {
             "colorbar": {
              "outlinewidth": 0,
              "ticks": ""
             }
            },
            "type": "scatterpolargl"
           }
          ],
          "scatterternary": [
           {
            "marker": {
             "colorbar": {
              "outlinewidth": 0,
              "ticks": ""
             }
            },
            "type": "scatterternary"
           }
          ],
          "surface": [
           {
            "colorbar": {
             "outlinewidth": 0,
             "ticks": ""
            },
            "colorscale": [
             [
              0,
              "#0d0887"
             ],
             [
              0.1111111111111111,
              "#46039f"
             ],
             [
              0.2222222222222222,
              "#7201a8"
             ],
             [
              0.3333333333333333,
              "#9c179e"
             ],
             [
              0.4444444444444444,
              "#bd3786"
             ],
             [
              0.5555555555555556,
              "#d8576b"
             ],
             [
              0.6666666666666666,
              "#ed7953"
             ],
             [
              0.7777777777777778,
              "#fb9f3a"
             ],
             [
              0.8888888888888888,
              "#fdca26"
             ],
             [
              1,
              "#f0f921"
             ]
            ],
            "type": "surface"
           }
          ],
          "table": [
           {
            "cells": {
             "fill": {
              "color": "#EBF0F8"
             },
             "line": {
              "color": "white"
             }
            },
            "header": {
             "fill": {
              "color": "#C8D4E3"
             },
             "line": {
              "color": "white"
             }
            },
            "type": "table"
           }
          ]
         },
         "layout": {
          "annotationdefaults": {
           "arrowcolor": "#2a3f5f",
           "arrowhead": 0,
           "arrowwidth": 1
          },
          "autotypenumbers": "strict",
          "coloraxis": {
           "colorbar": {
            "outlinewidth": 0,
            "ticks": ""
           }
          },
          "colorscale": {
           "diverging": [
            [
             0,
             "#8e0152"
            ],
            [
             0.1,
             "#c51b7d"
            ],
            [
             0.2,
             "#de77ae"
            ],
            [
             0.3,
             "#f1b6da"
            ],
            [
             0.4,
             "#fde0ef"
            ],
            [
             0.5,
             "#f7f7f7"
            ],
            [
             0.6,
             "#e6f5d0"
            ],
            [
             0.7,
             "#b8e186"
            ],
            [
             0.8,
             "#7fbc41"
            ],
            [
             0.9,
             "#4d9221"
            ],
            [
             1,
             "#276419"
            ]
           ],
           "sequential": [
            [
             0,
             "#0d0887"
            ],
            [
             0.1111111111111111,
             "#46039f"
            ],
            [
             0.2222222222222222,
             "#7201a8"
            ],
            [
             0.3333333333333333,
             "#9c179e"
            ],
            [
             0.4444444444444444,
             "#bd3786"
            ],
            [
             0.5555555555555556,
             "#d8576b"
            ],
            [
             0.6666666666666666,
             "#ed7953"
            ],
            [
             0.7777777777777778,
             "#fb9f3a"
            ],
            [
             0.8888888888888888,
             "#fdca26"
            ],
            [
             1,
             "#f0f921"
            ]
           ],
           "sequentialminus": [
            [
             0,
             "#0d0887"
            ],
            [
             0.1111111111111111,
             "#46039f"
            ],
            [
             0.2222222222222222,
             "#7201a8"
            ],
            [
             0.3333333333333333,
             "#9c179e"
            ],
            [
             0.4444444444444444,
             "#bd3786"
            ],
            [
             0.5555555555555556,
             "#d8576b"
            ],
            [
             0.6666666666666666,
             "#ed7953"
            ],
            [
             0.7777777777777778,
             "#fb9f3a"
            ],
            [
             0.8888888888888888,
             "#fdca26"
            ],
            [
             1,
             "#f0f921"
            ]
           ]
          },
          "colorway": [
           "#636efa",
           "#EF553B",
           "#00cc96",
           "#ab63fa",
           "#FFA15A",
           "#19d3f3",
           "#FF6692",
           "#B6E880",
           "#FF97FF",
           "#FECB52"
          ],
          "font": {
           "color": "#2a3f5f"
          },
          "geo": {
           "bgcolor": "white",
           "lakecolor": "white",
           "landcolor": "#E5ECF6",
           "showlakes": true,
           "showland": true,
           "subunitcolor": "white"
          },
          "hoverlabel": {
           "align": "left"
          },
          "hovermode": "closest",
          "mapbox": {
           "style": "light"
          },
          "paper_bgcolor": "white",
          "plot_bgcolor": "#E5ECF6",
          "polar": {
           "angularaxis": {
            "gridcolor": "white",
            "linecolor": "white",
            "ticks": ""
           },
           "bgcolor": "#E5ECF6",
           "radialaxis": {
            "gridcolor": "white",
            "linecolor": "white",
            "ticks": ""
           }
          },
          "scene": {
           "xaxis": {
            "backgroundcolor": "#E5ECF6",
            "gridcolor": "white",
            "gridwidth": 2,
            "linecolor": "white",
            "showbackground": true,
            "ticks": "",
            "zerolinecolor": "white"
           },
           "yaxis": {
            "backgroundcolor": "#E5ECF6",
            "gridcolor": "white",
            "gridwidth": 2,
            "linecolor": "white",
            "showbackground": true,
            "ticks": "",
            "zerolinecolor": "white"
           },
           "zaxis": {
            "backgroundcolor": "#E5ECF6",
            "gridcolor": "white",
            "gridwidth": 2,
            "linecolor": "white",
            "showbackground": true,
            "ticks": "",
            "zerolinecolor": "white"
           }
          },
          "shapedefaults": {
           "line": {
            "color": "#2a3f5f"
           }
          },
          "ternary": {
           "aaxis": {
            "gridcolor": "white",
            "linecolor": "white",
            "ticks": ""
           },
           "baxis": {
            "gridcolor": "white",
            "linecolor": "white",
            "ticks": ""
           },
           "bgcolor": "#E5ECF6",
           "caxis": {
            "gridcolor": "white",
            "linecolor": "white",
            "ticks": ""
           }
          },
          "title": {
           "x": 0.05
          },
          "xaxis": {
           "automargin": true,
           "gridcolor": "white",
           "linecolor": "white",
           "ticks": "",
           "title": {
            "standoff": 15
           },
           "zerolinecolor": "white",
           "zerolinewidth": 2
          },
          "yaxis": {
           "automargin": true,
           "gridcolor": "white",
           "linecolor": "white",
           "ticks": "",
           "title": {
            "standoff": 15
           },
           "zerolinecolor": "white",
           "zerolinewidth": 2
          }
         }
        },
        "title": {
         "text": "Poverty Percentage vs GDP Over different states"
        },
        "xaxis": {
         "title": {
          "text": "Year"
         }
        },
        "yaxis": {
         "title": {
          "text": "Value"
         }
        }
       }
      },
      "text/html": [
       "<div>                            <div id=\"2b039f77-9a62-4616-b659-8613f8709397\" class=\"plotly-graph-div\" style=\"height:525px; width:100%;\"></div>            <script type=\"text/javascript\">                require([\"plotly\"], function(Plotly) {                    window.PLOTLYENV=window.PLOTLYENV || {};                                    if (document.getElementById(\"2b039f77-9a62-4616-b659-8613f8709397\")) {                    Plotly.newPlot(                        \"2b039f77-9a62-4616-b659-8613f8709397\",                        [{\"name\":\"Poverty Percentage\",\"x\":[\"Andhra Pradesh\",\"Arunachal Pradesh\",\"Assam\",\"Bihar\",\"Chhattisgarh\",\"Goa\",\"Gujarat\",\"Haryana\",\"Himachal Pradesh\",\"Jammu and Kashmir\",\"Jharkhand\",\"Karnataka\",\"Kerala\",\"Madhya Pradesh\",\"Maharashtra\",\"Manipur\",\"Meghalaya\",\"Mizoram\",\"Nagaland\",\"Orissa\",\"Punjab\",\"Rajasthan\",\"Sikkim\",\"Tamil Nadu\",\"Tripura\",\"Uttar Pradesh\",\"Uttarakhand\",\"West Bengal\",\"Andaman and Nicobar Islands\",\"Chandigarh\",\"Delhi\",\"Puducherry\"],\"y\":[9.2,34.67,31.98,33.74,39.93,5.09,16.63,11.16,8.06,10.35,36.96,20.91,7.05,31.65,17.35,36.89,11.87,20.4,18.88,32.59,8.26,14.71,8.19,11.28,14.05,29.43,11.26,19.98,1,21.81,9.91,9.69],\"type\":\"scatter\"},{\"name\":\"GDP\",\"x\":[\"Andhra Pradesh\",\"Arunachal Pradesh\",\"Assam\",\"Bihar\",\"Chhattisgarh\",\"Goa\",\"Gujarat\",\"Haryana\",\"Himachal Pradesh\",\"Jammu and Kashmir\",\"Jharkhand\",\"Karnataka\",\"Kerala\",\"Madhya Pradesh\",\"Maharashtra\",\"Manipur\",\"Meghalaya\",\"Mizoram\",\"Nagaland\",\"Orissa\",\"Punjab\",\"Rajasthan\",\"Sikkim\",\"Tamil Nadu\",\"Tripura\",\"Uttar Pradesh\",\"Uttarakhand\",\"West Bengal\",\"Andaman and Nicobar Islands\",\"Chandigarh\",\"Delhi\",\"Puducherry\"],\"y\":[4.13164,0.13377,1.60442,2.92143,1.8605,0.32043,7.07456,3.62196,0.80129,0.79692,1.7203,7.46569,4.17265,3.93115,14.4872,0.1444,0.20415,0.08989,0.14545,2.60977,2.97908,4.94236,0.12203,8.5887,0.23329,8.33825,1.31814,6.1747,0.04288,0.22308,4.04841,0.19778],\"type\":\"scatter\"}],                        {\"title\":{\"text\":\"Poverty Percentage vs GDP Over different states\"},\"xaxis\":{\"title\":{\"text\":\"Year\"}},\"yaxis\":{\"title\":{\"text\":\"Value\"}},\"template\":{\"data\":{\"histogram2dcontour\":[{\"type\":\"histogram2dcontour\",\"colorbar\":{\"outlinewidth\":0,\"ticks\":\"\"},\"colorscale\":[[0.0,\"#0d0887\"],[0.1111111111111111,\"#46039f\"],[0.2222222222222222,\"#7201a8\"],[0.3333333333333333,\"#9c179e\"],[0.4444444444444444,\"#bd3786\"],[0.5555555555555556,\"#d8576b\"],[0.6666666666666666,\"#ed7953\"],[0.7777777777777778,\"#fb9f3a\"],[0.8888888888888888,\"#fdca26\"],[1.0,\"#f0f921\"]]}],\"choropleth\":[{\"type\":\"choropleth\",\"colorbar\":{\"outlinewidth\":0,\"ticks\":\"\"}}],\"histogram2d\":[{\"type\":\"histogram2d\",\"colorbar\":{\"outlinewidth\":0,\"ticks\":\"\"},\"colorscale\":[[0.0,\"#0d0887\"],[0.1111111111111111,\"#46039f\"],[0.2222222222222222,\"#7201a8\"],[0.3333333333333333,\"#9c179e\"],[0.4444444444444444,\"#bd3786\"],[0.5555555555555556,\"#d8576b\"],[0.6666666666666666,\"#ed7953\"],[0.7777777777777778,\"#fb9f3a\"],[0.8888888888888888,\"#fdca26\"],[1.0,\"#f0f921\"]]}],\"heatmap\":[{\"type\":\"heatmap\",\"colorbar\":{\"outlinewidth\":0,\"ticks\":\"\"},\"colorscale\":[[0.0,\"#0d0887\"],[0.1111111111111111,\"#46039f\"],[0.2222222222222222,\"#7201a8\"],[0.3333333333333333,\"#9c179e\"],[0.4444444444444444,\"#bd3786\"],[0.5555555555555556,\"#d8576b\"],[0.6666666666666666,\"#ed7953\"],[0.7777777777777778,\"#fb9f3a\"],[0.8888888888888888,\"#fdca26\"],[1.0,\"#f0f921\"]]}],\"heatmapgl\":[{\"type\":\"heatmapgl\",\"colorbar\":{\"outlinewidth\":0,\"ticks\":\"\"},\"colorscale\":[[0.0,\"#0d0887\"],[0.1111111111111111,\"#46039f\"],[0.2222222222222222,\"#7201a8\"],[0.3333333333333333,\"#9c179e\"],[0.4444444444444444,\"#bd3786\"],[0.5555555555555556,\"#d8576b\"],[0.6666666666666666,\"#ed7953\"],[0.7777777777777778,\"#fb9f3a\"],[0.8888888888888888,\"#fdca26\"],[1.0,\"#f0f921\"]]}],\"contourcarpet\":[{\"type\":\"contourcarpet\",\"colorbar\":{\"outlinewidth\":0,\"ticks\":\"\"}}],\"contour\":[{\"type\":\"contour\",\"colorbar\":{\"outlinewidth\":0,\"ticks\":\"\"},\"colorscale\":[[0.0,\"#0d0887\"],[0.1111111111111111,\"#46039f\"],[0.2222222222222222,\"#7201a8\"],[0.3333333333333333,\"#9c179e\"],[0.4444444444444444,\"#bd3786\"],[0.5555555555555556,\"#d8576b\"],[0.6666666666666666,\"#ed7953\"],[0.7777777777777778,\"#fb9f3a\"],[0.8888888888888888,\"#fdca26\"],[1.0,\"#f0f921\"]]}],\"surface\":[{\"type\":\"surface\",\"colorbar\":{\"outlinewidth\":0,\"ticks\":\"\"},\"colorscale\":[[0.0,\"#0d0887\"],[0.1111111111111111,\"#46039f\"],[0.2222222222222222,\"#7201a8\"],[0.3333333333333333,\"#9c179e\"],[0.4444444444444444,\"#bd3786\"],[0.5555555555555556,\"#d8576b\"],[0.6666666666666666,\"#ed7953\"],[0.7777777777777778,\"#fb9f3a\"],[0.8888888888888888,\"#fdca26\"],[1.0,\"#f0f921\"]]}],\"mesh3d\":[{\"type\":\"mesh3d\",\"colorbar\":{\"outlinewidth\":0,\"ticks\":\"\"}}],\"scatter\":[{\"fillpattern\":{\"fillmode\":\"overlay\",\"size\":10,\"solidity\":0.2},\"type\":\"scatter\"}],\"parcoords\":[{\"type\":\"parcoords\",\"line\":{\"colorbar\":{\"outlinewidth\":0,\"ticks\":\"\"}}}],\"scatterpolargl\":[{\"type\":\"scatterpolargl\",\"marker\":{\"colorbar\":{\"outlinewidth\":0,\"ticks\":\"\"}}}],\"bar\":[{\"error_x\":{\"color\":\"#2a3f5f\"},\"error_y\":{\"color\":\"#2a3f5f\"},\"marker\":{\"line\":{\"color\":\"#E5ECF6\",\"width\":0.5},\"pattern\":{\"fillmode\":\"overlay\",\"size\":10,\"solidity\":0.2}},\"type\":\"bar\"}],\"scattergeo\":[{\"type\":\"scattergeo\",\"marker\":{\"colorbar\":{\"outlinewidth\":0,\"ticks\":\"\"}}}],\"scatterpolar\":[{\"type\":\"scatterpolar\",\"marker\":{\"colorbar\":{\"outlinewidth\":0,\"ticks\":\"\"}}}],\"histogram\":[{\"marker\":{\"pattern\":{\"fillmode\":\"overlay\",\"size\":10,\"solidity\":0.2}},\"type\":\"histogram\"}],\"scattergl\":[{\"type\":\"scattergl\",\"marker\":{\"colorbar\":{\"outlinewidth\":0,\"ticks\":\"\"}}}],\"scatter3d\":[{\"type\":\"scatter3d\",\"line\":{\"colorbar\":{\"outlinewidth\":0,\"ticks\":\"\"}},\"marker\":{\"colorbar\":{\"outlinewidth\":0,\"ticks\":\"\"}}}],\"scattermapbox\":[{\"type\":\"scattermapbox\",\"marker\":{\"colorbar\":{\"outlinewidth\":0,\"ticks\":\"\"}}}],\"scatterternary\":[{\"type\":\"scatterternary\",\"marker\":{\"colorbar\":{\"outlinewidth\":0,\"ticks\":\"\"}}}],\"scattercarpet\":[{\"type\":\"scattercarpet\",\"marker\":{\"colorbar\":{\"outlinewidth\":0,\"ticks\":\"\"}}}],\"carpet\":[{\"aaxis\":{\"endlinecolor\":\"#2a3f5f\",\"gridcolor\":\"white\",\"linecolor\":\"white\",\"minorgridcolor\":\"white\",\"startlinecolor\":\"#2a3f5f\"},\"baxis\":{\"endlinecolor\":\"#2a3f5f\",\"gridcolor\":\"white\",\"linecolor\":\"white\",\"minorgridcolor\":\"white\",\"startlinecolor\":\"#2a3f5f\"},\"type\":\"carpet\"}],\"table\":[{\"cells\":{\"fill\":{\"color\":\"#EBF0F8\"},\"line\":{\"color\":\"white\"}},\"header\":{\"fill\":{\"color\":\"#C8D4E3\"},\"line\":{\"color\":\"white\"}},\"type\":\"table\"}],\"barpolar\":[{\"marker\":{\"line\":{\"color\":\"#E5ECF6\",\"width\":0.5},\"pattern\":{\"fillmode\":\"overlay\",\"size\":10,\"solidity\":0.2}},\"type\":\"barpolar\"}],\"pie\":[{\"automargin\":true,\"type\":\"pie\"}]},\"layout\":{\"autotypenumbers\":\"strict\",\"colorway\":[\"#636efa\",\"#EF553B\",\"#00cc96\",\"#ab63fa\",\"#FFA15A\",\"#19d3f3\",\"#FF6692\",\"#B6E880\",\"#FF97FF\",\"#FECB52\"],\"font\":{\"color\":\"#2a3f5f\"},\"hovermode\":\"closest\",\"hoverlabel\":{\"align\":\"left\"},\"paper_bgcolor\":\"white\",\"plot_bgcolor\":\"#E5ECF6\",\"polar\":{\"bgcolor\":\"#E5ECF6\",\"angularaxis\":{\"gridcolor\":\"white\",\"linecolor\":\"white\",\"ticks\":\"\"},\"radialaxis\":{\"gridcolor\":\"white\",\"linecolor\":\"white\",\"ticks\":\"\"}},\"ternary\":{\"bgcolor\":\"#E5ECF6\",\"aaxis\":{\"gridcolor\":\"white\",\"linecolor\":\"white\",\"ticks\":\"\"},\"baxis\":{\"gridcolor\":\"white\",\"linecolor\":\"white\",\"ticks\":\"\"},\"caxis\":{\"gridcolor\":\"white\",\"linecolor\":\"white\",\"ticks\":\"\"}},\"coloraxis\":{\"colorbar\":{\"outlinewidth\":0,\"ticks\":\"\"}},\"colorscale\":{\"sequential\":[[0.0,\"#0d0887\"],[0.1111111111111111,\"#46039f\"],[0.2222222222222222,\"#7201a8\"],[0.3333333333333333,\"#9c179e\"],[0.4444444444444444,\"#bd3786\"],[0.5555555555555556,\"#d8576b\"],[0.6666666666666666,\"#ed7953\"],[0.7777777777777778,\"#fb9f3a\"],[0.8888888888888888,\"#fdca26\"],[1.0,\"#f0f921\"]],\"sequentialminus\":[[0.0,\"#0d0887\"],[0.1111111111111111,\"#46039f\"],[0.2222222222222222,\"#7201a8\"],[0.3333333333333333,\"#9c179e\"],[0.4444444444444444,\"#bd3786\"],[0.5555555555555556,\"#d8576b\"],[0.6666666666666666,\"#ed7953\"],[0.7777777777777778,\"#fb9f3a\"],[0.8888888888888888,\"#fdca26\"],[1.0,\"#f0f921\"]],\"diverging\":[[0,\"#8e0152\"],[0.1,\"#c51b7d\"],[0.2,\"#de77ae\"],[0.3,\"#f1b6da\"],[0.4,\"#fde0ef\"],[0.5,\"#f7f7f7\"],[0.6,\"#e6f5d0\"],[0.7,\"#b8e186\"],[0.8,\"#7fbc41\"],[0.9,\"#4d9221\"],[1,\"#276419\"]]},\"xaxis\":{\"gridcolor\":\"white\",\"linecolor\":\"white\",\"ticks\":\"\",\"title\":{\"standoff\":15},\"zerolinecolor\":\"white\",\"automargin\":true,\"zerolinewidth\":2},\"yaxis\":{\"gridcolor\":\"white\",\"linecolor\":\"white\",\"ticks\":\"\",\"title\":{\"standoff\":15},\"zerolinecolor\":\"white\",\"automargin\":true,\"zerolinewidth\":2},\"scene\":{\"xaxis\":{\"backgroundcolor\":\"#E5ECF6\",\"gridcolor\":\"white\",\"linecolor\":\"white\",\"showbackground\":true,\"ticks\":\"\",\"zerolinecolor\":\"white\",\"gridwidth\":2},\"yaxis\":{\"backgroundcolor\":\"#E5ECF6\",\"gridcolor\":\"white\",\"linecolor\":\"white\",\"showbackground\":true,\"ticks\":\"\",\"zerolinecolor\":\"white\",\"gridwidth\":2},\"zaxis\":{\"backgroundcolor\":\"#E5ECF6\",\"gridcolor\":\"white\",\"linecolor\":\"white\",\"showbackground\":true,\"ticks\":\"\",\"zerolinecolor\":\"white\",\"gridwidth\":2}},\"shapedefaults\":{\"line\":{\"color\":\"#2a3f5f\"}},\"annotationdefaults\":{\"arrowcolor\":\"#2a3f5f\",\"arrowhead\":0,\"arrowwidth\":1},\"geo\":{\"bgcolor\":\"white\",\"landcolor\":\"#E5ECF6\",\"subunitcolor\":\"white\",\"showland\":true,\"showlakes\":true,\"lakecolor\":\"white\"},\"title\":{\"x\":0.05},\"mapbox\":{\"style\":\"light\"}}}},                        {\"responsive\": true}                    ).then(function(){\n",
       "                            \n",
       "var gd = document.getElementById('2b039f77-9a62-4616-b659-8613f8709397');\n",
       "var x = new MutationObserver(function (mutations, observer) {{\n",
       "        var display = window.getComputedStyle(gd).display;\n",
       "        if (!display || display === 'none') {{\n",
       "            console.log([gd, 'removed!']);\n",
       "            Plotly.purge(gd);\n",
       "            observer.disconnect();\n",
       "        }}\n",
       "}});\n",
       "\n",
       "// Listen for the removal of the full notebook cells\n",
       "var notebookContainer = gd.closest('#notebook-container');\n",
       "if (notebookContainer) {{\n",
       "    x.observe(notebookContainer, {childList: true});\n",
       "}}\n",
       "\n",
       "// Listen for the clearing of the current output cell\n",
       "var outputEl = gd.closest('.output');\n",
       "if (outputEl) {{\n",
       "    x.observe(outputEl, {childList: true});\n",
       "}}\n",
       "\n",
       "                        })                };                });            </script>        </div>"
      ]
     },
     "metadata": {},
     "output_type": "display_data"
    }
   ],
   "source": [
    "gdp_norm = [i/10**5 for i in gdp]\n",
    "# Create trace for poverty percentage data\n",
    "trace_poverty = go.Scatter(x=states, y=poverty, name='Poverty Percentage')\n",
    "\n",
    "# Create trace for GDP data\n",
    "trace_gdp = go.Scatter(x=states, y=gdp_norm, name='GDP')\n",
    "\n",
    "# Create the layout\n",
    "layout = go.Layout(title='Poverty Percentage vs GDP Over different states',\n",
    "                   xaxis=dict(title='Year'),\n",
    "                   yaxis=dict(title='Value'))\n",
    "\n",
    "# Create the figure\n",
    "fig = go.Figure(data=[trace_poverty, trace_gdp], layout=layout)\n",
    "\n",
    "# Show the figure\n",
    "fig.show()"
   ]
  },
  {
   "attachments": {},
   "cell_type": "markdown",
   "metadata": {},
   "source": [
    "We see that number of people below the poverty line are much higher in the states of Chhatisgarh, Jharkand, Orissa, Bihar, Assam and Arunachal Pradesh. All these States have a low GDP. Therefore states with lower GDP have more people bellow the poverty line. There are also some states like Uttarakhand, Delhi, etc which have a low GDP and still a relatively low percentage of people below the poverty line. The states also show income inequality, and must work to decrease the number of people bellow the poverty line."
   ]
  },
  {
   "attachments": {},
   "cell_type": "markdown",
   "metadata": {},
   "source": [
    "# FInal "
   ]
  },
  {
   "cell_type": "code",
   "execution_count": 33,
   "metadata": {},
   "outputs": [],
   "source": [
    "data = pd.read_csv(\"poverty_state.csv\").fillna(0).replace([np.inf, -np.inf], np.nan)[:32]"
   ]
  },
  {
   "cell_type": "code",
   "execution_count": 34,
   "metadata": {},
   "outputs": [
    {
     "data": {
      "application/vnd.plotly.v1+json": {
       "config": {
        "plotlyServerURL": "https://plot.ly"
       },
       "data": [
        {
         "name": "2011-2012 (% of persons)",
         "type": "bar",
         "x": [
          "Andhra Pradesh",
          "Arunachal Pradesh",
          "Assam",
          "Bihar",
          "Goa",
          "Gujarat",
          "Haryana",
          "Himachal Pradesh",
          "Jammu & Kashmir",
          "Karnataka",
          "Kerala",
          "Madhya Pradesh",
          "Maharashtra",
          "Manipur",
          "Meghalaya",
          "Mizoram",
          "Nagaland",
          "Orissa",
          "Punjab",
          "Rajasthan",
          "Sikkim",
          "Tamil Nadu",
          "Tripura",
          "Uttar Pradesh",
          "West Bengal",
          "Andaman & Nicobar Islands",
          "Chandigarh",
          "Dadra & Nagar Haveli",
          "Daman and Diu",
          "Delhi",
          "Lakshwadeep",
          "Puducherry"
         ],
         "y": [
          9.2,
          34.67,
          31.98,
          33.74,
          5.09,
          16.63,
          11.16,
          8.06,
          10.35,
          20.91,
          7.05,
          31.65,
          17.35,
          36.89,
          11.87,
          20.4,
          18.88,
          32.59,
          8.26,
          14.71,
          8.19,
          11.28,
          14.05,
          29.43,
          19.98,
          1,
          21.81,
          39.31,
          9.86,
          9.91,
          2.77,
          9.69
         ]
        },
        {
         "name": "2009-10 (% of persons)",
         "type": "bar",
         "x": [
          "Andhra Pradesh",
          "Arunachal Pradesh",
          "Assam",
          "Bihar",
          "Goa",
          "Gujarat",
          "Haryana",
          "Himachal Pradesh",
          "Jammu & Kashmir",
          "Karnataka",
          "Kerala",
          "Madhya Pradesh",
          "Maharashtra",
          "Manipur",
          "Meghalaya",
          "Mizoram",
          "Nagaland",
          "Orissa",
          "Punjab",
          "Rajasthan",
          "Sikkim",
          "Tamil Nadu",
          "Tripura",
          "Uttar Pradesh",
          "West Bengal",
          "Andaman & Nicobar Islands",
          "Chandigarh",
          "Dadra & Nagar Haveli",
          "Daman and Diu",
          "Delhi",
          "Lakshwadeep",
          "Puducherry"
         ],
         "y": [
          21.1,
          25.9,
          37.9,
          53.5,
          8.7,
          23,
          20.1,
          9.5,
          9.4,
          23.6,
          12,
          36.7,
          24.5,
          47.1,
          17.1,
          21.1,
          20.9,
          37,
          15.9,
          24.8,
          13.1,
          17.1,
          17.4,
          37.7,
          26.7,
          0.4,
          9.2,
          39.1,
          33.3,
          14.2,
          6.8,
          1.2
         ]
        },
        {
         "name": "2004-05 (% of persons)",
         "type": "bar",
         "x": [
          "Andhra Pradesh",
          "Arunachal Pradesh",
          "Assam",
          "Bihar",
          "Goa",
          "Gujarat",
          "Haryana",
          "Himachal Pradesh",
          "Jammu & Kashmir",
          "Karnataka",
          "Kerala",
          "Madhya Pradesh",
          "Maharashtra",
          "Manipur",
          "Meghalaya",
          "Mizoram",
          "Nagaland",
          "Orissa",
          "Punjab",
          "Rajasthan",
          "Sikkim",
          "Tamil Nadu",
          "Tripura",
          "Uttar Pradesh",
          "West Bengal",
          "Andaman & Nicobar Islands",
          "Chandigarh",
          "Dadra & Nagar Haveli",
          "Daman and Diu",
          "Delhi",
          "Lakshwadeep",
          "Puducherry"
         ],
         "y": [
          29.6,
          31.4,
          34.4,
          54.4,
          24.9,
          31.6,
          24.1,
          22.9,
          13.1,
          33.3,
          19.6,
          48.6,
          38.2,
          37.9,
          16.1,
          15.4,
          8.8,
          57.2,
          20.9,
          34.4,
          30.9,
          29.4,
          40,
          40.9,
          34.2,
          3,
          11.6,
          49.3,
          8.8,
          13,
          6.4,
          14.2
         ]
        },
        {
         "name": "1990-00 (% of persons)",
         "type": "bar",
         "x": [
          "Andhra Pradesh",
          "Arunachal Pradesh",
          "Assam",
          "Bihar",
          "Goa",
          "Gujarat",
          "Haryana",
          "Himachal Pradesh",
          "Jammu & Kashmir",
          "Karnataka",
          "Kerala",
          "Madhya Pradesh",
          "Maharashtra",
          "Manipur",
          "Meghalaya",
          "Mizoram",
          "Nagaland",
          "Orissa",
          "Punjab",
          "Rajasthan",
          "Sikkim",
          "Tamil Nadu",
          "Tripura",
          "Uttar Pradesh",
          "West Bengal",
          "Andaman & Nicobar Islands",
          "Chandigarh",
          "Dadra & Nagar Haveli",
          "Daman and Diu",
          "Delhi",
          "Lakshwadeep",
          "Puducherry"
         ],
         "y": [
          15.77,
          33.47,
          36.09,
          42.6,
          4.4,
          14.07,
          8.74,
          7.63,
          3.48,
          20.04,
          12.72,
          37.43,
          25.02,
          28.54,
          33.87,
          19.47,
          32.67,
          47.15,
          6.16,
          15.28,
          36.55,
          21.12,
          34.44,
          31.15,
          27.02,
          20.99,
          5.75,
          17.14,
          4.44,
          8.23,
          15.6,
          21.67
         ]
        },
        {
         "name": "1993-94 (% of persons)",
         "type": "bar",
         "x": [
          "Andhra Pradesh",
          "Arunachal Pradesh",
          "Assam",
          "Bihar",
          "Goa",
          "Gujarat",
          "Haryana",
          "Himachal Pradesh",
          "Jammu & Kashmir",
          "Karnataka",
          "Kerala",
          "Madhya Pradesh",
          "Maharashtra",
          "Manipur",
          "Meghalaya",
          "Mizoram",
          "Nagaland",
          "Orissa",
          "Punjab",
          "Rajasthan",
          "Sikkim",
          "Tamil Nadu",
          "Tripura",
          "Uttar Pradesh",
          "West Bengal",
          "Andaman & Nicobar Islands",
          "Chandigarh",
          "Dadra & Nagar Haveli",
          "Daman and Diu",
          "Delhi",
          "Lakshwadeep",
          "Puducherry"
         ],
         "y": [
          22.19,
          39.35,
          40.86,
          54.96,
          14.92,
          24.21,
          25.05,
          28.44,
          25.17,
          33.16,
          25.43,
          42.52,
          36.86,
          33.78,
          37.92,
          25.66,
          37.92,
          48.56,
          11.77,
          27.41,
          41.43,
          35.03,
          39.01,
          40.85,
          35.66,
          34.47,
          11.35,
          50.84,
          15.8,
          14.69,
          25.04,
          37.4
         ]
        },
        {
         "name": "1973-74 (% of persons)",
         "type": "bar",
         "x": [
          "Andhra Pradesh",
          "Arunachal Pradesh",
          "Assam",
          "Bihar",
          "Goa",
          "Gujarat",
          "Haryana",
          "Himachal Pradesh",
          "Jammu & Kashmir",
          "Karnataka",
          "Kerala",
          "Madhya Pradesh",
          "Maharashtra",
          "Manipur",
          "Meghalaya",
          "Mizoram",
          "Nagaland",
          "Orissa",
          "Punjab",
          "Rajasthan",
          "Sikkim",
          "Tamil Nadu",
          "Tripura",
          "Uttar Pradesh",
          "West Bengal",
          "Andaman & Nicobar Islands",
          "Chandigarh",
          "Dadra & Nagar Haveli",
          "Daman and Diu",
          "Delhi",
          "Lakshwadeep",
          "Puducherry"
         ],
         "y": [
          "48.86",
          "51.93",
          "51.21",
          "61.91",
          "44.26",
          "48.15",
          "35.36",
          "26.39",
          "40.83",
          "54.47",
          "59.79",
          "61.78",
          "53.24",
          "49.96",
          "50.2",
          "50.32",
          "50.81",
          "66.18",
          "28.15",
          "46.14",
          "50.86",
          "54.94",
          "51",
          "57.07",
          "63.43",
          "55.56",
          "27.96",
          "46.55",
          ".",
          "49.61",
          "59.68",
          "53.82"
         ]
        }
       ],
       "layout": {
        "barmode": "group",
        "sliders": [
         {
          "active": 0,
          "len": 1.1,
          "steps": [
           {
            "args": [
             {
              "visible": [
               false,
               false,
               false,
               false,
               false,
               true
              ]
             }
            ],
            "label": "1973-74",
            "method": "update"
           },
           {
            "args": [
             {
              "visible": [
               false,
               false,
               false,
               false,
               true,
               false
              ]
             }
            ],
            "label": "1993-94",
            "method": "update"
           },
           {
            "args": [
             {
              "visible": [
               false,
               false,
               false,
               true,
               false,
               false
              ]
             }
            ],
            "label": "1990-00",
            "method": "update"
           },
           {
            "args": [
             {
              "visible": [
               false,
               false,
               true,
               false,
               false,
               false
              ]
             }
            ],
            "label": "2004-05",
            "method": "update"
           },
           {
            "args": [
             {
              "visible": [
               false,
               true,
               false,
               false,
               false,
               false
              ]
             }
            ],
            "label": "2009-10",
            "method": "update"
           },
           {
            "args": [
             {
              "visible": [
               true,
               false,
               false,
               false,
               false,
               false
              ]
             }
            ],
            "label": "2011-12",
            "method": "update"
           }
          ],
          "x": 0.05,
          "xanchor": "left",
          "y": -1.1,
          "yanchor": "bottom"
         }
        ],
        "template": {
         "data": {
          "bar": [
           {
            "error_x": {
             "color": "#2a3f5f"
            },
            "error_y": {
             "color": "#2a3f5f"
            },
            "marker": {
             "line": {
              "color": "#E5ECF6",
              "width": 0.5
             },
             "pattern": {
              "fillmode": "overlay",
              "size": 10,
              "solidity": 0.2
             }
            },
            "type": "bar"
           }
          ],
          "barpolar": [
           {
            "marker": {
             "line": {
              "color": "#E5ECF6",
              "width": 0.5
             },
             "pattern": {
              "fillmode": "overlay",
              "size": 10,
              "solidity": 0.2
             }
            },
            "type": "barpolar"
           }
          ],
          "carpet": [
           {
            "aaxis": {
             "endlinecolor": "#2a3f5f",
             "gridcolor": "white",
             "linecolor": "white",
             "minorgridcolor": "white",
             "startlinecolor": "#2a3f5f"
            },
            "baxis": {
             "endlinecolor": "#2a3f5f",
             "gridcolor": "white",
             "linecolor": "white",
             "minorgridcolor": "white",
             "startlinecolor": "#2a3f5f"
            },
            "type": "carpet"
           }
          ],
          "choropleth": [
           {
            "colorbar": {
             "outlinewidth": 0,
             "ticks": ""
            },
            "type": "choropleth"
           }
          ],
          "contour": [
           {
            "colorbar": {
             "outlinewidth": 0,
             "ticks": ""
            },
            "colorscale": [
             [
              0,
              "#0d0887"
             ],
             [
              0.1111111111111111,
              "#46039f"
             ],
             [
              0.2222222222222222,
              "#7201a8"
             ],
             [
              0.3333333333333333,
              "#9c179e"
             ],
             [
              0.4444444444444444,
              "#bd3786"
             ],
             [
              0.5555555555555556,
              "#d8576b"
             ],
             [
              0.6666666666666666,
              "#ed7953"
             ],
             [
              0.7777777777777778,
              "#fb9f3a"
             ],
             [
              0.8888888888888888,
              "#fdca26"
             ],
             [
              1,
              "#f0f921"
             ]
            ],
            "type": "contour"
           }
          ],
          "contourcarpet": [
           {
            "colorbar": {
             "outlinewidth": 0,
             "ticks": ""
            },
            "type": "contourcarpet"
           }
          ],
          "heatmap": [
           {
            "colorbar": {
             "outlinewidth": 0,
             "ticks": ""
            },
            "colorscale": [
             [
              0,
              "#0d0887"
             ],
             [
              0.1111111111111111,
              "#46039f"
             ],
             [
              0.2222222222222222,
              "#7201a8"
             ],
             [
              0.3333333333333333,
              "#9c179e"
             ],
             [
              0.4444444444444444,
              "#bd3786"
             ],
             [
              0.5555555555555556,
              "#d8576b"
             ],
             [
              0.6666666666666666,
              "#ed7953"
             ],
             [
              0.7777777777777778,
              "#fb9f3a"
             ],
             [
              0.8888888888888888,
              "#fdca26"
             ],
             [
              1,
              "#f0f921"
             ]
            ],
            "type": "heatmap"
           }
          ],
          "heatmapgl": [
           {
            "colorbar": {
             "outlinewidth": 0,
             "ticks": ""
            },
            "colorscale": [
             [
              0,
              "#0d0887"
             ],
             [
              0.1111111111111111,
              "#46039f"
             ],
             [
              0.2222222222222222,
              "#7201a8"
             ],
             [
              0.3333333333333333,
              "#9c179e"
             ],
             [
              0.4444444444444444,
              "#bd3786"
             ],
             [
              0.5555555555555556,
              "#d8576b"
             ],
             [
              0.6666666666666666,
              "#ed7953"
             ],
             [
              0.7777777777777778,
              "#fb9f3a"
             ],
             [
              0.8888888888888888,
              "#fdca26"
             ],
             [
              1,
              "#f0f921"
             ]
            ],
            "type": "heatmapgl"
           }
          ],
          "histogram": [
           {
            "marker": {
             "pattern": {
              "fillmode": "overlay",
              "size": 10,
              "solidity": 0.2
             }
            },
            "type": "histogram"
           }
          ],
          "histogram2d": [
           {
            "colorbar": {
             "outlinewidth": 0,
             "ticks": ""
            },
            "colorscale": [
             [
              0,
              "#0d0887"
             ],
             [
              0.1111111111111111,
              "#46039f"
             ],
             [
              0.2222222222222222,
              "#7201a8"
             ],
             [
              0.3333333333333333,
              "#9c179e"
             ],
             [
              0.4444444444444444,
              "#bd3786"
             ],
             [
              0.5555555555555556,
              "#d8576b"
             ],
             [
              0.6666666666666666,
              "#ed7953"
             ],
             [
              0.7777777777777778,
              "#fb9f3a"
             ],
             [
              0.8888888888888888,
              "#fdca26"
             ],
             [
              1,
              "#f0f921"
             ]
            ],
            "type": "histogram2d"
           }
          ],
          "histogram2dcontour": [
           {
            "colorbar": {
             "outlinewidth": 0,
             "ticks": ""
            },
            "colorscale": [
             [
              0,
              "#0d0887"
             ],
             [
              0.1111111111111111,
              "#46039f"
             ],
             [
              0.2222222222222222,
              "#7201a8"
             ],
             [
              0.3333333333333333,
              "#9c179e"
             ],
             [
              0.4444444444444444,
              "#bd3786"
             ],
             [
              0.5555555555555556,
              "#d8576b"
             ],
             [
              0.6666666666666666,
              "#ed7953"
             ],
             [
              0.7777777777777778,
              "#fb9f3a"
             ],
             [
              0.8888888888888888,
              "#fdca26"
             ],
             [
              1,
              "#f0f921"
             ]
            ],
            "type": "histogram2dcontour"
           }
          ],
          "mesh3d": [
           {
            "colorbar": {
             "outlinewidth": 0,
             "ticks": ""
            },
            "type": "mesh3d"
           }
          ],
          "parcoords": [
           {
            "line": {
             "colorbar": {
              "outlinewidth": 0,
              "ticks": ""
             }
            },
            "type": "parcoords"
           }
          ],
          "pie": [
           {
            "automargin": true,
            "type": "pie"
           }
          ],
          "scatter": [
           {
            "fillpattern": {
             "fillmode": "overlay",
             "size": 10,
             "solidity": 0.2
            },
            "type": "scatter"
           }
          ],
          "scatter3d": [
           {
            "line": {
             "colorbar": {
              "outlinewidth": 0,
              "ticks": ""
             }
            },
            "marker": {
             "colorbar": {
              "outlinewidth": 0,
              "ticks": ""
             }
            },
            "type": "scatter3d"
           }
          ],
          "scattercarpet": [
           {
            "marker": {
             "colorbar": {
              "outlinewidth": 0,
              "ticks": ""
             }
            },
            "type": "scattercarpet"
           }
          ],
          "scattergeo": [
           {
            "marker": {
             "colorbar": {
              "outlinewidth": 0,
              "ticks": ""
             }
            },
            "type": "scattergeo"
           }
          ],
          "scattergl": [
           {
            "marker": {
             "colorbar": {
              "outlinewidth": 0,
              "ticks": ""
             }
            },
            "type": "scattergl"
           }
          ],
          "scattermapbox": [
           {
            "marker": {
             "colorbar": {
              "outlinewidth": 0,
              "ticks": ""
             }
            },
            "type": "scattermapbox"
           }
          ],
          "scatterpolar": [
           {
            "marker": {
             "colorbar": {
              "outlinewidth": 0,
              "ticks": ""
             }
            },
            "type": "scatterpolar"
           }
          ],
          "scatterpolargl": [
           {
            "marker": {
             "colorbar": {
              "outlinewidth": 0,
              "ticks": ""
             }
            },
            "type": "scatterpolargl"
           }
          ],
          "scatterternary": [
           {
            "marker": {
             "colorbar": {
              "outlinewidth": 0,
              "ticks": ""
             }
            },
            "type": "scatterternary"
           }
          ],
          "surface": [
           {
            "colorbar": {
             "outlinewidth": 0,
             "ticks": ""
            },
            "colorscale": [
             [
              0,
              "#0d0887"
             ],
             [
              0.1111111111111111,
              "#46039f"
             ],
             [
              0.2222222222222222,
              "#7201a8"
             ],
             [
              0.3333333333333333,
              "#9c179e"
             ],
             [
              0.4444444444444444,
              "#bd3786"
             ],
             [
              0.5555555555555556,
              "#d8576b"
             ],
             [
              0.6666666666666666,
              "#ed7953"
             ],
             [
              0.7777777777777778,
              "#fb9f3a"
             ],
             [
              0.8888888888888888,
              "#fdca26"
             ],
             [
              1,
              "#f0f921"
             ]
            ],
            "type": "surface"
           }
          ],
          "table": [
           {
            "cells": {
             "fill": {
              "color": "#EBF0F8"
             },
             "line": {
              "color": "white"
             }
            },
            "header": {
             "fill": {
              "color": "#C8D4E3"
             },
             "line": {
              "color": "white"
             }
            },
            "type": "table"
           }
          ]
         },
         "layout": {
          "annotationdefaults": {
           "arrowcolor": "#2a3f5f",
           "arrowhead": 0,
           "arrowwidth": 1
          },
          "autotypenumbers": "strict",
          "coloraxis": {
           "colorbar": {
            "outlinewidth": 0,
            "ticks": ""
           }
          },
          "colorscale": {
           "diverging": [
            [
             0,
             "#8e0152"
            ],
            [
             0.1,
             "#c51b7d"
            ],
            [
             0.2,
             "#de77ae"
            ],
            [
             0.3,
             "#f1b6da"
            ],
            [
             0.4,
             "#fde0ef"
            ],
            [
             0.5,
             "#f7f7f7"
            ],
            [
             0.6,
             "#e6f5d0"
            ],
            [
             0.7,
             "#b8e186"
            ],
            [
             0.8,
             "#7fbc41"
            ],
            [
             0.9,
             "#4d9221"
            ],
            [
             1,
             "#276419"
            ]
           ],
           "sequential": [
            [
             0,
             "#0d0887"
            ],
            [
             0.1111111111111111,
             "#46039f"
            ],
            [
             0.2222222222222222,
             "#7201a8"
            ],
            [
             0.3333333333333333,
             "#9c179e"
            ],
            [
             0.4444444444444444,
             "#bd3786"
            ],
            [
             0.5555555555555556,
             "#d8576b"
            ],
            [
             0.6666666666666666,
             "#ed7953"
            ],
            [
             0.7777777777777778,
             "#fb9f3a"
            ],
            [
             0.8888888888888888,
             "#fdca26"
            ],
            [
             1,
             "#f0f921"
            ]
           ],
           "sequentialminus": [
            [
             0,
             "#0d0887"
            ],
            [
             0.1111111111111111,
             "#46039f"
            ],
            [
             0.2222222222222222,
             "#7201a8"
            ],
            [
             0.3333333333333333,
             "#9c179e"
            ],
            [
             0.4444444444444444,
             "#bd3786"
            ],
            [
             0.5555555555555556,
             "#d8576b"
            ],
            [
             0.6666666666666666,
             "#ed7953"
            ],
            [
             0.7777777777777778,
             "#fb9f3a"
            ],
            [
             0.8888888888888888,
             "#fdca26"
            ],
            [
             1,
             "#f0f921"
            ]
           ]
          },
          "colorway": [
           "#636efa",
           "#EF553B",
           "#00cc96",
           "#ab63fa",
           "#FFA15A",
           "#19d3f3",
           "#FF6692",
           "#B6E880",
           "#FF97FF",
           "#FECB52"
          ],
          "font": {
           "color": "#2a3f5f"
          },
          "geo": {
           "bgcolor": "white",
           "lakecolor": "white",
           "landcolor": "#E5ECF6",
           "showlakes": true,
           "showland": true,
           "subunitcolor": "white"
          },
          "hoverlabel": {
           "align": "left"
          },
          "hovermode": "closest",
          "mapbox": {
           "style": "light"
          },
          "paper_bgcolor": "white",
          "plot_bgcolor": "#E5ECF6",
          "polar": {
           "angularaxis": {
            "gridcolor": "white",
            "linecolor": "white",
            "ticks": ""
           },
           "bgcolor": "#E5ECF6",
           "radialaxis": {
            "gridcolor": "white",
            "linecolor": "white",
            "ticks": ""
           }
          },
          "scene": {
           "xaxis": {
            "backgroundcolor": "#E5ECF6",
            "gridcolor": "white",
            "gridwidth": 2,
            "linecolor": "white",
            "showbackground": true,
            "ticks": "",
            "zerolinecolor": "white"
           },
           "yaxis": {
            "backgroundcolor": "#E5ECF6",
            "gridcolor": "white",
            "gridwidth": 2,
            "linecolor": "white",
            "showbackground": true,
            "ticks": "",
            "zerolinecolor": "white"
           },
           "zaxis": {
            "backgroundcolor": "#E5ECF6",
            "gridcolor": "white",
            "gridwidth": 2,
            "linecolor": "white",
            "showbackground": true,
            "ticks": "",
            "zerolinecolor": "white"
           }
          },
          "shapedefaults": {
           "line": {
            "color": "#2a3f5f"
           }
          },
          "ternary": {
           "aaxis": {
            "gridcolor": "white",
            "linecolor": "white",
            "ticks": ""
           },
           "baxis": {
            "gridcolor": "white",
            "linecolor": "white",
            "ticks": ""
           },
           "bgcolor": "#E5ECF6",
           "caxis": {
            "gridcolor": "white",
            "linecolor": "white",
            "ticks": ""
           }
          },
          "title": {
           "x": 0.05
          },
          "xaxis": {
           "automargin": true,
           "gridcolor": "white",
           "linecolor": "white",
           "ticks": "",
           "title": {
            "standoff": 15
           },
           "zerolinecolor": "white",
           "zerolinewidth": 2
          },
          "yaxis": {
           "automargin": true,
           "gridcolor": "white",
           "linecolor": "white",
           "ticks": "",
           "title": {
            "standoff": 15
           },
           "zerolinecolor": "white",
           "zerolinewidth": 2
          }
         }
        },
        "title": {
         "text": "% of Population below poverty line by State/Union Territory"
        },
        "xaxis": {
         "title": {
          "text": "State/Union Territory"
         }
        },
        "yaxis": {
         "range": [
          0,
          100
         ],
         "title": {
          "text": "% of person below poverty line"
         }
        }
       }
      },
      "text/html": [
       "<div>                            <div id=\"f154808a-3ab8-40b2-8301-1a0ceb304c74\" class=\"plotly-graph-div\" style=\"height:525px; width:100%;\"></div>            <script type=\"text/javascript\">                require([\"plotly\"], function(Plotly) {                    window.PLOTLYENV=window.PLOTLYENV || {};                                    if (document.getElementById(\"f154808a-3ab8-40b2-8301-1a0ceb304c74\")) {                    Plotly.newPlot(                        \"f154808a-3ab8-40b2-8301-1a0ceb304c74\",                        [{\"name\":\"2011-2012 (% of persons)\",\"x\":[\"Andhra Pradesh\",\"Arunachal Pradesh\",\"Assam\",\"Bihar\",\"Goa\",\"Gujarat\",\"Haryana\",\"Himachal Pradesh\",\"Jammu & Kashmir\",\"Karnataka\",\"Kerala\",\"Madhya Pradesh\",\"Maharashtra\",\"Manipur\",\"Meghalaya\",\"Mizoram\",\"Nagaland\",\"Orissa\",\"Punjab\",\"Rajasthan\",\"Sikkim\",\"Tamil Nadu\",\"Tripura\",\"Uttar Pradesh\",\"West Bengal\",\"Andaman & Nicobar Islands\",\"Chandigarh\",\"Dadra & Nagar Haveli\",\"Daman and Diu\",\"Delhi\",\"Lakshwadeep\",\"Puducherry\"],\"y\":[9.2,34.67,31.98,33.74,5.09,16.63,11.16,8.06,10.35,20.91,7.05,31.65,17.35,36.89,11.87,20.4,18.88,32.59,8.26,14.71,8.19,11.28,14.05,29.43,19.98,1.0,21.81,39.31,9.86,9.91,2.77,9.69],\"type\":\"bar\"},{\"name\":\"2009-10 (% of persons)\",\"x\":[\"Andhra Pradesh\",\"Arunachal Pradesh\",\"Assam\",\"Bihar\",\"Goa\",\"Gujarat\",\"Haryana\",\"Himachal Pradesh\",\"Jammu & Kashmir\",\"Karnataka\",\"Kerala\",\"Madhya Pradesh\",\"Maharashtra\",\"Manipur\",\"Meghalaya\",\"Mizoram\",\"Nagaland\",\"Orissa\",\"Punjab\",\"Rajasthan\",\"Sikkim\",\"Tamil Nadu\",\"Tripura\",\"Uttar Pradesh\",\"West Bengal\",\"Andaman & Nicobar Islands\",\"Chandigarh\",\"Dadra & Nagar Haveli\",\"Daman and Diu\",\"Delhi\",\"Lakshwadeep\",\"Puducherry\"],\"y\":[21.1,25.9,37.9,53.5,8.7,23.0,20.1,9.5,9.4,23.6,12.0,36.7,24.5,47.1,17.1,21.1,20.9,37.0,15.9,24.8,13.1,17.1,17.4,37.7,26.7,0.4,9.2,39.1,33.3,14.2,6.8,1.2],\"type\":\"bar\"},{\"name\":\"2004-05 (% of persons)\",\"x\":[\"Andhra Pradesh\",\"Arunachal Pradesh\",\"Assam\",\"Bihar\",\"Goa\",\"Gujarat\",\"Haryana\",\"Himachal Pradesh\",\"Jammu & Kashmir\",\"Karnataka\",\"Kerala\",\"Madhya Pradesh\",\"Maharashtra\",\"Manipur\",\"Meghalaya\",\"Mizoram\",\"Nagaland\",\"Orissa\",\"Punjab\",\"Rajasthan\",\"Sikkim\",\"Tamil Nadu\",\"Tripura\",\"Uttar Pradesh\",\"West Bengal\",\"Andaman & Nicobar Islands\",\"Chandigarh\",\"Dadra & Nagar Haveli\",\"Daman and Diu\",\"Delhi\",\"Lakshwadeep\",\"Puducherry\"],\"y\":[29.6,31.4,34.4,54.4,24.9,31.6,24.1,22.9,13.1,33.3,19.6,48.6,38.2,37.9,16.1,15.4,8.8,57.2,20.9,34.4,30.9,29.4,40.0,40.9,34.2,3.0,11.6,49.3,8.8,13.0,6.4,14.2],\"type\":\"bar\"},{\"name\":\"1990-00 (% of persons)\",\"x\":[\"Andhra Pradesh\",\"Arunachal Pradesh\",\"Assam\",\"Bihar\",\"Goa\",\"Gujarat\",\"Haryana\",\"Himachal Pradesh\",\"Jammu & Kashmir\",\"Karnataka\",\"Kerala\",\"Madhya Pradesh\",\"Maharashtra\",\"Manipur\",\"Meghalaya\",\"Mizoram\",\"Nagaland\",\"Orissa\",\"Punjab\",\"Rajasthan\",\"Sikkim\",\"Tamil Nadu\",\"Tripura\",\"Uttar Pradesh\",\"West Bengal\",\"Andaman & Nicobar Islands\",\"Chandigarh\",\"Dadra & Nagar Haveli\",\"Daman and Diu\",\"Delhi\",\"Lakshwadeep\",\"Puducherry\"],\"y\":[15.77,33.47,36.09,42.6,4.4,14.07,8.74,7.63,3.48,20.04,12.72,37.43,25.02,28.54,33.87,19.47,32.67,47.15,6.16,15.28,36.55,21.12,34.44,31.15,27.02,20.99,5.75,17.14,4.44,8.23,15.6,21.67],\"type\":\"bar\"},{\"name\":\"1993-94 (% of persons)\",\"x\":[\"Andhra Pradesh\",\"Arunachal Pradesh\",\"Assam\",\"Bihar\",\"Goa\",\"Gujarat\",\"Haryana\",\"Himachal Pradesh\",\"Jammu & Kashmir\",\"Karnataka\",\"Kerala\",\"Madhya Pradesh\",\"Maharashtra\",\"Manipur\",\"Meghalaya\",\"Mizoram\",\"Nagaland\",\"Orissa\",\"Punjab\",\"Rajasthan\",\"Sikkim\",\"Tamil Nadu\",\"Tripura\",\"Uttar Pradesh\",\"West Bengal\",\"Andaman & Nicobar Islands\",\"Chandigarh\",\"Dadra & Nagar Haveli\",\"Daman and Diu\",\"Delhi\",\"Lakshwadeep\",\"Puducherry\"],\"y\":[22.19,39.35,40.86,54.96,14.92,24.21,25.05,28.44,25.17,33.16,25.43,42.52,36.86,33.78,37.92,25.66,37.92,48.56,11.77,27.41,41.43,35.03,39.01,40.85,35.66,34.47,11.35,50.84,15.8,14.69,25.04,37.4],\"type\":\"bar\"},{\"name\":\"1973-74 (% of persons)\",\"x\":[\"Andhra Pradesh\",\"Arunachal Pradesh\",\"Assam\",\"Bihar\",\"Goa\",\"Gujarat\",\"Haryana\",\"Himachal Pradesh\",\"Jammu & Kashmir\",\"Karnataka\",\"Kerala\",\"Madhya Pradesh\",\"Maharashtra\",\"Manipur\",\"Meghalaya\",\"Mizoram\",\"Nagaland\",\"Orissa\",\"Punjab\",\"Rajasthan\",\"Sikkim\",\"Tamil Nadu\",\"Tripura\",\"Uttar Pradesh\",\"West Bengal\",\"Andaman & Nicobar Islands\",\"Chandigarh\",\"Dadra & Nagar Haveli\",\"Daman and Diu\",\"Delhi\",\"Lakshwadeep\",\"Puducherry\"],\"y\":[\"48.86\",\"51.93\",\"51.21\",\"61.91\",\"44.26\",\"48.15\",\"35.36\",\"26.39\",\"40.83\",\"54.47\",\"59.79\",\"61.78\",\"53.24\",\"49.96\",\"50.2\",\"50.32\",\"50.81\",\"66.18\",\"28.15\",\"46.14\",\"50.86\",\"54.94\",\"51\",\"57.07\",\"63.43\",\"55.56\",\"27.96\",\"46.55\",\".\",\"49.61\",\"59.68\",\"53.82\"],\"type\":\"bar\"}],                        {\"barmode\":\"group\",\"sliders\":[{\"active\":0,\"len\":1.1,\"steps\":[{\"args\":[{\"visible\":[false,false,false,false,false,true]}],\"label\":\"1973-74\",\"method\":\"update\"},{\"args\":[{\"visible\":[false,false,false,false,true,false]}],\"label\":\"1993-94\",\"method\":\"update\"},{\"args\":[{\"visible\":[false,false,false,true,false,false]}],\"label\":\"1990-00\",\"method\":\"update\"},{\"args\":[{\"visible\":[false,false,true,false,false,false]}],\"label\":\"2004-05\",\"method\":\"update\"},{\"args\":[{\"visible\":[false,true,false,false,false,false]}],\"label\":\"2009-10\",\"method\":\"update\"},{\"args\":[{\"visible\":[true,false,false,false,false,false]}],\"label\":\"2011-12\",\"method\":\"update\"}],\"x\":0.05,\"xanchor\":\"left\",\"y\":-1.1,\"yanchor\":\"bottom\"}],\"title\":{\"text\":\"% of Population below poverty line by State/Union Territory\"},\"xaxis\":{\"title\":{\"text\":\"State/Union Territory\"}},\"yaxis\":{\"range\":[0,100],\"title\":{\"text\":\"% of person below poverty line\"}},\"template\":{\"data\":{\"histogram2dcontour\":[{\"type\":\"histogram2dcontour\",\"colorbar\":{\"outlinewidth\":0,\"ticks\":\"\"},\"colorscale\":[[0.0,\"#0d0887\"],[0.1111111111111111,\"#46039f\"],[0.2222222222222222,\"#7201a8\"],[0.3333333333333333,\"#9c179e\"],[0.4444444444444444,\"#bd3786\"],[0.5555555555555556,\"#d8576b\"],[0.6666666666666666,\"#ed7953\"],[0.7777777777777778,\"#fb9f3a\"],[0.8888888888888888,\"#fdca26\"],[1.0,\"#f0f921\"]]}],\"choropleth\":[{\"type\":\"choropleth\",\"colorbar\":{\"outlinewidth\":0,\"ticks\":\"\"}}],\"histogram2d\":[{\"type\":\"histogram2d\",\"colorbar\":{\"outlinewidth\":0,\"ticks\":\"\"},\"colorscale\":[[0.0,\"#0d0887\"],[0.1111111111111111,\"#46039f\"],[0.2222222222222222,\"#7201a8\"],[0.3333333333333333,\"#9c179e\"],[0.4444444444444444,\"#bd3786\"],[0.5555555555555556,\"#d8576b\"],[0.6666666666666666,\"#ed7953\"],[0.7777777777777778,\"#fb9f3a\"],[0.8888888888888888,\"#fdca26\"],[1.0,\"#f0f921\"]]}],\"heatmap\":[{\"type\":\"heatmap\",\"colorbar\":{\"outlinewidth\":0,\"ticks\":\"\"},\"colorscale\":[[0.0,\"#0d0887\"],[0.1111111111111111,\"#46039f\"],[0.2222222222222222,\"#7201a8\"],[0.3333333333333333,\"#9c179e\"],[0.4444444444444444,\"#bd3786\"],[0.5555555555555556,\"#d8576b\"],[0.6666666666666666,\"#ed7953\"],[0.7777777777777778,\"#fb9f3a\"],[0.8888888888888888,\"#fdca26\"],[1.0,\"#f0f921\"]]}],\"heatmapgl\":[{\"type\":\"heatmapgl\",\"colorbar\":{\"outlinewidth\":0,\"ticks\":\"\"},\"colorscale\":[[0.0,\"#0d0887\"],[0.1111111111111111,\"#46039f\"],[0.2222222222222222,\"#7201a8\"],[0.3333333333333333,\"#9c179e\"],[0.4444444444444444,\"#bd3786\"],[0.5555555555555556,\"#d8576b\"],[0.6666666666666666,\"#ed7953\"],[0.7777777777777778,\"#fb9f3a\"],[0.8888888888888888,\"#fdca26\"],[1.0,\"#f0f921\"]]}],\"contourcarpet\":[{\"type\":\"contourcarpet\",\"colorbar\":{\"outlinewidth\":0,\"ticks\":\"\"}}],\"contour\":[{\"type\":\"contour\",\"colorbar\":{\"outlinewidth\":0,\"ticks\":\"\"},\"colorscale\":[[0.0,\"#0d0887\"],[0.1111111111111111,\"#46039f\"],[0.2222222222222222,\"#7201a8\"],[0.3333333333333333,\"#9c179e\"],[0.4444444444444444,\"#bd3786\"],[0.5555555555555556,\"#d8576b\"],[0.6666666666666666,\"#ed7953\"],[0.7777777777777778,\"#fb9f3a\"],[0.8888888888888888,\"#fdca26\"],[1.0,\"#f0f921\"]]}],\"surface\":[{\"type\":\"surface\",\"colorbar\":{\"outlinewidth\":0,\"ticks\":\"\"},\"colorscale\":[[0.0,\"#0d0887\"],[0.1111111111111111,\"#46039f\"],[0.2222222222222222,\"#7201a8\"],[0.3333333333333333,\"#9c179e\"],[0.4444444444444444,\"#bd3786\"],[0.5555555555555556,\"#d8576b\"],[0.6666666666666666,\"#ed7953\"],[0.7777777777777778,\"#fb9f3a\"],[0.8888888888888888,\"#fdca26\"],[1.0,\"#f0f921\"]]}],\"mesh3d\":[{\"type\":\"mesh3d\",\"colorbar\":{\"outlinewidth\":0,\"ticks\":\"\"}}],\"scatter\":[{\"fillpattern\":{\"fillmode\":\"overlay\",\"size\":10,\"solidity\":0.2},\"type\":\"scatter\"}],\"parcoords\":[{\"type\":\"parcoords\",\"line\":{\"colorbar\":{\"outlinewidth\":0,\"ticks\":\"\"}}}],\"scatterpolargl\":[{\"type\":\"scatterpolargl\",\"marker\":{\"colorbar\":{\"outlinewidth\":0,\"ticks\":\"\"}}}],\"bar\":[{\"error_x\":{\"color\":\"#2a3f5f\"},\"error_y\":{\"color\":\"#2a3f5f\"},\"marker\":{\"line\":{\"color\":\"#E5ECF6\",\"width\":0.5},\"pattern\":{\"fillmode\":\"overlay\",\"size\":10,\"solidity\":0.2}},\"type\":\"bar\"}],\"scattergeo\":[{\"type\":\"scattergeo\",\"marker\":{\"colorbar\":{\"outlinewidth\":0,\"ticks\":\"\"}}}],\"scatterpolar\":[{\"type\":\"scatterpolar\",\"marker\":{\"colorbar\":{\"outlinewidth\":0,\"ticks\":\"\"}}}],\"histogram\":[{\"marker\":{\"pattern\":{\"fillmode\":\"overlay\",\"size\":10,\"solidity\":0.2}},\"type\":\"histogram\"}],\"scattergl\":[{\"type\":\"scattergl\",\"marker\":{\"colorbar\":{\"outlinewidth\":0,\"ticks\":\"\"}}}],\"scatter3d\":[{\"type\":\"scatter3d\",\"line\":{\"colorbar\":{\"outlinewidth\":0,\"ticks\":\"\"}},\"marker\":{\"colorbar\":{\"outlinewidth\":0,\"ticks\":\"\"}}}],\"scattermapbox\":[{\"type\":\"scattermapbox\",\"marker\":{\"colorbar\":{\"outlinewidth\":0,\"ticks\":\"\"}}}],\"scatterternary\":[{\"type\":\"scatterternary\",\"marker\":{\"colorbar\":{\"outlinewidth\":0,\"ticks\":\"\"}}}],\"scattercarpet\":[{\"type\":\"scattercarpet\",\"marker\":{\"colorbar\":{\"outlinewidth\":0,\"ticks\":\"\"}}}],\"carpet\":[{\"aaxis\":{\"endlinecolor\":\"#2a3f5f\",\"gridcolor\":\"white\",\"linecolor\":\"white\",\"minorgridcolor\":\"white\",\"startlinecolor\":\"#2a3f5f\"},\"baxis\":{\"endlinecolor\":\"#2a3f5f\",\"gridcolor\":\"white\",\"linecolor\":\"white\",\"minorgridcolor\":\"white\",\"startlinecolor\":\"#2a3f5f\"},\"type\":\"carpet\"}],\"table\":[{\"cells\":{\"fill\":{\"color\":\"#EBF0F8\"},\"line\":{\"color\":\"white\"}},\"header\":{\"fill\":{\"color\":\"#C8D4E3\"},\"line\":{\"color\":\"white\"}},\"type\":\"table\"}],\"barpolar\":[{\"marker\":{\"line\":{\"color\":\"#E5ECF6\",\"width\":0.5},\"pattern\":{\"fillmode\":\"overlay\",\"size\":10,\"solidity\":0.2}},\"type\":\"barpolar\"}],\"pie\":[{\"automargin\":true,\"type\":\"pie\"}]},\"layout\":{\"autotypenumbers\":\"strict\",\"colorway\":[\"#636efa\",\"#EF553B\",\"#00cc96\",\"#ab63fa\",\"#FFA15A\",\"#19d3f3\",\"#FF6692\",\"#B6E880\",\"#FF97FF\",\"#FECB52\"],\"font\":{\"color\":\"#2a3f5f\"},\"hovermode\":\"closest\",\"hoverlabel\":{\"align\":\"left\"},\"paper_bgcolor\":\"white\",\"plot_bgcolor\":\"#E5ECF6\",\"polar\":{\"bgcolor\":\"#E5ECF6\",\"angularaxis\":{\"gridcolor\":\"white\",\"linecolor\":\"white\",\"ticks\":\"\"},\"radialaxis\":{\"gridcolor\":\"white\",\"linecolor\":\"white\",\"ticks\":\"\"}},\"ternary\":{\"bgcolor\":\"#E5ECF6\",\"aaxis\":{\"gridcolor\":\"white\",\"linecolor\":\"white\",\"ticks\":\"\"},\"baxis\":{\"gridcolor\":\"white\",\"linecolor\":\"white\",\"ticks\":\"\"},\"caxis\":{\"gridcolor\":\"white\",\"linecolor\":\"white\",\"ticks\":\"\"}},\"coloraxis\":{\"colorbar\":{\"outlinewidth\":0,\"ticks\":\"\"}},\"colorscale\":{\"sequential\":[[0.0,\"#0d0887\"],[0.1111111111111111,\"#46039f\"],[0.2222222222222222,\"#7201a8\"],[0.3333333333333333,\"#9c179e\"],[0.4444444444444444,\"#bd3786\"],[0.5555555555555556,\"#d8576b\"],[0.6666666666666666,\"#ed7953\"],[0.7777777777777778,\"#fb9f3a\"],[0.8888888888888888,\"#fdca26\"],[1.0,\"#f0f921\"]],\"sequentialminus\":[[0.0,\"#0d0887\"],[0.1111111111111111,\"#46039f\"],[0.2222222222222222,\"#7201a8\"],[0.3333333333333333,\"#9c179e\"],[0.4444444444444444,\"#bd3786\"],[0.5555555555555556,\"#d8576b\"],[0.6666666666666666,\"#ed7953\"],[0.7777777777777778,\"#fb9f3a\"],[0.8888888888888888,\"#fdca26\"],[1.0,\"#f0f921\"]],\"diverging\":[[0,\"#8e0152\"],[0.1,\"#c51b7d\"],[0.2,\"#de77ae\"],[0.3,\"#f1b6da\"],[0.4,\"#fde0ef\"],[0.5,\"#f7f7f7\"],[0.6,\"#e6f5d0\"],[0.7,\"#b8e186\"],[0.8,\"#7fbc41\"],[0.9,\"#4d9221\"],[1,\"#276419\"]]},\"xaxis\":{\"gridcolor\":\"white\",\"linecolor\":\"white\",\"ticks\":\"\",\"title\":{\"standoff\":15},\"zerolinecolor\":\"white\",\"automargin\":true,\"zerolinewidth\":2},\"yaxis\":{\"gridcolor\":\"white\",\"linecolor\":\"white\",\"ticks\":\"\",\"title\":{\"standoff\":15},\"zerolinecolor\":\"white\",\"automargin\":true,\"zerolinewidth\":2},\"scene\":{\"xaxis\":{\"backgroundcolor\":\"#E5ECF6\",\"gridcolor\":\"white\",\"linecolor\":\"white\",\"showbackground\":true,\"ticks\":\"\",\"zerolinecolor\":\"white\",\"gridwidth\":2},\"yaxis\":{\"backgroundcolor\":\"#E5ECF6\",\"gridcolor\":\"white\",\"linecolor\":\"white\",\"showbackground\":true,\"ticks\":\"\",\"zerolinecolor\":\"white\",\"gridwidth\":2},\"zaxis\":{\"backgroundcolor\":\"#E5ECF6\",\"gridcolor\":\"white\",\"linecolor\":\"white\",\"showbackground\":true,\"ticks\":\"\",\"zerolinecolor\":\"white\",\"gridwidth\":2}},\"shapedefaults\":{\"line\":{\"color\":\"#2a3f5f\"}},\"annotationdefaults\":{\"arrowcolor\":\"#2a3f5f\",\"arrowhead\":0,\"arrowwidth\":1},\"geo\":{\"bgcolor\":\"white\",\"landcolor\":\"#E5ECF6\",\"subunitcolor\":\"white\",\"showland\":true,\"showlakes\":true,\"lakecolor\":\"white\"},\"title\":{\"x\":0.05},\"mapbox\":{\"style\":\"light\"}}}},                        {\"responsive\": true}                    ).then(function(){\n",
       "                            \n",
       "var gd = document.getElementById('f154808a-3ab8-40b2-8301-1a0ceb304c74');\n",
       "var x = new MutationObserver(function (mutations, observer) {{\n",
       "        var display = window.getComputedStyle(gd).display;\n",
       "        if (!display || display === 'none') {{\n",
       "            console.log([gd, 'removed!']);\n",
       "            Plotly.purge(gd);\n",
       "            observer.disconnect();\n",
       "        }}\n",
       "}});\n",
       "\n",
       "// Listen for the removal of the full notebook cells\n",
       "var notebookContainer = gd.closest('#notebook-container');\n",
       "if (notebookContainer) {{\n",
       "    x.observe(notebookContainer, {childList: true});\n",
       "}}\n",
       "\n",
       "// Listen for the clearing of the current output cell\n",
       "var outputEl = gd.closest('.output');\n",
       "if (outputEl) {{\n",
       "    x.observe(outputEl, {childList: true});\n",
       "}}\n",
       "\n",
       "                        })                };                });            </script>        </div>"
      ]
     },
     "metadata": {},
     "output_type": "display_data"
    }
   ],
   "source": [
    "# Define data traces for each year\n",
    "traces = []\n",
    "years = ['2011-2012 (% of persons)','2009-10 (% of persons)', '2004-05 (% of persons)', '1990-00 (% of persons)', '1993-94 (% of persons)', '1973-74 (% of persons)']\n",
    "for year in years:\n",
    "    traces.append(go.Bar(\n",
    "        x=data['State / UnionTerritory'],\n",
    "        y=data[year],\n",
    "        name=year\n",
    "    ))\n",
    "\n",
    "# Define layout with slider\n",
    "layout = go.Layout(\n",
    "    title='% of Population below poverty line by State/Union Territory',\n",
    "    xaxis=dict(title='State/Union Territory'),\n",
    "    yaxis=dict(title='% of person below poverty line', range=[0, 100]),  # Set y-axis range\n",
    "    barmode='group',\n",
    "    sliders=[{\n",
    "        \"active\": 0,\n",
    "        \"steps\": [\n",
    "            {\"label\": \"1973-74\", \"method\": \"update\", \"args\": [{\"visible\": [False, False, False, False, False,True]}]},\n",
    "            {\"label\": \"1993-94\", \"method\": \"update\", \"args\": [{\"visible\": [False, False, False, False, True,False]}]},\n",
    "            {\"label\": \"1990-00\", \"method\": \"update\", \"args\": [{\"visible\": [False, False, False, True, False,False]}]},\n",
    "            {\"label\": \"2004-05\", \"method\": \"update\", \"args\": [{\"visible\": [False, False, True, False, False,False]}]},\n",
    "            {\"label\": \"2009-10\", \"method\": \"update\", \"args\": [{\"visible\": [False, True, False, False, False,False]}]},\n",
    "            {\"label\": \"2011-12\", \"method\": \"update\", \"args\": [{\"visible\": [True, False, False, False, False,False]}]}\n",
    "        ],\n",
    "        \"x\": 0.05,\n",
    "        \"y\": -1.1,\n",
    "        \"len\": 1.1,\n",
    "        \"xanchor\": \"left\",\n",
    "        \"yanchor\": \"bottom\"\n",
    "    }]\n",
    ")\n",
    "\n",
    "fig = go.Figure(data=traces, layout=layout)\n",
    "fig.show()"
   ]
  },
  {
   "attachments": {},
   "cell_type": "markdown",
   "metadata": {},
   "source": [
    "We see that the percentage of people below the poverty line have decreased over the years. This is a good sign. In states like Goa, Kerela, Punjab, Sikkim, Delhi, etc the percentage of people below the poverty line is have reduced to a very low number. In other states, like Madhya Pradesh, Uttar Pradesh, Bihar, etc the percentage of people below the poverty line is still very high. The government must take steps to reduce the number of people below the poverty line.  "
   ]
  }
 ],
 "metadata": {
  "kernelspec": {
   "display_name": "Python 3",
   "language": "python",
   "name": "python3"
  },
  "language_info": {
   "codemirror_mode": {
    "name": "ipython",
    "version": 3
   },
   "file_extension": ".py",
   "mimetype": "text/x-python",
   "name": "python",
   "nbconvert_exporter": "python",
   "pygments_lexer": "ipython3",
   "version": "3.10.7"
  },
  "orig_nbformat": 4
 },
 "nbformat": 4,
 "nbformat_minor": 2
}
